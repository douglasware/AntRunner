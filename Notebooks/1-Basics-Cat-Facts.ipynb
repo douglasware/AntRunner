{
 "cells": [
  {
   "cell_type": "markdown",
   "metadata": {},
   "source": [
    "## Cat Facts\n",
    "This notebook shows how to create, run, and use output from the Cat Facts assistant! This assistant uses a free demonstration web service with no authentication.\n",
    "\n",
    "The assistant definition enables Code Interpreter which the assistant uses to create a file which is downloaded in the last step.\n",
    "\n",
    "## First steps\n",
    "- First, download AntRunLib from Nuget\n",
    "- At least once, set up the environment using **[0-AI-settings](0-AI-settings.ipynb)**"
   ]
  },
  {
   "cell_type": "code",
   "execution_count": 1,
   "metadata": {
    "dotnet_interactive": {
     "language": "csharp"
    },
    "polyglot_notebook": {
     "kernelName": "csharp"
    },
    "vscode": {
     "languageId": "polyglot-notebook"
    }
   },
   "outputs": [
    {
     "data": {
      "text/html": [
       "<div><div></div><div></div><div><strong>Installed Packages</strong><ul><li><span>AntRunnerLib, 0.8.6</span></li></ul></div></div>"
      ]
     },
     "metadata": {},
     "output_type": "display_data"
    }
   ],
   "source": [
    "#r \"nuget: AntRunnerLib, 0.8.6\"\n",
    "\n",
    "using AntRunnerLib;\n",
    "using AntRunnerLib.Identity;\n",
    "using static AntRunnerLib.ClientUtility;\n",
    "using System.IO;\n",
    "\n",
    "#!import config/Settings.cs \n",
    "\n",
    "var envVariables = Settings.GetEnvironmentVariables();\n",
    "foreach (var kvp in envVariables)\n",
    "{\n",
    "    Environment.SetEnvironmentVariable(kvp.Key, kvp.Value);\n",
    "}\n",
    "\n",
    "var config = AzureOpenAiConfigFactory.Get();\n",
    "var client = GetOpenAiClient(config);\n"
   ]
  },
  {
   "cell_type": "markdown",
   "metadata": {},
   "source": [
    "## List the assistants in your deployment\n",
    "If you get an error, verify your setup!"
   ]
  },
  {
   "cell_type": "code",
   "execution_count": 4,
   "metadata": {
    "dotnet_interactive": {
     "language": "csharp"
    },
    "polyglot_notebook": {
     "kernelName": "csharp"
    },
    "vscode": {
     "languageId": "polyglot-notebook"
    }
   },
   "outputs": [
    {
     "name": "stdout",
     "output_type": "stream",
     "text": [
      "ConversationUserProxy\n",
      "CopilotExtensions\n",
      "TCEnergy4o-mini\n",
      "TCEnergy4o\n",
      "NoteAntsTest\n",
      "Blob Pirate\n",
      "OneNote Ants\n",
      "Web Search Function Demo\n",
      "TranscriptAnts\n",
      "McKessonPDFTranscripts\n",
      "SillyPirate\n",
      "AssistAnts\n",
      "Web Search Ants\n",
      "Python Ants\n",
      "Outlook Ants\n"
     ]
    }
   ],
   "source": [
    "var assistants = (await client.AssistantList()).Data;\n",
    "foreach(var assistant in assistants)\n",
    "{\n",
    "    Console.WriteLine(assistant.Name);\n",
    "}"
   ]
  },
  {
   "cell_type": "code",
   "execution_count": 3,
   "metadata": {
    "dotnet_interactive": {
     "language": "csharp"
    },
    "polyglot_notebook": {
     "kernelName": "csharp"
    },
    "vscode": {
     "languageId": "polyglot-notebook"
    }
   },
   "outputs": [
    {
     "name": "stdout",
     "output_type": "stream",
     "text": [
      "Deleted assistant\r\n"
     ]
    }
   ],
   "source": [
    "var assistant = (await client.AssistantList())?.Data?.FirstOrDefault(o => o.Name == \"Cat Facts\");\n",
    "if(assistant != null) {\n",
    "    await client.AssistantDelete(assistant.Id);\n",
    "    Console.WriteLine(\"Deleted assistant\");\n",
    "}\n",
    "else\n",
    "{\n",
    "    Console.WriteLine(\"Didn't find cat facts\");\n",
    "}"
   ]
  },
  {
   "cell_type": "markdown",
   "metadata": {},
   "source": [
    "## Create the Cat Facts assistant\n",
    "The definition of this assistant is located in the \".\\AssistantDefinitions\\Cat Facts\" folder\n",
    "\n",
    "\".\\AssistantDefinitions\\\" is a default path. You can override it by setting the **ASSISTANTS_BASE_FOLDER_PATH** environment variable.\n",
    "\n",
    "\"Cat Facts\" contains the following files:\n",
    "```\n",
    "Cat Facts\n",
    "│   instructions.md - The assistant's instructions. This file is optional but when present overwrites the value of the instructions property in manifest.json\n",
    "│   manifest.json - The assistants base settings including model, \"model\": \"gpt-4o\". You need to ensure you have deployed whatever models your assistants require\n",
    "│\n",
    "└───OpenAPI\n",
    "        cat-fact.herokuapp.com.json - The swagger definition for the test service\n",
    "\n",
    "```\n",
    "\n",
    "[See https://github.com/alexwohlbruck/cat-facts](https://github.com/alexwohlbruck/cat-facts)\n",
    "\n",
    "### Explanation\n",
    "`AssistantUtility.Create` acts based on the contents of a folder structure following a convention laid out in these notebooks. In this case, it copied the contents of instructions.md into the assistant manifest.json. It also parsed the cat-facts swagger which follows an Open API schema into tool defintions for the assistant."
   ]
  },
  {
   "cell_type": "code",
   "execution_count": 5,
   "metadata": {
    "dotnet_interactive": {
     "language": "csharp"
    },
    "polyglot_notebook": {
     "kernelName": "csharp"
    },
    "vscode": {
     "languageId": "polyglot-notebook"
    }
   },
   "outputs": [
    {
     "name": "stdout",
     "output_type": "stream",
     "text": [
      "asst_bVo30Rj6V4nHK8gYlN8yfYah\r\n"
     ]
    }
   ],
   "source": [
    "var assistantId = await AssistantUtility.Create(\"Cat Facts\", config);\n",
    "Console.WriteLine(assistantId)"
   ]
  },
  {
   "cell_type": "markdown",
   "metadata": {},
   "source": [
    "## Run the Assistant\n",
    "\n",
    "`output.Dialog` shows the conversation. This version of AntRunner uses a built-in assistant definition. Upon completion the thread is deleted."
   ]
  },
  {
   "cell_type": "code",
   "execution_count": 6,
   "metadata": {
    "dotnet_interactive": {
     "language": "csharp"
    },
    "polyglot_notebook": {
     "kernelName": "csharp"
    },
    "vscode": {
     "languageId": "polyglot-notebook"
    }
   },
   "outputs": [
    {
     "data": {
      "text/markdown": [
       "\n",
       "User: Create a plan to tell me something about cats. Review with me before using any tools\n",
       "\n",
       "Assistant: Sure! Here's a plan to tell you something about cats:\n",
       "\n",
       "1. **Retrieve Cat Facts**: \n",
       "   - Use the `GetCatFacts` function to retrieve a list of interesting facts about cats.\n",
       "\n",
       "2. **Review and Share Facts**:\n",
       "   - Review the retrieved facts to ensure they are interesting and relevant.\n",
       "   - Share a selection of these facts with you.\n",
       "\n",
       "Would you like to proceed with this plan, or do you have any specific requests or adjustments to make?\n",
       "\n",
       "User: Yes, go ahead\n",
       "\n",
       "Assistant: I called the tool named GetCatFacts with these arguments:\n",
       "```\n",
       "{}\n",
       "```\n",
       "and got this result:\n",
       "```\n",
       "[{\"status\":{\"verified\":true,\"sentCount\":1},\"_id\":\"58e008780aac31001185ed05\",\"user\":\"58e007480aac31001185ecef\",\"text\":\"Owning a cat can reduce the risk of stroke and heart attack by a third.\",\"__v\":0,\"source\":\"user\",\"updatedAt\":\"2020-08-23T20:20:01.611Z\",\"type\":\"cat\",\"createdAt\":\"2018-03-29T20:20:03.844Z\",\"deleted\":false,\"used\":false},{\"status\":{\"verified\":true,\"sentCount\":1},\"_id\":\"58e009390aac31001185ed10\",\"user\":\"58e007480aac31001185ecef\",\"text\":\"Most cats are lactose intolerant, and milk can cause painful stomach cramps and diarrhea. It's best to forego the milk and just give your cat the standard: clean, cool drinking water.\",\"__v\":0,\"source\":\"user\",\"updatedAt\":\"2020-08-23T20:20:01.611Z\",\"type\":\"cat\",\"createdAt\":\"2018-03-04T21:20:02.979Z\",\"deleted\":false,\"used\":false},{\"status\":{\"verified\":true,\"sentCount\":1},\"_id\":\"588e746706ac2b00110e59ff\",\"user\":\"588e6e8806ac2b00110e59c3\",\"text\":\"Domestic cats spend about 70 percent of the day sleeping and 15 percent of the day grooming.\",\"__v\":0,\"source\":\"user\",\"updatedAt\":\"2020-08-26T20:20:02.359Z\",\"type\":\"cat\",\"createdAt\":\"2018-01-14T21:20:02.750Z\",\"deleted\":false,\"used\":true},{\"status\":{\"verified\":true,\"sentCount\":1},\"_id\":\"58e008ad0aac31001185ed0c\",\"user\":\"58e007480aac31001185ecef\",\"text\":\"The frequency of a domestic cat's purr is the same at which muscles and bones repair themselves.\",\"__v\":0,\"source\":\"user\",\"updatedAt\":\"2020-08-24T20:20:01.867Z\",\"type\":\"cat\",\"createdAt\":\"2018-03-15T20:20:03.281Z\",\"deleted\":false,\"used\":true},{\"status\":{\"verified\":true,\"sentCount\":1},\"_id\":\"58e007cc0aac31001185ecf5\",\"user\":\"58e007480aac31001185ecef\",\"text\":\"Cats are the most popular pet in the United States: There are 88 million pet cats and 74 million dogs.\",\"__v\":0,\"source\":\"user\",\"updatedAt\":\"2020-08-23T20:20:01.611Z\",\"type\":\"cat\",\"createdAt\":\"2018-03-01T21:20:02.713Z\",\"deleted\":false,\"used\":false}]\n",
       "```\n",
       "\n",
       "Here are some interesting facts about cats that I found:\n",
       "\n",
       "1. **Health Benefits**:\n",
       "   - Owning a cat can reduce the risk of stroke and heart attack by a third.\n",
       "\n",
       "2. **Dietary Note**:\n",
       "   - Most cats are lactose intolerant, and milk can cause painful stomach cramps and diarrhea. It's best to forego the milk and just give your cat clean, cool drinking water.\n",
       "\n",
       "3. **Daily Routine**:\n",
       "   - Domestic cats spend about 70 percent of the day sleeping and 15 percent of the day grooming.\n",
       "\n",
       "4. **Healing Abilities**:\n",
       "   - The frequency of a domestic cat's purr is the same frequency at which muscles and bones repair themselves.\n",
       "\n",
       "5. **Popularity**:\n",
       "   - Cats are the most popular pet in the United States: There are 88 million pet cats and 74 million dogs.\n",
       "\n",
       "Would you like more details on any of these facts, or is there anything else specific you would like to know about cats?\n"
      ]
     },
     "metadata": {},
     "output_type": "display_data"
    }
   ],
   "source": [
    "var assistantRunOptions = new AssistantRunOptions() {\n",
    "    AssistantName = \"Cat Facts\",\n",
    "    Instructions = \"Create a plan to tell me something about cats. Review with me before using any tools\",\n",
    "    UseConversationEvaluator = true\n",
    "};\n",
    "var output = await AntRunnerLib.AssistantRunner.RunThread(assistantRunOptions, config);\n",
    "output.Dialog.DisplayAs(\"text/markdown\");"
   ]
  },
  {
   "cell_type": "markdown",
   "metadata": {},
   "source": [
    "## output.LastMessage\n",
    "A core perspective of AntRunnerLib is to get the richness of the assistants API with file retrieval, code interpreter, and function calls in the logical form of a chat completion.\n",
    "```\n",
    "output.LastMessage // Final answer\n",
    "```\n"
   ]
  },
  {
   "cell_type": "code",
   "execution_count": 7,
   "metadata": {
    "dotnet_interactive": {
     "language": "csharp"
    },
    "polyglot_notebook": {
     "kernelName": "csharp"
    },
    "vscode": {
     "languageId": "polyglot-notebook"
    }
   },
   "outputs": [
    {
     "data": {
      "text/markdown": [
       "Here are some interesting facts about cats that I found:\n",
       "\n",
       "1. **Health Benefits**:\n",
       "   - Owning a cat can reduce the risk of stroke and heart attack by a third.\n",
       "\n",
       "2. **Dietary Note**:\n",
       "   - Most cats are lactose intolerant, and milk can cause painful stomach cramps and diarrhea. It's best to forego the milk and just give your cat clean, cool drinking water.\n",
       "\n",
       "3. **Daily Routine**:\n",
       "   - Domestic cats spend about 70 percent of the day sleeping and 15 percent of the day grooming.\n",
       "\n",
       "4. **Healing Abilities**:\n",
       "   - The frequency of a domestic cat's purr is the same frequency at which muscles and bones repair themselves.\n",
       "\n",
       "5. **Popularity**:\n",
       "   - Cats are the most popular pet in the United States: There are 88 million pet cats and 74 million dogs.\n",
       "\n",
       "Would you like more details on any of these facts, or is there anything else specific you would like to know about cats?"
      ]
     },
     "metadata": {},
     "output_type": "display_data"
    }
   ],
   "source": [
    "output.LastMessage.DisplayAs(\"text/markdown\");"
   ]
  },
  {
   "cell_type": "markdown",
   "metadata": {},
   "source": [
    "## Downloading files from code interpreter\n",
    "In addition to the Cat Facts API, this assistant also uses code interpreter based on its [manifest.json](.\\AssistantDefinitions\\Cat%20Facts\\manifest.json):\n",
    "\n",
    "```json\n",
    "{\n",
    "  \"name\": \"Cat Facts\",\n",
    "  \"description\": \"I look up facts about cats and can also write Python code!\",\n",
    "  \"instructions\": \"\",\n",
    "  \"tools\": [\n",
    "    { \"type\": \"code_interpreter\" }\n",
    "  ],\n",
    "  \"tool_resources\": {},\n",
    "  \"top_p\": 0.95,\n",
    "  \"response_format\": \"auto\",\n",
    "  \"metadata\": {\n",
    "  },\n",
    "  \"model\": \"gpt-4o\",\n",
    "  \"temperature\": 0.7\n",
    "}\n",
    "```\n",
    "\n",
    "This prompt instructs the assistant to create a file **\"Tell me something about cats and put the results into a file I can download\"**. \n",
    "\n",
    "As a result the output contains Annotations. You can download the ones with annotation.Type == \"file_path\" as demonstrated below."
   ]
  },
  {
   "cell_type": "code",
   "execution_count": 8,
   "metadata": {
    "dotnet_interactive": {
     "language": "csharp"
    },
    "polyglot_notebook": {
     "kernelName": "csharp"
    },
    "vscode": {
     "languageId": "polyglot-notebook"
    }
   },
   "outputs": [
    {
     "data": {
      "text/markdown": [
       "\n",
       "User: Tell me something about cats and put the results into a file I can download\n",
       "\n",
       "Assistant: I called the tool named GetCatFacts with these arguments:\n",
       "```\n",
       "{}\n",
       "```\n",
       "and got this result:\n",
       "```\n",
       "[{\"status\":{\"verified\":true,\"sentCount\":1},\"_id\":\"58e008780aac31001185ed05\",\"user\":\"58e007480aac31001185ecef\",\"text\":\"Owning a cat can reduce the risk of stroke and heart attack by a third.\",\"__v\":0,\"source\":\"user\",\"updatedAt\":\"2020-08-23T20:20:01.611Z\",\"type\":\"cat\",\"createdAt\":\"2018-03-29T20:20:03.844Z\",\"deleted\":false,\"used\":false},{\"status\":{\"verified\":true,\"sentCount\":1},\"_id\":\"58e009390aac31001185ed10\",\"user\":\"58e007480aac31001185ecef\",\"text\":\"Most cats are lactose intolerant, and milk can cause painful stomach cramps and diarrhea. It's best to forego the milk and just give your cat the standard: clean, cool drinking water.\",\"__v\":0,\"source\":\"user\",\"updatedAt\":\"2020-08-23T20:20:01.611Z\",\"type\":\"cat\",\"createdAt\":\"2018-03-04T21:20:02.979Z\",\"deleted\":false,\"used\":false},{\"status\":{\"verified\":true,\"sentCount\":1},\"_id\":\"588e746706ac2b00110e59ff\",\"user\":\"588e6e8806ac2b00110e59c3\",\"text\":\"Domestic cats spend about 70 percent of the day sleeping and 15 percent of the day grooming.\",\"__v\":0,\"source\":\"user\",\"updatedAt\":\"2020-08-26T20:20:02.359Z\",\"type\":\"cat\",\"createdAt\":\"2018-01-14T21:20:02.750Z\",\"deleted\":false,\"used\":true},{\"status\":{\"verified\":true,\"sentCount\":1},\"_id\":\"58e008ad0aac31001185ed0c\",\"user\":\"58e007480aac31001185ecef\",\"text\":\"The frequency of a domestic cat's purr is the same at which muscles and bones repair themselves.\",\"__v\":0,\"source\":\"user\",\"updatedAt\":\"2020-08-24T20:20:01.867Z\",\"type\":\"cat\",\"createdAt\":\"2018-03-15T20:20:03.281Z\",\"deleted\":false,\"used\":true},{\"status\":{\"verified\":true,\"sentCount\":1},\"_id\":\"58e007cc0aac31001185ecf5\",\"user\":\"58e007480aac31001185ecef\",\"text\":\"Cats are the most popular pet in the United States: There are 88 million pet cats and 74 million dogs.\",\"__v\":0,\"source\":\"user\",\"updatedAt\":\"2020-08-23T20:20:01.611Z\",\"type\":\"cat\",\"createdAt\":\"2018-03-01T21:20:02.713Z\",\"deleted\":false,\"used\":false}]\n",
       "```\n",
       "\n",
       "I called the tool named GetCatFacts with these arguments:\n",
       "```\n",
       "{}\n",
       "```\n",
       "and got this result:\n",
       "```\n",
       "[{\"status\":{\"verified\":true,\"sentCount\":1},\"_id\":\"58e008780aac31001185ed05\",\"user\":\"58e007480aac31001185ecef\",\"text\":\"Owning a cat can reduce the risk of stroke and heart attack by a third.\",\"__v\":0,\"source\":\"user\",\"updatedAt\":\"2020-08-23T20:20:01.611Z\",\"type\":\"cat\",\"createdAt\":\"2018-03-29T20:20:03.844Z\",\"deleted\":false,\"used\":false},{\"status\":{\"verified\":true,\"sentCount\":1},\"_id\":\"58e009390aac31001185ed10\",\"user\":\"58e007480aac31001185ecef\",\"text\":\"Most cats are lactose intolerant, and milk can cause painful stomach cramps and diarrhea. It's best to forego the milk and just give your cat the standard: clean, cool drinking water.\",\"__v\":0,\"source\":\"user\",\"updatedAt\":\"2020-08-23T20:20:01.611Z\",\"type\":\"cat\",\"createdAt\":\"2018-03-04T21:20:02.979Z\",\"deleted\":false,\"used\":false},{\"status\":{\"verified\":true,\"sentCount\":1},\"_id\":\"588e746706ac2b00110e59ff\",\"user\":\"588e6e8806ac2b00110e59c3\",\"text\":\"Domestic cats spend about 70 percent of the day sleeping and 15 percent of the day grooming.\",\"__v\":0,\"source\":\"user\",\"updatedAt\":\"2020-08-26T20:20:02.359Z\",\"type\":\"cat\",\"createdAt\":\"2018-01-14T21:20:02.750Z\",\"deleted\":false,\"used\":true},{\"status\":{\"verified\":true,\"sentCount\":1},\"_id\":\"58e008ad0aac31001185ed0c\",\"user\":\"58e007480aac31001185ecef\",\"text\":\"The frequency of a domestic cat's purr is the same at which muscles and bones repair themselves.\",\"__v\":0,\"source\":\"user\",\"updatedAt\":\"2020-08-24T20:20:01.867Z\",\"type\":\"cat\",\"createdAt\":\"2018-03-15T20:20:03.281Z\",\"deleted\":false,\"used\":true},{\"status\":{\"verified\":true,\"sentCount\":1},\"_id\":\"58e007cc0aac31001185ecf5\",\"user\":\"58e007480aac31001185ecef\",\"text\":\"Cats are the most popular pet in the United States: There are 88 million pet cats and 74 million dogs.\",\"__v\":0,\"source\":\"user\",\"updatedAt\":\"2020-08-23T20:20:01.611Z\",\"type\":\"cat\",\"createdAt\":\"2018-03-01T21:20:02.713Z\",\"deleted\":false,\"used\":false}]\n",
       "```\n",
       "\n",
       "I called the tool named GetCatFacts with these arguments:\n",
       "```\n",
       "{}\n",
       "```\n",
       "and got this result:\n",
       "```\n",
       "[{\"status\":{\"verified\":true,\"sentCount\":1},\"_id\":\"58e008780aac31001185ed05\",\"user\":\"58e007480aac31001185ecef\",\"text\":\"Owning a cat can reduce the risk of stroke and heart attack by a third.\",\"__v\":0,\"source\":\"user\",\"updatedAt\":\"2020-08-23T20:20:01.611Z\",\"type\":\"cat\",\"createdAt\":\"2018-03-29T20:20:03.844Z\",\"deleted\":false,\"used\":false},{\"status\":{\"verified\":true,\"sentCount\":1},\"_id\":\"58e009390aac31001185ed10\",\"user\":\"58e007480aac31001185ecef\",\"text\":\"Most cats are lactose intolerant, and milk can cause painful stomach cramps and diarrhea. It's best to forego the milk and just give your cat the standard: clean, cool drinking water.\",\"__v\":0,\"source\":\"user\",\"updatedAt\":\"2020-08-23T20:20:01.611Z\",\"type\":\"cat\",\"createdAt\":\"2018-03-04T21:20:02.979Z\",\"deleted\":false,\"used\":false},{\"status\":{\"verified\":true,\"sentCount\":1},\"_id\":\"588e746706ac2b00110e59ff\",\"user\":\"588e6e8806ac2b00110e59c3\",\"text\":\"Domestic cats spend about 70 percent of the day sleeping and 15 percent of the day grooming.\",\"__v\":0,\"source\":\"user\",\"updatedAt\":\"2020-08-26T20:20:02.359Z\",\"type\":\"cat\",\"createdAt\":\"2018-01-14T21:20:02.750Z\",\"deleted\":false,\"used\":true},{\"status\":{\"verified\":true,\"sentCount\":1},\"_id\":\"58e008ad0aac31001185ed0c\",\"user\":\"58e007480aac31001185ecef\",\"text\":\"The frequency of a domestic cat's purr is the same at which muscles and bones repair themselves.\",\"__v\":0,\"source\":\"user\",\"updatedAt\":\"2020-08-24T20:20:01.867Z\",\"type\":\"cat\",\"createdAt\":\"2018-03-15T20:20:03.281Z\",\"deleted\":false,\"used\":true},{\"status\":{\"verified\":true,\"sentCount\":1},\"_id\":\"58e007cc0aac31001185ecf5\",\"user\":\"58e007480aac31001185ecef\",\"text\":\"Cats are the most popular pet in the United States: There are 88 million pet cats and 74 million dogs.\",\"__v\":0,\"source\":\"user\",\"updatedAt\":\"2020-08-23T20:20:01.611Z\",\"type\":\"cat\",\"createdAt\":\"2018-03-01T21:20:02.713Z\",\"deleted\":false,\"used\":false}]\n",
       "```\n",
       "\n",
       "I called the tool named GetCatFacts with these arguments:\n",
       "```\n",
       "{}\n",
       "```\n",
       "and got this result:\n",
       "```\n",
       "[{\"status\":{\"verified\":true,\"sentCount\":1},\"_id\":\"58e008780aac31001185ed05\",\"user\":\"58e007480aac31001185ecef\",\"text\":\"Owning a cat can reduce the risk of stroke and heart attack by a third.\",\"__v\":0,\"source\":\"user\",\"updatedAt\":\"2020-08-23T20:20:01.611Z\",\"type\":\"cat\",\"createdAt\":\"2018-03-29T20:20:03.844Z\",\"deleted\":false,\"used\":false},{\"status\":{\"verified\":true,\"sentCount\":1},\"_id\":\"58e009390aac31001185ed10\",\"user\":\"58e007480aac31001185ecef\",\"text\":\"Most cats are lactose intolerant, and milk can cause painful stomach cramps and diarrhea. It's best to forego the milk and just give your cat the standard: clean, cool drinking water.\",\"__v\":0,\"source\":\"user\",\"updatedAt\":\"2020-08-23T20:20:01.611Z\",\"type\":\"cat\",\"createdAt\":\"2018-03-04T21:20:02.979Z\",\"deleted\":false,\"used\":false},{\"status\":{\"verified\":true,\"sentCount\":1},\"_id\":\"588e746706ac2b00110e59ff\",\"user\":\"588e6e8806ac2b00110e59c3\",\"text\":\"Domestic cats spend about 70 percent of the day sleeping and 15 percent of the day grooming.\",\"__v\":0,\"source\":\"user\",\"updatedAt\":\"2020-08-26T20:20:02.359Z\",\"type\":\"cat\",\"createdAt\":\"2018-01-14T21:20:02.750Z\",\"deleted\":false,\"used\":true},{\"status\":{\"verified\":true,\"sentCount\":1},\"_id\":\"58e008ad0aac31001185ed0c\",\"user\":\"58e007480aac31001185ecef\",\"text\":\"The frequency of a domestic cat's purr is the same at which muscles and bones repair themselves.\",\"__v\":0,\"source\":\"user\",\"updatedAt\":\"2020-08-24T20:20:01.867Z\",\"type\":\"cat\",\"createdAt\":\"2018-03-15T20:20:03.281Z\",\"deleted\":false,\"used\":true},{\"status\":{\"verified\":true,\"sentCount\":1},\"_id\":\"58e007cc0aac31001185ecf5\",\"user\":\"58e007480aac31001185ecef\",\"text\":\"Cats are the most popular pet in the United States: There are 88 million pet cats and 74 million dogs.\",\"__v\":0,\"source\":\"user\",\"updatedAt\":\"2020-08-23T20:20:01.611Z\",\"type\":\"cat\",\"createdAt\":\"2018-03-01T21:20:02.713Z\",\"deleted\":false,\"used\":false}]\n",
       "```\n",
       "\n",
       "I called the tool named GetCatFacts with these arguments:\n",
       "```\n",
       "{}\n",
       "```\n",
       "and got this result:\n",
       "```\n",
       "[{\"status\":{\"verified\":true,\"sentCount\":1},\"_id\":\"58e008780aac31001185ed05\",\"user\":\"58e007480aac31001185ecef\",\"text\":\"Owning a cat can reduce the risk of stroke and heart attack by a third.\",\"__v\":0,\"source\":\"user\",\"updatedAt\":\"2020-08-23T20:20:01.611Z\",\"type\":\"cat\",\"createdAt\":\"2018-03-29T20:20:03.844Z\",\"deleted\":false,\"used\":false},{\"status\":{\"verified\":true,\"sentCount\":1},\"_id\":\"58e009390aac31001185ed10\",\"user\":\"58e007480aac31001185ecef\",\"text\":\"Most cats are lactose intolerant, and milk can cause painful stomach cramps and diarrhea. It's best to forego the milk and just give your cat the standard: clean, cool drinking water.\",\"__v\":0,\"source\":\"user\",\"updatedAt\":\"2020-08-23T20:20:01.611Z\",\"type\":\"cat\",\"createdAt\":\"2018-03-04T21:20:02.979Z\",\"deleted\":false,\"used\":false},{\"status\":{\"verified\":true,\"sentCount\":1},\"_id\":\"588e746706ac2b00110e59ff\",\"user\":\"588e6e8806ac2b00110e59c3\",\"text\":\"Domestic cats spend about 70 percent of the day sleeping and 15 percent of the day grooming.\",\"__v\":0,\"source\":\"user\",\"updatedAt\":\"2020-08-26T20:20:02.359Z\",\"type\":\"cat\",\"createdAt\":\"2018-01-14T21:20:02.750Z\",\"deleted\":false,\"used\":true},{\"status\":{\"verified\":true,\"sentCount\":1},\"_id\":\"58e008ad0aac31001185ed0c\",\"user\":\"58e007480aac31001185ecef\",\"text\":\"The frequency of a domestic cat's purr is the same at which muscles and bones repair themselves.\",\"__v\":0,\"source\":\"user\",\"updatedAt\":\"2020-08-24T20:20:01.867Z\",\"type\":\"cat\",\"createdAt\":\"2018-03-15T20:20:03.281Z\",\"deleted\":false,\"used\":true},{\"status\":{\"verified\":true,\"sentCount\":1},\"_id\":\"58e007cc0aac31001185ecf5\",\"user\":\"58e007480aac31001185ecef\",\"text\":\"Cats are the most popular pet in the United States: There are 88 million pet cats and 74 million dogs.\",\"__v\":0,\"source\":\"user\",\"updatedAt\":\"2020-08-23T20:20:01.611Z\",\"type\":\"cat\",\"createdAt\":\"2018-03-01T21:20:02.713Z\",\"deleted\":false,\"used\":false}]\n",
       "```\n",
       "\n",
       "I ran this code:\n",
       "```\n",
       "cat_facts = [\n",
       "    \"Owning a cat can reduce the risk of stroke and heart attack by a third.\",\n",
       "    \"Most cats are lactose intolerant, and milk can cause painful stomach cramps and diarrhea. It's best to forego the milk and just give your cat the standard: clean, cool drinking water.\",\n",
       "    \"Domestic cats spend about 70 percent of the day sleeping and 15 percent of the day grooming.\",\n",
       "    \"The frequency of a domestic cat's purr is the same at which muscles and bones repair themselves.\",\n",
       "    \"Cats are the most popular pet in the United States: There are 88 million pet cats and 74 million dogs.\"\n",
       "]\n",
       "\n",
       "file_path = '/mnt/data/cat_facts.txt'\n",
       "\n",
       "with open(file_path, 'w') as file:\n",
       "    for fact in cat_facts:\n",
       "        file.write(fact + '\\n')\n",
       "\n",
       "file_path\n",
       "```\n",
       "\n",
       "I have compiled some interesting facts about cats into a file. You can download it using the link below:\n",
       "\n",
       "[Download Cat Facts](sandbox:/mnt/data/cat_facts.txt)\n"
      ]
     },
     "metadata": {},
     "output_type": "display_data"
    },
    {
     "name": "stdout",
     "output_type": "stream",
     "text": [
      "assistant-NnDdZFQAB7V4IpzVfRy5d9M8\n",
      ".\\cat_facts.txt\n"
     ]
    }
   ],
   "source": [
    "var assistantRunOptions = new AssistantRunOptions() {\n",
    "    AssistantName = \"Cat Facts\",\n",
    "    Instructions = \"Tell me something about cats and put the results into a file I can download\",\n",
    "    UseConversationEvaluator = false // Turn off the conversation evaluator\n",
    "};\n",
    "var output = await AntRunnerLib.AssistantRunner.RunThread(assistantRunOptions, config);\n",
    "output.Dialog.DisplayAs(\"text/markdown\");\n",
    "Console.WriteLine(output.Annotations[0].FilePathAnnotation.FileId);\n",
    "\n",
    "// Download files specified in FilePathAnnotation\n",
    "foreach (var annotation in output.Annotations)\n",
    "{\n",
    "    if (annotation.Type == \"file_path\")\n",
    "    {\n",
    "        var fileName = await annotation.GetFileName(config);\n",
    "\n",
    "        var filePath = Path.Combine(@\".\\\", fileName);\n",
    "        await annotation.DownloadFile(filePath, config);\n",
    "        Console.WriteLine($\"{filePath}\");\n",
    "    }\n",
    "}\n"
   ]
  },
  {
   "cell_type": "markdown",
   "metadata": {},
   "source": [
    "## Clean up"
   ]
  },
  {
   "cell_type": "code",
   "execution_count": 11,
   "metadata": {
    "dotnet_interactive": {
     "language": "csharp"
    },
    "polyglot_notebook": {
     "kernelName": "csharp"
    },
    "vscode": {
     "languageId": "polyglot-notebook"
    }
   },
   "outputs": [
    {
     "name": "stdout",
     "output_type": "stream",
     "text": [
      "Deleted assistant\r\n"
     ]
    }
   ],
   "source": [
    "var assistant = (await client.AssistantList())?.Data?.FirstOrDefault(o => o.Name == \"Cat Facts\");\n",
    "if(assistant != null) {\n",
    "    await client.AssistantDelete(assistant.Id);\n",
    "    Console.WriteLine(\"Deleted assistant\");\n",
    "}\n",
    "else\n",
    "{\n",
    "    Console.WriteLine(\"Didn't find Cat Facts\");\n",
    "}"
   ]
  }
 ],
 "metadata": {
  "kernelspec": {
   "display_name": ".NET (C#)",
   "language": "C#",
   "name": ".net-csharp"
  },
  "language_info": {
   "name": "python"
  },
  "polyglot_notebook": {
   "kernelInfo": {
    "defaultKernelName": "csharp",
    "items": [
     {
      "aliases": [],
      "name": "csharp"
     }
    ]
   }
  }
 },
 "nbformat": 4,
 "nbformat_minor": 2
}
