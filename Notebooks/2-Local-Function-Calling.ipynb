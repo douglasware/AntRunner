{
 "cells": [
  {
   "cell_type": "markdown",
   "metadata": {},
   "source": [
    "## Local Function Calling\n",
    "The **LocalCodeTool** ant demonstrates the use of .Net functions as tools! You don't have to use a Web API. "
   ]
  },
  {
   "cell_type": "markdown",
   "metadata": {},
   "source": [
    "## First steps\n",
    "- First, download AntRunLib from Nuget\n",
    "- At least once, setup the enviroment using **[0-AI-settings](0-AI-settings.ipynb)**"
   ]
  },
  {
   "cell_type": "code",
   "execution_count": 6,
   "metadata": {
    "dotnet_interactive": {
     "language": "csharp"
    },
    "polyglot_notebook": {
     "kernelName": "csharp"
    },
    "vscode": {
     "languageId": "polyglot-notebook"
    }
   },
   "outputs": [
    {
     "data": {
      "text/html": [
       "<div><div></div><div></div><div><strong>Installed Packages</strong><ul><li><span>AntRunnerLib, 0.6.5</span></li></ul></div></div>"
      ]
     },
     "metadata": {},
     "output_type": "display_data"
    }
   ],
   "source": [
    "#r \"nuget: AntRunnerLib, 0.6.5\"\n",
    "\n",
    "using AntRunnerLib;\n",
    "using AntRunnerLib.Identity;\n",
    "using static AntRunnerLib.ClientUtility;\n",
    "using System.IO;\n",
    "\n",
    "#!import config/Settings.cs \n",
    "\n",
    "var envVariables = Settings.GetEnvironmentVariables();\n",
    "foreach (var kvp in envVariables)\n",
    "{\n",
    "    Environment.SetEnvironmentVariable(kvp.Key, kvp.Value);\n",
    "}\n",
    "\n",
    "var config = AzureOpenAIConfigFactory.Get();\n",
    "var client = GetOpenAIClient(config);\n"
   ]
  },
  {
   "cell_type": "markdown",
   "metadata": {},
   "source": [
    "## Load the assembly containing the functions\n",
    "AntLoader.LoadAssembly ensures the assembly is loaded and findable by AntRunnerLib\n",
    "\n",
    "**Don't load any assemblies you don't fully trust!**"
   ]
  },
  {
   "cell_type": "code",
   "execution_count": 7,
   "metadata": {
    "dotnet_interactive": {
     "language": "csharp"
    },
    "polyglot_notebook": {
     "kernelName": "csharp"
    },
    "vscode": {
     "languageId": "polyglot-notebook"
    }
   },
   "outputs": [],
   "source": [
    "AntLoader.LoadAssembly(@\".\\AssistantDefinitions\\LocalCodeTool\\TestAssistant.dll\");"
   ]
  },
  {
   "cell_type": "markdown",
   "metadata": {},
   "source": [
    "## Ensure the LocalCodeTool assistant exists\n",
    "The definition of this assistant is located in the \".\\AssistantDefinitions\\LocalCodeTool\" folder\n",
    "\n",
    "\".\\AssistantDefinitions\\\" is a default path. You can override it by setting the **ASSISTANTS_BASE_FOLDER_PATH** enviroment variable.\n",
    "\n",
    "\"LocalCodeTool\" contains the following files:\n",
    "```\n",
    "│   instructions.md - The instructions\n",
    "│   LocalFunction.cs - The code that defines the two functions for your reference\n",
    "│   manifest.json - The base assistant definition\n",
    "│   TestAssistant.dll - A .NET 8 library we which contains the local functions in executable form\n",
    "│\n",
    "└───OpenAPI\n",
    "        tool.localhost.json - a swagger file where the server url is \"url\": \"tool://localhost\" and Paths are names of static methods in any loaded assembly \n",
    "```        \n",
    "\n",
    "### Explanation\n",
    "AssistantUtility.Create acts based on the contents of a folder structure following a convention laid out in these notebooks. In this case, it copied the contents of instructions.md into the assistant manifest.json. It also parsed the tool.localhost swagger which follows an Open API schema into tool defintions for the assitant."
   ]
  },
  {
   "cell_type": "code",
   "execution_count": 8,
   "metadata": {
    "dotnet_interactive": {
     "language": "csharp"
    },
    "polyglot_notebook": {
     "kernelName": "csharp"
    },
    "vscode": {
     "languageId": "polyglot-notebook"
    }
   },
   "outputs": [
    {
     "name": "stdout",
     "output_type": "stream",
     "text": [
      "asst_hd3Jta5sg7tShHQap1gSt3A1\r\n"
     ]
    }
   ],
   "source": [
    "var assistantId = await AssistantUtility.Create(\"LocalCodeTool\", config);\n",
    "Console.WriteLine(assistantId)"
   ]
  },
  {
   "cell_type": "markdown",
   "metadata": {},
   "source": [
    "## Run the Assistant\n",
    "\n",
    "output.Dialog shows the conversation. "
   ]
  },
  {
   "cell_type": "code",
   "execution_count": 9,
   "metadata": {
    "dotnet_interactive": {
     "language": "csharp"
    },
    "polyglot_notebook": {
     "kernelName": "csharp"
    },
    "vscode": {
     "languageId": "polyglot-notebook"
    }
   },
   "outputs": [
    {
     "name": "stdout",
     "output_type": "stream",
     "text": [
      "\n",
      "User: Use both of your tools to answer these two questions: What is the date and what is eleven plus negative 42?\n",
      "\n",
      "Assistant: I called the tool named GetDateAndTime with these arguments:\n",
      "```\n",
      "{}\n",
      "```\n",
      "and got this result:\n",
      "```\n",
      "\"Wednesday, September 11, 2024\"\n",
      "```\n",
      "\n",
      "I called the tool named AddNumbers with these arguments:\n",
      "```\n",
      "{\"a\": 11, \"b\": -42}\n",
      "```\n",
      "and got this result:\n",
      "```\n",
      "-31\n",
      "```\n",
      "\n",
      "The current date is Wednesday, September 11, 2024, and eleven plus negative 42 is -31.\n",
      "\r\n"
     ]
    }
   ],
   "source": [
    "var assistantRunOptions = new AssistantRunOptions() {\n",
    "    AssistantName = \"LocalCodeTool\",\n",
    "    Instructions = \"Use both of your tools to answer these two questions: What is the date and what is eleven plus negative 42?\",\n",
    "    UseConversationEvaluator = false\n",
    "};\n",
    "var output = await AntRunnerLib.AssistantRunner.RunThread(assistantRunOptions, config);\n",
    "Console.WriteLine(output.Dialog)"
   ]
  },
  {
   "cell_type": "code",
   "execution_count": 5,
   "metadata": {
    "dotnet_interactive": {
     "language": "csharp"
    },
    "polyglot_notebook": {
     "kernelName": "csharp"
    },
    "vscode": {
     "languageId": "polyglot-notebook"
    }
   },
   "outputs": [
    {
     "name": "stdout",
     "output_type": "stream",
     "text": [
      "The current date is Wednesday, September 11, 2024, and eleven plus negative 42 is -31.\r\n"
     ]
    }
   ],
   "source": [
    "Console.WriteLine(output.LastMessage)"
   ]
  }
 ],
 "metadata": {
  "kernelspec": {
   "display_name": ".NET (C#)",
   "language": "C#",
   "name": ".net-csharp"
  },
  "language_info": {
   "name": "python"
  },
  "polyglot_notebook": {
   "kernelInfo": {
    "defaultKernelName": "csharp",
    "items": [
     {
      "aliases": [],
      "name": "csharp"
     }
    ]
   }
  }
 },
 "nbformat": 4,
 "nbformat_minor": 2
}
