{
 "cells": [
  {
   "cell_type": "markdown",
   "metadata": {},
   "source": [
    "# This notebook requires a deployment of \"gpt-4o-mini\", edit as needed\n",
    "\n",
    "## Web Search Ant As Tool\n",
    "\n",
    "This example demonstrates one ant using another ant as a tool so that the second ant's work is outside the main thread.\n",
    "\n",
    "The **WebSearchAgentAnt** demonstrates the use of a Web API secured using an API key with an auth header. \n",
    "This sample requires you to create a Web Search (bing) resource in Azure and enter its corresponding API key in [0-AI-settings](0-AI-settings.ipynb)\n",
    "\n",
    "WebSearchAgentAnt uses **WebPageAgentAnt** via a tool call to evaluate search results using the search results link.\n",
    "This demo uses a lot of tokens. \n",
    "\n",
    "**If your quota is low, you will get throttled**"
   ]
  },
  {
   "cell_type": "markdown",
   "metadata": {},
   "source": [
    "## First steps\n",
    "- First, download AntRunLib from Nuget\n",
    "- At least once, set up the environment using **[0-AI-settings](0-AI-settings.ipynb)**"
   ]
  },
  {
   "cell_type": "code",
   "execution_count": 1,
   "metadata": {
    "dotnet_interactive": {
     "language": "csharp"
    },
    "polyglot_notebook": {
     "kernelName": "csharp"
    },
    "vscode": {
     "languageId": "polyglot-notebook"
    }
   },
   "outputs": [
    {
     "data": {
      "text/html": [
       "<div><div></div><div></div><div><strong>Installed Packages</strong><ul><li><span>AntRunnerLib, 0.9.5</span></li></ul></div></div>"
      ]
     },
     "metadata": {},
     "output_type": "display_data"
    }
   ],
   "source": [
    "#r \"nuget: AntRunnerLib, 0.9.5\"\n",
    "\n",
    "using AntRunnerLib;\n",
    "using AntRunnerLib.Identity;\n",
    "using static AntRunnerLib.ClientUtility;\n",
    "using System.IO;\n",
    "\n",
    "#!import config/Settings.cs \n",
    "\n",
    "var envVariables = Settings.GetEnvironmentVariables();\n",
    "foreach (var kvp in envVariables)\n",
    "{\n",
    "    Environment.SetEnvironmentVariable(kvp.Key, kvp.Value);\n",
    "}\n",
    "Environment.SetEnvironmentVariable(\"AZURE_OPENAI_DEPLOYMENT\", \"gpt-4o-mini\");\n",
    "\n",
    "var config = AzureOpenAiConfigFactory.Get();\n",
    "var client = GetOpenAiClient(config);\n"
   ]
  },
  {
   "cell_type": "code",
   "execution_count": 2,
   "metadata": {
    "dotnet_interactive": {
     "language": "csharp"
    },
    "polyglot_notebook": {
     "kernelName": "csharp"
    },
    "vscode": {
     "languageId": "polyglot-notebook"
    }
   },
   "outputs": [
    {
     "name": "stdout",
     "output_type": "stream",
     "text": [
      "asst_iTT3exrghn83XQrH3r8xMcxu\n",
      "asst_BgZpkm3UnRYJI6MzF3toE1vq\n"
     ]
    }
   ],
   "source": [
    "var assistantId = await AssistantUtility.Create(\"WebSearchAgentAnt\", config);\n",
    "Console.WriteLine(assistantId);\n",
    "assistantId = await AssistantUtility.Create(\"WebPageAgentAnt\", config);\n",
    "Console.WriteLine(assistantId);"
   ]
  },
  {
   "cell_type": "code",
   "execution_count": 3,
   "metadata": {
    "dotnet_interactive": {
     "language": "csharp"
    },
    "polyglot_notebook": {
     "kernelName": "csharp"
    },
    "vscode": {
     "languageId": "polyglot-notebook"
    }
   },
   "outputs": [],
   "source": [
    "AntLoader.LoadAssembly(@\".\\AssistantDefinitions\\WebPageAgentAnt\\HtmlAgilityPack.dll\");\n",
    "AntLoader.LoadAssembly(@\".\\AssistantDefinitions\\WebPageAgentAnt\\HtmlAgilityPackExtensions.dll\");"
   ]
  },
  {
   "cell_type": "markdown",
   "metadata": {},
   "source": [
    "## Run the Assistant\n",
    "\n",
    "`output.Dialog` shows the conversation."
   ]
  },
  {
   "cell_type": "code",
   "execution_count": 4,
   "metadata": {
    "dotnet_interactive": {
     "language": "csharp"
    },
    "polyglot_notebook": {
     "kernelName": "csharp"
    },
    "vscode": {
     "languageId": "polyglot-notebook"
    }
   },
   "outputs": [
    {
     "data": {
      "text/markdown": [
       "\n",
       "User: Use python to get todays date and then use it to find things to do in Atlanta today. Be careful to not include events in the past in your final answer.\n",
       "\n",
       "Assistant: I ran this code:\n",
       "```\n",
       "from datetime import datetime\r\n",
       "\r\n",
       "# Get today's date\r\n",
       "today_date = datetime.now().date()\r\n",
       "today_date\n",
       "```\n",
       "\n",
       "I called the tool named crawl with these arguments:\n",
       "```\n",
       "{\"q\":\"things to do in Atlanta on 2024-12-31\",\"count\":5,\"textFormat\":\"Raw\"}\n",
       "```\n",
       "and got this result:\n",
       "```\n",
       "{\"queryContext\":{\"originalQuery\":\"things to do in Atlanta on 2024-12-31\"},\"webPages\":{\"value\":[{\"name\":\"Atlanta Events in December 2024 - Schedule \\u0026 Tickets\",\"url\":\"https://atlanta-ga.events/december/\",\"displayUrl\":\"https://atlanta-ga.events/december\",\"snippet\":\"Check Out The Atlanta Events Calendar for December 2024: Current \\u0026 Upcoming Events \\u002B Best \\u0026 Fun Thing To Do in the City. ... Dec 29, 2024 12:30 PM ... Dec 31, 2024 3:30 AM . Georgia Tech Yellow Jackets Basketball . Events: 3. McCamish Pavilion . Dec 31, 2024 2:30 PM . Notre Dame Fighting Irish Basketball ...\"},{\"name\":\"Explore Atlanta Events for Today, This Week or Weekend\",\"url\":\"https://discoveratlanta.com/events/main/\",\"displayUrl\":\"https://discoveratlanta.com/events\",\"snippet\":\"Explore the Atlanta events calendar for things to do today, this week or this weekend. Find upcoming festivals, seasonal events and more! DiscoverAtlanta.com homepage. Things to Do ... New Year\\u2019s Eve Celebration at Red Phone Booth 2024 12/31/24. New Year\\u2019s Eve Dinner at Signia by Hilton Atlanta 12/31/24 \\u2013 1/1/25. New Years Eve Party 2025 ...\",\"thumbnailUrl\":\"https://www.bing.com/th?id=OIP.FkxSV6JbrWatsFMM3_8dIAHaEh\\u0026w=80\\u0026h=80\\u0026c=1\\u0026pid=5.1\"},{\"name\":\"11 Atlanta holiday events happening this weekend | 11alive.com\",\"url\":\"https://www.11alive.com/article/entertainment/events/11-things-to-do-in-atlanta-dec-26-31/85-46d65687-9cd6-4513-9fcb-5e2012452a26\",\"displayUrl\":\"https://www.11alive.com/article/entertainment/events/11-things-to-do-in-atlanta-dec-26...\",\"snippet\":\"Date and Location: Dec. 25\\u201331; 10 a.m.\\u20137:30 p.m.; Atlanta Beltline East Side Trail, 700 Lake Avenue NE, Atlanta, GA 30307 Description: Craft a custom soy candle while enjoying snacks, drinks ...\"},{\"name\":\"Atlanta Events - December 2024 - Go South Atlanta\",\"url\":\"https://gosouthatlanta.com/things-to-do/events/atlanta-in-december.html\",\"displayUrl\":\"https://gosouthatlanta.com/things-to-do/events/atlanta-in-december.html\",\"snippet\":\"Things to do in Atlanta, GA in December, including upcoming festivals, Christmas events and other holiday celebrations, lights shows, holiday markets, comedy, musicals, ballet, tours of homes, and more. ... \\u2013 Anime Weekend Atlanta, December 12-15 2024 ... \\u2013 New Year\\u2019s Eve Celebration, December 31 2024 New Year\\u2019s eve event at the Georgia ...\",\"thumbnailUrl\":\"https://www.bing.com/th?id=OIP.xm-3dn3hYJZHsVVU9WO5qwHaD4\\u0026w=80\\u0026h=80\\u0026c=1\\u0026pid=5.1\"},{\"name\":\"Atlanta Events Calendar 2024/2025 | Atlanta, GA\",\"url\":\"https://atlanta-ga.events/\",\"displayUrl\":\"https://atlanta-ga.events\",\"snippet\":\"This calendar is your ultimate guide to the best things to do in Atlanta, GA: ... 12 tickets remaining! Tickets; Dec. 31. 2024. 9:30 PM Tue. Daily Bread. The Eastern - GA. ... Dec 31, 2024 3:30 AM . Notre Dame Fighting Irish . Events: 3. McCamish Pavilion ...\",\"thumbnailUrl\":\"https://www.bing.com/th?id=OIP.ytkv04WKv8RTyYo4_DsP4gHaHa\\u0026w=80\\u0026h=80\\u0026c=1\\u0026pid=5.1\"}]},\"images\":{\"value\":[{\"thumbnailUrl\":\"https://tse1.mm.bing.net/th?id=OIP.ENao3rD4rUbnHGA6QJHXYgAAAA\\u0026pid=Api\",\"contentUrl\":\"https://res.cloudinary.com/hz3gmuqw6/image/upload/c_fill,q_auto,w_750/f_auto/things-to-do-in-atlanta-phpWlZ13b\",\"hostPageUrl\":\"https://www.cozymeal.com/magazine/things-to-do-in-atlanta\"},{\"thumbnailUrl\":\"https://tse1.mm.bing.net/th?id=OIP.5jERbhhnl8LiECUQySoRYAHaG1\\u0026pid=Api\",\"contentUrl\":\"https://uphomes.com/storage/blogposts/February2023/medium/RKuDJcqErH176HD3LyWV.png\",\"hostPageUrl\":\"https://uphomes.com/blog/things-to-do-atlanta-ga/\"},{\"thumbnailUrl\":\"https://tse1.mm.bing.net/th?id=OIP.W-gOzzcskaYfPXC3whhXOgHaLH\\u0026pid=Api\",\"contentUrl\":\"https://www.busytourist.com/wp-content/uploads/2020/07/best-things-to-do-in-Atlanta-GA-1.jpg\",\"hostPageUrl\":\"https://www.busytourist.com/things-to-do-in-atlanta-ga/\"},{\"thumbnailUrl\":\"https://tse1.mm.bing.net/th?id=OIP.U9xvQMbjg9T0YiriayftJAHaLH\\u0026pid=Api\",\"contentUrl\":\"https://www.busytourist.com/wp-content/uploads/2020/07/Things-To-Do-In-Atlanta-pin1.jpg\",\"hostPageUrl\":\"https://www.busytourist.com/things-to-do-in-atlanta-ga/\"},{\"thumbnailUrl\":\"https://tse1.mm.bing.net/th?id=OIP.VX9GFXDDPaUhlk5Ajz2jFAHaLH\\u0026pid=Api\",\"contentUrl\":\"https://www.busytourist.com/wp-content/uploads/2020/07/best-things-to-do-in-Atlanta-GA-1-2.jpg\",\"hostPageUrl\":\"https://www.busytourist.com/things-to-do-in-atlanta-ga/\"},{\"thumbnailUrl\":\"https://tse1.mm.bing.net/th?id=OIP.VOzVfWJV7_6joNkGhLP7AAHaLH\\u0026pid=Api\",\"contentUrl\":\"https://i.pinimg.com/originals/ce/c5/25/cec525ba57be0022de5d70d1a1f3dd88.jpg\",\"hostPageUrl\":\"https://www.artofit.org/image-gallery/196891814951760239/18-cool-things-to-do-in-atlanta-georgia-on-your-first-visit/\"},{\"thumbnailUrl\":\"https://tse1.mm.bing.net/th?id=OIP.EwTRMK2YnFak4c4zUFMiVAHaHa\\u0026pid=Api\",\"contentUrl\":\"https://unexpectedatlanta.com/wp-content/uploads/2022/09/Things-to-Do-in-Downtown-Atlanta.png\",\"hostPageUrl\":\"https://unexpectedatlanta.com/things-to-do-in-downtown-atlanta/\"},{\"thumbnailUrl\":\"https://tse1.mm.bing.net/th?id=OIP.B9dwp_jKTmtE_Fruodr10QHaE8\\u0026pid=Api\",\"contentUrl\":\"https://www.treksplorer.com/wp-content/uploads/things-to-do-in-atlanta.jpg\",\"hostPageUrl\":\"https://www.treksplorer.com/things-to-do-in-atlanta-ga-usa/\"},{\"thumbnailUrl\":\"https://tse1.mm.bing.net/th?id=OIP.Fe-J-AR_X-7c4ZeUHVaHwQAAAA\\u0026pid=Api\",\"contentUrl\":\"https://www.acaponeconnection.com/wp-content/uploads/2022/05/All-the-Fun-Things-to-Do-in-Atlanta-Georgia-1.jpg\",\"hostPageUrl\":\"https://www.acaponeconnection.com/all-the-fun-things-to-do-in-atlanta-georgia/\"},{\"thumbnailUrl\":\"https://tse1.mm.bing.net/th?id=OIP.BawFpewdQrecAtgiS9AiOAHaHa\\u0026pid=Api\",\"contentUrl\":\"https://unexpectedatlanta.com/wp-content/uploads/2023/04/The-Best-Things-to-Do-in-Midtown-Atlanta-500x500.png\",\"hostPageUrl\":\"https://unexpectedatlanta.com/best-things-to-do-midtown-atlanta/\"},{\"thumbnailUrl\":\"https://tse1.mm.bing.net/th?id=OIP.kPDWhtaLIie8olnqL6TkbwHaLH\\u0026pid=Api\",\"contentUrl\":\"https://i.pinimg.com/736x/0d/dc/90/0ddc901f30fb177f17170a916df1ccb6.jpg\",\"hostPageUrl\":\"https://www.pinterest.com/pin/15-fun-things-to-do-atlanta-georgia-with-your-kids--185351340900142849/\"},{\"thumbnailUrl\":\"https://tse1.mm.bing.net/th?id=OIP.vjZ_V7Yjzfqyphfsj_SBjgHaEK\\u0026pid=Api\",\"contentUrl\":\"https://daytripqueen.com/wp-content/uploads/2021/07/Free-things-to-do-in-Atlanta.jpg\",\"hostPageUrl\":\"https://daytripqueen.com/free-things-to-do-in-atlanta/\"},{\"thumbnailUrl\":\"https://tse1.mm.bing.net/th?id=OIP.XajGEbTfSApazA2t4O6v0gHaLG\\u0026pid=Api\",\"contentUrl\":\"https://365atlantatraveler.com/wp-content/uploads/2023/03/ATLANTA-BIRTHDAY-2-567x850.jpg\",\"hostPageUrl\":\"https://365atlantatraveler.com/things-to-do-in-atlanta-for-birthday-fun/\"},{\"thumbnailUrl\":\"https://tse1.mm.bing.net/th?id=OIP.yRC0krj1Jbi8qtYhSLLimgHaE8\\u0026pid=Api\",\"contentUrl\":\"https://lp-cms-production.imgix.net/2021-05/GettyRF_486068945.jpg?auto=compress\\u0026fit=crop\\u0026fm=auto\\u0026sharp=10\\u0026vib=20\\u0026w=1200\\u0026h=800\",\"hostPageUrl\":\"https://www.lonelyplanet.com/articles/top-things-to-do-in-atlanta\"},{\"thumbnailUrl\":\"https://tse1.mm.bing.net/th?id=OIP.FFnn7XEC9iNqbbTqDM01LQHaD3\\u0026pid=Api\",\"contentUrl\":\"https://www.busytourist.com/wp-content/uploads/2020/07/things-to-do-in-Atlanta-803x420.jpg\",\"hostPageUrl\":\"https://www.busytourist.com/things-to-do-in-atlanta-ga/\"},{\"thumbnailUrl\":\"https://tse1.mm.bing.net/th?id=OIP.Twqjja_QS8r-DEoNYr3kzAHaEK\\u0026pid=Api\",\"contentUrl\":\"https://i.ytimg.com/vi/Vl6GPUuj1mc/maxresdefault.jpg\",\"hostPageUrl\":\"https://www.youtube.com/watch?v=Vl6GPUuj1mc\"},{\"thumbnailUrl\":\"https://tse1.mm.bing.net/th?id=OIP.Yac324FtG-dH_KY8XaUTZQHaME\\u0026pid=Api\",\"contentUrl\":\"https://www.frostandsun.com/wp-content/uploads/2017/11/things-to-do-in-atlanta-pin-me-1-628x1024.jpg.webp\",\"hostPageUrl\":\"https://www.frostandsun.com/things-to-do-in-atlanta/\"},{\"thumbnailUrl\":\"https://tse1.mm.bing.net/th?id=OIP.SAR7OZFxENgNvYAs2Dxz5wHaE8\\u0026pid=Api\",\"contentUrl\":\"https://i.pinimg.com/originals/eb/f7/cc/ebf7cc88f32b7dea83f4ad2f824751e9.jpg\",\"hostPageUrl\":\"https://www.pinterest.com/pin/13-best-things-to-do-in-downtown-atlanta-for-firsttime-visitors--40532465387430446/\"},{\"thumbnailUrl\":\"https://tse1.mm.bing.net/th?id=OIP.IqznTH1ocAOkn-XVKO4tyQHaL5\\u0026pid=Api\",\"contentUrl\":\"https://i.pinimg.com/originals/f5/05/8e/f5058e44214459ab6506002aee8aa99f.png\",\"hostPageUrl\":\"https://www.pinterest.co.uk/pin/101-best-things-to-do-in-atlanta-georgia-the-ultimate-attractions-guide--347621664991790215/\"},{\"thumbnailUrl\":\"https://tse1.mm.bing.net/th?id=OIP.yuaNjvzCThiN7OhZJXqZ1gHaE7\\u0026pid=Api\",\"contentUrl\":\"http://traveltipsguides.com/wp-content/uploads/2020/11/atlanta-things.jpg\",\"hostPageUrl\":\"https://traveltipsguides.com/top-things-to-do-in-atlanta/\"}]}}\n",
       "```\n",
       "\n",
       "I called the tool named ExtractContentFromUrl with these arguments:\n",
       "```\n",
       "{\"assistantName\": \"WebPageAgentAnt\", \"instructions\": \"What are the events happening in Atlanta on December 31, 2024? https://atlanta-ga.events/december/\"}\n",
       "```\n",
       "and got this result:\n",
       "```\n",
       "\"On December 31, 2024, there are several events happening in Atlanta, including concerts and sports games. Here are some of the highlights:\\n\\n1. **Georgia Tech Yellow Jackets vs. Notre Dame Fighting Irish**\\n   - **Time**: 2:30 PM\\n   - **Location**: McCamish Pavilion\\n   - **Prices**: From $18 (Average price ~ $62)\\n   - [Get Tickets](https://atlanta-ga.events/event/georgia-tech-yellow-jackets-vs-notre-dame-fighting-irish-atlanta-tuesday-december-31-2024-230-pm/?pid=1282)\\n\\n2. **Provenance NYE: Seven Lions, Knife Party \\u0026 Grabbitz**\\n   - **Time**: 7:00 PM\\n   - **Location**: Atlanta Coliseum\\n   - **Prices**: From $114 (Average price ~ $132)\\n   - [Get Tickets](https://atlanta-ga.events/event/provenance-nye-seven-lions-knife-party-and-grabbitz-duluth-tuesday-december-31-2024-700-pm/?pid=8320)\\n\\n3. **Zac Brown Band**\\n   - **Time**: 8:00 PM\\n   - **Location**: State Farm Arena\\n   - **Prices**: From $73 (Average price ~ $237)\\n   - [Get Tickets](https://atlanta-ga.events/event/zac-brown-band-atlanta-tuesday-december-31-2024-800-pm/?pid=769)\\n\\n4. **Moon Taxi**\\n   - **Time**: 8:00 PM\\n   - **Location**: The Tabernacle\\n   - **Prices**: From $65 (Average price ~ $127)\\n   - [Get Tickets](https://atlanta-ga.events/event/moon-taxi-atlanta-tuesday-december-31-2024-800-pm/?pid=7640)\\n\\n5. **Big Freedia**\\n   - **Time**: 9:30 PM\\n   - **Location**: City Winery - Atlanta\\n   - **Prices**: From $224 (Average price ~ $258)\\n   - [Get Tickets](https://atlanta-ga.events/event/big-freedia-atlanta-tuesday-december-31-2024-930-pm/?pid=2964)\\n\\n6. **Daily Bread**\\n   - **Time**: 9:30 PM\\n   - **Location**: The Eastern\\n   - **Prices**: From $111 (Average price ~ $158)\\n   - [Get Tickets](https://atlanta-ga.events/event/daily-bread-atlanta-tuesday-december-31-2024-930-pm/?pid=4699)\\n\\n7. **Hugel - Artist**\\n   - **Time**: 10:00 PM\\n   - **Location**: District Atlanta\\n   - **Prices**: From $122 (Average price ~ $189)\\n   - [Get Tickets](https://atlanta-ga.events/event/hugel-artist-atlanta-tuesday-december-31-2024-1000-pm/?pid=2550)\\n\\nThese events provide a mix of sports and live music, making for an exciting New Year\\u0027s Eve in Atlanta.\"\n",
       "```\n",
       "\n",
       "I called the tool named ExtractContentFromUrl with these arguments:\n",
       "```\n",
       "{\"assistantName\": \"WebPageAgentAnt\", \"instructions\": \"What are the events happening in Atlanta today? https://discoveratlanta.com/events/main/\"}\n",
       "```\n",
       "and got this result:\n",
       "```\n",
       "\"Here are some events happening in Atlanta today:\\n\\n### Events on December 31, 2024:\\n\\n1. **Deck the Hall at the College Football Hall of Fame**\\n   - **Type:** Holiday\\n   - **Date:** 12/31/24 \\u2013 1/1/25\\n   - [More Info](https://discoveratlanta.com/event/detail/deck-the-hall-at-the-college-football-hall-of-fame/)\\n   ![Deck the Hall](https://images.discoveratlanta.com/image/upload/w_400,h_400,c_fill,g_auto,q_auto/v1734546567/EventEntry/qvbnx6yvfyrhtxxehurq.jpg)\\n\\n2. **Noon Year\\u2019s Eve Family Celebration**\\n   - **Type:** Family \\u0026 Kids\\n   - **Date:** 12/31/24\\n   - [More Info](https://discoveratlanta.com/event/detail/noon-year-s-eve-family-celebration/)\\n   ![Noon Year\\u2019s Eve](https://images.discoveratlanta.com/image/upload/w_400,h_400,c_fill,g_auto,q_auto/v1734622597/EventEntry/bp9l8tdm5mmozsq49axy.jpg)\\n\\n3. **Midnight at Chateau**\\n   - **Type:** Holiday\\n   - **Date:** 12/31/24 \\u2013 1/1/25\\n   - [More Info](https://discoveratlanta.com/event/detail/midnight-at-chateau/)\\n   ![Midnight at Chateau](https://images.discoveratlanta.com/image/upload/w_400,h_400,c_fill,g_auto,q_auto/v1734542272/EventEntry/ee1l9tcromkg7tdhohey.jpg)\\n\\n4. **NYE @ May Peel \\u2013 A Champagne Story**\\n   - **Type:** Holiday\\n   - **Date:** 12/31/24\\n   - [More Info](https://discoveratlanta.com/event/detail/nye-may-peel-a-champagne-story/)\\n   ![NYE @ May Peel](https://images.discoveratlanta.com/image/upload/w_400,h_400,c_fill,g_auto,q_auto/v1734536118/EventEntry/tartv5l8esay4enxh1bh.jpg)\\n\\n5. **New Year\\u2019s Eve Bash at The Whitley**\\n   - **Type:** Holiday\\n   - **Date:** 12/31/24\\n   - [More Info](https://discoveratlanta.com/event/detail/new-year-s-eve-bash-at-the-whitley/)\\n   ![New Year\\u2019s Eve Bash](https://images.discoveratlanta.com/image/upload/w_400,h_400,c_fill,g_auto,q_auto/v1731372920/EventEntry/mtombkqoeqfs3zj02teb.jpg)\\n\\n6. **New Year\\u2019s Eve Black-Tie Dinner at The Waldorf**\\n   - **Type:** Dining\\n   - **Date:** 12/31/24\\n   - [More Info](https://discoveratlanta.com/event/detail/new-year-s-eve-black-tie-dinner-at-the-waldorf/)\\n   ![Black-Tie Dinner](https://images.discoveratlanta.com/image/upload/w_400,h_400,c_fill,g_auto,q_auto/v1734621279/EventEntry/dswxoa43zrqdv1ifjqeq.jpg)\\n\\n7. **Noon Year\\u2019s Eve at LEGO Discovery Center Atlanta**\\n   - **Type:** Family \\u0026 Kids\\n   - **Date:** 12/31/24\\n   - [More Info](https://discoveratlanta.com/event/detail/noon-year-s-eve-at-lego-discovery-center-atlanta/)\\n   ![LEGO Discovery Center](https://images.discoveratlanta.com/image/upload/w_400,h_400,c_fill,g_auto,q_auto/v1734577971/EventEntry/mbgc1yk4glqiyq3zxnxs.jpg)\\n\\n8. **Toast to 2025: Amore e Amore Rings in the New Year**\\n   - **Type:** Holiday\\n   - **Date:** 12/31/24\\n   - [More Info](https://discoveratlanta.com/event/detail/toast-to-2025-amore-e-amore-rings-in-the-new-year/)\\n   ![Toast to 2025](https://images.discoveratlanta.com/image/upload/w_400,h_400,c_fill,g_auto,q_auto/v1734541369/EventEntry/aoouncrlkwrd5rdbyt3z.jpg)\\n\\nThese events provide a variety of activities to celebrate the New Year in Atlanta!\"\n",
       "```\n",
       "\n",
       "I called the tool named ExtractContentFromUrl with these arguments:\n",
       "```\n",
       "{\"assistantName\": \"WebPageAgentAnt\", \"instructions\": \"What are the holiday events happening in Atlanta on December 31, 2024? https://www.11alive.com/article/entertainment/events/11-things-to-do-in-atlanta-dec-26-31/85-46d65687-9cd6-4513-9fcb-5e2012452a26\"}\n",
       "```\n",
       "and got this result:\n",
       "```\n",
       "\"Here are the holiday events happening in Atlanta on December 31, 2024:\\n\\n1. **Create Your Own Scented Candle**\\n   - **Location:** Atlanta Beltline East Side Trail, 700 Lake Avenue NE, Atlanta, GA 30307\\n   - **Time:** 10 a.m. \\u2013 7:30 p.m.\\n   - **Description:** Craft a custom soy candle while enjoying snacks, drinks, and a relaxing atmosphere.\\n   - **Event Details:** [Atlanta Candle Making](https://www.atlantacandlemaking.com)\\n\\n2. **Holiday Bricktacular at LEGO Discovery Center**\\n   - **Location:** LEGO Discovery Center Atlanta, 3500 Peachtree Road NE, Atlanta, GA 30326\\n   - **Time:** All day\\n   - **Description:** Build, play, and celebrate at LEGO Discovery Center\\u2019s festive event featuring unique activities and attractions.\\n   - **Event Details:** [LEGO Discovery Center](https://www.legolanddiscoverycenter.com)\\n\\nThese events provide a fun way to celebrate the end of the year!\"\n",
       "```\n",
       "\n",
       "I called the tool named ExtractContentFromUrl with these arguments:\n",
       "```\n",
       "{\"assistantName\": \"WebPageAgentAnt\", \"instructions\": \"What are the events scheduled for December 31, 2024 in Atlanta? https://gosouthatlanta.com/things-to-do/events/atlanta-in-december.html\"}\n",
       "```\n",
       "and got this result:\n",
       "```\n",
       "\"On December 31, 2024, the following events are scheduled in Atlanta:\\n\\n1. **Zoo Year\\u2019s Eve**  \\n   A daytime New Year\\u2019s Eve event at Zoo Atlanta.  \\n   [More details](https://zooatlanta.org/event/zoo-years-eve/)\\n\\n2. **New Year\\u2019s Eve Celebration**  \\n   A New Year\\u2019s Eve event at the Georgia Aquarium, featuring a DJ, dancing, food, and after-hours access to the aquatic exhibits.  \\n   [More details](https://www.georgiaaquarium.org/events/event/new-years-eve-2024/)\\n\\nThese events provide a festive way to ring in the New Year in Atlanta!\"\n",
       "```\n",
       "\n",
       "I called the tool named ExtractContentFromUrl with these arguments:\n",
       "```\n",
       "{\"assistantName\": \"WebPageAgentAnt\", \"instructions\": \"What are the events listed for December 31, 2024 in Atlanta? https://atlanta-ga.events/\"}\n",
       "```\n",
       "and got this result:\n",
       "```\n",
       "\"Here are the events listed for December 31, 2024, in Atlanta:\\n\\n1. **Georgia Tech Yellow Jackets vs. Notre Dame Fighting Irish**\\n   - **Time:** 2:30 PM\\n   - **Location:** McCamish Pavilion\\n   - **Prices from:** $18\\n   - **Average price:** $62\\n   - [Get Tickets](https://atlanta-ga.events/event/georgia-tech-yellow-jackets-vs-notre-dame-fighting-irish-atlanta-tuesday-december-31-2024-230-pm/?pid=1282)\\n\\n2. **Provenance NYE: Seven Lions, Knife Party \\u0026 Grabbitz**\\n   - **Time:** 7:00 PM\\n   - **Location:** Atlanta Coliseum\\n   - **Prices from:** $114\\n   - **Average price:** $132\\n   - [Get Tickets](https://atlanta-ga.events/event/provenance-nye-seven-lions-knife-party-and-grabbitz-duluth-tuesday-december-31-2024-700-pm/?pid=8320)\\n\\n3. **Moon Taxi**\\n   - **Time:** 8:00 PM\\n   - **Location:** The Tabernacle - GA\\n   - **Prices from:** $65\\n   - **Average price:** $127\\n   - [Get Tickets](https://atlanta-ga.events/event/moon-taxi-atlanta-tuesday-december-31-2024-800-pm/?pid=7640)\\n\\n4. **Zac Brown Band**\\n   - **Time:** 8:00 PM\\n   - **Location:** State Farm Arena - GA\\n   - **Prices from:** $73\\n   - **Average price:** $237\\n   - [Get Tickets](https://atlanta-ga.events/event/zac-brown-band-atlanta-tuesday-december-31-2024-800-pm/?pid=769)\\n\\n5. **Gimme Gimme Disco**\\n   - **Time:** 9:00 PM\\n   - **Location:** Hell at The Masquerade - GA\\n   - **Prices from:** $49\\n   - **Average price:** $63\\n   - [Get Tickets](https://atlanta-ga.events/event/gimme-gimme-disco-atlanta-tuesday-december-31-2024-900-pm/?pid=1469)\\n\\n6. **Juelz - Artist**\\n   - **Time:** 9:00 PM\\n   - **Location:** Believe Music Hall\\n   - **Prices from:** $69\\n   - **Average price:** $79\\n   - [Get Tickets](https://atlanta-ga.events/event/juelz-artist-atlanta-tuesday-december-31-2024-900-pm/?pid=4969)\\n\\n7. **The Players Ball NYE Experience: Thrice Groove**\\n   - **Time:** 9:00 PM\\n   - **Location:** Buckhead Theatre\\n   - **Prices from:** $44\\n   - **Average price:** $51\\n   - [Get Tickets](https://atlanta-ga.events/event/the-players-ball-nye-experience-thrice-groove-atlanta-tuesday-december-31-2024-900-pm/?pid=7935)\\n\\n8. **Big Freedia**\\n   - **Time:** 9:30 PM\\n   - **Location:** City Winery - Atlanta\\n   - **Prices from:** $224\\n   - **Average price:** $258\\n   - [Get Tickets](https://atlanta-ga.events/event/big-freedia-atlanta-tuesday-december-31-2024-930-pm/?pid=2964)\\n\\n9. **Daily Bread**\\n   - **Time:** 9:30 PM\\n   - **Location:** The Eastern - GA\\n   - **Prices from:** $111\\n   - **Average price:** $158\\n   - [Get Tickets](https://atlanta-ga.events/event/daily-bread-atlanta-tuesday-december-31-2024-930-pm/?pid=4699)\\n\\n10. **Hugel - Artist**\\n    - **Time:** 10:00 PM\\n    - **Location:** District Atlanta\\n    - **Prices from:** $122\\n    - **Average price:** $189\\n    - [Get Tickets](https://atlanta-ga.events/event/hugel-artist-atlanta-tuesday-december-31-2024-1000-pm/?pid=2550)\\n\\nThese events cover a variety of performances and experiences for New Year\\u0027s Eve in Atlanta.\"\n",
       "```\n",
       "\n",
       "Here are some exciting events happening in Atlanta today, December 31, 2024, for New Year's Eve:\n",
       "\n",
       "### Concerts and Performances\n",
       "1. **Georgia Tech Yellow Jackets vs. Notre Dame Fighting Irish**\n",
       "   - **Time**: 2:30 PM\n",
       "   - **Location**: McCamish Pavilion\n",
       "   - **Prices**: From $18 (Average price ~ $62)\n",
       "   - [Get Tickets](https://atlanta-ga.events/event/georgia-tech-yellow-jackets-vs-notre-dame-fighting-irish-atlanta-tuesday-december-31-2024-230-pm/?pid=1282)\n",
       "\n",
       "2. **Provenance NYE: Seven Lions, Knife Party & Grabbitz**\n",
       "   - **Time**: 7:00 PM\n",
       "   - **Location**: Atlanta Coliseum\n",
       "   - **Prices**: From $114 (Average price ~ $132)\n",
       "   - [Get Tickets](https://atlanta-ga.events/event/provenance-nye-seven-lions-knife-party-and-grabbitz-duluth-tuesday-december-31-2024-700-pm/?pid=8320)\n",
       "\n",
       "3. **Zac Brown Band**\n",
       "   - **Time**: 8:00 PM\n",
       "   - **Location**: State Farm Arena\n",
       "   - **Prices**: From $73 (Average price ~ $237)\n",
       "   - [Get Tickets](https://atlanta-ga.events/event/zac-brown-band-atlanta-tuesday-december-31-2024-800-pm/?pid=769)\n",
       "\n",
       "4. **Moon Taxi**\n",
       "   - **Time**: 8:00 PM\n",
       "   - **Location**: The Tabernacle\n",
       "   - **Prices**: From $65 (Average price ~ $127)\n",
       "   - [Get Tickets](https://atlanta-ga.events/event/moon-taxi-atlanta-tuesday-december-31-2024-800-pm/?pid=7640)\n",
       "\n",
       "5. **Big Freedia**\n",
       "   - **Time**: 9:30 PM\n",
       "   - **Location**: City Winery - Atlanta\n",
       "   - **Prices**: From $224 (Average price ~ $258)\n",
       "   - [Get Tickets](https://atlanta-ga.events/event/big-freedia-atlanta-tuesday-december-31-2024-930-pm/?pid=2964)\n",
       "\n",
       "### Family-Friendly Events\n",
       "1. **Noon Year’s Eve Family Celebration**\n",
       "   - **Type**: Family & Kids\n",
       "   - **Date**: 12/31/24\n",
       "   - [More Info](https://discoveratlanta.com/event/detail/noon-year-s-eve-family-celebration/)\n",
       "   ![Noon Year’s Eve](https://images.discoveratlanta.com/image/upload/w_400,h_400,c_fill,g_auto,q_auto/v1734622597/EventEntry/bp9l8tdm5mmozsq49axy.jpg)\n",
       "\n",
       "2. **Noon Year’s Eve at LEGO Discovery Center Atlanta**\n",
       "   - **Type**: Family & Kids\n",
       "   - **Date**: 12/31/24\n",
       "   - [More Info](https://discoveratlanta.com/event/detail/noon-year-s-eve-at-lego-discovery-center-atlanta/)\n",
       "   ![LEGO Discovery Center](https://images.discoveratlanta.com/image/upload/w_400,h_400,c_fill,g_auto,q_auto/v1734577971/EventEntry/mbgc1yk4glqiyq3zxnxs.jpg)\n",
       "\n",
       "### Celebratory Events\n",
       "1. **New Year’s Eve Bash at The Whitley**\n",
       "   - **Type**: Holiday\n",
       "   - **Date**: 12/31/24\n",
       "   - [More Info](https://discoveratlanta.com/event/detail/new-year-s-eve-bash-at-the-whitley/)\n",
       "   ![New Year’s Eve Bash](https://images.discoveratlanta.com/image/upload/w_400,h_400,c_fill,g_auto,q_auto/v1731372920/EventEntry/mtombkqoeqfs3zj02teb.jpg)\n",
       "\n",
       "2. **Midnight at Chateau**\n",
       "   - **Type**: Holiday\n",
       "   - **Date**: 12/31/24\n",
       "   - [More Info](https://discoveratlanta.com/event/detail/midnight-at-chateau/)\n",
       "   ![Midnight at Chateau](https://images.discoveratlanta.com/image/upload/w_400,h_400,c_fill,g_auto,q_auto/v1734542272/EventEntry/ee1l9tcromkg7tdhohey.jpg)\n",
       "\n",
       "3. **Zoo Year’s Eve**\n",
       "   - **Type**: Holiday\n",
       "   - **Date**: 12/31/24\n",
       "   - [More Info](https://zooatlanta.org/event/zoo-years-eve/)\n",
       "   ![Zoo Year’s Eve](https://images.discoveratlanta.com/image/upload/w_400,h_400,c_fill,g_auto,q_auto/v1734621279/EventEntry/dswxoa43zrqdv1ifjqeq.jpg)\n",
       "\n",
       "These events offer a variety of activities, from concerts to family celebrations, perfect for ringing in the New Year in Atlanta! \n",
       "\n",
       "For more information, you can visit:\n",
       "- [Atlanta Events Calendar](https://atlanta-ga.events/)\n",
       "- [Discover Atlanta Events](https://discoveratlanta.com/events/main/)\n"
      ]
     },
     "metadata": {},
     "output_type": "display_data"
    }
   ],
   "source": [
    "var assistantRunOptions = new AssistantRunOptions() {\n",
    "    AssistantName = \"WebSearchAgentAnt\",\n",
    "    Instructions = \"Use python to get todays date and then use it to find things to do in Atlanta today. Be careful to not include events in the past in your final answer.\",\n",
    "};\n",
    "var output = await AntRunnerLib.AssistantRunner.RunThread(assistantRunOptions, config);\n",
    "output.Dialog.DisplayAs(\"text/markdown\");"
   ]
  },
  {
   "cell_type": "code",
   "execution_count": 5,
   "metadata": {
    "dotnet_interactive": {
     "language": "csharp"
    },
    "polyglot_notebook": {
     "kernelName": "csharp"
    },
    "vscode": {
     "languageId": "polyglot-notebook"
    }
   },
   "outputs": [
    {
     "data": {
      "text/markdown": [
       "Here are some exciting events happening in Atlanta today, December 31, 2024, for New Year's Eve:\n",
       "\n",
       "### Concerts and Performances\n",
       "1. **Georgia Tech Yellow Jackets vs. Notre Dame Fighting Irish**\n",
       "   - **Time**: 2:30 PM\n",
       "   - **Location**: McCamish Pavilion\n",
       "   - **Prices**: From $18 (Average price ~ $62)\n",
       "   - [Get Tickets](https://atlanta-ga.events/event/georgia-tech-yellow-jackets-vs-notre-dame-fighting-irish-atlanta-tuesday-december-31-2024-230-pm/?pid=1282)\n",
       "\n",
       "2. **Provenance NYE: Seven Lions, Knife Party & Grabbitz**\n",
       "   - **Time**: 7:00 PM\n",
       "   - **Location**: Atlanta Coliseum\n",
       "   - **Prices**: From $114 (Average price ~ $132)\n",
       "   - [Get Tickets](https://atlanta-ga.events/event/provenance-nye-seven-lions-knife-party-and-grabbitz-duluth-tuesday-december-31-2024-700-pm/?pid=8320)\n",
       "\n",
       "3. **Zac Brown Band**\n",
       "   - **Time**: 8:00 PM\n",
       "   - **Location**: State Farm Arena\n",
       "   - **Prices**: From $73 (Average price ~ $237)\n",
       "   - [Get Tickets](https://atlanta-ga.events/event/zac-brown-band-atlanta-tuesday-december-31-2024-800-pm/?pid=769)\n",
       "\n",
       "4. **Moon Taxi**\n",
       "   - **Time**: 8:00 PM\n",
       "   - **Location**: The Tabernacle\n",
       "   - **Prices**: From $65 (Average price ~ $127)\n",
       "   - [Get Tickets](https://atlanta-ga.events/event/moon-taxi-atlanta-tuesday-december-31-2024-800-pm/?pid=7640)\n",
       "\n",
       "5. **Big Freedia**\n",
       "   - **Time**: 9:30 PM\n",
       "   - **Location**: City Winery - Atlanta\n",
       "   - **Prices**: From $224 (Average price ~ $258)\n",
       "   - [Get Tickets](https://atlanta-ga.events/event/big-freedia-atlanta-tuesday-december-31-2024-930-pm/?pid=2964)\n",
       "\n",
       "### Family-Friendly Events\n",
       "1. **Noon Year’s Eve Family Celebration**\n",
       "   - **Type**: Family & Kids\n",
       "   - **Date**: 12/31/24\n",
       "   - [More Info](https://discoveratlanta.com/event/detail/noon-year-s-eve-family-celebration/)\n",
       "   ![Noon Year’s Eve](https://images.discoveratlanta.com/image/upload/w_400,h_400,c_fill,g_auto,q_auto/v1734622597/EventEntry/bp9l8tdm5mmozsq49axy.jpg)\n",
       "\n",
       "2. **Noon Year’s Eve at LEGO Discovery Center Atlanta**\n",
       "   - **Type**: Family & Kids\n",
       "   - **Date**: 12/31/24\n",
       "   - [More Info](https://discoveratlanta.com/event/detail/noon-year-s-eve-at-lego-discovery-center-atlanta/)\n",
       "   ![LEGO Discovery Center](https://images.discoveratlanta.com/image/upload/w_400,h_400,c_fill,g_auto,q_auto/v1734577971/EventEntry/mbgc1yk4glqiyq3zxnxs.jpg)\n",
       "\n",
       "### Celebratory Events\n",
       "1. **New Year’s Eve Bash at The Whitley**\n",
       "   - **Type**: Holiday\n",
       "   - **Date**: 12/31/24\n",
       "   - [More Info](https://discoveratlanta.com/event/detail/new-year-s-eve-bash-at-the-whitley/)\n",
       "   ![New Year’s Eve Bash](https://images.discoveratlanta.com/image/upload/w_400,h_400,c_fill,g_auto,q_auto/v1731372920/EventEntry/mtombkqoeqfs3zj02teb.jpg)\n",
       "\n",
       "2. **Midnight at Chateau**\n",
       "   - **Type**: Holiday\n",
       "   - **Date**: 12/31/24\n",
       "   - [More Info](https://discoveratlanta.com/event/detail/midnight-at-chateau/)\n",
       "   ![Midnight at Chateau](https://images.discoveratlanta.com/image/upload/w_400,h_400,c_fill,g_auto,q_auto/v1734542272/EventEntry/ee1l9tcromkg7tdhohey.jpg)\n",
       "\n",
       "3. **Zoo Year’s Eve**\n",
       "   - **Type**: Holiday\n",
       "   - **Date**: 12/31/24\n",
       "   - [More Info](https://zooatlanta.org/event/zoo-years-eve/)\n",
       "   ![Zoo Year’s Eve](https://images.discoveratlanta.com/image/upload/w_400,h_400,c_fill,g_auto,q_auto/v1734621279/EventEntry/dswxoa43zrqdv1ifjqeq.jpg)\n",
       "\n",
       "These events offer a variety of activities, from concerts to family celebrations, perfect for ringing in the New Year in Atlanta! \n",
       "\n",
       "For more information, you can visit:\n",
       "- [Atlanta Events Calendar](https://atlanta-ga.events/)\n",
       "- [Discover Atlanta Events](https://discoveratlanta.com/events/main/)"
      ]
     },
     "metadata": {},
     "output_type": "display_data"
    }
   ],
   "source": [
    "output.LastMessage.DisplayAs(\"text/markdown\");"
   ]
  },
  {
   "cell_type": "code",
   "execution_count": 6,
   "metadata": {
    "dotnet_interactive": {
     "language": "csharp"
    },
    "polyglot_notebook": {
     "kernelName": "csharp"
    },
    "vscode": {
     "languageId": "polyglot-notebook"
    }
   },
   "outputs": [
    {
     "data": {
      "text/markdown": [
       "\n",
       "User: Use python to get todays date and then use it to find things to do in Atlanta for each of the next four weekends with pictures and correct links from ExtractContentFromUrl.\n",
       "\n",
       "When choosing links for crawl to evaluate with ExtractContentFromUrl choose a variety of hosts for urls from which you extract content. Limit your use of ExtractContentFromUrl to five calls or less. Do not make the error of including the url as a parameter, it must be inside 'instructions' as indicated by the tool definition. Be careful to not include events in the past in your final answer. You should perform four searches at once.\n",
       "Don't forget to include valid links!\n",
       "\n",
       "Assistant: I ran this code:\n",
       "```\n",
       "from datetime import datetime, timedelta\r\n",
       "\r\n",
       "# Get today's date\r\n",
       "today = datetime.now()\r\n",
       "\r\n",
       "# Generate the next four weekends\r\n",
       "weekends = [(today + timedelta(days=(5 - today.weekday()) + i * 7)).date() for i in range(4)]\r\n",
       "weekends\n",
       "```\n",
       "\n",
       "I called the tool named crawl with these arguments:\n",
       "```\n",
       "{\"q\": \"things to do in Atlanta on 2025-01-04\", \"answerCount\": 5, \"textFormat\": \"Raw\"}\n",
       "```\n",
       "and got this result:\n",
       "```\n",
       "{\"queryContext\":{\"originalQuery\":\"things to do in Atlanta on 2025-01-04\"},\"webPages\":{\"value\":[{\"name\":\"Events and Things to Do in Atlanta GA this from 2025-01-04 to 2025-01-05\",\"url\":\"https://eventcartel.com/events/all-categories/atlanta/from_2025-01-04_to_2025-01-05\",\"displayUrl\":\"https://eventcartel.com/events/all-categories/atlanta/from_2025-01-04_to_2025-01-05\",\"snippet\":\"Looking for something exciting to do this from 2025-01-04 to 2025-01-05 in Atlanta? EventCartel is your key to the best in entertainment, arts, and cultural events across all cities. ... Create Event. My Tickets. Help. Events and Things to Do in Atlanta GA this from 2025-01-04 to 2025-01-05 Browse events and buy tickets to concerts, theaters ...\",\"thumbnailUrl\":\"https://www.bing.com/th?id=OIF.TEruJlpgXiZC%2bUvC30cvJA\\u0026w=80\\u0026h=80\\u0026c=1\\u0026pid=5.1\"},{\"name\":\"Atlanta Events January 2025: Concerts, Shows, Sports...\",\"url\":\"https://atlanta-ga.events/january/\",\"displayUrl\":\"https://atlanta-ga.events/january\",\"snippet\":\"Atlanta Events January 2025. ... 01. 2025. 1:00 PM Wed. Chick-fil-A Peach Bowl - College Football Playoff Quarterfinal: ... 04. 2025. 3:30 AM Sat. Titanic: An Immersive Voyage. Exhibition Hub Art Center Atlanta. 30340, 5660 Buford Hwy NE, Atlanta, GA, US Prices from $64 Avg. price ~ $77 ...\",\"thumbnailUrl\":\"https://www.bing.com/th?id=OIP.ytkv04WKv8RTyYo4_DsP4gHaHa\\u0026w=80\\u0026h=80\\u0026c=1\\u0026pid=5.1\"},{\"name\":\"10 things to do in Atlanta this weekend - accessatlanta.com\",\"url\":\"https://www.accessatlanta.com/atlanta-things-to-do/10-things-to-do-in-atlanta-this-weekend/62JYETNSIBDJHKV6OEB3FZ4PDA/\",\"displayUrl\":\"https://www.accessatlanta.com/atlanta-things-to-do/10-things-to-do-in-atlanta-this...\",\"snippet\":\"Best Things to do in Atlanta this weekend. Location: Atlantic Station - 1380 Atlantic Dr NW; Date: January 4; Admission: $17; Time: 3-6 p.m.; Website: atlanticstation.com Family Saturday at the ...\"},{\"name\":\"Events \\u0026 Things To Do in Atlanta in 2025 - AllEvents.in\",\"url\":\"https://allevents.in/atlanta/january\",\"displayUrl\":\"https://allevents.in/atlanta/january\",\"snippet\":\"Find events and things to do in January 2025 in Atlanta. Discover parties, concerts, meets, shows, sports, club, reunion, Performance happening in January 2024 in Atlanta. ... 31 Dec-01 Jan 696 interested. USD 100 TAILOR MADE Atlanta New Year\\u0027s Eve Black Tie Gala | Everyone FREE Before 11pm w/RSVP ... Atlanta: City Winery - Atlanta: 04 Jan 2025:\"},{\"name\":\"Discover 2025 Events \\u0026 Activities in Atlanta, GA | Eventbrite\",\"url\":\"https://www.eventbrite.com/d/ga--atlanta/2025/\",\"displayUrl\":\"https://www.eventbrite.com/d/ga--atlanta/2025\",\"snippet\":\"Save this event: New Year\\u0027s Eve Atlanta 2025 Share this event: New Year\\u0027s Eve Atlanta 2025. Sales end soon. New Year\\u0027s Eve Atlanta 2025. Tuesday at 6:00 PM. Crowne Plaza Atlanta Perimeter at Ravinia, an IHG Hotel, Ashford Dunwoody Road Northeast, Atlanta, GA, USA.\"},{\"name\":\"Fun, Free Activities for Kids in January 2025: 15 Free Things To Do in ...\",\"url\":\"https://www.msn.com/en-us/sports/other/fun-free-activities-for-kids-in-january-2025-15-free-things-to-do-in-atlanta-with-kids/ar-AA1mOEey\",\"displayUrl\":\"https://www.msn.com/en-us/sports/other/fun-free-activities-for-kids-in-january-2025-15...\",\"snippet\":\"Free Things to Do with Kids in Atlanta January 2025. Chick-fil-A Peach Bowl Fan Fest Downtown. Wednesday, January 1, 2025 ...\"},{\"name\":\"20 Absolutely Fantastic Things To Do In Atlanta This January\",\"url\":\"https://secretatlanta.co/things-to-do-january/\",\"displayUrl\":\"https://secretatlanta.co/things-to-do-january\",\"snippet\":\"If you\\u2019re looking for some fun things to do around Atlanta this January, don\\u2019t worry, we\\u2019ve got ya covered! Keep scrolling to see all the best things to do this January in Atlanta! 1. Center yourself at Oasis at the High Museum of Art High Museum of Art. If you\\u2019re looking to be more peaceful in 2025, then you\\u2019re in luck!\",\"thumbnailUrl\":\"https://www.bing.com/th?id=OIP.5lOsdA8tsTOgx5qTd465YAAAAA\\u0026w=80\\u0026h=80\\u0026c=1\\u0026pid=5.1\"},{\"name\":\"Cool Things To Do in January in Atlanta\",\"url\":\"https://discoveratlanta.com/stories/things-to-do/cool-things-to-do-in-january-in-atlanta/\",\"displayUrl\":\"https://discoveratlanta.com/stories/things-to-do/cool-things-to-do-in-january-in-atlanta\",\"snippet\":\"2025 marks the 100th anniversary of Delta Air Lines. Stop by the Delta Flight Museum to learn about the history of the company and how it has evolved through the years. ... For more things to do in Atlanta anytime, visit our calendar of events. A Chicago transplant, Taylor loves exploring what makes Atlanta the place to be. Name a popular ...\",\"thumbnailUrl\":\"https://www.bing.com/th?id=OIP.aU9EcatRnz4MDkIKyYbkQgHaD4\\u0026w=80\\u0026h=80\\u0026c=1\\u0026pid=5.1\"},{\"name\":\"Atlanta January 2025: Events, Concerts, Clubs \\u0026 Things to Do - Experism\",\"url\":\"https://www.experism.com/atlanta/january\",\"displayUrl\":\"https://www.experism.com/atlanta/january\",\"snippet\":\"Don\\u2019t miss the Atlanta\\u0027s 2025 Chick-fil-A Peach Bowl on January 1. As one of college football\\u2019s premier postseason games, the Peach Bowl brings together two of the nation\\u2019s top teams for a gridiron showdown at Mercedes-Benz Stadium. The Peach Bowl experience includes pre-game festivities, live entertainment, and interactive fan zones.\",\"thumbnailUrl\":\"https://www.bing.com/th?id=OIP.WKXWyOtbF2Q-oMmg6Y-HiQHaE8\\u0026w=80\\u0026h=80\\u0026c=1\\u0026pid=5.1\"},{\"name\":\"Atlanta Events Calendar 2024/2025 | Atlanta, GA\",\"url\":\"https://atlanta-ga.events/\",\"displayUrl\":\"https://atlanta-ga.events\",\"snippet\":\"This calendar is your ultimate guide to the best things to do in Atlanta, GA: ... , 04 2025 8:00 PM . Cobb Energy Performing Arts Centre, Atlanta, GA . Get Tickets \\u0026 Juliet - Musical . Jan, 07 2025 7:30 PM ...\",\"thumbnailUrl\":\"https://www.bing.com/th?id=OIP.ytkv04WKv8RTyYo4_DsP4gHaHa\\u0026w=80\\u0026h=80\\u0026c=1\\u0026pid=5.1\"}]}}\n",
       "```\n",
       "\n",
       "I called the tool named crawl with these arguments:\n",
       "```\n",
       "{\"q\": \"things to do in Atlanta on 2025-01-11\", \"answerCount\": 5, \"textFormat\": \"Raw\"}\n",
       "```\n",
       "and got this result:\n",
       "```\n",
       "{\"queryContext\":{\"originalQuery\":\"things to do in Atlanta on 2025-01-11\"},\"webPages\":{\"value\":[{\"name\":\"Atlanta Events January 2025: Concerts, Shows, Sports...\",\"url\":\"https://atlanta-ga.events/january/\",\"displayUrl\":\"https://atlanta-ga.events/january\",\"snippet\":\"Explore our comprehensive calendar for all the current and upcoming events in Atlanta, GA, for January 2025. This guide is your gateway to discovering the best things to do in Atlanta, from Concerts and Theater Shows to Sports events and music festivals. You\\u2019ll find a detailed list of all the most engaging and exciting activities happening throughout the month.\",\"thumbnailUrl\":\"https://www.bing.com/th?id=OIP.ytkv04WKv8RTyYo4_DsP4gHaHa\\u0026w=80\\u0026h=80\\u0026c=1\\u0026pid=5.1\"},{\"name\":\"Atlanta Events \\u2013 January 2025 - Go South Atlanta\",\"url\":\"https://gosouthatlanta.com/things-to-do/events/atlanta-in-january.html\",\"displayUrl\":\"https://gosouthatlanta.com/things-to-do/events/atlanta-in-january.html\",\"snippet\":\"\\u2013 Last Podcast on the Left: JK Ultra Tour, January 11 2025 Comedy show at the Coca-Cola Roxy. More details \\u2013 Atlanta Travel \\u0026 Adventure Show, January 11-12 2025 Annual travel and tourism trade show at the Georgia International Convention Center. More details \\u2013 Love\\u2019s Labour\\u2019s Lost, January 11-26 2025 Play at the Shakespeare Tavern ...\",\"thumbnailUrl\":\"https://www.bing.com/th?id=OIP.xm-3dn3hYJZHsVVU9WO5qwHaD4\\u0026w=80\\u0026h=80\\u0026c=1\\u0026pid=5.1\"},{\"name\":\"January 11 events in Atlanta, GA - Eventbrite\",\"url\":\"https://www.eventbrite.com/d/ga--atlanta/january-11/\",\"displayUrl\":\"https://www.eventbrite.com/d/ga--atlanta/january-11\",\"snippet\":\"Save this event: 2025 Atlanta Travel \\u0026 Adventure Show Share this event: 2025 Atlanta Travel \\u0026 Adventure Show. 2025 Atlanta Travel \\u0026 Adventure Show. ... Sat, Jan 11, 4:00 PM. Atlanta\\u0027s Original Uptown Comedy Corner (225) Save this event: Saturday Shenanigans Open Mic Comedy Show, ...\"},{\"name\":\"Discover 2025 Events \\u0026 Activities in Atlanta, GA | Eventbrite\",\"url\":\"https://www.eventbrite.com/d/ga--atlanta/2025/\",\"displayUrl\":\"https://www.eventbrite.com/d/ga--atlanta/2025\",\"snippet\":\"Save this event: 2025 Atlanta Travel \\u0026 Adventure Show Share this event: 2025 Atlanta Travel \\u0026 Adventure Show. 2025 Atlanta Travel \\u0026 Adventure Show. ... ELEVATE : IGNITE CONNECTIONS FOR 2025. Sat, Jan 11, 5:00 PM. The Ritz-Carlton, Atlanta. Share this event: ELEVATE : IGNITE CONNECTIONS FOR 2025 Save this event: ELEVATE : IGNITE CONNECTIONS FOR ...\"},{\"name\":\"Atlanta January 2025: Events, Concerts, Clubs \\u0026 Things to Do - Experism\",\"url\":\"https://www.experism.com/atlanta/january\",\"displayUrl\":\"https://www.experism.com/atlanta/january\",\"snippet\":\"Things to do in Atlanta January ... Don\\u2019t miss the Atlanta\\u0027s 2025 Chick-fil-A Peach Bowl on January 1. As one of college football\\u2019s premier postseason games, the Peach Bowl brings together two of the nation\\u2019s top teams for a gridiron showdown at Mercedes-Benz Stadium. ... Jan 11, 2025 Atlanta View on Map. Don\\u0027t miss two-time Emmy Award ...\",\"thumbnailUrl\":\"https://www.bing.com/th?id=OIP.WKXWyOtbF2Q-oMmg6Y-HiQHaE8\\u0026w=80\\u0026h=80\\u0026c=1\\u0026pid=5.1\"},{\"name\":\"Cool Things To Do in January in Atlanta\",\"url\":\"https://discoveratlanta.com/stories/things-to-do/cool-things-to-do-in-january-in-atlanta/\",\"displayUrl\":\"https://discoveratlanta.com/stories/things-to-do/cool-things-to-do-in-january-in-atlanta\",\"snippet\":\"ATLANTA, GA \\u2013 JANUARY 26: Trae Young #11 of the Atlanta Hawks drives to the basket against the LA Clippers on January 26, 2021 at State Farm Arena in Atlanta, Georgia. (Photo by Scott Cunningham/NBAE via Getty Images) We know Atlanta sports teams are No. 1. So get your tickets to watch some great match-ups this month.\",\"thumbnailUrl\":\"https://www.bing.com/th?id=OIP.aU9EcatRnz4MDkIKyYbkQgHaD4\\u0026w=80\\u0026h=80\\u0026c=1\\u0026pid=5.1\"},{\"name\":\"Explore Atlanta Events for Today, This Week or Weekend\",\"url\":\"https://discoveratlanta.com/events/main/\",\"displayUrl\":\"https://discoveratlanta.com/events\",\"snippet\":\"Explore the Atlanta events calendar for things to do today, this week or this weekend. Find upcoming festivals, seasonal events and more! ... Multiple dates until 01/18/2025. Atlanta\\u2019s Youth Basketball League 12/29/24 \\u2013 12/30/24. ... Tree Tour: History, Change on the Atlanta Beltline 1/11/25. January 12. Sunday. NFC Brew Jitsu #3 at Monday ...\",\"thumbnailUrl\":\"https://www.bing.com/th?id=OIP.FkxSV6JbrWatsFMM3_8dIAHaEh\\u0026w=80\\u0026h=80\\u0026c=1\\u0026pid=5.1\"},{\"name\":\"11 Best Things to do in Atlanta in January 2025 - itsjanasoli\",\"url\":\"https://itsjanasoli.com/things-to-do-in-atlanta-in-january/\",\"displayUrl\":\"https://itsjanasoli.com/things-to-do-in-atlanta-in-january\",\"snippet\":\"Wrapping up Things to do in Atlanta in January 2025. There are tons of things to do in Atlanta in January. The city of Atlanta comes alive in the new year, and whether you want indoor or outdoor events, you\\u2019ll have endless entertainment. Consider us your local guide for everything Atlanta and east coast travel.\"},{\"name\":\"20 free things to do in metro Atlanta in January\",\"url\":\"https://www.accessatlanta.com/atlanta-things-to-do/20-free-things-to-do-in-metro-atlanta-in-january/Q3EOZY6OHBE2HLT4QN5ZIBLBQU/\",\"displayUrl\":\"https://www.accessatlanta.com/atlanta-things-to-do/20-free-things-to-do-in-metro...\",\"snippet\":\"Here are 20 of the best things to do in Atlanta in January that are totally free. ... Kick off 2025 in style with Yoga \\u0026 Sound at ... Date: Saturday, Jan. 11; Time: 9-10:30 a.m. Bearing Witness ...\",\"thumbnailUrl\":\"https://www.bing.com/th?id=OIF.D7TspzC8FCu49gY46WNjCQ\\u0026w=80\\u0026h=80\\u0026c=1\\u0026pid=5.1\"},{\"name\":\"20 Absolutely Fantastic Things To Do In Atlanta This January\",\"url\":\"https://secretatlanta.co/things-to-do-january/\",\"displayUrl\":\"https://secretatlanta.co/things-to-do-january\",\"snippet\":\"If you\\u2019re looking for some fun things to do around Atlanta this January, don\\u2019t worry, we\\u2019ve got ya covered! Keep scrolling to see all the best things to do this January in Atlanta! 1. Center yourself at Oasis at the High Museum of Art High Museum of Art. If you\\u2019re looking to be more peaceful in 2025, then you\\u2019re in luck!\",\"thumbnailUrl\":\"https://www.bing.com/th?id=OIP.5lOsdA8tsTOgx5qTd465YAAAAA\\u0026w=80\\u0026h=80\\u0026c=1\\u0026pid=5.1\"}]},\"images\":{\"value\":[{\"thumbnailUrl\":\"https://tse1.mm.bing.net/th?id=OIP.5jERbhhnl8LiECUQySoRYAHaG1\\u0026pid=Api\",\"contentUrl\":\"https://uphomes.com/storage/blogposts/February2023/medium/RKuDJcqErH176HD3LyWV.png\",\"hostPageUrl\":\"https://uphomes.com/blog/things-to-do-atlanta-ga/\"},{\"thumbnailUrl\":\"https://tse1.mm.bing.net/th?id=OIP.EwTRMK2YnFak4c4zUFMiVAHaHa\\u0026pid=Api\",\"contentUrl\":\"https://unexpectedatlanta.com/wp-content/uploads/2022/09/Things-to-Do-in-Downtown-Atlanta.png\",\"hostPageUrl\":\"https://unexpectedatlanta.com/things-to-do-in-downtown-atlanta/\"},{\"thumbnailUrl\":\"https://tse1.mm.bing.net/th?id=OIP.yRC0krj1Jbi8qtYhSLLimgHaE8\\u0026pid=Api\",\"contentUrl\":\"https://lp-cms-production.imgix.net/2021-05/GettyRF_486068945.jpg?auto=compress\\u0026fit=crop\\u0026fm=auto\\u0026sharp=10\\u0026vib=20\\u0026w=1200\\u0026h=800\",\"hostPageUrl\":\"https://www.lonelyplanet.com/articles/top-things-to-do-in-atlanta\"},{\"thumbnailUrl\":\"https://tse1.mm.bing.net/th?id=OIP.6_fMiPMrfeqD9K0vgkdR6QHaE8\\u0026pid=Api\",\"contentUrl\":\"https://www.getawaymavens.com/wp-content/uploads/2019/01/Westin-Peachtree-Atlanta.jpg\",\"hostPageUrl\":\"https://www.getawaymavens.com/downtown-atlanta/\"},{\"thumbnailUrl\":\"https://tse1.mm.bing.net/th?id=OIP.Fe-J-AR_X-7c4ZeUHVaHwQAAAA\\u0026pid=Api\",\"contentUrl\":\"https://www.acaponeconnection.com/wp-content/uploads/2022/05/All-the-Fun-Things-to-Do-in-Atlanta-Georgia-1.jpg\",\"hostPageUrl\":\"https://www.acaponeconnection.com/all-the-fun-things-to-do-in-atlanta-georgia/\"},{\"thumbnailUrl\":\"https://tse1.mm.bing.net/th?id=OIP.W-gOzzcskaYfPXC3whhXOgHaLH\\u0026pid=Api\",\"contentUrl\":\"https://www.busytourist.com/wp-content/uploads/2020/07/best-things-to-do-in-Atlanta-GA-1.jpg\",\"hostPageUrl\":\"https://www.busytourist.com/things-to-do-in-atlanta-ga/\"},{\"thumbnailUrl\":\"https://tse1.mm.bing.net/th?id=OIP.eKakKX-7lUL-8AAx78alPQHaHa\\u0026pid=Api\",\"contentUrl\":\"https://unexpectedatlanta.com/wp-content/uploads/2023/04/The-Best-Things-to-Do-in-Midtown-Atlanta.png\",\"hostPageUrl\":\"https://unexpectedatlanta.com/best-things-to-do-midtown-atlanta/\"},{\"thumbnailUrl\":\"https://tse1.mm.bing.net/th?id=OIP.dOF_E14DjBhURGyO3gpUPAHaE8\\u0026pid=Api\",\"contentUrl\":\"https://www.travelandleisure.com/thmb/vWy4TaS7bYto1vVS6vmZsrxZzY0=/1800x1200/filters:fill(auto,1)/atlanta-skyline-TODOATL0122-195afa04632e43f5be27ef2dcc94ca3b.jpg\",\"hostPageUrl\":\"https://www.travelandleisure.com/attractions/best-things-to-do-in-atlanta-georgia\"},{\"thumbnailUrl\":\"https://tse1.mm.bing.net/th?id=OIP.vjZ_V7Yjzfqyphfsj_SBjgHaEK\\u0026pid=Api\",\"contentUrl\":\"https://daytripqueen.com/wp-content/uploads/2021/07/Free-things-to-do-in-Atlanta.jpg\",\"hostPageUrl\":\"https://daytripqueen.com/free-things-to-do-in-atlanta/\"},{\"thumbnailUrl\":\"https://tse1.mm.bing.net/th?id=OIP.QzxRYsvq-SWPZ-nndzHXNAHaLH\\u0026pid=Api\",\"contentUrl\":\"https://365atlantatraveler.com/wp-content/uploads/2019/03/things-to-do-atlanta.jpg\",\"hostPageUrl\":\"https://telegra.ph/Asian-senior-citizen-activities-atlanta-03-12\"},{\"thumbnailUrl\":\"https://tse1.mm.bing.net/th?id=OIP.jU8QTHjizge3CjySqF-SrwHaE7\\u0026pid=Api\",\"contentUrl\":\"https://a.cdn-hotels.com/gdcs/production140/d580/4881c5aa-5a32-4a10-8fed-9617f9926700.jpg\",\"hostPageUrl\":\"https://www.hoteles.com/go/usa/things-to-do-atlanta\"},{\"thumbnailUrl\":\"https://tse1.mm.bing.net/th?id=OIP.Twqjja_QS8r-DEoNYr3kzAHaEK\\u0026pid=Api\",\"contentUrl\":\"https://i.ytimg.com/vi/Vl6GPUuj1mc/maxresdefault.jpg\",\"hostPageUrl\":\"https://www.youtube.com/watch?v=Vl6GPUuj1mc\"},{\"thumbnailUrl\":\"https://tse1.mm.bing.net/th?id=OIP.FFnn7XEC9iNqbbTqDM01LQHaD3\\u0026pid=Api\",\"contentUrl\":\"https://www.busytourist.com/wp-content/uploads/2020/07/things-to-do-in-Atlanta-803x420.jpg\",\"hostPageUrl\":\"https://www.busytourist.com/things-to-do-in-atlanta-ga/\"},{\"thumbnailUrl\":\"https://tse1.mm.bing.net/th?id=OIP.871ZuXzoIw6hj9MiYEOM8AHaDt\\u0026pid=Api\",\"contentUrl\":\"https://www.familyvacationcritic.com/wp-content/uploads/sites/19/2019/11/atlanta-centennial-park-hero-1280x640.jpg\",\"hostPageUrl\":\"https://www.familyvacationcritic.com/free-things-to-do-in-atlanta-with-kids/art/\"},{\"thumbnailUrl\":\"https://tse1.mm.bing.net/th?id=OIP.ENao3rD4rUbnHGA6QJHXYgAAAA\\u0026pid=Api\",\"contentUrl\":\"https://res.cloudinary.com/hz3gmuqw6/image/upload/c_fill,q_auto,w_750/f_auto/things-to-do-in-atlanta-phpWlZ13b\",\"hostPageUrl\":\"https://www.cozymeal.com/magazine/things-to-do-in-atlanta\"},{\"thumbnailUrl\":\"https://tse1.mm.bing.net/th?id=OIP.VOzVfWJV7_6joNkGhLP7AAHaLH\\u0026pid=Api\",\"contentUrl\":\"https://i.pinimg.com/originals/ce/c5/25/cec525ba57be0022de5d70d1a1f3dd88.jpg\",\"hostPageUrl\":\"https://www.pinterest.com/pin/277393658288987671/\"},{\"thumbnailUrl\":\"https://tse1.mm.bing.net/th?id=OIP.U9xvQMbjg9T0YiriayftJAHaLH\\u0026pid=Api\",\"contentUrl\":\"https://www.busytourist.com/wp-content/uploads/2020/07/Things-To-Do-In-Atlanta-pin1.jpg\",\"hostPageUrl\":\"https://www.busytourist.com/things-to-do-in-atlanta-ga/\"},{\"thumbnailUrl\":\"https://tse1.mm.bing.net/th?id=OIP.PzRE6SJDtJ9H3Z9jEfK5cAHaE8\\u0026pid=Api\",\"contentUrl\":\"https://image.jimcdn.com/app/cms/image/transf/dimension=640x10000:format=jpg/path/s9524a0afdc5b40b0/image/i88ad01ce4abaee84/version/1483187737/8-fun-things-to-do-in-atlanta-travel-city-guide-via-just1wayticket.jpg\",\"hostPageUrl\":\"https://www.justonewayticket.com/2016/06/14/8-fun-things-to-do-in-atlanta/\"},{\"thumbnailUrl\":\"https://tse1.mm.bing.net/th?id=OIP.JIWcXtQtpq7A0DXTjwLQiwHaLG\\u0026pid=Api\",\"contentUrl\":\"https://i.pinimg.com/736x/fc/4a/d2/fc4ad281802906d1cfde53017a3e4dcf.jpg\",\"hostPageUrl\":\"https://www.pinterest.com/pin/744079169673803460/\"},{\"thumbnailUrl\":\"https://tse1.mm.bing.net/th?id=OIP.rwusIbKd5bywaoWEipraFwAAAA\\u0026pid=Api\",\"contentUrl\":\"https://www.smartertravel.com/wp-content/uploads/2016/08/Atlanta-1-1024x683.jpg\",\"hostPageUrl\":\"https://www.smartertravel.com/things-to-do-in-atlanta/\"}]}}\n",
       "```\n",
       "\n",
       "I called the tool named crawl with these arguments:\n",
       "```\n",
       "{\"q\": \"things to do in Atlanta on 2025-01-18\", \"answerCount\": 5, \"textFormat\": \"Raw\"}\n",
       "```\n",
       "and got this result:\n",
       "```\n",
       "{\"queryContext\":{\"originalQuery\":\"things to do in Atlanta on 2025-01-18\"},\"webPages\":{\"value\":[{\"name\":\"Atlanta Events January 2025: Concerts, Shows, Sports...\",\"url\":\"https://atlanta-ga.events/january/\",\"displayUrl\":\"https://atlanta-ga.events/january\",\"snippet\":\"Explore our comprehensive calendar for all the current and upcoming events in Atlanta, GA, for January 2025. This guide is your gateway to discovering the best things to do in Atlanta, from Concerts and Theater Shows to Sports events and music festivals. You\\u2019ll find a detailed list of all the most engaging and exciting activities happening throughout the month.\",\"thumbnailUrl\":\"https://www.bing.com/th?id=OIP.ytkv04WKv8RTyYo4_DsP4gHaHa\\u0026w=80\\u0026h=80\\u0026c=1\\u0026pid=5.1\"},{\"name\":\"Atlanta Events \\u2013 January 2025 - Go South Atlanta\",\"url\":\"https://gosouthatlanta.com/things-to-do/events/atlanta-in-january.html\",\"displayUrl\":\"https://gosouthatlanta.com/things-to-do/events/atlanta-in-january.html\",\"snippet\":\"Things to do in Atlanta, GA in January: calendar of upcoming festivals, Martin Luther King Day events, comedy, musicals, races, conventions, and other events. Go South! ... January 18-20 2025. \\u2192 For concerts this week, see concerts in Atlanta in January \\u2013 IllumiNights, November 14 2024 - January 19 2025 ...\",\"thumbnailUrl\":\"https://www.bing.com/th?id=OIP.xm-3dn3hYJZHsVVU9WO5qwHaD4\\u0026w=80\\u0026h=80\\u0026c=1\\u0026pid=5.1\"},{\"name\":\"Fun, Free Activities for Kids in January 2025: 15 Free Things To Do in ...\",\"url\":\"https://www.msn.com/en-us/sports/other/fun-free-activities-for-kids-in-january-2025-15-free-things-to-do-in-atlanta-with-kids/ar-AA1mOEey\",\"displayUrl\":\"https://www.msn.com/en-us/sports/other/fun-free-activities-for-kids-in-january-2025-15...\",\"snippet\":\"Free Things to Do with Kids in Atlanta January 2025. Chick-fil-A Peach Bowl Fan Fest Downtown. ... January 18, 2025. Mini-DIYers head to Lowe\\u2019s to attend a workshop hosted by a Lowes employee ...\"},{\"name\":\"Events \\u0026 Things To Do in Atlanta in 2025 - AllEvents.in\",\"url\":\"https://allevents.in/atlanta/january\",\"displayUrl\":\"https://allevents.in/atlanta/january\",\"snippet\":\"Find events and things to do in January 2025 in Atlanta. Discover parties, concerts, meets, shows, sports, club, reunion, Performance happening in January 2024 in Atlanta. ... 31 Dec-01 Jan 17 interested. Free . TUESDAY CONTENT CLUB ... Atlanta: 18 Jan 2025: Electric Avenue at Variety Playhouse: Variety Playhouse, Atlanta:\"},{\"name\":\"Cool Things To Do in January in Atlanta\",\"url\":\"https://discoveratlanta.com/stories/things-to-do/cool-things-to-do-in-january-in-atlanta/\",\"displayUrl\":\"https://discoveratlanta.com/stories/things-to-do/cool-things-to-do-in-january-in-atlanta\",\"snippet\":\"Find cool things to do in Atlanta during the month of January, from annual festivals to seasonal activities, theatrical performances, and more! ... Jan. 16-18. Music for the Very Young \\u2013 The Lion and the Mouse: A Musical Tale for Little Ears, Jan. 18-19 ... 2025 marks the 100th anniversary of Delta Air Lines. Stop by the Delta Flight Museum ...\",\"thumbnailUrl\":\"https://www.bing.com/th?id=OIP.aU9EcatRnz4MDkIKyYbkQgHaD4\\u0026w=80\\u0026h=80\\u0026c=1\\u0026pid=5.1\"},{\"name\":\"20 free things to do in metro Atlanta in January\",\"url\":\"https://www.accessatlanta.com/atlanta-things-to-do/20-free-things-to-do-in-metro-atlanta-in-january/Q3EOZY6OHBE2HLT4QN5ZIBLBQU/\",\"displayUrl\":\"https://www.accessatlanta.com/atlanta-things-to-do/20-free-things-to-do-in-metro...\",\"snippet\":\"Here are 20 of the best things to do in Atlanta in January that ... there\\u2019s no shortage of opportunities to kick-start 2025 with purpose and fun. ... Date: Saturday, Jan 18; Time: 10 a.m. to 4 p ...\",\"thumbnailUrl\":\"https://www.bing.com/th?id=OIF.D7TspzC8FCu49gY46WNjCQ\\u0026w=80\\u0026h=80\\u0026c=1\\u0026pid=5.1\"},{\"name\":\"Atlanta, GA Events, Calendar \\u0026 Tickets | Eventbrite\",\"url\":\"https://www.eventbrite.com/d/ga--atlanta/events/\",\"displayUrl\":\"https://www.eventbrite.com/d/ga--atlanta\",\"snippet\":\"MEDUZA | Saturday January 18th 2025 | District Atlanta. Sat, Jan 18 \\u2022 10:00 PM . District Atlanta. Check ticket price on event. Save this event: MEDUZA ... Atlanta 2025 Share this event: From Day One: Atlanta 2025. Women in Tech Atlanta - OutGeekWomen. Wed, Feb 12 \\u2022 6:00 PM . Downtown Atlanta. Check ticket price on event.\",\"thumbnailUrl\":\"https://www.bing.com/th?id=OIP.xxAFV0hk4NeYjq9iEDChogHaEw\\u0026w=80\\u0026h=80\\u0026c=1\\u0026pid=5.1\"},{\"name\":\"Atlanta January 2025: Events, Concerts, Clubs \\u0026 Things to Do - Experism\",\"url\":\"https://www.experism.com/atlanta/january\",\"displayUrl\":\"https://www.experism.com/atlanta/january\",\"snippet\":\"Don\\u2019t miss the Atlanta\\u0027s 2025 Chick-fil-A Peach Bowl on January 1. As one of college football\\u2019s premier postseason games, the Peach Bowl brings together two of the nation\\u2019s top teams for a gridiron showdown at Mercedes-Benz Stadium. The Peach Bowl experience includes pre-game festivities, live entertainment, and interactive fan zones.\",\"thumbnailUrl\":\"https://www.bing.com/th?id=OIP.WKXWyOtbF2Q-oMmg6Y-HiQHaE8\\u0026w=80\\u0026h=80\\u0026c=1\\u0026pid=5.1\"},{\"name\":\"11 Best Things to do in Atlanta in January 2025 - itsjanasoli\",\"url\":\"https://itsjanasoli.com/things-to-do-in-atlanta-in-january/\",\"displayUrl\":\"https://itsjanasoli.com/things-to-do-in-atlanta-in-january\",\"snippet\":\"Wrapping up Things to do in Atlanta in January 2025. There are tons of things to do in Atlanta in January. The city of Atlanta comes alive in the new year, and whether you want indoor or outdoor events, you\\u2019ll have endless entertainment. Consider us your local guide for everything Atlanta and east coast travel.\"},{\"name\":\"20 Absolutely Fantastic Things To Do In Atlanta This January\",\"url\":\"https://secretatlanta.co/things-to-do-january/\",\"displayUrl\":\"https://secretatlanta.co/things-to-do-january\",\"snippet\":\"If you\\u2019re looking for some fun things to do around Atlanta this January, don\\u2019t worry, we\\u2019ve got ya covered! Keep scrolling to see all the best things to do this January in Atlanta! 1. Center yourself at Oasis at the High Museum of Art High Museum of Art. If you\\u2019re looking to be more peaceful in 2025, then you\\u2019re in luck!\",\"thumbnailUrl\":\"https://www.bing.com/th?id=OIP.5lOsdA8tsTOgx5qTd465YAAAAA\\u0026w=80\\u0026h=80\\u0026c=1\\u0026pid=5.1\"}]}}\n",
       "```\n",
       "\n",
       "I called the tool named crawl with these arguments:\n",
       "```\n",
       "{\"q\": \"things to do in Atlanta on 2025-01-25\", \"answerCount\": 5, \"textFormat\": \"Raw\"}\n",
       "```\n",
       "and got this result:\n",
       "```\n",
       "{\"queryContext\":{\"originalQuery\":\"things to do in Atlanta on 2025-01-25\"},\"webPages\":{\"value\":[{\"name\":\"Atlanta Events January 2025: Concerts, Shows, Sports...\",\"url\":\"https://atlanta-ga.events/january/\",\"displayUrl\":\"https://atlanta-ga.events/january\",\"snippet\":\"Explore our comprehensive calendar for all the current and upcoming events in Atlanta, GA, for January 2025. This guide is your gateway to discovering the best things to do in Atlanta, from Concerts and Theater Shows to Sports events and music festivals. You\\u2019ll find a detailed list of all the most engaging and exciting activities happening throughout the month.\",\"thumbnailUrl\":\"https://www.bing.com/th?id=OIP.ytkv04WKv8RTyYo4_DsP4gHaHa\\u0026w=80\\u0026h=80\\u0026c=1\\u0026pid=5.1\"},{\"name\":\"Atlanta Events \\u2013 January 2025 - Go South Atlanta\",\"url\":\"https://gosouthatlanta.com/things-to-do/events/atlanta-in-january.html\",\"displayUrl\":\"https://gosouthatlanta.com/things-to-do/events/atlanta-in-january.html\",\"snippet\":\"Things to do in Atlanta, GA in January: calendar of upcoming festivals, Martin Luther King Day events, comedy, musicals, races, conventions, and other events. ... January 25 2025 Special event at the Atlanta Botanical Garden, with speakers and plant sale. More details \\u2013 Gals on the Go, January 25 2025\",\"thumbnailUrl\":\"https://www.bing.com/th?id=OIP.xm-3dn3hYJZHsVVU9WO5qwHaD4\\u0026w=80\\u0026h=80\\u0026c=1\\u0026pid=5.1\"},{\"name\":\"25 Reasons to Visit Atlanta in 2025\",\"url\":\"https://discoveratlanta.com/stories/things-to-do/25-reasons-to-visit-atlanta-in-2025/\",\"displayUrl\":\"https://discoveratlanta.com/stories/things-to-do/25-reasons-to-visit-atlanta-in-2025\",\"snippet\":\"The Atlanta Chinese Dance Company performs on stage on Jan. 25,2025, at Aurora Children\\u2019s Playhouse. Here are more ways to celebrate Chinese New Year in Atlanta. Spring Festivals. Atlanta Film Festival 2025 takes place April 24 through May 4, 2025, at the Plaza Theatre \\u0026 Tara Theatre.\"},{\"name\":\"Fun, Free Activities for Kids in January 2025: 15 Free Things To Do in ...\",\"url\":\"https://www.msn.com/en-us/sports/other/fun-free-activities-for-kids-in-january-2025-15-free-things-to-do-in-atlanta-with-kids/ar-AA1mOEey\",\"displayUrl\":\"https://www.msn.com/en-us/sports/other/fun-free-activities-for-kids-in-january-2025-15...\",\"snippet\":\"Free Things to Do with Kids in Atlanta January 2025. Chick-fil-A Peach Bowl Fan Fest ... January 25, 2025. Atlanta Motor Speedway is inviting fans to come see the historic speedway for themselves ...\"},{\"name\":\"Events \\u0026 Things To Do in Atlanta in 2025 - AllEvents.in\",\"url\":\"https://allevents.in/atlanta/january\",\"displayUrl\":\"https://allevents.in/atlanta/january\",\"snippet\":\"Find events and things to do in January 2025 in Atlanta. Discover parties, concerts, meets, shows, sports, club, reunion, Performance happening in January 2024 in Atlanta. ... Sat, 25 Jan Trending events in january in Atlanta. Featured. NYE in the ATL 2025 : New Year\\u0027s Eve Atlanta Crowne Plaza Atlanta Perimeter at Ravinia 31 Dec-01 Jan ...\"},{\"name\":\"Atlanta January 2025: Events, Concerts, Clubs \\u0026 Things to Do - Experism\",\"url\":\"https://www.experism.com/atlanta/january\",\"displayUrl\":\"https://www.experism.com/atlanta/january\",\"snippet\":\"Don\\u2019t miss the Atlanta\\u0027s 2025 Chick-fil-A Peach Bowl on January 1. As one of college football\\u2019s premier postseason games, the Peach Bowl brings together two of the nation\\u2019s top teams for a gridiron showdown at Mercedes-Benz Stadium. The Peach Bowl experience includes pre-game festivities, live entertainment, and interactive fan zones.\",\"thumbnailUrl\":\"https://www.bing.com/th?id=OIP.WKXWyOtbF2Q-oMmg6Y-HiQHaE8\\u0026w=80\\u0026h=80\\u0026c=1\\u0026pid=5.1\"},{\"name\":\"20 free things to do in metro Atlanta in January\",\"url\":\"https://www.accessatlanta.com/atlanta-things-to-do/20-free-things-to-do-in-metro-atlanta-in-january/Q3EOZY6OHBE2HLT4QN5ZIBLBQU/\",\"displayUrl\":\"https://www.accessatlanta.com/atlanta-things-to-do/20-free-things-to-do-in-metro...\",\"snippet\":\"Here are 20 of the best things to do in Atlanta in January that are totally free. ... Kick off 2025 in style with Yoga \\u0026 Sound at The Westin ... Saturday, Jan. 25; Time: 9 a.m. Salsa Dancing Class ...\"},{\"name\":\"Events In Atlanta 2024-2025 - Go South Atlanta\",\"url\":\"https://gosouthatlanta.com/things-to-do/events/atlanta-festivals.html\",\"displayUrl\":\"https://gosouthatlanta.com/things-to-do/events/atlanta-festivals.html\",\"snippet\":\"\\u2192 See more December events in Atlanta or December concerts in Atlanta. January 2025 \\u2013 Garden Lights, Holiday Nights, November 16 2024 - January 12 2025 ... More details \\u2013 Lunar New Year Festival, January 25 - February 9 2025 Asian-inspired festival at Stone Mountain Park, with drone and light show, lighted parade, cultural craft ...\",\"thumbnailUrl\":\"https://www.bing.com/th?id=OIP.1kWLxDO_JldjYbZyTlfSrQAAAA\\u0026w=80\\u0026h=80\\u0026c=1\\u0026pid=5.1\"},{\"name\":\"11 Best Things to do in Atlanta in January 2025 - itsjanasoli\",\"url\":\"https://itsjanasoli.com/things-to-do-in-atlanta-in-january/\",\"displayUrl\":\"https://itsjanasoli.com/things-to-do-in-atlanta-in-january\",\"snippet\":\"Best indoor events in Atlanta in January; Best outdoor events in Atlanta in January . Best Things to do in Atlanta in January. We\\u2019re breaking down the best activities and events across Atlanta in January. Keep reading to discover Atlanta\\u2019s top events and venues in the new year. Martin Luther King Jr Day. Event dates: MLK Day is Monday ...\"},{\"name\":\"Concerts In Atlanta, January 2025 - Go South Atlanta\",\"url\":\"https://gosouthatlanta.com/things-to-do/events/atlanta-concerts-january.html\",\"displayUrl\":\"https://gosouthatlanta.com/things-to-do/events/atlanta-concerts-january.html\",\"snippet\":\"Concerts On Sunday January 19 2025 \\u2013 SWAG Gospel at Atlanta Symphony Hall. More details. Concerts On Monday January 20 2025. Concerts today to be confirmed. ... Concerts On Saturday January 25 2025 \\u2013 Beethoven Project: Symphonies 1 \\u002B 3 at Atlanta Symphony Hall. More details \\u2013 Jackson Country Line at Eddie\\u2019s Attic, Decatur.\"}]},\"images\":{\"value\":[{\"thumbnailUrl\":\"https://tse1.mm.bing.net/th?id=OIP.5jERbhhnl8LiECUQySoRYAHaG1\\u0026pid=Api\",\"contentUrl\":\"https://uphomes.com/storage/blogposts/February2023/medium/RKuDJcqErH176HD3LyWV.png\",\"hostPageUrl\":\"https://uphomes.com/blog/things-to-do-atlanta-ga/\"},{\"thumbnailUrl\":\"https://tse1.mm.bing.net/th?id=OIP.W-gOzzcskaYfPXC3whhXOgHaLH\\u0026pid=Api\",\"contentUrl\":\"https://www.busytourist.com/wp-content/uploads/2020/07/best-things-to-do-in-Atlanta-GA-1.jpg\",\"hostPageUrl\":\"https://www.busytourist.com/things-to-do-in-atlanta-ga/\"},{\"thumbnailUrl\":\"https://tse1.mm.bing.net/th?id=OIP.y60M5u48x8RyXKH9Rs_4vgAAAA\\u0026pid=Api\",\"contentUrl\":\"https://foodtoursatlanta.com/wp-content/uploads/2021/09/Blue-Engagement-Essentials-Blog-Banner-1024x576.png\",\"hostPageUrl\":\"https://foodtoursatlanta.com/33-things-to-do-in-atlanta/\"},{\"thumbnailUrl\":\"https://tse1.mm.bing.net/th?id=OIP.EwTRMK2YnFak4c4zUFMiVAHaHa\\u0026pid=Api\",\"contentUrl\":\"https://unexpectedatlanta.com/wp-content/uploads/2022/09/Things-to-Do-in-Downtown-Atlanta.png\",\"hostPageUrl\":\"https://unexpectedatlanta.com/things-to-do-in-downtown-atlanta/\"},{\"thumbnailUrl\":\"https://tse1.mm.bing.net/th?id=OIP.unmT01rPD7si8w-n3kzOXgHaHa\\u0026pid=Api\",\"contentUrl\":\"https://cdn2.storyasset.link/5f018ed1-7c8d-49e0-9d76-582219d18631/Untitled%20design%20-1-ms-rtheoozqlb.jpg\",\"hostPageUrl\":\"https://tripononline.com/web-stories/ultimate-things-to-do-in-atlanta-ga/\"},{\"thumbnailUrl\":\"https://tse1.mm.bing.net/th?id=OIP.Fe-J-AR_X-7c4ZeUHVaHwQAAAA\\u0026pid=Api\",\"contentUrl\":\"https://www.acaponeconnection.com/wp-content/uploads/2022/05/All-the-Fun-Things-to-Do-in-Atlanta-Georgia-1.jpg\",\"hostPageUrl\":\"https://www.acaponeconnection.com/all-the-fun-things-to-do-in-atlanta-georgia/\"},{\"thumbnailUrl\":\"https://tse1.mm.bing.net/th?id=OIP.SeKsuJEAl7i4y99RBVdFjAHaE7\\u0026pid=Api\",\"contentUrl\":\"https://tds.indianeagle.com/wp-content/uploads/2023/11/Things-To-Do-in-Atlanta-1.png\",\"hostPageUrl\":\"https://www.thecommongroundnetwork.com/blog/international-travel/discover-best-things-to-do-in-atlanta/\"},{\"thumbnailUrl\":\"https://tse1.mm.bing.net/th?id=OIP.8B9LmuRXqgsRTEY6n_RNlAHaHa\\u0026pid=Api\",\"contentUrl\":\"https://unexpectedatlanta.com/wp-content/uploads/2023/06/The-Best-Things-to-Do-in-Atlanta.png\",\"hostPageUrl\":\"https://unexpectedatlanta.com/atlanta-event-calendar/\"},{\"thumbnailUrl\":\"https://tse1.mm.bing.net/th?id=OIP.BawFpewdQrecAtgiS9AiOAHaHa\\u0026pid=Api\",\"contentUrl\":\"https://unexpectedatlanta.com/wp-content/uploads/2023/04/The-Best-Things-to-Do-in-Midtown-Atlanta-500x500.png\",\"hostPageUrl\":\"https://unexpectedatlanta.com/best-things-to-do-midtown-atlanta/\"},{\"thumbnailUrl\":\"https://tse1.mm.bing.net/th?id=OIP.ENao3rD4rUbnHGA6QJHXYgAAAA\\u0026pid=Api\",\"contentUrl\":\"https://res.cloudinary.com/hz3gmuqw6/image/upload/c_fill,q_auto,w_750/f_auto/things-to-do-in-atlanta-phpWlZ13b\",\"hostPageUrl\":\"https://www.cozymeal.com/magazine/things-to-do-in-atlanta\"},{\"thumbnailUrl\":\"https://tse1.mm.bing.net/th?id=OIP.VX9GFXDDPaUhlk5Ajz2jFAHaLH\\u0026pid=Api\",\"contentUrl\":\"https://www.busytourist.com/wp-content/uploads/2020/07/best-things-to-do-in-Atlanta-GA-1-2.jpg\",\"hostPageUrl\":\"https://www.busytourist.com/things-to-do-in-atlanta-ga/\"},{\"thumbnailUrl\":\"https://tse1.mm.bing.net/th?id=OIP.OD8mHt8EuAz_-Rm6pRiOFwHaEK\\u0026pid=Api\",\"contentUrl\":\"https://i.ytimg.com/vi/2ufhW2kEYro/maxresdefault.jpg\",\"hostPageUrl\":\"https://www.youtube.com/watch?v=2ufhW2kEYro\"},{\"thumbnailUrl\":\"https://tse1.mm.bing.net/th?id=OIP.871ZuXzoIw6hj9MiYEOM8AHaDt\\u0026pid=Api\",\"contentUrl\":\"https://www.familyvacationcritic.com/wp-content/uploads/sites/19/2019/11/atlanta-centennial-park-hero-1280x640.jpg\",\"hostPageUrl\":\"https://www.familyvacationcritic.com/free-things-to-do-in-atlanta-with-kids/art/\"},{\"thumbnailUrl\":\"https://tse1.mm.bing.net/th?id=OIP.vjZ_V7Yjzfqyphfsj_SBjgHaEK\\u0026pid=Api\",\"contentUrl\":\"https://daytripqueen.com/wp-content/uploads/2021/07/Free-things-to-do-in-Atlanta.jpg\",\"hostPageUrl\":\"https://daytripqueen.com/free-things-to-do-in-atlanta/\"},{\"thumbnailUrl\":\"https://tse1.mm.bing.net/th?id=OIP.FFnn7XEC9iNqbbTqDM01LQHaD3\\u0026pid=Api\",\"contentUrl\":\"https://www.busytourist.com/wp-content/uploads/2020/07/things-to-do-in-Atlanta-803x420.jpg\",\"hostPageUrl\":\"https://www.busytourist.com/things-to-do-in-atlanta-ga/\"},{\"thumbnailUrl\":\"https://tse1.mm.bing.net/th?id=OIP.U9xvQMbjg9T0YiriayftJAHaLH\\u0026pid=Api\",\"contentUrl\":\"https://www.busytourist.com/wp-content/uploads/2020/07/Things-To-Do-In-Atlanta-pin1.jpg\",\"hostPageUrl\":\"https://www.busytourist.com/things-to-do-in-atlanta-ga/\"},{\"thumbnailUrl\":\"https://tse1.mm.bing.net/th?id=OIP.yRC0krj1Jbi8qtYhSLLimgHaE8\\u0026pid=Api\",\"contentUrl\":\"https://lp-cms-production.imgix.net/2021-05/GettyRF_486068945.jpg?auto=compress\\u0026fit=crop\\u0026fm=auto\\u0026sharp=10\\u0026vib=20\\u0026w=1200\\u0026h=800\",\"hostPageUrl\":\"https://www.lonelyplanet.com/articles/top-things-to-do-in-atlanta\"},{\"thumbnailUrl\":\"https://tse1.mm.bing.net/th?id=OIP.VOzVfWJV7_6joNkGhLP7AAHaLH\\u0026pid=Api\",\"contentUrl\":\"https://i.pinimg.com/originals/ce/c5/25/cec525ba57be0022de5d70d1a1f3dd88.jpg\",\"hostPageUrl\":\"https://www.pinterest.com/pin/277393658288987671/\"},{\"thumbnailUrl\":\"https://tse1.mm.bing.net/th?id=OIP.IqznTH1ocAOkn-XVKO4tyQHaL5\\u0026pid=Api\",\"contentUrl\":\"https://i.pinimg.com/originals/f5/05/8e/f5058e44214459ab6506002aee8aa99f.png\",\"hostPageUrl\":\"https://www.pinterest.jp/pin/101-best-things-to-do-in-atlanta-georgia-the-ultimate-attractions-guide--34480753388071714/\"},{\"thumbnailUrl\":\"https://tse1.mm.bing.net/th?id=OIP.zDsChx3osL1eGz8a5zpM-AHaLH\\u0026pid=Api\",\"contentUrl\":\"https://localadventurer.com/wp-content/uploads/2016/04/free-things-to-do-in-atlanta.jpg\",\"hostPageUrl\":\"https://localadventurer.com/free-things-to-do-in-atlanta/\"}]}}\n",
       "```\n",
       "\n",
       "I called the tool named ExtractContentFromUrl with these arguments:\n",
       "```\n",
       "{\"assistantName\": \"WebPageAgentAnt\", \"instructions\": \"List events and things to do in Atlanta on January 4, 2025. https://eventcartel.com/events/all-categories/atlanta/from_2025-01-04_to_2025-01-05\"}\n",
       "```\n",
       "and got this result:\n",
       "```\n",
       "\"NOT FOUND\"\n",
       "```\n",
       "\n",
       "I called the tool named ExtractContentFromUrl with these arguments:\n",
       "```\n",
       "{\"assistantName\": \"WebPageAgentAnt\", \"instructions\": \"List events and things to do in Atlanta on January 11, 2025. https://gosouthatlanta.com/things-to-do/events/atlanta-in-january.html\"}\n",
       "```\n",
       "and got this result:\n",
       "```\n",
       "\"On January 11, 2025, there are several events and activities happening in Atlanta:\\n\\n1. **Joe Gatto: Let\\u2019s Get Into It**\\n   - **Type:** Comedy Show\\n   - **Location:** Atlanta Symphony Hall\\n   - **More details:** [Joe Gatto Event](https://www.aso.org/events/detail/joe-gatto)\\n\\n2. **Last Podcast on the Left: JK Ultra Tour**\\n   - **Type:** Comedy Show\\n   - **Location:** Coca-Cola Roxy\\n   - **More details:** [Last Podcast Event](https://concerts.livenation.com/last-podcast-on-the-left-jk-atlanta-georgia-01-11-2025/event/0E0061581C407C26)\\n\\n3. **Atlanta Travel \\u0026 Adventure Show**\\n   - **Type:** Annual travel and tourism trade show\\n   - **Location:** Georgia International Convention Center\\n   - **More details:** [Travel \\u0026 Adventure Show](https://travelshows.com/shows/atlanta/)\\n\\n4. **Love\\u2019s Labour\\u2019s Lost**\\n   - **Type:** Play\\n   - **Location:** Shakespeare Tavern Playhouse\\n   - **More details:** [Love\\u0027s Labour\\u0027s Lost](https://www.shakespearetavern.com/on-stage/company/loves-labours-lost/)\\n\\nThese events offer a mix of entertainment and cultural experiences, making it a vibrant day to explore in Atlanta!\"\n",
       "```\n",
       "\n",
       "I called the tool named ExtractContentFromUrl with these arguments:\n",
       "```\n",
       "{\"assistantName\": \"WebPageAgentAnt\", \"instructions\": \"List events and things to do in Atlanta on January 18, 2025. https://gosouthatlanta.com/things-to-do/events/atlanta-in-january.html\"}\n",
       "```\n",
       "and got this result:\n",
       "```\n",
       "\"On January 18, 2025, in Atlanta, you can participate in the following events:\\n\\n1. **Martin Luther King Jr Day: She Shall Not Be Moved**\\n   - **Description**: A free special event at the Atlanta History Center to mark MLK Day, featuring the stories of women who shaped the Civil Rights Movement, along with children\\u0027s activities, exhibits, panel discussions, and more.\\n   - **More details**: [Atlanta History Center Event](https://www.atlantahistorycenter.com/event/mlk-day/)\\n\\n2. **Doctor De Soto**\\n   - **Description**: A children\\u0027s performance at Alliance Theatre.\\n   - **Date**: January 18 - March 2, 2025\\n   - **More details**: [Alliance Theatre Performance](https://www.alliancetheatre.org/production/2024-25/doctor-de-soto)\\n\\nThese events highlight significant cultural and educational opportunities in Atlanta on that date.\"\n",
       "```\n",
       "\n",
       "I called the tool named ExtractContentFromUrl with these arguments:\n",
       "```\n",
       "{\"assistantName\": \"WebPageAgentAnt\", \"instructions\": \"List events and things to do in Atlanta on January 25, 2025. https://gosouthatlanta.com/things-to-do/events/atlanta-in-january.html\"}\n",
       "```\n",
       "and got this result:\n",
       "```\n",
       "\"Here are the events and things to do in Atlanta on January 25, 2025:\\n\\n1. **Run With the Dogs**\\n   - Annual 5K and pet races in Decatur to benefit the Decatur Bulldogs Boosters.\\n   - [More details](http://www.rwtd5k.com)\\n\\n2. **Spring Gardening Symposium \\u0026 Plant Sale**\\n   - Special event at the Atlanta Botanical Garden, with speakers and plant sale.\\n   - [More details](https://atlantabg.org/calendar/spring-symposium-2025/)\\n\\n3. **Gals on the Go**\\n   - Podcast live show at Center Stage.\\n   - [More details](https://www.centerstage-atlanta.com/events/gals-on-the-go/)\\n\\n4. **Maria Bamford**\\n   - Comedy show at the Buckhead Theatre.\\n   - [More details](https://concerts.livenation.com/maria-bamford-atlanta-georgia-01-25-2025/event/0E00611B94352720)\\n\\n5. **Magician Rich Crawford**\\n   - Illusion show at Red Clay Music Foundry, Duluth.\\n   - [More details](https://eddieowenpresents.freshtix.com/events/richcrawford)\\n\\n6. **Lunar New Year Festival**\\n   - Asian-inspired festival at Stone Mountain Park, featuring a drone and light show, lighted parade, cultural craft activities, live performances, and other cultural activities.\\n   - [More details](https://stonemountainpark.com/activity/events/lunar-new-year/)\\n\\nThese events provide a variety of entertainment options, including outdoor activities, comedy shows, and cultural festivals.\"\n",
       "```\n",
       "\n",
       "Here are some exciting things to do in Atlanta over the next four weekends in January 2025, complete with details and links for more information.\n",
       "\n",
       "### Weekend of January 4, 2025\n",
       "Unfortunately, I couldn't retrieve specific events for this date. However, the following general link can provide a variety of activities happening that weekend:\n",
       "- [Events in Atlanta on January 4-5, 2025](https://eventcartel.com/events/all-categories/atlanta/from_2025-01-04_to_2025-01-05)\n",
       "\n",
       "### Weekend of January 11, 2025\n",
       "1. **Joe Gatto: Let’s Get Into It**\n",
       "   - **Type:** Comedy Show\n",
       "   - **Location:** Atlanta Symphony Hall\n",
       "   - **More details:** [Joe Gatto Event](https://www.aso.org/events/detail/joe-gatto)\n",
       "\n",
       "2. **Last Podcast on the Left: JK Ultra Tour**\n",
       "   - **Type:** Comedy Show\n",
       "   - **Location:** Coca-Cola Roxy\n",
       "   - **More details:** [Last Podcast Event](https://concerts.livenation.com/last-podcast-on-the-left-jk-atlanta-georgia-01-11-2025/event/0E0061581C407C26)\n",
       "\n",
       "3. **Atlanta Travel & Adventure Show**\n",
       "   - **Type:** Annual travel and tourism trade show\n",
       "   - **Location:** Georgia International Convention Center\n",
       "   - **More details:** [Travel & Adventure Show](https://travelshows.com/shows/atlanta/)\n",
       "\n",
       "4. **Love’s Labour’s Lost**\n",
       "   - **Type:** Play\n",
       "   - **Location:** Shakespeare Tavern Playhouse\n",
       "   - **More details:** [Love's Labour's Lost](https://www.shakespearetavern.com/on-stage/company/loves-labours-lost/)\n",
       "\n",
       "### Weekend of January 18, 2025\n",
       "1. **Martin Luther King Jr Day: She Shall Not Be Moved**\n",
       "   - **Description:** A free event at the Atlanta History Center featuring stories of women who shaped the Civil Rights Movement.\n",
       "   - **More details:** [Atlanta History Center Event](https://www.atlantahistorycenter.com/event/mlk-day/)\n",
       "\n",
       "2. **Doctor De Soto**\n",
       "   - **Description:** A children's performance at Alliance Theatre.\n",
       "   - **Date:** January 18 - March 2, 2025\n",
       "   - **More details:** [Alliance Theatre Performance](https://www.alliancetheatre.org/production/2024-25/doctor-de-soto)\n",
       "\n",
       "### Weekend of January 25, 2025\n",
       "1. **Run With the Dogs**\n",
       "   - **Event:** Annual 5K and pet races to benefit the Decatur Bulldogs Boosters.\n",
       "   - **More details:** [Run With the Dogs](http://www.rwtd5k.com)\n",
       "\n",
       "2. **Spring Gardening Symposium & Plant Sale**\n",
       "   - **Event:** Special event at the Atlanta Botanical Garden, with speakers and plant sale.\n",
       "   - **More details:** [Spring Gardening Symposium](https://atlantabg.org/calendar/spring-symposium-2025/)\n",
       "\n",
       "3. **Gals on the Go**\n",
       "   - **Event:** Podcast live show at Center Stage.\n",
       "   - **More details:** [Gals on the Go](https://www.centerstage-atlanta.com/events/gals-on-the-go/)\n",
       "\n",
       "4. **Maria Bamford**\n",
       "   - **Event:** Comedy show at the Buckhead Theatre.\n",
       "   - **More details:** [Maria Bamford](https://concerts.livenation.com/maria-bamford-atlanta-georgia-01-25-2025/event/0E00611B94352720)\n",
       "\n",
       "5. **Lunar New Year Festival**\n",
       "   - **Event:** Asian-inspired festival at Stone Mountain Park with cultural activities.\n",
       "   - **More details:** [Lunar New Year Festival](https://stonemountainpark.com/activity/events/lunar-new-year/)\n",
       "\n",
       "These events showcase a variety of entertainment options, from comedy shows to cultural festivals, making each weekend an opportunity for fun and exploration in Atlanta!\n"
      ]
     },
     "metadata": {},
     "output_type": "display_data"
    }
   ],
   "source": [
    "assistantRunOptions = new AssistantRunOptions() {\n",
    "    AssistantName = \"WebSearchAgentAnt\",\n",
    "    Instructions = \"Use python to get todays date and then use it to find things to do in Atlanta for each of the next four weekends with pictures and correct links from ExtractContentFromUrl.\\n\\nWhen choosing links for crawl to evaluate with ExtractContentFromUrl choose a variety of hosts for urls from which you extract content. Limit your use of ExtractContentFromUrl to five calls or less. Do not make the error of including the url as a parameter, it must be inside 'instructions' as indicated by the tool definition. Be careful to not include events in the past in your final answer. You should perform four searches at once.\\nDon't forget to include valid links!\",\n",
    "};\n",
    "var output2 = await AntRunnerLib.AssistantRunner.RunThread(assistantRunOptions, config);\n",
    "output2.Dialog.DisplayAs(\"text/markdown\");"
   ]
  },
  {
   "cell_type": "markdown",
   "metadata": {},
   "source": [
    "## Clean Up"
   ]
  },
  {
   "cell_type": "code",
   "execution_count": 7,
   "metadata": {
    "dotnet_interactive": {
     "language": "csharp"
    },
    "polyglot_notebook": {
     "kernelName": "csharp"
    },
    "vscode": {
     "languageId": "polyglot-notebook"
    }
   },
   "outputs": [
    {
     "name": "stdout",
     "output_type": "stream",
     "text": [
      "Deleted assistant\n",
      "Deleted assistant\n"
     ]
    }
   ],
   "source": [
    "var assistant = (await client.AssistantList())?.Data?.FirstOrDefault(o => o.Name == \"WebSearchAgentAnt\");\n",
    "if(assistant != null) {\n",
    "    await client.AssistantDelete(assistant.Id);\n",
    "    Console.WriteLine(\"Deleted assistant\");\n",
    "}\n",
    "else\n",
    "{\n",
    "    Console.WriteLine(\"Didn't find WebSearchAgentAnt\");\n",
    "}\n",
    "\n",
    "assistant = (await client.AssistantList())?.Data?.FirstOrDefault(o => o.Name == \"WebPageAgentAnt\");\n",
    "if(assistant != null) {\n",
    "    await client.AssistantDelete(assistant.Id);\n",
    "    Console.WriteLine(\"Deleted assistant\");\n",
    "}\n",
    "else\n",
    "{\n",
    "    Console.WriteLine(\"Didn't find WebPageAgentAnt\");\n",
    "}"
   ]
  }
 ],
 "metadata": {
  "kernelspec": {
   "display_name": ".NET (C#)",
   "language": "C#",
   "name": ".net-csharp"
  },
  "language_info": {
   "name": "python"
  },
  "polyglot_notebook": {
   "kernelInfo": {
    "defaultKernelName": "csharp",
    "items": [
     {
      "aliases": [],
      "name": "csharp"
     }
    ]
   }
  }
 },
 "nbformat": 4,
 "nbformat_minor": 2
}
