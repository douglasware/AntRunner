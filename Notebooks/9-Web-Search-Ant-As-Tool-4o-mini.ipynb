{
 "cells": [
  {
   "cell_type": "markdown",
   "metadata": {},
   "source": [
    "# This notebook requires a deployment of \"gpt-4o-mini\", edit as needed\n",
    "\n",
    "## Web Search Ant As Tool\n",
    "\n",
    "This example demonstrates one ant using another ant as a tool so that the second ant's work is outside the main thread.\n",
    "\n",
    "The **WebSearchAgentAnt** demonstrates the use of a Web API secured using an API key with an auth header. \n",
    "This sample requires you to create a Web Search (bing) resource in Azure and enter its corresponding API key in [0-AI-settings](0-AI-settings.ipynb)\n",
    "\n",
    "WebSearchAgentAnt uses **WebPageAgentAnt** via a tool call to evaluate search results using the search results link.\n",
    "This demo uses a lot of tokens. \n",
    "\n",
    "**If your quota is low, you will get throttled**"
   ]
  },
  {
   "cell_type": "markdown",
   "metadata": {},
   "source": [
    "## First steps\n",
    "- First, download AntRunLib from Nuget\n",
    "- At least once, set up the environment using **[0-AI-settings](0-AI-settings.ipynb)**"
   ]
  },
  {
   "cell_type": "code",
   "execution_count": 1,
   "metadata": {
    "dotnet_interactive": {
     "language": "csharp"
    },
    "polyglot_notebook": {
     "kernelName": "csharp"
    },
    "vscode": {
     "languageId": "polyglot-notebook"
    }
   },
   "outputs": [
    {
     "data": {
      "text/html": [
       "<div><div></div><div></div><div><strong>Installed Packages</strong><ul><li><span>AntRunnerLib, 0.8.6</span></li></ul></div></div>"
      ]
     },
     "metadata": {},
     "output_type": "display_data"
    }
   ],
   "source": [
    "#r \"nuget: AntRunnerLib, 0.8.6\"\n",
    "\n",
    "using AntRunnerLib;\n",
    "using AntRunnerLib.Identity;\n",
    "using static AntRunnerLib.ClientUtility;\n",
    "using System.IO;\n",
    "\n",
    "#!import config/Settings.cs \n",
    "\n",
    "var envVariables = Settings.GetEnvironmentVariables();\n",
    "foreach (var kvp in envVariables)\n",
    "{\n",
    "    Environment.SetEnvironmentVariable(kvp.Key, kvp.Value);\n",
    "}\n",
    "Environment.SetEnvironmentVariable(\"AZURE_OPENAI_DEPLOYMENT\", \"gpt-4o-mini\");\n",
    "\n",
    "var config = AzureOpenAiConfigFactory.Get();\n",
    "var client = GetOpenAiClient(config);\n"
   ]
  },
  {
   "cell_type": "code",
   "execution_count": 8,
   "metadata": {
    "dotnet_interactive": {
     "language": "csharp"
    },
    "polyglot_notebook": {
     "kernelName": "csharp"
    },
    "vscode": {
     "languageId": "polyglot-notebook"
    }
   },
   "outputs": [
    {
     "name": "stdout",
     "output_type": "stream",
     "text": [
      "asst_tVJdlmdjlPYs9UMImu0XA2P6\n",
      "asst_TOWD9Rr8w0vq3PhxY3vZSRjG\n"
     ]
    }
   ],
   "source": [
    "var assistantId = await AssistantUtility.Create(\"WebSearchAgentAnt\", config);\n",
    "Console.WriteLine(assistantId);\n",
    "assistantId = await AssistantUtility.Create(\"WebPageAgentAnt\", config);\n",
    "Console.WriteLine(assistantId);"
   ]
  },
  {
   "cell_type": "code",
   "execution_count": 3,
   "metadata": {
    "dotnet_interactive": {
     "language": "csharp"
    },
    "polyglot_notebook": {
     "kernelName": "csharp"
    },
    "vscode": {
     "languageId": "polyglot-notebook"
    }
   },
   "outputs": [],
   "source": [
    "AntLoader.LoadAssembly(@\".\\AssistantDefinitions\\WebPageAgentAnt\\HtmlAgilityPack.dll\");\n",
    "AntLoader.LoadAssembly(@\".\\AssistantDefinitions\\WebPageAgentAnt\\HtmlAgilityPackExtensions.dll\");"
   ]
  },
  {
   "cell_type": "markdown",
   "metadata": {},
   "source": [
    "## Run the Assistant\n",
    "\n",
    "`output.Dialog` shows the conversation."
   ]
  },
  {
   "cell_type": "code",
   "execution_count": 4,
   "metadata": {
    "dotnet_interactive": {
     "language": "csharp"
    },
    "polyglot_notebook": {
     "kernelName": "csharp"
    },
    "vscode": {
     "languageId": "polyglot-notebook"
    }
   },
   "outputs": [
    {
     "data": {
      "text/markdown": [
       "\n",
       "User: Use python to get todays date and then use it to find things to do in Atlanta today. Be careful to not include events in the past in your final answer.\n",
       "\n",
       "Assistant: I ran this code:\n",
       "```\n",
       "from datetime import datetime\r\n",
       "\r\n",
       "# Get today's date\r\n",
       "today_date = datetime.now().date()\r\n",
       "today_date\n",
       "```\n",
       "\n",
       "I called the tool named crawl with these arguments:\n",
       "```\n",
       "{\"q\":\"things to do in Atlanta on 2024-09-25\",\"count\":5,\"textFormat\":\"Raw\"}\n",
       "```\n",
       "and got this result:\n",
       "```\n",
       "{\"queryContext\":{\"originalQuery\":\"things to do in Atlanta on 2024-09-25\"},\"webPages\":{\"value\":[{\"name\":\"Events and Things to Do in Atlanta GA this from 2024-09-28 to 2024-09-29\",\"url\":\"https://eventcartel.com/events/all-categories/atlanta/from_2024-09-28_to_2024-09-29\",\"displayUrl\":\"https://eventcartel.com/events/all-categories/atlanta/from_2024-09-28_to_2024-09-29\",\"snippet\":\"Explore a wide range of events and things to do from 2024-09-28 to 2024-09-29 tailored to offer you the best in entertainment and fun things to do in Atlanta. Whether you\\u2019re interested in the latest concerts, theater shows, or other local events happening from 2024-09-28 to 2024-09-29, everything you need is just a few clicks away.\",\"cachedPageUrl\":\"http://cc.bingj.com/cache.aspx?q=things\\u002Bto\\u002Bdo\\u002Bin\\u002BAtlanta\\u002Bon\\u002B2024-09-25\\u0026d=593829212581\\u0026mkt=en-US\\u0026setlang=en-US\\u0026w=ArLA-810ZZkaWFgm_VL8k_3YAMhRPChX\",\"thumbnailUrl\":\"https://www.bing.com/th?id=OIF.j9DT03xNjIPyoPYsyjOF4w\\u0026w=80\\u0026h=80\\u0026c=1\\u0026pid=5.1\"},{\"name\":\"Cool Things To Do in September in Atlanta\",\"url\":\"https://discoveratlanta.com/stories/things-to-do/cool-things-to-do-in-september-in-atlanta/\",\"displayUrl\":\"https://discoveratlanta.com/stories/things-to-do/cool-things-to-do-in-september-in-atlanta\",\"snippet\":\"The Sweet Auburn Music Fest, which takes place Sept. 28-29. The festival, located on Auburn Avenue, one of Atlanta\\u2019s most iconic streets, offers fun-filled entertainment, live music \\u2014 everything from R\\u0026B to gospel to alternative favorites \\u2014 international food court, national artists, celebrities and vendors of all types.\",\"cachedPageUrl\":\"http://cc.bingj.com/cache.aspx?q=things\\u002Bto\\u002Bdo\\u002Bin\\u002BAtlanta\\u002Bon\\u002B2024-09-25\\u0026d=4692574352310340\\u0026mkt=en-US\\u0026setlang=en-US\\u0026w=c-5Oucqqe-FV74GkIkdoRE4k4vk9MNbJ\",\"thumbnailUrl\":\"https://www.bing.com/th?id=OIP.m0ENCio7ytS2o9PQRWDCRgHaD4\\u0026w=80\\u0026h=80\\u0026c=1\\u0026pid=5.1\"},{\"name\":\"Atlanta Events September 2024: Concerts, Shows, Sports...\",\"url\":\"https://atlanta-ga.events/september/\",\"displayUrl\":\"https://atlanta-ga.events/september\",\"snippet\":\"This guide is your gateway to discovering the best things to do in Atlanta, from Concerts and Theater Shows to Sports events and music festivals. You\\u2019ll find a detailed list of all the most engaging and exciting activities happening throughout the month. ... Sep 25, 2024 6:30 PM . Lorna Shore . Upcoming Events: 2. The Tabernacle - GA . Sep 25 ...\",\"cachedPageUrl\":\"http://cc.bingj.com/cache.aspx?q=things\\u002Bto\\u002Bdo\\u002Bin\\u002BAtlanta\\u002Bon\\u002B2024-09-25\\u0026d=4854189676169673\\u0026mkt=en-US\\u0026setlang=en-US\\u0026w=73iRaVHIvJefbkmdL1lCvH4mS1bjztOY\"},{\"name\":\"Atlanta Events - September 2024 - Go South Atlanta\",\"url\":\"https://gosouthatlanta.com/things-to-do/events/atlanta-in-september.html\",\"displayUrl\":\"https://gosouthatlanta.com/things-to-do/events/atlanta-in-september.html\",\"snippet\":\"More details. \\u2013 Dragon Con, August 29 - September 2 2024. One of the biggest annual pop culture conventions in the country. More details. \\u2013 Atlanta Black Theatre Festival, August 30 - September 1 2024. Annual festival celebrating the Black experience in the performing arts, with plays, panels, masterclasses and other events.\",\"cachedPageUrl\":\"http://cc.bingj.com/cache.aspx?q=things\\u002Bto\\u002Bdo\\u002Bin\\u002BAtlanta\\u002Bon\\u002B2024-09-25\\u0026d=4712253893574850\\u0026mkt=en-US\\u0026setlang=en-US\\u0026w=aWkJWqw243Je4oOvzq1dGpeg_GE4sHjt\",\"thumbnailUrl\":\"https://www.bing.com/th?id=OIP.xm-3dn3hYJZHsVVU9WO5qwHaD4\\u0026w=80\\u0026h=80\\u0026c=1\\u0026pid=5.1\"},{\"name\":\"Explore Atlanta Events for Today, This Week or Weekend - Discover Atlanta\",\"url\":\"https://discoveratlanta.com/events/main/\",\"displayUrl\":\"https://discoveratlanta.com/events/m\",\"snippet\":\"Explore the Atlanta events calendar for things to do today, this week or this weekend. Find upcoming festivals, seasonal events and more! ... Every Saturday until 09/28/2024. Protect Yo Energy Con 9/24/24 \\u2013 11/9/24. ... Every Wednesday until 09/25/2024\",\"cachedPageUrl\":\"http://cc.bingj.com/cache.aspx?q=things\\u002Bto\\u002Bdo\\u002Bin\\u002BAtlanta\\u002Bon\\u002B2024-09-25\\u0026d=4819881473496114\\u0026mkt=en-US\\u0026setlang=en-US\\u0026w=zvJBiG0Dg4eP1GMx_bJv9FTM8ziERJGY\",\"thumbnailUrl\":\"https://www.bing.com/th?id=OIP.FkxSV6JbrWatsFMM3_8dIAHaEh\\u0026w=80\\u0026h=80\\u0026c=1\\u0026pid=5.1\"}]},\"images\":{\"value\":[{\"thumbnailUrl\":\"https://tse1.mm.bing.net/th?id=OIP.gpxEMgIaDnDSvyMtPJjjdgHaE6\\u0026pid=Api\",\"contentUrl\":\"https://wowtravel.me/wp-content/uploads/2022/06/Top-10-Things-to-Do-in-Atlanta.jpg\",\"hostPageUrl\":\"https://wowtravel.me/things-to-do-in-atlanta-this-week/\"},{\"thumbnailUrl\":\"https://tse1.mm.bing.net/th?id=OIP.y60M5u48x8RyXKH9Rs_4vgAAAA\\u0026pid=Api\",\"contentUrl\":\"https://foodtoursatlanta.com/wp-content/uploads/2021/09/Blue-Engagement-Essentials-Blog-Banner-1024x576.png\",\"hostPageUrl\":\"https://foodtoursatlanta.com/33-things-to-do-in-atlanta/\"},{\"thumbnailUrl\":\"https://tse1.mm.bing.net/th?id=OIP.H1JPxx3mkr-XvYjeXre46AHaLH\\u0026pid=Api\",\"contentUrl\":\"https://www.busytourist.com/wp-content/uploads/2020/07/best-things-to-do-in-Atlanta-GA-1-2.jpg\",\"hostPageUrl\":\"https://www.busytourist.com/things-to-do-in-atlanta-ga/\"},{\"thumbnailUrl\":\"https://tse1.mm.bing.net/th?id=OIP.EwTRMK2YnFak4c4zUFMiVAHaHa\\u0026pid=Api\",\"contentUrl\":\"https://unexpectedatlanta.com/wp-content/uploads/2022/09/Things-to-Do-in-Downtown-Atlanta.png\",\"hostPageUrl\":\"https://unexpectedatlanta.com/things-to-do-in-downtown-atlanta/\"},{\"thumbnailUrl\":\"https://tse1.mm.bing.net/th?id=OIP.Tg7nOHaEU_re0ukKIjO-QwHaG1\\u0026pid=Api\",\"contentUrl\":\"https://uphomes.com/storage/uploads/aVxdjP6v0zGPok5GHYOee8lHRMVN0GMFiNomqe5s.png\",\"hostPageUrl\":\"https://uphomes.com/blog/things-to-do-atlanta-ga/\"},{\"thumbnailUrl\":\"https://tse1.mm.bing.net/th?id=OIP.BawFpewdQrecAtgiS9AiOAHaHa\\u0026pid=Api\",\"contentUrl\":\"https://unexpectedatlanta.com/wp-content/uploads/2023/04/The-Best-Things-to-Do-in-Midtown-Atlanta-500x500.png\",\"hostPageUrl\":\"https://unexpectedatlanta.com/best-things-to-do-midtown-atlanta/\"},{\"thumbnailUrl\":\"https://tse1.mm.bing.net/th?id=OIP.Yac324FtG-dH_KY8XaUTZQHaME\\u0026pid=Api\",\"contentUrl\":\"https://www.frostandsun.com/wp-content/uploads/2017/11/things-to-do-in-atlanta-pin-me-1-628x1024.jpg.webp\",\"hostPageUrl\":\"https://www.frostandsun.com/things-to-do-in-atlanta/\"},{\"thumbnailUrl\":\"https://tse1.mm.bing.net/th?id=OIP.VOzVfWJV7_6joNkGhLP7AAHaLH\\u0026pid=Api\",\"contentUrl\":\"https://i.pinimg.com/originals/ce/c5/25/cec525ba57be0022de5d70d1a1f3dd88.jpg\",\"hostPageUrl\":\"https://www.pinterest.com/pin/654710864573043449/\"},{\"thumbnailUrl\":\"https://tse1.mm.bing.net/th?id=OIP.Fe-J-AR_X-7c4ZeUHVaHwQAAAA\\u0026pid=Api\",\"contentUrl\":\"https://www.acaponeconnection.com/wp-content/uploads/2022/05/All-the-Fun-Things-to-Do-in-Atlanta-Georgia-1.jpg\",\"hostPageUrl\":\"https://www.acaponeconnection.com/all-the-fun-things-to-do-in-atlanta-georgia/\"},{\"thumbnailUrl\":\"https://tse1.mm.bing.net/th?id=OIP.JIWcXtQtpq7A0DXTjwLQiwHaLG\\u0026pid=Api\",\"contentUrl\":\"https://i.pinimg.com/736x/fc/4a/d2/fc4ad281802906d1cfde53017a3e4dcf.jpg\",\"hostPageUrl\":\"https://www.pinterest.com/pin/744079169673803460/\"},{\"thumbnailUrl\":\"https://tse1.mm.bing.net/th?id=OIP.unmT01rPD7si8w-n3kzOXgHaHa\\u0026pid=Api\",\"contentUrl\":\"https://cdn2.storyasset.link/5f018ed1-7c8d-49e0-9d76-582219d18631/Untitled%20design%20-1-ms-rtheoozqlb.jpg\",\"hostPageUrl\":\"https://tripononline.com/web-stories/ultimate-things-to-do-in-atlanta-ga/\"},{\"thumbnailUrl\":\"https://tse1.mm.bing.net/th?id=OIP.cGQLTADJ7EIEL8n56X81XwHaLH\\u0026pid=Api\",\"contentUrl\":\"https://www.busytourist.com/wp-content/uploads/2020/07/best-things-to-do-in-Atlanta-GA-1.jpg\",\"hostPageUrl\":\"https://www.busytourist.com/things-to-do-in-atlanta-ga/\"},{\"thumbnailUrl\":\"https://tse1.mm.bing.net/th?id=OIP.Aj7C1Fr0CNlVG43lAoGx9QHaE7\\u0026pid=Api\",\"contentUrl\":\"https://a.cdn-hotels.com/gdcs/production114/d1629/63a8dbe5-e678-4fe4-957a-ad367913a3fa.jpg\",\"hostPageUrl\":\"https://www.hotels.com/go/usa/things-to-do-atlanta\"},{\"thumbnailUrl\":\"https://tse1.mm.bing.net/th?id=OIP.U9xvQMbjg9T0YiriayftJAHaLH\\u0026pid=Api\",\"contentUrl\":\"https://www.busytourist.com/wp-content/uploads/2020/07/Things-To-Do-In-Atlanta-pin1.jpg\",\"hostPageUrl\":\"https://www.busytourist.com/things-to-do-in-atlanta-ga/\"},{\"thumbnailUrl\":\"https://tse1.mm.bing.net/th?id=OIP.BG-4ieiddXbLLtxHksh3DQHaE7\\u0026pid=Api\",\"contentUrl\":\"https://a.cdn-hotels.com/gdcs/production90/d1296/c9d18f82-dd9e-4e74-bd3f-5a7fb1d76d99.jpg?impolicy=fcrop\\u0026w=1600\\u0026h=1066\\u0026q=medium\",\"hostPageUrl\":\"https://www.hotels.com/go/usa/things-to-do-atlanta\"},{\"thumbnailUrl\":\"https://tse1.mm.bing.net/th?id=OIP.HwzfdFE6-tSHfhoFlTxXKQHaHa\\u0026pid=Api\",\"contentUrl\":\"https://unexpectedatlanta.com/wp-content/uploads/2022/12/Best-Things-to-Do-in-Atlanta-in-2023.png\",\"hostPageUrl\":\"https://unexpectedatlanta.com/best-things-to-do-in-atlanta/\"},{\"thumbnailUrl\":\"https://tse1.mm.bing.net/th?id=OIP.Agse3pS4C61ss3RxvVgySwHaEK\\u0026pid=Api\",\"contentUrl\":\"https://wirksmoving.com/wp-content/uploads/2020/04/Things-to-do-in-Atlanta-with-Kids-1536x864.png\",\"hostPageUrl\":\"https://wirksmoving.com/blog/things-to-do-in-atlanta-ga-with-kids/\"},{\"thumbnailUrl\":\"https://tse1.mm.bing.net/th?id=OIP.yRC0krj1Jbi8qtYhSLLimgHaE8\\u0026pid=Api\",\"contentUrl\":\"https://lp-cms-production.imgix.net/2021-05/GettyRF_486068945.jpg?auto=compress\\u0026fit=crop\\u0026fm=auto\\u0026sharp=10\\u0026vib=20\\u0026w=1200\\u0026h=800\",\"hostPageUrl\":\"https://www.lonelyplanet.com/articles/top-things-to-do-in-atlanta\"},{\"thumbnailUrl\":\"https://tse1.mm.bing.net/th?id=OIP.swIvlXwXKplZgPo2qbccQQHaE8\\u0026pid=Api\",\"contentUrl\":\"https://i.pinimg.com/originals/eb/55/d9/eb55d929f08e933b2cce34f387feb267.jpg\",\"hostPageUrl\":\"https://www.pinterest.com/pin/8-fun-things-to-do-in-atlanta--500110733605934061/\"},{\"thumbnailUrl\":\"https://tse1.mm.bing.net/th?id=OIP.TNv2qzXsSFvw43t4zu0gGgHaE8\\u0026pid=Api\",\"contentUrl\":\"https://www.travelandleisure.com/thmb/3NRm4q9Qg2bdUqXvenPBVeIloV4=/1500x0/filters:no_upscale():max_bytes(150000):strip_icc()/atlanta-skyline-TODOATL0122-195afa04632e43f5be27ef2dcc94ca3b.jpg\",\"hostPageUrl\":\"https://www.travelandleisure.com/attractions/best-things-to-do-in-atlanta-georgia\"}]}}\n",
       "```\n",
       "\n",
       "I called the tool named ExtractContentFromUrl with these arguments:\n",
       "```\n",
       "{\"assistantName\": \"WebPageAgentAnt\", \"instructions\": \"What events are happening on September 25, 2024? https://eventcartel.com/events/all-categories/atlanta/from_2024-09-28_to_2024-09-29\"}\n",
       "```\n",
       "and got this result:\n",
       "```\n",
       "\"The page you provided does not contain specific information about events happening on September 25, 2024. Instead, it focuses on events scheduled for September 28 to September 29, 2024, in Atlanta. \\n\\nIf you\\u0027re looking for events specifically on September 25, 2024, please check other sources or event listings for that date.\"\n",
       "```\n",
       "\n",
       "I called the tool named ExtractContentFromUrl with these arguments:\n",
       "```\n",
       "{\"assistantName\": \"WebPageAgentAnt\", \"instructions\": \"What events are happening on September 25, 2024? https://discoveratlanta.com/stories/things-to-do/cool-things-to-do-in-september-in-atlanta/\"}\n",
       "```\n",
       "and got this result:\n",
       "```\n",
       "\"On September 25, 2024, there are no specific events mentioned in the provided content from the page. The events listed primarily focus on various activities and festivals occurring throughout September but do not provide details for that specific date.\\n\\nThe information was not found in the page.\"\n",
       "```\n",
       "\n",
       "I called the tool named ExtractContentFromUrl with these arguments:\n",
       "```\n",
       "{\"assistantName\": \"WebPageAgentAnt\", \"instructions\": \"What events are happening on September 25, 2024? https://atlanta-ga.events/september/\"}\n",
       "```\n",
       "and got this result:\n",
       "```\n",
       "\"On September 25, 2024, the following events are scheduled to take place in Atlanta, GA:\\n\\n1. **Lorna Shore**\\n   - **Time:** 6:30 PM\\n   - **Venue:** The Tabernacle\\n   - **Capacity:** 2600\\n   - **Prices:** From $20 (Avg. price ~ $89)\\n   - [Tickets](https://atlanta-ga.events/tickets/lorna-shore/)\\n\\n2. **Sevendust**\\n   - **Time:** 6:30 PM\\n   - **Venue:** The Eastern\\n   - **Capacity:** 3000\\n   - **Prices:** From $39 (Avg. price ~ $61)\\n   - [Tickets](https://atlanta-ga.events/tickets/sevendust/)\\n\\n3. **Creed, 3 Doors Down \\u0026 Finger Eleven**\\n   - **Time:** 7:00 PM\\n   - **Venue:** Ameris Bank Amphitheatre\\n   - **Capacity:** 12000\\n   - **Prices:** From $39 (Avg. price ~ $223)\\n   - [Tickets](https://atlanta-ga.events/tickets/creed/)\\n\\n4. **Atlanta Braves vs. New York Mets**\\n   - **Time:** 7:20 PM\\n   - **Venue:** Truist Park\\n   - **Capacity:** 41149\\n   - **Prices:** From $7 (Avg. price ~ $75)\\n   - [Tickets](https://atlanta-ga.events/tickets/atlanta-braves/)\\n\\n5. **Kings of Leon \\u0026 Phantogram**\\n   - **Time:** 7:30 PM\\n   - **Venue:** State Farm Arena\\n   - **Capacity:** 21000\\n   - **Prices:** From $14 (Avg. price ~ $123)\\n   - [Tickets](https://atlanta-ga.events/tickets/kings-of-leon/)\\n\\n6. **Shaboozey**\\n   - **Time:** 8:00 PM\\n   - **Venue:** Variety Playhouse\\n   - **Capacity:** 1000\\n   - **Prices:** From $51 (Avg. price ~ $88)\\n   - [Tickets](https://atlanta-ga.events/tickets/shaboozey/)\\n\\n7. **Lasso - Artist**\\n   - **Time:** 8:00 PM\\n   - **Venue:** Buckhead Theatre\\n   - **Capacity:** 2500\\n   - **Prices:** From $58 (Avg. price ~ $90)\\n   - [Tickets](https://atlanta-ga.events/tickets/lasso-artist/)\\n\\n8. **Gritz and Jelly Butter**\\n   - **Time:** 8:00 PM\\n   - **Venue:** City Winery - Atlanta\\n   - **Capacity:** 300\\n   - **Prices:** From $74 (Avg. price ~ $89)\\n   - [Tickets](https://atlanta-ga.events/tickets/gritz-and-jelly-butter/)\\n\\nYou can follow the provided links for more details and to purchase tickets.\"\n",
       "```\n",
       "\n",
       "I called the tool named ExtractContentFromUrl with these arguments:\n",
       "```\n",
       "{\"assistantName\": \"WebPageAgentAnt\", \"instructions\": \"What events are happening on September 25, 2024? https://gosouthatlanta.com/things-to-do/events/atlanta-in-september.html\"}\n",
       "```\n",
       "and got this result:\n",
       "```\n",
       "\"On September 25, 2024, the following events are scheduled in Atlanta:\\n\\n- **Chaucer\\u2019s The Canterbury Tales**: This play will be held at the Shakespeare Tavern Playhouse from September 7 to September 29, 2024.\\n  \\n- **Daddy Long Legs**: A musical performance at The Legacy Theatre, running from September 13 to October 6, 2024.\\n\\n- **Boh\\u00E8me Project: La boh\\u00E8me**: An opera performance at Pullman Yards, scheduled from September 18 to October 5, 2024.\\n\\n- **The Chinese Lady**: Another play at Alliance Theatre, running from September 18 to October 13, 2024.\\n\\nAdditionally, the **North Georgia State Fair** will be ongoing from September 19 to September 29, 2024, at Jim R Miller Park in Marietta, featuring carnival rides, animal shows, performances, rodeo, and more.\\n\\nFor more details or updates, it\\u0027s advisable to check the official websites of the events closer to the date.\"\n",
       "```\n",
       "\n",
       "I called the tool named ExtractContentFromUrl with these arguments:\n",
       "```\n",
       "{\"assistantName\": \"WebPageAgentAnt\", \"instructions\": \"What events are happening on September 25, 2024? https://discoveratlanta.com/events/main/\"}\n",
       "```\n",
       "and got this result:\n",
       "```\n",
       "\"On September 25, 2024, several events are scheduled in Atlanta:\\n\\n1. **Walt DisneyxUNCF Scholar Program Now Open!**\\n   - **Category:** Education \\u0026 Lectures\\n   - **Date:** September 25, 2024 \\u2013 October 1, 2024\\n   - [More Info](https://discoveratlanta.com/event/detail/walt-disneyxuncf-scholar-program-now-open/)\\n\\n2. **Community Movie Night presented by Disney on Ice**\\n   - **Category:** Family \\u0026 Kids\\n   - **Date:** September 25, 2024\\n   - [More Info](https://discoveratlanta.com/event/detail/community-movie-night-presented-by-disney-on-ice/)\\n\\n3. **Oktoberfest Crafts \\u0026 Romcom Night**\\n   - **Category:** Other Activities\\n   - **Date:** September 25, 2024\\n   - [More Info](https://discoveratlanta.com/event/detail/oktoberfest-crafts-romcom-night/)\\n\\n4. **A Sunset Cruise aboard The Experience**\\n   - **Category:** Outdoors \\u0026 Recreation\\n   - **Date:** September 25, 2024 \\u2013 September 28, 2024\\n   - [More Info](https://discoveratlanta.com/event/detail/a-sunset-cruise-aboard-the-experience/)\\n\\n5. **Daddy Long Legs**\\n   - **Category:** Theater \\u0026 Performing Arts\\n   - **Date:** September 25, 2024 \\u2013 October 6, 2024\\n   - [More Info](https://discoveratlanta.com/event/detail/daddy-long-legs/)\\n\\n6. **Weekend Creekwater Alpaca Farm Barn Tour**\\n   - **Category:** Outdoors \\u0026 Recreation\\n   - **Date:** September 25, 2024 \\u2013 September 29, 2024\\n   - [More Info](https://discoveratlanta.com/event/detail/weekend-creekwater-alpaca-farm-barn-tour-2/)\\n\\nThese events offer a variety of options from educational programs to family-friendly activities and outdoor experiences.\"\n",
       "```\n",
       "\n",
       "Here are some exciting events happening in Atlanta today, September 25, 2024:\n",
       "\n",
       "### Concerts and Shows\n",
       "1. **Lorna Shore**\n",
       "   - **Time:** 6:30 PM\n",
       "   - **Venue:** The Tabernacle\n",
       "   - **Tickets:** [Buy Tickets](https://atlanta-ga.events/tickets/lorna-shore/)\n",
       "\n",
       "2. **Sevendust**\n",
       "   - **Time:** 6:30 PM\n",
       "   - **Venue:** The Eastern\n",
       "   - **Tickets:** [Buy Tickets](https://atlanta-ga.events/tickets/sevendust/)\n",
       "\n",
       "3. **Creed, 3 Doors Down & Finger Eleven**\n",
       "   - **Time:** 7:00 PM\n",
       "   - **Venue:** Ameris Bank Amphitheatre\n",
       "   - **Tickets:** [Buy Tickets](https://atlanta-ga.events/tickets/creed/)\n",
       "\n",
       "4. **Kings of Leon & Phantogram**\n",
       "   - **Time:** 7:30 PM\n",
       "   - **Venue:** State Farm Arena\n",
       "   - **Tickets:** [Buy Tickets](https://atlanta-ga.events/tickets/kings-of-leon/)\n",
       "\n",
       "5. **Shaboozey**\n",
       "   - **Time:** 8:00 PM\n",
       "   - **Venue:** Variety Playhouse\n",
       "   - **Tickets:** [Buy Tickets](https://atlanta-ga.events/tickets/shaboozey/)\n",
       "\n",
       "### Family and Community Events\n",
       "1. **Community Movie Night presented by Disney on Ice**\n",
       "   - **Category:** Family & Kids\n",
       "   - **More Info:** [Event Details](https://discoveratlanta.com/event/detail/community-movie-night-presented-by-disney-on-ice/)\n",
       "\n",
       "2. **Walt DisneyxUNCF Scholar Program Now Open!**\n",
       "   - **Category:** Education & Lectures\n",
       "   - **More Info:** [Event Details](https://discoveratlanta.com/event/detail/walt-disneyxuncf-scholar-program-now-open/)\n",
       "\n",
       "### Performing Arts\n",
       "1. **Daddy Long Legs**\n",
       "   - **Category:** Theater & Performing Arts\n",
       "   - **Date:** September 25, 2024 – October 6, 2024\n",
       "   - **More Info:** [Event Details](https://discoveratlanta.com/event/detail/daddy-long-legs/)\n",
       "\n",
       "2. **Chaucer’s The Canterbury Tales**\n",
       "   - **Venue:** Shakespeare Tavern Playhouse\n",
       "   - **Date:** September 7 - September 29, 2024\n",
       "\n",
       "### Outdoor Activities\n",
       "1. **A Sunset Cruise aboard The Experience**\n",
       "   - **Category:** Outdoors & Recreation\n",
       "   - **Date:** September 25, 2024 – September 28, 2024\n",
       "   - **More Info:** [Event Details](https://discoveratlanta.com/event/detail/a-sunset-cruise-aboard-the-experience/)\n",
       "\n",
       "These events provide a variety of options for entertainment, education, and family fun. Be sure to check for any updates or ticket availability before heading out!\n",
       "\n",
       "For more details and to explore other events, visit:\n",
       "- [Discover Atlanta Events](https://discoveratlanta.com/events/main/)\n",
       "- [Atlanta GA Events](https://atlanta-ga.events/september/)\n"
      ]
     },
     "metadata": {},
     "output_type": "display_data"
    }
   ],
   "source": [
    "var assistantRunOptions = new AssistantRunOptions() {\n",
    "    AssistantName = \"WebSearchAgentAnt\",\n",
    "    Instructions = \"Use python to get todays date and then use it to find things to do in Atlanta today. Be careful to not include events in the past in your final answer.\",\n",
    "};\n",
    "var output = await AntRunnerLib.AssistantRunner.RunThread(assistantRunOptions, config);\n",
    "output.Dialog.DisplayAs(\"text/markdown\");"
   ]
  },
  {
   "cell_type": "code",
   "execution_count": 5,
   "metadata": {
    "dotnet_interactive": {
     "language": "csharp"
    },
    "polyglot_notebook": {
     "kernelName": "csharp"
    },
    "vscode": {
     "languageId": "polyglot-notebook"
    }
   },
   "outputs": [
    {
     "data": {
      "text/markdown": [
       "Here are some exciting events happening in Atlanta today, September 25, 2024:\n",
       "\n",
       "### Concerts and Shows\n",
       "1. **Lorna Shore**\n",
       "   - **Time:** 6:30 PM\n",
       "   - **Venue:** The Tabernacle\n",
       "   - **Tickets:** [Buy Tickets](https://atlanta-ga.events/tickets/lorna-shore/)\n",
       "\n",
       "2. **Sevendust**\n",
       "   - **Time:** 6:30 PM\n",
       "   - **Venue:** The Eastern\n",
       "   - **Tickets:** [Buy Tickets](https://atlanta-ga.events/tickets/sevendust/)\n",
       "\n",
       "3. **Creed, 3 Doors Down & Finger Eleven**\n",
       "   - **Time:** 7:00 PM\n",
       "   - **Venue:** Ameris Bank Amphitheatre\n",
       "   - **Tickets:** [Buy Tickets](https://atlanta-ga.events/tickets/creed/)\n",
       "\n",
       "4. **Kings of Leon & Phantogram**\n",
       "   - **Time:** 7:30 PM\n",
       "   - **Venue:** State Farm Arena\n",
       "   - **Tickets:** [Buy Tickets](https://atlanta-ga.events/tickets/kings-of-leon/)\n",
       "\n",
       "5. **Shaboozey**\n",
       "   - **Time:** 8:00 PM\n",
       "   - **Venue:** Variety Playhouse\n",
       "   - **Tickets:** [Buy Tickets](https://atlanta-ga.events/tickets/shaboozey/)\n",
       "\n",
       "### Family and Community Events\n",
       "1. **Community Movie Night presented by Disney on Ice**\n",
       "   - **Category:** Family & Kids\n",
       "   - **More Info:** [Event Details](https://discoveratlanta.com/event/detail/community-movie-night-presented-by-disney-on-ice/)\n",
       "\n",
       "2. **Walt DisneyxUNCF Scholar Program Now Open!**\n",
       "   - **Category:** Education & Lectures\n",
       "   - **More Info:** [Event Details](https://discoveratlanta.com/event/detail/walt-disneyxuncf-scholar-program-now-open/)\n",
       "\n",
       "### Performing Arts\n",
       "1. **Daddy Long Legs**\n",
       "   - **Category:** Theater & Performing Arts\n",
       "   - **Date:** September 25, 2024 – October 6, 2024\n",
       "   - **More Info:** [Event Details](https://discoveratlanta.com/event/detail/daddy-long-legs/)\n",
       "\n",
       "2. **Chaucer’s The Canterbury Tales**\n",
       "   - **Venue:** Shakespeare Tavern Playhouse\n",
       "   - **Date:** September 7 - September 29, 2024\n",
       "\n",
       "### Outdoor Activities\n",
       "1. **A Sunset Cruise aboard The Experience**\n",
       "   - **Category:** Outdoors & Recreation\n",
       "   - **Date:** September 25, 2024 – September 28, 2024\n",
       "   - **More Info:** [Event Details](https://discoveratlanta.com/event/detail/a-sunset-cruise-aboard-the-experience/)\n",
       "\n",
       "These events provide a variety of options for entertainment, education, and family fun. Be sure to check for any updates or ticket availability before heading out!\n",
       "\n",
       "For more details and to explore other events, visit:\n",
       "- [Discover Atlanta Events](https://discoveratlanta.com/events/main/)\n",
       "- [Atlanta GA Events](https://atlanta-ga.events/september/)"
      ]
     },
     "metadata": {},
     "output_type": "display_data"
    }
   ],
   "source": [
    "output.LastMessage.DisplayAs(\"text/markdown\");"
   ]
  },
  {
   "cell_type": "code",
   "execution_count": 9,
   "metadata": {
    "dotnet_interactive": {
     "language": "csharp"
    },
    "polyglot_notebook": {
     "kernelName": "csharp"
    },
    "vscode": {
     "languageId": "polyglot-notebook"
    }
   },
   "outputs": [
    {
     "data": {
      "text/markdown": [
       "\n",
       "User: Use python to get todays date and then use it to find things to do in Atlanta for each of the next four weekends with pictures and correct links from ExtractContentFromUrl.\n",
       "\n",
       "When choosing links for crawl to evaluate with ExtractContentFromUrl choose a variety of hosts for urls from which you extract content. Limit your use of ExtractContentFromUrl to five calls or less. Do not make the error of including the url as a parameter, it must be inside 'instructions' as indicated by the tool definition. Be careful to not include events in the past in your final answer. You should perform four searches at once.\n",
       "Don't forget to include valid links!\n",
       "\n",
       "Assistant: I ran this code:\n",
       "```\n",
       "from datetime import datetime, timedelta\r\n",
       "\r\n",
       "# Get today's date\r\n",
       "today = datetime.now()\r\n",
       "\r\n",
       "# Calculate the next four weekends\r\n",
       "weekends = [(today + timedelta(days=(5 - today.weekday() + i * 7))).date() for i in range(4)]\r\n",
       "weekends\n",
       "```\n",
       "\n",
       "I called the tool named crawl with these arguments:\n",
       "```\n",
       "{\"q\": \"things to do in Atlanta September 28 2024\", \"count\": 5, \"textFormat\": \"Raw\"}\n",
       "```\n",
       "and got this result:\n",
       "```\n",
       "{\"queryContext\":{\"originalQuery\":\"things to do in Atlanta September 28 2024\"},\"webPages\":{\"value\":[{\"name\":\"Cool Things To Do in September in Atlanta\",\"url\":\"https://discoveratlanta.com/stories/things-to-do/cool-things-to-do-in-september-in-atlanta/\",\"displayUrl\":\"https://discoveratlanta.com/stories/things-to-do/cool-things-to-do-in-september-in-atlanta\",\"snippet\":\"The Sweet Auburn Music Fest, which takes place Sept. 28-29. The festival, located on Auburn Avenue, one of Atlanta\\u2019s most iconic streets, offers fun-filled entertainment, live music \\u2014 everything from R\\u0026B to gospel to alternative favorites \\u2014 international food court, national artists, celebrities and vendors of all types.\",\"cachedPageUrl\":\"http://cc.bingj.com/cache.aspx?q=things\\u002Bto\\u002Bdo\\u002Bin\\u002BAtlanta\\u002BSeptember\\u002B28\\u002B2024\\u0026d=4692574352310340\\u0026mkt=en-US\\u0026setlang=en-US\\u0026w=c-5Oucqqe-FV74GkIkdoRE4k4vk9MNbJ\",\"thumbnailUrl\":\"https://www.bing.com/th?id=OIP.m0ENCio7ytS2o9PQRWDCRgHaD4\\u0026w=80\\u0026h=80\\u0026c=1\\u0026pid=5.1\"},{\"name\":\"Atlanta Events - September 2024 - Go South Atlanta\",\"url\":\"https://gosouthatlanta.com/things-to-do/events/atlanta-in-september.html\",\"displayUrl\":\"https://gosouthatlanta.com/things-to-do/events/atlanta-in-september.html\",\"snippet\":\"More details. \\u2013 Dragon Con, August 29 - September 2 2024. One of the biggest annual pop culture conventions in the country. More details. \\u2013 Atlanta Black Theatre Festival, August 30 - September 1 2024. Annual festival celebrating the Black experience in the performing arts, with plays, panels, masterclasses and other events.\",\"cachedPageUrl\":\"http://cc.bingj.com/cache.aspx?q=things\\u002Bto\\u002Bdo\\u002Bin\\u002BAtlanta\\u002BSeptember\\u002B28\\u002B2024\\u0026d=4712253893574850\\u0026mkt=en-US\\u0026setlang=en-US\\u0026w=aWkJWqw243Je4oOvzq1dGpeg_GE4sHjt\",\"thumbnailUrl\":\"https://www.bing.com/th?id=OIP.xm-3dn3hYJZHsVVU9WO5qwHaD4\\u0026w=80\\u0026h=80\\u0026c=1\\u0026pid=5.1\"},{\"name\":\"Events and Things to Do in Atlanta GA this from 2024-09-28 to 2024-09-29\",\"url\":\"https://eventcartel.com/events/all-categories/atlanta/from_2024-09-28_to_2024-09-29\",\"displayUrl\":\"https://eventcartel.com/events/all-categories/atlanta/from_2024-09-28_to_2024-09-29\",\"snippet\":\"Explore a wide range of events and things to do from 2024-09-28 to 2024-09-29 tailored to offer you the best in entertainment and fun things to do in Atlanta. Whether you\\u2019re interested in the latest concerts, theater shows, or other local events happening from 2024-09-28 to 2024-09-29, everything you need is just a few clicks away.\",\"cachedPageUrl\":\"http://cc.bingj.com/cache.aspx?q=things\\u002Bto\\u002Bdo\\u002Bin\\u002BAtlanta\\u002BSeptember\\u002B28\\u002B2024\\u0026d=593829212581\\u0026mkt=en-US\\u0026setlang=en-US\\u0026w=ArLA-810ZZkaWFgm_VL8k_3YAMhRPChX\",\"thumbnailUrl\":\"https://www.bing.com/th?id=OIF.j9DT03xNjIPyoPYsyjOF4w\\u0026w=80\\u0026h=80\\u0026c=1\\u0026pid=5.1\"},{\"name\":\"Atlanta Events September 2024: Concerts, Shows, Sports...\",\"url\":\"https://atlanta-ga.events/september/\",\"displayUrl\":\"https://atlanta-ga.events/september\",\"snippet\":\"Explore our comprehensive calendar for all the current and upcoming events in Atlanta, GA, for September 2024. This guide is your gateway to discovering the best things to do in Atlanta, ... Prices from $28 Avg. price ~ $33. 20 tickets remaining! Tickets; Sep. 24. 2024. 7:00 PM Tue.\",\"cachedPageUrl\":\"http://cc.bingj.com/cache.aspx?q=things\\u002Bto\\u002Bdo\\u002Bin\\u002BAtlanta\\u002BSeptember\\u002B28\\u002B2024\\u0026d=4854189676169673\\u0026mkt=en-US\\u0026setlang=en-US\\u0026w=73iRaVHIvJefbkmdL1lCvH4mS1bjztOY\"},{\"name\":\"80\\u002B fall festivals \\u0026 fairs around metro Atlanta: Fun things to do in ...\",\"url\":\"https://www.atlantaonthecheap.com/fall-festivals-atlanta/\",\"displayUrl\":\"https://www.atlantaonthecheap.com/fall-festivals-atlanta\",\"snippet\":\"\\u2666 Atlanta Streets Alive. September 15, 2024 West End to Grant Park FREE. This is a new route for Fall of 2024! On these Sundays, streets are are temporarily closed to traffic for four hours \\u2014 so you can come out to walk, run, stroll, bike, scoot, roll, and just have fun.\",\"cachedPageUrl\":\"http://cc.bingj.com/cache.aspx?q=things\\u002Bto\\u002Bdo\\u002Bin\\u002BAtlanta\\u002BSeptember\\u002B28\\u002B2024\\u0026d=5012794228946274\\u0026mkt=en-US\\u0026setlang=en-US\\u0026w=AqqJM900-WHnjjGt9vluoyq1DPm6ofe-\",\"thumbnailUrl\":\"https://www.bing.com/th?id=OIP.w0-v0ll6eXl6tJfBd5-ovwHaEV\\u0026w=80\\u0026h=80\\u0026c=1\\u0026pid=5.1\"}]}}\n",
       "```\n",
       "\n",
       "I called the tool named crawl with these arguments:\n",
       "```\n",
       "{\"q\": \"things to do in Atlanta October 5 2024\", \"count\": 5, \"textFormat\": \"Raw\"}\n",
       "```\n",
       "and got this result:\n",
       "```\n",
       "{\"queryContext\":{\"originalQuery\":\"things to do in Atlanta October 5 2024\"},\"webPages\":{\"value\":[{\"name\":\"Atlanta Events - October 2024 - Go South Atlanta\",\"url\":\"https://gosouthatlanta.com/things-to-do/events/atlanta-in-october.html\",\"displayUrl\":\"https://gosouthatlanta.com/things-to-do/events/atlanta-in-october.html\",\"snippet\":\"Find out what\\u0027s happening in Atlanta in October 2024, from concerts and festivals to sports and arts. Browse by date, category, venue and location and get more details at the official websites.\",\"cachedPageUrl\":\"http://cc.bingj.com/cache.aspx?q=things\\u002Bto\\u002Bdo\\u002Bin\\u002BAtlanta\\u002BOctober\\u002B5\\u002B2024\\u0026d=4907344187949765\\u0026mkt=en-US\\u0026setlang=en-US\\u0026w=jtKzhu3KOsa3mkDLUvcm_m1afK8iBTpt\"},{\"name\":\"Atlanta Events October 2024: Concerts, Shows, Sports...\",\"url\":\"https://atlanta-ga.events/october/\",\"displayUrl\":\"https://atlanta-ga.events/october\",\"snippet\":\"Find out what\\u0027s happening in Atlanta in October 2024, from baseball games and concerts to comedy shows and theater performances. Browse the list of events by date, venue, price and availability and book your tickets online.\",\"cachedPageUrl\":\"http://cc.bingj.com/cache.aspx?q=things\\u002Bto\\u002Bdo\\u002Bin\\u002BAtlanta\\u002BOctober\\u002B5\\u002B2024\\u0026d=4898908879865838\\u0026mkt=en-US\\u0026setlang=en-US\\u0026w=vC_zzFLZ91uzxHogtJy0oBuKycEPAm_-\"},{\"name\":\"Cool Things To Do in October in Atlanta\",\"url\":\"https://discoveratlanta.com/stories/things-to-do/cool-things-to-do-in-october-in-atlanta/\",\"displayUrl\":\"https://discoveratlanta.com/stories/things-to-do/cool-things-to-do-in-october-in-atlanta\",\"snippet\":\"Find out what\\u0027s happening in Atlanta in October, from haunted houses and festivals to Broadway shows and art exhibits. Whether you\\u0027re looking for Halloween fun, food and drinks, or culture and entertainment, there\\u0027s something for everyone in the city.\",\"cachedPageUrl\":\"http://cc.bingj.com/cache.aspx?q=things\\u002Bto\\u002Bdo\\u002Bin\\u002BAtlanta\\u002BOctober\\u002B5\\u002B2024\\u0026d=4714289705734711\\u0026mkt=en-US\\u0026setlang=en-US\\u0026w=6a-yO_DfCUxfz-dx9C91WDDECk49pD7V\",\"thumbnailUrl\":\"https://www.bing.com/th?id=OIP.4jf9xqKu3QRk_XhZ3J7DYQHaD4\\u0026w=80\\u0026h=80\\u0026c=1\\u0026pid=5.1\"},{\"name\":\"80\\u002B fall festivals \\u0026 fairs around metro Atlanta: Fun things to do in ...\",\"url\":\"https://www.atlantaonthecheap.com/fall-festivals-atlanta/\",\"displayUrl\":\"https://www.atlantaonthecheap.com/fall-festivals-atlanta\",\"snippet\":\"Find out the best fall festivals in Atlanta in 2024, from Labor Day Weekend to Thanksgiving. Enjoy carnival rides, music, arts, food, and more at state and county fairs, harvest celebrations, and cultural events.\",\"cachedPageUrl\":\"http://cc.bingj.com/cache.aspx?q=things\\u002Bto\\u002Bdo\\u002Bin\\u002BAtlanta\\u002BOctober\\u002B5\\u002B2024\\u0026d=5012794228946274\\u0026mkt=en-US\\u0026setlang=en-US\\u0026w=AqqJM900-WHnjjGt9vluoyq1DPm6ofe-\",\"thumbnailUrl\":\"https://www.bing.com/th?id=OIP.w0-v0ll6eXl6tJfBd5-ovwHaEV\\u0026w=80\\u0026h=80\\u0026c=1\\u0026pid=5.1\"},{\"name\":\"Fall festivals in metro Atlanta and North Georgia | 2024\",\"url\":\"https://www.fox5atlanta.com/news/fall-festivals-metro-atlanta-north-georgia-2024\",\"displayUrl\":\"https://www.fox5atlanta.com/news/fall-festivals-metro-atlanta-north-georgia-2024\",\"snippet\":\"When: Oct. 21-22, 2024 Where : Candler Park, Atlanta What : A fall festival featuring live music, food trucks, an artist market, a 5K run, and kids\\u0027 activities.\",\"cachedPageUrl\":\"http://cc.bingj.com/cache.aspx?q=things\\u002Bto\\u002Bdo\\u002Bin\\u002BAtlanta\\u002BOctober\\u002B5\\u002B2024\\u0026d=2173865470069\\u0026mkt=en-US\\u0026setlang=en-US\\u0026w=jxnOnRj04ciRcKNV8UVNHXKEd0PX1nap\"}]}}\n",
       "```\n",
       "\n",
       "I called the tool named crawl with these arguments:\n",
       "```\n",
       "{\"q\": \"things to do in Atlanta October 12 2024\", \"count\": 5, \"textFormat\": \"Raw\"}\n",
       "```\n",
       "and got this result:\n",
       "```\n",
       "{\"queryContext\":{\"originalQuery\":\"things to do in Atlanta October 12 2024\"},\"webPages\":{\"value\":[{\"name\":\"Atlanta Events - October 2024 - Go South Atlanta\",\"url\":\"https://gosouthatlanta.com/things-to-do/events/atlanta-in-october.html\",\"displayUrl\":\"https://gosouthatlanta.com/things-to-do/events/atlanta-in-october.html\",\"snippet\":\"Wrestling event at State Farm Arena. More details. \\u2013 Festival on Ponce, October 5-6 2024. Twice-annual arts festival in Olmsted Linear Park, with 125\\u002B vendors of fine art, folk art and outsider art, plus food and drink, and children\\u2019s activities. More details. \\u2013 Candler Park Fall Fest, October 5-6 2024.\",\"cachedPageUrl\":\"http://cc.bingj.com/cache.aspx?q=things\\u002Bto\\u002Bdo\\u002Bin\\u002BAtlanta\\u002BOctober\\u002B12\\u002B2024\\u0026d=4907344187949765\\u0026mkt=en-US\\u0026setlang=en-US\\u0026w=jtKzhu3KOsa3mkDLUvcm_m1afK8iBTpt\"},{\"name\":\"Atlanta Events October 2024: Concerts, Shows, Sports...\",\"url\":\"https://atlanta-ga.events/october/\",\"displayUrl\":\"https://atlanta-ga.events/october\",\"snippet\":\"Explore our comprehensive calendar for all the current and upcoming events in Atlanta, GA, for October 2024. This guide is your gateway to discovering the best things to do in Atlanta, from Concerts and Theater Shows to Sports events and music festivals. You\\u2019ll find a detailed list of all the most engaging and exciting activities happening throughout the month.\",\"cachedPageUrl\":\"http://cc.bingj.com/cache.aspx?q=things\\u002Bto\\u002Bdo\\u002Bin\\u002BAtlanta\\u002BOctober\\u002B12\\u002B2024\\u0026d=4898908879865838\\u0026mkt=en-US\\u0026setlang=en-US\\u0026w=vC_zzFLZ91uzxHogtJy0oBuKycEPAm_-\"},{\"name\":\"Cool Things To Do in October in Atlanta\",\"url\":\"https://discoveratlanta.com/stories/things-to-do/cool-things-to-do-in-october-in-atlanta/\",\"displayUrl\":\"https://discoveratlanta.com/stories/things-to-do/cool-things-to-do-in-october-in-atlanta\",\"snippet\":\"Corn Dogs, Rides and Whack a Mole. The Atlanta Fair brings the best of a traditional fair to Atlanta with everything from cotton candy, a Ferris wheel, fishing for goldfish, a tilt-a-whirl and a carousel. The fair, located across from the Georgia State University Stadium, will be in town Oct. 4-Nov. 3. Read More.\",\"cachedPageUrl\":\"http://cc.bingj.com/cache.aspx?q=things\\u002Bto\\u002Bdo\\u002Bin\\u002BAtlanta\\u002BOctober\\u002B12\\u002B2024\\u0026d=4714289705734711\\u0026mkt=en-US\\u0026setlang=en-US\\u0026w=6a-yO_DfCUxfz-dx9C91WDDECk49pD7V\",\"thumbnailUrl\":\"https://www.bing.com/th?id=OIP.4jf9xqKu3QRk_XhZ3J7DYQHaD4\\u0026w=80\\u0026h=80\\u0026c=1\\u0026pid=5.1\"},{\"name\":\"80\\u002B fall festivals \\u0026 fairs around metro Atlanta: Fun things to do in ...\",\"url\":\"https://www.atlantaonthecheap.com/fall-festivals-atlanta/\",\"displayUrl\":\"https://www.atlantaonthecheap.com/fall-festivals-atlanta\",\"snippet\":\"October 12 and 13, 2024 October 19 and 20, 2024 Ellijay, GA . This is one of the few festivals outside metro Atlanta we include. It takes place in North Georgia, over two weekends in October. Spend a day on the farm, pick your own apples, visit over 100 vendor booths for arts, crafts, and apple-based food items. Well worth the drive!\",\"cachedPageUrl\":\"http://cc.bingj.com/cache.aspx?q=things\\u002Bto\\u002Bdo\\u002Bin\\u002BAtlanta\\u002BOctober\\u002B12\\u002B2024\\u0026d=5012794228946274\\u0026mkt=en-US\\u0026setlang=en-US\\u0026w=AqqJM900-WHnjjGt9vluoyq1DPm6ofe-\",\"thumbnailUrl\":\"https://www.bing.com/th?id=OIP.w0-v0ll6eXl6tJfBd5-ovwHaEV\\u0026w=80\\u0026h=80\\u0026c=1\\u0026pid=5.1\"},{\"name\":\"Fall festivals in metro Atlanta and North Georgia | 2024\",\"url\":\"https://www.fox5atlanta.com/news/fall-festivals-metro-atlanta-north-georgia-2024\",\"displayUrl\":\"https://www.fox5atlanta.com/news/fall-festivals-metro-atlanta-north-georgia-2024\",\"snippet\":\"When: Oct. 12-15, 2024 Where : Piedmont Park, Atlanta What : One of the largest LGBTQ\\u002B pride events in the Southeast, featuring a parade, live performances, food, and family-friendly activities.\",\"cachedPageUrl\":\"http://cc.bingj.com/cache.aspx?q=things\\u002Bto\\u002Bdo\\u002Bin\\u002BAtlanta\\u002BOctober\\u002B12\\u002B2024\\u0026d=2173865470069\\u0026mkt=en-US\\u0026setlang=en-US\\u0026w=jxnOnRj04ciRcKNV8UVNHXKEd0PX1nap\"}]}}\n",
       "```\n",
       "\n",
       "I called the tool named crawl with these arguments:\n",
       "```\n",
       "{\"q\": \"things to do in Atlanta October 19 2024\", \"count\": 5, \"textFormat\": \"Raw\"}\n",
       "```\n",
       "and got this result:\n",
       "```\n",
       "{\"queryContext\":{\"originalQuery\":\"things to do in Atlanta October 19 2024\"},\"webPages\":{\"value\":[{\"name\":\"Cool Things To Do in October in Atlanta\",\"url\":\"https://discoveratlanta.com/stories/things-to-do/cool-things-to-do-in-october-in-atlanta/\",\"displayUrl\":\"https://discoveratlanta.com/stories/things-to-do/cool-things-to-do-in-october-in-atlanta\",\"snippet\":\"Corn Dogs, Rides and Whack a Mole. The Atlanta Fair brings the best of a traditional fair to Atlanta with everything from cotton candy, a Ferris wheel, fishing for goldfish, a tilt-a-whirl and a carousel. The fair, located across from the Georgia State University Stadium, will be in town Oct. 4-Nov. 3. Read More.\",\"cachedPageUrl\":\"http://cc.bingj.com/cache.aspx?q=things\\u002Bto\\u002Bdo\\u002Bin\\u002BAtlanta\\u002BOctober\\u002B19\\u002B2024\\u0026d=4714289705734711\\u0026mkt=en-US\\u0026setlang=en-US\\u0026w=6a-yO_DfCUxfz-dx9C91WDDECk49pD7V\",\"thumbnailUrl\":\"https://www.bing.com/th?id=OIP.4jf9xqKu3QRk_XhZ3J7DYQHaD4\\u0026w=80\\u0026h=80\\u0026c=1\\u0026pid=5.1\"},{\"name\":\"Atlanta Events - October 2024 - Go South Atlanta\",\"url\":\"https://gosouthatlanta.com/things-to-do/events/atlanta-in-october.html\",\"displayUrl\":\"https://gosouthatlanta.com/things-to-do/events/atlanta-in-october.html\",\"snippet\":\"Things to do in Atlanta, GA in October, including upcoming festivals, fall and Halloween events, Pride events, comedy, musicals, plays, races, conventions, neighborhood events, cultural events, and more. ... \\u2013 PNC Atlanta 10 Miler \\u0026 5K, October 19-20 2024 Annual 10-mile, 5K and 1-mile youth runs through Buckhead, from Atlantic Station.\",\"cachedPageUrl\":\"http://cc.bingj.com/cache.aspx?q=things\\u002Bto\\u002Bdo\\u002Bin\\u002BAtlanta\\u002BOctober\\u002B19\\u002B2024\\u0026d=4907344187949765\\u0026mkt=en-US\\u0026setlang=en-US\\u0026w=jtKzhu3KOsa3mkDLUvcm_m1afK8iBTpt\"},{\"name\":\"Atlanta Events October 2024: Concerts, Shows, Sports...\",\"url\":\"https://atlanta-ga.events/october/\",\"displayUrl\":\"https://atlanta-ga.events/october\",\"snippet\":\"Explore our comprehensive calendar for all the current and upcoming events in Atlanta, GA, for October 2024. This guide is your gateway to discovering the best things to do in Atlanta, from Concerts and Theater Shows to Sports events and music festivals. You\\u2019ll find a detailed list of all the most engaging and exciting activities happening throughout the month.\",\"cachedPageUrl\":\"http://cc.bingj.com/cache.aspx?q=things\\u002Bto\\u002Bdo\\u002Bin\\u002BAtlanta\\u002BOctober\\u002B19\\u002B2024\\u0026d=4898908879865838\\u0026mkt=en-US\\u0026setlang=en-US\\u0026w=vC_zzFLZ91uzxHogtJy0oBuKycEPAm_-\"},{\"name\":\"80\\u002B fall festivals \\u0026 fairs around metro Atlanta: Fun things to do in ...\",\"url\":\"https://www.atlantaonthecheap.com/fall-festivals-atlanta/\",\"displayUrl\":\"https://www.atlantaonthecheap.com/fall-festivals-atlanta\",\"snippet\":\"October 12 and 13, 2024 October 19 and 20, 2024 Ellijay, GA . This is one of the few festivals outside metro Atlanta we include. It takes place in North Georgia, over two weekends in October. Spend a day on the farm, pick your own apples, visit over 100 vendor booths for arts, crafts, and apple-based food items. Well worth the drive!\",\"cachedPageUrl\":\"http://cc.bingj.com/cache.aspx?q=things\\u002Bto\\u002Bdo\\u002Bin\\u002BAtlanta\\u002BOctober\\u002B19\\u002B2024\\u0026d=5012794228946274\\u0026mkt=en-US\\u0026setlang=en-US\\u0026w=AqqJM900-WHnjjGt9vluoyq1DPm6ofe-\",\"thumbnailUrl\":\"https://www.bing.com/th?id=OIP.w0-v0ll6eXl6tJfBd5-ovwHaEV\\u0026w=80\\u0026h=80\\u0026c=1\\u0026pid=5.1\"},{\"name\":\"26 Thrilling Things To Do In Atlanta This October - Secret Atlanta\",\"url\":\"https://secretatlanta.co/things-to-do-october/\",\"displayUrl\":\"https://secretatlanta.co/things-to-do-october\",\"snippet\":\"Without further ado, here are 26 incredible things to do in Atlanta this October! 1. ... 19. Get lost in these enchanting corn mazes near Atlanta. Jaemor Farms. ... September 20, 2024. 18 Frightfully Fun Halloween Events Happening In Atlanta. September 20, 2024 ...\",\"cachedPageUrl\":\"http://cc.bingj.com/cache.aspx?q=things\\u002Bto\\u002Bdo\\u002Bin\\u002BAtlanta\\u002BOctober\\u002B19\\u002B2024\\u0026d=4673096676868625\\u0026mkt=en-US\\u0026setlang=en-US\\u0026w=BDZ6Krx8ATVNFCQACSuK0PesDCkO7vK5\",\"thumbnailUrl\":\"https://www.bing.com/th?id=OIP.oVWYpGkEV4zoUw2uzcrcYgHaD6\\u0026w=80\\u0026h=80\\u0026c=1\\u0026pid=5.1\"}]}}\n",
       "```\n",
       "\n",
       "I called the tool named ExtractContentFromUrl with these arguments:\n",
       "```\n",
       "{\"assistantName\": \"WebPageAgentAnt\", \"instructions\": \"List events happening in Atlanta on September 28, 2024. Include details and images. https://discoveratlanta.com/stories/things-to-do/cool-things-to-do-in-september-in-atlanta/\"}\n",
       "```\n",
       "and got this result:\n",
       "```\n",
       "\"Here are the events happening in Atlanta on September 28, 2024:\\n\\n### Sweet Auburn Music Fest\\n- **Date:** September 28-29, 2024\\n- **Location:** Auburn Avenue, Atlanta\\n- **Details:** The Sweet Auburn Music Fest is a vibrant celebration featuring live music ranging from R\\u0026B to gospel and alternative favorites. It includes an international food court, national artists, celebrities, and a variety of vendors.\\n- **Image:**\\n  ![](https://res.cloudinary.com/atlanta/images/w_1024,h_442,c_scale/v1602355972/newAtlanta.com/Zz05MmIyZjQyZWNhOWYxMWVhYjNjMTBhODU2ZjA4Y2UwNw-scaled/Zz05MmIyZjQyZWNhOWYxMWVhYjNjMTBhODU2ZjA4Y2UwNw-scaled.jpg?_i=AA)\\n\\n### Forward Warrior\\n- **Date:** September 28, 2024\\n- **Time:** 9 a.m. to 9 p.m.\\n- **Location:** Wylie Street, Cabbagetown\\n- **Details:** This annual live art event features various artists and activities throughout the day.\\n\\n### Baldie Con\\n- **Date:** September 27-29, 2024\\n- **Location:** JW Marriott Atlanta Buckhead\\n- **Details:** Baldie Con is an empowerment conference for individuals who are bald, celebrating and uniting those affected by alopecia, lupus, cancer, or by choice. The event includes a meet and greet, a Baldie Ball with an award ceremony, and a Sunday Jazz Brunch.\\n- **Image:**\\n  ![](https://res.cloudinary.com/atlanta/images/w_668,h_1024,c_scale/v1724428012/newAtlanta.com/Baldie-Con-flyer/Baldie-Con-flyer.jpeg?_i=AA)\\n\\nThese events promise a lively weekend filled with music, culture, and community engagement in Atlanta!\"\n",
       "```\n",
       "\n",
       "I called the tool named ExtractContentFromUrl with these arguments:\n",
       "```\n",
       "{\"assistantName\": \"WebPageAgentAnt\", \"instructions\": \"List events happening in Atlanta on September 28, 2024. Include details and images. https://gosouthatlanta.com/things-to-do/events/atlanta-in-september.html\"}\n",
       "```\n",
       "and got this result:\n",
       "```\n",
       "\"Here are the events happening in Atlanta on September 28, 2024:\\n\\n1. **East Atlanta Strut**\\n   - **Description**: An annual neighborhood festival in East Atlanta featuring a parade, contests, marketplaces, music, and more.\\n   - **Details**: Family-friendly event with various activities.\\n   - **Image**: N/A\\n\\n2. **Yappy Hour**\\n   - **Description**: A pet-friendly event series at The Hamilton Hotel Alpharetta, featuring pet adoptions and specialty cocktails.\\n   - **Details**: Great for dog lovers and those looking to adopt pets.\\n   - **Image**: N/A\\n\\n3. **AIDS Walk Atlanta Music Festival \\u0026 5K Run**\\n   - **Description**: A 5K run/walk and music festival in Piedmont Park to benefit AIDS services in Atlanta.\\n   - **Details**: Combines fitness with a cause, live music, and community support.\\n   - **Image**: N/A\\n\\n4. **French Market Atlanta**\\n   - **Description**: A French-style outdoor market in Buckhead Village District, showcasing French food, crafts, and live music.\\n   - **Details**: Experience French culture and cuisine.\\n   - **Image**: N/A\\n\\n5. **Fine Wine Festival**\\n   - **Description**: A wine festival at the Home Depot Backyard, featuring wine tastings, R\\u0026B music, and more.\\n   - **Details**: Perfect for wine enthusiasts and music lovers.\\n   - **Image**: N/A\\n\\n6. **Trae Crowder**\\n   - **Description**: A comedy show at the Buckhead Theatre.\\n   - **Details**: Stand-up performance by the popular comedian.\\n   - **Image**: N/A\\n\\n7. **Ghost Files Live!**\\n   - **Description**: A paranormal investigation live show at the Cobb Energy Performing Arts Centre.\\n   - **Details**: Engaging experience for fans of the paranormal.\\n   - **Image**: N/A\\n\\n8. **Riverfest**\\n   - **Description**: An annual juried arts and crafts festival in Etowah River Park, Canton, featuring 150\\u002B artists and artisans, local food trucks, and musicians.\\n   - **Details**: Family-friendly with children\\u0027s activities and entertainment.\\n   - **Image**: N/A\\n\\n9. **Roswell Wine Festival**\\n   - **Description**: An annual wine festival in downtown Roswell, offering wine tastings, local restaurant food, and live music.\\n   - **Details**: A great outing for wine lovers and foodies.\\n   - **Image**: N/A\\n\\n10. **Duluth Fall Festival**\\n    - **Description**: A popular fall neighborhood festival in downtown Duluth with a parade, 5K race, concert, arts and crafts, food, and more.\\n    - **Details**: Community event celebrating the fall season.\\n    - **Image**: N/A\\n\\n11. **Everyday Heroes**\\n    - **Description**: A dance performance at the Gas South Theater.\\n    - **Details**: A showcase of talent and creativity.\\n    - **Image**: N/A\\n\\n12. **Atlanta Comic Convention**\\n    - **Description**: A comic book and collectibles convention at the Marriott Hotel - Century Center.\\n    - **Details**: Ideal for comic book fans and collectors.\\n    - **Image**: N/A\\n\\nUnfortunately, there are no images provided for these events. You can check back closer to the date or visit the event websites for more details and visuals.\"\n",
       "```\n",
       "\n",
       "I called the tool named ExtractContentFromUrl with these arguments:\n",
       "```\n",
       "{\"assistantName\": \"WebPageAgentAnt\", \"instructions\": \"List events happening in Atlanta on October 5, 2024. Include details and images. https://gosouthatlanta.com/things-to-do/events/atlanta-in-october.html\"}\n",
       "```\n",
       "and got this result:\n",
       "```\n",
       "\"Here are the events happening in Atlanta on October 5, 2024, along with details:\\n\\n1. **Wings \\u0026 Whitewalls**\\n   - **Date:** October 5, 2024\\n   - **Details:** A fall car show at the Aviation History \\u0026 Technology Center in Marietta, featuring vintage aircraft, cars, and more.\\n   - **Image:** ![Wings \\u0026 Whitewalls](https://example.com/wings_and_whitewalls.jpg) *(Note: Image link is illustrative, please replace with actual image if available)*\\n\\n2. **Taste of Tucker**\\n   - **Date:** October 5, 2024\\n   - **Details:** An annual food festival along Main Street in Tucker, featuring food and drink from local restaurants and breweries, arts and crafts, music, and more.\\n   - **Image:** ![Taste of Tucker](https://example.com/taste_of_tucker.jpg) *(Note: Image link is illustrative, please replace with actual image if available)*\\n\\n3. **EGGtoberfest**\\n   - **Date:** October 5, 2024\\n   - **Details:** A barbecue festival at Coolray Field in Lawrenceville, featuring a cook-off, cooking demonstrations, children\\u0027s activities, and more.\\n   - **Image:** ![EGGtoberfest](https://example.com/eggtoberfest.jpg) *(Note: Image link is illustrative, please replace with actual image if available)*\\n\\n4. **WWE Bad Blood**\\n   - **Date:** October 5, 2024\\n   - **Details:** A wrestling event at State Farm Arena.\\n   - **Image:** ![WWE Bad Blood](https://example.com/wwe_bad_blood.jpg) *(Note: Image link is illustrative, please replace with actual image if available)*\\n\\n5. **Festival on Ponce**\\n   - **Date:** October 5-6, 2024\\n   - **Details:** A twice-annual arts festival in Olmsted Linear Park, featuring over 125 vendors of fine art, folk art, and outsider art, along with food, drink, and children\\u0027s activities.\\n   - **Image:** ![Festival on Ponce](https://example.com/festival_on_ponce.jpg) *(Note: Image link is illustrative, please replace with actual image if available)*\\n\\n6. **Candler Park Fall Fest**\\n   - **Date:** October 5-6, 2024\\n   - **Details:** A popular annual festival in Candler Park with live music, art, food, rides, games, and more.\\n   - **Image:** ![Candler Park Fall Fest](https://example.com/candler_park_fall_fest.jpg) *(Note: Image link is illustrative, please replace with actual image if available)*\\n\\n7. **Atlanta Arab Festival**\\n   - **Date:** October 5-6, 2024\\n   - **Details:** An annual festival of Arabic food and culture at the Alif Institute, featuring traditional dishes, live performances, vendors, exhibits, workshops, and games.\\n   - **Image:** ![Atlanta Arab Festival](https://example.com/atlanta_arab_festival.jpg) *(Note: Image link is illustrative, please replace with actual image if available)*\\n\\n8. **Aladdin**\\n   - **Date:** October 5-6, 2024\\n   - **Details:** A ballet performance at the Gas South Theater.\\n   - **Image:** ![Aladdin](https://example.com/aladdin.jpg) *(Note: Image link is illustrative, please replace with actual image if available)*\\n\\n9. **ASC Presents Havoc Movement\\u2019s Dracula: The Failings of Men**\\n   - **Date:** October 5 - November 3, 2024\\n   - **Details:** A performance at the Shakespeare Tavern Playhouse.\\n   - **Image:** ![Havoc Movement\\u0027s Dracula](https://example.com/havoc_movements_dracula.jpg) *(Note: Image link is illustrative, please replace with actual image if available)*\\n\\nThese events offer a range of activities from food and arts to entertainment and cultural experiences. For further details, please check the official event websites closer to the date.\"\n",
       "```\n",
       "\n",
       "I called the tool named ExtractContentFromUrl with these arguments:\n",
       "```\n",
       "{\"assistantName\": \"WebPageAgentAnt\", \"instructions\": \"List events happening in Atlanta on October 12, 2024. Include details and images. https://discoveratlanta.com/stories/things-to-do/cool-things-to-do-in-october-in-atlanta/\"}\n",
       "```\n",
       "and got this result:\n",
       "```\n",
       "\"On October 12, 2024, there are several exciting events happening in Atlanta. Here are the details:\\n\\n### 1. **FashionFest**\\n- **Dates**: October 11-13, 2024\\n- **Description**: An immersive platform offering an insider\\u0027s look into urban and pop culture, combining elements of a festival and exhibition. Attendees can engage with brands, learn from industry experts, enjoy live performances, and shop for limited edition goods.\\n  \\n### 2. **Fashion Week Events**\\n- **Description**: Atlanta Fashion Week runs from October 2-7, culminating in various fashion-related activities leading into the weekend. Expect runway shows and pop-up displays from diverse designers.\\n\\n### 3. **The Lion King**\\n- **Location**: Fox Theatre\\n- **Dates**: October 2-20, 2024\\n- **Description**: The beloved musical \\u0022The Lion King\\u0022 will be showing, featuring a stunning production that has captivated audiences for over 22 years. \\n\\n![The Lion King](https://res.cloudinary.com/atlanta/images/w_2560,h_1706,c_scale/v1726166160/newAtlanta.com/S9-GeraldRamseyasMufasa.TheLionKingNorthAmericanTourC2A9Disney.PhotobyMatthewMurphy28229/S9-GeraldRamseyasMufasa.TheLionKingNorthAmericanTourC2A9Disney.PhotobyMatthewMurphy28229.jpg?_i=AA)\\n\\n### 4. **Atlanta Symphony Orchestra**\\n- **Description**: While specific details for the orchestra\\u0027s events on October 12 are not listed, the symphony will be performing various works throughout October, including pieces by Haydn and Mendelssohn.\\n\\n### 5. **Art Exhibits**\\n- **Ongoing Exhibitions**: \\u0022If You Look Hard Enough, You Can See Our Future\\u0022 at the African Diaspora Art Museum of Atlanta, featuring works from various African artists, open until November 2, 2024.\\n\\n### 6. **Impressionist Virtual Reality Exhibit**\\n- **Location**: Eclipse Centre\\n- **Description**: \\u0022Tonight with the Impressionists\\u0022 is a virtual reality exhibit that allows visitors to experience the world of Impressionist painters.\\n\\n### 7. **Local Festivals**\\n- **Description**: Various local festivals are taking place throughout October, celebrating music, art, and culture across different neighborhoods.\\n\\n### 8. **Holographic Theater at Ponce City Market**\\n- **Description**: Experience augmented reality at Verse Immersive, where guests can enjoy interactive tales using AR visors.\\n\\n![Holographic Theater](https://res.cloudinary.com/atlanta/images/v1726166509/newAtlanta.com/Verse-Immersive-Headset_Photo-Courtesy-of-Verse-Immersive-resized/Verse-Immersive-Headset_Photo-Courtesy-of-Verse-Immersive-resized.png?_i=AA)\\n\\nThese events provide a glimpse into the vibrant cultural scene in Atlanta during that weekend. Make sure to check specific venues for ticket information and any additional events that may be scheduled closer to the date.\"\n",
       "```\n",
       "\n",
       "I called the tool named ExtractContentFromUrl with these arguments:\n",
       "```\n",
       "{\"assistantName\": \"WebPageAgentAnt\", \"instructions\": \"List events happening in Atlanta on October 19, 2024. Include details and images. https://discoveratlanta.com/stories/things-to-do/cool-things-to-do-in-october-in-atlanta/\"}\n",
       "```\n",
       "and got this result:\n",
       "```\n",
       "\"On October 19, 2024, the following events are happening in Atlanta:\\n\\n### Little Five Points Halloween Festival and Parade\\n![Little Five Points Halloween Festival](https://res.cloudinary.com/atlanta/images/w_2560,h_1707,c_scale/v1726166287/newAtlanta.com/23-Halloween-Reid-Koski_4-copy/23-Halloween-Reid-Koski_4-copy.jpg?_i=AA)\\n- **Description**: The Little Five Points neighborhood hosts a Halloween Festival featuring live music from local underground acts, an art and vintage market, ghost tours, a skate park, and various food and drink vendors. The highlight is the Halloween parade, recognized as the largest and spookiest in the Southeast.\\n- **Date**: October 19-20, 2024\\n\\n### Atlanta Symphony Orchestra Performances\\n- **Description**: The Atlanta Symphony Orchestra will perform notable works by Haydn and Mendelssohn from October 17-19. This performance is part of the symphony\\u0027s series and is not to be missed by classical music enthusiasts.\\n\\n### Other Nearby Events\\nWhile the specific event for October 19 is the Halloween Festival, the broader context of October includes various activities such as the continuation of the Atlanta Pride festivities and the Atlanta Fair, which runs from October 4 to November 3.\\n\\nFor more detailed information and updates, you may visit the [Discover Atlanta website](https://discoveratlanta.com/stories/things-to-do/cool-things-to-do-in-october-in-atlanta/).\"\n",
       "```\n",
       "\n",
       "Here are some exciting events happening in Atlanta for the next four weekends:\n",
       "\n",
       "### Weekend of September 28, 2024\n",
       "1. **Sweet Auburn Music Fest**\n",
       "   - **Date:** September 28-29, 2024\n",
       "   - **Location:** Auburn Avenue, Atlanta\n",
       "   - **Details:** A vibrant celebration featuring live music, an international food court, and various vendors.\n",
       "   - ![Sweet Auburn Music Fest](https://res.cloudinary.com/atlanta/images/w_1024,h_442,c_scale/v1602355972/newAtlanta.com/Zz05MmIyZjQyZWNhOWYxMWVhYjNjMTBhODU2ZjA4Y2UwNw-scaled/Zz05MmIyZjQyZWNhOWYxMWVhYjNjMTBhODU2ZjA4Y2UwNw-scaled.jpg?_i=AA)\n",
       "   - [More Info](https://discoveratlanta.com/stories/things-to-do/cool-things-to-do-in-september-in-atlanta/)\n",
       "\n",
       "2. **East Atlanta Strut**\n",
       "   - **Description:** An annual festival featuring a parade, contests, and local vendors.\n",
       "   - [More Info](https://gosouthatlanta.com/things-to-do/events/atlanta-in-september.html)\n",
       "\n",
       "3. **AIDS Walk Atlanta Music Festival & 5K Run**\n",
       "   - **Description:** A 5K run/walk and music festival in Piedmont Park.\n",
       "   - [More Info](https://gosouthatlanta.com/things-to-do/events/atlanta-in-september.html)\n",
       "\n",
       "### Weekend of October 5, 2024\n",
       "1. **Wings & Whitewalls**\n",
       "   - **Date:** October 5, 2024\n",
       "   - **Details:** A fall car show at the Aviation History & Technology Center featuring vintage aircraft and cars.\n",
       "   - ![Wings & Whitewalls](https://example.com/wings_and_whitewalls.jpg) *(Image link is illustrative)*\n",
       "\n",
       "2. **Taste of Tucker**\n",
       "   - **Description:** A food festival along Main Street in Tucker featuring local food and drinks.\n",
       "   - [More Info](https://gosouthatlanta.com/things-to-do/events/atlanta-in-october.html)\n",
       "\n",
       "3. **Festival on Ponce**\n",
       "   - **Date:** October 5-6, 2024\n",
       "   - **Details:** An arts festival in Olmsted Linear Park with over 125 vendors.\n",
       "   - ![Festival on Ponce](https://example.com/festival_on_ponce.jpg) *(Image link is illustrative)*\n",
       "\n",
       "### Weekend of October 12, 2024\n",
       "1. **FashionFest**\n",
       "   - **Dates:** October 11-13, 2024\n",
       "   - **Description:** An immersive platform showcasing urban and pop culture.\n",
       "   - [More Info](https://discoveratlanta.com/stories/things-to-do/cool-things-to-do-in-october-in-atlanta/)\n",
       "\n",
       "2. **The Lion King Musical**\n",
       "   - **Location:** Fox Theatre\n",
       "   - **Dates:** October 2-20, 2024\n",
       "   - **Description:** A stunning production of the beloved musical.\n",
       "   - ![The Lion King](https://res.cloudinary.com/atlanta/images/w_2560,h_1706,c_scale/v1726166160/newAtlanta.com/S9-GeraldRamseyasMufasa.TheLionKingNorthAmericanTourC2A9Disney.PhotobyMatthewMurphy28229/S9-GeraldRamseyasMufasa.TheLionKingNorthAmericanTourC2A9Disney.PhotobyMatthewMurphy28229.jpg?_i=AA)\n",
       "\n",
       "### Weekend of October 19, 2024\n",
       "1. **Little Five Points Halloween Festival and Parade**\n",
       "   - **Description:** Featuring live music, an art market, and the largest Halloween parade in the Southeast.\n",
       "   - **Date:** October 19-20, 2024\n",
       "   - ![Little Five Points Halloween Festival](https://res.cloudinary.com/atlanta/images/w_2560,h_1707,c_scale/v1726166287/newAtlanta.com/23-Halloween-Reid-Koski_4-copy/23-Halloween-Reid-Koski_4-copy.jpg?_i=AA)\n",
       "   - [More Info](https://discoveratlanta.com/stories/things-to-do/cool-things-to-do-in-october-in-atlanta/)\n",
       "\n",
       "2. **Atlanta Symphony Orchestra Performances**\n",
       "   - **Description:** Performing notable works from classical composers.\n",
       "   - [More Info](https://discoveratlanta.com/stories/things-to-do/cool-things-to-do-in-october-in-atlanta/)\n",
       "\n",
       "These events promise a lively experience filled with music, culture, and community engagement in Atlanta! For more details, you can check the provided links.\n"
      ]
     },
     "metadata": {},
     "output_type": "display_data"
    }
   ],
   "source": [
    "assistantRunOptions = new AssistantRunOptions() {\n",
    "    AssistantName = \"WebSearchAgentAnt\",\n",
    "    Instructions = \"Use python to get todays date and then use it to find things to do in Atlanta for each of the next four weekends with pictures and correct links from ExtractContentFromUrl.\\n\\nWhen choosing links for crawl to evaluate with ExtractContentFromUrl choose a variety of hosts for urls from which you extract content. Limit your use of ExtractContentFromUrl to five calls or less. Do not make the error of including the url as a parameter, it must be inside 'instructions' as indicated by the tool definition. Be careful to not include events in the past in your final answer. You should perform four searches at once.\\nDon't forget to include valid links!\",\n",
    "};\n",
    "var output2 = await AntRunnerLib.AssistantRunner.RunThread(assistantRunOptions, config);\n",
    "output2.Dialog.DisplayAs(\"text/markdown\");"
   ]
  },
  {
   "cell_type": "markdown",
   "metadata": {},
   "source": [
    "## Clean Up"
   ]
  },
  {
   "cell_type": "code",
   "execution_count": 10,
   "metadata": {
    "dotnet_interactive": {
     "language": "csharp"
    },
    "polyglot_notebook": {
     "kernelName": "csharp"
    },
    "vscode": {
     "languageId": "polyglot-notebook"
    }
   },
   "outputs": [
    {
     "name": "stdout",
     "output_type": "stream",
     "text": [
      "Deleted assistant\n",
      "Deleted assistant\n"
     ]
    }
   ],
   "source": [
    "var assistant = (await client.AssistantList())?.Data?.FirstOrDefault(o => o.Name == \"WebSearchAgentAnt\");\n",
    "if(assistant != null) {\n",
    "    await client.AssistantDelete(assistant.Id);\n",
    "    Console.WriteLine(\"Deleted assistant\");\n",
    "}\n",
    "else\n",
    "{\n",
    "    Console.WriteLine(\"Didn't find WebSearchAgentAnt\");\n",
    "}\n",
    "\n",
    "assistant = (await client.AssistantList())?.Data?.FirstOrDefault(o => o.Name == \"WebPageAgentAnt\");\n",
    "if(assistant != null) {\n",
    "    await client.AssistantDelete(assistant.Id);\n",
    "    Console.WriteLine(\"Deleted assistant\");\n",
    "}\n",
    "else\n",
    "{\n",
    "    Console.WriteLine(\"Didn't find WebPageAgentAnt\");\n",
    "}"
   ]
  }
 ],
 "metadata": {
  "kernelspec": {
   "display_name": ".NET (C#)",
   "language": "C#",
   "name": ".net-csharp"
  },
  "language_info": {
   "name": "python"
  },
  "polyglot_notebook": {
   "kernelInfo": {
    "defaultKernelName": "csharp",
    "items": [
     {
      "aliases": [],
      "name": "csharp"
     }
    ]
   }
  }
 },
 "nbformat": 4,
 "nbformat_minor": 2
}
