{
 "cells": [
  {
   "cell_type": "markdown",
   "metadata": {},
   "source": [
    "# This notebook requires a deployment of \"gpt-4o-mini\", edit as needed\n",
    "\n",
    "## Web Search Ant As Tool\n",
    "\n",
    "This example demonstrates one ant using another ant as a tool so that the second ant's work is outside the main thread.\n",
    "\n",
    "The **WebSearchAgentAnt** demonstrates the use of a Web API secured using an API key with an auth header. \n",
    "This sample requires you to create a Web Search (bing) resource in Azure and enter its corresponding API key in [0-AI-settings](0-AI-settings.ipynb)\n",
    "\n",
    "WebSearchAgentAnt uses **WebPageAgentAnt** via a tool call to evaluate search results using the search results link.\n",
    "This demo uses a lot of tokens. \n",
    "\n",
    "**If your quota is low, you will get throttled**"
   ]
  },
  {
   "cell_type": "markdown",
   "metadata": {},
   "source": [
    "## First steps\n",
    "- First, download AntRunLib from Nuget\n",
    "- At least once, set up the environment using **[0-AI-settings](0-AI-settings.ipynb)**"
   ]
  },
  {
   "cell_type": "code",
   "execution_count": 1,
   "metadata": {
    "dotnet_interactive": {
     "language": "csharp"
    },
    "polyglot_notebook": {
     "kernelName": "csharp"
    },
    "vscode": {
     "languageId": "polyglot-notebook"
    }
   },
   "outputs": [
    {
     "data": {
      "text/html": [
       "<div><div></div><div></div><div><strong>Installed Packages</strong><ul><li><span>AntRunnerLib, 0.8.7</span></li></ul></div></div>"
      ]
     },
     "metadata": {},
     "output_type": "display_data"
    }
   ],
   "source": [
    "#r \"nuget: AntRunnerLib, 0.8.8\"\n",
    "\n",
    "using AntRunnerLib;\n",
    "using AntRunnerLib.Identity;\n",
    "using static AntRunnerLib.ClientUtility;\n",
    "using System.IO;\n",
    "\n",
    "#!import config/Settings.cs \n",
    "\n",
    "var envVariables = Settings.GetEnvironmentVariables();\n",
    "foreach (var kvp in envVariables)\n",
    "{\n",
    "    Environment.SetEnvironmentVariable(kvp.Key, kvp.Value);\n",
    "}\n",
    "Environment.SetEnvironmentVariable(\"AZURE_OPENAI_DEPLOYMENT\", \"gpt-4o-mini\");\n",
    "\n",
    "var config = AzureOpenAiConfigFactory.Get();\n",
    "var client = GetOpenAiClient(config);\n"
   ]
  },
  {
   "cell_type": "code",
   "execution_count": 8,
   "metadata": {
    "dotnet_interactive": {
     "language": "csharp"
    },
    "polyglot_notebook": {
     "kernelName": "csharp"
    },
    "vscode": {
     "languageId": "polyglot-notebook"
    }
   },
   "outputs": [
    {
     "name": "stdout",
     "output_type": "stream",
     "text": [
      "asst_0RgtUEh9WVh1cd6DHQGgOIXr\n",
      "asst_dSzpkQ5H7wgxXLPqCld6Zf1A\n"
     ]
    }
   ],
   "source": [
    "var assistantId = await AssistantUtility.Create(\"WebSearchAgentAnt\", config);\n",
    "Console.WriteLine(assistantId);\n",
    "assistantId = await AssistantUtility.Create(\"WebPageAgentAnt\", config);\n",
    "Console.WriteLine(assistantId);"
   ]
  },
  {
   "cell_type": "code",
   "execution_count": 3,
   "metadata": {
    "dotnet_interactive": {
     "language": "csharp"
    },
    "polyglot_notebook": {
     "kernelName": "csharp"
    },
    "vscode": {
     "languageId": "polyglot-notebook"
    }
   },
   "outputs": [],
   "source": [
    "AntLoader.LoadAssembly(@\".\\AssistantDefinitions\\WebPageAgentAnt\\HtmlAgilityPack.dll\");\n",
    "AntLoader.LoadAssembly(@\".\\AssistantDefinitions\\WebPageAgentAnt\\HtmlAgilityPackExtensions.dll\");"
   ]
  },
  {
   "cell_type": "markdown",
   "metadata": {},
   "source": [
    "## Run the Assistant\n",
    "\n",
    "`output.Dialog` shows the conversation."
   ]
  },
  {
   "cell_type": "code",
   "execution_count": 4,
   "metadata": {
    "dotnet_interactive": {
     "language": "csharp"
    },
    "polyglot_notebook": {
     "kernelName": "csharp"
    },
    "vscode": {
     "languageId": "polyglot-notebook"
    }
   },
   "outputs": [
    {
     "data": {
      "text/markdown": [
       "\n",
       "User: Use python to get todays date and then use it to find things to do in Atlanta today. Be careful to not include events in the past in your final answer.\n",
       "\n",
       "Assistant: I ran this code:\n",
       "```\n",
       "from datetime import datetime\r\n",
       "\r\n",
       "# Get today's date\r\n",
       "today_date = datetime.now().date()\r\n",
       "today_date\n",
       "```\n",
       "\n",
       "I called the tool named crawl with these arguments:\n",
       "```\n",
       "{\"q\":\"things to do in Atlanta on 2024-09-25\",\"count\":5,\"textFormat\":\"Raw\"}\n",
       "```\n",
       "and got this result:\n",
       "```\n",
       "{\"queryContext\":{\"originalQuery\":\"things to do in Atlanta on 2024-09-25\"},\"webPages\":{\"value\":[{\"name\":\"Events and Things to Do in Atlanta GA this from 2024-09-28 to 2024-09-29\",\"url\":\"https://eventcartel.com/events/all-categories/atlanta/from_2024-09-28_to_2024-09-29\",\"displayUrl\":\"https://eventcartel.com/events/all-categories/atlanta/from_2024-09-28_to_2024-09-29\",\"snippet\":\"Explore a wide range of events and things to do from 2024-09-28 to 2024-09-29 tailored to offer you the best in entertainment and fun things to do in Atlanta. Whether you\\u2019re interested in the latest concerts, theater shows, or other local events happening from 2024-09-28 to 2024-09-29, everything you need is just a few clicks away.\",\"cachedPageUrl\":\"http://cc.bingj.com/cache.aspx?q=things\\u002Bto\\u002Bdo\\u002Bin\\u002BAtlanta\\u002Bon\\u002B2024-09-25\\u0026d=593829212581\\u0026mkt=en-US\\u0026setlang=en-US\\u0026w=ArLA-810ZZkaWFgm_VL8k_3YAMhRPChX\",\"thumbnailUrl\":\"https://www.bing.com/th?id=OIF.j9DT03xNjIPyoPYsyjOF4w\\u0026w=80\\u0026h=80\\u0026c=1\\u0026pid=5.1\"},{\"name\":\"Atlanta Events September 2024: Concerts, Shows, Sports...\",\"url\":\"https://atlanta-ga.events/september/\",\"displayUrl\":\"https://atlanta-ga.events/september\",\"snippet\":\"This guide is your gateway to discovering the best things to do in Atlanta, from Concerts and Theater Shows to Sports events and music festivals. You\\u2019ll find a detailed list of all the most engaging and exciting activities happening throughout the month. ... Sep 25, 2024 6:30 PM . Lorna Shore . Upcoming Events: 2. The Tabernacle - GA . Sep 25 ...\",\"cachedPageUrl\":\"http://cc.bingj.com/cache.aspx?q=things\\u002Bto\\u002Bdo\\u002Bin\\u002BAtlanta\\u002Bon\\u002B2024-09-25\\u0026d=4854189676169673\\u0026mkt=en-US\\u0026setlang=en-US\\u0026w=73iRaVHIvJefbkmdL1lCvH4mS1bjztOY\"},{\"name\":\"Cool Things To Do in September in Atlanta\",\"url\":\"https://discoveratlanta.com/stories/things-to-do/cool-things-to-do-in-september-in-atlanta/\",\"displayUrl\":\"https://discoveratlanta.com/stories/things-to-do/cool-things-to-do-in-september-in-atlanta\",\"snippet\":\"The Sweet Auburn Music Fest, which takes place Sept. 28-29. The festival, located on Auburn Avenue, one of Atlanta\\u2019s most iconic streets, offers fun-filled entertainment, live music \\u2014 everything from R\\u0026B to gospel to alternative favorites \\u2014 international food court, national artists, celebrities and vendors of all types.\",\"cachedPageUrl\":\"http://cc.bingj.com/cache.aspx?q=things\\u002Bto\\u002Bdo\\u002Bin\\u002BAtlanta\\u002Bon\\u002B2024-09-25\\u0026d=4692574352310340\\u0026mkt=en-US\\u0026setlang=en-US\\u0026w=c-5Oucqqe-FV74GkIkdoRE4k4vk9MNbJ\",\"thumbnailUrl\":\"https://www.bing.com/th?id=OIP.m0ENCio7ytS2o9PQRWDCRgHaD4\\u0026w=80\\u0026h=80\\u0026c=1\\u0026pid=5.1\"},{\"name\":\"Explore Atlanta Events for Today, This Week or Weekend\",\"url\":\"https://discoveratlanta.com/events/main/\",\"displayUrl\":\"https://discoveratlanta.com/events/m\",\"snippet\":\"Explore the Atlanta events calendar for things to do today, this week or this weekend. Find upcoming festivals, seasonal events and more! ... Every Saturday until 09/28/2024. Protect Yo Energy Con 9/24/24 \\u2013 11/9/24. ... Every Wednesday until 09/25/2024\",\"cachedPageUrl\":\"http://cc.bingj.com/cache.aspx?q=things\\u002Bto\\u002Bdo\\u002Bin\\u002BAtlanta\\u002Bon\\u002B2024-09-25\\u0026d=4819881473496114\\u0026mkt=en-US\\u0026setlang=en-US\\u0026w=zvJBiG0Dg4eP1GMx_bJv9FTM8ziERJGY\",\"thumbnailUrl\":\"https://www.bing.com/th?id=OIP.FkxSV6JbrWatsFMM3_8dIAHaEh\\u0026w=80\\u0026h=80\\u0026c=1\\u0026pid=5.1\"},{\"name\":\"Atlanta Events - September 2024 - Go South Atlanta\",\"url\":\"https://gosouthatlanta.com/things-to-do/events/atlanta-in-september.html\",\"displayUrl\":\"https://gosouthatlanta.com/things-to-do/events/atlanta-in-september.html\",\"snippet\":\"More details. \\u2013 Dragon Con, August 29 - September 2 2024. One of the biggest annual pop culture conventions in the country. More details. \\u2013 Atlanta Black Theatre Festival, August 30 - September 1 2024. Annual festival celebrating the Black experience in the performing arts, with plays, panels, masterclasses and other events.\",\"cachedPageUrl\":\"http://cc.bingj.com/cache.aspx?q=things\\u002Bto\\u002Bdo\\u002Bin\\u002BAtlanta\\u002Bon\\u002B2024-09-25\\u0026d=4712253893574850\\u0026mkt=en-US\\u0026setlang=en-US\\u0026w=aWkJWqw243Je4oOvzq1dGpeg_GE4sHjt\",\"thumbnailUrl\":\"https://www.bing.com/th?id=OIP.xm-3dn3hYJZHsVVU9WO5qwHaD4\\u0026w=80\\u0026h=80\\u0026c=1\\u0026pid=5.1\"}]}}\n",
       "```\n",
       "\n",
       "I called the tool named ExtractContentFromUrl with these arguments:\n",
       "```\n",
       "{\"assistantName\": \"WebPageAgentAnt\", \"instructions\": \"What events are happening in Atlanta today? https://eventcartel.com/events/all-categories/atlanta/from_2024-09-28_to_2024-09-29\"}\n",
       "```\n",
       "and got this result:\n",
       "```\n",
       "\"The information was not found in the page.\"\n",
       "```\n",
       "\n",
       "I called the tool named ExtractContentFromUrl with these arguments:\n",
       "```\n",
       "{\"assistantName\": \"WebPageAgentAnt\", \"instructions\": \"What events are happening in Atlanta today? https://atlanta-ga.events/september/\"}\n",
       "```\n",
       "and got this result:\n",
       "```\n",
       "\"The information was not found in the page.\"\n",
       "```\n",
       "\n",
       "I called the tool named ExtractContentFromUrl with these arguments:\n",
       "```\n",
       "{\"assistantName\": \"WebPageAgentAnt\", \"instructions\": \"What events are happening in Atlanta today? https://discoveratlanta.com/stories/things-to-do/cool-things-to-do-in-september-in-atlanta/\"}\n",
       "```\n",
       "and got this result:\n",
       "```\n",
       "\"The information regarding events happening in Atlanta today is not explicitly mentioned on the provided page. However, it does reference various events in September, including:\\n\\n1. **Atlanta Food \\u0026 Wine Festival**: Sept. 12-15\\n2. **Burger Benefit**: Sept. 22\\n3. **NETHERWORLD Haunted House**: Opens weekends starting Sept. 20-21\\n4. **Harvest on the Hooch**: Sept. 22\\n5. **Hispanic Heritage Month Celebrations**: Fiestas Patrias on Sept. 17\\n6. **Baldie Con**: Starts Sept. 27\\n7. **Sweet Auburn Music Fest**: Sept. 28-29\\n\\nFor specific events happening today, please check local listings or calendars for the most current information.\"\n",
       "```\n",
       "\n",
       "I called the tool named ExtractContentFromUrl with these arguments:\n",
       "```\n",
       "{\"assistantName\": \"WebPageAgentAnt\", \"instructions\": \"What events are happening in Atlanta today? https://discoveratlanta.com/events/main/\"}\n",
       "```\n",
       "and got this result:\n",
       "```\n",
       "\"Here are some events happening today in Atlanta:\\n\\n1. **Community Movie Night presented by Disney on Ice**\\n   - **Type:** Family \\u0026 Kids\\n   - **Date:** September 25, 2024\\n   - [More Info](https://discoveratlanta.com/event/detail/community-movie-night-presented-by-disney-on-ice/)\\n\\n2. **Oktoberfest Crafts \\u0026 Romcom Night**\\n   - **Type:** Other Activities\\n   - **Date:** September 25, 2024\\n   - [More Info](https://discoveratlanta.com/event/detail/oktoberfest-crafts-romcom-night/)\\n\\n3. **A Sunset Cruise aboard The Experience**\\n   - **Type:** Outdoors \\u0026 Recreation\\n   - **Date:** September 25, 2024 \\u2013 September 28, 2024\\n   - [More Info](https://discoveratlanta.com/event/detail/a-sunset-cruise-aboard-the-experience/)\\n\\n4. **Daddy Long Legs**\\n   - **Type:** Theater \\u0026 Performing Arts\\n   - **Date:** September 25, 2024 \\u2013 October 6, 2024\\n   - [More Info](https://discoveratlanta.com/event/detail/daddy-long-legs/)\\n\\n5. **Weekend Creekwater Alpaca Farm Barn Tour**\\n   - **Type:** Outdoors \\u0026 Recreation\\n   - **Date:** September 25, 2024 \\u2013 September 29, 2024\\n   - [More Info](https://discoveratlanta.com/event/detail/weekend-creekwater-alpaca-farm-barn-tour-2/)\\n\\nIf you\\u0027re interested in more events, you can explore further on their [events page](https://discoveratlanta.com/events/all/?date_sort=today).\"\n",
       "```\n",
       "\n",
       "I called the tool named ExtractContentFromUrl with these arguments:\n",
       "```\n",
       "{\"assistantName\": \"WebPageAgentAnt\", \"instructions\": \"What events are happening in Atlanta today? https://gosouthatlanta.com/things-to-do/events/atlanta-in-september.html\"}\n",
       "```\n",
       "and got this result:\n",
       "```\n",
       "\"The page you provided lists events happening in Atlanta, but it focuses on events scheduled for September 2024, not today. Therefore, the information was not found in the page. If you\\u0027re looking for events specifically happening today, I recommend checking local event listings or the official Atlanta event calendar.\"\n",
       "```\n",
       "\n",
       "Here are some events happening in Atlanta today, September 25, 2024:\n",
       "\n",
       "1. **Community Movie Night presented by Disney on Ice**\n",
       "   - **Type:** Family & Kids\n",
       "   - **Date:** September 25, 2024\n",
       "   - [More Info](https://discoveratlanta.com/event/detail/community-movie-night-presented-by-disney-on-ice/)\n",
       "\n",
       "2. **Oktoberfest Crafts & Romcom Night**\n",
       "   - **Type:** Other Activities\n",
       "   - **Date:** September 25, 2024\n",
       "   - [More Info](https://discoveratlanta.com/event/detail/oktoberfest-crafts-romcom-night/)\n",
       "\n",
       "3. **A Sunset Cruise aboard The Experience**\n",
       "   - **Type:** Outdoors & Recreation\n",
       "   - **Date:** September 25, 2024 – September 28, 2024\n",
       "   - [More Info](https://discoveratlanta.com/event/detail/a-sunset-cruise-aboard-the-experience/)\n",
       "\n",
       "4. **Daddy Long Legs**\n",
       "   - **Type:** Theater & Performing Arts\n",
       "   - **Date:** September 25, 2024 – October 6, 2024\n",
       "   - [More Info](https://discoveratlanta.com/event/detail/daddy-long-legs/)\n",
       "\n",
       "5. **Weekend Creekwater Alpaca Farm Barn Tour**\n",
       "   - **Type:** Outdoors & Recreation\n",
       "   - **Date:** September 25, 2024 – September 29, 2024\n",
       "   - [More Info](https://discoveratlanta.com/event/detail/weekend-creekwater-alpaca-farm-barn-tour-2/)\n",
       "\n",
       "You can explore more events on the official events page of [Discover Atlanta](https://discoveratlanta.com/events/all/?date_sort=today).\n"
      ]
     },
     "metadata": {},
     "output_type": "display_data"
    }
   ],
   "source": [
    "var assistantRunOptions = new AssistantRunOptions() {\n",
    "    AssistantName = \"WebSearchAgentAnt\",\n",
    "    Instructions = \"Use python to get todays date and then use it to find things to do in Atlanta today. Be careful to not include events in the past in your final answer.\",\n",
    "};\n",
    "var output = await AntRunnerLib.AssistantRunner.RunThread(assistantRunOptions, config);\n",
    "output.Dialog.DisplayAs(\"text/markdown\");"
   ]
  },
  {
   "cell_type": "code",
   "execution_count": 5,
   "metadata": {
    "dotnet_interactive": {
     "language": "csharp"
    },
    "polyglot_notebook": {
     "kernelName": "csharp"
    },
    "vscode": {
     "languageId": "polyglot-notebook"
    }
   },
   "outputs": [
    {
     "data": {
      "text/markdown": [
       "Here are some events happening in Atlanta today, September 25, 2024:\n",
       "\n",
       "1. **Community Movie Night presented by Disney on Ice**\n",
       "   - **Type:** Family & Kids\n",
       "   - **Date:** September 25, 2024\n",
       "   - [More Info](https://discoveratlanta.com/event/detail/community-movie-night-presented-by-disney-on-ice/)\n",
       "\n",
       "2. **Oktoberfest Crafts & Romcom Night**\n",
       "   - **Type:** Other Activities\n",
       "   - **Date:** September 25, 2024\n",
       "   - [More Info](https://discoveratlanta.com/event/detail/oktoberfest-crafts-romcom-night/)\n",
       "\n",
       "3. **A Sunset Cruise aboard The Experience**\n",
       "   - **Type:** Outdoors & Recreation\n",
       "   - **Date:** September 25, 2024 – September 28, 2024\n",
       "   - [More Info](https://discoveratlanta.com/event/detail/a-sunset-cruise-aboard-the-experience/)\n",
       "\n",
       "4. **Daddy Long Legs**\n",
       "   - **Type:** Theater & Performing Arts\n",
       "   - **Date:** September 25, 2024 – October 6, 2024\n",
       "   - [More Info](https://discoveratlanta.com/event/detail/daddy-long-legs/)\n",
       "\n",
       "5. **Weekend Creekwater Alpaca Farm Barn Tour**\n",
       "   - **Type:** Outdoors & Recreation\n",
       "   - **Date:** September 25, 2024 – September 29, 2024\n",
       "   - [More Info](https://discoveratlanta.com/event/detail/weekend-creekwater-alpaca-farm-barn-tour-2/)\n",
       "\n",
       "You can explore more events on the official events page of [Discover Atlanta](https://discoveratlanta.com/events/all/?date_sort=today)."
      ]
     },
     "metadata": {},
     "output_type": "display_data"
    }
   ],
   "source": [
    "output.LastMessage.DisplayAs(\"text/markdown\");"
   ]
  },
  {
   "cell_type": "code",
   "execution_count": 9,
   "metadata": {
    "dotnet_interactive": {
     "language": "csharp"
    },
    "polyglot_notebook": {
     "kernelName": "csharp"
    },
    "vscode": {
     "languageId": "polyglot-notebook"
    }
   },
   "outputs": [
    {
     "data": {
      "text/markdown": [
       "\n",
       "User: Use python to get todays date and then use it to find things to do in Atlanta for each of the next four weekends with pictures and correct links from ExtractContentFromUrl.\n",
       "\n",
       "When choosing links for crawl to evaluate with ExtractContentFromUrl choose a variety of hosts for urls from which you extract content. Limit your use of ExtractContentFromUrl to five calls or less. Do not make the error of including the url as a parameter, it must be inside 'instructions' as indicated by the tool definition. Be careful to not include events in the past in your final answer. You should perform four searches at once.\n",
       "Don't forget to include valid links!\n",
       "\n",
       "Assistant: I ran this code:\n",
       "```\n",
       "from datetime import datetime, timedelta\r\n",
       "\r\n",
       "# Get today's date\r\n",
       "today = datetime.now()\r\n",
       "\r\n",
       "# Generate the next four weekends\r\n",
       "weekends = [(today + timedelta(days=(5 - today.weekday()) + i * 7)).date() for i in range(4)]\r\n",
       "weekends\n",
       "```\n",
       "\n",
       "I called the tool named crawl with these arguments:\n",
       "```\n",
       "{\"q\": \"things to do in Atlanta on 2024-09-28\", \"count\": 5, \"textFormat\": \"Raw\"}\n",
       "```\n",
       "and got this result:\n",
       "```\n",
       "{\"queryContext\":{\"originalQuery\":\"things to do in Atlanta on 2024-09-28\"},\"webPages\":{\"value\":[{\"name\":\"Events and Things to Do in Atlanta GA this from 2024-09-28 to 2024-09-29\",\"url\":\"https://eventcartel.com/events/all-categories/atlanta/from_2024-09-28_to_2024-09-29\",\"displayUrl\":\"https://eventcartel.com/events/all-categories/atlanta/from_2024-09-28_to_2024-09-29\",\"snippet\":\"Explore a wide range of events and things to do from 2024-09-28 to 2024-09-29 tailored to offer you the best in entertainment and fun things to do in Atlanta. Whether you\\u2019re interested in the latest concerts, theater shows, or other local events happening from 2024-09-28 to 2024-09-29, everything you need is just a few clicks away.\",\"cachedPageUrl\":\"http://cc.bingj.com/cache.aspx?q=things\\u002Bto\\u002Bdo\\u002Bin\\u002BAtlanta\\u002Bon\\u002B2024-09-28\\u0026d=593829212581\\u0026mkt=en-US\\u0026setlang=en-US\\u0026w=ArLA-810ZZkaWFgm_VL8k_3YAMhRPChX\",\"thumbnailUrl\":\"https://www.bing.com/th?id=OIF.j9DT03xNjIPyoPYsyjOF4w\\u0026w=80\\u0026h=80\\u0026c=1\\u0026pid=5.1\"},{\"name\":\"Cool Things To Do in September in Atlanta\",\"url\":\"https://discoveratlanta.com/stories/things-to-do/cool-things-to-do-in-september-in-atlanta/\",\"displayUrl\":\"https://discoveratlanta.com/stories/things-to-do/cool-things-to-do-in-september-in-atlanta\",\"snippet\":\"The Sweet Auburn Music Fest, which takes place Sept. 28-29. The festival, located on Auburn Avenue, one of Atlanta\\u2019s most iconic streets, offers fun-filled entertainment, live music \\u2014 everything from R\\u0026B to gospel to alternative favorites \\u2014 international food court, national artists, celebrities and vendors of all types.\",\"cachedPageUrl\":\"http://cc.bingj.com/cache.aspx?q=things\\u002Bto\\u002Bdo\\u002Bin\\u002BAtlanta\\u002Bon\\u002B2024-09-28\\u0026d=4692574352310340\\u0026mkt=en-US\\u0026setlang=en-US\\u0026w=c-5Oucqqe-FV74GkIkdoRE4k4vk9MNbJ\",\"thumbnailUrl\":\"https://www.bing.com/th?id=OIP.m0ENCio7ytS2o9PQRWDCRgHaD4\\u0026w=80\\u0026h=80\\u0026c=1\\u0026pid=5.1\"},{\"name\":\"Atlanta Events September 2024: Concerts, Shows, Sports...\",\"url\":\"https://atlanta-ga.events/september/\",\"displayUrl\":\"https://atlanta-ga.events/september\",\"snippet\":\"Explore our comprehensive calendar for all the current and upcoming events in Atlanta, GA, for September 2024. This guide is your gateway to discovering the best things to do in Atlanta, ... Prices from $28 Avg. price ~ $33. 20 tickets remaining! Tickets; Sep. 24. 2024. 7:00 PM Tue.\",\"cachedPageUrl\":\"http://cc.bingj.com/cache.aspx?q=things\\u002Bto\\u002Bdo\\u002Bin\\u002BAtlanta\\u002Bon\\u002B2024-09-28\\u0026d=4854189676169673\\u0026mkt=en-US\\u0026setlang=en-US\\u0026w=73iRaVHIvJefbkmdL1lCvH4mS1bjztOY\"},{\"name\":\"Things to Do in Atlanta in 2024: Events, festivals, and exhibits ...\",\"url\":\"https://www.thrillist.com/events/atlanta/events-calendar-in-atlanta-this-year\",\"displayUrl\":\"https://www.thrillist.com/events/atlanta/events-calendar-in-atlanta-this-year\",\"snippet\":\"September 28\\u201329, 2024 Old Fourth Ward ... October 11\\u201313, 2024 Various locations Atlanta Pride is back again for its annual celebration of the LGBTQ\\u002B community. This year, ...\",\"thumbnailUrl\":\"https://www.bing.com/th?id=OIP.WUHCPl7_RpepE3pSEdAEMgHaE8\\u0026w=80\\u0026h=80\\u0026c=1\\u0026pid=5.1\"},{\"name\":\"Explore Atlanta Events for Today, This Week or Weekend | Discover Atlanta\",\"url\":\"https://discoveratlanta.com/events/main/\",\"displayUrl\":\"https://discoveratlanta.com/events/m\",\"snippet\":\"Explore the Atlanta events calendar for things to do today, this week or this weekend. Find upcoming festivals, seasonal events and more! DiscoverAtlanta.com homepage. Things to Do; Events; ... Every Saturday until 09/28/2024. Protect Yo Energy Con 9/24/24 \\u2013 11/9/24. Weekend Creekwater Alpaca Farm Barn Tour 9/24/24 \\u2013 9/29/24. Pick Your ...\",\"cachedPageUrl\":\"http://cc.bingj.com/cache.aspx?q=things\\u002Bto\\u002Bdo\\u002Bin\\u002BAtlanta\\u002Bon\\u002B2024-09-28\\u0026d=4819881473496114\\u0026mkt=en-US\\u0026setlang=en-US\\u0026w=zvJBiG0Dg4eP1GMx_bJv9FTM8ziERJGY\",\"thumbnailUrl\":\"https://www.bing.com/th?id=OIP.FkxSV6JbrWatsFMM3_8dIAHaEh\\u0026w=80\\u0026h=80\\u0026c=1\\u0026pid=5.1\"}]},\"images\":{\"value\":[{\"thumbnailUrl\":\"https://tse1.mm.bing.net/th?id=OIP.y60M5u48x8RyXKH9Rs_4vgAAAA\\u0026pid=Api\",\"contentUrl\":\"https://foodtoursatlanta.com/wp-content/uploads/2021/09/Blue-Engagement-Essentials-Blog-Banner-1024x576.png\",\"hostPageUrl\":\"https://foodtoursatlanta.com/33-things-to-do-in-atlanta/\"},{\"thumbnailUrl\":\"https://tse1.mm.bing.net/th?id=OIP.Tg7nOHaEU_re0ukKIjO-QwHaG1\\u0026pid=Api\",\"contentUrl\":\"https://uphomes.com/storage/uploads/aVxdjP6v0zGPok5GHYOee8lHRMVN0GMFiNomqe5s.png\",\"hostPageUrl\":\"https://uphomes.com/blog/things-to-do-atlanta-ga/\"},{\"thumbnailUrl\":\"https://tse1.mm.bing.net/th?id=OIP.EwTRMK2YnFak4c4zUFMiVAHaHa\\u0026pid=Api\",\"contentUrl\":\"https://unexpectedatlanta.com/wp-content/uploads/2022/09/Things-to-Do-in-Downtown-Atlanta.png\",\"hostPageUrl\":\"https://unexpectedatlanta.com/things-to-do-in-downtown-atlanta/\"},{\"thumbnailUrl\":\"https://tse1.mm.bing.net/th?id=OIP.gpxEMgIaDnDSvyMtPJjjdgHaE6\\u0026pid=Api\",\"contentUrl\":\"https://wowtravel.me/wp-content/uploads/2022/06/Top-10-Things-to-Do-in-Atlanta.jpg\",\"hostPageUrl\":\"https://wowtravel.me/things-to-do-in-atlanta-this-week/\"},{\"thumbnailUrl\":\"https://tse1.mm.bing.net/th?id=OIP.FFnn7XEC9iNqbbTqDM01LQHaD3\\u0026pid=Api\",\"contentUrl\":\"https://www.busytourist.com/wp-content/uploads/2020/07/things-to-do-in-Atlanta-803x420.jpg\",\"hostPageUrl\":\"https://www.busytourist.com/things-to-do-in-atlanta-ga/\"},{\"thumbnailUrl\":\"https://tse1.mm.bing.net/th?id=OIP.Fe-J-AR_X-7c4ZeUHVaHwQAAAA\\u0026pid=Api\",\"contentUrl\":\"https://www.acaponeconnection.com/wp-content/uploads/2022/05/All-the-Fun-Things-to-Do-in-Atlanta-Georgia-1.jpg\",\"hostPageUrl\":\"https://www.acaponeconnection.com/all-the-fun-things-to-do-in-atlanta-georgia/\"},{\"thumbnailUrl\":\"https://tse1.mm.bing.net/th?id=OIP.BawFpewdQrecAtgiS9AiOAHaHa\\u0026pid=Api\",\"contentUrl\":\"https://unexpectedatlanta.com/wp-content/uploads/2023/04/The-Best-Things-to-Do-in-Midtown-Atlanta-500x500.png\",\"hostPageUrl\":\"https://unexpectedatlanta.com/best-things-to-do-midtown-atlanta/\"},{\"thumbnailUrl\":\"https://tse1.mm.bing.net/th?id=OIP.unmT01rPD7si8w-n3kzOXgHaHa\\u0026pid=Api\",\"contentUrl\":\"https://cdn2.storyasset.link/5f018ed1-7c8d-49e0-9d76-582219d18631/Untitled%20design%20-1-ms-rtheoozqlb.jpg\",\"hostPageUrl\":\"https://tripononline.com/web-stories/ultimate-things-to-do-in-atlanta-ga/\"},{\"thumbnailUrl\":\"https://tse1.mm.bing.net/th?id=OIP.Agse3pS4C61ss3RxvVgySwHaEK\\u0026pid=Api\",\"contentUrl\":\"https://wirksmoving.com/wp-content/uploads/2020/04/Things-to-do-in-Atlanta-with-Kids-1536x864.png\",\"hostPageUrl\":\"https://wirksmoving.com/blog/things-to-do-in-atlanta-ga-with-kids/\"},{\"thumbnailUrl\":\"https://tse1.mm.bing.net/th?id=OIP.yRC0krj1Jbi8qtYhSLLimgHaE8\\u0026pid=Api\",\"contentUrl\":\"https://lp-cms-production.imgix.net/2021-05/GettyRF_486068945.jpg?auto=compress\\u0026fit=crop\\u0026fm=auto\\u0026sharp=10\\u0026vib=20\\u0026w=1200\\u0026h=800\",\"hostPageUrl\":\"https://www.lonelyplanet.com/articles/top-things-to-do-in-atlanta\"},{\"thumbnailUrl\":\"https://tse1.mm.bing.net/th?id=OIP.H1JPxx3mkr-XvYjeXre46AHaLH\\u0026pid=Api\",\"contentUrl\":\"https://www.busytourist.com/wp-content/uploads/2020/07/best-things-to-do-in-Atlanta-GA-1-2.jpg\",\"hostPageUrl\":\"https://www.busytourist.com/things-to-do-in-atlanta-ga/\"},{\"thumbnailUrl\":\"https://tse1.mm.bing.net/th?id=OIP.HwzfdFE6-tSHfhoFlTxXKQHaHa\\u0026pid=Api\",\"contentUrl\":\"https://unexpectedatlanta.com/wp-content/uploads/2022/12/Best-Things-to-Do-in-Atlanta-in-2023.png\",\"hostPageUrl\":\"https://unexpectedatlanta.com/best-things-to-do-in-atlanta/\"},{\"thumbnailUrl\":\"https://tse1.mm.bing.net/th?id=OIP.TNv2qzXsSFvw43t4zu0gGgHaE8\\u0026pid=Api\",\"contentUrl\":\"https://www.travelandleisure.com/thmb/3NRm4q9Qg2bdUqXvenPBVeIloV4=/1500x0/filters:no_upscale():max_bytes(150000):strip_icc()/atlanta-skyline-TODOATL0122-195afa04632e43f5be27ef2dcc94ca3b.jpg\",\"hostPageUrl\":\"https://www.travelandleisure.com/attractions/best-things-to-do-in-atlanta-georgia\"},{\"thumbnailUrl\":\"https://tse1.mm.bing.net/th?id=OIP.v6IPB_NTvbmy-pxyZSCA0QHaE7\\u0026pid=Api\",\"contentUrl\":\"http://rwethereyetmom.com/wp-content/uploads/2015/08/6-Things-to-do-in-Atlanta-1024x681.jpg\",\"hostPageUrl\":\"http://rwethereyetmom.com/6-things-to-do-in-atlanta.html\"},{\"thumbnailUrl\":\"https://tse1.mm.bing.net/th?id=OIP.k7hGzw27Lx3uqX8C1eseEQHaE6\\u0026pid=Api\",\"contentUrl\":\"https://365atlantatraveler.com/wp-content/uploads/2022/05/atlanta-1280x850.jpeg\",\"hostPageUrl\":\"https://365atlantatraveler.com/things-to-do-in-atlanta/\"},{\"thumbnailUrl\":\"https://tse1.mm.bing.net/th?id=OIP.61XZKfCOkzsszjTzh_6yZwAAAA\\u0026pid=Api\",\"contentUrl\":\"https://image.jimcdn.com/app/cms/image/transf/none/path/s9524a0afdc5b40b0/image/i88ad01ce4abaee84/version/1483187737/8-fun-things-to-do-in-atlanta-travel-city-guide-via-just1wayticket.jpg\",\"hostPageUrl\":\"https://www.justonewayticket.com/2016/06/14/8-fun-things-to-do-in-atlanta/\"},{\"thumbnailUrl\":\"https://tse1.mm.bing.net/th?id=OIP.TAb-J4vHX4UsIX--2psZXwHaDt\\u0026pid=Api\",\"contentUrl\":\"https://www.familyvacationcritic.com/wp-content/uploads/sites/19/2019/11/atlanta-centennial-park-hero.jpg?is-pending-load=1\",\"hostPageUrl\":\"https://www.familyvacationcritic.com/free-things-to-do-in-atlanta-with-kids/art/\"},{\"thumbnailUrl\":\"https://tse1.mm.bing.net/th?id=OIP.U9xvQMbjg9T0YiriayftJAHaLH\\u0026pid=Api\",\"contentUrl\":\"https://www.busytourist.com/wp-content/uploads/2020/07/Things-To-Do-In-Atlanta-pin1.jpg\",\"hostPageUrl\":\"https://www.busytourist.com/things-to-do-in-atlanta-ga/\"},{\"thumbnailUrl\":\"https://tse1.mm.bing.net/th?id=OIP.cGQLTADJ7EIEL8n56X81XwHaLH\\u0026pid=Api\",\"contentUrl\":\"https://www.busytourist.com/wp-content/uploads/2020/07/best-things-to-do-in-Atlanta-GA-1.jpg\",\"hostPageUrl\":\"https://www.busytourist.com/things-to-do-in-atlanta-ga/\"},{\"thumbnailUrl\":\"https://tse1.mm.bing.net/th?id=OIP.1mkVJxhMEz5OmxnaoqxJMwHaLD\\u0026pid=Api\",\"contentUrl\":\"http://localadventurer.com/wp-content/uploads/2016/02/101-things-to-do-in-atlanta-bucket-list.jpg\",\"hostPageUrl\":\"http://localadventurer.com/atlanta-bucket-list-things-to-do-in-atlanta/\"}]}}\n",
       "```\n",
       "\n",
       "I called the tool named crawl with these arguments:\n",
       "```\n",
       "{\"q\": \"things to do in Atlanta on 2024-10-05\", \"count\": 5, \"textFormat\": \"Raw\"}\n",
       "```\n",
       "and got this result:\n",
       "```\n",
       "{\"queryContext\":{\"originalQuery\":\"things to do in Atlanta on 2024-10-05\"},\"webPages\":{\"value\":[{\"name\":\"Atlanta Events October 2024: Concerts, Shows, Sports...\",\"url\":\"https://atlanta-ga.events/october/\",\"displayUrl\":\"https://atlanta-ga.events/october\",\"snippet\":\"Explore our comprehensive calendar for all the current and upcoming events in Atlanta, GA, for October 2024. This guide is your gateway to discovering the best things to do in Atlanta, from Concerts and Theater Shows to Sports events and music festivals. You\\u2019ll find a detailed list of all the most engaging and exciting activities happening throughout the month.\",\"cachedPageUrl\":\"http://cc.bingj.com/cache.aspx?q=things\\u002Bto\\u002Bdo\\u002Bin\\u002BAtlanta\\u002Bon\\u002B2024-10-05\\u0026d=4898908879865838\\u0026mkt=en-US\\u0026setlang=en-US\\u0026w=vC_zzFLZ91uzxHogtJy0oBuKycEPAm_-\"},{\"name\":\"Atlanta Events - October 2024 | Go South Atlanta\",\"url\":\"https://gosouthatlanta.com/things-to-do/events/atlanta-in-october.html\",\"displayUrl\":\"https://gosouthatlanta.com/things-to-do/events/atlanta-in-october.html\",\"snippet\":\"Events From October 1 To The Weekend Of October 5-6 2024. \\u2192 See September events. \\u2192 For concerts this week, see Atlanta concerts in October 2024. \\u2013 Daddy Long Legs, September 13 - October 6 2024. Musical at The Legacy Theatre, Tyrone. More details.\",\"cachedPageUrl\":\"http://cc.bingj.com/cache.aspx?q=things\\u002Bto\\u002Bdo\\u002Bin\\u002BAtlanta\\u002Bon\\u002B2024-10-05\\u0026d=4907344187949765\\u0026mkt=en-US\\u0026setlang=en-US\\u0026w=jtKzhu3KOsa3mkDLUvcm_m1afK8iBTpt\"},{\"name\":\"Explore Atlanta Events for Today, This Week or Weekend | Discover Atlanta\",\"url\":\"https://discoveratlanta.com/events/main/\",\"displayUrl\":\"https://discoveratlanta.com/events/m\",\"snippet\":\"Explore the Atlanta events calendar for things to do today, this week or this weekend. Find upcoming festivals, seasonal events and more! ... Venture Atlanta 2024 10/8/24 \\u2013 10/9/24. Atlanta miniFEST 10/9/24 \\u2013 10/10/24. Homeshake ... October 05. Saturday. Sangria n\\u2019 Scents DIY Candle Workshop 9/24/24 \\u2013 10/5/24. September 24.\",\"cachedPageUrl\":\"http://cc.bingj.com/cache.aspx?q=things\\u002Bto\\u002Bdo\\u002Bin\\u002BAtlanta\\u002Bon\\u002B2024-10-05\\u0026d=4819881473496114\\u0026mkt=en-US\\u0026setlang=en-US\\u0026w=zvJBiG0Dg4eP1GMx_bJv9FTM8ziERJGY\",\"thumbnailUrl\":\"https://www.bing.com/th?id=OIP.FkxSV6JbrWatsFMM3_8dIAHaEh\\u0026w=80\\u0026h=80\\u0026c=1\\u0026pid=5.1\"},{\"name\":\"THE 15 BEST Things to Do in Atlanta (2024) | Tripadvisor\",\"url\":\"https://www.tripadvisor.com/Attractions-g60898-Activities-Atlanta_Georgia.html\",\"displayUrl\":\"https://www.tripadvisor.com/Attractions-g60898\",\"snippet\":\"23,861. Aquariums. Georgia Aquarium contains more than 70 amazing habitats, with thousands of marine animals such as whale sharks, manta rays, beluga whales, and more. Don\\u2019t miss out on the animal encounter programs\\u2026. See ways to experience (9) 2024. 2. Atlanta Botanical Garden. 5,237.\",\"cachedPageUrl\":\"http://cc.bingj.com/cache.aspx?q=things\\u002Bto\\u002Bdo\\u002Bin\\u002BAtlanta\\u002Bon\\u002B2024-10-05\\u0026d=4522996153926818\\u0026mkt=en-US\\u0026setlang=en-US\\u0026w=J4pSE0D_0DwI0g_BICzUUE092xyTtSjJ\",\"thumbnailUrl\":\"https://www.bing.com/th?id=OIP.1g_oKFZuxZyu0MwSWAr2YwHaE8\\u0026w=80\\u0026h=80\\u0026c=1\\u0026pid=5.1\"},{\"name\":\"80\\u002B fall festivals \\u0026 fairs around metro Atlanta: Fun things to do in ...\",\"url\":\"https://www.atlantaonthecheap.com/fall-festivals-atlanta/\",\"displayUrl\":\"https://www.atlantaonthecheap.com/fall-festivals-atlanta\",\"snippet\":\"Atlanta Fair. October 4 to November 3, 2024 Old Turner Field Atlanta. This is the region\\u2019s only urban fair, taking place at Turner Field in downtown Atlanta. There\\u2019s a carnival midway with rides, plenty of food, nightly entertainment, and more. It will be here for all of October. Details for Atlanta Fair. Image: Atlanta Fair\",\"cachedPageUrl\":\"http://cc.bingj.com/cache.aspx?q=things\\u002Bto\\u002Bdo\\u002Bin\\u002BAtlanta\\u002Bon\\u002B2024-10-05\\u0026d=5012794228946274\\u0026mkt=en-US\\u0026setlang=en-US\\u0026w=AqqJM900-WHnjjGt9vluoyq1DPm6ofe-\",\"thumbnailUrl\":\"https://www.bing.com/th?id=OIP.w0-v0ll6eXl6tJfBd5-ovwHaEV\\u0026w=80\\u0026h=80\\u0026c=1\\u0026pid=5.1\"}]}}\n",
       "```\n",
       "\n",
       "I called the tool named crawl with these arguments:\n",
       "```\n",
       "{\"q\": \"things to do in Atlanta on 2024-10-12\", \"count\": 5, \"textFormat\": \"Raw\"}\n",
       "```\n",
       "and got this result:\n",
       "```\n",
       "{\"queryContext\":{\"originalQuery\":\"things to do in Atlanta on 2024-10-12\"},\"webPages\":{\"value\":[{\"name\":\"80\\u002B fall festivals \\u0026 fairs around metro Atlanta: Fun things to do in ...\",\"url\":\"https://www.atlantaonthecheap.com/fall-festivals-atlanta/\",\"displayUrl\":\"https://www.atlantaonthecheap.com/fall-festivals-atlanta\",\"snippet\":\"Find out the best fall festivals in Atlanta in 2024, from Labor Day Weekend to Thanksgiving. Enjoy carnival rides, music, arts, food, and more at state and county fairs, harvest celebrations, and cultural events.\",\"cachedPageUrl\":\"http://cc.bingj.com/cache.aspx?q=things\\u002Bto\\u002Bdo\\u002Bin\\u002BAtlanta\\u002Bon\\u002B2024-10-12\\u0026d=5012794228946274\\u0026mkt=en-US\\u0026setlang=en-US\\u0026w=AqqJM900-WHnjjGt9vluoyq1DPm6ofe-\"},{\"name\":\"35\\u002B Best Things to Do in Atlanta in 2024 - Unexpected Atlanta\",\"url\":\"https://unexpectedatlanta.com/best-things-to-do-in-atlanta/\",\"displayUrl\":\"https://unexpectedatlanta.com/best-things-to-do-in-atlanta\",\"snippet\":\"Find out the best activities and events to enjoy in Atlanta in 2024, from free attractions to festivals, sports, and more. Whether you\\u0027re looking for family-friendly, romantic, or COVID-safe options, this list has something for everyone.\",\"cachedPageUrl\":\"http://cc.bingj.com/cache.aspx?q=things\\u002Bto\\u002Bdo\\u002Bin\\u002BAtlanta\\u002Bon\\u002B2024-10-12\\u0026d=4885792044096348\\u0026mkt=en-US\\u0026setlang=en-US\\u0026w=SRiegEmhRGKtzRRUG028yHS95G2gOIKx\",\"thumbnailUrl\":\"https://www.bing.com/th?id=OIP.HwzfdFE6-tSHfhoFlTxXKQHaHa\\u0026w=80\\u0026h=80\\u0026c=1\\u0026pid=5.1\"},{\"name\":\"Atlanta Festival Calendar: 2024 - Unexpected Atlanta\",\"url\":\"https://unexpectedatlanta.com/atlanta-festival-calendar-2024/\",\"displayUrl\":\"https://unexpectedatlanta.com/atlanta-festival-calendar-2024\",\"snippet\":\"Find the best festivals to attend in Atlanta, Georgia and beyond in 2024, from art and music to food and film. Browse the monthly calendar and discover events for every season, interest, and occasion.\",\"cachedPageUrl\":\"http://cc.bingj.com/cache.aspx?q=things\\u002Bto\\u002Bdo\\u002Bin\\u002BAtlanta\\u002Bon\\u002B2024-10-12\\u0026d=4520195830737555\\u0026mkt=en-US\\u0026setlang=en-US\\u0026w=Y_UYHSuQi3QHjG8exIRi2zfYmaaF9rTA\",\"thumbnailUrl\":\"https://www.bing.com/th?id=OIP.8LvXI6tOuWvo9KZdL-C3MwHaHa\\u0026w=80\\u0026h=80\\u0026c=1\\u0026pid=5.1\"},{\"name\":\"THE 15 BEST Things to Do in Atlanta (2024) - Tripadvisor\",\"url\":\"https://www.tripadvisor.com/Attractions-g60898-Activities-Atlanta_Georgia.html\",\"displayUrl\":\"https://www.tripadvisor.com/Attractions-g60898\",\"snippet\":\"Find the best attractions and activities in Atlanta, GA, based on ratings and reviews from travelers. Explore historical tours, museums, parks, gardens, and more with TripAdvisor\\u0027s AI trip-planning product.\",\"cachedPageUrl\":\"http://cc.bingj.com/cache.aspx?q=things\\u002Bto\\u002Bdo\\u002Bin\\u002BAtlanta\\u002Bon\\u002B2024-10-12\\u0026d=4522996153926818\\u0026mkt=en-US\\u0026setlang=en-US\\u0026w=J4pSE0D_0DwI0g_BICzUUE092xyTtSjJ\",\"thumbnailUrl\":\"https://www.bing.com/th?id=OIP.1g_oKFZuxZyu0MwSWAr2YwHaE8\\u0026w=80\\u0026h=80\\u0026c=1\\u0026pid=5.1\"},{\"name\":\"Ultimate Atlanta Festival Guide 2024: Events \\u0026 Fun Things To Do\",\"url\":\"https://atlantafi.com/best-atlanta-festivals/\",\"displayUrl\":\"https://atlantafi.com/best-atlanta-festivals\",\"snippet\":\"Find out the best Atlanta festivals for 2024 by month, from winter wine to film festivals. The Atlanta Seafood Festival is on April 27, but the R\\u0026B Mimosa Festival is on April 13 if you prefer music and drinks.\",\"cachedPageUrl\":\"http://cc.bingj.com/cache.aspx?q=things\\u002Bto\\u002Bdo\\u002Bin\\u002BAtlanta\\u002Bon\\u002B2024-10-12\\u0026d=4839908902843200\\u0026mkt=en-US\\u0026setlang=en-US\\u0026w=ZTmW07OPjV-Y74eQ_GNQ-XgMIt3nzTIE\",\"thumbnailUrl\":\"https://www.bing.com/th?id=OIP.9ipTPs8A7ZWAkt2vM--GYQAAAA\\u0026w=80\\u0026h=80\\u0026c=1\\u0026pid=5.1\"}]}}\n",
       "```\n",
       "\n",
       "I called the tool named crawl with these arguments:\n",
       "```\n",
       "{\"q\": \"things to do in Atlanta on 2024-10-19\", \"count\": 5, \"textFormat\": \"Raw\"}\n",
       "```\n",
       "and got this result:\n",
       "```\n",
       "{\"queryContext\":{\"originalQuery\":\"things to do in Atlanta on 2024-10-19\"},\"webPages\":{\"value\":[{\"name\":\"Atlanta Events - October 2024 - Go South Atlanta\",\"url\":\"https://gosouthatlanta.com/things-to-do/events/atlanta-in-october.html\",\"displayUrl\":\"https://gosouthatlanta.com/things-to-do/events/atlanta-in-october.html\",\"snippet\":\"Things to do in Atlanta, GA in October, including upcoming festivals, fall and Halloween events, Pride events, comedy, musicals, plays, races, conventions, neighborhood events, cultural events, and more. ... October 19-20 2024 Annual 10-mile, 5K and 1-mile youth runs through Buckhead, from Atlantic Station. More details \\u2013 Johns Creek Arts ...\",\"cachedPageUrl\":\"http://cc.bingj.com/cache.aspx?q=things\\u002Bto\\u002Bdo\\u002Bin\\u002BAtlanta\\u002Bon\\u002B2024-10-19\\u0026d=4907344187949765\\u0026mkt=en-US\\u0026setlang=en-US\\u0026w=jtKzhu3KOsa3mkDLUvcm_m1afK8iBTpt\"},{\"name\":\"80\\u002B fall festivals \\u0026 fairs around metro Atlanta: Fun things to do in ...\",\"url\":\"https://www.atlantaonthecheap.com/fall-festivals-atlanta/\",\"displayUrl\":\"https://www.atlantaonthecheap.com/fall-festivals-atlanta\",\"snippet\":\"October 12 and 13, 2024 October 19 and 20, 2024 Ellijay, GA . This is one of the few festivals outside metro Atlanta we include. It takes place in North Georgia, over two weekends in October. Spend a day on the farm, pick your own apples, visit over 100 vendor booths for arts, crafts, and apple-based food items. Well worth the drive!\",\"cachedPageUrl\":\"http://cc.bingj.com/cache.aspx?q=things\\u002Bto\\u002Bdo\\u002Bin\\u002BAtlanta\\u002Bon\\u002B2024-10-19\\u0026d=5012794228946274\\u0026mkt=en-US\\u0026setlang=en-US\\u0026w=AqqJM900-WHnjjGt9vluoyq1DPm6ofe-\",\"thumbnailUrl\":\"https://www.bing.com/th?id=OIP.w0-v0ll6eXl6tJfBd5-ovwHaEV\\u0026w=80\\u0026h=80\\u0026c=1\\u0026pid=5.1\"},{\"name\":\"10 things to do in Atlanta this weekend - accessatlanta.com\",\"url\":\"https://www.accessatlanta.com/atlanta-things-to-do/10-things-to-do-in-atlanta-this-weekend/RXJV557GDFFJVMY3LMAOYQTNYI/\",\"displayUrl\":\"https://www.accessatlanta.com/atlanta-things-to-do/10-things-to-do-in-atlanta-this...\",\"snippet\":\"Best Things to do in Atlanta this weekend. ... Metro Atlanta - 2500 Clairmont Rd; Date: September 19-22; Time: 5-10 p.m. (Thursday); 5-11 p.m. ... September 10, 2024.\",\"cachedPageUrl\":\"http://cc.bingj.com/cache.aspx?q=things\\u002Bto\\u002Bdo\\u002Bin\\u002BAtlanta\\u002Bon\\u002B2024-10-19\\u0026d=2036019664925\\u0026mkt=en-US\\u0026setlang=en-US\\u0026w=ecYZf3pOPl4MgsqlUNgwD_67J-TONvpM\"},{\"name\":\"Atlanta Events October 2024: Concerts, Shows, Sports...\",\"url\":\"https://atlanta-ga.events/october/\",\"displayUrl\":\"https://atlanta-ga.events/october\",\"snippet\":\"Explore our comprehensive calendar for all the current and upcoming events in Atlanta, GA, for October 2024. This guide is your gateway to discovering the best things to do in Atlanta, from Concerts and Theater Shows to Sports events and music festivals. You\\u2019ll find a detailed list of all the most engaging and exciting activities happening throughout the month.\",\"cachedPageUrl\":\"http://cc.bingj.com/cache.aspx?q=things\\u002Bto\\u002Bdo\\u002Bin\\u002BAtlanta\\u002Bon\\u002B2024-10-19\\u0026d=4898908879865838\\u0026mkt=en-US\\u0026setlang=en-US\\u0026w=vC_zzFLZ91uzxHogtJy0oBuKycEPAm_-\"},{\"name\":\"Cool Things To Do in October in Atlanta\",\"url\":\"https://discoveratlanta.com/stories/things-to-do/cool-things-to-do-in-october-in-atlanta/\",\"displayUrl\":\"https://discoveratlanta.com/stories/things-to-do/cool-things-to-do-in-october-in-atlanta\",\"snippet\":\"Corn Dogs, Rides and Whack a Mole. The Atlanta Fair brings the best of a traditional fair to Atlanta with everything from cotton candy, a Ferris wheel, fishing for goldfish, a tilt-a-whirl and a carousel. The fair, located across from the Georgia State University Stadium, will be in town Oct. 4-Nov. 3. Read More.\",\"cachedPageUrl\":\"http://cc.bingj.com/cache.aspx?q=things\\u002Bto\\u002Bdo\\u002Bin\\u002BAtlanta\\u002Bon\\u002B2024-10-19\\u0026d=4714289705734711\\u0026mkt=en-US\\u0026setlang=en-US\\u0026w=6a-yO_DfCUxfz-dx9C91WDDECk49pD7V\",\"thumbnailUrl\":\"https://www.bing.com/th?id=OIP.4jf9xqKu3QRk_XhZ3J7DYQHaD4\\u0026w=80\\u0026h=80\\u0026c=1\\u0026pid=5.1\"}]},\"images\":{\"value\":[{\"thumbnailUrl\":\"https://tse1.mm.bing.net/th?id=OIP.FFnn7XEC9iNqbbTqDM01LQHaD3\\u0026pid=Api\",\"contentUrl\":\"https://www.busytourist.com/wp-content/uploads/2020/07/things-to-do-in-Atlanta-803x420.jpg\",\"hostPageUrl\":\"https://www.busytourist.com/things-to-do-in-atlanta-ga/\"},{\"thumbnailUrl\":\"https://tse1.mm.bing.net/th?id=OIP.cGQLTADJ7EIEL8n56X81XwHaLH\\u0026pid=Api\",\"contentUrl\":\"https://www.busytourist.com/wp-content/uploads/2020/07/best-things-to-do-in-Atlanta-GA-1.jpg\",\"hostPageUrl\":\"https://www.busytourist.com/things-to-do-in-atlanta-ga/\"},{\"thumbnailUrl\":\"https://tse1.mm.bing.net/th?id=OIP.gpxEMgIaDnDSvyMtPJjjdgHaE6\\u0026pid=Api\",\"contentUrl\":\"https://wowtravel.me/wp-content/uploads/2022/06/Top-10-Things-to-Do-in-Atlanta.jpg\",\"hostPageUrl\":\"https://wowtravel.me/things-to-do-in-atlanta-this-week/\"},{\"thumbnailUrl\":\"https://tse1.mm.bing.net/th?id=OIP.H1JPxx3mkr-XvYjeXre46AHaLH\\u0026pid=Api\",\"contentUrl\":\"https://www.busytourist.com/wp-content/uploads/2020/07/best-things-to-do-in-Atlanta-GA-1-2.jpg\",\"hostPageUrl\":\"https://www.busytourist.com/things-to-do-in-atlanta-ga/\"},{\"thumbnailUrl\":\"https://tse1.mm.bing.net/th?id=OIP.U9xvQMbjg9T0YiriayftJAHaLH\\u0026pid=Api\",\"contentUrl\":\"https://www.busytourist.com/wp-content/uploads/2020/07/Things-To-Do-In-Atlanta-pin1.jpg\",\"hostPageUrl\":\"https://www.busytourist.com/things-to-do-in-atlanta-ga/\"},{\"thumbnailUrl\":\"https://tse1.mm.bing.net/th?id=OIP.Fe-J-AR_X-7c4ZeUHVaHwQAAAA\\u0026pid=Api\",\"contentUrl\":\"https://www.acaponeconnection.com/wp-content/uploads/2022/05/All-the-Fun-Things-to-Do-in-Atlanta-Georgia-1.jpg\",\"hostPageUrl\":\"https://www.acaponeconnection.com/all-the-fun-things-to-do-in-atlanta-georgia/\"},{\"thumbnailUrl\":\"https://tse1.mm.bing.net/th?id=OIP.Tg7nOHaEU_re0ukKIjO-QwHaG1\\u0026pid=Api\",\"contentUrl\":\"https://uphomes.com/storage/uploads/aVxdjP6v0zGPok5GHYOee8lHRMVN0GMFiNomqe5s.png\",\"hostPageUrl\":\"https://uphomes.com/blog/things-to-do-atlanta-ga/\"},{\"thumbnailUrl\":\"https://tse1.mm.bing.net/th?id=OIP.unmT01rPD7si8w-n3kzOXgHaHa\\u0026pid=Api\",\"contentUrl\":\"https://cdn2.storyasset.link/5f018ed1-7c8d-49e0-9d76-582219d18631/Untitled%20design%20-1-ms-rtheoozqlb.jpg\",\"hostPageUrl\":\"https://tripononline.com/web-stories/ultimate-things-to-do-in-atlanta-ga/\"},{\"thumbnailUrl\":\"https://tse1.mm.bing.net/th?id=OIP.BawFpewdQrecAtgiS9AiOAHaHa\\u0026pid=Api\",\"contentUrl\":\"https://unexpectedatlanta.com/wp-content/uploads/2023/04/The-Best-Things-to-Do-in-Midtown-Atlanta-500x500.png\",\"hostPageUrl\":\"https://unexpectedatlanta.com/best-things-to-do-midtown-atlanta/\"},{\"thumbnailUrl\":\"https://tse1.mm.bing.net/th?id=OIP.Yac324FtG-dH_KY8XaUTZQHaME\\u0026pid=Api\",\"contentUrl\":\"https://www.frostandsun.com/wp-content/uploads/2017/11/things-to-do-in-atlanta-pin-me-1-628x1024.jpg.webp\",\"hostPageUrl\":\"https://www.frostandsun.com/things-to-do-in-atlanta/\"},{\"thumbnailUrl\":\"https://tse1.mm.bing.net/th?id=OIP.Twqjja_QS8r-DEoNYr3kzAHaEK\\u0026pid=Api\",\"contentUrl\":\"https://i.ytimg.com/vi/Vl6GPUuj1mc/maxresdefault.jpg\",\"hostPageUrl\":\"https://www.youtube.com/watch?v=Vl6GPUuj1mc\"},{\"thumbnailUrl\":\"https://tse1.mm.bing.net/th?id=OIP.PzRE6SJDtJ9H3Z9jEfK5cAHaE8\\u0026pid=Api\",\"contentUrl\":\"https://image.jimcdn.com/app/cms/image/transf/dimension=640x10000:format=jpg/path/s9524a0afdc5b40b0/image/i88ad01ce4abaee84/version/1483187737/8-fun-things-to-do-in-atlanta-travel-city-guide-via-just1wayticket.jpg\",\"hostPageUrl\":\"https://www.justonewayticket.com/2016/06/14/8-fun-things-to-do-in-atlanta/\"},{\"thumbnailUrl\":\"https://tse1.mm.bing.net/th?id=OIP.VOzVfWJV7_6joNkGhLP7AAHaLH\\u0026pid=Api\",\"contentUrl\":\"https://i.pinimg.com/originals/ce/c5/25/cec525ba57be0022de5d70d1a1f3dd88.jpg\",\"hostPageUrl\":\"https://www.pinterest.com/pin/277393658288987671/\"},{\"thumbnailUrl\":\"https://tse1.mm.bing.net/th?id=OIP.IqznTH1ocAOkn-XVKO4tyQAAAA\\u0026pid=Api\",\"contentUrl\":\"https://i.pinimg.com/originals/f5/05/8e/f5058e44214459ab6506002aee8aa99f.png\",\"hostPageUrl\":\"https://www.pinterest.jp/pin/101-best-things-to-do-in-atlanta-georgia-the-ultimate-attractions-guide--34480753388071714/\"},{\"thumbnailUrl\":\"https://tse1.mm.bing.net/th?id=OIP.9mBzTpymEhPfPfnOyuyhzAAAAA\\u0026pid=Api\",\"contentUrl\":\"https://rwethereyetmom.com/wp-content/uploads/2015/08/6-Things-to-do-in-Atlanta.jpg\",\"hostPageUrl\":\"http://rwethereyetmom.com/6-things-to-do-in-atlanta.html\"},{\"thumbnailUrl\":\"https://tse1.mm.bing.net/th?id=OIP.6_fMiPMrfeqD9K0vgkdR6QHaE8\\u0026pid=Api\",\"contentUrl\":\"https://www.getawaymavens.com/wp-content/uploads/2019/01/Westin-Peachtree-Atlanta.jpg\",\"hostPageUrl\":\"https://www.getawaymavens.com/downtown-atlanta/\"},{\"thumbnailUrl\":\"https://tse1.mm.bing.net/th?id=OIP.bMHFmC_o39Zbk8OLT2j2iwHaE8\\u0026pid=Api\",\"contentUrl\":\"https://lp-cms-production.imgix.net/2021-05/GettyRF_486068945.jpg?auto=format\\u0026fit=crop\\u0026sharp=10\\u0026vib=20\\u0026ixlib=react-8.6.4\\u0026w=850\\u0026q=23\\u0026dpr=4\",\"hostPageUrl\":\"https://www.lonelyplanet.com/articles/top-things-to-do-in-atlanta\"},{\"thumbnailUrl\":\"https://tse1.mm.bing.net/th?id=OIP.k7hGzw27Lx3uqX8C1eseEQHaE6\\u0026pid=Api\",\"contentUrl\":\"https://365atlantatraveler.com/wp-content/uploads/2022/05/atlanta-1280x850.jpeg\",\"hostPageUrl\":\"https://365atlantatraveler.com/things-to-do-in-atlanta/\"},{\"thumbnailUrl\":\"https://tse1.mm.bing.net/th?id=OIP.eBvGyR-E1vMicYD3Yzv7UgAAAA\\u0026pid=Api\",\"contentUrl\":\"https://localadventurer.com/wp-content/uploads/2019/05/atlanta-bucket-list-challenge-683x1024.jpg\",\"hostPageUrl\":\"https://localadventurer.com/things-to-do-in-atlanta-bucket-list/\"},{\"thumbnailUrl\":\"https://tse1.mm.bing.net/th?id=OIP.HwzfdFE6-tSHfhoFlTxXKQHaHa\\u0026pid=Api\",\"contentUrl\":\"https://unexpectedatlanta.com/wp-content/uploads/2022/12/Best-Things-to-Do-in-Atlanta-in-2023.png\",\"hostPageUrl\":\"https://unexpectedatlanta.com/best-things-to-do-in-atlanta/\"}]}}\n",
       "```\n",
       "\n",
       "I called the tool named ExtractContentFromUrl with these arguments:\n",
       "```\n",
       "{\"assistantName\": \"WebPageAgentAnt\", \"instructions\": \"List events happening in Atlanta on September 28, 2024. https://eventcartel.com/events/all-categories/atlanta/from_2024-09-28_to_2024-09-29\"}\n",
       "```\n",
       "and got this result:\n",
       "```\n",
       "\"The information was not found in the page.\"\n",
       "```\n",
       "\n",
       "I called the tool named ExtractContentFromUrl with these arguments:\n",
       "```\n",
       "{\"assistantName\": \"WebPageAgentAnt\", \"instructions\": \"List events happening in Atlanta on October 5, 2024. https://atlanta-ga.events/october/\"}\n",
       "```\n",
       "and got this result:\n",
       "```\n",
       "\"The information was not found in the page.\"\n",
       "```\n",
       "\n",
       "I called the tool named ExtractContentFromUrl with these arguments:\n",
       "```\n",
       "{\"assistantName\": \"WebPageAgentAnt\", \"instructions\": \"List events happening in Atlanta on October 12, 2024. https://www.atlantaonthecheap.com/fall-festivals-atlanta/\"}\n",
       "```\n",
       "and got this result:\n",
       "```\n",
       "\"On October 12, 2024, several events are happening in Atlanta:\\n\\n1. **Taste of Acworth**\\n   - **Location:** Downtown Acworth\\n   - **Details:** This affordable food festival features FREE admission, and small bites for just $1 to $5 each.\\n\\n2. **Lilburn Daze**\\n   - **Location:** Lilburn City Park\\n   - **Details:** Celebrating its 50th year, this family-friendly arts \\u0026 crafts festival features plenty of activities for kids, vendor booths, and live entertainment all day long. Free shuttle service is available.\\n\\n3. **The Great Pumpkin Fest**\\n   - **Location:** Cherokee Veterans Park, Canton\\n   - **Details:** An annual fall and Halloween festival with craft vendors, food, a DJ, hay rides, games, bounce houses, and trick-or-treating for kids.\\n\\n4. **Old Fourth Ward Park Arts Festival**\\n   - **Location:** Old 4th Ward Park\\n   - **Details:** A two-day arts festival featuring live acoustic music, about 150 vendor booths, food, and fall fun.\\n\\n5. **Chalktoberfest**\\n   - **Location:** Marietta Square\\n   - **Details:** A festival celebrating street art and craft beer, with live music and food available. The event is free to attend, but craft beer tasting is ticketed.\\n\\n6. **Atlanta Pride Festival \\u0026 Parade**\\n   - **Location:** Piedmont Park\\n   - **Details:** An annual festival and parade in Midtown celebrating LGBTQ\\u002B pride with various associated events around town.\\n\\n7. **Georgia Apple Festival** (in Ellijay, GA)\\n   - **Details:** A festival featuring apple picking, over 100 vendor booths for arts, crafts, and apple-based food items.\\n\\nThese events provide a variety of activities, from food tastings to arts and crafts, making October 12 a vibrant day in Atlanta!\"\n",
       "```\n",
       "\n",
       "I called the tool named ExtractContentFromUrl with these arguments:\n",
       "```\n",
       "{\"assistantName\": \"WebPageAgentAnt\", \"instructions\": \"List events happening in Atlanta on October 19, 2024. https://gosouthatlanta.com/things-to-do/events/atlanta-in-october.html\"}\n",
       "```\n",
       "and got this result:\n",
       "```\n",
       "\"Here are the events happening in Atlanta on October 19, 2024:\\n\\n1. **A Taste of Chamblee**  \\n   - Annual food festival in downtown Chamblee, featuring food from neighborhood restaurants, craft vendors, children\\u2019s activities, football screenings, live performances, a wine tent, and a beer garden.\\n\\n2. **HarvestFest and Scarecrows In The Square**  \\n   - Annual fall festival in Marietta Square, including an arts and crafts show, touch-a-truck, scarecrow displays, costume and pie-eating contests, and more.\\n\\n3. **Pop-In For Family Fun: Boo! Halloween**  \\n   - Monthly free family day at the Marietta History Center.\\n\\n4. **Cherokee Heights Arts Festival**  \\n   - Free annual arts festival in the Cherokee Heights neighborhood, featuring local artists, musicians, art activities, food, and beer.\\n\\n5. **NBAF Celebration Under The Stars**  \\n   - Fundraising event for the National Black Arts Festival at Wolf Creek Amphitheater, featuring live performances and food and drink.\\n\\n6. **Rickey Smiley**  \\n   - Comedy show at the Cobb Energy Performing Arts Centre.\\n\\n7. **Carlos Ballarta: Tlatoani**  \\n   - Comedy show at the Gas South Theater.\\n\\n8. **Witch Perfect**  \\n   - Drag performance at Center Stage.\\n\\n9. **L5P Halloween Festival and Parade**  \\n   - Popular annual Halloween celebration in Little Five Points, featuring live music, a parade, haunted house, ghost tours, and more.\\n\\n10. **PNC Atlanta 10 Miler \\u0026 5K**  \\n    - Annual 10-mile, 5K, and 1-mile youth runs through Buckhead, starting from Atlantic Station.\\n\\n11. **Johns Creek Arts Festival**  \\n    - Annual arts and crafts festival in Johns Creek featuring 140 artisans from across the country.\\n\\n12. **Abnormal Market and Uncommon Bazaar**  \\n    - Art market in association with the Old Fourth Ward Park Arts Festival.\\n\\n13. **Boo at the Zoo**  \\n    - Annual Halloween event at Zoo Atlanta, including trick-or-treating and Halloween-themed activities. Costumes welcome.\\n\\nThese events offer a mix of food, arts, culture, and entertainment, providing something for everyone on that date!\"\n",
       "```\n",
       "\n",
       "Here are some exciting events happening in Atlanta over the next four weekends:\n",
       "\n",
       "### Weekend of September 28-29, 2024\n",
       "1. **Sweet Auburn Music Fest**\n",
       "   - **Location:** Auburn Avenue\n",
       "   - **Details:** A vibrant festival featuring live music, an international food court, and various vendors celebrating the culture of Atlanta.\n",
       "   - **Link:** [Discover Atlanta](https://discoveratlanta.com/stories/things-to-do/cool-things-to-do-in-september-in-atlanta/)\n",
       "   - ![Sweet Auburn Music Fest](https://www.bing.com/th?id=OIP.m0ENCio7ytS2o9PQRWDCRgHaD4&w=80&h=80&c=1&pid=5.1)\n",
       "\n",
       "2. **Various Events**\n",
       "   - A comprehensive list of events from concerts to theater shows and local happenings.\n",
       "   - **Link:** [Event Cartel](https://eventcartel.com/events/all-categories/atlanta/from_2024-09-28_to_2024-09-29)\n",
       "   - ![Various Events](https://www.bing.com/th?id=OIF.j9DT03xNjIPyoPYsyjOF4w&w=80&h=80&c=1&pid=5.1)\n",
       "\n",
       "### Weekend of October 5, 2024\n",
       "1. **Venture Atlanta 2024**\n",
       "   - **Location:** Various venues\n",
       "   - **Details:** A tech-focused event featuring leading entrepreneurs and investors.\n",
       "   - **Link:** [Go South Atlanta](https://gosouthatlanta.com/things-to-do/events/atlanta-in-october.html)\n",
       "\n",
       "2. **Atlanta Fair**\n",
       "   - **Location:** Old Turner Field\n",
       "   - **Details:** The urban fair includes rides, food, and entertainment. \n",
       "   - **Link:** [Atlanta on the Cheap](https://www.atlantaonthecheap.com/fall-festivals-atlanta/)\n",
       "   - ![Atlanta Fair](https://www.bing.com/th?id=OIP.w0-v0ll6eXl6tJfBd5-ovwHaEV&w=80&h=80&c=1&pid=5.1)\n",
       "\n",
       "### Weekend of October 12, 2024\n",
       "1. **Taste of Acworth**\n",
       "   - **Location:** Downtown Acworth\n",
       "   - **Details:** A food festival with affordable bites and local flavors.\n",
       "   - ![Taste of Acworth](https://www.bing.com/th?id=OIP.HwzfdFE6-tSHfhoFlTxXKQHaHa&pid=Api)\n",
       "\n",
       "2. **Atlanta Pride Festival & Parade**\n",
       "   - **Location:** Piedmont Park\n",
       "   - **Details:** A celebration of LGBTQ+ pride with festivities throughout the weekend.\n",
       "   - ![Atlanta Pride Festival](https://www.bing.com/th?id=OIP.1g_oKFZuxZyu0MwSWAr2YwHaE8&w=80&h=80&c=1&pid=5.1)\n",
       "\n",
       "### Weekend of October 19, 2024\n",
       "1. **A Taste of Chamblee**\n",
       "   - **Location:** Downtown Chamblee\n",
       "   - **Details:** An annual food festival featuring local restaurants and live music.\n",
       "   - **Link:** [Go South Atlanta](https://gosouthatlanta.com/things-to-do/events/atlanta-in-october.html)\n",
       "\n",
       "2. **HarvestFest and Scarecrows In The Square**\n",
       "   - **Location:** Marietta Square\n",
       "   - **Details:** A fun-filled festival with arts and crafts, contests, and family activities.\n",
       "   - **Link:** [Atlanta on the Cheap](https://www.atlantaonthecheap.com/fall-festivals-atlanta/)\n",
       "   - ![HarvestFest](https://www.bing.com/th?id=OIP.w0-v0ll6eXl6tJfBd5-ovwHaEV&w=80&h=80&c=1&pid=5.1)\n",
       "\n",
       "These events provide a great mix of food, culture, and entertainment for everyone to enjoy in Atlanta this fall!\n"
      ]
     },
     "metadata": {},
     "output_type": "display_data"
    }
   ],
   "source": [
    "assistantRunOptions = new AssistantRunOptions() {\n",
    "    AssistantName = \"WebSearchAgentAnt\",\n",
    "    Instructions = \"Use python to get todays date and then use it to find things to do in Atlanta for each of the next four weekends with pictures and correct links from ExtractContentFromUrl.\\n\\nWhen choosing links for crawl to evaluate with ExtractContentFromUrl choose a variety of hosts for urls from which you extract content. Limit your use of ExtractContentFromUrl to five calls or less. Do not make the error of including the url as a parameter, it must be inside 'instructions' as indicated by the tool definition. Be careful to not include events in the past in your final answer. You should perform four searches at once.\\nDon't forget to include valid links!\",\n",
    "};\n",
    "var output2 = await AntRunnerLib.AssistantRunner.RunThread(assistantRunOptions, config);\n",
    "output2.Dialog.DisplayAs(\"text/markdown\");"
   ]
  },
  {
   "cell_type": "markdown",
   "metadata": {},
   "source": [
    "## Clean Up"
   ]
  },
  {
   "cell_type": "code",
   "execution_count": 10,
   "metadata": {
    "dotnet_interactive": {
     "language": "csharp"
    },
    "polyglot_notebook": {
     "kernelName": "csharp"
    },
    "vscode": {
     "languageId": "polyglot-notebook"
    }
   },
   "outputs": [
    {
     "name": "stdout",
     "output_type": "stream",
     "text": [
      "Deleted assistant\n",
      "Deleted assistant\n"
     ]
    }
   ],
   "source": [
    "var assistant = (await client.AssistantList())?.Data?.FirstOrDefault(o => o.Name == \"WebSearchAgentAnt\");\n",
    "if(assistant != null) {\n",
    "    await client.AssistantDelete(assistant.Id);\n",
    "    Console.WriteLine(\"Deleted assistant\");\n",
    "}\n",
    "else\n",
    "{\n",
    "    Console.WriteLine(\"Didn't find WebSearchAgentAnt\");\n",
    "}\n",
    "\n",
    "assistant = (await client.AssistantList())?.Data?.FirstOrDefault(o => o.Name == \"WebPageAgentAnt\");\n",
    "if(assistant != null) {\n",
    "    await client.AssistantDelete(assistant.Id);\n",
    "    Console.WriteLine(\"Deleted assistant\");\n",
    "}\n",
    "else\n",
    "{\n",
    "    Console.WriteLine(\"Didn't find WebPageAgentAnt\");\n",
    "}"
   ]
  }
 ],
 "metadata": {
  "kernelspec": {
   "display_name": ".NET (C#)",
   "language": "C#",
   "name": ".net-csharp"
  },
  "language_info": {
   "name": "python"
  },
  "polyglot_notebook": {
   "kernelInfo": {
    "defaultKernelName": "csharp",
    "items": [
     {
      "aliases": [],
      "name": "csharp"
     }
    ]
   }
  }
 },
 "nbformat": 4,
 "nbformat_minor": 2
}
