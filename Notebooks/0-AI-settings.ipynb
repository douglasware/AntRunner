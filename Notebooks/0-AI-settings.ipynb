{
 "cells": [
  {
   "attachments": {},
   "cell_type": "markdown",
   "metadata": {},
   "source": [
    "Thanks to Semantic Kernel for this method of managing settings!\n",
    "\n",
    "AntRunner needs some settings like URL and\n",
    "credentials to the AI models. This theoretically supports OpenAI and Azure OpenAI,\n",
    "but I have not tested outside of Azure yet!\n",
    "\n",
    "## Azure requirements\n",
    "\n",
    "1. An Azure Open AI service in a region that supports [Assistants Preview](https://learn.microsoft.com/en-us/azure/ai-services/openai/concepts/models#assistants-preview)\n",
    "2. A model deployment such as gpt-4o\n",
    "3. An API Key\n",
    "\n",
    "## Optional\n",
    "\n",
    "The Web Search Test ant requires a (free) Web Search (Bing) instance in Azure and an associated API key"
   ]
  },
  {
   "attachments": {},
   "cell_type": "markdown",
   "metadata": {},
   "source": [
    "## Setting the configuration\n",
    "\n",
    "Run the following code. If you need to find the value and copy and paste, you can\n",
    "re-run the code and continue from where you left off."
   ]
  },
  {
   "cell_type": "code",
   "execution_count": 8,
   "metadata": {
    "dotnet_interactive": {
     "language": "csharp"
    },
    "polyglot_notebook": {
     "kernelName": "csharp"
    },
    "vscode": {
     "languageId": "polyglot-notebook"
    }
   },
   "outputs": [
    {
     "name": "stdout",
     "output_type": "stream",
     "text": [
      "Settings: OK: type configured [config/settings.json]\n",
      "Settings: OK: AZURE_OPENAI_DEPLOYMENT configured [config/settings.json]\n",
      "Settings: OK: AZURE_OPENAI_RESOURCE configured [config/settings.json]\n",
      "Settings: OK: AZURE_OPENAI_API_KEY configured [config/settings.json]\n",
      "Settings: OK: ASSISTANTS_BASE_FOLDER_PATH configured [config/settings.json]\n",
      "Settings: OK: AZURE_OPENAI_API_VERSION configured [config/settings.json]\n",
      "Settings: OK: SEARCH_API_KEY configured [config/settings.json]\n"
     ]
    }
   ],
   "source": [
    "#!import config/Settings.cs\n",
    "\n",
    "var settingsKeys = new List<string>\n",
    "{\n",
    "    \"TypeKey\",\n",
    "    \"ModelKey\",\n",
    "    \"AzureOpenAIResourceName\",\n",
    "    \"ApiKey\",\n",
    "    \"AssistantDefinitionsPath\",\n",
    "    \"ApiVersionKey\",\n",
    "    \"SearchApiKey\"\n",
    "};\n",
    "\n",
    "bool useAzureOpenAI = true; // Set this variable based on your application logic\n",
    "\n",
    "foreach (var settingKey in settingsKeys)\n",
    "{\n",
    "    await Settings.AskSetting(settingKey, useAzureOpenAI);\n",
    "}"
   ]
  },
  {
   "attachments": {},
   "cell_type": "markdown",
   "metadata": {},
   "source": [
    "If the code above doesn't show any error, you're good to go and run the other notebooks.\n",
    "\n",
    "## Resetting the configuration\n",
    "\n",
    "If you want to reset the configuration and start again, please uncomment and run the code below.\n",
    "You can also edit the [config/settings.json](config/settings.json) manually if you prefer."
   ]
  },
  {
   "cell_type": "code",
   "execution_count": 6,
   "metadata": {
    "dotnet_interactive": {
     "language": "csharp"
    },
    "polyglot_notebook": {
     "kernelName": "csharp"
    },
    "vscode": {
     "languageId": "polyglot-notebook"
    }
   },
   "outputs": [
    {
     "name": "stdout",
     "output_type": "stream",
     "text": [
      "Settings deleted. Run the notebook again to configure your AI backend.\r\n"
     ]
    }
   ],
   "source": [
    "#!import config/Settings.cs\n",
    "\n",
    "// Uncomment this line to reset your settings and delete the file from disk.\n",
    "//Settings.Reset();"
   ]
  },
  {
   "attachments": {},
   "cell_type": "markdown",
   "metadata": {},
   "source": [
    "Now that your environment is all set up, let's \n",
    "[list, create, delete and run assistants](1-Basics-List-Create-Delete-Run.ipynb)."
   ]
  }
 ],
 "metadata": {
  "kernelspec": {
   "display_name": ".NET (C#)",
   "language": "C#",
   "name": ".net-csharp"
  },
  "language_info": {
   "file_extension": ".cs",
   "mimetype": "text/x-csharp",
   "name": "C#",
   "pygments_lexer": "csharp",
   "version": "11.0"
  },
  "polyglot_notebook": {
   "kernelInfo": {
    "defaultKernelName": "csharp",
    "items": [
     {
      "aliases": [],
      "name": "csharp"
     }
    ]
   }
  }
 },
 "nbformat": 4,
 "nbformat_minor": 2
}
