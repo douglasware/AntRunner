{
 "cells": [
  {
   "cell_type": "markdown",
   "metadata": {},
   "source": [
    "## Web Search Test\n",
    "The **Web Search Test** ant demonstrates the use of a Web API secured using an API key with an auth header. This sample requires you to create a Web Search (bing) resource in Azure and enter its corresponding API key in [0-AI-settings](0-AI-settings.ipynb)"
   ]
  },
  {
   "cell_type": "markdown",
   "metadata": {},
   "source": [
    "## First steps\n",
    "- First, download AntRunLib from Nuget\n",
    "- At least once, set up the environment using **[0-AI-settings](0-AI-settings.ipynb)**"
   ]
  },
  {
   "cell_type": "code",
   "execution_count": 7,
   "metadata": {
    "dotnet_interactive": {
     "language": "csharp"
    },
    "polyglot_notebook": {
     "kernelName": "csharp"
    },
    "vscode": {
     "languageId": "polyglot-notebook"
    }
   },
   "outputs": [
    {
     "data": {
      "text/html": [
       "<div><div></div><div></div><div><strong>Installed Packages</strong><ul><li><span>AntRunnerLib, 0.7.7</span></li></ul></div></div>"
      ]
     },
     "metadata": {},
     "output_type": "display_data"
    }
   ],
   "source": [
    "#r \"nuget: AntRunnerLib, 0.7.7\"\n",
    "\n",
    "using AntRunnerLib;\n",
    "using AntRunnerLib.Identity;\n",
    "using static AntRunnerLib.ClientUtility;\n",
    "using System.IO;\n",
    "\n",
    "#!import config/Settings.cs \n",
    "\n",
    "var envVariables = Settings.GetEnvironmentVariables();\n",
    "foreach (var kvp in envVariables)\n",
    "{\n",
    "    Environment.SetEnvironmentVariable(kvp.Key, kvp.Value);\n",
    "}\n",
    "\n",
    "var config = AzureOpenAiConfigFactory.Get();\n",
    "var client = GetOpenAiClient(config);\n"
   ]
  },
  {
   "cell_type": "markdown",
   "metadata": {},
   "source": [
    "## Ensure the Web Search Test assistant exists\n",
    "The definition of this assistant is located in the \".\\AssistantDefinitions\\Web Search Test\" folder\n",
    "\n",
    "\".\\AssistantDefinitions\\\" is a default path. You can override it by setting the **ASSISTANTS_BASE_FOLDER_PATH** environment variable.\n",
    "\n",
    "\"Web Search Test\" contains the following files:\n",
    "```\n",
    "│   instructions.md - The instructions\n",
    "│   manifest.json - The base assistant definition\n",
    "│\n",
    "└───OpenAPI\n",
    "        api.bing.microsoft.com.json - A swagger file defining a tool named 'crawl' that uses web search\n",
    "        auth.json - See below... \n",
    "```        \n",
    "\n",
    "## auth.json\n",
    "AntRunnerLib uses the instructions in this file to create the correct auth header(s) for the API. In this case, a header is added to the web request, **Ocp-Apim-Subscription-Key**, the header's value is supplied by an environment variable named, SEARCH_API_KEY. The environment variable name is user defined and ensuring it has a value is the responsibility of the application. \n",
    "\n",
    "```json\n",
    "{\n",
    "  \"hosts\": {\n",
    "    \"api.bing.microsoft.com\": {\n",
    "      \"auth_type\": \"service_http\",\n",
    "      \"header_name\": \"Ocp-Apim-Subscription-Key\",\n",
    "      \"header_value_env_var\": \"SEARCH_API_KEY\"\n",
    "    }\n",
    "  }\n",
    "}\n",
    "```\n",
    "\n",
    "### Explanation\n",
    "`AssistantUtility.Create` acts based on the contents of a folder structure following a convention laid out in these notebooks. In this case, it copied the contents of instructions.md into the assistant manifest.json. It also parsed the api.bing.microsoft.com swagger which follows an Open API schema into tool defintions for the assitant."
   ]
  },
  {
   "cell_type": "code",
   "execution_count": 3,
   "metadata": {
    "dotnet_interactive": {
     "language": "csharp"
    },
    "polyglot_notebook": {
     "kernelName": "csharp"
    },
    "vscode": {
     "languageId": "polyglot-notebook"
    }
   },
   "outputs": [
    {
     "name": "stdout",
     "output_type": "stream",
     "text": [
      "asst_zxGK2DgeYl3Bl65FdJIv04BO\r\n"
     ]
    }
   ],
   "source": [
    "var assistantId = await AssistantUtility.Create(\"Web Search Test\", config);\n",
    "Console.WriteLine(assistantId)"
   ]
  },
  {
   "cell_type": "markdown",
   "metadata": {},
   "source": [
    "## Run the Assistant\n",
    "\n",
    "`output.Dialog` shows the conversation."
   ]
  },
  {
   "cell_type": "code",
   "execution_count": 8,
   "metadata": {
    "dotnet_interactive": {
     "language": "csharp"
    },
    "polyglot_notebook": {
     "kernelName": "csharp"
    },
    "vscode": {
     "languageId": "polyglot-notebook"
    }
   },
   "outputs": [
    {
     "data": {
      "text/markdown": [
       "\n",
       "User: Use python to get todays date and then use it to find things to do in Atlanta this weekend. Be careful to not include events in the past in your final answer. Do not imagine events that are not in the search results. You can perform multiple searches if necessary\n",
       "\n",
       "Assistant: I ran this code:\n",
       "```\n",
       "from datetime import datetime, timedelta\n",
       "\n",
       "# Get today's date\n",
       "today = datetime.now()\n",
       "# Calculate the upcoming weekend dates\n",
       "friday = today + timedelta((4-today.weekday()) % 7)\n",
       "saturday = friday + timedelta(days=1)\n",
       "sunday = friday + timedelta(days=2)\n",
       "\n",
       "today, friday, saturday, sunday\n",
       "```\n",
       "\n",
       "I called the tool named crawl with these arguments:\n",
       "```\n",
       "{\"q\": \"things to do in Atlanta on September 27 2024\", \"textFormat\": \"HTML\"}\n",
       "```\n",
       "and got this result:\n",
       "```\n",
       "{\"queryContext\":{\"originalQuery\":\"things to do in Atlanta on September 27 2024\"},\"webPages\":{\"value\":[{\"name\":\"Atlanta Events September 2024: Concerts, Shows, Sports...\",\"url\":\"https://atlanta-ga.events/september/\",\"displayUrl\":\"https://atlanta-ga.events/september\",\"snippet\":\"Explore our comprehensive calendar for all the current and upcoming events in Atlanta, GA, for September 2024. This guide is your gateway to discovering the best things to do in Atlanta, from Concerts and Theater Shows to Sports events and music festivals. You\\u2019ll find a detailed list of all the most engaging and exciting activities happening throughout the month.\",\"cachedPageUrl\":\"http://cc.bingj.com/cache.aspx?q=things\\u002Bto\\u002Bdo\\u002Bin\\u002BAtlanta\\u002Bon\\u002BSeptember\\u002B27\\u002B2024\\u0026d=4854189675467386\\u0026mkt=en-US\\u0026setlang=en-US\\u0026w=ShlkdiIwTMefbkmdL1lCvH4mS1bjztOY\"},{\"name\":\"Cool Things To Do in September in Atlanta\",\"url\":\"https://discoveratlanta.com/stories/things-to-do/cool-things-to-do-in-september-in-atlanta/\",\"displayUrl\":\"https://discoveratlanta.com/stories/things-to-do/cool-things-to-do-in-september-in-atlanta\",\"snippet\":\"The Sweet Auburn Music Fest, which takes place Sept. 28-29. The festival, located on Auburn Avenue, one of Atlanta\\u2019s most iconic streets, offers fun-filled entertainment, live music \\u2014 everything from R\\u0026amp;B to gospel to alternative favorites \\u2014 international food court, national artists, celebrities and vendors of all types.\",\"cachedPageUrl\":\"http://cc.bingj.com/cache.aspx?q=things\\u002Bto\\u002Bdo\\u002Bin\\u002BAtlanta\\u002Bon\\u002BSeptember\\u002B27\\u002B2024\\u0026d=4692574351720481\\u0026mkt=en-US\\u0026setlang=en-US\\u0026w=IyKVbCksY9VV74GkIkdoRE4k4vk9MNbJ\",\"thumbnailUrl\":\"https://www.bing.com/th?id=OIP.m0ENCio7ytS2o9PQRWDCRgHaD4\\u0026w=80\\u0026h=80\\u0026c=1\\u0026pid=5.1\"},{\"name\":\"Atlanta Events - September 2024 - Go South Atlanta\",\"url\":\"https://gosouthatlanta.com/things-to-do/events/atlanta-in-september.html\",\"displayUrl\":\"https://gosouthatlanta.com/things-to-do/events/atlanta-in-september.html\",\"snippet\":\"More details. \\u2013 Dragon Con, August 29 - September 2 2024. One of the biggest annual pop culture conventions in the country. More details. \\u2013 Atlanta Black Theatre Festival, August 30 - September 1 2024. Annual festival celebrating the Black experience in the performing arts, with plays, panels, masterclasses and other events.\",\"cachedPageUrl\":\"http://cc.bingj.com/cache.aspx?q=things\\u002Bto\\u002Bdo\\u002Bin\\u002BAtlanta\\u002Bon\\u002BSeptember\\u002B27\\u002B2024\\u0026d=4712253893443652\\u0026mkt=en-US\\u0026setlang=en-US\\u0026w=-nsAOlbynJFe4oOvzq1dGpeg_GE4sHjt\",\"thumbnailUrl\":\"https://www.bing.com/th?id=OIP.xm-3dn3hYJZHsVVU9WO5qwHaD4\\u0026w=80\\u0026h=80\\u0026c=1\\u0026pid=5.1\"},{\"name\":\"The Best Things to Do in Atlanta in September\",\"url\":\"https://unexpectedatlanta.com/the-best-things-to-do-in-atlanta-in-september/\",\"displayUrl\":\"https://unexpectedatlanta.com/the-best-things-to-do-in-atlanta-in-september\",\"snippet\":\"Soak up the last of summer and celebrate the start of fall with the best things to do in Atlanta in September 2024! This month brings comfortable temperatures as summer cools down \\u2013 with long, golden days that spill into evening. ... September 27, 2024. This opportunity to see exhibits with later access to Fernbank is a fun way to socialize ...\",\"cachedPageUrl\":\"http://cc.bingj.com/cache.aspx?q=things\\u002Bto\\u002Bdo\\u002Bin\\u002BAtlanta\\u002Bon\\u002BSeptember\\u002B27\\u002B2024\\u0026d=4781604725337408\\u0026mkt=en-US\\u0026setlang=en-US\\u0026w=L1hd-5qzDrt-bHwGvtgeUoQiW0MCD0-O\",\"thumbnailUrl\":\"https://www.bing.com/th?id=OIP.BV6NvB-FhOL3LSCX1dcUJwHaHa\\u0026w=80\\u0026h=80\\u0026c=1\\u0026pid=5.1\"},{\"name\":\"80\\u002B fall festivals \\u0026amp; fairs around metro Atlanta: Fun things to do in ...\",\"url\":\"https://www.atlantaonthecheap.com/fall-festivals-atlanta/\",\"displayUrl\":\"https://www.atlantaonthecheap.com/fall-festivals-atlanta\",\"snippet\":\"September 27th to October 6, 2024 Atlanta Motor Speedway Hampton, GA . Come for the carnival rides, food, free concerts, exhibits, and more. The fair is here for about ten days, so you\\u2019ll have two weekend options. ... October 26 and 27, 2024 Smyrna Town Green FREE. Formerly known as the Fall Jonquil Festival, this newly re-branded fall is in ...\",\"cachedPageUrl\":\"http://cc.bingj.com/cache.aspx?q=things\\u002Bto\\u002Bdo\\u002Bin\\u002BAtlanta\\u002Bon\\u002BSeptember\\u002B27\\u002B2024\\u0026d=5012794228740299\\u0026mkt=en-US\\u0026setlang=en-US\\u0026w=xfpymjtTccXnjjGt9vluoyq1DPm6ofe-\",\"thumbnailUrl\":\"https://www.bing.com/th?id=OIP.w0-v0ll6eXl6tJfBd5-ovwHaEV\\u0026w=80\\u0026h=80\\u0026c=1\\u0026pid=5.1\"},{\"name\":\"20 Spectacular Things To Do This September In Atlanta - Secret Atlanta\",\"url\":\"https://secretatlanta.co/things-to-do-september/\",\"displayUrl\":\"https://secretatlanta.co/things-to-do-september\",\"snippet\":\"When: Saturday, September 7th from 12pm \\u2013 10pm. Thousands of people are expected to head to Morris Brown College in Atlanta this September for the legendary Seafood \\u0026amp; Caribbean Music festival! Enjoy tons of live music, DJs, and of course, as much mouthwatering seafood and Caribbean dishes as your heart desires! Don\\u2019t miss out on all the fun.\",\"cachedPageUrl\":\"http://cc.bingj.com/cache.aspx?q=things\\u002Bto\\u002Bdo\\u002Bin\\u002BAtlanta\\u002Bon\\u002BSeptember\\u002B27\\u002B2024\\u0026d=4724958405090999\\u0026mkt=en-US\\u0026setlang=en-US\\u0026w=HkmWmkX0emVkqeBkOazQ7cCeg5xgwMQ3\",\"thumbnailUrl\":\"https://www.bing.com/th?id=OIP.mwxBnPRtbggmsDGaNhGACQHaE8\\u0026w=80\\u0026h=80\\u0026c=1\\u0026pid=5.1\"},{\"name\":\"Explore Atlanta Events for Today, This Week or Weekend - Discover Atlanta\",\"url\":\"https://discoveratlanta.com/events/main/\",\"displayUrl\":\"https://discoveratlanta.com/events/m\",\"snippet\":\"Explore the Atlanta events calendar for things to do today, this week or this weekend. Find upcoming festivals, seasonal events and more! ... Every Friday until 09/27/2024. Trivia Night at Wild Leap Atlanta Every Tuesday until 11/19/2024. Elements- Surya Ensemble ... September 27. Friday. 3rd Annual Baldie Con 9/27/24 \\u2013 9/29/24. What\\u2019s Hot ...\",\"cachedPageUrl\":\"http://cc.bingj.com/cache.aspx?q=things\\u002Bto\\u002Bdo\\u002Bin\\u002BAtlanta\\u002Bon\\u002BSeptember\\u002B27\\u002B2024\\u0026d=4819881473496114\\u0026mkt=en-US\\u0026setlang=en-US\\u0026w=zvJBiG0Dg4eP1GMx_bJv9FTM8ziERJGY\",\"thumbnailUrl\":\"https://www.bing.com/th?id=OIP.FkxSV6JbrWatsFMM3_8dIAHaEh\\u0026w=80\\u0026h=80\\u0026c=1\\u0026pid=5.1\"},{\"name\":\"Fall festivals in metro Atlanta and North Georgia | 2024\",\"url\":\"https://www.fox5atlanta.com/news/fall-festivals-metro-atlanta-north-georgia-2024\",\"displayUrl\":\"https://www.fox5atlanta.com/news/fall-festivals-metro-atlanta-north-georgia-2024\",\"snippet\":\"ATLANTA - This is a list of upcoming fall festivals in metro Atlanta and North Georgia: September: North Georgia State Fair. When: ... Sept. 27-28, 2024; ... Taste of Atlanta. When: Oct. 18-20, 2024;\",\"cachedPageUrl\":\"http://cc.bingj.com/cache.aspx?q=things\\u002Bto\\u002Bdo\\u002Bin\\u002BAtlanta\\u002Bon\\u002BSeptember\\u002B27\\u002B2024\\u0026d=2173865470069\\u0026mkt=en-US\\u0026setlang=en-US\\u0026w=jxnOnRj04ciRcKNV8UVNHXKEd0PX1nap\"},{\"name\":\"September events in Atlanta, GA - Eventbrite\",\"url\":\"https://www.eventbrite.com/d/ga--atlanta/september/\",\"displayUrl\":\"https://www.eventbrite.com/d/ga--atlanta/september\",\"snippet\":\"BUNT | Friday September 27th 2024 | District Atlanta. Fri, Sep 27, 10:00 PM. District Atlanta. Share this event: BUNT ... Save this event: CULTURE SHOCK | Friday September 20th 2024| District Atlanta Share this event: CULTURE SHOCK | Friday September 20th 2024| District Atlanta. Sales end soon.\",\"cachedPageUrl\":\"http://cc.bingj.com/cache.aspx?q=things\\u002Bto\\u002Bdo\\u002Bin\\u002BAtlanta\\u002Bon\\u002BSeptember\\u002B27\\u002B2024\\u0026d=4895150772333840\\u0026mkt=en-US\\u0026setlang=en-US\\u0026w=SLlGH3HuLduyDsvIkk1oKXILCVW8I5z3\"},{\"name\":\"Things to Do in Atlanta in 2024: Events, festivals, and exhibits ...\",\"url\":\"https://www.thrillist.com/events/atlanta/events-calendar-in-atlanta-this-year\",\"displayUrl\":\"https://www.thrillist.com/events/atlanta/events-calendar-in-atlanta-this-year\",\"snippet\":\"23 Things You Have to Do in Atlanta This Year, From One Musicfest to Homecoming ... August 29\\u2013September 2, 2024 Westin Peachtree Plaza ... October 26\\u201327, 2024 Piedmont Park\",\"thumbnailUrl\":\"https://www.bing.com/th?id=OIP.WUHCPl7_RpepE3pSEdAEMgHaE8\\u0026w=80\\u0026h=80\\u0026c=1\\u0026pid=5.1\"}]}}\n",
       "```\n",
       "\n",
       "I called the tool named crawl with these arguments:\n",
       "```\n",
       "{\"q\": \"things to do in Atlanta on September 28 2024\", \"textFormat\": \"HTML\"}\n",
       "```\n",
       "and got this result:\n",
       "```\n",
       "{\"queryContext\":{\"originalQuery\":\"things to do in Atlanta on September 28 2024\"},\"webPages\":{\"value\":[{\"name\":\"Atlanta Events September 2024: Concerts, Shows, Sports...\",\"url\":\"https://atlanta-ga.events/september/\",\"displayUrl\":\"https://atlanta-ga.events/september\",\"snippet\":\"Explore our comprehensive calendar for all the current and upcoming events in Atlanta, GA, for September 2024. This guide is your gateway to discovering the best things to do in Atlanta, from Concerts and Theater Shows to Sports events and music festivals. You\\u2019ll find a detailed list of all the most engaging and exciting activities happening throughout the month.\",\"cachedPageUrl\":\"http://cc.bingj.com/cache.aspx?q=things\\u002Bto\\u002Bdo\\u002Bin\\u002BAtlanta\\u002Bon\\u002BSeptember\\u002B28\\u002B2024\\u0026d=4854189675467386\\u0026mkt=en-US\\u0026setlang=en-US\\u0026w=ShlkdiIwTMefbkmdL1lCvH4mS1bjztOY\"},{\"name\":\"Atlanta Events - September 2024 - Go South Atlanta\",\"url\":\"https://gosouthatlanta.com/things-to-do/events/atlanta-in-september.html\",\"displayUrl\":\"https://gosouthatlanta.com/things-to-do/events/atlanta-in-september.html\",\"snippet\":\"More details. \\u2013 Dragon Con, August 29 - September 2 2024. One of the biggest annual pop culture conventions in the country. More details. \\u2013 Atlanta Black Theatre Festival, August 30 - September 1 2024. Annual festival celebrating the Black experience in the performing arts, with plays, panels, masterclasses and other events.\",\"cachedPageUrl\":\"http://cc.bingj.com/cache.aspx?q=things\\u002Bto\\u002Bdo\\u002Bin\\u002BAtlanta\\u002Bon\\u002BSeptember\\u002B28\\u002B2024\\u0026d=4712253893115949\\u0026mkt=en-US\\u0026setlang=en-US\\u0026w=D6V2DS_RjZRe4oOvzq1dGpeg_GE4sHjt\",\"thumbnailUrl\":\"https://www.bing.com/th?id=OIP.xm-3dn3hYJZHsVVU9WO5qwHaD4\\u0026w=80\\u0026h=80\\u0026c=1\\u0026pid=5.1\"},{\"name\":\"Cool Things To Do in September in Atlanta\",\"url\":\"https://discoveratlanta.com/stories/things-to-do/cool-things-to-do-in-september-in-atlanta/\",\"displayUrl\":\"https://discoveratlanta.com/stories/things-to-do/cool-things-to-do-in-september-in-atlanta\",\"snippet\":\"The Sweet Auburn Music Fest, which takes place Sept. 28-29. The festival, located on Auburn Avenue, one of Atlanta\\u2019s most iconic streets, offers fun-filled entertainment, live music \\u2014 everything from R\\u0026amp;B to gospel to alternative favorites \\u2014 international food court, national artists, celebrities and vendors of all types.\",\"cachedPageUrl\":\"http://cc.bingj.com/cache.aspx?q=things\\u002Bto\\u002Bdo\\u002Bin\\u002BAtlanta\\u002Bon\\u002BSeptember\\u002B28\\u002B2024\\u0026d=4692574351720481\\u0026mkt=en-US\\u0026setlang=en-US\\u0026w=IyKVbCksY9VV74GkIkdoRE4k4vk9MNbJ\",\"thumbnailUrl\":\"https://www.bing.com/th?id=OIP.m0ENCio7ytS2o9PQRWDCRgHaD4\\u0026w=80\\u0026h=80\\u0026c=1\\u0026pid=5.1\"},{\"name\":\"80\\u002B fall festivals \\u0026amp; fairs around metro Atlanta: Fun things to do in ...\",\"url\":\"https://www.atlantaonthecheap.com/fall-festivals-atlanta/\",\"displayUrl\":\"https://www.atlantaonthecheap.com/fall-festivals-atlanta\",\"snippet\":\"\\u2666 Atlanta Streets Alive. September 15, 2024 West End to Grant Park FREE. This is a new route for Fall of 2024! On these Sundays, streets are are temporarily closed to traffic for four hours \\u2014 so you can come out to walk, run, stroll, bike, scoot, roll, and just have fun.\",\"cachedPageUrl\":\"http://cc.bingj.com/cache.aspx?q=things\\u002Bto\\u002Bdo\\u002Bin\\u002BAtlanta\\u002Bon\\u002BSeptember\\u002B28\\u002B2024\\u0026d=5012794228343791\\u0026mkt=en-US\\u0026setlang=en-US\\u0026w=rgc8005sQAPnjjGt9vluoyq1DPm6ofe-\",\"thumbnailUrl\":\"https://www.bing.com/th?id=OIP.w0-v0ll6eXl6tJfBd5-ovwHaEV\\u0026w=80\\u0026h=80\\u0026c=1\\u0026pid=5.1\"},{\"name\":\"Explore Atlanta Events for Today, This Week or Weekend - Discover Atlanta\",\"url\":\"https://discoveratlanta.com/events/main/\",\"displayUrl\":\"https://discoveratlanta.com/events/m\",\"snippet\":\"Explore the Atlanta events calendar for things to do today, this week or this weekend. Find upcoming festivals, seasonal events and more! ... Every Saturday until 09/28/2024. Protect Yo Energy Con 9/22/24 \\u2013 11/9/24. ... September 28. Saturday. Sweet Auburn Music Fest 9/28/24 \\u2013 9/29/24. Editors\\u2019 Pick . October 01.\",\"cachedPageUrl\":\"http://cc.bingj.com/cache.aspx?q=things\\u002Bto\\u002Bdo\\u002Bin\\u002BAtlanta\\u002Bon\\u002BSeptember\\u002B28\\u002B2024\\u0026d=4819881473017562\\u0026mkt=en-US\\u0026setlang=en-US\\u0026w=jjFkJ7EEAs2P1GMx_bJv9FTM8ziERJGY\",\"thumbnailUrl\":\"https://www.bing.com/th?id=OIP.FkxSV6JbrWatsFMM3_8dIAHaEh\\u0026w=80\\u0026h=80\\u0026c=1\\u0026pid=5.1\"},{\"name\":\"The Best Things to Do in Atlanta in September\",\"url\":\"https://unexpectedatlanta.com/the-best-things-to-do-in-atlanta-in-september/\",\"displayUrl\":\"https://unexpectedatlanta.com/the-best-things-to-do-in-atlanta-in-september\",\"snippet\":\"Atlanta Events: September 2024 Experience the Best of Atlanta\\u2019s Food \\u0026amp; History. Try some of the best eats in Atlanta! The #1-rated Grant Park Past \\u0026amp; Future Food Walk is a fun walking tour showcasing the best of Atlanta\\u2019s food and history. On this tour, you\\u2019ll taste eight modern and Southern foods from three outstanding locally owned food stops.\",\"cachedPageUrl\":\"http://cc.bingj.com/cache.aspx?q=things\\u002Bto\\u002Bdo\\u002Bin\\u002BAtlanta\\u002Bon\\u002BSeptember\\u002B28\\u002B2024\\u0026d=4781604725337408\\u0026mkt=en-US\\u0026setlang=en-US\\u0026w=L1hd-5qzDrt-bHwGvtgeUoQiW0MCD0-O\",\"thumbnailUrl\":\"https://www.bing.com/th?id=OIP.BV6NvB-FhOL3LSCX1dcUJwHaHa\\u0026w=80\\u0026h=80\\u0026c=1\\u0026pid=5.1\"},{\"name\":\"20 Spectacular Things To Do This September In Atlanta - Secret Atlanta\",\"url\":\"https://secretatlanta.co/things-to-do-september/\",\"displayUrl\":\"https://secretatlanta.co/things-to-do-september\",\"snippet\":\"When: Saturday, September 7th from 12pm \\u2013 10pm. Thousands of people are expected to head to Morris Brown College in Atlanta this September for the legendary Seafood \\u0026amp; Caribbean Music festival! Enjoy tons of live music, DJs, and of course, as much mouthwatering seafood and Caribbean dishes as your heart desires! Don\\u2019t miss out on all the fun.\",\"cachedPageUrl\":\"http://cc.bingj.com/cache.aspx?q=things\\u002Bto\\u002Bdo\\u002Bin\\u002BAtlanta\\u002Bon\\u002BSeptember\\u002B28\\u002B2024\\u0026d=4724958405090999\\u0026mkt=en-US\\u0026setlang=en-US\\u0026w=HkmWmkX0emVkqeBkOazQ7cCeg5xgwMQ3\",\"thumbnailUrl\":\"https://www.bing.com/th?id=OIP.mwxBnPRtbggmsDGaNhGACQHaE8\\u0026w=80\\u0026h=80\\u0026c=1\\u0026pid=5.1\"},{\"name\":\"21 Best Things to Do in Atlanta With Kids September 2024 - MSN\",\"url\":\"https://www.msn.com/en-us/travel/tripideas/21-best-things-to-do-in-atlanta-with-kids-september-2024/ar-AA1pJEQO\",\"displayUrl\":\"https://www.msn.com/en-us/travel/tripideas/21-best-things-to-do-in-atlanta-with-kids...\",\"snippet\":\"August 29 - September 2, 2024. Fans of comics descend on downtown Atlanta Labor Day weekend, costumes and all. But it\\u0026#39;s not just about comics; Dragon Con is a huge multi-media event focusing on ...\"},{\"name\":\"Things to Do in Atlanta in 2024: Events, festivals, and exhibits ...\",\"url\":\"https://www.thrillist.com/events/atlanta/events-calendar-in-atlanta-this-year\",\"displayUrl\":\"https://www.thrillist.com/events/atlanta/events-calendar-in-atlanta-this-year\",\"snippet\":\"23 Things You Have to Do in Atlanta This Year, From One Musicfest to Homecoming ... September 28\\u201329, 2024 Old Fourth Ward One of the city\\u2019s most anticipated events is back in September. The ...\",\"thumbnailUrl\":\"https://www.bing.com/th?id=OIP.WUHCPl7_RpepE3pSEdAEMgHaE8\\u0026w=80\\u0026h=80\\u0026c=1\\u0026pid=5.1\"},{\"name\":\"Atlanta September 2024: Events, Concerts, Clubs \\u0026amp; Things to Do - Experism\",\"url\":\"https://www.experism.com/atlanta/september\",\"displayUrl\":\"https://www.experism.com/atlanta/september\",\"snippet\":\"Sep 12-15, 2024 Historic Fourth Ward Park View on Map. Play Video. The Atlanta Food \\u0026amp; Wine Festival highlights the best food, wine, beer \\u0026amp; cocktails Atlanta has to offer. This unique event brings in 150\\u002B chefs, sommeliers, mixologists and industry insiders for 5 days of mouthwatering and tempting cuisines \\u0026amp; special Tasting Tents.\",\"cachedPageUrl\":\"http://cc.bingj.com/cache.aspx?q=things\\u002Bto\\u002Bdo\\u002Bin\\u002BAtlanta\\u002Bon\\u002BSeptember\\u002B28\\u002B2024\\u0026d=4642636758720807\\u0026mkt=en-US\\u0026setlang=en-US\\u0026w=PQg3e5KvVPE_Ok9mubm7deAiSBD33s7x\",\"thumbnailUrl\":\"https://www.bing.com/th?id=OIP.opEpXe5xeSIGAQVvWLFBbAHaEK\\u0026w=80\\u0026h=80\\u0026c=1\\u0026pid=5.1\"}]}}\n",
       "```\n",
       "\n",
       "I called the tool named crawl with these arguments:\n",
       "```\n",
       "{\"q\": \"things to do in Atlanta on September 29 2024\", \"textFormat\": \"HTML\"}\n",
       "```\n",
       "and got this result:\n",
       "```\n",
       "{\"queryContext\":{\"originalQuery\":\"things to do in Atlanta on September 29 2024\"},\"webPages\":{\"value\":[{\"name\":\"Cool Things To Do in September in Atlanta\",\"url\":\"https://discoveratlanta.com/stories/things-to-do/cool-things-to-do-in-september-in-atlanta/\",\"displayUrl\":\"https://discoveratlanta.com/stories/things-to-do/cool-things-to-do-in-september-in-atlanta\",\"snippet\":\"The Sweet Auburn Music Fest, which takes place Sept. 28-29. The festival, located on Auburn Avenue, one of Atlanta\\u2019s most iconic streets, offers fun-filled entertainment, live music \\u2014 everything from R\\u0026amp;B to gospel to alternative favorites \\u2014 international food court, national artists, celebrities and vendors of all types.\",\"cachedPageUrl\":\"http://cc.bingj.com/cache.aspx?q=things\\u002Bto\\u002Bdo\\u002Bin\\u002BAtlanta\\u002Bon\\u002BSeptember\\u002B29\\u002B2024\\u0026d=4692574351720481\\u0026mkt=en-US\\u0026setlang=en-US\\u0026w=IyKVbCksY9VV74GkIkdoRE4k4vk9MNbJ\",\"thumbnailUrl\":\"https://www.bing.com/th?id=OIP.m0ENCio7ytS2o9PQRWDCRgHaD4\\u0026w=80\\u0026h=80\\u0026c=1\\u0026pid=5.1\"},{\"name\":\"Atlanta Events September 2024: Concerts, Shows, Sports...\",\"url\":\"https://atlanta-ga.events/september/\",\"displayUrl\":\"https://atlanta-ga.events/september\",\"snippet\":\"Check Out The Atlanta Events Calendar for September 2024. See the List Of All Current \\u0026amp; Upcoming Events at the Lowest Possible Price. ... 29 tickets remaining! Tickets; Sep. 25. 2024. 8:00 PM Wed. 454. Aisle 5 | Capacity: 300. 30307, 1123 Euclid Ave Ne, Atlanta, GA, US\",\"cachedPageUrl\":\"http://cc.bingj.com/cache.aspx?q=things\\u002Bto\\u002Bdo\\u002Bin\\u002BAtlanta\\u002Bon\\u002BSeptember\\u002B29\\u002B2024\\u0026d=4854189675467386\\u0026mkt=en-US\\u0026setlang=en-US\\u0026w=ShlkdiIwTMefbkmdL1lCvH4mS1bjztOY\"},{\"name\":\"Atlanta Events - September 2024 - Go South Atlanta\",\"url\":\"https://gosouthatlanta.com/things-to-do/events/atlanta-in-september.html\",\"displayUrl\":\"https://gosouthatlanta.com/things-to-do/events/atlanta-in-september.html\",\"snippet\":\"More details. \\u2013 Dragon Con, August 29 - September 2 2024. One of the biggest annual pop culture conventions in the country. More details. \\u2013 Atlanta Black Theatre Festival, August 30 - September 1 2024. Annual festival celebrating the Black experience in the performing arts, with plays, panels, masterclasses and other events.\",\"cachedPageUrl\":\"http://cc.bingj.com/cache.aspx?q=things\\u002Bto\\u002Bdo\\u002Bin\\u002BAtlanta\\u002Bon\\u002BSeptember\\u002B29\\u002B2024\\u0026d=4712253893115949\\u0026mkt=en-US\\u0026setlang=en-US\\u0026w=D6V2DS_RjZRe4oOvzq1dGpeg_GE4sHjt\",\"thumbnailUrl\":\"https://www.bing.com/th?id=OIP.xm-3dn3hYJZHsVVU9WO5qwHaD4\\u0026w=80\\u0026h=80\\u0026c=1\\u0026pid=5.1\"},{\"name\":\"80\\u002B fall festivals \\u0026amp; fairs around metro Atlanta: Fun things to do in ...\",\"url\":\"https://www.atlantaonthecheap.com/fall-festivals-atlanta/\",\"displayUrl\":\"https://www.atlantaonthecheap.com/fall-festivals-atlanta\",\"snippet\":\"September 27th to October 6, 2024 Atlanta Motor Speedway ... September 29, 2024 Lake Sheryl 4540 Lee Rd SW Snellville, GA 30039. Come for soul food, music genres from jazz to reggae, local vendors and more. Save room for the collard green ice cream! Visit the festival website.\",\"cachedPageUrl\":\"http://cc.bingj.com/cache.aspx?q=things\\u002Bto\\u002Bdo\\u002Bin\\u002BAtlanta\\u002Bon\\u002BSeptember\\u002B29\\u002B2024\\u0026d=5012794228343791\\u0026mkt=en-US\\u0026setlang=en-US\\u0026w=rgc8005sQAPnjjGt9vluoyq1DPm6ofe-\",\"thumbnailUrl\":\"https://www.bing.com/th?id=OIP.w0-v0ll6eXl6tJfBd5-ovwHaEV\\u0026w=80\\u0026h=80\\u0026c=1\\u0026pid=5.1\"},{\"name\":\"Fall festivals in metro Atlanta and North Georgia | 2024\",\"url\":\"https://www.fox5atlanta.com/news/fall-festivals-metro-atlanta-north-georgia-2024\",\"displayUrl\":\"https://www.fox5atlanta.com/news/fall-festivals-metro-atlanta-north-georgia-2024\",\"snippet\":\"Updated September 23, 2024 12:14am EDT Things To Do. FOX 5 Atlanta article. ATLANTA - This is a ... Sept. 28-29; Where: 32 Irwin St. NE, Atlanta; What: A three-day music festival featuring live ...\",\"cachedPageUrl\":\"http://cc.bingj.com/cache.aspx?q=things\\u002Bto\\u002Bdo\\u002Bin\\u002BAtlanta\\u002Bon\\u002BSeptember\\u002B29\\u002B2024\\u0026d=2173865470069\\u0026mkt=en-US\\u0026setlang=en-US\\u0026w=jxnOnRj04ciRcKNV8UVNHXKEd0PX1nap\"},{\"name\":\"Atlanta September 2024: Events, Concerts, Clubs \\u0026amp; Things to Do - Experism\",\"url\":\"https://www.experism.com/atlanta/september\",\"displayUrl\":\"https://www.experism.com/atlanta/september\",\"snippet\":\"Sep 12-15, 2024 Historic Fourth Ward Park View on Map. Play Video. The Atlanta Food \\u0026amp; Wine Festival highlights the best food, wine, beer \\u0026amp; cocktails Atlanta has to offer. This unique event brings in 150\\u002B chefs, sommeliers, mixologists and industry insiders for 5 days of mouthwatering and tempting cuisines \\u0026amp; special Tasting Tents.\",\"cachedPageUrl\":\"http://cc.bingj.com/cache.aspx?q=things\\u002Bto\\u002Bdo\\u002Bin\\u002BAtlanta\\u002Bon\\u002BSeptember\\u002B29\\u002B2024\\u0026d=4642636758720807\\u0026mkt=en-US\\u0026setlang=en-US\\u0026w=PQg3e5KvVPE_Ok9mubm7deAiSBD33s7x\",\"thumbnailUrl\":\"https://www.bing.com/th?id=OIP.opEpXe5xeSIGAQVvWLFBbAHaEK\\u0026w=80\\u0026h=80\\u0026c=1\\u0026pid=5.1\"},{\"name\":\"The Best Things to Do in Atlanta in September\",\"url\":\"https://unexpectedatlanta.com/the-best-things-to-do-in-atlanta-in-september/\",\"displayUrl\":\"https://unexpectedatlanta.com/the-best-things-to-do-in-atlanta-in-september\",\"snippet\":\"Soak up the last of summer and celebrate the start of fall with the best things to do in Atlanta in September 2024! This month brings comfortable temperatures as summer cools down \\u2013 with long, golden days that spill into evening. ... 25\\u002B Unique \\u0026amp; Fun Date Ideas: Atlanta August 29, 2024; Atlanta Airport: Ultimate Guide for Travelers August 26 ...\",\"cachedPageUrl\":\"http://cc.bingj.com/cache.aspx?q=things\\u002Bto\\u002Bdo\\u002Bin\\u002BAtlanta\\u002Bon\\u002BSeptember\\u002B29\\u002B2024\\u0026d=4781604725337408\\u0026mkt=en-US\\u0026setlang=en-US\\u0026w=L1hd-5qzDrt-bHwGvtgeUoQiW0MCD0-O\",\"thumbnailUrl\":\"https://www.bing.com/th?id=OIP.BV6NvB-FhOL3LSCX1dcUJwHaHa\\u0026w=80\\u0026h=80\\u0026c=1\\u0026pid=5.1\"},{\"name\":\"20 Spectacular Things To Do This September In Atlanta - Secret Atlanta\",\"url\":\"https://secretatlanta.co/things-to-do-september/\",\"displayUrl\":\"https://secretatlanta.co/things-to-do-september\",\"snippet\":\"When: Saturday, September 7th from 12pm \\u2013 10pm. Thousands of people are expected to head to Morris Brown College in Atlanta this September for the legendary Seafood \\u0026amp; Caribbean Music festival! Enjoy tons of live music, DJs, and of course, as much mouthwatering seafood and Caribbean dishes as your heart desires! Don\\u2019t miss out on all the fun.\",\"cachedPageUrl\":\"http://cc.bingj.com/cache.aspx?q=things\\u002Bto\\u002Bdo\\u002Bin\\u002BAtlanta\\u002Bon\\u002BSeptember\\u002B29\\u002B2024\\u0026d=4724958405090999\\u0026mkt=en-US\\u0026setlang=en-US\\u0026w=HkmWmkX0emVkqeBkOazQ7cCeg5xgwMQ3\",\"thumbnailUrl\":\"https://www.bing.com/th?id=OIP.mwxBnPRtbggmsDGaNhGACQHaE8\\u0026w=80\\u0026h=80\\u0026c=1\\u0026pid=5.1\"},{\"name\":\"Explore Atlanta Events for Today, This Week or Weekend - Discover Atlanta\",\"url\":\"https://discoveratlanta.com/events/main/\",\"displayUrl\":\"https://discoveratlanta.com/events/m\",\"snippet\":\"Explore the Atlanta events calendar for things to do today, this week or this weekend. Find upcoming festivals, seasonal events and more! ... Roswell Wine Festival Multiple dates until 09/29/2024. September 28. Saturday. Sangria n\\u2019 Skincare DIY Facial Serum Workshop 9/28/24. September 28. ... September 29. Sunday. Ethel\\u2019s Birthday Jam ...\",\"cachedPageUrl\":\"http://cc.bingj.com/cache.aspx?q=things\\u002Bto\\u002Bdo\\u002Bin\\u002BAtlanta\\u002Bon\\u002BSeptember\\u002B29\\u002B2024\\u0026d=4819881473017562\\u0026mkt=en-US\\u0026setlang=en-US\\u0026w=jjFkJ7EEAs2P1GMx_bJv9FTM8ziERJGY\",\"thumbnailUrl\":\"https://www.bing.com/th?id=OIP.FkxSV6JbrWatsFMM3_8dIAHaEh\\u0026w=80\\u0026h=80\\u0026c=1\\u0026pid=5.1\"},{\"name\":\"35\\u002B Best Things to Do in Atlanta in 2024 - Unexpected Atlanta\",\"url\":\"https://unexpectedatlanta.com/best-things-to-do-in-atlanta/\",\"displayUrl\":\"https://unexpectedatlanta.com/best-things-to-do-in-atlanta\",\"snippet\":\"First on our list of the best things to do in Atlanta in 2024, check out America\\u2019s National Park System\\u2019s fee-free days this year. ... 30\\u002B Best Cocktail Bars: Atlanta \\u0026amp; Beyond September 1, 2024; 25\\u002B Unique \\u0026amp; Fun Date Ideas: Atlanta August 29, 2024; Atlanta Airport: Ultimate Guide for Travelers August 26, 2024; See Tours Available On Your ...\",\"cachedPageUrl\":\"http://cc.bingj.com/cache.aspx?q=things\\u002Bto\\u002Bdo\\u002Bin\\u002BAtlanta\\u002Bon\\u002BSeptember\\u002B29\\u002B2024\\u0026d=4885792044096348\\u0026mkt=en-US\\u0026setlang=en-US\\u0026w=SRiegEmhRGKtzRRUG028yHS95G2gOIKx\",\"thumbnailUrl\":\"https://www.bing.com/th?id=OIP.HwzfdFE6-tSHfhoFlTxXKQHaHa\\u0026w=80\\u0026h=80\\u0026c=1\\u0026pid=5.1\"}]}}\n",
       "```\n",
       "\n",
       "Here are some events and activities you can attend in Atlanta this weekend (September 27-29, 2024):\n",
       "\n",
       "**Friday, September 27, 2024:**\n",
       "1. [3rd Annual Baldie Con](https://discoveratlanta.com/events/main/) (September 27-29): A unique convention celebrating bald heads and the beauty of baldness.\n",
       "2. [Trivia Night at Wild Leap Atlanta](https://discoveratlanta.com/events/main/): A fun trivia night event.\n",
       "3. [District Atlanta](https://www.eventbrite.com/d/ga--atlanta/september/): BUNT performance at District Atlanta.\n",
       "4. [Fernbank Museum](https://unexpectedatlanta.com/the-best-things-to-do-in-atlanta-in-september/): Extended hours to explore exhibits and socialize.\n",
       "\n",
       "**Saturday, September 28, 2024:**\n",
       "1. [Sweet Auburn Music Fest](https://discoveratlanta.com/stories/things-to-do/cool-things-to-do-in-september-in-atlanta/) (September 28-29): Located on Auburn Avenue, featuring live music, food, and entertainment.\n",
       "2. [Protect Yo Energy Con](https://discoveratlanta.com/events/main/) (September 22 - November 9): A wellness event focusing on mental and physical well-being.\n",
       "3. [Atlanta Food & History Tour](https://unexpectedatlanta.com/the-best-things-to-do-in-atlanta-in-september/): A walking tour showcasing the best of Atlanta’s food and history.\n",
       "4. [Fall festivals](https://www.atlantaonthecheap.com/fall-festivals-atlanta/): Various fall festivals happening around Atlanta.\n",
       "\n",
       "**Sunday, September 29, 2024:**\n",
       "1. [Sweet Auburn Music Fest](https://discoveratlanta.com/stories/things-to-do/cool-things-to-do-in-september-in-atlanta/) (September 28-29): Continuation of the music and cultural festival.\n",
       "2. [Roswell Wine Festival](https://discoveratlanta.com/events/main/): A wine tasting event featuring a variety of wines.\n",
       "3. [Fall festivals](https://www.fox5atlanta.com/news/fall-festivals-metro-atlanta-north-georgia-2024): Including a soul food festival at Lake Sheryl.\n",
       "\n",
       "For more details and a comprehensive list of events, you can visit:\n",
       "- [Atlanta Events September 2024](https://atlanta-ga.events/september/)\n",
       "- [Go South Atlanta](https://gosouthatlanta.com/things-to-do/events/atlanta-in-september.html)\n",
       "- [Discover Atlanta](https://discoveratlanta.com/stories/things-to-do/cool-things-to-do-in-september-in-atlanta/)\n",
       "- [Unexpected Atlanta](https://unexpectedatlanta.com/the-best-things-to-do-in-atlanta-in-september/)\n",
       "\n",
       "Enjoy your weekend in Atlanta!\n"
      ]
     },
     "metadata": {},
     "output_type": "display_data"
    }
   ],
   "source": [
    "var assistantRunOptions = new AssistantRunOptions() {\n",
    "    AssistantName = \"Web Search Test\",\n",
    "    Instructions = \"Use python to get todays date and then use it to find things to do in Atlanta this weekend. Be careful to not include events in the past in your final answer. Do not imagine events that are not in the search results. You can perform multiple searches if necessary\",\n",
    "    UseConversationEvaluator = false\n",
    "};\n",
    "var output = await AntRunnerLib.AssistantRunner.RunThread(assistantRunOptions, config);\n",
    "output.Dialog.DisplayAs(\"text/markdown\");"
   ]
  },
  {
   "cell_type": "code",
   "execution_count": 9,
   "metadata": {
    "dotnet_interactive": {
     "language": "csharp"
    },
    "polyglot_notebook": {
     "kernelName": "csharp"
    },
    "vscode": {
     "languageId": "polyglot-notebook"
    }
   },
   "outputs": [
    {
     "data": {
      "text/markdown": [
       "Here are some events and activities you can attend in Atlanta this weekend (September 27-29, 2024):\n",
       "\n",
       "**Friday, September 27, 2024:**\n",
       "1. [3rd Annual Baldie Con](https://discoveratlanta.com/events/main/) (September 27-29): A unique convention celebrating bald heads and the beauty of baldness.\n",
       "2. [Trivia Night at Wild Leap Atlanta](https://discoveratlanta.com/events/main/): A fun trivia night event.\n",
       "3. [District Atlanta](https://www.eventbrite.com/d/ga--atlanta/september/): BUNT performance at District Atlanta.\n",
       "4. [Fernbank Museum](https://unexpectedatlanta.com/the-best-things-to-do-in-atlanta-in-september/): Extended hours to explore exhibits and socialize.\n",
       "\n",
       "**Saturday, September 28, 2024:**\n",
       "1. [Sweet Auburn Music Fest](https://discoveratlanta.com/stories/things-to-do/cool-things-to-do-in-september-in-atlanta/) (September 28-29): Located on Auburn Avenue, featuring live music, food, and entertainment.\n",
       "2. [Protect Yo Energy Con](https://discoveratlanta.com/events/main/) (September 22 - November 9): A wellness event focusing on mental and physical well-being.\n",
       "3. [Atlanta Food & History Tour](https://unexpectedatlanta.com/the-best-things-to-do-in-atlanta-in-september/): A walking tour showcasing the best of Atlanta’s food and history.\n",
       "4. [Fall festivals](https://www.atlantaonthecheap.com/fall-festivals-atlanta/): Various fall festivals happening around Atlanta.\n",
       "\n",
       "**Sunday, September 29, 2024:**\n",
       "1. [Sweet Auburn Music Fest](https://discoveratlanta.com/stories/things-to-do/cool-things-to-do-in-september-in-atlanta/) (September 28-29): Continuation of the music and cultural festival.\n",
       "2. [Roswell Wine Festival](https://discoveratlanta.com/events/main/): A wine tasting event featuring a variety of wines.\n",
       "3. [Fall festivals](https://www.fox5atlanta.com/news/fall-festivals-metro-atlanta-north-georgia-2024): Including a soul food festival at Lake Sheryl.\n",
       "\n",
       "For more details and a comprehensive list of events, you can visit:\n",
       "- [Atlanta Events September 2024](https://atlanta-ga.events/september/)\n",
       "- [Go South Atlanta](https://gosouthatlanta.com/things-to-do/events/atlanta-in-september.html)\n",
       "- [Discover Atlanta](https://discoveratlanta.com/stories/things-to-do/cool-things-to-do-in-september-in-atlanta/)\n",
       "- [Unexpected Atlanta](https://unexpectedatlanta.com/the-best-things-to-do-in-atlanta-in-september/)\n",
       "\n",
       "Enjoy your weekend in Atlanta!"
      ]
     },
     "metadata": {},
     "output_type": "display_data"
    }
   ],
   "source": [
    "output.LastMessage.DisplayAs(\"text/markdown\");"
   ]
  },
  {
   "cell_type": "code",
   "execution_count": 6,
   "metadata": {
    "dotnet_interactive": {
     "language": "csharp"
    },
    "polyglot_notebook": {
     "kernelName": "csharp"
    },
    "vscode": {
     "languageId": "polyglot-notebook"
    }
   },
   "outputs": [
    {
     "data": {
      "text/markdown": [
       "\n",
       "User: Use python to get todays date and then use it to find things to do in Atlanta for each of the next four weekends. Be careful to not include events in the past in your final answer. You should perform four searches at once.\n",
       "\n",
       "Assistant: I ran this code:\n",
       "```\n",
       "from datetime import datetime, timedelta\n",
       "\n",
       "# Get today's date\n",
       "today = datetime.today()\n",
       "\n",
       "# Calculate the next four weekends (Saturday and Sunday)\n",
       "weekends = []\n",
       "for i in range(4):\n",
       "    saturday = today + timedelta(days=(5 - today.weekday()) + (i * 7))\n",
       "    sunday = saturday + timedelta(days=1)\n",
       "    weekends.append((saturday, sunday))\n",
       "\n",
       "weekends\n",
       "```\n",
       "\n",
       "I called the tool named crawl with these arguments:\n",
       "```\n",
       "{\"q\": \"things to do in Atlanta on September 28-29, 2024\", \"textFormat\": \"HTML\", \"count\": 5}\n",
       "```\n",
       "and got this result:\n",
       "```\n",
       "{\"queryContext\":{\"originalQuery\":\"things to do in Atlanta on September 28-29, 2024\"},\"webPages\":{\"value\":[{\"name\":\"Atlanta Events September 2024: Concerts, Shows, Sports...\",\"url\":\"https://atlanta-ga.events/september/\",\"displayUrl\":\"https://atlanta-ga.events/september\",\"snippet\":\"Terminal West At King Plow Arts Center. Sep 20, 2024 8:00 PM. Montell Fish. Upcoming Events: 2. Buckhead Theatre. Sep 20, 2024 8:00 PM. Show More. Check Out The Atlanta Events Calendar for September 2024. See the List Of All Current \\u0026amp; Upcoming Events at the Lowest Possible Price.\",\"cachedPageUrl\":\"http://cc.bingj.com/cache.aspx?q=things\\u002Bto\\u002Bdo\\u002Bin\\u002BAtlanta\\u002Bon\\u002BSeptember\\u002B28-29%2c\\u002B2024\\u0026d=4854189675467386\\u0026mkt=en-US\\u0026setlang=en-US\\u0026w=ShlkdiIwTMefbkmdL1lCvH4mS1bjztOY\"},{\"name\":\"Events and Things to Do in Atlanta GA this from 2024-09-28 to 2024-09-29\",\"url\":\"https://eventcartel.com/events/all-categories/atlanta/from_2024-09-28_to_2024-09-29\",\"displayUrl\":\"https://eventcartel.com/events/all-categories/atlanta/from_2024-09-28_to_2024-09-29\",\"snippet\":\"Explore a wide range of events and things to do from 2024-09-28 to 2024-09-29 tailored to offer you the best in entertainment and fun things to do in Atlanta. Whether you\\u2019re interested in the latest concerts, theater shows, or other local events happening from 2024-09-28 to 2024-09-29, everything you need is just a few clicks away.\",\"cachedPageUrl\":\"http://cc.bingj.com/cache.aspx?q=things\\u002Bto\\u002Bdo\\u002Bin\\u002BAtlanta\\u002Bon\\u002BSeptember\\u002B28-29%2c\\u002B2024\\u0026d=593376345498\\u0026mkt=en-US\\u0026setlang=en-US\\u0026w=d3dIiUUzhzYaWFgm_VL8k_3YAMhRPChX\"},{\"name\":\"Cool Things To Do in September in Atlanta\",\"url\":\"https://discoveratlanta.com/stories/things-to-do/cool-things-to-do-in-september-in-atlanta/\",\"displayUrl\":\"https://discoveratlanta.com/stories/things-to-do/cool-things-to-do-in-september-in-atlanta\",\"snippet\":\"The Sweet Auburn Music Fest, which takes place Sept. 28-29. The festival, located on Auburn Avenue, one of Atlanta\\u2019s most iconic streets, offers fun-filled entertainment, live music \\u2014 everything from R\\u0026amp;B to gospel to alternative favorites \\u2014 international food court, national artists, celebrities and vendors of all types.\",\"cachedPageUrl\":\"http://cc.bingj.com/cache.aspx?q=things\\u002Bto\\u002Bdo\\u002Bin\\u002BAtlanta\\u002Bon\\u002BSeptember\\u002B28-29%2c\\u002B2024\\u0026d=4692574351720481\\u0026mkt=en-US\\u0026setlang=en-US\\u0026w=IyKVbCksY9VV74GkIkdoRE4k4vk9MNbJ\",\"thumbnailUrl\":\"https://www.bing.com/th?id=OIP.m0ENCio7ytS2o9PQRWDCRgHaD4\\u0026w=80\\u0026h=80\\u0026c=1\\u0026pid=5.1\"},{\"name\":\"Atlanta Events - September 2024 - Go South Atlanta\",\"url\":\"https://gosouthatlanta.com/things-to-do/events/atlanta-in-september.html\",\"displayUrl\":\"https://gosouthatlanta.com/things-to-do/events/atlanta-in-september.html\",\"snippet\":\"Things to do in Atlanta, GA in September, including upcoming festivals, Labor Day Weekend events, Pride events, neighborhood events, comedy, musicals, races, conventions, shows and more. ... \\u2013 Riverfest, September 28-29 2024 Annual juried arts and crafts festival in Etowah River Park, Canton, with 150\\u002B artists and artisans from across the ...\",\"cachedPageUrl\":\"http://cc.bingj.com/cache.aspx?q=things\\u002Bto\\u002Bdo\\u002Bin\\u002BAtlanta\\u002Bon\\u002BSeptember\\u002B28-29%2c\\u002B2024\\u0026d=4712253893443652\\u0026mkt=en-US\\u0026setlang=en-US\\u0026w=-nsAOlbynJFe4oOvzq1dGpeg_GE4sHjt\",\"thumbnailUrl\":\"https://www.bing.com/th?id=OIP.xm-3dn3hYJZHsVVU9WO5qwHaD4\\u0026w=80\\u0026h=80\\u0026c=1\\u0026pid=5.1\"},{\"name\":\"80\\u002B fall festivals \\u0026amp; fairs around metro Atlanta: Fun things to do in ...\",\"url\":\"https://www.atlantaonthecheap.com/fall-festivals-atlanta/\",\"displayUrl\":\"https://www.atlantaonthecheap.com/fall-festivals-atlanta\",\"snippet\":\"\\u2666 East Atlanta Strut. September 28, 2024 East Atlanta Village FREE. This iconic street festival celebrates East Atlanta\\u2019s culture, art, and quirkiness! ... September 29, 2024 Lake Sheryl 4540 Lee Rd SW Snellville, GA 30039. Come for soul food, music genres from jazz to reggae, local vendors and more. Save room for the collard green ice cream!\",\"cachedPageUrl\":\"http://cc.bingj.com/cache.aspx?q=things\\u002Bto\\u002Bdo\\u002Bin\\u002BAtlanta\\u002Bon\\u002BSeptember\\u002B28-29%2c\\u002B2024\\u0026d=5012794228740299\\u0026mkt=en-US\\u0026setlang=en-US\\u0026w=xfpymjtTccXnjjGt9vluoyq1DPm6ofe-\",\"thumbnailUrl\":\"https://www.bing.com/th?id=OIP.w0-v0ll6eXl6tJfBd5-ovwHaEV\\u0026w=80\\u0026h=80\\u0026c=1\\u0026pid=5.1\"}]}}\n",
       "```\n",
       "\n",
       "I called the tool named crawl with these arguments:\n",
       "```\n",
       "{\"q\": \"things to do in Atlanta on October 5-6, 2024\", \"textFormat\": \"HTML\", \"count\": 5}\n",
       "```\n",
       "and got this result:\n",
       "```\n",
       "{\"queryContext\":{\"originalQuery\":\"things to do in Atlanta on October 5-6, 2024\"},\"webPages\":{\"value\":[{\"name\":\"Atlanta Events - October 2024 - Go South Atlanta\",\"url\":\"https://gosouthatlanta.com/things-to-do/events/atlanta-in-october.html\",\"displayUrl\":\"https://gosouthatlanta.com/things-to-do/events/atlanta-in-october.html\",\"snippet\":\"Wrestling event at State Farm Arena. More details. \\u2013 Festival on Ponce, October 5-6 2024. Twice-annual arts festival in Olmsted Linear Park, with 125\\u002B vendors of fine art, folk art and outsider art, plus food and drink, and children\\u2019s activities. More details. \\u2013 Candler Park Fall Fest, October 5-6 2024.\",\"cachedPageUrl\":\"http://cc.bingj.com/cache.aspx?q=things\\u002Bto\\u002Bdo\\u002Bin\\u002BAtlanta\\u002Bon\\u002BOctober\\u002B5-6%2c\\u002B2024\\u0026d=4907344187564116\\u0026mkt=en-US\\u0026setlang=en-US\\u0026w=DKKAeoP_3oe3mkDLUvcm_m1afK8iBTpt\"},{\"name\":\"80\\u002B fall festivals \\u0026amp; fairs around metro Atlanta: Fun things to do in ...\",\"url\":\"https://www.atlantaonthecheap.com/fall-festivals-atlanta/\",\"displayUrl\":\"https://www.atlantaonthecheap.com/fall-festivals-atlanta\",\"snippet\":\"October 5 and 6, 2024 Candler Park Atlanta FREE. This popular street festival includes an artist market, live acoustic music on two stages, rides and special attractions, a tour of homes, food, kids activities, and more. ... October 5 and 6, 2024 Olmsted Linear Parks Atlanta FREE.\",\"cachedPageUrl\":\"http://cc.bingj.com/cache.aspx?q=things\\u002Bto\\u002Bdo\\u002Bin\\u002BAtlanta\\u002Bon\\u002BOctober\\u002B5-6%2c\\u002B2024\\u0026d=5012794228740299\\u0026mkt=en-US\\u0026setlang=en-US\\u0026w=xfpymjtTccXnjjGt9vluoyq1DPm6ofe-\",\"thumbnailUrl\":\"https://www.bing.com/th?id=OIP.w0-v0ll6eXl6tJfBd5-ovwHaEV\\u0026w=80\\u0026h=80\\u0026c=1\\u0026pid=5.1\"},{\"name\":\"Atlanta Events October 2024: Concerts, Shows, Sports...\",\"url\":\"https://atlanta-ga.events/october/\",\"displayUrl\":\"https://atlanta-ga.events/october\",\"snippet\":\"Explore our comprehensive calendar for all the current and upcoming events in Atlanta, GA, for October 2024. This guide is your gateway to discovering the best things to do in Atlanta, from Concerts and Theater Shows to Sports events and music festivals. You\\u2019ll find a detailed list of all the most engaging and exciting activities happening throughout the month.\",\"cachedPageUrl\":\"http://cc.bingj.com/cache.aspx?q=things\\u002Bto\\u002Bdo\\u002Bin\\u002BAtlanta\\u002Bon\\u002BOctober\\u002B5-6%2c\\u002B2024\\u0026d=4898908879865838\\u0026mkt=en-US\\u0026setlang=en-US\\u0026w=vC_zzFLZ91uzxHogtJy0oBuKycEPAm_-\"},{\"name\":\"Cool Things To Do in October in Atlanta\",\"url\":\"https://discoveratlanta.com/stories/things-to-do/cool-things-to-do-in-october-in-atlanta/\",\"displayUrl\":\"https://discoveratlanta.com/stories/things-to-do/cool-things-to-do-in-october-in-atlanta\",\"snippet\":\"Corn Dogs, Rides and Whack a Mole. The Atlanta Fair brings the best of a traditional fair to Atlanta with everything from cotton candy, a Ferris wheel, fishing for goldfish, a tilt-a-whirl and a carousel. The fair, located across from the Georgia State University Stadium, will be in town Oct. 4-Nov. 3. Read More.\",\"cachedPageUrl\":\"http://cc.bingj.com/cache.aspx?q=things\\u002Bto\\u002Bdo\\u002Bin\\u002BAtlanta\\u002Bon\\u002BOctober\\u002B5-6%2c\\u002B2024\\u0026d=4714289705734711\\u0026mkt=en-US\\u0026setlang=en-US\\u0026w=6a-yO_DfCUxfz-dx9C91WDDECk49pD7V\",\"thumbnailUrl\":\"https://www.bing.com/th?id=OIP.4jf9xqKu3QRk_XhZ3J7DYQHaD4\\u0026w=80\\u0026h=80\\u0026c=1\\u0026pid=5.1\"},{\"name\":\"Fall festivals in metro Atlanta and North Georgia | 2024\",\"url\":\"https://www.fox5atlanta.com/news/fall-festivals-metro-atlanta-north-georgia-2024\",\"displayUrl\":\"https://www.fox5atlanta.com/news/fall-festivals-metro-atlanta-north-georgia-2024\",\"snippet\":\"When: 10 a.m. to 5 p.m. Oct. 5 and 11 a.m. to 5 p.m. Oct. 6 Where : Olmstead Linear Park, Atlanta What : Arts and crafts festival set in the historic Olmsted Linear Park with over 125 displays ...\",\"cachedPageUrl\":\"http://cc.bingj.com/cache.aspx?q=things\\u002Bto\\u002Bdo\\u002Bin\\u002BAtlanta\\u002Bon\\u002BOctober\\u002B5-6%2c\\u002B2024\\u0026d=2173865470069\\u0026mkt=en-US\\u0026setlang=en-US\\u0026w=jxnOnRj04ciRcKNV8UVNHXKEd0PX1nap\"}]}}\n",
       "```\n",
       "\n",
       "I called the tool named crawl with these arguments:\n",
       "```\n",
       "{\"q\": \"things to do in Atlanta on October 12-13, 2024\", \"textFormat\": \"HTML\", \"count\": 5}\n",
       "```\n",
       "and got this result:\n",
       "```\n",
       "{\"queryContext\":{\"originalQuery\":\"things to do in Atlanta on October 12-13, 2024\"},\"webPages\":{\"value\":[{\"name\":\"Atlanta Events - October 2024 - Go South Atlanta\",\"url\":\"https://gosouthatlanta.com/things-to-do/events/atlanta-in-october.html\",\"displayUrl\":\"https://gosouthatlanta.com/things-to-do/events/atlanta-in-october.html\",\"snippet\":\"Events From October 1 To The Weekend Of October 5-6 2024. \\u2192 See September events. \\u2192 For concerts this week, see Atlanta concerts in October 2024. \\u2013 Daddy Long Legs, September 13 - October 6 2024. Musical at The Legacy Theatre, Tyrone. More details.\",\"cachedPageUrl\":\"http://cc.bingj.com/cache.aspx?q=things\\u002Bto\\u002Bdo\\u002Bin\\u002BAtlanta\\u002Bon\\u002BOctober\\u002B12-13%2c\\u002B2024\\u0026d=4907344187564116\\u0026mkt=en-US\\u0026setlang=en-US\\u0026w=DKKAeoP_3oe3mkDLUvcm_m1afK8iBTpt\"},{\"name\":\"Atlanta Events October 2024: Concerts, Shows, Sports...\",\"url\":\"https://atlanta-ga.events/october/\",\"displayUrl\":\"https://atlanta-ga.events/october\",\"snippet\":\"Explore our comprehensive calendar for all the current and upcoming events in Atlanta, GA, for October 2024. This guide is your gateway to discovering the best things to do in Atlanta, from Concerts and Theater Shows to Sports events and music festivals. You\\u2019ll find a detailed list of all the most engaging and exciting activities happening throughout the month.\",\"cachedPageUrl\":\"http://cc.bingj.com/cache.aspx?q=things\\u002Bto\\u002Bdo\\u002Bin\\u002BAtlanta\\u002Bon\\u002BOctober\\u002B12-13%2c\\u002B2024\\u0026d=4898908879865838\\u0026mkt=en-US\\u0026setlang=en-US\\u0026w=vC_zzFLZ91uzxHogtJy0oBuKycEPAm_-\"},{\"name\":\"Cool Things To Do in October in Atlanta\",\"url\":\"https://discoveratlanta.com/stories/things-to-do/cool-things-to-do-in-october-in-atlanta/\",\"displayUrl\":\"https://discoveratlanta.com/stories/things-to-do/cool-things-to-do-in-october-in-atlanta\",\"snippet\":\"Corn Dogs, Rides and Whack a Mole. The Atlanta Fair brings the best of a traditional fair to Atlanta with everything from cotton candy, a Ferris wheel, fishing for goldfish, a tilt-a-whirl and a carousel. The fair, located across from the Georgia State University Stadium, will be in town Oct. 4-Nov. 3. Read More.\",\"cachedPageUrl\":\"http://cc.bingj.com/cache.aspx?q=things\\u002Bto\\u002Bdo\\u002Bin\\u002BAtlanta\\u002Bon\\u002BOctober\\u002B12-13%2c\\u002B2024\\u0026d=4714289705734711\\u0026mkt=en-US\\u0026setlang=en-US\\u0026w=6a-yO_DfCUxfz-dx9C91WDDECk49pD7V\",\"thumbnailUrl\":\"https://www.bing.com/th?id=OIP.4jf9xqKu3QRk_XhZ3J7DYQHaD4\\u0026w=80\\u0026h=80\\u0026c=1\\u0026pid=5.1\"},{\"name\":\"80\\u002B fall festivals \\u0026amp; fairs around metro Atlanta: Fun things to do in ...\",\"url\":\"https://www.atlantaonthecheap.com/fall-festivals-atlanta/\",\"displayUrl\":\"https://www.atlantaonthecheap.com/fall-festivals-atlanta\",\"snippet\":\"October 12 and 13, 2024 October 19 and 20, 2024 Ellijay, GA . This is one of the few festivals outside metro Atlanta we include. It takes place in North Georgia, over two weekends in October. Spend a day on the farm, pick your own apples, visit over 100 vendor booths for arts, crafts, and apple-based food items. Well worth the drive!\",\"cachedPageUrl\":\"http://cc.bingj.com/cache.aspx?q=things\\u002Bto\\u002Bdo\\u002Bin\\u002BAtlanta\\u002Bon\\u002BOctober\\u002B12-13%2c\\u002B2024\\u0026d=5012794228740299\\u0026mkt=en-US\\u0026setlang=en-US\\u0026w=xfpymjtTccXnjjGt9vluoyq1DPm6ofe-\",\"thumbnailUrl\":\"https://www.bing.com/th?id=OIP.w0-v0ll6eXl6tJfBd5-ovwHaEV\\u0026w=80\\u0026h=80\\u0026c=1\\u0026pid=5.1\"},{\"name\":\"Atlanta Pride Festival \\u0026amp; Parade - Gay Pride Weekend in Atlanta ...\",\"url\":\"https://discoveratlanta.com/explore/lgbt/pride-festival/\",\"displayUrl\":\"https://discoveratlanta.com/explore/lgbt/pride-festival\",\"snippet\":\"When: October 12-13, 2024. Where: Midtown Atlanta, Piedmont Park. Atlanta Pride is the largest pride festival in the Southeast. \\uD83D\\uDCF7: Atlanta Pride | Photographer Diane Haymes. With the largest pride festival in the Southeast, Atlanta Pride returns to Piedmont Park each October following National Coming Out Day.\",\"cachedPageUrl\":\"http://cc.bingj.com/cache.aspx?q=things\\u002Bto\\u002Bdo\\u002Bin\\u002BAtlanta\\u002Bon\\u002BOctober\\u002B12-13%2c\\u002B2024\\u0026d=4689889988247610\\u0026mkt=en-US\\u0026setlang=en-US\\u0026w=-sNH54kjEPNUtwF6OPlNgD4G-TrrSY7S\",\"thumbnailUrl\":\"https://www.bing.com/th?id=OIP.-fCd66HjJIq5kZM9rw1c_gAAAA\\u0026w=80\\u0026h=80\\u0026c=1\\u0026pid=5.1\"}]}}\n",
       "```\n",
       "\n",
       "I called the tool named crawl with these arguments:\n",
       "```\n",
       "{\"q\": \"things to do in Atlanta on October 19-20, 2024\", \"textFormat\": \"HTML\", \"count\": 5}\n",
       "```\n",
       "and got this result:\n",
       "```\n",
       "{\"queryContext\":{\"originalQuery\":\"things to do in Atlanta on October 19-20, 2024\"},\"webPages\":{\"value\":[{\"name\":\"Atlanta Events - October 2024 - Go South Atlanta\",\"url\":\"https://gosouthatlanta.com/things-to-do/events/atlanta-in-october.html\",\"displayUrl\":\"https://gosouthatlanta.com/things-to-do/events/atlanta-in-october.html\",\"snippet\":\"Things to do in Atlanta, GA in October, including upcoming festivals, fall and Halloween events, Pride events, comedy, musicals, plays, races, conventions, neighborhood events, cultural events, and more. ... \\u2013 PNC Atlanta 10 Miler \\u0026amp; 5K, October 19-20 2024 Annual 10-mile, 5K and 1-mile youth runs through Buckhead, from Atlantic Station.\",\"cachedPageUrl\":\"http://cc.bingj.com/cache.aspx?q=things\\u002Bto\\u002Bdo\\u002Bin\\u002BAtlanta\\u002Bon\\u002BOctober\\u002B19-20%2c\\u002B2024\\u0026d=4907344187564116\\u0026mkt=en-US\\u0026setlang=en-US\\u0026w=DKKAeoP_3oe3mkDLUvcm_m1afK8iBTpt\"},{\"name\":\"Atlanta Events October 2024: Concerts, Shows, Sports...\",\"url\":\"https://atlanta-ga.events/october/\",\"displayUrl\":\"https://atlanta-ga.events/october\",\"snippet\":\"Explore our comprehensive calendar for all the current and upcoming events in Atlanta, GA, for October 2024. This guide is your gateway to discovering the best things to do in Atlanta, from Concerts and Theater Shows to Sports events and music festivals. You\\u2019ll find a detailed list of all the most engaging and exciting activities happening throughout the month.\",\"cachedPageUrl\":\"http://cc.bingj.com/cache.aspx?q=things\\u002Bto\\u002Bdo\\u002Bin\\u002BAtlanta\\u002Bon\\u002BOctober\\u002B19-20%2c\\u002B2024\\u0026d=4898908879865838\\u0026mkt=en-US\\u0026setlang=en-US\\u0026w=vC_zzFLZ91uzxHogtJy0oBuKycEPAm_-\"},{\"name\":\"Cool Things To Do in October in Atlanta\",\"url\":\"https://discoveratlanta.com/stories/things-to-do/cool-things-to-do-in-october-in-atlanta/\",\"displayUrl\":\"https://discoveratlanta.com/stories/things-to-do/cool-things-to-do-in-october-in-atlanta\",\"snippet\":\"Cool Things To Do in October in Atlanta. By Mary Welch. Published September 13, 2024 Last Updated September 19, 2024. ... The bohemian neighborhood sponsors a Halloween Festival on Oct. 19 and 20 that features live music from the city\\u2019s best underground acts, an art and vintage market, ghost tours, a skate park, and food and drink vendors ...\",\"cachedPageUrl\":\"http://cc.bingj.com/cache.aspx?q=things\\u002Bto\\u002Bdo\\u002Bin\\u002BAtlanta\\u002Bon\\u002BOctober\\u002B19-20%2c\\u002B2024\\u0026d=4714289705734711\\u0026mkt=en-US\\u0026setlang=en-US\\u0026w=6a-yO_DfCUxfz-dx9C91WDDECk49pD7V\",\"thumbnailUrl\":\"https://www.bing.com/th?id=OIP.4jf9xqKu3QRk_XhZ3J7DYQHaD4\\u0026w=80\\u0026h=80\\u0026c=1\\u0026pid=5.1\"},{\"name\":\"80\\u002B fall festivals \\u0026amp; fairs around metro Atlanta: Fun things to do in ...\",\"url\":\"https://www.atlantaonthecheap.com/fall-festivals-atlanta/\",\"displayUrl\":\"https://www.atlantaonthecheap.com/fall-festivals-atlanta\",\"snippet\":\"October 12 and 13, 2024 October 19 and 20, 2024 Ellijay, GA . This is one of the few festivals outside metro Atlanta we include. It takes place in North Georgia, over two weekends in October. Spend a day on the farm, pick your own apples, visit over 100 vendor booths for arts, crafts, and apple-based food items. Well worth the drive!\",\"cachedPageUrl\":\"http://cc.bingj.com/cache.aspx?q=things\\u002Bto\\u002Bdo\\u002Bin\\u002BAtlanta\\u002Bon\\u002BOctober\\u002B19-20%2c\\u002B2024\\u0026d=5012794228740299\\u0026mkt=en-US\\u0026setlang=en-US\\u0026w=xfpymjtTccXnjjGt9vluoyq1DPm6ofe-\",\"thumbnailUrl\":\"https://www.bing.com/th?id=OIP.w0-v0ll6eXl6tJfBd5-ovwHaEV\\u0026w=80\\u0026h=80\\u0026c=1\\u0026pid=5.1\"},{\"name\":\"The Upside Down | October 19-20 | Epic Events and Entertainment - Epic Cons\",\"url\":\"https://www.epiccons.com/events/the-upside-down\",\"displayUrl\":\"https://www.epiccons.com/events/the-upside-down\",\"snippet\":\"Experience The Upside Down event on October 19-20, 2024, featuring celebrity panels, exclusive photo ops, and autograph sessions from celebrities from Stranger Things! Dive into the world of your favorite shows and meet fellow fans! ... The Upside Down (October 19-20) I Was Feeling Festive 2 (December 6-8) 2025 Events. I Was Feeling Epic (April ...\",\"cachedPageUrl\":\"http://cc.bingj.com/cache.aspx?q=things\\u002Bto\\u002Bdo\\u002Bin\\u002BAtlanta\\u002Bon\\u002BOctober\\u002B19-20%2c\\u002B2024\\u0026d=4700464207900499\\u0026mkt=en-US\\u0026setlang=en-US\\u0026w=T_o7uCc0DGNZhmTFjyQoH8RhyWcnYm_y\",\"thumbnailUrl\":\"https://www.bing.com/th?id=OIP.Wm4-6OSBCztRSKoEZnMp7AHaEL\\u0026w=80\\u0026h=80\\u0026c=1\\u0026pid=5.1\"}]}}\n",
       "```\n",
       "\n",
       "Here are some events and activities happening in Atlanta over the next four weekends:\n",
       "\n",
       "### September 28-29, 2024:\n",
       "1. **Sweet Auburn Music Fest**:\n",
       "   - Location: Auburn Avenue\n",
       "   - Description: Offers fun-filled entertainment, live music (R&B to gospel to alternative), international food court, national artists, celebrities, and vendors of all types.\n",
       "   - [More Info](https://discoveratlanta.com/stories/things-to-do/cool-things-to-do-in-september-in-atlanta/)\n",
       "\n",
       "2. **Riverfest**:\n",
       "   - Location: Etowah River Park, Canton\n",
       "   - Description: Annual juried arts and crafts festival with 150+ artists and artisans.\n",
       "   - [More Info](https://gosouthatlanta.com/things-to-do/events/atlanta-in-september.html)\n",
       "\n",
       "3. **East Atlanta Strut**:\n",
       "   - Location: East Atlanta Village\n",
       "   - Description: A street festival celebrating East Atlanta’s culture, art, and quirkiness.\n",
       "   - [More Info](https://www.atlantaonthecheap.com/fall-festivals-atlanta/)\n",
       "\n",
       "### October 5-6, 2024:\n",
       "1. **Festival on Ponce**:\n",
       "   - Location: Olmsted Linear Park\n",
       "   - Description: Arts festival with 125+ vendors of fine art, food and drink, and children’s activities.\n",
       "   - [More Info](https://gosouthatlanta.com/things-to-do/events/atlanta-in-october.html)\n",
       "\n",
       "2. **Candler Park Fall Fest**:\n",
       "   - Location: Candler Park\n",
       "   - Description: Street festival with an artist market, live acoustic music, rides, special attractions, food, and kids activities.\n",
       "   - [More Info](https://www.atlantaonthecheap.com/fall-festivals-atlanta/)\n",
       "\n",
       "3. **Atlanta Fair**:\n",
       "   - Location: Across from Georgia State University Stadium\n",
       "   - Description: Traditional fair with cotton candy, a Ferris wheel, fishing for goldfish, a tilt-a-whirl, and a carousel.\n",
       "   - [More Info](https://discoveratlanta.com/stories/things-to-do/cool-things-to-do-in-october-in-atlanta/)\n",
       "\n",
       "### October 12-13, 2024:\n",
       "1. **Atlanta Pride Festival & Parade**:\n",
       "   - Location: Midtown Atlanta, Piedmont Park\n",
       "   - Description: The largest pride festival in the Southeast.\n",
       "   - [More Info](https://discoveratlanta.com/explore/lgbt/pride-festival/)\n",
       "\n",
       "2. **Apple Arts Festival**:\n",
       "   - Location: Ellijay, GA\n",
       "   - Description: Festival with arts, crafts, and apple-based food items.\n",
       "   - [More Info](https://www.atlantaonthecheap.com/fall-festivals-atlanta/)\n",
       "\n",
       "### October 19-20, 2024:\n",
       "1. **PNC Atlanta 10 Miler & 5K**:\n",
       "   - Location: Buckhead, from Atlantic Station\n",
       "   - Description: Annual 10-mile, 5K, and 1-mile youth runs.\n",
       "   - [More Info](https://gosouthatlanta.com/things-to-do/events/atlanta-in-october.html)\n",
       "\n",
       "2. **The Upside Down Event**:\n",
       "   - Description: Event featuring celebrity panels, exclusive photo ops, and autograph sessions from celebrities from \"Stranger Things\".\n",
       "   - [More Info](https://www.epiccons.com/events/the-upside-down)\n",
       "\n",
       "3. **Halloween Festival**:\n",
       "   - Location: Bohemian neighborhood\n",
       "   - Description: Features live music from the city’s best underground acts, an art and vintage market, ghost tours, a skate park, and food and drink vendors.\n",
       "   - [More Info](https://discoveratlanta.com/stories/things-to-do/cool-things-to-do-in-october-in-atlanta/)\n",
       "\n",
       "Enjoy your weekends in Atlanta!\n",
       "\n",
       "### Sources:\n",
       "- [Atlanta Events September 2024](https://atlanta-ga.events/september/)\n",
       "- [Event Cartel](https://eventcartel.com/events/all-categories/atlanta/from_2024-09-28_to_2024-09-29)\n",
       "- [Discover Atlanta](https://discoveratlanta.com/stories/things-to-do/cool-things-to-do-in-september-in-atlanta/)\n",
       "- [Go South Atlanta](https://gosouthatlanta.com/things-to-do/events/atlanta-in-september.html)\n",
       "- [Atlanta on the Cheap](https://www.atlantaonthecheap.com/fall-festivals-atlanta/)\n"
      ]
     },
     "metadata": {},
     "output_type": "display_data"
    }
   ],
   "source": [
    "var assistantRunOptions = new AssistantRunOptions() {\n",
    "    AssistantName = \"Web Search Test\",\n",
    "    Instructions = \"Use python to get todays date and then use it to find things to do in Atlanta for each of the next four weekends. Be careful to not include events in the past in your final answer. You should perform four searches at once.\",\n",
    "    UseConversationEvaluator = false\n",
    "};\n",
    "var output = await AntRunnerLib.AssistantRunner.RunThread(assistantRunOptions, config);\n",
    "output.Dialog.DisplayAs(\"text/markdown\");"
   ]
  },
  {
   "cell_type": "code",
   "execution_count": 6,
   "metadata": {
    "dotnet_interactive": {
     "language": "csharp"
    },
    "polyglot_notebook": {
     "kernelName": "csharp"
    },
    "vscode": {
     "languageId": "polyglot-notebook"
    }
   },
   "outputs": [
    {
     "data": {
      "text/markdown": [
       "Here are some exciting events happening in Atlanta for each of the next four weekends:\n",
       "\n",
       "### Weekend of September 28-29, 2024:\n",
       "1. **Sweet Auburn Music Fest** - Taking place on Auburn Avenue, one of Atlanta’s most iconic streets, this festival offers fun-filled entertainment, live music, international food, national artists, celebrities, and various vendors. [More Info](https://discoveratlanta.com/stories/things-to-do/cool-things-to-do-in-september-in-atlanta/)\n",
       "2. **Atlanta Food & Wine Festival** - Highlights the best food, wine, beer, and cocktails Atlanta has to offer. [More Info](https://www.experism.com/atlanta/september)\n",
       "3. **Grant Park Past & Future Food Walk** - A walking tour showcasing the best of Atlanta’s food and history. [More Info](https://unexpectedatlanta.com/the-best-things-to-do-in-atlanta-in-september/)\n",
       "\n",
       "### Weekend of October 5-6, 2024:\n",
       "1. **Atlanta Horror Film Festival** - A spooktacular collection of the best indie horror films from across the globe, held at Limelight Theater. [More Info](https://www.experism.com/atlanta/october)\n",
       "2. **Fall Festivals** - Various fall festivals and fairs around metro Atlanta featuring carnival rides, music, arts, food, and more. [More Info](https://www.atlantaonthecheap.com/fall-festivals-atlanta/)\n",
       "3. **Concerts** - Multiple concerts happening, including Lake Street Dive, Aerosmith, and The Black Jacket Symphony. [More Info](https://gosouthatlanta.com/things-to-do/events/atlanta-concerts-october.html)\n",
       "\n",
       "### Weekend of October 12-13, 2024:\n",
       "1. **Atlanta Pride Festival** - Celebrating the LGBTQ+ community with a parade, festival, and various events. [More Info](https://gosouthatlanta.com/things-to-do/events/atlanta-in-october.html)\n",
       "2. **Atlanta Greek Festival** - Enjoy Greek food, music, dancing, and culture at the Atlanta Greek Orthodox Cathedral. [More Info](https://www.experism.com/atlanta/october)\n",
       "3. **Atlanta United FC Soccer Match** - Cheer for Atlanta United FC at Mercedes-Benz Stadium. [More Info](https://atlanta-ga.events/october/)\n",
       "\n",
       "### Weekend of October 19-20, 2024:\n",
       "1. **Little Five Points Halloween Festival and Parade** - One of the top ten Halloween events in the country, featuring a parade, live entertainment, and food vendors. [More Info](https://discoveratlanta.com/stories/things-to-do/cool-things-to-do-in-october-in-atlanta/)\n",
       "2. **Taste of Atlanta** - A three-day food festival showcasing the city’s diverse culinary scene. [More Info](https://gosouthatlanta.com/things-to-do/events/atlanta-in-october.html)\n",
       "3. **Atlanta Symphony Orchestra** - Enjoy a performance by the Atlanta Symphony Orchestra at Symphony Hall. [More Info](https://www.atlantaonthecheap.com/fall-festivals-atlanta/)\n",
       "\n",
       "Enjoy your weekends in Atlanta!"
      ]
     },
     "metadata": {},
     "output_type": "display_data"
    }
   ],
   "source": [
    "using Microsoft.DotNet.Interactive;\n",
    "using Microsoft.DotNet.Interactive.Formatting;\n",
    "\n",
    "output.LastMessage.DisplayAs(\"text/markdown\");\n"
   ]
  },
  {
   "cell_type": "markdown",
   "metadata": {},
   "source": [
    "## Clean Up"
   ]
  },
  {
   "cell_type": "code",
   "execution_count": 7,
   "metadata": {
    "dotnet_interactive": {
     "language": "csharp"
    },
    "polyglot_notebook": {
     "kernelName": "csharp"
    },
    "vscode": {
     "languageId": "polyglot-notebook"
    }
   },
   "outputs": [
    {
     "name": "stdout",
     "output_type": "stream",
     "text": [
      "Deleted assistant\r\n"
     ]
    }
   ],
   "source": [
    "var assistant = (await client.AssistantList())?.Data?.FirstOrDefault(o => o.Name == \"Web Search Test\");\n",
    "if(assistant != null) {\n",
    "    await client.AssistantDelete(assistant.Id);\n",
    "    Console.WriteLine(\"Deleted assistant\");\n",
    "}\n",
    "else\n",
    "{\n",
    "    Console.WriteLine(\"Didn't find MsGraphUserProfile\");\n",
    "}"
   ]
  }
 ],
 "metadata": {
  "kernelspec": {
   "display_name": ".NET (C#)",
   "language": "C#",
   "name": ".net-csharp"
  },
  "language_info": {
   "name": "python"
  },
  "polyglot_notebook": {
   "kernelInfo": {
    "defaultKernelName": "csharp",
    "items": [
     {
      "aliases": [],
      "name": "csharp"
     }
    ]
   }
  }
 },
 "nbformat": 4,
 "nbformat_minor": 2
}
