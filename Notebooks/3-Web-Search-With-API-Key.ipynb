{
 "cells": [
  {
   "cell_type": "markdown",
   "metadata": {},
   "source": [
    "## Web Search Test\n",
    "The **Web Search Test** ant demonstrates the use of a Web API secured using an API key with an auth header. This sample requires you to create a Web Search (bing) resource in Azure and enter its corresponding API key in [0-AI-settings](0-AI-settings.ipynb)"
   ]
  },
  {
   "cell_type": "markdown",
   "metadata": {},
   "source": [
    "## First steps\n",
    "- First, download AntRunLib from Nuget\n",
    "- At least once, set up the environment using **[0-AI-settings](0-AI-settings.ipynb)**"
   ]
  },
  {
   "cell_type": "code",
   "execution_count": 7,
   "metadata": {
    "dotnet_interactive": {
     "language": "csharp"
    },
    "polyglot_notebook": {
     "kernelName": "csharp"
    },
    "vscode": {
     "languageId": "polyglot-notebook"
    }
   },
   "outputs": [
    {
     "data": {
      "text/html": [
       "<div><div></div><div></div><div><strong>Installed Packages</strong><ul><li><span>AntRunnerLib, 0.9.5</span></li></ul></div></div>"
      ]
     },
     "metadata": {},
     "output_type": "display_data"
    }
   ],
   "source": [
    "#r \"nuget: AntRunnerLib, 0.9.5\"\n",
    "\n",
    "using AntRunnerLib;\n",
    "using AntRunnerLib.Identity;\n",
    "using static AntRunnerLib.ClientUtility;\n",
    "using System.IO;\n",
    "\n",
    "#!import config/Settings.cs \n",
    "\n",
    "var envVariables = Settings.GetEnvironmentVariables();\n",
    "foreach (var kvp in envVariables)\n",
    "{\n",
    "    Environment.SetEnvironmentVariable(kvp.Key, kvp.Value);\n",
    "}\n",
    "\n",
    "var config = AzureOpenAiConfigFactory.Get();\n",
    "var client = GetOpenAiClient(config);\n"
   ]
  },
  {
   "cell_type": "markdown",
   "metadata": {},
   "source": [
    "## Ensure the Web Search Test assistant exists\n",
    "The definition of this assistant is located in the \".\\AssistantDefinitions\\Web Search Test\" folder\n",
    "\n",
    "\".\\AssistantDefinitions\\\" is a default path. You can override it by setting the **ASSISTANTS_BASE_FOLDER_PATH** environment variable.\n",
    "\n",
    "\"Web Search Test\" contains the following files:\n",
    "```\n",
    "│   instructions.md - The instructions\n",
    "│   manifest.json - The base assistant definition\n",
    "│\n",
    "└───OpenAPI\n",
    "        api.bing.microsoft.com.json - A swagger file defining a tool named 'crawl' that uses web search\n",
    "        auth.json - See below... \n",
    "```        \n",
    "\n",
    "## auth.json\n",
    "AntRunnerLib uses the instructions in this file to create the correct auth header(s) for the API. In this case, a header is added to the web request, **Ocp-Apim-Subscription-Key**, the header's value is supplied by an environment variable named, SEARCH_API_KEY. The environment variable name is user defined and ensuring it has a value is the responsibility of the application. \n",
    "\n",
    "```json\n",
    "{\n",
    "  \"hosts\": {\n",
    "    \"api.bing.microsoft.com\": {\n",
    "      \"auth_type\": \"service_http\",\n",
    "      \"header_name\": \"Ocp-Apim-Subscription-Key\",\n",
    "      \"header_value_env_var\": \"SEARCH_API_KEY\"\n",
    "    }\n",
    "  }\n",
    "}\n",
    "```\n",
    "\n",
    "### Explanation\n",
    "`AssistantUtility.Create` acts based on the contents of a folder structure following a convention laid out in these notebooks. In this case, it copied the contents of instructions.md into the assistant manifest.json. It also parsed the api.bing.microsoft.com swagger which follows an Open API schema into tool defintions for the assitant."
   ]
  },
  {
   "cell_type": "code",
   "execution_count": 8,
   "metadata": {
    "dotnet_interactive": {
     "language": "csharp"
    },
    "polyglot_notebook": {
     "kernelName": "csharp"
    },
    "vscode": {
     "languageId": "polyglot-notebook"
    }
   },
   "outputs": [
    {
     "name": "stdout",
     "output_type": "stream",
     "text": [
      "asst_VGYBQkX8piMVOkSjsKvwh7tw\r\n"
     ]
    }
   ],
   "source": [
    "var assistantId = await AssistantUtility.Create(\"Web Search Test\", config);\n",
    "Console.WriteLine(assistantId)"
   ]
  },
  {
   "cell_type": "markdown",
   "metadata": {},
   "source": [
    "## Run the Assistant\n",
    "\n",
    "`output.Dialog` shows the conversation."
   ]
  },
  {
   "cell_type": "code",
   "execution_count": 9,
   "metadata": {
    "dotnet_interactive": {
     "language": "csharp"
    },
    "polyglot_notebook": {
     "kernelName": "csharp"
    },
    "vscode": {
     "languageId": "polyglot-notebook"
    }
   },
   "outputs": [
    {
     "data": {
      "text/markdown": [
       "\n",
       "User: Use python to get todays date and then use it to find things to do in Atlanta today. Be careful to not include events in the past in your final answer.\n",
       "\n",
       "Assistant: I ran this code:\n",
       "```\n",
       "from datetime import datetime\n",
       "\n",
       "# Get today's date\n",
       "today_date = datetime.now().strftime('%Y-%m-%d')\n",
       "today_date\n",
       "```\n",
       "\n",
       "I called the tool named crawl with these arguments:\n",
       "```\n",
       "{\"q\":\"things to do in Atlanta December 31 2024\",\"textFormat\":\"HTML\"}\n",
       "```\n",
       "and got this result:\n",
       "```\n",
       "{\"queryContext\":{\"originalQuery\":\"things to do in Atlanta December 31 2024\"},\"webPages\":{\"value\":[{\"name\":\"Atlanta Events in December 2024 - Schedule \\u0026amp; Tickets\",\"url\":\"https://atlanta-ga.events/december/\",\"displayUrl\":\"https://atlanta-ga.events/december\",\"snippet\":\"Check Out The Atlanta Events Calendar for December 2024: Current \\u0026amp; Upcoming Events \\u002B Best \\u0026amp; Fun Thing To Do in the City. ... Dec 31, 2024 3:30 AM . Georgia Tech Yellow Jackets Basketball . Events: 3. McCamish Pavilion . Dec 31, 2024 2:30 PM ...\"},{\"name\":\"11 Atlanta holiday events happening this weekend | 11alive.com\",\"url\":\"https://www.11alive.com/article/entertainment/events/11-things-to-do-in-atlanta-dec-26-31/85-46d65687-9cd6-4513-9fcb-5e2012452a26\",\"displayUrl\":\"https://www.11alive.com/article/entertainment/events/11-things-to-do-in-atlanta-dec-26...\",\"snippet\":\"Updated: 7:20 AM EST December 26, 2024 ATLANTA \\u2014 The holiday season is in full swing, and Atlanta is buzzing with exciting events to enjoy this weekend! ... Date and Location: Dec. 25\\u201331; 10 a ...\",\"thumbnailUrl\":\"https://www.bing.com/th?id=OIF.DuWLyAoWt9tU6lqzr3sKvA\\u0026w=80\\u0026h=80\\u0026c=1\\u0026pid=5.1\"},{\"name\":\"Atlanta Events - December 2024 - Go South Atlanta\",\"url\":\"https://gosouthatlanta.com/things-to-do/events/atlanta-in-december.html\",\"displayUrl\":\"https://gosouthatlanta.com/things-to-do/events/atlanta-in-december.html\",\"snippet\":\"Things to do in Atlanta, GA in December, including upcoming festivals, Christmas events and other holiday celebrations, lights shows, holiday markets, comedy, musicals, ballet, tours of homes, and more. ... December 31 2024 New Year\\u2019s eve event at the Georgia Aquarium, with DJ and dancing, food, and after-hours access to the aquatic exhibits.\",\"thumbnailUrl\":\"https://www.bing.com/th?id=OIP.xm-3dn3hYJZHsVVU9WO5qwHaD4\\u0026w=80\\u0026h=80\\u0026c=1\\u0026pid=5.1\"},{\"name\":\"Events \\u0026amp; Things To Do in Atlanta in December 2024 - AllEvents.in\",\"url\":\"https://allevents.in/atlanta/december\",\"displayUrl\":\"https://allevents.in/atlanta/december\",\"snippet\":\"Find events and things to do in december 2024 in Atlanta. Discover parties, concerts, meets,shows, sports, club, reunion, Performance happening in 2024 in Atlanta. Open Menu. Atlanta Change City; ... Tue, 31 Dec Trending events in december in Atlanta. Atlanta Symphony Orchestra: New Year\\u0026#39;s Eve\"},{\"name\":\"Events \\u0026amp; Things to Do for Christmas in Atlanta - Discover Atlanta\",\"url\":\"https://discoveratlanta.com/events/seasonal/christmas/\",\"displayUrl\":\"https://discoveratlanta.com/events/seasonal/christmas\",\"snippet\":\"The possibilities are endless with so many things to do in Atlanta at Christmas! ... Atlanta Ballet\\u2019s The Nutcracker returns this December at Cobb Energy Centre with a larger-than-life production of a winter wonderland and dream-like world of ... 12/31/24. Candlelight Concerts 2024. Pets. 12/30/24 \\u2013 1/1/25. Adopt Any Senior Pet for FREE in ...\",\"thumbnailUrl\":\"https://www.bing.com/th?id=OIP.t6GjYUDzSex1Myxpnsk1ngHaE6\\u0026w=80\\u0026h=80\\u0026c=1\\u0026pid=5.1\"},{\"name\":\"December 31 events in Atlanta, GA - Eventbrite\",\"url\":\"https://www.eventbrite.com/d/ga--atlanta/december-31/\",\"displayUrl\":\"https://www.eventbrite.com/d/ga--atlanta/december-31\",\"snippet\":\"HUGEL NEW YEARS EVE | Make The Girls Dance 2024 | District Atlanta. Tue, Dec 31, 10:00 PM. District Atlanta. Save this event: HUGEL NEW YEARS EVE ... TUESDAY DECEMBER 31 2024 Save this event: NYE at EMBR LOUNGE| 8PM-3AM| TUESDAY DECEMBER 31 2024. THE LEMON DROP - NEW YEARS EVE 2K24. Tue, Dec 31, 9:00 PM. Westside Cultural Arts Center.\"},{\"name\":\"Explore Atlanta Events for Today, This Week or Weekend\",\"url\":\"https://discoveratlanta.com/events/main/\",\"displayUrl\":\"https://discoveratlanta.com/events\",\"snippet\":\"Explore the Atlanta events calendar for things to do today, this week or this weekend. Find upcoming festivals, seasonal events and more! ... New Year\\u2019s Eve Celebration at Red Phone Booth 2024 12/31/24. New Year\\u2019s Eve Dinner at Signia by Hilton Atlanta 12/31/24 \\u2013 1/1/25 ... December 31. Tuesday. Atlanta\\u2019s New Year\\u2019s Eve Peach Drop ...\",\"thumbnailUrl\":\"https://www.bing.com/th?id=OIP.FkxSV6JbrWatsFMM3_8dIAHaEh\\u0026w=80\\u0026h=80\\u0026c=1\\u0026pid=5.1\"},{\"name\":\"Atlanta Events Calendar 2024/2025 | Atlanta, GA\",\"url\":\"https://atlanta-ga.events/\",\"displayUrl\":\"https://atlanta-ga.events\",\"snippet\":\"This calendar is your ultimate guide to the best things to do in Atlanta, GA: ... Dec 31, 2024 3:30 AM . Notre Dame Fighting Irish . Events: 3. McCamish Pavilion . Dec 31, 2024 2:30 PM . Georgia Tech Yellow Jackets Basketball ...\",\"thumbnailUrl\":\"https://www.bing.com/th?id=OIP.ytkv04WKv8RTyYo4_DsP4gHaHa\\u0026w=80\\u0026h=80\\u0026c=1\\u0026pid=5.1\"},{\"name\":\"20 free things to do in metro Atlanta in December\",\"url\":\"https://www.accessatlanta.com/atlanta-things-to-do/20-free-things-to-do-in-metro-atlanta-in-december/RUFTV7LQ2JEGZGUNGNR6FHEARM/\",\"displayUrl\":\"https://www.accessatlanta.com/atlanta-things-to-do/20-free-things-to-do-in-metro...\",\"snippet\":\"Here are 20 of the best things to do in Atlanta in December that are totally free. ... and nightly display until Tuesday, Dec. 31; Time: 4 - 8 ... 14, 21, 23, 27, 29 and 31) Holiday Spirit 2024 ...\"},{\"name\":\"Cool Things To Do in December in Atlanta\",\"url\":\"https://discoveratlanta.com/stories/things-to-do/cool-things-to-do-in-december-in-atlanta/\",\"displayUrl\":\"https://discoveratlanta.com/stories/things-to-do/cool-things-to-do-in-december-in-atlanta\",\"snippet\":\"Cool Things To Do in December in Atlanta. By Mary Welch. Published November 14, 2023 Last Updated December 2, 2024. December is a great time to be in Atlanta. The list of cool things to do seems endless. There\\u2019s unparalleled shopping, great themed entertainment, holiday light displays galore and wonderful restaurants where you can enjoy a ...\",\"thumbnailUrl\":\"https://www.bing.com/th?id=OIP.B7WMsn5icdXhjRnlj2WcZAHaHa\\u0026w=80\\u0026h=80\\u0026c=1\\u0026pid=5.1\"}]},\"images\":{\"value\":[{\"thumbnailUrl\":\"https://tse1.mm.bing.net/th?id=OIP.5jERbhhnl8LiECUQySoRYAHaG1\\u0026pid=Api\",\"contentUrl\":\"https://uphomes.com/storage/blogposts/February2023/medium/RKuDJcqErH176HD3LyWV.png\",\"hostPageUrl\":\"https://uphomes.com/blog/things-to-do-atlanta-ga/\"},{\"thumbnailUrl\":\"https://tse1.mm.bing.net/th?id=OIP.CojYu04QYSSGDO2B82B1tQHaEK\\u0026pid=Api\",\"contentUrl\":\"https://res.cloudinary.com/hello-tickets/image/upload/c_limit,f_auto,q_auto,w_1300/v1677975316/bpxlxi6wlpthpi0izg24.jpg\",\"hostPageUrl\":\"https://www.hellotickets.com/us/atlanta/atlanta-in-december/sc-24-3999\"},{\"thumbnailUrl\":\"https://tse1.mm.bing.net/th?id=OIP.HwzfdFE6-tSHfhoFlTxXKQHaHa\\u0026pid=Api\",\"contentUrl\":\"https://unexpectedatlanta.com/wp-content/uploads/2022/12/Best-Things-to-Do-in-Atlanta-in-2023.png\",\"hostPageUrl\":\"https://unexpectedatlanta.com/best-things-to-do-in-atlanta/\"},{\"thumbnailUrl\":\"https://tse1.mm.bing.net/th?id=OIP.72u4XATE38bb2buema6t1wAAAA\\u0026pid=Api\",\"contentUrl\":\"https://unexpectedatlanta.com/wp-content/uploads/2023/11/The-Best-Things-to-Do-in-Atlanta-in-December.png\",\"hostPageUrl\":\"https://unexpectedatlanta.com/the-best-things-to-do-in-atlanta-in-december/\"},{\"thumbnailUrl\":\"https://tse1.mm.bing.net/th?id=OIP.OD8mHt8EuAz_-Rm6pRiOFwHaEK\\u0026pid=Api\",\"contentUrl\":\"https://i.ytimg.com/vi/2ufhW2kEYro/maxresdefault.jpg\",\"hostPageUrl\":\"https://www.youtube.com/watch?v=2ufhW2kEYro\"},{\"thumbnailUrl\":\"https://tse1.mm.bing.net/th?id=OIP.vjZ_V7Yjzfqyphfsj_SBjgHaEK\\u0026pid=Api\",\"contentUrl\":\"https://daytripqueen.com/wp-content/uploads/2021/07/Free-things-to-do-in-Atlanta.jpg\",\"hostPageUrl\":\"https://daytripqueen.com/free-things-to-do-in-atlanta/\"},{\"thumbnailUrl\":\"https://tse1.mm.bing.net/th?id=OIP.W-gOzzcskaYfPXC3whhXOgHaLH\\u0026pid=Api\",\"contentUrl\":\"https://www.busytourist.com/wp-content/uploads/2020/07/best-things-to-do-in-Atlanta-GA-1.jpg\",\"hostPageUrl\":\"https://www.busytourist.com/things-to-do-in-atlanta-ga/\"},{\"thumbnailUrl\":\"https://tse1.mm.bing.net/th?id=OIP.SEMK2FArnC1F1qLMYZxj6QHaEK\\u0026pid=Api\",\"contentUrl\":\"https://foodtoursatlanta.com/wp-content/uploads/2021/09/Blue-Engagement-Essentials-Blog-Banner.png\",\"hostPageUrl\":\"https://foodtoursatlanta.com/33-things-to-do-in-atlanta/\"},{\"thumbnailUrl\":\"https://tse1.mm.bing.net/th?id=OIP.BawFpewdQrecAtgiS9AiOAHaHa\\u0026pid=Api\",\"contentUrl\":\"https://unexpectedatlanta.com/wp-content/uploads/2023/04/The-Best-Things-to-Do-in-Midtown-Atlanta-500x500.png\",\"hostPageUrl\":\"https://unexpectedatlanta.com/best-things-to-do-midtown-atlanta/\"},{\"thumbnailUrl\":\"https://tse1.mm.bing.net/th?id=OIP.Agse3pS4C61ss3RxvVgySwHaEK\\u0026pid=Api\",\"contentUrl\":\"https://wirksmoving.com/wp-content/uploads/2020/04/Things-to-do-in-Atlanta-with-Kids-1536x864.png\",\"hostPageUrl\":\"https://wirksmoving.com/blog/things-to-do-in-atlanta-ga-with-kids/\"},{\"thumbnailUrl\":\"https://tse1.mm.bing.net/th?id=OIP.Yac324FtG-dH_KY8XaUTZQHaME\\u0026pid=Api\",\"contentUrl\":\"https://www.frostandsun.com/wp-content/uploads/2017/11/things-to-do-in-atlanta-pin-me-1-628x1024.jpg.webp\",\"hostPageUrl\":\"https://www.frostandsun.com/things-to-do-in-atlanta/\"},{\"thumbnailUrl\":\"https://tse1.mm.bing.net/th?id=OIP.yRC0krj1Jbi8qtYhSLLimgHaE8\\u0026pid=Api\",\"contentUrl\":\"https://lp-cms-production.imgix.net/2021-05/GettyRF_486068945.jpg?auto=compress\\u0026fit=crop\\u0026fm=auto\\u0026sharp=10\\u0026vib=20\\u0026w=1200\\u0026h=800\",\"hostPageUrl\":\"https://www.lonelyplanet.com/articles/top-things-to-do-in-atlanta\"},{\"thumbnailUrl\":\"https://tse1.mm.bing.net/th?id=OIP.B9dwp_jKTmtE_Fruodr10QHaE8\\u0026pid=Api\",\"contentUrl\":\"https://www.treksplorer.com/wp-content/uploads/things-to-do-in-atlanta.jpg\",\"hostPageUrl\":\"https://www.treksplorer.com/things-to-do-in-atlanta-ga-usa/\"},{\"thumbnailUrl\":\"https://tse1.mm.bing.net/th?id=OIP.zsUlule-ACLeXXDRofPdiAAAAA\\u0026pid=Api\",\"contentUrl\":\"https://www.busytourist.com/wp-content/uploads/2020/07/things-to-do-in-Atlanta-2.jpg\",\"hostPageUrl\":\"https://www.busytourist.com/things-to-do-in-atlanta-ga/\"},{\"thumbnailUrl\":\"https://tse1.mm.bing.net/th?id=OIP.TNv2qzXsSFvw43t4zu0gGgHaE8\\u0026pid=Api\",\"contentUrl\":\"https://www.travelandleisure.com/thmb/3NRm4q9Qg2bdUqXvenPBVeIloV4=/1500x0/filters:no_upscale():max_bytes(150000):strip_icc()/atlanta-skyline-TODOATL0122-195afa04632e43f5be27ef2dcc94ca3b.jpg\",\"hostPageUrl\":\"https://www.travelandleisure.com/attractions/best-things-to-do-in-atlanta-georgia\"},{\"thumbnailUrl\":\"https://tse1.mm.bing.net/th?id=OIP.6srgUoyHkiOt8iaSj9z8tgAAAA\\u0026pid=Api\",\"contentUrl\":\"https://heyeastcoastusa.com/wp-content/uploads/2022/12/Ferris-Wheel-at-Skyview-Atlanta-in-Georgia-at-Night.Depositphotos_164614584_L.jpg\",\"hostPageUrl\":\"https://heyeastcoastusa.com/romantic-things-to-do-in-atlanta-ga/\"},{\"thumbnailUrl\":\"https://tse1.mm.bing.net/th?id=OIP.IqznTH1ocAOkn-XVKO4tyQHaL5\\u0026pid=Api\",\"contentUrl\":\"https://i.pinimg.com/originals/f5/05/8e/f5058e44214459ab6506002aee8aa99f.png\",\"hostPageUrl\":\"https://www.pinterest.com/pin/101-best-things-to-do-in-atlanta-georgia-the-ultimate-attractions-guide--347621664991790215/\"},{\"thumbnailUrl\":\"https://tse1.mm.bing.net/th?id=OIP.rZdeOHyG9r0o75WCJ7tkzAHaE8\\u0026pid=Api\",\"contentUrl\":\"https://zumpermedia.s3.amazonaws.com/blog/wp-content/uploads/2019/10/29105833/66002668_10157148172100795_8332487934380867584_o-1024x683.jpg\",\"hostPageUrl\":\"https://www.zumper.com/blog/fun-family-activities-atlanta-parents-in-town/\"},{\"thumbnailUrl\":\"https://tse1.mm.bing.net/th?id=OIP.KmgHCJPHyXMzwp5-8wb23AHaE7\\u0026pid=Api\",\"contentUrl\":\"https://rwethereyetmom.com/wp-content/uploads/2015/08/6-Things-to-do-in-Atlanta.jpg\",\"hostPageUrl\":\"http://rwethereyetmom.com/6-things-to-do-in-atlanta.html\"},{\"thumbnailUrl\":\"https://tse1.mm.bing.net/th?id=OIP.8B9LmuRXqgsRTEY6n_RNlAHaHa\\u0026pid=Api\",\"contentUrl\":\"https://unexpectedatlanta.com/wp-content/uploads/2023/06/The-Best-Things-to-Do-in-Atlanta.png\",\"hostPageUrl\":\"https://unexpectedatlanta.com/atlanta-event-calendar/\"}]}}\n",
       "```\n",
       "\n",
       "Here are some events and things to do in Atlanta on December 31, 2024:\n",
       "\n",
       "1. **New Year's Eve Event at the Georgia Aquarium** - Enjoy DJ and dancing, food, and after-hours access to the aquatic exhibits.\n",
       "   - [Atlanta Events - December 2024 - Go South Atlanta](https://gosouthatlanta.com/things-to-do/events/atlanta-in-december.html)\n",
       "\n",
       "2. **New Year's Eve Celebration at Red Phone Booth** - A special event to celebrate the New Year.\n",
       "   - [Explore Atlanta Events for Today, This Week or Weekend](https://discoveratlanta.com/events/main/)\n",
       "\n",
       "3. **HUGEL New Year's Eve at District Atlanta** - Celebrate with music and dance at District Atlanta starting at 10:00 PM.\n",
       "   - [December 31 events in Atlanta, GA - Eventbrite](https://www.eventbrite.com/d/ga--atlanta/december-31/)\n",
       "\n",
       "4. **Atlanta Symphony Orchestra: New Year's Eve Performance** - Enjoy a musical evening with the Atlanta Symphony Orchestra.\n",
       "   - [Events & Things To Do in Atlanta in December 2024 - AllEvents.in](https://allevents.in/atlanta/december)\n",
       "\n",
       "These are some of the events you can attend today in Atlanta. Enjoy your time celebrating the New Year!\n"
      ]
     },
     "metadata": {},
     "output_type": "display_data"
    }
   ],
   "source": [
    "var assistantRunOptions = new AssistantRunOptions() {\n",
    "    AssistantName = \"Web Search Test\",\n",
    "    Instructions = \"Use python to get todays date and then use it to find things to do in Atlanta today. Be careful to not include events in the past in your final answer.\",\n",
    "};\n",
    "var output = await AntRunnerLib.AssistantRunner.RunThread(assistantRunOptions, config);\n",
    "output.Dialog.DisplayAs(\"text/markdown\")"
   ]
  },
  {
   "cell_type": "code",
   "execution_count": 10,
   "metadata": {
    "dotnet_interactive": {
     "language": "csharp"
    },
    "polyglot_notebook": {
     "kernelName": "csharp"
    },
    "vscode": {
     "languageId": "polyglot-notebook"
    }
   },
   "outputs": [
    {
     "data": {
      "text/markdown": [
       "Here are some events and things to do in Atlanta on December 31, 2024:\n",
       "\n",
       "1. **New Year's Eve Event at the Georgia Aquarium** - Enjoy DJ and dancing, food, and after-hours access to the aquatic exhibits.\n",
       "   - [Atlanta Events - December 2024 - Go South Atlanta](https://gosouthatlanta.com/things-to-do/events/atlanta-in-december.html)\n",
       "\n",
       "2. **New Year's Eve Celebration at Red Phone Booth** - A special event to celebrate the New Year.\n",
       "   - [Explore Atlanta Events for Today, This Week or Weekend](https://discoveratlanta.com/events/main/)\n",
       "\n",
       "3. **HUGEL New Year's Eve at District Atlanta** - Celebrate with music and dance at District Atlanta starting at 10:00 PM.\n",
       "   - [December 31 events in Atlanta, GA - Eventbrite](https://www.eventbrite.com/d/ga--atlanta/december-31/)\n",
       "\n",
       "4. **Atlanta Symphony Orchestra: New Year's Eve Performance** - Enjoy a musical evening with the Atlanta Symphony Orchestra.\n",
       "   - [Events & Things To Do in Atlanta in December 2024 - AllEvents.in](https://allevents.in/atlanta/december)\n",
       "\n",
       "These are some of the events you can attend today in Atlanta. Enjoy your time celebrating the New Year!"
      ]
     },
     "metadata": {},
     "output_type": "display_data"
    }
   ],
   "source": [
    "output.LastMessage.DisplayAs(\"text/markdown\");"
   ]
  },
  {
   "cell_type": "code",
   "execution_count": 11,
   "metadata": {
    "dotnet_interactive": {
     "language": "csharp"
    },
    "polyglot_notebook": {
     "kernelName": "csharp"
    },
    "vscode": {
     "languageId": "polyglot-notebook"
    }
   },
   "outputs": [
    {
     "data": {
      "text/markdown": [
       "\n",
       "User: Use python to get todays date and then use it to find things to do in Atlanta for each of the next four weekends. Be careful to not include events in the past in your final answer. You should perform four searches at once.\n",
       "\n",
       "Assistant: I ran this code:\n",
       "```\n",
       "from datetime import datetime, timedelta\n",
       "\n",
       "# Get today's date\n",
       "today = datetime.now()\n",
       "\n",
       "# Calculate the dates for the next four weekends (Saturday and Sunday)\n",
       "next_four_weekends = []\n",
       "for i in range(1, 5):\n",
       "    saturday = today + timedelta(days=(5 - today.weekday()) + 7 * (i - 1))\n",
       "    sunday = saturday + timedelta(days=1)\n",
       "    next_four_weekends.append((saturday, sunday))\n",
       "\n",
       "next_four_weekends\n",
       "```\n",
       "\n",
       "I called the tool named crawl with these arguments:\n",
       "```\n",
       "{\"q\": \"events in Atlanta January 4 2025\", \"textFormat\": \"HTML\"}\n",
       "```\n",
       "and got this result:\n",
       "```\n",
       "{\"queryContext\":{\"originalQuery\":\"events in Atlanta January 4 2025\"},\"webPages\":{\"value\":[{\"name\":\"Atlanta Events January 2025: Concerts, Shows, Sports...\",\"url\":\"https://atlanta-ga.events/january/\",\"displayUrl\":\"https://atlanta-ga.events/january\",\"snippet\":\"Explore our comprehensive calendar for all the current and upcoming events in Atlanta, GA, for January 2025. This guide is your gateway to discovering the best things to do in Atlanta, from Concerts and Theater Shows to Sports events and music festivals. You\\u2019ll find a detailed list of all the most engaging and exciting activities happening throughout the month.\"},{\"name\":\"Atlanta Events \\u2013 January 2025 - Go South Atlanta\",\"url\":\"https://gosouthatlanta.com/things-to-do/events/atlanta-in-january.html\",\"displayUrl\":\"https://gosouthatlanta.com/things-to-do/events/atlanta-in-january.html\",\"snippet\":\"Events From January 1 To The Weekend Of January 4-5 2025. \\u2192 See December events. \\u2192 For concerts this week, see concerts in Atlanta in January \\u2013 IllumiNights, November 14 2024 - January 19 2025 Annual after-hours walk-through holiday lights show at Zoo Atlanta, with a mile of illuminated animal lanterns.\",\"thumbnailUrl\":\"https://www.bing.com/th?id=OIP.xm-3dn3hYJZHsVVU9WO5qwHaD4\\u0026w=80\\u0026h=80\\u0026c=1\\u0026pid=5.1\"},{\"name\":\"Events \\u0026amp; Things To Do in Atlanta in 2025 - AllEvents.in\",\"url\":\"https://allevents.in/atlanta/january\",\"displayUrl\":\"https://allevents.in/atlanta/january\",\"snippet\":\"Find events and things to do in January 2025 in Atlanta. Discover parties, concerts, meets, shows, sports, club, reunion, Performance happening in January 2024 in Atlanta. ... Make this year an incredible one by starting it from exploring events in January 2025 in Atlanta. Find your interests, register or buy tickets for all the upcoming events ...\"},{\"name\":\"Discover 2025 Events \\u0026amp; Activities in Atlanta, GA | Eventbrite\",\"url\":\"https://www.eventbrite.com/d/ga--atlanta/2025/\",\"displayUrl\":\"https://www.eventbrite.com/d/ga--atlanta/2025\",\"snippet\":\"Share this event: 2025 Atlanta Travel \\u0026amp; Adventure Show Save this event: 2025 Atlanta Travel \\u0026amp; Adventure Show. ELEVATE : IGNITE CONNECTIONS FOR 2025. Sat, Jan 11, 5:00 PM ... NuNu\\u0026#39;s Disco Birthday Brunch Jan 5th 2025 Save this event: NuNu\\u0026#39;s Disco Birthday Brunch Jan 5th 2025. Almost full. NYEATL.COM: The VIBE NYE 2025 Celebration at THE TWELVE ...\"},{\"name\":\"Atlanta in 2025 | Concerts, Festivals, Tickets \\u0026amp; Tour Dates - Songkick\",\"url\":\"https://www.songkick.com/metro-areas/4120-us-atlanta/2025\",\"displayUrl\":\"https://www.songkick.com/metro-areas/4120-us-atlanta/2025\",\"snippet\":\"Concerts in Atlanta in 2025. Find tickets to all live music, concerts, tour dates and festivals in and around Atlanta. Currently there are 968 upcoming events. Filter by artist. All Your favorite artists. Filter by date. All Tonight ... Saturday 04 January 2025 \\u2013 Saturday 04 January 2025; SalgirahArts Festival: Expressions of Shukran 2025.\"},{\"name\":\"Atlanta Events Calendar 2024/2025 | Atlanta, GA\",\"url\":\"https://atlanta-ga.events/\",\"displayUrl\":\"https://atlanta-ga.events\",\"snippet\":\"Atlanta Events 2024/2025. Discover the calendar of all current and upcoming events in Atlanta, GA. ... Jan 4, 2025. Category. Search Events Calendar. Jan Feb Mar Apr May Jun Jul Aug Sep Oct Nov Dec. Best Events. Schedule \\u0026amp; Tickets. List Of Events. Venues. This ...\",\"thumbnailUrl\":\"https://www.bing.com/th?id=OIP.ytkv04WKv8RTyYo4_DsP4gHaHa\\u0026w=80\\u0026h=80\\u0026c=1\\u0026pid=5.1\"},{\"name\":\"Atlanta Events | Explore Georgia\",\"url\":\"https://exploregeorgia.org/atlanta/events\",\"displayUrl\":\"https://exploregeorgia.org/atlanta/events\",\"snippet\":\"Events in Atlanta. Georgia\\u0026#39;s capital city hosts events throughout the year that draw attendees from around the world. Browse the ideas and Atlanta events below to help plan your trip. ... January 4, 2025 - May 15, 2025 Adventure Cubs. Zoo Atlanta. View all dates. Atlanta. Saturday, January 4. January 4, 2025 - May 24, 2025\",\"thumbnailUrl\":\"https://www.bing.com/th?id=OIP.qcVhz7_S17NbT6s7cPa8nQHaEi\\u0026w=80\\u0026h=80\\u0026c=1\\u0026pid=5.1\"},{\"name\":\"Atlanta Concerts in January 2025\",\"url\":\"https://atlanta.theater/concerts/january/\",\"displayUrl\":\"https://atlanta.theater/concerts/january\",\"snippet\":\"Jan 4, 2025 12:00 PM . Canopy . Concerts: 1. Altar at Masquerade - GA . Jan 4, 2025 7:00 PM . Da\\u0026#39;Vinchi ... Join our newsletter now to stay current on all theater events in Atlanta, plus the occasional special offer and discount tickets! Unique events and incredible deals are straight to your inbox.\",\"thumbnailUrl\":\"https://www.bing.com/th?id=OIP.ER6x2TrzIBYiwFYRDnnIMQHaHa\\u0026w=80\\u0026h=80\\u0026c=1\\u0026pid=5.1\"},{\"name\":\"Atlanta in January | Concerts, Festivals, Tickets \\u0026amp; Tour Dates - Songkick\",\"url\":\"https://www.songkick.com/metro-areas/4120-us-atlanta/january-2025\",\"displayUrl\":\"https://www.songkick.com/metro-areas/4120-us-atlanta/january-2025\",\"snippet\":\"Concerts in Atlanta in January. Find tickets to all live music, concerts, tour dates and festivals in and around Atlanta. Currently there are 64 upcoming events. Filter by artist. All Your favorite artists. Filter by date. All Tonight ... Thursday 02 January 2025; Joe Alterman. Eddie\\u0026#39;s Attic, Decatur, GA, US . Friday 03 January 2025;\"},{\"name\":\"Featured Events in Atlanta in January 2025(December Updated)\",\"url\":\"https://us.trip.com/events/2607417-2025-01-atlanta-collection/\",\"displayUrl\":\"https://us.trip.com/events/2607417-2025-01-atlanta-collection\",\"snippet\":\"Searching for events in Atlanta in January 2025? Trip.com has curated a list of all the events you might like in Atlanta, including live performances, concerts, festivals, and exhibitions. There\\u0026#39;s something for everyone. Find and register for popular events in your area now!\"}]}}\n",
       "```\n",
       "\n",
       "I called the tool named crawl with these arguments:\n",
       "```\n",
       "{\"q\": \"events in Atlanta January 11 2025\", \"textFormat\": \"HTML\"}\n",
       "```\n",
       "and got this result:\n",
       "```\n",
       "{\"queryContext\":{\"originalQuery\":\"events in Atlanta January 11 2025\"},\"webPages\":{\"value\":[{\"name\":\"Atlanta Events January 2025: Concerts, Shows, Sports...\",\"url\":\"https://atlanta-ga.events/january/\",\"displayUrl\":\"https://atlanta-ga.events/january\",\"snippet\":\"Atlanta Events January 2025. Check out the complete schedule of this month\\u2019s events. \\u201CAtlanta Events\\u201D is your guide to epic events: ... Prices from $11 Avg. price ~ $50. Available Tickets: 587. Tickets; Jan. 04. 2025. 8:00 PM Sat. SalgirahArts Festival: Expressions of Shukran.\",\"thumbnailUrl\":\"https://www.bing.com/th?id=OIP.ytkv04WKv8RTyYo4_DsP4gHaHa\\u0026w=80\\u0026h=80\\u0026c=1\\u0026pid=5.1\"},{\"name\":\"Atlanta Events \\u2013 January 2025 - Go South Atlanta\",\"url\":\"https://gosouthatlanta.com/things-to-do/events/atlanta-in-january.html\",\"displayUrl\":\"https://gosouthatlanta.com/things-to-do/events/atlanta-in-january.html\",\"snippet\":\"Atlanta\\u2019s January event highlights include the various Martin Luther King Day celebrations and parade. Other things to do in January include wine and food festivals, and the Cathedral Antiques Show and Tour of Homes. ... January 11 2025 Comedy show at Atlanta Symphony Hall. More details \\u2013 Last Podcast on the Left: JK Ultra Tour, January 11 ...\",\"thumbnailUrl\":\"https://www.bing.com/th?id=OIP.xm-3dn3hYJZHsVVU9WO5qwHaD4\\u0026w=80\\u0026h=80\\u0026c=1\\u0026pid=5.1\"},{\"name\":\"January 11 events in Atlanta, GA - Eventbrite\",\"url\":\"https://www.eventbrite.com/d/ga--atlanta/january-11/\",\"displayUrl\":\"https://www.eventbrite.com/d/ga--atlanta/january-11\",\"snippet\":\"Save this event: 2025 Atlanta Travel \\u0026amp; Adventure Show Share this event: 2025 Atlanta Travel \\u0026amp; Adventure Show. 2025 Atlanta Travel \\u0026amp; Adventure Show. ... Sat, Jan 11, 4:00 PM. Atlanta\\u0026#39;s Original Uptown Comedy Corner (225) Save this event: Saturday Shenanigans Open Mic Comedy Show, ...\"},{\"name\":\"Events \\u0026amp; Things To Do in Atlanta in 2025 - AllEvents.in\",\"url\":\"https://allevents.in/atlanta/january\",\"displayUrl\":\"https://allevents.in/atlanta/january\",\"snippet\":\"Make this year an incredible one by starting it from exploring events in January 2025 in Atlanta. Find your interests, register or buy tickets for all the upcoming events that you love. Added to your interest Add to your interest ... 11 interested. Atlanta Career Fair Hilton Mon, 13 Jan 313 interested. A Tribute to Quincy Jones City Winery ...\"},{\"name\":\"Discover 2025 Events \\u0026amp; Activities in Atlanta, GA | Eventbrite\",\"url\":\"https://www.eventbrite.com/d/ga--atlanta/2025/\",\"displayUrl\":\"https://www.eventbrite.com/d/ga--atlanta/2025\",\"snippet\":\"Share this event: 2025 Atlanta Travel \\u0026amp; Adventure Show Save this event: 2025 Atlanta Travel \\u0026amp; Adventure Show. ELEVATE : IGNITE CONNECTIONS FOR 2025. Sat, Jan 11, 5:00 PM. The Ritz-Carlton, Atlanta. Save this event: ELEVATE : IGNITE CONNECTIONS FOR 2025 Share this event: ELEVATE : IGNITE CONNECTIONS FOR 2025.\"},{\"name\":\"Cool Things To Do in January in Atlanta\",\"url\":\"https://discoveratlanta.com/stories/things-to-do/cool-things-to-do-in-january-in-atlanta/\",\"displayUrl\":\"https://discoveratlanta.com/stories/things-to-do/cool-things-to-do-in-january-in-atlanta\",\"snippet\":\"The event is happening Jan. 25 and 26, Feb. 1, 2, 8 and 9 from 4-9 p.m. The summit skyride is happening from 10 a.m. to 5 p.m. Martin Luther King Jr. Day on Jan. 20 Atlanta is the perfect place to honor Dr. King (Photo courtesy of The King Center) The King Center plans events from Jan. 7-20 to honor Martin Luther King Jr.\",\"thumbnailUrl\":\"https://www.bing.com/th?id=OIP.aU9EcatRnz4MDkIKyYbkQgHaD4\\u0026w=80\\u0026h=80\\u0026c=1\\u0026pid=5.1\"},{\"name\":\"Atlanta in 2025 | Concerts, Festivals, Tickets \\u0026amp; Tour Dates - Songkick\",\"url\":\"https://www.songkick.com/metro-areas/4120-us-atlanta/2025\",\"displayUrl\":\"https://www.songkick.com/metro-areas/4120-us-atlanta/2025\",\"snippet\":\"Concerts in Atlanta in 2025. Find tickets to all live music, concerts, tour dates and festivals in and around Atlanta. Currently there are 968 upcoming events. Filter by artist. All Your favorite artists. Filter by date. All Tonight ... Saturday 11 January 2025; IN-ZO and Mersiv Tripp St., Daggz, Supertask, DUFFREY, ...\"},{\"name\":\"Atlanta in January | Concerts, Festivals, Tickets \\u0026amp; Tour Dates - Songkick\",\"url\":\"https://www.songkick.com/metro-areas/4120-us-atlanta/january-2025\",\"displayUrl\":\"https://www.songkick.com/metro-areas/4120-us-atlanta/january-2025\",\"snippet\":\"Concerts in Atlanta in January. Find tickets to all live music, concerts, tour dates and festivals in and around Atlanta. Currently there are 64 upcoming events. Filter by artist. All Your favorite artists. Filter by date. All ... Saturday 11 January 2025; IN-ZO Tripp St., Daggz, and Supertask. The Eastern, Atlanta, GA, US .\"},{\"name\":\"Concerts In Atlanta, January 2025 - Go South Atlanta\",\"url\":\"https://gosouthatlanta.com/things-to-do/events/atlanta-concerts-january.html\",\"displayUrl\":\"https://gosouthatlanta.com/things-to-do/events/atlanta-concerts-january.html\",\"snippet\":\"Concerts On Sunday January 12 2025 \\u2013 Coucheron \\u002B The Four Seasons at Atlanta Symphony Hall. More details \\u2013 Maggie Koerner at Eddie\\u2019s Attic, Decatur. More details. Concerts On Monday January 13 2025. Concerts today to be confirmed. Concerts On Tuesday January 14 2025 \\u2013 L\\u2019Imp\\u00E9ratrice at The Eastern. More details. Concerts On Wednesday ...\"},{\"name\":\"Featured Events in Atlanta in January 2025(December Updated)\",\"url\":\"https://us.trip.com/events/2607417-2025-01-atlanta-collection/\",\"displayUrl\":\"https://us.trip.com/events/2607417-2025-01-atlanta-collection\",\"snippet\":\"Searching for events in Atlanta in January 2025? Trip.com has curated a list of all the events you might like in Atlanta, including live performances, concerts, festivals, and exhibitions. There\\u0026#39;s something for everyone. Find and register for popular events in your area now!\"}]}}\n",
       "```\n",
       "\n",
       "I called the tool named crawl with these arguments:\n",
       "```\n",
       "{\"q\": \"events in Atlanta January 18 2025\", \"textFormat\": \"HTML\"}\n",
       "```\n",
       "and got this result:\n",
       "```\n",
       "{\"queryContext\":{\"originalQuery\":\"events in Atlanta January 18 2025\"},\"webPages\":{\"value\":[{\"name\":\"Atlanta Events January 2025: Concerts, Shows, Sports...\",\"url\":\"https://atlanta-ga.events/january/\",\"displayUrl\":\"https://atlanta-ga.events/january\",\"snippet\":\"Explore our comprehensive calendar for all the current and upcoming events in Atlanta, GA, for January 2025. This guide is your gateway to discovering the best things to do in Atlanta, from Concerts and Theater Shows to Sports events and music festivals. You\\u2019ll find a detailed list of all the most engaging and exciting activities happening throughout the month.\"},{\"name\":\"Events \\u0026amp; Things To Do in Atlanta in 2025 - AllEvents.in\",\"url\":\"https://allevents.in/atlanta/january\",\"displayUrl\":\"https://allevents.in/atlanta/january\",\"snippet\":\"Find events and things to do in January 2025 in Atlanta. Discover parties, concerts, meets, shows, sports, club, reunion, Performance happening in January 2024 in Atlanta. ... Variety Playhouse, Atlanta: 18 Jan 2025: Electric Avenue at Variety Playhouse: Variety Playhouse, Atlanta: 18 Jan 2025: Fulton Lee at The Loft at Center Stage:\"},{\"name\":\"Atlanta Events \\u2013 January 2025 - Go South Atlanta\",\"url\":\"https://gosouthatlanta.com/things-to-do/events/atlanta-in-january.html\",\"displayUrl\":\"https://gosouthatlanta.com/things-to-do/events/atlanta-in-january.html\",\"snippet\":\"Events From January 13 To Martin Luther King Day Weekend, January 18-20 2025. \\u2192 For concerts this week, see concerts in Atlanta in January \\u2013 IllumiNights, November 14 2024 - January 19 2025 Annual after-hours walk-through holiday lights show at Zoo Atlanta, with a mile of illuminated animal lanterns. More details\",\"thumbnailUrl\":\"https://www.bing.com/th?id=OIP.xm-3dn3hYJZHsVVU9WO5qwHaD4\\u0026w=80\\u0026h=80\\u0026c=1\\u0026pid=5.1\"},{\"name\":\"Atlanta in January | Concerts, Festivals, Tickets \\u0026amp; Tour Dates - Songkick\",\"url\":\"https://www.songkick.com/metro-areas/4120-us-atlanta/january-2025\",\"displayUrl\":\"https://www.songkick.com/metro-areas/4120-us-atlanta/january-2025\",\"snippet\":\"Concerts in Atlanta in January. Find tickets to all live music, concerts, tour dates and festivals in and around Atlanta. Currently there are 64 upcoming events. Filter by artist. All Your favorite artists. Filter by date. All ... Saturday 18 January 2025; Fulton Lee. The Loft, Atlanta, GA, US .\"},{\"name\":\"Explore Atlanta Events for Today, This Week or Weekend\",\"url\":\"https://discoveratlanta.com/events/main/\",\"displayUrl\":\"https://discoveratlanta.com/events\",\"snippet\":\"Explore the Atlanta events calendar for things to do today, this week or this weekend. Find upcoming festivals, seasonal events and more! ... Multiple dates until 01/18/2025. Atlanta\\u2019s Youth Basketball League 12/29/24 \\u2013 12/30/24. Festive Features ... January 18. Saturday. AT\\u0026amp;T Playoff Playlist Live with Lil Wayne \\u0026amp; More! 1/18/25 \\u2013 1/19/25 ...\",\"thumbnailUrl\":\"https://www.bing.com/th?id=OIP.FkxSV6JbrWatsFMM3_8dIAHaEh\\u0026w=80\\u0026h=80\\u0026c=1\\u0026pid=5.1\"},{\"name\":\"Featured Events in Atlanta in January 2025(December Updated)\",\"url\":\"https://us.trip.com/events/2607417-2025-01-atlanta-collection/\",\"displayUrl\":\"https://us.trip.com/events/2607417-2025-01-atlanta-collection\",\"snippet\":\"Searching for events in Atlanta in January 2025? Trip.com has curated a list of all the events you might like in Atlanta, including live performances, concerts, festivals, and exhibitions. There\\u0026#39;s something for everyone. Find and register for popular events in your area now!\"},{\"name\":\"Atlanta January 2025: Events, Concerts, Clubs \\u0026amp; Things to Do - Experism\",\"url\":\"https://www.experism.com/atlanta/january\",\"displayUrl\":\"https://www.experism.com/atlanta/january\",\"snippet\":\"To be held at Bold Monk Brewing Company, the participants will taste 55 cask-conditioned ales from famous local and international craft brewers. The event returns Saturday, January 31, 2026, from 2:30 PM to 6:00 PM at 1737 Ellsworth Industrial Blvd NW, Atlanta, GA 30318. Tickets for the event are available for purchase at $48.00 each.\",\"thumbnailUrl\":\"https://www.bing.com/th?id=OIP.WKXWyOtbF2Q-oMmg6Y-HiQHaE8\\u0026w=80\\u0026h=80\\u0026c=1\\u0026pid=5.1\"},{\"name\":\"Atlanta Events Calendar 2024/2025 | Atlanta, GA\",\"url\":\"https://atlanta-ga.events/\",\"displayUrl\":\"https://atlanta-ga.events\",\"snippet\":\"Find the Best Events in Atlanta, GA: Concerts, Theater \\u0026amp; Comedy Shows, Sporting Events, Opera Performances, Music Festivals, \\u0026amp; more. ... Jan 4, 2025. Category. Search Events Calendar. Jan Feb Mar Apr May Jun Jul Aug Sep ... 18 tickets remaining! Tickets; Dec. 31. 2024. 3:30 AM Tue.\",\"thumbnailUrl\":\"https://www.bing.com/th?id=OIP.ytkv04WKv8RTyYo4_DsP4gHaHa\\u0026w=80\\u0026h=80\\u0026c=1\\u0026pid=5.1\"},{\"name\":\"Atlanta in 2025 | Concerts, Festivals, Tickets \\u0026amp; Tour Dates - Songkick\",\"url\":\"https://www.songkick.com/metro-areas/4120-us-atlanta/2025\",\"displayUrl\":\"https://www.songkick.com/metro-areas/4120-us-atlanta/2025\",\"snippet\":\"Concerts in Atlanta in 2025. Find tickets to all live music, concerts, tour dates and festivals in and around Atlanta. ... Saturday 04 January 2025 \\u2013 Saturday 04 January 2025; SalgirahArts Festival: Expressions of Shukran 2025. Gas South Theater ... Tue 18 Feb 2025 The Masquerade - Purgatory Atlanta, GA, US. J.R. Carroll ...\"},{\"name\":\"Atlanta Concerts in January 2025\",\"url\":\"https://atlanta.theater/concerts/january/\",\"displayUrl\":\"https://atlanta.theater/concerts/january\",\"snippet\":\"Explore the schedule of all concerts in Atlanta, GA. Find the best live music events this month, and buy concert tickets today! ... Jan 4, 2025 12:00 PM . The Sufistics . Concerts: 3. Gas South Theater . Jan 4, 2025 12:00 PM . Canopy ...\",\"thumbnailUrl\":\"https://www.bing.com/th?id=OIP.ER6x2TrzIBYiwFYRDnnIMQHaHa\\u0026w=80\\u0026h=80\\u0026c=1\\u0026pid=5.1\"}]}}\n",
       "```\n",
       "\n",
       "I called the tool named crawl with these arguments:\n",
       "```\n",
       "{\"q\": \"events in Atlanta January 25 2025\", \"textFormat\": \"HTML\"}\n",
       "```\n",
       "and got this result:\n",
       "```\n",
       "{\"queryContext\":{\"originalQuery\":\"events in Atlanta January 25 2025\"},\"webPages\":{\"value\":[{\"name\":\"Atlanta Events January 2025: Concerts, Shows, Sports...\",\"url\":\"https://atlanta-ga.events/january/\",\"displayUrl\":\"https://atlanta-ga.events/january\",\"snippet\":\"Atlanta Events January 2025. ... Prices from $25 Avg. price ~ $34. 42 tickets remaining! Tickets; Jan. 04. 2025. 7:00 PM Sat. Da\\u0026#39;Vinchi. ATL Comedy Theater. 30093, 4650 Jimmy Carter Boulevard, Norcross, GA, US ... Either way, you\\u2019ll be the first to know about the best events in Atlanta, GA.\",\"thumbnailUrl\":\"https://www.bing.com/th?id=OIP.ytkv04WKv8RTyYo4_DsP4gHaHa\\u0026w=80\\u0026h=80\\u0026c=1\\u0026pid=5.1\"},{\"name\":\"Atlanta Events \\u2013 January 2025 - Go South Atlanta\",\"url\":\"https://gosouthatlanta.com/things-to-do/events/atlanta-in-january.html\",\"displayUrl\":\"https://gosouthatlanta.com/things-to-do/events/atlanta-in-january.html\",\"snippet\":\"\\u2013 Run With the Dogs, January 25 2025 Annual 5K and pet races in Decatur to benefit the Decatur Bulldogs Boosters. More details \\u2013 Spring Gardening Symposium \\u0026amp; Plant Sale, January 25 2025 Special event at the Atlanta Botanical Garden, with speakers and plant sale. More details \\u2013 Gals on the Go, January 25 2025 Podcast live show at Center Stage.\",\"thumbnailUrl\":\"https://www.bing.com/th?id=OIP.xm-3dn3hYJZHsVVU9WO5qwHaD4\\u0026w=80\\u0026h=80\\u0026c=1\\u0026pid=5.1\"},{\"name\":\"Events \\u0026amp; Things To Do in Atlanta in 2025 - AllEvents.in\",\"url\":\"https://allevents.in/atlanta/january\",\"displayUrl\":\"https://allevents.in/atlanta/january\",\"snippet\":\"Find events and things to do in January 2025 in Atlanta. Discover parties, concerts, meets, shows, sports, club, reunion, Performance happening in January 2024 in Atlanta. ... Make this year an incredible one by starting it from exploring events in January 2025 in Atlanta. Find your interests, register or buy tickets for all the upcoming events ...\"},{\"name\":\"Atlanta in 2025 | Concerts, Festivals, Tickets \\u0026amp; Tour Dates - Songkick\",\"url\":\"https://www.songkick.com/metro-areas/4120-us-atlanta/2025\",\"displayUrl\":\"https://www.songkick.com/metro-areas/4120-us-atlanta/2025\",\"snippet\":\"Concerts in Atlanta in 2025. Find tickets to all live music, concerts, tour dates and festivals in and around Atlanta. Currently there are 968 upcoming events. Filter by artist. All Your favorite artists. Filter by date. All Tonight ... Sat 25 Jan 2025 Capitol Theatre Macon, GA, US. Home; About us; Get the app; Blog; Jobs; Support;\"},{\"name\":\"Concerts 2025 events in Atlanta, GA - Eventbrite\",\"url\":\"https://www.eventbrite.com/d/ga--atlanta/concerts-2025/\",\"displayUrl\":\"https://www.eventbrite.com/d/ga--atlanta/concerts-2025\",\"snippet\":\"DJ DIESEL aka SHAQ @ Believe Music Hall | Sat, Jan 25th! Sat, Jan 25, 9:00 PM. Believe Music Hall. Save this event: DJ DIESEL aka SHAQ @ Believe Music Hall | Sat, Jan 25th! ... Save this event: 2025 CATHEDRAL SINGERS CONCERT Share this event: ... Save this event: Atlanta Speed Dating | Ages 36-48 | Singles Night | SpeedAtlanta Share this event: ...\"},{\"name\":\"Featured Events in Atlanta in January 2025(December Updated)\",\"url\":\"https://us.trip.com/events/2607417-2025-01-atlanta-collection/\",\"displayUrl\":\"https://us.trip.com/events/2607417-2025-01-atlanta-collection\",\"snippet\":\"Searching for events in Atlanta in January 2025? Trip.com has curated a list of all the events you might like in Atlanta, including live performances, concerts, festivals, and exhibitions. There\\u0026#39;s something for everyone. Find and register for popular events in your area now!\"},{\"name\":\"Atlanta in January | Concerts, Festivals, Tickets \\u0026amp; Tour Dates - Songkick\",\"url\":\"https://www.songkick.com/metro-areas/4120-us-atlanta/january-2025\",\"displayUrl\":\"https://www.songkick.com/metro-areas/4120-us-atlanta/january-2025\",\"snippet\":\"Concerts in Atlanta in January. Find tickets to all live music, concerts, tour dates and festivals in and around Atlanta. Currently there are 64 upcoming events. Filter by artist. All Your favorite artists. Filter by date. All Tonight ... Sat 25 Jan 2025 Buckhead Theatre Atlanta, GA, US. Cool Company. Fri 22 ...\"},{\"name\":\"Explore Atlanta Events for Today, This Week or Weekend\",\"url\":\"https://discoveratlanta.com/events/main/\",\"displayUrl\":\"https://discoveratlanta.com/events\",\"snippet\":\"Explore the Atlanta events calendar for things to do today, this week or this weekend. Find upcoming festivals, seasonal events and more! ... Atlanta Black Expo 2025 2/22/25 \\u2013 2/23/25. QS Discover Master\\u2019s and MBA Fair in Atlanta 2/22/25. ... January 25. Saturday. Heroes Among Us: A Musical Tribute 1/25/25. January 25. Saturday.\",\"thumbnailUrl\":\"https://www.bing.com/th?id=OIP.FkxSV6JbrWatsFMM3_8dIAHaEh\\u0026w=80\\u0026h=80\\u0026c=1\\u0026pid=5.1\"},{\"name\":\"Concerts In Atlanta, January 2025 - Go South Atlanta\",\"url\":\"https://gosouthatlanta.com/things-to-do/events/atlanta-concerts-january.html\",\"displayUrl\":\"https://gosouthatlanta.com/things-to-do/events/atlanta-concerts-january.html\",\"snippet\":\"Concerts On Sunday January 12 2025 \\u2013 Coucheron \\u002B The Four Seasons at Atlanta Symphony Hall. More details \\u2013 Maggie Koerner at Eddie\\u2019s Attic, Decatur. More details. Concerts On Monday January 13 2025. Concerts today to be confirmed. Concerts On Tuesday January 14 2025 \\u2013 L\\u2019Imp\\u00E9ratrice at The Eastern. More details. Concerts On Wednesday ...\"},{\"name\":\"Featured Events in Atlanta in January 2025(December Updated)\",\"url\":\"https://www.trip.com/events/2607417-2025-01-atlanta-collection/?page=3\",\"displayUrl\":\"https://www.trip.com/events/2607417-2025-01-atlanta-collection/?page=3\",\"snippet\":\"Experience the electrifying Malaa Alter Ego Tour at Tabernacle in Atlanta on January 25, 2025. Located at 152 Luckie Street, Atlanta, GA, 30303, this event promises an unforgettable night of music and excitement. Don\\u0026#39;t miss the chance to witness an incredible performance by Malaa in the vibrant city of Atlanta.\"}]}}\n",
       "```\n",
       "\n",
       "Here are some events happening in Atlanta for the next four weekends:\n",
       "\n",
       "### January 4-5, 2025\n",
       "1. **IllumiNights at Zoo Atlanta**: An annual after-hours walk-through holiday lights show with a mile of illuminated animal lanterns. [Source: Go South Atlanta](https://gosouthatlanta.com/things-to-do/events/atlanta-in-january.html)\n",
       "2. **NuNu's Disco Birthday Brunch**: Celebrate with music and food. [Source: Eventbrite](https://www.eventbrite.com/d/ga--atlanta/2025/)\n",
       "\n",
       "### January 11-12, 2025\n",
       "1. **Last Podcast on the Left: JK Ultra Tour**: Comedy show at Atlanta Symphony Hall. [Source: Go South Atlanta](https://gosouthatlanta.com/things-to-do/events/atlanta-in-january.html)\n",
       "2. **ELEVATE: IGNITE CONNECTIONS FOR 2025**: A networking event at The Ritz-Carlton, Atlanta. [Source: Eventbrite](https://www.eventbrite.com/d/ga--atlanta/2025/)\n",
       "\n",
       "### January 18-19, 2025\n",
       "1. **Electric Avenue at Variety Playhouse**: Live music event. [Source: AllEvents.in](https://allevents.in/atlanta/january)\n",
       "2. **Fulton Lee at The Loft**: Concert performance. [Source: Songkick](https://www.songkick.com/metro-areas/4120-us-atlanta/january-2025)\n",
       "\n",
       "### January 25-26, 2025\n",
       "1. **Run With the Dogs**: Annual 5K and pet races in Decatur to benefit the Decatur Bulldogs Boosters. [Source: Go South Atlanta](https://gosouthatlanta.com/things-to-do/events/atlanta-in-january.html)\n",
       "2. **DJ DIESEL aka SHAQ at Believe Music Hall**: Music event. [Source: Eventbrite](https://www.eventbrite.com/d/ga--atlanta/concerts-2025/)\n",
       "\n",
       "These events offer a variety of entertainment options, from music and comedy to unique experiences in and around Atlanta.\n"
      ]
     },
     "metadata": {},
     "output_type": "display_data"
    }
   ],
   "source": [
    "var assistantRunOptions = new AssistantRunOptions() {\n",
    "    AssistantName = \"Web Search Test\",\n",
    "    Instructions = \"Use python to get todays date and then use it to find things to do in Atlanta for each of the next four weekends. Be careful to not include events in the past in your final answer. You should perform four searches at once.\",\n",
    "};\n",
    "var output = await AntRunnerLib.AssistantRunner.RunThread(assistantRunOptions, config);\n",
    "output.Dialog.DisplayAs(\"text/markdown\");"
   ]
  },
  {
   "cell_type": "code",
   "execution_count": 12,
   "metadata": {
    "dotnet_interactive": {
     "language": "csharp"
    },
    "polyglot_notebook": {
     "kernelName": "csharp"
    },
    "vscode": {
     "languageId": "polyglot-notebook"
    }
   },
   "outputs": [
    {
     "data": {
      "text/markdown": [
       "Here are some events happening in Atlanta for the next four weekends:\n",
       "\n",
       "### January 4-5, 2025\n",
       "1. **IllumiNights at Zoo Atlanta**: An annual after-hours walk-through holiday lights show with a mile of illuminated animal lanterns. [Source: Go South Atlanta](https://gosouthatlanta.com/things-to-do/events/atlanta-in-january.html)\n",
       "2. **NuNu's Disco Birthday Brunch**: Celebrate with music and food. [Source: Eventbrite](https://www.eventbrite.com/d/ga--atlanta/2025/)\n",
       "\n",
       "### January 11-12, 2025\n",
       "1. **Last Podcast on the Left: JK Ultra Tour**: Comedy show at Atlanta Symphony Hall. [Source: Go South Atlanta](https://gosouthatlanta.com/things-to-do/events/atlanta-in-january.html)\n",
       "2. **ELEVATE: IGNITE CONNECTIONS FOR 2025**: A networking event at The Ritz-Carlton, Atlanta. [Source: Eventbrite](https://www.eventbrite.com/d/ga--atlanta/2025/)\n",
       "\n",
       "### January 18-19, 2025\n",
       "1. **Electric Avenue at Variety Playhouse**: Live music event. [Source: AllEvents.in](https://allevents.in/atlanta/january)\n",
       "2. **Fulton Lee at The Loft**: Concert performance. [Source: Songkick](https://www.songkick.com/metro-areas/4120-us-atlanta/january-2025)\n",
       "\n",
       "### January 25-26, 2025\n",
       "1. **Run With the Dogs**: Annual 5K and pet races in Decatur to benefit the Decatur Bulldogs Boosters. [Source: Go South Atlanta](https://gosouthatlanta.com/things-to-do/events/atlanta-in-january.html)\n",
       "2. **DJ DIESEL aka SHAQ at Believe Music Hall**: Music event. [Source: Eventbrite](https://www.eventbrite.com/d/ga--atlanta/concerts-2025/)\n",
       "\n",
       "These events offer a variety of entertainment options, from music and comedy to unique experiences in and around Atlanta."
      ]
     },
     "metadata": {},
     "output_type": "display_data"
    }
   ],
   "source": [
    "using Microsoft.DotNet.Interactive;\n",
    "using Microsoft.DotNet.Interactive.Formatting;\n",
    "\n",
    "output.LastMessage.DisplayAs(\"text/markdown\");\n"
   ]
  },
  {
   "cell_type": "markdown",
   "metadata": {},
   "source": [
    "## Clean Up"
   ]
  },
  {
   "cell_type": "code",
   "execution_count": 13,
   "metadata": {
    "dotnet_interactive": {
     "language": "csharp"
    },
    "polyglot_notebook": {
     "kernelName": "csharp"
    },
    "vscode": {
     "languageId": "polyglot-notebook"
    }
   },
   "outputs": [
    {
     "name": "stdout",
     "output_type": "stream",
     "text": [
      "Deleted assistant\r\n"
     ]
    }
   ],
   "source": [
    "var assistant = (await client.AssistantList())?.Data?.FirstOrDefault(o => o.Name == \"Web Search Test\");\n",
    "if(assistant != null) {\n",
    "    await client.AssistantDelete(assistant.Id);\n",
    "    Console.WriteLine(\"Deleted assistant\");\n",
    "}\n",
    "else\n",
    "{\n",
    "    Console.WriteLine(\"Didn't find MsGraphUserProfile\");\n",
    "}"
   ]
  }
 ],
 "metadata": {
  "kernelspec": {
   "display_name": ".NET (C#)",
   "language": "C#",
   "name": ".net-csharp"
  },
  "language_info": {
   "name": "python"
  },
  "polyglot_notebook": {
   "kernelInfo": {
    "defaultKernelName": "csharp",
    "items": [
     {
      "aliases": [],
      "name": "csharp"
     }
    ]
   }
  }
 },
 "nbformat": 4,
 "nbformat_minor": 2
}
