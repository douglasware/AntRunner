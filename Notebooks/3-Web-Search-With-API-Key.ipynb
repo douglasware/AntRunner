{
 "cells": [
  {
   "cell_type": "markdown",
   "metadata": {},
   "source": [
    "## Web Search Test\n",
    "The **Web Search Test** ant demonstrates the use of a Web API secured using an API key with an auth header. This sample requires you to create a Web Search (bing) resource in Azure and enter its corresponding API key in [0-AI-settings](0-AI-settings.ipynb)"
   ]
  },
  {
   "cell_type": "markdown",
   "metadata": {},
   "source": [
    "## First steps\n",
    "- First, download AntRunLib from Nuget\n",
    "- At least once, set up the environment using **[0-AI-settings](0-AI-settings.ipynb)**"
   ]
  },
  {
   "cell_type": "code",
   "execution_count": 1,
   "metadata": {
    "dotnet_interactive": {
     "language": "csharp"
    },
    "polyglot_notebook": {
     "kernelName": "csharp"
    },
    "vscode": {
     "languageId": "polyglot-notebook"
    }
   },
   "outputs": [
    {
     "data": {
      "text/html": [
       "<div><div></div><div></div><div><strong>Installed Packages</strong><ul><li><span>AntRunnerLib, 0.8.8</span></li></ul></div></div>"
      ]
     },
     "metadata": {},
     "output_type": "display_data"
    }
   ],
   "source": [
    "#r \"nuget: AntRunnerLib, 0.8.8\"\n",
    "\n",
    "using AntRunnerLib;\n",
    "using AntRunnerLib.Identity;\n",
    "using static AntRunnerLib.ClientUtility;\n",
    "using System.IO;\n",
    "\n",
    "#!import config/Settings.cs \n",
    "\n",
    "var envVariables = Settings.GetEnvironmentVariables();\n",
    "foreach (var kvp in envVariables)\n",
    "{\n",
    "    Environment.SetEnvironmentVariable(kvp.Key, kvp.Value);\n",
    "}\n",
    "\n",
    "var config = AzureOpenAiConfigFactory.Get();\n",
    "var client = GetOpenAiClient(config);\n"
   ]
  },
  {
   "cell_type": "markdown",
   "metadata": {},
   "source": [
    "## Ensure the Web Search Test assistant exists\n",
    "The definition of this assistant is located in the \".\\AssistantDefinitions\\Web Search Test\" folder\n",
    "\n",
    "\".\\AssistantDefinitions\\\" is a default path. You can override it by setting the **ASSISTANTS_BASE_FOLDER_PATH** environment variable.\n",
    "\n",
    "\"Web Search Test\" contains the following files:\n",
    "```\n",
    "│   instructions.md - The instructions\n",
    "│   manifest.json - The base assistant definition\n",
    "│\n",
    "└───OpenAPI\n",
    "        api.bing.microsoft.com.json - A swagger file defining a tool named 'crawl' that uses web search\n",
    "        auth.json - See below... \n",
    "```        \n",
    "\n",
    "## auth.json\n",
    "AntRunnerLib uses the instructions in this file to create the correct auth header(s) for the API. In this case, a header is added to the web request, **Ocp-Apim-Subscription-Key**, the header's value is supplied by an environment variable named, SEARCH_API_KEY. The environment variable name is user defined and ensuring it has a value is the responsibility of the application. \n",
    "\n",
    "```json\n",
    "{\n",
    "  \"hosts\": {\n",
    "    \"api.bing.microsoft.com\": {\n",
    "      \"auth_type\": \"service_http\",\n",
    "      \"header_name\": \"Ocp-Apim-Subscription-Key\",\n",
    "      \"header_value_env_var\": \"SEARCH_API_KEY\"\n",
    "    }\n",
    "  }\n",
    "}\n",
    "```\n",
    "\n",
    "### Explanation\n",
    "`AssistantUtility.Create` acts based on the contents of a folder structure following a convention laid out in these notebooks. In this case, it copied the contents of instructions.md into the assistant manifest.json. It also parsed the api.bing.microsoft.com swagger which follows an Open API schema into tool defintions for the assitant."
   ]
  },
  {
   "cell_type": "code",
   "execution_count": 2,
   "metadata": {
    "dotnet_interactive": {
     "language": "csharp"
    },
    "polyglot_notebook": {
     "kernelName": "csharp"
    },
    "vscode": {
     "languageId": "polyglot-notebook"
    }
   },
   "outputs": [
    {
     "name": "stdout",
     "output_type": "stream",
     "text": [
      "asst_ykcz4OI1x1CIlE1oHTsrSh8M\r\n"
     ]
    }
   ],
   "source": [
    "var assistantId = await AssistantUtility.Create(\"Web Search Test\", config);\n",
    "Console.WriteLine(assistantId)"
   ]
  },
  {
   "cell_type": "markdown",
   "metadata": {},
   "source": [
    "## Run the Assistant\n",
    "\n",
    "`output.Dialog` shows the conversation."
   ]
  },
  {
   "cell_type": "code",
   "execution_count": 3,
   "metadata": {
    "dotnet_interactive": {
     "language": "csharp"
    },
    "polyglot_notebook": {
     "kernelName": "csharp"
    },
    "vscode": {
     "languageId": "polyglot-notebook"
    }
   },
   "outputs": [
    {
     "data": {
      "text/markdown": [
       "\n",
       "User: Use python to get todays date and then use it to find things to do in Atlanta today. Be careful to not include events in the past in your final answer.\n",
       "\n",
       "Assistant: I ran this code:\n",
       "```\n",
       "from datetime import date\n",
       "\n",
       "# Get today's date\n",
       "today = date.today()\n",
       "today\n",
       "```\n",
       "\n",
       "I called the tool named crawl with these arguments:\n",
       "```\n",
       "{\n",
       "  \"q\": \"things to do in Atlanta on September 25, 2024\",\n",
       "  \"count\": 5,\n",
       "  \"textFormat\": \"HTML\"\n",
       "}\n",
       "```\n",
       "and got this result:\n",
       "```\n",
       "{\"queryContext\":{\"originalQuery\":\"things to do in Atlanta on September 25, 2024\"},\"webPages\":{\"value\":[{\"name\":\"Atlanta Events September 2024: Concerts, Shows, Sports...\",\"url\":\"https://atlanta-ga.events/september/\",\"displayUrl\":\"https://atlanta-ga.events/september\",\"snippet\":\"Check Out The Atlanta Events Calendar for September 2024. See the List Of All Current \\u0026amp; Upcoming Events at the Lowest Possible Price.\",\"cachedPageUrl\":\"http://cc.bingj.com/cache.aspx?q=things\\u002Bto\\u002Bdo\\u002Bin\\u002BAtlanta\\u002Bon\\u002BSeptember\\u002B25%2c\\u002B2024\\u0026d=4854189676169673\\u0026mkt=en-US\\u0026setlang=en-US\\u0026w=73iRaVHIvJefbkmdL1lCvH4mS1bjztOY\"},{\"name\":\"Cool Things To Do in September in Atlanta\",\"url\":\"https://discoveratlanta.com/stories/things-to-do/cool-things-to-do-in-september-in-atlanta/\",\"displayUrl\":\"https://discoveratlanta.com/stories/things-to-do/cool-things-to-do-in-september-in-atlanta\",\"snippet\":\"September is a great time to be in Atlanta. There are amazing festivals \\u2014 food and music \\u2014 Black Pride events and football. It is the perfect time to do a lot of cool things and enjoy life with family and friends \\u2014 or just by yourself.\",\"cachedPageUrl\":\"http://cc.bingj.com/cache.aspx?q=things\\u002Bto\\u002Bdo\\u002Bin\\u002BAtlanta\\u002Bon\\u002BSeptember\\u002B25%2c\\u002B2024\\u0026d=4692574352310340\\u0026mkt=en-US\\u0026setlang=en-US\\u0026w=c-5Oucqqe-FV74GkIkdoRE4k4vk9MNbJ\",\"thumbnailUrl\":\"https://www.bing.com/th?id=OIP.m0ENCio7ytS2o9PQRWDCRgHaD4\\u0026w=80\\u0026h=80\\u0026c=1\\u0026pid=5.1\"},{\"name\":\"Atlanta Events - September 2024 - Go South Atlanta\",\"url\":\"https://gosouthatlanta.com/things-to-do/events/atlanta-in-september.html\",\"displayUrl\":\"https://gosouthatlanta.com/things-to-do/events/atlanta-in-september.html\",\"snippet\":\"Atlanta Events - September 2024 Interested in a specific type of event? See Atlanta\\u2019s calendars of upcoming: \\u2013 Comedy shows \\u2013 Beer and wine festivals \\u2013 Music festivals \\u2013 Musicals \\u2013 Food festivals See also: \\u2013 Atlanta\\u2019s festival calendar \\u2013 Atlanta weather in September \\u2013 Things to do in Atlanta \\u2013 Best time of year to visit ...\",\"cachedPageUrl\":\"http://cc.bingj.com/cache.aspx?q=things\\u002Bto\\u002Bdo\\u002Bin\\u002BAtlanta\\u002Bon\\u002BSeptember\\u002B25%2c\\u002B2024\\u0026d=4712253893574850\\u0026mkt=en-US\\u0026setlang=en-US\\u0026w=aWkJWqw243Je4oOvzq1dGpeg_GE4sHjt\",\"thumbnailUrl\":\"https://www.bing.com/th?id=OIP.xm-3dn3hYJZHsVVU9WO5qwHaD4\\u0026w=80\\u0026h=80\\u0026c=1\\u0026pid=5.1\"},{\"name\":\"80\\u002B fall festivals \\u0026amp; fairs around metro Atlanta: Fun things to do in ...\",\"url\":\"https://www.atlantaonthecheap.com/fall-festivals-atlanta/\",\"displayUrl\":\"https://www.atlantaonthecheap.com/fall-festivals-atlanta\",\"snippet\":\"The best fall festivals in Atlanta and suburbs -- including festivals, fairs, and carnivals in September, October, and November.\",\"cachedPageUrl\":\"http://cc.bingj.com/cache.aspx?q=things\\u002Bto\\u002Bdo\\u002Bin\\u002BAtlanta\\u002Bon\\u002BSeptember\\u002B25%2c\\u002B2024\\u0026d=5012794228946274\\u0026mkt=en-US\\u0026setlang=en-US\\u0026w=AqqJM900-WHnjjGt9vluoyq1DPm6ofe-\",\"thumbnailUrl\":\"https://www.bing.com/th?id=OIP.w0-v0ll6eXl6tJfBd5-ovwHaEV\\u0026w=80\\u0026h=80\\u0026c=1\\u0026pid=5.1\"},{\"name\":\"The Best Things to Do in Atlanta in September\",\"url\":\"https://unexpectedatlanta.com/the-best-things-to-do-in-atlanta-in-september/\",\"displayUrl\":\"https://unexpectedatlanta.com/the-best-things-to-do-in-atlanta-in-september\",\"snippet\":\"June 19, 2024 Soak up the last of summer and celebrate the start of fall with the best things to do in Atlanta in September 2024!\",\"cachedPageUrl\":\"http://cc.bingj.com/cache.aspx?q=things\\u002Bto\\u002Bdo\\u002Bin\\u002BAtlanta\\u002Bon\\u002BSeptember\\u002B25%2c\\u002B2024\\u0026d=4781604727099753\\u0026mkt=en-US\\u0026setlang=en-US\\u0026w=X_Y32Shq0Tl-bHwGvtgeUoQiW0MCD0-O\",\"thumbnailUrl\":\"https://www.bing.com/th?id=OIP.BV6NvB-FhOL3LSCX1dcUJwHaHa\\u0026w=80\\u0026h=80\\u0026c=1\\u0026pid=5.1\"}]}}\n",
       "```\n",
       "\n",
       "Here are some things to do in Atlanta on September 25, 2024:\n",
       "\n",
       "1. **Atlanta Events Calendar for September 2024**\n",
       "   - Check out the list of all current and upcoming events at the lowest possible price. You can find concerts, shows, sports, and various other events.\n",
       "   - [Link to Atlanta Events Calendar](https://atlanta-ga.events/september/)\n",
       "\n",
       "2. **Cool Things To Do in September in Atlanta**\n",
       "   - September is a great time to be in Atlanta with amazing festivals, food and music events, Black Pride events, and football. Enjoy life with family and friends or just by yourself.\n",
       "   - [Link to Cool Things To Do in September](https://discoveratlanta.com/stories/things-to-do/cool-things-to-do-in-september-in-atlanta/)\n",
       "\n",
       "3. **Go South Atlanta Events - September 2024**\n",
       "   - Find specific types of events such as comedy shows, beer and wine festivals, music festivals, musicals, and food festivals.\n",
       "   - [Link to Go South Atlanta Events](https://gosouthatlanta.com/things-to-do/events/atlanta-in-september.html)\n",
       "\n",
       "4. **Fall Festivals & Fairs Around Metro Atlanta**\n",
       "   - Explore the best fall festivals in Atlanta and its suburbs, including festivals, fairs, and carnivals in September, October, and November.\n",
       "   - [Link to Fall Festivals & Fairs](https://www.atlantaonthecheap.com/fall-festivals-atlanta/)\n",
       "\n",
       "5. **The Best Things to Do in Atlanta in September**\n",
       "   - Soak up the last of summer and celebrate the start of fall with the best activities and events in Atlanta in September 2024.\n",
       "   - [Link to Best Things to Do in September](https://unexpectedatlanta.com/the-best-things-to-do-in-atlanta-in-september/)\n",
       "\n",
       "Enjoy your day in Atlanta!\n"
      ]
     },
     "metadata": {},
     "output_type": "display_data"
    }
   ],
   "source": [
    "var assistantRunOptions = new AssistantRunOptions() {\n",
    "    AssistantName = \"Web Search Test\",\n",
    "    Instructions = \"Use python to get todays date and then use it to find things to do in Atlanta today. Be careful to not include events in the past in your final answer.\",\n",
    "};\n",
    "var output = await AntRunnerLib.AssistantRunner.RunThread(assistantRunOptions, config);\n",
    "output.Dialog.DisplayAs(\"text/markdown\")"
   ]
  },
  {
   "cell_type": "code",
   "execution_count": 4,
   "metadata": {
    "dotnet_interactive": {
     "language": "csharp"
    },
    "polyglot_notebook": {
     "kernelName": "csharp"
    },
    "vscode": {
     "languageId": "polyglot-notebook"
    }
   },
   "outputs": [
    {
     "data": {
      "text/markdown": [
       "Here are some things to do in Atlanta on September 25, 2024:\n",
       "\n",
       "1. **Atlanta Events Calendar for September 2024**\n",
       "   - Check out the list of all current and upcoming events at the lowest possible price. You can find concerts, shows, sports, and various other events.\n",
       "   - [Link to Atlanta Events Calendar](https://atlanta-ga.events/september/)\n",
       "\n",
       "2. **Cool Things To Do in September in Atlanta**\n",
       "   - September is a great time to be in Atlanta with amazing festivals, food and music events, Black Pride events, and football. Enjoy life with family and friends or just by yourself.\n",
       "   - [Link to Cool Things To Do in September](https://discoveratlanta.com/stories/things-to-do/cool-things-to-do-in-september-in-atlanta/)\n",
       "\n",
       "3. **Go South Atlanta Events - September 2024**\n",
       "   - Find specific types of events such as comedy shows, beer and wine festivals, music festivals, musicals, and food festivals.\n",
       "   - [Link to Go South Atlanta Events](https://gosouthatlanta.com/things-to-do/events/atlanta-in-september.html)\n",
       "\n",
       "4. **Fall Festivals & Fairs Around Metro Atlanta**\n",
       "   - Explore the best fall festivals in Atlanta and its suburbs, including festivals, fairs, and carnivals in September, October, and November.\n",
       "   - [Link to Fall Festivals & Fairs](https://www.atlantaonthecheap.com/fall-festivals-atlanta/)\n",
       "\n",
       "5. **The Best Things to Do in Atlanta in September**\n",
       "   - Soak up the last of summer and celebrate the start of fall with the best activities and events in Atlanta in September 2024.\n",
       "   - [Link to Best Things to Do in September](https://unexpectedatlanta.com/the-best-things-to-do-in-atlanta-in-september/)\n",
       "\n",
       "Enjoy your day in Atlanta!"
      ]
     },
     "metadata": {},
     "output_type": "display_data"
    }
   ],
   "source": [
    "output.LastMessage.DisplayAs(\"text/markdown\");"
   ]
  },
  {
   "cell_type": "code",
   "execution_count": 5,
   "metadata": {
    "dotnet_interactive": {
     "language": "csharp"
    },
    "polyglot_notebook": {
     "kernelName": "csharp"
    },
    "vscode": {
     "languageId": "polyglot-notebook"
    }
   },
   "outputs": [
    {
     "data": {
      "text/markdown": [
       "\n",
       "User: Use python to get todays date and then use it to find things to do in Atlanta for each of the next four weekends. Be careful to not include events in the past in your final answer. You should perform four searches at once.\n",
       "\n",
       "Assistant: I ran this code:\n",
       "```\n",
       "from datetime import datetime, timedelta\n",
       "\n",
       "# Get today's date\n",
       "today = datetime.today()\n",
       "\n",
       "# Calculate dates for the next four weekends\n",
       "weekend_dates = []\n",
       "for i in range(4):\n",
       "    # Find the next Saturday\n",
       "    next_saturday = today + timedelta((5 - today.weekday()) % 7 + i * 7)\n",
       "    weekend_dates.append(next_saturday)\n",
       "\n",
       "weekend_dates\n",
       "```\n",
       "\n",
       "I called the tool named crawl with these arguments:\n",
       "```\n",
       "{\"q\": \"things to do in Atlanta September 28 2024\", \"textFormat\": \"HTML\"}\n",
       "```\n",
       "and got this result:\n",
       "```\n",
       "{\"queryContext\":{\"originalQuery\":\"things to do in Atlanta September 28 2024\"},\"webPages\":{\"value\":[{\"name\":\"Cool Things To Do in September in Atlanta\",\"url\":\"https://discoveratlanta.com/stories/things-to-do/cool-things-to-do-in-september-in-atlanta/\",\"displayUrl\":\"https://discoveratlanta.com/stories/things-to-do/cool-things-to-do-in-september-in-atlanta\",\"snippet\":\"Find out what\\u0026#39;s happening in Atlanta in September 2023, from food festivals and burger battles to haunted attractions and music festivals. Whether you\\u0026#39;re into art, culture, nature or sports, there\\u0026#39;s something for everyone in this guide.\",\"cachedPageUrl\":\"http://cc.bingj.com/cache.aspx?q=things\\u002Bto\\u002Bdo\\u002Bin\\u002BAtlanta\\u002BSeptember\\u002B28\\u002B2024\\u0026d=4692574351720481\\u0026mkt=en-US\\u0026setlang=en-US\\u0026w=IyKVbCksY9VV74GkIkdoRE4k4vk9MNbJ\",\"thumbnailUrl\":\"https://www.bing.com/th?id=OIP.m0ENCio7ytS2o9PQRWDCRgHaD4\\u0026w=80\\u0026h=80\\u0026c=1\\u0026pid=5.1\"},{\"name\":\"Atlanta Events September 2024: Concerts, Shows, Sports...\",\"url\":\"https://atlanta-ga.events/september/\",\"displayUrl\":\"https://atlanta-ga.events/september\",\"snippet\":\"Find out what\\u0026#39;s happening in Atlanta in September 2024, from golf tournaments and circus shows to comedy and music festivals. Browse the list of events by date, category, venue and price, and book your tickets online.\",\"cachedPageUrl\":\"http://cc.bingj.com/cache.aspx?q=things\\u002Bto\\u002Bdo\\u002Bin\\u002BAtlanta\\u002BSeptember\\u002B28\\u002B2024\\u0026d=4854189675467386\\u0026mkt=en-US\\u0026setlang=en-US\\u0026w=ShlkdiIwTMefbkmdL1lCvH4mS1bjztOY\"},{\"name\":\"Events and Things to Do in Atlanta GA this from 2024-09-28 to 2024-09-29\",\"url\":\"https://eventcartel.com/events/all-categories/atlanta/from_2024-09-28_to_2024-09-29\",\"displayUrl\":\"https://eventcartel.com/events/all-categories/atlanta/from_2024-09-28_to_2024-09-29\",\"snippet\":\"Explore a wide range of events and things to do from 2024-09-28 to 2024-09-29 tailored to offer you the best in entertainment and fun things to do in Atlanta. Whether you\\u2019re interested in the latest concerts, theater shows, or other local events happening from 2024-09-28 to 2024-09-29, everything you need is just a few clicks away.\",\"cachedPageUrl\":\"http://cc.bingj.com/cache.aspx?q=things\\u002Bto\\u002Bdo\\u002Bin\\u002BAtlanta\\u002BSeptember\\u002B28\\u002B2024\\u0026d=593829212581\\u0026mkt=en-US\\u0026setlang=en-US\\u0026w=ArLA-810ZZkaWFgm_VL8k_3YAMhRPChX\"},{\"name\":\"Atlanta Events - September 2024 - Go South Atlanta\",\"url\":\"https://gosouthatlanta.com/things-to-do/events/atlanta-in-september.html\",\"displayUrl\":\"https://gosouthatlanta.com/things-to-do/events/atlanta-in-september.html\",\"snippet\":\"Find out what\\u0026#39;s happening in Atlanta in September 2024, from festivals and concerts to comedy and sports. See dates, venues and details for events such as Dragon Con, Atlanta Food \\u0026amp; Wine Festival, Atlanta Ballet and more.\",\"cachedPageUrl\":\"http://cc.bingj.com/cache.aspx?q=things\\u002Bto\\u002Bdo\\u002Bin\\u002BAtlanta\\u002BSeptember\\u002B28\\u002B2024\\u0026d=4712253893443652\\u0026mkt=en-US\\u0026setlang=en-US\\u0026w=-nsAOlbynJFe4oOvzq1dGpeg_GE4sHjt\",\"thumbnailUrl\":\"https://www.bing.com/th?id=OIP.xm-3dn3hYJZHsVVU9WO5qwHaD4\\u0026w=80\\u0026h=80\\u0026c=1\\u0026pid=5.1\"},{\"name\":\"80\\u002B fall festivals \\u0026amp; fairs around metro Atlanta: Fun things to do in ...\",\"url\":\"https://www.atlantaonthecheap.com/fall-festivals-atlanta/\",\"displayUrl\":\"https://www.atlantaonthecheap.com/fall-festivals-atlanta\",\"snippet\":\"Find out the best fall festivals in Atlanta in 2024, from Labor Day Weekend to Thanksgiving. Enjoy carnival rides, music, arts, food, and more at state and county fairs, harvest celebrations, and cultural events.\",\"cachedPageUrl\":\"http://cc.bingj.com/cache.aspx?q=things\\u002Bto\\u002Bdo\\u002Bin\\u002BAtlanta\\u002BSeptember\\u002B28\\u002B2024\\u0026d=5012794228740299\\u0026mkt=en-US\\u0026setlang=en-US\\u0026w=xfpymjtTccXnjjGt9vluoyq1DPm6ofe-\",\"thumbnailUrl\":\"https://www.bing.com/th?id=OIP.w0-v0ll6eXl6tJfBd5-ovwHaEV\\u0026w=80\\u0026h=80\\u0026c=1\\u0026pid=5.1\"},{\"name\":\"20 Spectacular Things To Do This September In Atlanta - Secret Atlanta\",\"url\":\"https://secretatlanta.co/things-to-do-september/\",\"displayUrl\":\"https://secretatlanta.co/things-to-do-september\",\"snippet\":\"There\\u2019s so much going on in Atlanta this September, so keep scrolling for our monthly round-up of unmissable things to do in the city. Now it\\u2019s time to enjoy the remainder of summer and get ready for the exciting season change that\\u2019s just around the corner! 1. Take a journey into the tragic past with Titanic: An Immersive Voyage\",\"cachedPageUrl\":\"http://cc.bingj.com/cache.aspx?q=things\\u002Bto\\u002Bdo\\u002Bin\\u002BAtlanta\\u002BSeptember\\u002B28\\u002B2024\\u0026d=4724958405090999\\u0026mkt=en-US\\u0026setlang=en-US\\u0026w=HkmWmkX0emVkqeBkOazQ7cCeg5xgwMQ3\",\"thumbnailUrl\":\"https://www.bing.com/th?id=OIP.mwxBnPRtbggmsDGaNhGACQHaE8\\u0026w=80\\u0026h=80\\u0026c=1\\u0026pid=5.1\"},{\"name\":\"The Best Things to Do in Atlanta in September\",\"url\":\"https://unexpectedatlanta.com/the-best-things-to-do-in-atlanta-in-september/\",\"displayUrl\":\"https://unexpectedatlanta.com/the-best-things-to-do-in-atlanta-in-september\",\"snippet\":\"Find out the best events, concerts, sports, festivals, and activities in Atlanta in September 2024. From Soul food and culture to apple-picking and sunflowers, enjoy the last of summer and the start of fall in the city.\",\"cachedPageUrl\":\"http://cc.bingj.com/cache.aspx?q=things\\u002Bto\\u002Bdo\\u002Bin\\u002BAtlanta\\u002BSeptember\\u002B28\\u002B2024\\u0026d=4781604725337408\\u0026mkt=en-US\\u0026setlang=en-US\\u0026w=L1hd-5qzDrt-bHwGvtgeUoQiW0MCD0-O\",\"thumbnailUrl\":\"https://www.bing.com/th?id=OIP.BV6NvB-FhOL3LSCX1dcUJwHaHa\\u0026w=80\\u0026h=80\\u0026c=1\\u0026pid=5.1\"},{\"name\":\"Fall festivals in metro Atlanta and North Georgia | 2024\",\"url\":\"https://www.fox5atlanta.com/news/fall-festivals-metro-atlanta-north-georgia-2024\",\"displayUrl\":\"https://www.fox5atlanta.com/news/fall-festivals-metro-atlanta-north-georgia-2024\",\"snippet\":\"ATLANTA - This is a list of upcoming fall festivals in metro Atlanta and North Georgia: September: North Georgia State Fair. When: ... Sept. 27-28, 2024; ... Taste of Atlanta. When: Oct. 18-20, 2024;\",\"cachedPageUrl\":\"http://cc.bingj.com/cache.aspx?q=things\\u002Bto\\u002Bdo\\u002Bin\\u002BAtlanta\\u002BSeptember\\u002B28\\u002B2024\\u0026d=2173865470069\\u0026mkt=en-US\\u0026setlang=en-US\\u0026w=jxnOnRj04ciRcKNV8UVNHXKEd0PX1nap\"},{\"name\":\"Atlanta September 2024: Events, Concerts, Clubs \\u0026amp; Things to Do - Experism\",\"url\":\"https://www.experism.com/atlanta/september\",\"displayUrl\":\"https://www.experism.com/atlanta/september\",\"snippet\":\"Sep 28-29, 2024 312 Irwin St NE View on Map. Play Video. ... Things to Do in Atlanta in September Check Out Krog Street Tunnel Krog Street Tunnel is a tunnel in Atlanta that links the Cabbagetown, Reynoldstown, and Inman Park neighborhoods. It is popularly used by cyclists, but is mainly known for being filled with cool graffiti art. ...\",\"cachedPageUrl\":\"http://cc.bingj.com/cache.aspx?q=things\\u002Bto\\u002Bdo\\u002Bin\\u002BAtlanta\\u002BSeptember\\u002B28\\u002B2024\\u0026d=4642636760352967\\u0026mkt=en-US\\u0026setlang=en-US\\u0026w=CrMoojBamU4_Ok9mubm7deAiSBD33s7x\",\"thumbnailUrl\":\"https://www.bing.com/th?id=OIP.opEpXe5xeSIGAQVvWLFBbAHaEK\\u0026w=80\\u0026h=80\\u0026c=1\\u0026pid=5.1\"},{\"name\":\"Things to do in Atlanta this weekend: Sept. 20-22 - The Atlanta Journal ...\",\"url\":\"https://www.ajc.com/things-to-do/things-to-do-in-atlanta-this-weekend-sept-20-22/JRRVFRDW6ZA6TFL4TIFEC6YUGY/\",\"displayUrl\":\"https://www.ajc.com/things-to-do/things-to-do-in-atlanta-this-weekend-sept-20-22/...\",\"snippet\":\"JapanFest Atlanta 10 a.m.-6 p.m. Saturday, Sept. 21, and 10 a.m.-5 p.m. Sunday, Sept. 22. $16 through Sept. 20, $20 at the door, military and seniors $16 at the door, children six and under free ...\",\"cachedPageUrl\":\"http://cc.bingj.com/cache.aspx?q=things\\u002Bto\\u002Bdo\\u002Bin\\u002BAtlanta\\u002BSeptember\\u002B28\\u002B2024\\u0026d=2930586068673\\u0026mkt=en-US\\u0026setlang=en-US\\u0026w=LcstyMFQJhdEt96Av-nymtep_buw2IS2\"}]}}\n",
       "```\n",
       "\n",
       "I called the tool named crawl with these arguments:\n",
       "```\n",
       "{\"q\": \"things to do in Atlanta October 5 2024\", \"textFormat\": \"HTML\"}\n",
       "```\n",
       "and got this result:\n",
       "```\n",
       "{\"queryContext\":{\"originalQuery\":\"things to do in Atlanta October 5 2024\"},\"webPages\":{\"value\":[{\"name\":\"Atlanta Events - October 2024 - Go South Atlanta\",\"url\":\"https://gosouthatlanta.com/things-to-do/events/atlanta-in-october.html\",\"displayUrl\":\"https://gosouthatlanta.com/things-to-do/events/atlanta-in-october.html\",\"snippet\":\"Wrestling event at State Farm Arena. More details. \\u2013 Festival on Ponce, October 5-6 2024. Twice-annual arts festival in Olmsted Linear Park, with 125\\u002B vendors of fine art, folk art and outsider art, plus food and drink, and children\\u2019s activities. More details. \\u2013 Candler Park Fall Fest, October 5-6 2024.\",\"cachedPageUrl\":\"http://cc.bingj.com/cache.aspx?q=things\\u002Bto\\u002Bdo\\u002Bin\\u002BAtlanta\\u002BOctober\\u002B5\\u002B2024\\u0026d=4907344187564116\\u0026mkt=en-US\\u0026setlang=en-US\\u0026w=DKKAeoP_3oe3mkDLUvcm_m1afK8iBTpt\"},{\"name\":\"Atlanta Events October 2024: Concerts, Shows, Sports...\",\"url\":\"https://atlanta-ga.events/october/\",\"displayUrl\":\"https://atlanta-ga.events/october\",\"snippet\":\"Explore our comprehensive calendar for all the current and upcoming events in Atlanta, GA, for October 2024. This guide is your gateway to discovering the best things to do in Atlanta, from Concerts and Theater Shows to Sports events and music festivals. You\\u2019ll find a detailed list of all the most engaging and exciting activities happening throughout the month.\",\"cachedPageUrl\":\"http://cc.bingj.com/cache.aspx?q=things\\u002Bto\\u002Bdo\\u002Bin\\u002BAtlanta\\u002BOctober\\u002B5\\u002B2024\\u0026d=4898908879865838\\u0026mkt=en-US\\u0026setlang=en-US\\u0026w=vC_zzFLZ91uzxHogtJy0oBuKycEPAm_-\"},{\"name\":\"Cool Things To Do in October in Atlanta\",\"url\":\"https://discoveratlanta.com/stories/things-to-do/cool-things-to-do-in-october-in-atlanta/\",\"displayUrl\":\"https://discoveratlanta.com/stories/things-to-do/cool-things-to-do-in-october-in-atlanta\",\"snippet\":\"Corn Dogs, Rides and Whack a Mole. The Atlanta Fair brings the best of a traditional fair to Atlanta with everything from cotton candy, a Ferris wheel, fishing for goldfish, a tilt-a-whirl and a carousel. The fair, located across from the Georgia State University Stadium, will be in town Oct. 4-Nov. 3. Read More.\",\"cachedPageUrl\":\"http://cc.bingj.com/cache.aspx?q=things\\u002Bto\\u002Bdo\\u002Bin\\u002BAtlanta\\u002BOctober\\u002B5\\u002B2024\\u0026d=4714289705734711\\u0026mkt=en-US\\u0026setlang=en-US\\u0026w=6a-yO_DfCUxfz-dx9C91WDDECk49pD7V\",\"thumbnailUrl\":\"https://www.bing.com/th?id=OIP.4jf9xqKu3QRk_XhZ3J7DYQHaD4\\u0026w=80\\u0026h=80\\u0026c=1\\u0026pid=5.1\"},{\"name\":\"80\\u002B fall festivals \\u0026amp; fairs around metro Atlanta: Fun things to do in ...\",\"url\":\"https://www.atlantaonthecheap.com/fall-festivals-atlanta/\",\"displayUrl\":\"https://www.atlantaonthecheap.com/fall-festivals-atlanta\",\"snippet\":\"October 5, 2024 Town Center Park Suwanee FREE admission. This all-day music festival takes place in downtown Suwanee. Admission, parking, and entertainment is free. The BBQ tasting tickets s are $1 each, and each taste requires one to four tickets. You can also buy a full plated barbecue meal. There is also a kids fun area and an artist market.\",\"cachedPageUrl\":\"http://cc.bingj.com/cache.aspx?q=things\\u002Bto\\u002Bdo\\u002Bin\\u002BAtlanta\\u002BOctober\\u002B5\\u002B2024\\u0026d=5012794228740299\\u0026mkt=en-US\\u0026setlang=en-US\\u0026w=xfpymjtTccXnjjGt9vluoyq1DPm6ofe-\",\"thumbnailUrl\":\"https://www.bing.com/th?id=OIP.w0-v0ll6eXl6tJfBd5-ovwHaEV\\u0026w=80\\u0026h=80\\u0026c=1\\u0026pid=5.1\"},{\"name\":\"26 Thrilling Things To Do In Atlanta This October - Secret Atlanta\",\"url\":\"https://secretatlanta.co/things-to-do-october/\",\"displayUrl\":\"https://secretatlanta.co/things-to-do-october\",\"snippet\":\"Without further ado, here are 26 incredible things to do in Atlanta this October! 1. ... September 20, 2024. 18 Frightfully Fun Halloween Events Happening In Atlanta. September 20, 2024. This Creepy Corn Maze In Buford Comes Alive With Spooks \\u0026amp; Haunts At Sunset.\",\"cachedPageUrl\":\"http://cc.bingj.com/cache.aspx?q=things\\u002Bto\\u002Bdo\\u002Bin\\u002BAtlanta\\u002BOctober\\u002B5\\u002B2024\\u0026d=4673096676868625\\u0026mkt=en-US\\u0026setlang=en-US\\u0026w=BDZ6Krx8ATVNFCQACSuK0PesDCkO7vK5\",\"thumbnailUrl\":\"https://www.bing.com/th?id=OIP.oVWYpGkEV4zoUw2uzcrcYgHaD6\\u0026w=80\\u0026h=80\\u0026c=1\\u0026pid=5.1\"},{\"name\":\"Atlanta in October | Concerts, Festivals, Tickets \\u0026amp; Tour Dates - Songkick\",\"url\":\"https://www.songkick.com/metro-areas/4120-us-atlanta/october-2024\",\"displayUrl\":\"https://www.songkick.com/metro-areas/4120-us-atlanta/october-2024\",\"snippet\":\"Concerts in Atlanta in October. Find tickets to all live music, concerts, tour dates and festivals in and around Atlanta. Currently there are 564 upcoming events. Filter by artist. ... Tuesday 01 October 2024; The Used Plain White T\\u0026#39;s and Raue. The Eastern, Atlanta, GA, US . M. Ward Folk Bitch Trio. Terminal West, Atlanta, GA, US . Todd ...\",\"cachedPageUrl\":\"http://cc.bingj.com/cache.aspx?q=things\\u002Bto\\u002Bdo\\u002Bin\\u002BAtlanta\\u002BOctober\\u002B5\\u002B2024\\u0026d=4726551829817777\\u0026mkt=en-US\\u0026setlang=en-US\\u0026w=GyNsJVWjOONlYyuTqLMEVsVddRXByGfo\"},{\"name\":\"Atlanta October 2024: Events, Concerts, Clubs \\u0026amp; Things to Do - Experism\",\"url\":\"https://www.experism.com/atlanta/october\",\"displayUrl\":\"https://www.experism.com/atlanta/october\",\"snippet\":\"Atlanta Horror Film Festival. Oct 4-6, 2024 Limelight Theater View on Map. You are cordially invited to the 18th Annual Atlanta Horror Film Festival held at Limelight Theater from October 4 - 6, 2024. Don\\u0026#39;t miss this spooktacular collection of the best indie horror films from across the globe, including world premieres, short films, animation ...\",\"cachedPageUrl\":\"http://cc.bingj.com/cache.aspx?q=things\\u002Bto\\u002Bdo\\u002Bin\\u002BAtlanta\\u002BOctober\\u002B5\\u002B2024\\u0026d=5050860516094956\\u0026mkt=en-US\\u0026setlang=en-US\\u0026w=OllQT5kZyN343ZtIpGRATFj2b4uP5Oth\",\"thumbnailUrl\":\"https://www.bing.com/th?id=OIP.8x_jPSRdmgimGRTNJq3pngAAAA\\u0026w=80\\u0026h=80\\u0026c=1\\u0026pid=5.1\"},{\"name\":\"Atlanta Festival Calendar: 2024\",\"url\":\"https://unexpectedatlanta.com/atlanta-festival-calendar-2024/\",\"displayUrl\":\"https://unexpectedatlanta.com/atlanta-festival-calendar-2024\",\"snippet\":\"Atlanta Jazz Festival \\u2013 May 25-27, 2024. Held in Piedmont Park, the Atlanta Jazz Festival is an annual celebration of music, culture, and the art of Jazz. Free to all who join, this Memorial Day Weekend event draws fans, professional musicians, and everyone in between, for a 3-day-long festival showcasing 15\\u002B artists.\",\"cachedPageUrl\":\"http://cc.bingj.com/cache.aspx?q=things\\u002Bto\\u002Bdo\\u002Bin\\u002BAtlanta\\u002BOctober\\u002B5\\u002B2024\\u0026d=4520195830737555\\u0026mkt=en-US\\u0026setlang=en-US\\u0026w=Y_UYHSuQi3QHjG8exIRi2zfYmaaF9rTA\",\"thumbnailUrl\":\"https://www.bing.com/th?id=OIP.8LvXI6tOuWvo9KZdL-C3MwHaHa\\u0026w=80\\u0026h=80\\u0026c=1\\u0026pid=5.1\"},{\"name\":\"The Best Things to Do in Atlanta in October\",\"url\":\"https://unexpectedatlanta.com/the-best-things-to-do-in-atlanta-in-october/\",\"displayUrl\":\"https://unexpectedatlanta.com/the-best-things-to-do-in-atlanta-in-october\",\"snippet\":\"Catch Ilana Glazer at the Tabernacle on October 23, 2023. Best known for her role as Ilana Wexler in Broad City, Glazer\\u2019s live comedy has been called bold, delving into modern social and political issues with unapologetic, empowering, and satirical takes. Plus, catch Nick Offerman at Atlanta Symphony Hall.\",\"cachedPageUrl\":\"http://cc.bingj.com/cache.aspx?q=things\\u002Bto\\u002Bdo\\u002Bin\\u002BAtlanta\\u002BOctober\\u002B5\\u002B2024\\u0026d=4733754493195045\\u0026mkt=en-US\\u0026setlang=en-US\\u0026w=wJ10aadQT5xoqbb3_3asNbrAJ_n6Hq4i\",\"thumbnailUrl\":\"https://www.bing.com/th?id=OIP.lEMypzNNWpS-6tdPg0Hm1gHaHa\\u0026w=80\\u0026h=80\\u0026c=1\\u0026pid=5.1\"},{\"name\":\"Atlanta Fall Festivals - Things to Do in September, October \\u0026amp; November ...\",\"url\":\"https://discoveratlanta.com/events/festivals/fall/\",\"displayUrl\":\"https://discoveratlanta.com/events/festivals/fall\",\"snippet\":\"Discover More. Get to know Atlanta, and discover the best things to do around the city. Explore Atlanta fall festivals taking place in September, October and November such as Dragoncon, Music Midtown, TomorrowWorld, Taste of Atlanta and more.\",\"cachedPageUrl\":\"http://cc.bingj.com/cache.aspx?q=things\\u002Bto\\u002Bdo\\u002Bin\\u002BAtlanta\\u002BOctober\\u002B5\\u002B2024\\u0026d=4547043673964583\\u0026mkt=en-US\\u0026setlang=en-US\\u0026w=rUSMLT6fDjcTwYIwxkPWlywP6tlDYeyB\",\"thumbnailUrl\":\"https://www.bing.com/th?id=OIP.0_XUFlRnb6M8sx27mihKcQHaEK\\u0026w=80\\u0026h=80\\u0026c=1\\u0026pid=5.1\"}]}}\n",
       "```\n",
       "\n",
       "I called the tool named crawl with these arguments:\n",
       "```\n",
       "{\"q\": \"things to do in Atlanta October 12 2024\", \"textFormat\": \"HTML\"}\n",
       "```\n",
       "and got this result:\n",
       "```\n",
       "{\"queryContext\":{\"originalQuery\":\"things to do in Atlanta October 12 2024\"},\"webPages\":{\"value\":[{\"name\":\"Atlanta Events - October 2024 | Go South Atlanta\",\"url\":\"https://gosouthatlanta.com/things-to-do/events/atlanta-in-october.html\",\"displayUrl\":\"https://gosouthatlanta.com/things-to-do/events/atlanta-in-october.html\",\"snippet\":\"Wrestling event at State Farm Arena. More details. \\u2013 Festival on Ponce, October 5-6 2024. Twice-annual arts festival in Olmsted Linear Park, with 125\\u002B vendors of fine art, folk art and outsider art, plus food and drink, and children\\u2019s activities. More details. \\u2013 Candler Park Fall Fest, October 5-6 2024.\",\"cachedPageUrl\":\"http://cc.bingj.com/cache.aspx?q=things\\u002Bto\\u002Bdo\\u002Bin\\u002BAtlanta\\u002BOctober\\u002B12\\u002B2024\\u0026d=4907344187949765\\u0026mkt=en-US\\u0026setlang=en-US\\u0026w=jtKzhu3KOsa3mkDLUvcm_m1afK8iBTpt\"},{\"name\":\"Atlanta Events October 2024: Concerts, Shows, Sports...\",\"url\":\"https://atlanta-ga.events/october/\",\"displayUrl\":\"https://atlanta-ga.events/october\",\"snippet\":\"Explore our comprehensive calendar for all the current and upcoming events in Atlanta, GA, for October 2024. This guide is your gateway to discovering the best things to do in Atlanta, from Concerts and Theater Shows to Sports events and music festivals. You\\u2019ll find a detailed list of all the most engaging and exciting activities happening throughout the month.\",\"cachedPageUrl\":\"http://cc.bingj.com/cache.aspx?q=things\\u002Bto\\u002Bdo\\u002Bin\\u002BAtlanta\\u002BOctober\\u002B12\\u002B2024\\u0026d=4898908879865838\\u0026mkt=en-US\\u0026setlang=en-US\\u0026w=vC_zzFLZ91uzxHogtJy0oBuKycEPAm_-\"},{\"name\":\"Cool Things To Do in October in Atlanta\",\"url\":\"https://discoveratlanta.com/stories/things-to-do/cool-things-to-do-in-october-in-atlanta/\",\"displayUrl\":\"https://discoveratlanta.com/stories/things-to-do/cool-things-to-do-in-october-in-atlanta\",\"snippet\":\"Corn Dogs, Rides and Whack a Mole. The Atlanta Fair brings the best of a traditional fair to Atlanta with everything from cotton candy, a Ferris wheel, fishing for goldfish, a tilt-a-whirl and a carousel. The fair, located across from the Georgia State University Stadium, will be in town Oct. 4-Nov. 3. Read More.\",\"cachedPageUrl\":\"http://cc.bingj.com/cache.aspx?q=things\\u002Bto\\u002Bdo\\u002Bin\\u002BAtlanta\\u002BOctober\\u002B12\\u002B2024\\u0026d=4714289705734711\\u0026mkt=en-US\\u0026setlang=en-US\\u0026w=6a-yO_DfCUxfz-dx9C91WDDECk49pD7V\",\"thumbnailUrl\":\"https://www.bing.com/th?id=OIP.4jf9xqKu3QRk_XhZ3J7DYQHaD4\\u0026w=80\\u0026h=80\\u0026c=1\\u0026pid=5.1\"},{\"name\":\"80\\u002B fall festivals \\u0026amp; fairs around metro Atlanta: Fun things to do in ...\",\"url\":\"https://www.atlantaonthecheap.com/fall-festivals-atlanta/\",\"displayUrl\":\"https://www.atlantaonthecheap.com/fall-festivals-atlanta\",\"snippet\":\"October 12 and 13, 2024 October 19 and 20, 2024 Ellijay, GA . This is one of the few festivals outside metro Atlanta we include. It takes place in North Georgia, over two weekends in October. Spend a day on the farm, pick your own apples, visit over 100 vendor booths for arts, crafts, and apple-based food items. Well worth the drive!\",\"cachedPageUrl\":\"http://cc.bingj.com/cache.aspx?q=things\\u002Bto\\u002Bdo\\u002Bin\\u002BAtlanta\\u002BOctober\\u002B12\\u002B2024\\u0026d=5012794228946274\\u0026mkt=en-US\\u0026setlang=en-US\\u0026w=AqqJM900-WHnjjGt9vluoyq1DPm6ofe-\",\"thumbnailUrl\":\"https://www.bing.com/th?id=OIP.w0-v0ll6eXl6tJfBd5-ovwHaEV\\u0026w=80\\u0026h=80\\u0026c=1\\u0026pid=5.1\"},{\"name\":\"Fall festivals in metro Atlanta and North Georgia | 2024\",\"url\":\"https://www.fox5atlanta.com/news/fall-festivals-metro-atlanta-north-georgia-2024\",\"displayUrl\":\"https://www.fox5atlanta.com/news/fall-festivals-metro-atlanta-north-georgia-2024\",\"snippet\":\"When: Oct. 12-15, 2024 Where : Piedmont Park, Atlanta What : One of the largest LGBTQ\\u002B pride events in the Southeast, featuring a parade, live performances, food, and family-friendly activities.\",\"cachedPageUrl\":\"http://cc.bingj.com/cache.aspx?q=things\\u002Bto\\u002Bdo\\u002Bin\\u002BAtlanta\\u002BOctober\\u002B12\\u002B2024\\u0026d=2173865470069\\u0026mkt=en-US\\u0026setlang=en-US\\u0026w=jxnOnRj04ciRcKNV8UVNHXKEd0PX1nap\"},{\"name\":\"Atlanta October 2024: Events, Concerts, Clubs \\u0026amp; Things to Do | Experism\",\"url\":\"https://www.experism.com/atlanta/october\",\"displayUrl\":\"https://www.experism.com/atlanta/october\",\"snippet\":\"Atlanta Horror Film Festival. Oct 4-6, 2024 Limelight Theater View on Map. You are cordially invited to the 18th Annual Atlanta Horror Film Festival held at Limelight Theater from October 4 - 6, 2024. Don\\u0026#39;t miss this spooktacular collection of the best indie horror films from across the globe, including world premieres, short films, animation ...\",\"cachedPageUrl\":\"http://cc.bingj.com/cache.aspx?q=things\\u002Bto\\u002Bdo\\u002Bin\\u002BAtlanta\\u002BOctober\\u002B12\\u002B2024\\u0026d=5050860516094956\\u0026mkt=en-US\\u0026setlang=en-US\\u0026w=OllQT5kZyN343ZtIpGRATFj2b4uP5Oth\",\"thumbnailUrl\":\"https://www.bing.com/th?id=OIP.8x_jPSRdmgimGRTNJq3pngAAAA\\u0026w=80\\u0026h=80\\u0026c=1\\u0026pid=5.1\"},{\"name\":\"26 Thrilling Things To Do In Atlanta This October | Secret Atlanta\",\"url\":\"https://secretatlanta.co/things-to-do-october/\",\"displayUrl\":\"https://secretatlanta.co/things-to-do-october\",\"snippet\":\"Without further ado, here are 26 incredible things to do in Atlanta this October! 1. ... Check out our full list of great Atlanta hikes here! 12. ... September 20, 2024. 18 Frightfully Fun Halloween Events Happening In Atlanta. September 20, 2024 ...\",\"cachedPageUrl\":\"http://cc.bingj.com/cache.aspx?q=things\\u002Bto\\u002Bdo\\u002Bin\\u002BAtlanta\\u002BOctober\\u002B12\\u002B2024\\u0026d=4673096676868625\\u0026mkt=en-US\\u0026setlang=en-US\\u0026w=BDZ6Krx8ATVNFCQACSuK0PesDCkO7vK5\",\"thumbnailUrl\":\"https://www.bing.com/th?id=OIP.oVWYpGkEV4zoUw2uzcrcYgHaD6\\u0026w=80\\u0026h=80\\u0026c=1\\u0026pid=5.1\"},{\"name\":\"Atlanta Festival Calendar: 2024\",\"url\":\"https://unexpectedatlanta.com/atlanta-festival-calendar-2024/\",\"displayUrl\":\"https://unexpectedatlanta.com/atlanta-festival-calendar-2024\",\"snippet\":\"This experience was named by Conde Nast as one of the best things to do in Atlanta! February Festivals in Atlanta Atlanta Winter Beer Festival \\u2013 February 10, 2024 ... October 12-13, 2024. The Atlanta Pride Festival and Parade is a vibrant event that celebrates and supports the LGBTQ\\u002B community. By attending, be a part of a joyful and ...\",\"cachedPageUrl\":\"http://cc.bingj.com/cache.aspx?q=things\\u002Bto\\u002Bdo\\u002Bin\\u002BAtlanta\\u002BOctober\\u002B12\\u002B2024\\u0026d=4520195830737555\\u0026mkt=en-US\\u0026setlang=en-US\\u0026w=Y_UYHSuQi3QHjG8exIRi2zfYmaaF9rTA\",\"thumbnailUrl\":\"https://www.bing.com/th?id=OIP.8LvXI6tOuWvo9KZdL-C3MwHaHa\\u0026w=80\\u0026h=80\\u0026c=1\\u0026pid=5.1\"},{\"name\":\"24 Exciting Things To Add To Your Atlanta Bucket List | Secret Atlanta\",\"url\":\"https://secretatlanta.co/2024-atlanta-bucket-list/\",\"displayUrl\":\"https://secretatlanta.co/2024-atlanta-bucket-list\",\"snippet\":\"Here are 24 things to add to your Atlanta bucket list! 1. ... October 4, 2024 7:00 PM (\\u002B more dates) The Chapel on Sycamore. ... September 12, 2024. Spooky Scarecrows Take Over The Atlanta Botanical Garden For Fall. September 12, 2024. SHARE THE ARTICLE. Tags: candlelight concert.\",\"cachedPageUrl\":\"http://cc.bingj.com/cache.aspx?q=things\\u002Bto\\u002Bdo\\u002Bin\\u002BAtlanta\\u002BOctober\\u002B12\\u002B2024\\u0026d=4710587443139341\\u0026mkt=en-US\\u0026setlang=en-US\\u0026w=2gj7DwR9-YxeIPl9aAYvzasJhzxpOrCq\",\"thumbnailUrl\":\"https://www.bing.com/th?id=OIP.Jx474uFzP4iYwa3hHq7X7AHaFn\\u0026w=80\\u0026h=80\\u0026c=1\\u0026pid=5.1\"},{\"name\":\"Guide to 2024 Atlanta, Georgia Fall Festivals and Fairs | Atlanta Parent\",\"url\":\"https://www.atlantaparent.com/fall-festivals-fairs-atlanta-georgia/\",\"displayUrl\":\"https://www.atlantaparent.com/fall-festivals-fairs-atlanta-georgia\",\"snippet\":\"September 8, 2024. Norcross Art Splash Festival. These fall festivals and fairs around Atlanta and Georgia are the perfect way to have an autumn adventure with your family. Enjoy live entertainment, stroll through an artists\\u2019 market or try a festive treat. Charges may apply for some festivals, such as inflatables and activity stations in ...\",\"cachedPageUrl\":\"http://cc.bingj.com/cache.aspx?q=things\\u002Bto\\u002Bdo\\u002Bin\\u002BAtlanta\\u002BOctober\\u002B12\\u002B2024\\u0026d=4982888373235647\\u0026mkt=en-US\\u0026setlang=en-US\\u0026w=6GUK5_GlXlTZ9M6sTYiB2TdcwJXbvUVv\",\"thumbnailUrl\":\"https://www.bing.com/th?id=OIP.om07Spef9AB-DaCMRkuOpgHaE8\\u0026w=80\\u0026h=80\\u0026c=1\\u0026pid=5.1\"}]},\"images\":{\"value\":[{\"thumbnailUrl\":\"https://tse1.mm.bing.net/th?id=OIP.Tg7nOHaEU_re0ukKIjO-QwHaG1\\u0026pid=Api\",\"contentUrl\":\"https://uphomes.com/storage/uploads/aVxdjP6v0zGPok5GHYOee8lHRMVN0GMFiNomqe5s.png\",\"hostPageUrl\":\"https://uphomes.com/blog/things-to-do-atlanta-ga/\"},{\"thumbnailUrl\":\"https://tse1.mm.bing.net/th?id=OIP.lEMypzNNWpS-6tdPg0Hm1gHaHa\\u0026pid=Api\",\"contentUrl\":\"https://unexpectedatlanta.com/wp-content/uploads/2023/09/The-Best-Things-to-Do-in-Atlanta-in-October.png\",\"hostPageUrl\":\"https://unexpectedatlanta.com/the-best-things-to-do-in-atlanta-in-october/\"},{\"thumbnailUrl\":\"https://tse1.mm.bing.net/th?id=OIP.HwzfdFE6-tSHfhoFlTxXKQHaHa\\u0026pid=Api\",\"contentUrl\":\"https://unexpectedatlanta.com/wp-content/uploads/2022/12/Best-Things-to-Do-in-Atlanta-in-2023.png\",\"hostPageUrl\":\"https://unexpectedatlanta.com/best-things-to-do-in-atlanta/\"},{\"thumbnailUrl\":\"https://tse1.mm.bing.net/th?id=OIP.cGQLTADJ7EIEL8n56X81XwHaLH\\u0026pid=Api\",\"contentUrl\":\"https://www.busytourist.com/wp-content/uploads/2020/07/best-things-to-do-in-Atlanta-GA-1.jpg\",\"hostPageUrl\":\"https://www.busytourist.com/things-to-do-in-atlanta-ga/\"},{\"thumbnailUrl\":\"https://tse1.mm.bing.net/th?id=OIP.M9nQL4kFM4rwNQiRkhAekAHaEo\\u0026pid=Api\",\"contentUrl\":\"https://travellersworldwide.com/wp-content/uploads/2022/05/shutterstock_1039281055.jpg\",\"hostPageUrl\":\"https://travellersworldwide.com/best-things-to-do-in-atlanta/\"},{\"thumbnailUrl\":\"https://tse1.mm.bing.net/th?id=OIP.F6U8q9KSeXCgcH-adY4MhgAAAA\\u0026pid=Api\",\"contentUrl\":\"https://www.frostandsun.com/wp-content/uploads/2017/11/things-to-do-in-atlanta-pin-me-1.jpg\",\"hostPageUrl\":\"https://www.frostandsun.com/things-to-do-in-atlanta/\"},{\"thumbnailUrl\":\"https://tse1.mm.bing.net/th?id=OIP.BawFpewdQrecAtgiS9AiOAHaHa\\u0026pid=Api\",\"contentUrl\":\"https://unexpectedatlanta.com/wp-content/uploads/2023/04/The-Best-Things-to-Do-in-Midtown-Atlanta-500x500.png\",\"hostPageUrl\":\"https://unexpectedatlanta.com/best-things-to-do-midtown-atlanta/\"},{\"thumbnailUrl\":\"https://tse1.mm.bing.net/th?id=OIP.wxOD0OTZ89VvVuQNnfz51wHaL0\\u0026pid=Api\",\"contentUrl\":\"https://i.pinimg.com/originals/7d/b9/cb/7db9cb75f1804a65a7512408c3763aea.jpg\",\"hostPageUrl\":\"https://www.pinterest.com/pin/42432421477082343/\"},{\"thumbnailUrl\":\"https://tse1.mm.bing.net/th?id=OIP.Fe-J-AR_X-7c4ZeUHVaHwQAAAA\\u0026pid=Api\",\"contentUrl\":\"https://www.acaponeconnection.com/wp-content/uploads/2022/05/All-the-Fun-Things-to-Do-in-Atlanta-Georgia-1.jpg\",\"hostPageUrl\":\"https://www.acaponeconnection.com/all-the-fun-things-to-do-in-atlanta-georgia/\"},{\"thumbnailUrl\":\"https://tse1.mm.bing.net/th?id=OIP.H1JPxx3mkr-XvYjeXre46AHaLH\\u0026pid=Api\",\"contentUrl\":\"https://www.busytourist.com/wp-content/uploads/2020/07/best-things-to-do-in-Atlanta-GA-1-2.jpg\",\"hostPageUrl\":\"https://www.busytourist.com/things-to-do-in-atlanta-ga/\"},{\"thumbnailUrl\":\"https://tse1.mm.bing.net/th?id=OIP.zsUlule-ACLeXXDRofPdiAAAAA\\u0026pid=Api\",\"contentUrl\":\"https://www.busytourist.com/wp-content/uploads/2020/07/things-to-do-in-Atlanta-2.jpg\",\"hostPageUrl\":\"https://www.busytourist.com/things-to-do-in-atlanta-ga/\"},{\"thumbnailUrl\":\"https://tse1.mm.bing.net/th?id=OIP.GP1BWvaXpx0jJugzA0ZFtAHaLG\\u0026pid=Api\",\"contentUrl\":\"https://i.pinimg.com/originals/6d/40/80/6d4080a541d25b9e06d8bd91a31ca6e9.jpg\",\"hostPageUrl\":\"https://www.pinterest.com/pin/243757398569379382/\"},{\"thumbnailUrl\":\"https://tse1.mm.bing.net/th?id=OIP.TNv2qzXsSFvw43t4zu0gGgHaE8\\u0026pid=Api\",\"contentUrl\":\"https://www.travelandleisure.com/thmb/3NRm4q9Qg2bdUqXvenPBVeIloV4=/1500x0/filters:no_upscale():max_bytes(150000):strip_icc()/atlanta-skyline-TODOATL0122-195afa04632e43f5be27ef2dcc94ca3b.jpg\",\"hostPageUrl\":\"https://www.travelandleisure.com/attractions/best-things-to-do-in-atlanta-georgia\"},{\"thumbnailUrl\":\"https://tse1.mm.bing.net/th?id=OIP.OD8mHt8EuAz_-Rm6pRiOFwHaEK\\u0026pid=Api\",\"contentUrl\":\"https://i.ytimg.com/vi/2ufhW2kEYro/maxresdefault.jpg\",\"hostPageUrl\":\"https://www.youtube.com/watch?v=2ufhW2kEYro\"},{\"thumbnailUrl\":\"https://tse1.mm.bing.net/th?id=OIP.IqznTH1ocAOkn-XVKO4tyQAAAA\\u0026pid=Api\",\"contentUrl\":\"https://i.pinimg.com/originals/f5/05/8e/f5058e44214459ab6506002aee8aa99f.png\",\"hostPageUrl\":\"https://www.pinterest.com/pin/101-best-things-to-do-in-atlanta-georgia-the-ultimate-attractions-guide--347621664991790215/\"},{\"thumbnailUrl\":\"https://tse1.mm.bing.net/th?id=OIP.yRC0krj1Jbi8qtYhSLLimgHaE8\\u0026pid=Api\",\"contentUrl\":\"https://lp-cms-production.imgix.net/2021-05/GettyRF_486068945.jpg?auto=compress\\u0026fit=crop\\u0026fm=auto\\u0026sharp=10\\u0026vib=20\\u0026w=1200\\u0026h=800\",\"hostPageUrl\":\"https://www.lonelyplanet.com/articles/top-things-to-do-in-atlanta\"},{\"thumbnailUrl\":\"https://tse1.mm.bing.net/th?id=OIP.U9xvQMbjg9T0YiriayftJAHaLH\\u0026pid=Api\",\"contentUrl\":\"https://www.busytourist.com/wp-content/uploads/2020/07/Things-To-Do-In-Atlanta-pin1.jpg\",\"hostPageUrl\":\"https://www.busytourist.com/things-to-do-in-atlanta-ga/\"},{\"thumbnailUrl\":\"https://tse1.mm.bing.net/th?id=OIP.1mkVJxhMEz5OmxnaoqxJMwHaLD\\u0026pid=Api\",\"contentUrl\":\"http://localadventurer.com/wp-content/uploads/2016/02/101-things-to-do-in-atlanta-bucket-list.jpg\",\"hostPageUrl\":\"http://localadventurer.com/atlanta-bucket-list-things-to-do-in-atlanta/\"},{\"thumbnailUrl\":\"https://tse1.mm.bing.net/th?id=OIP.WoE56TfoQ63T7_SpwvmGKgHaE8\\u0026pid=Api\",\"contentUrl\":\"https://www.experism.com/explore/wp-content/uploads/2023/02/Atlanta-1550x1034.jpg\",\"hostPageUrl\":\"https://paulinawclo.pages.dev/wngqwy-atlanta-events-2024-vmdhwzsmr-photos/\"},{\"thumbnailUrl\":\"https://tse1.mm.bing.net/th?id=OIP.eFJevefuy_77CA07mDrb7wHaEK\\u0026pid=Api\",\"contentUrl\":\"https://i.ytimg.com/vi/KfyduILpJO8/maxresdefault.jpg\",\"hostPageUrl\":\"https://www.youtube.com/watch?v=KfyduILpJO8\"}]}}\n",
       "```\n",
       "\n",
       "I called the tool named crawl with these arguments:\n",
       "```\n",
       "{\"q\": \"things to do in Atlanta October 19 2024\", \"textFormat\": \"HTML\"}\n",
       "```\n",
       "and got this result:\n",
       "```\n",
       "{\"queryContext\":{\"originalQuery\":\"things to do in Atlanta October 19 2024\"},\"webPages\":{\"value\":[{\"name\":\"Atlanta Events - October 2024 - Go South Atlanta\",\"url\":\"https://gosouthatlanta.com/things-to-do/events/atlanta-in-october.html\",\"displayUrl\":\"https://gosouthatlanta.com/things-to-do/events/atlanta-in-october.html\",\"snippet\":\"Things to do in Atlanta, GA in October, including upcoming festivals, fall and Halloween events, Pride events, comedy, musicals, plays, races, conventions, neighborhood events, cultural events, and more. ... \\u2013 PNC Atlanta 10 Miler \\u0026amp; 5K, October 19-20 2024 Annual 10-mile, 5K and 1-mile youth runs through Buckhead, from Atlantic Station.\",\"cachedPageUrl\":\"http://cc.bingj.com/cache.aspx?q=things\\u002Bto\\u002Bdo\\u002Bin\\u002BAtlanta\\u002BOctober\\u002B19\\u002B2024\\u0026d=4907344187949765\\u0026mkt=en-US\\u0026setlang=en-US\\u0026w=jtKzhu3KOsa3mkDLUvcm_m1afK8iBTpt\"},{\"name\":\"Cool Things To Do in October in Atlanta\",\"url\":\"https://discoveratlanta.com/stories/things-to-do/cool-things-to-do-in-october-in-atlanta/\",\"displayUrl\":\"https://discoveratlanta.com/stories/things-to-do/cool-things-to-do-in-october-in-atlanta\",\"snippet\":\"Corn Dogs, Rides and Whack a Mole. The Atlanta Fair brings the best of a traditional fair to Atlanta with everything from cotton candy, a Ferris wheel, fishing for goldfish, a tilt-a-whirl and a carousel. The fair, located across from the Georgia State University Stadium, will be in town Oct. 4-Nov. 3. Read More.\",\"cachedPageUrl\":\"http://cc.bingj.com/cache.aspx?q=things\\u002Bto\\u002Bdo\\u002Bin\\u002BAtlanta\\u002BOctober\\u002B19\\u002B2024\\u0026d=4714289705734711\\u0026mkt=en-US\\u0026setlang=en-US\\u0026w=6a-yO_DfCUxfz-dx9C91WDDECk49pD7V\",\"thumbnailUrl\":\"https://www.bing.com/th?id=OIP.4jf9xqKu3QRk_XhZ3J7DYQHaD4\\u0026w=80\\u0026h=80\\u0026c=1\\u0026pid=5.1\"},{\"name\":\"Atlanta Events October 2024: Concerts, Shows, Sports...\",\"url\":\"https://atlanta-ga.events/october/\",\"displayUrl\":\"https://atlanta-ga.events/october\",\"snippet\":\"Explore our comprehensive calendar for all the current and upcoming events in Atlanta, GA, for October 2024. This guide is your gateway to discovering the best things to do in Atlanta, from Concerts and Theater Shows to Sports events and music festivals. You\\u2019ll find a detailed list of all the most engaging and exciting activities happening throughout the month.\",\"cachedPageUrl\":\"http://cc.bingj.com/cache.aspx?q=things\\u002Bto\\u002Bdo\\u002Bin\\u002BAtlanta\\u002BOctober\\u002B19\\u002B2024\\u0026d=4898908879865838\\u0026mkt=en-US\\u0026setlang=en-US\\u0026w=vC_zzFLZ91uzxHogtJy0oBuKycEPAm_-\"},{\"name\":\"80\\u002B fall festivals \\u0026amp; fairs around metro Atlanta: Fun things to do in ...\",\"url\":\"https://www.atlantaonthecheap.com/fall-festivals-atlanta/\",\"displayUrl\":\"https://www.atlantaonthecheap.com/fall-festivals-atlanta\",\"snippet\":\"October 12 and 13, 2024 October 19 and 20, 2024 Ellijay, GA . This is one of the few festivals outside metro Atlanta we include. It takes place in North Georgia, over two weekends in October. Spend a day on the farm, pick your own apples, visit over 100 vendor booths for arts, crafts, and apple-based food items. Well worth the drive!\",\"cachedPageUrl\":\"http://cc.bingj.com/cache.aspx?q=things\\u002Bto\\u002Bdo\\u002Bin\\u002BAtlanta\\u002BOctober\\u002B19\\u002B2024\\u0026d=5012794228946274\\u0026mkt=en-US\\u0026setlang=en-US\\u0026w=AqqJM900-WHnjjGt9vluoyq1DPm6ofe-\",\"thumbnailUrl\":\"https://www.bing.com/th?id=OIP.w0-v0ll6eXl6tJfBd5-ovwHaEV\\u0026w=80\\u0026h=80\\u0026c=1\\u0026pid=5.1\"},{\"name\":\"26 Thrilling Things To Do In Atlanta This October - Secret Atlanta\",\"url\":\"https://secretatlanta.co/things-to-do-october/\",\"displayUrl\":\"https://secretatlanta.co/things-to-do-october\",\"snippet\":\"Without further ado, here are 26 incredible things to do in Atlanta this October! 1. ... 19. Get lost in these enchanting corn mazes near Atlanta. Jaemor Farms. ... September 20, 2024. 18 Frightfully Fun Halloween Events Happening In Atlanta. September 20, 2024 ...\",\"cachedPageUrl\":\"http://cc.bingj.com/cache.aspx?q=things\\u002Bto\\u002Bdo\\u002Bin\\u002BAtlanta\\u002BOctober\\u002B19\\u002B2024\\u0026d=4673096676868625\\u0026mkt=en-US\\u0026setlang=en-US\\u0026w=BDZ6Krx8ATVNFCQACSuK0PesDCkO7vK5\",\"thumbnailUrl\":\"https://www.bing.com/th?id=OIP.oVWYpGkEV4zoUw2uzcrcYgHaD6\\u0026w=80\\u0026h=80\\u0026c=1\\u0026pid=5.1\"},{\"name\":\"35\\u002B Best Things to Do in Atlanta in 2024 - Unexpected Atlanta\",\"url\":\"https://unexpectedatlanta.com/best-things-to-do-in-atlanta/\",\"displayUrl\":\"https://unexpectedatlanta.com/best-things-to-do-in-atlanta\",\"snippet\":\"1. Visit the National Parks on a Fee-Free Day. First on our list of the best things to do in Atlanta in 2024, check out America\\u2019s National Park System\\u2019s fee-free days this year. On these special days, you can visit any of the United States\\u2019 400\\u002B National Parks for free, including places in and around Georgia.\",\"cachedPageUrl\":\"http://cc.bingj.com/cache.aspx?q=things\\u002Bto\\u002Bdo\\u002Bin\\u002BAtlanta\\u002BOctober\\u002B19\\u002B2024\\u0026d=4885792044096348\\u0026mkt=en-US\\u0026setlang=en-US\\u0026w=SRiegEmhRGKtzRRUG028yHS95G2gOIKx\",\"thumbnailUrl\":\"https://www.bing.com/th?id=OIP.HwzfdFE6-tSHfhoFlTxXKQHaHa\\u0026w=80\\u0026h=80\\u0026c=1\\u0026pid=5.1\"},{\"name\":\"Atlanta Festival Calendar: 2024\",\"url\":\"https://unexpectedatlanta.com/atlanta-festival-calendar-2024/\",\"displayUrl\":\"https://unexpectedatlanta.com/atlanta-festival-calendar-2024\",\"snippet\":\"Atlanta Pride Festival and Parade \\u2013 October 12-13, 2024. The Atlanta Pride Festival and Parade is a vibrant event that celebrates and supports the LGBTQ\\u002B community. By attending, be a part of a joyful and inclusive atmosphere where diversity, equality, and love are celebrated. Little 5 Points Halloween Festival \\u0026amp; Parade \\u2013 October 19-20, 2024\",\"cachedPageUrl\":\"http://cc.bingj.com/cache.aspx?q=things\\u002Bto\\u002Bdo\\u002Bin\\u002BAtlanta\\u002BOctober\\u002B19\\u002B2024\\u0026d=4520195830737555\\u0026mkt=en-US\\u0026setlang=en-US\\u0026w=Y_UYHSuQi3QHjG8exIRi2zfYmaaF9rTA\",\"thumbnailUrl\":\"https://www.bing.com/th?id=OIP.8LvXI6tOuWvo9KZdL-C3MwHaHa\\u0026w=80\\u0026h=80\\u0026c=1\\u0026pid=5.1\"},{\"name\":\"Explore Atlanta Events for Today, This Week or Weekend\",\"url\":\"https://discoveratlanta.com/events/main/\",\"displayUrl\":\"https://discoveratlanta.com/events/m\",\"snippet\":\"Explore the Atlanta events calendar for things to do today, this week or this weekend. Find upcoming festivals, seasonal events and more! ... Trivia Night at Wild Leap Atlanta Every Tuesday until 11/19/2024. Elements- Surya Ensemble 9/24/24 \\u2013 10/10/24. ... October 19. Saturday. Little 5 Points Halloween Festival \\u0026amp; Parade 10/19/24 \\u2013 10/20/24.\",\"cachedPageUrl\":\"http://cc.bingj.com/cache.aspx?q=things\\u002Bto\\u002Bdo\\u002Bin\\u002BAtlanta\\u002BOctober\\u002B19\\u002B2024\\u0026d=4819881473496114\\u0026mkt=en-US\\u0026setlang=en-US\\u0026w=zvJBiG0Dg4eP1GMx_bJv9FTM8ziERJGY\",\"thumbnailUrl\":\"https://www.bing.com/th?id=OIP.FkxSV6JbrWatsFMM3_8dIAHaEh\\u0026w=80\\u0026h=80\\u0026c=1\\u0026pid=5.1\"},{\"name\":\"The Best Things to Do in Atlanta in October\",\"url\":\"https://unexpectedatlanta.com/the-best-things-to-do-in-atlanta-in-october/\",\"displayUrl\":\"https://unexpectedatlanta.com/the-best-things-to-do-in-atlanta-in-october\",\"snippet\":\"Catch Ilana Glazer at the Tabernacle on October 23, 2023. Best known for her role as Ilana Wexler in Broad City, Glazer\\u2019s live comedy has been called bold, delving into modern social and political issues with unapologetic, empowering, and satirical takes. Plus, catch Nick Offerman at Atlanta Symphony Hall.\",\"cachedPageUrl\":\"http://cc.bingj.com/cache.aspx?q=things\\u002Bto\\u002Bdo\\u002Bin\\u002BAtlanta\\u002BOctober\\u002B19\\u002B2024\\u0026d=4733754494973267\\u0026mkt=en-US\\u0026setlang=en-US\\u0026w=Tv-KB1NbYltoqbb3_3asNbrAJ_n6Hq4i\",\"thumbnailUrl\":\"https://www.bing.com/th?id=OIP.lEMypzNNWpS-6tdPg0Hm1gHaHa\\u0026w=80\\u0026h=80\\u0026c=1\\u0026pid=5.1\"},{\"name\":\"Atlanta Events \\u2013 Upcoming Festivals in Atlanta 2024 - Go South Atlanta\",\"url\":\"https://gosouthatlanta.com/things-to-do/events/atlanta-festivals.html\",\"displayUrl\":\"https://gosouthatlanta.com/things-to-do/events/atlanta-festivals.html\",\"snippet\":\"November 2024. \\u2013 Native American Festival and Pow Wow, October 31 - November 3 2024. Big annual festival of Native American heritage at Stone Mountain Park, with live traditional dance, music and storytelling performances, craft demonstrations, wildlife presentations, arts and crafts and more. More details.\",\"cachedPageUrl\":\"http://cc.bingj.com/cache.aspx?q=things\\u002Bto\\u002Bdo\\u002Bin\\u002BAtlanta\\u002BOctober\\u002B19\\u002B2024\\u0026d=4630752588355502\\u0026mkt=en-US\\u0026setlang=en-US\\u0026w=pglyf_s8wUM50qWfsSic_uix0GcCbDYr\",\"thumbnailUrl\":\"https://www.bing.com/th?id=OIP.1kWLxDO_JldjYbZyTlfSrQAAAA\\u0026w=80\\u0026h=80\\u0026c=1\\u0026pid=5.1\"}]}}\n",
       "```\n",
       "\n",
       "Here are some events and activities you can enjoy in Atlanta for each of the next four weekends:\n",
       "\n",
       "### Weekend of September 28-29, 2024\n",
       "1. [Cool Things To Do in September in Atlanta](https://discoveratlanta.com/stories/things-to-do/cool-things-to-do-in-september-in-atlanta/)\n",
       "2. [Atlanta Events September 2024](https://atlanta-ga.events/september/)\n",
       "3. [Events and Things to Do in Atlanta GA from September 28-29, 2024](https://eventcartel.com/events/all-categories/atlanta/from_2024-09-28_to_2024-09-29)\n",
       "4. [80+ Fall Festivals & Fairs Around Metro Atlanta](https://www.atlantaonthecheap.com/fall-festivals-atlanta/)\n",
       "\n",
       "### Weekend of October 5-6, 2024\n",
       "1. [Atlanta Events - October 2024](https://gosouthatlanta.com/things-to-do/events/atlanta-in-october.html)\n",
       "2. [Atlanta Events October 2024](https://atlanta-ga.events/october/)\n",
       "3. [Cool Things To Do in October in Atlanta](https://discoveratlanta.com/stories/things-to-do/cool-things-to-do-in-october-in-atlanta/)\n",
       "4. [26 Thrilling Things To Do In Atlanta This October](https://secretatlanta.co/things-to-do-october/)\n",
       "\n",
       "### Weekend of October 12-13, 2024\n",
       "1. [Cool Things To Do in October in Atlanta](https://discoveratlanta.com/stories/things-to-do/cool-things-to-do-in-october-in-atlanta/)\n",
       "2. [Atlanta Events October 2024](https://atlanta-ga.events/october/)\n",
       "3. [80+ Fall Festivals & Fairs Around Metro Atlanta](https://www.atlantaonthecheap.com/fall-festivals-atlanta/)\n",
       "4. [Atlanta October 2024: Events, Concerts, Clubs & Things to Do](https://www.experism.com/atlanta/october)\n",
       "\n",
       "### Weekend of October 19-20, 2024\n",
       "1. [Cool Things To Do in October in Atlanta](https://discoveratlanta.com/stories/things-to-do/cool-things-to-do-in-october-in-atlanta/)\n",
       "2. [Atlanta Events October 2024](https://atlanta-ga.events/october/)\n",
       "3. [26 Thrilling Things To Do In Atlanta This October](https://secretatlanta.co/things-to-do-october/)\n",
       "4. [80+ Fall Festivals & Fairs Around Metro Atlanta](https://www.atlantaonthecheap.com/fall-festivals-atlanta/)\n",
       "\n",
       "Enjoy your weekends in Atlanta!\n"
      ]
     },
     "metadata": {},
     "output_type": "display_data"
    }
   ],
   "source": [
    "var assistantRunOptions = new AssistantRunOptions() {\n",
    "    AssistantName = \"Web Search Test\",\n",
    "    Instructions = \"Use python to get todays date and then use it to find things to do in Atlanta for each of the next four weekends. Be careful to not include events in the past in your final answer. You should perform four searches at once.\",\n",
    "    UseConversationEvaluator = false\n",
    "};\n",
    "var output = await AntRunnerLib.AssistantRunner.RunThread(assistantRunOptions, config);\n",
    "output.Dialog.DisplayAs(\"text/markdown\");"
   ]
  },
  {
   "cell_type": "code",
   "execution_count": 6,
   "metadata": {
    "dotnet_interactive": {
     "language": "csharp"
    },
    "polyglot_notebook": {
     "kernelName": "csharp"
    },
    "vscode": {
     "languageId": "polyglot-notebook"
    }
   },
   "outputs": [
    {
     "data": {
      "text/markdown": [
       "Here are some events and activities you can enjoy in Atlanta for each of the next four weekends:\n",
       "\n",
       "### Weekend of September 28-29, 2024\n",
       "1. [Cool Things To Do in September in Atlanta](https://discoveratlanta.com/stories/things-to-do/cool-things-to-do-in-september-in-atlanta/)\n",
       "2. [Atlanta Events September 2024](https://atlanta-ga.events/september/)\n",
       "3. [Events and Things to Do in Atlanta GA from September 28-29, 2024](https://eventcartel.com/events/all-categories/atlanta/from_2024-09-28_to_2024-09-29)\n",
       "4. [80+ Fall Festivals & Fairs Around Metro Atlanta](https://www.atlantaonthecheap.com/fall-festivals-atlanta/)\n",
       "\n",
       "### Weekend of October 5-6, 2024\n",
       "1. [Atlanta Events - October 2024](https://gosouthatlanta.com/things-to-do/events/atlanta-in-october.html)\n",
       "2. [Atlanta Events October 2024](https://atlanta-ga.events/october/)\n",
       "3. [Cool Things To Do in October in Atlanta](https://discoveratlanta.com/stories/things-to-do/cool-things-to-do-in-october-in-atlanta/)\n",
       "4. [26 Thrilling Things To Do In Atlanta This October](https://secretatlanta.co/things-to-do-october/)\n",
       "\n",
       "### Weekend of October 12-13, 2024\n",
       "1. [Cool Things To Do in October in Atlanta](https://discoveratlanta.com/stories/things-to-do/cool-things-to-do-in-october-in-atlanta/)\n",
       "2. [Atlanta Events October 2024](https://atlanta-ga.events/october/)\n",
       "3. [80+ Fall Festivals & Fairs Around Metro Atlanta](https://www.atlantaonthecheap.com/fall-festivals-atlanta/)\n",
       "4. [Atlanta October 2024: Events, Concerts, Clubs & Things to Do](https://www.experism.com/atlanta/october)\n",
       "\n",
       "### Weekend of October 19-20, 2024\n",
       "1. [Cool Things To Do in October in Atlanta](https://discoveratlanta.com/stories/things-to-do/cool-things-to-do-in-october-in-atlanta/)\n",
       "2. [Atlanta Events October 2024](https://atlanta-ga.events/october/)\n",
       "3. [26 Thrilling Things To Do In Atlanta This October](https://secretatlanta.co/things-to-do-october/)\n",
       "4. [80+ Fall Festivals & Fairs Around Metro Atlanta](https://www.atlantaonthecheap.com/fall-festivals-atlanta/)\n",
       "\n",
       "Enjoy your weekends in Atlanta!"
      ]
     },
     "metadata": {},
     "output_type": "display_data"
    }
   ],
   "source": [
    "using Microsoft.DotNet.Interactive;\n",
    "using Microsoft.DotNet.Interactive.Formatting;\n",
    "\n",
    "output.LastMessage.DisplayAs(\"text/markdown\");\n"
   ]
  },
  {
   "cell_type": "markdown",
   "metadata": {},
   "source": [
    "## Clean Up"
   ]
  },
  {
   "cell_type": "code",
   "execution_count": 7,
   "metadata": {
    "dotnet_interactive": {
     "language": "csharp"
    },
    "polyglot_notebook": {
     "kernelName": "csharp"
    },
    "vscode": {
     "languageId": "polyglot-notebook"
    }
   },
   "outputs": [
    {
     "name": "stdout",
     "output_type": "stream",
     "text": [
      "Deleted assistant\r\n"
     ]
    }
   ],
   "source": [
    "var assistant = (await client.AssistantList())?.Data?.FirstOrDefault(o => o.Name == \"Web Search Test\");\n",
    "if(assistant != null) {\n",
    "    await client.AssistantDelete(assistant.Id);\n",
    "    Console.WriteLine(\"Deleted assistant\");\n",
    "}\n",
    "else\n",
    "{\n",
    "    Console.WriteLine(\"Didn't find MsGraphUserProfile\");\n",
    "}"
   ]
  }
 ],
 "metadata": {
  "kernelspec": {
   "display_name": ".NET (C#)",
   "language": "C#",
   "name": ".net-csharp"
  },
  "language_info": {
   "name": "python"
  },
  "polyglot_notebook": {
   "kernelInfo": {
    "defaultKernelName": "csharp",
    "items": [
     {
      "aliases": [],
      "name": "csharp"
     }
    ]
   }
  }
 },
 "nbformat": 4,
 "nbformat_minor": 2
}
