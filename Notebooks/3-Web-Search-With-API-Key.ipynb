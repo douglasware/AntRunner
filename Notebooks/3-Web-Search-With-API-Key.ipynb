{
 "cells": [
  {
   "cell_type": "markdown",
   "metadata": {},
   "source": [
    "## Web Search Test\n",
    "The **Web Search Test** ant demonstrates the use of a Web API secured using an API key with an auth header. This sample requires you to create a Web Search (bing) resource in Azure and enter its corresponding API key in [0-AI-settings](0-AI-settings.ipynb)"
   ]
  },
  {
   "cell_type": "markdown",
   "metadata": {},
   "source": [
    "## First steps\n",
    "- First, download AntRunLib from Nuget\n",
    "- At least once, set up the environment using **[0-AI-settings](0-AI-settings.ipynb)**"
   ]
  },
  {
   "cell_type": "code",
   "execution_count": 1,
   "metadata": {
    "dotnet_interactive": {
     "language": "csharp"
    },
    "polyglot_notebook": {
     "kernelName": "csharp"
    },
    "vscode": {
     "languageId": "polyglot-notebook"
    }
   },
   "outputs": [
    {
     "data": {
      "text/html": [
       "<div><div></div><div></div><div><strong>Installed Packages</strong><ul><li><span>AntRunnerLib, 0.6.13</span></li></ul></div></div>"
      ]
     },
     "metadata": {},
     "output_type": "display_data"
    }
   ],
   "source": [
    "#r \"nuget: AntRunnerLib, 0.6.15\"\n",
    "\n",
    "using AntRunnerLib;\n",
    "using AntRunnerLib.Identity;\n",
    "using static AntRunnerLib.ClientUtility;\n",
    "using System.IO;\n",
    "\n",
    "#!import config/Settings.cs \n",
    "\n",
    "var envVariables = Settings.GetEnvironmentVariables();\n",
    "foreach (var kvp in envVariables)\n",
    "{\n",
    "    Environment.SetEnvironmentVariable(kvp.Key, kvp.Value);\n",
    "}\n",
    "\n",
    "var config = AzureOpenAiConfigFactory.Get();\n",
    "var client = GetOpenAiClient(config);\n"
   ]
  },
  {
   "cell_type": "markdown",
   "metadata": {},
   "source": [
    "## Ensure the Web Search Test assistant exists\n",
    "The definition of this assistant is located in the \".\\AssistantDefinitions\\Web Search Test\" folder\n",
    "\n",
    "\".\\AssistantDefinitions\\\" is a default path. You can override it by setting the **ASSISTANTS_BASE_FOLDER_PATH** environment variable.\n",
    "\n",
    "\"Web Search Test\" contains the following files:\n",
    "```\n",
    "│   instructions.md - The instructions\n",
    "│   manifest.json - The base assistant definition\n",
    "│\n",
    "└───OpenAPI\n",
    "        api.bing.microsoft.com.json - A swagger file defining a tool named 'crawl' that uses web search\n",
    "        auth.json - See below... \n",
    "```        \n",
    "\n",
    "## auth.json\n",
    "AntRunnerLib uses the instructions in this file to create the correct auth header(s) for the API. In this case, a header is added to the web request, **Ocp-Apim-Subscription-Key**, the header's value is supplied by an environment variable named, SEARCH_API_KEY. The environment variable name is user defined and ensuring it has a value is the responsibility of the application. \n",
    "\n",
    "```json\n",
    "{\n",
    "  \"hosts\": {\n",
    "    \"api.bing.microsoft.com\": {\n",
    "      \"auth_type\": \"service_http\",\n",
    "      \"header_name\": \"Ocp-Apim-Subscription-Key\",\n",
    "      \"header_value_env_var\": \"SEARCH_API_KEY\"\n",
    "    }\n",
    "  }\n",
    "}\n",
    "```\n",
    "\n",
    "### Explanation\n",
    "`AssistantUtility.Create` acts based on the contents of a folder structure following a convention laid out in these notebooks. In this case, it copied the contents of instructions.md into the assistant manifest.json. It also parsed the api.bing.microsoft.com swagger which follows an Open API schema into tool defintions for the assitant."
   ]
  },
  {
   "cell_type": "code",
   "execution_count": 2,
   "metadata": {
    "dotnet_interactive": {
     "language": "csharp"
    },
    "polyglot_notebook": {
     "kernelName": "csharp"
    },
    "vscode": {
     "languageId": "polyglot-notebook"
    }
   },
   "outputs": [
    {
     "name": "stdout",
     "output_type": "stream",
     "text": [
      "asst_8wQ6jdtfOBltsICIvuotuK0p\r\n"
     ]
    }
   ],
   "source": [
    "var assistantId = await AssistantUtility.Create(\"Web Search Test\", config);\n",
    "Console.WriteLine(assistantId)"
   ]
  },
  {
   "cell_type": "markdown",
   "metadata": {},
   "source": [
    "## Run the Assistant\n",
    "\n",
    "`output.Dialog` shows the conversation."
   ]
  },
  {
   "cell_type": "code",
   "execution_count": 3,
   "metadata": {
    "dotnet_interactive": {
     "language": "csharp"
    },
    "polyglot_notebook": {
     "kernelName": "csharp"
    },
    "vscode": {
     "languageId": "polyglot-notebook"
    }
   },
   "outputs": [
    {
     "name": "stdout",
     "output_type": "stream",
     "text": [
      "\n",
      "User: Use python to get todays date and then use it to find things to do in Atlanta this weekend. Be careful to not include events in the past in your final answer. You can perform multiple searches if necessary\n",
      "\n",
      "Assistant: I ran this code:\n",
      "```\n",
      "from datetime import datetime, timedelta\n",
      "\n",
      "# Get today's date\n",
      "today = datetime.now()\n",
      "\n",
      "# Calculate the upcoming weekend (Saturday and Sunday)\n",
      "upcoming_saturday = today + timedelta((5-today.weekday()) % 7)\n",
      "upcoming_sunday = upcoming_saturday + timedelta(days=1)\n",
      "\n",
      "upcoming_saturday, upcoming_sunday\n",
      "```\n",
      "\n",
      "I called the tool named crawl with these arguments:\n",
      "```\n",
      "{\"q\": \"things to do in Atlanta on September 21, 2024\", \"count\": 5, \"textFormat\": \"HTML\"}\n",
      "```\n",
      "and got this result:\n",
      "```\n",
      "{\"_type\": \"SearchResponse\", \"queryContext\": {\"originalQuery\": \"things to do in Atlanta on September 21, 2024\", \"askUserForLocation\": true}, \"webPages\": {\"webSearchUrl\": \"https:\\/\\/www.bing.com\\/search?q=things+to+do+in+Atlanta+on+September+21%2c+2024\", \"totalEstimatedMatches\": 4660000, \"value\": [{\"id\": \"https:\\/\\/api.bing.microsoft.com\\/api\\/v7\\/#WebPages.0\", \"name\": \"Atlanta Events September 2024: Concerts, Shows, Sports...\", \"url\": \"https:\\/\\/atlanta-ga.events\\/september\\/\", \"datePublished\": \"2024-09-19T00:00:00.0000000\", \"datePublishedFreshnessText\": \"1 day ago\", \"isFamilyFriendly\": true, \"displayUrl\": \"https:\\/\\/atlanta-ga.events\\/september\", \"snippet\": \"Find out what&#39;s happening in Atlanta in September 2024, from golf tournaments and circus shows to comedy and music festivals. Browse the list of events by date, category, venue and price, and book your tickets online.\", \"dateLastCrawled\": \"2024-09-19T19:10:00.0000000Z\", \"cachedPageUrl\": \"http:\\/\\/cc.bingj.com\\/cache.aspx?q=things+to+do+in+Atlanta+on+September+21%2c+2024&d=4854189674412095&mkt=en-US&setlang=en-US&w=YhWZw67L0wKfbkmdL1lCvH4mS1bjztOY\", \"language\": \"en\", \"isNavigational\": true, \"noCache\": false, \"siteName\": \"Atlanta Events\"}, {\"id\": \"https:\\/\\/api.bing.microsoft.com\\/api\\/v7\\/#WebPages.1\", \"name\": \"Cool Things To Do in September in Atlanta\", \"url\": \"https:\\/\\/discoveratlanta.com\\/stories\\/things-to-do\\/cool-things-to-do-in-september-in-atlanta\\/\", \"thumbnailUrl\": \"https:\\/\\/www.bing.com\\/th?id=OIP.m0ENCio7ytS2o9PQRWDCRgHaD4&w=80&h=80&c=1&pid=5.1\", \"datePublished\": \"2024-08-23T00:00:00.0000000\", \"datePublishedDisplayText\": \"Aug 23, 2024\", \"isFamilyFriendly\": true, \"displayUrl\": \"https:\\/\\/discoveratlanta.com\\/stories\\/things-to-do\\/cool-things-to-do-in-september-in-atlanta\", \"snippet\": \"Find out what&#39;s happening in Atlanta in September 2023, from food festivals and burger battles to haunted attractions and music festivals. Whether you&#39;re into art, culture, nature or sports, there&#39;s something for everyone in this guide.\", \"dateLastCrawled\": \"2024-09-20T02:07:00.0000000Z\", \"primaryImageOfPage\": {\"thumbnailUrl\": \"https:\\/\\/www.bing.com\\/th?id=OIP.m0ENCio7ytS2o9PQRWDCRgHaD4&w=80&h=80&c=1&pid=5.1\", \"width\": 80, \"height\": 80, \"sourceWidth\": 474, \"sourceHeight\": 248, \"imageId\": \"OIP.m0ENCio7ytS2o9PQRWDCRgHaD4\"}, \"cachedPageUrl\": \"http:\\/\\/cc.bingj.com\\/cache.aspx?q=things+to+do+in+Atlanta+on+September+21%2c+2024&d=4692574350671891&mkt=en-US&setlang=en-US&w=qtzwJZeH6LxV74GkIkdoRE4k4vk9MNbJ\", \"language\": \"en\", \"isNavigational\": false, \"richFacts\": [{\"label\": {\"text\": \"Author\"}, \"items\": [{\"text\": \"Mary Welch\"}], \"hint\": {\"text\": \"BASE:AUTHOR\"}}], \"noCache\": false, \"siteName\": \"Discover Atlanta\"}, {\"id\": \"https:\\/\\/api.bing.microsoft.com\\/api\\/v7\\/#WebPages.2\", \"name\": \"Atlanta Events - September 2024 - Go South Atlanta\", \"url\": \"https:\\/\\/gosouthatlanta.com\\/things-to-do\\/events\\/atlanta-in-september.html\", \"thumbnailUrl\": \"https:\\/\\/www.bing.com\\/th?id=OIP.xm-3dn3hYJZHsVVU9WO5qwHaD4&w=80&h=80&c=1&pid=5.1\", \"isFamilyFriendly\": true, \"displayUrl\": \"https:\\/\\/gosouthatlanta.com\\/things-to-do\\/events\\/atlanta-in-september.html\", \"snippet\": \"Find out what&#39;s happening in Atlanta in September 2024, from festivals and concerts to comedy and sports. See dates, venues and details for events such as Dragon Con, Atlanta Food &amp; Wine Festival, Atlanta Ballet and more.\", \"dateLastCrawled\": \"2024-09-19T23:23:00.0000000Z\", \"primaryImageOfPage\": {\"thumbnailUrl\": \"https:\\/\\/www.bing.com\\/th?id=OIP.xm-3dn3hYJZHsVVU9WO5qwHaD4&w=80&h=80&c=1&pid=5.1\", \"width\": 80, \"height\": 80, \"sourceWidth\": 474, \"sourceHeight\": 248, \"imageId\": \"OIP.xm-3dn3hYJZHsVVU9WO5qwHaD4\"}, \"cachedPageUrl\": \"http:\\/\\/cc.bingj.com\\/cache.aspx?q=things+to+do+in+Atlanta+on+September+21%2c+2024&d=4712253892329528&mkt=en-US&setlang=en-US&w=hxr63-nIoCxe4oOvzq1dGpeg_GE4sHjt\", \"language\": \"en\", \"isNavigational\": false, \"noCache\": false, \"siteName\": \"Go South Atlanta\"}, {\"id\": \"https:\\/\\/api.bing.microsoft.com\\/api\\/v7\\/#WebPages.3\", \"name\": \"80+ fall festivals &amp; fairs around metro Atlanta: Fun things to do in ...\", \"url\": \"https:\\/\\/www.atlantaonthecheap.com\\/fall-festivals-atlanta\\/\", \"thumbnailUrl\": \"https:\\/\\/www.bing.com\\/th?id=OIP.w0-v0ll6eXl6tJfBd5-ovwHaEV&w=80&h=80&c=1&pid=5.1\", \"datePublished\": \"2024-09-14T00:00:00.0000000\", \"datePublishedFreshnessText\": \"6 days ago\", \"isFamilyFriendly\": true, \"displayUrl\": \"https:\\/\\/www.atlantaonthecheap.com\\/fall-festivals-atlanta\", \"snippet\": \"Find out the best fall festivals in Atlanta in 2024, from Labor Day Weekend to Thanksgiving. Enjoy carnival rides, music, arts, food, and more at state and county fairs, harvest celebrations, and cultural events.\", \"dateLastCrawled\": \"2024-09-18T20:03:00.0000000Z\", \"primaryImageOfPage\": {\"thumbnailUrl\": \"https:\\/\\/www.bing.com\\/th?id=OIP.w0-v0ll6eXl6tJfBd5-ovwHaEV&w=80&h=80&c=1&pid=5.1\", \"width\": 80, \"height\": 80, \"sourceWidth\": 474, \"sourceHeight\": 277, \"imageId\": \"OIP.w0-v0ll6eXl6tJfBd5-ovwHaEV\"}, \"cachedPageUrl\": \"http:\\/\\/cc.bingj.com\\/cache.aspx?q=things+to+do+in+Atlanta+on+September+21%2c+2024&d=5012794227311497&mkt=en-US&setlang=en-US&w=sdMvKYDIH0LnjjGt9vluoyq1DPm6ofe-\", \"language\": \"en\", \"isNavigational\": false, \"noCache\": false, \"siteName\": \"Atlanta on the Cheap\"}, {\"id\": \"https:\\/\\/api.bing.microsoft.com\\/api\\/v7\\/#WebPages.4\", \"name\": \"20 Spectacular Things To Do This September In Atlanta - Secret Atlanta\", \"url\": \"https:\\/\\/secretatlanta.co\\/things-to-do-september\\/\", \"thumbnailUrl\": \"https:\\/\\/www.bing.com\\/th?id=OIP.mwxBnPRtbggmsDGaNhGACQHaE8&w=80&h=80&c=1&pid=5.1\", \"datePublished\": \"2024-09-03T00:00:00.0000000\", \"datePublishedDisplayText\": \"Sep 3, 2024\", \"isFamilyFriendly\": true, \"displayUrl\": \"https:\\/\\/secretatlanta.co\\/things-to-do-september\", \"snippet\": \"When: Saturday, September 7th from 12pm – 10pm. Thousands of people are expected to head to Morris Brown College in Atlanta this September for the legendary Seafood &amp; Caribbean Music festival! Enjoy tons of live music, DJs, and of course, as much mouthwatering seafood and Caribbean dishes as your heart desires! Don’t miss out on all the fun.\", \"dateLastCrawled\": \"2024-09-18T21:37:00.0000000Z\", \"primaryImageOfPage\": {\"thumbnailUrl\": \"https:\\/\\/www.bing.com\\/th?id=OIP.mwxBnPRtbggmsDGaNhGACQHaE8&w=80&h=80&c=1&pid=5.1\", \"width\": 80, \"height\": 80, \"sourceWidth\": 474, \"sourceHeight\": 316, \"imageId\": \"OIP.mwxBnPRtbggmsDGaNhGACQHaE8\"}, \"cachedPageUrl\": \"http:\\/\\/cc.bingj.com\\/cache.aspx?q=things+to+do+in+Atlanta+on+September+21%2c+2024&d=4724958404049840&mkt=en-US&setlang=en-US&w=PHu754l9nHdkqeBkOazQ7cCeg5xgwMQ3\", \"language\": \"en\", \"isNavigational\": false, \"noCache\": false, \"siteName\": \"Secret Atlanta\"}]}, \"relatedSearches\": {\"id\": \"https:\\/\\/api.bing.microsoft.com\\/api\\/v7\\/#RelatedSearches\", \"value\": [{\"text\": \"atlanta events september 2024\", \"displayText\": \"atlanta events september 2024\", \"webSearchUrl\": \"https:\\/\\/www.bing.com\\/search?q=Atlanta+events+september+2024\"}, {\"text\": \"things to do in atlanta in september\", \"displayText\": \"things to do in atlanta in september\", \"webSearchUrl\": \"https:\\/\\/www.bing.com\\/search?q=things+to+do+in+Atlanta+in+september\"}, {\"text\": \"festivals in atlanta 2024\", \"displayText\": \"festivals in atlanta 2024\", \"webSearchUrl\": \"https:\\/\\/www.bing.com\\/search?q=festivals+in+Atlanta+2024\"}, {\"text\": \"september events in atlanta\", \"displayText\": \"september events in atlanta\", \"webSearchUrl\": \"https:\\/\\/www.bing.com\\/search?q=september+events+in+Atlanta\"}, {\"text\": \"atlanta in september 2023\", \"displayText\": \"atlanta in september 2023\", \"webSearchUrl\": \"https:\\/\\/www.bing.com\\/search?q=Atlanta+in+september+2023\"}, {\"text\": \"events in atlanta this weekend\", \"displayText\": \"events in atlanta this weekend\", \"webSearchUrl\": \"https:\\/\\/www.bing.com\\/search?q=events+in+Atlanta+this+weekend\"}, {\"text\": \"atlanta fall festivals 2023\", \"displayText\": \"atlanta fall festivals 2023\", \"webSearchUrl\": \"https:\\/\\/www.bing.com\\/search?q=Atlanta+fall+festivals+2023\"}, {\"text\": \"atlanta in september\", \"displayText\": \"atlanta in september\", \"webSearchUrl\": \"https:\\/\\/www.bing.com\\/search?q=Atlanta+in+september\"}]}, \"rankingResponse\": {\"mainline\": {\"items\": [{\"answerType\": \"WebPages\", \"resultIndex\": 0, \"value\": {\"id\": \"https:\\/\\/api.bing.microsoft.com\\/api\\/v7\\/#WebPages.0\"}}, {\"answerType\": \"WebPages\", \"resultIndex\": 1, \"value\": {\"id\": \"https:\\/\\/api.bing.microsoft.com\\/api\\/v7\\/#WebPages.1\"}}, {\"answerType\": \"WebPages\", \"resultIndex\": 2, \"value\": {\"id\": \"https:\\/\\/api.bing.microsoft.com\\/api\\/v7\\/#WebPages.2\"}}, {\"answerType\": \"WebPages\", \"resultIndex\": 3, \"value\": {\"id\": \"https:\\/\\/api.bing.microsoft.com\\/api\\/v7\\/#WebPages.3\"}}, {\"answerType\": \"WebPages\", \"resultIndex\": 4, \"value\": {\"id\": \"https:\\/\\/api.bing.microsoft.com\\/api\\/v7\\/#WebPages.4\"}}, {\"answerType\": \"RelatedSearches\", \"value\": {\"id\": \"https:\\/\\/api.bing.microsoft.com\\/api\\/v7\\/#RelatedSearches\"}}]}}}\n",
      "```\n",
      "\n",
      "I called the tool named crawl with these arguments:\n",
      "```\n",
      "{\"q\": \"things to do in Atlanta on September 22, 2024\", \"count\": 5, \"textFormat\": \"HTML\"}\n",
      "```\n",
      "and got this result:\n",
      "```\n",
      "{\"_type\": \"SearchResponse\", \"queryContext\": {\"originalQuery\": \"things to do in Atlanta on September 22, 2024\", \"askUserForLocation\": true}, \"webPages\": {\"webSearchUrl\": \"https:\\/\\/www.bing.com\\/search?q=things+to+do+in+Atlanta+on+September+22%2c+2024\", \"totalEstimatedMatches\": 5400000, \"value\": [{\"id\": \"https:\\/\\/api.bing.microsoft.com\\/api\\/v7\\/#WebPages.0\", \"name\": \"Cool Things To Do in September in Atlanta\", \"url\": \"https:\\/\\/discoveratlanta.com\\/stories\\/things-to-do\\/cool-things-to-do-in-september-in-atlanta\\/\", \"thumbnailUrl\": \"https:\\/\\/www.bing.com\\/th?id=OIP.m0ENCio7ytS2o9PQRWDCRgHaD4&w=80&h=80&c=1&pid=5.1\", \"datePublished\": \"2024-08-23T00:00:00.0000000\", \"datePublishedDisplayText\": \"Aug 23, 2024\", \"isFamilyFriendly\": true, \"displayUrl\": \"https:\\/\\/discoveratlanta.com\\/stories\\/things-to-do\\/cool-things-to-do-in-september-in-atlanta\", \"snippet\": \"The Sweet Auburn Music Fest, which takes place Sept. 28-29. The festival, located on Auburn Avenue, one of Atlanta’s most iconic streets, offers fun-filled entertainment, live music — everything from R&amp;B to gospel to alternative favorites — international food court, national artists, celebrities and vendors of all types.\", \"dateLastCrawled\": \"2024-09-20T02:07:00.0000000Z\", \"primaryImageOfPage\": {\"thumbnailUrl\": \"https:\\/\\/www.bing.com\\/th?id=OIP.m0ENCio7ytS2o9PQRWDCRgHaD4&w=80&h=80&c=1&pid=5.1\", \"width\": 80, \"height\": 80, \"sourceWidth\": 474, \"sourceHeight\": 248, \"imageId\": \"OIP.m0ENCio7ytS2o9PQRWDCRgHaD4\"}, \"cachedPageUrl\": \"http:\\/\\/cc.bingj.com\\/cache.aspx?q=things+to+do+in+Atlanta+on+September+22%2c+2024&d=4692574350671891&mkt=en-US&setlang=en-US&w=qtzwJZeH6LxV74GkIkdoRE4k4vk9MNbJ\", \"language\": \"en\", \"isNavigational\": true, \"richFacts\": [{\"label\": {\"text\": \"Author\"}, \"items\": [{\"text\": \"Mary Welch\"}], \"hint\": {\"text\": \"BASE:AUTHOR\"}}], \"noCache\": false, \"siteName\": \"Discover Atlanta\"}, {\"id\": \"https:\\/\\/api.bing.microsoft.com\\/api\\/v7\\/#WebPages.1\", \"name\": \"Atlanta weekend events, Sept. 20-22 - Axios Atlanta\", \"url\": \"https:\\/\\/www.axios.com\\/local\\/atlanta\\/2024\\/09\\/19\\/weekend-events-north-georgia-state-fair-harvest-on-the-hooch\", \"thumbnailUrl\": \"https:\\/\\/www.bing.com\\/th?id=OIF.swAlctXOA4%2bpapVc7fvwJw&w=80&h=80&c=1&pid=5.1\", \"datePublished\": \"2024-09-19T00:00:00.0000000\", \"datePublishedFreshnessText\": \"1 day ago\", \"isFamilyFriendly\": true, \"displayUrl\": \"https:\\/\\/www.axios.com\\/local\\/atlanta\\/2024\\/09\\/19\\/weekend-events-north-georgia-state-fair...\", \"snippet\": \"Celebrate Japan, ride a Ferris wheel and draw with chalk. Here&#39;s your lineup of weekend events happening around the A: 🎃 The Stone Mountain Park Pumpkin Festival celebrates the greatest of gourds (or arguably a squash).(through Nov. 3)🎡 The North Georgia State Fair starts Thursday at Jim Miller Park in Cobb County.(through Sept. 29)🎸 Hootie &amp; the Blowfish bring the Summer Camp with ...\", \"dateLastCrawled\": \"2024-09-19T11:42:00.0000000Z\", \"primaryImageOfPage\": {\"thumbnailUrl\": \"https:\\/\\/www.bing.com\\/th?id=OIF.swAlctXOA4%2bpapVc7fvwJw&w=80&h=80&c=1&pid=5.1\", \"width\": 80, \"height\": 80, \"sourceWidth\": 474, \"sourceHeight\": 266, \"imageId\": \"OIF.swAlctXOA4+papVc7fvwJw\"}, \"cachedPageUrl\": \"http:\\/\\/cc.bingj.com\\/cache.aspx?q=things+to+do+in+Atlanta+on+September+22%2c+2024&d=317409046812&mkt=en-US&setlang=en-US&w=tw736AcrZLOSZjhgHFwY5_GH8ckPA3Fc\", \"language\": \"en\", \"isNavigational\": false, \"noCache\": false, \"siteName\": \"Axios\"}, {\"id\": \"https:\\/\\/api.bing.microsoft.com\\/api\\/v7\\/#WebPages.2\", \"name\": \"Atlanta Events - September 2024 - Go South Atlanta\", \"url\": \"https:\\/\\/gosouthatlanta.com\\/things-to-do\\/events\\/atlanta-in-september.html\", \"thumbnailUrl\": \"https:\\/\\/www.bing.com\\/th?id=OIP.xm-3dn3hYJZHsVVU9WO5qwHaD4&w=80&h=80&c=1&pid=5.1\", \"isFamilyFriendly\": true, \"displayUrl\": \"https:\\/\\/gosouthatlanta.com\\/things-to-do\\/events\\/atlanta-in-september.html\", \"snippet\": \"Things to do in Atlanta, GA in September, including upcoming festivals, Labor Day Weekend events, Pride events, neighborhood events, comedy, musicals, races, conventions, shows and more. ... – The Mountaintop, August 30 - September 22 2024 Play at Alliance Theatre. More details – Atlanta Hip Hop Day Festival, August 31 - September 1 2024\", \"dateLastCrawled\": \"2024-09-18T18:12:00.0000000Z\", \"primaryImageOfPage\": {\"thumbnailUrl\": \"https:\\/\\/www.bing.com\\/th?id=OIP.xm-3dn3hYJZHsVVU9WO5qwHaD4&w=80&h=80&c=1&pid=5.1\", \"width\": 80, \"height\": 80, \"sourceWidth\": 474, \"sourceHeight\": 248, \"imageId\": \"OIP.xm-3dn3hYJZHsVVU9WO5qwHaD4\"}, \"cachedPageUrl\": \"http:\\/\\/cc.bingj.com\\/cache.aspx?q=things+to+do+in+Atlanta+on+September+22%2c+2024&d=4712253892329528&mkt=en-US&setlang=en-US&w=hxr63-nIoCxe4oOvzq1dGpeg_GE4sHjt\", \"language\": \"en\", \"isNavigational\": false, \"noCache\": false, \"siteName\": \"Go South Atlanta\"}, {\"id\": \"https:\\/\\/api.bing.microsoft.com\\/api\\/v7\\/#WebPages.3\", \"name\": \"80+ fall festivals &amp; fairs around metro Atlanta: Fun things to do in ...\", \"url\": \"https:\\/\\/www.atlantaonthecheap.com\\/fall-festivals-atlanta\\/\", \"thumbnailUrl\": \"https:\\/\\/www.bing.com\\/th?id=OIP.w0-v0ll6eXl6tJfBd5-ovwHaEV&w=80&h=80&c=1&pid=5.1\", \"datePublished\": \"2024-09-14T00:00:00.0000000\", \"datePublishedFreshnessText\": \"6 days ago\", \"isFamilyFriendly\": true, \"displayUrl\": \"https:\\/\\/www.atlantaonthecheap.com\\/fall-festivals-atlanta\", \"snippet\": \"♦ Atlanta Greek Festival. September 19 to 22, 2024 Greek Orthodox Cathedral of the Anunciation Atlanta. This festival is back in its traditional format for 2024! Enjoy delicious Greek cuisine to eat on-site or take home, plus traditional Greek music and dance. You can also tour the majestic Greek Orthodox cathedral and shop for Greek-inspired ...\", \"dateLastCrawled\": \"2024-09-19T23:02:00.0000000Z\", \"primaryImageOfPage\": {\"thumbnailUrl\": \"https:\\/\\/www.bing.com\\/th?id=OIP.w0-v0ll6eXl6tJfBd5-ovwHaEV&w=80&h=80&c=1&pid=5.1\", \"width\": 80, \"height\": 80, \"sourceWidth\": 474, \"sourceHeight\": 277, \"imageId\": \"OIP.w0-v0ll6eXl6tJfBd5-ovwHaEV\"}, \"cachedPageUrl\": \"http:\\/\\/cc.bingj.com\\/cache.aspx?q=things+to+do+in+Atlanta+on+September+22%2c+2024&d=5012794227311497&mkt=en-US&setlang=en-US&w=sdMvKYDIH0LnjjGt9vluoyq1DPm6ofe-\", \"language\": \"en\", \"isNavigational\": false, \"noCache\": false, \"siteName\": \"Atlanta on the Cheap\"}, {\"id\": \"https:\\/\\/api.bing.microsoft.com\\/api\\/v7\\/#WebPages.4\", \"name\": \"Things to do this weekend in metro Atlanta | Sept. 20-22, 2024\", \"url\": \"https:\\/\\/www.fox5atlanta.com\\/news\\/things-do-weekend-metro-atlanta-sept-20-22-2024\", \"datePublished\": \"2024-09-20T15:26:00.0000000\", \"datePublishedFreshnessText\": \"4 hours ago\", \"isFamilyFriendly\": true, \"displayUrl\": \"https:\\/\\/www.fox5atlanta.com\\/news\\/things-do-weekend-metro-atlanta-sept-20-22-2024\", \"snippet\": \"Indie Craft Experience Fall Market. When: 11 a.m. to 5 p.m. Sept. 21; Where: Yaarab Shrine Center, 400 Ponce de Leon Ave., Atlanta; What: A one-day craft and vintage market featuring more than 60 ...\", \"dateLastCrawled\": \"2024-09-20T17:53:00.0000000Z\", \"cachedPageUrl\": \"http:\\/\\/cc.bingj.com\\/cache.aspx?q=things+to+do+in+Atlanta+on+September+22%2c+2024&d=1760700866493&mkt=en-US&setlang=en-US&w=3ai_HE2rX03k8DGS_j_4ytlnLYAU-ScD\", \"language\": \"en\", \"isNavigational\": false, \"noCache\": false, \"siteName\": \"FOX 5 Atlanta\"}]}, \"relatedSearches\": {\"id\": \"https:\\/\\/api.bing.microsoft.com\\/api\\/v7\\/#RelatedSearches\", \"value\": [{\"text\": \"atlanta events september 2024\", \"displayText\": \"atlanta events september 2024\", \"webSearchUrl\": \"https:\\/\\/www.bing.com\\/search?q=Atlanta+events+september+2024\"}, {\"text\": \"things to do in atlanta in september\", \"displayText\": \"things to do in atlanta in september\", \"webSearchUrl\": \"https:\\/\\/www.bing.com\\/search?q=things+to+do+in+Atlanta+in+september\"}, {\"text\": \"september events in atlanta\", \"displayText\": \"september events in atlanta\", \"webSearchUrl\": \"https:\\/\\/www.bing.com\\/search?q=september+events+in+Atlanta\"}, {\"text\": \"festivals in atlanta 2024\", \"displayText\": \"festivals in atlanta 2024\", \"webSearchUrl\": \"https:\\/\\/www.bing.com\\/search?q=festivals+in+Atlanta+2024\"}, {\"text\": \"atlanta in september 2023\", \"displayText\": \"atlanta in september 2023\", \"webSearchUrl\": \"https:\\/\\/www.bing.com\\/search?q=Atlanta+in+september+2023\"}, {\"text\": \"events in atlanta this weekend\", \"displayText\": \"events in atlanta this weekend\", \"webSearchUrl\": \"https:\\/\\/www.bing.com\\/search?q=events+in+Atlanta+this+weekend\"}, {\"text\": \"atlanta in september\", \"displayText\": \"atlanta in september\", \"webSearchUrl\": \"https:\\/\\/www.bing.com\\/search?q=Atlanta+in+september\"}, {\"text\": \"atlanta fall festivals 2023\", \"displayText\": \"atlanta fall festivals 2023\", \"webSearchUrl\": \"https:\\/\\/www.bing.com\\/search?q=Atlanta+fall+festivals+2023\"}]}, \"rankingResponse\": {\"mainline\": {\"items\": [{\"answerType\": \"WebPages\", \"resultIndex\": 0, \"value\": {\"id\": \"https:\\/\\/api.bing.microsoft.com\\/api\\/v7\\/#WebPages.0\"}}, {\"answerType\": \"WebPages\", \"resultIndex\": 1, \"value\": {\"id\": \"https:\\/\\/api.bing.microsoft.com\\/api\\/v7\\/#WebPages.1\"}}, {\"answerType\": \"WebPages\", \"resultIndex\": 2, \"value\": {\"id\": \"https:\\/\\/api.bing.microsoft.com\\/api\\/v7\\/#WebPages.2\"}}, {\"answerType\": \"WebPages\", \"resultIndex\": 3, \"value\": {\"id\": \"https:\\/\\/api.bing.microsoft.com\\/api\\/v7\\/#WebPages.3\"}}, {\"answerType\": \"WebPages\", \"resultIndex\": 4, \"value\": {\"id\": \"https:\\/\\/api.bing.microsoft.com\\/api\\/v7\\/#WebPages.4\"}}, {\"answerType\": \"RelatedSearches\", \"value\": {\"id\": \"https:\\/\\/api.bing.microsoft.com\\/api\\/v7\\/#RelatedSearches\"}}]}}}\n",
      "```\n",
      "\n",
      "Here are some events and activities happening in Atlanta on September 21 and 22, 2024:\n",
      "\n",
      "### September 21, 2024\n",
      "1. **[Atlanta Events September 2024](https://atlanta-ga.events/september/)**\n",
      "   - Find various events like concerts, shows, sports, and more happening in Atlanta in September 2024.\n",
      "\n",
      "2. **[Cool Things To Do in September in Atlanta](https://discoveratlanta.com/stories/things-to-do/cool-things-to-do-in-september-in-atlanta/)**\n",
      "   - Explore food festivals, haunted attractions, and music festivals. \n",
      "\n",
      "3. **[Atlanta Events - September 2024](https://gosouthatlanta.com/things-to-do/events/atlanta-in-september.html)**\n",
      "   - Check out festivals, concerts, comedy shows, and more.\n",
      "\n",
      "4. **[80+ Fall Festivals & Fairs Around Metro Atlanta](https://www.atlantaonthecheap.com/fall-festivals-atlanta/)**\n",
      "   - Enjoy carnival rides, music, arts, food, and more at various fall festivals.\n",
      "\n",
      "5. **[20 Spectacular Things To Do This September In Atlanta](https://secretatlanta.co/things-to-do-september/)**\n",
      "   - Participate in events like the Seafood & Caribbean Music Festival.\n",
      "\n",
      "### September 22, 2024\n",
      "1. **[Cool Things To Do in September in Atlanta](https://discoveratlanta.com/stories/things-to-do/cool-things-to-do-in-september-in-atlanta/)**\n",
      "   - The Sweet Auburn Music Fest offers entertainment, live music, international food, and more.\n",
      "\n",
      "2. **[Atlanta Weekend Events, Sept. 20-22 - Axios Atlanta](https://www.axios.com/local/atlanta/2024/09/19/weekend-events-north-georgia-state-fair-harvest-on-the-hooch)**\n",
      "   - Celebrate various events like the Stone Mountain Park Pumpkin Festival and the North Georgia State Fair.\n",
      "\n",
      "3. **[Atlanta Events - September 2024](https://gosouthatlanta.com/things-to-do/events/atlanta-in-september.html)**\n",
      "   - Enjoy plays, hip hop festivals, and other events.\n",
      "\n",
      "4. **[80+ Fall Festivals & Fairs Around Metro Atlanta](https://www.atlantaonthecheap.com/fall-festivals-atlanta/)**\n",
      "   - Attend the Atlanta Greek Festival for traditional Greek cuisine, music, dance, and more.\n",
      "\n",
      "5. **[Things to Do This Weekend in Metro Atlanta | Sept. 20-22, 2024](https://www.fox5atlanta.com/news/things-do-weekend-metro-atlanta-sept-20-22-2024)**\n",
      "   - Visit the Indie Craft Experience Fall Market and enjoy a variety of crafts and vintage items.\n",
      "\n",
      "These links provide comprehensive guides to various events and activities happening over the weekend in Atlanta. Enjoy your weekend!\n",
      "\r\n"
     ]
    }
   ],
   "source": [
    "var assistantRunOptions = new AssistantRunOptions() {\n",
    "    AssistantName = \"Web Search Test\",\n",
    "    Instructions = \"Use python to get todays date and then use it to find things to do in Atlanta this weekend. Be careful to not include events in the past in your final answer. You can perform multiple searches if necessary\",\n",
    "    UseConversationEvaluator = false\n",
    "};\n",
    "var output = await AntRunnerLib.AssistantRunner.RunThread(assistantRunOptions, config);\n",
    "Console.WriteLine(output.Dialog)"
   ]
  },
  {
   "cell_type": "code",
   "execution_count": 4,
   "metadata": {
    "dotnet_interactive": {
     "language": "csharp"
    },
    "polyglot_notebook": {
     "kernelName": "csharp"
    },
    "vscode": {
     "languageId": "polyglot-notebook"
    }
   },
   "outputs": [
    {
     "name": "stdout",
     "output_type": "stream",
     "text": [
      "Here are some events and activities happening in Atlanta on September 21 and 22, 2024:\n",
      "\n",
      "### September 21, 2024\n",
      "1. **[Atlanta Events September 2024](https://atlanta-ga.events/september/)**\n",
      "   - Find various events like concerts, shows, sports, and more happening in Atlanta in September 2024.\n",
      "\n",
      "2. **[Cool Things To Do in September in Atlanta](https://discoveratlanta.com/stories/things-to-do/cool-things-to-do-in-september-in-atlanta/)**\n",
      "   - Explore food festivals, haunted attractions, and music festivals. \n",
      "\n",
      "3. **[Atlanta Events - September 2024](https://gosouthatlanta.com/things-to-do/events/atlanta-in-september.html)**\n",
      "   - Check out festivals, concerts, comedy shows, and more.\n",
      "\n",
      "4. **[80+ Fall Festivals & Fairs Around Metro Atlanta](https://www.atlantaonthecheap.com/fall-festivals-atlanta/)**\n",
      "   - Enjoy carnival rides, music, arts, food, and more at various fall festivals.\n",
      "\n",
      "5. **[20 Spectacular Things To Do This September In Atlanta](https://secretatlanta.co/things-to-do-september/)**\n",
      "   - Participate in events like the Seafood & Caribbean Music Festival.\n",
      "\n",
      "### September 22, 2024\n",
      "1. **[Cool Things To Do in September in Atlanta](https://discoveratlanta.com/stories/things-to-do/cool-things-to-do-in-september-in-atlanta/)**\n",
      "   - The Sweet Auburn Music Fest offers entertainment, live music, international food, and more.\n",
      "\n",
      "2. **[Atlanta Weekend Events, Sept. 20-22 - Axios Atlanta](https://www.axios.com/local/atlanta/2024/09/19/weekend-events-north-georgia-state-fair-harvest-on-the-hooch)**\n",
      "   - Celebrate various events like the Stone Mountain Park Pumpkin Festival and the North Georgia State Fair.\n",
      "\n",
      "3. **[Atlanta Events - September 2024](https://gosouthatlanta.com/things-to-do/events/atlanta-in-september.html)**\n",
      "   - Enjoy plays, hip hop festivals, and other events.\n",
      "\n",
      "4. **[80+ Fall Festivals & Fairs Around Metro Atlanta](https://www.atlantaonthecheap.com/fall-festivals-atlanta/)**\n",
      "   - Attend the Atlanta Greek Festival for traditional Greek cuisine, music, dance, and more.\n",
      "\n",
      "5. **[Things to Do This Weekend in Metro Atlanta | Sept. 20-22, 2024](https://www.fox5atlanta.com/news/things-do-weekend-metro-atlanta-sept-20-22-2024)**\n",
      "   - Visit the Indie Craft Experience Fall Market and enjoy a variety of crafts and vintage items.\n",
      "\n",
      "These links provide comprehensive guides to various events and activities happening over the weekend in Atlanta. Enjoy your weekend!\r\n"
     ]
    }
   ],
   "source": [
    "Console.WriteLine(output.LastMessage)"
   ]
  },
  {
   "cell_type": "markdown",
   "metadata": {},
   "source": [
    "## Clean Up"
   ]
  },
  {
   "cell_type": "code",
   "execution_count": 5,
   "metadata": {
    "dotnet_interactive": {
     "language": "csharp"
    },
    "polyglot_notebook": {
     "kernelName": "csharp"
    },
    "vscode": {
     "languageId": "polyglot-notebook"
    }
   },
   "outputs": [
    {
     "name": "stdout",
     "output_type": "stream",
     "text": [
      "Deleted assistant\r\n"
     ]
    }
   ],
   "source": [
    "var assistant = (await client.AssistantList())?.Data?.FirstOrDefault(o => o.Name == \"Web Search Test\");\n",
    "if(assistant != null) {\n",
    "    await client.AssistantDelete(assistant.Id);\n",
    "    Console.WriteLine(\"Deleted assistant\");\n",
    "}\n",
    "else\n",
    "{\n",
    "    Console.WriteLine(\"Didn't find MsGraphUserProfile\");\n",
    "}"
   ]
  }
 ],
 "metadata": {
  "kernelspec": {
   "display_name": ".NET (C#)",
   "language": "C#",
   "name": ".net-csharp"
  },
  "language_info": {
   "name": "python"
  },
  "polyglot_notebook": {
   "kernelInfo": {
    "defaultKernelName": "csharp",
    "items": [
     {
      "aliases": [],
      "name": "csharp"
     }
    ]
   }
  }
 },
 "nbformat": 4,
 "nbformat_minor": 2
}
