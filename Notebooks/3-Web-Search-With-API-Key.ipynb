{
 "cells": [
  {
   "cell_type": "markdown",
   "metadata": {},
   "source": [
    "## Web Search Test\n",
    "The **Web Search Test** ant demonstrates the use of a Web API secured using an API key with an auth header. This sample requires you to create a Web Search (bing) resource in Azure and enter its corresponding API key in [0-AI-settings](0-AI-settings.ipynb)"
   ]
  },
  {
   "cell_type": "markdown",
   "metadata": {},
   "source": [
    "## First steps\n",
    "- First, download AntRunLib from Nuget\n",
    "- At least once, set up the environment using **[0-AI-settings](0-AI-settings.ipynb)**"
   ]
  },
  {
   "cell_type": "code",
   "execution_count": 1,
   "metadata": {
    "dotnet_interactive": {
     "language": "csharp"
    },
    "polyglot_notebook": {
     "kernelName": "csharp"
    },
    "vscode": {
     "languageId": "polyglot-notebook"
    }
   },
   "outputs": [
    {
     "data": {
      "text/html": [
       "<div><div></div><div></div><div><strong>Installed Packages</strong><ul><li><span>AntRunnerLib, 0.6.8</span></li></ul></div></div>"
      ]
     },
     "metadata": {},
     "output_type": "display_data"
    }
   ],
   "source": [
    "#r \"nuget: AntRunnerLib, 0.6.8\"\n",
    "\n",
    "using AntRunnerLib;\n",
    "using AntRunnerLib.Identity;\n",
    "using static AntRunnerLib.ClientUtility;\n",
    "using System.IO;\n",
    "\n",
    "#!import config/Settings.cs \n",
    "\n",
    "var envVariables = Settings.GetEnvironmentVariables();\n",
    "foreach (var kvp in envVariables)\n",
    "{\n",
    "    Environment.SetEnvironmentVariable(kvp.Key, kvp.Value);\n",
    "}\n",
    "\n",
    "var config = AzureOpenAIConfigFactory.Get();\n",
    "var client = GetOpenAIClient(config);\n"
   ]
  },
  {
   "cell_type": "markdown",
   "metadata": {},
   "source": [
    "## Ensure the Web Search Test assistant exists\n",
    "The definition of this assistant is located in the \".\\AssistantDefinitions\\Web Search Test\" folder\n",
    "\n",
    "\".\\AssistantDefinitions\\\" is a default path. You can override it by setting the **ASSISTANTS_BASE_FOLDER_PATH** environment variable.\n",
    "\n",
    "\"Web Search Test\" contains the following files:\n",
    "```\n",
    "│   instructions.md - The instructions\n",
    "│   manifest.json - The base assistant definition\n",
    "│\n",
    "└───OpenAPI\n",
    "        api.bing.microsoft.com.json - A swagger file defining a tool named 'crawl' that uses web search\n",
    "        auth.json - See below... \n",
    "```        \n",
    "\n",
    "## auth.json\n",
    "AntRunnerLib uses the instructions in this file to create the correct auth header(s) for the API. In this case, a header is added to the web request, **Ocp-Apim-Subscription-Key**, the header's value is supplied by an environment variable named, SEARCH_API_KEY. The environment variable name is user defined and ensuring it has a value is the responsibility of the application. \n",
    "\n",
    "```json\n",
    "{\n",
    "  \"hosts\": {\n",
    "    \"api.bing.microsoft.com\": {\n",
    "      \"auth_type\": \"service_http\",\n",
    "      \"header_name\": \"Ocp-Apim-Subscription-Key\",\n",
    "      \"header_value_env_var\": \"SEARCH_API_KEY\"\n",
    "    }\n",
    "  }\n",
    "}\n",
    "```\n",
    "\n",
    "### Explanation\n",
    "`AssistantUtility.Create` acts based on the contents of a folder structure following a convention laid out in these notebooks. In this case, it copied the contents of instructions.md into the assistant manifest.json. It also parsed the api.bing.microsoft.com swagger which follows an Open API schema into tool defintions for the assitant."
   ]
  },
  {
   "cell_type": "code",
   "execution_count": 2,
   "metadata": {
    "dotnet_interactive": {
     "language": "csharp"
    },
    "polyglot_notebook": {
     "kernelName": "csharp"
    },
    "vscode": {
     "languageId": "polyglot-notebook"
    }
   },
   "outputs": [
    {
     "name": "stdout",
     "output_type": "stream",
     "text": [
      "asst_EQSYSbA4aSeMPrQMHQAWpFFh\r\n"
     ]
    }
   ],
   "source": [
    "var assistantId = await AssistantUtility.Create(\"Web Search Test\", config);\n",
    "Console.WriteLine(assistantId)"
   ]
  },
  {
   "cell_type": "markdown",
   "metadata": {},
   "source": [
    "## Run the Assistant\n",
    "\n",
    "`output.Dialog` shows the conversation."
   ]
  },
  {
   "cell_type": "code",
   "execution_count": 3,
   "metadata": {
    "dotnet_interactive": {
     "language": "csharp"
    },
    "polyglot_notebook": {
     "kernelName": "csharp"
    },
    "vscode": {
     "languageId": "polyglot-notebook"
    }
   },
   "outputs": [
    {
     "name": "stdout",
     "output_type": "stream",
     "text": [
      "\n",
      "User: Use python to get todays date and then use it to find things to do in Atlanta this weekend. Be careful to not include events in the past in your final answer. You can perform multiple searches if necessary\n",
      "\n",
      "Assistant: I ran this code:\n",
      "```\n",
      "from datetime import datetime, timedelta\n",
      "\n",
      "# Get today's date\n",
      "today = datetime.now()\n",
      "# Calculate the upcoming weekend dates (Saturday and Sunday)\n",
      "saturday = today + timedelta((5-today.weekday()) % 7)\n",
      "sunday = saturday + timedelta(1)\n",
      "\n",
      "# Format the dates for the search query\n",
      "saturday_str = saturday.strftime('%Y-%m-%d')\n",
      "sunday_str = sunday.strftime('%Y-%m-%d')\n",
      "\n",
      "today_str, saturday_str, sunday_str\n",
      "```\n",
      "\n",
      "I ran this code:\n",
      "```\n",
      "from datetime import datetime, timedelta\n",
      "\n",
      "# Get today's date\n",
      "today = datetime.now()\n",
      "# Calculate the upcoming weekend dates (Saturday and Sunday)\n",
      "saturday = today + timedelta((5-today.weekday()) % 7)\n",
      "sunday = saturday + timedelta(1)\n",
      "\n",
      "# Format the dates for the search query\n",
      "saturday_str = saturday.strftime('%Y-%m-%d')\n",
      "sunday_str = sunday.strftime('%Y-%m-%d')\n",
      "\n",
      "today_str = today.strftime('%Y-%m-%d')\n",
      "\n",
      "today_str, saturday_str, sunday_str\n",
      "```\n",
      "\n",
      "I called the tool named crawl with these arguments:\n",
      "```\n",
      "{\"q\": \"things to do in Atlanta on 2024-09-14\", \"textFormat\": \"HTML\", \"count\": 5}\n",
      "```\n",
      "and got this result:\n",
      "```\n",
      "{\"_type\": \"SearchResponse\", \"queryContext\": {\"originalQuery\": \"things to do in Atlanta on 2024-09-14\", \"askUserForLocation\": true}, \"webPages\": {\"webSearchUrl\": \"https:\\/\\/www.bing.com\\/search?q=things+to+do+in+Atlanta+on+2024-09-14\", \"totalEstimatedMatches\": 4660000, \"value\": [{\"id\": \"https:\\/\\/api.bing.microsoft.com\\/api\\/v7\\/#WebPages.0\", \"name\": \"Atlanta Events September 2024: Concerts, Shows, Sports...\", \"url\": \"https:\\/\\/atlanta-ga.events\\/september\\/\", \"datePublished\": \"2024-09-13T00:00:00.0000000\", \"datePublishedFreshnessText\": \"1 day ago\", \"isFamilyFriendly\": true, \"displayUrl\": \"https:\\/\\/atlanta-ga.events\\/september\", \"snippet\": \"Check Out The Atlanta Events Calendar for September 2024. See the List Of All Current &amp; Upcoming Events at the Lowest Possible Price.\", \"dateLastCrawled\": \"2024-09-13T07:06:00.0000000Z\", \"cachedPageUrl\": \"http:\\/\\/cc.bingj.com\\/cache.aspx?q=things+to+do+in+Atlanta+on+2024-09-14&d=4854189672130867&mkt=en-US&setlang=en-US&w=O1kFEpO7pJGfbkmdL1lCvH4mS1bjztOY\", \"language\": \"en\", \"isNavigational\": true, \"noCache\": false, \"siteName\": \"Atlanta Events\"}, {\"id\": \"https:\\/\\/api.bing.microsoft.com\\/api\\/v7\\/#WebPages.1\", \"name\": \"Atlanta Events - September 2024 - Go South Atlanta\", \"url\": \"https:\\/\\/gosouthatlanta.com\\/things-to-do\\/events\\/atlanta-in-september.html\", \"thumbnailUrl\": \"https:\\/\\/www.bing.com\\/th?id=OIP.xm-3dn3hYJZHsVVU9WO5qwHaD4&w=80&h=80&c=1&pid=5.1\", \"isFamilyFriendly\": true, \"displayUrl\": \"https:\\/\\/gosouthatlanta.com\\/things-to-do\\/events\\/atlanta-in-september.html\", \"snippet\": \"Things to do in Atlanta, GA in September, including upcoming festivals, Labor Day Weekend events, Pride events, neighborhood events, comedy, musicals, races ...\", \"dateLastCrawled\": \"2024-09-13T13:46:00.0000000Z\", \"primaryImageOfPage\": {\"thumbnailUrl\": \"https:\\/\\/www.bing.com\\/th?id=OIP.xm-3dn3hYJZHsVVU9WO5qwHaD4&w=80&h=80&c=1&pid=5.1\", \"width\": 80, \"height\": 80, \"sourceWidth\": 474, \"sourceHeight\": 248, \"imageId\": \"OIP.xm-3dn3hYJZHsVVU9WO5qwHaD4\"}, \"cachedPageUrl\": \"http:\\/\\/cc.bingj.com\\/cache.aspx?q=things+to+do+in+Atlanta+on+2024-09-14&d=4712253889708192&mkt=en-US&setlang=en-US&w=R0ufJfeRle5e4oOvzq1dGpeg_GE4sHjt\", \"language\": \"en\", \"isNavigational\": false, \"noCache\": false, \"siteName\": \"Go South Atlanta\"}, {\"id\": \"https:\\/\\/api.bing.microsoft.com\\/api\\/v7\\/#WebPages.2\", \"name\": \"Explore Atlanta Events for Today, This Week or Weekend\", \"url\": \"https:\\/\\/discoveratlanta.com\\/events\\/main\\/\", \"thumbnailUrl\": \"https:\\/\\/www.bing.com\\/th?id=OIP.3DyTauC1RQGSrkFxVURKLwHaEK&w=80&h=80&c=1&pid=5.1\", \"datePublished\": \"2010-10-23T00:00:00.0000000\", \"datePublishedDisplayText\": \"Oct 23, 2010\", \"isFamilyFriendly\": true, \"displayUrl\": \"https:\\/\\/discoveratlanta.com\\/events\\/m\", \"snippet\": \"Search the Atlanta events calendar below or explore our annual festivals and seasonal events taking place throughout the year. If you’re in ATL now, make sure you see what’s happening today, this week and find things to do this weekend so you don’t miss any one-of-a-kind Atlanta events.\", \"dateLastCrawled\": \"2024-09-13T03:20:00.0000000Z\", \"primaryImageOfPage\": {\"thumbnailUrl\": \"https:\\/\\/www.bing.com\\/th?id=OIP.3DyTauC1RQGSrkFxVURKLwHaEK&w=80&h=80&c=1&pid=5.1\", \"width\": 80, \"height\": 80, \"sourceWidth\": 474, \"sourceHeight\": 266, \"imageId\": \"OIP.3DyTauC1RQGSrkFxVURKLwHaEK\"}, \"cachedPageUrl\": \"http:\\/\\/cc.bingj.com\\/cache.aspx?q=things+to+do+in+Atlanta+on+2024-09-14&d=4819881469507157&mkt=en-US&setlang=en-US&w=A8gSpQXgK2iP1GMx_bJv9FTM8ziERJGY\", \"language\": \"en\", \"isNavigational\": false, \"noCache\": false, \"siteName\": \"Discover Atlanta\"}, {\"id\": \"https:\\/\\/api.bing.microsoft.com\\/api\\/v7\\/#WebPages.3\", \"name\": \"Cool Things To Do in September in Atlanta\", \"url\": \"https:\\/\\/discoveratlanta.com\\/stories\\/things-to-do\\/cool-things-to-do-in-september-in-atlanta\\/\", \"thumbnailUrl\": \"https:\\/\\/www.bing.com\\/th?id=OIP.m0ENCio7ytS2o9PQRWDCRgHaD4&w=80&h=80&c=1&pid=5.1\", \"datePublished\": \"2024-08-23T00:00:00.0000000\", \"datePublishedDisplayText\": \"Aug 23, 2024\", \"isFamilyFriendly\": true, \"displayUrl\": \"https:\\/\\/discoveratlanta.com\\/stories\\/things-to-do\\/cool-things-to-do-in-september-in-atlanta\", \"snippet\": \"September is a great time to be in Atlanta. There are amazing festivals — food and music — Black Pride events and football. It is the perfect time to do a lot of cool things and enjoy life with family and friends — or just by yourself.\", \"dateLastCrawled\": \"2024-09-13T15:07:00.0000000Z\", \"primaryImageOfPage\": {\"thumbnailUrl\": \"https:\\/\\/www.bing.com\\/th?id=OIP.m0ENCio7ytS2o9PQRWDCRgHaD4&w=80&h=80&c=1&pid=5.1\", \"width\": 80, \"height\": 80, \"sourceWidth\": 474, \"sourceHeight\": 248, \"imageId\": \"OIP.m0ENCio7ytS2o9PQRWDCRgHaD4\"}, \"cachedPageUrl\": \"http:\\/\\/cc.bingj.com\\/cache.aspx?q=things+to+do+in+Atlanta+on+2024-09-14&d=4692574348181541&mkt=en-US&setlang=en-US&w=XmDeYW253I9V74GkIkdoRE4k4vk9MNbJ\", \"language\": \"en\", \"isNavigational\": false, \"richFacts\": [{\"label\": {\"text\": \"Author\"}, \"items\": [{\"text\": \"Mary Welch\"}], \"hint\": {\"text\": \"BASE:AUTHOR\"}}], \"noCache\": false, \"siteName\": \"Discover Atlanta\"}, {\"id\": \"https:\\/\\/api.bing.microsoft.com\\/api\\/v7\\/#WebPages.4\", \"name\": \"Atlanta September 2024: Events, Concerts, Clubs &amp; Things to Do - Experism\", \"url\": \"https:\\/\\/www.experism.com\\/atlanta\\/september\", \"thumbnailUrl\": \"https:\\/\\/www.bing.com\\/th?id=OIP.opEpXe5xeSIGAQVvWLFBbAHaEK&w=80&h=80&c=1&pid=5.1\", \"isFamilyFriendly\": true, \"displayUrl\": \"https:\\/\\/www.experism.com\\/atlanta\\/september\", \"snippet\": \"Sep 12-15, 2024 Historic Fourth Ward Park View on Map. Play Video. The Atlanta Food &amp; Wine Festival highlights the best food, wine, beer &amp; cocktails Atlanta has to offer. This unique event brings in 150+ chefs, sommeliers, mixologists and industry insiders for 5 days of mouthwatering and tempting cuisines &amp; special Tasting Tents.\", \"dateLastCrawled\": \"2024-09-12T08:15:00.0000000Z\", \"primaryImageOfPage\": {\"thumbnailUrl\": \"https:\\/\\/www.bing.com\\/th?id=OIP.opEpXe5xeSIGAQVvWLFBbAHaEK&w=80&h=80&c=1&pid=5.1\", \"width\": 80, \"height\": 80, \"sourceWidth\": 474, \"sourceHeight\": 266, \"imageId\": \"OIP.opEpXe5xeSIGAQVvWLFBbAHaEK\"}, \"cachedPageUrl\": \"http:\\/\\/cc.bingj.com\\/cache.aspx?q=things+to+do+in+Atlanta+on+2024-09-14&d=4642636756102224&mkt=en-US&setlang=en-US&w=mRZw7cRKrsQ_Ok9mubm7deAiSBD33s7x\", \"language\": \"en\", \"isNavigational\": false, \"noCache\": false, \"siteName\": \"Experism\"}]}, \"relatedSearches\": {\"id\": \"https:\\/\\/api.bing.microsoft.com\\/api\\/v7\\/#RelatedSearches\", \"value\": [{\"text\": \"atlanta 2024 events\", \"displayText\": \"atlanta 2024 events\", \"webSearchUrl\": \"https:\\/\\/www.bing.com\\/search?q=atlanta+2024+events\"}, {\"text\": \"events in atlanta this weekend\", \"displayText\": \"events in atlanta this weekend\", \"webSearchUrl\": \"https:\\/\\/www.bing.com\\/search?q=events+in+atlanta+this+weekend\"}, {\"text\": \"events in atlanta today\", \"displayText\": \"events in atlanta today\", \"webSearchUrl\": \"https:\\/\\/www.bing.com\\/search?q=events+in+atlanta+today\"}, {\"text\": \"atlanta events this week\", \"displayText\": \"atlanta events this week\", \"webSearchUrl\": \"https:\\/\\/www.bing.com\\/search?q=atlanta+events+this+week\"}, {\"text\": \"atlanta events calendar\", \"displayText\": \"atlanta events calendar\", \"webSearchUrl\": \"https:\\/\\/www.bing.com\\/search?q=atlanta+events+calendar\"}, {\"text\": \"cool things to do in atlanta september\", \"displayText\": \"cool things to do in atlanta september\", \"webSearchUrl\": \"https:\\/\\/www.bing.com\\/search?q=cool+things+to+do+in+atlanta+september\"}, {\"text\": \"atlanta in september 2023\", \"displayText\": \"atlanta in september 2023\", \"webSearchUrl\": \"https:\\/\\/www.bing.com\\/search?q=atlanta+in+september+2023\"}, {\"text\": \"underground atlanta september events\", \"displayText\": \"underground atlanta september events\", \"webSearchUrl\": \"https:\\/\\/www.bing.com\\/search?q=underground+atlanta+september+events\"}]}, \"rankingResponse\": {\"mainline\": {\"items\": [{\"answerType\": \"WebPages\", \"resultIndex\": 0, \"value\": {\"id\": \"https:\\/\\/api.bing.microsoft.com\\/api\\/v7\\/#WebPages.0\"}}, {\"answerType\": \"WebPages\", \"resultIndex\": 1, \"value\": {\"id\": \"https:\\/\\/api.bing.microsoft.com\\/api\\/v7\\/#WebPages.1\"}}, {\"answerType\": \"WebPages\", \"resultIndex\": 2, \"value\": {\"id\": \"https:\\/\\/api.bing.microsoft.com\\/api\\/v7\\/#WebPages.2\"}}, {\"answerType\": \"WebPages\", \"resultIndex\": 3, \"value\": {\"id\": \"https:\\/\\/api.bing.microsoft.com\\/api\\/v7\\/#WebPages.3\"}}, {\"answerType\": \"WebPages\", \"resultIndex\": 4, \"value\": {\"id\": \"https:\\/\\/api.bing.microsoft.com\\/api\\/v7\\/#WebPages.4\"}}, {\"answerType\": \"RelatedSearches\", \"value\": {\"id\": \"https:\\/\\/api.bing.microsoft.com\\/api\\/v7\\/#RelatedSearches\"}}]}}}\n",
      "```\n",
      "\n",
      "I called the tool named crawl with these arguments:\n",
      "```\n",
      "{\"q\": \"things to do in Atlanta on 2024-09-15\", \"textFormat\": \"HTML\", \"count\": 5}\n",
      "```\n",
      "and got this result:\n",
      "```\n",
      "{\"_type\": \"SearchResponse\", \"queryContext\": {\"originalQuery\": \"things to do in Atlanta on 2024-09-15\", \"askUserForLocation\": true}, \"webPages\": {\"webSearchUrl\": \"https:\\/\\/www.bing.com\\/search?q=things+to+do+in+Atlanta+on+2024-09-15\", \"totalEstimatedMatches\": 7470000, \"value\": [{\"id\": \"https:\\/\\/api.bing.microsoft.com\\/api\\/v7\\/#WebPages.0\", \"name\": \"Atlanta Events September 2024: Concerts, Shows, Sports...\", \"url\": \"https:\\/\\/atlanta-ga.events\\/september\\/\", \"datePublished\": \"2024-09-13T00:00:00.0000000\", \"datePublishedFreshnessText\": \"1 day ago\", \"isFamilyFriendly\": true, \"displayUrl\": \"https:\\/\\/atlanta-ga.events\\/september\", \"snippet\": \"Check Out The Atlanta Events Calendar for September 2024. See the List Of All Current &amp; Upcoming Events at the Lowest Possible Price. ... Prices from $15 Avg. price ~ $242. Available Tickets: 649. Tickets; Sep. 13. 2024. 7:00 PM Fri. King Buzzo &amp; Trevor Dunn. Hell at The Masquerade - GA | Capacity: 300. 30303, 75 MLK Jr Dr SW, Atlanta, GA, US\", \"dateLastCrawled\": \"2024-09-13T07:06:00.0000000Z\", \"cachedPageUrl\": \"http:\\/\\/cc.bingj.com\\/cache.aspx?q=things+to+do+in+Atlanta+on+2024-09-15&d=4854189672130867&mkt=en-US&setlang=en-US&w=O1kFEpO7pJGfbkmdL1lCvH4mS1bjztOY\", \"language\": \"en\", \"isNavigational\": true, \"noCache\": false, \"siteName\": \"Atlanta Events\"}, {\"id\": \"https:\\/\\/api.bing.microsoft.com\\/api\\/v7\\/#WebPages.1\", \"name\": \"Atlanta Events - September 2024 - Go South Atlanta\", \"url\": \"https:\\/\\/gosouthatlanta.com\\/things-to-do\\/events\\/atlanta-in-september.html\", \"thumbnailUrl\": \"https:\\/\\/www.bing.com\\/th?id=OIP.xm-3dn3hYJZHsVVU9WO5qwHaD4&w=80&h=80&c=1&pid=5.1\", \"isFamilyFriendly\": true, \"displayUrl\": \"https:\\/\\/gosouthatlanta.com\\/things-to-do\\/events\\/atlanta-in-september.html\", \"snippet\": \"More details. – Dragon Con, August 29 - September 2 2024. One of the biggest annual pop culture conventions in the country. More details. – Atlanta Black Theatre Festival, August 30 - September 1 2024. Annual festival celebrating the Black experience in the performing arts, with plays, panels, masterclasses and other events.\", \"dateLastCrawled\": \"2024-09-13T00:21:00.0000000Z\", \"primaryImageOfPage\": {\"thumbnailUrl\": \"https:\\/\\/www.bing.com\\/th?id=OIP.xm-3dn3hYJZHsVVU9WO5qwHaD4&w=80&h=80&c=1&pid=5.1\", \"width\": 80, \"height\": 80, \"sourceWidth\": 474, \"sourceHeight\": 248, \"imageId\": \"OIP.xm-3dn3hYJZHsVVU9WO5qwHaD4\"}, \"cachedPageUrl\": \"http:\\/\\/cc.bingj.com\\/cache.aspx?q=things+to+do+in+Atlanta+on+2024-09-15&d=4712253889708192&mkt=en-US&setlang=en-US&w=R0ufJfeRle5e4oOvzq1dGpeg_GE4sHjt\", \"language\": \"en\", \"isNavigational\": false, \"noCache\": false, \"siteName\": \"Go South Atlanta\"}, {\"id\": \"https:\\/\\/api.bing.microsoft.com\\/api\\/v7\\/#WebPages.2\", \"name\": \"Cool Things To Do in September in Atlanta\", \"url\": \"https:\\/\\/discoveratlanta.com\\/stories\\/things-to-do\\/cool-things-to-do-in-september-in-atlanta\\/\", \"thumbnailUrl\": \"https:\\/\\/www.bing.com\\/th?id=OIP.m0ENCio7ytS2o9PQRWDCRgHaD4&w=80&h=80&c=1&pid=5.1\", \"datePublished\": \"2024-08-23T00:00:00.0000000\", \"datePublishedDisplayText\": \"Aug 23, 2024\", \"isFamilyFriendly\": true, \"displayUrl\": \"https:\\/\\/discoveratlanta.com\\/stories\\/things-to-do\\/cool-things-to-do-in-september-in-atlanta\", \"snippet\": \"The Sweet Auburn Music Fest, which takes place Sept. 28-29. The festival, located on Auburn Avenue, one of Atlanta’s most iconic streets, offers fun-filled entertainment, live music — everything from R&amp;B to gospel to alternative favorites — international food court, national artists, celebrities and vendors of all types.\", \"dateLastCrawled\": \"2024-09-12T08:06:00.0000000Z\", \"primaryImageOfPage\": {\"thumbnailUrl\": \"https:\\/\\/www.bing.com\\/th?id=OIP.m0ENCio7ytS2o9PQRWDCRgHaD4&w=80&h=80&c=1&pid=5.1\", \"width\": 80, \"height\": 80, \"sourceWidth\": 474, \"sourceHeight\": 248, \"imageId\": \"OIP.m0ENCio7ytS2o9PQRWDCRgHaD4\"}, \"cachedPageUrl\": \"http:\\/\\/cc.bingj.com\\/cache.aspx?q=things+to+do+in+Atlanta+on+2024-09-15&d=4692574348181541&mkt=en-US&setlang=en-US&w=XmDeYW253I9V74GkIkdoRE4k4vk9MNbJ\", \"language\": \"en\", \"isNavigational\": false, \"richFacts\": [{\"label\": {\"text\": \"Author\"}, \"items\": [{\"text\": \"Mary Welch\"}], \"hint\": {\"text\": \"BASE:AUTHOR\"}}], \"noCache\": false, \"siteName\": \"Discover Atlanta\"}, {\"id\": \"https:\\/\\/api.bing.microsoft.com\\/api\\/v7\\/#WebPages.3\", \"name\": \"Explore Atlanta Events for Today, This Week or Weekend\", \"url\": \"https:\\/\\/discoveratlanta.com\\/events\\/main\\/\", \"thumbnailUrl\": \"https:\\/\\/www.bing.com\\/th?id=OIP.3DyTauC1RQGSrkFxVURKLwHaEK&w=80&h=80&c=1&pid=5.1\", \"datePublished\": \"2010-10-23T00:00:00.0000000\", \"datePublishedDisplayText\": \"Oct 23, 2010\", \"isFamilyFriendly\": true, \"displayUrl\": \"https:\\/\\/discoveratlanta.com\\/events\\/m\", \"snippet\": \"Explore the Atlanta events calendar for things to do today, this week or this weekend. Find upcoming festivals, seasonal events and more! ... Multiple dates until 09\\/20\\/2024. The Princess Bride in Concert with the ASO 9\\/13\\/24 – 9\\/14\\/24. ATL Biz Fest ... QS Discover for Masters and MBA in Atlanta 10\\/15\\/24. Feed Your Senses Concert: Nikki ...\", \"dateLastCrawled\": \"2024-09-13T03:20:00.0000000Z\", \"primaryImageOfPage\": {\"thumbnailUrl\": \"https:\\/\\/www.bing.com\\/th?id=OIP.3DyTauC1RQGSrkFxVURKLwHaEK&w=80&h=80&c=1&pid=5.1\", \"width\": 80, \"height\": 80, \"sourceWidth\": 474, \"sourceHeight\": 266, \"imageId\": \"OIP.3DyTauC1RQGSrkFxVURKLwHaEK\"}, \"cachedPageUrl\": \"http:\\/\\/cc.bingj.com\\/cache.aspx?q=things+to+do+in+Atlanta+on+2024-09-15&d=4819881469507157&mkt=en-US&setlang=en-US&w=A8gSpQXgK2iP1GMx_bJv9FTM8ziERJGY\", \"language\": \"en\", \"isNavigational\": false, \"noCache\": false, \"siteName\": \"Discover Atlanta\"}, {\"id\": \"https:\\/\\/api.bing.microsoft.com\\/api\\/v7\\/#WebPages.4\", \"name\": \"Atlanta weekend events, Sept. 13-15 - Axios Atlanta\", \"url\": \"https:\\/\\/www.axios.com\\/local\\/atlanta\\/2024\\/09\\/12\\/atlanta-weekend-events-sept-13-15\", \"thumbnailUrl\": \"https:\\/\\/www.bing.com\\/th?id=OIF.sueYvnlBDgPJd32dBCMuCQ&w=80&h=80&c=1&pid=5.1\", \"datePublished\": \"2024-09-12T00:00:00.0000000\", \"datePublishedFreshnessText\": \"2 days ago\", \"isFamilyFriendly\": true, \"displayUrl\": \"https:\\/\\/www.axios.com\\/local\\/atlanta\\/2024\\/09\\/12\\/atlanta-weekend-events-sept-13-15\", \"snippet\": \"Don&#39;t let the forecast of rain stop you from making the most of your weekend. Get out there with these events: 🏀 The Atlanta Dream will play the Washington Mystics at Gateway Center Arena.(🎤 CeeLo Green takes the stage at The Bowl at Sugar Hill in Gwinnett County. (🍷 The Atlanta Food and Wine Festival returns to the Historic Fourth Ward Park.\", \"dateLastCrawled\": \"2024-09-12T10:54:00.0000000Z\", \"primaryImageOfPage\": {\"thumbnailUrl\": \"https:\\/\\/www.bing.com\\/th?id=OIF.sueYvnlBDgPJd32dBCMuCQ&w=80&h=80&c=1&pid=5.1\", \"width\": 80, \"height\": 80, \"sourceWidth\": 474, \"sourceHeight\": 266, \"imageId\": \"OIF.sueYvnlBDgPJd32dBCMuCQ\"}, \"cachedPageUrl\": \"http:\\/\\/cc.bingj.com\\/cache.aspx?q=things+to+do+in+Atlanta+on+2024-09-15&d=314912552201&mkt=en-US&setlang=en-US&w=dUi0mSjd1xWmg1BWAdk6_gI7dM2h1h2i\", \"language\": \"en\", \"isNavigational\": false, \"noCache\": false, \"siteName\": \"Axios\"}]}, \"relatedSearches\": {\"id\": \"https:\\/\\/api.bing.microsoft.com\\/api\\/v7\\/#RelatedSearches\", \"value\": [{\"text\": \"atlanta 2024 events\", \"displayText\": \"atlanta 2024 events\", \"webSearchUrl\": \"https:\\/\\/www.bing.com\\/search?q=Atlanta+2024+events\"}, {\"text\": \"events in atlanta this weekend\", \"displayText\": \"events in atlanta this weekend\", \"webSearchUrl\": \"https:\\/\\/www.bing.com\\/search?q=events+in+Atlanta+this+weekend\"}, {\"text\": \"events in atlanta today\", \"displayText\": \"events in atlanta today\", \"webSearchUrl\": \"https:\\/\\/www.bing.com\\/search?q=events+in+Atlanta+today\"}, {\"text\": \"atlanta events this week\", \"displayText\": \"atlanta events this week\", \"webSearchUrl\": \"https:\\/\\/www.bing.com\\/search?q=Atlanta+events+this+week\"}, {\"text\": \"atlanta events calendar\", \"displayText\": \"atlanta events calendar\", \"webSearchUrl\": \"https:\\/\\/www.bing.com\\/search?q=Atlanta+events+calendar\"}, {\"text\": \"cool things to do in atlanta september\", \"displayText\": \"cool things to do in atlanta september\", \"webSearchUrl\": \"https:\\/\\/www.bing.com\\/search?q=cool+things+to+do+in+Atlanta+september\"}, {\"text\": \"atlanta in september 2023\", \"displayText\": \"atlanta in september 2023\", \"webSearchUrl\": \"https:\\/\\/www.bing.com\\/search?q=Atlanta+in+september+2023\"}, {\"text\": \"underground atlanta september events\", \"displayText\": \"underground atlanta september events\", \"webSearchUrl\": \"https:\\/\\/www.bing.com\\/search?q=underground+Atlanta+september+events\"}]}, \"rankingResponse\": {\"mainline\": {\"items\": [{\"answerType\": \"WebPages\", \"resultIndex\": 0, \"value\": {\"id\": \"https:\\/\\/api.bing.microsoft.com\\/api\\/v7\\/#WebPages.0\"}}, {\"answerType\": \"WebPages\", \"resultIndex\": 1, \"value\": {\"id\": \"https:\\/\\/api.bing.microsoft.com\\/api\\/v7\\/#WebPages.1\"}}, {\"answerType\": \"WebPages\", \"resultIndex\": 2, \"value\": {\"id\": \"https:\\/\\/api.bing.microsoft.com\\/api\\/v7\\/#WebPages.2\"}}, {\"answerType\": \"WebPages\", \"resultIndex\": 3, \"value\": {\"id\": \"https:\\/\\/api.bing.microsoft.com\\/api\\/v7\\/#WebPages.3\"}}, {\"answerType\": \"WebPages\", \"resultIndex\": 4, \"value\": {\"id\": \"https:\\/\\/api.bing.microsoft.com\\/api\\/v7\\/#WebPages.4\"}}, {\"answerType\": \"RelatedSearches\", \"value\": {\"id\": \"https:\\/\\/api.bing.microsoft.com\\/api\\/v7\\/#RelatedSearches\"}}]}}}\n",
      "```\n",
      "\n",
      "Here are some things to do in Atlanta this weekend (September 14-15, 2024):\n",
      "\n",
      "### Saturday, September 14, 2024\n",
      "1. **Atlanta Food & Wine Festival** - Enjoy the best food, wine, beer, and cocktails Atlanta has to offer. Held at the Historic Fourth Ward Park. [More Info](https://www.experism.com/atlanta/september)\n",
      "\n",
      "2. **Concerts and Shows** - Check out the various concerts and shows happening in Atlanta. [Atlanta Events](https://atlanta-ga.events/september/)\n",
      "\n",
      "3. **Dragon Con** - One of the biggest annual pop culture conventions in the country. [Go South Atlanta](https://gosouthatlanta.com/things-to-do/events/atlanta-in-september.html)\n",
      "\n",
      "4. **Explore Annual Festivals** - Visit the Discover Atlanta website for a list of all current and upcoming events. [Discover Atlanta](https://discoveratlanta.com/events/main/)\n",
      "\n",
      "5. **Black Pride Events** - Celebrate Black Pride with various events including food and music festivals. [Discover Atlanta](https://discoveratlanta.com/stories/things-to-do/cool-things-to-do-in-september-in-atlanta/)\n",
      "\n",
      "### Sunday, September 15, 2024\n",
      "1. **Atlanta Food & Wine Festival** - Continuation of the festival, featuring more delicious food, wine, and entertainment. [Experism](https://www.experism.com/atlanta/september)\n",
      "\n",
      "2. **Concerts and Shows** - Various concerts and shows happening in Atlanta. [Atlanta Events](https://atlanta-ga.events/september/)\n",
      "\n",
      "3. **Explore Annual Festivals** - Visit the Discover Atlanta website for a list of all current and upcoming events. [Discover Atlanta](https://discoveratlanta.com/events/main/)\n",
      "\n",
      "4. **Sweet Auburn Music Fest** - Offers fun-filled entertainment and live music from R&B to gospel to alternative favorites, located on Auburn Avenue. [Discover Atlanta](https://discoveratlanta.com/stories/things-to-do/cool-things-to-do-in-september-in-atlanta/)\n",
      "\n",
      "5. **Atlanta Dream vs. Washington Mystics** - Catch a WNBA game at the Gateway Center Arena. [Axios Atlanta](https://www.axios.com/local/atlanta/2024/09/12/atlanta-weekend-events-sept-13-15)\n",
      "\n",
      "For more detailed information and additional events, you can visit the following links:\n",
      "- [Atlanta Events Calendar for September 2024](https://atlanta-ga.events/september/)\n",
      "- [Go South Atlanta - Events in September 2024](https://gosouthatlanta.com/things-to-do/events/atlanta-in-september.html)\n",
      "- [Discover Atlanta Events](https://discoveratlanta.com/events/main/)\n",
      "- [Experism - Atlanta in September](https://www.experism.com/atlanta/september)\n",
      "- [Axios Atlanta - Weekend Events](https://www.axios.com/local/atlanta/2024/09/12/atlanta-weekend-events-sept-13-15)\n",
      "\r\n"
     ]
    }
   ],
   "source": [
    "var assistantRunOptions = new AssistantRunOptions() {\n",
    "    AssistantName = \"Web Search Test\",\n",
    "    Instructions = \"Use python to get todays date and then use it to find things to do in Atlanta this weekend. Be careful to not include events in the past in your final answer. You can perform multiple searches if necessary\",\n",
    "    UseConversationEvaluator = false\n",
    "};\n",
    "var output = await AntRunnerLib.AssistantRunner.RunThread(assistantRunOptions, config);\n",
    "Console.WriteLine(output.Dialog)"
   ]
  },
  {
   "cell_type": "code",
   "execution_count": 4,
   "metadata": {
    "dotnet_interactive": {
     "language": "csharp"
    },
    "polyglot_notebook": {
     "kernelName": "csharp"
    },
    "vscode": {
     "languageId": "polyglot-notebook"
    }
   },
   "outputs": [
    {
     "name": "stdout",
     "output_type": "stream",
     "text": [
      "Here are some things to do in Atlanta this weekend (September 14-15, 2024):\n",
      "\n",
      "### Saturday, September 14, 2024\n",
      "1. **Atlanta Food & Wine Festival** - Enjoy the best food, wine, beer, and cocktails Atlanta has to offer. Held at the Historic Fourth Ward Park. [More Info](https://www.experism.com/atlanta/september)\n",
      "\n",
      "2. **Concerts and Shows** - Check out the various concerts and shows happening in Atlanta. [Atlanta Events](https://atlanta-ga.events/september/)\n",
      "\n",
      "3. **Dragon Con** - One of the biggest annual pop culture conventions in the country. [Go South Atlanta](https://gosouthatlanta.com/things-to-do/events/atlanta-in-september.html)\n",
      "\n",
      "4. **Explore Annual Festivals** - Visit the Discover Atlanta website for a list of all current and upcoming events. [Discover Atlanta](https://discoveratlanta.com/events/main/)\n",
      "\n",
      "5. **Black Pride Events** - Celebrate Black Pride with various events including food and music festivals. [Discover Atlanta](https://discoveratlanta.com/stories/things-to-do/cool-things-to-do-in-september-in-atlanta/)\n",
      "\n",
      "### Sunday, September 15, 2024\n",
      "1. **Atlanta Food & Wine Festival** - Continuation of the festival, featuring more delicious food, wine, and entertainment. [Experism](https://www.experism.com/atlanta/september)\n",
      "\n",
      "2. **Concerts and Shows** - Various concerts and shows happening in Atlanta. [Atlanta Events](https://atlanta-ga.events/september/)\n",
      "\n",
      "3. **Explore Annual Festivals** - Visit the Discover Atlanta website for a list of all current and upcoming events. [Discover Atlanta](https://discoveratlanta.com/events/main/)\n",
      "\n",
      "4. **Sweet Auburn Music Fest** - Offers fun-filled entertainment and live music from R&B to gospel to alternative favorites, located on Auburn Avenue. [Discover Atlanta](https://discoveratlanta.com/stories/things-to-do/cool-things-to-do-in-september-in-atlanta/)\n",
      "\n",
      "5. **Atlanta Dream vs. Washington Mystics** - Catch a WNBA game at the Gateway Center Arena. [Axios Atlanta](https://www.axios.com/local/atlanta/2024/09/12/atlanta-weekend-events-sept-13-15)\n",
      "\n",
      "For more detailed information and additional events, you can visit the following links:\n",
      "- [Atlanta Events Calendar for September 2024](https://atlanta-ga.events/september/)\n",
      "- [Go South Atlanta - Events in September 2024](https://gosouthatlanta.com/things-to-do/events/atlanta-in-september.html)\n",
      "- [Discover Atlanta Events](https://discoveratlanta.com/events/main/)\n",
      "- [Experism - Atlanta in September](https://www.experism.com/atlanta/september)\n",
      "- [Axios Atlanta - Weekend Events](https://www.axios.com/local/atlanta/2024/09/12/atlanta-weekend-events-sept-13-15)\r\n"
     ]
    }
   ],
   "source": [
    "Console.WriteLine(output.LastMessage)"
   ]
  },
  {
   "cell_type": "markdown",
   "metadata": {},
   "source": [
    "## Clean Up"
   ]
  },
  {
   "cell_type": "code",
   "execution_count": 5,
   "metadata": {
    "dotnet_interactive": {
     "language": "csharp"
    },
    "polyglot_notebook": {
     "kernelName": "csharp"
    },
    "vscode": {
     "languageId": "polyglot-notebook"
    }
   },
   "outputs": [
    {
     "name": "stdout",
     "output_type": "stream",
     "text": [
      "Deleted assistant\r\n"
     ]
    }
   ],
   "source": [
    "var assistant = (await client.AssistantList())?.Data?.FirstOrDefault(o => o.Name == \"Web Search Test\");\n",
    "if(assistant != null) {\n",
    "    await client.AssistantDelete(assistant.Id);\n",
    "    Console.WriteLine(\"Deleted assistant\");\n",
    "}\n",
    "else\n",
    "{\n",
    "    Console.WriteLine(\"Didn't find MsGraphUserProfile\");\n",
    "}"
   ]
  }
 ],
 "metadata": {
  "kernelspec": {
   "display_name": ".NET (C#)",
   "language": "C#",
   "name": ".net-csharp"
  },
  "language_info": {
   "name": "python"
  },
  "polyglot_notebook": {
   "kernelInfo": {
    "defaultKernelName": "csharp",
    "items": [
     {
      "aliases": [],
      "name": "csharp"
     }
    ]
   }
  }
 },
 "nbformat": 4,
 "nbformat_minor": 2
}
