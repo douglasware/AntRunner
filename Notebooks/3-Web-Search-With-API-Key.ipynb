{
 "cells": [
  {
   "cell_type": "markdown",
   "metadata": {},
   "source": [
    "## Web Search Test\n",
    "The **Web Search Test** ant demonstrates the use of a Web API secured using an API key with an auth header. This sample requires you to create a Web Search (bing) resource in Azure and enter its corresponding API key in [0-AI-settings](0-AI-settings.ipynb)"
   ]
  },
  {
   "cell_type": "markdown",
   "metadata": {},
   "source": [
    "## First steps\n",
    "- First, download AntRunLib from Nuget\n",
    "- At least once, set up the environment using **[0-AI-settings](0-AI-settings.ipynb)**"
   ]
  },
  {
   "cell_type": "code",
   "execution_count": 1,
   "metadata": {
    "dotnet_interactive": {
     "language": "csharp"
    },
    "polyglot_notebook": {
     "kernelName": "csharp"
    },
    "vscode": {
     "languageId": "polyglot-notebook"
    }
   },
   "outputs": [
    {
     "data": {
      "text/html": [
       "<div><div></div><div></div><div><strong>Installed Packages</strong><ul><li><span>AntRunnerLib, 0.8.6</span></li></ul></div></div>"
      ]
     },
     "metadata": {},
     "output_type": "display_data"
    }
   ],
   "source": [
    "#r \"nuget: AntRunnerLib, 0.8.6\"\n",
    "\n",
    "using AntRunnerLib;\n",
    "using AntRunnerLib.Identity;\n",
    "using static AntRunnerLib.ClientUtility;\n",
    "using System.IO;\n",
    "\n",
    "#!import config/Settings.cs \n",
    "\n",
    "var envVariables = Settings.GetEnvironmentVariables();\n",
    "foreach (var kvp in envVariables)\n",
    "{\n",
    "    Environment.SetEnvironmentVariable(kvp.Key, kvp.Value);\n",
    "}\n",
    "\n",
    "var config = AzureOpenAiConfigFactory.Get();\n",
    "var client = GetOpenAiClient(config);\n"
   ]
  },
  {
   "cell_type": "markdown",
   "metadata": {},
   "source": [
    "## Ensure the Web Search Test assistant exists\n",
    "The definition of this assistant is located in the \".\\AssistantDefinitions\\Web Search Test\" folder\n",
    "\n",
    "\".\\AssistantDefinitions\\\" is a default path. You can override it by setting the **ASSISTANTS_BASE_FOLDER_PATH** environment variable.\n",
    "\n",
    "\"Web Search Test\" contains the following files:\n",
    "```\n",
    "│   instructions.md - The instructions\n",
    "│   manifest.json - The base assistant definition\n",
    "│\n",
    "└───OpenAPI\n",
    "        api.bing.microsoft.com.json - A swagger file defining a tool named 'crawl' that uses web search\n",
    "        auth.json - See below... \n",
    "```        \n",
    "\n",
    "## auth.json\n",
    "AntRunnerLib uses the instructions in this file to create the correct auth header(s) for the API. In this case, a header is added to the web request, **Ocp-Apim-Subscription-Key**, the header's value is supplied by an environment variable named, SEARCH_API_KEY. The environment variable name is user defined and ensuring it has a value is the responsibility of the application. \n",
    "\n",
    "```json\n",
    "{\n",
    "  \"hosts\": {\n",
    "    \"api.bing.microsoft.com\": {\n",
    "      \"auth_type\": \"service_http\",\n",
    "      \"header_name\": \"Ocp-Apim-Subscription-Key\",\n",
    "      \"header_value_env_var\": \"SEARCH_API_KEY\"\n",
    "    }\n",
    "  }\n",
    "}\n",
    "```\n",
    "\n",
    "### Explanation\n",
    "`AssistantUtility.Create` acts based on the contents of a folder structure following a convention laid out in these notebooks. In this case, it copied the contents of instructions.md into the assistant manifest.json. It also parsed the api.bing.microsoft.com swagger which follows an Open API schema into tool defintions for the assitant."
   ]
  },
  {
   "cell_type": "code",
   "execution_count": 2,
   "metadata": {
    "dotnet_interactive": {
     "language": "csharp"
    },
    "polyglot_notebook": {
     "kernelName": "csharp"
    },
    "vscode": {
     "languageId": "polyglot-notebook"
    }
   },
   "outputs": [
    {
     "name": "stdout",
     "output_type": "stream",
     "text": [
      "asst_Lm2ZEcKdJA996PbvnAXiBzuO\r\n"
     ]
    }
   ],
   "source": [
    "var assistantId = await AssistantUtility.Create(\"Web Search Test\", config);\n",
    "Console.WriteLine(assistantId)"
   ]
  },
  {
   "cell_type": "markdown",
   "metadata": {},
   "source": [
    "## Run the Assistant\n",
    "\n",
    "`output.Dialog` shows the conversation."
   ]
  },
  {
   "cell_type": "code",
   "execution_count": 3,
   "metadata": {
    "dotnet_interactive": {
     "language": "csharp"
    },
    "polyglot_notebook": {
     "kernelName": "csharp"
    },
    "vscode": {
     "languageId": "polyglot-notebook"
    }
   },
   "outputs": [
    {
     "data": {
      "text/markdown": [
       "\n",
       "User: Use python to get todays date and then use it to find things to do in Atlanta today. Be careful to not include events in the past in your final answer.\n",
       "\n",
       "Assistant: I ran this code:\n",
       "```\n",
       "from datetime import datetime\n",
       "\n",
       "# Get today's date\n",
       "today_date = datetime.now().strftime(\"%Y-%m-%d\")\n",
       "today_date\n",
       "```\n",
       "\n",
       "I called the tool named crawl with these arguments:\n",
       "```\n",
       "{\n",
       "  \"q\": \"things to do in Atlanta today September 24 2024\",\n",
       "  \"answerCount\": 5,\n",
       "  \"textFormat\": \"HTML\"\n",
       "}\n",
       "```\n",
       "and got this result:\n",
       "```\n",
       "{\"queryContext\":{\"originalQuery\":\"things to do in Atlanta today September 24 2024\"},\"webPages\":{\"value\":[{\"name\":\"Explore Atlanta Events for Today, This Week or Weekend\",\"url\":\"https://discoveratlanta.com/events/main/\",\"displayUrl\":\"https://discoveratlanta.com/events/m\",\"snippet\":\"Stay up to date on things to do and events in Atlanta today, this week and this weekend. Whether you\\u2019re into live music, food and wine, sports or family-friendly entertainment, Atlanta events offer nonstop fun for everyone. ... Venture Atlanta 2024 10/8/24 \\u2013 10/9/24. Atlanta miniFEST 10/9/24 \\u2013 10/10/24. Homeshake ... September 24. Tuesday ...\",\"cachedPageUrl\":\"http://cc.bingj.com/cache.aspx?q=things\\u002Bto\\u002Bdo\\u002Bin\\u002BAtlanta\\u002Btoday\\u002BSeptember\\u002B24\\u002B2024\\u0026d=4819881473496114\\u0026mkt=en-US\\u0026setlang=en-US\\u0026w=zvJBiG0Dg4eP1GMx_bJv9FTM8ziERJGY\"},{\"name\":\"Cool Things To Do in September in Atlanta\",\"url\":\"https://discoveratlanta.com/stories/things-to-do/cool-things-to-do-in-september-in-atlanta/\",\"displayUrl\":\"https://discoveratlanta.com/stories/things-to-do/cool-things-to-do-in-september-in-atlanta\",\"snippet\":\"The Sweet Auburn Music Fest, which takes place Sept. 28-29. The festival, located on Auburn Avenue, one of Atlanta\\u2019s most iconic streets, offers fun-filled entertainment, live music \\u2014 everything from R\\u0026amp;B to gospel to alternative favorites \\u2014 international food court, national artists, celebrities and vendors of all types.\",\"cachedPageUrl\":\"http://cc.bingj.com/cache.aspx?q=things\\u002Bto\\u002Bdo\\u002Bin\\u002BAtlanta\\u002Btoday\\u002BSeptember\\u002B24\\u002B2024\\u0026d=4692574351720481\\u0026mkt=en-US\\u0026setlang=en-US\\u0026w=IyKVbCksY9VV74GkIkdoRE4k4vk9MNbJ\",\"thumbnailUrl\":\"https://www.bing.com/th?id=OIP.m0ENCio7ytS2o9PQRWDCRgHaD4\\u0026w=80\\u0026h=80\\u0026c=1\\u0026pid=5.1\"},{\"name\":\"Atlanta Events - September 2024 - Go South Atlanta\",\"url\":\"https://gosouthatlanta.com/things-to-do/events/atlanta-in-september.html\",\"displayUrl\":\"https://gosouthatlanta.com/things-to-do/events/atlanta-in-september.html\",\"snippet\":\"More details. \\u2013 Dragon Con, August 29 - September 2 2024. One of the biggest annual pop culture conventions in the country. More details. \\u2013 Atlanta Black Theatre Festival, August 30 - September 1 2024. Annual festival celebrating the Black experience in the performing arts, with plays, panels, masterclasses and other events.\",\"cachedPageUrl\":\"http://cc.bingj.com/cache.aspx?q=things\\u002Bto\\u002Bdo\\u002Bin\\u002BAtlanta\\u002Btoday\\u002BSeptember\\u002B24\\u002B2024\\u0026d=4712253893443652\\u0026mkt=en-US\\u0026setlang=en-US\\u0026w=-nsAOlbynJFe4oOvzq1dGpeg_GE4sHjt\",\"thumbnailUrl\":\"https://www.bing.com/th?id=OIP.xm-3dn3hYJZHsVVU9WO5qwHaD4\\u0026w=80\\u0026h=80\\u0026c=1\\u0026pid=5.1\"},{\"name\":\"80\\u002B fall festivals \\u0026amp; fairs around metro Atlanta: Fun things to do in ...\",\"url\":\"https://www.atlantaonthecheap.com/fall-festivals-atlanta/\",\"displayUrl\":\"https://www.atlantaonthecheap.com/fall-festivals-atlanta\",\"snippet\":\"\\u2666 Atlanta Streets Alive. September 15, 2024 West End to Grant Park FREE. This is a new route for Fall of 2024! On these Sundays, streets are are temporarily closed to traffic for four hours \\u2014 so you can come out to walk, run, stroll, bike, scoot, roll, and just have fun.\",\"cachedPageUrl\":\"http://cc.bingj.com/cache.aspx?q=things\\u002Bto\\u002Bdo\\u002Bin\\u002BAtlanta\\u002Btoday\\u002BSeptember\\u002B24\\u002B2024\\u0026d=5012794228740299\\u0026mkt=en-US\\u0026setlang=en-US\\u0026w=xfpymjtTccXnjjGt9vluoyq1DPm6ofe-\",\"thumbnailUrl\":\"https://www.bing.com/th?id=OIP.w0-v0ll6eXl6tJfBd5-ovwHaEV\\u0026w=80\\u0026h=80\\u0026c=1\\u0026pid=5.1\"},{\"name\":\"Things to do in Atlanta this weekend: Sept. 20-22 - The Atlanta Journal ...\",\"url\":\"https://www.ajc.com/things-to-do/things-to-do-in-atlanta-this-weekend-sept-20-22/JRRVFRDW6ZA6TFL4TIFEC6YUGY/\",\"displayUrl\":\"https://www.ajc.com/things-to-do/things-to-do-in-atlanta-this-weekend-sept-20-22/...\",\"snippet\":\"Gwinnett. JapanFest Atlanta. 10 a.m.-6 p.m. Saturday, Sept. 21, and 10 a.m.-5 p.m. Sunday, Sept. 22. $16 through Sept. 20, $20 at the door, military and seniors $16 ...\",\"cachedPageUrl\":\"http://cc.bingj.com/cache.aspx?q=things\\u002Bto\\u002Bdo\\u002Bin\\u002BAtlanta\\u002Btoday\\u002BSeptember\\u002B24\\u002B2024\\u0026d=2930288325615\\u0026mkt=en-US\\u0026setlang=en-US\\u0026w=Lj97ljMgGvJEt96Av-nymtep_buw2IS2\"},{\"name\":\"10 things to do in Atlanta this weekend - accessatlanta.com\",\"url\":\"https://www.accessatlanta.com/atlanta-things-to-do/10-things-to-do-in-atlanta-this-weekend/RXJV557GDFFJVMY3LMAOYQTNYI/\",\"displayUrl\":\"https://www.accessatlanta.com/atlanta-things-to-do/10-things-to-do-in-atlanta-this...\",\"snippet\":\"Location: Kirkwood - Hosea L Williams Dr NE; Date: September 20; Time: 7-10 p.m.; Admission: $70; Website: kirkwoodwinestroll.com Revolt World. This 3-day immersive experience features appearances ...\",\"cachedPageUrl\":\"http://cc.bingj.com/cache.aspx?q=things\\u002Bto\\u002Bdo\\u002Bin\\u002BAtlanta\\u002Btoday\\u002BSeptember\\u002B24\\u002B2024\\u0026d=2036019664925\\u0026mkt=en-US\\u0026setlang=en-US\\u0026w=ecYZf3pOPl4MgsqlUNgwD_67J-TONvpM\"},{\"name\":\"Upcoming Events - Discover Atlanta\",\"url\":\"https://discoveratlanta.com/events/all/\",\"displayUrl\":\"https://discoveratlanta.com/events/all\",\"snippet\":\"9/22/24 \\u2013 11/3/24. Pumpkin Festival. Play by Day as you enjoy family-friendly park attractions and special fall entertainment featuring some\\u2026\",\"cachedPageUrl\":\"http://cc.bingj.com/cache.aspx?q=things\\u002Bto\\u002Bdo\\u002Bin\\u002BAtlanta\\u002Btoday\\u002BSeptember\\u002B24\\u002B2024\\u0026d=4829094184357962\\u0026mkt=en-US\\u0026setlang=en-US\\u0026w=7n30JJ0KXcuUBKZlUeD3eG4MmVcBwK29\"},{\"name\":\"20 Spectacular Things To Do This September In Atlanta - Secret Atlanta\",\"url\":\"https://secretatlanta.co/things-to-do-september/\",\"displayUrl\":\"https://secretatlanta.co/things-to-do-september\",\"snippet\":\"When: Saturday, September 7th from 12pm \\u2013 10pm. Thousands of people are expected to head to Morris Brown College in Atlanta this September for the legendary Seafood \\u0026amp; Caribbean Music festival! Enjoy tons of live music, DJs, and of course, as much mouthwatering seafood and Caribbean dishes as your heart desires! Don\\u2019t miss out on all the fun.\",\"cachedPageUrl\":\"http://cc.bingj.com/cache.aspx?q=things\\u002Bto\\u002Bdo\\u002Bin\\u002BAtlanta\\u002Btoday\\u002BSeptember\\u002B24\\u002B2024\\u0026d=4724958405090999\\u0026mkt=en-US\\u0026setlang=en-US\\u0026w=HkmWmkX0emVkqeBkOazQ7cCeg5xgwMQ3\",\"thumbnailUrl\":\"https://www.bing.com/th?id=OIP.mwxBnPRtbggmsDGaNhGACQHaE8\\u0026w=80\\u0026h=80\\u0026c=1\\u0026pid=5.1\"},{\"name\":\"The Best Things to Do in Atlanta in September\",\"url\":\"https://unexpectedatlanta.com/the-best-things-to-do-in-atlanta-in-september/\",\"displayUrl\":\"https://unexpectedatlanta.com/the-best-things-to-do-in-atlanta-in-september\",\"snippet\":\"Atlanta Events: September 2024 Experience the Best of Atlanta\\u2019s Food \\u0026amp; History. Try some of the best eats in Atlanta! The #1-rated Grant Park Past \\u0026amp; Future Food Walk is a fun walking tour showcasing the best of Atlanta\\u2019s food and history. On this tour, you\\u2019ll taste eight modern and Southern foods from three outstanding locally owned food stops.\",\"cachedPageUrl\":\"http://cc.bingj.com/cache.aspx?q=things\\u002Bto\\u002Bdo\\u002Bin\\u002BAtlanta\\u002Btoday\\u002BSeptember\\u002B24\\u002B2024\\u0026d=4781604725337408\\u0026mkt=en-US\\u0026setlang=en-US\\u0026w=L1hd-5qzDrt-bHwGvtgeUoQiW0MCD0-O\",\"thumbnailUrl\":\"https://www.bing.com/th?id=OIP.BV6NvB-FhOL3LSCX1dcUJwHaHa\\u0026w=80\\u0026h=80\\u0026c=1\\u0026pid=5.1\"},{\"name\":\"Events from September 21 \\u2013 September 29 - Piedmont Park Conservancy, Inc.\",\"url\":\"https://piedmontpark.org/calendar/\",\"displayUrl\":\"https://piedmontpark.org/calendar\",\"snippet\":\"The 2024 ZERO Prostate Cancer Run/Walk - Atlanta is taking place on Saturday, September 7, 2024 at Piedmont Park Conservancy. This family-friendly event is your unique opportunity to join your community in ZEROing out prostate cancer. ... September 24 September 24 @ 10:00 am - 10:45 am. Weekly Walking Club September 25 September 25 @ 5:00 pm ...\",\"cachedPageUrl\":\"http://cc.bingj.com/cache.aspx?q=things\\u002Bto\\u002Bdo\\u002Bin\\u002BAtlanta\\u002Btoday\\u002BSeptember\\u002B24\\u002B2024\\u0026d=4596534583962392\\u0026mkt=en-US\\u0026setlang=en-US\\u0026w=hcJ8imQAVFgqQy41VOuxnrqmHU2cyESj\",\"thumbnailUrl\":\"https://www.bing.com/th?id=OIP.vices8w7lKuF5y86EU6UxQHaFj\\u0026w=80\\u0026h=80\\u0026c=1\\u0026pid=5.1\"}]}}\n",
       "```\n",
       "\n",
       "Here are some events and activities happening in Atlanta today, September 24, 2024:\n",
       "\n",
       "1. **Discover Atlanta Events**:\n",
       "   - Check out the [Discover Atlanta Events](https://discoveratlanta.com/events/main/) page for a comprehensive list of things to do, including live music, food and wine events, sports, and family-friendly entertainment.\n",
       "\n",
       "2. **Weekly Walking Club at Piedmont Park**:\n",
       "   - Join the Weekly Walking Club at Piedmont Park from 10:00 am to 10:45 am. More details can be found on the [Piedmont Park Calendar](https://piedmontpark.org/calendar/).\n",
       "\n",
       "3. **Pumpkin Festival**:\n",
       "   - Enjoy the Pumpkin Festival at Stone Mountain Park, which offers family-friendly park attractions and special fall entertainment. The festival runs from September 22 to November 3, 2024. More information can be found on the [Discover Atlanta Events](https://discoveratlanta.com/events/all) page.\n",
       "\n",
       "4. **Grant Park Food Walk**:\n",
       "   - Experience the best of Atlanta’s food and history with the Grant Park Past & Future Food Walk. This tour includes tastings of eight modern and Southern foods from three outstanding locally owned food stops. Learn more on the [Unexpected Atlanta](https://unexpectedatlanta.com/the-best-things-to-do-in-atlanta-in-september/) page.\n",
       "\n",
       "For more details, you can visit the provided links and explore additional activities and events in Atlanta.\n"
      ]
     },
     "metadata": {},
     "output_type": "display_data"
    }
   ],
   "source": [
    "var assistantRunOptions = new AssistantRunOptions() {\n",
    "    AssistantName = \"Web Search Test\",\n",
    "    Instructions = \"Use python to get todays date and then use it to find things to do in Atlanta today. Be careful to not include events in the past in your final answer.\",\n",
    "};\n",
    "var output = await AntRunnerLib.AssistantRunner.RunThread(assistantRunOptions, config);\n",
    "output.Dialog.DisplayAs(\"text/markdown\")"
   ]
  },
  {
   "cell_type": "code",
   "execution_count": 4,
   "metadata": {
    "dotnet_interactive": {
     "language": "csharp"
    },
    "polyglot_notebook": {
     "kernelName": "csharp"
    },
    "vscode": {
     "languageId": "polyglot-notebook"
    }
   },
   "outputs": [
    {
     "data": {
      "text/markdown": [
       "Here are some events and activities happening in Atlanta today, September 24, 2024:\n",
       "\n",
       "1. **Discover Atlanta Events**:\n",
       "   - Check out the [Discover Atlanta Events](https://discoveratlanta.com/events/main/) page for a comprehensive list of things to do, including live music, food and wine events, sports, and family-friendly entertainment.\n",
       "\n",
       "2. **Weekly Walking Club at Piedmont Park**:\n",
       "   - Join the Weekly Walking Club at Piedmont Park from 10:00 am to 10:45 am. More details can be found on the [Piedmont Park Calendar](https://piedmontpark.org/calendar/).\n",
       "\n",
       "3. **Pumpkin Festival**:\n",
       "   - Enjoy the Pumpkin Festival at Stone Mountain Park, which offers family-friendly park attractions and special fall entertainment. The festival runs from September 22 to November 3, 2024. More information can be found on the [Discover Atlanta Events](https://discoveratlanta.com/events/all) page.\n",
       "\n",
       "4. **Grant Park Food Walk**:\n",
       "   - Experience the best of Atlanta’s food and history with the Grant Park Past & Future Food Walk. This tour includes tastings of eight modern and Southern foods from three outstanding locally owned food stops. Learn more on the [Unexpected Atlanta](https://unexpectedatlanta.com/the-best-things-to-do-in-atlanta-in-september/) page.\n",
       "\n",
       "For more details, you can visit the provided links and explore additional activities and events in Atlanta."
      ]
     },
     "metadata": {},
     "output_type": "display_data"
    }
   ],
   "source": [
    "output.LastMessage.DisplayAs(\"text/markdown\");"
   ]
  },
  {
   "cell_type": "code",
   "execution_count": 5,
   "metadata": {
    "dotnet_interactive": {
     "language": "csharp"
    },
    "polyglot_notebook": {
     "kernelName": "csharp"
    },
    "vscode": {
     "languageId": "polyglot-notebook"
    }
   },
   "outputs": [
    {
     "data": {
      "text/markdown": [
       "\n",
       "User: Use python to get todays date and then use it to find things to do in Atlanta for each of the next four weekends. Be careful to not include events in the past in your final answer. You should perform four searches at once.\n",
       "\n",
       "Assistant: I ran this code:\n",
       "```\n",
       "from datetime import datetime, timedelta\n",
       "\n",
       "# Get today's date\n",
       "today = datetime.now()\n",
       "\n",
       "# Calculate the dates for the next four weekends\n",
       "weekends = [(today + timedelta(days=(5-today.weekday()) + 7*i)).strftime(\"%Y-%m-%d\") for i in range(4)]\n",
       "weekends\n",
       "```\n",
       "\n",
       "I called the tool named crawl with these arguments:\n",
       "```\n",
       "{\"q\": \"things to do in Atlanta on 2024-09-28\", \"textFormat\": \"HTML\"}\n",
       "```\n",
       "and got this result:\n",
       "```\n",
       "{\"queryContext\":{\"originalQuery\":\"things to do in Atlanta on 2024-09-28\"},\"webPages\":{\"value\":[{\"name\":\"Events and Things to Do in Atlanta GA this from 2024-09-28 to 2024-09-29\",\"url\":\"https://eventcartel.com/events/all-categories/atlanta/from_2024-09-28_to_2024-09-29\",\"displayUrl\":\"https://eventcartel.com/events/all-categories/atlanta/from_2024-09-28_to_2024-09-29\",\"snippet\":\"Explore a wide range of events and things to do from 2024-09-28 to 2024-09-29 tailored to offer you the best in entertainment and fun things to do in Atlanta. Whether you\\u2019re interested in the latest concerts, theater shows, or other local events happening from 2024-09-28 to 2024-09-29, everything you need is just a few clicks away.\",\"cachedPageUrl\":\"http://cc.bingj.com/cache.aspx?q=things\\u002Bto\\u002Bdo\\u002Bin\\u002BAtlanta\\u002Bon\\u002B2024-09-28\\u0026d=593376345498\\u0026mkt=en-US\\u0026setlang=en-US\\u0026w=d3dIiUUzhzYaWFgm_VL8k_3YAMhRPChX\",\"thumbnailUrl\":\"https://www.bing.com/th?id=OIF.j9DT03xNjIPyoPYsyjOF4w\\u0026w=80\\u0026h=80\\u0026c=1\\u0026pid=5.1\"},{\"name\":\"Atlanta Events September 2024: Concerts, Shows, Sports...\",\"url\":\"https://atlanta-ga.events/september/\",\"displayUrl\":\"https://atlanta-ga.events/september\",\"snippet\":\"Explore our comprehensive calendar for all the current and upcoming events in Atlanta, GA, for September 2024. This guide is your gateway to discovering the best things to do in Atlanta, ... Prices from $28 Avg. price ~ $33. 20 tickets remaining! Tickets; Sep. 24. 2024. 7:00 PM Tue.\",\"cachedPageUrl\":\"http://cc.bingj.com/cache.aspx?q=things\\u002Bto\\u002Bdo\\u002Bin\\u002BAtlanta\\u002Bon\\u002B2024-09-28\\u0026d=4854189675467386\\u0026mkt=en-US\\u0026setlang=en-US\\u0026w=ShlkdiIwTMefbkmdL1lCvH4mS1bjztOY\"},{\"name\":\"Cool Things To Do in September in Atlanta\",\"url\":\"https://discoveratlanta.com/stories/things-to-do/cool-things-to-do-in-september-in-atlanta/\",\"displayUrl\":\"https://discoveratlanta.com/stories/things-to-do/cool-things-to-do-in-september-in-atlanta\",\"snippet\":\"The Sweet Auburn Music Fest, which takes place Sept. 28-29. The festival, located on Auburn Avenue, one of Atlanta\\u2019s most iconic streets, offers fun-filled entertainment, live music \\u2014 everything from R\\u0026amp;B to gospel to alternative favorites \\u2014 international food court, national artists, celebrities and vendors of all types.\",\"cachedPageUrl\":\"http://cc.bingj.com/cache.aspx?q=things\\u002Bto\\u002Bdo\\u002Bin\\u002BAtlanta\\u002Bon\\u002B2024-09-28\\u0026d=4692574351720481\\u0026mkt=en-US\\u0026setlang=en-US\\u0026w=IyKVbCksY9VV74GkIkdoRE4k4vk9MNbJ\",\"thumbnailUrl\":\"https://www.bing.com/th?id=OIP.m0ENCio7ytS2o9PQRWDCRgHaD4\\u0026w=80\\u0026h=80\\u0026c=1\\u0026pid=5.1\"},{\"name\":\"Atlanta Events - September 2024 - Go South Atlanta\",\"url\":\"https://gosouthatlanta.com/things-to-do/events/atlanta-in-september.html\",\"displayUrl\":\"https://gosouthatlanta.com/things-to-do/events/atlanta-in-september.html\",\"snippet\":\"More details. \\u2013 Dragon Con, August 29 - September 2 2024. One of the biggest annual pop culture conventions in the country. More details. \\u2013 Atlanta Black Theatre Festival, August 30 - September 1 2024. Annual festival celebrating the Black experience in the performing arts, with plays, panels, masterclasses and other events.\",\"cachedPageUrl\":\"http://cc.bingj.com/cache.aspx?q=things\\u002Bto\\u002Bdo\\u002Bin\\u002BAtlanta\\u002Bon\\u002B2024-09-28\\u0026d=4712253893443652\\u0026mkt=en-US\\u0026setlang=en-US\\u0026w=-nsAOlbynJFe4oOvzq1dGpeg_GE4sHjt\",\"thumbnailUrl\":\"https://www.bing.com/th?id=OIP.xm-3dn3hYJZHsVVU9WO5qwHaD4\\u0026w=80\\u0026h=80\\u0026c=1\\u0026pid=5.1\"},{\"name\":\"Atlanta September 2024: Events, Concerts, Clubs \\u0026amp; Things to Do - Experism\",\"url\":\"https://www.experism.com/atlanta/september\",\"displayUrl\":\"https://www.experism.com/atlanta/september\",\"snippet\":\"Sep 12-15, 2024 Historic Fourth Ward Park View on Map. Play Video. The Atlanta Food \\u0026amp; Wine Festival highlights the best food, wine, beer \\u0026amp; cocktails Atlanta has to offer. This unique event brings in 150\\u002B chefs, sommeliers, mixologists and industry insiders for 5 days of mouthwatering and tempting cuisines \\u0026amp; special Tasting Tents.\",\"cachedPageUrl\":\"http://cc.bingj.com/cache.aspx?q=things\\u002Bto\\u002Bdo\\u002Bin\\u002BAtlanta\\u002Bon\\u002B2024-09-28\\u0026d=4642636760352967\\u0026mkt=en-US\\u0026setlang=en-US\\u0026w=CrMoojBamU4_Ok9mubm7deAiSBD33s7x\",\"thumbnailUrl\":\"https://www.bing.com/th?id=OIP.opEpXe5xeSIGAQVvWLFBbAHaEK\\u0026w=80\\u0026h=80\\u0026c=1\\u0026pid=5.1\"},{\"name\":\"Explore Atlanta Events for Today, This Week or Weekend\",\"url\":\"https://discoveratlanta.com/events/main/\",\"displayUrl\":\"https://discoveratlanta.com/events/m\",\"snippet\":\"Explore the Atlanta events calendar for things to do today, this week or this weekend. Find upcoming festivals, seasonal events and more! DiscoverAtlanta.com homepage. Things to Do; Events; ... Every Saturday until 09/28/2024. Protect Yo Energy Con 9/23/24 \\u2013 11/9/24. Weekend Creekwater Alpaca Farm Barn Tour 9/23/24 \\u2013 9/29/24. Pick Your ...\",\"cachedPageUrl\":\"http://cc.bingj.com/cache.aspx?q=things\\u002Bto\\u002Bdo\\u002Bin\\u002BAtlanta\\u002Bon\\u002B2024-09-28\\u0026d=4819881473496114\\u0026mkt=en-US\\u0026setlang=en-US\\u0026w=zvJBiG0Dg4eP1GMx_bJv9FTM8ziERJGY\",\"thumbnailUrl\":\"https://www.bing.com/th?id=OIP.FkxSV6JbrWatsFMM3_8dIAHaEh\\u0026w=80\\u0026h=80\\u0026c=1\\u0026pid=5.1\"},{\"name\":\"Things to Do in Atlanta in 2024: Events, festivals, and exhibits ...\",\"url\":\"https://www.thrillist.com/events/atlanta/events-calendar-in-atlanta-this-year\",\"displayUrl\":\"https://www.thrillist.com/events/atlanta/events-calendar-in-atlanta-this-year\",\"snippet\":\"September 28\\u201329, 2024 Old Fourth Ward ... October 11\\u201313, 2024 Various locations Atlanta Pride is back again for its annual celebration of the LGBTQ\\u002B community. This year, ...\",\"thumbnailUrl\":\"https://www.bing.com/th?id=OIP.WUHCPl7_RpepE3pSEdAEMgHaE8\\u0026w=80\\u0026h=80\\u0026c=1\\u0026pid=5.1\"},{\"name\":\"101 Things To Do In Atlanta - Fall 2024 - Student Engagement\",\"url\":\"https://engagement.gsu.edu/2024/09/19/101-things-to-do-in-atlanta-fall-2024/\",\"displayUrl\":\"https://engagement.gsu.edu/2024/09/19/101-things-to-do-in-atlanta-fall-2024\",\"snippet\":\"101 Things To Do In Atlanta - Fall 2024 101 Things To Do In Atlanta - Fall 2024. September 19, 2024. This list provides some unique suggestions for exploring all that our great city (and the surrounding metro area) has to offer! ... (September 28-29) Attend the North Georgia State Fair (September 19-29) Check out all the events at JapanFest ...\",\"cachedPageUrl\":\"http://cc.bingj.com/cache.aspx?q=things\\u002Bto\\u002Bdo\\u002Bin\\u002BAtlanta\\u002Bon\\u002B2024-09-28\\u0026d=523467767885\\u0026mkt=en-US\\u0026setlang=en-US\\u0026w=pefDSGUqGEWH0R2Ley_9-wyaSXXJ4Vub\",\"thumbnailUrl\":\"https://www.bing.com/th?id=OIF.sNm%2bHMQNbD7tBMzkgJawQw\\u0026w=80\\u0026h=80\\u0026c=1\\u0026pid=5.1\"},{\"name\":\"80\\u002B fall festivals \\u0026amp; fairs around metro Atlanta: Fun things to do in ...\",\"url\":\"https://www.atlantaonthecheap.com/fall-festivals-atlanta/\",\"displayUrl\":\"https://www.atlantaonthecheap.com/fall-festivals-atlanta\",\"snippet\":\"September 28, 2024 East Atlanta Village FREE. This iconic street festival celebrates East Atlanta\\u2019s culture, art, and quirkiness! This is a \\u201Cporchfest\\u201D style party that stretches throughout the neighborhood. ... The Best Free Things to Do in Atlanta in 2024 - says: August 20, 2024 at 3:57 pm [\\u2026] Castleberry Hill Historic District ...\",\"cachedPageUrl\":\"http://cc.bingj.com/cache.aspx?q=things\\u002Bto\\u002Bdo\\u002Bin\\u002BAtlanta\\u002Bon\\u002B2024-09-28\\u0026d=5012794228740299\\u0026mkt=en-US\\u0026setlang=en-US\\u0026w=xfpymjtTccXnjjGt9vluoyq1DPm6ofe-\",\"thumbnailUrl\":\"https://www.bing.com/th?id=OIP.w0-v0ll6eXl6tJfBd5-ovwHaEV\\u0026w=80\\u0026h=80\\u0026c=1\\u0026pid=5.1\"},{\"name\":\"20 Spectacular Things To Do This September In Atlanta - Secret Atlanta\",\"url\":\"https://secretatlanta.co/things-to-do-september/\",\"displayUrl\":\"https://secretatlanta.co/things-to-do-september\",\"snippet\":\"When: Saturday, September 7th from 12pm \\u2013 10pm. Thousands of people are expected to head to Morris Brown College in Atlanta this September for the legendary Seafood \\u0026amp; Caribbean Music festival! Enjoy tons of live music, DJs, and of course, as much mouthwatering seafood and Caribbean dishes as your heart desires! Don\\u2019t miss out on all the fun.\",\"cachedPageUrl\":\"http://cc.bingj.com/cache.aspx?q=things\\u002Bto\\u002Bdo\\u002Bin\\u002BAtlanta\\u002Bon\\u002B2024-09-28\\u0026d=4724958405090999\\u0026mkt=en-US\\u0026setlang=en-US\\u0026w=HkmWmkX0emVkqeBkOazQ7cCeg5xgwMQ3\",\"thumbnailUrl\":\"https://www.bing.com/th?id=OIP.mwxBnPRtbggmsDGaNhGACQHaE8\\u0026w=80\\u0026h=80\\u0026c=1\\u0026pid=5.1\"}]}}\n",
       "```\n",
       "\n",
       "I called the tool named crawl with these arguments:\n",
       "```\n",
       "{\"q\": \"things to do in Atlanta on 2024-10-05\", \"textFormat\": \"HTML\"}\n",
       "```\n",
       "and got this result:\n",
       "```\n",
       "{\"queryContext\":{\"originalQuery\":\"things to do in Atlanta on 2024-10-05\"},\"webPages\":{\"value\":[{\"name\":\"Explore Atlanta Events for Today, This Week or Weekend\",\"url\":\"https://discoveratlanta.com/events/main/\",\"displayUrl\":\"https://discoveratlanta.com/events/m\",\"snippet\":\"Find things to do in Atlanta today, this week or this weekend with the Discover Atlanta Events calendar. Search by category, date, location or keyword and unleash the fun with live music, food and wine, sports, festivals and more.\",\"cachedPageUrl\":\"http://cc.bingj.com/cache.aspx?q=things\\u002Bto\\u002Bdo\\u002Bin\\u002BAtlanta\\u002Bon\\u002B2024-10-05\\u0026d=4819881473496114\\u0026mkt=en-US\\u0026setlang=en-US\\u0026w=zvJBiG0Dg4eP1GMx_bJv9FTM8ziERJGY\"},{\"name\":\"Atlanta Events October 2024: Concerts, Shows, Sports...\",\"url\":\"https://atlanta-ga.events/october/\",\"displayUrl\":\"https://atlanta-ga.events/october\",\"snippet\":\"Explore our comprehensive calendar for all the current and upcoming events in Atlanta, GA, for October 2024. This guide is your gateway to discovering the best things to do in Atlanta, from Concerts and Theater Shows to Sports events and music festivals. You\\u2019ll find a detailed list of all the most engaging and exciting activities happening throughout the month.\",\"cachedPageUrl\":\"http://cc.bingj.com/cache.aspx?q=things\\u002Bto\\u002Bdo\\u002Bin\\u002BAtlanta\\u002Bon\\u002B2024-10-05\\u0026d=4898908879865838\\u0026mkt=en-US\\u0026setlang=en-US\\u0026w=vC_zzFLZ91uzxHogtJy0oBuKycEPAm_-\"},{\"name\":\"Atlanta Events - October 2024 - Go South Atlanta\",\"url\":\"https://gosouthatlanta.com/things-to-do/events/atlanta-in-october.html\",\"displayUrl\":\"https://gosouthatlanta.com/things-to-do/events/atlanta-in-october.html\",\"snippet\":\"Find out what\\u0026#39;s happening in Atlanta in October 2024, from concerts and festivals to sports and arts. Browse by date, category, venue and location and get more details at the official websites.\",\"cachedPageUrl\":\"http://cc.bingj.com/cache.aspx?q=things\\u002Bto\\u002Bdo\\u002Bin\\u002BAtlanta\\u002Bon\\u002B2024-10-05\\u0026d=4907344187564116\\u0026mkt=en-US\\u0026setlang=en-US\\u0026w=DKKAeoP_3oe3mkDLUvcm_m1afK8iBTpt\"},{\"name\":\"THE 15 BEST Things to Do in Atlanta (2024) - Tripadvisor\",\"url\":\"https://www.tripadvisor.com/Attractions-g60898-Activities-Atlanta_Georgia.html\",\"displayUrl\":\"https://www.tripadvisor.com/Attractions-g60898\",\"snippet\":\"Find the best attractions and activities in Atlanta, GA, based on ratings and reviews from travelers. Explore historical tours, museums, parks, gardens, and more with TripAdvisor\\u0026#39;s AI trip-planning product.\",\"cachedPageUrl\":\"http://cc.bingj.com/cache.aspx?q=things\\u002Bto\\u002Bdo\\u002Bin\\u002BAtlanta\\u002Bon\\u002B2024-10-05\\u0026d=4522996153843974\\u0026mkt=en-US\\u0026setlang=en-US\\u0026w=NLoOPfrLj_wI0g_BICzUUE092xyTtSjJ\"},{\"name\":\"Cool Things To Do in October in Atlanta\",\"url\":\"https://discoveratlanta.com/stories/things-to-do/cool-things-to-do-in-october-in-atlanta/\",\"displayUrl\":\"https://discoveratlanta.com/stories/things-to-do/cool-things-to-do-in-october-in-atlanta\",\"snippet\":\"Find out what\\u0026#39;s happening in Atlanta in October 2023, from haunted houses and festivals to Broadway shows and concerts. Whether you\\u0026#39;re looking for family fun, Halloween thrills or cultural events, there\\u0026#39;s something for everyone in the city.\",\"cachedPageUrl\":\"http://cc.bingj.com/cache.aspx?q=things\\u002Bto\\u002Bdo\\u002Bin\\u002BAtlanta\\u002Bon\\u002B2024-10-05\\u0026d=4714289705734711\\u0026mkt=en-US\\u0026setlang=en-US\\u0026w=6a-yO_DfCUxfz-dx9C91WDDECk49pD7V\",\"thumbnailUrl\":\"https://www.bing.com/th?id=OIP.4jf9xqKu3QRk_XhZ3J7DYQHaD4\\u0026w=80\\u0026h=80\\u0026c=1\\u0026pid=5.1\"},{\"name\":\"Things to Do in Atlanta in 2024: Events, festivals, and exhibits ...\",\"url\":\"https://www.thrillist.com/events/atlanta/events-calendar-in-atlanta-this-year\",\"displayUrl\":\"https://www.thrillist.com/events/atlanta/events-calendar-in-atlanta-this-year\",\"snippet\":\"Find out the best events, festivals, and exhibits in Atlanta for the next year, from MLK Day to Homecoming. Whether you love music, food, culture, or sports, there\\u0026#39;s something for everyone in the 404.\",\"thumbnailUrl\":\"https://www.bing.com/th?id=OIP.WUHCPl7_RpepE3pSEdAEMgHaE8\\u0026w=80\\u0026h=80\\u0026c=1\\u0026pid=5.1\"},{\"name\":\"10 things to do in Atlanta this weekend - accessatlanta.com\",\"url\":\"https://www.accessatlanta.com/atlanta-things-to-do/10-things-to-do-in-atlanta-this-weekend/RXJV557GDFFJVMY3LMAOYQTNYI/\",\"displayUrl\":\"https://www.accessatlanta.com/atlanta-things-to-do/10-things-to-do-in-atlanta-this...\",\"snippet\":\"Best Things to do in Atlanta this weekend. Location: Kirkwood - Hosea L Williams Dr NE; Date: September 20; Time: 7-10 p.m.; Admission: $70; Website: kirkwoodwinestroll.com Revolt World. This 3 ...\",\"cachedPageUrl\":\"http://cc.bingj.com/cache.aspx?q=things\\u002Bto\\u002Bdo\\u002Bin\\u002BAtlanta\\u002Bon\\u002B2024-10-05\\u0026d=2036019664925\\u0026mkt=en-US\\u0026setlang=en-US\\u0026w=ecYZf3pOPl4MgsqlUNgwD_67J-TONvpM\"},{\"name\":\"THE 10 BEST Things to Do in Atlanta - 2024 (with Photos) - Tripadvisor\",\"url\":\"https://www.tripadvisor.com.my/Attractions-g60898-Activities-Atlanta_Georgia.html\",\"displayUrl\":\"https://www.tripadvisor.com.my/Attractions-g60898-Activities-Atlanta_Georgia.html\",\"snippet\":\"Find out the best attractions and activities in Atlanta, from aquariums and gardens to museums and historic sites. Book tickets, tours, and experiences online with Tripadvisor and enjoy skip-the-line access, special offers, and ratings.\",\"cachedPageUrl\":\"http://cc.bingj.com/cache.aspx?q=things\\u002Bto\\u002Bdo\\u002Bin\\u002BAtlanta\\u002Bon\\u002B2024-10-05\\u0026d=4596912545602641\\u0026mkt=en-US\\u0026setlang=en-US\\u0026w=suzXzh03NSsqb2A4MK2cqy2fId5E0G0i\"},{\"name\":\"THE 15 BEST Things to Do in Atlanta (2024) - Tripadvisor\",\"url\":\"https://www.tripadvisor.com/Attractions-g60898-Activities-zfr7917665-Atlanta_Georgia.html\",\"displayUrl\":\"https://www.tripadvisor.com/Attractions-g60898-Activities-zfr7917665-Atlanta_Georgia.html\",\"snippet\":\"Things to Do in Atlanta, Georgia: See Tripadvisor\\u0026#39;s 475,310 traveler reviews and photos of Atlanta tourist attractions. Find what to do today, this weekend, or in September. ... 2024. This review is the subjective opinion of a Tripadvisor member and not of Tripadvisor LLC. Tripadvisor performs checks on reviews.\",\"cachedPageUrl\":\"http://cc.bingj.com/cache.aspx?q=things\\u002Bto\\u002Bdo\\u002Bin\\u002BAtlanta\\u002Bon\\u002B2024-10-05\\u0026d=4999832014161720\\u0026mkt=en-US\\u0026setlang=en-US\\u0026w=GtUyw72N_XrhqWtUQWQStMnnppmx6J8T\"},{\"name\":\"The best things to do in Atlanta right now - Time Out\",\"url\":\"https://www.timeout.com/atlanta/things-to-do/best-things-to-do-in-atlanta\",\"displayUrl\":\"https://www.timeout.com/atlanta/things-to-do/best-things-to-do-in-atlanta\",\"snippet\":\"Explore the history, culture, and cuisine of Atlanta with this guide to the city\\u0026#39;s top attractions, from the World of Coca-Cola to the BeltLine. Find out how to experience the city\\u0026#39;s parks ...\",\"cachedPageUrl\":\"http://cc.bingj.com/cache.aspx?q=things\\u002Bto\\u002Bdo\\u002Bin\\u002BAtlanta\\u002Bon\\u002B2024-10-05\\u0026d=4565877106696699\\u0026mkt=en-US\\u0026setlang=en-US\\u0026w=aWakoljdcEAcUlw5_DIQpKVX3mnuh8Iq\",\"thumbnailUrl\":\"https://www.bing.com/th?id=OIP.-XmrGhWhWtlBL3xZRZjcJwHaE8\\u0026w=80\\u0026h=80\\u0026c=1\\u0026pid=5.1\"}]}}\n",
       "```\n",
       "\n",
       "I called the tool named crawl with these arguments:\n",
       "```\n",
       "{\"q\": \"things to do in Atlanta on 2024-10-12\", \"textFormat\": \"HTML\"}\n",
       "```\n",
       "and got this result:\n",
       "```\n",
       "{\"queryContext\":{\"originalQuery\":\"things to do in Atlanta on 2024-10-12\"},\"webPages\":{\"value\":[{\"name\":\"Atlanta Events - October 2024 - Go South Atlanta\",\"url\":\"https://gosouthatlanta.com/things-to-do/events/atlanta-in-october.html\",\"displayUrl\":\"https://gosouthatlanta.com/things-to-do/events/atlanta-in-october.html\",\"snippet\":\"Events From October 1 To The Weekend Of October 5-6 2024. \\u2192 See September events. \\u2192 For concerts this week, see Atlanta concerts in October 2024. \\u2013 Daddy Long Legs, September 13 - October 6 2024. Musical at The Legacy Theatre, Tyrone. More details.\",\"cachedPageUrl\":\"http://cc.bingj.com/cache.aspx?q=things\\u002Bto\\u002Bdo\\u002Bin\\u002BAtlanta\\u002Bon\\u002B2024-10-12\\u0026d=4907344187564116\\u0026mkt=en-US\\u0026setlang=en-US\\u0026w=DKKAeoP_3oe3mkDLUvcm_m1afK8iBTpt\"},{\"name\":\"Atlanta Events October 2024: Concerts, Shows, Sports...\",\"url\":\"https://atlanta-ga.events/october/\",\"displayUrl\":\"https://atlanta-ga.events/october\",\"snippet\":\"Explore our comprehensive calendar for all the current and upcoming events in Atlanta, GA, for October 2024. This guide is your gateway to discovering the best things to do in Atlanta, from Concerts and Theater Shows to Sports events and music festivals. You\\u2019ll find a detailed list of all the most engaging and exciting activities happening throughout the month.\",\"cachedPageUrl\":\"http://cc.bingj.com/cache.aspx?q=things\\u002Bto\\u002Bdo\\u002Bin\\u002BAtlanta\\u002Bon\\u002B2024-10-12\\u0026d=4898908879865838\\u0026mkt=en-US\\u0026setlang=en-US\\u0026w=vC_zzFLZ91uzxHogtJy0oBuKycEPAm_-\"},{\"name\":\"80\\u002B fall festivals \\u0026amp; fairs around metro Atlanta: Fun things to do in ...\",\"url\":\"https://www.atlantaonthecheap.com/fall-festivals-atlanta/\",\"displayUrl\":\"https://www.atlantaonthecheap.com/fall-festivals-atlanta\",\"snippet\":\"October 12, 2024 Lilburn City Park FREE. This beloved fall arts \\u0026amp; crafts is in its 50th year! It is extremely family-friendly, with plenty of activities for the kids. You\\u2019ll also find food, vendor booths, and live entertainment all day long. ... The Best Free Things to Do in Atlanta in 2024 - says: August 20, 2024 at 3:57 pm [\\u2026] Castleberry ...\",\"cachedPageUrl\":\"http://cc.bingj.com/cache.aspx?q=things\\u002Bto\\u002Bdo\\u002Bin\\u002BAtlanta\\u002Bon\\u002B2024-10-12\\u0026d=5012794228740299\\u0026mkt=en-US\\u0026setlang=en-US\\u0026w=xfpymjtTccXnjjGt9vluoyq1DPm6ofe-\",\"thumbnailUrl\":\"https://www.bing.com/th?id=OIP.w0-v0ll6eXl6tJfBd5-ovwHaEV\\u0026w=80\\u0026h=80\\u0026c=1\\u0026pid=5.1\"},{\"name\":\"Cool Things To Do in October in Atlanta\",\"url\":\"https://discoveratlanta.com/stories/things-to-do/cool-things-to-do-in-october-in-atlanta/\",\"displayUrl\":\"https://discoveratlanta.com/stories/things-to-do/cool-things-to-do-in-october-in-atlanta\",\"snippet\":\"Corn Dogs, Rides and Whack a Mole. The Atlanta Fair brings the best of a traditional fair to Atlanta with everything from cotton candy, a Ferris wheel, fishing for goldfish, a tilt-a-whirl and a carousel. The fair, located across from the Georgia State University Stadium, will be in town Oct. 4-Nov. 3. Read More.\",\"cachedPageUrl\":\"http://cc.bingj.com/cache.aspx?q=things\\u002Bto\\u002Bdo\\u002Bin\\u002BAtlanta\\u002Bon\\u002B2024-10-12\\u0026d=4714289705734711\\u0026mkt=en-US\\u0026setlang=en-US\\u0026w=6a-yO_DfCUxfz-dx9C91WDDECk49pD7V\",\"thumbnailUrl\":\"https://www.bing.com/th?id=OIP.4jf9xqKu3QRk_XhZ3J7DYQHaD4\\u0026w=80\\u0026h=80\\u0026c=1\\u0026pid=5.1\"},{\"name\":\"Atlanta Festival Calendar: 2024 - Unexpected Atlanta\",\"url\":\"https://unexpectedatlanta.com/atlanta-festival-calendar-2024/\",\"displayUrl\":\"https://unexpectedatlanta.com/atlanta-festival-calendar-2024\",\"snippet\":\"Atlanta Jazz Festival \\u2013 May 25-27, 2024. Held in Piedmont Park, the Atlanta Jazz Festival is an annual celebration of music, culture, and the art of Jazz. Free to all who join, this Memorial Day Weekend event draws fans, professional musicians, and everyone in between, for a 3-day-long festival showcasing 15\\u002B artists.\",\"cachedPageUrl\":\"http://cc.bingj.com/cache.aspx?q=things\\u002Bto\\u002Bdo\\u002Bin\\u002BAtlanta\\u002Bon\\u002B2024-10-12\\u0026d=4520195830737555\\u0026mkt=en-US\\u0026setlang=en-US\\u0026w=Y_UYHSuQi3QHjG8exIRi2zfYmaaF9rTA\",\"thumbnailUrl\":\"https://www.bing.com/th?id=OIP.8LvXI6tOuWvo9KZdL-C3MwHaHa\\u0026w=80\\u0026h=80\\u0026c=1\\u0026pid=5.1\"},{\"name\":\"Explore Atlanta Events for Today, This Week or Weekend\",\"url\":\"https://discoveratlanta.com/events/main/\",\"displayUrl\":\"https://discoveratlanta.com/events/m\",\"snippet\":\"Explore the Atlanta events calendar for things to do today, this week or this weekend. Find upcoming festivals, seasonal events and more! DiscoverAtlanta.com homepage. Things to Do; Events; ... Multiple dates until 10/12/2024. Roberta Lea Live 10/5/24. Strand Ole Opry: Fa-BOO-lous Halloween Hits 10/5/24. Cirque Kalabante \\u2013 Afrique en Cirque ...\",\"cachedPageUrl\":\"http://cc.bingj.com/cache.aspx?q=things\\u002Bto\\u002Bdo\\u002Bin\\u002BAtlanta\\u002Bon\\u002B2024-10-12\\u0026d=4819881473496114\\u0026mkt=en-US\\u0026setlang=en-US\\u0026w=zvJBiG0Dg4eP1GMx_bJv9FTM8ziERJGY\",\"thumbnailUrl\":\"https://www.bing.com/th?id=OIP.FkxSV6JbrWatsFMM3_8dIAHaEh\\u0026w=80\\u0026h=80\\u0026c=1\\u0026pid=5.1\"},{\"name\":\"Fall festivals in metro Atlanta and North Georgia | 2024\",\"url\":\"https://www.fox5atlanta.com/news/fall-festivals-metro-atlanta-north-georgia-2024\",\"displayUrl\":\"https://www.fox5atlanta.com/news/fall-festivals-metro-atlanta-north-georgia-2024\",\"snippet\":\"When: Oct. 12-15, 2024 Where : Piedmont Park, Atlanta What : One of the largest LGBTQ\\u002B pride events in the Southeast, featuring a parade, live performances, food, and family-friendly activities.\",\"cachedPageUrl\":\"http://cc.bingj.com/cache.aspx?q=things\\u002Bto\\u002Bdo\\u002Bin\\u002BAtlanta\\u002Bon\\u002B2024-10-12\\u0026d=2173865470069\\u0026mkt=en-US\\u0026setlang=en-US\\u0026w=jxnOnRj04ciRcKNV8UVNHXKEd0PX1nap\"},{\"name\":\"Cool Things To Do in September in Atlanta\",\"url\":\"https://discoveratlanta.com/stories/things-to-do/cool-things-to-do-in-september-in-atlanta/\",\"displayUrl\":\"https://discoveratlanta.com/stories/things-to-do/cool-things-to-do-in-september-in-atlanta\",\"snippet\":\"The Sweet Auburn Music Fest, which takes place Sept. 28-29. The festival, located on Auburn Avenue, one of Atlanta\\u2019s most iconic streets, offers fun-filled entertainment, live music \\u2014 everything from R\\u0026amp;B to gospel to alternative favorites \\u2014 international food court, national artists, celebrities and vendors of all types.\",\"cachedPageUrl\":\"http://cc.bingj.com/cache.aspx?q=things\\u002Bto\\u002Bdo\\u002Bin\\u002BAtlanta\\u002Bon\\u002B2024-10-12\\u0026d=4692574351720481\\u0026mkt=en-US\\u0026setlang=en-US\\u0026w=IyKVbCksY9VV74GkIkdoRE4k4vk9MNbJ\",\"thumbnailUrl\":\"https://www.bing.com/th?id=OIP.m0ENCio7ytS2o9PQRWDCRgHaD4\\u0026w=80\\u0026h=80\\u0026c=1\\u0026pid=5.1\"},{\"name\":\"12 Things to Do in Lisbon in October 2024 - Portugal.com\",\"url\":\"https://www.portugal.com/activities-experiences/12-things-to-do-in-lisbon-in-october-2024/\",\"displayUrl\":\"https://www.portugal.com/activities-experiences/12-things-to-do-in-lisbon-in-october-2024\",\"snippet\":\"When: October 10 \\u2013 13. Where: P\\u00E1tio da Gal\\u00E9, Pra\\u00E7a do Com\\u00E9rcio n\\u00BA 10 (10-12-14, 1100-148 Lisboa, Portugal. The 63rd edition of ModaLisboa, Lisbon\\u2019s Fashion Week, takes place in October 2024. This event is a celebration of Portuguese fashion and design.\",\"cachedPageUrl\":\"http://cc.bingj.com/cache.aspx?q=things\\u002Bto\\u002Bdo\\u002Bin\\u002BAtlanta\\u002Bon\\u002B2024-10-12\\u0026d=1899485767905\\u0026mkt=en-US\\u0026setlang=en-US\\u0026w=7Lm0h9gTfU5NQ4R4VfPpN68BjA8q26WF\"},{\"name\":\"Atlanta Events - September 2024 - Go South Atlanta\",\"url\":\"https://gosouthatlanta.com/things-to-do/events/atlanta-in-september.html\",\"displayUrl\":\"https://gosouthatlanta.com/things-to-do/events/atlanta-in-september.html\",\"snippet\":\"More details. \\u2013 Dragon Con, August 29 - September 2 2024. One of the biggest annual pop culture conventions in the country. More details. \\u2013 Atlanta Black Theatre Festival, August 30 - September 1 2024. Annual festival celebrating the Black experience in the performing arts, with plays, panels, masterclasses and other events.\",\"cachedPageUrl\":\"http://cc.bingj.com/cache.aspx?q=things\\u002Bto\\u002Bdo\\u002Bin\\u002BAtlanta\\u002Bon\\u002B2024-10-12\\u0026d=4712253893443652\\u0026mkt=en-US\\u0026setlang=en-US\\u0026w=-nsAOlbynJFe4oOvzq1dGpeg_GE4sHjt\",\"thumbnailUrl\":\"https://www.bing.com/th?id=OIP.xm-3dn3hYJZHsVVU9WO5qwHaD4\\u0026w=80\\u0026h=80\\u0026c=1\\u0026pid=5.1\"}]}}\n",
       "```\n",
       "\n",
       "I called the tool named crawl with these arguments:\n",
       "```\n",
       "{\"q\": \"things to do in Atlanta on 2024-10-19\", \"textFormat\": \"HTML\"}\n",
       "```\n",
       "and got this result:\n",
       "```\n",
       "{\"queryContext\":{\"originalQuery\":\"things to do in Atlanta on 2024-10-19\"},\"webPages\":{\"value\":[{\"name\":\"10 things to do in Atlanta this weekend - accessatlanta.com\",\"url\":\"https://www.accessatlanta.com/atlanta-things-to-do/10-things-to-do-in-atlanta-this-weekend/RXJV557GDFFJVMY3LMAOYQTNYI/\",\"displayUrl\":\"https://www.accessatlanta.com/atlanta-things-to-do/10-things-to-do-in-atlanta-this...\",\"snippet\":\"Best Things to do in Atlanta this weekend. ... Metro Atlanta - 2500 Clairmont Rd; Date: September 19-22; Time: 5-10 p.m. (Thursday); 5-11 p.m. ... September 10, 2024.\",\"cachedPageUrl\":\"http://cc.bingj.com/cache.aspx?q=things\\u002Bto\\u002Bdo\\u002Bin\\u002BAtlanta\\u002Bon\\u002B2024-10-19\\u0026d=2036019664925\\u0026mkt=en-US\\u0026setlang=en-US\\u0026w=ecYZf3pOPl4MgsqlUNgwD_67J-TONvpM\"},{\"name\":\"80\\u002B fall festivals \\u0026amp; fairs around metro Atlanta: Fun things to do in ...\",\"url\":\"https://www.atlantaonthecheap.com/fall-festivals-atlanta/\",\"displayUrl\":\"https://www.atlantaonthecheap.com/fall-festivals-atlanta\",\"snippet\":\"October 12 and 13, 2024 October 19 and 20, 2024 Ellijay, GA . This is one of the few festivals outside metro Atlanta we include. It takes place in North Georgia, over two weekends in October. Spend a day on the farm, pick your own apples, visit over 100 vendor booths for arts, crafts, and apple-based food items. Well worth the drive!\",\"cachedPageUrl\":\"http://cc.bingj.com/cache.aspx?q=things\\u002Bto\\u002Bdo\\u002Bin\\u002BAtlanta\\u002Bon\\u002B2024-10-19\\u0026d=5012794228740299\\u0026mkt=en-US\\u0026setlang=en-US\\u0026w=xfpymjtTccXnjjGt9vluoyq1DPm6ofe-\",\"thumbnailUrl\":\"https://www.bing.com/th?id=OIP.w0-v0ll6eXl6tJfBd5-ovwHaEV\\u0026w=80\\u0026h=80\\u0026c=1\\u0026pid=5.1\"},{\"name\":\"Cool Things To Do in October in Atlanta\",\"url\":\"https://discoveratlanta.com/stories/things-to-do/cool-things-to-do-in-october-in-atlanta/\",\"displayUrl\":\"https://discoveratlanta.com/stories/things-to-do/cool-things-to-do-in-october-in-atlanta\",\"snippet\":\"Corn Dogs, Rides and Whack a Mole. The Atlanta Fair brings the best of a traditional fair to Atlanta with everything from cotton candy, a Ferris wheel, fishing for goldfish, a tilt-a-whirl and a carousel. The fair, located across from the Georgia State University Stadium, will be in town Oct. 4-Nov. 3. Read More.\",\"cachedPageUrl\":\"http://cc.bingj.com/cache.aspx?q=things\\u002Bto\\u002Bdo\\u002Bin\\u002BAtlanta\\u002Bon\\u002B2024-10-19\\u0026d=4714289705734711\\u0026mkt=en-US\\u0026setlang=en-US\\u0026w=6a-yO_DfCUxfz-dx9C91WDDECk49pD7V\",\"thumbnailUrl\":\"https://www.bing.com/th?id=OIP.4jf9xqKu3QRk_XhZ3J7DYQHaD4\\u0026w=80\\u0026h=80\\u0026c=1\\u0026pid=5.1\"},{\"name\":\"Explore Atlanta Events for Today, This Week or Weekend - Discover Atlanta\",\"url\":\"https://discoveratlanta.com/events/main/\",\"displayUrl\":\"https://discoveratlanta.com/events/m\",\"snippet\":\"Explore the Atlanta events calendar for things to do today, this week or this weekend. Find upcoming festivals, seasonal events and more! DiscoverAtlanta.com homepage. Things to Do; ... Trivia Night at Wild Leap Atlanta Every Tuesday until 11/19/2024. Elements- Surya Ensemble 9/23/24 \\u2013 10/10/24. Your Great Neighbor Deal! 9/23/24 \\u2013 9/30/24 ...\",\"cachedPageUrl\":\"http://cc.bingj.com/cache.aspx?q=things\\u002Bto\\u002Bdo\\u002Bin\\u002BAtlanta\\u002Bon\\u002B2024-10-19\\u0026d=4819881473496114\\u0026mkt=en-US\\u0026setlang=en-US\\u0026w=zvJBiG0Dg4eP1GMx_bJv9FTM8ziERJGY\",\"thumbnailUrl\":\"https://www.bing.com/th?id=OIP.FkxSV6JbrWatsFMM3_8dIAHaEh\\u0026w=80\\u0026h=80\\u0026c=1\\u0026pid=5.1\"},{\"name\":\"35\\u002B Best Things to Do in Atlanta in 2024 - Unexpected Atlanta\",\"url\":\"https://unexpectedatlanta.com/best-things-to-do-in-atlanta/\",\"displayUrl\":\"https://unexpectedatlanta.com/best-things-to-do-in-atlanta\",\"snippet\":\"1. Visit the National Parks on a Fee-Free Day. First on our list of the best things to do in Atlanta in 2024, check out America\\u2019s National Park System\\u2019s fee-free days this year. On these special days, you can visit any of the United States\\u2019 400\\u002B National Parks for free, including places in and around Georgia.\",\"cachedPageUrl\":\"http://cc.bingj.com/cache.aspx?q=things\\u002Bto\\u002Bdo\\u002Bin\\u002BAtlanta\\u002Bon\\u002B2024-10-19\\u0026d=4885792044096348\\u0026mkt=en-US\\u0026setlang=en-US\\u0026w=SRiegEmhRGKtzRRUG028yHS95G2gOIKx\"},{\"name\":\"THE 15 BEST Things to Do in Atlanta (2024) - Tripadvisor\",\"url\":\"https://www.tripadvisor.com/Attractions-g60898-Activities-Atlanta_Georgia.html\",\"displayUrl\":\"https://www.tripadvisor.com/Attractions-g60898\",\"snippet\":\"23,861. Aquariums. Georgia Aquarium contains more than 70 amazing habitats, with thousands of marine animals such as whale sharks, manta rays, beluga whales, and more. Don\\u2019t miss out on the animal encounter programs\\u2026. See ways to experience (9) 2024. 2. Atlanta Botanical Garden. 5,237.\",\"cachedPageUrl\":\"http://cc.bingj.com/cache.aspx?q=things\\u002Bto\\u002Bdo\\u002Bin\\u002BAtlanta\\u002Bon\\u002B2024-10-19\\u0026d=4522996153843974\\u0026mkt=en-US\\u0026setlang=en-US\\u0026w=NLoOPfrLj_wI0g_BICzUUE092xyTtSjJ\"},{\"name\":\"Cool Things To Do in September in Atlanta\",\"url\":\"https://discoveratlanta.com/stories/things-to-do/cool-things-to-do-in-september-in-atlanta/\",\"displayUrl\":\"https://discoveratlanta.com/stories/things-to-do/cool-things-to-do-in-september-in-atlanta\",\"snippet\":\"The Sweet Auburn Music Fest, which takes place Sept. 28-29. The festival, located on Auburn Avenue, one of Atlanta\\u2019s most iconic streets, offers fun-filled entertainment, live music \\u2014 everything from R\\u0026amp;B to gospel to alternative favorites \\u2014 international food court, national artists, celebrities and vendors of all types.\",\"cachedPageUrl\":\"http://cc.bingj.com/cache.aspx?q=things\\u002Bto\\u002Bdo\\u002Bin\\u002BAtlanta\\u002Bon\\u002B2024-10-19\\u0026d=4692574351720481\\u0026mkt=en-US\\u0026setlang=en-US\\u0026w=IyKVbCksY9VV74GkIkdoRE4k4vk9MNbJ\",\"thumbnailUrl\":\"https://www.bing.com/th?id=OIP.m0ENCio7ytS2o9PQRWDCRgHaD4\\u0026w=80\\u0026h=80\\u0026c=1\\u0026pid=5.1\"},{\"name\":\"THE 15 BEST Things to Do in Atlanta (2024) - Tripadvisor\",\"url\":\"https://www.tripadvisor.com/Attractions-g60898-Activities-zfr7917490-Atlanta_Georgia.html\",\"displayUrl\":\"https://www.tripadvisor.com/Attractions-g60898-Activities-zfr7917490-Atlanta_Georgia.html\",\"snippet\":\"2024. 2. Atlanta Botanical Garden. 5,236. Gardens. Step into a world of magic and serenity at the Atlanta Botanical Garden, where features like the Fuqua Orchid Center treat visitors to a rare collection of high-elevation orchids never before grown\\u2026. See tours. 3. World of Coca-Cola.\",\"cachedPageUrl\":\"http://cc.bingj.com/cache.aspx?q=things\\u002Bto\\u002Bdo\\u002Bin\\u002BAtlanta\\u002Bon\\u002B2024-10-19\\u0026d=4515746248419373\\u0026mkt=en-US\\u0026setlang=en-US\\u0026w=LXdPc7lEWAkFhjgarGNLdZvi3B0fdlCv\"},{\"name\":\"THE 10 BEST Things to Do in Atlanta (2024) - Tripadvisor\",\"url\":\"https://www.tripadvisor.co.uk/Attractions-g60898-Activities-Atlanta_Georgia.html\",\"displayUrl\":\"https://www.tripadvisor.co.uk/Attractions-g60898\",\"snippet\":\"1. Georgia Aquarium. 23,858. Aquariums. Georgia Aquarium contains more than 70 amazing habitats, with thousands of marine animals such as whale sharks, manta rays, beluga whales, and more. Don\\u2019t miss out on the animal encounter programs\\u2026. See ways to experience (9) 2024. 2.\",\"cachedPageUrl\":\"http://cc.bingj.com/cache.aspx?q=things\\u002Bto\\u002Bdo\\u002Bin\\u002BAtlanta\\u002Bon\\u002B2024-10-19\\u0026d=4882987433328793\\u0026mkt=en-US\\u0026setlang=en-US\\u0026w=WXiT-XLZjeOsho0ykqgiri_b4Re__gbi\",\"thumbnailUrl\":\"https://www.bing.com/th?id=OIP.2Ivo_p-YFNkGw_DA_PyhkwHaFj\\u0026w=80\\u0026h=80\\u0026c=1\\u0026pid=5.1\"},{\"name\":\"101 Things To Do In Atlanta - Fall 2024 - Student Engagement\",\"url\":\"https://engagement.gsu.edu/2024/09/19/101-things-to-do-in-atlanta-fall-2024/\",\"displayUrl\":\"https://engagement.gsu.edu/2024/09/19/101-things-to-do-in-atlanta-fall-2024\",\"snippet\":\"101 Things To Do In Atlanta - Fall 2024. 101 Things To Do In Atlanta - Fall 2024 101 Things To Do In Atlanta - Fall 2024. September 19, 2024. This list provides some unique suggestions for exploring all that our great city (and the surrounding metro area) has to offer! (*indicates discounted tickets available for Georgia State students)\",\"cachedPageUrl\":\"http://cc.bingj.com/cache.aspx?q=things\\u002Bto\\u002Bdo\\u002Bin\\u002BAtlanta\\u002Bon\\u002B2024-10-19\\u0026d=523467767885\\u0026mkt=en-US\\u0026setlang=en-US\\u0026w=pefDSGUqGEWH0R2Ley_9-wyaSXXJ4Vub\"}]}}\n",
       "```\n",
       "\n",
       "Here are some interesting events and activities you can enjoy in Atlanta over the next four weekends:\n",
       "\n",
       "### September 28, 2024\n",
       "1. [Sweet Auburn Music Fest](https://discoveratlanta.com/stories/things-to-do/cool-things-to-do-in-september-in-atlanta/) - This festival on Auburn Avenue features live music, an international food court, and various vendors.\n",
       "2. [North Georgia State Fair](https://engagement.gsu.edu/2024/09/19/101-things-to-do-in-atlanta-fall-2024/) - Enjoy rides, food, and entertainment at the state fair.\n",
       "3. [Atlanta Food & Wine Festival](https://www.experism.com/atlanta/september) - A celebration of the best in food, wine, beer, and cocktails.\n",
       "\n",
       "### October 5, 2024\n",
       "1. [Dragon Con](https://gosouthatlanta.com/things-to-do/events/atlanta-in-september.html) - One of the biggest annual pop culture conventions in the country.\n",
       "2. [Atlanta Black Theatre Festival](https://gosouthatlanta.com/things-to-do/events/atlanta-in-september.html) - Celebrating the Black experience in performing arts.\n",
       "3. [Protect Yo Energy Con](https://discoveratlanta.com/events/main/) - A wellness event focusing on mental health and self-care.\n",
       "\n",
       "### October 12, 2024\n",
       "1. [Lilburn Daze](https://www.atlantaonthecheap.com/fall-festivals-atlanta/) - A family-friendly arts and crafts festival in Lilburn City Park.\n",
       "2. [Atlanta Fair](https://discoveratlanta.com/stories/things-to-do/cool-things-to-do-in-october-in-atlanta/) - Traditional fair with rides, games, and food.\n",
       "3. [Atlanta Pride](https://www.fox5atlanta.com/news/fall-festivals-metro-atlanta-north-georgia-2024) - One of the largest LGBTQ+ pride events in the Southeast.\n",
       "\n",
       "### October 19, 2024\n",
       "1. [Apple Festival in Ellijay](https://www.atlantaonthecheap.com/fall-festivals-atlanta/) - Pick your own apples and explore over 100 vendor booths.\n",
       "2. [Atlanta Botanical Garden](https://www.tripadvisor.com/Attractions-g60898-Activities-Atlanta_Georgia.html) - Explore the beautiful gardens and special exhibits.\n",
       "3. [Corn Dogs, Rides, and Whack a Mole at the Atlanta Fair](https://discoveratlanta.com/stories/things-to-do/cool-things-to-do-in-october-in-atlanta/) - Enjoy classic fair attractions.\n",
       "\n",
       "Enjoy your weekends in Atlanta!\n",
       "\n",
       "For more detailed information and a complete list of events, you can visit the following sources:\n",
       "- [EventCartel](https://eventcartel.com/events/all-categories/atlanta/from_2024-09-28_to_2024-09-29)\n",
       "- [Atlanta-GA.events](https://atlanta-ga.events/october/)\n",
       "- [Go South Atlanta](https://gosouthatlanta.com/things-to-do/events/atlanta-in-october.html)\n",
       "- [Discover Atlanta](https://discoveratlanta.com/events/main/)\n"
      ]
     },
     "metadata": {},
     "output_type": "display_data"
    }
   ],
   "source": [
    "var assistantRunOptions = new AssistantRunOptions() {\n",
    "    AssistantName = \"Web Search Test\",\n",
    "    Instructions = \"Use python to get todays date and then use it to find things to do in Atlanta for each of the next four weekends. Be careful to not include events in the past in your final answer. You should perform four searches at once.\",\n",
    "    UseConversationEvaluator = false\n",
    "};\n",
    "var output = await AntRunnerLib.AssistantRunner.RunThread(assistantRunOptions, config);\n",
    "output.Dialog.DisplayAs(\"text/markdown\");"
   ]
  },
  {
   "cell_type": "code",
   "execution_count": 6,
   "metadata": {
    "dotnet_interactive": {
     "language": "csharp"
    },
    "polyglot_notebook": {
     "kernelName": "csharp"
    },
    "vscode": {
     "languageId": "polyglot-notebook"
    }
   },
   "outputs": [
    {
     "data": {
      "text/markdown": [
       "Here are some interesting events and activities you can enjoy in Atlanta over the next four weekends:\n",
       "\n",
       "### September 28, 2024\n",
       "1. [Sweet Auburn Music Fest](https://discoveratlanta.com/stories/things-to-do/cool-things-to-do-in-september-in-atlanta/) - This festival on Auburn Avenue features live music, an international food court, and various vendors.\n",
       "2. [North Georgia State Fair](https://engagement.gsu.edu/2024/09/19/101-things-to-do-in-atlanta-fall-2024/) - Enjoy rides, food, and entertainment at the state fair.\n",
       "3. [Atlanta Food & Wine Festival](https://www.experism.com/atlanta/september) - A celebration of the best in food, wine, beer, and cocktails.\n",
       "\n",
       "### October 5, 2024\n",
       "1. [Dragon Con](https://gosouthatlanta.com/things-to-do/events/atlanta-in-september.html) - One of the biggest annual pop culture conventions in the country.\n",
       "2. [Atlanta Black Theatre Festival](https://gosouthatlanta.com/things-to-do/events/atlanta-in-september.html) - Celebrating the Black experience in performing arts.\n",
       "3. [Protect Yo Energy Con](https://discoveratlanta.com/events/main/) - A wellness event focusing on mental health and self-care.\n",
       "\n",
       "### October 12, 2024\n",
       "1. [Lilburn Daze](https://www.atlantaonthecheap.com/fall-festivals-atlanta/) - A family-friendly arts and crafts festival in Lilburn City Park.\n",
       "2. [Atlanta Fair](https://discoveratlanta.com/stories/things-to-do/cool-things-to-do-in-october-in-atlanta/) - Traditional fair with rides, games, and food.\n",
       "3. [Atlanta Pride](https://www.fox5atlanta.com/news/fall-festivals-metro-atlanta-north-georgia-2024) - One of the largest LGBTQ+ pride events in the Southeast.\n",
       "\n",
       "### October 19, 2024\n",
       "1. [Apple Festival in Ellijay](https://www.atlantaonthecheap.com/fall-festivals-atlanta/) - Pick your own apples and explore over 100 vendor booths.\n",
       "2. [Atlanta Botanical Garden](https://www.tripadvisor.com/Attractions-g60898-Activities-Atlanta_Georgia.html) - Explore the beautiful gardens and special exhibits.\n",
       "3. [Corn Dogs, Rides, and Whack a Mole at the Atlanta Fair](https://discoveratlanta.com/stories/things-to-do/cool-things-to-do-in-october-in-atlanta/) - Enjoy classic fair attractions.\n",
       "\n",
       "Enjoy your weekends in Atlanta!\n",
       "\n",
       "For more detailed information and a complete list of events, you can visit the following sources:\n",
       "- [EventCartel](https://eventcartel.com/events/all-categories/atlanta/from_2024-09-28_to_2024-09-29)\n",
       "- [Atlanta-GA.events](https://atlanta-ga.events/october/)\n",
       "- [Go South Atlanta](https://gosouthatlanta.com/things-to-do/events/atlanta-in-october.html)\n",
       "- [Discover Atlanta](https://discoveratlanta.com/events/main/)"
      ]
     },
     "metadata": {},
     "output_type": "display_data"
    }
   ],
   "source": [
    "using Microsoft.DotNet.Interactive;\n",
    "using Microsoft.DotNet.Interactive.Formatting;\n",
    "\n",
    "output.LastMessage.DisplayAs(\"text/markdown\");\n"
   ]
  },
  {
   "cell_type": "markdown",
   "metadata": {},
   "source": [
    "## Clean Up"
   ]
  },
  {
   "cell_type": "code",
   "execution_count": 7,
   "metadata": {
    "dotnet_interactive": {
     "language": "csharp"
    },
    "polyglot_notebook": {
     "kernelName": "csharp"
    },
    "vscode": {
     "languageId": "polyglot-notebook"
    }
   },
   "outputs": [
    {
     "name": "stdout",
     "output_type": "stream",
     "text": [
      "Deleted assistant\r\n"
     ]
    }
   ],
   "source": [
    "var assistant = (await client.AssistantList())?.Data?.FirstOrDefault(o => o.Name == \"Web Search Test\");\n",
    "if(assistant != null) {\n",
    "    await client.AssistantDelete(assistant.Id);\n",
    "    Console.WriteLine(\"Deleted assistant\");\n",
    "}\n",
    "else\n",
    "{\n",
    "    Console.WriteLine(\"Didn't find MsGraphUserProfile\");\n",
    "}"
   ]
  }
 ],
 "metadata": {
  "kernelspec": {
   "display_name": ".NET (C#)",
   "language": "C#",
   "name": ".net-csharp"
  },
  "language_info": {
   "name": "python"
  },
  "polyglot_notebook": {
   "kernelInfo": {
    "defaultKernelName": "csharp",
    "items": [
     {
      "aliases": [],
      "name": "csharp"
     }
    ]
   }
  }
 },
 "nbformat": 4,
 "nbformat_minor": 2
}
