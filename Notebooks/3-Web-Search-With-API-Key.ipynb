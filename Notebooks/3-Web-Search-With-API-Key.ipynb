{
 "cells": [
  {
   "cell_type": "markdown",
   "metadata": {},
   "source": [
    "## Web Search Test\n",
    "The **Web Search Test** ant demonstrates the use of a Web API secured using an API key with an auth header. This sample requires you to create a Web Search (bing) resource in Azure and enter its corresponding API key in [0-AI-settings](0-AI-settings.ipynb)"
   ]
  },
  {
   "cell_type": "markdown",
   "metadata": {},
   "source": [
    "## First steps\n",
    "- First, download AntRunLib from Nuget\n",
    "- At least once, set up the environment using **[0-AI-settings](0-AI-settings.ipynb)**"
   ]
  },
  {
   "cell_type": "code",
   "execution_count": 1,
   "metadata": {
    "dotnet_interactive": {
     "language": "csharp"
    },
    "polyglot_notebook": {
     "kernelName": "csharp"
    },
    "vscode": {
     "languageId": "polyglot-notebook"
    }
   },
   "outputs": [
    {
     "data": {
      "text/html": [
       "<div><div></div><div></div><div><strong>Installed Packages</strong><ul><li><span>AntRunnerLib, 0.6.7</span></li></ul></div></div>"
      ]
     },
     "metadata": {},
     "output_type": "display_data"
    }
   ],
   "source": [
    "#r \"nuget: AntRunnerLib, 0.6.7\"\n",
    "\n",
    "using AntRunnerLib;\n",
    "using AntRunnerLib.Identity;\n",
    "using static AntRunnerLib.ClientUtility;\n",
    "using System.IO;\n",
    "\n",
    "#!import config/Settings.cs \n",
    "\n",
    "var envVariables = Settings.GetEnvironmentVariables();\n",
    "foreach (var kvp in envVariables)\n",
    "{\n",
    "    Environment.SetEnvironmentVariable(kvp.Key, kvp.Value);\n",
    "}\n",
    "\n",
    "var config = AzureOpenAIConfigFactory.Get();\n",
    "var client = GetOpenAIClient(config);\n"
   ]
  },
  {
   "cell_type": "markdown",
   "metadata": {},
   "source": [
    "## Ensure the Web Search Test assistant exists\n",
    "The definition of this assistant is located in the \".\\AssistantDefinitions\\Web Search Test\" folder\n",
    "\n",
    "\".\\AssistantDefinitions\\\" is a default path. You can override it by setting the **ASSISTANTS_BASE_FOLDER_PATH** environment variable.\n",
    "\n",
    "\"Web Search Test\" contains the following files:\n",
    "```\n",
    "│   instructions.md - The instructions\n",
    "│   manifest.json - The base assistant definition\n",
    "│\n",
    "└───OpenAPI\n",
    "        api.bing.microsoft.com.json - A swagger file defining a tool named 'crawl' that uses web search\n",
    "        auth.json - See below... \n",
    "```        \n",
    "\n",
    "## auth.json\n",
    "AntRunnerLib uses the instructions in this file to create the correct auth header(s) for the API. In this case, a header is added to the web request, **Ocp-Apim-Subscription-Key**, the header's value is supplied by an environment variable named, SEARCH_API_KEY. The environment variable name is user defined and ensuring it has a value is the responsibility of the application. \n",
    "\n",
    "```json\n",
    "{\n",
    "  \"hosts\": {\n",
    "    \"api.bing.microsoft.com\": {\n",
    "      \"auth_type\": \"service_http\",\n",
    "      \"header_name\": \"Ocp-Apim-Subscription-Key\",\n",
    "      \"header_value_env_var\": \"SEARCH_API_KEY\"\n",
    "    }\n",
    "  }\n",
    "}\n",
    "```\n",
    "\n",
    "### Explanation\n",
    "`AssistantUtility.Create` acts based on the contents of a folder structure following a convention laid out in these notebooks. In this case, it copied the contents of instructions.md into the assistant manifest.json. It also parsed the api.bing.microsoft.com swagger which follows an Open API schema into tool defintions for the assitant."
   ]
  },
  {
   "cell_type": "code",
   "execution_count": 2,
   "metadata": {
    "dotnet_interactive": {
     "language": "csharp"
    },
    "polyglot_notebook": {
     "kernelName": "csharp"
    },
    "vscode": {
     "languageId": "polyglot-notebook"
    }
   },
   "outputs": [
    {
     "name": "stdout",
     "output_type": "stream",
     "text": [
      "asst_4EUSOW7dhpete4bUfLf1tVTG\r\n"
     ]
    }
   ],
   "source": [
    "var assistantId = await AssistantUtility.Create(\"Web Search Test\", config);\n",
    "Console.WriteLine(assistantId)"
   ]
  },
  {
   "cell_type": "markdown",
   "metadata": {},
   "source": [
    "## Run the Assistant\n",
    "\n",
    "`output.Dialog` shows the conversation."
   ]
  },
  {
   "cell_type": "code",
   "execution_count": 3,
   "metadata": {
    "dotnet_interactive": {
     "language": "csharp"
    },
    "polyglot_notebook": {
     "kernelName": "csharp"
    },
    "vscode": {
     "languageId": "polyglot-notebook"
    }
   },
   "outputs": [
    {
     "name": "stdout",
     "output_type": "stream",
     "text": [
      "\n",
      "User: Use python to get todays date and then use it to find things to do in Atlanta this weekend. Be careful to not include events in the past in your final answer. You can perform multiple searches if necessary\n",
      "\n",
      "Assistant: I ran this code:\n",
      "```\n",
      "from datetime import datetime, timedelta\n",
      "\n",
      "# Get today's date\n",
      "today = datetime.now()\n",
      "\n",
      "# Calculate the upcoming weekend dates (Saturday and Sunday)\n",
      "# Assuming today is a weekday, we find the next Saturday and Sunday\n",
      "days_until_saturday = (5 - today.weekday()) % 7\n",
      "days_until_sunday = (6 - today.weekday()) % 7\n",
      "\n",
      "# Get the dates for Saturday and Sunday\n",
      "saturday = today + timedelta(days=days_until_saturday)\n",
      "sunday = today + timedelta(days=days_until_sunday)\n",
      "\n",
      "# Format the dates for output\n",
      "saturday_date = saturday.strftime(\"%Y-%m-%d\")\n",
      "sunday_date = sunday.strftime(\"%Y-%m-%d\")\n",
      "\n",
      "today_date = today.strftime(\"%Y-%m-%d\")\n",
      "today_date, saturday_date, sunday_date\n",
      "```\n",
      "\n",
      "I called the tool named crawl with these arguments:\n",
      "```\n",
      "{\"q\": \"things to do in Atlanta on 2024-09-14\", \"answerCount\": 3, \"textFormat\": \"HTML\"}\n",
      "```\n",
      "and got this result:\n",
      "```\n",
      "{\"_type\": \"SearchResponse\", \"queryContext\": {\"originalQuery\": \"things to do in Atlanta on 2024-09-14\", \"askUserForLocation\": true}, \"webPages\": {\"webSearchUrl\": \"https:\\/\\/www.bing.com\\/search?q=things+to+do+in+Atlanta+on+2024-09-14\", \"totalEstimatedMatches\": 4690000, \"value\": [{\"id\": \"https:\\/\\/api.bing.microsoft.com\\/api\\/v7\\/#WebPages.0\", \"name\": \"Atlanta Events September 2024: Concerts, Shows, Sports...\", \"url\": \"https:\\/\\/atlanta-ga.events\\/september\\/\", \"datePublished\": \"2024-09-12T00:00:00.0000000\", \"datePublishedFreshnessText\": \"1 day ago\", \"isFamilyFriendly\": true, \"displayUrl\": \"https:\\/\\/atlanta-ga.events\\/september\", \"snippet\": \"Explore our comprehensive calendar for all the current and upcoming events in Atlanta, GA, for September 2024. This guide is your gateway to discovering the best things to do in Atlanta, from Concerts and Theater Shows to Sports events and music festivals. You’ll find a detailed list of all the most engaging and exciting activities happening throughout the month.\", \"dateLastCrawled\": \"2024-09-12T06:07:00.0000000Z\", \"cachedPageUrl\": \"http:\\/\\/cc.bingj.com\\/cache.aspx?q=things+to+do+in+Atlanta+on+2024-09-14&d=4854189672130867&mkt=en-US&setlang=en-US&w=O1kFEpO7pJGfbkmdL1lCvH4mS1bjztOY\", \"language\": \"en\", \"isNavigational\": true, \"noCache\": false, \"siteName\": \"Atlanta Events\"}, {\"id\": \"https:\\/\\/api.bing.microsoft.com\\/api\\/v7\\/#WebPages.1\", \"name\": \"Atlanta Events - September 2024 - Go South Atlanta\", \"url\": \"https:\\/\\/gosouthatlanta.com\\/things-to-do\\/events\\/atlanta-in-september.html\", \"thumbnailUrl\": \"https:\\/\\/www.bing.com\\/th?id=OIP.xm-3dn3hYJZHsVVU9WO5qwHaD4&w=80&h=80&c=1&pid=5.1\", \"isFamilyFriendly\": true, \"displayUrl\": \"https:\\/\\/gosouthatlanta.com\\/things-to-do\\/events\\/atlanta-in-september.html\", \"snippet\": \"More details. – Dragon Con, August 29 - September 2 2024. One of the biggest annual pop culture conventions in the country. More details. – Atlanta Black Theatre Festival, August 30 - September 1 2024. Annual festival celebrating the Black experience in the performing arts, with plays, panels, masterclasses and other events.\", \"dateLastCrawled\": \"2024-09-11T09:31:00.0000000Z\", \"primaryImageOfPage\": {\"thumbnailUrl\": \"https:\\/\\/www.bing.com\\/th?id=OIP.xm-3dn3hYJZHsVVU9WO5qwHaD4&w=80&h=80&c=1&pid=5.1\", \"width\": 80, \"height\": 80, \"sourceWidth\": 474, \"sourceHeight\": 248, \"imageId\": \"OIP.xm-3dn3hYJZHsVVU9WO5qwHaD4\"}, \"cachedPageUrl\": \"http:\\/\\/cc.bingj.com\\/cache.aspx?q=things+to+do+in+Atlanta+on+2024-09-14&d=4712253889380482&mkt=en-US&setlang=en-US&w=mqEnMwiIbAFe4oOvzq1dGpeg_GE4sHjt\", \"language\": \"en\", \"isNavigational\": false, \"noCache\": false, \"siteName\": \"Go South Atlanta\"}, {\"id\": \"https:\\/\\/api.bing.microsoft.com\\/api\\/v7\\/#WebPages.2\", \"name\": \"Explore Atlanta Events for Today, This Week or Weekend\", \"url\": \"https:\\/\\/discoveratlanta.com\\/events\\/main\\/\", \"datePublished\": \"2010-10-23T00:00:00.0000000\", \"datePublishedDisplayText\": \"Oct 23, 2010\", \"isFamilyFriendly\": true, \"displayUrl\": \"https:\\/\\/discoveratlanta.com\\/events\\/m\", \"snippet\": \"Stay up to date on things to do and events in Atlanta today, this week and this weekend. Whether you’re into live music, food and wine, sports or family-friendly entertainment, Atlanta events offer nonstop fun for everyone. ... Multiple dates until 09\\/14\\/2024. Sunset Sessions Presents DJ Mike Webster &amp; DJ Xzac 9\\/12\\/24 – 10\\/13\\/24. Shake ...\", \"dateLastCrawled\": \"2024-09-12T02:22:00.0000000Z\", \"cachedPageUrl\": \"http:\\/\\/cc.bingj.com\\/cache.aspx?q=things+to+do+in+Atlanta+on+2024-09-14&d=4819881469507157&mkt=en-US&setlang=en-US&w=A8gSpQXgK2iP1GMx_bJv9FTM8ziERJGY\", \"language\": \"en\", \"isNavigational\": false, \"noCache\": false, \"siteName\": \"Discover Atlanta\"}, {\"id\": \"https:\\/\\/api.bing.microsoft.com\\/api\\/v7\\/#WebPages.3\", \"name\": \"Cool Things To Do in September in Atlanta\", \"url\": \"https:\\/\\/discoveratlanta.com\\/stories\\/things-to-do\\/cool-things-to-do-in-september-in-atlanta\\/\", \"thumbnailUrl\": \"https:\\/\\/www.bing.com\\/th?id=OIP.NfBFXaOsJXncF4ogSs39SQHaFj&w=80&h=80&c=1&pid=5.1\", \"datePublished\": \"2024-08-23T00:00:00.0000000\", \"datePublishedDisplayText\": \"Aug 23, 2024\", \"isFamilyFriendly\": true, \"displayUrl\": \"https:\\/\\/discoveratlanta.com\\/stories\\/things-to-do\\/cool-things-to-do-in-september-in-atlanta\", \"snippet\": \"The Sweet Auburn Music Fest, which takes place Sept. 28-29. The festival, located on Auburn Avenue, one of Atlanta’s most iconic streets, offers fun-filled entertainment, live music — everything from R&amp;B to gospel to alternative favorites — international food court, national artists, celebrities and vendors of all types.\", \"dateLastCrawled\": \"2024-09-11T05:06:00.0000000Z\", \"primaryImageOfPage\": {\"thumbnailUrl\": \"https:\\/\\/www.bing.com\\/th?id=OIP.NfBFXaOsJXncF4ogSs39SQHaFj&w=80&h=80&c=1&pid=5.1\", \"width\": 80, \"height\": 80, \"sourceWidth\": 474, \"sourceHeight\": 355, \"imageId\": \"OIP.NfBFXaOsJXncF4ogSs39SQHaFj\"}, \"cachedPageUrl\": \"http:\\/\\/cc.bingj.com\\/cache.aspx?q=things+to+do+in+Atlanta+on+2024-09-14&d=4692574347722786&mkt=en-US&setlang=en-US&w=NGOZi41j9uhV74GkIkdoRE4k4vk9MNbJ\", \"language\": \"en\", \"isNavigational\": false, \"richFacts\": [{\"label\": {\"text\": \"Author\"}, \"items\": [{\"text\": \"Mary Welch\"}], \"hint\": {\"text\": \"BASE:AUTHOR\"}}], \"noCache\": false, \"siteName\": \"Discover Atlanta\"}, {\"id\": \"https:\\/\\/api.bing.microsoft.com\\/api\\/v7\\/#WebPages.4\", \"name\": \"Atlanta weekend events, Sept. 13-15 - Axios Atlanta\", \"url\": \"https:\\/\\/www.axios.com\\/local\\/atlanta\\/2024\\/09\\/12\\/atlanta-weekend-events-sept-13-15\", \"datePublished\": \"2024-09-12T00:00:00.0000000\", \"datePublishedFreshnessText\": \"1 day ago\", \"isFamilyFriendly\": true, \"displayUrl\": \"https:\\/\\/www.axios.com\\/local\\/atlanta\\/2024\\/09\\/12\\/atlanta-weekend-events-sept-13-15\", \"snippet\": \"Don&#39;t let the forecast of rain stop you from making the most of your weekend. Get out there with these events: 🏀 The Atlanta Dream will play the Washington Mystics at Gateway Center Arena.(🎤 CeeLo Green takes the stage at The Bowl at Sugar Hill in Gwinnett County. (🍷 The Atlanta Food and Wine Festival returns to the Historic Fourth Ward Park.\", \"dateLastCrawled\": \"2024-09-12T10:54:00.0000000Z\", \"cachedPageUrl\": \"http:\\/\\/cc.bingj.com\\/cache.aspx?q=things+to+do+in+Atlanta+on+2024-09-14&d=314912552201&mkt=en-US&setlang=en-US&w=dUi0mSjd1xWmg1BWAdk6_gI7dM2h1h2i\", \"language\": \"en\", \"isNavigational\": false, \"noCache\": false, \"siteName\": \"Axios\"}, {\"id\": \"https:\\/\\/api.bing.microsoft.com\\/api\\/v7\\/#WebPages.5\", \"name\": \"Upcoming Events - Discover Atlanta\", \"url\": \"https:\\/\\/discoveratlanta.com\\/events\\/all\\/\", \"isFamilyFriendly\": true, \"displayUrl\": \"https:\\/\\/discoveratlanta.com\\/events\\/all\", \"snippet\": \"Bounce through the incredible events happening around Atlanta today, tomorrow, this week or this month. Plan your fun and be in the know on everything from family-favorites, to can’t-miss hot spots, concerts and foodie festivals. Showing 1 – 15 of 482. Editors’ Pick.\", \"dateLastCrawled\": \"2024-09-09T13:21:00.0000000Z\", \"cachedPageUrl\": \"http:\\/\\/cc.bingj.com\\/cache.aspx?q=things+to+do+in+Atlanta+on+2024-09-14&d=4829094180363395&mkt=en-US&setlang=en-US&w=dEEd4v0BN-yUBKZlUeD3eG4MmVcBwK29\", \"language\": \"en\", \"isNavigational\": false, \"noCache\": false, \"siteName\": \"Discover Atlanta\"}, {\"id\": \"https:\\/\\/api.bing.microsoft.com\\/api\\/v7\\/#WebPages.6\", \"name\": \"Atlanta September 2024: Events, Concerts, Clubs &amp; Things to Do - Experism\", \"url\": \"https:\\/\\/www.experism.com\\/atlanta\\/september\", \"thumbnailUrl\": \"https:\\/\\/www.bing.com\\/th?id=OIP.olhKQPMmqVRnYPMvJ8-yDAHaEK&w=80&h=80&c=1&pid=5.1\", \"isFamilyFriendly\": true, \"displayUrl\": \"https:\\/\\/www.experism.com\\/atlanta\\/september\", \"snippet\": \"Sep 12-15, 2024 Historic Fourth Ward Park View on Map. Play Video. The Atlanta Food &amp; Wine Festival highlights the best food, wine, beer &amp; cocktails Atlanta has to offer. This unique event brings in 150+ chefs, sommeliers, mixologists and industry insiders for 5 days of mouthwatering and tempting cuisines &amp; special Tasting Tents.\", \"dateLastCrawled\": \"2024-09-09T14:02:00.0000000Z\", \"primaryImageOfPage\": {\"thumbnailUrl\": \"https:\\/\\/www.bing.com\\/th?id=OIP.olhKQPMmqVRnYPMvJ8-yDAHaEK&w=80&h=80&c=1&pid=5.1\", \"width\": 80, \"height\": 80, \"sourceWidth\": 474, \"sourceHeight\": 266, \"imageId\": \"OIP.olhKQPMmqVRnYPMvJ8-yDAHaEK\"}, \"cachedPageUrl\": \"http:\\/\\/cc.bingj.com\\/cache.aspx?q=things+to+do+in+Atlanta+on+2024-09-14&d=4642636756102224&mkt=en-US&setlang=en-US&w=mRZw7cRKrsQ_Ok9mubm7deAiSBD33s7x\", \"language\": \"en\", \"isNavigational\": false, \"noCache\": false, \"siteName\": \"Experism\"}, {\"id\": \"https:\\/\\/api.bing.microsoft.com\\/api\\/v7\\/#WebPages.7\", \"name\": \"September in Atlanta: Top things to do this month\", \"url\": \"https:\\/\\/www.atlantaonthecheap.com\\/september-things-to-do-atlanta\\/\", \"thumbnailUrl\": \"https:\\/\\/www.bing.com\\/th?id=OIP.nr9hIeiKua3UgaXY-eBoHgHaE8&w=80&h=80&c=1&pid=5.1\", \"datePublished\": \"2024-09-07T00:00:00.0000000\", \"datePublishedFreshnessText\": \"6 days ago\", \"isFamilyFriendly\": true, \"displayUrl\": \"https:\\/\\/www.atlantaonthecheap.com\\/september-things-to-do-atlanta\", \"snippet\": \"Free &amp; cheap things to do this weekend; Guide to 2024 fall farmers markets; September in Atlanta: top things to do . REMINDER: Before making plans for a restaurant, special exhibit, concert, ... on Septembe 14, 2024. Register in advance. • Wednesday morning group walks at Mason Mill Park are lead by a guide, starting at 10 a.m. each Wednesday ...\", \"dateLastCrawled\": \"2024-09-11T00:22:00.0000000Z\", \"primaryImageOfPage\": {\"thumbnailUrl\": \"https:\\/\\/www.bing.com\\/th?id=OIP.nr9hIeiKua3UgaXY-eBoHgHaE8&w=80&h=80&c=1&pid=5.1\", \"width\": 80, \"height\": 80, \"sourceWidth\": 474, \"sourceHeight\": 316, \"imageId\": \"OIP.nr9hIeiKua3UgaXY-eBoHgHaE8\"}, \"cachedPageUrl\": \"http:\\/\\/cc.bingj.com\\/cache.aspx?q=things+to+do+in+Atlanta+on+2024-09-14&d=4531508773276372&mkt=en-US&setlang=en-US&w=Tm-6V6rIefsMsXsP8SfKEFE-tgkhrh_1\", \"language\": \"en\", \"isNavigational\": false, \"noCache\": false, \"siteName\": \"Atlanta on the Cheap\"}, {\"id\": \"https:\\/\\/api.bing.microsoft.com\\/api\\/v7\\/#WebPages.8\", \"name\": \"20 Spectacular Things To Do This September In Atlanta - Secret Atlanta\", \"url\": \"https:\\/\\/secretatlanta.co\\/things-to-do-september\\/\", \"datePublished\": \"2024-09-03T00:00:00.0000000\", \"datePublishedDisplayText\": \"Sep 3, 2024\", \"isFamilyFriendly\": true, \"displayUrl\": \"https:\\/\\/secretatlanta.co\\/things-to-do-september\", \"snippet\": \"When: Saturday, September 7th from 12pm – 10pm. Thousands of people are expected to head to Morris Brown College in Atlanta this September for the legendary Seafood &amp; Caribbean Music festival! Enjoy tons of live music, DJs, and of course, as much mouthwatering seafood and Caribbean dishes as your heart desires! Don’t miss out on all the fun.\", \"dateLastCrawled\": \"2024-09-11T02:27:00.0000000Z\", \"cachedPageUrl\": \"http:\\/\\/cc.bingj.com\\/cache.aspx?q=things+to+do+in+Atlanta+on+2024-09-14&d=4724958401813806&mkt=en-US&setlang=en-US&w=2huElYL_YeFkqeBkOazQ7cCeg5xgwMQ3\", \"language\": \"en\", \"isNavigational\": false, \"noCache\": false, \"siteName\": \"Secret Atlanta\"}, {\"id\": \"https:\\/\\/api.bing.microsoft.com\\/api\\/v7\\/#WebPages.9\", \"name\": \"35+ Best Things to Do in Atlanta in 2024 - Unexpected Atlanta\", \"url\": \"https:\\/\\/unexpectedatlanta.com\\/best-things-to-do-in-atlanta\\/\", \"thumbnailUrl\": \"https:\\/\\/www.bing.com\\/th?id=OIP.HwzfdFE6-tSHfhoFlTxXKQAAAA&w=80&h=80&c=1&pid=5.1\", \"datePublished\": \"2024-02-15T00:00:00.0000000\", \"datePublishedDisplayText\": \"Feb 15, 2024\", \"isFamilyFriendly\": true, \"displayUrl\": \"https:\\/\\/unexpectedatlanta.com\\/best-things-to-do-in-atlanta\", \"snippet\": \"1. Visit the National Parks on a Fee-Free Day. First on our list of the best things to do in Atlanta in 2024, check out America’s National Park System’s fee-free days this year. On these special days, you can visit any of the United States’ 400+ National Parks for free, including places in and around Georgia.\", \"dateLastCrawled\": \"2024-09-08T05:09:00.0000000Z\", \"primaryImageOfPage\": {\"thumbnailUrl\": \"https:\\/\\/www.bing.com\\/th?id=OIP.HwzfdFE6-tSHfhoFlTxXKQAAAA&w=80&h=80&c=1&pid=5.1\", \"width\": 80, \"height\": 80, \"sourceWidth\": 474, \"sourceHeight\": 474, \"imageId\": \"OIP.HwzfdFE6-tSHfhoFlTxXKQAAAA\"}, \"cachedPageUrl\": \"http:\\/\\/cc.bingj.com\\/cache.aspx?q=things+to+do+in+Atlanta+on+2024-09-14&d=4885792039511525&mkt=en-US&setlang=en-US&w=rdlSYgoiw-StzRRUG028yHS95G2gOIKx\", \"language\": \"en\", \"isNavigational\": false, \"noCache\": false, \"siteName\": \"Unexpected Atlanta\"}], \"someResultsRemoved\": true}, \"relatedSearches\": {\"id\": \"https:\\/\\/api.bing.microsoft.com\\/api\\/v7\\/#RelatedSearches\", \"value\": [{\"text\": \"atlanta 2024 events\", \"displayText\": \"atlanta 2024 events\", \"webSearchUrl\": \"https:\\/\\/www.bing.com\\/search?q=Atlanta+2024+events\"}, {\"text\": \"events in atlanta this weekend\", \"displayText\": \"events in atlanta this weekend\", \"webSearchUrl\": \"https:\\/\\/www.bing.com\\/search?q=events+in+Atlanta+this+weekend\"}, {\"text\": \"events in atlanta today\", \"displayText\": \"events in atlanta today\", \"webSearchUrl\": \"https:\\/\\/www.bing.com\\/search?q=events+in+Atlanta+today\"}, {\"text\": \"atlanta events this week\", \"displayText\": \"atlanta events this week\", \"webSearchUrl\": \"https:\\/\\/www.bing.com\\/search?q=Atlanta+events+this+week\"}, {\"text\": \"atlanta events calendar\", \"displayText\": \"atlanta events calendar\", \"webSearchUrl\": \"https:\\/\\/www.bing.com\\/search?q=Atlanta+events+calendar\"}, {\"text\": \"cool things to do in atlanta september\", \"displayText\": \"cool things to do in atlanta september\", \"webSearchUrl\": \"https:\\/\\/www.bing.com\\/search?q=cool+things+to+do+in+Atlanta+september\"}, {\"text\": \"atlanta in september 2023\", \"displayText\": \"atlanta in september 2023\", \"webSearchUrl\": \"https:\\/\\/www.bing.com\\/search?q=Atlanta+in+september+2023\"}, {\"text\": \"underground atlanta september events\", \"displayText\": \"underground atlanta september events\", \"webSearchUrl\": \"https:\\/\\/www.bing.com\\/search?q=underground+Atlanta+september+events\"}]}, \"rankingResponse\": {\"mainline\": {\"items\": [{\"answerType\": \"WebPages\", \"resultIndex\": 0, \"value\": {\"id\": \"https:\\/\\/api.bing.microsoft.com\\/api\\/v7\\/#WebPages.0\"}}, {\"answerType\": \"WebPages\", \"resultIndex\": 1, \"value\": {\"id\": \"https:\\/\\/api.bing.microsoft.com\\/api\\/v7\\/#WebPages.1\"}}, {\"answerType\": \"WebPages\", \"resultIndex\": 2, \"value\": {\"id\": \"https:\\/\\/api.bing.microsoft.com\\/api\\/v7\\/#WebPages.2\"}}, {\"answerType\": \"WebPages\", \"resultIndex\": 3, \"value\": {\"id\": \"https:\\/\\/api.bing.microsoft.com\\/api\\/v7\\/#WebPages.3\"}}, {\"answerType\": \"WebPages\", \"resultIndex\": 4, \"value\": {\"id\": \"https:\\/\\/api.bing.microsoft.com\\/api\\/v7\\/#WebPages.4\"}}, {\"answerType\": \"WebPages\", \"resultIndex\": 5, \"value\": {\"id\": \"https:\\/\\/api.bing.microsoft.com\\/api\\/v7\\/#WebPages.5\"}}, {\"answerType\": \"WebPages\", \"resultIndex\": 6, \"value\": {\"id\": \"https:\\/\\/api.bing.microsoft.com\\/api\\/v7\\/#WebPages.6\"}}, {\"answerType\": \"WebPages\", \"resultIndex\": 7, \"value\": {\"id\": \"https:\\/\\/api.bing.microsoft.com\\/api\\/v7\\/#WebPages.7\"}}, {\"answerType\": \"WebPages\", \"resultIndex\": 8, \"value\": {\"id\": \"https:\\/\\/api.bing.microsoft.com\\/api\\/v7\\/#WebPages.8\"}}, {\"answerType\": \"WebPages\", \"resultIndex\": 9, \"value\": {\"id\": \"https:\\/\\/api.bing.microsoft.com\\/api\\/v7\\/#WebPages.9\"}}, {\"answerType\": \"RelatedSearches\", \"value\": {\"id\": \"https:\\/\\/api.bing.microsoft.com\\/api\\/v7\\/#RelatedSearches\"}}]}}}\n",
      "```\n",
      "\n",
      "I called the tool named crawl with these arguments:\n",
      "```\n",
      "{\"q\": \"things to do in Atlanta on 2024-09-15\", \"answerCount\": 3, \"textFormat\": \"HTML\"}\n",
      "```\n",
      "and got this result:\n",
      "```\n",
      "{\"_type\": \"SearchResponse\", \"queryContext\": {\"originalQuery\": \"things to do in Atlanta on 2024-09-15\", \"askUserForLocation\": true}, \"webPages\": {\"webSearchUrl\": \"https:\\/\\/www.bing.com\\/search?q=things+to+do+in+Atlanta+on+2024-09-15\", \"totalEstimatedMatches\": 7490000, \"value\": [{\"id\": \"https:\\/\\/api.bing.microsoft.com\\/api\\/v7\\/#WebPages.0\", \"name\": \"Atlanta Events - September 2024 - Go South Atlanta\", \"url\": \"https:\\/\\/gosouthatlanta.com\\/things-to-do\\/events\\/atlanta-in-september.html\", \"thumbnailUrl\": \"https:\\/\\/www.bing.com\\/th?id=OIP.xm-3dn3hYJZHsVVU9WO5qwHaD4&w=80&h=80&c=1&pid=5.1\", \"isFamilyFriendly\": true, \"displayUrl\": \"https:\\/\\/gosouthatlanta.com\\/things-to-do\\/events\\/atlanta-in-september.html\", \"snippet\": \"More details. – Dragon Con, August 29 - September 2 2024. One of the biggest annual pop culture conventions in the country. More details. – Atlanta Black Theatre Festival, August 30 - September 1 2024. Annual festival celebrating the Black experience in the performing arts, with plays, panels, masterclasses and other events.\", \"dateLastCrawled\": \"2024-09-13T00:21:00.0000000Z\", \"primaryImageOfPage\": {\"thumbnailUrl\": \"https:\\/\\/www.bing.com\\/th?id=OIP.xm-3dn3hYJZHsVVU9WO5qwHaD4&w=80&h=80&c=1&pid=5.1\", \"width\": 80, \"height\": 80, \"sourceWidth\": 474, \"sourceHeight\": 248, \"imageId\": \"OIP.xm-3dn3hYJZHsVVU9WO5qwHaD4\"}, \"cachedPageUrl\": \"http:\\/\\/cc.bingj.com\\/cache.aspx?q=things+to+do+in+Atlanta+on+2024-09-15&d=4712253889380482&mkt=en-US&setlang=en-US&w=mqEnMwiIbAFe4oOvzq1dGpeg_GE4sHjt\", \"language\": \"en\", \"isNavigational\": true, \"noCache\": false, \"siteName\": \"Go South Atlanta\"}, {\"id\": \"https:\\/\\/api.bing.microsoft.com\\/api\\/v7\\/#WebPages.1\", \"name\": \"Things to do this weekend in metro Atlanta | Sept. 13-15, 2024 - Yahoo\", \"url\": \"https:\\/\\/www.yahoo.com\\/lifestyle\\/things-weekend-metro-atlanta-sept-203014108.html\", \"datePublished\": \"2024-09-12T20:30:00.0000000\", \"datePublishedFreshnessText\": \"17 hours ago\", \"video\": {\"webSearchUrl\": \"https:\\/\\/www.bing.com\\/videos\\/search?q=things%20to%20do%20in%20Atlanta%20on%202024-09-15&view=detail&mid=A18348C9771D28E55B47A18348C9771D28E55B47\", \"thumbnailUrl\": \"https:\\/\\/www.bing.com\\/th?id=OVF.F2eGkCkr1Nldd12hWaZx2Q&w=128&h=72&c=4&rs=1&pid=6.1\", \"duration\": \"5:34\", \"sourceWidth\": 128, \"sourceHeight\": 72, \"videoId\": \"A18348C9771D28E55B47A18348C9771D28E55B47\"}, \"isFamilyFriendly\": true, \"displayUrl\": \"https:\\/\\/www.yahoo.com\\/lifestyle\\/things-weekend-metro-atlanta-sept-203014108.html\", \"snippet\": \"When: Sept. 12-15, Sept. 19-22, and Sept. 26-Oct. 27 Where : Downtown Helen What : Oktoberfest in Helen is the longest-running celebration in the U.S., offering food and beverage specials, live ...\", \"dateLastCrawled\": \"2024-09-13T01:54:00.0000000Z\", \"cachedPageUrl\": \"http:\\/\\/cc.bingj.com\\/cache.aspx?q=things+to+do+in+Atlanta+on+2024-09-15&d=2033179129622&mkt=en-US&setlang=en-US&w=aMbJmLrLdZ8dmQCoZlHjh0J1BWIg4Bsf\", \"language\": \"en\", \"isNavigational\": false, \"richFacts\": [{\"label\": {\"text\": \"Video Duration\"}, \"items\": [{\"text\": \"6 min\"}], \"hint\": {\"text\": \"MEDIA:DURATION\"}}, {\"label\": {\"text\": \"Author\"}, \"items\": [{\"text\": \"Joyce Lupiani\"}], \"hint\": {\"text\": \"BASE:AUTHOR\"}}], \"noCache\": false, \"siteName\": \"Yahoo\"}, {\"id\": \"https:\\/\\/api.bing.microsoft.com\\/api\\/v7\\/#WebPages.2\", \"name\": \"Atlanta weekend events, Sept. 13-15 - Axios Atlanta\", \"url\": \"https:\\/\\/www.axios.com\\/local\\/atlanta\\/2024\\/09\\/12\\/atlanta-weekend-events-sept-13-15\", \"datePublished\": \"2024-09-12T00:00:00.0000000\", \"datePublishedFreshnessText\": \"1 day ago\", \"isFamilyFriendly\": true, \"displayUrl\": \"https:\\/\\/www.axios.com\\/local\\/atlanta\\/2024\\/09\\/12\\/atlanta-weekend-events-sept-13-15\", \"snippet\": \"Don&#39;t let the forecast of rain stop you from making the most of your weekend. Get out there with these events: 🏀 The Atlanta Dream will play the Washington Mystics at Gateway Center Arena.(🎤 CeeLo Green takes the stage at The Bowl at Sugar Hill in Gwinnett County. (🍷 The Atlanta Food and Wine Festival returns to the Historic Fourth Ward Park.\", \"dateLastCrawled\": \"2024-09-12T10:54:00.0000000Z\", \"cachedPageUrl\": \"http:\\/\\/cc.bingj.com\\/cache.aspx?q=things+to+do+in+Atlanta+on+2024-09-15&d=314912552201&mkt=en-US&setlang=en-US&w=dUi0mSjd1xWmg1BWAdk6_gI7dM2h1h2i\", \"language\": \"en\", \"isNavigational\": false, \"noCache\": false, \"siteName\": \"Axios\"}, {\"id\": \"https:\\/\\/api.bing.microsoft.com\\/api\\/v7\\/#WebPages.3\", \"name\": \"Cool Things To Do in September in Atlanta\", \"url\": \"https:\\/\\/discoveratlanta.com\\/stories\\/things-to-do\\/cool-things-to-do-in-september-in-atlanta\\/\", \"thumbnailUrl\": \"https:\\/\\/www.bing.com\\/th?id=OIP.NfBFXaOsJXncF4ogSs39SQHaFj&w=80&h=80&c=1&pid=5.1\", \"datePublished\": \"2024-08-23T00:00:00.0000000\", \"datePublishedDisplayText\": \"Aug 23, 2024\", \"isFamilyFriendly\": true, \"displayUrl\": \"https:\\/\\/discoveratlanta.com\\/stories\\/things-to-do\\/cool-things-to-do-in-september-in-atlanta\", \"snippet\": \"The Sweet Auburn Music Fest, which takes place Sept. 28-29. The festival, located on Auburn Avenue, one of Atlanta’s most iconic streets, offers fun-filled entertainment, live music — everything from R&amp;B to gospel to alternative favorites — international food court, national artists, celebrities and vendors of all types.\", \"dateLastCrawled\": \"2024-09-11T05:06:00.0000000Z\", \"primaryImageOfPage\": {\"thumbnailUrl\": \"https:\\/\\/www.bing.com\\/th?id=OIP.NfBFXaOsJXncF4ogSs39SQHaFj&w=80&h=80&c=1&pid=5.1\", \"width\": 80, \"height\": 80, \"sourceWidth\": 474, \"sourceHeight\": 355, \"imageId\": \"OIP.NfBFXaOsJXncF4ogSs39SQHaFj\"}, \"cachedPageUrl\": \"http:\\/\\/cc.bingj.com\\/cache.aspx?q=things+to+do+in+Atlanta+on+2024-09-15&d=4692574347722786&mkt=en-US&setlang=en-US&w=NGOZi41j9uhV74GkIkdoRE4k4vk9MNbJ\", \"language\": \"en\", \"isNavigational\": false, \"richFacts\": [{\"label\": {\"text\": \"Author\"}, \"items\": [{\"text\": \"Mary Welch\"}], \"hint\": {\"text\": \"BASE:AUTHOR\"}}], \"noCache\": false, \"siteName\": \"Discover Atlanta\"}, {\"id\": \"https:\\/\\/api.bing.microsoft.com\\/api\\/v7\\/#WebPages.4\", \"name\": \"Explore Atlanta Events for Today, This Week or Weekend\", \"url\": \"https:\\/\\/discoveratlanta.com\\/events\\/main\\/\", \"datePublished\": \"2010-10-23T00:00:00.0000000\", \"datePublishedDisplayText\": \"Oct 23, 2010\", \"isFamilyFriendly\": true, \"displayUrl\": \"https:\\/\\/discoveratlanta.com\\/events\\/m\", \"snippet\": \"Explore the Atlanta events calendar for things to do today, this week or this weekend. Find upcoming festivals, seasonal events and more! ... Multiple dates until 09\\/20\\/2024. The Giant Party 9\\/13\\/24. The Princess Bride in Concert with the ASO 9\\/13\\/24 – 9\\/14\\/24 ... QS Discover for Masters and MBA in Atlanta 10\\/15\\/24. Feed Your Senses Concert ...\", \"dateLastCrawled\": \"2024-09-13T03:20:00.0000000Z\", \"cachedPageUrl\": \"http:\\/\\/cc.bingj.com\\/cache.aspx?q=things+to+do+in+Atlanta+on+2024-09-15&d=4819881469507157&mkt=en-US&setlang=en-US&w=A8gSpQXgK2iP1GMx_bJv9FTM8ziERJGY\", \"language\": \"en\", \"isNavigational\": false, \"noCache\": false, \"siteName\": \"Discover Atlanta\"}, {\"id\": \"https:\\/\\/api.bing.microsoft.com\\/api\\/v7\\/#WebPages.5\", \"name\": \"September in Atlanta: Top things to do this month\", \"url\": \"https:\\/\\/www.atlantaonthecheap.com\\/september-things-to-do-atlanta\\/\", \"thumbnailUrl\": \"https:\\/\\/www.bing.com\\/th?id=OIP.nr9hIeiKua3UgaXY-eBoHgHaE8&w=80&h=80&c=1&pid=5.1\", \"datePublished\": \"2024-09-07T00:00:00.0000000\", \"datePublishedFreshnessText\": \"6 days ago\", \"isFamilyFriendly\": true, \"displayUrl\": \"https:\\/\\/www.atlantaonthecheap.com\\/september-things-to-do-atlanta\", \"snippet\": \"Sunday, September 15, 2024 During Streets Alive, for four glorious hours, miles of Atlanta roads are closed to cars — and open for people to stroll, roll, bike, and play! This fall, the route will stretch from Atlanta’s West End to Grant Park — connecting seven southwest neighborhoods via Ralph David Abernathy Blvd. and Georgia Ave.\", \"dateLastCrawled\": \"2024-09-11T00:22:00.0000000Z\", \"primaryImageOfPage\": {\"thumbnailUrl\": \"https:\\/\\/www.bing.com\\/th?id=OIP.nr9hIeiKua3UgaXY-eBoHgHaE8&w=80&h=80&c=1&pid=5.1\", \"width\": 80, \"height\": 80, \"sourceWidth\": 474, \"sourceHeight\": 316, \"imageId\": \"OIP.nr9hIeiKua3UgaXY-eBoHgHaE8\"}, \"cachedPageUrl\": \"http:\\/\\/cc.bingj.com\\/cache.aspx?q=things+to+do+in+Atlanta+on+2024-09-15&d=4531508773276372&mkt=en-US&setlang=en-US&w=Tm-6V6rIefsMsXsP8SfKEFE-tgkhrh_1\", \"language\": \"en\", \"isNavigational\": false, \"noCache\": false, \"siteName\": \"Atlanta on the Cheap\"}, {\"id\": \"https:\\/\\/api.bing.microsoft.com\\/api\\/v7\\/#WebPages.6\", \"name\": \"Upcoming Events - Discover Atlanta\", \"url\": \"https:\\/\\/discoveratlanta.com\\/events\\/all\\/\", \"isFamilyFriendly\": true, \"displayUrl\": \"https:\\/\\/discoveratlanta.com\\/events\\/all\", \"snippet\": \"Bounce through the incredible events happening around Atlanta today, tomorrow, this week or this month. Plan your fun and be in the know on everything from family-favorites, to can’t-miss hot spots, concerts and foodie festivals. Showing 1 – 15 of 482. Editors’ Pick.\", \"dateLastCrawled\": \"2024-09-12T10:26:00.0000000Z\", \"cachedPageUrl\": \"http:\\/\\/cc.bingj.com\\/cache.aspx?q=things+to+do+in+Atlanta+on+2024-09-15&d=4829094180363395&mkt=en-US&setlang=en-US&w=dEEd4v0BN-yUBKZlUeD3eG4MmVcBwK29\", \"language\": \"en\", \"isNavigational\": false, \"noCache\": false, \"siteName\": \"Discover Atlanta\"}, {\"id\": \"https:\\/\\/api.bing.microsoft.com\\/api\\/v7\\/#WebPages.7\", \"name\": \"20 Spectacular Things To Do This September In Atlanta - Secret Atlanta\", \"url\": \"https:\\/\\/secretatlanta.co\\/things-to-do-september\\/\", \"datePublished\": \"2024-09-03T00:00:00.0000000\", \"datePublishedDisplayText\": \"Sep 3, 2024\", \"isFamilyFriendly\": true, \"displayUrl\": \"https:\\/\\/secretatlanta.co\\/things-to-do-september\", \"snippet\": \"When: Saturday, September 7th from 12pm – 10pm. Thousands of people are expected to head to Morris Brown College in Atlanta this September for the legendary Seafood &amp; Caribbean Music festival! Enjoy tons of live music, DJs, and of course, as much mouthwatering seafood and Caribbean dishes as your heart desires! Don’t miss out on all the fun.\", \"dateLastCrawled\": \"2024-09-11T02:27:00.0000000Z\", \"cachedPageUrl\": \"http:\\/\\/cc.bingj.com\\/cache.aspx?q=things+to+do+in+Atlanta+on+2024-09-15&d=4724958401813806&mkt=en-US&setlang=en-US&w=2huElYL_YeFkqeBkOazQ7cCeg5xgwMQ3\", \"language\": \"en\", \"isNavigational\": false, \"noCache\": false, \"siteName\": \"Secret Atlanta\"}, {\"id\": \"https:\\/\\/api.bing.microsoft.com\\/api\\/v7\\/#WebPages.8\", \"name\": \"Atlanta Festival Calendar: 2024 - Unexpected Atlanta\", \"url\": \"https:\\/\\/unexpectedatlanta.com\\/atlanta-festival-calendar-2024\\/\", \"datePublished\": \"2024-05-02T00:00:00.0000000\", \"datePublishedDisplayText\": \"May 2, 2024\", \"isFamilyFriendly\": true, \"displayUrl\": \"https:\\/\\/unexpectedatlanta.com\\/atlanta-festival-calendar-2024\", \"snippet\": \"Atlanta Jazz Festival – May 25-27, 2024. Held in Piedmont Park, the Atlanta Jazz Festival is an annual celebration of music, culture, and the art of Jazz. Free to all who join, this Memorial Day Weekend event draws fans, professional musicians, and everyone in between, for a 3-day-long festival showcasing 15+ artists.\", \"dateLastCrawled\": \"2024-09-12T05:03:00.0000000Z\", \"cachedPageUrl\": \"http:\\/\\/cc.bingj.com\\/cache.aspx?q=things+to+do+in+Atlanta+on+2024-09-15&d=4520195826729803&mkt=en-US&setlang=en-US&w=sJ6PdijIhhMHjG8exIRi2zfYmaaF9rTA\", \"language\": \"en\", \"isNavigational\": false, \"noCache\": false, \"siteName\": \"Unexpected Atlanta\"}, {\"id\": \"https:\\/\\/api.bing.microsoft.com\\/api\\/v7\\/#WebPages.9\", \"name\": \"The 17 Best Things to Do in Atlanta - Condé Nast Traveler\", \"url\": \"https:\\/\\/www.cntraveler.com\\/gallery\\/best-things-to-do-in-atlanta\", \"thumbnailUrl\": \"https:\\/\\/www.bing.com\\/th?id=OIP.k6p7QyZP1cNKZi0qNguohAHaEK&w=80&h=80&c=1&pid=5.1\", \"datePublished\": \"2024-08-23T00:00:00.0000000\", \"datePublishedDisplayText\": \"Aug 23, 2024\", \"isFamilyFriendly\": true, \"displayUrl\": \"https:\\/\\/www.cntraveler.com\\/gallery\\/best-things-to-do-in-atlanta\", \"snippet\": \"Atlanta Botanical Garden. Adjacent to Atlanta’s verdant Piedmont Park, it’s easy to see why this 30-acre oasis in the heart of Midtown welcomes more than half a million visitors each year. In ...\", \"dateLastCrawled\": \"2024-09-13T00:14:00.0000000Z\", \"primaryImageOfPage\": {\"thumbnailUrl\": \"https:\\/\\/www.bing.com\\/th?id=OIP.k6p7QyZP1cNKZi0qNguohAHaEK&w=80&h=80&c=1&pid=5.1\", \"width\": 80, \"height\": 80, \"sourceWidth\": 474, \"sourceHeight\": 266, \"imageId\": \"OIP.k6p7QyZP1cNKZi0qNguohAHaEK\"}, \"language\": \"en\", \"isNavigational\": false, \"noCache\": true, \"siteName\": \"Condé Nast Traveler\"}]}, \"relatedSearches\": {\"id\": \"https:\\/\\/api.bing.microsoft.com\\/api\\/v7\\/#RelatedSearches\", \"value\": [{\"text\": \"atlanta 2024 events\", \"displayText\": \"atlanta 2024 events\", \"webSearchUrl\": \"https:\\/\\/www.bing.com\\/search?q=Atlanta+2024+events\"}, {\"text\": \"events in atlanta this weekend\", \"displayText\": \"events in atlanta this weekend\", \"webSearchUrl\": \"https:\\/\\/www.bing.com\\/search?q=events+in+Atlanta+this+weekend\"}, {\"text\": \"cool things to do in atlanta september\", \"displayText\": \"cool things to do in atlanta september\", \"webSearchUrl\": \"https:\\/\\/www.bing.com\\/search?q=cool+things+to+do+in+Atlanta+september\"}, {\"text\": \"atlanta in september 2023\", \"displayText\": \"atlanta in september 2023\", \"webSearchUrl\": \"https:\\/\\/www.bing.com\\/search?q=Atlanta+in+september+2023\"}, {\"text\": \"underground atlanta september events\", \"displayText\": \"underground atlanta september events\", \"webSearchUrl\": \"https:\\/\\/www.bing.com\\/search?q=underground+Atlanta+september+events\"}, {\"text\": \"events in atlanta in september\", \"displayText\": \"events in atlanta in september\", \"webSearchUrl\": \"https:\\/\\/www.bing.com\\/search?q=events+in+Atlanta+in+september\"}]}, \"rankingResponse\": {\"mainline\": {\"items\": [{\"answerType\": \"WebPages\", \"resultIndex\": 0, \"value\": {\"id\": \"https:\\/\\/api.bing.microsoft.com\\/api\\/v7\\/#WebPages.0\"}}, {\"answerType\": \"WebPages\", \"resultIndex\": 1, \"value\": {\"id\": \"https:\\/\\/api.bing.microsoft.com\\/api\\/v7\\/#WebPages.1\"}}, {\"answerType\": \"WebPages\", \"resultIndex\": 2, \"value\": {\"id\": \"https:\\/\\/api.bing.microsoft.com\\/api\\/v7\\/#WebPages.2\"}}, {\"answerType\": \"WebPages\", \"resultIndex\": 3, \"value\": {\"id\": \"https:\\/\\/api.bing.microsoft.com\\/api\\/v7\\/#WebPages.3\"}}, {\"answerType\": \"WebPages\", \"resultIndex\": 4, \"value\": {\"id\": \"https:\\/\\/api.bing.microsoft.com\\/api\\/v7\\/#WebPages.4\"}}, {\"answerType\": \"WebPages\", \"resultIndex\": 5, \"value\": {\"id\": \"https:\\/\\/api.bing.microsoft.com\\/api\\/v7\\/#WebPages.5\"}}, {\"answerType\": \"WebPages\", \"resultIndex\": 6, \"value\": {\"id\": \"https:\\/\\/api.bing.microsoft.com\\/api\\/v7\\/#WebPages.6\"}}, {\"answerType\": \"WebPages\", \"resultIndex\": 7, \"value\": {\"id\": \"https:\\/\\/api.bing.microsoft.com\\/api\\/v7\\/#WebPages.7\"}}, {\"answerType\": \"WebPages\", \"resultIndex\": 8, \"value\": {\"id\": \"https:\\/\\/api.bing.microsoft.com\\/api\\/v7\\/#WebPages.8\"}}, {\"answerType\": \"WebPages\", \"resultIndex\": 9, \"value\": {\"id\": \"https:\\/\\/api.bing.microsoft.com\\/api\\/v7\\/#WebPages.9\"}}, {\"answerType\": \"RelatedSearches\", \"value\": {\"id\": \"https:\\/\\/api.bing.microsoft.com\\/api\\/v7\\/#RelatedSearches\"}}]}}}\n",
      "```\n",
      "\n",
      "Here are some events happening in Atlanta this weekend, September 14-15, 2024:\n",
      "\n",
      "### Saturday, September 14, 2024:\n",
      "\n",
      "1. **Atlanta Food and Wine Festival**\n",
      "   - **Location:** Historic Fourth Ward Park\n",
      "   - **Details:** Enjoy the best food, wine, beer, and cocktails Atlanta has to offer. This event brings in 150+ chefs, sommeliers, mixologists, and industry insiders for 5 days of mouthwatering and tempting cuisines & special Tasting Tents.\n",
      "   - [More Information](https://www.experism.com/atlanta/september)\n",
      "\n",
      "2. **The Princess Bride in Concert with the ASO**\n",
      "   - **Location:** Atlanta Symphony Hall\n",
      "   - **Details:** Experience the iconic film \"The Princess Bride\" in a new way, with a live orchestral performance by the Atlanta Symphony Orchestra.\n",
      "   - [More Information](https://discoveratlanta.com/events/main/)\n",
      "\n",
      "3. **Sweet Auburn Music Fest**\n",
      "   - **Location:** Auburn Avenue\n",
      "   - **Details:** The festival offers fun-filled entertainment, live music (everything from R&B to gospel to alternative favorites), an international food court, national artists, celebrities, and vendors of all types.\n",
      "   - [More Information](https://discoveratlanta.com/stories/things-to-do/cool-things-to-do-in-september-in-atlanta/)\n",
      "\n",
      "### Sunday, September 15, 2024:\n",
      "\n",
      "1. **Atlanta Streets Alive**\n",
      "   - **Location:** From Atlanta’s West End to Grant Park\n",
      "   - **Details:** For four glorious hours, miles of Atlanta roads are closed to cars and open for people to stroll, roll, bike, and play! This fall, the route will stretch from Atlanta’s West End to Grant Park.\n",
      "   - [More Information](https://www.atlantaonthecheap.com/september-things-to-do-atlanta/)\n",
      "\n",
      "2. **Oktoberfest in Helen**\n",
      "   - **Location:** Downtown Helen\n",
      "   - **Details:** Oktoberfest in Helen is the longest-running celebration in the U.S., offering food and beverage specials, live music, and more.\n",
      "   - [More Information](https://www.yahoo.com/lifestyle/things-weekend-metro-atlanta-sept-203014108.html)\n",
      "\n",
      "3. **Atlanta Dream vs. Washington Mystics**\n",
      "   - **Location:** Gateway Center Arena\n",
      "   - **Details:** Catch the WNBA game between the Atlanta Dream and the Washington Mystics.\n",
      "   - [More Information](https://www.axios.com/local/atlanta/2024/09/12/atlanta-weekend-events-sept-13-15)\n",
      "\n",
      "For a comprehensive list of events throughout the month of September, you can check out the following links:\n",
      "- [Atlanta Events September 2024](https://atlanta-ga.events/september/)\n",
      "- [Go South Atlanta - Events in September](https://gosouthatlanta.com/things-to-do/events/atlanta-in-september.html)\n",
      "\n",
      "Enjoy your weekend in Atlanta!\n",
      "\r\n"
     ]
    }
   ],
   "source": [
    "var assistantRunOptions = new AssistantRunOptions() {\n",
    "    AssistantName = \"Web Search Test\",\n",
    "    Instructions = \"Use python to get todays date and then use it to find things to do in Atlanta this weekend. Be careful to not include events in the past in your final answer. You can perform multiple searches if necessary\",\n",
    "    UseConversationEvaluator = false\n",
    "};\n",
    "var output = await AntRunnerLib.AssistantRunner.RunThread(assistantRunOptions, config);\n",
    "Console.WriteLine(output.Dialog)"
   ]
  },
  {
   "cell_type": "code",
   "execution_count": 4,
   "metadata": {
    "dotnet_interactive": {
     "language": "csharp"
    },
    "polyglot_notebook": {
     "kernelName": "csharp"
    },
    "vscode": {
     "languageId": "polyglot-notebook"
    }
   },
   "outputs": [
    {
     "name": "stdout",
     "output_type": "stream",
     "text": [
      "Here are some events happening in Atlanta this weekend, September 14-15, 2024:\n",
      "\n",
      "### Saturday, September 14, 2024:\n",
      "\n",
      "1. **Atlanta Food and Wine Festival**\n",
      "   - **Location:** Historic Fourth Ward Park\n",
      "   - **Details:** Enjoy the best food, wine, beer, and cocktails Atlanta has to offer. This event brings in 150+ chefs, sommeliers, mixologists, and industry insiders for 5 days of mouthwatering and tempting cuisines & special Tasting Tents.\n",
      "   - [More Information](https://www.experism.com/atlanta/september)\n",
      "\n",
      "2. **The Princess Bride in Concert with the ASO**\n",
      "   - **Location:** Atlanta Symphony Hall\n",
      "   - **Details:** Experience the iconic film The Princess Bride in a new way, with a live orchestral performance by the Atlanta Symphony Orchestra.\n",
      "   - [More Information](https://discoveratlanta.com/events/main/)\n",
      "\n",
      "3. **Sweet Auburn Music Fest**\n",
      "   - **Location:** Auburn Avenue\n",
      "   - **Details:** The festival offers fun-filled entertainment, live music (everything from R&B to gospel to alternative favorites), an international food court, national artists, celebrities, and vendors of all types.\n",
      "   - [More Information](https://discoveratlanta.com/stories/things-to-do/cool-things-to-do-in-september-in-atlanta/)\n",
      "\n",
      "### Sunday, September 15, 2024:\n",
      "\n",
      "1. **Atlanta Streets Alive**\n",
      "   - **Location:** From Atlanta’s West End to Grant Park\n",
      "   - **Details:** For four glorious hours, miles of Atlanta roads are closed to cars and open for people to stroll, roll, bike, and play! This fall, the route will stretch from Atlanta’s West End to Grant Park.\n",
      "   - [More Information](https://www.atlantaonthecheap.com/september-things-to-do-atlanta/)\n",
      "\n",
      "2. **Oktoberfest in Helen**\n",
      "   - **Location:** Downtown Helen\n",
      "   - **Details:** Oktoberfest in Helen is the longest-running celebration in the U.S., offering food and beverage specials, live music, and more.\n",
      "   - [More Information](https://www.yahoo.com/lifestyle/things-weekend-metro-atlanta-sept-203014108.html)\n",
      "\n",
      "3. **Atlanta Dream vs. Washington Mystics**\n",
      "   - **Location:** Gateway Center Arena\n",
      "   - **Details:** Catch the WNBA game between the Atlanta Dream and the Washington Mystics.\n",
      "   - [More Information](https://www.axios.com/local/atlanta/2024/09/12/atlanta-weekend-events-sept-13-15)\n",
      "\n",
      "For a comprehensive list of events throughout the month of September, you can check out the following links:\n",
      "- [Atlanta Events September 2024](https://atlanta-ga.events/september/)\n",
      "- [Go South Atlanta - Events in September](https://gosouthatlanta.com/things-to-do/events/atlanta-in-september.html)\n",
      "\n",
      "Enjoy your weekend in Atlanta!\r\n"
     ]
    }
   ],
   "source": [
    "Console.WriteLine(output.LastMessage)"
   ]
  },
  {
   "cell_type": "markdown",
   "metadata": {},
   "source": [
    "## Clean Up"
   ]
  },
  {
   "cell_type": "code",
   "execution_count": 5,
   "metadata": {
    "vscode": {
     "languageId": "polyglot-notebook"
    }
   },
   "outputs": [
    {
     "name": "stdout",
     "output_type": "stream",
     "text": [
      "Deleted assistant\r\n"
     ]
    }
   ],
   "source": [
    "var assistant = (await client.AssistantList())?.Data?.FirstOrDefault(o => o.Name == \"Web Search Test\");\n",
    "if(assistant != null) {\n",
    "    await client.AssistantDelete(assistant.Id);\n",
    "    Console.WriteLine(\"Deleted assistant\");\n",
    "}\n",
    "else\n",
    "{\n",
    "    Console.WriteLine(\"Didn't find MsGraphUserProfile\");\n",
    "}"
   ]
  }
 ],
 "metadata": {
  "kernelspec": {
   "display_name": ".NET (C#)",
   "language": "C#",
   "name": ".net-csharp"
  },
  "language_info": {
   "name": "python"
  },
  "polyglot_notebook": {
   "kernelInfo": {
    "defaultKernelName": "csharp",
    "items": [
     {
      "aliases": [],
      "name": "csharp"
     }
    ]
   }
  }
 },
 "nbformat": 4,
 "nbformat_minor": 2
}
