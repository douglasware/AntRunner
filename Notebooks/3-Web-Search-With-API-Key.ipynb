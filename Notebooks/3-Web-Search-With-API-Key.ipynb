{
 "cells": [
  {
   "cell_type": "markdown",
   "metadata": {},
   "source": [
    "## Web Search Test\n",
    "The **Web Search Test** ant demonstrates the use of a Web API secured using an API key with an auth header. This sample requires you to create a Web Search (bing) resource in Azure and enter its corresponding API key in [0-AI-settings](0-AI-settings.ipynb)"
   ]
  },
  {
   "cell_type": "markdown",
   "metadata": {},
   "source": [
    "## First steps\n",
    "- First, download AntRunLib from Nuget\n",
    "- At least once, set up the environment using **[0-AI-settings](0-AI-settings.ipynb)**"
   ]
  },
  {
   "cell_type": "code",
   "execution_count": 1,
   "metadata": {
    "dotnet_interactive": {
     "language": "csharp"
    },
    "polyglot_notebook": {
     "kernelName": "csharp"
    },
    "vscode": {
     "languageId": "polyglot-notebook"
    }
   },
   "outputs": [
    {
     "data": {
      "text/html": [
       "<div><div></div><div></div><div><strong>Installed Packages</strong><ul><li><span>AntRunnerLib, 0.8.8</span></li></ul></div></div>"
      ]
     },
     "metadata": {},
     "output_type": "display_data"
    }
   ],
   "source": [
    "#r \"nuget: AntRunnerLib, 0.8.8\"\n",
    "\n",
    "using AntRunnerLib;\n",
    "using AntRunnerLib.Identity;\n",
    "using static AntRunnerLib.ClientUtility;\n",
    "using System.IO;\n",
    "\n",
    "#!import config/Settings.cs \n",
    "\n",
    "var envVariables = Settings.GetEnvironmentVariables();\n",
    "foreach (var kvp in envVariables)\n",
    "{\n",
    "    Environment.SetEnvironmentVariable(kvp.Key, kvp.Value);\n",
    "}\n",
    "\n",
    "var config = AzureOpenAiConfigFactory.Get();\n",
    "var client = GetOpenAiClient(config);\n"
   ]
  },
  {
   "cell_type": "markdown",
   "metadata": {},
   "source": [
    "## Ensure the Web Search Test assistant exists\n",
    "The definition of this assistant is located in the \".\\AssistantDefinitions\\Web Search Test\" folder\n",
    "\n",
    "\".\\AssistantDefinitions\\\" is a default path. You can override it by setting the **ASSISTANTS_BASE_FOLDER_PATH** environment variable.\n",
    "\n",
    "\"Web Search Test\" contains the following files:\n",
    "```\n",
    "│   instructions.md - The instructions\n",
    "│   manifest.json - The base assistant definition\n",
    "│\n",
    "└───OpenAPI\n",
    "        api.bing.microsoft.com.json - A swagger file defining a tool named 'crawl' that uses web search\n",
    "        auth.json - See below... \n",
    "```        \n",
    "\n",
    "## auth.json\n",
    "AntRunnerLib uses the instructions in this file to create the correct auth header(s) for the API. In this case, a header is added to the web request, **Ocp-Apim-Subscription-Key**, the header's value is supplied by an environment variable named, SEARCH_API_KEY. The environment variable name is user defined and ensuring it has a value is the responsibility of the application. \n",
    "\n",
    "```json\n",
    "{\n",
    "  \"hosts\": {\n",
    "    \"api.bing.microsoft.com\": {\n",
    "      \"auth_type\": \"service_http\",\n",
    "      \"header_name\": \"Ocp-Apim-Subscription-Key\",\n",
    "      \"header_value_env_var\": \"SEARCH_API_KEY\"\n",
    "    }\n",
    "  }\n",
    "}\n",
    "```\n",
    "\n",
    "### Explanation\n",
    "`AssistantUtility.Create` acts based on the contents of a folder structure following a convention laid out in these notebooks. In this case, it copied the contents of instructions.md into the assistant manifest.json. It also parsed the api.bing.microsoft.com swagger which follows an Open API schema into tool defintions for the assitant."
   ]
  },
  {
   "cell_type": "code",
   "execution_count": 2,
   "metadata": {
    "dotnet_interactive": {
     "language": "csharp"
    },
    "polyglot_notebook": {
     "kernelName": "csharp"
    },
    "vscode": {
     "languageId": "polyglot-notebook"
    }
   },
   "outputs": [
    {
     "name": "stdout",
     "output_type": "stream",
     "text": [
      "asst_SHuX30ckXCFBk4ojCze4ZSnO\r\n"
     ]
    }
   ],
   "source": [
    "var assistantId = await AssistantUtility.Create(\"Web Search Test\", config);\n",
    "Console.WriteLine(assistantId)"
   ]
  },
  {
   "cell_type": "markdown",
   "metadata": {},
   "source": [
    "## Run the Assistant\n",
    "\n",
    "`output.Dialog` shows the conversation."
   ]
  },
  {
   "cell_type": "code",
   "execution_count": 3,
   "metadata": {
    "dotnet_interactive": {
     "language": "csharp"
    },
    "polyglot_notebook": {
     "kernelName": "csharp"
    },
    "vscode": {
     "languageId": "polyglot-notebook"
    }
   },
   "outputs": [
    {
     "data": {
      "text/markdown": [
       "\n",
       "User: Use python to get todays date and then use it to find things to do in Atlanta today. Be careful to not include events in the past in your final answer.\n",
       "\n",
       "Assistant: I ran this code:\n",
       "```\n",
       "from datetime import datetime\r\n",
       "\r\n",
       "# Get today's date\r\n",
       "today = datetime.today().strftime('%Y-%m-%d')\r\n",
       "today\n",
       "```\n",
       "\n",
       "I called the tool named crawl with these arguments:\n",
       "```\n",
       "{\n",
       "  \"q\": \"events in Atlanta on 2024-09-25\",\n",
       "  \"textFormat\": \"HTML\"\n",
       "}\n",
       "```\n",
       "and got this result:\n",
       "```\n",
       "{\"queryContext\":{\"originalQuery\":\"events in Atlanta on 2024-09-25\"},\"webPages\":{\"value\":[{\"name\":\"Atlanta Events September 2024: Concerts, Shows, Sports...\",\"url\":\"https://atlanta-ga.events/september/\",\"displayUrl\":\"https://atlanta-ga.events/september\",\"snippet\":\"Check Out The Atlanta Events Calendar for September 2024. See the List Of All Current \\u0026amp; Upcoming Events at the Lowest Possible Price. ... Sep 25, 2024 6:30 PM . Lorna Shore . Upcoming Events: 2. The Tabernacle - GA . Sep 25, 2024 6:30 PM ...\",\"cachedPageUrl\":\"http://cc.bingj.com/cache.aspx?q=events\\u002Bin\\u002BAtlanta\\u002Bon\\u002B2024-09-25\\u0026d=4854189676169673\\u0026mkt=en-US\\u0026setlang=en-US\\u0026w=73iRaVHIvJefbkmdL1lCvH4mS1bjztOY\"},{\"name\":\"Explore Atlanta Events for Today, This Week or Weekend\",\"url\":\"https://discoveratlanta.com/events/main/\",\"displayUrl\":\"https://discoveratlanta.com/events/m\",\"snippet\":\"Explore the Atlanta events calendar for things to do today, this week or this weekend. Find upcoming festivals, seasonal events and more! ... Every Saturday until 09/28/2024. Protect Yo Energy Con 9/24/24 \\u2013 11/9/24. Weekend Creekwater Alpaca Farm Barn Tour 9/24/24 \\u2013 9/29/24. ... Every Wednesday until 12/25/2024.\",\"cachedPageUrl\":\"http://cc.bingj.com/cache.aspx?q=events\\u002Bin\\u002BAtlanta\\u002Bon\\u002B2024-09-25\\u0026d=4819881473496114\\u0026mkt=en-US\\u0026setlang=en-US\\u0026w=zvJBiG0Dg4eP1GMx_bJv9FTM8ziERJGY\",\"thumbnailUrl\":\"https://www.bing.com/th?id=OIP.FkxSV6JbrWatsFMM3_8dIAHaEh\\u0026w=80\\u0026h=80\\u0026c=1\\u0026pid=5.1\"},{\"name\":\"Upcoming Events - Discover Atlanta\",\"url\":\"https://discoveratlanta.com/events/all/\",\"displayUrl\":\"https://discoveratlanta.com/events/all\",\"snippet\":\"Explore a list of Atlanta events and upcoming events in the Atlanta area, including events happening this weekend! DiscoverAtlanta.com homepage. Things to Do; Events; Plan Your Visit; Meetings; ... 9/25/24. Community Movie Night presented by Disney on Ice ... Multiple dates until 09/29/2024.\",\"cachedPageUrl\":\"http://cc.bingj.com/cache.aspx?q=events\\u002Bin\\u002BAtlanta\\u002Bon\\u002B2024-09-25\\u0026d=4829094184573839\\u0026mkt=en-US\\u0026setlang=en-US\\u0026w=J3F_lNIMaK2UBKZlUeD3eG4MmVcBwK29\"},{\"name\":\"Cool Things To Do in September in Atlanta\",\"url\":\"https://discoveratlanta.com/stories/things-to-do/cool-things-to-do-in-september-in-atlanta/\",\"displayUrl\":\"https://discoveratlanta.com/stories/things-to-do/cool-things-to-do-in-september-in-atlanta\",\"snippet\":\"The Sweet Auburn Music Fest, which takes place Sept. 28-29. The festival, located on Auburn Avenue, one of Atlanta\\u2019s most iconic streets, offers fun-filled entertainment, live music \\u2014 everything from R\\u0026amp;B to gospel to alternative favorites \\u2014 international food court, national artists, celebrities and vendors of all types.\",\"cachedPageUrl\":\"http://cc.bingj.com/cache.aspx?q=events\\u002Bin\\u002BAtlanta\\u002Bon\\u002B2024-09-25\\u0026d=4692574352310340\\u0026mkt=en-US\\u0026setlang=en-US\\u0026w=c-5Oucqqe-FV74GkIkdoRE4k4vk9MNbJ\",\"thumbnailUrl\":\"https://www.bing.com/th?id=OIP.m0ENCio7ytS2o9PQRWDCRgHaD4\\u0026w=80\\u0026h=80\\u0026c=1\\u0026pid=5.1\"},{\"name\":\"Curators weigh in on don\\u2019t-miss events during Atlanta Art Week ...\",\"url\":\"https://roughdraftatlanta.com/2024/09/25/curators-weigh-in-on-dont-miss-events-during-atlanta-art-week-atlanta-art-fair/\",\"displayUrl\":\"https://roughdraftatlanta.com/2024/09/25/curators-weigh-in-on-dont-miss-events-during...\",\"snippet\":\"Personally, I\\u2019m looking forward to the panels and conversations that will be happening during the fair and Atlanta Art Week. The art fair has a robust theater program planned, and I\\u2019m particularly interested in the panel led by Nate Freeman, Cultural Correspondent for Vanity Fair, titled Atlanta\\u2019s Cultural Renaissance, which will explore the city\\u2019s wider cultural community.\"},{\"name\":\"Atlanta Events - September 2024 - Go South Atlanta\",\"url\":\"https://gosouthatlanta.com/things-to-do/events/atlanta-in-september.html\",\"displayUrl\":\"https://gosouthatlanta.com/things-to-do/events/atlanta-in-september.html\",\"snippet\":\"More details. \\u2013 Dragon Con, August 29 - September 2 2024. One of the biggest annual pop culture conventions in the country. More details. \\u2013 Atlanta Black Theatre Festival, August 30 - September 1 2024. Annual festival celebrating the Black experience in the performing arts, with plays, panels, masterclasses and other events.\",\"cachedPageUrl\":\"http://cc.bingj.com/cache.aspx?q=events\\u002Bin\\u002BAtlanta\\u002Bon\\u002B2024-09-25\\u0026d=4712253893574850\\u0026mkt=en-US\\u0026setlang=en-US\\u0026w=aWkJWqw243Je4oOvzq1dGpeg_GE4sHjt\",\"thumbnailUrl\":\"https://www.bing.com/th?id=OIP.xm-3dn3hYJZHsVVU9WO5qwHaD4\\u0026w=80\\u0026h=80\\u0026c=1\\u0026pid=5.1\"},{\"name\":\"Atlanta Festival Calendar: 2024\",\"url\":\"https://unexpectedatlanta.com/atlanta-festival-calendar-2024/\",\"displayUrl\":\"https://unexpectedatlanta.com/atlanta-festival-calendar-2024\",\"snippet\":\"Atlanta Jazz Festival \\u2013 May 25-27, 2024. Held in Piedmont Park, the Atlanta Jazz Festival is an annual celebration of music, culture, and the art of Jazz. Free to all who join, this Memorial Day Weekend event draws fans, professional musicians, and everyone in between, for a 3-day-long festival showcasing 15\\u002B artists.\",\"cachedPageUrl\":\"http://cc.bingj.com/cache.aspx?q=events\\u002Bin\\u002BAtlanta\\u002Bon\\u002B2024-09-25\\u0026d=4520195830737555\\u0026mkt=en-US\\u0026setlang=en-US\\u0026w=Y_UYHSuQi3QHjG8exIRi2zfYmaaF9rTA\",\"thumbnailUrl\":\"https://www.bing.com/th?id=OIP.8LvXI6tOuWvo9KZdL-C3MwHaHa\\u0026w=80\\u0026h=80\\u0026c=1\\u0026pid=5.1\"},{\"name\":\"Hurricane Helene: List of school closings, after-school ... - Atlanta\",\"url\":\"https://www.wsbtv.com/news/local/hurricane-helene-list-school-closings-after-school-activities-canceled-north-georgia/Z7SVM3BWBVAKJGGBMNNYYISJD4/\",\"displayUrl\":\"https://www.wsbtv.com/news/local/hurricane-helene-list-school-closings-after-school...\",\"snippet\":\"All athletic events, both indoor and outdoor, have been canceled/postponed for Wednesday and Thursday, September 25-26, 2024 RELATED STORIES: Hurricane Helene updates: Metro Atlanta, north GA ...\",\"cachedPageUrl\":\"http://cc.bingj.com/cache.aspx?q=events\\u002Bin\\u002BAtlanta\\u002Bon\\u002B2024-09-25\\u0026d=2243422590363\\u0026mkt=en-US\\u0026setlang=en-US\\u0026w=lZWg3rIEAHRiqkpVREylMgnmwLpHONSS\"},{\"name\":\"Atlanta September 2024: Events, Concerts, Clubs \\u0026amp; Things to Do - Experism\",\"url\":\"https://www.experism.com/atlanta/september\",\"displayUrl\":\"https://www.experism.com/atlanta/september\",\"snippet\":\"Sep 12-15, 2024 Historic Fourth Ward Park View on Map. Play Video. The Atlanta Food \\u0026amp; Wine Festival highlights the best food, wine, beer \\u0026amp; cocktails Atlanta has to offer. This unique event brings in 150\\u002B chefs, sommeliers, mixologists and industry insiders for 5 days of mouthwatering and tempting cuisines \\u0026amp; special Tasting Tents.\",\"cachedPageUrl\":\"http://cc.bingj.com/cache.aspx?q=events\\u002Bin\\u002BAtlanta\\u002Bon\\u002B2024-09-25\\u0026d=4642636760352967\\u0026mkt=en-US\\u0026setlang=en-US\\u0026w=CrMoojBamU4_Ok9mubm7deAiSBD33s7x\",\"thumbnailUrl\":\"https://www.bing.com/th?id=OIP.opEpXe5xeSIGAQVvWLFBbAHaEK\\u0026w=80\\u0026h=80\\u0026c=1\\u0026pid=5.1\"},{\"name\":\"Atlanta Concerts, Festivals, Tickets \\u0026amp; Tour Dates 2024 \\u0026amp; 2025 - Songkick\",\"url\":\"https://www.songkick.com/metro-areas/4120-us-atlanta\",\"displayUrl\":\"https://www.songkick.com/metro-areas/4120-us-atlanta\",\"snippet\":\"Currently there are 1505 upcoming events. Filter by artist. All Your favorite artists. Filter by date. All Tonight ... Fri 25 Oct 2024 Undertow Show Atlanta, GA ... FOR YOUR RIGHTS! A benefit for reproductive justice 2024 Atlanta, GA, US. Stewart \\u0026amp; Winfield. Fri 11 Oct 2024 Terrapin Beer Co. Athens, GA, US. Sinizter. Sat 02 Nov 2024 ...\",\"cachedPageUrl\":\"http://cc.bingj.com/cache.aspx?q=events\\u002Bin\\u002BAtlanta\\u002Bon\\u002B2024-09-25\\u0026d=4803032318498090\\u0026mkt=en-US\\u0026setlang=en-US\\u0026w=ZqeGgI7Qq0KIKuG4RxDN75N9W5QfREcj\"}]}}\n",
       "```\n",
       "\n",
       "Here are some events happening in Atlanta today, September 25, 2024:\n",
       "\n",
       "1. **Lorna Shore Concert**\n",
       "   - **Time**: 6:30 PM\n",
       "   - **Venue**: The Tabernacle - GA\n",
       "   - [More Information](https://atlanta-ga.events/september/)\n",
       "\n",
       "2. **Community Movie Night presented by Disney on Ice**\n",
       "   - **Multiple Dates**: Until September 29, 2024\n",
       "   - [More Information](https://discoveratlanta.com/events/all/)\n",
       "\n",
       "3. **Atlanta Art Week**\n",
       "   - **Event**: Curators weigh in on don’t-miss events during Atlanta Art Week and Atlanta Art Fair.\n",
       "   - **Details**: Panels and conversations, including a panel led by Nate Freeman, Cultural Correspondent for Vanity Fair.\n",
       "   - [More Information](https://roughdraftatlanta.com/2024/09/25/curators-weigh-in-on-dont-miss-events-during-atlanta-art-week-atlanta-art-fair/)\n",
       "\n",
       "For more events and details, you can visit the following pages:\n",
       "- [Atlanta Events for September 2024](https://atlanta-ga.events/september/)\n",
       "- [Discover Atlanta Events](https://discoveratlanta.com/events/main/)\n",
       "- [Go South Atlanta - September Events](https://gosouthatlanta.com/things-to-do/events/atlanta-in-september.html)\n",
       "\n",
       "Enjoy your day in Atlanta!\n"
      ]
     },
     "metadata": {},
     "output_type": "display_data"
    }
   ],
   "source": [
    "var assistantRunOptions = new AssistantRunOptions() {\n",
    "    AssistantName = \"Web Search Test\",\n",
    "    Instructions = \"Use python to get todays date and then use it to find things to do in Atlanta today. Be careful to not include events in the past in your final answer.\",\n",
    "};\n",
    "var output = await AntRunnerLib.AssistantRunner.RunThread(assistantRunOptions, config);\n",
    "output.Dialog.DisplayAs(\"text/markdown\")"
   ]
  },
  {
   "cell_type": "code",
   "execution_count": 4,
   "metadata": {
    "dotnet_interactive": {
     "language": "csharp"
    },
    "polyglot_notebook": {
     "kernelName": "csharp"
    },
    "vscode": {
     "languageId": "polyglot-notebook"
    }
   },
   "outputs": [
    {
     "data": {
      "text/markdown": [
       "Here are some events happening in Atlanta today, September 25, 2024:\n",
       "\n",
       "1. **Lorna Shore Concert**\n",
       "   - **Time**: 6:30 PM\n",
       "   - **Venue**: The Tabernacle - GA\n",
       "   - [More Information](https://atlanta-ga.events/september/)\n",
       "\n",
       "2. **Community Movie Night presented by Disney on Ice**\n",
       "   - **Multiple Dates**: Until September 29, 2024\n",
       "   - [More Information](https://discoveratlanta.com/events/all/)\n",
       "\n",
       "3. **Atlanta Art Week**\n",
       "   - **Event**: Curators weigh in on don’t-miss events during Atlanta Art Week and Atlanta Art Fair.\n",
       "   - **Details**: Panels and conversations, including a panel led by Nate Freeman, Cultural Correspondent for Vanity Fair.\n",
       "   - [More Information](https://roughdraftatlanta.com/2024/09/25/curators-weigh-in-on-dont-miss-events-during-atlanta-art-week-atlanta-art-fair/)\n",
       "\n",
       "For more events and details, you can visit the following pages:\n",
       "- [Atlanta Events for September 2024](https://atlanta-ga.events/september/)\n",
       "- [Discover Atlanta Events](https://discoveratlanta.com/events/main/)\n",
       "- [Go South Atlanta - September Events](https://gosouthatlanta.com/things-to-do/events/atlanta-in-september.html)\n",
       "\n",
       "Enjoy your day in Atlanta!"
      ]
     },
     "metadata": {},
     "output_type": "display_data"
    }
   ],
   "source": [
    "output.LastMessage.DisplayAs(\"text/markdown\");"
   ]
  },
  {
   "cell_type": "code",
   "execution_count": 5,
   "metadata": {
    "dotnet_interactive": {
     "language": "csharp"
    },
    "polyglot_notebook": {
     "kernelName": "csharp"
    },
    "vscode": {
     "languageId": "polyglot-notebook"
    }
   },
   "outputs": [
    {
     "data": {
      "text/markdown": [
       "\n",
       "User: Use python to get todays date and then use it to find things to do in Atlanta for each of the next four weekends. Be careful to not include events in the past in your final answer. You should perform four searches at once.\n",
       "\n",
       "Assistant: I ran this code:\n",
       "```\n",
       "from datetime import datetime, timedelta\n",
       "\n",
       "# Get today's date\n",
       "today = datetime.now()\n",
       "\n",
       "# Calculate the dates for the next four weekends (Saturday and Sunday)\n",
       "weekend_dates = []\n",
       "for i in range(4):\n",
       "    saturday = today + timedelta(days=(5-today.weekday()) + i * 7)\n",
       "    sunday = saturday + timedelta(days=1)\n",
       "    weekend_dates.append((saturday.strftime(\"%Y-%m-%d\"), sunday.strftime(\"%Y-%m-%d\")))\n",
       "\n",
       "weekend_dates\n",
       "```\n",
       "\n",
       "I called the tool named crawl with these arguments:\n",
       "```\n",
       "{\"q\": \"things to do in Atlanta on September 28, 2024\", \"textFormat\": \"HTML\"}\n",
       "```\n",
       "and got this result:\n",
       "```\n",
       "{\"queryContext\":{\"originalQuery\":\"things to do in Atlanta on September 28, 2024\"},\"webPages\":{\"value\":[{\"name\":\"Cool Things To Do in September in Atlanta\",\"url\":\"https://discoveratlanta.com/stories/things-to-do/cool-things-to-do-in-september-in-atlanta/\",\"displayUrl\":\"https://discoveratlanta.com/stories/things-to-do/cool-things-to-do-in-september-in-atlanta\",\"snippet\":\"The Sweet Auburn Music Fest, which takes place Sept. 28-29. The festival, located on Auburn Avenue, one of Atlanta\\u2019s most iconic streets, offers fun-filled entertainment, live music \\u2014 everything from R\\u0026amp;B to gospel to alternative favorites \\u2014 international food court, national artists, celebrities and vendors of all types.\",\"cachedPageUrl\":\"http://cc.bingj.com/cache.aspx?q=things\\u002Bto\\u002Bdo\\u002Bin\\u002BAtlanta\\u002Bon\\u002BSeptember\\u002B28%2c\\u002B2024\\u0026d=4692574352310340\\u0026mkt=en-US\\u0026setlang=en-US\\u0026w=c-5Oucqqe-FV74GkIkdoRE4k4vk9MNbJ\",\"thumbnailUrl\":\"https://www.bing.com/th?id=OIP.m0ENCio7ytS2o9PQRWDCRgHaD4\\u0026w=80\\u0026h=80\\u0026c=1\\u0026pid=5.1\"},{\"name\":\"Atlanta Events - September 2024 - Go South Atlanta\",\"url\":\"https://gosouthatlanta.com/things-to-do/events/atlanta-in-september.html\",\"displayUrl\":\"https://gosouthatlanta.com/things-to-do/events/atlanta-in-september.html\",\"snippet\":\"More details. \\u2013 Dragon Con, August 29 - September 2 2024. One of the biggest annual pop culture conventions in the country. More details. \\u2013 Atlanta Black Theatre Festival, August 30 - September 1 2024. Annual festival celebrating the Black experience in the performing arts, with plays, panels, masterclasses and other events.\",\"cachedPageUrl\":\"http://cc.bingj.com/cache.aspx?q=things\\u002Bto\\u002Bdo\\u002Bin\\u002BAtlanta\\u002Bon\\u002BSeptember\\u002B28%2c\\u002B2024\\u0026d=4712253893574850\\u0026mkt=en-US\\u0026setlang=en-US\\u0026w=aWkJWqw243Je4oOvzq1dGpeg_GE4sHjt\",\"thumbnailUrl\":\"https://www.bing.com/th?id=OIP.xm-3dn3hYJZHsVVU9WO5qwHaD4\\u0026w=80\\u0026h=80\\u0026c=1\\u0026pid=5.1\"},{\"name\":\"Events and Things to Do in Atlanta GA this from 2024-09-28 to 2024-09-29\",\"url\":\"https://eventcartel.com/events/all-categories/atlanta/from_2024-09-28_to_2024-09-29\",\"displayUrl\":\"https://eventcartel.com/events/all-categories/atlanta/from_2024-09-28_to_2024-09-29\",\"snippet\":\"Explore a wide range of events and things to do from 2024-09-28 to 2024-09-29 tailored to offer you the best in entertainment and fun things to do in Atlanta. Whether you\\u2019re interested in the latest concerts, theater shows, or other local events happening from 2024-09-28 to 2024-09-29, everything you need is just a few clicks away.\",\"cachedPageUrl\":\"http://cc.bingj.com/cache.aspx?q=things\\u002Bto\\u002Bdo\\u002Bin\\u002BAtlanta\\u002Bon\\u002BSeptember\\u002B28%2c\\u002B2024\\u0026d=593829212581\\u0026mkt=en-US\\u0026setlang=en-US\\u0026w=ArLA-810ZZkaWFgm_VL8k_3YAMhRPChX\"},{\"name\":\"Atlanta Events September 2024: Concerts, Shows, Sports...\",\"url\":\"https://atlanta-ga.events/september/\",\"displayUrl\":\"https://atlanta-ga.events/september\",\"snippet\":\"Explore our comprehensive calendar for all the current and upcoming events in Atlanta, GA, for September 2024. This guide is your gateway to discovering the best things to do in Atlanta, ... Prices from $28 Avg. price ~ $33. 20 tickets remaining! Tickets; Sep. 24. 2024. 7:00 PM Tue.\",\"cachedPageUrl\":\"http://cc.bingj.com/cache.aspx?q=things\\u002Bto\\u002Bdo\\u002Bin\\u002BAtlanta\\u002Bon\\u002BSeptember\\u002B28%2c\\u002B2024\\u0026d=4854189676169673\\u0026mkt=en-US\\u0026setlang=en-US\\u0026w=73iRaVHIvJefbkmdL1lCvH4mS1bjztOY\"},{\"name\":\"80\\u002B fall festivals \\u0026amp; fairs around metro Atlanta: Fun things to do in ...\",\"url\":\"https://www.atlantaonthecheap.com/fall-festivals-atlanta/\",\"displayUrl\":\"https://www.atlantaonthecheap.com/fall-festivals-atlanta\",\"snippet\":\"\\u2666 Atlanta Streets Alive. September 15, 2024 West End to Grant Park FREE. This is a new route for Fall of 2024! On these Sundays, streets are are temporarily closed to traffic for four hours \\u2014 so you can come out to walk, run, stroll, bike, scoot, roll, and just have fun.\",\"cachedPageUrl\":\"http://cc.bingj.com/cache.aspx?q=things\\u002Bto\\u002Bdo\\u002Bin\\u002BAtlanta\\u002Bon\\u002BSeptember\\u002B28%2c\\u002B2024\\u0026d=5012794228946274\\u0026mkt=en-US\\u0026setlang=en-US\\u0026w=AqqJM900-WHnjjGt9vluoyq1DPm6ofe-\",\"thumbnailUrl\":\"https://www.bing.com/th?id=OIP.w0-v0ll6eXl6tJfBd5-ovwHaEV\\u0026w=80\\u0026h=80\\u0026c=1\\u0026pid=5.1\"},{\"name\":\"20 Spectacular Things To Do This September In Atlanta - Secret Atlanta\",\"url\":\"https://secretatlanta.co/things-to-do-september/\",\"displayUrl\":\"https://secretatlanta.co/things-to-do-september\",\"snippet\":\"When: Saturday, September 7th from 12pm \\u2013 10pm. Thousands of people are expected to head to Morris Brown College in Atlanta this September for the legendary Seafood \\u0026amp; Caribbean Music festival! Enjoy tons of live music, DJs, and of course, as much mouthwatering seafood and Caribbean dishes as your heart desires! Don\\u2019t miss out on all the fun.\",\"cachedPageUrl\":\"http://cc.bingj.com/cache.aspx?q=things\\u002Bto\\u002Bdo\\u002Bin\\u002BAtlanta\\u002Bon\\u002BSeptember\\u002B28%2c\\u002B2024\\u0026d=4724958405090999\\u0026mkt=en-US\\u0026setlang=en-US\\u0026w=HkmWmkX0emVkqeBkOazQ7cCeg5xgwMQ3\",\"thumbnailUrl\":\"https://www.bing.com/th?id=OIP.mwxBnPRtbggmsDGaNhGACQHaE8\\u0026w=80\\u0026h=80\\u0026c=1\\u0026pid=5.1\"},{\"name\":\"Things to Do in Atlanta in 2024: Events, festivals, and exhibits ...\",\"url\":\"https://www.thrillist.com/events/atlanta/events-calendar-in-atlanta-this-year\",\"displayUrl\":\"https://www.thrillist.com/events/atlanta/events-calendar-in-atlanta-this-year\",\"snippet\":\"23 Things You Have to Do in Atlanta This Year, From One Musicfest to Homecoming ... September 28\\u201329, 2024 Old Fourth Ward One of the city\\u2019s most anticipated events is back in September. The ...\",\"thumbnailUrl\":\"https://www.bing.com/th?id=OIP.WUHCPl7_RpepE3pSEdAEMgHaE8\\u0026w=80\\u0026h=80\\u0026c=1\\u0026pid=5.1\"},{\"name\":\"Atlanta September 2024: Events, Concerts, Clubs \\u0026amp; Things to Do - Experism\",\"url\":\"https://www.experism.com/atlanta/september\",\"displayUrl\":\"https://www.experism.com/atlanta/september\",\"snippet\":\"Sep 12-15, 2024 Historic Fourth Ward Park View on Map. Play Video. The Atlanta Food \\u0026amp; Wine Festival highlights the best food, wine, beer \\u0026amp; cocktails Atlanta has to offer. This unique event brings in 150\\u002B chefs, sommeliers, mixologists and industry insiders for 5 days of mouthwatering and tempting cuisines \\u0026amp; special Tasting Tents.\",\"cachedPageUrl\":\"http://cc.bingj.com/cache.aspx?q=things\\u002Bto\\u002Bdo\\u002Bin\\u002BAtlanta\\u002Bon\\u002BSeptember\\u002B28%2c\\u002B2024\\u0026d=4642636760352967\\u0026mkt=en-US\\u0026setlang=en-US\\u0026w=CrMoojBamU4_Ok9mubm7deAiSBD33s7x\",\"thumbnailUrl\":\"https://www.bing.com/th?id=OIP.opEpXe5xeSIGAQVvWLFBbAHaEK\\u0026w=80\\u0026h=80\\u0026c=1\\u0026pid=5.1\"},{\"name\":\"The Best Things to Do in Atlanta in September\",\"url\":\"https://unexpectedatlanta.com/the-best-things-to-do-in-atlanta-in-september/\",\"displayUrl\":\"https://unexpectedatlanta.com/the-best-things-to-do-in-atlanta-in-september\",\"snippet\":\"Atlanta Events: September 2024 Experience the Best of Atlanta\\u2019s Food \\u0026amp; History. Try some of the best eats in Atlanta! The #1-rated Grant Park Past \\u0026amp; Future Food Walk is a fun walking tour showcasing the best of Atlanta\\u2019s food and history. On this tour, you\\u2019ll taste eight modern and Southern foods from three outstanding locally owned food stops.\",\"cachedPageUrl\":\"http://cc.bingj.com/cache.aspx?q=things\\u002Bto\\u002Bdo\\u002Bin\\u002BAtlanta\\u002Bon\\u002BSeptember\\u002B28%2c\\u002B2024\\u0026d=4781604727099753\\u0026mkt=en-US\\u0026setlang=en-US\\u0026w=X_Y32Shq0Tl-bHwGvtgeUoQiW0MCD0-O\",\"thumbnailUrl\":\"https://www.bing.com/th?id=OIP.BV6NvB-FhOL3LSCX1dcUJwHaHa\\u0026w=80\\u0026h=80\\u0026c=1\\u0026pid=5.1\"},{\"name\":\"21 Best Things to Do in Atlanta With Kids September 2024 - MSN\",\"url\":\"https://www.msn.com/en-us/travel/tripideas/21-best-things-to-do-in-atlanta-with-kids-september-2024/ar-AA1pJEQO\",\"displayUrl\":\"https://www.msn.com/en-us/travel/tripideas/21-best-things-to-do-in-atlanta-with-kids...\",\"snippet\":\"August 29 - September 2, 2024. Fans of comics descend on downtown Atlanta Labor Day weekend, costumes and all. But it\\u0026#39;s not just about comics; Dragon Con is a huge multi-media event focusing on ...\"}]}}\n",
       "```\n",
       "\n",
       "I called the tool named crawl with these arguments:\n",
       "```\n",
       "{\"q\": \"things to do in Atlanta on October 5, 2024\", \"textFormat\": \"HTML\"}\n",
       "```\n",
       "and got this result:\n",
       "```\n",
       "{\"queryContext\":{\"originalQuery\":\"things to do in Atlanta on October 5, 2024\"},\"webPages\":{\"value\":[{\"name\":\"Atlanta Events - October 2024 - Go South Atlanta\",\"url\":\"https://gosouthatlanta.com/things-to-do/events/atlanta-in-october.html\",\"displayUrl\":\"https://gosouthatlanta.com/things-to-do/events/atlanta-in-october.html\",\"snippet\":\"Wrestling event at State Farm Arena. More details. \\u2013 Festival on Ponce, October 5-6 2024. Twice-annual arts festival in Olmsted Linear Park, with 125\\u002B vendors of fine art, folk art and outsider art, plus food and drink, and children\\u2019s activities. More details. \\u2013 Candler Park Fall Fest, October 5-6 2024.\",\"cachedPageUrl\":\"http://cc.bingj.com/cache.aspx?q=things\\u002Bto\\u002Bdo\\u002Bin\\u002BAtlanta\\u002Bon\\u002BOctober\\u002B5%2c\\u002B2024\\u0026d=4907344187949765\\u0026mkt=en-US\\u0026setlang=en-US\\u0026w=jtKzhu3KOsa3mkDLUvcm_m1afK8iBTpt\"},{\"name\":\"Atlanta Events October 2024: Concerts, Shows, Sports...\",\"url\":\"https://atlanta-ga.events/october/\",\"displayUrl\":\"https://atlanta-ga.events/october\",\"snippet\":\"Explore our comprehensive calendar for all the current and upcoming events in Atlanta, GA, for October 2024. This guide is your gateway to discovering the best things to do in Atlanta, from Concerts and Theater Shows to Sports events and music festivals. You\\u2019ll find a detailed list of all the most engaging and exciting activities happening throughout the month.\",\"cachedPageUrl\":\"http://cc.bingj.com/cache.aspx?q=things\\u002Bto\\u002Bdo\\u002Bin\\u002BAtlanta\\u002Bon\\u002BOctober\\u002B5%2c\\u002B2024\\u0026d=4898908879865838\\u0026mkt=en-US\\u0026setlang=en-US\\u0026w=vC_zzFLZ91uzxHogtJy0oBuKycEPAm_-\"},{\"name\":\"Cool Things To Do in October in Atlanta\",\"url\":\"https://discoveratlanta.com/stories/things-to-do/cool-things-to-do-in-october-in-atlanta/\",\"displayUrl\":\"https://discoveratlanta.com/stories/things-to-do/cool-things-to-do-in-october-in-atlanta\",\"snippet\":\"Corn Dogs, Rides and Whack a Mole. The Atlanta Fair brings the best of a traditional fair to Atlanta with everything from cotton candy, a Ferris wheel, fishing for goldfish, a tilt-a-whirl and a carousel. The fair, located across from the Georgia State University Stadium, will be in town Oct. 4-Nov. 3. Read More.\",\"cachedPageUrl\":\"http://cc.bingj.com/cache.aspx?q=things\\u002Bto\\u002Bdo\\u002Bin\\u002BAtlanta\\u002Bon\\u002BOctober\\u002B5%2c\\u002B2024\\u0026d=4714289705734711\\u0026mkt=en-US\\u0026setlang=en-US\\u0026w=6a-yO_DfCUxfz-dx9C91WDDECk49pD7V\",\"thumbnailUrl\":\"https://www.bing.com/th?id=OIP.4jf9xqKu3QRk_XhZ3J7DYQHaD4\\u0026w=80\\u0026h=80\\u0026c=1\\u0026pid=5.1\"},{\"name\":\"80\\u002B fall festivals \\u0026amp; fairs around metro Atlanta: Fun things to do in ...\",\"url\":\"https://www.atlantaonthecheap.com/fall-festivals-atlanta/\",\"displayUrl\":\"https://www.atlantaonthecheap.com/fall-festivals-atlanta\",\"snippet\":\"October 5, 2024 Town Center Park Suwanee FREE admission. This all-day music festival takes place in downtown Suwanee. Admission, parking, and entertainment is free. The BBQ tasting tickets s are $1 each, and each taste requires one to four tickets. You can also buy a full plated barbecue meal. There is also a kids fun area and an artist market.\",\"cachedPageUrl\":\"http://cc.bingj.com/cache.aspx?q=things\\u002Bto\\u002Bdo\\u002Bin\\u002BAtlanta\\u002Bon\\u002BOctober\\u002B5%2c\\u002B2024\\u0026d=5012794228946274\\u0026mkt=en-US\\u0026setlang=en-US\\u0026w=AqqJM900-WHnjjGt9vluoyq1DPm6ofe-\",\"thumbnailUrl\":\"https://www.bing.com/th?id=OIP.w0-v0ll6eXl6tJfBd5-ovwHaEV\\u0026w=80\\u0026h=80\\u0026c=1\\u0026pid=5.1\"},{\"name\":\"Atlanta in October | Concerts, Festivals, Tickets \\u0026amp; Tour Dates - Songkick\",\"url\":\"https://www.songkick.com/metro-areas/4120-us-atlanta/october-2024\",\"displayUrl\":\"https://www.songkick.com/metro-areas/4120-us-atlanta/october-2024\",\"snippet\":\"Concerts in Atlanta in October. Find tickets to all live music, concerts, tour dates and festivals in and around Atlanta. Currently there are 564 upcoming events. Filter by artist. ... Tuesday 01 October 2024; The Used Plain White T\\u0026#39;s and Raue. The Eastern, Atlanta, GA, US . M. Ward Folk Bitch Trio. Terminal West, Atlanta, GA, US . Todd ...\",\"cachedPageUrl\":\"http://cc.bingj.com/cache.aspx?q=things\\u002Bto\\u002Bdo\\u002Bin\\u002BAtlanta\\u002Bon\\u002BOctober\\u002B5%2c\\u002B2024\\u0026d=4726551829817777\\u0026mkt=en-US\\u0026setlang=en-US\\u0026w=GyNsJVWjOONlYyuTqLMEVsVddRXByGfo\"},{\"name\":\"26 Thrilling Things To Do In Atlanta This October - Secret Atlanta\",\"url\":\"https://secretatlanta.co/things-to-do-october/\",\"displayUrl\":\"https://secretatlanta.co/things-to-do-october\",\"snippet\":\"Without further ado, here are 26 incredible things to do in Atlanta this October! 1. ... September 20, 2024. 18 Frightfully Fun Halloween Events Happening In Atlanta. September 20, 2024. This Creepy Corn Maze In Buford Comes Alive With Spooks \\u0026amp; Haunts At Sunset.\",\"cachedPageUrl\":\"http://cc.bingj.com/cache.aspx?q=things\\u002Bto\\u002Bdo\\u002Bin\\u002BAtlanta\\u002Bon\\u002BOctober\\u002B5%2c\\u002B2024\\u0026d=4673096676868625\\u0026mkt=en-US\\u0026setlang=en-US\\u0026w=BDZ6Krx8ATVNFCQACSuK0PesDCkO7vK5\",\"thumbnailUrl\":\"https://www.bing.com/th?id=OIP.oVWYpGkEV4zoUw2uzcrcYgHaD6\\u0026w=80\\u0026h=80\\u0026c=1\\u0026pid=5.1\"},{\"name\":\"Atlanta Festival Calendar: 2024\",\"url\":\"https://unexpectedatlanta.com/atlanta-festival-calendar-2024/\",\"displayUrl\":\"https://unexpectedatlanta.com/atlanta-festival-calendar-2024\",\"snippet\":\"Atlanta Jazz Festival \\u2013 May 25-27, 2024. Held in Piedmont Park, the Atlanta Jazz Festival is an annual celebration of music, culture, and the art of Jazz. Free to all who join, this Memorial Day Weekend event draws fans, professional musicians, and everyone in between, for a 3-day-long festival showcasing 15\\u002B artists.\",\"cachedPageUrl\":\"http://cc.bingj.com/cache.aspx?q=things\\u002Bto\\u002Bdo\\u002Bin\\u002BAtlanta\\u002Bon\\u002BOctober\\u002B5%2c\\u002B2024\\u0026d=4520195830737555\\u0026mkt=en-US\\u0026setlang=en-US\\u0026w=Y_UYHSuQi3QHjG8exIRi2zfYmaaF9rTA\",\"thumbnailUrl\":\"https://www.bing.com/th?id=OIP.8LvXI6tOuWvo9KZdL-C3MwHaHa\\u0026w=80\\u0026h=80\\u0026c=1\\u0026pid=5.1\"},{\"name\":\"Atlanta October 2024: Events, Concerts, Clubs \\u0026amp; Things to Do - Experism\",\"url\":\"https://www.experism.com/atlanta/october\",\"displayUrl\":\"https://www.experism.com/atlanta/october\",\"snippet\":\"Atlanta Horror Film Festival. Oct 4-6, 2024 Limelight Theater View on Map. You are cordially invited to the 18th Annual Atlanta Horror Film Festival held at Limelight Theater from October 4 - 6, 2024. Don\\u0026#39;t miss this spooktacular collection of the best indie horror films from across the globe, including world premieres, short films, animation ...\",\"cachedPageUrl\":\"http://cc.bingj.com/cache.aspx?q=things\\u002Bto\\u002Bdo\\u002Bin\\u002BAtlanta\\u002Bon\\u002BOctober\\u002B5%2c\\u002B2024\\u0026d=5050860516094956\\u0026mkt=en-US\\u0026setlang=en-US\\u0026w=OllQT5kZyN343ZtIpGRATFj2b4uP5Oth\",\"thumbnailUrl\":\"https://www.bing.com/th?id=OIP.8x_jPSRdmgimGRTNJq3pngAAAA\\u0026w=80\\u0026h=80\\u0026c=1\\u0026pid=5.1\"},{\"name\":\"Things to Do in Atlanta in 2024: Events, festivals, and exhibits ...\",\"url\":\"https://www.thrillist.com/events/atlanta/events-calendar-in-atlanta-this-year\",\"displayUrl\":\"https://www.thrillist.com/events/atlanta/events-calendar-in-atlanta-this-year\",\"snippet\":\"August 23\\u201325, 2024. The Fox Theatre. Every August, the Fox Theatre pays homage to its history as an iconic movie venue with its annual Coca Cola Summer Film Festival. This year\\u2019s edition ...\",\"thumbnailUrl\":\"https://www.bing.com/th?id=OIP.WUHCPl7_RpepE3pSEdAEMgHaE8\\u0026w=80\\u0026h=80\\u0026c=1\\u0026pid=5.1\"},{\"name\":\"Explore Atlanta Events for Today, This Week or Weekend - Discover Atlanta\",\"url\":\"https://discoveratlanta.com/events/main/\",\"displayUrl\":\"https://discoveratlanta.com/events/m\",\"snippet\":\"Explore the Atlanta events calendar for things to do today, this week or this weekend. Find upcoming festivals, seasonal events and more! ... October 10/5/24. Rise and Dine with the Animals: Gorillas Multiple dates until 10/12/2024. ... Venture Atlanta 2024 10/8/24 \\u2013 10/9/24. Atlanta miniFEST 10/9/24 \\u2013 10/10/24. Homeshake\",\"cachedPageUrl\":\"http://cc.bingj.com/cache.aspx?q=things\\u002Bto\\u002Bdo\\u002Bin\\u002BAtlanta\\u002Bon\\u002BOctober\\u002B5%2c\\u002B2024\\u0026d=4819881473496114\\u0026mkt=en-US\\u0026setlang=en-US\\u0026w=zvJBiG0Dg4eP1GMx_bJv9FTM8ziERJGY\",\"thumbnailUrl\":\"https://www.bing.com/th?id=OIP.FkxSV6JbrWatsFMM3_8dIAHaEh\\u0026w=80\\u0026h=80\\u0026c=1\\u0026pid=5.1\"}]}}\n",
       "```\n",
       "\n",
       "I called the tool named crawl with these arguments:\n",
       "```\n",
       "{\"q\": \"things to do in Atlanta on October 12, 2024\", \"textFormat\": \"HTML\"}\n",
       "```\n",
       "and got this result:\n",
       "```\n",
       "{\"queryContext\":{\"originalQuery\":\"things to do in Atlanta on October 12, 2024\"},\"webPages\":{\"value\":[{\"name\":\"Atlanta Events - October 2024 - Go South Atlanta\",\"url\":\"https://gosouthatlanta.com/things-to-do/events/atlanta-in-october.html\",\"displayUrl\":\"https://gosouthatlanta.com/things-to-do/events/atlanta-in-october.html\",\"snippet\":\"Wrestling event at State Farm Arena. More details. \\u2013 Festival on Ponce, October 5-6 2024. Twice-annual arts festival in Olmsted Linear Park, with 125\\u002B vendors of fine art, folk art and outsider art, plus food and drink, and children\\u2019s activities. More details. \\u2013 Candler Park Fall Fest, October 5-6 2024.\",\"cachedPageUrl\":\"http://cc.bingj.com/cache.aspx?q=things\\u002Bto\\u002Bdo\\u002Bin\\u002BAtlanta\\u002Bon\\u002BOctober\\u002B12%2c\\u002B2024\\u0026d=4907344187949765\\u0026mkt=en-US\\u0026setlang=en-US\\u0026w=jtKzhu3KOsa3mkDLUvcm_m1afK8iBTpt\"},{\"name\":\"Atlanta Events October 2024: Concerts, Shows, Sports...\",\"url\":\"https://atlanta-ga.events/october/\",\"displayUrl\":\"https://atlanta-ga.events/october\",\"snippet\":\"Explore our comprehensive calendar for all the current and upcoming events in Atlanta, GA, for October 2024. This guide is your gateway to discovering the best things to do in Atlanta, from Concerts and Theater Shows to Sports events and music festivals. You\\u2019ll find a detailed list of all the most engaging and exciting activities happening throughout the month.\",\"cachedPageUrl\":\"http://cc.bingj.com/cache.aspx?q=things\\u002Bto\\u002Bdo\\u002Bin\\u002BAtlanta\\u002Bon\\u002BOctober\\u002B12%2c\\u002B2024\\u0026d=4898908879865838\\u0026mkt=en-US\\u0026setlang=en-US\\u0026w=vC_zzFLZ91uzxHogtJy0oBuKycEPAm_-\"},{\"name\":\"Cool Things To Do in October in Atlanta\",\"url\":\"https://discoveratlanta.com/stories/things-to-do/cool-things-to-do-in-october-in-atlanta/\",\"displayUrl\":\"https://discoveratlanta.com/stories/things-to-do/cool-things-to-do-in-october-in-atlanta\",\"snippet\":\"Corn Dogs, Rides and Whack a Mole. The Atlanta Fair brings the best of a traditional fair to Atlanta with everything from cotton candy, a Ferris wheel, fishing for goldfish, a tilt-a-whirl and a carousel. The fair, located across from the Georgia State University Stadium, will be in town Oct. 4-Nov. 3. Read More.\",\"cachedPageUrl\":\"http://cc.bingj.com/cache.aspx?q=things\\u002Bto\\u002Bdo\\u002Bin\\u002BAtlanta\\u002Bon\\u002BOctober\\u002B12%2c\\u002B2024\\u0026d=4714289705734711\\u0026mkt=en-US\\u0026setlang=en-US\\u0026w=6a-yO_DfCUxfz-dx9C91WDDECk49pD7V\",\"thumbnailUrl\":\"https://www.bing.com/th?id=OIP.4jf9xqKu3QRk_XhZ3J7DYQHaD4\\u0026w=80\\u0026h=80\\u0026c=1\\u0026pid=5.1\"},{\"name\":\"80\\u002B fall festivals \\u0026amp; fairs around metro Atlanta: Fun things to do in ...\",\"url\":\"https://www.atlantaonthecheap.com/fall-festivals-atlanta/\",\"displayUrl\":\"https://www.atlantaonthecheap.com/fall-festivals-atlanta\",\"snippet\":\"October 12 and 13, 2024 October 19 and 20, 2024 Ellijay, GA . This is one of the few festivals outside metro Atlanta we include. It takes place in North Georgia, over two weekends in October. Spend a day on the farm, pick your own apples, visit over 100 vendor booths for arts, crafts, and apple-based food items. Well worth the drive!\",\"cachedPageUrl\":\"http://cc.bingj.com/cache.aspx?q=things\\u002Bto\\u002Bdo\\u002Bin\\u002BAtlanta\\u002Bon\\u002BOctober\\u002B12%2c\\u002B2024\\u0026d=5012794228946274\\u0026mkt=en-US\\u0026setlang=en-US\\u0026w=AqqJM900-WHnjjGt9vluoyq1DPm6ofe-\",\"thumbnailUrl\":\"https://www.bing.com/th?id=OIP.w0-v0ll6eXl6tJfBd5-ovwHaEV\\u0026w=80\\u0026h=80\\u0026c=1\\u0026pid=5.1\"},{\"name\":\"Events \\u0026amp; Things To Do in Atlanta in October 2024 - AllEvents.in\",\"url\":\"https://allevents.in/atlanta/october\",\"displayUrl\":\"https://allevents.in/atlanta/october\",\"snippet\":\"Find events and things to do in October 2024 in Atlanta. Discover parties, concerts, meets, shows, sports, club, reunion, Performance happening in October 2024 in Atlanta. ... 04 Oct 2024: Zeke Beats: Aisle 5, Atlanta: 12 Oct 2024: The Purple Madness: City Winery - Atlanta: 10 Oct 2024: BLXST \\u0026amp; Leon Thomas: The Tabernacle - GA, Atlanta: 07 Oct ...\",\"cachedPageUrl\":\"http://cc.bingj.com/cache.aspx?q=things\\u002Bto\\u002Bdo\\u002Bin\\u002BAtlanta\\u002Bon\\u002BOctober\\u002B12%2c\\u002B2024\\u0026d=4529481553227742\\u0026mkt=en-US\\u0026setlang=en-US\\u0026w=jfzz-1mrdGwLxX227oKzIi9IIoMIWWKl\"},{\"name\":\"Atlanta in October | Concerts, Festivals, Tickets \\u0026amp; Tour Dates - Songkick\",\"url\":\"https://www.songkick.com/metro-areas/4120-us-atlanta/october-2024\",\"displayUrl\":\"https://www.songkick.com/metro-areas/4120-us-atlanta/october-2024\",\"snippet\":\"Concerts in Atlanta in October. Find tickets to all live music, concerts, tour dates and festivals in and around Atlanta. Currently there are 564 upcoming events. Filter by artist. ... Sat 12 Oct 2024 40 Watt Club Athens, GA, US. Daddy\\u0026#39;s Beemer. Thu 24 Oct 2024 529 Bar Atlanta, GA, US. Ouija Macc. Thu 14 ...\",\"cachedPageUrl\":\"http://cc.bingj.com/cache.aspx?q=things\\u002Bto\\u002Bdo\\u002Bin\\u002BAtlanta\\u002Bon\\u002BOctober\\u002B12%2c\\u002B2024\\u0026d=4726551829817777\\u0026mkt=en-US\\u0026setlang=en-US\\u0026w=GyNsJVWjOONlYyuTqLMEVsVddRXByGfo\"},{\"name\":\"Atlanta Festival Calendar: 2024\",\"url\":\"https://unexpectedatlanta.com/atlanta-festival-calendar-2024/\",\"displayUrl\":\"https://unexpectedatlanta.com/atlanta-festival-calendar-2024\",\"snippet\":\"This experience was named by Conde Nast as one of the best things to do in Atlanta! February Festivals in Atlanta Atlanta Winter Beer Festival \\u2013 February 10, 2024 ... October 12-13, 2024. The Atlanta Pride Festival and Parade is a vibrant event that celebrates and supports the LGBTQ\\u002B community. By attending, be a part of a joyful and ...\",\"cachedPageUrl\":\"http://cc.bingj.com/cache.aspx?q=things\\u002Bto\\u002Bdo\\u002Bin\\u002BAtlanta\\u002Bon\\u002BOctober\\u002B12%2c\\u002B2024\\u0026d=4520195830737555\\u0026mkt=en-US\\u0026setlang=en-US\\u0026w=Y_UYHSuQi3QHjG8exIRi2zfYmaaF9rTA\",\"thumbnailUrl\":\"https://www.bing.com/th?id=OIP.8LvXI6tOuWvo9KZdL-C3MwHaHa\\u0026w=80\\u0026h=80\\u0026c=1\\u0026pid=5.1\"},{\"name\":\"Fall festivals in metro Atlanta and North Georgia | 2024\",\"url\":\"https://www.fox5atlanta.com/news/fall-festivals-metro-atlanta-north-georgia-2024\",\"displayUrl\":\"https://www.fox5atlanta.com/news/fall-festivals-metro-atlanta-north-georgia-2024\",\"snippet\":\"When: Oct. 12-15, 2024 Where : Piedmont Park, Atlanta What : One of the largest LGBTQ\\u002B pride events in the Southeast, featuring a parade, live performances, food, and family-friendly activities.\",\"cachedPageUrl\":\"http://cc.bingj.com/cache.aspx?q=things\\u002Bto\\u002Bdo\\u002Bin\\u002BAtlanta\\u002Bon\\u002BOctober\\u002B12%2c\\u002B2024\\u0026d=2173865470069\\u0026mkt=en-US\\u0026setlang=en-US\\u0026w=jxnOnRj04ciRcKNV8UVNHXKEd0PX1nap\"},{\"name\":\"Things to do in Atlanta this weekend: Sept. 20-22 - The Atlanta Journal ...\",\"url\":\"https://www.ajc.com/things-to-do/things-to-do-in-atlanta-this-weekend-sept-20-22/JRRVFRDW6ZA6TFL4TIFEC6YUGY/\",\"displayUrl\":\"https://www.ajc.com/things-to-do/things-to-do-in-atlanta-this-weekend-sept-20-22/...\",\"snippet\":\"Gwinnett. JapanFest Atlanta. 10 a.m.-6 p.m. Saturday, Sept. 21, and 10 a.m.-5 p.m. Sunday, Sept. 22. $16 through Sept. 20, $20 at the door, military and seniors $16 ...\",\"cachedPageUrl\":\"http://cc.bingj.com/cache.aspx?q=things\\u002Bto\\u002Bdo\\u002Bin\\u002BAtlanta\\u002Bon\\u002BOctober\\u002B12%2c\\u002B2024\\u0026d=2930586068673\\u0026mkt=en-US\\u0026setlang=en-US\\u0026w=LcstyMFQJhdEt96Av-nymtep_buw2IS2\"},{\"name\":\"The 51 Best Things To Do in New York in October 2024 - Loving New York\",\"url\":\"https://loving-newyork.com/new-york-in-october/\",\"displayUrl\":\"https://loving-newyork.com/new-york-in-october\",\"snippet\":\"Until October 31, 2024, the Loreley Beer Garden will be serving sausages and pretzels as well as German beer from liter steins and boots. On Sundays at 3 p.m., there\\u2019s a delicious free pig roast. Stop by and celebrate what is arguably the most famous German festival \\u2013 in New York City! see Website. 05.\",\"cachedPageUrl\":\"http://cc.bingj.com/cache.aspx?q=things\\u002Bto\\u002Bdo\\u002Bin\\u002BAtlanta\\u002Bon\\u002BOctober\\u002B12%2c\\u002B2024\\u0026d=4585926020258675\\u0026mkt=en-US\\u0026setlang=en-US\\u0026w=JmpidFrEfiolcEg0fOCt--lqXqDXOtVl\",\"thumbnailUrl\":\"https://www.bing.com/th?id=OIP.wX8b_-_vF8UrWVRqopzidAHaDt\\u0026w=80\\u0026h=80\\u0026c=1\\u0026pid=5.1\"}]}}\n",
       "```\n",
       "\n",
       "I called the tool named crawl with these arguments:\n",
       "```\n",
       "{\"q\": \"things to do in Atlanta on October 19, 2024\", \"textFormat\": \"HTML\"}\n",
       "```\n",
       "and got this result:\n",
       "```\n",
       "{\"queryContext\":{\"originalQuery\":\"things to do in Atlanta on October 19, 2024\"},\"webPages\":{\"value\":[{\"name\":\"Atlanta Events - October 2024 - Go South Atlanta\",\"url\":\"https://gosouthatlanta.com/things-to-do/events/atlanta-in-october.html\",\"displayUrl\":\"https://gosouthatlanta.com/things-to-do/events/atlanta-in-october.html\",\"snippet\":\"Things to do in Atlanta, GA in October, including upcoming festivals, fall and Halloween events, Pride events, comedy, musicals, plays, races, conventions, neighborhood events, cultural events, and more. ... \\u2013 PNC Atlanta 10 Miler \\u0026amp; 5K, October 19-20 2024 Annual 10-mile, 5K and 1-mile youth runs through Buckhead, from Atlantic Station.\",\"cachedPageUrl\":\"http://cc.bingj.com/cache.aspx?q=things\\u002Bto\\u002Bdo\\u002Bin\\u002BAtlanta\\u002Bon\\u002BOctober\\u002B19%2c\\u002B2024\\u0026d=4907344187949765\\u0026mkt=en-US\\u0026setlang=en-US\\u0026w=jtKzhu3KOsa3mkDLUvcm_m1afK8iBTpt\"},{\"name\":\"Atlanta Events October 2024: Concerts, Shows, Sports...\",\"url\":\"https://atlanta-ga.events/october/\",\"displayUrl\":\"https://atlanta-ga.events/october\",\"snippet\":\"Explore our comprehensive calendar for all the current and upcoming events in Atlanta, GA, for October 2024. This guide is your gateway to discovering the best things to do in Atlanta, from Concerts and Theater Shows to Sports events and music festivals. You\\u2019ll find a detailed list of all the most engaging and exciting activities happening throughout the month.\",\"cachedPageUrl\":\"http://cc.bingj.com/cache.aspx?q=things\\u002Bto\\u002Bdo\\u002Bin\\u002BAtlanta\\u002Bon\\u002BOctober\\u002B19%2c\\u002B2024\\u0026d=4898908879865838\\u0026mkt=en-US\\u0026setlang=en-US\\u0026w=vC_zzFLZ91uzxHogtJy0oBuKycEPAm_-\"},{\"name\":\"Cool Things To Do in October in Atlanta\",\"url\":\"https://discoveratlanta.com/stories/things-to-do/cool-things-to-do-in-october-in-atlanta/\",\"displayUrl\":\"https://discoveratlanta.com/stories/things-to-do/cool-things-to-do-in-october-in-atlanta\",\"snippet\":\"Corn Dogs, Rides and Whack a Mole. The Atlanta Fair brings the best of a traditional fair to Atlanta with everything from cotton candy, a Ferris wheel, fishing for goldfish, a tilt-a-whirl and a carousel. The fair, located across from the Georgia State University Stadium, will be in town Oct. 4-Nov. 3. Read More.\",\"cachedPageUrl\":\"http://cc.bingj.com/cache.aspx?q=things\\u002Bto\\u002Bdo\\u002Bin\\u002BAtlanta\\u002Bon\\u002BOctober\\u002B19%2c\\u002B2024\\u0026d=4714289705734711\\u0026mkt=en-US\\u0026setlang=en-US\\u0026w=6a-yO_DfCUxfz-dx9C91WDDECk49pD7V\",\"thumbnailUrl\":\"https://www.bing.com/th?id=OIP.4jf9xqKu3QRk_XhZ3J7DYQHaD4\\u0026w=80\\u0026h=80\\u0026c=1\\u0026pid=5.1\"},{\"name\":\"80\\u002B fall festivals \\u0026amp; fairs around metro Atlanta: Fun things to do in ...\",\"url\":\"https://www.atlantaonthecheap.com/fall-festivals-atlanta/\",\"displayUrl\":\"https://www.atlantaonthecheap.com/fall-festivals-atlanta\",\"snippet\":\"October 12 and 13, 2024 October 19 and 20, 2024 Ellijay, GA . This is one of the few festivals outside metro Atlanta we include. It takes place in North Georgia, over two weekends in October. Spend a day on the farm, pick your own apples, visit over 100 vendor booths for arts, crafts, and apple-based food items. Well worth the drive!\",\"cachedPageUrl\":\"http://cc.bingj.com/cache.aspx?q=things\\u002Bto\\u002Bdo\\u002Bin\\u002BAtlanta\\u002Bon\\u002BOctober\\u002B19%2c\\u002B2024\\u0026d=5012794228946274\\u0026mkt=en-US\\u0026setlang=en-US\\u0026w=AqqJM900-WHnjjGt9vluoyq1DPm6ofe-\",\"thumbnailUrl\":\"https://www.bing.com/th?id=OIP.w0-v0ll6eXl6tJfBd5-ovwHaEV\\u0026w=80\\u0026h=80\\u0026c=1\\u0026pid=5.1\"},{\"name\":\"26 Thrilling Things To Do In Atlanta This October - Secret Atlanta\",\"url\":\"https://secretatlanta.co/things-to-do-october/\",\"displayUrl\":\"https://secretatlanta.co/things-to-do-october\",\"snippet\":\"Without further ado, here are 26 incredible things to do in Atlanta this October! 1. ... 19. Get lost in these enchanting corn mazes near Atlanta. Jaemor Farms. ... September 20, 2024. 18 Frightfully Fun Halloween Events Happening In Atlanta. September 20, 2024 ...\",\"cachedPageUrl\":\"http://cc.bingj.com/cache.aspx?q=things\\u002Bto\\u002Bdo\\u002Bin\\u002BAtlanta\\u002Bon\\u002BOctober\\u002B19%2c\\u002B2024\\u0026d=4673096676868625\\u0026mkt=en-US\\u0026setlang=en-US\\u0026w=BDZ6Krx8ATVNFCQACSuK0PesDCkO7vK5\",\"thumbnailUrl\":\"https://www.bing.com/th?id=OIP.oVWYpGkEV4zoUw2uzcrcYgHaD6\\u0026w=80\\u0026h=80\\u0026c=1\\u0026pid=5.1\"},{\"name\":\"Atlanta Festival Calendar: 2024\",\"url\":\"https://unexpectedatlanta.com/atlanta-festival-calendar-2024/\",\"displayUrl\":\"https://unexpectedatlanta.com/atlanta-festival-calendar-2024\",\"snippet\":\"Atlanta Pride Festival and Parade \\u2013 October 12-13, 2024. The Atlanta Pride Festival and Parade is a vibrant event that celebrates and supports the LGBTQ\\u002B community. By attending, be a part of a joyful and inclusive atmosphere where diversity, equality, and love are celebrated. Little 5 Points Halloween Festival \\u0026amp; Parade \\u2013 October 19-20, 2024\",\"cachedPageUrl\":\"http://cc.bingj.com/cache.aspx?q=things\\u002Bto\\u002Bdo\\u002Bin\\u002BAtlanta\\u002Bon\\u002BOctober\\u002B19%2c\\u002B2024\\u0026d=4520195830737555\\u0026mkt=en-US\\u0026setlang=en-US\\u0026w=Y_UYHSuQi3QHjG8exIRi2zfYmaaF9rTA\",\"thumbnailUrl\":\"https://www.bing.com/th?id=OIP.8LvXI6tOuWvo9KZdL-C3MwHaHa\\u0026w=80\\u0026h=80\\u0026c=1\\u0026pid=5.1\"},{\"name\":\"Atlanta in October | Concerts, Festivals, Tickets \\u0026amp; Tour Dates - Songkick\",\"url\":\"https://www.songkick.com/metro-areas/4120-us-atlanta/october-2024\",\"displayUrl\":\"https://www.songkick.com/metro-areas/4120-us-atlanta/october-2024\",\"snippet\":\"Concerts in Atlanta in October. Find tickets to all live music, concerts, tour dates and festivals in and around Atlanta. Currently there are 564 upcoming events. Filter by artist. ... Sat 19 Oct 2024 Boot Barn Hall at Bourbon Brothers Gainesville, GA, US. Lauren Sanderson. Wed 05 Feb 2025 The Masquerade - Hell Atlanta, GA ...\",\"cachedPageUrl\":\"http://cc.bingj.com/cache.aspx?q=things\\u002Bto\\u002Bdo\\u002Bin\\u002BAtlanta\\u002Bon\\u002BOctober\\u002B19%2c\\u002B2024\\u0026d=4726551829817777\\u0026mkt=en-US\\u0026setlang=en-US\\u0026w=GyNsJVWjOONlYyuTqLMEVsVddRXByGfo\"},{\"name\":\"Explore Atlanta Events for Today, This Week or Weekend - Discover Atlanta\",\"url\":\"https://discoveratlanta.com/events/main/\",\"displayUrl\":\"https://discoveratlanta.com/events/m\",\"snippet\":\"Explore the Atlanta events calendar for things to do today, this week or this weekend. Find upcoming festivals, seasonal events and more! ... Trivia Night at Wild Leap Atlanta Every Tuesday until 11/19/2024. Elements- Surya Ensemble 9/24/24 \\u2013 10/10/24. ... October 19. Saturday. Little 5 Points Halloween Festival \\u0026amp; Parade 10/19/24 \\u2013 10/20/24.\",\"cachedPageUrl\":\"http://cc.bingj.com/cache.aspx?q=things\\u002Bto\\u002Bdo\\u002Bin\\u002BAtlanta\\u002Bon\\u002BOctober\\u002B19%2c\\u002B2024\\u0026d=4819881473496114\\u0026mkt=en-US\\u0026setlang=en-US\\u0026w=zvJBiG0Dg4eP1GMx_bJv9FTM8ziERJGY\",\"thumbnailUrl\":\"https://www.bing.com/th?id=OIP.FkxSV6JbrWatsFMM3_8dIAHaEh\\u0026w=80\\u0026h=80\\u0026c=1\\u0026pid=5.1\"},{\"name\":\"Atlanta October 2024: Events, Concerts, Clubs \\u0026amp; Things to Do - Experism\",\"url\":\"https://www.experism.com/atlanta/october\",\"displayUrl\":\"https://www.experism.com/atlanta/october\",\"snippet\":\"Atlanta Horror Film Festival. Oct 4-6, 2024 Limelight Theater View on Map. You are cordially invited to the 18th Annual Atlanta Horror Film Festival held at Limelight Theater from October 4 - 6, 2024. Don\\u0026#39;t miss this spooktacular collection of the best indie horror films from across the globe, including world premieres, short films, animation ...\",\"cachedPageUrl\":\"http://cc.bingj.com/cache.aspx?q=things\\u002Bto\\u002Bdo\\u002Bin\\u002BAtlanta\\u002Bon\\u002BOctober\\u002B19%2c\\u002B2024\\u0026d=5050860516094956\\u0026mkt=en-US\\u0026setlang=en-US\\u0026w=OllQT5kZyN343ZtIpGRATFj2b4uP5Oth\",\"thumbnailUrl\":\"https://www.bing.com/th?id=OIP.8x_jPSRdmgimGRTNJq3pngAAAA\\u0026w=80\\u0026h=80\\u0026c=1\\u0026pid=5.1\"},{\"name\":\"The Best Things to Do in Atlanta in October\",\"url\":\"https://unexpectedatlanta.com/the-best-things-to-do-in-atlanta-in-october/\",\"displayUrl\":\"https://unexpectedatlanta.com/the-best-things-to-do-in-atlanta-in-october\",\"snippet\":\"Catch Ilana Glazer at the Tabernacle on October 23, 2023. Best known for her role as Ilana Wexler in Broad City, Glazer\\u2019s live comedy has been called bold, delving into modern social and political issues with unapologetic, empowering, and satirical takes. Plus, catch Nick Offerman at Atlanta Symphony Hall.\",\"cachedPageUrl\":\"http://cc.bingj.com/cache.aspx?q=things\\u002Bto\\u002Bdo\\u002Bin\\u002BAtlanta\\u002Bon\\u002BOctober\\u002B19%2c\\u002B2024\\u0026d=4733754494973267\\u0026mkt=en-US\\u0026setlang=en-US\\u0026w=Tv-KB1NbYltoqbb3_3asNbrAJ_n6Hq4i\",\"thumbnailUrl\":\"https://www.bing.com/th?id=OIP.lEMypzNNWpS-6tdPg0Hm1gHaHa\\u0026w=80\\u0026h=80\\u0026c=1\\u0026pid=5.1\"}]}}\n",
       "```\n",
       "\n",
       "Here are some things to do in Atlanta for each of the next four weekends:\n",
       "\n",
       "### Weekend of September 28-29, 2024\n",
       "1. **Sweet Auburn Music Fest**: Enjoy live music ranging from R&B to gospel, an international food court, and various vendors on Auburn Avenue. [Discover Atlanta](https://discoveratlanta.com/stories/things-to-do/cool-things-to-do-in-september-in-atlanta/)\n",
       "2. **Atlanta Black Theatre Festival**: Celebrate the Black experience in the performing arts with plays, panels, and masterclasses. [Go South Atlanta](https://gosouthatlanta.com/things-to-do/events/atlanta-in-september.html)\n",
       "3. **Atlanta Food & Wine Festival**: Indulge in the best food, wine, beer, and cocktails Atlanta has to offer. [Experism](https://www.experism.com/atlanta/september)\n",
       "\n",
       "### Weekend of October 5-6, 2024\n",
       "1. **Festival on Ponce**: A twice-annual arts festival with over 125 vendors of fine art, folk art, and outsider art. [Go South Atlanta](https://gosouthatlanta.com/things-to-do/events/atlanta-in-october.html)\n",
       "2. **Atlanta Fair**: Experience a traditional fair with rides, games, and fair food. Located across from Georgia State University Stadium. [Discover Atlanta](https://discoveratlanta.com/stories/things-to-do/cool-things-to-do-in-october-in-atlanta/)\n",
       "3. **Suwanee BBQ Jam**: A music festival with free admission, kids' fun area, and an artist market. [Atlanta on the Cheap](https://www.atlantaonthecheap.com/fall-festivals-atlanta/)\n",
       "\n",
       "### Weekend of October 12-13, 2024\n",
       "1. **Ellijay Apple Festival**: Spend a day on the farm, pick your own apples, and visit over 100 vendor booths for arts, crafts, and apple-based food items. [Atlanta on the Cheap](https://www.atlantaonthecheap.com/fall-festivals-atlanta/)\n",
       "2. **Atlanta Pride Festival and Parade**: Celebrate and support the LGBTQ+ community with a parade, live performances, and family-friendly activities in Piedmont Park. [Fox 5 Atlanta](https://www.fox5atlanta.com/news/fall-festivals-metro-atlanta-north-georgia-2024)\n",
       "3. **The Purple Madness Tribute Concert**: Enjoy a Prince tribute concert at City Winery. [All Events](https://allevents.in/atlanta/october)\n",
       "\n",
       "### Weekend of October 19-20, 2024\n",
       "1. **Little 5 Points Halloween Festival & Parade**: Join one of Atlanta’s favorite Halloween events with a parade, live performances, and themed activities. [Unexpected Atlanta](https://unexpectedatlanta.com/atlanta-festival-calendar-2024/)\n",
       "2. **PNC Atlanta 10 Miler & 5K**: Participate in or cheer on the runners in this annual race through Buckhead. [Go South Atlanta](https://gosouthatlanta.com/things-to-do/events/atlanta-in-october.html)\n",
       "3. **Jaemor Farms Corn Maze**: Get lost in an enchanting corn maze and enjoy other fall activities at Jaemor Farms. [Secret Atlanta](https://secretatlanta.co/things-to-do-october/)\n",
       "\n",
       "Enjoy your weekends in Atlanta!\n",
       "\n",
       "\n"
      ]
     },
     "metadata": {},
     "output_type": "display_data"
    }
   ],
   "source": [
    "var assistantRunOptions = new AssistantRunOptions() {\n",
    "    AssistantName = \"Web Search Test\",\n",
    "    Instructions = \"Use python to get todays date and then use it to find things to do in Atlanta for each of the next four weekends. Be careful to not include events in the past in your final answer. You should perform four searches at once.\",\n",
    "    UseConversationEvaluator = false\n",
    "};\n",
    "var output = await AntRunnerLib.AssistantRunner.RunThread(assistantRunOptions, config);\n",
    "output.Dialog.DisplayAs(\"text/markdown\");"
   ]
  },
  {
   "cell_type": "code",
   "execution_count": 6,
   "metadata": {
    "dotnet_interactive": {
     "language": "csharp"
    },
    "polyglot_notebook": {
     "kernelName": "csharp"
    },
    "vscode": {
     "languageId": "polyglot-notebook"
    }
   },
   "outputs": [
    {
     "data": {
      "text/markdown": [
       "Here are some things to do in Atlanta for each of the next four weekends:\n",
       "\n",
       "### Weekend of September 28-29, 2024\n",
       "1. **Sweet Auburn Music Fest**: Enjoy live music ranging from R&B to gospel, an international food court, and various vendors on Auburn Avenue. [Discover Atlanta](https://discoveratlanta.com/stories/things-to-do/cool-things-to-do-in-september-in-atlanta/)\n",
       "2. **Atlanta Black Theatre Festival**: Celebrate the Black experience in the performing arts with plays, panels, and masterclasses. [Go South Atlanta](https://gosouthatlanta.com/things-to-do/events/atlanta-in-september.html)\n",
       "3. **Atlanta Food & Wine Festival**: Indulge in the best food, wine, beer, and cocktails Atlanta has to offer. [Experism](https://www.experism.com/atlanta/september)\n",
       "\n",
       "### Weekend of October 5-6, 2024\n",
       "1. **Festival on Ponce**: A twice-annual arts festival with over 125 vendors of fine art, folk art, and outsider art. [Go South Atlanta](https://gosouthatlanta.com/things-to-do/events/atlanta-in-october.html)\n",
       "2. **Atlanta Fair**: Experience a traditional fair with rides, games, and fair food. Located across from Georgia State University Stadium. [Discover Atlanta](https://discoveratlanta.com/stories/things-to-do/cool-things-to-do-in-october-in-atlanta/)\n",
       "3. **Suwanee BBQ Jam**: A music festival with free admission, kids' fun area, and an artist market. [Atlanta on the Cheap](https://www.atlantaonthecheap.com/fall-festivals-atlanta/)\n",
       "\n",
       "### Weekend of October 12-13, 2024\n",
       "1. **Ellijay Apple Festival**: Spend a day on the farm, pick your own apples, and visit over 100 vendor booths for arts, crafts, and apple-based food items. [Atlanta on the Cheap](https://www.atlantaonthecheap.com/fall-festivals-atlanta/)\n",
       "2. **Atlanta Pride Festival and Parade**: Celebrate and support the LGBTQ+ community with a parade, live performances, and family-friendly activities in Piedmont Park. [Fox 5 Atlanta](https://www.fox5atlanta.com/news/fall-festivals-metro-atlanta-north-georgia-2024)\n",
       "3. **The Purple Madness Tribute Concert**: Enjoy a Prince tribute concert at City Winery. [All Events](https://allevents.in/atlanta/october)\n",
       "\n",
       "### Weekend of October 19-20, 2024\n",
       "1. **Little 5 Points Halloween Festival & Parade**: Join one of Atlanta’s favorite Halloween events with a parade, live performances, and themed activities. [Unexpected Atlanta](https://unexpectedatlanta.com/atlanta-festival-calendar-2024/)\n",
       "2. **PNC Atlanta 10 Miler & 5K**: Participate in or cheer on the runners in this annual race through Buckhead. [Go South Atlanta](https://gosouthatlanta.com/things-to-do/events/atlanta-in-october.html)\n",
       "3. **Jaemor Farms Corn Maze**: Get lost in an enchanting corn maze and enjoy other fall activities at Jaemor Farms. [Secret Atlanta](https://secretatlanta.co/things-to-do-october/)\n",
       "\n",
       "Enjoy your weekends in Atlanta!\n",
       "\n"
      ]
     },
     "metadata": {},
     "output_type": "display_data"
    }
   ],
   "source": [
    "using Microsoft.DotNet.Interactive;\n",
    "using Microsoft.DotNet.Interactive.Formatting;\n",
    "\n",
    "output.LastMessage.DisplayAs(\"text/markdown\");\n"
   ]
  },
  {
   "cell_type": "markdown",
   "metadata": {},
   "source": [
    "## Clean Up"
   ]
  },
  {
   "cell_type": "code",
   "execution_count": 7,
   "metadata": {
    "dotnet_interactive": {
     "language": "csharp"
    },
    "polyglot_notebook": {
     "kernelName": "csharp"
    },
    "vscode": {
     "languageId": "polyglot-notebook"
    }
   },
   "outputs": [
    {
     "name": "stdout",
     "output_type": "stream",
     "text": [
      "Deleted assistant\r\n"
     ]
    }
   ],
   "source": [
    "var assistant = (await client.AssistantList())?.Data?.FirstOrDefault(o => o.Name == \"Web Search Test\");\n",
    "if(assistant != null) {\n",
    "    await client.AssistantDelete(assistant.Id);\n",
    "    Console.WriteLine(\"Deleted assistant\");\n",
    "}\n",
    "else\n",
    "{\n",
    "    Console.WriteLine(\"Didn't find MsGraphUserProfile\");\n",
    "}"
   ]
  }
 ],
 "metadata": {
  "kernelspec": {
   "display_name": ".NET (C#)",
   "language": "C#",
   "name": ".net-csharp"
  },
  "language_info": {
   "name": "python"
  },
  "polyglot_notebook": {
   "kernelInfo": {
    "defaultKernelName": "csharp",
    "items": [
     {
      "aliases": [],
      "name": "csharp"
     }
    ]
   }
  }
 },
 "nbformat": 4,
 "nbformat_minor": 2
}
