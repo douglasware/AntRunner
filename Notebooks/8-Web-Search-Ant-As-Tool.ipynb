{
 "cells": [
  {
   "cell_type": "markdown",
   "metadata": {},
   "source": [
    "# This notebook requires a deployment named \"gpt-4o\", edit as needed\n",
    "\n",
    "## Web Search Ant As Tool\n",
    "\n",
    "This example demonstrates one ant using another ant as a tool so that the second ant's work is outside the main thread.\n",
    "\n",
    "The **WebSearchAgentAnt** demonstrates the use of a Web API secured using an API key with an auth header. \n",
    "This sample requires you to create a Web Search (bing) resource in Azure and enter its corresponding API key in [0-AI-settings](0-AI-settings.ipynb)\n",
    "\n",
    "WebSearchAgentAnt uses **WebPageAgentAnt** via a tool call to evaluate search results using the search results link.\n",
    "\n",
    "This demo uses a lot of tokens. \n",
    "\n",
    "**If your quota is low, you will get throttled**"
   ]
  },
  {
   "cell_type": "markdown",
   "metadata": {},
   "source": [
    "## First steps\n",
    "- First, download AntRunLib from Nuget\n",
    "- At least once, set up the environment using **[0-AI-settings](0-AI-settings.ipynb)**"
   ]
  },
  {
   "cell_type": "code",
   "execution_count": 2,
   "metadata": {
    "dotnet_interactive": {
     "language": "csharp"
    },
    "polyglot_notebook": {
     "kernelName": "csharp"
    },
    "vscode": {
     "languageId": "polyglot-notebook"
    }
   },
   "outputs": [
    {
     "data": {
      "text/html": [
       "<div><div></div><div></div><div><strong>Installed Packages</strong><ul><li><span>AntRunnerLib, 0.8.6</span></li></ul></div></div>"
      ]
     },
     "metadata": {},
     "output_type": "display_data"
    }
   ],
   "source": [
    "#r \"nuget: AntRunnerLib, 0.8.6\"\n",
    "\n",
    "using AntRunnerLib;\n",
    "using AntRunnerLib.Identity;\n",
    "using static AntRunnerLib.ClientUtility;\n",
    "using System.IO;\n",
    "\n",
    "#!import config/Settings.cs \n",
    "\n",
    "var envVariables = Settings.GetEnvironmentVariables();\n",
    "foreach (var kvp in envVariables)\n",
    "{\n",
    "    Environment.SetEnvironmentVariable(kvp.Key, kvp.Value);\n",
    "}\n",
    "\n",
    "Environment.SetEnvironmentVariable(\"AZURE_OPENAI_DEPLOYMENT\", \"gpt-4o\");\n",
    "\n",
    "var config = AzureOpenAiConfigFactory.Get();\n",
    "var client = GetOpenAiClient(config);\n"
   ]
  },
  {
   "cell_type": "code",
   "execution_count": 3,
   "metadata": {
    "dotnet_interactive": {
     "language": "csharp"
    },
    "polyglot_notebook": {
     "kernelName": "csharp"
    },
    "vscode": {
     "languageId": "polyglot-notebook"
    }
   },
   "outputs": [
    {
     "name": "stdout",
     "output_type": "stream",
     "text": [
      "asst_a3StI7iKBoLe4hztxEIeGTJU\n",
      "asst_sLFYNM4HMgIBQJIPE4Dda0t8\n"
     ]
    }
   ],
   "source": [
    "var assistantId = await AssistantUtility.Create(\"WebSearchAgentAnt\", config);\n",
    "Console.WriteLine(assistantId);\n",
    "assistantId = await AssistantUtility.Create(\"WebPageAgentAnt\", config);\n",
    "Console.WriteLine(assistantId);"
   ]
  },
  {
   "cell_type": "code",
   "execution_count": 4,
   "metadata": {
    "dotnet_interactive": {
     "language": "csharp"
    },
    "polyglot_notebook": {
     "kernelName": "csharp"
    },
    "vscode": {
     "languageId": "polyglot-notebook"
    }
   },
   "outputs": [],
   "source": [
    "AntLoader.LoadAssembly(@\".\\AssistantDefinitions\\WebPageAgentAnt\\HtmlAgilityPack.dll\");\n",
    "AntLoader.LoadAssembly(@\".\\AssistantDefinitions\\WebPageAgentAnt\\HtmlAgilityPackExtensions.dll\");"
   ]
  },
  {
   "cell_type": "markdown",
   "metadata": {},
   "source": [
    "## Run the Assistant\n",
    "\n",
    "`output.Dialog` shows the conversation."
   ]
  },
  {
   "cell_type": "code",
   "execution_count": 5,
   "metadata": {
    "dotnet_interactive": {
     "language": "csharp"
    },
    "polyglot_notebook": {
     "kernelName": "csharp"
    },
    "vscode": {
     "languageId": "polyglot-notebook"
    }
   },
   "outputs": [
    {
     "data": {
      "text/markdown": [
       "\n",
       "User: Use python to get todays date and then use it to find things to do in Atlanta today. Be careful to not include events in the past in your final answer.\n",
       "\n",
       "Assistant: I ran this code:\n",
       "```\n",
       "from datetime import datetime\r\n",
       "\r\n",
       "# Get today's date\r\n",
       "today_date = datetime.now().strftime('%Y-%m-%d')\r\n",
       "today_date\n",
       "```\n",
       "\n",
       "I called the tool named crawl with these arguments:\n",
       "```\n",
       "{\"q\": \"things to do in Atlanta on September 24, 2024\", \"textFormat\": \"HTML\", \"answerCount\": 5}\n",
       "```\n",
       "and got this result:\n",
       "```\n",
       "{\"queryContext\":{\"originalQuery\":\"things to do in Atlanta on September 24, 2024\"},\"webPages\":{\"value\":[{\"name\":\"Atlanta Events September 2024: Concerts, Shows, Sports...\",\"url\":\"https://atlanta-ga.events/september/\",\"displayUrl\":\"https://atlanta-ga.events/september\",\"snippet\":\"Check Out The Atlanta Events Calendar for September 2024. See the List Of All Current \\u0026amp; Upcoming Events at the Lowest Possible Price. ... Sep 24, 2024 6:00 PM . Edwin Raphael . Upcoming Events: 2. Altar at Masquerade - GA . Sep 24, 2024 7:00 PM ...\",\"cachedPageUrl\":\"http://cc.bingj.com/cache.aspx?q=things\\u002Bto\\u002Bdo\\u002Bin\\u002BAtlanta\\u002Bon\\u002BSeptember\\u002B24%2c\\u002B2024\\u0026d=4854189675467386\\u0026mkt=en-US\\u0026setlang=en-US\\u0026w=ShlkdiIwTMefbkmdL1lCvH4mS1bjztOY\"},{\"name\":\"Cool Things To Do in September in Atlanta\",\"url\":\"https://discoveratlanta.com/stories/things-to-do/cool-things-to-do-in-september-in-atlanta/\",\"displayUrl\":\"https://discoveratlanta.com/stories/things-to-do/cool-things-to-do-in-september-in-atlanta\",\"snippet\":\"The Sweet Auburn Music Fest, which takes place Sept. 28-29. The festival, located on Auburn Avenue, one of Atlanta\\u2019s most iconic streets, offers fun-filled entertainment, live music \\u2014 everything from R\\u0026amp;B to gospel to alternative favorites \\u2014 international food court, national artists, celebrities and vendors of all types.\",\"cachedPageUrl\":\"http://cc.bingj.com/cache.aspx?q=things\\u002Bto\\u002Bdo\\u002Bin\\u002BAtlanta\\u002Bon\\u002BSeptember\\u002B24%2c\\u002B2024\\u0026d=4692574351720481\\u0026mkt=en-US\\u0026setlang=en-US\\u0026w=IyKVbCksY9VV74GkIkdoRE4k4vk9MNbJ\",\"thumbnailUrl\":\"https://www.bing.com/th?id=OIP.m0ENCio7ytS2o9PQRWDCRgHaD4\\u0026w=80\\u0026h=80\\u0026c=1\\u0026pid=5.1\"},{\"name\":\"Atlanta Events - September 2024 - Go South Atlanta\",\"url\":\"https://gosouthatlanta.com/things-to-do/events/atlanta-in-september.html\",\"displayUrl\":\"https://gosouthatlanta.com/things-to-do/events/atlanta-in-september.html\",\"snippet\":\"Things to do in Atlanta, GA in September, including upcoming festivals, Labor Day Weekend events, Pride events, neighborhood events, comedy, musicals, races, conventions, shows and more. ... \\u2013 Geeked Week 24, September 19 2024 Netflix preview event at The Eastern. More details \\u2013 Georgia Latino International Film Festival, September 19-22 ...\",\"cachedPageUrl\":\"http://cc.bingj.com/cache.aspx?q=things\\u002Bto\\u002Bdo\\u002Bin\\u002BAtlanta\\u002Bon\\u002BSeptember\\u002B24%2c\\u002B2024\\u0026d=4712253893443652\\u0026mkt=en-US\\u0026setlang=en-US\\u0026w=-nsAOlbynJFe4oOvzq1dGpeg_GE4sHjt\",\"thumbnailUrl\":\"https://www.bing.com/th?id=OIP.xm-3dn3hYJZHsVVU9WO5qwHaD4\\u0026w=80\\u0026h=80\\u0026c=1\\u0026pid=5.1\"},{\"name\":\"The Best Things to Do in Atlanta in September\",\"url\":\"https://unexpectedatlanta.com/the-best-things-to-do-in-atlanta-in-september/\",\"displayUrl\":\"https://unexpectedatlanta.com/the-best-things-to-do-in-atlanta-in-september\",\"snippet\":\"Atlanta Events: September 2024 Experience the Best of Atlanta\\u2019s Food \\u0026amp; History. Try some of the best eats in Atlanta! The #1-rated Grant Park Past \\u0026amp; Future Food Walk is a fun walking tour showcasing the best of Atlanta\\u2019s food and history. On this tour, you\\u2019ll taste eight modern and Southern foods from three outstanding locally owned food stops.\",\"cachedPageUrl\":\"http://cc.bingj.com/cache.aspx?q=things\\u002Bto\\u002Bdo\\u002Bin\\u002BAtlanta\\u002Bon\\u002BSeptember\\u002B24%2c\\u002B2024\\u0026d=4781604725337408\\u0026mkt=en-US\\u0026setlang=en-US\\u0026w=L1hd-5qzDrt-bHwGvtgeUoQiW0MCD0-O\",\"thumbnailUrl\":\"https://www.bing.com/th?id=OIP.BV6NvB-FhOL3LSCX1dcUJwHaHa\\u0026w=80\\u0026h=80\\u0026c=1\\u0026pid=5.1\"},{\"name\":\"20 Spectacular Things To Do This September In Atlanta - Secret Atlanta\",\"url\":\"https://secretatlanta.co/things-to-do-september/\",\"displayUrl\":\"https://secretatlanta.co/things-to-do-september\",\"snippet\":\"When: Saturday, September 7th from 12pm \\u2013 10pm. Thousands of people are expected to head to Morris Brown College in Atlanta this September for the legendary Seafood \\u0026amp; Caribbean Music festival! Enjoy tons of live music, DJs, and of course, as much mouthwatering seafood and Caribbean dishes as your heart desires! Don\\u2019t miss out on all the fun.\",\"cachedPageUrl\":\"http://cc.bingj.com/cache.aspx?q=things\\u002Bto\\u002Bdo\\u002Bin\\u002BAtlanta\\u002Bon\\u002BSeptember\\u002B24%2c\\u002B2024\\u0026d=4724958405090999\\u0026mkt=en-US\\u0026setlang=en-US\\u0026w=HkmWmkX0emVkqeBkOazQ7cCeg5xgwMQ3\",\"thumbnailUrl\":\"https://www.bing.com/th?id=OIP.mwxBnPRtbggmsDGaNhGACQHaE8\\u0026w=80\\u0026h=80\\u0026c=1\\u0026pid=5.1\"},{\"name\":\"Explore Atlanta Events for Today, This Week or Weekend\",\"url\":\"https://discoveratlanta.com/events/main/\",\"displayUrl\":\"https://discoveratlanta.com/events/m\",\"snippet\":\"Stay up to date on things to do and events in Atlanta today, this week and this weekend. Whether you\\u2019re into live music, food and wine, sports or family-friendly entertainment, Atlanta events offer nonstop fun for everyone. ... Venture Atlanta 2024 10/8/24 \\u2013 10/9/24. Atlanta miniFEST 10/9/24 \\u2013 10/10/24. Homeshake ... September 24. Tuesday ...\",\"cachedPageUrl\":\"http://cc.bingj.com/cache.aspx?q=things\\u002Bto\\u002Bdo\\u002Bin\\u002BAtlanta\\u002Bon\\u002BSeptember\\u002B24%2c\\u002B2024\\u0026d=4819881473496114\\u0026mkt=en-US\\u0026setlang=en-US\\u0026w=zvJBiG0Dg4eP1GMx_bJv9FTM8ziERJGY\",\"thumbnailUrl\":\"https://www.bing.com/th?id=OIP.FkxSV6JbrWatsFMM3_8dIAHaEh\\u0026w=80\\u0026h=80\\u0026c=1\\u0026pid=5.1\"},{\"name\":\"Atlanta Festival Calendar: 2024\",\"url\":\"https://unexpectedatlanta.com/atlanta-festival-calendar-2024/\",\"displayUrl\":\"https://unexpectedatlanta.com/atlanta-festival-calendar-2024\",\"snippet\":\"Atlanta Jazz Festival \\u2013 May 25-27, 2024. Held in Piedmont Park, the Atlanta Jazz Festival is an annual celebration of music, culture, and the art of Jazz. Free to all who join, this Memorial Day Weekend event draws fans, professional musicians, and everyone in between, for a 3-day-long festival showcasing 15\\u002B artists.\",\"cachedPageUrl\":\"http://cc.bingj.com/cache.aspx?q=things\\u002Bto\\u002Bdo\\u002Bin\\u002BAtlanta\\u002Bon\\u002BSeptember\\u002B24%2c\\u002B2024\\u0026d=4520195830737555\\u0026mkt=en-US\\u0026setlang=en-US\\u0026w=Y_UYHSuQi3QHjG8exIRi2zfYmaaF9rTA\",\"thumbnailUrl\":\"https://www.bing.com/th?id=OIP.8LvXI6tOuWvo9KZdL-C3MwHaHa\\u0026w=80\\u0026h=80\\u0026c=1\\u0026pid=5.1\"},{\"name\":\"35\\u002B Best Things to Do in Atlanta in 2024 - Unexpected Atlanta\",\"url\":\"https://unexpectedatlanta.com/best-things-to-do-in-atlanta/\",\"displayUrl\":\"https://unexpectedatlanta.com/best-things-to-do-in-atlanta\",\"snippet\":\"1. Visit the National Parks on a Fee-Free Day. First on our list of the best things to do in Atlanta in 2024, check out America\\u2019s National Park System\\u2019s fee-free days this year. On these special days, you can visit any of the United States\\u2019 400\\u002B National Parks for free, including places in and around Georgia.\",\"cachedPageUrl\":\"http://cc.bingj.com/cache.aspx?q=things\\u002Bto\\u002Bdo\\u002Bin\\u002BAtlanta\\u002Bon\\u002BSeptember\\u002B24%2c\\u002B2024\\u0026d=4885792044096348\\u0026mkt=en-US\\u0026setlang=en-US\\u0026w=SRiegEmhRGKtzRRUG028yHS95G2gOIKx\",\"thumbnailUrl\":\"https://www.bing.com/th?id=OIP.HwzfdFE6-tSHfhoFlTxXKQHaHa\\u0026w=80\\u0026h=80\\u0026c=1\\u0026pid=5.1\"},{\"name\":\"Atlanta September 2024: Events, Concerts, Clubs \\u0026amp; Things to Do - Experism\",\"url\":\"https://www.experism.com/atlanta/september\",\"displayUrl\":\"https://www.experism.com/atlanta/september\",\"snippet\":\"Sep 12-15, 2024 Historic Fourth Ward Park View on Map. Play Video. The Atlanta Food \\u0026amp; Wine Festival highlights the best food, wine, beer \\u0026amp; cocktails Atlanta has to offer. This unique event brings in 150\\u002B chefs, sommeliers, mixologists and industry insiders for 5 days of mouthwatering and tempting cuisines \\u0026amp; special Tasting Tents.\",\"cachedPageUrl\":\"http://cc.bingj.com/cache.aspx?q=things\\u002Bto\\u002Bdo\\u002Bin\\u002BAtlanta\\u002Bon\\u002BSeptember\\u002B24%2c\\u002B2024\\u0026d=4642636760352967\\u0026mkt=en-US\\u0026setlang=en-US\\u0026w=CrMoojBamU4_Ok9mubm7deAiSBD33s7x\",\"thumbnailUrl\":\"https://www.bing.com/th?id=OIP.opEpXe5xeSIGAQVvWLFBbAHaEK\\u0026w=80\\u0026h=80\\u0026c=1\\u0026pid=5.1\"},{\"name\":\"Upcoming Events - Discover Atlanta\",\"url\":\"https://discoveratlanta.com/events/all/\",\"displayUrl\":\"https://discoveratlanta.com/events/all\",\"snippet\":\"9/23/24 \\u2013 11/3/24. Pumpkin Festival. Play by Day as you enjoy family-friendly park attractions and special fall entertainment featuring some\\u2026\",\"cachedPageUrl\":\"http://cc.bingj.com/cache.aspx?q=things\\u002Bto\\u002Bdo\\u002Bin\\u002BAtlanta\\u002Bon\\u002BSeptember\\u002B24%2c\\u002B2024\\u0026d=4829094184357962\\u0026mkt=en-US\\u0026setlang=en-US\\u0026w=7n30JJ0KXcuUBKZlUeD3eG4MmVcBwK29\"}]}}\n",
       "```\n",
       "\n",
       "I called the tool named crawl with these arguments:\n",
       "```\n",
       "{\"q\": \"events in Atlanta on September 24, 2024\", \"textFormat\": \"HTML\", \"answerCount\": 5}\n",
       "```\n",
       "and got this result:\n",
       "```\n",
       "{\"queryContext\":{\"originalQuery\":\"events in Atlanta on September 24, 2024\"},\"webPages\":{\"value\":[{\"name\":\"Atlanta Events September 2024: Concerts, Shows, Sports...\",\"url\":\"https://atlanta-ga.events/september/\",\"displayUrl\":\"https://atlanta-ga.events/september\",\"snippet\":\"Check Out The Atlanta Events Calendar for September 2024. See the List Of All Current \\u0026amp; Upcoming Events at the Lowest Possible Price. ... Sep 24, 2024 6:00 PM . Edwin Raphael . Upcoming Events: 2. Altar at Masquerade - GA . Sep 24, 2024 7:00 PM ...\",\"cachedPageUrl\":\"http://cc.bingj.com/cache.aspx?q=events\\u002Bin\\u002BAtlanta\\u002Bon\\u002BSeptember\\u002B24%2c\\u002B2024\\u0026d=4854189675467386\\u0026mkt=en-US\\u0026setlang=en-US\\u0026w=ShlkdiIwTMefbkmdL1lCvH4mS1bjztOY\"},{\"name\":\"Cool Things To Do in September in Atlanta\",\"url\":\"https://discoveratlanta.com/stories/things-to-do/cool-things-to-do-in-september-in-atlanta/\",\"displayUrl\":\"https://discoveratlanta.com/stories/things-to-do/cool-things-to-do-in-september-in-atlanta\",\"snippet\":\"Published August 23, 2024 Last Updated September 11, 2024. It\\u2019s September. In Atlanta that means it\\u2019s time for festivals, costumed aliens walking down Peachtree Street and food \\u2014 glorious food. Food Extravaganza Take a big bite. There is plenty to sample at the Atlanta Food \\u0026amp; Wine Festival with more than 200 chefs, sommeliers and mixologists.\",\"cachedPageUrl\":\"http://cc.bingj.com/cache.aspx?q=events\\u002Bin\\u002BAtlanta\\u002Bon\\u002BSeptember\\u002B24%2c\\u002B2024\\u0026d=4692574351720481\\u0026mkt=en-US\\u0026setlang=en-US\\u0026w=IyKVbCksY9VV74GkIkdoRE4k4vk9MNbJ\",\"thumbnailUrl\":\"https://www.bing.com/th?id=OIP.m0ENCio7ytS2o9PQRWDCRgHaD4\\u0026w=80\\u0026h=80\\u0026c=1\\u0026pid=5.1\"},{\"name\":\"Atlanta Events - September 2024 | Go South Atlanta\",\"url\":\"https://gosouthatlanta.com/things-to-do/events/atlanta-in-september.html\",\"displayUrl\":\"https://gosouthatlanta.com/things-to-do/events/atlanta-in-september.html\",\"snippet\":\"More details. \\u2013 Dragon Con, August 29 - September 2 2024. One of the biggest annual pop culture conventions in the country. More details. \\u2013 Atlanta Black Theatre Festival, August 30 - September 1 2024. Annual festival celebrating the Black experience in the performing arts, with plays, panels, masterclasses and other events.\",\"cachedPageUrl\":\"http://cc.bingj.com/cache.aspx?q=events\\u002Bin\\u002BAtlanta\\u002Bon\\u002BSeptember\\u002B24%2c\\u002B2024\\u0026d=4712253893443652\\u0026mkt=en-US\\u0026setlang=en-US\\u0026w=-nsAOlbynJFe4oOvzq1dGpeg_GE4sHjt\",\"thumbnailUrl\":\"https://www.bing.com/th?id=OIP.xm-3dn3hYJZHsVVU9WO5qwHaD4\\u0026w=80\\u0026h=80\\u0026c=1\\u0026pid=5.1\"},{\"name\":\"20 Spectacular Things To Do This September In Atlanta | Secret Atlanta\",\"url\":\"https://secretatlanta.co/things-to-do-september/\",\"displayUrl\":\"https://secretatlanta.co/things-to-do-september\",\"snippet\":\"When: Saturday, September 7th from 12pm \\u2013 10pm. Thousands of people are expected to head to Morris Brown College in Atlanta this September for the legendary Seafood \\u0026amp; Caribbean Music festival! Enjoy tons of live music, DJs, and of course, as much mouthwatering seafood and Caribbean dishes as your heart desires! Don\\u2019t miss out on all the fun.\",\"cachedPageUrl\":\"http://cc.bingj.com/cache.aspx?q=events\\u002Bin\\u002BAtlanta\\u002Bon\\u002BSeptember\\u002B24%2c\\u002B2024\\u0026d=4724958405090999\\u0026mkt=en-US\\u0026setlang=en-US\\u0026w=HkmWmkX0emVkqeBkOazQ7cCeg5xgwMQ3\",\"thumbnailUrl\":\"https://www.bing.com/th?id=OIP.mwxBnPRtbggmsDGaNhGACQHaE8\\u0026w=80\\u0026h=80\\u0026c=1\\u0026pid=5.1\"},{\"name\":\"Atlanta Festival Calendar: 2024\",\"url\":\"https://unexpectedatlanta.com/atlanta-festival-calendar-2024/\",\"displayUrl\":\"https://unexpectedatlanta.com/atlanta-festival-calendar-2024\",\"snippet\":\"Atlanta Jazz Festival \\u2013 May 25-27, 2024. Held in Piedmont Park, the Atlanta Jazz Festival is an annual celebration of music, culture, and the art of Jazz. Free to all who join, this Memorial Day Weekend event draws fans, professional musicians, and everyone in between, for a 3-day-long festival showcasing 15\\u002B artists.\",\"cachedPageUrl\":\"http://cc.bingj.com/cache.aspx?q=events\\u002Bin\\u002BAtlanta\\u002Bon\\u002BSeptember\\u002B24%2c\\u002B2024\\u0026d=4520195830737555\\u0026mkt=en-US\\u0026setlang=en-US\\u0026w=Y_UYHSuQi3QHjG8exIRi2zfYmaaF9rTA\",\"thumbnailUrl\":\"https://www.bing.com/th?id=OIP.8LvXI6tOuWvo9KZdL-C3MwHaHa\\u0026w=80\\u0026h=80\\u0026c=1\\u0026pid=5.1\"},{\"name\":\"REVOLT WORLD - We Are Hip Hop - Sept. 20-22, 2024 | Atlanta, GA\",\"url\":\"https://www.revoltworld.com/\",\"displayUrl\":\"https://www.revoltworld.com\",\"snippet\":\"REVOLT WORLD 2024. REVOLT WORLD returns to Atlanta, GA, from September 20th \\u2013 22nd as a first-of-its-kind event reimagining the intersection of culture and creativity. This 3-day immersive experience features top REVOLT shows, impactful conversations, live performances, masterclasses, and branded activations.\",\"cachedPageUrl\":\"http://cc.bingj.com/cache.aspx?q=events\\u002Bin\\u002BAtlanta\\u002Bon\\u002BSeptember\\u002B24%2c\\u002B2024\\u0026d=4622596447688085\\u0026mkt=en-US\\u0026setlang=en-US\\u0026w=xd_jwgKqv442HVW4kqdqSY5evF_MRtAT\",\"thumbnailUrl\":\"https://www.bing.com/th?id=OIP.cZbqheqMyaxKhPF_BVZeIQHaJ4\\u0026w=80\\u0026h=80\\u0026c=1\\u0026pid=5.1\"},{\"name\":\"Explore Atlanta Events for Today, This Week or Weekend\",\"url\":\"https://discoveratlanta.com/events/main/\",\"displayUrl\":\"https://discoveratlanta.com/events/m\",\"snippet\":\"Search the Atlanta events calendar below or explore our annual festivals and seasonal events taking place throughout the year. ... Venture Atlanta 2024 10/8/24 \\u2013 10/9/24. Atlanta miniFEST 10/9/24 \\u2013 10/10/24. Homeshake ... September 24. Tuesday. DISCOVER ADAC 9/24/24 \\u2013 9/26/24. September 24. Tuesday. EBONY HBCU Yard Fest 9/24/24.\",\"cachedPageUrl\":\"http://cc.bingj.com/cache.aspx?q=events\\u002Bin\\u002BAtlanta\\u002Bon\\u002BSeptember\\u002B24%2c\\u002B2024\\u0026d=4819881473496114\\u0026mkt=en-US\\u0026setlang=en-US\\u0026w=zvJBiG0Dg4eP1GMx_bJv9FTM8ziERJGY\",\"thumbnailUrl\":\"https://www.bing.com/th?id=OIP.FkxSV6JbrWatsFMM3_8dIAHaEh\\u0026w=80\\u0026h=80\\u0026c=1\\u0026pid=5.1\"},{\"name\":\"Concerts In Atlanta, September 2024 | Go South Atlanta\",\"url\":\"https://gosouthatlanta.com/things-to-do/events/atlanta-concerts-september.html\",\"displayUrl\":\"https://gosouthatlanta.com/things-to-do/events/atlanta-concerts-september.html\",\"snippet\":\"Calendar of upcoming concerts in Atlanta in September 2024: rock, hip hop, pop, country, metal, classical, free concerts, tribute shows, and more. ... \\u2013 More September events in Atlanta \\u2013 Concert venues in Atlanta \\u2013 Atlanta music festivals ... Concerts On Tuesday September 24 2024 \\u2013 Beat: Belew/Vai/Levin/Carey play 80s King Crimson at ...\",\"cachedPageUrl\":\"http://cc.bingj.com/cache.aspx?q=events\\u002Bin\\u002BAtlanta\\u002Bon\\u002BSeptember\\u002B24%2c\\u002B2024\\u0026d=4997727481785510\\u0026mkt=en-US\\u0026setlang=en-US\\u0026w=7wIlOPp8iibgtBrujIlQ6WBS_NbfP6S4\"},{\"name\":\"Atlanta weekend events, Sept. 20-22 | Axios Atlanta\",\"url\":\"https://www.axios.com/local/atlanta/2024/09/19/weekend-events-north-georgia-state-fair-harvest-on-the-hooch\",\"displayUrl\":\"https://www.axios.com/local/atlanta/2024/09/19/weekend-events-north-georgia-state-fair...\",\"snippet\":\"Celebrate Japan, ride a Ferris wheel and draw with chalk. Here\\u0026#39;s your lineup of weekend events happening around the A: \\uD83C\\uDF83 The Stone Mountain Park Pumpkin Festival celebrates the greatest of gourds (or arguably a squash).(through Nov. 3)\\uD83C\\uDFA1 The North Georgia State Fair starts Thursday at Jim Miller Park in Cobb County.(through Sept. 29)\\uD83C\\uDFB8 Hootie \\u0026amp; the Blowfish bring the Summer Camp with ...\",\"cachedPageUrl\":\"http://cc.bingj.com/cache.aspx?q=events\\u002Bin\\u002BAtlanta\\u002Bon\\u002BSeptember\\u002B24%2c\\u002B2024\\u0026d=317409046812\\u0026mkt=en-US\\u0026setlang=en-US\\u0026w=tw736AcrZLOSZjhgHFwY5_GH8ckPA3Fc\"},{\"name\":\"Atlanta in 2024 | Concerts, Festivals, Tickets \\u0026amp; Tour Dates | Songkick\",\"url\":\"https://www.songkick.com/metro-areas/4120-us-atlanta/2024\",\"displayUrl\":\"https://www.songkick.com/metro-areas/4120-us-atlanta/2024\",\"snippet\":\"Wednesday 04 September 2024 \\u2013 Saturday 07 September 2024. ProgPower 2024 Dark Tranquillity and Amorphis. Center Stage, Atlanta, GA, US. ProgPower USA XXIII 2024 ILLUMISHADE and VICTORIUS. Center Stage Theater, Atlanta, GA, US. Thursday 05 September 2024. Outdoor. Lynyrd Skynyrd, ZZ Top, and The Outlaws.\",\"cachedPageUrl\":\"http://cc.bingj.com/cache.aspx?q=events\\u002Bin\\u002BAtlanta\\u002Bon\\u002BSeptember\\u002B24%2c\\u002B2024\\u0026d=4943520696982042\\u0026mkt=en-US\\u0026setlang=en-US\\u0026w=I5meYQqLjBXIDd8Wa8glqjNaLOrIMgoZ\"}]}}\n",
       "```\n",
       "\n",
       "I called the tool named ExtractContentFromUrl with these arguments:\n",
       "```\n",
       "{\"assistantName\": \"WebPageAgentAnt\", \"instructions\": \"List events happening in Atlanta on September 24, 2024. https://atlanta-ga.events/september/\"}\n",
       "```\n",
       "and got this result:\n",
       "```\n",
       "\"Here are the events happening in Atlanta on September 24, 2024:\\n\\n1. **Kehlani**\\n   - **Time:** 7:00 PM\\n   - **Venue:** Lakewood Amphitheatre\\n   - **Address:** 2002 Lakewood Avenue Southeast, Atlanta, GA\\n   - **Capacity:** 19,000\\n   - **Prices:** From $51 (Avg. price ~$140)\\n   - **Available Tickets:** 227\\n   - **[Tickets](https://atlanta-ga.events/tickets/kehlani/)**\\n\\n2. **Atlanta Braves vs. New York Mets**\\n   - **Time:** 7:20 PM\\n   - **Venue:** Truist Park\\n   - **Address:** 1100 Circle 75 Pkwy, Atlanta, GA\\n   - **Capacity:** 41,149\\n   - **Prices:** From $15 (Avg. price ~$96)\\n   - **Available Tickets:** 1,074\\n   - **[Tickets](https://atlanta-ga.events/tickets/atlanta-braves/)**\\n\\n3. **Sofi Tukker**\\n   - **Time:** 8:00 PM\\n   - **Venue:** The Tabernacle - GA\\n   - **Address:** 152 Luckie St, Atlanta, GA\\n   - **Capacity:** 2,600\\n   - **Prices:** From $31 (Avg. price ~$80)\\n   - **Available Tickets:** 175\\n   - **[Tickets](https://atlanta-ga.events/tickets/sofi-tukker/)**\\n\\n4. **DPR**\\n   - **Time:** 8:00 PM\\n   - **Venue:** Coca-Cola Roxy\\n   - **Address:** 800 Battery Ave SE, Atlanta, GA\\n   - **Capacity:** 3,600\\n   - **Prices:** From $53 (Avg. price ~$78)\\n   - **Available Tickets:** 21\\n   - **[Tickets](https://atlanta-ga.events/tickets/dpr-live/)**\\n\\n5. **Magdalena Bay**\\n   - **Time:** 8:00 PM\\n   - **Venue:** Variety Playhouse\\n   - **Address:** 1099 Euclid Ave, Atlanta, GA\\n   - **Capacity:** 1,000\\n   - **Prices:** From $57 (Avg. price ~$90)\\n   - **Available Tickets:** 18\\n   - **[Tickets](https://atlanta-ga.events/tickets/magdalena-bay/)**\\n\\n6. **Juan Fernando Velasco**\\n   - **Time:** 8:00 PM\\n   - **Venue:** City Winery - Atlanta\\n   - **Address:** 675 Ponce De Leon Ave, Atlanta, GA\\n   - **Capacity:** 300\\n   - **Prices:** From $89 (Avg. price ~$141)\\n   - **Available Tickets:** 50\\n   - **[Tickets](https://atlanta-ga.events/tickets/juan-fernando-velasco/)**\"\n",
       "```\n",
       "\n",
       "I called the tool named ExtractContentFromUrl with these arguments:\n",
       "```\n",
       "{\"assistantName\": \"WebPageAgentAnt\", \"instructions\": \"List events happening in Atlanta on September 24, 2024. https://discoveratlanta.com/stories/things-to-do/cool-things-to-do-in-september-in-atlanta/\"}\n",
       "```\n",
       "and got this result:\n",
       "```\n",
       "\"The page did not list any specific events happening in Atlanta on September 24, 2024. Here is a summary of events happening in September 2024 in Atlanta:\\n\\n1. **Atlanta Food \\u0026 Wine Festival** (Sept 12-15)\\n2. **Burger Benefit** (Sept 22)\\n3. **NETHERWORLD Haunted House** (opens Sept 20-21)\\n4. **Harvest on the Hooch** (Sept 22)\\n5. **Fiestas Patrias at Plaza Fiesta** (Sept 17)\\n6. **Baldie Con** (starts Sept 27)\\n7. **Sweet Auburn Music Fest** (Sept 28-29)\\n8. **Forward Warrior live art event** (Sept 14)\\n9. **Jimmy Carter\\u0027s 100th Birthday Celebration at Fox Theatre** (Sept 17)\\n10. **Sandy Springs Fall Arts Festival** (Sept 14-15)\\n11. **Dragon Con** (Aug 29 - Sept 2)\\n12. **Yellow Daisy Festival at Stone Mountain Park** (Sept 5-8)\\n13. **Buckhead Fine Arts Festival** (Sept 21-22)\\n14. **Atlanta Street Food Festival \\u0026 Bazaar** (Sept 2)\\n15. **Opera in the Yards** (Sept dates not specified)\\n16. **JapanFest** (Sept 21-22)\\n17. **PGA TOUR Championship** (Aug 29 - Sept 1)\\n\\nFor more detailed information, you can visit the [Discover Atlanta](https://discoveratlanta.com/stories/things-to-do/cool-things-to-do-in-september-in-atlanta/) page.\"\n",
       "```\n",
       "\n",
       "I called the tool named ExtractContentFromUrl with these arguments:\n",
       "```\n",
       "{\"assistantName\": \"WebPageAgentAnt\", \"instructions\": \"List events happening in Atlanta on September 24, 2024. https://gosouthatlanta.com/things-to-do/events/atlanta-in-september.html\"}\n",
       "```\n",
       "and got this result:\n",
       "```\n",
       "\"The information was not found in the page.\"\n",
       "```\n",
       "\n",
       "I called the tool named ExtractContentFromUrl with these arguments:\n",
       "```\n",
       "{\"assistantName\": \"WebPageAgentAnt\", \"instructions\": \"List events happening in Atlanta on September 24, 2024. https://unexpectedatlanta.com/the-best-things-to-do-in-atlanta-in-september/\"}\n",
       "```\n",
       "and got this result:\n",
       "```\n",
       "\"Here are the events happening in Atlanta on September 24, 2024:\\n\\n### Concerts\\n- **SOFI TUKKER**: Performing at Tabernacle on September 24, 2024.\\n\\nFor more details about other events in September, you can visit the full list [here](https://unexpectedatlanta.com/the-best-things-to-do-in-atlanta-in-september/).\"\n",
       "```\n",
       "\n",
       "I called the tool named ExtractContentFromUrl with these arguments:\n",
       "```\n",
       "{\"assistantName\": \"WebPageAgentAnt\", \"instructions\": \"List events happening in Atlanta on September 24, 2024. https://secretatlanta.co/things-to-do-september/\"}\n",
       "```\n",
       "and got this result:\n",
       "```\n",
       "\"The information was not found in the page.\"\n",
       "```\n",
       "\n",
       "Here are some events happening in Atlanta on September 24, 2024:\n",
       "\n",
       "### Concerts\n",
       "1. **Kehlani**\n",
       "   - **Time:** 7:00 PM\n",
       "   - **Venue:** Lakewood Amphitheatre\n",
       "   - **Address:** 2002 Lakewood Avenue Southeast, Atlanta, GA\n",
       "   - **Capacity:** 19,000\n",
       "   - **Prices:** From $51 (Avg. price ~$140)\n",
       "   - **Available Tickets:** 227\n",
       "   - [Tickets](https://atlanta-ga.events/tickets/kehlani/)\n",
       "\n",
       "2. **Atlanta Braves vs. New York Mets**\n",
       "   - **Time:** 7:20 PM\n",
       "   - **Venue:** Truist Park\n",
       "   - **Address:** 1100 Circle 75 Pkwy, Atlanta, GA\n",
       "   - **Capacity:** 41,149\n",
       "   - **Prices:** From $15 (Avg. price ~$96)\n",
       "   - **Available Tickets:** 1,074\n",
       "   - [Tickets](https://atlanta-ga.events/tickets/atlanta-braves/)\n",
       "\n",
       "3. **Sofi Tukker**\n",
       "   - **Time:** 8:00 PM\n",
       "   - **Venue:** The Tabernacle - GA\n",
       "   - **Address:** 152 Luckie St, Atlanta, GA\n",
       "   - **Capacity:** 2,600\n",
       "   - **Prices:** From $31 (Avg. price ~$80)\n",
       "   - **Available Tickets:** 175\n",
       "   - [Tickets](https://atlanta-ga.events/tickets/sofi-tukker/)\n",
       "\n",
       "4. **DPR**\n",
       "   - **Time:** 8:00 PM\n",
       "   - **Venue:** Coca-Cola Roxy\n",
       "   - **Address:** 800 Battery Ave SE, Atlanta, GA\n",
       "   - **Capacity:** 3,600\n",
       "   - **Prices:** From $53 (Avg. price ~$78)\n",
       "   - **Available Tickets:** 21\n",
       "   - [Tickets](https://atlanta-ga.events/tickets/dpr-live/)\n",
       "\n",
       "5. **Magdalena Bay**\n",
       "   - **Time:** 8:00 PM\n",
       "   - **Venue:** Variety Playhouse\n",
       "   - **Address:** 1099 Euclid Ave, Atlanta, GA\n",
       "   - **Capacity:** 1,000\n",
       "   - **Prices:** From $57 (Avg. price ~$90)\n",
       "   - **Available Tickets:** 18\n",
       "   - [Tickets](https://atlanta-ga.events/tickets/magdalena-bay/)\n",
       "\n",
       "6. **Juan Fernando Velasco**\n",
       "   - **Time:** 8:00 PM\n",
       "   - **Venue:** City Winery - Atlanta\n",
       "   - **Address:** 675 Ponce De Leon Ave, Atlanta, GA\n",
       "   - **Capacity:** 300\n",
       "   - **Prices:** From $89 (Avg. price ~$141)\n",
       "   - **Available Tickets:** 50\n",
       "   - [Tickets](https://atlanta-ga.events/tickets/juan-fernando-velasco/)\n",
       "\n",
       "For more detailed information, you can visit the [Atlanta Events Calendar](https://atlanta-ga.events/september/).\n",
       "\n",
       "![Atlanta Events](https://www.bing.com/th?id=OIP.m0ENCio7ytS2o9PQRWDCRgHaD4&w=80&h=80&c=1&pid=5.1)\n",
       "\n",
       "For more details about other events in September, you can visit [Unexpected Atlanta](https://unexpectedatlanta.com/the-best-things-to-do-in-atlanta-in-september/).\n"
      ]
     },
     "metadata": {},
     "output_type": "display_data"
    }
   ],
   "source": [
    "var assistantRunOptions = new AssistantRunOptions() {\n",
    "    AssistantName = \"WebSearchAgentAnt\",\n",
    "    Instructions = \"Use python to get todays date and then use it to find things to do in Atlanta today. Be careful to not include events in the past in your final answer.\",\n",
    "};\n",
    "var output = await AntRunnerLib.AssistantRunner.RunThread(assistantRunOptions, config);\n",
    "output.Dialog.DisplayAs(\"text/markdown\");"
   ]
  },
  {
   "cell_type": "code",
   "execution_count": 6,
   "metadata": {
    "dotnet_interactive": {
     "language": "csharp"
    },
    "polyglot_notebook": {
     "kernelName": "csharp"
    },
    "vscode": {
     "languageId": "polyglot-notebook"
    }
   },
   "outputs": [
    {
     "data": {
      "text/markdown": [
       "Here are some events happening in Atlanta on September 24, 2024:\n",
       "\n",
       "### Concerts\n",
       "1. **Kehlani**\n",
       "   - **Time:** 7:00 PM\n",
       "   - **Venue:** Lakewood Amphitheatre\n",
       "   - **Address:** 2002 Lakewood Avenue Southeast, Atlanta, GA\n",
       "   - **Capacity:** 19,000\n",
       "   - **Prices:** From $51 (Avg. price ~$140)\n",
       "   - **Available Tickets:** 227\n",
       "   - [Tickets](https://atlanta-ga.events/tickets/kehlani/)\n",
       "\n",
       "2. **Atlanta Braves vs. New York Mets**\n",
       "   - **Time:** 7:20 PM\n",
       "   - **Venue:** Truist Park\n",
       "   - **Address:** 1100 Circle 75 Pkwy, Atlanta, GA\n",
       "   - **Capacity:** 41,149\n",
       "   - **Prices:** From $15 (Avg. price ~$96)\n",
       "   - **Available Tickets:** 1,074\n",
       "   - [Tickets](https://atlanta-ga.events/tickets/atlanta-braves/)\n",
       "\n",
       "3. **Sofi Tukker**\n",
       "   - **Time:** 8:00 PM\n",
       "   - **Venue:** The Tabernacle - GA\n",
       "   - **Address:** 152 Luckie St, Atlanta, GA\n",
       "   - **Capacity:** 2,600\n",
       "   - **Prices:** From $31 (Avg. price ~$80)\n",
       "   - **Available Tickets:** 175\n",
       "   - [Tickets](https://atlanta-ga.events/tickets/sofi-tukker/)\n",
       "\n",
       "4. **DPR**\n",
       "   - **Time:** 8:00 PM\n",
       "   - **Venue:** Coca-Cola Roxy\n",
       "   - **Address:** 800 Battery Ave SE, Atlanta, GA\n",
       "   - **Capacity:** 3,600\n",
       "   - **Prices:** From $53 (Avg. price ~$78)\n",
       "   - **Available Tickets:** 21\n",
       "   - [Tickets](https://atlanta-ga.events/tickets/dpr-live/)\n",
       "\n",
       "5. **Magdalena Bay**\n",
       "   - **Time:** 8:00 PM\n",
       "   - **Venue:** Variety Playhouse\n",
       "   - **Address:** 1099 Euclid Ave, Atlanta, GA\n",
       "   - **Capacity:** 1,000\n",
       "   - **Prices:** From $57 (Avg. price ~$90)\n",
       "   - **Available Tickets:** 18\n",
       "   - [Tickets](https://atlanta-ga.events/tickets/magdalena-bay/)\n",
       "\n",
       "6. **Juan Fernando Velasco**\n",
       "   - **Time:** 8:00 PM\n",
       "   - **Venue:** City Winery - Atlanta\n",
       "   - **Address:** 675 Ponce De Leon Ave, Atlanta, GA\n",
       "   - **Capacity:** 300\n",
       "   - **Prices:** From $89 (Avg. price ~$141)\n",
       "   - **Available Tickets:** 50\n",
       "   - [Tickets](https://atlanta-ga.events/tickets/juan-fernando-velasco/)\n",
       "\n",
       "For more detailed information, you can visit the [Atlanta Events Calendar](https://atlanta-ga.events/september/).\n",
       "\n",
       "![Atlanta Events](https://www.bing.com/th?id=OIP.m0ENCio7ytS2o9PQRWDCRgHaD4&w=80&h=80&c=1&pid=5.1)\n",
       "\n",
       "For more details about other events in September, you can visit [Unexpected Atlanta](https://unexpectedatlanta.com/the-best-things-to-do-in-atlanta-in-september/)."
      ]
     },
     "metadata": {},
     "output_type": "display_data"
    }
   ],
   "source": [
    "output.LastMessage.DisplayAs(\"text/markdown\");"
   ]
  },
  {
   "cell_type": "code",
   "execution_count": 7,
   "metadata": {
    "dotnet_interactive": {
     "language": "csharp"
    },
    "polyglot_notebook": {
     "kernelName": "csharp"
    },
    "vscode": {
     "languageId": "polyglot-notebook"
    }
   },
   "outputs": [
    {
     "ename": "Error",
     "evalue": "System.Exception: Run failed: OpenAI.ObjectModels.ResponseModels.Error\r\n   at AntRunnerLib.AssistantRunner.RunThread(AssistantRunOptions assistantRunOptions, AzureOpenAiConfig config, Boolean autoCreate)\r\n   at AntRunnerLib.AssistantRunner.RunThread(String assistantName, String instructions, String evaluator)\r\n   at FunctionCalling.ActionRequestBuilder.ExecuteLocalFunctionAsync()\r\n   at AntRunnerLib.ThreadUtility.<>c__DisplayClass6_2.<<PerformRunRequiredActions>b__0>d.MoveNext()\r\n--- End of stack trace from previous location ---\r\n   at AntRunnerLib.ThreadUtility.PerformRunRequiredActions(String assistantName, RunResponse currentRun, AzureOpenAiConfig azureOpenAiConfig, String oAuthUserAccessToken)\r\n   at AntRunnerLib.AssistantRunner.RunThread(AssistantRunOptions assistantRunOptions, AzureOpenAiConfig config, Boolean autoCreate)\r\n   at AntRunnerLib.AssistantRunner.RunThread(String assistantName, String instructions, String evaluator)\r\n   at Submission#10.<<Initialize>>d__0.MoveNext()\r\n--- End of stack trace from previous location ---\r\n   at Microsoft.CodeAnalysis.Scripting.ScriptExecutionState.RunSubmissionsAsync[TResult](ImmutableArray`1 precedingExecutors, Func`2 currentExecutor, StrongBox`1 exceptionHolderOpt, Func`2 catchExceptionOpt, CancellationToken cancellationToken)",
     "output_type": "error",
     "traceback": [
      "System.Exception: Run failed: OpenAI.ObjectModels.ResponseModels.Error\r\n",
      "   at AntRunnerLib.AssistantRunner.RunThread(AssistantRunOptions assistantRunOptions, AzureOpenAiConfig config, Boolean autoCreate)\r\n",
      "   at AntRunnerLib.AssistantRunner.RunThread(String assistantName, String instructions, String evaluator)\r\n",
      "   at FunctionCalling.ActionRequestBuilder.ExecuteLocalFunctionAsync()\r\n",
      "   at AntRunnerLib.ThreadUtility.<>c__DisplayClass6_2.<<PerformRunRequiredActions>b__0>d.MoveNext()\r\n",
      "--- End of stack trace from previous location ---\r\n",
      "   at AntRunnerLib.ThreadUtility.PerformRunRequiredActions(String assistantName, RunResponse currentRun, AzureOpenAiConfig azureOpenAiConfig, String oAuthUserAccessToken)\r\n",
      "   at AntRunnerLib.AssistantRunner.RunThread(AssistantRunOptions assistantRunOptions, AzureOpenAiConfig config, Boolean autoCreate)\r\n",
      "   at AntRunnerLib.AssistantRunner.RunThread(String assistantName, String instructions, String evaluator)\r\n",
      "   at Submission#10.<<Initialize>>d__0.MoveNext()\r\n",
      "--- End of stack trace from previous location ---\r\n",
      "   at Microsoft.CodeAnalysis.Scripting.ScriptExecutionState.RunSubmissionsAsync[TResult](ImmutableArray`1 precedingExecutors, Func`2 currentExecutor, StrongBox`1 exceptionHolderOpt, Func`2 catchExceptionOpt, CancellationToken cancellationToken)"
     ]
    }
   ],
   "source": [
    "var output2 = await AntRunnerLib.AssistantRunner.RunThread(\"WebSearchAgentAnt\", \"Use python to get todays date and then use it to find things to do in Atlanta for each of the next four weekends with pictures and **correct links**.\\n\\nWhen choosing links for crawl to evaluate with ExtractContentFromUrl choose a variety of hosts for urls from which you extract content. Limit your use of ExtractContentFromUrl to five calls or less. Do not make the error of including the url as a parameter, it must be inside 'instructions' as indicated by the tool definition. Be careful to not include events in the past in your final answer. You should perform four searches at once.\\nDon't forget to include valid links!\");\n",
    "output2.DisplayAs(\"text/markdown\");"
   ]
  },
  {
   "cell_type": "markdown",
   "metadata": {},
   "source": [
    "## Clean Up"
   ]
  },
  {
   "cell_type": "code",
   "execution_count": 9,
   "metadata": {
    "dotnet_interactive": {
     "language": "csharp"
    },
    "polyglot_notebook": {
     "kernelName": "csharp"
    },
    "vscode": {
     "languageId": "polyglot-notebook"
    }
   },
   "outputs": [
    {
     "name": "stdout",
     "output_type": "stream",
     "text": [
      "Deleted assistant\n",
      "Deleted assistant\n"
     ]
    }
   ],
   "source": [
    "var assistant = (await client.AssistantList())?.Data?.FirstOrDefault(o => o.Name == \"WebSearchAgentAnt\");\n",
    "if(assistant != null) {\n",
    "    await client.AssistantDelete(assistant.Id);\n",
    "    Console.WriteLine(\"Deleted assistant\");\n",
    "}\n",
    "else\n",
    "{\n",
    "    Console.WriteLine(\"Didn't find WebSearchAgentAnt\");\n",
    "}\n",
    "\n",
    "assistant = (await client.AssistantList())?.Data?.FirstOrDefault(o => o.Name == \"WebPageAgentAnt\");\n",
    "if(assistant != null) {\n",
    "    await client.AssistantDelete(assistant.Id);\n",
    "    Console.WriteLine(\"Deleted assistant\");\n",
    "}\n",
    "else\n",
    "{\n",
    "    Console.WriteLine(\"Didn't find WebSearchAgentAnt\");\n",
    "}"
   ]
  }
 ],
 "metadata": {
  "kernelspec": {
   "display_name": ".NET (C#)",
   "language": "C#",
   "name": ".net-csharp"
  },
  "language_info": {
   "name": "python"
  },
  "polyglot_notebook": {
   "kernelInfo": {
    "defaultKernelName": "csharp",
    "items": [
     {
      "aliases": [],
      "name": "csharp"
     }
    ]
   }
  }
 },
 "nbformat": 4,
 "nbformat_minor": 2
}
