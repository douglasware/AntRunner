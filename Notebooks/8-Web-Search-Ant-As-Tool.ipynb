{
 "cells": [
  {
   "cell_type": "markdown",
   "metadata": {},
   "source": [
    "# This notebook requires a deployment named \"gpt-4o\", edit as needed\n",
    "\n",
    "## Web Search Ant As Tool\n",
    "\n",
    "This example demonstrates one ant using another ant as a tool so that the second ant's work is outside the main thread.\n",
    "\n",
    "The **WebSearchAgentAnt** demonstrates the use of a Web API secured using an API key with an auth header. \n",
    "This sample requires you to create a Web Search (bing) resource in Azure and enter its corresponding API key in [0-AI-settings](0-AI-settings.ipynb)\n",
    "\n",
    "WebSearchAgentAnt uses **WebPageAgentAnt** via a tool call to evaluate search results using the search results link.\n",
    "\n",
    "This demo uses a lot of tokens. \n",
    "\n",
    "**If your quota is low, you will get throttled**"
   ]
  },
  {
   "cell_type": "markdown",
   "metadata": {},
   "source": [
    "## First steps\n",
    "- First, download AntRunLib from Nuget\n",
    "- At least once, set up the environment using **[0-AI-settings](0-AI-settings.ipynb)**"
   ]
  },
  {
   "cell_type": "code",
   "execution_count": 1,
   "metadata": {
    "dotnet_interactive": {
     "language": "csharp"
    },
    "polyglot_notebook": {
     "kernelName": "csharp"
    },
    "vscode": {
     "languageId": "polyglot-notebook"
    }
   },
   "outputs": [
    {
     "data": {
      "text/html": [
       "<div><div></div><div></div><div><strong>Installed Packages</strong><ul><li><span>AntRunnerLib, 0.8.6</span></li></ul></div></div>"
      ]
     },
     "metadata": {},
     "output_type": "display_data"
    }
   ],
   "source": [
    "#r \"nuget: AntRunnerLib, 0.8.6\"\n",
    "\n",
    "using AntRunnerLib;\n",
    "using AntRunnerLib.Identity;\n",
    "using static AntRunnerLib.ClientUtility;\n",
    "using System.IO;\n",
    "\n",
    "#!import config/Settings.cs \n",
    "\n",
    "var envVariables = Settings.GetEnvironmentVariables();\n",
    "foreach (var kvp in envVariables)\n",
    "{\n",
    "    Environment.SetEnvironmentVariable(kvp.Key, kvp.Value);\n",
    "}\n",
    "\n",
    "Environment.SetEnvironmentVariable(\"AZURE_OPENAI_DEPLOYMENT\", \"gpt-4o\");\n",
    "\n",
    "var config = AzureOpenAiConfigFactory.Get();\n",
    "var client = GetOpenAiClient(config);\n"
   ]
  },
  {
   "cell_type": "code",
   "execution_count": 2,
   "metadata": {
    "dotnet_interactive": {
     "language": "csharp"
    },
    "polyglot_notebook": {
     "kernelName": "csharp"
    },
    "vscode": {
     "languageId": "polyglot-notebook"
    }
   },
   "outputs": [
    {
     "name": "stdout",
     "output_type": "stream",
     "text": [
      "asst_661MgHGLMhpAsmhFFgCIGpwn\n",
      "asst_wGBNq7gmm7H8sltAQ2Gyem52\n"
     ]
    }
   ],
   "source": [
    "var assistantId = await AssistantUtility.Create(\"WebSearchAgentAnt\", config);\n",
    "Console.WriteLine(assistantId);\n",
    "assistantId = await AssistantUtility.Create(\"WebPageAgentAnt\", config);\n",
    "Console.WriteLine(assistantId);"
   ]
  },
  {
   "cell_type": "code",
   "execution_count": 3,
   "metadata": {
    "dotnet_interactive": {
     "language": "csharp"
    },
    "polyglot_notebook": {
     "kernelName": "csharp"
    },
    "vscode": {
     "languageId": "polyglot-notebook"
    }
   },
   "outputs": [],
   "source": [
    "AntLoader.LoadAssembly(@\".\\AssistantDefinitions\\WebPageAgentAnt\\HtmlAgilityPack.dll\");\n",
    "AntLoader.LoadAssembly(@\".\\AssistantDefinitions\\WebPageAgentAnt\\HtmlAgilityPackExtensions.dll\");"
   ]
  },
  {
   "cell_type": "markdown",
   "metadata": {},
   "source": [
    "## Run the Assistant\n",
    "\n",
    "`output.Dialog` shows the conversation."
   ]
  },
  {
   "cell_type": "code",
   "execution_count": 4,
   "metadata": {
    "dotnet_interactive": {
     "language": "csharp"
    },
    "polyglot_notebook": {
     "kernelName": "csharp"
    },
    "vscode": {
     "languageId": "polyglot-notebook"
    }
   },
   "outputs": [
    {
     "data": {
      "text/markdown": [
       "\n",
       "User: Use python to get todays date and then use it to find things to do in Atlanta today. Be careful to not include events in the past in your final answer.\n",
       "\n",
       "Assistant: I ran this code:\n",
       "```\n",
       "from datetime import date\n",
       "\n",
       "# Get today's date\n",
       "today = date.today()\n",
       "today\n",
       "```\n",
       "\n",
       "I called the tool named crawl with these arguments:\n",
       "```\n",
       "{\"q\": \"events in Atlanta on September 25, 2024\", \"answerCount\": 5, \"textFormat\": \"HTML\"}\n",
       "```\n",
       "and got this result:\n",
       "```\n",
       "{\"queryContext\":{\"originalQuery\":\"events in Atlanta on September 25, 2024\"},\"webPages\":{\"value\":[{\"name\":\"Atlanta Events September 2024: Concerts, Shows, Sports...\",\"url\":\"https://atlanta-ga.events/september/\",\"displayUrl\":\"https://atlanta-ga.events/september\",\"snippet\":\"Check Out The Atlanta Events Calendar for September 2024. See the List Of All Current \\u0026amp; Upcoming Events at the Lowest Possible Price. ... Sep 25, 2024 6:30 PM . Lorna Shore . Upcoming Events: 2. The Tabernacle - GA . Sep 25, 2024 6:30 PM ...\",\"cachedPageUrl\":\"http://cc.bingj.com/cache.aspx?q=events\\u002Bin\\u002BAtlanta\\u002Bon\\u002BSeptember\\u002B25%2c\\u002B2024\\u0026d=4854189676169673\\u0026mkt=en-US\\u0026setlang=en-US\\u0026w=73iRaVHIvJefbkmdL1lCvH4mS1bjztOY\"},{\"name\":\"Atlanta Events - September 2024 - Go South Atlanta\",\"url\":\"https://gosouthatlanta.com/things-to-do/events/atlanta-in-september.html\",\"displayUrl\":\"https://gosouthatlanta.com/things-to-do/events/atlanta-in-september.html\",\"snippet\":\"More details. \\u2013 Dragon Con, August 29 - September 2 2024. One of the biggest annual pop culture conventions in the country. More details. \\u2013 Atlanta Black Theatre Festival, August 30 - September 1 2024. Annual festival celebrating the Black experience in the performing arts, with plays, panels, masterclasses and other events.\",\"cachedPageUrl\":\"http://cc.bingj.com/cache.aspx?q=events\\u002Bin\\u002BAtlanta\\u002Bon\\u002BSeptember\\u002B25%2c\\u002B2024\\u0026d=4712253893574850\\u0026mkt=en-US\\u0026setlang=en-US\\u0026w=aWkJWqw243Je4oOvzq1dGpeg_GE4sHjt\",\"thumbnailUrl\":\"https://www.bing.com/th?id=OIP.xm-3dn3hYJZHsVVU9WO5qwHaD4\\u0026w=80\\u0026h=80\\u0026c=1\\u0026pid=5.1\"},{\"name\":\"Events \\u0026amp; Things To Do in Atlanta In September 2024 - AllEvents.in\",\"url\":\"https://allevents.in/atlanta/september\",\"displayUrl\":\"https://allevents.in/atlanta/september\",\"snippet\":\"Find events and things to do in September 2024 in Atlanta. Discover parties, concerts, meets, shows, sports, club, reunion, Performance happening in September 2024 in Atlanta. ... Event Venue; 25 Sep 2024: 454: Aisle 5, Atlanta: Help us find the right events for you. Tell us what you love, and we will curate a list of events for you.\",\"cachedPageUrl\":\"http://cc.bingj.com/cache.aspx?q=events\\u002Bin\\u002BAtlanta\\u002Bon\\u002BSeptember\\u002B25%2c\\u002B2024\\u0026d=4505378192976601\\u0026mkt=en-US\\u0026setlang=en-US\\u0026w=FUSDAVXF94sAzxJYI-i48UowFfDohTmv\"},{\"name\":\"Cool Things To Do in September in Atlanta\",\"url\":\"https://discoveratlanta.com/stories/things-to-do/cool-things-to-do-in-september-in-atlanta/\",\"displayUrl\":\"https://discoveratlanta.com/stories/things-to-do/cool-things-to-do-in-september-in-atlanta\",\"snippet\":\"Published August 23, 2024 Last Updated September 11, 2024. It\\u2019s September. In Atlanta that means it\\u2019s time for festivals, costumed aliens walking down Peachtree Street and food \\u2014 glorious food. Food Extravaganza Take a big bite. There is plenty to sample at the Atlanta Food \\u0026amp; Wine Festival with more than 200 chefs, sommeliers and mixologists.\",\"cachedPageUrl\":\"http://cc.bingj.com/cache.aspx?q=events\\u002Bin\\u002BAtlanta\\u002Bon\\u002BSeptember\\u002B25%2c\\u002B2024\\u0026d=4692574352310340\\u0026mkt=en-US\\u0026setlang=en-US\\u0026w=c-5Oucqqe-FV74GkIkdoRE4k4vk9MNbJ\",\"thumbnailUrl\":\"https://www.bing.com/th?id=OIP.m0ENCio7ytS2o9PQRWDCRgHaD4\\u0026w=80\\u0026h=80\\u0026c=1\\u0026pid=5.1\"},{\"name\":\"20 Spectacular Things To Do This September In Atlanta - Secret Atlanta\",\"url\":\"https://secretatlanta.co/things-to-do-september/\",\"displayUrl\":\"https://secretatlanta.co/things-to-do-september\",\"snippet\":\"When: Saturday, September 7th from 12pm \\u2013 10pm. Thousands of people are expected to head to Morris Brown College in Atlanta this September for the legendary Seafood \\u0026amp; Caribbean Music festival! Enjoy tons of live music, DJs, and of course, as much mouthwatering seafood and Caribbean dishes as your heart desires! Don\\u2019t miss out on all the fun.\",\"cachedPageUrl\":\"http://cc.bingj.com/cache.aspx?q=events\\u002Bin\\u002BAtlanta\\u002Bon\\u002BSeptember\\u002B25%2c\\u002B2024\\u0026d=4724958405090999\\u0026mkt=en-US\\u0026setlang=en-US\\u0026w=HkmWmkX0emVkqeBkOazQ7cCeg5xgwMQ3\",\"thumbnailUrl\":\"https://www.bing.com/th?id=OIP.mwxBnPRtbggmsDGaNhGACQHaE8\\u0026w=80\\u0026h=80\\u0026c=1\\u0026pid=5.1\"},{\"name\":\"Upcoming Concerts in Atlanta, GA 2024 \\u0026amp; 2025 - Concertful\",\"url\":\"https://concertful.com/area/united-states/ga/atlanta\",\"displayUrl\":\"https://concertful.com/area/united-states/ga/atlanta\",\"snippet\":\"Discover with Concertful the best upcoming concerts, gigs and music festivals taking place in Atlanta, GA in 2024 and 2025. Concerts in Atlanta, Georgia 2024 - 2025 Location. Start date. ... Wed Sep 25 2024: Kings of Leon with Phantogram State Farm Arena ...\",\"cachedPageUrl\":\"http://cc.bingj.com/cache.aspx?q=events\\u002Bin\\u002BAtlanta\\u002Bon\\u002BSeptember\\u002B25%2c\\u002B2024\\u0026d=4556466830854123\\u0026mkt=en-US\\u0026setlang=en-US\\u0026w=fUutcTP3WQsYCuHzKj9wI1eUU1EGgmYB\"},{\"name\":\"Explore Atlanta Events for Today, This Week or Weekend\",\"url\":\"https://discoveratlanta.com/events/main/\",\"displayUrl\":\"https://discoveratlanta.com/events/m\",\"snippet\":\"Explore the Atlanta events calendar for things to do today, this week or this weekend. Find upcoming festivals, seasonal events and more! ... Every Wednesday until 09/25/2024 \\u201CMix It Up\\u201D Ladies Night ... September 25. Wednesday. BEAT: Steve Vai, Adrian Belew, Tony Levin, Danny Carey 9/25/24. September 25.\",\"cachedPageUrl\":\"http://cc.bingj.com/cache.aspx?q=events\\u002Bin\\u002BAtlanta\\u002Bon\\u002BSeptember\\u002B25%2c\\u002B2024\\u0026d=4819881473496114\\u0026mkt=en-US\\u0026setlang=en-US\\u0026w=zvJBiG0Dg4eP1GMx_bJv9FTM8ziERJGY\",\"thumbnailUrl\":\"https://www.bing.com/th?id=OIP.FkxSV6JbrWatsFMM3_8dIAHaEh\\u0026w=80\\u0026h=80\\u0026c=1\\u0026pid=5.1\"},{\"name\":\"Atlanta Festival Calendar: 2024\",\"url\":\"https://unexpectedatlanta.com/atlanta-festival-calendar-2024/\",\"displayUrl\":\"https://unexpectedatlanta.com/atlanta-festival-calendar-2024\",\"snippet\":\"Atlanta Jazz Festival \\u2013 May 25-27, 2024. Held in Piedmont Park, the Atlanta Jazz Festival is an annual celebration of music, culture, and the art of Jazz. Free to all who join, this Memorial Day Weekend event draws fans, professional musicians, and everyone in between, for a 3-day-long festival showcasing 15\\u002B artists.\",\"cachedPageUrl\":\"http://cc.bingj.com/cache.aspx?q=events\\u002Bin\\u002BAtlanta\\u002Bon\\u002BSeptember\\u002B25%2c\\u002B2024\\u0026d=4520195830737555\\u0026mkt=en-US\\u0026setlang=en-US\\u0026w=Y_UYHSuQi3QHjG8exIRi2zfYmaaF9rTA\"},{\"name\":\"Concerts In Atlanta, September 2024 - Go South Atlanta\",\"url\":\"https://gosouthatlanta.com/things-to-do/events/atlanta-concerts-september.html\",\"displayUrl\":\"https://gosouthatlanta.com/things-to-do/events/atlanta-concerts-september.html\",\"snippet\":\"Calendar of upcoming concerts in Atlanta in September 2024: rock, hip hop, pop, country, metal, classical, free concerts, tribute shows, and more. ... \\u2013 The Airborne Toxic Event at Variety Playhouse. More details \\u2013 Faye Webster at the Fox ... Concerts On Wednesday September 25 2024 \\u2013 Creed \\u2013 Summer of \\u201999 Tour at the Ameris Bank ...\",\"cachedPageUrl\":\"http://cc.bingj.com/cache.aspx?q=events\\u002Bin\\u002BAtlanta\\u002Bon\\u002BSeptember\\u002B25%2c\\u002B2024\\u0026d=4997727481785510\\u0026mkt=en-US\\u0026setlang=en-US\\u0026w=7wIlOPp8iibgtBrujIlQ6WBS_NbfP6S4\"},{\"name\":\"Events | State Farm Arena\",\"url\":\"https://www.statefarmarena.com/events/\",\"displayUrl\":\"https://www.statefarmarena.com/events\",\"snippet\":\"Wed Sep 25 2024. Kings of Leon Can We Please Have Fun Tour with Phantogram Wed Sep 25 2024. ... Load More Events Sun. Mon. Tue. Wed. Thr. Fri. Sat. ... 1 State Farm Drive Atlanta, Georgia 30303 Events \\u0026amp; Tickets. Upcoming Events; Calendar of Events; Membership; Box Office Info; Ticket FAQs; Manage Your Tickets; Seating Maps; Atlanta Hawks;\",\"cachedPageUrl\":\"http://cc.bingj.com/cache.aspx?q=events\\u002Bin\\u002BAtlanta\\u002Bon\\u002BSeptember\\u002B25%2c\\u002B2024\\u0026d=4889747706311794\\u0026mkt=en-US\\u0026setlang=en-US\\u0026w=61_vqRRZpcSvmfmFn6kCmFXLS0JYMSUd\",\"thumbnailUrl\":\"https://www.bing.com/th?id=OIP.4mzxjAzsSRiPG9fOy_tYqwHaEK\\u0026w=80\\u0026h=80\\u0026c=1\\u0026pid=5.1\"}]}}\n",
       "```\n",
       "\n",
       "I called the tool named crawl with these arguments:\n",
       "```\n",
       "{\"q\": \"things to do in Atlanta today\", \"answerCount\": 5, \"textFormat\": \"HTML\"}\n",
       "```\n",
       "and got this result:\n",
       "```\n",
       "{\"queryContext\":{\"originalQuery\":\"things to do in Atlanta today\"},\"webPages\":{\"value\":[{\"name\":\"Explore Atlanta Events for Today, This Week or Weekend\",\"url\":\"https://discoveratlanta.com/events/main/\",\"displayUrl\":\"https://discoveratlanta.com/events/m\",\"snippet\":\"Unleash. the fun! Stay up to date on things to do and events in Atlanta today, this week and this weekend. Whether you\\u2019re into live music, food and wine, sports or family-friendly entertainment, Atlanta events offer nonstop fun for everyone. Search the Atlanta events calendar below or explore our annual festivals and seasonal events taking ...\",\"cachedPageUrl\":\"http://cc.bingj.com/cache.aspx?q=things\\u002Bto\\u002Bdo\\u002Bin\\u002BAtlanta\\u002Btoday\\u0026d=4819881473496114\\u0026mkt=en-US\\u0026setlang=en-US\\u0026w=zvJBiG0Dg4eP1GMx_bJv9FTM8ziERJGY\",\"thumbnailUrl\":\"https://www.bing.com/th?id=OIP.FkxSV6JbrWatsFMM3_8dIAHaEh\\u0026w=80\\u0026h=80\\u0026c=1\\u0026pid=5.1\"},{\"name\":\"10 things to do in Atlanta this weekend - accessatlanta.com\",\"url\":\"https://www.accessatlanta.com/atlanta-things-to-do/10-things-to-do-in-atlanta-this-weekend/RXJV557GDFFJVMY3LMAOYQTNYI/\",\"displayUrl\":\"https://www.accessatlanta.com/atlanta-things-to-do/10-things-to-do-in-atlanta-this...\",\"snippet\":\"Best Things to do in Atlanta this weekend. Location: Kirkwood - Hosea L Williams Dr NE; Date: September 20; Time: 7-10 p.m.; Admission: $70; Website: kirkwoodwinestroll.com Revolt World. This 3 ...\",\"cachedPageUrl\":\"http://cc.bingj.com/cache.aspx?q=things\\u002Bto\\u002Bdo\\u002Bin\\u002BAtlanta\\u002Btoday\\u0026d=2036019664925\\u0026mkt=en-US\\u0026setlang=en-US\\u0026w=ecYZf3pOPl4MgsqlUNgwD_67J-TONvpM\"},{\"name\":\"Things to do in Atlanta this weekend: Sept. 20-22 - The Atlanta Journal ...\",\"url\":\"https://www.ajc.com/things-to-do/things-to-do-in-atlanta-this-weekend-sept-20-22/JRRVFRDW6ZA6TFL4TIFEC6YUGY/\",\"displayUrl\":\"https://www.ajc.com/things-to-do/things-to-do-in-atlanta-this-weekend-sept-20-22/...\",\"snippet\":\"Check out the following 15 things to do in metro Atlanta this weekend: Intown Atlanta. BackYARD Fest. 6-11 p.m. Saturday, Sept. 21. Free with online tickets, limited tickets available onsite. The ...\",\"cachedPageUrl\":\"http://cc.bingj.com/cache.aspx?q=things\\u002Bto\\u002Bdo\\u002Bin\\u002BAtlanta\\u002Btoday\\u0026d=2930542204440\\u0026mkt=en-US\\u0026setlang=en-US\\u0026w=1P-mF3EbQ4pEt96Av-nymtep_buw2IS2\"},{\"name\":\"Things to Do in Atlanta Today - Eventbrite\",\"url\":\"https://www.eventbrite.com/d/ga--atlanta/events--today/\",\"displayUrl\":\"https://www.eventbrite.com/d/ga--atlanta/events--today\",\"snippet\":\"THE OFFICIAL KC TAKEOVER \\u0026quot;RED FRIDAY\\u0026quot; IN ATL - DRESS UP THAT RED. Today \\u2022 9:00 PM. Blue Martini Atlanta. Save this event: 90s vs 2000s THROWBACK PARTY AT DOMAINE FRIDAY [AGE 18 OR OLDER] Share this event: 90s vs 2000s THROWBACK PARTY AT DOMAINE FRIDAY [AGE 18 OR OLDER]\",\"cachedPageUrl\":\"http://cc.bingj.com/cache.aspx?q=things\\u002Bto\\u002Bdo\\u002Bin\\u002BAtlanta\\u002Btoday\\u0026d=4674664338243849\\u0026mkt=en-US\\u0026setlang=en-US\\u0026w=yTi-T5suBh9NyrIERpvCe_p_NstHBoEm\"},{\"name\":\"Atlanta Events Calendar for Today, This Week or Weekend - Creative Loafing\",\"url\":\"https://creativeloafing.com/atlanta-events\",\"displayUrl\":\"https://creativeloafing.com/atlanta-events\",\"snippet\":\"Saturday September 21, 2024 09:30 AM EDT 09/21/2024 9:30 AM. Chastain Park Cost: $37.50-$50. Disclaimer: All prices are current as of the posting date and are subject to change. Please check the venue or ticket sales site for the current pricing. Community, Community::Benefits, Community::Runs, Walks, \\u0026amp; Marathons.\",\"cachedPageUrl\":\"http://cc.bingj.com/cache.aspx?q=things\\u002Bto\\u002Bdo\\u002Bin\\u002BAtlanta\\u002Btoday\\u0026d=5011342526714134\\u0026mkt=en-US\\u0026setlang=en-US\\u0026w=nQVYSmcfgbDm5RtbCSDPKRs-PTYT6FMv\",\"thumbnailUrl\":\"https://www.bing.com/th?id=OIP.dPUBAEPhjCyM5UFGTA1qswAAAA\\u0026w=80\\u0026h=80\\u0026c=1\\u0026pid=5.1\"},{\"name\":\"Calendar: Things to do in Atlanta this weekend - The Atlanta Journal ...\",\"url\":\"https://www.ajc.com/things-to-do/atlanta-events-today-and-this-weekend/\",\"displayUrl\":\"https://www.ajc.com/things-to-do/atlanta-events-today-and-this-weekend\",\"snippet\":\"Find festivals, concerts, sports, and more events in Atlanta from The Atlanta Journal-Constitution. See the curated list of upcoming activities and places to go in the city and beyond.\",\"cachedPageUrl\":\"http://cc.bingj.com/cache.aspx?q=things\\u002Bto\\u002Bdo\\u002Bin\\u002BAtlanta\\u002Btoday\\u0026d=4886028272217557\\u0026mkt=en-US\\u0026setlang=en-US\\u0026w=R56keLcJStKt6LGI2ggiV1ElZuzdo5_u\"},{\"name\":\"Things To Do in Atlanta This Weekend\",\"url\":\"https://discoveratlanta.com/stories/things-to-do/things-to-do-in-atlanta-this-weekend/\",\"displayUrl\":\"https://discoveratlanta.com/stories/things-to-do/things-to-do-in-atlanta-this-weekend\",\"snippet\":\"Buckhead Village is where to find the Buckhead Fine Arts Festival, Saturday from 10 a.m. until 5 p.m. and Sunday from 11 a.m. until 5 p.m. Peruse the work of painters, photographers, sculptors, metalworkers, glass artists, jewelers and more. See artist demonstrations and enjoy live acoustic music.\",\"cachedPageUrl\":\"http://cc.bingj.com/cache.aspx?q=things\\u002Bto\\u002Bdo\\u002Bin\\u002BAtlanta\\u002Btoday\\u0026d=5062495583294671\\u0026mkt=en-US\\u0026setlang=en-US\\u0026w=RHu43hBaPtX-KBaHOdxlUp11pCzWRkAm\",\"thumbnailUrl\":\"https://www.bing.com/th?id=OIP._omVgwj1ztLZDDfuk8iLpAHaGE\\u0026w=80\\u0026h=80\\u0026c=1\\u0026pid=5.1\"},{\"name\":\"Atlanta Events and Things to Do Today and this Weekend | Creative Loafing\",\"url\":\"https://creativeloafing.com/\",\"displayUrl\":\"https://creativeloafing.com\",\"snippet\":\"OUT ON FILM: The 37th edition of Atlanta\\u2019s LGBTQIA\\u002B Film Festival runs Sept. 26 - Oct.6. 09/13/2024 3:00 PM. Presented by GILEAD, this year offers a diverse selection that includes 35 features (22 narrative films, 12 documentaries and one special event), five streaming-only films and 111 shorts films (in 18 shorts programs) for a total of 151 ...\",\"cachedPageUrl\":\"http://cc.bingj.com/cache.aspx?q=things\\u002Bto\\u002Bdo\\u002Bin\\u002BAtlanta\\u002Btoday\\u0026d=4842232480935486\\u0026mkt=en-US\\u0026setlang=en-US\\u0026w=ZGBKs5cCje6Z_k4PyZVYIK5MkYWac9Zj\",\"thumbnailUrl\":\"https://www.bing.com/th?id=OIP.0W87qpSd4IYY-w5RtWHZpgHaHa\\u0026w=80\\u0026h=80\\u0026c=1\\u0026pid=5.1\"},{\"name\":\"Upcoming Events - Discover Atlanta\",\"url\":\"https://discoveratlanta.com/events/all/\",\"displayUrl\":\"https://discoveratlanta.com/events/all\",\"snippet\":\"Bounce through the incredible events happening around Atlanta today, tomorrow, this week or this month. Plan your fun and be in the know on everything from family-favorites, to can\\u2019t-miss hot spots, concerts and foodie festivals. Showing 1 \\u2013 15 of 495. Editors\\u2019 Pick.\",\"cachedPageUrl\":\"http://cc.bingj.com/cache.aspx?q=things\\u002Bto\\u002Bdo\\u002Bin\\u002BAtlanta\\u002Btoday\\u0026d=4829094184573839\\u0026mkt=en-US\\u0026setlang=en-US\\u0026w=J3F_lNIMaK2UBKZlUeD3eG4MmVcBwK29\"},{\"name\":\"The best things to do in Atlanta right now - Time Out\",\"url\":\"https://www.timeout.com/atlanta/things-to-do/best-things-to-do-in-atlanta\",\"displayUrl\":\"https://www.timeout.com/atlanta/things-to-do/best-things-to-do-in-atlanta\",\"snippet\":\"Explore the history, culture, and cuisine of Atlanta with this guide to the city\\u0026#39;s top attractions. From the World of Coca-Cola to the BeltLine, find out what to do in Atlanta today.\",\"cachedPageUrl\":\"http://cc.bingj.com/cache.aspx?q=things\\u002Bto\\u002Bdo\\u002Bin\\u002BAtlanta\\u002Btoday\\u0026d=4565877107085112\\u0026mkt=en-US\\u0026setlang=en-US\\u0026w=56ceNamccwwcUlw5_DIQpKVX3mnuh8Iq\",\"thumbnailUrl\":\"https://www.bing.com/th?id=OIP.-XmrGhWhWtlBL3xZRZjcJwHaE8\\u0026w=80\\u0026h=80\\u0026c=1\\u0026pid=5.1\"}]}}\n",
       "```\n",
       "\n",
       "I called the tool named ExtractContentFromUrl with these arguments:\n",
       "```\n",
       "{\"assistantName\": \"WebPageAgentAnt\", \"instructions\": \"What events are happening in Atlanta on September 25, 2024? https://atlanta-ga.events/september/\"}\n",
       "```\n",
       "and got this result:\n",
       "```\n",
       "\"On September 25, 2024, several events are happening in Atlanta. Here\\u2019s a list of notable events along with their details:\\n\\n1. **Lorna Shore**\\n   - **Venue:** The Tabernacle - GA\\n   - **Time:** 6:30 PM\\n   - **Prices from:** $20 (Avg. price ~ $89)\\n   - **Available Tickets:** 81\\n\\n2. **Sevendust**\\n   - **Venue:** The Eastern - GA\\n   - **Time:** 6:30 PM\\n   - **Prices from:** $39 (Avg. price ~ $61)\\n   - **Available Tickets:** 21\\n\\n3. **Creed, 3 Doors Down \\u0026 Finger Eleven**\\n   - **Venue:** Ameris Bank Amphitheatre\\n   - **Time:** 7:00 PM\\n   - **Prices from:** $39 (Avg. price ~ $223)\\n   - **Available Tickets:** 223\\n\\n4. **Atlanta Braves vs. New York Mets**\\n   - **Venue:** Truist Park\\n   - **Time:** 7:20 PM\\n   - **Prices from:** $7 (Avg. price ~ $75)\\n   - **Available Tickets:** 1977\\n\\n5. **Kings of Leon \\u0026 Phantogram**\\n   - **Venue:** State Farm Arena - GA\\n   - **Time:** 7:30 PM\\n   - **Prices from:** $14 (Avg. price ~ $123)\\n   - **Available Tickets:** 804\\n\\n6. **Shaboozey**\\n   - **Venue:** Variety Playhouse\\n   - **Time:** 8:00 PM\\n   - **Prices from:** $51 (Avg. price ~ $88)\\n   - **Available Tickets:** 28\\n\\n7. **Lasso - Artist**\\n   - **Venue:** Buckhead Theatre\\n   - **Time:** 8:00 PM\\n   - **Prices from:** $58 (Avg. price ~ $90)\\n   - **Available Tickets:** 54\\n\\n8. **Gritz and Jelly Butter**\\n   - **Venue:** City Winery - Atlanta\\n   - **Time:** 8:00 PM\\n   - **Prices from:** $74 (Avg. price ~ $89)\\n   - **Available Tickets:** 8\\n\\nThese events offer a mix of concerts, sports, and performances throughout the evening. For more details, you can visit the event links provided.\"\n",
       "```\n",
       "\n",
       "I called the tool named ExtractContentFromUrl with these arguments:\n",
       "```\n",
       "{\"assistantName\": \"WebPageAgentAnt\", \"instructions\": \"What events are happening in Atlanta on September 25, 2024? https://gosouthatlanta.com/things-to-do/events/atlanta-in-september.html\"}\n",
       "```\n",
       "and got this result:\n",
       "```\n",
       "\"On September 25, 2024, the following events are happening in Atlanta:\\n\\n1. **Chaucer\\u2019s The Canterbury Tales**\\n   - A play at the Shakespeare Tavern Playhouse. \\n   - Dates: September 7-29, 2024.\\n\\n2. **Daddy Long Legs**\\n   - A musical at The Legacy Theatre, Tyrone.\\n   - Dates: September 13 - October 6, 2024.\\n\\n3. **Boh\\u00E8me Project: La boh\\u00E8me**\\n   - An opera at Pullman Yards.\\n   - Dates: September 18 - October 5, 2024.\\n\\n4. **The Chinese Lady**\\n   - A play at Alliance Theatre.\\n   - Dates: September 18 - October 13, 2024.\\n\\n5. **North Georgia State Fair**\\n   - An annual fair at Jim R Miller Park, Marietta, featuring carnival rides, animal shows, performances, rodeo, car events, and more.\\n   - Dates: September 19-29, 2024.\\n\\n6. **Boh\\u00E8me Project: Rent**\\n   - An opera at Pullman Yards.\\n   - Dates: September 19 - October 6, 2024.\\n\\n7. **Little Shop of Horrors: An Art Farm at Serenbe and Matt Logan Production**\\n   - A musical under the tent in the Wildflower Meadow at Serenbe, Chattahoochee Hills.\\n   - Dates: September 20-29, 2024.\\n\\n8. **The Curious Cardinal**\\n   - A children\\u2019s performance at Alliance Theatre.\\n   - Dates: September 21 - October 27, 2024.\\n\\nAdditionally, there are various concerts and events surrounding this date, but these are the main highlighted performances and fairs occurring on September 25, 2024.\"\n",
       "```\n",
       "\n",
       "I called the tool named ExtractContentFromUrl with these arguments:\n",
       "```\n",
       "{\"assistantName\": \"WebPageAgentAnt\", \"instructions\": \"What events are happening in Atlanta on September 25, 2024? https://allevents.in/atlanta/september\"}\n",
       "```\n",
       "and got this result:\n",
       "```\n",
       "\"On September 25, 2024, one of the events happening in Atlanta is \\u0022454 Aisle 5.\\u0022 Unfortunately, there are no additional details provided about this specific event.\\n\\nFor more activities around that date, here are some other notable events in Atlanta for September 2024:\\n\\n- **Shoosh Party** @ Moxy Hotel Midtown on September 27-28, 2024 (USD 10)\\n- **Unleash Your Inner Worth: Women\\u2019s Empowerment Summit** at Atlanta Airport Marriott on September 27-28, 2024 (USD 109)\\n- **1st Annual Black Tie Gala** at Atlanta Airport Marriott on September 28, 2024 (USD 75)\\n- **BUNT** at District Atlanta on September 27, 2024 (USD 25)\\n\\nIf you\\u0027re interested in more details or other events happening in Atlanta, let me know!\"\n",
       "```\n",
       "\n",
       "I called the tool named ExtractContentFromUrl with these arguments:\n",
       "```\n",
       "{\"assistantName\": \"WebPageAgentAnt\", \"instructions\": \"What events are happening in Atlanta on September 25, 2024? https://discoveratlanta.com/stories/things-to-do/cool-things-to-do-in-september-in-atlanta/\"}\n",
       "```\n",
       "and got this result:\n",
       "```\n",
       "\"The information for events happening in Atlanta on September 25, 2024, was not specifically mentioned in the provided web page content. However, the page includes several events in September 2024, such as:\\n\\n1. **Baldie Con**: An empowerment conference for the bald community, starting with a meet and greet on September 27, 2024.\\n2. **Sweet Auburn Music Fest**: Scheduled for September 28-29, 2024.\\n3. **Atlanta Food \\u0026 Wine Festival**: Running from September 12-15, 2024.\\n4. **Burger Benefit**: Taking place on September 22, 2024.\\n5. **NETHERWORLD**: Opening on weekends from September 20-21, 2024.\\n\\nFor a complete list of events, you may want to check back closer to the date or look for additional updates on local event listings.\"\n",
       "```\n",
       "\n",
       "I called the tool named ExtractContentFromUrl with these arguments:\n",
       "```\n",
       "{\"assistantName\": \"WebPageAgentAnt\", \"instructions\": \"What events are happening in Atlanta on September 25, 2024? https://secretatlanta.co/things-to-do-september/\"}\n",
       "```\n",
       "and got this result:\n",
       "```\n",
       "\"The information was not found in the page.\"\n",
       "```\n",
       "\n",
       "Here are some events and things to do in Atlanta on September 25, 2024:\n",
       "\n",
       "1. **Lorna Shore Concert**\n",
       "   - **Venue:** The Tabernacle - GA\n",
       "   - **Time:** 6:30 PM\n",
       "\n",
       "2. **Sevendust Concert**\n",
       "   - **Venue:** The Eastern - GA\n",
       "   - **Time:** 6:30 PM\n",
       "\n",
       "3. **Creed, 3 Doors Down & Finger Eleven Concert**\n",
       "   - **Venue:** Ameris Bank Amphitheatre\n",
       "   - **Time:** 7:00 PM\n",
       "\n",
       "4. **Atlanta Braves vs. New York Mets**\n",
       "   - **Venue:** Truist Park\n",
       "   - **Time:** 7:20 PM\n",
       "\n",
       "5. **Kings of Leon & Phantogram Concert**\n",
       "   - **Venue:** State Farm Arena - GA\n",
       "   - **Time:** 7:30 PM\n",
       "\n",
       "6. **Shaboozey Concert**\n",
       "   - **Venue:** Variety Playhouse\n",
       "   - **Time:** 8:00 PM\n",
       "\n",
       "7. **Lasso - Artist Concert**\n",
       "   - **Venue:** Buckhead Theatre\n",
       "   - **Time:** 8:00 PM\n",
       "\n",
       "8. **Gritz and Jelly Butter Performance**\n",
       "   - **Venue:** City Winery - Atlanta\n",
       "   - **Time:** 8:00 PM\n",
       "\n",
       "These events offer a mix of concerts and sports throughout the evening, providing plenty of entertainment options for a night out in Atlanta. For more details and ticket information, you can visit the event links provided.\n",
       "\n",
       "Additionally, there are some ongoing events in Atlanta during this period:\n",
       "\n",
       "1. **Chaucer’s The Canterbury Tales**\n",
       "   - **Venue:** Shakespeare Tavern Playhouse\n",
       "   - **Dates:** September 7-29, 2024\n",
       "\n",
       "2. **Daddy Long Legs Musical**\n",
       "   - **Venue:** The Legacy Theatre, Tyrone\n",
       "   - **Dates:** September 13 - October 6, 2024\n",
       "\n",
       "3. **Bohème Project: La bohème**\n",
       "   - **Venue:** Pullman Yards\n",
       "   - **Dates:** September 18 - October 5, 2024\n",
       "\n",
       "4. **The Chinese Lady Play**\n",
       "   - **Venue:** Alliance Theatre\n",
       "   - **Dates:** September 18 - October 13, 2024\n",
       "\n",
       "5. **North Georgia State Fair**\n",
       "   - **Venue:** Jim R Miller Park, Marietta\n",
       "   - **Dates:** September 19-29, 2024\n",
       "\n",
       "6. **Bohème Project: Rent**\n",
       "   - **Venue:** Pullman Yards\n",
       "   - **Dates:** September 19 - October 6, 2024\n",
       "\n",
       "7. **Little Shop of Horrors: An Art Farm at Serenbe and Matt Logan Production**\n",
       "   - **Venue:** Serenbe, Chattahoochee Hills\n",
       "   - **Dates:** September 20-29, 2024\n",
       "\n",
       "8. **The Curious Cardinal Children’s Performance**\n",
       "   - **Venue:** Alliance Theatre\n",
       "   - **Dates:** September 21 - October 27, 2024\n",
       "\n",
       "These are some of the exciting events and activities you can enjoy in Atlanta on September 25, 2024.\n",
       "\n",
       "For more details, you can visit the following links:\n",
       "- [Atlanta Events Calendar for September 2024](https://atlanta-ga.events/september/)\n",
       "- [Events & Things To Do in Atlanta In September 2024](https://gosouthatlanta.com/things-to-do/events/atlanta-in-september.html)\n",
       "- [Discover Atlanta Events](https://discoveratlanta.com/events/main/)\n",
       "\n",
       "![Atlanta Events](https://www.bing.com/th?id=OIP.FkxSV6JbrWatsFMM3_8dIAHaEh&w=80&h=80&c=1&pid=5.1)\n"
      ]
     },
     "metadata": {},
     "output_type": "display_data"
    }
   ],
   "source": [
    "var assistantRunOptions = new AssistantRunOptions() {\n",
    "    AssistantName = \"WebSearchAgentAnt\",\n",
    "    Instructions = \"Use python to get todays date and then use it to find things to do in Atlanta today. Be careful to not include events in the past in your final answer.\",\n",
    "};\n",
    "var output = await AntRunnerLib.AssistantRunner.RunThread(assistantRunOptions, config);\n",
    "output.Dialog.DisplayAs(\"text/markdown\");"
   ]
  },
  {
   "cell_type": "code",
   "execution_count": 5,
   "metadata": {
    "dotnet_interactive": {
     "language": "csharp"
    },
    "polyglot_notebook": {
     "kernelName": "csharp"
    },
    "vscode": {
     "languageId": "polyglot-notebook"
    }
   },
   "outputs": [
    {
     "data": {
      "text/markdown": [
       "Here are some events and things to do in Atlanta on September 25, 2024:\n",
       "\n",
       "1. **Lorna Shore Concert**\n",
       "   - **Venue:** The Tabernacle - GA\n",
       "   - **Time:** 6:30 PM\n",
       "\n",
       "2. **Sevendust Concert**\n",
       "   - **Venue:** The Eastern - GA\n",
       "   - **Time:** 6:30 PM\n",
       "\n",
       "3. **Creed, 3 Doors Down & Finger Eleven Concert**\n",
       "   - **Venue:** Ameris Bank Amphitheatre\n",
       "   - **Time:** 7:00 PM\n",
       "\n",
       "4. **Atlanta Braves vs. New York Mets**\n",
       "   - **Venue:** Truist Park\n",
       "   - **Time:** 7:20 PM\n",
       "\n",
       "5. **Kings of Leon & Phantogram Concert**\n",
       "   - **Venue:** State Farm Arena - GA\n",
       "   - **Time:** 7:30 PM\n",
       "\n",
       "6. **Shaboozey Concert**\n",
       "   - **Venue:** Variety Playhouse\n",
       "   - **Time:** 8:00 PM\n",
       "\n",
       "7. **Lasso - Artist Concert**\n",
       "   - **Venue:** Buckhead Theatre\n",
       "   - **Time:** 8:00 PM\n",
       "\n",
       "8. **Gritz and Jelly Butter Performance**\n",
       "   - **Venue:** City Winery - Atlanta\n",
       "   - **Time:** 8:00 PM\n",
       "\n",
       "These events offer a mix of concerts and sports throughout the evening, providing plenty of entertainment options for a night out in Atlanta. For more details and ticket information, you can visit the event links provided.\n",
       "\n",
       "Additionally, there are some ongoing events in Atlanta during this period:\n",
       "\n",
       "1. **Chaucer’s The Canterbury Tales**\n",
       "   - **Venue:** Shakespeare Tavern Playhouse\n",
       "   - **Dates:** September 7-29, 2024\n",
       "\n",
       "2. **Daddy Long Legs Musical**\n",
       "   - **Venue:** The Legacy Theatre, Tyrone\n",
       "   - **Dates:** September 13 - October 6, 2024\n",
       "\n",
       "3. **Bohème Project: La bohème**\n",
       "   - **Venue:** Pullman Yards\n",
       "   - **Dates:** September 18 - October 5, 2024\n",
       "\n",
       "4. **The Chinese Lady Play**\n",
       "   - **Venue:** Alliance Theatre\n",
       "   - **Dates:** September 18 - October 13, 2024\n",
       "\n",
       "5. **North Georgia State Fair**\n",
       "   - **Venue:** Jim R Miller Park, Marietta\n",
       "   - **Dates:** September 19-29, 2024\n",
       "\n",
       "6. **Bohème Project: Rent**\n",
       "   - **Venue:** Pullman Yards\n",
       "   - **Dates:** September 19 - October 6, 2024\n",
       "\n",
       "7. **Little Shop of Horrors: An Art Farm at Serenbe and Matt Logan Production**\n",
       "   - **Venue:** Serenbe, Chattahoochee Hills\n",
       "   - **Dates:** September 20-29, 2024\n",
       "\n",
       "8. **The Curious Cardinal Children’s Performance**\n",
       "   - **Venue:** Alliance Theatre\n",
       "   - **Dates:** September 21 - October 27, 2024\n",
       "\n",
       "These are some of the exciting events and activities you can enjoy in Atlanta on September 25, 2024.\n",
       "\n",
       "For more details, you can visit the following links:\n",
       "- [Atlanta Events Calendar for September 2024](https://atlanta-ga.events/september/)\n",
       "- [Events & Things To Do in Atlanta In September 2024](https://gosouthatlanta.com/things-to-do/events/atlanta-in-september.html)\n",
       "- [Discover Atlanta Events](https://discoveratlanta.com/events/main/)\n",
       "\n",
       "![Atlanta Events](https://www.bing.com/th?id=OIP.FkxSV6JbrWatsFMM3_8dIAHaEh&w=80&h=80&c=1&pid=5.1)"
      ]
     },
     "metadata": {},
     "output_type": "display_data"
    }
   ],
   "source": [
    "output.LastMessage.DisplayAs(\"text/markdown\");"
   ]
  },
  {
   "cell_type": "code",
   "execution_count": 6,
   "metadata": {
    "dotnet_interactive": {
     "language": "csharp"
    },
    "polyglot_notebook": {
     "kernelName": "csharp"
    },
    "vscode": {
     "languageId": "polyglot-notebook"
    }
   },
   "outputs": [
    {
     "data": {
      "text/markdown": [
       "Here are some exciting events happening in Atlanta over the next four weekends:\n",
       "\n",
       "### September 30 - October 1, 2023\n",
       "1. **Sweet Auburn Music Fest** (September 28-29)\n",
       "   - Location: Auburn Avenue\n",
       "   - Features: Live music, international food court, vendors\n",
       "   - ![Sweet Auburn Music Fest](https://www.bing.com/th?id=OIP.m0ENCio7ytS2o9PQRWDCRgHaD4&w=80&h=80&c=1&pid=5.1)\n",
       "   - [More Info](https://discoveratlanta.com/stories/things-to-do/cool-things-to-do-in-september-in-atlanta/)\n",
       "\n",
       "2. **Forward Warrior** (September 30)\n",
       "   - Location: Wylie Street in Cabbagetown\n",
       "   - Features: Live art event from 9 a.m. to 9 p.m.\n",
       "\n",
       "3. **Jimmy Carter's 100th Birthday Celebration** (October 1)\n",
       "   - Location: Fox Theatre\n",
       "   - Features: Musical extravaganza and fundraiser for the Carter Center\n",
       "\n",
       "### October 7 - 8, 2023\n",
       "1. **The Lion King** (October 2-20)\n",
       "   - Location: Fox Theatre\n",
       "   - Features: Broadway show with music by Elton John and Tim Rice\n",
       "   - ![The Lion King](https://tse1.mm.bing.net/th?id=OIP.12UWvOAl8T-LT3QpyRkRAQHaEK&pid=Api)\n",
       "   - [More Info](https://discoveratlanta.com/stories/things-to-do/cool-things-to-do-in-october-in-atlanta/)\n",
       "\n",
       "2. **Jazz Events** (October 5-6)\n",
       "   - Location: Hammonds House Museum\n",
       "   - Features: Performances and workshop by Wycliffe Gordon and Eric Scott Reed\n",
       "\n",
       "3. **Atlanta Fair** (October 4 - November 3)\n",
       "   - Location: Near Georgia State University Stadium\n",
       "   - Features: Traditional fair attractions like cotton candy, rides, and games\n",
       "\n",
       "### October 14 - 15, 2023\n",
       "1. **Atlanta Pride Festival and Parade** (October 13-15)\n",
       "   - Location: Piedmont Park, Midtown Atlanta\n",
       "   - Features: Merchandise, art, live music, food, parade\n",
       "   - ![Atlanta Pride Festival](https://tse1.mm.bing.net/th?id=OIP.lEMypzNNWpS-6tdPg0Hm1gHaHa&pid=Api)\n",
       "   - [More Info](https://unexpectedatlanta.com/the-best-things-to-do-in-atlanta-in-october/)\n",
       "\n",
       "2. **Depeche Mode - Memento Mori Tour** (October 15)\n",
       "   - Location: State Farm Arena\n",
       "   - Features: Concert by Depeche Mode\n",
       "\n",
       "### October 21 - 22, 2023\n",
       "1. **ATLive: Country Night** (October 21)\n",
       "   - Location: Mercedes-Benz Stadium\n",
       "   - Features: Performances by George Strait, Carrie Underwood, Willie Nelson, Little Big Town\n",
       "   - ![ATLive: Country Night](https://tse1.mm.bing.net/th?id=OIP.5jERbhhnl8LiECUQySoRYAHaG1&pid=Api)\n",
       "   - [More Info](https://www.ajc.com/things-to-do/things-to-do-in-atlanta-this-weekend-october-20-22-2023/5OJ2Z2T5A5ES5EODYJESVWPNJI/)\n",
       "\n",
       "2. **Little 5 Halloween Fest & Parade** (October 21-22)\n",
       "   - Location: 394 Moreland Ave. NE, Atlanta\n",
       "   - Features: Artist market, haunted house, live music, parade on October 22\n",
       "   - [More Info](https://unexpectedatlanta.com/fall-activities-in-atlanta/)\n",
       "\n",
       "These events provide a mix of music, arts, cultural celebrations, and seasonal festivities. Enjoy your weekends in Atlanta!"
      ]
     },
     "metadata": {},
     "output_type": "display_data"
    }
   ],
   "source": [
    "var output2 = await AntRunnerLib.AssistantRunner.RunThread(\"WebSearchAgentAnt\", \"Use python to get todays date and then use it to find things to do in Atlanta for each of the next four weekends with pictures and **correct links**.\\n\\nWhen choosing links for crawl to evaluate with ExtractContentFromUrl choose a variety of hosts for urls from which you extract content. Limit your use of ExtractContentFromUrl to five calls or less. Do not make the error of including the url as a parameter, it must be inside 'instructions' as indicated by the tool definition. Be careful to not include events in the past in your final answer. You should perform four searches at once.\\nDon't forget to include valid links!\");\n",
    "output2.DisplayAs(\"text/markdown\");"
   ]
  },
  {
   "cell_type": "markdown",
   "metadata": {},
   "source": [
    "## Clean Up"
   ]
  },
  {
   "cell_type": "code",
   "execution_count": 7,
   "metadata": {
    "dotnet_interactive": {
     "language": "csharp"
    },
    "polyglot_notebook": {
     "kernelName": "csharp"
    },
    "vscode": {
     "languageId": "polyglot-notebook"
    }
   },
   "outputs": [
    {
     "name": "stdout",
     "output_type": "stream",
     "text": [
      "Deleted assistant\n",
      "Deleted assistant\n"
     ]
    }
   ],
   "source": [
    "var assistant = (await client.AssistantList())?.Data?.FirstOrDefault(o => o.Name == \"WebSearchAgentAnt\");\n",
    "if(assistant != null) {\n",
    "    await client.AssistantDelete(assistant.Id);\n",
    "    Console.WriteLine(\"Deleted assistant\");\n",
    "}\n",
    "else\n",
    "{\n",
    "    Console.WriteLine(\"Didn't find WebSearchAgentAnt\");\n",
    "}\n",
    "\n",
    "assistant = (await client.AssistantList())?.Data?.FirstOrDefault(o => o.Name == \"WebPageAgentAnt\");\n",
    "if(assistant != null) {\n",
    "    await client.AssistantDelete(assistant.Id);\n",
    "    Console.WriteLine(\"Deleted assistant\");\n",
    "}\n",
    "else\n",
    "{\n",
    "    Console.WriteLine(\"Didn't find WebSearchAgentAnt\");\n",
    "}"
   ]
  }
 ],
 "metadata": {
  "kernelspec": {
   "display_name": ".NET (C#)",
   "language": "C#",
   "name": ".net-csharp"
  },
  "language_info": {
   "name": "python"
  },
  "polyglot_notebook": {
   "kernelInfo": {
    "defaultKernelName": "csharp",
    "items": [
     {
      "aliases": [],
      "name": "csharp"
     }
    ]
   }
  }
 },
 "nbformat": 4,
 "nbformat_minor": 2
}
