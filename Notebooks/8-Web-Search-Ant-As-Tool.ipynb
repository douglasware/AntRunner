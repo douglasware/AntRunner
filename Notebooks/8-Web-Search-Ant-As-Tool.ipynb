{
 "cells": [
  {
   "cell_type": "markdown",
   "metadata": {},
   "source": [
    "# This notebook requires a deployment named \"gpt-4o\", edit as needed\n",
    "\n",
    "## Web Search Ant As Tool\n",
    "\n",
    "This example demonstrates one ant using another ant as a tool so that the second ant's work is outside the main thread.\n",
    "\n",
    "The **WebSearchAgentAnt** demonstrates the use of a Web API secured using an API key with an auth header. \n",
    "This sample requires you to create a Web Search (bing) resource in Azure and enter its corresponding API key in [0-AI-settings](0-AI-settings.ipynb)\n",
    "\n",
    "WebSearchAgentAnt uses **WebPageAgentAnt** via a tool call to evaluate search results using the search results link.\n",
    "\n",
    "This demo uses a lot of tokens. \n",
    "\n",
    "**If your quota is low, you will get throttled**"
   ]
  },
  {
   "cell_type": "markdown",
   "metadata": {},
   "source": [
    "## First steps\n",
    "- First, download AntRunLib from Nuget\n",
    "- At least once, set up the environment using **[0-AI-settings](0-AI-settings.ipynb)**"
   ]
  },
  {
   "cell_type": "code",
   "execution_count": 1,
   "metadata": {
    "dotnet_interactive": {
     "language": "csharp"
    },
    "polyglot_notebook": {
     "kernelName": "csharp"
    },
    "vscode": {
     "languageId": "polyglot-notebook"
    }
   },
   "outputs": [
    {
     "data": {
      "text/html": [
       "<div><div></div><div></div><div><strong>Installed Packages</strong><ul><li><span>AntRunnerLib, 0.9.0</span></li></ul></div></div>"
      ]
     },
     "metadata": {},
     "output_type": "display_data"
    }
   ],
   "source": [
    "#r \"nuget: AntRunnerLib, 0.9.0\"\n",
    "\n",
    "using AntRunnerLib;\n",
    "using AntRunnerLib.Identity;\n",
    "using static AntRunnerLib.ClientUtility;\n",
    "using System.IO;\n",
    "\n",
    "#!import config/Settings.cs \n",
    "\n",
    "var envVariables = Settings.GetEnvironmentVariables();\n",
    "foreach (var kvp in envVariables)\n",
    "{\n",
    "    Environment.SetEnvironmentVariable(kvp.Key, kvp.Value);\n",
    "}\n",
    "\n",
    "Environment.SetEnvironmentVariable(\"AZURE_OPENAI_DEPLOYMENT\", \"gpt-4o\");\n",
    "\n",
    "var config = AzureOpenAiConfigFactory.Get();\n",
    "var client = GetOpenAiClient(config);\n"
   ]
  },
  {
   "cell_type": "code",
   "execution_count": 2,
   "metadata": {
    "dotnet_interactive": {
     "language": "csharp"
    },
    "polyglot_notebook": {
     "kernelName": "csharp"
    },
    "vscode": {
     "languageId": "polyglot-notebook"
    }
   },
   "outputs": [
    {
     "name": "stdout",
     "output_type": "stream",
     "text": [
      "asst_X6YcmZ3gqjnp2QXV6cdcRU3p\n",
      "asst_T0Ipfsf2wneOXxv25v1u1HBh\n"
     ]
    }
   ],
   "source": [
    "var assistantId = await AssistantUtility.Create(\"WebSearchAgentAnt\", config);\n",
    "Console.WriteLine(assistantId);\n",
    "assistantId = await AssistantUtility.Create(\"WebPageAgentAnt\", config);\n",
    "Console.WriteLine(assistantId);"
   ]
  },
  {
   "cell_type": "code",
   "execution_count": 3,
   "metadata": {
    "dotnet_interactive": {
     "language": "csharp"
    },
    "polyglot_notebook": {
     "kernelName": "csharp"
    },
    "vscode": {
     "languageId": "polyglot-notebook"
    }
   },
   "outputs": [],
   "source": [
    "AntLoader.LoadAssembly(@\".\\AssistantDefinitions\\WebPageAgentAnt\\HtmlAgilityPack.dll\");\n",
    "AntLoader.LoadAssembly(@\".\\AssistantDefinitions\\WebPageAgentAnt\\HtmlAgilityPackExtensions.dll\");"
   ]
  },
  {
   "cell_type": "markdown",
   "metadata": {},
   "source": [
    "## Run the Assistant\n",
    "\n",
    "`output.Dialog` shows the conversation."
   ]
  },
  {
   "cell_type": "code",
   "execution_count": 4,
   "metadata": {
    "dotnet_interactive": {
     "language": "csharp"
    },
    "polyglot_notebook": {
     "kernelName": "csharp"
    },
    "vscode": {
     "languageId": "polyglot-notebook"
    }
   },
   "outputs": [
    {
     "data": {
      "text/markdown": [
       "\n",
       "User: Use python to get todays date and then use it to find things to do in Atlanta today. Be careful to not include events in the past in your final answer.\n",
       "\n",
       "Assistant: I ran this code:\n",
       "```\n",
       "from datetime import datetime\n",
       "\n",
       "# Get today's date\n",
       "today_date = datetime.now().strftime(\"%Y-%m-%d\")\n",
       "today_date\n",
       "```\n",
       "\n",
       "I called the tool named crawl with these arguments:\n",
       "```\n",
       "{\n",
       "  \"q\": \"Things to do in Atlanta on 2024-10-03\",\n",
       "  \"textFormat\": \"Raw\"\n",
       "}\n",
       "```\n",
       "and got this result:\n",
       "```\n",
       "{\"queryContext\":{\"originalQuery\":\"Things to do in Atlanta on 2024-10-03\"},\"webPages\":{\"value\":[{\"name\":\"Atlanta Events - October 2024 - Go South Atlanta\",\"url\":\"https://gosouthatlanta.com/things-to-do/events/atlanta-in-october.html\",\"displayUrl\":\"https://gosouthatlanta.com/things-to-do/events/atlanta-in-october.html\",\"snippet\":\"Things to do in Atlanta, GA in October, including upcoming festivals, fall and Halloween events, Pride events, comedy, musicals, plays, races, conventions ...\",\"cachedPageUrl\":\"http://cc.bingj.com/cache.aspx?q=Things\\u002Bto\\u002Bdo\\u002Bin\\u002BAtlanta\\u002Bon\\u002B2024-10-03\\u0026d=4907344191957257\\u0026mkt=en-US\\u0026setlang=en-US\\u0026w=gk2PwJ4MGAK3mkDLUvcm_m1afK8iBTpt\"},{\"name\":\"Atlanta Events October 2024: Concerts, Shows, Sports...\",\"url\":\"https://atlanta-ga.events/october/\",\"displayUrl\":\"https://atlanta-ga.events/october\",\"snippet\":\"Check Out The Atlanta Events Calendar for October 2024: Current \\u0026 Upcoming Events \\u002B Best \\u0026 Fun Thing To Do in the City.\",\"cachedPageUrl\":\"http://cc.bingj.com/cache.aspx?q=Things\\u002Bto\\u002Bdo\\u002Bin\\u002BAtlanta\\u002Bon\\u002B2024-10-03\\u0026d=4898908883932841\\u0026mkt=en-US\\u0026setlang=en-US\\u0026w=t-7sQmKPkPazxHogtJy0oBuKycEPAm_-\"},{\"name\":\"33 Best Things to Do in Atlanta October 2024 with Kids - MSN\",\"url\":\"https://www.msn.com/en-us/travel/tripideas/33-best-things-to-do-in-atlanta-october-2024-with-kids/ar-AA1rpsNP\",\"displayUrl\":\"https://www.msn.com/.../33-best-things-to-do-in-atlanta-october-2024-with-kids/ar-AA1rpsNP\",\"snippet\":\"Oktoberfest in Helen Helen. Through Sunday, October 27, 2024. Head north about 1.5 hours to join the German celebration in Helen for its 53rd year.\"},{\"name\":\"THE 15 BEST Things to Do in Atlanta (2024) - Tripadvisor\",\"url\":\"https://www.tripadvisor.com/Attractions-g60898-Activities-Atlanta_Georgia.html\",\"displayUrl\":\"https://www.tripadvisor.com/Attractions-g60898\",\"snippet\":\"Things to Do in Atlanta, Georgia: See Tripadvisor\\u0027s 475,622 traveler reviews and photos of Atlanta tourist attractions. Find what to do today, this weekend, or in October. We have reviews of the best places to see in Atlanta. Visit top-rated \\u0026 must-see attractions.\",\"cachedPageUrl\":\"http://cc.bingj.com/cache.aspx?q=Things\\u002Bto\\u002Bdo\\u002Bin\\u002BAtlanta\\u002Bon\\u002B2024-10-03\\u0026d=4522996157713776\\u0026mkt=en-US\\u0026setlang=en-US\\u0026w=B123HWEJmKgI0g_BICzUUE092xyTtSjJ\"},{\"name\":\"Explore Atlanta Events for Today, This Week or Weekend\",\"url\":\"https://discoveratlanta.com/events/main/\",\"displayUrl\":\"https://discoveratlanta.com/events/m\",\"snippet\":\"Search the Atlanta events calendar below or explore our annual festivals and seasonal events taking place throughout the year. If you\\u2019re in ATL now, make sure you see what\\u2019s happening today, this week and find things to do this weekend so you don\\u2019t miss any one-of-a-kind Atlanta events. Venues and event organizers, submit events here.\",\"cachedPageUrl\":\"http://cc.bingj.com/cache.aspx?q=Things\\u002Bto\\u002Bdo\\u002Bin\\u002BAtlanta\\u002Bon\\u002B2024-10-03\\u0026d=4819881477614541\\u0026mkt=en-US\\u0026setlang=en-US\\u0026w=cQIKbv56z1uP1GMx_bJv9FTM8ziERJGY\",\"thumbnailUrl\":\"https://www.bing.com/th?id=OIP.FkxSV6JbrWatsFMM3_8dIAHaEh\\u0026w=80\\u0026h=80\\u0026c=1\\u0026pid=5.1\"},{\"name\":\"35\\u002B Best Things to Do in Atlanta in 2024 - Unexpected Atlanta\",\"url\":\"https://unexpectedatlanta.com/best-things-to-do-in-atlanta/\",\"displayUrl\":\"https://unexpectedatlanta.com/best-things-to-do-in-atlanta\",\"snippet\":\"Looking for the best things to do in Atlanta in 2024? Find fun, safe ideas for everyone in the family! These are 2024\\u0027s must-do activities.\",\"cachedPageUrl\":\"http://cc.bingj.com/cache.aspx?q=Things\\u002Bto\\u002Bdo\\u002Bin\\u002BAtlanta\\u002Bon\\u002B2024-10-03\\u0026d=4885792048087312\\u0026mkt=en-US\\u0026setlang=en-US\\u0026w=UWMF4npb9HKtzRRUG028yHS95G2gOIKx\"},{\"name\":\"Cool Things To Do in October in Atlanta\",\"url\":\"https://discoveratlanta.com/stories/things-to-do/cool-things-to-do-in-october-in-atlanta/\",\"displayUrl\":\"https://discoveratlanta.com/stories/things-to-do/cool-things-to-do-in-october-in-atlanta\",\"snippet\":\"October brings lots of cool things to do in Atlanta, and Halloween is just one.\",\"cachedPageUrl\":\"http://cc.bingj.com/cache.aspx?q=Things\\u002Bto\\u002Bdo\\u002Bin\\u002BAtlanta\\u002Bon\\u002B2024-10-03\\u0026d=4714289709671445\\u0026mkt=en-US\\u0026setlang=en-US\\u0026w=uP6_4hpqL9Zfz-dx9C91WDDECk49pD7V\",\"thumbnailUrl\":\"https://www.bing.com/th?id=OIP.4jf9xqKu3QRk_XhZ3J7DYQHaD4\\u0026w=80\\u0026h=80\\u0026c=1\\u0026pid=5.1\"},{\"name\":\"Things to Do in Atlanta in 2024: Events, festivals, and exhibits ...\",\"url\":\"https://www.thrillist.com/events/atlanta/events-calendar-in-atlanta-this-year\",\"displayUrl\":\"https://www.thrillist.com/events/atlanta/events-calendar-in-atlanta-this-year\",\"snippet\":\"23 Things You Have to Do in Atlanta This Year, From One Musicfest to Homecoming Make plans to attend these annual events in Atlanta that keep the party going all year.\",\"thumbnailUrl\":\"https://www.bing.com/th?id=OIP.WUHCPl7_RpepE3pSEdAEMgHaE8\\u0026w=80\\u0026h=80\\u0026c=1\\u0026pid=5.1\"},{\"name\":\"THE 15 BEST Things to Do in Atlanta (2024) - Tripadvisor\",\"url\":\"https://www.tripadvisor.com/Attractions-g60898-Activities-zfr7917665-Atlanta_Georgia.html\",\"displayUrl\":\"https://www.tripadvisor.com/Attractions-g60898-Activities-zfr7917665-Atlanta_Georgia.html\",\"snippet\":\"Things to Do in Atlanta, Georgia: See Tripadvisor\\u0027s 475,527 traveler reviews and photos of Atlanta tourist attractions. Find what to do today, this weekend, or in October. We have reviews of the best places to see in Atlanta. Visit top-rated \\u0026 must-see attractions.\",\"cachedPageUrl\":\"http://cc.bingj.com/cache.aspx?q=Things\\u002Bto\\u002Bdo\\u002Bin\\u002BAtlanta\\u002Bon\\u002B2024-10-03\\u0026d=4999832017579678\\u0026mkt=en-US\\u0026setlang=en-US\\u0026w=aJsbstGA5Y_hqWtUQWQStMnnppmx6J8T\"},{\"name\":\"Discover Atlanta\\u2019s Anticipated 2024 Highlights\",\"url\":\"https://discoveratlanta.com/stories/things-to-do/discover-atlantas-anticipated-2024-highlights/\",\"displayUrl\":\"https://discoveratlanta.com/stories/things-to-do/discover-atlantas-anticipated-2024...\",\"snippet\":\"Signia by Hilton Atlanta, the city\\u2019s largest Downtown, ground-up hotel development in 40 years, opens in January 2024. The hotel\\u2019s eight food and beverages offerings center around Georgia\\u2019s Southern history. The 976-room hotel will introduce a three full-service restaurants and three bars. Highlights include Capolinea, an Italian-inspired ...\",\"cachedPageUrl\":\"http://cc.bingj.com/cache.aspx?q=Things\\u002Bto\\u002Bdo\\u002Bin\\u002BAtlanta\\u002Bon\\u002B2024-10-03\\u0026d=4857986426481375\\u0026mkt=en-US\\u0026setlang=en-US\\u0026w=qmKqKG0P_cihKFLxyKuuI5OkHPywlqtk\",\"thumbnailUrl\":\"https://www.bing.com/th?id=OIP.3Ek-SE8inqMg2SLHb7iNDgHaD4\\u0026w=80\\u0026h=80\\u0026c=1\\u0026pid=5.1\"}]}}\n",
       "```\n",
       "\n",
       "I called the tool named ExtractContentFromUrl with these arguments:\n",
       "```\n",
       "{\"assistantName\": \"WebPageAgentAnt\", \"instructions\": \"List things to do in Atlanta on 2024-10-03 from this page. https://gosouthatlanta.com/things-to-do/events/atlanta-in-october.html\"}\n",
       "```\n",
       "and got this result:\n",
       "```\n",
       "\"Here are some things to do in Atlanta on October 3, 2024:\\n\\n1. **Disney\\u2019s The Lion King**\\n   - Musical at the Fox Theatre\\n   - More details: [Fox Theatre](https://www.foxtheatre.org/)\\n\\nFor more events around that date, check the full list [here](https://gosouthatlanta.com/things-to-do/events/atlanta-in-october.html).\"\n",
       "```\n",
       "\n",
       "I called the tool named ExtractContentFromUrl with these arguments:\n",
       "```\n",
       "{\"assistantName\": \"WebPageAgentAnt\", \"instructions\": \"List things to do in Atlanta on 2024-10-03 from this page. https://atlanta-ga.events/october/\"}\n",
       "```\n",
       "and got this result:\n",
       "```\n",
       "\"Here are the events happening in Atlanta on October 3, 2024:\\n\\n1. **The Slaps**\\n   - **Location:** Altar at Masquerade - GA, 75 MLK Jr Dr SW, Atlanta, GA, US\\n   - **Time:** 7:00 PM\\n   - **Prices:** From $29 (Avg. price ~ $33)\\n   - **[Tickets](https://atlanta-ga.events/tickets/the-slaps/)**\\n\\n2. **Sepultura**\\n   - **Location:** Buckhead Theatre, 3110 Roswell Road, Atlanta, GA, US\\n   - **Time:** 7:00 PM\\n   - **Prices:** From $50 (Avg. price ~ $85)\\n   - **[Tickets](https://atlanta-ga.events/tickets/sepultura/)**\\n\\n3. **La Luz**\\n   - **Location:** Purgatory Stage at Masquerade - GA, 75 MLK Jr Dr SW, Atlanta, GA, US\\n   - **Time:** 7:00 PM\\n   - **Prices:** From $31 (Avg. price ~ $39)\\n   - **[Tickets](https://atlanta-ga.events/tickets/la-luz/)**\\n\\n4. **The Marley Brothers**\\n   - **Location:** Lakewood Amphitheatre, 2002 Lakewood Avenue Southeast, Atlanta, GA, US\\n   - **Time:** 7:30 PM\\n   - **Prices:** From $33 (Avg. price ~ $162)\\n   - **[Tickets](https://atlanta-ga.events/tickets/the-marley-brothers/)**\\n\\n5. **Charli XCX \\u0026 Troye Sivan**\\n   - **Location:** State Farm Arena - GA, One Philips Drive, Atlanta, GA, US\\n   - **Time:** 7:30 PM\\n   - **Prices:** From $93 (Avg. price ~ $263)\\n   - **[Tickets for Charli XCX](https://atlanta-ga.events/tickets/charli-xcx/)**\\n   - **[Tickets for Troye Sivan](https://atlanta-ga.events/tickets/troye-sivan/)**\\n\\n6. **The Lion King**\\n   - **Location:** Fabulous Fox Theatre - Atlanta, 660 Peachtree St NE, Atlanta, GA, US\\n   - **Time:** 7:30 PM\\n   - **Prices:** From $68 (Avg. price ~ $138)\\n   - **[Tickets](https://atlanta-ga.events/tickets/the-lion-king/)**\\n\\n7. **Johnny Marr**\\n   - **Location:** The Eastern - GA, 800 Old Flat Shoals Road SE, Atlanta, GA, US\\n   - **Time:** 8:00 PM\\n   - **Prices:** From $73 (Avg. price ~ $136)\\n   - **[Tickets](https://atlanta-ga.events/tickets/johnny-marr/)**\\n\\n8. **Will Burkart**\\n   - **Location:** City Winery - Atlanta, 675 Ponce De Leon Ave, Atlanta, GA, US\\n   - **Time:** 8:00 PM\\n   - **Prices:** From $49 (Avg. price ~ $79)\\n   - **[Tickets](https://atlanta-ga.events/tickets/will-burkart/)**\\n\\n9. **Horse Jumper of Love**\\n   - **Location:** Aisle 5, 1123 Euclid Ave Ne, Atlanta, GA, US\\n   - **Time:** 8:00 PM\\n   - **Prices:** From $31 (Avg. price ~ $56)\\n   - **[Tickets](https://atlanta-ga.events/tickets/horse-jumper-of-love/)**\\n\\n10. **MJ Lenderman and The Wind**\\n    - **Location:** Terminal West At King Plow Arts Center, 887 West Marietta Studio C, Atlanta, GA, US\\n    - **Time:** 8:00 PM\\n    - **Prices:** From $29 (Avg. price ~ $37)\\n    - **[Tickets](https://atlanta-ga.events/tickets/mj-lenderman/)**\\n\\n11. **Elle King**\\n    - **Location:** The Tabernacle - GA, 152 Luckie St, Atlanta, GA, US\\n    - **Time:** 8:00 PM\\n    - **Prices:** From $21 (Avg. price ~ $86)\\n    - **[Tickets](https://atlanta-ga.events/tickets/elle-king/)**\\n\\n12. **vaultboy**\\n    - **Location:** Vinyl - GA, 1374 West Peachtree Street, Atlanta, GA, US\\n    - **Time:** 8:00 PM\\n    - **Prices:** From $18 (Avg. price ~ $29)\\n    - **[Tickets](https://atlanta-ga.events/tickets/vaultboy/)**\\n\\n13. **Atlanta Falcons vs. Tampa Bay Buccaneers**\\n    - **Location:** Mercedes-Benz Stadium, Martin Luther King Jr Dr SW \\u0026 Northside Dr NW, Atlanta, GA, US\\n    - **Time:** 8:15 PM\\n    - **Prices:** From $42 (Avg. price ~ $160)\\n    - **[Tickets](https://atlanta-ga.events/tickets/atlanta-falcons/)**\\n\\n14. **Fozzy**\\n    - **Location:** Madlife Stage \\u0026 Studios, 8722 Main st., Woodstock, GA, US\\n    - **Time:** 8:30 PM\\n    - **Prices:** From $85 (Avg. price ~ $124)\\n    - **[Tickets](https://atlanta-ga.events/tickets/fozzy/)**\\n\\nEnjoy your time in Atlanta!\"\n",
       "```\n",
       "\n",
       "I called the tool named ExtractContentFromUrl with these arguments:\n",
       "```\n",
       "{\"assistantName\": \"WebPageAgentAnt\", \"instructions\": \"List things to do in Atlanta on 2024-10-03 from this page. https://www.msn.com/en-us/travel/tripideas/33-best-things-to-do-in-atlanta-october-2024-with-kids/ar-AA1rpsNP\"}\n",
       "```\n",
       "and got this result:\n",
       "```\n",
       "\"The information was not found in the page.\"\n",
       "```\n",
       "\n",
       "I called the tool named ExtractContentFromUrl with these arguments:\n",
       "```\n",
       "{\"assistantName\": \"WebPageAgentAnt\", \"instructions\": \"List things to do in Atlanta on 2024-10-03 from this page. https://www.tripadvisor.com/Attractions-g60898-Activities-Atlanta_Georgia.html\"}\n",
       "```\n",
       "and got this result:\n",
       "```\n",
       "\"I am unable to access the page due to a restriction (403 Forbidden). Please provide an alternative URL or check the page\\u0027s accessibility settings.\"\n",
       "```\n",
       "\n",
       "I called the tool named ExtractContentFromUrl with these arguments:\n",
       "```\n",
       "{\"assistantName\": \"WebPageAgentAnt\", \"instructions\": \"List things to do in Atlanta on 2024-10-03 from this page. https://discoveratlanta.com/events/main/\"}\n",
       "```\n",
       "and got this result:\n",
       "```\n",
       "\"Here are some events happening in Atlanta on October 3, 2024:\\n\\n1. **2024 Lillian Smith Book Awards**\\n   - Category: Literary\\n   - [More Info](https://discoveratlanta.com/event/detail/2024-lillian-smith-book-awards/)\\n\\n2. **Falcons vs Buccaneer Watch Party**\\n   - Category: Sports\\n   - [More Info](https://discoveratlanta.com/event/detail/falcons-vs-buccaneer-watch-party/)\\n\\n3. **Sketchy Show \\u2013 Sketch Comedy fun!**\\n   - Category: Comedy\\n   - Recurs every Thursday until October 24, 2024\\n   - [More Info](https://discoveratlanta.com/event/detail/sketchy-show-sketch-comedy-fun/)\\n\\n4. **Howls Moving Castle screening at Aurora Cineplex**\\n   - Category: Film\\n   - Date: October 2, 2024, to October 3, 2024\\n   - [More Info](https://discoveratlanta.com/event/detail/howls-moving-castle-screening-at-aurora-cineplex/)\\n\\n5. **F.A.C.E. Fulton County: Fulton County NAP Exhibit**\\n   - Category: Visual Arts \\u0026 Galleries\\n   - Date: October 2, 2024, to October 25, 2024\\n   - [More Info](https://discoveratlanta.com/event/detail/f-a-c-e-fulton-county-fulton-county-nap-exhibit/)\\n\\n6. **A Haunted Lake Lanier Experience**\\n   - Category: Other Activities\\n   - Date: October 2, 2024, to October 31, 2024\\n   - [More Info](https://discoveratlanta.com/event/detail/a-haunted-lake-lanier-experience/)\\n\\n7. **Daddy Long Legs**\\n   - Category: Theater \\u0026 Performing Arts\\n   - Date: October 2, 2024, to October 6, 2024\\n   - [More Info](https://discoveratlanta.com/event/detail/daddy-long-legs/)\\n\\n8. **Sangria n\\u2019 Scents DIY Candle Workshop**\\n   - Category: Other Activities\\n   - Date: October 2, 2024, to October 19, 2024\\n   - [More Info](https://discoveratlanta.com/event/detail/sangria-n-scents-diy-candle-workshop-2/)\\n\\n9. **Face Your Fears at NETHERWORLD Haunted House!**\\n   - Category: Museums \\u0026 Attractions\\n   - Date: October 2, 2024, to November 9, 2024\\n   - [More Info](https://discoveratlanta.com/event/detail/face-your-fears-at-netherworld-haunted-house/)\\n\\n10. **Scary Movies at The Strand: Scream (1996)**\\n    - Category: Film\\n    - [More Info](https://discoveratlanta.com/event/detail/scary-movies-at-the-strand-scream-1996/)\\n\\n11. **WABE Pints \\u0026 Politics Trivia Night**\\n    - Category: Other Activities\\n    - [More Info](https://discoveratlanta.com/event/detail/wabe-pints-politics-trivia-night/)\\n\\n12. **Navigating Youth Sports Today As Parents (Free)**\\n    - Category: Education \\u0026 Lectures\\n    - [More Info](https://discoveratlanta.com/event/detail/navigating-youth-sports-today-as-parents-free/)\\n\\nFor additional information or more events, you can visit the [Discover Atlanta Events Page](https://discoveratlanta.com/events/all/?date_sort=today).\"\n",
       "```\n",
       "\n",
       "Here are some exciting events and activities happening in Atlanta on October 3, 2024:\n",
       "\n",
       "### Concerts and Shows:\n",
       "1. **Disney’s The Lion King**\n",
       "   - **Location:** Fox Theatre\n",
       "   - **Time:** 7:30 PM\n",
       "   - **More details:** [Fox Theatre](https://www.foxtheatre.org/)\n",
       "\n",
       "2. **The Slaps**\n",
       "   - **Location:** Altar at Masquerade - GA, 75 MLK Jr Dr SW, Atlanta, GA\n",
       "   - **Time:** 7:00 PM\n",
       "   - **Prices:** From $29\n",
       "   - **[Tickets](https://atlanta-ga.events/tickets/the-slaps/)**\n",
       "\n",
       "3. **Sepultura**\n",
       "   - **Location:** Buckhead Theatre, 3110 Roswell Road, Atlanta, GA\n",
       "   - **Time:** 7:00 PM\n",
       "   - **Prices:** From $50\n",
       "   - **[Tickets](https://atlanta-ga.events/tickets/sepultura/)**\n",
       "\n",
       "4. **La Luz**\n",
       "   - **Location:** Purgatory Stage at Masquerade - GA, 75 MLK Jr Dr SW, Atlanta, GA\n",
       "   - **Time:** 7:00 PM\n",
       "   - **Prices:** From $31\n",
       "   - **[Tickets](https://atlanta-ga.events/tickets/la-luz/)**\n",
       "\n",
       "5. **The Marley Brothers**\n",
       "   - **Location:** Lakewood Amphitheatre, 2002 Lakewood Avenue Southeast, Atlanta, GA\n",
       "   - **Time:** 7:30 PM\n",
       "   - **Prices:** From $33\n",
       "   - **[Tickets](https://atlanta-ga.events/tickets/the-marley-brothers/)**\n",
       "\n",
       "6. **Charli XCX & Troye Sivan**\n",
       "   - **Location:** State Farm Arena - GA, One Philips Drive, Atlanta, GA\n",
       "   - **Time:** 7:30 PM\n",
       "   - **Prices:** From $93\n",
       "   - **[Tickets for Charli XCX](https://atlanta-ga.events/tickets/charli-xcx/), [Tickets for Troye Sivan](https://atlanta-ga.events/tickets/troye-sivan/)**\n",
       "\n",
       "7. **Johnny Marr**\n",
       "   - **Location:** The Eastern - GA, 800 Old Flat Shoals Road SE, Atlanta, GA\n",
       "   - **Time:** 8:00 PM\n",
       "   - **Prices:** From $73\n",
       "   - **[Tickets](https://atlanta-ga.events/tickets/johnny-marr/)**\n",
       "\n",
       "### Sports:\n",
       "8. **Atlanta Falcons vs. Tampa Bay Buccaneers**\n",
       "   - **Location:** Mercedes-Benz Stadium, Martin Luther King Jr Dr SW & Northside Dr NW, Atlanta, GA\n",
       "   - **Time:** 8:15 PM\n",
       "   - **Prices:** From $42\n",
       "   - **[Tickets](https://atlanta-ga.events/tickets/atlanta-falcons/)**\n",
       "\n",
       "### Festivals and Special Events:\n",
       "9. **2024 Lillian Smith Book Awards**\n",
       "   - **Category:** Literary\n",
       "   - **[More Info](https://discoveratlanta.com/event/detail/2024-lillian-smith-book-awards/)**\n",
       "\n",
       "10. **Falcons vs Buccaneer Watch Party**\n",
       "    - **Category:** Sports\n",
       "    - **[More Info](https://discoveratlanta.com/event/detail/falcons-vs-buccaneer-watch-party/)**\n",
       "\n",
       "11. **Sketchy Show – Sketch Comedy fun!**\n",
       "    - **Category:** Comedy\n",
       "    - **More Info:** Recurs every Thursday until October 24, 2024\n",
       "    - **[More Info](https://discoveratlanta.com/event/detail/sketchy-show-sketch-comedy-fun/)**\n",
       "\n",
       "12. **Howl's Moving Castle Screening at Aurora Cineplex**\n",
       "    - **Category:** Film\n",
       "    - **Date:** October 2, 2024, to October 3, 2024\n",
       "    - **[More Info](https://discoveratlanta.com/event/detail/howls-moving-castle-screening-at-aurora-cineplex/)**\n",
       "\n",
       "13. **A Haunted Lake Lanier Experience**\n",
       "    - **Category:** Other Activities\n",
       "    - **Date:** October 2, 2024, to October 31, 2024\n",
       "    - **[More Info](https://discoveratlanta.com/event/detail/a-haunted-lake-lanier-experience/)**\n",
       "\n",
       "14. **Face Your Fears at NETHERWORLD Haunted House!**\n",
       "    - **Category:** Museums & Attractions\n",
       "    - **Date:** October 2, 2024, to November 9, 2024\n",
       "    - **[More Info](https://discoveratlanta.com/event/detail/face-your-fears-at-netherworld-haunted-house/)**\n",
       "\n",
       "15. **Scary Movies at The Strand: Scream (1996)**\n",
       "    - **Category:** Film\n",
       "    - **[More Info](https://discoveratlanta.com/event/detail/scary-movies-at-the-strand-scream-1996/)**\n",
       "\n",
       "Enjoy your time in Atlanta!\n",
       "\n",
       "### Source Links:\n",
       "- [Go South Atlanta](https://gosouthatlanta.com/things-to-do/events/atlanta-in-october.html)\n",
       "- [Atlanta GA Events](https://atlanta-ga.events/october/)\n",
       "- [Discover Atlanta](https://discoveratlanta.com/events/main/)\n"
      ]
     },
     "metadata": {},
     "output_type": "display_data"
    }
   ],
   "source": [
    "var assistantRunOptions = new AssistantRunOptions() {\n",
    "    AssistantName = \"WebSearchAgentAnt\",\n",
    "    Instructions = \"Use python to get todays date and then use it to find things to do in Atlanta today. Be careful to not include events in the past in your final answer.\",\n",
    "};\n",
    "var output = await AntRunnerLib.AssistantRunner.RunThread(assistantRunOptions, config);\n",
    "output.Dialog.DisplayAs(\"text/markdown\");"
   ]
  },
  {
   "cell_type": "code",
   "execution_count": 5,
   "metadata": {
    "dotnet_interactive": {
     "language": "csharp"
    },
    "polyglot_notebook": {
     "kernelName": "csharp"
    },
    "vscode": {
     "languageId": "polyglot-notebook"
    }
   },
   "outputs": [
    {
     "data": {
      "text/markdown": [
       "Here are some exciting events and activities happening in Atlanta on October 3, 2024:\n",
       "\n",
       "### Concerts and Shows:\n",
       "1. **Disney’s The Lion King**\n",
       "   - **Location:** Fox Theatre\n",
       "   - **Time:** 7:30 PM\n",
       "   - **More details:** [Fox Theatre](https://www.foxtheatre.org/)\n",
       "\n",
       "2. **The Slaps**\n",
       "   - **Location:** Altar at Masquerade - GA, 75 MLK Jr Dr SW, Atlanta, GA\n",
       "   - **Time:** 7:00 PM\n",
       "   - **Prices:** From $29\n",
       "   - **[Tickets](https://atlanta-ga.events/tickets/the-slaps/)**\n",
       "\n",
       "3. **Sepultura**\n",
       "   - **Location:** Buckhead Theatre, 3110 Roswell Road, Atlanta, GA\n",
       "   - **Time:** 7:00 PM\n",
       "   - **Prices:** From $50\n",
       "   - **[Tickets](https://atlanta-ga.events/tickets/sepultura/)**\n",
       "\n",
       "4. **La Luz**\n",
       "   - **Location:** Purgatory Stage at Masquerade - GA, 75 MLK Jr Dr SW, Atlanta, GA\n",
       "   - **Time:** 7:00 PM\n",
       "   - **Prices:** From $31\n",
       "   - **[Tickets](https://atlanta-ga.events/tickets/la-luz/)**\n",
       "\n",
       "5. **The Marley Brothers**\n",
       "   - **Location:** Lakewood Amphitheatre, 2002 Lakewood Avenue Southeast, Atlanta, GA\n",
       "   - **Time:** 7:30 PM\n",
       "   - **Prices:** From $33\n",
       "   - **[Tickets](https://atlanta-ga.events/tickets/the-marley-brothers/)**\n",
       "\n",
       "6. **Charli XCX & Troye Sivan**\n",
       "   - **Location:** State Farm Arena - GA, One Philips Drive, Atlanta, GA\n",
       "   - **Time:** 7:30 PM\n",
       "   - **Prices:** From $93\n",
       "   - **[Tickets for Charli XCX](https://atlanta-ga.events/tickets/charli-xcx/), [Tickets for Troye Sivan](https://atlanta-ga.events/tickets/troye-sivan/)**\n",
       "\n",
       "7. **Johnny Marr**\n",
       "   - **Location:** The Eastern - GA, 800 Old Flat Shoals Road SE, Atlanta, GA\n",
       "   - **Time:** 8:00 PM\n",
       "   - **Prices:** From $73\n",
       "   - **[Tickets](https://atlanta-ga.events/tickets/johnny-marr/)**\n",
       "\n",
       "### Sports:\n",
       "8. **Atlanta Falcons vs. Tampa Bay Buccaneers**\n",
       "   - **Location:** Mercedes-Benz Stadium, Martin Luther King Jr Dr SW & Northside Dr NW, Atlanta, GA\n",
       "   - **Time:** 8:15 PM\n",
       "   - **Prices:** From $42\n",
       "   - **[Tickets](https://atlanta-ga.events/tickets/atlanta-falcons/)**\n",
       "\n",
       "### Festivals and Special Events:\n",
       "9. **2024 Lillian Smith Book Awards**\n",
       "   - **Category:** Literary\n",
       "   - **[More Info](https://discoveratlanta.com/event/detail/2024-lillian-smith-book-awards/)**\n",
       "\n",
       "10. **Falcons vs Buccaneer Watch Party**\n",
       "    - **Category:** Sports\n",
       "    - **[More Info](https://discoveratlanta.com/event/detail/falcons-vs-buccaneer-watch-party/)**\n",
       "\n",
       "11. **Sketchy Show – Sketch Comedy fun!**\n",
       "    - **Category:** Comedy\n",
       "    - **More Info:** Recurs every Thursday until October 24, 2024\n",
       "    - **[More Info](https://discoveratlanta.com/event/detail/sketchy-show-sketch-comedy-fun/)**\n",
       "\n",
       "12. **Howl's Moving Castle Screening at Aurora Cineplex**\n",
       "    - **Category:** Film\n",
       "    - **Date:** October 2, 2024, to October 3, 2024\n",
       "    - **[More Info](https://discoveratlanta.com/event/detail/howls-moving-castle-screening-at-aurora-cineplex/)**\n",
       "\n",
       "13. **A Haunted Lake Lanier Experience**\n",
       "    - **Category:** Other Activities\n",
       "    - **Date:** October 2, 2024, to October 31, 2024\n",
       "    - **[More Info](https://discoveratlanta.com/event/detail/a-haunted-lake-lanier-experience/)**\n",
       "\n",
       "14. **Face Your Fears at NETHERWORLD Haunted House!**\n",
       "    - **Category:** Museums & Attractions\n",
       "    - **Date:** October 2, 2024, to November 9, 2024\n",
       "    - **[More Info](https://discoveratlanta.com/event/detail/face-your-fears-at-netherworld-haunted-house/)**\n",
       "\n",
       "15. **Scary Movies at The Strand: Scream (1996)**\n",
       "    - **Category:** Film\n",
       "    - **[More Info](https://discoveratlanta.com/event/detail/scary-movies-at-the-strand-scream-1996/)**\n",
       "\n",
       "Enjoy your time in Atlanta!\n",
       "\n",
       "### Source Links:\n",
       "- [Go South Atlanta](https://gosouthatlanta.com/things-to-do/events/atlanta-in-october.html)\n",
       "- [Atlanta GA Events](https://atlanta-ga.events/october/)\n",
       "- [Discover Atlanta](https://discoveratlanta.com/events/main/)"
      ]
     },
     "metadata": {},
     "output_type": "display_data"
    }
   ],
   "source": [
    "output.LastMessage.DisplayAs(\"text/markdown\");"
   ]
  },
  {
   "cell_type": "code",
   "execution_count": 6,
   "metadata": {
    "dotnet_interactive": {
     "language": "csharp"
    },
    "polyglot_notebook": {
     "kernelName": "csharp"
    },
    "vscode": {
     "languageId": "polyglot-notebook"
    }
   },
   "outputs": [
    {
     "data": {
      "text/markdown": [
       "\n",
       "User: Use python to get todays date and then use it to find things to do in Atlanta for each of the next four weekends with pictures and correct links from ExtractContentFromUrl.\n",
       "\n",
       "When choosing links for crawl to evaluate with ExtractContentFromUrl choose a variety of hosts for urls from which you extract content. Limit your use of ExtractContentFromUrl to five calls or less. Do not make the error of including the url as a parameter, it must be inside 'instructions' as indicated by the tool definition. Be careful to not include events in the past in your final answer. You should perform four searches at once.\n",
       "Don't forget to include valid links!\n",
       "\n",
       "Assistant: I ran this code:\n",
       "```\n",
       "from datetime import datetime, timedelta\n",
       "\n",
       "# Get today's date\n",
       "today = datetime.today()\n",
       "\n",
       "# Calculate the dates for the next four weekends (Saturday)\n",
       "weekends = [(today + timedelta(days=(5-today.weekday() + i*7))).strftime('%Y-%m-%d') for i in range(4)]\n",
       "weekends\n",
       "```\n",
       "\n",
       "I called the tool named crawl with these arguments:\n",
       "```\n",
       "{\"q\": \"things to do in Atlanta on 2024-10-05\", \"textFormat\": \"Raw\"}\n",
       "```\n",
       "and got this result:\n",
       "```\n",
       "{\"queryContext\":{\"originalQuery\":\"things to do in Atlanta on 2024-10-05\"},\"webPages\":{\"value\":[{\"name\":\"Atlanta Events October 2024: Concerts, Shows, Sports...\",\"url\":\"https://atlanta-ga.events/october/\",\"displayUrl\":\"https://atlanta-ga.events/october\",\"snippet\":\"Explore our comprehensive calendar for all the current and upcoming events in Atlanta, GA, for October 2024. This guide is your gateway to discovering the best things to do in Atlanta, from Concerts and Theater Shows to Sports events and music festivals. You\\u2019ll find a detailed list of all the most engaging and exciting activities happening throughout the month.\",\"cachedPageUrl\":\"http://cc.bingj.com/cache.aspx?q=things\\u002Bto\\u002Bdo\\u002Bin\\u002BAtlanta\\u002Bon\\u002B2024-10-05\\u0026d=4898908883932841\\u0026mkt=en-US\\u0026setlang=en-US\\u0026w=t-7sQmKPkPazxHogtJy0oBuKycEPAm_-\"},{\"name\":\"33 Best Things to Do in Atlanta October 2024 with Kids - MSN\",\"url\":\"https://www.msn.com/en-us/travel/tripideas/33-best-things-to-do-in-atlanta-october-2024-with-kids/ar-AA1rpsNP\",\"displayUrl\":\"https://www.msn.com/.../33-best-things-to-do-in-atlanta-october-2024-with-kids/ar-AA1rpsNP\",\"snippet\":\"Oktoberfest in Helen Helen. Through Sunday, October 27, 2024. Head north about 1.5 hours to join the German celebration in Helen for its 53rd year.\"},{\"name\":\"Explore Atlanta Events for Today, This Week or Weekend - Discover Atlanta\",\"url\":\"https://discoveratlanta.com/events/main/\",\"displayUrl\":\"https://discoveratlanta.com/events/m\",\"snippet\":\"Explore the Atlanta events calendar for things to do today, this week or this weekend. Find upcoming festivals, seasonal events and more! ... Venture Atlanta 2024 10/8/24 \\u2013 10/9/24. Atlanta miniFEST 10/9/24 \\u2013 10/10/24. Geology Walk and Talk 10/9/24. ... October 05. Saturday. Big Green Egg \\u201CEGGtoberfest\\u201D: Celebrating 50 Years 10/5/24 ...\",\"cachedPageUrl\":\"http://cc.bingj.com/cache.aspx?q=things\\u002Bto\\u002Bdo\\u002Bin\\u002BAtlanta\\u002Bon\\u002B2024-10-05\\u0026d=4819881477614541\\u0026mkt=en-US\\u0026setlang=en-US\\u0026w=cQIKbv56z1uP1GMx_bJv9FTM8ziERJGY\",\"thumbnailUrl\":\"https://www.bing.com/th?id=OIP.FkxSV6JbrWatsFMM3_8dIAHaEh\\u0026w=80\\u0026h=80\\u0026c=1\\u0026pid=5.1\"},{\"name\":\"Cool Things To Do in October in Atlanta\",\"url\":\"https://discoveratlanta.com/stories/things-to-do/cool-things-to-do-in-october-in-atlanta/\",\"displayUrl\":\"https://discoveratlanta.com/stories/things-to-do/cool-things-to-do-in-october-in-atlanta\",\"snippet\":\"Corn Dogs, Rides and Whack a Mole. The Atlanta Fair brings the best of a traditional fair to Atlanta with everything from cotton candy, a Ferris wheel, fishing for goldfish, a tilt-a-whirl and a carousel. The fair, located across from the Georgia State University Stadium, will be in town Oct. 4-Nov. 3.\",\"cachedPageUrl\":\"http://cc.bingj.com/cache.aspx?q=things\\u002Bto\\u002Bdo\\u002Bin\\u002BAtlanta\\u002Bon\\u002B2024-10-05\\u0026d=4714289709671445\\u0026mkt=en-US\\u0026setlang=en-US\\u0026w=uP6_4hpqL9Zfz-dx9C91WDDECk49pD7V\",\"thumbnailUrl\":\"https://www.bing.com/th?id=OIP.4jf9xqKu3QRk_XhZ3J7DYQHaD4\\u0026w=80\\u0026h=80\\u0026c=1\\u0026pid=5.1\"},{\"name\":\"10 things to do in Atlanta this weekend - accessatlanta.com\",\"url\":\"https://www.accessatlanta.com/atlanta-things-to-do/10-things-to-do-in-atlanta-this-weekend/EIBV4IR6EJD6XHWXAQRYTDQBVU/\",\"displayUrl\":\"https://www.accessatlanta.com/atlanta-things-to-do/10-things-to-do-in-atlanta-this...\",\"snippet\":\"Best Things to do in Atlanta this weekend. DreamHack Atlanta is the ultimate gaming and esports festival, where gamers, streamers, and fans unite for an epic weekend of non-stop action!\",\"cachedPageUrl\":\"http://cc.bingj.com/cache.aspx?q=things\\u002Bto\\u002Bdo\\u002Bin\\u002BAtlanta\\u002Bon\\u002B2024-10-05\\u0026d=871016790476\\u0026mkt=en-US\\u0026setlang=en-US\\u0026w=XM5LK6so-BR50MJBphof8Eu0vDoQC3dg\",\"thumbnailUrl\":\"https://www.bing.com/th?id=OIF.59mKQw6YQIpyl%2bxgNQBzDg\\u0026w=80\\u0026h=80\\u0026c=1\\u0026pid=5.1\"},{\"name\":\"THE 15 BEST Things to Do in Atlanta (2024) - Tripadvisor\",\"url\":\"https://www.tripadvisor.com/Attractions-g60898-Activities-zfr7917665-Atlanta_Georgia.html\",\"displayUrl\":\"https://www.tripadvisor.com/Attractions-g60898-Activities-zfr7917665-Atlanta_Georgia.html\",\"snippet\":\"2024. 2. Atlanta Botanical Garden. 5,236. Gardens. Step into a world of magic and serenity at the Atlanta Botanical Garden, where features like the Fuqua Orchid Center treat visitors to a rare collection of high-elevation orchids never before grown\\u2026. See tours. 3. World of Coca-Cola.\",\"cachedPageUrl\":\"http://cc.bingj.com/cache.aspx?q=things\\u002Bto\\u002Bdo\\u002Bin\\u002BAtlanta\\u002Bon\\u002B2024-10-05\\u0026d=4999832017579678\\u0026mkt=en-US\\u0026setlang=en-US\\u0026w=aJsbstGA5Y_hqWtUQWQStMnnppmx6J8T\"},{\"name\":\"35\\u002B Best Things to Do in Atlanta in 2024 - Unexpected Atlanta\",\"url\":\"https://unexpectedatlanta.com/best-things-to-do-in-atlanta/\",\"displayUrl\":\"https://unexpectedatlanta.com/best-things-to-do-in-atlanta\",\"snippet\":\"1. Visit the National Parks on a Fee-Free Day. First on our list of the best things to do in Atlanta in 2024, check out America\\u2019s National Park System\\u2019s fee-free days this year. On these special days, you can visit any of the United States\\u2019 400\\u002B National Parks for free, including places in and around Georgia.\",\"cachedPageUrl\":\"http://cc.bingj.com/cache.aspx?q=things\\u002Bto\\u002Bdo\\u002Bin\\u002BAtlanta\\u002Bon\\u002B2024-10-05\\u0026d=4885792048087312\\u0026mkt=en-US\\u0026setlang=en-US\\u0026w=UWMF4npb9HKtzRRUG028yHS95G2gOIKx\",\"thumbnailUrl\":\"https://www.bing.com/th?id=OIP.HwzfdFE6-tSHfhoFlTxXKQHaHa\\u0026w=80\\u0026h=80\\u0026c=1\\u0026pid=5.1\"},{\"name\":\"The best things to do in Atlanta right now - Time Out\",\"url\":\"https://www.timeout.com/atlanta/things-to-do/best-things-to-do-in-atlanta\",\"displayUrl\":\"https://www.timeout.com/atlanta/things-to-do/best-things-to-do-in-atlanta\",\"snippet\":\"4. Martin Luther King Jr. National Historical Park. The Martin Luther King Centre is the must-see tourist attraction in Atlanta. Once \\u2018The King Center,\\u2019 it is now a nonprofit organization in ...\",\"cachedPageUrl\":\"http://cc.bingj.com/cache.aspx?q=things\\u002Bto\\u002Bdo\\u002Bin\\u002BAtlanta\\u002Bon\\u002B2024-10-05\\u0026d=4565877110487686\\u0026mkt=en-US\\u0026setlang=en-US\\u0026w=FYuFUogV2_4cUlw5_DIQpKVX3mnuh8Iq\",\"thumbnailUrl\":\"https://www.bing.com/th?id=OIP.-XmrGhWhWtlBL3xZRZjcJwHaE8\\u0026w=80\\u0026h=80\\u0026c=1\\u0026pid=5.1\"},{\"name\":\"The 17 Best Things to Do in Atlanta - Cond\\u00E9 Nast Traveler\",\"url\":\"https://www.cntraveler.com/gallery/best-things-to-do-in-atlanta\",\"displayUrl\":\"https://www.cntraveler.com/gallery/best-things-to-do-in-atlanta\",\"snippet\":\"Atlanta Botanical Garden. Adjacent to Atlanta\\u2019s verdant Piedmont Park, it\\u2019s easy to see why this 30-acre oasis in the heart of Midtown welcomes more than half a million visitors each year. In ...\",\"thumbnailUrl\":\"https://www.bing.com/th?id=OIP.k6p7QyZP1cNKZi0qNguohAHaEK\\u0026w=80\\u0026h=80\\u0026c=1\\u0026pid=5.1\"},{\"name\":\"THE 15 BEST Things to Do in Atlanta (2024) - Tripadvisor\",\"url\":\"https://www.tripadvisor.com/Attractions-g60898-Activities-Atlanta_Georgia.html\",\"displayUrl\":\"https://www.tripadvisor.com/Attractions-g60898\",\"snippet\":\"1. Georgia Aquarium. 23,867. Aquariums. Georgia Aquarium contains more than 70 amazing habitats, with thousands of marine animals such as whale sharks, manta rays, beluga whales, and more. Don\\u2019t miss out on the animal encounter programs\\u2026. See ways to experience (9) 2024. 2.\",\"cachedPageUrl\":\"http://cc.bingj.com/cache.aspx?q=things\\u002Bto\\u002Bdo\\u002Bin\\u002BAtlanta\\u002Bon\\u002B2024-10-05\\u0026d=4522996157713776\\u0026mkt=en-US\\u0026setlang=en-US\\u0026w=B123HWEJmKgI0g_BICzUUE092xyTtSjJ\",\"thumbnailUrl\":\"https://www.bing.com/th?id=OIP.1g_oKFZuxZyu0MwSWAr2YwHaE8\\u0026w=80\\u0026h=80\\u0026c=1\\u0026pid=5.1\"}]}}\n",
       "```\n",
       "\n",
       "I called the tool named crawl with these arguments:\n",
       "```\n",
       "{\"q\": \"things to do in Atlanta on 2024-10-12\", \"textFormat\": \"Raw\"}\n",
       "```\n",
       "and got this result:\n",
       "```\n",
       "{\"queryContext\":{\"originalQuery\":\"things to do in Atlanta on 2024-10-12\"},\"webPages\":{\"value\":[{\"name\":\"Atlanta Events - October 2024 - Go South Atlanta\",\"url\":\"https://gosouthatlanta.com/things-to-do/events/atlanta-in-october.html\",\"displayUrl\":\"https://gosouthatlanta.com/things-to-do/events/atlanta-in-october.html\",\"snippet\":\"Wrestling event at State Farm Arena. More details. \\u2013 Festival on Ponce, October 5-6 2024. Twice-annual arts festival in Olmsted Linear Park, with 125\\u002B vendors of fine art, folk art and outsider art, plus food and drink, and children\\u2019s activities. More details. \\u2013 Candler Park Fall Fest, October 5-6 2024.\"},{\"name\":\"Atlanta Events October 2024: Concerts, Shows, Sports...\",\"url\":\"https://atlanta-ga.events/october/\",\"displayUrl\":\"https://atlanta-ga.events/october\",\"snippet\":\"Check Out The Atlanta Events Calendar for October 2024: Current \\u0026 Upcoming Events \\u002B Best \\u0026 Fun Thing To Do in the City. ... 12:00 PM Fri. Days of the Dead - Friday The Courtland Grand Hotel. 30303, 165 Courtland Street NE, Atlanta, GA, US Prices from $69 Avg. price ~ $79. 2 tickets remaining! ...\"},{\"name\":\"33 Best Things to Do in Atlanta October 2024 with Kids - MSN\",\"url\":\"https://www.msn.com/en-us/travel/tripideas/33-best-things-to-do-in-atlanta-october-2024-with-kids/ar-AA1rpsNP\",\"displayUrl\":\"https://www.msn.com/.../33-best-things-to-do-in-atlanta-october-2024-with-kids/ar-AA1rpsNP\",\"snippet\":\"October 12 \\u0026 13; 19 \\u0026 20, 2024 Check out the crispiest, juiciest apples from Georgia\\u0027s apple capital--Ellijay. For two weekends, Ellijay hosts the Georgia Apple Festival complete with arts and ...\"},{\"name\":\"Cool Things To Do in October in Atlanta\",\"url\":\"https://discoveratlanta.com/stories/things-to-do/cool-things-to-do-in-october-in-atlanta/\",\"displayUrl\":\"https://discoveratlanta.com/stories/things-to-do/cool-things-to-do-in-october-in-atlanta\",\"snippet\":\"Corn Dogs, Rides and Whack a Mole. The Atlanta Fair brings the best of a traditional fair to Atlanta with everything from cotton candy, a Ferris wheel, fishing for goldfish, a tilt-a-whirl and a carousel. The fair, located across from the Georgia State University Stadium, will be in town Oct. 4-Nov. 3.\",\"thumbnailUrl\":\"https://www.bing.com/th?id=OIP.4jf9xqKu3QRk_XhZ3J7DYQHaD4\\u0026w=80\\u0026h=80\\u0026c=1\\u0026pid=5.1\"},{\"name\":\"Explore Atlanta Events for Today, This Week or Weekend\",\"url\":\"https://discoveratlanta.com/events/main/\",\"displayUrl\":\"https://discoveratlanta.com/events/m\",\"snippet\":\"Explore the Atlanta events calendar for things to do today, this week or this weekend. Find upcoming festivals, seasonal events and more! DiscoverAtlanta.com homepage. Things to Do; Events; ... Multiple dates until 10/12/2024. Roberta Lea Live 10/5/24. Strand Ole Opry: Fa-BOO-lous Halloween Hits 10/5/24. The Modern x Atlas 10/5/24. Cirque ...\",\"thumbnailUrl\":\"https://www.bing.com/th?id=OIP.FkxSV6JbrWatsFMM3_8dIAHaEh\\u0026w=80\\u0026h=80\\u0026c=1\\u0026pid=5.1\"},{\"name\":\"80\\u002B fall festivals \\u0026 fairs around metro Atlanta: Fun things to do in ...\",\"url\":\"https://www.atlantaonthecheap.com/fall-festivals-atlanta/\",\"displayUrl\":\"https://www.atlantaonthecheap.com/fall-festivals-atlanta\",\"snippet\":\"October 12, 2024 Lilburn City Park FREE. This beloved fall arts \\u0026 crafts is in its 50th year! It is extremely family-friendly, with plenty of activities for the kids. You\\u2019ll also find food, vendor booths, and live entertainment all day long. ... The Best Free Things to Do in Atlanta in 2024 - says: August 20, 2024 at 3:57 pm [\\u2026] Castleberry ...\",\"thumbnailUrl\":\"https://www.bing.com/th?id=OIP.w0-v0ll6eXl6tJfBd5-ovwHaEV\\u0026w=80\\u0026h=80\\u0026c=1\\u0026pid=5.1\"},{\"name\":\"Atlanta Festival Calendar: 2024 - Unexpected Atlanta\",\"url\":\"https://unexpectedatlanta.com/atlanta-festival-calendar-2024/\",\"displayUrl\":\"https://unexpectedatlanta.com/atlanta-festival-calendar-2024\",\"snippet\":\"Atlanta Jazz Festival \\u2013 May 25-27, 2024. Held in Piedmont Park, the Atlanta Jazz Festival is an annual celebration of music, culture, and the art of Jazz. Free to all who join, this Memorial Day Weekend event draws fans, professional musicians, and everyone in between, for a 3-day-long festival showcasing 15\\u002B artists.\",\"thumbnailUrl\":\"https://www.bing.com/th?id=OIP.8LvXI6tOuWvo9KZdL-C3MwHaHa\\u0026w=80\\u0026h=80\\u0026c=1\\u0026pid=5.1\"},{\"name\":\"THE 15 BEST Things to Do in Atlanta (2024) - Tripadvisor\",\"url\":\"https://www.tripadvisor.com/Attractions-g60898-Activities-Atlanta_Georgia.html\",\"displayUrl\":\"https://www.tripadvisor.com/Attractions-g60898\",\"snippet\":\"Things to Do in Atlanta, Georgia: See Tripadvisor\\u0027s 475,622 traveler reviews and photos of Atlanta tourist attractions. ... Self-guided Tours (12) Observation Decks \\u0026 Towers (3) Culinary Tours (4) Cooking Classes (3) Arenas \\u0026 Stadiums (17) ... Written September 25, 2024. This review is the subjective opinion of a Tripadvisor member and not of ...\",\"thumbnailUrl\":\"https://www.bing.com/th?id=OIP.1g_oKFZuxZyu0MwSWAr2YwHaE8\\u0026w=80\\u0026h=80\\u0026c=1\\u0026pid=5.1\"},{\"name\":\"Upcoming Events - Discover Atlanta\",\"url\":\"https://discoveratlanta.com/events/all/\",\"displayUrl\":\"https://discoveratlanta.com/events/all\",\"snippet\":\"Bounce through the incredible events happening around Atlanta today, tomorrow, this week or this month. Plan your fun and be in the know on everything from family-favorites, to can\\u2019t-miss hot spots, concerts and foodie festivals. Showing 1 \\u2013 15 of 484. Editors\\u2019 Pick.\"},{\"name\":\"24 Exciting Things To Add To Your Atlanta Bucket List - Secret Atlanta\",\"url\":\"https://secretatlanta.co/2024-atlanta-bucket-list/\",\"displayUrl\":\"https://secretatlanta.co/2024-atlanta-bucket-list\",\"snippet\":\"Here are 24 things to add to your Atlanta bucket list! 1. ... You don\\u2019t want to miss out on Shaky Knees in 2024, Atlanta! 8. Get fancy at one of Atlanta\\u2019s newly Michelin-recommended restaurants. ... This year Atlanta Pride will take place in Piedmont Park on October 12-13, 2024! For more information about Pride, check out Atlanta Pride\\u2019s ...\",\"thumbnailUrl\":\"https://www.bing.com/th?id=OIP.Jx474uFzP4iYwa3hHq7X7AHaFn\\u0026w=80\\u0026h=80\\u0026c=1\\u0026pid=5.1\"}]},\"images\":{\"value\":[{\"thumbnailUrl\":\"https://tse1.mm.bing.net/th?id=OIP.cGQLTADJ7EIEL8n56X81XwHaLH\\u0026pid=Api\",\"contentUrl\":\"https://www.busytourist.com/wp-content/uploads/2020/07/best-things-to-do-in-Atlanta-GA-1.jpg\",\"hostPageUrl\":\"https://www.busytourist.com/things-to-do-in-atlanta-ga/\"},{\"thumbnailUrl\":\"https://tse1.mm.bing.net/th?id=OIP.gpxEMgIaDnDSvyMtPJjjdgHaE6\\u0026pid=Api\",\"contentUrl\":\"https://wowtravel.me/wp-content/uploads/2022/06/Top-10-Things-to-Do-in-Atlanta.jpg\",\"hostPageUrl\":\"https://wowtravel.me/things-to-do-in-atlanta-this-week/\"},{\"thumbnailUrl\":\"https://tse1.mm.bing.net/th?id=OIP.5jERbhhnl8LiECUQySoRYAHaG1\\u0026pid=Api\",\"contentUrl\":\"https://uphomes.com/storage/blogposts/February2023/medium/RKuDJcqErH176HD3LyWV.png\",\"hostPageUrl\":\"https://uphomes.com/blog/things-to-do-atlanta-ga/\"},{\"thumbnailUrl\":\"https://tse1.mm.bing.net/th?id=OIP.H1JPxx3mkr-XvYjeXre46AHaLH\\u0026pid=Api\",\"contentUrl\":\"https://www.busytourist.com/wp-content/uploads/2020/07/best-things-to-do-in-Atlanta-GA-1-2.jpg\",\"hostPageUrl\":\"https://www.busytourist.com/things-to-do-in-atlanta-ga/\"},{\"thumbnailUrl\":\"https://tse1.mm.bing.net/th?id=OIP.Fe-J-AR_X-7c4ZeUHVaHwQAAAA\\u0026pid=Api\",\"contentUrl\":\"https://www.acaponeconnection.com/wp-content/uploads/2022/05/All-the-Fun-Things-to-Do-in-Atlanta-Georgia-1.jpg\",\"hostPageUrl\":\"https://www.acaponeconnection.com/all-the-fun-things-to-do-in-atlanta-georgia/\"},{\"thumbnailUrl\":\"https://tse1.mm.bing.net/th?id=OIP.EwTRMK2YnFak4c4zUFMiVAHaHa\\u0026pid=Api\",\"contentUrl\":\"https://unexpectedatlanta.com/wp-content/uploads/2022/09/Things-to-Do-in-Downtown-Atlanta.png\",\"hostPageUrl\":\"https://unexpectedatlanta.com/things-to-do-in-downtown-atlanta/\"},{\"thumbnailUrl\":\"https://tse1.mm.bing.net/th?id=OIP.vjZ_V7Yjzfqyphfsj_SBjgAAAA\\u0026pid=Api\",\"contentUrl\":\"https://daytripqueen.com/wp-content/uploads/2021/07/Free-things-to-do-in-Atlanta.jpg\",\"hostPageUrl\":\"https://daytripqueen.com/free-things-to-do-in-atlanta/\"},{\"thumbnailUrl\":\"https://tse1.mm.bing.net/th?id=OIP.fLae3sxHYp3BVcZ5UZwd8gHaLM\\u0026pid=Api\",\"contentUrl\":\"https://www.thebrokebackpacker.com/wp-content/uploads/2019/10/things-to-do-atlanta-pin-1.jpg\",\"hostPageUrl\":\"https://www.thebrokebackpacker.com/things-to-do-in-atlanta-georgia/\"},{\"thumbnailUrl\":\"https://tse1.mm.bing.net/th?id=OIP.871ZuXzoIw6hj9MiYEOM8AHaDt\\u0026pid=Api\",\"contentUrl\":\"https://www.familyvacationcritic.com/wp-content/uploads/sites/19/2019/11/atlanta-centennial-park-hero-1280x640.jpg\",\"hostPageUrl\":\"https://www.familyvacationcritic.com/free-things-to-do-in-atlanta-with-kids/art/\"},{\"thumbnailUrl\":\"https://tse1.mm.bing.net/th?id=OIP.Yac324FtG-dH_KY8XaUTZQHaME\\u0026pid=Api\",\"contentUrl\":\"https://www.frostandsun.com/wp-content/uploads/2017/11/things-to-do-in-atlanta-pin-me-1-628x1024.jpg.webp\",\"hostPageUrl\":\"https://www.frostandsun.com/things-to-do-in-atlanta/\"},{\"thumbnailUrl\":\"https://tse1.mm.bing.net/th?id=OIP.U9xvQMbjg9T0YiriayftJAHaLH\\u0026pid=Api\",\"contentUrl\":\"https://www.busytourist.com/wp-content/uploads/2020/07/Things-To-Do-In-Atlanta-pin1.jpg\",\"hostPageUrl\":\"https://www.busytourist.com/things-to-do-in-atlanta-ga/\"},{\"thumbnailUrl\":\"https://tse1.mm.bing.net/th?id=OIP.rwusIbKd5bywaoWEipraFwAAAA\\u0026pid=Api\",\"contentUrl\":\"https://www.smartertravel.com/wp-content/uploads/2016/08/Atlanta-1-1024x683.jpg\",\"hostPageUrl\":\"https://www.smartertravel.com/things-to-do-in-atlanta/\"},{\"thumbnailUrl\":\"https://tse1.mm.bing.net/th?id=OIP.Twqjja_QS8r-DEoNYr3kzAHaEK\\u0026pid=Api\",\"contentUrl\":\"https://i.ytimg.com/vi/Vl6GPUuj1mc/maxresdefault.jpg\",\"hostPageUrl\":\"https://www.youtube.com/watch?v=Vl6GPUuj1mc\"},{\"thumbnailUrl\":\"https://tse1.mm.bing.net/th?id=OIP.FFnn7XEC9iNqbbTqDM01LQHaD3\\u0026pid=Api\",\"contentUrl\":\"https://www.busytourist.com/wp-content/uploads/2020/07/things-to-do-in-Atlanta-803x420.jpg\",\"hostPageUrl\":\"https://www.busytourist.com/things-to-do-in-atlanta-ga/\"},{\"thumbnailUrl\":\"https://tse1.mm.bing.net/th?id=OIP.VOzVfWJV7_6joNkGhLP7AAHaLH\\u0026pid=Api\",\"contentUrl\":\"https://i.pinimg.com/originals/ce/c5/25/cec525ba57be0022de5d70d1a1f3dd88.jpg\",\"hostPageUrl\":\"https://www.pinterest.com/pin/277393658288987671/\"},{\"thumbnailUrl\":\"https://tse1.mm.bing.net/th?id=OIP.6_fMiPMrfeqD9K0vgkdR6QHaE8\\u0026pid=Api\",\"contentUrl\":\"https://www.getawaymavens.com/wp-content/uploads/2019/01/Westin-Peachtree-Atlanta.jpg\",\"hostPageUrl\":\"https://www.getawaymavens.com/downtown-atlanta/\"},{\"thumbnailUrl\":\"https://tse1.mm.bing.net/th?id=OIP.Agse3pS4C61ss3RxvVgySwHaEK\\u0026pid=Api\",\"contentUrl\":\"https://wirksmoving.com/wp-content/uploads/2020/04/Things-to-do-in-Atlanta-with-Kids-1536x864.png\",\"hostPageUrl\":\"https://wirksmoving.com/blog/things-to-do-in-atlanta-ga-with-kids/\"},{\"thumbnailUrl\":\"https://tse1.mm.bing.net/th?id=OIP.yRC0krj1Jbi8qtYhSLLimgHaE8\\u0026pid=Api\",\"contentUrl\":\"https://lp-cms-production.imgix.net/2021-05/GettyRF_486068945.jpg?auto=compress\\u0026fit=crop\\u0026fm=auto\\u0026sharp=10\\u0026vib=20\\u0026w=1200\\u0026h=800\",\"hostPageUrl\":\"https://www.lonelyplanet.com/articles/top-things-to-do-in-atlanta\"},{\"thumbnailUrl\":\"https://tse1.mm.bing.net/th?id=OIP.TNv2qzXsSFvw43t4zu0gGgHaE8\\u0026pid=Api\",\"contentUrl\":\"https://www.travelandleisure.com/thmb/3NRm4q9Qg2bdUqXvenPBVeIloV4=/1500x0/filters:no_upscale():max_bytes(150000):strip_icc()/atlanta-skyline-TODOATL0122-195afa04632e43f5be27ef2dcc94ca3b.jpg\",\"hostPageUrl\":\"https://www.travelandleisure.com/attractions/best-things-to-do-in-atlanta-georgia\"},{\"thumbnailUrl\":\"https://tse1.mm.bing.net/th?id=OIP.HX79HLcI16lMiECbxV7UWQHaE7\\u0026pid=Api\",\"contentUrl\":\"https://a.cdn-hotels.com/gdcs/production44/d1147/0769c6eb-4e78-45d3-bcca-d80c6e3ac960.jpg?impolicy=fcrop\\u0026w=800\\u0026h=533\\u0026q=medium\",\"hostPageUrl\":\"https://www.hotels.com/go/usa/things-to-do-atlanta\"}]}}\n",
       "```\n",
       "\n",
       "I called the tool named crawl with these arguments:\n",
       "```\n",
       "{\"q\": \"things to do in Atlanta on 2024-10-19\", \"textFormat\": \"Raw\"}\n",
       "```\n",
       "and got this result:\n",
       "```\n",
       "{\"queryContext\":{\"originalQuery\":\"things to do in Atlanta on 2024-10-19\"},\"webPages\":{\"value\":[{\"name\":\"Atlanta Events - October 2024 - Go South Atlanta\",\"url\":\"https://gosouthatlanta.com/things-to-do/events/atlanta-in-october.html\",\"displayUrl\":\"https://gosouthatlanta.com/things-to-do/events/atlanta-in-october.html\",\"snippet\":\"Things to do in Atlanta, GA in October, including upcoming festivals, fall and Halloween events, Pride events, comedy, musicals, plays, races, conventions ...\",\"cachedPageUrl\":\"http://cc.bingj.com/cache.aspx?q=things\\u002Bto\\u002Bdo\\u002Bin\\u002BAtlanta\\u002Bon\\u002B2024-10-19\\u0026d=4907344191957257\\u0026mkt=en-US\\u0026setlang=en-US\\u0026w=gk2PwJ4MGAK3mkDLUvcm_m1afK8iBTpt\"},{\"name\":\"33 Best Things to Do in Atlanta October 2024 with Kids - MSN\",\"url\":\"https://www.msn.com/en-us/travel/tripideas/33-best-things-to-do-in-atlanta-october-2024-with-kids/ar-AA1rpsNP\",\"displayUrl\":\"https://www.msn.com/.../33-best-things-to-do-in-atlanta-october-2024-with-kids/ar-AA1rpsNP\",\"snippet\":\"October 19 \\u0026 20; 26 \\u0026 27, 2024 Zoo Atlanta hosts Boo at the Zoo for two weekends in October. Kids come dressed in costumes for a not-so-scary Halloween festival during the day.\"},{\"name\":\"80\\u002B fall festivals \\u0026 fairs around metro Atlanta: Fun things to do in ...\",\"url\":\"https://www.atlantaonthecheap.com/fall-festivals-atlanta/\",\"displayUrl\":\"https://www.atlantaonthecheap.com/fall-festivals-atlanta\",\"snippet\":\"The best fall festivals in Atlanta in 2024 \\u2014 including state fairs, county fairs, carnivals, harvest celebrations, arts and music festivals, and more!\",\"cachedPageUrl\":\"http://cc.bingj.com/cache.aspx?q=things\\u002Bto\\u002Bdo\\u002Bin\\u002BAtlanta\\u002Bon\\u002B2024-10-19\\u0026d=5012794232883316\\u0026mkt=en-US\\u0026setlang=en-US\\u0026w=IFPPoHWFm5znjjGt9vluoyq1DPm6ofe-\",\"thumbnailUrl\":\"https://www.bing.com/th?id=OIP.w0-v0ll6eXl6tJfBd5-ovwHaEV\\u0026w=80\\u0026h=80\\u0026c=1\\u0026pid=5.1\"},{\"name\":\"THE 15 BEST Things to Do in Atlanta (2024) - Tripadvisor\",\"url\":\"https://www.tripadvisor.com/Attractions-g60898-Activities-Atlanta_Georgia.html\",\"displayUrl\":\"https://www.tripadvisor.com/Attractions-g60898\",\"snippet\":\"Things to Do in Atlanta, Georgia: See Tripadvisor\\u0027s 475,622 traveler reviews and photos of Atlanta tourist attractions. Find what to do today, this weekend, or in October. We have reviews of the best places to see in Atlanta. Visit top-rated \\u0026 must-see attractions.\",\"cachedPageUrl\":\"http://cc.bingj.com/cache.aspx?q=things\\u002Bto\\u002Bdo\\u002Bin\\u002BAtlanta\\u002Bon\\u002B2024-10-19\\u0026d=4522996157713776\\u0026mkt=en-US\\u0026setlang=en-US\\u0026w=B123HWEJmKgI0g_BICzUUE092xyTtSjJ\"},{\"name\":\"Explore Atlanta Events for Today, This Week or Weekend\",\"url\":\"https://discoveratlanta.com/events/main/\",\"displayUrl\":\"https://discoveratlanta.com/events/m\",\"snippet\":\"Search the Atlanta events calendar below or explore our annual festivals and seasonal events taking place throughout the year. If you\\u2019re in ATL now, make sure you see what\\u2019s happening today, this week and find things to do this weekend so you don\\u2019t miss any one-of-a-kind Atlanta events. Venues and event organizers, submit events here.\",\"cachedPageUrl\":\"http://cc.bingj.com/cache.aspx?q=things\\u002Bto\\u002Bdo\\u002Bin\\u002BAtlanta\\u002Bon\\u002B2024-10-19\\u0026d=4819881477614541\\u0026mkt=en-US\\u0026setlang=en-US\\u0026w=cQIKbv56z1uP1GMx_bJv9FTM8ziERJGY\",\"thumbnailUrl\":\"https://www.bing.com/th?id=OIP.FkxSV6JbrWatsFMM3_8dIAHaEh\\u0026w=80\\u0026h=80\\u0026c=1\\u0026pid=5.1\"},{\"name\":\"Things to Do in Atlanta in 2024: Events, festivals, and exhibits ...\",\"url\":\"https://www.thrillist.com/events/atlanta/events-calendar-in-atlanta-this-year\",\"displayUrl\":\"https://www.thrillist.com/events/atlanta/events-calendar-in-atlanta-this-year\",\"snippet\":\"23 Things You Have to Do in Atlanta This Year, From One Musicfest to Homecoming Make plans to attend these annual events in Atlanta that keep the party going all year.\",\"thumbnailUrl\":\"https://www.bing.com/th?id=OIP.WUHCPl7_RpepE3pSEdAEMgHaE8\\u0026w=80\\u0026h=80\\u0026c=1\\u0026pid=5.1\"},{\"name\":\"35\\u002B Best Things to Do in Atlanta in 2024\",\"url\":\"https://unexpectedatlanta.com/best-things-to-do-in-atlanta/\",\"displayUrl\":\"https://unexpectedatlanta.com/best-things-to-do-in-atlanta\",\"snippet\":\"Looking for the best things to do in Atlanta in 2024? Find fun, safe ideas for everyone in the family! These are 2024\\u0027s must-do activities.\",\"cachedPageUrl\":\"http://cc.bingj.com/cache.aspx?q=things\\u002Bto\\u002Bdo\\u002Bin\\u002BAtlanta\\u002Bon\\u002B2024-10-19\\u0026d=4885792048087312\\u0026mkt=en-US\\u0026setlang=en-US\\u0026w=UWMF4npb9HKtzRRUG028yHS95G2gOIKx\"},{\"name\":\"Cool Things To Do in October in Atlanta\",\"url\":\"https://discoveratlanta.com/stories/things-to-do/cool-things-to-do-in-october-in-atlanta/\",\"displayUrl\":\"https://discoveratlanta.com/stories/things-to-do/cool-things-to-do-in-october-in-atlanta\",\"snippet\":\"October brings lots of cool things to do in Atlanta, and Halloween is just one.\",\"cachedPageUrl\":\"http://cc.bingj.com/cache.aspx?q=things\\u002Bto\\u002Bdo\\u002Bin\\u002BAtlanta\\u002Bon\\u002B2024-10-19\\u0026d=4714289709671445\\u0026mkt=en-US\\u0026setlang=en-US\\u0026w=uP6_4hpqL9Zfz-dx9C91WDDECk49pD7V\",\"thumbnailUrl\":\"https://www.bing.com/th?id=OIP.4jf9xqKu3QRk_XhZ3J7DYQHaD4\\u0026w=80\\u0026h=80\\u0026c=1\\u0026pid=5.1\"},{\"name\":\"Discover Atlanta\\u2019s Anticipated 2024 Highlights\",\"url\":\"https://discoveratlanta.com/stories/things-to-do/discover-atlantas-anticipated-2024-highlights/\",\"displayUrl\":\"https://discoveratlanta.com/stories/things-to-do/discover-atlantas-anticipated-2024...\",\"snippet\":\"Signia by Hilton Atlanta, the city\\u2019s largest Downtown, ground-up hotel development in 40 years, opens in January 2024. The hotel\\u2019s eight food and beverages offerings center around Georgia\\u2019s Southern history. The 976-room hotel will introduce a three full-service restaurants and three bars. Highlights include Capolinea, an Italian-inspired ...\",\"cachedPageUrl\":\"http://cc.bingj.com/cache.aspx?q=things\\u002Bto\\u002Bdo\\u002Bin\\u002BAtlanta\\u002Bon\\u002B2024-10-19\\u0026d=4857986426481375\\u0026mkt=en-US\\u0026setlang=en-US\\u0026w=qmKqKG0P_cihKFLxyKuuI5OkHPywlqtk\",\"thumbnailUrl\":\"https://www.bing.com/th?id=OIP.3Ek-SE8inqMg2SLHb7iNDgHaD4\\u0026w=80\\u0026h=80\\u0026c=1\\u0026pid=5.1\"},{\"name\":\"THE 15 BEST Things to Do in Atlanta (2024) - Tripadvisor\",\"url\":\"https://www.tripadvisor.com/Attractions-g60898-Activities-zfr7917490-Atlanta_Georgia.html\",\"displayUrl\":\"https://www.tripadvisor.com/Attractions-g60898-Activities-zfr7917490-Atlanta_Georgia.html\",\"snippet\":\"Things to Do in Atlanta, Georgia: See Tripadvisor\\u0027s 475,626 traveler reviews and photos of Atlanta tourist attractions. Find what to do today, this weekend, or in October. We have reviews of the best places to see in Atlanta. Visit top-rated \\u0026 must-see attractions.\",\"cachedPageUrl\":\"http://cc.bingj.com/cache.aspx?q=things\\u002Bto\\u002Bdo\\u002Bin\\u002BAtlanta\\u002Bon\\u002B2024-10-19\\u0026d=4515746253256883\\u0026mkt=en-US\\u0026setlang=en-US\\u0026w=lBRLEBzI9HgFhjgarGNLdZvi3B0fdlCv\"}]},\"images\":{\"value\":[{\"thumbnailUrl\":\"https://tse1.mm.bing.net/th?id=OIP.FFnn7XEC9iNqbbTqDM01LQHaD3\\u0026pid=Api\",\"contentUrl\":\"https://www.busytourist.com/wp-content/uploads/2020/07/things-to-do-in-Atlanta-803x420.jpg\",\"hostPageUrl\":\"https://www.busytourist.com/things-to-do-in-atlanta-ga/\"},{\"thumbnailUrl\":\"https://tse1.mm.bing.net/th?id=OIP.cGQLTADJ7EIEL8n56X81XwHaLH\\u0026pid=Api\",\"contentUrl\":\"https://www.busytourist.com/wp-content/uploads/2020/07/best-things-to-do-in-Atlanta-GA-1.jpg\",\"hostPageUrl\":\"https://www.busytourist.com/things-to-do-in-atlanta-ga/\"},{\"thumbnailUrl\":\"https://tse1.mm.bing.net/th?id=OIP.gpxEMgIaDnDSvyMtPJjjdgHaE6\\u0026pid=Api\",\"contentUrl\":\"https://wowtravel.me/wp-content/uploads/2022/06/Top-10-Things-to-Do-in-Atlanta.jpg\",\"hostPageUrl\":\"https://wowtravel.me/things-to-do-in-atlanta-this-week/\"},{\"thumbnailUrl\":\"https://tse1.mm.bing.net/th?id=OIP.5jERbhhnl8LiECUQySoRYAHaG1\\u0026pid=Api\",\"contentUrl\":\"https://uphomes.com/storage/blogposts/February2023/medium/RKuDJcqErH176HD3LyWV.png\",\"hostPageUrl\":\"https://uphomes.com/blog/things-to-do-atlanta-ga/\"},{\"thumbnailUrl\":\"https://tse1.mm.bing.net/th?id=OIP.H1JPxx3mkr-XvYjeXre46AHaLH\\u0026pid=Api\",\"contentUrl\":\"https://www.busytourist.com/wp-content/uploads/2020/07/best-things-to-do-in-Atlanta-GA-1-2.jpg\",\"hostPageUrl\":\"https://www.busytourist.com/things-to-do-in-atlanta-ga/\"},{\"thumbnailUrl\":\"https://tse1.mm.bing.net/th?id=OIP.Fe-J-AR_X-7c4ZeUHVaHwQAAAA\\u0026pid=Api\",\"contentUrl\":\"https://www.acaponeconnection.com/wp-content/uploads/2022/05/All-the-Fun-Things-to-Do-in-Atlanta-Georgia-1.jpg\",\"hostPageUrl\":\"https://www.acaponeconnection.com/all-the-fun-things-to-do-in-atlanta-georgia/\"},{\"thumbnailUrl\":\"https://tse1.mm.bing.net/th?id=OIP.unmT01rPD7si8w-n3kzOXgHaHa\\u0026pid=Api\",\"contentUrl\":\"https://cdn2.storyasset.link/5f018ed1-7c8d-49e0-9d76-582219d18631/Untitled%20design%20-1-ms-rtheoozqlb.jpg\",\"hostPageUrl\":\"https://tripononline.com/web-stories/ultimate-things-to-do-in-atlanta-ga/\"},{\"thumbnailUrl\":\"https://tse1.mm.bing.net/th?id=OIP.BawFpewdQrecAtgiS9AiOAHaHa\\u0026pid=Api\",\"contentUrl\":\"https://unexpectedatlanta.com/wp-content/uploads/2023/04/The-Best-Things-to-Do-in-Midtown-Atlanta-500x500.png\",\"hostPageUrl\":\"https://unexpectedatlanta.com/best-things-to-do-midtown-atlanta/\"},{\"thumbnailUrl\":\"https://tse1.mm.bing.net/th?id=OIP.871ZuXzoIw6hj9MiYEOM8AHaDt\\u0026pid=Api\",\"contentUrl\":\"https://www.familyvacationcritic.com/wp-content/uploads/sites/19/2019/11/atlanta-centennial-park-hero-1280x640.jpg\",\"hostPageUrl\":\"https://www.familyvacationcritic.com/free-things-to-do-in-atlanta-with-kids/art/\"},{\"thumbnailUrl\":\"https://tse1.mm.bing.net/th?id=OIP.Yac324FtG-dH_KY8XaUTZQHaME\\u0026pid=Api\",\"contentUrl\":\"https://www.frostandsun.com/wp-content/uploads/2017/11/things-to-do-in-atlanta-pin-me-1-628x1024.jpg.webp\",\"hostPageUrl\":\"https://www.frostandsun.com/things-to-do-in-atlanta/\"},{\"thumbnailUrl\":\"https://tse1.mm.bing.net/th?id=OIP.U9xvQMbjg9T0YiriayftJAHaLH\\u0026pid=Api\",\"contentUrl\":\"https://www.busytourist.com/wp-content/uploads/2020/07/Things-To-Do-In-Atlanta-pin1.jpg\",\"hostPageUrl\":\"https://www.busytourist.com/things-to-do-in-atlanta-ga/\"},{\"thumbnailUrl\":\"https://tse1.mm.bing.net/th?id=OIP.fLae3sxHYp3BVcZ5UZwd8gHaLM\\u0026pid=Api\",\"contentUrl\":\"https://www.thebrokebackpacker.com/wp-content/uploads/2019/10/things-to-do-atlanta-pin-1.jpg\",\"hostPageUrl\":\"https://www.thebrokebackpacker.com/things-to-do-in-atlanta-georgia/\"},{\"thumbnailUrl\":\"https://tse1.mm.bing.net/th?id=OIP.Twqjja_QS8r-DEoNYr3kzAHaEK\\u0026pid=Api\",\"contentUrl\":\"https://i.ytimg.com/vi/Vl6GPUuj1mc/maxresdefault.jpg\",\"hostPageUrl\":\"https://www.youtube.com/watch?v=Vl6GPUuj1mc\"},{\"thumbnailUrl\":\"https://tse1.mm.bing.net/th?id=OIP.VOzVfWJV7_6joNkGhLP7AAHaLH\\u0026pid=Api\",\"contentUrl\":\"https://i.pinimg.com/originals/ce/c5/25/cec525ba57be0022de5d70d1a1f3dd88.jpg\",\"hostPageUrl\":\"https://www.pinterest.com/pin/277393658288987671/\"},{\"thumbnailUrl\":\"https://tse1.mm.bing.net/th?id=OIP.k7hGzw27Lx3uqX8C1eseEQHaE6\\u0026pid=Api\",\"contentUrl\":\"https://365atlantatraveler.com/wp-content/uploads/2022/05/atlanta-1280x850.jpeg\",\"hostPageUrl\":\"https://365atlantatraveler.com/things-to-do-in-atlanta/\"},{\"thumbnailUrl\":\"https://tse1.mm.bing.net/th?id=OIP.PzRE6SJDtJ9H3Z9jEfK5cAHaE8\\u0026pid=Api\",\"contentUrl\":\"https://image.jimcdn.com/app/cms/image/transf/dimension=640x10000:format=jpg/path/s9524a0afdc5b40b0/image/i88ad01ce4abaee84/version/1483187737/8-fun-things-to-do-in-atlanta-travel-city-guide-via-just1wayticket.jpg\",\"hostPageUrl\":\"https://www.justonewayticket.com/2016/06/14/8-fun-things-to-do-in-atlanta/\"},{\"thumbnailUrl\":\"https://tse1.mm.bing.net/th?id=OIP.bMHFmC_o39Zbk8OLT2j2iwHaE8\\u0026pid=Api\",\"contentUrl\":\"https://lp-cms-production.imgix.net/2021-05/GettyRF_486068945.jpg?auto=format\\u0026fit=crop\\u0026sharp=10\\u0026vib=20\\u0026ixlib=react-8.6.4\\u0026w=850\\u0026q=23\\u0026dpr=4\",\"hostPageUrl\":\"https://www.lonelyplanet.com/articles/top-things-to-do-in-atlanta\"},{\"thumbnailUrl\":\"https://tse1.mm.bing.net/th?id=OIP.9mBzTpymEhPfPfnOyuyhzAAAAA\\u0026pid=Api\",\"contentUrl\":\"https://rwethereyetmom.com/wp-content/uploads/2015/08/6-Things-to-do-in-Atlanta.jpg\",\"hostPageUrl\":\"http://rwethereyetmom.com/6-things-to-do-in-atlanta.html\"},{\"thumbnailUrl\":\"https://tse1.mm.bing.net/th?id=OIP.IqznTH1ocAOkn-XVKO4tyQAAAA\\u0026pid=Api\",\"contentUrl\":\"https://i.pinimg.com/originals/f5/05/8e/f5058e44214459ab6506002aee8aa99f.png\",\"hostPageUrl\":\"https://www.pinterest.jp/pin/101-best-things-to-do-in-atlanta-georgia-the-ultimate-attractions-guide--34480753388071714/\"},{\"thumbnailUrl\":\"https://tse1.mm.bing.net/th?id=OIP.rwusIbKd5bywaoWEipraFwAAAA\\u0026pid=Api\",\"contentUrl\":\"https://www.smartertravel.com/wp-content/uploads/2016/08/Atlanta-1-1024x683.jpg\",\"hostPageUrl\":\"https://www.smartertravel.com/things-to-do-in-atlanta/\"}]}}\n",
       "```\n",
       "\n",
       "I called the tool named crawl with these arguments:\n",
       "```\n",
       "{\"q\": \"things to do in Atlanta on 2024-10-26\", \"textFormat\": \"Raw\"}\n",
       "```\n",
       "and got this result:\n",
       "```\n",
       "{\"queryContext\":{\"originalQuery\":\"things to do in Atlanta on 2024-10-26\"},\"webPages\":{\"value\":[{\"name\":\"Atlanta Events - October 2024 - Go South Atlanta\",\"url\":\"https://gosouthatlanta.com/things-to-do/events/atlanta-in-october.html\",\"displayUrl\":\"https://gosouthatlanta.com/things-to-do/events/atlanta-in-october.html\",\"snippet\":\"Things to do in Atlanta, GA in October, including upcoming festivals, fall and Halloween events, Pride events, comedy, musicals, plays, races, conventions ...\"},{\"name\":\"Atlanta Events October 2024: Concerts, Shows, Sports...\",\"url\":\"https://atlanta-ga.events/october/\",\"displayUrl\":\"https://atlanta-ga.events/october\",\"snippet\":\"Check Out The Atlanta Events Calendar for October 2024: Current \\u0026 Upcoming Events \\u002B Best \\u0026 Fun Thing To Do in the City.\"},{\"name\":\"Cool Things To Do in October in Atlanta\",\"url\":\"https://discoveratlanta.com/stories/things-to-do/cool-things-to-do-in-october-in-atlanta/\",\"displayUrl\":\"https://discoveratlanta.com/stories/things-to-do/cool-things-to-do-in-october-in-atlanta\",\"snippet\":\"Cool Things To Do in October in Atlanta By Mary Welch Published September 13, 2024 Last Updated September 26, 2024 The weather has cooled off and Atlanta is ready to embrace the fall with new exhibits, fashion shows and festivals \\u2014 lots and lots of festivals. October always brings Atlanta Pride. Prepare with our Pride Survival Guide. Hispanic Heritage Month continues through Oct. 15. The ...\",\"thumbnailUrl\":\"https://www.bing.com/th?id=OIP.4jf9xqKu3QRk_XhZ3J7DYQHaD4\\u0026w=80\\u0026h=80\\u0026c=1\\u0026pid=5.1\"},{\"name\":\"THE 15 BEST Things to Do in Atlanta (2024) - Tripadvisor\",\"url\":\"https://www.tripadvisor.com/Attractions-g60898-Activities-Atlanta_Georgia.html\",\"displayUrl\":\"https://www.tripadvisor.com/Attractions-g60898\",\"snippet\":\"Things to Do in Atlanta, Georgia: See Tripadvisor\\u0027s 475,622 traveler reviews and photos of Atlanta tourist attractions. Find what to do today, this weekend, or in October. We have reviews of the best places to see in Atlanta. Visit top-rated \\u0026 must-see attractions.\"},{\"name\":\"80\\u002B fall festivals \\u0026 fairs around metro Atlanta: Fun things to do in ...\",\"url\":\"https://www.atlantaonthecheap.com/fall-festivals-atlanta/\",\"displayUrl\":\"https://www.atlantaonthecheap.com/fall-festivals-atlanta\",\"snippet\":\"The best fall festivals in Atlanta in 2024 \\u2014 including state fairs, county fairs, carnivals, harvest celebrations, arts and music festivals, and more!\",\"thumbnailUrl\":\"https://www.bing.com/th?id=OIP.w0-v0ll6eXl6tJfBd5-ovwHaEV\\u0026w=80\\u0026h=80\\u0026c=1\\u0026pid=5.1\"},{\"name\":\"35\\u002B Best Things to Do in Atlanta in 2024 - Unexpected Atlanta\",\"url\":\"https://unexpectedatlanta.com/best-things-to-do-in-atlanta/\",\"displayUrl\":\"https://unexpectedatlanta.com/best-things-to-do-in-atlanta\",\"snippet\":\"Looking for the best things to do in Atlanta in 2024? Find fun, safe ideas for everyone in the family! These are 2024\\u0027s must-do activities.\"},{\"name\":\"33 Best Things to Do in Atlanta October 2024 with Kids\",\"url\":\"https://mommypoppins.com/atlanta-kids/weekend-events/best-things-to-do-in-atlanta-in-october-halloween-weekend\",\"displayUrl\":\"https://mommypoppins.com/atlanta-kids/weekend-events/best-things-to-do-in-atlanta-in...\",\"snippet\":\"Head north about 1.5 hours to join the German celebration in Helen for its 53rd year. Visitors embrace all things Bavarian from food to beverages to music and dancing. Kids enjoy the festivities too with their own dance floor (and the always kid-favorite chicken dance). The 2024 Oktoberfest Parade will begin at 12:00 PM on Saturday, September 7 ...\"},{\"name\":\"THE 10 BEST Things to Do in Atlanta (2024) - Tripadvisor\",\"url\":\"https://www.tripadvisor.co.uk/Attractions-g60898-Activities-Atlanta_Georgia.html\",\"displayUrl\":\"https://www.tripadvisor.co.uk/Attractions-g60898\",\"snippet\":\"Things to Do in Atlanta, Georgia: See Tripadvisor\\u0027s 475,589 traveller reviews and photos of Atlanta tourist attractions. Find what to do today, this weekend, or in October. We have reviews of the best places to see in Atlanta. Visit top-rated \\u0026 must-see attractions.\",\"thumbnailUrl\":\"https://www.bing.com/th?id=OIP.2Ivo_p-YFNkGw_DA_PyhkwHaFj\\u0026w=80\\u0026h=80\\u0026c=1\\u0026pid=5.1\"},{\"name\":\"Explore Atlanta Events for Today, This Week or Weekend\",\"url\":\"https://discoveratlanta.com/events/main/\",\"displayUrl\":\"https://discoveratlanta.com/events/m\",\"snippet\":\"Search the Atlanta events calendar below or explore our annual festivals and seasonal events taking place throughout the year. If you\\u2019re in ATL now, make sure you see what\\u2019s happening today, this week and find things to do this weekend so you don\\u2019t miss any one-of-a-kind Atlanta events. Venues and event organizers, submit events here.\",\"thumbnailUrl\":\"https://www.bing.com/th?id=OIP.FkxSV6JbrWatsFMM3_8dIAHaEh\\u0026w=80\\u0026h=80\\u0026c=1\\u0026pid=5.1\"},{\"name\":\"Things to Do in Atlanta in 2024: Events, festivals, and exhibits ...\",\"url\":\"https://www.thrillist.com/events/atlanta/events-calendar-in-atlanta-this-year\",\"displayUrl\":\"https://www.thrillist.com/events/atlanta/events-calendar-in-atlanta-this-year\",\"snippet\":\"23 Things You Have to Do in Atlanta This Year, From One Musicfest to Homecoming Make plans to attend these annual events in Atlanta that keep the party going all year.\",\"thumbnailUrl\":\"https://www.bing.com/th?id=OIP.WUHCPl7_RpepE3pSEdAEMgHaE8\\u0026w=80\\u0026h=80\\u0026c=1\\u0026pid=5.1\"}]}}\n",
       "```\n",
       "\n",
       "I called the tool named ExtractContentFromUrl with these arguments:\n",
       "```\n",
       "{\"assistantName\": \"WebPageAgentAnt\", \"instructions\": \"What events are happening in Atlanta on 2024-10-05? https://atlanta-ga.events/october/\"}\n",
       "```\n",
       "and got this result:\n",
       "```\n",
       "\"The information was not found in the page.\"\n",
       "```\n",
       "\n",
       "I called the tool named ExtractContentFromUrl with these arguments:\n",
       "```\n",
       "{\"assistantName\": \"WebPageAgentAnt\", \"instructions\": \"What events are happening in Atlanta on 2024-10-12? https://gosouthatlanta.com/things-to-do/events/atlanta-in-october.html\"}\n",
       "```\n",
       "and got this result:\n",
       "```\n",
       "\"Here are the events happening in Atlanta on October 12, 2024:\\n\\n1. **Oakhurst Porchfest**: Annual community music festival in Decatur with over 100 live performances on Oakhurst neighborhood porches. More details.\\n2. **Madison Avenue Derby**: Annual races in Decatur in homemade, human-powered soapbox cars, to benefit local children\\u2019s charities. More details.\\n3. **Politics War Room with James Carville \\u0026 Al Hunt**: Talk event at Variety Playhouse. More details.\\n4. **Atlanta Pride Festival**: One of the biggest Pride festivals in the country, held in Piedmont Park, with live performances, parade, marches, marketplace and more. More details.\\n5. **Taste \\u0026 Brews Fall Festival**: Annual food and beer festival at Etowah River Park, Canton, featuring southern food and beers, musicians from across Georgia, arts and crafts, farmers market, children\\u2019s activities, and more. More details.\\n6. **Old Fourth Ward Fall Arts Festival**: Twice-annual arts festival in Historic Fourth Ward Park featuring local and Georgian artists, demonstrations, live entertainment, art activities, food, and more. More details.\\n7. **Chalktoberfest**: Popular annual art and beer festival in Marietta Square, featuring professional chalk artists, 120\\u002B craft beers, live music, arts and crafts, food trucks, amateur chalk art competition, and more. More details.\\n8. **FashionFest**: Festival of urban-popular fashion and streetwear at Ambient Plus Studio, with fashion and footwear vendors, food, music, and more. More details.\"\n",
       "```\n",
       "\n",
       "I called the tool named ExtractContentFromUrl with these arguments:\n",
       "```\n",
       "{\"assistantName\": \"WebPageAgentAnt\", \"instructions\": \"What events are happening in Atlanta on 2024-10-19? https://www.msn.com/en-us/travel/tripideas/33-best-things-to-do-in-atlanta-october-2024-with-kids/ar-AA1rpsNP\"}\n",
       "```\n",
       "and got this result:\n",
       "```\n",
       "\"The information was not found in the page\"\n",
       "```\n",
       "\n",
       "I called the tool named ExtractContentFromUrl with these arguments:\n",
       "```\n",
       "{\"assistantName\": \"WebPageAgentAnt\", \"instructions\": \"What events are happening in Atlanta on 2024-10-26? https://discoveratlanta.com/stories/things-to-do/cool-things-to-do-in-october-in-atlanta/\"}\n",
       "```\n",
       "and got this result:\n",
       "```\n",
       "\"On October 26, 2024, the following event is happening in Atlanta:\\n\\n## ONE MusicFest\\n- **Date:** October 26 and 27\\n- **Location:** Piedmont Park\\n- **Performers:** Cardi B, Earth, Wind and Fire, T.I., Keyshia Cole\\n- **Description:** ONE MusicFest features urban progressive music and brings together a diverse lineup of performers.\\n\\nFor more details, visit the [ONE MusicFest](https://discoveratlanta.com/stories/things-to-do/cool-things-to-do-in-october-in-atlanta/) section on Discover Atlanta.\"\n",
       "```\n",
       "\n",
       "Here are some exciting events happening in Atlanta for each of the next four weekends:\n",
       "\n",
       "### Weekend of October 5, 2024\n",
       "\n",
       "1. **Big Green Egg \"EGGtoberfest\"**\n",
       "   - **Date:** October 5, 2024\n",
       "   - **Location:** Atlanta, GA\n",
       "   - **Description:** Celebrating the 50th anniversary of Big Green Egg with cooking demonstrations, tastings, and festivities.\n",
       "   - [More details](https://discoveratlanta.com/events/main/)\n",
       "   - ![Big Green Egg EGGtoberfest](https://www.bing.com/th?id=OIP.FkxSV6JbrWatsFMM3_8dIAHaEh&w=80&h=80&c=1&pid=5.1)\n",
       "\n",
       "### Weekend of October 12, 2024\n",
       "\n",
       "1. **Oakhurst Porchfest**\n",
       "   - **Date:** October 12, 2024\n",
       "   - **Location:** Decatur, GA\n",
       "   - **Description:** Annual community music festival with over 100 live performances on Oakhurst neighborhood porches.\n",
       "   - [More details](https://gosouthatlanta.com/things-to-do/events/atlanta-in-october.html)\n",
       "   \n",
       "2. **Atlanta Pride Festival**\n",
       "   - **Date:** October 12, 2024\n",
       "   - **Location:** Piedmont Park, Atlanta, GA\n",
       "   - **Description:** One of the biggest Pride festivals in the country, featuring live performances, a parade, marches, a marketplace, and more.\n",
       "   - [More details](https://gosouthatlanta.com/things-to-do/events/atlanta-in-october.html)\n",
       "   - ![Atlanta Pride Festival](https://www.bing.com/th?id=OIP.cGQLTADJ7EIEL8n56X81XwHaLH&pid=Api)\n",
       "\n",
       "### Weekend of October 19, 2024\n",
       "\n",
       "1. **Boo at the Zoo**\n",
       "   - **Date:** October 19 & 20, 2024\n",
       "   - **Location:** Zoo Atlanta, Atlanta, GA\n",
       "   - **Description:** A not-so-scary Halloween festival for kids, featuring costumes and fun activities.\n",
       "   - [More details](https://www.msn.com/en-us/travel/tripideas/33-best-things-to-do-in-atlanta-october-2024-with-kids/ar-AA1rpsNP)\n",
       "   - ![Boo at the Zoo](https://www.bing.com/th?id=OIP.H1JPxx3mkr-XvYjeXre46AHaLH&pid=Api)\n",
       "\n",
       "### Weekend of October 26, 2024\n",
       "\n",
       "1. **ONE MusicFest**\n",
       "   - **Date:** October 26 and 27, 2024\n",
       "   - **Location:** Piedmont Park, Atlanta, GA\n",
       "   - **Performers:** Cardi B, Earth, Wind and Fire, T.I., Keyshia Cole\n",
       "   - **Description:** A festival featuring urban progressive music and a diverse lineup of performers.\n",
       "   - [More details](https://discoveratlanta.com/stories/things-to-do/cool-things-to-do-in-october-in-atlanta/)\n",
       "   - ![ONE MusicFest](https://www.bing.com/th?id=OIP.4jf9xqKu3QRk_XhZ3J7DYQHaD4&w=80&h=80&c=1&pid=5.1)\n",
       "\n",
       "These events offer a variety of activities for everyone to enjoy, from music festivals and community gatherings to family-friendly Halloween celebrations.\n"
      ]
     },
     "metadata": {},
     "output_type": "display_data"
    }
   ],
   "source": [
    "assistantRunOptions = new AssistantRunOptions() {\n",
    "    AssistantName = \"WebSearchAgentAnt\",\n",
    "    Instructions = \"Use python to get todays date and then use it to find things to do in Atlanta for each of the next four weekends with pictures and correct links from ExtractContentFromUrl.\\n\\nWhen choosing links for crawl to evaluate with ExtractContentFromUrl choose a variety of hosts for urls from which you extract content. Limit your use of ExtractContentFromUrl to five calls or less. Do not make the error of including the url as a parameter, it must be inside 'instructions' as indicated by the tool definition. Be careful to not include events in the past in your final answer. You should perform four searches at once.\\nDon't forget to include valid links!\",\n",
    "};\n",
    "var output2 = await AntRunnerLib.AssistantRunner.RunThread(assistantRunOptions, config);\n",
    "output2.Dialog.DisplayAs(\"text/markdown\");"
   ]
  },
  {
   "cell_type": "markdown",
   "metadata": {},
   "source": [
    "## Clean Up"
   ]
  },
  {
   "cell_type": "code",
   "execution_count": 7,
   "metadata": {
    "dotnet_interactive": {
     "language": "csharp"
    },
    "polyglot_notebook": {
     "kernelName": "csharp"
    },
    "vscode": {
     "languageId": "polyglot-notebook"
    }
   },
   "outputs": [
    {
     "name": "stdout",
     "output_type": "stream",
     "text": [
      "Deleted assistant\n",
      "Deleted assistant\n"
     ]
    }
   ],
   "source": [
    "var assistant = (await client.AssistantList())?.Data?.FirstOrDefault(o => o.Name == \"WebSearchAgentAnt\");\n",
    "if(assistant != null) {\n",
    "    await client.AssistantDelete(assistant.Id);\n",
    "    Console.WriteLine(\"Deleted assistant\");\n",
    "}\n",
    "else\n",
    "{\n",
    "    Console.WriteLine(\"Didn't find WebSearchAgentAnt\");\n",
    "}\n",
    "\n",
    "assistant = (await client.AssistantList())?.Data?.FirstOrDefault(o => o.Name == \"WebPageAgentAnt\");\n",
    "if(assistant != null) {\n",
    "    await client.AssistantDelete(assistant.Id);\n",
    "    Console.WriteLine(\"Deleted assistant\");\n",
    "}\n",
    "else\n",
    "{\n",
    "    Console.WriteLine(\"Didn't find WebPageAgentAnt\");\n",
    "}"
   ]
  }
 ],
 "metadata": {
  "kernelspec": {
   "display_name": ".NET (C#)",
   "language": "C#",
   "name": ".net-csharp"
  },
  "language_info": {
   "name": "python"
  },
  "polyglot_notebook": {
   "kernelInfo": {
    "defaultKernelName": "csharp",
    "items": [
     {
      "aliases": [],
      "name": "csharp"
     }
    ]
   }
  }
 },
 "nbformat": 4,
 "nbformat_minor": 2
}
