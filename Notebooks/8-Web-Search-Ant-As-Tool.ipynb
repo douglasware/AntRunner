{
 "cells": [
  {
   "cell_type": "markdown",
   "metadata": {},
   "source": [
    "# This notebook requires a deployment named \"gpt-4o\", edit as needed\n",
    "\n",
    "## Web Search Ant As Tool\n",
    "\n",
    "This example demonstrates one ant using another ant as a tool so that the second ant's work is outside the main thread.\n",
    "\n",
    "The **WebSearchAgentAnt** demonstrates the use of a Web API secured using an API key with an auth header. \n",
    "This sample requires you to create a Web Search (bing) resource in Azure and enter its corresponding API key in [0-AI-settings](0-AI-settings.ipynb)\n",
    "\n",
    "WebSearchAgentAnt uses **WebPageAgentAnt** via a tool call to evaluate search results using the search results link.\n",
    "\n",
    "This demo uses a lot of tokens. \n",
    "\n",
    "**If your quota is low, you will get throttled**"
   ]
  },
  {
   "cell_type": "markdown",
   "metadata": {},
   "source": [
    "## First steps\n",
    "- First, download AntRunLib from Nuget\n",
    "- At least once, set up the environment using **[0-AI-settings](0-AI-settings.ipynb)**"
   ]
  },
  {
   "cell_type": "code",
   "execution_count": 10,
   "metadata": {
    "dotnet_interactive": {
     "language": "csharp"
    },
    "polyglot_notebook": {
     "kernelName": "csharp"
    },
    "vscode": {
     "languageId": "polyglot-notebook"
    }
   },
   "outputs": [
    {
     "data": {
      "text/html": [
       "<div><div></div><div></div><div><strong>Installed Packages</strong><ul><li><span>AntRunnerLib, 0.8.8</span></li></ul></div></div>"
      ]
     },
     "metadata": {},
     "output_type": "display_data"
    }
   ],
   "source": [
    "#r \"nuget: AntRunnerLib, 0.8.8\"\n",
    "\n",
    "using AntRunnerLib;\n",
    "using AntRunnerLib.Identity;\n",
    "using static AntRunnerLib.ClientUtility;\n",
    "using System.IO;\n",
    "\n",
    "#!import config/Settings.cs \n",
    "\n",
    "var envVariables = Settings.GetEnvironmentVariables();\n",
    "foreach (var kvp in envVariables)\n",
    "{\n",
    "    Environment.SetEnvironmentVariable(kvp.Key, kvp.Value);\n",
    "}\n",
    "\n",
    "Environment.SetEnvironmentVariable(\"AZURE_OPENAI_DEPLOYMENT\", \"gpt-4o\");\n",
    "\n",
    "var config = AzureOpenAiConfigFactory.Get();\n",
    "var client = GetOpenAiClient(config);\n"
   ]
  },
  {
   "cell_type": "code",
   "execution_count": 24,
   "metadata": {
    "dotnet_interactive": {
     "language": "csharp"
    },
    "polyglot_notebook": {
     "kernelName": "csharp"
    },
    "vscode": {
     "languageId": "polyglot-notebook"
    }
   },
   "outputs": [
    {
     "name": "stdout",
     "output_type": "stream",
     "text": [
      "asst_StWNwieY2gVVH24eaF0qiMk0\n",
      "asst_n0T4mdW5YlCPY3otcsNocqXT\n"
     ]
    }
   ],
   "source": [
    "var assistantId = await AssistantUtility.Create(\"WebSearchAgentAnt\", config);\n",
    "Console.WriteLine(assistantId);\n",
    "assistantId = await AssistantUtility.Create(\"WebPageAgentAnt\", config);\n",
    "Console.WriteLine(assistantId);"
   ]
  },
  {
   "cell_type": "code",
   "execution_count": 12,
   "metadata": {
    "dotnet_interactive": {
     "language": "csharp"
    },
    "polyglot_notebook": {
     "kernelName": "csharp"
    },
    "vscode": {
     "languageId": "polyglot-notebook"
    }
   },
   "outputs": [],
   "source": [
    "AntLoader.LoadAssembly(@\".\\AssistantDefinitions\\WebPageAgentAnt\\HtmlAgilityPack.dll\");\n",
    "AntLoader.LoadAssembly(@\".\\AssistantDefinitions\\WebPageAgentAnt\\HtmlAgilityPackExtensions.dll\");"
   ]
  },
  {
   "cell_type": "markdown",
   "metadata": {},
   "source": [
    "## Run the Assistant\n",
    "\n",
    "`output.Dialog` shows the conversation."
   ]
  },
  {
   "cell_type": "code",
   "execution_count": 13,
   "metadata": {
    "dotnet_interactive": {
     "language": "csharp"
    },
    "polyglot_notebook": {
     "kernelName": "csharp"
    },
    "vscode": {
     "languageId": "polyglot-notebook"
    }
   },
   "outputs": [
    {
     "data": {
      "text/markdown": [
       "\n",
       "User: Use python to get todays date and then use it to find things to do in Atlanta today. Be careful to not include events in the past in your final answer.\n",
       "\n",
       "Assistant: I ran this code:\n",
       "```\n",
       "from datetime import datetime\r\n",
       "\r\n",
       "# Get today's date\r\n",
       "today_date = datetime.now().strftime(\"%Y-%m-%d\")\r\n",
       "today_date\n",
       "```\n",
       "\n",
       "I called the tool named crawl with these arguments:\n",
       "```\n",
       "{\"q\":\"things to do in Atlanta on 2024-09-25\",\"textFormat\":\"Raw\"}\n",
       "```\n",
       "and got this result:\n",
       "```\n",
       "{\"queryContext\":{\"originalQuery\":\"things to do in Atlanta on 2024-09-25\"},\"webPages\":{\"value\":[{\"name\":\"Cool Things To Do in September in Atlanta\",\"url\":\"https://discoveratlanta.com/stories/things-to-do/cool-things-to-do-in-september-in-atlanta/\",\"displayUrl\":\"https://discoveratlanta.com/stories/things-to-do/cool-things-to-do-in-september-in-atlanta\",\"snippet\":\"The Sweet Auburn Music Fest, which takes place Sept. 28-29. The festival, located on Auburn Avenue, one of Atlanta\\u2019s most iconic streets, offers fun-filled entertainment, live music \\u2014 everything from R\\u0026B to gospel to alternative favorites \\u2014 international food court, national artists, celebrities and vendors of all types.\",\"cachedPageUrl\":\"http://cc.bingj.com/cache.aspx?q=things\\u002Bto\\u002Bdo\\u002Bin\\u002BAtlanta\\u002Bon\\u002B2024-09-25\\u0026d=4692574352310340\\u0026mkt=en-US\\u0026setlang=en-US\\u0026w=c-5Oucqqe-FV74GkIkdoRE4k4vk9MNbJ\",\"thumbnailUrl\":\"https://www.bing.com/th?id=OIP.m0ENCio7ytS2o9PQRWDCRgHaD4\\u0026w=80\\u0026h=80\\u0026c=1\\u0026pid=5.1\"},{\"name\":\"80\\u002B fall festivals \\u0026 fairs around metro Atlanta: Fun things to do in ...\",\"url\":\"https://www.atlantaonthecheap.com/fall-festivals-atlanta/\",\"displayUrl\":\"https://www.atlantaonthecheap.com/fall-festivals-atlanta\",\"snippet\":\"The gate price is $25 and there is a small discount for buying online in advance. ... The Best Free Things to Do in Atlanta in 2024 - says: August 20, 2024 at 3:57 pm [\\u2026] Castleberry Hill Historic District Located just southwest of the city and loosely bounded by McDonald Street, Peters Street, Walker Street, and Northside Drive, the ...\",\"cachedPageUrl\":\"http://cc.bingj.com/cache.aspx?q=things\\u002Bto\\u002Bdo\\u002Bin\\u002BAtlanta\\u002Bon\\u002B2024-09-25\\u0026d=5012794228946274\\u0026mkt=en-US\\u0026setlang=en-US\\u0026w=AqqJM900-WHnjjGt9vluoyq1DPm6ofe-\",\"thumbnailUrl\":\"https://www.bing.com/th?id=OIP.w0-v0ll6eXl6tJfBd5-ovwHaEV\\u0026w=80\\u0026h=80\\u0026c=1\\u0026pid=5.1\"},{\"name\":\"Atlanta Events September 2024: Concerts, Shows, Sports...\",\"url\":\"https://atlanta-ga.events/september/\",\"displayUrl\":\"https://atlanta-ga.events/september\",\"snippet\":\"This guide is your gateway to discovering the best things to do in Atlanta, from Concerts and Theater Shows to Sports events and music festivals. You\\u2019ll find a detailed list of all the most engaging and exciting activities happening throughout the month. ... Sep 25, 2024 6:30 PM . Lorna Shore . Upcoming Events: 2. The Tabernacle - GA . Sep 25 ...\",\"cachedPageUrl\":\"http://cc.bingj.com/cache.aspx?q=things\\u002Bto\\u002Bdo\\u002Bin\\u002BAtlanta\\u002Bon\\u002B2024-09-25\\u0026d=4854189676169673\\u0026mkt=en-US\\u0026setlang=en-US\\u0026w=73iRaVHIvJefbkmdL1lCvH4mS1bjztOY\"},{\"name\":\"Explore Atlanta Events for Today, This Week or Weekend - Discover Atlanta\",\"url\":\"https://discoveratlanta.com/events/main/\",\"displayUrl\":\"https://discoveratlanta.com/events/m\",\"snippet\":\"Explore the Atlanta events calendar for things to do today, this week or this weekend. Find upcoming festivals, seasonal events and more! ... Every Saturday until 09/28/2024. Protect Yo Energy Con 9/24/24 \\u2013 11/9/24. ... Every Wednesday until 09/25/2024\",\"cachedPageUrl\":\"http://cc.bingj.com/cache.aspx?q=things\\u002Bto\\u002Bdo\\u002Bin\\u002BAtlanta\\u002Bon\\u002B2024-09-25\\u0026d=4819881473496114\\u0026mkt=en-US\\u0026setlang=en-US\\u0026w=zvJBiG0Dg4eP1GMx_bJv9FTM8ziERJGY\",\"thumbnailUrl\":\"https://www.bing.com/th?id=OIP.FkxSV6JbrWatsFMM3_8dIAHaEh\\u0026w=80\\u0026h=80\\u0026c=1\\u0026pid=5.1\"},{\"name\":\"Events \\u0026 Things To Do in Atlanta In September 2024 - AllEvents.in\",\"url\":\"https://allevents.in/atlanta/september\",\"displayUrl\":\"https://allevents.in/atlanta/september\",\"snippet\":\"Find events and things to do in September 2024 in Atlanta. Discover parties, concerts, meets, shows, sports, club, reunion, Performance happening in September 2024 in Atlanta. ... 25 Sep 2024: 454: Aisle 5, Atlanta: Help us find the right events for you. Tell us what you love, and we will curate a list of events for you. Get Started\",\"cachedPageUrl\":\"http://cc.bingj.com/cache.aspx?q=things\\u002Bto\\u002Bdo\\u002Bin\\u002BAtlanta\\u002Bon\\u002B2024-09-25\\u0026d=4505378192976601\\u0026mkt=en-US\\u0026setlang=en-US\\u0026w=FUSDAVXF94sAzxJYI-i48UowFfDohTmv\"},{\"name\":\"The Best Things to Do in Atlanta in September\",\"url\":\"https://unexpectedatlanta.com/the-best-things-to-do-in-atlanta-in-september/\",\"displayUrl\":\"https://unexpectedatlanta.com/the-best-things-to-do-in-atlanta-in-september\",\"snippet\":\"Atlanta Events: September 2024 Experience the Best of Atlanta\\u2019s Food \\u0026 History. Try some of the best eats in Atlanta! The #1-rated Grant Park Past \\u0026 Future Food Walk is a fun walking tour showcasing the best of Atlanta\\u2019s food and history. On this tour, you\\u2019ll taste eight modern and Southern foods from three outstanding locally owned food stops.\",\"cachedPageUrl\":\"http://cc.bingj.com/cache.aspx?q=things\\u002Bto\\u002Bdo\\u002Bin\\u002BAtlanta\\u002Bon\\u002B2024-09-25\\u0026d=4781604727099753\\u0026mkt=en-US\\u0026setlang=en-US\\u0026w=X_Y32Shq0Tl-bHwGvtgeUoQiW0MCD0-O\",\"thumbnailUrl\":\"https://www.bing.com/th?id=OIP.BV6NvB-FhOL3LSCX1dcUJwHaHa\\u0026w=80\\u0026h=80\\u0026c=1\\u0026pid=5.1\"},{\"name\":\"Atlanta Events - September 2024 - Go South Atlanta\",\"url\":\"https://gosouthatlanta.com/things-to-do/events/atlanta-in-september.html\",\"displayUrl\":\"https://gosouthatlanta.com/things-to-do/events/atlanta-in-september.html\",\"snippet\":\"More details. \\u2013 Dragon Con, August 29 - September 2 2024. One of the biggest annual pop culture conventions in the country. More details. \\u2013 Atlanta Black Theatre Festival, August 30 - September 1 2024. Annual festival celebrating the Black experience in the performing arts, with plays, panels, masterclasses and other events.\",\"cachedPageUrl\":\"http://cc.bingj.com/cache.aspx?q=things\\u002Bto\\u002Bdo\\u002Bin\\u002BAtlanta\\u002Bon\\u002B2024-09-25\\u0026d=4712253893574850\\u0026mkt=en-US\\u0026setlang=en-US\\u0026w=aWkJWqw243Je4oOvzq1dGpeg_GE4sHjt\",\"thumbnailUrl\":\"https://www.bing.com/th?id=OIP.xm-3dn3hYJZHsVVU9WO5qwHaD4\\u0026w=80\\u0026h=80\\u0026c=1\\u0026pid=5.1\"},{\"name\":\"10 things to do in NH this weekend: Keene International Fest, Deerfield ...\",\"url\":\"https://www.nhpr.org/nh-news/2024-09-25/10-things-to-do-in-nh-this-weekend-keene-international-fest-deerfield-fair\",\"displayUrl\":\"https://www.nhpr.org/nh-news/2024-09-25/10-things-to-do-in-nh-this-weekend-keene...\",\"snippet\":\"Deerfield Fair from Thursday, Sept. 26 through Sunday, Sept. 29 at the Deerfield Fairgrounds.More info.; Shemekia Copeland on Friday, Sept. 27 at 8 p.m. at the Rochester Opera House.More info ...\",\"cachedPageUrl\":\"http://cc.bingj.com/cache.aspx?q=things\\u002Bto\\u002Bdo\\u002Bin\\u002BAtlanta\\u002Bon\\u002B2024-09-25\\u0026d=181751822028\\u0026mkt=en-US\\u0026setlang=en-US\\u0026w=eZbHeYvQO6cCw9RRKfbK4FicT0pW5Dvv\"},{\"name\":\"Stuck by someone stinky on a plane? What to do | Cruising Altitude\",\"url\":\"https://www.usatoday.com/story/travel/columnist/2024/09/25/smelly-seat-neighbor-cruising-altitude/75304713007/\",\"displayUrl\":\"https://www.usatoday.com/story/travel/columnist/2024/09/25/smelly-seat-neighbor...\",\"snippet\":\"Like many flights in 2024, Enright\\u2019s flight all those years ago was completely full and she was unable to move. \\u201CI remember trying to shrink myself toward the window, move toward the window.\",\"cachedPageUrl\":\"http://cc.bingj.com/cache.aspx?q=things\\u002Bto\\u002Bdo\\u002Bin\\u002BAtlanta\\u002Bon\\u002B2024-09-25\\u0026d=3068052393524\\u0026mkt=en-US\\u0026setlang=en-US\\u0026w=ovAuHD4JKtoIlkxHDRQj-j_ilHeSx99E\"},{\"name\":\"Why do people still back Trump, after everything? 5 things to ...\",\"url\":\"https://theconversation.com/why-do-people-still-back-trump-after-everything-5-things-to-understand-about-maga-supporters-thinking-239031\",\"displayUrl\":\"https://theconversation.com/why-do-people-still-back-trump-after-everything-5-things...\",\"snippet\":\"Donald Trump speaks at a rally on July 31, 2024, in Harrisburg, Pa. Spencer Platt/Getty Images 1. Media distortion. Where those on the left see Trump\\u2019s many failings, those on the right may see ...\",\"cachedPageUrl\":\"http://cc.bingj.com/cache.aspx?q=things\\u002Bto\\u002Bdo\\u002Bin\\u002BAtlanta\\u002Bon\\u002B2024-09-25\\u0026d=113089139902\\u0026mkt=en-US\\u0026setlang=en-US\\u0026w=OMzqXjuo8TOtDM3evag1gEdA9LeZYLo-\"}]},\"images\":{\"value\":[{\"thumbnailUrl\":\"https://tse1.mm.bing.net/th?id=OIP.B9dwp_jKTmtE_Fruodr10QHaE8\\u0026pid=Api\",\"contentUrl\":\"https://www.treksplorer.com/wp-content/uploads/things-to-do-in-atlanta.jpg\",\"hostPageUrl\":\"https://www.treksplorer.com/things-to-do-in-atlanta-ga-usa/\"},{\"thumbnailUrl\":\"https://tse1.mm.bing.net/th?id=OIP.y60M5u48x8RyXKH9Rs_4vgAAAA\\u0026pid=Api\",\"contentUrl\":\"https://foodtoursatlanta.com/wp-content/uploads/2021/09/Blue-Engagement-Essentials-Blog-Banner-1024x576.png\",\"hostPageUrl\":\"https://foodtoursatlanta.com/33-things-to-do-in-atlanta/\"},{\"thumbnailUrl\":\"https://tse1.mm.bing.net/th?id=OIP.FFnn7XEC9iNqbbTqDM01LQHaD3\\u0026pid=Api\",\"contentUrl\":\"https://www.busytourist.com/wp-content/uploads/2020/07/things-to-do-in-Atlanta-803x420.jpg\",\"hostPageUrl\":\"https://www.busytourist.com/things-to-do-in-atlanta-ga/\"},{\"thumbnailUrl\":\"https://tse1.mm.bing.net/th?id=OIP.Z_ovzOowOSo8cB8hxjKVigHaLH\\u0026pid=Api\",\"contentUrl\":\"https://www.busytourist.com/wp-content/uploads/2020/07/best-things-to-do-in-Atlanta-GA-1-1.jpg\",\"hostPageUrl\":\"https://www.busytourist.com/things-to-do-in-atlanta-ga/\"},{\"thumbnailUrl\":\"https://tse1.mm.bing.net/th?id=OIP.jU8QTHjizge3CjySqF-SrwAAAA\\u0026pid=Api\",\"contentUrl\":\"https://a.cdn-hotels.com/gdcs/production140/d580/4881c5aa-5a32-4a10-8fed-9617f9926700.jpg\",\"hostPageUrl\":\"https://uk.hotels.com/go/usa/things-to-do-atlanta\"},{\"thumbnailUrl\":\"https://tse1.mm.bing.net/th?id=OIP.yRC0krj1Jbi8qtYhSLLimgHaE8\\u0026pid=Api\",\"contentUrl\":\"https://lp-cms-production.imgix.net/2021-05/GettyRF_486068945.jpg?auto=compress\\u0026fit=crop\\u0026fm=auto\\u0026sharp=10\\u0026vib=20\\u0026w=1200\\u0026h=800\",\"hostPageUrl\":\"https://www.lonelyplanet.com/articles/top-things-to-do-in-atlanta\"},{\"thumbnailUrl\":\"https://tse1.mm.bing.net/th?id=OIP.BawFpewdQrecAtgiS9AiOAHaHa\\u0026pid=Api\",\"contentUrl\":\"https://unexpectedatlanta.com/wp-content/uploads/2023/04/The-Best-Things-to-Do-in-Midtown-Atlanta-500x500.png\",\"hostPageUrl\":\"https://unexpectedatlanta.com/best-things-to-do-midtown-atlanta/\"},{\"thumbnailUrl\":\"https://tse1.mm.bing.net/th?id=OIP.zDsChx3osL1eGz8a5zpM-AAAAA\\u0026pid=Api\",\"contentUrl\":\"https://localadventurer.com/wp-content/uploads/2016/04/free-things-to-do-in-atlanta.jpg\",\"hostPageUrl\":\"https://localadventurer.com/free-things-to-do-in-atlanta/\"},{\"thumbnailUrl\":\"https://tse1.mm.bing.net/th?id=OIP.zsUlule-ACLeXXDRofPdiAAAAA\\u0026pid=Api\",\"contentUrl\":\"https://www.busytourist.com/wp-content/uploads/2020/07/things-to-do-in-Atlanta-2.jpg\",\"hostPageUrl\":\"https://www.busytourist.com/things-to-do-in-atlanta-ga/\"},{\"thumbnailUrl\":\"https://tse1.mm.bing.net/th?id=OIP.Q4O0rf1jd1qA19nIfDvg_AHaEK\\u0026pid=Api\",\"contentUrl\":\"https://blog.ticketmaster.com/wp-content/uploads/atlanta-this-weekend-1024x576.jpg\",\"hostPageUrl\":\"https://blog.ticketmaster.com/things-to-do-atlanta-this-weekend/\"},{\"thumbnailUrl\":\"https://tse1.mm.bing.net/th?id=OIP.1mkVJxhMEz5OmxnaoqxJMwHaLD\\u0026pid=Api\",\"contentUrl\":\"http://localadventurer.com/wp-content/uploads/2016/02/101-things-to-do-in-atlanta-bucket-list.jpg\",\"hostPageUrl\":\"http://localadventurer.com/atlanta-bucket-list-things-to-do-in-atlanta/\"},{\"thumbnailUrl\":\"https://tse1.mm.bing.net/th?id=OIP.CHEqAtGYFeq_T51LtMbndAAAAA\\u0026pid=Api\",\"contentUrl\":\"https://www.cheapoair.com/things-to-do/wp-content/uploads/sites/3/2016/06/Shopping-in-Atlanta-1200x800.jpg\",\"hostPageUrl\":\"https://www.cheapoair.com/things-to-do/atlanta/atlanta-shopping-guide/\"},{\"thumbnailUrl\":\"https://tse1.mm.bing.net/th?id=OIP.v6IPB_NTvbmy-pxyZSCA0QHaE7\\u0026pid=Api\",\"contentUrl\":\"https://rwethereyetmom.com/wp-content/uploads/2015/08/6-Things-to-do-in-Atlanta-1024x681.jpg\",\"hostPageUrl\":\"https://rwethereyetmom.com/6-things-to-do-in-atlanta.html\"},{\"thumbnailUrl\":\"https://tse1.mm.bing.net/th?id=OIP.U9xvQMbjg9T0YiriayftJAHaLH\\u0026pid=Api\",\"contentUrl\":\"https://www.busytourist.com/wp-content/uploads/2020/07/Things-To-Do-In-Atlanta-pin1.jpg\",\"hostPageUrl\":\"https://www.busytourist.com/things-to-do-in-atlanta-ga/\"},{\"thumbnailUrl\":\"https://tse1.mm.bing.net/th?id=OIP.H1JPxx3mkr-XvYjeXre46AHaLH\\u0026pid=Api\",\"contentUrl\":\"https://www.busytourist.com/wp-content/uploads/2020/07/best-things-to-do-in-Atlanta-GA-1-2.jpg\",\"hostPageUrl\":\"https://www.busytourist.com/things-to-do-in-atlanta-ga/\"},{\"thumbnailUrl\":\"https://tse1.mm.bing.net/th?id=OIP.Agse3pS4C61ss3RxvVgySwHaEK\\u0026pid=Api\",\"contentUrl\":\"https://wirksmoving.com/wp-content/uploads/2020/04/Things-to-do-in-Atlanta-with-Kids-1536x864.png\",\"hostPageUrl\":\"https://wirksmoving.com/blog/things-to-do-in-atlanta-ga-with-kids/\"},{\"thumbnailUrl\":\"https://tse1.mm.bing.net/th?id=OIP.6_fMiPMrfeqD9K0vgkdR6QHaE8\\u0026pid=Api\",\"contentUrl\":\"https://www.getawaymavens.com/wp-content/uploads/2019/01/Westin-Peachtree-Atlanta.jpg\",\"hostPageUrl\":\"https://www.getawaymavens.com/downtown-atlanta/\"},{\"thumbnailUrl\":\"https://tse1.mm.bing.net/th?id=OIP.TNv2qzXsSFvw43t4zu0gGgHaE8\\u0026pid=Api\",\"contentUrl\":\"https://www.travelandleisure.com/thmb/3NRm4q9Qg2bdUqXvenPBVeIloV4=/1500x0/filters:no_upscale():max_bytes(150000):strip_icc()/atlanta-skyline-TODOATL0122-195afa04632e43f5be27ef2dcc94ca3b.jpg\",\"hostPageUrl\":\"https://www.travelandleisure.com/attractions/best-things-to-do-in-atlanta-georgia\"},{\"thumbnailUrl\":\"https://tse1.mm.bing.net/th?id=OIP.TAb-J4vHX4UsIX--2psZXwHaDt\\u0026pid=Api\",\"contentUrl\":\"https://www.familyvacationcritic.com/wp-content/uploads/sites/19/2019/11/atlanta-centennial-park-hero.jpg?is-pending-load=1\",\"hostPageUrl\":\"https://www.familyvacationcritic.com/free-things-to-do-in-atlanta-with-kids/art/\"},{\"thumbnailUrl\":\"https://tse1.mm.bing.net/th?id=OIP.EwTRMK2YnFak4c4zUFMiVAHaHa\\u0026pid=Api\",\"contentUrl\":\"https://unexpectedatlanta.com/wp-content/uploads/2022/09/Things-to-Do-in-Downtown-Atlanta.png\",\"hostPageUrl\":\"https://unexpectedatlanta.com/things-to-do-in-downtown-atlanta/\"}]}}\n",
       "```\n",
       "\n",
       "I called the tool named ExtractContentFromUrl with these arguments:\n",
       "```\n",
       "{\"assistantName\": \"WebPageAgentAnt\", \"instructions\": \"What events are happening on September 25, 2024? https://discoveratlanta.com/stories/things-to-do/cool-things-to-do-in-september-in-atlanta/\"}\n",
       "```\n",
       "and got this result:\n",
       "```\n",
       "\"The information about events happening on September 25, 2024, was not found on the page. The webpage contains details about various events occurring throughout September 2024 in Atlanta, but there is no specific mention of events on September 25, 2024.\"\n",
       "```\n",
       "\n",
       "I called the tool named ExtractContentFromUrl with these arguments:\n",
       "```\n",
       "{\"assistantName\": \"WebPageAgentAnt\", \"instructions\": \"What events are happening on September 25, 2024? https://www.atlantaonthecheap.com/fall-festivals-atlanta/\"}\n",
       "```\n",
       "and got this result:\n",
       "```\n",
       "\"The page did not contain specific events happening on September 25, 2024. The information was not found in the page.\"\n",
       "```\n",
       "\n",
       "I called the tool named ExtractContentFromUrl with these arguments:\n",
       "```\n",
       "{\"assistantName\": \"WebPageAgentAnt\", \"instructions\": \"What events are happening on September 25, 2024? https://atlanta-ga.events/september/\"}\n",
       "```\n",
       "and got this result:\n",
       "```\n",
       "\"The events happening on September 25, 2024, in Atlanta, GA include:\\n\\n1. **Lorna Shore**\\n   - **Time**: 6:30 PM\\n   - **Venue**: The Tabernacle - GA, 152 Luckie St, Atlanta, GA, US\\n   - **Prices**: From $20 (Avg. price ~$89)\\n   - **[Tickets](https://atlanta-ga.events/tickets/lorna-shore/)**\\n\\n2. **Sevendust**\\n   - **Time**: 6:30 PM\\n   - **Venue**: The Eastern - GA, 800 Old Flat Shoals Road SE, Atlanta, GA, US\\n   - **Prices**: From $39 (Avg. price ~$61)\\n   - **[Tickets](https://atlanta-ga.events/tickets/sevendust/)**\\n\\n3. **Creed, 3 Doors Down \\u0026 Finger Eleven**\\n   - **Time**: 7:00 PM\\n   - **Venue**: Ameris Bank Amphitheatre, 2200 Encore Parkway, Alpharetta, GA, US\\n   - **Prices**: From $39 (Avg. price ~$223)\\n   - **[Tickets](https://atlanta-ga.events/tickets/creed/)**\\n\\n4. **Atlanta Braves vs. New York Mets**\\n   - **Time**: 7:20 PM\\n   - **Venue**: Truist Park, 1100 Circle 75 Pkwy, Atlanta, GA, US\\n   - **Prices**: From $7 (Avg. price ~$75)\\n   - **[Tickets](https://atlanta-ga.events/tickets/atlanta-braves/)**\\n\\n5. **Kings of Leon \\u0026 Phantogram**\\n   - **Time**: 7:30 PM\\n   - **Venue**: State Farm Arena - GA, One Philips Drive, Atlanta, GA, US\\n   - **Prices**: From $14 (Avg. price ~$123)\\n   - **[Tickets](https://atlanta-ga.events/tickets/kings-of-leon/)**\\n\\n6. **Shaboozey**\\n   - **Time**: 8:00 PM\\n   - **Venue**: Variety Playhouse, 1099 Euclid Ave, Atlanta, GA, US\\n   - **Prices**: From $51 (Avg. price ~$88)\\n   - **[Tickets](https://atlanta-ga.events/tickets/shaboozey/)**\\n\\n7. **Lasso - Artist**\\n   - **Time**: 8:00 PM\\n   - **Venue**: Buckhead Theatre, 3110 Roswell Road, Atlanta, GA, US\\n   - **Prices**: From $58 (Avg. price ~$90)\\n   - **[Tickets](https://atlanta-ga.events/tickets/lasso-artist/)**\\n\\n8. **Gritz and Jelly Butter**\\n   - **Time**: 8:00 PM\\n   - **Venue**: City Winery - Atlanta, 675 Ponce De Leon Ave, Atlanta, GA, US\\n   - **Prices**: From $74 (Avg. price ~$89)\\n   - **[Tickets](https://atlanta-ga.events/tickets/gritz-and-jelly-butter/)**\\n\\nFor more details and ticket booking, visit [Atlanta Events September 2024](https://atlanta-ga.events/september/).\"\n",
       "```\n",
       "\n",
       "I called the tool named ExtractContentFromUrl with these arguments:\n",
       "```\n",
       "{\"assistantName\": \"WebPageAgentAnt\", \"instructions\": \"What events are happening on September 25, 2024? https://discoveratlanta.com/events/main/\"}\n",
       "```\n",
       "and got this result:\n",
       "```\n",
       "\"On September 25, 2024, the following events are happening in Atlanta:\\n\\n1. **Walt DisneyxUNCF Scholar Program Now Open!**\\n   - **Category:** Education \\u0026 Lectures\\n   - **Dates:** 9/25/24 \\u2013 10/1/24\\n   - [Details and Registration](https://discoveratlanta.com/event/detail/walt-disneyxuncf-scholar-program-now-open/)\\n\\n2. **Community Movie Night presented by Disney on Ice**\\n   - **Category:** Family \\u0026 Kids\\n   - **Date:** 9/25/24\\n   - [Details and Registration](https://discoveratlanta.com/event/detail/community-movie-night-presented-by-disney-on-ice/)\\n\\n3. **Oktoberfest Crafts \\u0026 Romcom Night**\\n   - **Category:** Other Activities\\n   - **Date:** 9/25/24\\n   - [Details and Registration](https://discoveratlanta.com/event/detail/oktoberfest-crafts-romcom-night/)\\n\\n4. **A Sunset Cruise aboard The Experience**\\n   - **Category:** Outdoors \\u0026 Recreation\\n   - **Dates:** 9/25/24 \\u2013 9/28/24\\n   - [Details and Registration](https://discoveratlanta.com/event/detail/a-sunset-cruise-aboard-the-experience/)\\n\\n5. **Daddy Long Legs**\\n   - **Category:** Theater \\u0026 Performing Arts\\n   - **Dates:** 9/25/24 \\u2013 10/6/24\\n   - [Details and Registration](https://discoveratlanta.com/event/detail/daddy-long-legs/)\\n\\n6. **Weekend Creekwater Alpaca Farm Barn Tour**\\n   - **Category:** Outdoors \\u0026 Recreation\\n   - **Dates:** 9/25/24 \\u2013 9/29/24\\n   - [Details and Registration](https://discoveratlanta.com/event/detail/weekend-creekwater-alpaca-farm-barn-tour-2/)\\n\\nFor more details and additional events, visit the [Discover Atlanta Events page](https://discoveratlanta.com/events/all/).\"\n",
       "```\n",
       "\n",
       "I called the tool named ExtractContentFromUrl with these arguments:\n",
       "```\n",
       "{\"assistantName\": \"WebPageAgentAnt\", \"instructions\": \"What events are happening on September 25, 2024? https://allevents.in/atlanta/september\"}\n",
       "```\n",
       "and got this result:\n",
       "```\n",
       "\"The page contains information about various events happening in Atlanta in September 2024. However, it does not specifically list events for September 25, 2024.\\n\\nThe information was not found in the page.\"\n",
       "```\n",
       "\n",
       "Here are some events happening in Atlanta on September 25, 2024:\n",
       "\n",
       "1. **Lorna Shore**\n",
       "   - **Time**: 6:30 PM\n",
       "   - **Venue**: The Tabernacle - GA, 152 Luckie St, Atlanta, GA, US\n",
       "   - **Prices**: From $20 (Avg. price ~$89)\n",
       "   - **[Tickets](https://atlanta-ga.events/tickets/lorna-shore/)**\n",
       "\n",
       "2. **Sevendust**\n",
       "   - **Time**: 6:30 PM\n",
       "   - **Venue**: The Eastern - GA, 800 Old Flat Shoals Road SE, Atlanta, GA, US\n",
       "   - **Prices**: From $39 (Avg. price ~$61)\n",
       "   - **[Tickets](https://atlanta-ga.events/tickets/sevendust/)**\n",
       "\n",
       "3. **Creed, 3 Doors Down & Finger Eleven**\n",
       "   - **Time**: 7:00 PM\n",
       "   - **Venue**: Ameris Bank Amphitheatre, 2200 Encore Parkway, Alpharetta, GA, US\n",
       "   - **Prices**: From $39 (Avg. price ~$223)\n",
       "   - **[Tickets](https://atlanta-ga.events/tickets/creed/)**\n",
       "\n",
       "4. **Atlanta Braves vs. New York Mets**\n",
       "   - **Time**: 7:20 PM\n",
       "   - **Venue**: Truist Park, 1100 Circle 75 Pkwy, Atlanta, GA, US\n",
       "   - **Prices**: From $7 (Avg. price ~$75)\n",
       "   - **[Tickets](https://atlanta-ga.events/tickets/atlanta-braves/)**\n",
       "\n",
       "5. **Kings of Leon & Phantogram**\n",
       "   - **Time**: 7:30 PM\n",
       "   - **Venue**: State Farm Arena - GA, One Philips Drive, Atlanta, GA, US\n",
       "   - **Prices**: From $14 (Avg. price ~$123)\n",
       "   - **[Tickets](https://atlanta-ga.events/tickets/kings-of-leon/)**\n",
       "\n",
       "6. **Shaboozey**\n",
       "   - **Time**: 8:00 PM\n",
       "   - **Venue**: Variety Playhouse, 1099 Euclid Ave, Atlanta, GA, US\n",
       "   - **Prices**: From $51 (Avg. price ~$88)\n",
       "   - **[Tickets](https://atlanta-ga.events/tickets/shaboozey/)**\n",
       "\n",
       "7. **Lasso - Artist**\n",
       "   - **Time**: 8:00 PM\n",
       "   - **Venue**: Buckhead Theatre, 3110 Roswell Road, Atlanta, GA, US\n",
       "   - **Prices**: From $58 (Avg. price ~$90)\n",
       "   - **[Tickets](https://atlanta-ga.events/tickets/lasso-artist/)**\n",
       "\n",
       "8. **Gritz and Jelly Butter**\n",
       "   - **Time**: 8:00 PM\n",
       "   - **Venue**: City Winery - Atlanta, 675 Ponce De Leon Ave, Atlanta, GA, US\n",
       "   - **Prices**: From $74 (Avg. price ~$89)\n",
       "   - **[Tickets](https://atlanta-ga.events/tickets/gritz-and-jelly-butter/)**\n",
       "\n",
       "For more details and ticket booking, visit [Atlanta Events September 2024](https://atlanta-ga.events/september/).\n",
       "\n",
       "Additionally, other events happening on September 25, 2024, include:\n",
       "\n",
       "1. **Walt DisneyxUNCF Scholar Program Now Open!**\n",
       "   - **Category**: Education & Lectures\n",
       "   - **Dates**: 9/25/24 – 10/1/24\n",
       "   - [Details and Registration](https://discoveratlanta.com/event/detail/walt-disneyxuncf-scholar-program-now-open/)\n",
       "\n",
       "2. **Community Movie Night presented by Disney on Ice**\n",
       "   - **Category**: Family & Kids\n",
       "   - **Date**: 9/25/24\n",
       "   - [Details and Registration](https://discoveratlanta.com/event/detail/community-movie-night-presented-by-disney-on-ice/)\n",
       "\n",
       "3. **Oktoberfest Crafts & Romcom Night**\n",
       "   - **Category**: Other Activities\n",
       "   - **Date**: 9/25/24\n",
       "   - [Details and Registration](https://discoveratlanta.com/event/detail/oktoberfest-crafts-romcom-night/)\n",
       "\n",
       "4. **A Sunset Cruise aboard The Experience**\n",
       "   - **Category**: Outdoors & Recreation\n",
       "   - **Dates**: 9/25/24 – 9/28/24\n",
       "   - [Details and Registration](https://discoveratlanta.com/event/detail/a-sunset-cruise-aboard-the-experience/)\n",
       "\n",
       "5. **Daddy Long Legs**\n",
       "   - **Category**: Theater & Performing Arts\n",
       "   - **Dates**: 9/25/24 – 10/6/24\n",
       "   - [Details and Registration](https://discoveratlanta.com/event/detail/daddy-long-legs/)\n",
       "\n",
       "6. **Weekend Creekwater Alpaca Farm Barn Tour**\n",
       "   - **Category**: Outdoors & Recreation\n",
       "   - **Dates**: 9/25/24 – 9/29/24\n",
       "   - [Details and Registration](https://discoveratlanta.com/event/detail/weekend-creekwater-alpaca-farm-barn-tour-2/)\n",
       "\n",
       "For more details and additional events, visit the [Discover Atlanta Events page](https://discoveratlanta.com/events/all/).\n"
      ]
     },
     "metadata": {},
     "output_type": "display_data"
    }
   ],
   "source": [
    "var assistantRunOptions = new AssistantRunOptions() {\n",
    "    AssistantName = \"WebSearchAgentAnt\",\n",
    "    Instructions = \"Use python to get todays date and then use it to find things to do in Atlanta today. Be careful to not include events in the past in your final answer.\",\n",
    "};\n",
    "var output = await AntRunnerLib.AssistantRunner.RunThread(assistantRunOptions, config);\n",
    "output.Dialog.DisplayAs(\"text/markdown\");"
   ]
  },
  {
   "cell_type": "code",
   "execution_count": 14,
   "metadata": {
    "dotnet_interactive": {
     "language": "csharp"
    },
    "polyglot_notebook": {
     "kernelName": "csharp"
    },
    "vscode": {
     "languageId": "polyglot-notebook"
    }
   },
   "outputs": [
    {
     "data": {
      "text/markdown": [
       "Here are some events happening in Atlanta on September 25, 2024:\n",
       "\n",
       "1. **Lorna Shore**\n",
       "   - **Time**: 6:30 PM\n",
       "   - **Venue**: The Tabernacle - GA, 152 Luckie St, Atlanta, GA, US\n",
       "   - **Prices**: From $20 (Avg. price ~$89)\n",
       "   - **[Tickets](https://atlanta-ga.events/tickets/lorna-shore/)**\n",
       "\n",
       "2. **Sevendust**\n",
       "   - **Time**: 6:30 PM\n",
       "   - **Venue**: The Eastern - GA, 800 Old Flat Shoals Road SE, Atlanta, GA, US\n",
       "   - **Prices**: From $39 (Avg. price ~$61)\n",
       "   - **[Tickets](https://atlanta-ga.events/tickets/sevendust/)**\n",
       "\n",
       "3. **Creed, 3 Doors Down & Finger Eleven**\n",
       "   - **Time**: 7:00 PM\n",
       "   - **Venue**: Ameris Bank Amphitheatre, 2200 Encore Parkway, Alpharetta, GA, US\n",
       "   - **Prices**: From $39 (Avg. price ~$223)\n",
       "   - **[Tickets](https://atlanta-ga.events/tickets/creed/)**\n",
       "\n",
       "4. **Atlanta Braves vs. New York Mets**\n",
       "   - **Time**: 7:20 PM\n",
       "   - **Venue**: Truist Park, 1100 Circle 75 Pkwy, Atlanta, GA, US\n",
       "   - **Prices**: From $7 (Avg. price ~$75)\n",
       "   - **[Tickets](https://atlanta-ga.events/tickets/atlanta-braves/)**\n",
       "\n",
       "5. **Kings of Leon & Phantogram**\n",
       "   - **Time**: 7:30 PM\n",
       "   - **Venue**: State Farm Arena - GA, One Philips Drive, Atlanta, GA, US\n",
       "   - **Prices**: From $14 (Avg. price ~$123)\n",
       "   - **[Tickets](https://atlanta-ga.events/tickets/kings-of-leon/)**\n",
       "\n",
       "6. **Shaboozey**\n",
       "   - **Time**: 8:00 PM\n",
       "   - **Venue**: Variety Playhouse, 1099 Euclid Ave, Atlanta, GA, US\n",
       "   - **Prices**: From $51 (Avg. price ~$88)\n",
       "   - **[Tickets](https://atlanta-ga.events/tickets/shaboozey/)**\n",
       "\n",
       "7. **Lasso - Artist**\n",
       "   - **Time**: 8:00 PM\n",
       "   - **Venue**: Buckhead Theatre, 3110 Roswell Road, Atlanta, GA, US\n",
       "   - **Prices**: From $58 (Avg. price ~$90)\n",
       "   - **[Tickets](https://atlanta-ga.events/tickets/lasso-artist/)**\n",
       "\n",
       "8. **Gritz and Jelly Butter**\n",
       "   - **Time**: 8:00 PM\n",
       "   - **Venue**: City Winery - Atlanta, 675 Ponce De Leon Ave, Atlanta, GA, US\n",
       "   - **Prices**: From $74 (Avg. price ~$89)\n",
       "   - **[Tickets](https://atlanta-ga.events/tickets/gritz-and-jelly-butter/)**\n",
       "\n",
       "For more details and ticket booking, visit [Atlanta Events September 2024](https://atlanta-ga.events/september/).\n",
       "\n",
       "Additionally, other events happening on September 25, 2024, include:\n",
       "\n",
       "1. **Walt DisneyxUNCF Scholar Program Now Open!**\n",
       "   - **Category**: Education & Lectures\n",
       "   - **Dates**: 9/25/24 – 10/1/24\n",
       "   - [Details and Registration](https://discoveratlanta.com/event/detail/walt-disneyxuncf-scholar-program-now-open/)\n",
       "\n",
       "2. **Community Movie Night presented by Disney on Ice**\n",
       "   - **Category**: Family & Kids\n",
       "   - **Date**: 9/25/24\n",
       "   - [Details and Registration](https://discoveratlanta.com/event/detail/community-movie-night-presented-by-disney-on-ice/)\n",
       "\n",
       "3. **Oktoberfest Crafts & Romcom Night**\n",
       "   - **Category**: Other Activities\n",
       "   - **Date**: 9/25/24\n",
       "   - [Details and Registration](https://discoveratlanta.com/event/detail/oktoberfest-crafts-romcom-night/)\n",
       "\n",
       "4. **A Sunset Cruise aboard The Experience**\n",
       "   - **Category**: Outdoors & Recreation\n",
       "   - **Dates**: 9/25/24 – 9/28/24\n",
       "   - [Details and Registration](https://discoveratlanta.com/event/detail/a-sunset-cruise-aboard-the-experience/)\n",
       "\n",
       "5. **Daddy Long Legs**\n",
       "   - **Category**: Theater & Performing Arts\n",
       "   - **Dates**: 9/25/24 – 10/6/24\n",
       "   - [Details and Registration](https://discoveratlanta.com/event/detail/daddy-long-legs/)\n",
       "\n",
       "6. **Weekend Creekwater Alpaca Farm Barn Tour**\n",
       "   - **Category**: Outdoors & Recreation\n",
       "   - **Dates**: 9/25/24 – 9/29/24\n",
       "   - [Details and Registration](https://discoveratlanta.com/event/detail/weekend-creekwater-alpaca-farm-barn-tour-2/)\n",
       "\n",
       "For more details and additional events, visit the [Discover Atlanta Events page](https://discoveratlanta.com/events/all/)."
      ]
     },
     "metadata": {},
     "output_type": "display_data"
    }
   ],
   "source": [
    "output.LastMessage.DisplayAs(\"text/markdown\");"
   ]
  },
  {
   "cell_type": "code",
   "execution_count": 25,
   "metadata": {
    "dotnet_interactive": {
     "language": "csharp"
    },
    "polyglot_notebook": {
     "kernelName": "csharp"
    },
    "vscode": {
     "languageId": "polyglot-notebook"
    }
   },
   "outputs": [
    {
     "data": {
      "text/markdown": [
       "\n",
       "User: Use python to get todays date and then use it to find things to do in Atlanta for each of the next four weekends with pictures and correct links from ExtractContentFromUrl.\n",
       "\n",
       "When choosing links for crawl to evaluate with ExtractContentFromUrl choose a variety of hosts for urls from which you extract content. Limit your use of ExtractContentFromUrl to five calls or less. Do not make the error of including the url as a parameter, it must be inside 'instructions' as indicated by the tool definition. Be careful to not include events in the past in your final answer. You should perform four searches at once.\n",
       "Don't forget to include valid links!\n",
       "\n",
       "Assistant: I ran this code:\n",
       "```\n",
       "from datetime import datetime, timedelta\n",
       "\n",
       "# Get today's date\n",
       "today = datetime.today()\n",
       "today\n",
       "```\n",
       "\n",
       "I called the tool named crawl with these arguments:\n",
       "```\n",
       "{\"q\": \"things to do in Atlanta weekend of September 28 2024\", \"textFormat\": \"Raw\"}\n",
       "```\n",
       "and got this result:\n",
       "```\n",
       "{\"queryContext\":{\"originalQuery\":\"things to do in Atlanta weekend of September 28 2024\"},\"webPages\":{\"value\":[{\"name\":\"Atlanta Events - September 2024 - Go South Atlanta\",\"url\":\"https://gosouthatlanta.com/things-to-do/events/atlanta-in-september.html\",\"displayUrl\":\"https://gosouthatlanta.com/things-to-do/events/atlanta-in-september.html\",\"snippet\":\"More details. \\u2013 Atlanta Black Pride Weekend, August 28 - September 2 2024. Annual LGBTQ\\u002B festival with male, female and youth events across Atlanta, including parties, block parties, food events, performances, film festival, and more. More details. \\u2013 Dragon Con, August 29 - September 2 2024.\",\"cachedPageUrl\":\"http://cc.bingj.com/cache.aspx?q=things\\u002Bto\\u002Bdo\\u002Bin\\u002BAtlanta\\u002Bweekend\\u002Bof\\u002BSeptember\\u002B28\\u002B2024\\u0026d=4712253893574850\\u0026mkt=en-US\\u0026setlang=en-US\\u0026w=aWkJWqw243Je4oOvzq1dGpeg_GE4sHjt\",\"thumbnailUrl\":\"https://www.bing.com/th?id=OIP.xm-3dn3hYJZHsVVU9WO5qwHaD4\\u0026w=80\\u0026h=80\\u0026c=1\\u0026pid=5.1\"},{\"name\":\"Cool Things To Do in September in Atlanta\",\"url\":\"https://discoveratlanta.com/stories/things-to-do/cool-things-to-do-in-september-in-atlanta/\",\"displayUrl\":\"https://discoveratlanta.com/stories/things-to-do/cool-things-to-do-in-september-in-atlanta\",\"snippet\":\"The Sweet Auburn Music Fest, which takes place Sept. 28-29. The festival, located on Auburn Avenue, one of Atlanta\\u2019s most iconic streets, offers fun-filled entertainment, live music \\u2014 everything from R\\u0026B to gospel to alternative favorites \\u2014 international food court, national artists, celebrities and vendors of all types.\",\"cachedPageUrl\":\"http://cc.bingj.com/cache.aspx?q=things\\u002Bto\\u002Bdo\\u002Bin\\u002BAtlanta\\u002Bweekend\\u002Bof\\u002BSeptember\\u002B28\\u002B2024\\u0026d=4692574352310340\\u0026mkt=en-US\\u0026setlang=en-US\\u0026w=c-5Oucqqe-FV74GkIkdoRE4k4vk9MNbJ\",\"thumbnailUrl\":\"https://www.bing.com/th?id=OIP.m0ENCio7ytS2o9PQRWDCRgHaD4\\u0026w=80\\u0026h=80\\u0026c=1\\u0026pid=5.1\"},{\"name\":\"Atlanta Events September 2024: Concerts, Shows, Sports...\",\"url\":\"https://atlanta-ga.events/september/\",\"displayUrl\":\"https://atlanta-ga.events/september\",\"snippet\":\"Check Out The Atlanta Events Calendar for September 2024. See the List Of All Current \\u0026 Upcoming Events at the Lowest Possible Price. ... 28 tickets remaining! Tickets; Sep. 25. 2024. 8:00 PM Wed. Lasso - Artist. Buckhead Theatre | Capacity: 2500. 30305, 3110 Roswell Road, Atlanta, GA, US Prices from $58 Avg. price ~ $90. Available Tickets: 54.\",\"cachedPageUrl\":\"http://cc.bingj.com/cache.aspx?q=things\\u002Bto\\u002Bdo\\u002Bin\\u002BAtlanta\\u002Bweekend\\u002Bof\\u002BSeptember\\u002B28\\u002B2024\\u0026d=4854189676169673\\u0026mkt=en-US\\u0026setlang=en-US\\u0026w=73iRaVHIvJefbkmdL1lCvH4mS1bjztOY\"},{\"name\":\"20 Spectacular Things To Do This September In Atlanta - Secret Atlanta\",\"url\":\"https://secretatlanta.co/things-to-do-september/\",\"displayUrl\":\"https://secretatlanta.co/things-to-do-september\",\"snippet\":\"There\\u0027s so much going on in Atlanta this September, so check out this list of things to do to celebrate the end of summer \\u0026 start of fall! ... When: September 5th \\u2013 October 27th, 2024. Where: Helen Festhalle | 1074 Edelweiss Strasse, Helen, GA 30545. ... 17 Fun Things To Do In Atlanta This Weekend: September 28th \\u2013 29th. September 23, 2024.\",\"cachedPageUrl\":\"http://cc.bingj.com/cache.aspx?q=things\\u002Bto\\u002Bdo\\u002Bin\\u002BAtlanta\\u002Bweekend\\u002Bof\\u002BSeptember\\u002B28\\u002B2024\\u0026d=4724958405090999\\u0026mkt=en-US\\u0026setlang=en-US\\u0026w=HkmWmkX0emVkqeBkOazQ7cCeg5xgwMQ3\",\"thumbnailUrl\":\"https://www.bing.com/th?id=OIP.mwxBnPRtbggmsDGaNhGACQHaE8\\u0026w=80\\u0026h=80\\u0026c=1\\u0026pid=5.1\"},{\"name\":\"80\\u002B fall festivals \\u0026 fairs around metro Atlanta: Fun things to do in ...\",\"url\":\"https://www.atlantaonthecheap.com/fall-festivals-atlanta/\",\"displayUrl\":\"https://www.atlantaonthecheap.com/fall-festivals-atlanta\",\"snippet\":\"September 27th to October 6, 2024 Atlanta Motor Speedway Hampton, GA . Come for the carnival rides, food, free concerts, exhibits, and more. The fair is here for about ten days, so you\\u2019ll have two weekend options. There are daily deals on admission and unlimited ride wristbands \\u2014 so click through to see our guide to the best value days.\",\"cachedPageUrl\":\"http://cc.bingj.com/cache.aspx?q=things\\u002Bto\\u002Bdo\\u002Bin\\u002BAtlanta\\u002Bweekend\\u002Bof\\u002BSeptember\\u002B28\\u002B2024\\u0026d=5012794228946274\\u0026mkt=en-US\\u0026setlang=en-US\\u0026w=AqqJM900-WHnjjGt9vluoyq1DPm6ofe-\",\"thumbnailUrl\":\"https://www.bing.com/th?id=OIP.w0-v0ll6eXl6tJfBd5-ovwHaEV\\u0026w=80\\u0026h=80\\u0026c=1\\u0026pid=5.1\"},{\"name\":\"Explore Atlanta Events for Today, This Week or Weekend\",\"url\":\"https://discoveratlanta.com/events/main/\",\"displayUrl\":\"https://discoveratlanta.com/events/m\",\"snippet\":\"Explore the Atlanta events calendar for things to do today, this week or this weekend. Find upcoming festivals, seasonal events and more! ... The Original Atlanta Korean Festival 2024 9/28/24. Unleash Your Inner Worth 1st Annual Black Tie Gala ... September 28. Saturday. Sweet Auburn Music Fest 9/28/24 \\u2013 9/29/24. Editors\\u2019 Pick . October 01.\",\"cachedPageUrl\":\"http://cc.bingj.com/cache.aspx?q=things\\u002Bto\\u002Bdo\\u002Bin\\u002BAtlanta\\u002Bweekend\\u002Bof\\u002BSeptember\\u002B28\\u002B2024\\u0026d=4819881473496114\\u0026mkt=en-US\\u0026setlang=en-US\\u0026w=zvJBiG0Dg4eP1GMx_bJv9FTM8ziERJGY\",\"thumbnailUrl\":\"https://www.bing.com/th?id=OIP.FkxSV6JbrWatsFMM3_8dIAHaEh\\u0026w=80\\u0026h=80\\u0026c=1\\u0026pid=5.1\"},{\"name\":\"September in Atlanta: Top things to do this month\",\"url\":\"https://www.atlantaonthecheap.com/september-things-to-do-atlanta/\",\"displayUrl\":\"https://www.atlantaonthecheap.com/september-things-to-do-atlanta\",\"snippet\":\"Details on Museums On Us. \\u2022 The Marietta History Center hosts its FREE monthly Family Fun Day on Saturday, September 21, 2024. \\u2022 The Carter Presidential Library \\u0026 Museum offers FREE admission on Saturday, September 28, 2024, in honor of the former president\\u2019s 100th birthday!\",\"cachedPageUrl\":\"http://cc.bingj.com/cache.aspx?q=things\\u002Bto\\u002Bdo\\u002Bin\\u002BAtlanta\\u002Bweekend\\u002Bof\\u002BSeptember\\u002B28\\u002B2024\\u0026d=4531508777067252\\u0026mkt=en-US\\u0026setlang=en-US\\u0026w=dBvGHC3HqGEMsXsP8SfKEFE-tgkhrh_1\",\"thumbnailUrl\":\"https://www.bing.com/th?id=OIP.87SMQKoDZPtIKmUHIBiCMQHaFj\\u0026w=80\\u0026h=80\\u0026c=1\\u0026pid=5.1\"},{\"name\":\"Upcoming Events - Discover Atlanta\",\"url\":\"https://discoveratlanta.com/events/all/\",\"displayUrl\":\"https://discoveratlanta.com/events/all\",\"snippet\":\"Bounce through the incredible events happening around Atlanta today, tomorrow, this week or this month. Plan your fun and be in the know on everything from family-favorites, to can\\u2019t-miss hot spots, concerts and foodie festivals. Showing 1 \\u2013 15 of 495. Editors\\u2019 Pick.\",\"cachedPageUrl\":\"http://cc.bingj.com/cache.aspx?q=things\\u002Bto\\u002Bdo\\u002Bin\\u002BAtlanta\\u002Bweekend\\u002Bof\\u002BSeptember\\u002B28\\u002B2024\\u0026d=4829094184573839\\u0026mkt=en-US\\u0026setlang=en-US\\u0026w=J3F_lNIMaK2UBKZlUeD3eG4MmVcBwK29\"},{\"name\":\"Things to Do in Atlanta in 2024: Events, festivals, and exhibits ...\",\"url\":\"https://www.thrillist.com/events/atlanta/events-calendar-in-atlanta-this-year\",\"displayUrl\":\"https://www.thrillist.com/events/atlanta/events-calendar-in-atlanta-this-year\",\"snippet\":\"August 23\\u201325, 2024. The Fox Theatre. Every August, the Fox Theatre pays homage to its history as an iconic movie venue with its annual Coca Cola Summer Film Festival. This year\\u2019s edition ...\",\"thumbnailUrl\":\"https://www.bing.com/th?id=OIP.WUHCPl7_RpepE3pSEdAEMgHaE8\\u0026w=80\\u0026h=80\\u0026c=1\\u0026pid=5.1\"},{\"name\":\"Atlanta September 2024: Events, Concerts, Clubs \\u0026 Things to Do - Experism\",\"url\":\"https://www.experism.com/atlanta/september\",\"displayUrl\":\"https://www.experism.com/atlanta/september\",\"snippet\":\"Sep 12-15, 2024 Historic Fourth Ward Park View on Map. Play Video. The Atlanta Food \\u0026 Wine Festival highlights the best food, wine, beer \\u0026 cocktails Atlanta has to offer. This unique event brings in 150\\u002B chefs, sommeliers, mixologists and industry insiders for 5 days of mouthwatering and tempting cuisines \\u0026 special Tasting Tents.\",\"cachedPageUrl\":\"http://cc.bingj.com/cache.aspx?q=things\\u002Bto\\u002Bdo\\u002Bin\\u002BAtlanta\\u002Bweekend\\u002Bof\\u002BSeptember\\u002B28\\u002B2024\\u0026d=4642636760352967\\u0026mkt=en-US\\u0026setlang=en-US\\u0026w=CrMoojBamU4_Ok9mubm7deAiSBD33s7x\",\"thumbnailUrl\":\"https://www.bing.com/th?id=OIP.opEpXe5xeSIGAQVvWLFBbAHaEK\\u0026w=80\\u0026h=80\\u0026c=1\\u0026pid=5.1\"}]}}\n",
       "```\n",
       "\n",
       "I called the tool named crawl with these arguments:\n",
       "```\n",
       "{\"q\": \"things to do in Atlanta weekend of October 5 2024\", \"textFormat\": \"Raw\"}\n",
       "```\n",
       "and got this result:\n",
       "```\n",
       "{\"queryContext\":{\"originalQuery\":\"things to do in Atlanta weekend of October 5 2024\"},\"webPages\":{\"value\":[{\"name\":\"Atlanta Events - October 2024 - Go South Atlanta\",\"url\":\"https://gosouthatlanta.com/things-to-do/events/atlanta-in-october.html\",\"displayUrl\":\"https://gosouthatlanta.com/things-to-do/events/atlanta-in-october.html\",\"snippet\":\"Events From October 1 To The Weekend Of October 5-6 2024. \\u2192 See September events. \\u2192 For concerts this week, see Atlanta concerts in October 2024. \\u2013 Daddy Long Legs, September 13 - October 6 2024. Musical at The Legacy Theatre, Tyrone. More details.\",\"cachedPageUrl\":\"http://cc.bingj.com/cache.aspx?q=things\\u002Bto\\u002Bdo\\u002Bin\\u002BAtlanta\\u002Bweekend\\u002Bof\\u002BOctober\\u002B5\\u002B2024\\u0026d=4907344187949765\\u0026mkt=en-US\\u0026setlang=en-US\\u0026w=jtKzhu3KOsa3mkDLUvcm_m1afK8iBTpt\"},{\"name\":\"Atlanta Events October 2024: Concerts, Shows, Sports...\",\"url\":\"https://atlanta-ga.events/october/\",\"displayUrl\":\"https://atlanta-ga.events/october\",\"snippet\":\"Explore our comprehensive calendar for all the current and upcoming events in Atlanta, GA, for October 2024. This guide is your gateway to discovering the best things to do in Atlanta, from Concerts and Theater Shows to Sports events and music festivals. You\\u2019ll find a detailed list of all the most engaging and exciting activities happening throughout the month.\",\"cachedPageUrl\":\"http://cc.bingj.com/cache.aspx?q=things\\u002Bto\\u002Bdo\\u002Bin\\u002BAtlanta\\u002Bweekend\\u002Bof\\u002BOctober\\u002B5\\u002B2024\\u0026d=4898908879865838\\u0026mkt=en-US\\u0026setlang=en-US\\u0026w=vC_zzFLZ91uzxHogtJy0oBuKycEPAm_-\"},{\"name\":\"80\\u002B fall festivals \\u0026 fairs around metro Atlanta: Fun things to do in ...\",\"url\":\"https://www.atlantaonthecheap.com/fall-festivals-atlanta/\",\"displayUrl\":\"https://www.atlantaonthecheap.com/fall-festivals-atlanta\",\"snippet\":\"Milton\\u2019s annual fall festival takes place the first weekend in October along Crabapple Road. This is an arts and crafts festival, with approximately 100 vendor booths, food, and family activities. ... October 5 and 6, 2024 Candler Park Atlanta FREE. This popular street festival includes an artist market, live acoustic music on two stages ...\",\"cachedPageUrl\":\"http://cc.bingj.com/cache.aspx?q=things\\u002Bto\\u002Bdo\\u002Bin\\u002BAtlanta\\u002Bweekend\\u002Bof\\u002BOctober\\u002B5\\u002B2024\\u0026d=5012794228946274\\u0026mkt=en-US\\u0026setlang=en-US\\u0026w=AqqJM900-WHnjjGt9vluoyq1DPm6ofe-\",\"thumbnailUrl\":\"https://www.bing.com/th?id=OIP.w0-v0ll6eXl6tJfBd5-ovwHaEV\\u0026w=80\\u0026h=80\\u0026c=1\\u0026pid=5.1\"},{\"name\":\"Cool Things To Do in October in Atlanta\",\"url\":\"https://discoveratlanta.com/stories/things-to-do/cool-things-to-do-in-october-in-atlanta/\",\"displayUrl\":\"https://discoveratlanta.com/stories/things-to-do/cool-things-to-do-in-october-in-atlanta\",\"snippet\":\"Corn Dogs, Rides and Whack a Mole. The Atlanta Fair brings the best of a traditional fair to Atlanta with everything from cotton candy, a Ferris wheel, fishing for goldfish, a tilt-a-whirl and a carousel. The fair, located across from the Georgia State University Stadium, will be in town Oct. 4-Nov. 3. Read More.\",\"cachedPageUrl\":\"http://cc.bingj.com/cache.aspx?q=things\\u002Bto\\u002Bdo\\u002Bin\\u002BAtlanta\\u002Bweekend\\u002Bof\\u002BOctober\\u002B5\\u002B2024\\u0026d=4714289705734711\\u0026mkt=en-US\\u0026setlang=en-US\\u0026w=6a-yO_DfCUxfz-dx9C91WDDECk49pD7V\",\"thumbnailUrl\":\"https://www.bing.com/th?id=OIP.4jf9xqKu3QRk_XhZ3J7DYQHaD4\\u0026w=80\\u0026h=80\\u0026c=1\\u0026pid=5.1\"},{\"name\":\"Fall festivals in metro Atlanta and North Georgia | 2024\",\"url\":\"https://www.fox5atlanta.com/news/fall-festivals-metro-atlanta-north-georgia-2024\",\"displayUrl\":\"https://www.fox5atlanta.com/news/fall-festivals-metro-atlanta-north-georgia-2024\",\"snippet\":\"When: Oct. 21-22, 2024 Where : Candler Park, Atlanta What : A fall festival featuring live music, food trucks, an artist market, a 5K run, and kids\\u0027 activities.\",\"cachedPageUrl\":\"http://cc.bingj.com/cache.aspx?q=things\\u002Bto\\u002Bdo\\u002Bin\\u002BAtlanta\\u002Bweekend\\u002Bof\\u002BOctober\\u002B5\\u002B2024\\u0026d=2173865470069\\u0026mkt=en-US\\u0026setlang=en-US\\u0026w=jxnOnRj04ciRcKNV8UVNHXKEd0PX1nap\"},{\"name\":\"26 Thrilling Things To Do In Atlanta This October - Secret Atlanta\",\"url\":\"https://secretatlanta.co/things-to-do-october/\",\"displayUrl\":\"https://secretatlanta.co/things-to-do-october\",\"snippet\":\"Without further ado, here are 26 incredible things to do in Atlanta this October! 1. ... we also celebrate Pride for a weekend in October! This year, Pride is October 12th \\u2013 13th! ... 2024. 18 Frightfully Fun Halloween Events Happening In Atlanta. September 20, 2024.\",\"cachedPageUrl\":\"http://cc.bingj.com/cache.aspx?q=things\\u002Bto\\u002Bdo\\u002Bin\\u002BAtlanta\\u002Bweekend\\u002Bof\\u002BOctober\\u002B5\\u002B2024\\u0026d=4673096676868625\\u0026mkt=en-US\\u0026setlang=en-US\\u0026w=BDZ6Krx8ATVNFCQACSuK0PesDCkO7vK5\",\"thumbnailUrl\":\"https://www.bing.com/th?id=OIP.oVWYpGkEV4zoUw2uzcrcYgHaD6\\u0026w=80\\u0026h=80\\u0026c=1\\u0026pid=5.1\"},{\"name\":\"Atlanta in October | Concerts, Festivals, Tickets \\u0026 Tour Dates - Songkick\",\"url\":\"https://www.songkick.com/metro-areas/4120-us-atlanta/october-2024\",\"displayUrl\":\"https://www.songkick.com/metro-areas/4120-us-atlanta/october-2024\",\"snippet\":\"Concerts in Atlanta in October. Find tickets to all live music, concerts, tour dates and festivals in and around Atlanta. ... All Your favorite artists. Filter by date. All Tonight This weekend This month Oct Nov Dec 2024 2025 ... Folk \\u0026 Blues Jazz Funk \\u0026 Soul Reggae 564 upcoming concerts. Tuesday 01 October 2024; The Used Plain White T\\u0027s and ...\",\"cachedPageUrl\":\"http://cc.bingj.com/cache.aspx?q=things\\u002Bto\\u002Bdo\\u002Bin\\u002BAtlanta\\u002Bweekend\\u002Bof\\u002BOctober\\u002B5\\u002B2024\\u0026d=4726551829817777\\u0026mkt=en-US\\u0026setlang=en-US\\u0026w=GyNsJVWjOONlYyuTqLMEVsVddRXByGfo\"},{\"name\":\"Atlanta October 2024: Events, Concerts, Clubs \\u0026 Things to Do - Experism\",\"url\":\"https://www.experism.com/atlanta/october\",\"displayUrl\":\"https://www.experism.com/atlanta/october\",\"snippet\":\"Atlanta Horror Film Festival. Oct 4-6, 2024 Limelight Theater View on Map. You are cordially invited to the 18th Annual Atlanta Horror Film Festival held at Limelight Theater from October 4 - 6, 2024. Don\\u0027t miss this spooktacular collection of the best indie horror films from across the globe, including world premieres, short films, animation ...\",\"cachedPageUrl\":\"http://cc.bingj.com/cache.aspx?q=things\\u002Bto\\u002Bdo\\u002Bin\\u002BAtlanta\\u002Bweekend\\u002Bof\\u002BOctober\\u002B5\\u002B2024\\u0026d=5050860516094956\\u0026mkt=en-US\\u0026setlang=en-US\\u0026w=OllQT5kZyN343ZtIpGRATFj2b4uP5Oth\",\"thumbnailUrl\":\"https://www.bing.com/th?id=OIP.8x_jPSRdmgimGRTNJq3pngAAAA\\u0026w=80\\u0026h=80\\u0026c=1\\u0026pid=5.1\"},{\"name\":\"Things to Do in Atlanta in 2024: Events, festivals, and exhibits ...\",\"url\":\"https://www.thrillist.com/events/atlanta/events-calendar-in-atlanta-this-year\",\"displayUrl\":\"https://www.thrillist.com/events/atlanta/events-calendar-in-atlanta-this-year\",\"snippet\":\"August 23\\u201325, 2024. The Fox Theatre. Every August, the Fox Theatre pays homage to its history as an iconic movie venue with its annual Coca Cola Summer Film Festival. This year\\u2019s edition ...\",\"thumbnailUrl\":\"https://www.bing.com/th?id=OIP.WUHCPl7_RpepE3pSEdAEMgHaE8\\u0026w=80\\u0026h=80\\u0026c=1\\u0026pid=5.1\"},{\"name\":\"Concerts In Atlanta, October 2024 - Go South Atlanta\",\"url\":\"https://gosouthatlanta.com/things-to-do/events/atlanta-concerts-october.html\",\"displayUrl\":\"https://gosouthatlanta.com/things-to-do/events/atlanta-concerts-october.html\",\"snippet\":\"Concerts On Friday October 11 2024. \\u2013 Lake Street Dive at The Eastern. More details. \\u2013 Aerosmith: Peace Out The Farewell Tour at State Farm Arena. More details. \\u2013 The Black Jacket Symphony: Performing Led Zeppelin\\u2019s \\u2018IV\\u2019. Tribute concert at Atlanta Symphony Hall. More details. \\u2013 Loveless at The Masquerade.\",\"cachedPageUrl\":\"http://cc.bingj.com/cache.aspx?q=things\\u002Bto\\u002Bdo\\u002Bin\\u002BAtlanta\\u002Bweekend\\u002Bof\\u002BOctober\\u002B5\\u002B2024\\u0026d=4991061691999650\\u0026mkt=en-US\\u0026setlang=en-US\\u0026w=I17XSEQ6_0vdrEf4HxlkWHNc_Lnct5jK\"}]}}\n",
       "```\n",
       "\n",
       "I called the tool named crawl with these arguments:\n",
       "```\n",
       "{\"q\": \"things to do in Atlanta weekend of October 12 2024\", \"textFormat\": \"Raw\"}\n",
       "```\n",
       "and got this result:\n",
       "```\n",
       "{\"queryContext\":{\"originalQuery\":\"things to do in Atlanta weekend of October 12 2024\"},\"webPages\":{\"value\":[{\"name\":\"Atlanta Events - October 2024 - Go South Atlanta\",\"url\":\"https://gosouthatlanta.com/things-to-do/events/atlanta-in-october.html\",\"displayUrl\":\"https://gosouthatlanta.com/things-to-do/events/atlanta-in-october.html\",\"snippet\":\"Events From October 7 To Columbus Day Weekend, October 12-14 2024. \\u2192 For concerts this week, see Atlanta concerts in October 2024 \\u2013 The Chinese Lady, September 18 - October 13 2024 Play at Alliance Theatre. More details \\u2013 The Curious Cardinal, September 21 - October 27 2024 Children\\u2019s performance at Alliance Theatre. More details\",\"cachedPageUrl\":\"http://cc.bingj.com/cache.aspx?q=things\\u002Bto\\u002Bdo\\u002Bin\\u002BAtlanta\\u002Bweekend\\u002Bof\\u002BOctober\\u002B12\\u002B2024\\u0026d=4907344187949765\\u0026mkt=en-US\\u0026setlang=en-US\\u0026w=jtKzhu3KOsa3mkDLUvcm_m1afK8iBTpt\"},{\"name\":\"Atlanta Events October 2024: Concerts, Shows, Sports...\",\"url\":\"https://atlanta-ga.events/october/\",\"displayUrl\":\"https://atlanta-ga.events/october\",\"snippet\":\"Explore our comprehensive calendar for all the current and upcoming events in Atlanta, GA, for October 2024. This guide is your gateway to discovering the best things to do in Atlanta, from Concerts and Theater Shows to Sports events and music festivals. You\\u2019ll find a detailed list of all the most engaging and exciting activities happening throughout the month.\",\"cachedPageUrl\":\"http://cc.bingj.com/cache.aspx?q=things\\u002Bto\\u002Bdo\\u002Bin\\u002BAtlanta\\u002Bweekend\\u002Bof\\u002BOctober\\u002B12\\u002B2024\\u0026d=4898908879865838\\u0026mkt=en-US\\u0026setlang=en-US\\u0026w=vC_zzFLZ91uzxHogtJy0oBuKycEPAm_-\"},{\"name\":\"80\\u002B fall festivals \\u0026 fairs around metro Atlanta: Fun things to do in ...\",\"url\":\"https://www.atlantaonthecheap.com/fall-festivals-atlanta/\",\"displayUrl\":\"https://www.atlantaonthecheap.com/fall-festivals-atlanta\",\"snippet\":\"October 12 and 13, 2024 October 19 and 20, 2024 Ellijay, GA . This is one of the few festivals outside metro Atlanta we include. It takes place in North Georgia, over two weekends in October. Spend a day on the farm, pick your own apples, visit over 100 vendor booths for arts, crafts, and apple-based food items. Well worth the drive!\",\"cachedPageUrl\":\"http://cc.bingj.com/cache.aspx?q=things\\u002Bto\\u002Bdo\\u002Bin\\u002BAtlanta\\u002Bweekend\\u002Bof\\u002BOctober\\u002B12\\u002B2024\\u0026d=5012794228946274\\u0026mkt=en-US\\u0026setlang=en-US\\u0026w=AqqJM900-WHnjjGt9vluoyq1DPm6ofe-\",\"thumbnailUrl\":\"https://www.bing.com/th?id=OIP.w0-v0ll6eXl6tJfBd5-ovwHaEV\\u0026w=80\\u0026h=80\\u0026c=1\\u0026pid=5.1\"},{\"name\":\"Cool Things To Do in October in Atlanta\",\"url\":\"https://discoveratlanta.com/stories/things-to-do/cool-things-to-do-in-october-in-atlanta/\",\"displayUrl\":\"https://discoveratlanta.com/stories/things-to-do/cool-things-to-do-in-october-in-atlanta\",\"snippet\":\"Corn Dogs, Rides and Whack a Mole. The Atlanta Fair brings the best of a traditional fair to Atlanta with everything from cotton candy, a Ferris wheel, fishing for goldfish, a tilt-a-whirl and a carousel. The fair, located across from the Georgia State University Stadium, will be in town Oct. 4-Nov. 3. Read More.\",\"cachedPageUrl\":\"http://cc.bingj.com/cache.aspx?q=things\\u002Bto\\u002Bdo\\u002Bin\\u002BAtlanta\\u002Bweekend\\u002Bof\\u002BOctober\\u002B12\\u002B2024\\u0026d=4714289705734711\\u0026mkt=en-US\\u0026setlang=en-US\\u0026w=6a-yO_DfCUxfz-dx9C91WDDECk49pD7V\",\"thumbnailUrl\":\"https://www.bing.com/th?id=OIP.4jf9xqKu3QRk_XhZ3J7DYQHaD4\\u0026w=80\\u0026h=80\\u0026c=1\\u0026pid=5.1\"},{\"name\":\"Explore Atlanta Events for Today, This Week or Weekend\",\"url\":\"https://discoveratlanta.com/events/main/\",\"displayUrl\":\"https://discoveratlanta.com/events/m\",\"snippet\":\"Explore the Atlanta events calendar for things to do today, this week or this weekend. Find upcoming festivals, seasonal events and more! ... Things to do In Atlanta this Weekend LEARN MORE. Plan An Epic Road Trip To Atlanta Make Your Plans. ... Multiple dates until 10/12/2024. Roberta Lea Live 10/5/24. Strand Ole Opry: Fa-BOO-lous Halloween Hits\",\"cachedPageUrl\":\"http://cc.bingj.com/cache.aspx?q=things\\u002Bto\\u002Bdo\\u002Bin\\u002BAtlanta\\u002Bweekend\\u002Bof\\u002BOctober\\u002B12\\u002B2024\\u0026d=4819881473496114\\u0026mkt=en-US\\u0026setlang=en-US\\u0026w=zvJBiG0Dg4eP1GMx_bJv9FTM8ziERJGY\",\"thumbnailUrl\":\"https://www.bing.com/th?id=OIP.FkxSV6JbrWatsFMM3_8dIAHaEh\\u0026w=80\\u0026h=80\\u0026c=1\\u0026pid=5.1\"},{\"name\":\"Atlanta Festival Calendar: 2024\",\"url\":\"https://unexpectedatlanta.com/atlanta-festival-calendar-2024/\",\"displayUrl\":\"https://unexpectedatlanta.com/atlanta-festival-calendar-2024\",\"snippet\":\"Atlanta Jazz Festival \\u2013 May 25-27, 2024. Held in Piedmont Park, the Atlanta Jazz Festival is an annual celebration of music, culture, and the art of Jazz. Free to all who join, this Memorial Day Weekend event draws fans, professional musicians, and everyone in between, for a 3-day-long festival showcasing 15\\u002B artists.\",\"cachedPageUrl\":\"http://cc.bingj.com/cache.aspx?q=things\\u002Bto\\u002Bdo\\u002Bin\\u002BAtlanta\\u002Bweekend\\u002Bof\\u002BOctober\\u002B12\\u002B2024\\u0026d=4520195830737555\\u0026mkt=en-US\\u0026setlang=en-US\\u0026w=Y_UYHSuQi3QHjG8exIRi2zfYmaaF9rTA\",\"thumbnailUrl\":\"https://www.bing.com/th?id=OIP.8LvXI6tOuWvo9KZdL-C3MwHaHa\\u0026w=80\\u0026h=80\\u0026c=1\\u0026pid=5.1\"},{\"name\":\"Things to do in Atlanta this weekend: Sept. 20-22 - The Atlanta Journal ...\",\"url\":\"https://www.ajc.com/things-to-do/things-to-do-in-atlanta-this-weekend-sept-20-22/JRRVFRDW6ZA6TFL4TIFEC6YUGY/\",\"displayUrl\":\"https://www.ajc.com/things-to-do/things-to-do-in-atlanta-this-weekend-sept-20-22/...\",\"snippet\":\"Gwinnett. JapanFest Atlanta. 10 a.m.-6 p.m. Saturday, Sept. 21, and 10 a.m.-5 p.m. Sunday, Sept. 22. $16 through Sept. 20, $20 at the door, military and seniors $16 ...\",\"cachedPageUrl\":\"http://cc.bingj.com/cache.aspx?q=things\\u002Bto\\u002Bdo\\u002Bin\\u002BAtlanta\\u002Bweekend\\u002Bof\\u002BOctober\\u002B12\\u002B2024\\u0026d=2930586068673\\u0026mkt=en-US\\u0026setlang=en-US\\u0026w=LcstyMFQJhdEt96Av-nymtep_buw2IS2\"},{\"name\":\"Atlanta Fall Festivals - Things to Do in September, October \\u0026 November ...\",\"url\":\"https://discoveratlanta.com/events/festivals/fall/\",\"displayUrl\":\"https://discoveratlanta.com/events/festivals/fall\",\"snippet\":\"Discover More. Get to know Atlanta, and discover the best things to do around the city. Explore Atlanta fall festivals taking place in September, October and November such as Dragoncon, Music Midtown, TomorrowWorld, Taste of Atlanta and more.\",\"cachedPageUrl\":\"http://cc.bingj.com/cache.aspx?q=things\\u002Bto\\u002Bdo\\u002Bin\\u002BAtlanta\\u002Bweekend\\u002Bof\\u002BOctober\\u002B12\\u002B2024\\u0026d=4547043673964583\\u0026mkt=en-US\\u0026setlang=en-US\\u0026w=rUSMLT6fDjcTwYIwxkPWlywP6tlDYeyB\",\"thumbnailUrl\":\"https://www.bing.com/th?id=OIP.0_XUFlRnb6M8sx27mihKcQHaEK\\u0026w=80\\u0026h=80\\u0026c=1\\u0026pid=5.1\"},{\"name\":\"The Best Things to Do in Atlanta in October\",\"url\":\"https://unexpectedatlanta.com/the-best-things-to-do-in-atlanta-in-october/\",\"displayUrl\":\"https://unexpectedatlanta.com/the-best-things-to-do-in-atlanta-in-october\",\"snippet\":\"Catch Ilana Glazer at the Tabernacle on October 23, 2023. Best known for her role as Ilana Wexler in Broad City, Glazer\\u2019s live comedy has been called bold, delving into modern social and political issues with unapologetic, empowering, and satirical takes. Plus, catch Nick Offerman at Atlanta Symphony Hall.\",\"cachedPageUrl\":\"http://cc.bingj.com/cache.aspx?q=things\\u002Bto\\u002Bdo\\u002Bin\\u002BAtlanta\\u002Bweekend\\u002Bof\\u002BOctober\\u002B12\\u002B2024\\u0026d=4733754494973267\\u0026mkt=en-US\\u0026setlang=en-US\\u0026w=Tv-KB1NbYltoqbb3_3asNbrAJ_n6Hq4i\",\"thumbnailUrl\":\"https://www.bing.com/th?id=OIP.lEMypzNNWpS-6tdPg0Hm1gHaHa\\u0026w=80\\u0026h=80\\u0026c=1\\u0026pid=5.1\"},{\"name\":\"12 Fantastically Fun Things To Do In Detroit This October\",\"url\":\"https://secretdetroit.co/things-to-do-october-in-detroit/\",\"displayUrl\":\"https://secretdetroit.co/things-to-do-october-in-detroit\",\"snippet\":\"Taking place on multiple dates throughout October, Zoo Boo is one of the best family-friendly ways you can celebrate Halloween with your little ones this year! Here are the dates when this \\u201Cmerry-not-scary\\u201D Halloween event will be happening! October 11th \\u2013 5 pm to 9 pm; October 12th \\u2013 2 pm to 9 pm; October 13th \\u2013 2 pm to 9 pm\",\"cachedPageUrl\":\"http://cc.bingj.com/cache.aspx?q=things\\u002Bto\\u002Bdo\\u002Bin\\u002BAtlanta\\u002Bweekend\\u002Bof\\u002BOctober\\u002B12\\u002B2024\\u0026d=249888648828\\u0026mkt=en-US\\u0026setlang=en-US\\u0026w=ou2skcf7Ma0o-4QPI1_uNw-rIjpDQubE\",\"thumbnailUrl\":\"https://www.bing.com/th?id=OIF.ICxyPjZyoJaAI5J8Lqzy9Q\\u0026w=80\\u0026h=80\\u0026c=1\\u0026pid=5.1\"}]},\"images\":{\"value\":[{\"thumbnailUrl\":\"https://tse1.mm.bing.net/th?id=OIP.cGQLTADJ7EIEL8n56X81XwHaLH\\u0026pid=Api\",\"contentUrl\":\"https://www.busytourist.com/wp-content/uploads/2020/07/best-things-to-do-in-Atlanta-GA-1.jpg\",\"hostPageUrl\":\"https://janqkarlotta.pages.dev/rmueufk-things-to-do-in-atlanta-october-2024-uzbmkjn/\"},{\"thumbnailUrl\":\"https://tse1.mm.bing.net/th?id=OIP.WoE56TfoQ63T7_SpwvmGKgHaE8\\u0026pid=Api\",\"contentUrl\":\"https://www.experism.com/explore/wp-content/uploads/2023/02/Atlanta-1550x1034.jpg\",\"hostPageUrl\":\"https://paulinawclo.pages.dev/wngqwy-atlanta-events-2024-vmdhwzsmr-photos/\"},{\"thumbnailUrl\":\"https://tse1.mm.bing.net/th?id=OIP.wxOD0OTZ89VvVuQNnfz51wHaL0\\u0026pid=Api\",\"contentUrl\":\"https://i.pinimg.com/originals/7d/b9/cb/7db9cb75f1804a65a7512408c3763aea.jpg\",\"hostPageUrl\":\"https://www.artofit.org/image-gallery/280067670569401481/20-free-things-to-do-in-atlanta-georgia-the-travelling-pinoys/\"},{\"thumbnailUrl\":\"https://tse1.mm.bing.net/th?id=OIP.Tg7nOHaEU_re0ukKIjO-QwHaG1\\u0026pid=Api\",\"contentUrl\":\"https://uphomes.com/storage/uploads/aVxdjP6v0zGPok5GHYOee8lHRMVN0GMFiNomqe5s.png\",\"hostPageUrl\":\"https://uphomes.com/blog/things-to-do-atlanta-ga/\"},{\"thumbnailUrl\":\"https://tse1.mm.bing.net/th?id=OIP.M9nQL4kFM4rwNQiRkhAekAHaEo\\u0026pid=Api\",\"contentUrl\":\"https://travellersworldwide.com/wp-content/uploads/2022/05/shutterstock_1039281055.jpg\",\"hostPageUrl\":\"https://travellersworldwide.com/best-things-to-do-in-atlanta/\"},{\"thumbnailUrl\":\"https://tse1.mm.bing.net/th?id=OIP.lEMypzNNWpS-6tdPg0Hm1gHaHa\\u0026pid=Api\",\"contentUrl\":\"https://unexpectedatlanta.com/wp-content/uploads/2023/09/The-Best-Things-to-Do-in-Atlanta-in-October.png\",\"hostPageUrl\":\"https://unexpectedatlanta.com/the-best-things-to-do-in-atlanta-in-october/\"},{\"thumbnailUrl\":\"https://tse1.mm.bing.net/th?id=OIP.3DCmfuvb9PKm59kY35gOowHaD5\\u0026pid=Api\",\"contentUrl\":\"https://www.accessatlanta.com/resizer/st3ipUHpjhivT85uXQnam1p9Dk8=/1280x673/smart/cloudfront-us-east-1.images.arcpublishing.com/ajc/5SITMG7WA5BB3FUUWKHED4CF4U.jpg\",\"hostPageUrl\":\"https://www.accessatlanta.com/atlanta-things-to-do/10-things-to-do-in-atlanta-this-weekend/VNXLGWBIMFBNNJUH5VYLLFZQGA/\"},{\"thumbnailUrl\":\"https://tse1.mm.bing.net/th?id=OIP.JIWcXtQtpq7A0DXTjwLQiwHaLG\\u0026pid=Api\",\"contentUrl\":\"https://i.pinimg.com/736x/fc/4a/d2/fc4ad281802906d1cfde53017a3e4dcf.jpg\",\"hostPageUrl\":\"https://www.pinterest.com/pin/744079169673803460/\"},{\"thumbnailUrl\":\"https://tse1.mm.bing.net/th?id=OIP.ze0V6jupJp7-ok6eZ4oQiAHaLH\\u0026pid=Api\",\"contentUrl\":\"https://i.pinimg.com/originals/1f/6e/1a/1f6e1abd949e503a9ef8e73801bbcdfa.jpg\",\"hostPageUrl\":\"https://in.pinterest.com/pin/25-best-things-to-do-in-atlanta-ga-top-activities-places-to-go--631278072766885401/\"},{\"thumbnailUrl\":\"https://tse1.mm.bing.net/th?id=OIP.O5EieTnicNvvliIu9uspUAHaEK\\u0026pid=Api\",\"contentUrl\":\"https://images.axios.com/s3DWU4gA3Bxju0GDWTp6dY92t9I=/0x625:6000x4000/1366x768/2024/05/29/1717008771023.jpg?w=1366\",\"hostPageUrl\":\"https://www.axios.com/local/atlanta/2024/05/30/atlanta-weekend-events-megan-thee-stallion-bike-fest\"},{\"thumbnailUrl\":\"https://tse1.mm.bing.net/th?id=OIP.gpxEMgIaDnDSvyMtPJjjdgHaE6\\u0026pid=Api\",\"contentUrl\":\"https://wowtravel.me/wp-content/uploads/2022/06/Top-10-Things-to-Do-in-Atlanta.jpg\",\"hostPageUrl\":\"https://wowtravel.me/things-to-do-in-atlanta-this-week/\"},{\"thumbnailUrl\":\"https://tse1.mm.bing.net/th?id=OIP.zsUlule-ACLeXXDRofPdiAAAAA\\u0026pid=Api\",\"contentUrl\":\"https://www.busytourist.com/wp-content/uploads/2020/07/things-to-do-in-Atlanta-2.jpg\",\"hostPageUrl\":\"https://www.busytourist.com/things-to-do-in-atlanta-ga/\"},{\"thumbnailUrl\":\"https://tse1.mm.bing.net/th?id=OIP.UU2jh9pxi-A6gODV3rN_UQHaLH\\u0026pid=Api\",\"contentUrl\":\"https://i.pinimg.com/736x/bd/73/f1/bd73f16528b3966539959dcede3e9adf.jpg\",\"hostPageUrl\":\"https://www.pinterest.com/pin/628041110510472331/\"},{\"thumbnailUrl\":\"https://tse1.mm.bing.net/th?id=OIP.eKakKX-7lUL-8AAx78alPQHaHa\\u0026pid=Api\",\"contentUrl\":\"https://unexpectedatlanta.com/wp-content/uploads/2023/04/The-Best-Things-to-Do-in-Midtown-Atlanta.png\",\"hostPageUrl\":\"https://unexpectedatlanta.com/best-things-to-do-midtown-atlanta/\"},{\"thumbnailUrl\":\"https://tse1.mm.bing.net/th?id=OIP.Q4O0rf1jd1qA19nIfDvg_AHaEK\\u0026pid=Api\",\"contentUrl\":\"https://blog.ticketmaster.com/wp-content/uploads/atlanta-this-weekend-1024x576.jpg\",\"hostPageUrl\":\"https://blog.ticketmaster.com/things-to-do-atlanta-this-weekend/\"},{\"thumbnailUrl\":\"https://tse1.mm.bing.net/th?id=OIP.B9dwp_jKTmtE_Fruodr10QHaE8\\u0026pid=Api\",\"contentUrl\":\"https://www.treksplorer.com/wp-content/uploads/things-to-do-in-atlanta.jpg\",\"hostPageUrl\":\"https://www.treksplorer.com/things-to-do-in-atlanta-ga-usa/\"},{\"thumbnailUrl\":\"https://tse1.mm.bing.net/th?id=OIP.Xlf9_aJvG-xhLBeUoRowlQHaLH\\u0026pid=Api\",\"contentUrl\":\"https://i.pinimg.com/originals/a5/1d/70/a51d7004f69d2b874136c3a218246c9c.png\",\"hostPageUrl\":\"https://www.pinterest.co.uk/pin/3-days-in-atlanta-top-things-to-do-in-atlanta-georgia--570198002824577910/\"},{\"thumbnailUrl\":\"https://tse1.mm.bing.net/th?id=OIP.0oDI3jFqpaShLx9pjcpfLwHaD5\\u0026pid=Api\",\"contentUrl\":\"https://www.accessatlanta.com/resizer/MNmc5O38NvDFpLfysTEWJvKA2pY=/1280x673/smart/cloudfront-us-east-1.images.arcpublishing.com/ajc/RWCW55TL45AUJBQQ2MIGRBHYIM.JPG\",\"hostPageUrl\":\"https://www.accessatlanta.com/atlanta-things-to-do/10-things-to-do-in-atlanta-this-weekend/2H6GAMDFY5BG7AYBOBCAPLYAWM/\"},{\"thumbnailUrl\":\"https://tse1.mm.bing.net/th?id=OIP.H1JPxx3mkr-XvYjeXre46AHaLH\\u0026pid=Api\",\"contentUrl\":\"https://www.busytourist.com/wp-content/uploads/2020/07/best-things-to-do-in-Atlanta-GA-1-2.jpg\",\"hostPageUrl\":\"https://www.busytourist.com/things-to-do-in-atlanta-ga/\"},{\"thumbnailUrl\":\"https://tse1.mm.bing.net/th?id=OIP.U9xvQMbjg9T0YiriayftJAHaLH\\u0026pid=Api\",\"contentUrl\":\"https://www.busytourist.com/wp-content/uploads/2020/07/Things-To-Do-In-Atlanta-pin1.jpg\",\"hostPageUrl\":\"https://www.busytourist.com/things-to-do-in-atlanta-ga/\"}]}}\n",
       "```\n",
       "\n",
       "I called the tool named crawl with these arguments:\n",
       "```\n",
       "{\"q\": \"things to do in Atlanta weekend of October 19 2024\", \"textFormat\": \"Raw\"}\n",
       "```\n",
       "and got this result:\n",
       "```\n",
       "{\"queryContext\":{\"originalQuery\":\"things to do in Atlanta weekend of October 19 2024\"},\"webPages\":{\"value\":[{\"name\":\"Atlanta Events - October 2024 - Go South Atlanta\",\"url\":\"https://gosouthatlanta.com/things-to-do/events/atlanta-in-october.html\",\"displayUrl\":\"https://gosouthatlanta.com/things-to-do/events/atlanta-in-october.html\",\"snippet\":\"Things to do in Atlanta, GA in October, including upcoming festivals, fall and Halloween events, Pride events, comedy, musicals, plays, races, conventions, neighborhood events, cultural events, and more. ... Events From October 15 To The Weekend Of October 19-20 2024. \\u2192 For concerts this week, ... \\u2013 PNC Atlanta 10 Miler \\u0026 5K, October 19-20 ...\",\"cachedPageUrl\":\"http://cc.bingj.com/cache.aspx?q=things\\u002Bto\\u002Bdo\\u002Bin\\u002BAtlanta\\u002Bweekend\\u002Bof\\u002BOctober\\u002B19\\u002B2024\\u0026d=4907344187949765\\u0026mkt=en-US\\u0026setlang=en-US\\u0026w=jtKzhu3KOsa3mkDLUvcm_m1afK8iBTpt\"},{\"name\":\"Atlanta Events October 2024: Concerts, Shows, Sports...\",\"url\":\"https://atlanta-ga.events/october/\",\"displayUrl\":\"https://atlanta-ga.events/october\",\"snippet\":\"Explore our comprehensive calendar for all the current and upcoming events in Atlanta, GA, for October 2024. This guide is your gateway to discovering the best things to do in Atlanta, from Concerts and Theater Shows to Sports events and music festivals. You\\u2019ll find a detailed list of all the most engaging and exciting activities happening throughout the month.\",\"cachedPageUrl\":\"http://cc.bingj.com/cache.aspx?q=things\\u002Bto\\u002Bdo\\u002Bin\\u002BAtlanta\\u002Bweekend\\u002Bof\\u002BOctober\\u002B19\\u002B2024\\u0026d=4898908879865838\\u0026mkt=en-US\\u0026setlang=en-US\\u0026w=vC_zzFLZ91uzxHogtJy0oBuKycEPAm_-\"},{\"name\":\"80\\u002B fall festivals \\u0026 fairs around metro Atlanta: Fun things to do in ...\",\"url\":\"https://www.atlantaonthecheap.com/fall-festivals-atlanta/\",\"displayUrl\":\"https://www.atlantaonthecheap.com/fall-festivals-atlanta\",\"snippet\":\"October 12 and 13, 2024 October 19 and 20, 2024 Ellijay, GA . This is one of the few festivals outside metro Atlanta we include. It takes place in North Georgia, over two weekends in October. Spend a day on the farm, pick your own apples, visit over 100 vendor booths for arts, crafts, and apple-based food items. Well worth the drive!\",\"cachedPageUrl\":\"http://cc.bingj.com/cache.aspx?q=things\\u002Bto\\u002Bdo\\u002Bin\\u002BAtlanta\\u002Bweekend\\u002Bof\\u002BOctober\\u002B19\\u002B2024\\u0026d=5012794228946274\\u0026mkt=en-US\\u0026setlang=en-US\\u0026w=AqqJM900-WHnjjGt9vluoyq1DPm6ofe-\",\"thumbnailUrl\":\"https://www.bing.com/th?id=OIP.w0-v0ll6eXl6tJfBd5-ovwHaEV\\u0026w=80\\u0026h=80\\u0026c=1\\u0026pid=5.1\"},{\"name\":\"Cool Things To Do in October in Atlanta\",\"url\":\"https://discoveratlanta.com/stories/things-to-do/cool-things-to-do-in-october-in-atlanta/\",\"displayUrl\":\"https://discoveratlanta.com/stories/things-to-do/cool-things-to-do-in-october-in-atlanta\",\"snippet\":\"Corn Dogs, Rides and Whack a Mole. The Atlanta Fair brings the best of a traditional fair to Atlanta with everything from cotton candy, a Ferris wheel, fishing for goldfish, a tilt-a-whirl and a carousel. The fair, located across from the Georgia State University Stadium, will be in town Oct. 4-Nov. 3. Read More.\",\"cachedPageUrl\":\"http://cc.bingj.com/cache.aspx?q=things\\u002Bto\\u002Bdo\\u002Bin\\u002BAtlanta\\u002Bweekend\\u002Bof\\u002BOctober\\u002B19\\u002B2024\\u0026d=4714289705734711\\u0026mkt=en-US\\u0026setlang=en-US\\u0026w=6a-yO_DfCUxfz-dx9C91WDDECk49pD7V\",\"thumbnailUrl\":\"https://www.bing.com/th?id=OIP.4jf9xqKu3QRk_XhZ3J7DYQHaD4\\u0026w=80\\u0026h=80\\u0026c=1\\u0026pid=5.1\"},{\"name\":\"Explore Atlanta Events for Today, This Week or Weekend\",\"url\":\"https://discoveratlanta.com/events/main/\",\"displayUrl\":\"https://discoveratlanta.com/events/m\",\"snippet\":\"Explore the Atlanta events calendar for things to do today, this week or this weekend. Find upcoming festivals, seasonal events and more! ... Elevate Atlanta Every weekend until 10/13/2024. Little Shop of Horrors 9/24/24 \\u2013 9/29/24. Placita Latina Exhibition ... October 19. Saturday. Little 5 Points Halloween Festival \\u0026 Parade 10/19/24 \\u2013 10 ...\",\"cachedPageUrl\":\"http://cc.bingj.com/cache.aspx?q=things\\u002Bto\\u002Bdo\\u002Bin\\u002BAtlanta\\u002Bweekend\\u002Bof\\u002BOctober\\u002B19\\u002B2024\\u0026d=4819881473496114\\u0026mkt=en-US\\u0026setlang=en-US\\u0026w=zvJBiG0Dg4eP1GMx_bJv9FTM8ziERJGY\",\"thumbnailUrl\":\"https://www.bing.com/th?id=OIP.FkxSV6JbrWatsFMM3_8dIAHaEh\\u0026w=80\\u0026h=80\\u0026c=1\\u0026pid=5.1\"},{\"name\":\"Atlanta Festival Calendar: 2024\",\"url\":\"https://unexpectedatlanta.com/atlanta-festival-calendar-2024/\",\"displayUrl\":\"https://unexpectedatlanta.com/atlanta-festival-calendar-2024\",\"snippet\":\"Atlanta Jazz Festival \\u2013 May 25-27, 2024. Held in Piedmont Park, the Atlanta Jazz Festival is an annual celebration of music, culture, and the art of Jazz. Free to all who join, this Memorial Day Weekend event draws fans, professional musicians, and everyone in between, for a 3-day-long festival showcasing 15\\u002B artists.\",\"cachedPageUrl\":\"http://cc.bingj.com/cache.aspx?q=things\\u002Bto\\u002Bdo\\u002Bin\\u002BAtlanta\\u002Bweekend\\u002Bof\\u002BOctober\\u002B19\\u002B2024\\u0026d=4520195830737555\\u0026mkt=en-US\\u0026setlang=en-US\\u0026w=Y_UYHSuQi3QHjG8exIRi2zfYmaaF9rTA\",\"thumbnailUrl\":\"https://www.bing.com/th?id=OIP.8LvXI6tOuWvo9KZdL-C3MwHaHa\\u0026w=80\\u0026h=80\\u0026c=1\\u0026pid=5.1\"},{\"name\":\"Things to do in Atlanta this weekend: Sept. 20-22 - The Atlanta Journal ...\",\"url\":\"https://www.ajc.com/things-to-do/things-to-do-in-atlanta-this-weekend-sept-20-22/JRRVFRDW6ZA6TFL4TIFEC6YUGY/\",\"displayUrl\":\"https://www.ajc.com/things-to-do/things-to-do-in-atlanta-this-weekend-sept-20-22/...\",\"snippet\":\"Gwinnett. JapanFest Atlanta. 10 a.m.-6 p.m. Saturday, Sept. 21, and 10 a.m.-5 p.m. Sunday, Sept. 22. $16 through Sept. 20, $20 at the door, military and seniors $16 ...\",\"cachedPageUrl\":\"http://cc.bingj.com/cache.aspx?q=things\\u002Bto\\u002Bdo\\u002Bin\\u002BAtlanta\\u002Bweekend\\u002Bof\\u002BOctober\\u002B19\\u002B2024\\u0026d=2930586068673\\u0026mkt=en-US\\u0026setlang=en-US\\u0026w=LcstyMFQJhdEt96Av-nymtep_buw2IS2\"},{\"name\":\"26 Thrilling Things To Do In Atlanta This October - Secret Atlanta\",\"url\":\"https://secretatlanta.co/things-to-do-october/\",\"displayUrl\":\"https://secretatlanta.co/things-to-do-october\",\"snippet\":\"Without further ado, here are 26 incredible things to do in Atlanta this October! 1. ... we also celebrate Pride for a weekend in October! This year, Pride is October 12th \\u2013 13th! ... 2024. 18 Frightfully Fun Halloween Events Happening In Atlanta. September 20, 2024.\",\"cachedPageUrl\":\"http://cc.bingj.com/cache.aspx?q=things\\u002Bto\\u002Bdo\\u002Bin\\u002BAtlanta\\u002Bweekend\\u002Bof\\u002BOctober\\u002B19\\u002B2024\\u0026d=4673096676868625\\u0026mkt=en-US\\u0026setlang=en-US\\u0026w=BDZ6Krx8ATVNFCQACSuK0PesDCkO7vK5\",\"thumbnailUrl\":\"https://www.bing.com/th?id=OIP.oVWYpGkEV4zoUw2uzcrcYgHaD6\\u0026w=80\\u0026h=80\\u0026c=1\\u0026pid=5.1\"},{\"name\":\"Things to Do in Atlanta in 2024: Events, festivals, and exhibits ...\",\"url\":\"https://www.thrillist.com/events/atlanta/events-calendar-in-atlanta-this-year\",\"displayUrl\":\"https://www.thrillist.com/events/atlanta/events-calendar-in-atlanta-this-year\",\"snippet\":\"August 23\\u201325, 2024. The Fox Theatre. Every August, the Fox Theatre pays homage to its history as an iconic movie venue with its annual Coca Cola Summer Film Festival. This year\\u2019s edition ...\",\"thumbnailUrl\":\"https://www.bing.com/th?id=OIP.WUHCPl7_RpepE3pSEdAEMgHaE8\\u0026w=80\\u0026h=80\\u0026c=1\\u0026pid=5.1\"},{\"name\":\"Atlanta Fall Festivals - Things to Do in September, October \\u0026 November ...\",\"url\":\"https://discoveratlanta.com/events/festivals/fall/\",\"displayUrl\":\"https://discoveratlanta.com/events/festivals/fall\",\"snippet\":\"Every weekend in October, the Pumpkin Festival at Stone Mountain Park, offers fun and entertainment for the entire family. ... Get to know Atlanta, and discover the best things to do around the city. ... Some events have been canceled or postponed due to COVID-19 outbreak precautions. Spring Festivals. Events Explore Atlanta summer festivals ...\",\"cachedPageUrl\":\"http://cc.bingj.com/cache.aspx?q=things\\u002Bto\\u002Bdo\\u002Bin\\u002BAtlanta\\u002Bweekend\\u002Bof\\u002BOctober\\u002B19\\u002B2024\\u0026d=4547043673964583\\u0026mkt=en-US\\u0026setlang=en-US\\u0026w=rUSMLT6fDjcTwYIwxkPWlywP6tlDYeyB\",\"thumbnailUrl\":\"https://www.bing.com/th?id=OIP.0_XUFlRnb6M8sx27mihKcQHaEK\\u0026w=80\\u0026h=80\\u0026c=1\\u0026pid=5.1\"}]},\"images\":{\"value\":[{\"thumbnailUrl\":\"https://tse1.mm.bing.net/th?id=OIP.B9dwp_jKTmtE_Fruodr10QHaE8\\u0026pid=Api\",\"contentUrl\":\"https://www.treksplorer.com/wp-content/uploads/things-to-do-in-atlanta.jpg\",\"hostPageUrl\":\"https://www.treksplorer.com/things-to-do-in-atlanta-ga-usa/\"},{\"thumbnailUrl\":\"https://tse1.mm.bing.net/th?id=OIP.zsUlule-ACLeXXDRofPdiAAAAA\\u0026pid=Api\",\"contentUrl\":\"https://www.busytourist.com/wp-content/uploads/2020/07/things-to-do-in-Atlanta-2.jpg\",\"hostPageUrl\":\"https://www.busytourist.com/things-to-do-in-atlanta-ga/\"},{\"thumbnailUrl\":\"https://tse1.mm.bing.net/th?id=OIP.3DCmfuvb9PKm59kY35gOowHaD5\\u0026pid=Api\",\"contentUrl\":\"https://www.accessatlanta.com/resizer/st3ipUHpjhivT85uXQnam1p9Dk8=/1280x673/smart/cloudfront-us-east-1.images.arcpublishing.com/ajc/5SITMG7WA5BB3FUUWKHED4CF4U.jpg\",\"hostPageUrl\":\"https://www.accessatlanta.com/atlanta-things-to-do/10-things-to-do-in-atlanta-this-weekend/VNXLGWBIMFBNNJUH5VYLLFZQGA/\"},{\"thumbnailUrl\":\"https://tse1.mm.bing.net/th?id=OIP.Q4O0rf1jd1qA19nIfDvg_AHaEK\\u0026pid=Api\",\"contentUrl\":\"https://blog.ticketmaster.com/wp-content/uploads/atlanta-this-weekend-1024x576.jpg\",\"hostPageUrl\":\"https://blog.ticketmaster.com/things-to-do-atlanta-this-weekend/\"},{\"thumbnailUrl\":\"https://tse1.mm.bing.net/th?id=OIP.TAb-J4vHX4UsIX--2psZXwHaDt\\u0026pid=Api\",\"contentUrl\":\"https://www.familyvacationcritic.com/wp-content/uploads/sites/19/2019/11/atlanta-centennial-park-hero.jpg?is-pending-load=1\",\"hostPageUrl\":\"https://www.familyvacationcritic.com/free-things-to-do-in-atlanta-with-kids/art/\"},{\"thumbnailUrl\":\"https://tse1.mm.bing.net/th?id=OIP.zco_XrsR7HWXyvmCHgOF7wAAAA\\u0026pid=Api\",\"contentUrl\":\"https://res.cloudinary.com/atlanta/images/f_auto,q_auto/v1602606068/newAtlanta.com/Atlanta_OneMusicFest_Crowd/Atlanta_OneMusicFest_Crowd.jpg\",\"hostPageUrl\":\"https://discoveratlanta.com/things-to-do/nightlife/best-festivals-in-the-atl/\"},{\"thumbnailUrl\":\"https://tse1.mm.bing.net/th?id=OIP.Ctt7cutpo0kduVop1QcE-AAAAA\\u0026pid=Api\",\"contentUrl\":\"https://res.cloudinary.com/atlanta/images/f_auto,q_auto/w_2560,h_1565/v1601396905/newAtlanta.com/Atlanta_OneMusicFest_COP-scaled/Atlanta_OneMusicFest_COP-scaled.jpg\",\"hostPageUrl\":\"https://discoveratlanta.com/events/main/\"},{\"thumbnailUrl\":\"https://tse1.mm.bing.net/th?id=OIP.UU2jh9pxi-A6gODV3rN_UQHaLH\\u0026pid=Api\",\"contentUrl\":\"https://i.pinimg.com/736x/bd/73/f1/bd73f16528b3966539959dcede3e9adf.jpg\",\"hostPageUrl\":\"https://www.pinterest.com/pin/628041110510472331/\"},{\"thumbnailUrl\":\"https://tse1.mm.bing.net/th?id=OIP.dOF_E14DjBhURGyO3gpUPAHaE8\\u0026pid=Api\",\"contentUrl\":\"https://www.travelandleisure.com/thmb/vWy4TaS7bYto1vVS6vmZsrxZzY0=/1800x1200/filters:fill(auto,1)/atlanta-skyline-TODOATL0122-195afa04632e43f5be27ef2dcc94ca3b.jpg\",\"hostPageUrl\":\"https://www.travelandleisure.com/attractions/best-things-to-do-in-atlanta-georgia\"},{\"thumbnailUrl\":\"https://tse1.mm.bing.net/th?id=OIP.cGQLTADJ7EIEL8n56X81XwHaLH\\u0026pid=Api\",\"contentUrl\":\"https://www.busytourist.com/wp-content/uploads/2020/07/best-things-to-do-in-Atlanta-GA-1.jpg\",\"hostPageUrl\":\"https://janqkarlotta.pages.dev/rmueufk-things-to-do-in-atlanta-october-2024-uzbmkjn/\"},{\"thumbnailUrl\":\"https://tse1.mm.bing.net/th?id=OIP.M9nQL4kFM4rwNQiRkhAekAHaEo\\u0026pid=Api\",\"contentUrl\":\"https://travellersworldwide.com/wp-content/uploads/2022/05/shutterstock_1039281055.jpg\",\"hostPageUrl\":\"https://travellersworldwide.com/best-things-to-do-in-atlanta/\"},{\"thumbnailUrl\":\"https://tse1.mm.bing.net/th?id=OIP.FoK9oeyyJaS5E0tUnt4aWAHaFl\\u0026pid=Api\",\"contentUrl\":\"https://blankcalendarpages.com/printable_calendar/ush2/October-2024-calendar-US-Holidays2.jpg\",\"hostPageUrl\":\"https://ellablulita.pages.dev/zdljowb-calendar-october-2024-images-jzhqusq/\"},{\"thumbnailUrl\":\"https://tse1.mm.bing.net/th?id=OIP.ogDm12QMVHa8ksRPyYC0cQHaD5\\u0026pid=Api\",\"contentUrl\":\"https://www.accessatlanta.com/resizer/4FW7k-42GmjCClueeCue_ngWfb0=/1280x673/smart/cloudfront-us-east-1.images.arcpublishing.com/ajc/62ARQ4XAAZFYBC22DC7PPCM6BA.jpg\",\"hostPageUrl\":\"https://www.accessatlanta.com/atlanta-things-to-do/10-things-to-do-in-atlanta-this-weekend/UIJTRLSFZBAXJO3XG7P7CB6TTQ/\"},{\"thumbnailUrl\":\"https://tse1.mm.bing.net/th?id=OIP.qryeVQDjSb0OyZ3aJYf-AQAAAA\\u0026pid=Api\",\"contentUrl\":\"https://i.pinimg.com/originals/d9/77/ca/d977cad8d2161cf0a48b615aa2ad5da4.png\",\"hostPageUrl\":\"https://www.pinterest.com/pin/559924166178867269/\"},{\"thumbnailUrl\":\"https://tse1.mm.bing.net/th?id=OIP.0oDI3jFqpaShLx9pjcpfLwHaD5\\u0026pid=Api\",\"contentUrl\":\"https://www.accessatlanta.com/resizer/MNmc5O38NvDFpLfysTEWJvKA2pY=/1280x673/smart/cloudfront-us-east-1.images.arcpublishing.com/ajc/RWCW55TL45AUJBQQ2MIGRBHYIM.JPG\",\"hostPageUrl\":\"https://www.accessatlanta.com/atlanta-things-to-do/10-things-to-do-in-atlanta-this-weekend/2H6GAMDFY5BG7AYBOBCAPLYAWM/\"},{\"thumbnailUrl\":\"https://tse1.mm.bing.net/th?id=OIP.sAroS4mN6xHPFo7PfqX5jwHaE8\\u0026pid=Api\",\"contentUrl\":\"https://www.tripsavvy.com/thmb/bEHrj-Y01dAwzesdU4psaskXFwg=/2119x1415/filters:fill(auto,1)/GettyImages-462379111-ed0cc7d850c34826bd1b4f6269562670.jpg\",\"hostPageUrl\":\"https://www.tripsavvy.com/the-top-things-to-do-in-midtown-atlanta-4684778\"},{\"thumbnailUrl\":\"https://tse1.mm.bing.net/th?id=OIP.yRC0krj1Jbi8qtYhSLLimgHaE8\\u0026pid=Api\",\"contentUrl\":\"https://lp-cms-production.imgix.net/2021-05/GettyRF_486068945.jpg?auto=compress\\u0026fit=crop\\u0026fm=auto\\u0026sharp=10\\u0026vib=20\\u0026w=1200\\u0026h=800\",\"hostPageUrl\":\"https://www.lonelyplanet.com/articles/top-things-to-do-in-atlanta\"},{\"thumbnailUrl\":\"https://tse1.mm.bing.net/th?id=OIP.Ht-xNb21NN-RQkIbTxHkLgHaE8\\u0026pid=Api\",\"contentUrl\":\"https://image.jimcdn.com/app/cms/image/transf/dimension=620x10000:format=jpg/path/s9524a0afdc5b40b0/image/i88ad01ce4abaee84/version/1465824505/8-fun-things-to-do-in-atlanta-travel-city-guide-via-just1wayticket.jpg\",\"hostPageUrl\":\"http://www.justonewayticket.com/2016/06/14/8-fun-things-to-do-in-atlanta/\"},{\"thumbnailUrl\":\"https://tse1.mm.bing.net/th?id=OIP.IQdbIurydLNAra41RB0H8AHaE5\\u0026pid=Api\",\"contentUrl\":\"https://www.wanderglobe.org/wp-content/uploads/2020/11/Things-to-Do-in-Atlanta.jpg\",\"hostPageUrl\":\"https://www.wanderglobe.org/top-10-things-to-do-in-atlanta/\"},{\"thumbnailUrl\":\"https://tse1.mm.bing.net/th?id=OIP.O5EieTnicNvvliIu9uspUAHaEK\\u0026pid=Api\",\"contentUrl\":\"https://images.axios.com/s3DWU4gA3Bxju0GDWTp6dY92t9I=/0x625:6000x4000/1366x768/2024/05/29/1717008771023.jpg?w=1366\",\"hostPageUrl\":\"https://www.axios.com/local/atlanta/2024/05/30/atlanta-weekend-events-megan-thee-stallion-bike-fest\"}]}}\n",
       "```\n",
       "\n",
       "I called the tool named ExtractContentFromUrl with these arguments:\n",
       "```\n",
       "{\"assistantName\": \"WebPageAgentAnt\", \"instructions\": \"What are the things to do in Atlanta for the weekend of September 28, 2024? https://gosouthatlanta.com/things-to-do/events/atlanta-in-september.html\"}\n",
       "```\n",
       "and got this result:\n",
       "```\n",
       "\"For the weekend of September 28, 2024, here are some events happening in Atlanta:\\n\\n1. **Disney On Ice** (September 26-29, 2024)\\n   - Family ice-skating performance at the Gas South Arena.\\n\\n2. **Out on Film** (September 26 - October 6, 2024)\\n   - Annual festival of LGBTQ\\u002B filmmaking.\\n\\n3. **Aqua Vino** (September 27, 2024)\\n   - Annual wine tasting event at the Georgia Aquarium to benefit its research and conservation initiatives, with unlimited wine samples, small bites, and live entertainment amidst the sea life exhibits.\\n\\n4. **Sweet Auburn Music Fest** (September 27-29, 2024)\\n   - Popular annual R\\u0026B and gospel music street festival in the Sweet Auburn district, with international food, art and other vendors, local businesses and more.\\n\\n5. **Joelanta** (September 27-29, 2024)\\n   - Action figure and collectibles convention at the Gas South Convention Center.\\n\\n6. **East Atlanta Strut** (September 28, 2024)\\n   - Annual neighborhood festival in East Atlanta, with parade, contests, marketplaces, music and more.\\n\\n7. **Yappy Hour** (September 28, 2024)\\n   - Pet-friendly event series at The Hamilton Hotel Alpharetta, with pet adoptions and specialty cocktails.\\n\\n8. **AIDS Walk Atlanta Music Festival \\u0026 5K Run** (September 28, 2024)\\n   - 5K run/walk and music festival in Piedmont Park to benefit AIDS services in Atlanta.\\n\\n9. **French Market Atlanta** (September 28, 2024)\\n   - French-style outdoor market in Buckhead Village District, with French food, crafts and live music.\\n\\n10. **Fine Wine Festival** (September 28, 2024)\\n    - Wine festival at the Home Depot Backyard, with wine tastings, R\\u0026B music and more.\\n\\n11. **Trae Crowder** (September 28, 2024)\\n    - Comedy show at the Buckhead Theatre.\\n\\n12. **Ghost Files Live!** (September 28, 2024)\\n    - Paranormal investigation live show at the Cobb Energy Performing Arts Centre.\\n\\n13. **Riverfest** (September 28-29, 2024)\\n    - Annual juried arts and crafts festival in Etowah River Park, Canton, with 150\\u002B artists and artisans from across the southeast, local food trucks and musicians, children\\u2019s activities, football screenings and more.\\n\\n14. **Roswell Wine Festival** (September 28-29, 2024)\\n    - Annual wine festival in downtown Roswell, with wine tastings, food from local restaurants and live music.\\n\\n15. **Duluth Fall Festival** (September 28-29, 2024)\\n    - Popular fall neighborhood festival in downtown Duluth, with parade, 5K race, concert and other entertainment, arts and crafts, food and more.\\n\\n16. **Everyday Heroes** (September 28-29, 2024)\\n    - Dance performance at the Gas South Theater.\\n\\n17. **Atlanta Comic Convention** (September 29, 2024)\\n    - Comic book and collectibles convention at the Marriott Hotel - Century Center.\\n\\nEnjoy your weekend in Atlanta!\"\n",
       "```\n",
       "\n",
       "I called the tool named ExtractContentFromUrl with these arguments:\n",
       "```\n",
       "{\"assistantName\": \"WebPageAgentAnt\", \"instructions\": \"What are the things to do in Atlanta for the weekend of October 5, 2024? https://atlanta-ga.events/october/\"}\n",
       "```\n",
       "and got this result:\n",
       "```\n",
       "\"The information was not found in the page\"\n",
       "```\n",
       "\n",
       "I called the tool named ExtractContentFromUrl with these arguments:\n",
       "```\n",
       "{\"assistantName\": \"WebPageAgentAnt\", \"instructions\": \"What are the things to do in Atlanta for the weekend of October 12, 2024? https://gosouthatlanta.com/things-to-do/events/atlanta-in-october.html\"}\n",
       "```\n",
       "and got this result:\n",
       "```\n",
       "\"Here are some things to do in Atlanta for the weekend of October 12, 2024:\\n\\n- **Oakhurst Porchfest** (October 12, 2024): Annual community music festival in Decatur with over 100 live performances on Oakhurst neighborhood porches. [More details](https://gosouthatlanta.com/things-to-do/events/atlanta-in-october.html)\\n\\n- **Madison Avenue Derby** (October 12, 2024): Annual races in Decatur in homemade, human-powered soapbox cars, to benefit local children\\u2019s charities. [More details](https://gosouthatlanta.com/things-to-do/events/atlanta-in-october.html)\\n\\n- **Politics War Room with James Carville \\u0026 Al Hunt** (October 12, 2024): Talk event at Variety Playhouse. [More details](https://gosouthatlanta.com/things-to-do/events/atlanta-in-october.html)\\n\\n- **Atlanta Pride Festival** (October 12-13, 2024): One of the biggest Pride festivals in the country, held in Piedmont Park, with live performances, parade, marches, marketplace, and more. [More details](https://gosouthatlanta.com/things-to-do/events/atlanta-in-october.html)\\n\\n- **Taste \\u0026 Brews Fall Festival** (October 12-13, 2024): Annual food and beer festival at Etowah River Park, Canton, featuring southern food and beers, musicians from across Georgia, arts and crafts, farmers market, children\\u2019s activities, and more. [More details](https://gosouthatlanta.com/things-to-do/events/atlanta-in-october.html)\\n\\n- **Old Fourth Ward Fall Arts Festival** (October 12-13, 2024): Twice-annual arts festival in Historic Fourth Ward Park featuring local and Georgian artists, demonstrations, live entertainment, art activities, food, and more. [More details](https://gosouthatlanta.com/things-to-do/events/atlanta-in-october.html)\\n\\n- **Chalktoberfest** (October 12-13, 2024): Popular annual art and beer festival in Marietta Square, featuring professional chalk artists, 120\\u002B craft beers, live music, arts and crafts, food trucks, amateur chalk art competition, and more. [More details](https://gosouthatlanta.com/things-to-do/events/atlanta-in-october.html)\\n\\n- **FashionFest** (October 12-13, 2024): Festival of urban-popular fashion and streetwear at Ambient Plus Studio, with fashion and footwear vendors, food, music, and more. [More details](https://gosouthatlanta.com/things-to-do/events/atlanta-in-october.html)\\n\\nFor more details and events, you can visit the [website](https://gosouthatlanta.com/things-to-do/events/atlanta-in-october.html).\"\n",
       "```\n",
       "\n",
       "I called the tool named ExtractContentFromUrl with these arguments:\n",
       "```\n",
       "{\"assistantName\": \"WebPageAgentAnt\", \"instructions\": \"What are the things to do in Atlanta for the weekend of October 19, 2024? https://discoveratlanta.com/events/main/\"}\n",
       "```\n",
       "and got this result:\n",
       "```\n",
       "\"Here are some events happening in Atlanta for the weekend of October 19, 2024:\\n\\n1. **Little 5 Points Halloween Festival \\u0026 Parade**\\n   - Dates: October 19-20, 2024\\n   - Description: Celebrate Halloween with a parade, live music, food, and more in the Little 5 Points neighborhood.\\n   - [More Information](https://discoveratlanta.com/event/detail/little-5-points-halloween-festival-parade/)\\n\\n2. **Stone Mountain Scottish Festival and Highland Games**\\n   - Dates: October 19-20, 2024\\n   - Description: Enjoy Scottish traditions with athletic competitions, dance, music, and more at Stone Mountain Park.\\n   - [More Information](https://discoveratlanta.com/event/detail/stone-mountain-scottish-festival-and-highland-games/)\\n\\n3. **25th Annual Trees Atlanta Tree Sale**\\n   - Date: October 19, 2024\\n   - Description: Purchase native trees and plants at this annual sale supporting Trees Atlanta.\\n   - [More Information](https://discoveratlanta.com/event/detail/25th-annual-trees-atlanta-tree-sale/)\\n\\n4. **Candlelight: A Haunted Evening of Halloween**\\n   - Date: October 19, 2024\\n   - Description: Experience a spooky candlelight concert featuring Halloween classics.\\n   - [More Information](https://discoveratlanta.com/event/detail/candlelight-a-haunted-evening-of-halloween/)\\n\\n5. **Cars \\u0026 \\u2018Q for the Cause**\\n   - Date: October 19, 2024\\n   - Description: A car show and BBQ event to benefit the Cystic Fibrosis Foundation.\\n   - [More Information](https://discoveratlanta.com/event/detail/cars-q-for-the-cause/)\\n\\n6. **Georgia Tech Football vs Notre Dame**\\n   - Date: October 19, 2024\\n   - Description: Watch the Georgia Tech Yellow Jackets take on the Notre Dame Fighting Irish in a college football matchup.\\n   - [More Information](https://discoveratlanta.com/event/detail/georgia-tech-football-vs-notre-dame/)\\n\\n7. **Pine Lake Lakefest**\\n   - Dates: October 19-20, 2024\\n   - Description: Enjoy live music, arts and crafts, food, and more at Pine Lake\\u0027s annual festival.\\n   - [More Information](https://discoveratlanta.com/event/detail/pine-lake-lakefest/)\\n\\n8. **Race for Rest 2024**\\n   - Date: October 19, 2024\\n   - Description: Participate in a race to support initiatives aimed at providing rest and recovery for underserved communities.\\n   - [More Information](https://discoveratlanta.com/event/detail/race-for-rest-2024/)\\n\\n9. **To The Limit: An Eagles Tribute**\\n   - Date: October 19, 2024\\n   - Description: Enjoy a tribute concert featuring the music of the Eagles.\\n   - [More Information](https://discoveratlanta.com/event/detail/to-the-limit-an-eagles-tribute/)\\n\\n10. **Tower of Power**\\n    - Date: October 19, 2024\\n    - Description: Attend a live performance by the legendary soul and funk band, Tower of Power.\\n    - [More Information](https://discoveratlanta.com/event/detail/tower-of-power/)\\n\\nFor more events, you can explore the full list [here](https://discoveratlanta.com/events/all/?date_sort=today).\"\n",
       "```\n",
       "\n",
       "Here are some exciting things to do in Atlanta for each of the next four weekends:\n",
       "\n",
       "### Weekend of September 28, 2024\n",
       "1. **Disney On Ice**  \n",
       "   Family ice-skating performance at the Gas South Arena.  \n",
       "   ![Disney On Ice](https://tse1.mm.bing.net/th?id=OIP.xm-3dn3hYJZHsVVU9WO5qwHaD4&w=80&h=80&c=1&pid=5.1)\n",
       "   \n",
       "2. **Out on Film**  \n",
       "   Annual festival of LGBTQ+ filmmaking.  \n",
       "   ![Out on Film](https://tse1.mm.bing.net/th?id=OIP.xm-3dn3hYJZHsVVU9WO5qwHaD4&w=80&h=80&c=1&pid=5.1)\n",
       "\n",
       "3. **Sweet Auburn Music Fest**  \n",
       "   Popular annual R&B and gospel music street festival in the Sweet Auburn district.  \n",
       "   ![Sweet Auburn Music Fest](https://tse1.mm.bing.net/th?id=OIP.m0ENCio7ytS2o9PQRWDCRgHaD4&w=80&h=80&c=1&pid=5.1)  \n",
       "   [More details](https://gosouthatlanta.com/things-to-do/events/atlanta-in-september.html)\n",
       "\n",
       "### Weekend of October 5, 2024\n",
       "1. **Daddy Long Legs**  \n",
       "   Musical at The Legacy Theatre, Tyrone.  \n",
       "   ![Daddy Long Legs](https://tse1.mm.bing.net/th?id=OIP.wxOD0OTZ89VvVuQNnfz51wHaL0&pid=Api)\n",
       "\n",
       "2. **Atlanta Fair**  \n",
       "   Traditional fair with cotton candy, a Ferris wheel, and more.  \n",
       "   ![Atlanta Fair](https://tse1.mm.bing.net/th?id=OIP.4jf9xqKu3QRk_XhZ3J7DYQHaD4&w=80&h=80&c=1&pid=5.1)  \n",
       "   [More details](https://discoveratlanta.com/stories/things-to-do/cool-things-to-do-in-october-in-atlanta)\n",
       "\n",
       "3. **Candler Park Fall Festival**  \n",
       "   Street festival with an artist market and live music.  \n",
       "   ![Candler Park Fall Festival](https://tse1.mm.bing.net/th?id=OIP.w0-v0ll6eXl6tJfBd5-ovwHaEV&w=80&h=80&c=1&pid=5.1)  \n",
       "   [More details](https://www.atlantaonthecheap.com/fall-festivals-atlanta)\n",
       "\n",
       "### Weekend of October 12, 2024\n",
       "1. **Oakhurst Porchfest**  \n",
       "   Community music festival in Decatur.  \n",
       "   ![Oakhurst Porchfest](https://tse1.mm.bing.net/th?id=OIP.3DCmfuvb9PKm59kY35gOowHaD5&pid=Api)  \n",
       "   [More details](https://gosouthatlanta.com/things-to-do/events/atlanta-in-october.html)\n",
       "\n",
       "2. **Atlanta Pride Festival**  \n",
       "   One of the biggest Pride festivals in the country, held in Piedmont Park.  \n",
       "   ![Atlanta Pride Festival](https://tse1.mm.bing.net/th?id=OIP.wxOD0OTZ89VvVuQNnfz51wHaL0&pid=Api)  \n",
       "   [More details](https://gosouthatlanta.com/things-to-do/events/atlanta-in-october.html)\n",
       "\n",
       "3. **Chalktoberfest**  \n",
       "   Art and beer festival in Marietta Square.  \n",
       "   ![Chalktoberfest](https://tse1.mm.bing.net/th?id=OIP.4jf9xqKu3QRk_XhZ3J7DYQHaD4&w=80&h=80&c=1&pid=5.1)  \n",
       "   [More details](https://gosouthatlanta.com/things-to-do/events/atlanta-in-october.html)\n",
       "\n",
       "### Weekend of October 19, 2024\n",
       "1. **Little 5 Points Halloween Festival & Parade**  \n",
       "   Celebrate Halloween with a parade, live music, and food.  \n",
       "   ![Little 5 Points Halloween Festival & Parade](https://tse1.mm.bing.net/th?id=OIP.FkxSV6JbrWatsFMM3_8dIAHaEh&w=80&h=80&c=1&pid=5.1)  \n",
       "   [More Information](https://discoveratlanta.com/event/detail/little-5-points-halloween-festival-parade)\n",
       "\n",
       "2. **Stone Mountain Scottish Festival and Highland Games**  \n",
       "   Enjoy Scottish traditions with athletic competitions, dance, music, and more.  \n",
       "   ![Stone Mountain Scottish Festival and Highland Games](https://tse1.mm.bing.net/th?id=OIP.w0-v0ll6eXl6tJfBd5-ovwHaEV&w=80&h=80&c=1&pid=5.1)  \n",
       "   [More Information](https://discoveratlanta.com/event/detail/stone-mountain-scottish-festival-and-highland-games)\n",
       "\n",
       "3. **25th Annual Trees Atlanta Tree Sale**  \n",
       "   Purchase native trees and plants.  \n",
       "   ![25th Annual Trees Atlanta Tree Sale](https://tse1.mm.bing.net/th?id=OIP.FkxSV6JbrWatsFMM3_8dIAHaEh&w=80&h=80&c=1&pid=5.1)  \n",
       "   [More Information](https://discoveratlanta.com/event/detail/25th-annual-trees-atlanta-tree-sale)\n",
       "\n",
       "Enjoy your weekends in Atlanta!\n"
      ]
     },
     "metadata": {},
     "output_type": "display_data"
    }
   ],
   "source": [
    "assistantRunOptions = new AssistantRunOptions() {\n",
    "    AssistantName = \"WebSearchAgentAnt\",\n",
    "    Instructions = \"Use python to get todays date and then use it to find things to do in Atlanta for each of the next four weekends with pictures and correct links from ExtractContentFromUrl.\\n\\nWhen choosing links for crawl to evaluate with ExtractContentFromUrl choose a variety of hosts for urls from which you extract content. Limit your use of ExtractContentFromUrl to five calls or less. Do not make the error of including the url as a parameter, it must be inside 'instructions' as indicated by the tool definition. Be careful to not include events in the past in your final answer. You should perform four searches at once.\\nDon't forget to include valid links!\",\n",
    "};\n",
    "var output2 = await AntRunnerLib.AssistantRunner.RunThread(assistantRunOptions, config);\n",
    "output2.Dialog.DisplayAs(\"text/markdown\");"
   ]
  },
  {
   "cell_type": "markdown",
   "metadata": {},
   "source": [
    "## Clean Up"
   ]
  },
  {
   "cell_type": "code",
   "execution_count": 23,
   "metadata": {
    "dotnet_interactive": {
     "language": "csharp"
    },
    "polyglot_notebook": {
     "kernelName": "csharp"
    },
    "vscode": {
     "languageId": "polyglot-notebook"
    }
   },
   "outputs": [
    {
     "name": "stdout",
     "output_type": "stream",
     "text": [
      "Didn't find WebSearchAgentAnt\n",
      "Didn't find WebPageAgentAnt\n"
     ]
    }
   ],
   "source": [
    "var assistant = (await client.AssistantList())?.Data?.FirstOrDefault(o => o.Name == \"WebSearchAgentAnt\");\n",
    "if(assistant != null) {\n",
    "    await client.AssistantDelete(assistant.Id);\n",
    "    Console.WriteLine(\"Deleted assistant\");\n",
    "}\n",
    "else\n",
    "{\n",
    "    Console.WriteLine(\"Didn't find WebSearchAgentAnt\");\n",
    "}\n",
    "\n",
    "assistant = (await client.AssistantList())?.Data?.FirstOrDefault(o => o.Name == \"WebPageAgentAnt\");\n",
    "if(assistant != null) {\n",
    "    await client.AssistantDelete(assistant.Id);\n",
    "    Console.WriteLine(\"Deleted assistant\");\n",
    "}\n",
    "else\n",
    "{\n",
    "    Console.WriteLine(\"Didn't find WebPageAgentAnt\");\n",
    "}"
   ]
  }
 ],
 "metadata": {
  "kernelspec": {
   "display_name": ".NET (C#)",
   "language": "C#",
   "name": ".net-csharp"
  },
  "language_info": {
   "name": "python"
  },
  "polyglot_notebook": {
   "kernelInfo": {
    "defaultKernelName": "csharp",
    "items": [
     {
      "aliases": [],
      "name": "csharp"
     }
    ]
   }
  }
 },
 "nbformat": 4,
 "nbformat_minor": 2
}
