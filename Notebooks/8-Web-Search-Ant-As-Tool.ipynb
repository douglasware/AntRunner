{
 "cells": [
  {
   "cell_type": "markdown",
   "metadata": {},
   "source": [
    "# This notebook requires a deployment named \"gpt-4o\", edit as needed\n",
    "\n",
    "## Web Search Ant As Tool\n",
    "\n",
    "This example demonstrates one ant using another ant as a tool so that the second ant's work is outside the main thread.\n",
    "\n",
    "The **WebSearchAgentAnt** demonstrates the use of a Web API secured using an API key with an auth header. \n",
    "This sample requires you to create a Web Search (bing) resource in Azure and enter its corresponding API key in [0-AI-settings](0-AI-settings.ipynb)\n",
    "\n",
    "WebSearchAgentAnt uses **WebPageAgentAnt** via a tool call to evaluate search results using the search results link.\n",
    "\n",
    "This demo uses a lot of tokens. \n",
    "\n",
    "**If your quota is low, you will get throttled**"
   ]
  },
  {
   "cell_type": "markdown",
   "metadata": {},
   "source": [
    "## First steps\n",
    "- First, download AntRunLib from Nuget\n",
    "- At least once, set up the environment using **[0-AI-settings](0-AI-settings.ipynb)**"
   ]
  },
  {
   "cell_type": "code",
   "execution_count": 8,
   "metadata": {
    "dotnet_interactive": {
     "language": "csharp"
    },
    "polyglot_notebook": {
     "kernelName": "csharp"
    },
    "vscode": {
     "languageId": "polyglot-notebook"
    }
   },
   "outputs": [
    {
     "data": {
      "text/html": [
       "<div><div></div><div></div><div><strong>Installed Packages</strong><ul><li><span>AntRunnerLib, 0.8.6</span></li></ul></div></div>"
      ]
     },
     "metadata": {},
     "output_type": "display_data"
    }
   ],
   "source": [
    "#r \"nuget: AntRunnerLib, 0.8.6\"\n",
    "\n",
    "using AntRunnerLib;\n",
    "using AntRunnerLib.Identity;\n",
    "using static AntRunnerLib.ClientUtility;\n",
    "using System.IO;\n",
    "\n",
    "#!import config/Settings.cs \n",
    "\n",
    "var envVariables = Settings.GetEnvironmentVariables();\n",
    "foreach (var kvp in envVariables)\n",
    "{\n",
    "    Environment.SetEnvironmentVariable(kvp.Key, kvp.Value);\n",
    "}\n",
    "\n",
    "Environment.SetEnvironmentVariable(\"AZURE_OPENAI_DEPLOYMENT\", \"gpt-4o\");\n",
    "\n",
    "var config = AzureOpenAiConfigFactory.Get();\n",
    "var client = GetOpenAiClient(config);\n"
   ]
  },
  {
   "cell_type": "code",
   "execution_count": 15,
   "metadata": {
    "dotnet_interactive": {
     "language": "csharp"
    },
    "polyglot_notebook": {
     "kernelName": "csharp"
    },
    "vscode": {
     "languageId": "polyglot-notebook"
    }
   },
   "outputs": [
    {
     "name": "stdout",
     "output_type": "stream",
     "text": [
      "asst_oMd07FREGGlxyIVeHYfP7fPD\n",
      "asst_29tFwosin5u0ivX2oMOmj48L\n"
     ]
    }
   ],
   "source": [
    "var assistantId = await AssistantUtility.Create(\"WebSearchAgentAnt\", config);\n",
    "Console.WriteLine(assistantId);\n",
    "assistantId = await AssistantUtility.Create(\"WebPageAgentAnt\", config);\n",
    "Console.WriteLine(assistantId);"
   ]
  },
  {
   "cell_type": "code",
   "execution_count": 10,
   "metadata": {
    "dotnet_interactive": {
     "language": "csharp"
    },
    "polyglot_notebook": {
     "kernelName": "csharp"
    },
    "vscode": {
     "languageId": "polyglot-notebook"
    }
   },
   "outputs": [],
   "source": [
    "AntLoader.LoadAssembly(@\".\\AssistantDefinitions\\WebPageAgentAnt\\HtmlAgilityPack.dll\");\n",
    "AntLoader.LoadAssembly(@\".\\AssistantDefinitions\\WebPageAgentAnt\\HtmlAgilityPackExtensions.dll\");"
   ]
  },
  {
   "cell_type": "markdown",
   "metadata": {},
   "source": [
    "## Run the Assistant\n",
    "\n",
    "`output.Dialog` shows the conversation."
   ]
  },
  {
   "cell_type": "code",
   "execution_count": 11,
   "metadata": {
    "dotnet_interactive": {
     "language": "csharp"
    },
    "polyglot_notebook": {
     "kernelName": "csharp"
    },
    "vscode": {
     "languageId": "polyglot-notebook"
    }
   },
   "outputs": [
    {
     "data": {
      "text/markdown": [
       "\n",
       "User: Use python to get todays date and then use it to find things to do in Atlanta today. Be careful to not include events in the past in your final answer.\n",
       "\n",
       "Assistant: I ran this code:\n",
       "```\n",
       "from datetime import datetime\n",
       "\n",
       "# Get today's date\n",
       "today_date = datetime.now().strftime('%Y-%m-%d')\n",
       "today_date\n",
       "```\n",
       "\n",
       "I called the tool named crawl with these arguments:\n",
       "```\n",
       "{\n",
       "  \"q\": \"events in Atlanta on 2024-09-25\",\n",
       "  \"textFormat\": \"Raw\",\n",
       "  \"answerCount\": 5\n",
       "}\n",
       "```\n",
       "and got this result:\n",
       "```\n",
       "{\"queryContext\":{\"originalQuery\":\"events in Atlanta on 2024-09-25\"},\"webPages\":{\"value\":[{\"name\":\"Atlanta Events September 2024: Concerts, Shows, Sports...\",\"url\":\"https://atlanta-ga.events/september/\",\"displayUrl\":\"https://atlanta-ga.events/september\",\"snippet\":\"Check Out The Atlanta Events Calendar for September 2024. See the List Of All Current \\u0026 Upcoming Events at the Lowest Possible Price. ... Sep 25, 2024 6:30 PM . Lorna Shore . Upcoming Events: 2. The Tabernacle - GA . Sep 25, 2024 6:30 PM ...\",\"cachedPageUrl\":\"http://cc.bingj.com/cache.aspx?q=events\\u002Bin\\u002BAtlanta\\u002Bon\\u002B2024-09-25\\u0026d=4854189676169673\\u0026mkt=en-US\\u0026setlang=en-US\\u0026w=73iRaVHIvJefbkmdL1lCvH4mS1bjztOY\"},{\"name\":\"Cool Things To Do in September in Atlanta\",\"url\":\"https://discoveratlanta.com/stories/things-to-do/cool-things-to-do-in-september-in-atlanta/\",\"displayUrl\":\"https://discoveratlanta.com/stories/things-to-do/cool-things-to-do-in-september-in-atlanta\",\"snippet\":\"The Sweet Auburn Music Fest, which takes place Sept. 28-29. The festival, located on Auburn Avenue, one of Atlanta\\u2019s most iconic streets, offers fun-filled entertainment, live music \\u2014 everything from R\\u0026B to gospel to alternative favorites \\u2014 international food court, national artists, celebrities and vendors of all types.\",\"cachedPageUrl\":\"http://cc.bingj.com/cache.aspx?q=events\\u002Bin\\u002BAtlanta\\u002Bon\\u002B2024-09-25\\u0026d=4692574352310340\\u0026mkt=en-US\\u0026setlang=en-US\\u0026w=c-5Oucqqe-FV74GkIkdoRE4k4vk9MNbJ\",\"thumbnailUrl\":\"https://www.bing.com/th?id=OIP.m0ENCio7ytS2o9PQRWDCRgHaD4\\u0026w=80\\u0026h=80\\u0026c=1\\u0026pid=5.1\"},{\"name\":\"Explore Atlanta Events for Today, This Week or Weekend\",\"url\":\"https://discoveratlanta.com/events/main/\",\"displayUrl\":\"https://discoveratlanta.com/events/m\",\"snippet\":\"Explore the Atlanta events calendar for things to do today, this week or this weekend. Find upcoming festivals, seasonal events and more! ... Every Saturday until 09/28/2024. Protect Yo Energy Con 9/24/24 \\u2013 11/9/24. Weekend Creekwater Alpaca Farm Barn Tour 9/24/24 \\u2013 9/29/24. ... Every Wednesday until 12/25/2024.\",\"cachedPageUrl\":\"http://cc.bingj.com/cache.aspx?q=events\\u002Bin\\u002BAtlanta\\u002Bon\\u002B2024-09-25\\u0026d=4819881473496114\\u0026mkt=en-US\\u0026setlang=en-US\\u0026w=zvJBiG0Dg4eP1GMx_bJv9FTM8ziERJGY\",\"thumbnailUrl\":\"https://www.bing.com/th?id=OIP.FkxSV6JbrWatsFMM3_8dIAHaEh\\u0026w=80\\u0026h=80\\u0026c=1\\u0026pid=5.1\"},{\"name\":\"Upcoming Events - Discover Atlanta\",\"url\":\"https://discoveratlanta.com/events/all/\",\"displayUrl\":\"https://discoveratlanta.com/events/all\",\"snippet\":\"Explore a list of Atlanta events and upcoming events in the Atlanta area, including events happening this weekend! DiscoverAtlanta.com homepage. Things to Do; Events; Plan Your Visit; Meetings; ... 9/25/24. Community Movie Night presented by Disney on Ice ... Multiple dates until 09/29/2024.\",\"cachedPageUrl\":\"http://cc.bingj.com/cache.aspx?q=events\\u002Bin\\u002BAtlanta\\u002Bon\\u002B2024-09-25\\u0026d=4829094184573839\\u0026mkt=en-US\\u0026setlang=en-US\\u0026w=J3F_lNIMaK2UBKZlUeD3eG4MmVcBwK29\"},{\"name\":\"Atlanta Events - September 2024 - Go South Atlanta\",\"url\":\"https://gosouthatlanta.com/things-to-do/events/atlanta-in-september.html\",\"displayUrl\":\"https://gosouthatlanta.com/things-to-do/events/atlanta-in-september.html\",\"snippet\":\"More details. \\u2013 Dragon Con, August 29 - September 2 2024. One of the biggest annual pop culture conventions in the country. More details. \\u2013 Atlanta Black Theatre Festival, August 30 - September 1 2024. Annual festival celebrating the Black experience in the performing arts, with plays, panels, masterclasses and other events.\",\"cachedPageUrl\":\"http://cc.bingj.com/cache.aspx?q=events\\u002Bin\\u002BAtlanta\\u002Bon\\u002B2024-09-25\\u0026d=4712253893574850\\u0026mkt=en-US\\u0026setlang=en-US\\u0026w=aWkJWqw243Je4oOvzq1dGpeg_GE4sHjt\",\"thumbnailUrl\":\"https://www.bing.com/th?id=OIP.xm-3dn3hYJZHsVVU9WO5qwHaD4\\u0026w=80\\u0026h=80\\u0026c=1\\u0026pid=5.1\"},{\"name\":\"80\\u002B fall festivals \\u0026 fairs around metro Atlanta: Fun things to do in ...\",\"url\":\"https://www.atlantaonthecheap.com/fall-festivals-atlanta/\",\"displayUrl\":\"https://www.atlantaonthecheap.com/fall-festivals-atlanta\",\"snippet\":\"Fall festival season in Atlanta kicks off around Labor Day Weekend, when it still feels like summer, and continues until Thanksgiving \\u2014 and then it\\u2019s time for tree and menorah lightings, ice rinks, and holiday fun.. This list includes festivals, carnivals, and fairs that are taking place in September, October, and November in 2024.\",\"cachedPageUrl\":\"http://cc.bingj.com/cache.aspx?q=events\\u002Bin\\u002BAtlanta\\u002Bon\\u002B2024-09-25\\u0026d=5012794228946274\\u0026mkt=en-US\\u0026setlang=en-US\\u0026w=AqqJM900-WHnjjGt9vluoyq1DPm6ofe-\",\"thumbnailUrl\":\"https://www.bing.com/th?id=OIP.w0-v0ll6eXl6tJfBd5-ovwHaEV\\u0026w=80\\u0026h=80\\u0026c=1\\u0026pid=5.1\"},{\"name\":\"Things to do in Atlanta this weekend: Sept. 20-22 - The Atlanta Journal ...\",\"url\":\"https://www.ajc.com/things-to-do/things-to-do-in-atlanta-this-weekend-sept-20-22/JRRVFRDW6ZA6TFL4TIFEC6YUGY/\",\"displayUrl\":\"https://www.ajc.com/things-to-do/things-to-do-in-atlanta-this-weekend-sept-20-22/...\",\"snippet\":\"Gwinnett. JapanFest Atlanta. 10 a.m.-6 p.m. Saturday, Sept. 21, and 10 a.m.-5 p.m. Sunday, Sept. 22. $16 through Sept. 20, $20 at the door, military and seniors $16 ...\",\"cachedPageUrl\":\"http://cc.bingj.com/cache.aspx?q=events\\u002Bin\\u002BAtlanta\\u002Bon\\u002B2024-09-25\\u0026d=2930586068673\\u0026mkt=en-US\\u0026setlang=en-US\\u0026w=LcstyMFQJhdEt96Av-nymtep_buw2IS2\"},{\"name\":\"Atlanta September 2024: Events, Concerts, Clubs \\u0026 Things to Do - Experism\",\"url\":\"https://www.experism.com/atlanta/september\",\"displayUrl\":\"https://www.experism.com/atlanta/september\",\"snippet\":\"Sep 12-15, 2024 Historic Fourth Ward Park View on Map. Play Video. The Atlanta Food \\u0026 Wine Festival highlights the best food, wine, beer \\u0026 cocktails Atlanta has to offer. This unique event brings in 150\\u002B chefs, sommeliers, mixologists and industry insiders for 5 days of mouthwatering and tempting cuisines \\u0026 special Tasting Tents.\",\"cachedPageUrl\":\"http://cc.bingj.com/cache.aspx?q=events\\u002Bin\\u002BAtlanta\\u002Bon\\u002B2024-09-25\\u0026d=4642636760352967\\u0026mkt=en-US\\u0026setlang=en-US\\u0026w=CrMoojBamU4_Ok9mubm7deAiSBD33s7x\",\"thumbnailUrl\":\"https://www.bing.com/th?id=OIP.opEpXe5xeSIGAQVvWLFBbAHaEK\\u0026w=80\\u0026h=80\\u0026c=1\\u0026pid=5.1\"},{\"name\":\"Atlanta, GA Events, Calendar \\u0026 Tickets | Eventbrite\",\"url\":\"https://www.eventbrite.com/d/ga--atlanta/events/\",\"displayUrl\":\"https://www.eventbrite.com/d/ga--atlanta\",\"snippet\":\"Atlanta Job Fair October 3, 2024 - Atlanta Career Fairs. Thu, Oct 3 \\u2022 11:00 AM. The Westin Peachtree Plaza, Atlanta. Check ticket price on event.\",\"cachedPageUrl\":\"http://cc.bingj.com/cache.aspx?q=events\\u002Bin\\u002BAtlanta\\u002Bon\\u002B2024-09-25\\u0026d=4570073291905262\\u0026mkt=en-US\\u0026setlang=en-US\\u0026w=Vf40XJxumg8eOvtuZBpxK_GQP6Ja8-x5\",\"thumbnailUrl\":\"https://www.bing.com/th?id=OIP.xxAFV0hk4NeYjq9iEDChogHaEw\\u0026w=80\\u0026h=80\\u0026c=1\\u0026pid=5.1\"},{\"name\":\"Things to Do in Atlanta in 2024: Events, festivals, and exhibits ...\",\"url\":\"https://www.thrillist.com/events/atlanta/events-calendar-in-atlanta-this-year\",\"displayUrl\":\"https://www.thrillist.com/events/atlanta/events-calendar-in-atlanta-this-year\",\"snippet\":\"Make plans to attend these annual events in Atlanta that keep the party going all year. By Okla Jones. Updated on July 9, 2024 at 12:40 PM. ... August 23\\u201325, 2024 The Fox Theatre\",\"thumbnailUrl\":\"https://www.bing.com/th?id=OIP.WUHCPl7_RpepE3pSEdAEMgHaE8\\u0026w=80\\u0026h=80\\u0026c=1\\u0026pid=5.1\"}]}}\n",
       "```\n",
       "\n",
       "I called the tool named ExtractContentFromUrl with these arguments:\n",
       "```\n",
       "{\"assistantName\": \"WebPageAgentAnt\", \"instructions\": \"What are the events happening on 2024-09-25 in Atlanta? https://atlanta-ga.events/september/\"}\n",
       "```\n",
       "and got this result:\n",
       "```\n",
       "\"Here are the events happening in Atlanta on September 25, 2024:\\n\\n1. **Lorna Shore**\\n   - **Time:** 6:30 PM\\n   - **Venue:** The Tabernacle - GA\\n   - **Address:** 152 Luckie St, Atlanta, GA, 30303\\n   - **Tickets:** [Link](https://atlanta-ga.events/tickets/lorna-shore/)\\n   - **Prices:** From $20 (Avg. price ~ $89)\\n\\n2. **Sevendust**\\n   - **Time:** 6:30 PM\\n   - **Venue:** The Eastern - GA\\n   - **Address:** 800 Old Flat Shoals Road SE, Atlanta, GA, 30312\\n   - **Tickets:** [Link](https://atlanta-ga.events/tickets/sevendust/)\\n   - **Prices:** From $39 (Avg. price ~ $61)\\n\\n3. **Creed, 3 Doors Down \\u0026 Finger Eleven**\\n   - **Time:** 7:00 PM\\n   - **Venue:** Ameris Bank Amphitheatre\\n   - **Address:** 2200 Encore Parkway, Alpharetta, GA, 30004\\n   - **Tickets:** [Link](https://atlanta-ga.events/tickets/creed/)\\n   - **Prices:** From $39 (Avg. price ~ $223)\\n\\n4. **Atlanta Braves vs. New York Mets**\\n   - **Time:** 7:20 PM\\n   - **Venue:** Truist Park\\n   - **Address:** 1100 Circle 75 Pkwy, Atlanta, GA, 30339\\n   - **Tickets:** [Link](https://atlanta-ga.events/tickets/atlanta-braves/)\\n   - **Prices:** From $7 (Avg. price ~ $75)\\n\\n5. **Kings of Leon \\u0026 Phantogram**\\n   - **Time:** 7:30 PM\\n   - **Venue:** State Farm Arena - GA\\n   - **Address:** One Philips Drive, Atlanta, GA, 30303\\n   - **Tickets:** [Link](https://atlanta-ga.events/tickets/kings-of-leon/)\\n   - **Prices:** From $14 (Avg. price ~ $123)\\n\\n6. **Shaboozey**\\n   - **Time:** 8:00 PM\\n   - **Venue:** Variety Playhouse\\n   - **Address:** 1099 Euclid Ave, Atlanta, GA, 30307\\n   - **Tickets:** [Link](https://atlanta-ga.events/tickets/shaboozey/)\\n   - **Prices:** From $51 (Avg. price ~ $88)\\n\\n7. **Lasso - Artist**\\n   - **Time:** 8:00 PM\\n   - **Venue:** Buckhead Theatre\\n   - **Address:** 3110 Roswell Road, Atlanta, GA, 30305\\n   - **Tickets:** [Link](https://atlanta-ga.events/tickets/lasso-artist/)\\n   - **Prices:** From $58 (Avg. price ~ $90)\\n\\n8. **Gritz and Jelly Butter**\\n   - **Time:** 8:00 PM\\n   - **Venue:** City Winery - Atlanta\\n   - **Address:** 675 Ponce De Leon Ave, Atlanta, GA, 30308\\n   - **Tickets:** [Link](https://atlanta-ga.events/tickets/gritz-and-jelly-butter/)\\n   - **Prices:** From $74 (Avg. price ~ $89)\\n\\nFor more information and to purchase tickets, you can visit the [Atlanta Events September 2024](https://atlanta-ga.events/september/) page.\"\n",
       "```\n",
       "\n",
       "I called the tool named ExtractContentFromUrl with these arguments:\n",
       "```\n",
       "{\"assistantName\": \"WebPageAgentAnt\", \"instructions\": \"What are the events happening on 2024-09-25 in Atlanta? https://discoveratlanta.com/stories/things-to-do/cool-things-to-do-in-september-in-atlanta/\"}\n",
       "```\n",
       "and got this result:\n",
       "```\n",
       "\"The provided page does not list any specific events happening on September 25, 2024, in Atlanta. \\n\\nThe information was not found in the page.\"\n",
       "```\n",
       "\n",
       "I called the tool named ExtractContentFromUrl with these arguments:\n",
       "```\n",
       "{\"assistantName\": \"WebPageAgentAnt\", \"instructions\": \"What are the events happening on 2024-09-25 in Atlanta? https://discoveratlanta.com/events/main/\"}\n",
       "```\n",
       "and got this result:\n",
       "```\n",
       "\"Here are the events happening on September 25, 2024, in Atlanta:\\n\\n1. **[Walt DisneyxUNCF Scholar Program Now Open!](https://discoveratlanta.com/event/detail/walt-disneyxuncf-scholar-program-now-open/)**\\n   - **Category**: Education \\u0026 Lectures\\n   - **Dates**: 09/25/24 \\u2013 10/1/24\\n\\n2. **[Community Movie Night presented by Disney on Ice](https://discoveratlanta.com/event/detail/community-movie-night-presented-by-disney-on-ice/)**\\n   - **Category**: Family \\u0026 Kids\\n   - **Date**: 09/25/24\\n\\n3. **[Oktoberfest Crafts \\u0026 Romcom Night](https://discoveratlanta.com/event/detail/oktoberfest-crafts-romcom-night/)**\\n   - **Category**: Other Activities\\n   - **Date**: 09/25/24\\n\\n4. **[A Sunset Cruise aboard The Experience](https://discoveratlanta.com/event/detail/a-sunset-cruise-aboard-the-experience/)**\\n   - **Category**: Outdoors \\u0026 Recreation\\n   - **Dates**: 09/25/24 \\u2013 09/28/24\\n\\n5. **[Daddy Long Legs](https://discoveratlanta.com/event/detail/daddy-long-legs/)**\\n   - **Category**: Theater \\u0026 Performing Arts\\n   - **Dates**: 09/25/24 \\u2013 10/6/24\\n\\n6. **[Weekend Creekwater Alpaca Farm Barn Tour](https://discoveratlanta.com/event/detail/weekend-creekwater-alpaca-farm-barn-tour-2/)**\\n   - **Category**: Outdoors \\u0026 Recreation\\n   - **Dates**: 09/25/24 \\u2013 09/29/24\\n\\n7. **[College Football Hall of Fame](https://discoveratlanta.com/event/detail/college-football-hall-of-fame/)**\\n   - **Dates**: 09/25/24 \\u2013 09/30/24\\n\\n8. **[Pumpkin Festival](https://discoveratlanta.com/event/detail/pumpkin-festival/)**\\n   - **Dates**: 09/25/24 \\u2013 11/3/24\\n\\n9. **[The Horizon of Khufu](https://discoveratlanta.com/event/detail/the-horizon-of-khufu/)**\\n   - **Dates**: 09/25/24 \\u2013 11/3/24\\n\\n10. **[Atlanta History Center](https://discoveratlanta.com/event/detail/atlanta-history-center/)**\\n    - **Dates**: 09/25/24 \\u2013 09/30/24\\n\\n11. **[Georgia Aquarium](https://discoveratlanta.com/event/detail/georgia-aquarium/)**\\n    - **Dates**: 09/25/24 \\u2013 09/30/24\\n\\n12. **[La Boheme](https://discoveratlanta.com/event/detail/la-boheme/)**\\n    - **Dates**: 09/25/24 \\u2013 10/6/24\\n\\n13. **[Pancho Rabbit and the Coyote](https://discoveratlanta.com/event/detail/pancho-rabbit-and-the-coyote/)**\\n    - **Dates**: 09/25/24 \\u2013 10/20/24\\n\\n14. **[RENT \\u2013 The Musical](https://discoveratlanta.com/event/detail/rent-the-musical/)**\\n    - **Dates**: 09/25/24 \\u2013 10/6/24\\n\\n15. **[Little Shop of Horrors](https://discoveratlanta.com/event/detail/little-shop-of-horrors/)**\\n    - **Dates**: 09/25/24 \\u2013 09/29/24\\n\\n16. **[Placita Latina Exhibition](https://discoveratlanta.com/event/detail/placita-latina-exhibition/)**\\n    - **Dates**: 09/25/24 \\u2013 10/20/24\\n\\n17. **[Sangria n\\u2019 Scents DIY Candle Workshop](https://discoveratlanta.com/event/detail/sangria-n-scents-diy-candle-workshop/)**\\n    - **Dates**: 09/25/24 \\u2013 10/5/24\\n\\n18. **[DISCOVER ADAC](https://discoveratlanta.com/event/detail/discover-adac/)**\\n    - **Dates**: 09/25/24 \\u2013 09/26/24\\n\\n19. **[F.A.C.E. Fulton County: ATLSFW](https://discoveratlanta.com/event/detail/f-a-c-e-fulton-county-atlsfw/)**\\n    - **Dates**: 09/25/24 \\u2013 09/28/24\\n\\n20. **[BEAT: Steve Vai, Adrian Belew, Tony Levin, Danny Carey](https://discoveratlanta.com/event/detail/beat-steve-vai-adrian-belew-tony-levin-danny-carey/)**\\n    - **Date**: 09/25/24\\n\\n21. **[Curated Conversations \\u2013 Intro to Wellness](https://discoveratlanta.com/event/detail/curated-conversations-intro-to-wellness/)**\\n    - **Date**: 09/25/24\\n\\n22. **[Kings of Leon](https://discoveratlanta.com/event/detail/kings-of-leon/)**\\n    - **Date**: 09/25/24\\n\\n23. **[Leanne Morgan \\u2013 What in the World?! \\u2013 Book Event](https://discoveratlanta.com/event/detail/leanne-morgan-what-in-the-world-book-event/)**\\n    - **Date**: 09/25/24\\n\\n24. **[Los Bravos Night](https://discoveratlanta.com/event/detail/los-bravos-night/)**\\n    - **Date**: 09/25/24\\n\\n25. **[Make @ MODA: Beats \\u0026 Bricks](https://discoveratlanta.com/event/detail/make-moda-beats-bricks/)**\\n    - **Date**: 09/25/24\"\n",
       "```\n",
       "\n",
       "I called the tool named ExtractContentFromUrl with these arguments:\n",
       "```\n",
       "{\"assistantName\": \"WebPageAgentAnt\", \"instructions\": \"What are the events happening on 2024-09-25 in Atlanta? https://discoveratlanta.com/events/all/\"}\n",
       "```\n",
       "and got this result:\n",
       "```\n",
       "\"Here are the events happening on September 25, 2024, in Atlanta:\\n\\n1. [College Football Hall of Fame](https://discoveratlanta.com/event/detail/college-football-hall-of-fame/)\\n   - Buy One, Get One Free! Bring a young fan (12 and under) and enjoy our...\\n\\n2. [Pumpkin Festival](https://discoveratlanta.com/event/detail/pumpkin-festival/)\\n   - Play by Day as you enjoy family-friendly park attractions and special fall entertainment featuring some...\\n\\n3. [The Horizon of Khufu](https://discoveratlanta.com/event/detail/the-horizon-of-khufu/)\\n   - Guests will embark on a virtual journey that unveils ancient secrets and explores the intricate...\\n\\n4. [Usher Performing in Atlanta](https://discoveratlanta.com/event/detail/usher-performing-in-atlanta/)\\n   - Due to incredible fan demand, multi-platinum, 8-time GRAMMY award-winning global entertainment icon USHER, has added...\\n\\n5. [Atlanta History Center](https://discoveratlanta.com/event/detail/atlanta-history-center/)\\n   - Your very own Time Machine to Atlanta\\u2019s history! Buy one adult (full price) ticket. One...\\n\\n6. [Georgia Aquarium](https://discoveratlanta.com/event/detail/georgia-aquarium/)\\n   - Georgia Aquarium Free Kid Visit \\u2013 Get a FREE KID VISIT with every general admission...\\n\\n7. [La Boheme](https://discoveratlanta.com/event/detail/la-boheme/)\\n   - The Atlanta Opera at Pullman Yards presents a brand new, site specific, immersive theater experience...\\n\\n8. [Pancho Rabbit and the Coyote](https://discoveratlanta.com/event/detail/pancho-rabbit-and-the-coyote/)\\n   - This musical, based on the award-winning picture book by Duncan Tonatiuh, is a Mexican folktale...\\n\\n9. [RENT \\u2013 The Musical](https://discoveratlanta.com/event/detail/rent-the-musical/)\\n   - The Atlanta Opera launches a Discoveries Series immersive experience at Pullman Yards to present both...\\n\\n10. [Elevate Atlanta](https://discoveratlanta.com/event/detail/elevate-atlanta/)\\n    - This Fall, ELEVATE: 50 Years of Culture, takes over the city. As we celebrate five...\\n\\n11. [Little Shop of Horrors](https://discoveratlanta.com/event/detail/little-shop-of-horrors/)\\n    - We hope you\\u2019re hungry for a bloody good time Under the Tent! Art Farm at...\\n\\n12. [Placita Latina Exhibition](https://discoveratlanta.com/event/detail/placita-latina-exhibition/)\\n    - The Decatur Arts Alliance announces an open call for artists to exhibit in the 4th...\\n\\n13. [Walt DisneyxUNCF Scholar Program Now Open!](https://discoveratlanta.com/event/detail/walt-disneyxuncf-scholar-program-now-open/)\\n    - For the past 12 years, The Walt Disney Company has partnered with UNCF to offer...\\n\\n14. [Oktoberfest at Der Biergarten](https://discoveratlanta.com/event/detail/oktoberfest-at-der-biergarten/)\\n    - Get ready to raise your steins and embrace the festivity at Atlanta\\u2019s ultimate Oktoberfest hotspot!...\\n\\n15. [Sangria n\\u2019 Scents DIY Candle Workshop](https://discoveratlanta.com/event/detail/sangria-n-scents-diy-candle-workshop/)\\n    - Embark on a scent-sory journey where aroma, creativity, and good vibes merge to create a...\\n\\n16. [DISCOVER ADAC](https://discoveratlanta.com/event/detail/discover-adac/)\\n    - Be informed. Be inspired. Be at the center of it all. DISCOVER ADAC, September 24-26,...\\n\\n17. [F.A.C.E. Fulton County: ATLSFW](https://discoveratlanta.com/event/detail/f-a-c-e-fulton-county-atlsfw/)\\n    - Lee \\u002B White 1200 White St SW Atlanta GA 30310 Atlanta Sustainable Fashion Week is...\\n\\n18. [BEAT: Steve Vai, Adrian Belew, Tony Levin, Danny Carey](https://discoveratlanta.com/event/detail/beat-steve-vai-adrian-belew-tony-levin-danny-carey/)\\n    - The Eastern Atlanta\\n\\n19. [Community Movie Night presented by Disney on Ice](https://discoveratlanta.com/event/detail/community-movie-night-presented-by-disney-on-ice/)\\n    - Disney on Ice invites the Atlanta community to a magical outdoor movie experience under the...\\n\\n20. [Curated Conversations \\u2013 Intro to Wellness](https://discoveratlanta.com/event/detail/curated-conversations-intro-to-wellness/)\\n    - Lotus Flower Om Presents: Curated Conversations \\u2013 An Introduction to Wellness At Lotus Flower Om,...\\n\\n21. [Kings of Leon](https://discoveratlanta.com/event/detail/kings-of-leon/)\\n    - GRAMMY award-winning, multi-platinum rock band Kings of Leon are kicking off 2024 with a string...\\n\\n22. [Leanne Morgan \\u2013 What in the World?! \\u2013 Book Event](https://discoveratlanta.com/event/detail/leanne-morgan-what-in-the-world-book-event/)\\n    - Join Leanne Morgan and us to celebrate the release of her memoir What in the...\\n\\n23. [Los Bravos Night](https://discoveratlanta.com/event/detail/los-bravos-night/)\\n    - Join us at Truist Park on Wednesday, September 25 to celebrate Los Bravos Night, presented...\\n\\n24. [Make @ MODA: Beats \\u0026 Bricks](https://discoveratlanta.com/event/detail/make-moda-beats-bricks/)\\n    - Join MODA for an evening of making and music as you build one of Most...\\n\\n25. [Oktoberfest Crafts \\u0026 Romcom Night](https://discoveratlanta.com/event/detail/oktoberfest-crafts-romcom-night/)\\n    - Join us for our first BYO craft night. BYO coloring books, paint, knit, crochet, scrapbook...\\n\\nFor more details on these events, you can visit the [Discover Atlanta Events](https://discoveratlanta.com/events/all/) page.\"\n",
       "```\n",
       "\n",
       "I called the tool named ExtractContentFromUrl with these arguments:\n",
       "```\n",
       "{\"assistantName\": \"WebPageAgentAnt\", \"instructions\": \"What are the events happening on 2024-09-25 in Atlanta? https://gosouthatlanta.com/things-to-do/events/atlanta-in-september.html\"}\n",
       "```\n",
       "and got this result:\n",
       "```\n",
       "\"The information was not found in the page.\"\n",
       "```\n",
       "\n",
       "Here are the events happening in Atlanta on September 25, 2024:\n",
       "\n",
       "1. **Lorna Shore**\n",
       "   - **Time:** 6:30 PM\n",
       "   - **Venue:** The Tabernacle - GA\n",
       "   - **Address:** 152 Luckie St, Atlanta, GA, 30303\n",
       "   - **Tickets:** [Link](https://atlanta-ga.events/tickets/lorna-shore/)\n",
       "   - **Prices:** From $20 (Avg. price ~ $89)\n",
       "\n",
       "2. **Sevendust**\n",
       "   - **Time:** 6:30 PM\n",
       "   - **Venue:** The Eastern - GA\n",
       "   - **Address:** 800 Old Flat Shoals Road SE, Atlanta, GA, 30312\n",
       "   - **Tickets:** [Link](https://atlanta-ga.events/tickets/sevendust/)\n",
       "   - **Prices:** From $39 (Avg. price ~ $61)\n",
       "\n",
       "3. **Creed, 3 Doors Down & Finger Eleven**\n",
       "   - **Time:** 7:00 PM\n",
       "   - **Venue:** Ameris Bank Amphitheatre\n",
       "   - **Address:** 2200 Encore Parkway, Alpharetta, GA, 30004\n",
       "   - **Tickets:** [Link](https://atlanta-ga.events/tickets/creed/)\n",
       "   - **Prices:** From $39 (Avg. price ~ $223)\n",
       "\n",
       "4. **Atlanta Braves vs. New York Mets**\n",
       "   - **Time:** 7:20 PM\n",
       "   - **Venue:** Truist Park\n",
       "   - **Address:** 1100 Circle 75 Pkwy, Atlanta, GA, 30339\n",
       "   - **Tickets:** [Link](https://atlanta-ga.events/tickets/atlanta-braves/)\n",
       "   - **Prices:** From $7 (Avg. price ~ $75)\n",
       "\n",
       "5. **Kings of Leon & Phantogram**\n",
       "   - **Time:** 7:30 PM\n",
       "   - **Venue:** State Farm Arena - GA\n",
       "   - **Address:** One Philips Drive, Atlanta, GA, 30303\n",
       "   - **Tickets:** [Link](https://atlanta-ga.events/tickets/kings-of-leon/)\n",
       "   - **Prices:** From $14 (Avg. price ~ $123)\n",
       "\n",
       "6. **Shaboozey**\n",
       "   - **Time:** 8:00 PM\n",
       "   - **Venue:** Variety Playhouse\n",
       "   - **Address:** 1099 Euclid Ave, Atlanta, GA, 30307\n",
       "   - **Tickets:** [Link](https://atlanta-ga.events/tickets/shaboozey/)\n",
       "   - **Prices:** From $51 (Avg. price ~ $88)\n",
       "\n",
       "7. **Lasso - Artist**\n",
       "   - **Time:** 8:00 PM\n",
       "   - **Venue:** Buckhead Theatre\n",
       "   - **Address:** 3110 Roswell Road, Atlanta, GA, 30305\n",
       "   - **Tickets:** [Link](https://atlanta-ga.events/tickets/lasso-artist/)\n",
       "   - **Prices:** From $58 (Avg. price ~ $90)\n",
       "\n",
       "8. **Gritz and Jelly Butter**\n",
       "   - **Time:** 8:00 PM\n",
       "   - **Venue:** City Winery - Atlanta\n",
       "   - **Address:** 675 Ponce De Leon Ave, Atlanta, GA, 30308\n",
       "   - **Tickets:** [Link](https://atlanta-ga.events/tickets/gritz-and-jelly-butter/)\n",
       "   - **Prices:** From $74 (Avg. price ~ $89)\n",
       "\n",
       "For more information and to purchase tickets, you can visit the [Atlanta Events September 2024](https://atlanta-ga.events/september/) page.\n",
       "\n",
       "Additionally, here are some other events happening on September 25, 2024:\n",
       "\n",
       "1. **Walt DisneyxUNCF Scholar Program Now Open!**\n",
       "   - **Category:** Education & Lectures\n",
       "   - **Dates:** 09/25/24 – 10/1/24\n",
       "   - **Details:** [Link](https://discoveratlanta.com/event/detail/walt-disneyxuncf-scholar-program-now-open/)\n",
       "\n",
       "2. **Community Movie Night presented by Disney on Ice**\n",
       "   - **Category:** Family & Kids\n",
       "   - **Date:** 09/25/24\n",
       "   - **Details:** [Link](https://discoveratlanta.com/event/detail/community-movie-night-presented-by-disney-on-ice/)\n",
       "\n",
       "3. **Oktoberfest Crafts & Romcom Night**\n",
       "   - **Category:** Other Activities\n",
       "   - **Date:** 09/25/24\n",
       "   - **Details:** [Link](https://discoveratlanta.com/event/detail/oktoberfest-crafts-romcom-night/)\n",
       "\n",
       "4. **A Sunset Cruise aboard The Experience**\n",
       "   - **Category:** Outdoors & Recreation\n",
       "   - **Dates:** 09/25/24 – 09/28/24\n",
       "   - **Details:** [Link](https://discoveratlanta.com/event/detail/a-sunset-cruise-aboard-the-experience/)\n",
       "\n",
       "5. **Daddy Long Legs**\n",
       "   - **Category:** Theater & Performing Arts\n",
       "   - **Dates:** 09/25/24 – 10/6/24\n",
       "   - **Details:** [Link](https://discoveratlanta.com/event/detail/daddy-long-legs/)\n",
       "\n",
       "6. **Weekend Creekwater Alpaca Farm Barn Tour**\n",
       "   - **Category:** Outdoors & Recreation\n",
       "   - **Dates:** 09/25/24 – 09/29/24\n",
       "   - **Details:** [Link](https://discoveratlanta.com/event/detail/weekend-creekwater-alpaca-farm-barn-tour-2/)\n",
       "\n",
       "7. **College Football Hall of Fame**\n",
       "   - **Dates:** 09/25/24 – 09/30/24\n",
       "   - **Details:** [Link](https://discoveratlanta.com/event/detail/college-football-hall-of-fame/)\n",
       "\n",
       "8. **Pumpkin Festival**\n",
       "   - **Dates:** 09/25/24 – 11/3/24\n",
       "   - **Details:** [Link](https://discoveratlanta.com/event/detail/pumpkin-festival/)\n",
       "\n",
       "For more details on these events, you can visit the [Discover Atlanta Events](https://discoveratlanta.com/events/all/) page.\n"
      ]
     },
     "metadata": {},
     "output_type": "display_data"
    }
   ],
   "source": [
    "var assistantRunOptions = new AssistantRunOptions() {\n",
    "    AssistantName = \"WebSearchAgentAnt\",\n",
    "    Instructions = \"Use python to get todays date and then use it to find things to do in Atlanta today. Be careful to not include events in the past in your final answer.\",\n",
    "};\n",
    "var output = await AntRunnerLib.AssistantRunner.RunThread(assistantRunOptions, config);\n",
    "output.Dialog.DisplayAs(\"text/markdown\");"
   ]
  },
  {
   "cell_type": "code",
   "execution_count": 12,
   "metadata": {
    "dotnet_interactive": {
     "language": "csharp"
    },
    "polyglot_notebook": {
     "kernelName": "csharp"
    },
    "vscode": {
     "languageId": "polyglot-notebook"
    }
   },
   "outputs": [
    {
     "data": {
      "text/markdown": [
       "Here are the events happening in Atlanta on September 25, 2024:\n",
       "\n",
       "1. **Lorna Shore**\n",
       "   - **Time:** 6:30 PM\n",
       "   - **Venue:** The Tabernacle - GA\n",
       "   - **Address:** 152 Luckie St, Atlanta, GA, 30303\n",
       "   - **Tickets:** [Link](https://atlanta-ga.events/tickets/lorna-shore/)\n",
       "   - **Prices:** From $20 (Avg. price ~ $89)\n",
       "\n",
       "2. **Sevendust**\n",
       "   - **Time:** 6:30 PM\n",
       "   - **Venue:** The Eastern - GA\n",
       "   - **Address:** 800 Old Flat Shoals Road SE, Atlanta, GA, 30312\n",
       "   - **Tickets:** [Link](https://atlanta-ga.events/tickets/sevendust/)\n",
       "   - **Prices:** From $39 (Avg. price ~ $61)\n",
       "\n",
       "3. **Creed, 3 Doors Down & Finger Eleven**\n",
       "   - **Time:** 7:00 PM\n",
       "   - **Venue:** Ameris Bank Amphitheatre\n",
       "   - **Address:** 2200 Encore Parkway, Alpharetta, GA, 30004\n",
       "   - **Tickets:** [Link](https://atlanta-ga.events/tickets/creed/)\n",
       "   - **Prices:** From $39 (Avg. price ~ $223)\n",
       "\n",
       "4. **Atlanta Braves vs. New York Mets**\n",
       "   - **Time:** 7:20 PM\n",
       "   - **Venue:** Truist Park\n",
       "   - **Address:** 1100 Circle 75 Pkwy, Atlanta, GA, 30339\n",
       "   - **Tickets:** [Link](https://atlanta-ga.events/tickets/atlanta-braves/)\n",
       "   - **Prices:** From $7 (Avg. price ~ $75)\n",
       "\n",
       "5. **Kings of Leon & Phantogram**\n",
       "   - **Time:** 7:30 PM\n",
       "   - **Venue:** State Farm Arena - GA\n",
       "   - **Address:** One Philips Drive, Atlanta, GA, 30303\n",
       "   - **Tickets:** [Link](https://atlanta-ga.events/tickets/kings-of-leon/)\n",
       "   - **Prices:** From $14 (Avg. price ~ $123)\n",
       "\n",
       "6. **Shaboozey**\n",
       "   - **Time:** 8:00 PM\n",
       "   - **Venue:** Variety Playhouse\n",
       "   - **Address:** 1099 Euclid Ave, Atlanta, GA, 30307\n",
       "   - **Tickets:** [Link](https://atlanta-ga.events/tickets/shaboozey/)\n",
       "   - **Prices:** From $51 (Avg. price ~ $88)\n",
       "\n",
       "7. **Lasso - Artist**\n",
       "   - **Time:** 8:00 PM\n",
       "   - **Venue:** Buckhead Theatre\n",
       "   - **Address:** 3110 Roswell Road, Atlanta, GA, 30305\n",
       "   - **Tickets:** [Link](https://atlanta-ga.events/tickets/lasso-artist/)\n",
       "   - **Prices:** From $58 (Avg. price ~ $90)\n",
       "\n",
       "8. **Gritz and Jelly Butter**\n",
       "   - **Time:** 8:00 PM\n",
       "   - **Venue:** City Winery - Atlanta\n",
       "   - **Address:** 675 Ponce De Leon Ave, Atlanta, GA, 30308\n",
       "   - **Tickets:** [Link](https://atlanta-ga.events/tickets/gritz-and-jelly-butter/)\n",
       "   - **Prices:** From $74 (Avg. price ~ $89)\n",
       "\n",
       "For more information and to purchase tickets, you can visit the [Atlanta Events September 2024](https://atlanta-ga.events/september/) page.\n",
       "\n",
       "Additionally, here are some other events happening on September 25, 2024:\n",
       "\n",
       "1. **Walt DisneyxUNCF Scholar Program Now Open!**\n",
       "   - **Category:** Education & Lectures\n",
       "   - **Dates:** 09/25/24 – 10/1/24\n",
       "   - **Details:** [Link](https://discoveratlanta.com/event/detail/walt-disneyxuncf-scholar-program-now-open/)\n",
       "\n",
       "2. **Community Movie Night presented by Disney on Ice**\n",
       "   - **Category:** Family & Kids\n",
       "   - **Date:** 09/25/24\n",
       "   - **Details:** [Link](https://discoveratlanta.com/event/detail/community-movie-night-presented-by-disney-on-ice/)\n",
       "\n",
       "3. **Oktoberfest Crafts & Romcom Night**\n",
       "   - **Category:** Other Activities\n",
       "   - **Date:** 09/25/24\n",
       "   - **Details:** [Link](https://discoveratlanta.com/event/detail/oktoberfest-crafts-romcom-night/)\n",
       "\n",
       "4. **A Sunset Cruise aboard The Experience**\n",
       "   - **Category:** Outdoors & Recreation\n",
       "   - **Dates:** 09/25/24 – 09/28/24\n",
       "   - **Details:** [Link](https://discoveratlanta.com/event/detail/a-sunset-cruise-aboard-the-experience/)\n",
       "\n",
       "5. **Daddy Long Legs**\n",
       "   - **Category:** Theater & Performing Arts\n",
       "   - **Dates:** 09/25/24 – 10/6/24\n",
       "   - **Details:** [Link](https://discoveratlanta.com/event/detail/daddy-long-legs/)\n",
       "\n",
       "6. **Weekend Creekwater Alpaca Farm Barn Tour**\n",
       "   - **Category:** Outdoors & Recreation\n",
       "   - **Dates:** 09/25/24 – 09/29/24\n",
       "   - **Details:** [Link](https://discoveratlanta.com/event/detail/weekend-creekwater-alpaca-farm-barn-tour-2/)\n",
       "\n",
       "7. **College Football Hall of Fame**\n",
       "   - **Dates:** 09/25/24 – 09/30/24\n",
       "   - **Details:** [Link](https://discoveratlanta.com/event/detail/college-football-hall-of-fame/)\n",
       "\n",
       "8. **Pumpkin Festival**\n",
       "   - **Dates:** 09/25/24 – 11/3/24\n",
       "   - **Details:** [Link](https://discoveratlanta.com/event/detail/pumpkin-festival/)\n",
       "\n",
       "For more details on these events, you can visit the [Discover Atlanta Events](https://discoveratlanta.com/events/all/) page."
      ]
     },
     "metadata": {},
     "output_type": "display_data"
    }
   ],
   "source": [
    "output.LastMessage.DisplayAs(\"text/markdown\");"
   ]
  },
  {
   "cell_type": "code",
   "execution_count": 16,
   "metadata": {
    "dotnet_interactive": {
     "language": "csharp"
    },
    "polyglot_notebook": {
     "kernelName": "csharp"
    },
    "vscode": {
     "languageId": "polyglot-notebook"
    }
   },
   "outputs": [
    {
     "data": {
      "text/markdown": [
       "\n",
       "User: Use python to get todays date and then use it to find things to do in Atlanta for each of the next four weekends with pictures and correct links from ExtractContentFromUrl.\n",
       "\n",
       "When choosing links for crawl to evaluate with ExtractContentFromUrl choose a variety of hosts for urls from which you extract content. Limit your use of ExtractContentFromUrl to five calls or less. Do not make the error of including the url as a parameter, it must be inside 'instructions' as indicated by the tool definition. Be careful to not include events in the past in your final answer. You should perform four searches at once.\n",
       "Don't forget to include valid links!\n",
       "\n",
       "Assistant: I ran this code:\n",
       "```\n",
       "from datetime import datetime, timedelta\n",
       "\n",
       "# Get today's date\n",
       "today = datetime.now()\n",
       "\n",
       "# Calculate dates for the next four weekends\n",
       "weekends = []\n",
       "for i in range(4):\n",
       "    # Calculate the Saturday of each weekend\n",
       "    next_saturday = today + timedelta(days=(5 - today.weekday()) + i * 7)\n",
       "    weekends.append(next_saturday.strftime(\"%Y-%m-%d\"))\n",
       "\n",
       "weekends\n",
       "```\n",
       "\n",
       "I called the tool named crawl with these arguments:\n",
       "```\n",
       "{\"q\": \"things to do in Atlanta on 2024-09-28\", \"answerCount\": 5, \"textFormat\": \"Raw\"}\n",
       "```\n",
       "and got this result:\n",
       "```\n",
       "{\"queryContext\":{\"originalQuery\":\"things to do in Atlanta on 2024-09-28\"},\"webPages\":{\"value\":[{\"name\":\"Events and Things to Do in Atlanta GA this from 2024-09-28 to 2024-09-29\",\"url\":\"https://eventcartel.com/events/all-categories/atlanta/from_2024-09-28_to_2024-09-29\",\"displayUrl\":\"https://eventcartel.com/events/all-categories/atlanta/from_2024-09-28_to_2024-09-29\",\"snippet\":\"Explore a wide range of events and things to do from 2024-09-28 to 2024-09-29 tailored to offer you the best in entertainment and fun things to do in Atlanta. Whether you\\u2019re interested in the latest concerts, theater shows, or other local events happening from 2024-09-28 to 2024-09-29, everything you need is just a few clicks away.\",\"cachedPageUrl\":\"http://cc.bingj.com/cache.aspx?q=things\\u002Bto\\u002Bdo\\u002Bin\\u002BAtlanta\\u002Bon\\u002B2024-09-28\\u0026d=593829212581\\u0026mkt=en-US\\u0026setlang=en-US\\u0026w=ArLA-810ZZkaWFgm_VL8k_3YAMhRPChX\"},{\"name\":\"Cool Things To Do in September in Atlanta\",\"url\":\"https://discoveratlanta.com/stories/things-to-do/cool-things-to-do-in-september-in-atlanta/\",\"displayUrl\":\"https://discoveratlanta.com/stories/things-to-do/cool-things-to-do-in-september-in-atlanta\",\"snippet\":\"The Sweet Auburn Music Fest, which takes place Sept. 28-29. The festival, located on Auburn Avenue, one of Atlanta\\u2019s most iconic streets, offers fun-filled entertainment, live music \\u2014 everything from R\\u0026B to gospel to alternative favorites \\u2014 international food court, national artists, celebrities and vendors of all types.\",\"cachedPageUrl\":\"http://cc.bingj.com/cache.aspx?q=things\\u002Bto\\u002Bdo\\u002Bin\\u002BAtlanta\\u002Bon\\u002B2024-09-28\\u0026d=4692574351720481\\u0026mkt=en-US\\u0026setlang=en-US\\u0026w=IyKVbCksY9VV74GkIkdoRE4k4vk9MNbJ\",\"thumbnailUrl\":\"https://www.bing.com/th?id=OIP.m0ENCio7ytS2o9PQRWDCRgHaD4\\u0026w=80\\u0026h=80\\u0026c=1\\u0026pid=5.1\"},{\"name\":\"Atlanta Events September 2024: Concerts, Shows, Sports...\",\"url\":\"https://atlanta-ga.events/september/\",\"displayUrl\":\"https://atlanta-ga.events/september\",\"snippet\":\"Explore our comprehensive calendar for all the current and upcoming events in Atlanta, GA, for September 2024. This guide is your gateway to discovering the best things to do in Atlanta, ... Prices from $28 Avg. price ~ $33. 20 tickets remaining! Tickets; Sep. 24. 2024. 7:00 PM Tue.\",\"cachedPageUrl\":\"http://cc.bingj.com/cache.aspx?q=things\\u002Bto\\u002Bdo\\u002Bin\\u002BAtlanta\\u002Bon\\u002B2024-09-28\\u0026d=4854189675467386\\u0026mkt=en-US\\u0026setlang=en-US\\u0026w=ShlkdiIwTMefbkmdL1lCvH4mS1bjztOY\"},{\"name\":\"Explore Atlanta Events for Today, This Week or Weekend\",\"url\":\"https://discoveratlanta.com/events/main/\",\"displayUrl\":\"https://discoveratlanta.com/events/m\",\"snippet\":\"Explore the Atlanta events calendar for things to do today, this week or this weekend. Find upcoming festivals, seasonal events and more! DiscoverAtlanta.com homepage. Things to Do; Events; ... Every Saturday until 09/28/2024. Protect Yo Energy Con 9/24/24 \\u2013 11/9/24. Weekend Creekwater Alpaca Farm Barn Tour 9/24/24 \\u2013 9/29/24. Pick Your ...\",\"cachedPageUrl\":\"http://cc.bingj.com/cache.aspx?q=things\\u002Bto\\u002Bdo\\u002Bin\\u002BAtlanta\\u002Bon\\u002B2024-09-28\\u0026d=4819881473496114\\u0026mkt=en-US\\u0026setlang=en-US\\u0026w=zvJBiG0Dg4eP1GMx_bJv9FTM8ziERJGY\",\"thumbnailUrl\":\"https://www.bing.com/th?id=OIP.FkxSV6JbrWatsFMM3_8dIAHaEh\\u0026w=80\\u0026h=80\\u0026c=1\\u0026pid=5.1\"},{\"name\":\"Atlanta Events - September 2024 - Go South Atlanta\",\"url\":\"https://gosouthatlanta.com/things-to-do/events/atlanta-in-september.html\",\"displayUrl\":\"https://gosouthatlanta.com/things-to-do/events/atlanta-in-september.html\",\"snippet\":\"More details. \\u2013 Dragon Con, August 29 - September 2 2024. One of the biggest annual pop culture conventions in the country. More details. \\u2013 Atlanta Black Theatre Festival, August 30 - September 1 2024. Annual festival celebrating the Black experience in the performing arts, with plays, panels, masterclasses and other events.\",\"cachedPageUrl\":\"http://cc.bingj.com/cache.aspx?q=things\\u002Bto\\u002Bdo\\u002Bin\\u002BAtlanta\\u002Bon\\u002B2024-09-28\\u0026d=4712253893443652\\u0026mkt=en-US\\u0026setlang=en-US\\u0026w=-nsAOlbynJFe4oOvzq1dGpeg_GE4sHjt\",\"thumbnailUrl\":\"https://www.bing.com/th?id=OIP.xm-3dn3hYJZHsVVU9WO5qwHaD4\\u0026w=80\\u0026h=80\\u0026c=1\\u0026pid=5.1\"},{\"name\":\"80\\u002B fall festivals \\u0026 fairs around metro Atlanta: Fun things to do in ...\",\"url\":\"https://www.atlantaonthecheap.com/fall-festivals-atlanta/\",\"displayUrl\":\"https://www.atlantaonthecheap.com/fall-festivals-atlanta\",\"snippet\":\"September 28, 2024 East Atlanta Village FREE. This iconic street festival celebrates East Atlanta\\u2019s culture, art, and quirkiness! This is a \\u201Cporchfest\\u201D style party that stretches throughout the neighborhood. ... The Best Free Things to Do in Atlanta in 2024 - says: August 20, 2024 at 3:57 pm [\\u2026] Castleberry Hill Historic District ...\",\"cachedPageUrl\":\"http://cc.bingj.com/cache.aspx?q=things\\u002Bto\\u002Bdo\\u002Bin\\u002BAtlanta\\u002Bon\\u002B2024-09-28\\u0026d=5012794228740299\\u0026mkt=en-US\\u0026setlang=en-US\\u0026w=xfpymjtTccXnjjGt9vluoyq1DPm6ofe-\",\"thumbnailUrl\":\"https://www.bing.com/th?id=OIP.w0-v0ll6eXl6tJfBd5-ovwHaEV\\u0026w=80\\u0026h=80\\u0026c=1\\u0026pid=5.1\"},{\"name\":\"The Best Things to Do in Atlanta in September\",\"url\":\"https://unexpectedatlanta.com/the-best-things-to-do-in-atlanta-in-september/\",\"displayUrl\":\"https://unexpectedatlanta.com/the-best-things-to-do-in-atlanta-in-september\",\"snippet\":\"Atlanta Events: September 2024 Experience the Best of Atlanta\\u2019s Food \\u0026 History. Try some of the best eats in Atlanta! The #1-rated Grant Park Past \\u0026 Future Food Walk is a fun walking tour showcasing the best of Atlanta\\u2019s food and history. On this tour, you\\u2019ll taste eight modern and Southern foods from three outstanding locally owned food stops.\",\"cachedPageUrl\":\"http://cc.bingj.com/cache.aspx?q=things\\u002Bto\\u002Bdo\\u002Bin\\u002BAtlanta\\u002Bon\\u002B2024-09-28\\u0026d=4781604725337408\\u0026mkt=en-US\\u0026setlang=en-US\\u0026w=L1hd-5qzDrt-bHwGvtgeUoQiW0MCD0-O\",\"thumbnailUrl\":\"https://www.bing.com/th?id=OIP.BV6NvB-FhOL3LSCX1dcUJwHaHa\\u0026w=80\\u0026h=80\\u0026c=1\\u0026pid=5.1\"},{\"name\":\"10 things to do in Atlanta this weekend - accessatlanta.com\",\"url\":\"https://www.accessatlanta.com/atlanta-things-to-do/10-things-to-do-in-atlanta-this-weekend/S3CNXEYHFBFJXNG6TF3EFXUOM4/\",\"displayUrl\":\"https://www.accessatlanta.com/atlanta-things-to-do/10-things-to-do-in-atlanta-this...\",\"snippet\":\"SCAD\\u2019s signature festival for all things digital media, AnimationFest will be held at the university\\u2019s state-of-the-art SCADshow theater in Midtown Atlanta on Sept. 26-28, 2024. SCADFILM\\u2019s ...\",\"cachedPageUrl\":\"http://cc.bingj.com/cache.aspx?q=things\\u002Bto\\u002Bdo\\u002Bin\\u002BAtlanta\\u002Bon\\u002B2024-09-28\\u0026d=1693485596609\\u0026mkt=en-US\\u0026setlang=en-US\\u0026w=hnQqXLh5QNyyPLHMGP9zRHR9ThnAQt9r\"},{\"name\":\"Upcoming Events - Discover Atlanta\",\"url\":\"https://discoveratlanta.com/events/all/\",\"displayUrl\":\"https://discoveratlanta.com/events/all\",\"snippet\":\"Bounce through the incredible events happening around Atlanta today, tomorrow, this week or this month. Plan your fun and be in the know on everything from family-favorites, to can\\u2019t-miss hot spots, concerts and foodie festivals. Showing 1 \\u2013 15 of 495. Editors\\u2019 Pick.\",\"cachedPageUrl\":\"http://cc.bingj.com/cache.aspx?q=things\\u002Bto\\u002Bdo\\u002Bin\\u002BAtlanta\\u002Bon\\u002B2024-09-28\\u0026d=4829094184357962\\u0026mkt=en-US\\u0026setlang=en-US\\u0026w=7n30JJ0KXcuUBKZlUeD3eG4MmVcBwK29\"},{\"name\":\"20 Spectacular Things To Do This September In Atlanta - Secret Atlanta\",\"url\":\"https://secretatlanta.co/things-to-do-september/\",\"displayUrl\":\"https://secretatlanta.co/things-to-do-september\",\"snippet\":\"When: Saturday, September 7th from 12pm \\u2013 10pm. Thousands of people are expected to head to Morris Brown College in Atlanta this September for the legendary Seafood \\u0026 Caribbean Music festival! Enjoy tons of live music, DJs, and of course, as much mouthwatering seafood and Caribbean dishes as your heart desires! Don\\u2019t miss out on all the fun.\",\"cachedPageUrl\":\"http://cc.bingj.com/cache.aspx?q=things\\u002Bto\\u002Bdo\\u002Bin\\u002BAtlanta\\u002Bon\\u002B2024-09-28\\u0026d=4724958405090999\\u0026mkt=en-US\\u0026setlang=en-US\\u0026w=HkmWmkX0emVkqeBkOazQ7cCeg5xgwMQ3\",\"thumbnailUrl\":\"https://www.bing.com/th?id=OIP.mwxBnPRtbggmsDGaNhGACQHaE8\\u0026w=80\\u0026h=80\\u0026c=1\\u0026pid=5.1\"}]}}\n",
       "```\n",
       "\n",
       "I called the tool named crawl with these arguments:\n",
       "```\n",
       "{\"q\": \"things to do in Atlanta on 2024-10-05\", \"answerCount\": 5, \"textFormat\": \"Raw\"}\n",
       "```\n",
       "and got this result:\n",
       "```\n",
       "{\"queryContext\":{\"originalQuery\":\"things to do in Atlanta on 2024-10-05\"},\"webPages\":{\"value\":[{\"name\":\"Atlanta Events October 2024: Concerts, Shows, Sports...\",\"url\":\"https://atlanta-ga.events/october/\",\"displayUrl\":\"https://atlanta-ga.events/october\",\"snippet\":\"Explore our comprehensive calendar for all the current and upcoming events in Atlanta, GA, for October 2024. This guide is your gateway to discovering the best things to do in Atlanta, from Concerts and Theater Shows to Sports events and music festivals. You\\u2019ll find a detailed list of all the most engaging and exciting activities happening throughout the month.\",\"cachedPageUrl\":\"http://cc.bingj.com/cache.aspx?q=things\\u002Bto\\u002Bdo\\u002Bin\\u002BAtlanta\\u002Bon\\u002B2024-10-05\\u0026d=4898908879865838\\u0026mkt=en-US\\u0026setlang=en-US\\u0026w=vC_zzFLZ91uzxHogtJy0oBuKycEPAm_-\"},{\"name\":\"Explore Atlanta Events for Today, This Week or Weekend\",\"url\":\"https://discoveratlanta.com/events/main/\",\"displayUrl\":\"https://discoveratlanta.com/events/m\",\"snippet\":\"Explore the Atlanta events calendar for things to do today, this week or this weekend. Find upcoming festivals, seasonal events and more! ... Venture Atlanta 2024 10/8/24 \\u2013 10/9/24. Atlanta miniFEST 10/9/24 \\u2013 10/10/24. Homeshake ... October 05. Saturday. Sangria n\\u2019 Scents DIY Candle Workshop 9/24/24 \\u2013 10/5/24. September 24.\",\"cachedPageUrl\":\"http://cc.bingj.com/cache.aspx?q=things\\u002Bto\\u002Bdo\\u002Bin\\u002BAtlanta\\u002Bon\\u002B2024-10-05\\u0026d=4819881473496114\\u0026mkt=en-US\\u0026setlang=en-US\\u0026w=zvJBiG0Dg4eP1GMx_bJv9FTM8ziERJGY\",\"thumbnailUrl\":\"https://www.bing.com/th?id=OIP.FkxSV6JbrWatsFMM3_8dIAHaEh\\u0026w=80\\u0026h=80\\u0026c=1\\u0026pid=5.1\"},{\"name\":\"Atlanta Events - October 2024 - Go South Atlanta\",\"url\":\"https://gosouthatlanta.com/things-to-do/events/atlanta-in-october.html\",\"displayUrl\":\"https://gosouthatlanta.com/things-to-do/events/atlanta-in-october.html\",\"snippet\":\"Events From October 1 To The Weekend Of October 5-6 2024. \\u2192 See September events. \\u2192 For concerts this week, see Atlanta concerts in October 2024. \\u2013 Daddy Long Legs, September 13 - October 6 2024. Musical at The Legacy Theatre, Tyrone. More details.\",\"cachedPageUrl\":\"http://cc.bingj.com/cache.aspx?q=things\\u002Bto\\u002Bdo\\u002Bin\\u002BAtlanta\\u002Bon\\u002B2024-10-05\\u0026d=4907344187564116\\u0026mkt=en-US\\u0026setlang=en-US\\u0026w=DKKAeoP_3oe3mkDLUvcm_m1afK8iBTpt\"},{\"name\":\"Events \\u0026 Things To Do in Atlanta in October 2024 - AllEvents.in\",\"url\":\"https://allevents.in/atlanta/october\",\"displayUrl\":\"https://allevents.in/atlanta/october\",\"snippet\":\"Event. Venue. 01 Oct 2024. Truist Park Tour Oct 01. Truist Park, Atlanta. Get Started. Stay Updated. Find events and things to do in October 2024 in Atlanta. Discover parties, concerts, meets, shows, sports, club, reunion, Performance happening in October 2024 in Atlanta.\",\"cachedPageUrl\":\"http://cc.bingj.com/cache.aspx?q=things\\u002Bto\\u002Bdo\\u002Bin\\u002BAtlanta\\u002Bon\\u002B2024-10-05\\u0026d=4529481553227742\\u0026mkt=en-US\\u0026setlang=en-US\\u0026w=jfzz-1mrdGwLxX227oKzIi9IIoMIWWKl\"},{\"name\":\"10 things to do in Atlanta this weekend - accessatlanta.com\",\"url\":\"https://www.accessatlanta.com/atlanta-things-to-do/10-things-to-do-in-atlanta-this-weekend/S3CNXEYHFBFJXNG6TF3EFXUOM4/\",\"displayUrl\":\"https://www.accessatlanta.com/atlanta-things-to-do/10-things-to-do-in-atlanta-this...\",\"snippet\":\"SCAD\\u2019s signature festival for all things digital media, AnimationFest will be held at the university\\u2019s state-of-the-art SCADshow theater in Midtown Atlanta on Sept. 26-28, 2024. SCADFILM\\u2019s ...\",\"cachedPageUrl\":\"http://cc.bingj.com/cache.aspx?q=things\\u002Bto\\u002Bdo\\u002Bin\\u002BAtlanta\\u002Bon\\u002B2024-10-05\\u0026d=1693485596609\\u0026mkt=en-US\\u0026setlang=en-US\\u0026w=hnQqXLh5QNyyPLHMGP9zRHR9ThnAQt9r\"},{\"name\":\"THE 15 BEST Things to Do in Atlanta (2024) - Tripadvisor\",\"url\":\"https://www.tripadvisor.com/Attractions-g60898-Activities-Atlanta_Georgia.html\",\"displayUrl\":\"https://www.tripadvisor.com/Attractions-g60898\",\"snippet\":\"23,861. Aquariums. Georgia Aquarium contains more than 70 amazing habitats, with thousands of marine animals such as whale sharks, manta rays, beluga whales, and more. Don\\u2019t miss out on the animal encounter programs\\u2026. See ways to experience (9) 2024. 2. Atlanta Botanical Garden. 5,237.\",\"cachedPageUrl\":\"http://cc.bingj.com/cache.aspx?q=things\\u002Bto\\u002Bdo\\u002Bin\\u002BAtlanta\\u002Bon\\u002B2024-10-05\\u0026d=4522996153843974\\u0026mkt=en-US\\u0026setlang=en-US\\u0026w=NLoOPfrLj_wI0g_BICzUUE092xyTtSjJ\"},{\"name\":\"Cool Things To Do in October in Atlanta\",\"url\":\"https://discoveratlanta.com/stories/things-to-do/cool-things-to-do-in-october-in-atlanta/\",\"displayUrl\":\"https://discoveratlanta.com/stories/things-to-do/cool-things-to-do-in-october-in-atlanta\",\"snippet\":\"Corn Dogs, Rides and Whack a Mole. The Atlanta Fair brings the best of a traditional fair to Atlanta with everything from cotton candy, a Ferris wheel, fishing for goldfish, a tilt-a-whirl and a carousel. The fair, located across from the Georgia State University Stadium, will be in town Oct. 4-Nov. 3. Read More.\",\"cachedPageUrl\":\"http://cc.bingj.com/cache.aspx?q=things\\u002Bto\\u002Bdo\\u002Bin\\u002BAtlanta\\u002Bon\\u002B2024-10-05\\u0026d=4714289705734711\\u0026mkt=en-US\\u0026setlang=en-US\\u0026w=6a-yO_DfCUxfz-dx9C91WDDECk49pD7V\",\"thumbnailUrl\":\"https://www.bing.com/th?id=OIP.4jf9xqKu3QRk_XhZ3J7DYQHaD4\\u0026w=80\\u0026h=80\\u0026c=1\\u0026pid=5.1\"},{\"name\":\"80\\u002B fall festivals \\u0026 fairs around metro Atlanta: Fun things to do in ...\",\"url\":\"https://www.atlantaonthecheap.com/fall-festivals-atlanta/\",\"displayUrl\":\"https://www.atlantaonthecheap.com/fall-festivals-atlanta\",\"snippet\":\"Atlanta Fair. October 4 to November 3, 2024 Old Turner Field Atlanta. This is the region\\u2019s only urban fair, taking place at Turner Field in downtown Atlanta. There\\u2019s a carnival midway with rides, plenty of food, nightly entertainment, and more. It will be here for all of October. Details for Atlanta Fair. Image: Atlanta Fair\",\"cachedPageUrl\":\"http://cc.bingj.com/cache.aspx?q=things\\u002Bto\\u002Bdo\\u002Bin\\u002BAtlanta\\u002Bon\\u002B2024-10-05\\u0026d=5012794228740299\\u0026mkt=en-US\\u0026setlang=en-US\\u0026w=xfpymjtTccXnjjGt9vluoyq1DPm6ofe-\",\"thumbnailUrl\":\"https://www.bing.com/th?id=OIP.w0-v0ll6eXl6tJfBd5-ovwHaEV\\u0026w=80\\u0026h=80\\u0026c=1\\u0026pid=5.1\"},{\"name\":\"35\\u002B Best Things to Do in Atlanta in 2024 - Unexpected Atlanta\",\"url\":\"https://unexpectedatlanta.com/best-things-to-do-in-atlanta/\",\"displayUrl\":\"https://unexpectedatlanta.com/best-things-to-do-in-atlanta\",\"snippet\":\"1. Visit the National Parks on a Fee-Free Day. First on our list of the best things to do in Atlanta in 2024, check out America\\u2019s National Park System\\u2019s fee-free days this year. On these special days, you can visit any of the United States\\u2019 400\\u002B National Parks for free, including places in and around Georgia.\",\"cachedPageUrl\":\"http://cc.bingj.com/cache.aspx?q=things\\u002Bto\\u002Bdo\\u002Bin\\u002BAtlanta\\u002Bon\\u002B2024-10-05\\u0026d=4885792044096348\\u0026mkt=en-US\\u0026setlang=en-US\\u0026w=SRiegEmhRGKtzRRUG028yHS95G2gOIKx\"},{\"name\":\"Best Things To Do in 24 Hours - Discover Atlanta\",\"url\":\"https://discoveratlanta.com/explore/itineraries/one-day-in-atlanta/\",\"displayUrl\":\"https://discoveratlanta.com/explore/itineraries/one-day-in-atlanta\",\"snippet\":\"Touch tanks, 4-D theater, whale sharks, beluga whales and more are perfect for kids of all ages. Address: 225 Baker St. NW. Estimated Time: 2-3 hours. Take a walk through this undersea t unnel at the Georgia Aquarium. Alternate Option: Visit Centennial Olympic Park, the world\\u2019s gathering place during the 1996 Centennial Olympic Games.\",\"cachedPageUrl\":\"http://cc.bingj.com/cache.aspx?q=things\\u002Bto\\u002Bdo\\u002Bin\\u002BAtlanta\\u002Bon\\u002B2024-10-05\\u0026d=4870587856675864\\u0026mkt=en-US\\u0026setlang=en-US\\u0026w=uV1DCYNbEa6m40wdCofUcFs_6YJlwpKa\"}]}}\n",
       "```\n",
       "\n",
       "I called the tool named crawl with these arguments:\n",
       "```\n",
       "{\"q\": \"things to do in Atlanta on 2024-10-12\", \"answerCount\": 5, \"textFormat\": \"Raw\"}\n",
       "```\n",
       "and got this result:\n",
       "```\n",
       "{\"queryContext\":{\"originalQuery\":\"things to do in Atlanta on 2024-10-12\"},\"webPages\":{\"value\":[{\"name\":\"Atlanta Events - October 2024 - Go South Atlanta\",\"url\":\"https://gosouthatlanta.com/things-to-do/events/atlanta-in-october.html\",\"displayUrl\":\"https://gosouthatlanta.com/things-to-do/events/atlanta-in-october.html\",\"snippet\":\"Events From October 1 To The Weekend Of October 5-6 2024. \\u2192 See September events. \\u2192 For concerts this week, see Atlanta concerts in October 2024. \\u2013 Daddy Long Legs, September 13 - October 6 2024. Musical at The Legacy Theatre, Tyrone. More details.\",\"cachedPageUrl\":\"http://cc.bingj.com/cache.aspx?q=things\\u002Bto\\u002Bdo\\u002Bin\\u002BAtlanta\\u002Bon\\u002B2024-10-12\\u0026d=4907344187949765\\u0026mkt=en-US\\u0026setlang=en-US\\u0026w=jtKzhu3KOsa3mkDLUvcm_m1afK8iBTpt\"},{\"name\":\"80\\u002B fall festivals \\u0026 fairs around metro Atlanta: Fun things to do in ...\",\"url\":\"https://www.atlantaonthecheap.com/fall-festivals-atlanta/\",\"displayUrl\":\"https://www.atlantaonthecheap.com/fall-festivals-atlanta\",\"snippet\":\"October 12, 2024 Lilburn City Park FREE. This beloved fall arts \\u0026 crafts is in its 50th year! It is extremely family-friendly, with plenty of activities for the kids. You\\u2019ll also find food, vendor booths, and live entertainment all day long. ... The Best Free Things to Do in Atlanta in 2024 - says: August 20, 2024 at 3:57 pm [\\u2026] Castleberry ...\",\"cachedPageUrl\":\"http://cc.bingj.com/cache.aspx?q=things\\u002Bto\\u002Bdo\\u002Bin\\u002BAtlanta\\u002Bon\\u002B2024-10-12\\u0026d=5012794228946274\\u0026mkt=en-US\\u0026setlang=en-US\\u0026w=AqqJM900-WHnjjGt9vluoyq1DPm6ofe-\",\"thumbnailUrl\":\"https://www.bing.com/th?id=OIP.w0-v0ll6eXl6tJfBd5-ovwHaEV\\u0026w=80\\u0026h=80\\u0026c=1\\u0026pid=5.1\"},{\"name\":\"Explore Atlanta Events for Today, This Week or Weekend\",\"url\":\"https://discoveratlanta.com/events/main/\",\"displayUrl\":\"https://discoveratlanta.com/events/m\",\"snippet\":\"Explore the Atlanta events calendar for things to do today, this week or this weekend. Find upcoming festivals, seasonal events and more! DiscoverAtlanta.com homepage. Things to Do; Events; ... Multiple dates until 10/12/2024. Roberta Lea Live 10/5/24. Strand Ole Opry: Fa-BOO-lous Halloween Hits 10/5/24. The Modern x Atlas 10/5/24. Cirque ...\",\"cachedPageUrl\":\"http://cc.bingj.com/cache.aspx?q=things\\u002Bto\\u002Bdo\\u002Bin\\u002BAtlanta\\u002Bon\\u002B2024-10-12\\u0026d=4819881473496114\\u0026mkt=en-US\\u0026setlang=en-US\\u0026w=zvJBiG0Dg4eP1GMx_bJv9FTM8ziERJGY\",\"thumbnailUrl\":\"https://www.bing.com/th?id=OIP.FkxSV6JbrWatsFMM3_8dIAHaEh\\u0026w=80\\u0026h=80\\u0026c=1\\u0026pid=5.1\"},{\"name\":\"Atlanta Festival Calendar: 2024 - Unexpected Atlanta\",\"url\":\"https://unexpectedatlanta.com/atlanta-festival-calendar-2024/\",\"displayUrl\":\"https://unexpectedatlanta.com/atlanta-festival-calendar-2024\",\"snippet\":\"Atlanta Jazz Festival \\u2013 May 25-27, 2024. Held in Piedmont Park, the Atlanta Jazz Festival is an annual celebration of music, culture, and the art of Jazz. Free to all who join, this Memorial Day Weekend event draws fans, professional musicians, and everyone in between, for a 3-day-long festival showcasing 15\\u002B artists.\",\"cachedPageUrl\":\"http://cc.bingj.com/cache.aspx?q=things\\u002Bto\\u002Bdo\\u002Bin\\u002BAtlanta\\u002Bon\\u002B2024-10-12\\u0026d=4520195830737555\\u0026mkt=en-US\\u0026setlang=en-US\\u0026w=Y_UYHSuQi3QHjG8exIRi2zfYmaaF9rTA\",\"thumbnailUrl\":\"https://www.bing.com/th?id=OIP.8LvXI6tOuWvo9KZdL-C3MwHaHa\\u0026w=80\\u0026h=80\\u0026c=1\\u0026pid=5.1\"},{\"name\":\"Things to Do in Atlanta in 2024: Events, festivals, and exhibits ...\",\"url\":\"https://www.thrillist.com/events/atlanta/events-calendar-in-atlanta-this-year\",\"displayUrl\":\"https://www.thrillist.com/events/atlanta/events-calendar-in-atlanta-this-year\",\"snippet\":\"23 Things You Have to Do in Atlanta This Year, From One Musicfest to Homecoming ... By Okla Jones. Updated on July 9, 2024 at 12:40 PM. ... July 20\\u201321, 2024 Atlanta Expo Center\",\"thumbnailUrl\":\"https://www.bing.com/th?id=OIP.WUHCPl7_RpepE3pSEdAEMgHaE8\\u0026w=80\\u0026h=80\\u0026c=1\\u0026pid=5.1\"},{\"name\":\"35\\u002B Best Things to Do in Atlanta in 2024 - Unexpected Atlanta\",\"url\":\"https://unexpectedatlanta.com/best-things-to-do-in-atlanta/\",\"displayUrl\":\"https://unexpectedatlanta.com/best-things-to-do-in-atlanta\",\"snippet\":\"1. Visit the National Parks on a Fee-Free Day. First on our list of the best things to do in Atlanta in 2024, check out America\\u2019s National Park System\\u2019s fee-free days this year. On these special days, you can visit any of the United States\\u2019 400\\u002B National Parks for free, including places in and around Georgia.\",\"cachedPageUrl\":\"http://cc.bingj.com/cache.aspx?q=things\\u002Bto\\u002Bdo\\u002Bin\\u002BAtlanta\\u002Bon\\u002B2024-10-12\\u0026d=4885792044096348\\u0026mkt=en-US\\u0026setlang=en-US\\u0026w=SRiegEmhRGKtzRRUG028yHS95G2gOIKx\",\"thumbnailUrl\":\"https://www.bing.com/th?id=OIP.HwzfdFE6-tSHfhoFlTxXKQHaHa\\u0026w=80\\u0026h=80\\u0026c=1\\u0026pid=5.1\"},{\"name\":\"Cool Things To Do in October in Atlanta\",\"url\":\"https://discoveratlanta.com/stories/things-to-do/cool-things-to-do-in-october-in-atlanta/\",\"displayUrl\":\"https://discoveratlanta.com/stories/things-to-do/cool-things-to-do-in-october-in-atlanta\",\"snippet\":\"Corn Dogs, Rides and Whack a Mole. The Atlanta Fair brings the best of a traditional fair to Atlanta with everything from cotton candy, a Ferris wheel, fishing for goldfish, a tilt-a-whirl and a carousel. The fair, located across from the Georgia State University Stadium, will be in town Oct. 4-Nov. 3. Read More.\",\"cachedPageUrl\":\"http://cc.bingj.com/cache.aspx?q=things\\u002Bto\\u002Bdo\\u002Bin\\u002BAtlanta\\u002Bon\\u002B2024-10-12\\u0026d=4714289705734711\\u0026mkt=en-US\\u0026setlang=en-US\\u0026w=6a-yO_DfCUxfz-dx9C91WDDECk49pD7V\",\"thumbnailUrl\":\"https://www.bing.com/th?id=OIP.4jf9xqKu3QRk_XhZ3J7DYQHaD4\\u0026w=80\\u0026h=80\\u0026c=1\\u0026pid=5.1\"},{\"name\":\"Upcoming Events - Discover Atlanta\",\"url\":\"https://discoveratlanta.com/events/all/\",\"displayUrl\":\"https://discoveratlanta.com/events/all\",\"snippet\":\"Bounce through the incredible events happening around Atlanta today, tomorrow, this week or this month. Plan your fun and be in the know on everything from family-favorites, to can\\u2019t-miss hot spots, concerts and foodie festivals. Showing 1 \\u2013 15 of 495. Editors\\u2019 Pick.\",\"cachedPageUrl\":\"http://cc.bingj.com/cache.aspx?q=things\\u002Bto\\u002Bdo\\u002Bin\\u002BAtlanta\\u002Bon\\u002B2024-10-12\\u0026d=4829094184573839\\u0026mkt=en-US\\u0026setlang=en-US\\u0026w=J3F_lNIMaK2UBKZlUeD3eG4MmVcBwK29\"},{\"name\":\"Atlanta Events - September 2024 - Go South Atlanta\",\"url\":\"https://gosouthatlanta.com/things-to-do/events/atlanta-in-september.html\",\"displayUrl\":\"https://gosouthatlanta.com/things-to-do/events/atlanta-in-september.html\",\"snippet\":\"More details. \\u2013 Dragon Con, August 29 - September 2 2024. One of the biggest annual pop culture conventions in the country. More details. \\u2013 Atlanta Black Theatre Festival, August 30 - September 1 2024. Annual festival celebrating the Black experience in the performing arts, with plays, panels, masterclasses and other events.\",\"cachedPageUrl\":\"http://cc.bingj.com/cache.aspx?q=things\\u002Bto\\u002Bdo\\u002Bin\\u002BAtlanta\\u002Bon\\u002B2024-10-12\\u0026d=4712253893574850\\u0026mkt=en-US\\u0026setlang=en-US\\u0026w=aWkJWqw243Je4oOvzq1dGpeg_GE4sHjt\",\"thumbnailUrl\":\"https://www.bing.com/th?id=OIP.xm-3dn3hYJZHsVVU9WO5qwHaD4\\u0026w=80\\u0026h=80\\u0026c=1\\u0026pid=5.1\"},{\"name\":\"THE 15 BEST Things to Do in Atlanta (2024) - Tripadvisor\",\"url\":\"https://www.tripadvisor.com/Attractions-g60898-Activities-Atlanta_Georgia.html\",\"displayUrl\":\"https://www.tripadvisor.com/Attractions-g60898\",\"snippet\":\"23,861. Aquariums. Georgia Aquarium contains more than 70 amazing habitats, with thousands of marine animals such as whale sharks, manta rays, beluga whales, and more. Don\\u2019t miss out on the animal encounter programs\\u2026. See ways to experience (9) 2024. 2. Atlanta Botanical Garden. 5,237.\",\"cachedPageUrl\":\"http://cc.bingj.com/cache.aspx?q=things\\u002Bto\\u002Bdo\\u002Bin\\u002BAtlanta\\u002Bon\\u002B2024-10-12\\u0026d=4522996153926818\\u0026mkt=en-US\\u0026setlang=en-US\\u0026w=J4pSE0D_0DwI0g_BICzUUE092xyTtSjJ\",\"thumbnailUrl\":\"https://www.bing.com/th?id=OIP.1g_oKFZuxZyu0MwSWAr2YwHaE8\\u0026w=80\\u0026h=80\\u0026c=1\\u0026pid=5.1\"}]}}\n",
       "```\n",
       "\n",
       "I called the tool named crawl with these arguments:\n",
       "```\n",
       "{\"q\": \"things to do in Atlanta on 2024-10-19\", \"answerCount\": 5, \"textFormat\": \"Raw\"}\n",
       "```\n",
       "and got this result:\n",
       "```\n",
       "{\"queryContext\":{\"originalQuery\":\"things to do in Atlanta on 2024-10-19\"},\"webPages\":{\"value\":[{\"name\":\"10 things to do in Atlanta this weekend - accessatlanta.com\",\"url\":\"https://www.accessatlanta.com/atlanta-things-to-do/10-things-to-do-in-atlanta-this-weekend/RXJV557GDFFJVMY3LMAOYQTNYI/\",\"displayUrl\":\"https://www.accessatlanta.com/atlanta-things-to-do/10-things-to-do-in-atlanta-this...\",\"snippet\":\"Best Things to do in Atlanta this weekend. ... Metro Atlanta - 2500 Clairmont Rd; Date: September 19-22; Time: 5-10 p.m. (Thursday); 5-11 p.m. ... September 10, 2024.\",\"cachedPageUrl\":\"http://cc.bingj.com/cache.aspx?q=things\\u002Bto\\u002Bdo\\u002Bin\\u002BAtlanta\\u002Bon\\u002B2024-10-19\\u0026d=2036019664925\\u0026mkt=en-US\\u0026setlang=en-US\\u0026w=ecYZf3pOPl4MgsqlUNgwD_67J-TONvpM\"},{\"name\":\"80\\u002B fall festivals \\u0026 fairs around metro Atlanta: Fun things to do in ...\",\"url\":\"https://www.atlantaonthecheap.com/fall-festivals-atlanta/\",\"displayUrl\":\"https://www.atlantaonthecheap.com/fall-festivals-atlanta\",\"snippet\":\"October 12 and 13, 2024 October 19 and 20, 2024 Ellijay, GA . This is one of the few festivals outside metro Atlanta we include. It takes place in North Georgia, over two weekends in October. Spend a day on the farm, pick your own apples, visit over 100 vendor booths for arts, crafts, and apple-based food items. Well worth the drive!\",\"cachedPageUrl\":\"http://cc.bingj.com/cache.aspx?q=things\\u002Bto\\u002Bdo\\u002Bin\\u002BAtlanta\\u002Bon\\u002B2024-10-19\\u0026d=5012794228740299\\u0026mkt=en-US\\u0026setlang=en-US\\u0026w=xfpymjtTccXnjjGt9vluoyq1DPm6ofe-\",\"thumbnailUrl\":\"https://www.bing.com/th?id=OIP.w0-v0ll6eXl6tJfBd5-ovwHaEV\\u0026w=80\\u0026h=80\\u0026c=1\\u0026pid=5.1\"},{\"name\":\"Cool Things To Do in October in Atlanta\",\"url\":\"https://discoveratlanta.com/stories/things-to-do/cool-things-to-do-in-october-in-atlanta/\",\"displayUrl\":\"https://discoveratlanta.com/stories/things-to-do/cool-things-to-do-in-october-in-atlanta\",\"snippet\":\"Corn Dogs, Rides and Whack a Mole. The Atlanta Fair brings the best of a traditional fair to Atlanta with everything from cotton candy, a Ferris wheel, fishing for goldfish, a tilt-a-whirl and a carousel. The fair, located across from the Georgia State University Stadium, will be in town Oct. 4-Nov. 3. Read More.\",\"cachedPageUrl\":\"http://cc.bingj.com/cache.aspx?q=things\\u002Bto\\u002Bdo\\u002Bin\\u002BAtlanta\\u002Bon\\u002B2024-10-19\\u0026d=4714289705734711\\u0026mkt=en-US\\u0026setlang=en-US\\u0026w=6a-yO_DfCUxfz-dx9C91WDDECk49pD7V\",\"thumbnailUrl\":\"https://www.bing.com/th?id=OIP.4jf9xqKu3QRk_XhZ3J7DYQHaD4\\u0026w=80\\u0026h=80\\u0026c=1\\u0026pid=5.1\"},{\"name\":\"35\\u002B Best Things to Do in Atlanta in 2024 - Unexpected Atlanta\",\"url\":\"https://unexpectedatlanta.com/best-things-to-do-in-atlanta/\",\"displayUrl\":\"https://unexpectedatlanta.com/best-things-to-do-in-atlanta\",\"snippet\":\"1. Visit the National Parks on a Fee-Free Day. First on our list of the best things to do in Atlanta in 2024, check out America\\u2019s National Park System\\u2019s fee-free days this year. On these special days, you can visit any of the United States\\u2019 400\\u002B National Parks for free, including places in and around Georgia.\",\"cachedPageUrl\":\"http://cc.bingj.com/cache.aspx?q=things\\u002Bto\\u002Bdo\\u002Bin\\u002BAtlanta\\u002Bon\\u002B2024-10-19\\u0026d=4885792044096348\\u0026mkt=en-US\\u0026setlang=en-US\\u0026w=SRiegEmhRGKtzRRUG028yHS95G2gOIKx\"},{\"name\":\"THE 15 BEST Things to Do in Atlanta (2024) - Tripadvisor\",\"url\":\"https://www.tripadvisor.com/Attractions-g60898-Activities-Atlanta_Georgia.html\",\"displayUrl\":\"https://www.tripadvisor.com/Attractions-g60898\",\"snippet\":\"23,861. Aquariums. Georgia Aquarium contains more than 70 amazing habitats, with thousands of marine animals such as whale sharks, manta rays, beluga whales, and more. Don\\u2019t miss out on the animal encounter programs\\u2026. See ways to experience (9) 2024. 2. Atlanta Botanical Garden. 5,237.\",\"cachedPageUrl\":\"http://cc.bingj.com/cache.aspx?q=things\\u002Bto\\u002Bdo\\u002Bin\\u002BAtlanta\\u002Bon\\u002B2024-10-19\\u0026d=4522996153843974\\u0026mkt=en-US\\u0026setlang=en-US\\u0026w=NLoOPfrLj_wI0g_BICzUUE092xyTtSjJ\"},{\"name\":\"Explore Atlanta Events for Today, This Week or Weekend - Discover Atlanta\",\"url\":\"https://discoveratlanta.com/events/main/\",\"displayUrl\":\"https://discoveratlanta.com/events/m\",\"snippet\":\"Explore the Atlanta events calendar for things to do today, this week or this weekend. Find upcoming festivals, seasonal events and more! DiscoverAtlanta.com homepage. Things to Do; ... Trivia Night at Wild Leap Atlanta Every Tuesday until 11/19/2024. Elements- Surya Ensemble 9/24/24 \\u2013 10/10/24. Your Great Neighbor Deal! 9/24/24 \\u2013 9/30/24 ...\",\"cachedPageUrl\":\"http://cc.bingj.com/cache.aspx?q=things\\u002Bto\\u002Bdo\\u002Bin\\u002BAtlanta\\u002Bon\\u002B2024-10-19\\u0026d=4819881473496114\\u0026mkt=en-US\\u0026setlang=en-US\\u0026w=zvJBiG0Dg4eP1GMx_bJv9FTM8ziERJGY\",\"thumbnailUrl\":\"https://www.bing.com/th?id=OIP.FkxSV6JbrWatsFMM3_8dIAHaEh\\u0026w=80\\u0026h=80\\u0026c=1\\u0026pid=5.1\"},{\"name\":\"THE 15 BEST Things to Do in Atlanta (2024) - Tripadvisor\",\"url\":\"https://www.tripadvisor.com/Attractions-g60898-Activities-zfr7917665-Atlanta_Georgia.html\",\"displayUrl\":\"https://www.tripadvisor.com/Attractions-g60898-Activities-zfr7917665-Atlanta_Georgia.html\",\"snippet\":\"2024. 2. Atlanta Botanical Garden. 5,236. Gardens. Step into a world of magic and serenity at the Atlanta Botanical Garden, where features like the Fuqua Orchid Center treat visitors to a rare collection of high-elevation orchids never before grown\\u2026. See tours. 3. World of Coca-Cola.\",\"cachedPageUrl\":\"http://cc.bingj.com/cache.aspx?q=things\\u002Bto\\u002Bdo\\u002Bin\\u002BAtlanta\\u002Bon\\u002B2024-10-19\\u0026d=4999832014161720\\u0026mkt=en-US\\u0026setlang=en-US\\u0026w=GtUyw72N_XrhqWtUQWQStMnnppmx6J8T\"},{\"name\":\"Cool Things To Do in September in Atlanta\",\"url\":\"https://discoveratlanta.com/stories/things-to-do/cool-things-to-do-in-september-in-atlanta/\",\"displayUrl\":\"https://discoveratlanta.com/stories/things-to-do/cool-things-to-do-in-september-in-atlanta\",\"snippet\":\"The Sweet Auburn Music Fest, which takes place Sept. 28-29. The festival, located on Auburn Avenue, one of Atlanta\\u2019s most iconic streets, offers fun-filled entertainment, live music \\u2014 everything from R\\u0026B to gospel to alternative favorites \\u2014 international food court, national artists, celebrities and vendors of all types.\",\"cachedPageUrl\":\"http://cc.bingj.com/cache.aspx?q=things\\u002Bto\\u002Bdo\\u002Bin\\u002BAtlanta\\u002Bon\\u002B2024-10-19\\u0026d=4692574351720481\\u0026mkt=en-US\\u0026setlang=en-US\\u0026w=IyKVbCksY9VV74GkIkdoRE4k4vk9MNbJ\",\"thumbnailUrl\":\"https://www.bing.com/th?id=OIP.m0ENCio7ytS2o9PQRWDCRgHaD4\\u0026w=80\\u0026h=80\\u0026c=1\\u0026pid=5.1\"},{\"name\":\"THE 10 BEST Things to Do in Atlanta 2024 (with Photos) - Tripadvisor\",\"url\":\"https://www.tripadvisor.co.za/Attractions-g60898-Activities-Atlanta_Georgia.html\",\"displayUrl\":\"https://www.tripadvisor.co.za/Attractions-g60898-Activities-Atlanta_Georgia.html\",\"snippet\":\"Things to Do in Atlanta, Georgia: See Tripadvisor\\u0027s 475 277 traveller reviews and photos of 1,428 Atlanta attractions. ... Private and Luxury (19) Half-day Tours (46) Gardens (5) City Tours (16) ... Written 2 September 2024. This review is the subjective opinion of a Tripadvisor member and not of Tripadvisor LLC. Tripadvisor performs checks on ...\",\"cachedPageUrl\":\"http://cc.bingj.com/cache.aspx?q=things\\u002Bto\\u002Bdo\\u002Bin\\u002BAtlanta\\u002Bon\\u002B2024-10-19\\u0026d=4893140729340147\\u0026mkt=en-US\\u0026setlang=en-US\\u0026w=HQF1Ati455mxJOKoH2Y3sLvn51YE5peM\"},{\"name\":\"THE 10 BEST Things to Do in Atlanta (2024) - Tripadvisor\",\"url\":\"https://www.tripadvisor.co.uk/Attractions-g60898-Activities-Atlanta_Georgia.html\",\"displayUrl\":\"https://www.tripadvisor.co.uk/Attractions-g60898\",\"snippet\":\"1. Georgia Aquarium. 23,858. Aquariums. Georgia Aquarium contains more than 70 amazing habitats, with thousands of marine animals such as whale sharks, manta rays, beluga whales, and more. Don\\u2019t miss out on the animal encounter programs\\u2026. See ways to experience (9) 2024. 2.\",\"cachedPageUrl\":\"http://cc.bingj.com/cache.aspx?q=things\\u002Bto\\u002Bdo\\u002Bin\\u002BAtlanta\\u002Bon\\u002B2024-10-19\\u0026d=4882987433328793\\u0026mkt=en-US\\u0026setlang=en-US\\u0026w=WXiT-XLZjeOsho0ykqgiri_b4Re__gbi\",\"thumbnailUrl\":\"https://www.bing.com/th?id=OIP.2Ivo_p-YFNkGw_DA_PyhkwHaFj\\u0026w=80\\u0026h=80\\u0026c=1\\u0026pid=5.1\"}]}}\n",
       "```\n",
       "\n",
       "I called the tool named ExtractContentFromUrl with these arguments:\n",
       "```\n",
       "{\"assistantName\": \"WebPageAgentAnt\", \"instructions\": \"Find things to do in Atlanta on 2024-09-28. https://eventcartel.com/events/all-categories/atlanta/from_2024-09-28_to_2024-09-29\"}\n",
       "```\n",
       "and got this result:\n",
       "```\n",
       "\"The information was not found in the page.\"\n",
       "```\n",
       "\n",
       "I called the tool named ExtractContentFromUrl with these arguments:\n",
       "```\n",
       "{\"assistantName\": \"WebPageAgentAnt\", \"instructions\": \"Find things to do in Atlanta on 2024-10-05. https://discoveratlanta.com/stories/things-to-do/cool-things-to-do-in-october-in-atlanta/\"}\n",
       "```\n",
       "and got this result:\n",
       "```\n",
       "\"Here are some activities you can do in Atlanta on October 5, 2024:\\n\\n### 1. The Lion King\\n**When:** October 2 - October 20  \\n**Where:** Fox Theatre  \\n**Description:** The Regions Bank Broadway in Atlanta series starts up again with \\u0022The Lion King.\\u0022 This lavish production features a score by Elton John, Tim Rice, and others. It\\u0027s sure to dazzle theater lovers of all ages.  \\n![The Lion King](https://res.cloudinary.com/atlanta/images/w_2560,h_1706,c_scale/v1726166160/newAtlanta.com/S9-GeraldRamseyasMufasa.TheLionKingNorthAmericanTourC2A9Disney.PhotobyMatthewMurphy28229/S9-GeraldRamseyasMufasa.TheLionKingNorthAmericanTourC2A9Disney.PhotobyMatthewMurphy28229.jpg?_i=AA)\\n\\n### 2. Jazz at Hammonds House Museum\\n**When:** October 5  \\n**Where:** Hammonds House Museum  \\n**Description:** Enjoy an exciting weekend of jazz with performances by trombonist Wycliffe Garden and pianist Eric Scott Reed.  \\n![Hammonds House Museum](https://res.cloudinary.com/atlanta/images/v1726166194/newAtlanta.com/Hammonds-House-Museum-photo-credit-Karen-Hatchett-copy/Hammonds-House-Museum-photo-credit-Karen-Hatchett-copy.jpg?_i=AA)\\n\\n### 3. How To Train Your Dragon \\u2013 In Concert\\n**When:** October 4 - October 5  \\n**Where:** Woodruff Arts Center  \\n**Description:** DreamWorks\\u0027 \\u0022How to Train a Dragon\\u0022 comes to life with a full symphony orchestra performing the Academy Award-nominated score live to picture.  \\n\\n### 4. Light The Night\\n**When:** October 5  \\n**Where:** Piedmont Park  \\n**Description:** Join the Leukemia \\u0026 Lymphoma Society\\u2019s Light The Night to support lifesaving research and services for people battling blood cancer. The event includes a walk, music, fireworks, a kid zone, and empowering ceremonies.  \\n\\n### 5. Atlanta Fair\\n**When:** October 4 - November 3  \\n**Where:** Across from Georgia State University Stadium  \\n**Description:** The Atlanta Fair offers traditional fair experiences including cotton candy, a Ferris wheel, fishing for goldfish, a tilt-a-whirl, and a carousel.  \\n\\nEnjoy your time in Atlanta!\"\n",
       "```\n",
       "\n",
       "I called the tool named ExtractContentFromUrl with these arguments:\n",
       "```\n",
       "{\"assistantName\": \"WebPageAgentAnt\", \"instructions\": \"Find things to do in Atlanta on 2024-10-12. https://www.atlantaonthecheap.com/fall-festivals-atlanta/\"}\n",
       "```\n",
       "and got this result:\n",
       "```\n",
       "\"Here are some things to do in Atlanta on October 12, 2024:\\n\\n1. **Taste of Acworth**\\n   - Location: Downtown Acworth\\n   - Description: This affordable food festival features FREE admission, and small bites for just $1 to $5 each. It takes place along historic Main Street and the surrounding area.\\n   - [Details for Taste of Acworth](https://www.atlantaonthecheap.com/)\\n\\n2. **Lilburn Daze**\\n   - Location: Lilburn City Park\\n   - Description: This beloved fall arts \\u0026 crafts festival is in its 50th year! It is extremely family-friendly, with plenty of activities for the kids. You\\u2019ll also find food, vendor booths, and live entertainment all day long. Plan to use the free shuttle.\\n   - [Details for Lilburn Daze](https://www.atlantaonthecheap.com/)\\n\\n3. **The Great Pumpkin Fest**\\n   - Location: Cherokee Veterans Park, Canton\\n   - Description: This annual fall and Halloween festival takes place in Cherokee County. You\\u2019ll find craft vendors, food, a DJ, hay rides, games, bounce houses for the kids, trick-or-treating, and more.\\n   - [Details for Pumpkin Fest](https://www.atlantaonthecheap.com/)\\n\\n4. **Old Fourth Ward Park Arts Festival**\\n   - Location: Old 4th Ward Park\\n   - Description: This two-day arts festival features live acoustic music, about 150 vendor booths, food, and fall fun \\u2014 located at historic Old 4th Ward Park.\\n   - [Details for the O4W Arts Festival](https://www.atlantaonthecheap.com/)\\n\\n5. **Chalktoberfest**\\n   - Location: Marietta Square\\n   - Description: It\\u2019s a festival that celebrates street art and craft beer! Enjoy a fall afternoon at Chalktoberfest, in the Marietta Square. Enjoy live music and eat great food, while you watch the work of chalk artists unfold in front of your eyes. FREE to attend, but the craft beer tasting is a ticketed event.\\n   - [Details for Chalktoberfest](https://www.atlantaonthecheap.com/)\\n\\n6. **Atlanta Pride Festival \\u0026 Parade**\\n   - Location: Piedmont Park\\n   - Description: An annual October event! Atlanta Pride features a festival and parade in Midtown, plus a wide variety of associated events around town.\\n   - [Details for Atlanta Pride](https://www.atlantaonthecheap.com/)\\n\\n7. **Georgia Apple Festival**\\n   - Location: Ellijay, GA\\n   - Description: This is one of the few festivals outside metro Atlanta included. It takes place in North Georgia, over two weekends in October. Spend a day on the farm, pick your own apples, visit over 100 vendor booths for arts, crafts, and apple-based food items. Well worth the drive!\\n   - [Details for the Apple Festival](https://www.atlantaonthecheap.com/)\\n\\nEnjoy your time in Atlanta!\"\n",
       "```\n",
       "\n",
       "I called the tool named ExtractContentFromUrl with these arguments:\n",
       "```\n",
       "{\"assistantName\": \"WebPageAgentAnt\", \"instructions\": \"Find things to do in Atlanta on 2024-10-19. https://discoveratlanta.com/stories/things-to-do/cool-things-to-do-in-october-in-atlanta/\"}\n",
       "```\n",
       "and got this result:\n",
       "```\n",
       "\"Here are some activities and events happening in Atlanta on October 19, 2024:\\n\\n1. **The Lion King** at the Fox Theatre\\n   - The popular Broadway show runs from October 2 through October 20. \\n\\n   ![The Lion King](https://res.cloudinary.com/atlanta/images/w_2560,h_1706,c_scale/v1726166160/newAtlanta.com/S9-GeraldRamseyasMufasa.TheLionKingNorthAmericanTourC2A9Disney.PhotobyMatthewMurphy28229/S9-GeraldRamseyasMufasa.TheLionKingNorthAmericanTourC2A9Disney.PhotobyMatthewMurphy28229.jpg?_i=AA)\\n\\n2. **Little Five Points Halloween Festival and Parade**\\n   - The festival on October 19 and 20 features live music, an art and vintage market, ghost tours, a skate park, and food and drink vendors. The parade is one of the biggest and spookiest in the Southeast.\\n\\n   ![Little Five Points Parade](https://res.cloudinary.com/atlanta/images/w_2560,h_1707,c_scale/v1726166287/newAtlanta.com/23-Halloween-Reid-Koski_4-copy/23-Halloween-Reid-Koski_4-copy.jpg?_i=AA)\\n\\n3. **Atlanta Symphony Orchestra**\\n   - Performances of Haydn and Mendelssohn Symphonies from October 17-19, with Roderick Cox conducting.\\n\\n4. **Fall Festivals**\\n   - Various fall festivals are happening around the city, such as the Fall Festival on Ponce, Candler Park Fall Festival, and Old Fourth Ward Arts Fest.\\n\\n5. **Atlanta Streets Alive**\\n   - On October 20, Ralph David Abernathy Boulevard and Georgia Avenue will be closed to vehicular traffic and open to pedestrians from 1 to 5 p.m.\\n\\nThese are some of the exciting activities you can enjoy in Atlanta on October 19, 2024. For more details, visit the [Discover Atlanta](https://discoveratlanta.com) website.\"\n",
       "```\n",
       "\n",
       "I called the tool named ExtractContentFromUrl with these arguments:\n",
       "```\n",
       "{\"assistantName\": \"WebPageAgentAnt\", \"instructions\": \"Find things to do in Atlanta on 2024-09-28. https://discoveratlanta.com/stories/things-to-do/cool-things-to-do-in-september-in-atlanta/\"}\n",
       "```\n",
       "and got this result:\n",
       "```\n",
       "\"On September 28, 2024, you can enjoy the following events in Atlanta:\\n\\n## Sweet Auburn Music Fest\\n![Sweet Auburn Music Fest](https://res.cloudinary.com/atlanta/images/w_1024,h_442,c_scale/v1602355972/newAtlanta.com/Zz05MmIyZjQyZWNhOWYxMWVhYjNjMTBhODU2ZjA4Y2UwNw-scaled/Zz05MmIyZjQyZWNhOWYxMWVhYjNjMTBhODU2ZjA4Y2UwNw-scaled.jpg?_i=AA)\\nThe Sweet Auburn Music Fest takes place on Auburn Avenue, one of Atlanta\\u0027s most iconic streets. The festival offers fun-filled entertainment, live music ranging from R\\u0026B to gospel to alternative favorites, an international food court, national artists, celebrities, and vendors of all types.\\n\\n## Forward Warrior\\nThe annual Forward Warrior live art event is happening all day, from 9 a.m. until 9 p.m., on Wylie Street in Cabbagetown.\\n\\nFor more details, you can visit the original page [here](https://discoveratlanta.com/stories/things-to-do/cool-things-to-do-in-september-in-atlanta/).\"\n",
       "```\n",
       "\n",
       "Here are some exciting events and activities you can enjoy in Atlanta over the next four weekends:\n",
       "\n",
       "### September 28, 2024\n",
       "\n",
       "#### Sweet Auburn Music Fest\n",
       "![Sweet Auburn Music Fest](https://res.cloudinary.com/atlanta/images/w_1024,h_442,c_scale/v1602355972/newAtlanta.com/Zz05MmIyZjQyZWNhOWYxMWVhYjNjMTBhODU2ZjA4Y2UwNw-scaled/Zz05MmIyZjQyZWNhOWYxMWVhYjNjMTBhODU2ZjA4Y2UwNw-scaled.jpg?_i=AA)\n",
       "- **Location:** Auburn Avenue\n",
       "- **Description:** Enjoy live music ranging from R&B to gospel, an international food court, national artists, celebrities, and various vendors.\n",
       "- **Link:** [Sweet Auburn Music Fest](https://discoveratlanta.com/stories/things-to-do/cool-things-to-do-in-september-in-atlanta/)\n",
       "\n",
       "### October 5, 2024\n",
       "\n",
       "#### The Lion King\n",
       "![The Lion King](https://res.cloudinary.com/atlanta/images/w_2560,h_1706,c_scale/v1726166160/newAtlanta.com/S9-GeraldRamseyasMufasa.TheLionKingNorthAmericanTourC2A9Disney.PhotobyMatthewMurphy28229/S9-GeraldRamseyasMufasa.TheLionKingNorthAmericanTourC2A9Disney.PhotobyMatthewMurphy28229.jpg?_i=AA)\n",
       "- **Location:** Fox Theatre\n",
       "- **Description:** A lavish production featuring a score by Elton John and Tim Rice, part of the Regions Bank Broadway in Atlanta series.\n",
       "- **Link:** [Discover Atlanta](https://discoveratlanta.com/stories/things-to-do/cool-things-to-do-in-october-in-atlanta/)\n",
       "\n",
       "#### Jazz at Hammonds House Museum\n",
       "![Hammonds House Museum](https://res.cloudinary.com/atlanta/images/v1726166194/newAtlanta.com/Hammonds-House-Museum-photo-credit-Karen-Hatchett-copy/Hammonds-House-Museum-photo-credit-Karen-Hatchett-copy.jpg?_i=AA)\n",
       "- **Location:** Hammonds House Museum\n",
       "- **Description:** A weekend of jazz performances by trombonist Wycliffe Garden and pianist Eric Scott Reed.\n",
       "- **Link:** [Discover Atlanta](https://discoveratlanta.com/stories/things-to-do/cool-things-to-do-in-october-in-atlanta/)\n",
       "\n",
       "### October 12, 2024\n",
       "\n",
       "#### Lilburn Daze\n",
       "- **Location:** Lilburn City Park\n",
       "- **Description:** A family-friendly arts & crafts festival with activities for kids, food, vendor booths, and live entertainment.\n",
       "- **Link:** [Atlanta on the Cheap](https://www.atlantaonthecheap.com/fall-festivals-atlanta/)\n",
       "\n",
       "#### Chalktoberfest\n",
       "- **Location:** Marietta Square\n",
       "- **Description:** A festival celebrating street art and craft beer, featuring live music, great food, and chalk artists creating art in front of your eyes.\n",
       "- **Link:** [Atlanta on the Cheap](https://www.atlantaonthecheap.com/fall-festivals-atlanta/)\n",
       "\n",
       "### October 19, 2024\n",
       "\n",
       "#### The Lion King\n",
       "![The Lion King](https://res.cloudinary.com/atlanta/images/w_2560,h_1706,c_scale/v1726166160/newAtlanta.com/S9-GeraldRamseyasMufasa.TheLionKingNorthAmericanTourC2A9Disney.PhotobyMatthewMurphy28229/S9-GeraldRamseyasMufasa.TheLionKingNorthAmericanTourC2A9Disney.PhotobyMatthewMurphy28229.jpg?_i=AA)\n",
       "- **Location:** Fox Theatre\n",
       "- **Description:** Continuation of the Broadway show.\n",
       "- **Link:** [Discover Atlanta](https://discoveratlanta.com/stories/things-to-do/cool-things-to-do-in-october-in-atlanta/)\n",
       "\n",
       "#### Little Five Points Halloween Festival and Parade\n",
       "![Little Five Points Parade](https://res.cloudinary.com/atlanta/images/w_2560,h_1707,c_scale/v1726166287/newAtlanta.com/23-Halloween-Reid-Koski_4-copy/23-Halloween-Reid-Koski_4-copy.jpg?_i=AA)\n",
       "- **Location:** Little Five Points\n",
       "- **Description:** Features live music, an art and vintage market, ghost tours, a skate park, and food and drink vendors.\n",
       "- **Link:** [Discover Atlanta](https://discoveratlanta.com/stories/things-to-do/cool-things-to-do-in-october-in-atlanta/)\n",
       "\n",
       "Enjoy your time in Atlanta with these fantastic events!\n"
      ]
     },
     "metadata": {},
     "output_type": "display_data"
    }
   ],
   "source": [
    "assistantRunOptions = new AssistantRunOptions() {\n",
    "    AssistantName = \"WebSearchAgentAnt\",\n",
    "    Instructions = \"Use python to get todays date and then use it to find things to do in Atlanta for each of the next four weekends with pictures and correct links from ExtractContentFromUrl.\\n\\nWhen choosing links for crawl to evaluate with ExtractContentFromUrl choose a variety of hosts for urls from which you extract content. Limit your use of ExtractContentFromUrl to five calls or less. Do not make the error of including the url as a parameter, it must be inside 'instructions' as indicated by the tool definition. Be careful to not include events in the past in your final answer. You should perform four searches at once.\\nDon't forget to include valid links!\",\n",
    "};\n",
    "var output2 = await AntRunnerLib.AssistantRunner.RunThread(assistantRunOptions, config);\n",
    "output2.Dialog.DisplayAs(\"text/markdown\");"
   ]
  },
  {
   "cell_type": "markdown",
   "metadata": {},
   "source": [
    "## Clean Up"
   ]
  },
  {
   "cell_type": "code",
   "execution_count": 14,
   "metadata": {
    "dotnet_interactive": {
     "language": "csharp"
    },
    "polyglot_notebook": {
     "kernelName": "csharp"
    },
    "vscode": {
     "languageId": "polyglot-notebook"
    }
   },
   "outputs": [
    {
     "name": "stdout",
     "output_type": "stream",
     "text": [
      "Deleted assistant\n",
      "Deleted assistant\n"
     ]
    }
   ],
   "source": [
    "var assistant = (await client.AssistantList())?.Data?.FirstOrDefault(o => o.Name == \"WebSearchAgentAnt\");\n",
    "if(assistant != null) {\n",
    "    await client.AssistantDelete(assistant.Id);\n",
    "    Console.WriteLine(\"Deleted assistant\");\n",
    "}\n",
    "else\n",
    "{\n",
    "    Console.WriteLine(\"Didn't find WebSearchAgentAnt\");\n",
    "}\n",
    "\n",
    "assistant = (await client.AssistantList())?.Data?.FirstOrDefault(o => o.Name == \"WebPageAgentAnt\");\n",
    "if(assistant != null) {\n",
    "    await client.AssistantDelete(assistant.Id);\n",
    "    Console.WriteLine(\"Deleted assistant\");\n",
    "}\n",
    "else\n",
    "{\n",
    "    Console.WriteLine(\"Didn't find WebPageAgentAnt\");\n",
    "}"
   ]
  }
 ],
 "metadata": {
  "kernelspec": {
   "display_name": ".NET (C#)",
   "language": "C#",
   "name": ".net-csharp"
  },
  "language_info": {
   "name": "python"
  },
  "polyglot_notebook": {
   "kernelInfo": {
    "defaultKernelName": "csharp",
    "items": [
     {
      "aliases": [],
      "name": "csharp"
     }
    ]
   }
  }
 },
 "nbformat": 4,
 "nbformat_minor": 2
}
