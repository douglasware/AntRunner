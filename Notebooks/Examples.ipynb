{
 "cells": [
  {
   "cell_type": "code",
   "execution_count": 1,
   "metadata": {
    "dotnet_interactive": {
     "language": "csharp"
    },
    "polyglot_notebook": {
     "kernelName": "csharp"
    }
   },
   "outputs": [
    {
     "data": {
      "text/html": [
       "<div><div></div><div></div><div><strong>Installed Packages</strong><ul><li><span>AntRunnerLib, 0.4.0</span></li></ul></div></div>"
      ]
     },
     "metadata": {},
     "output_type": "display_data"
    }
   ],
   "source": [
    "#r \"nuget: AntRunnerLib, 0.4.0\""
   ]
  },
  {
   "cell_type": "code",
   "execution_count": 5,
   "metadata": {
    "dotnet_interactive": {
     "language": "csharp"
    },
    "polyglot_notebook": {
     "kernelName": "csharp"
    }
   },
   "outputs": [],
   "source": [
    "using AntRunnerLib;"
   ]
  },
  {
   "cell_type": "code",
   "execution_count": 4,
   "metadata": {
    "dotnet_interactive": {
     "language": "csharp"
    },
    "polyglot_notebook": {
     "kernelName": "csharp"
    }
   },
   "outputs": [],
   "source": [
    "var environmentVariables = new Dictionary<string, string>\n",
    "{\n",
    "    { \"ASSISTANTS_BASE_FOLDER_PATH\", @\"..\\TestAssistant\\AssistantDefinitions\" },\n",
    "    { \"ASSISTANTS_STORAGE_CONNECTION\", \"UseDevelopmentStorage=true\" },\n",
    "    { \"ASSISTANTS_STORAGE_CONTAINER\", \"assistants\" },\n",
    "    { \"AZURE_OPENAI_RESOURCE\", \"el-eastus\" },\n",
    "    { \"AZURE_OPENAI_API_KEY\", \"c9de667a5ba74b6b816b1eb8fe964a6d\" },\n",
    "    { \"AZURE_OPENAI_DEPLOYMENT\", \"gpt-4o\" },\n",
    "    { \"AZURE_OPENAI_API_VERSION\", \"2024-05-01-preview\" }\n",
    "};\n",
    "\n",
    "EnvironmentSettings.Set(environmentVariables);"
   ]
  },
  {
   "cell_type": "code",
   "execution_count": 6,
   "metadata": {
    "dotnet_interactive": {
     "language": "csharp"
    },
    "polyglot_notebook": {
     "kernelName": "csharp"
    }
   },
   "outputs": [
    {
     "name": "stdout",
     "output_type": "stream",
     "text": [
      "el-eastus"
     ]
    }
   ],
   "source": [
    "var config = AzureOpenAIConfigFactory.Get();\n"
   ]
  },
  {
   "cell_type": "code",
   "execution_count": 7,
   "metadata": {
    "dotnet_interactive": {
     "language": "csharp"
    },
    "polyglot_notebook": {
     "kernelName": "csharp"
    }
   },
   "outputs": [
    {
     "name": "stdout",
     "output_type": "stream",
     "text": [
      "\n",
      "User: User: What is 2+2?\n",
      "Assistant: 2+2 is 4\n",
      "\n",
      "Assistant: End Conversation\n"
     ]
    }
   ],
   "source": [
    "var assistantRunOptions = new AssistantRunOptions() {\n",
    "    AssistantName = \"ConversationUserProxy\",\n",
    "    Instructions = \"User: What is 2+2?\\nAssistant: 2+2 is 4\"\n",
    "};\n",
    "\n",
    "var config = AzureOpenAIConfigFactory.Get();\n",
    "var assistantId = await AssistantUtility.GetAssistantId(assistantRunOptions!.AssistantName, config);\n",
    "var output = await AntRunnerLib.AssistantRunner.RunThread(assistantRunOptions, config);\n",
    "Console.Write(output.Dialog)"
   ]
  }
 ],
 "metadata": {
  "kernelspec": {
   "display_name": ".NET (C#)",
   "language": "C#",
   "name": ".net-csharp"
  },
  "polyglot_notebook": {
   "kernelInfo": {
    "defaultKernelName": "csharp",
    "items": [
     {
      "aliases": [],
      "languageName": "csharp",
      "name": "csharp"
     }
    ]
   }
  }
 },
 "nbformat": 4,
 "nbformat_minor": 2
}
