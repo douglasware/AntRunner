{
 "cells": [
  {
   "cell_type": "markdown",
   "metadata": {},
   "source": [
    "## File search assistant\n",
    "The McKessonMDTranscripts demonstrates the creation and execution of an assistant using the file_search feature with a knowledge base based on earnings call transcripts downloaded from the internet.\n",
    "\n",
    "## First steps\n",
    "- First, download AntRunLib from Nuget\n",
    "- At least once, set up the environment using **[0-AI-settings](0-AI-settings.ipynb)**"
   ]
  },
  {
   "cell_type": "code",
   "execution_count": 1,
   "metadata": {
    "dotnet_interactive": {
     "language": "csharp"
    },
    "polyglot_notebook": {
     "kernelName": "csharp"
    },
    "vscode": {
     "languageId": "polyglot-notebook"
    }
   },
   "outputs": [
    {
     "data": {
      "text/html": [
       "<div><div></div><div></div><div><strong>Installed Packages</strong><ul><li><span>AntRunnerLib, 0.8.8</span></li></ul></div></div>"
      ]
     },
     "metadata": {},
     "output_type": "display_data"
    }
   ],
   "source": [
    "#r \"nuget: AntRunnerLib, 0.8.8\"\n",
    "\n",
    "using AntRunnerLib;\n",
    "using AntRunnerLib.Identity;\n",
    "using static AntRunnerLib.ClientUtility;\n",
    "using System.IO;\n",
    "\n",
    "#!import config/Settings.cs \n",
    "\n",
    "var envVariables = Settings.GetEnvironmentVariables();\n",
    "foreach (var kvp in envVariables)\n",
    "{\n",
    "    Environment.SetEnvironmentVariable(kvp.Key, kvp.Value);\n",
    "}\n",
    "\n",
    "var config = AzureOpenAiConfigFactory.Get();\n",
    "var client = GetOpenAiClient(config);\n"
   ]
  },
  {
   "cell_type": "markdown",
   "metadata": {},
   "source": [
    "## Ensure the McKessonMDTranscripts assistant exists\n",
    "The definition of this assistant is located in the \".\\AssistantDefinitions\\McKessonMDTranscripts\" folder\n",
    "\n",
    "\".\\AssistantDefinitions\\\" is a default path. You can override it by setting the **ASSISTANTS_BASE_FOLDER_PATH** environment variable.\n",
    "\n",
    "\"McKessonMDTranscripts\" contains the following files:\n",
    "```\n",
    "│   manifest.json\n",
    "│   prompt.md\n",
    "│\n",
    "└───VectorStores\n",
    "    └───McKessonMDTranscripts\n",
    "            211101-MCK-Q2FY22-Earnings-Call-Transcript.md\n",
    "            220202-MCK-Q3FY22-Earnings-Call-Transcript.md\n",
    "            220505-MCK-Q4FY22-Earnings-Call-Transcript.md\n",
    "            220803-MCK-Q1FY23-Earnings-Call-Transcript.md\n",
    "            230508-MCK-Q4FY23-Earnings-Call-Transcript.md\n",
    "            230802-MCK-Q1FY24-Earnings-Call-Transcript.md\n",
    "            231101-MCK-Q2FY24-Earnings-Call-Transcript.md\n",
    "            MCK-Q1FY21-Transcript.md\n",
    "            MCK-Q1FY22-Transcript.md\n",
    "            MCK-Q2-FY23-Earnings-Transcript.md\n",
    "            MCK-Q2FY21-Transcript.md\n",
    "            MCK-Q3-FY24-Earnings-Transcript.md\n",
    "            MCK-Q4-FY24-Earnings-Call-Transcript.md\n",
    "            MCK-Q4FY21-Transcript.md\n",
    "            MCK-US-20230201-2761065-C.md\n",
    "            Q1-FY19-Earnings-Call-Transcript.md\n",
    "            Q1-FY20-Earnings-Call-Transcript.md\n",
    "            Q2-FY19-Earnings-Call-Transcript.md\n",
    "            Q2-FY20-Earnings-Call-Transcript.md\n",
    "            Q3-FY19-Earnings-Call-Transcript.md\n",
    "            Q3FY20-MCK-Earnings-Call-Transcript.md\n",
    "            Q3FY21-MCK-Earnings-Call-Transcript_FINAL.md\n",
    "            Q4-FY19-Earnings-Call-Transcript.md\n",
    "            Q4FY20-MCK-Corrected-Transcript.md\n",
    "```\n",
    "\n",
    "### Explanation\n",
    "`AssistantUtility.Create` will create the vector store if necessary, upload the files, and then update the manifest with the vector store ID before creating the assistant."
   ]
  },
  {
   "cell_type": "code",
   "execution_count": 2,
   "metadata": {
    "dotnet_interactive": {
     "language": "csharp"
    },
    "polyglot_notebook": {
     "kernelName": "csharp"
    },
    "vscode": {
     "languageId": "polyglot-notebook"
    }
   },
   "outputs": [
    {
     "name": "stdout",
     "output_type": "stream",
     "text": [
      "asst_QHdqXTGsCxCDGWsvb1px2sAb\r\n"
     ]
    }
   ],
   "source": [
    "var assistantId = await AssistantUtility.Create(\"McKessonMDTranscripts\", config);\n",
    "Console.WriteLine(assistantId)"
   ]
  },
  {
   "cell_type": "markdown",
   "metadata": {},
   "source": [
    "## Run the Assistant\n",
    "\n",
    "`output.Dialog` shows the conversation."
   ]
  },
  {
   "cell_type": "code",
   "execution_count": 3,
   "metadata": {
    "dotnet_interactive": {
     "language": "csharp"
    },
    "polyglot_notebook": {
     "kernelName": "csharp"
    },
    "vscode": {
     "languageId": "polyglot-notebook"
    }
   },
   "outputs": [
    {
     "data": {
      "text/markdown": [
       "\n",
       "User: How did covid impact results over time?\n",
       "\n",
       "Assistant: I searched my knowledge base for the answer.\n",
       "\n",
       "The impact of COVID-19 on McKesson's results over time can be summarized as follows:\n",
       "\n",
       "1. **Initial Impact and Fiscal 2020**:\n",
       "   - In the fourth quarter of fiscal 2020, McKesson experienced increased demand for pharmaceuticals and personal protective equipment (PPE) due to the pandemic, resulting in approximately $2 billion of incremental revenue. This was partially offset by higher operating expenses related to frontline employee support and remote workforce needs【4:0†source】【4:3†source】【4:13†source】.\n",
       "\n",
       "2. **Fiscal 2021**:\n",
       "   - Throughout fiscal 2021, McKesson navigated significant uncertainties due to COVID-19. The company saw volume declines in the early part of the fiscal year, but recovery began earlier than anticipated. The distribution of COVID-19 vaccines and ancillary supply kits contributed positively to results in the later part of the year【4:1†source】【4:4†source】【4:9†source】【4:10†source】.\n",
       "\n",
       "3. **Fiscal 2022**:\n",
       "   - The results were influenced by the ongoing distribution of COVID-19 vaccines and tests. However, there were challenges such as a light cold and flu season and variability in COVID-19 demand, which impacted results. Despite these challenges, McKesson continued to support its customers with necessary supplies and services【4:5†source】【4:6†source】【4:12†source】.\n",
       "\n",
       "4. **Fiscal 2023**:\n",
       "   - The benefit from COVID-19-related activities, including vaccine distribution and test kits, started to decline compared to the previous years. The company noted a reduction in sales of COVID-19 tests and lower contributions from government contracts for vaccine distribution. However, McKesson continued to see growth in its core businesses, including primary care and specialty products【4:2†source】【4:8†source】【4:14†source】.\n",
       "\n",
       "Overall, McKesson's response to the pandemic involved adapting to fluctuating demand, supporting healthcare providers with essential supplies, and leveraging its distribution capabilities to aid in vaccine distribution. The impact of COVID-19 evolved from initial demand spikes and logistical challenges to more stable contributions from ongoing pandemic-related activities, with a gradual return to focusing on core business growth.\n"
      ]
     },
     "metadata": {},
     "output_type": "display_data"
    }
   ],
   "source": [
    "var assistantRunOptions = new AssistantRunOptions() {\n",
    "    AssistantName = \"McKessonMDTranscripts\",\n",
    "    Instructions = \"How did covid impact results over time?\",\n",
    "    UseConversationEvaluator = false\n",
    "};\n",
    "var output = await AntRunnerLib.AssistantRunner.RunThread(assistantRunOptions, config);\n",
    "output.Dialog.DisplayAs(\"text/markdown\");"
   ]
  },
  {
   "cell_type": "code",
   "execution_count": 4,
   "metadata": {
    "dotnet_interactive": {
     "language": "csharp"
    },
    "polyglot_notebook": {
     "kernelName": "csharp"
    },
    "vscode": {
     "languageId": "polyglot-notebook"
    }
   },
   "outputs": [
    {
     "data": {
      "text/markdown": [
       "The impact of COVID-19 on McKesson's results over time can be summarized as follows:\n",
       "\n",
       "1. **Initial Impact and Fiscal 2020**:\n",
       "   - In the fourth quarter of fiscal 2020, McKesson experienced increased demand for pharmaceuticals and personal protective equipment (PPE) due to the pandemic, resulting in approximately $2 billion of incremental revenue. This was partially offset by higher operating expenses related to frontline employee support and remote workforce needs【4:0†source】【4:3†source】【4:13†source】.\n",
       "\n",
       "2. **Fiscal 2021**:\n",
       "   - Throughout fiscal 2021, McKesson navigated significant uncertainties due to COVID-19. The company saw volume declines in the early part of the fiscal year, but recovery began earlier than anticipated. The distribution of COVID-19 vaccines and ancillary supply kits contributed positively to results in the later part of the year【4:1†source】【4:4†source】【4:9†source】【4:10†source】.\n",
       "\n",
       "3. **Fiscal 2022**:\n",
       "   - The results were influenced by the ongoing distribution of COVID-19 vaccines and tests. However, there were challenges such as a light cold and flu season and variability in COVID-19 demand, which impacted results. Despite these challenges, McKesson continued to support its customers with necessary supplies and services【4:5†source】【4:6†source】【4:12†source】.\n",
       "\n",
       "4. **Fiscal 2023**:\n",
       "   - The benefit from COVID-19-related activities, including vaccine distribution and test kits, started to decline compared to the previous years. The company noted a reduction in sales of COVID-19 tests and lower contributions from government contracts for vaccine distribution. However, McKesson continued to see growth in its core businesses, including primary care and specialty products【4:2†source】【4:8†source】【4:14†source】.\n",
       "\n",
       "Overall, McKesson's response to the pandemic involved adapting to fluctuating demand, supporting healthcare providers with essential supplies, and leveraging its distribution capabilities to aid in vaccine distribution. The impact of COVID-19 evolved from initial demand spikes and logistical challenges to more stable contributions from ongoing pandemic-related activities, with a gradual return to focusing on core business growth."
      ]
     },
     "metadata": {},
     "output_type": "display_data"
    }
   ],
   "source": [
    "output.LastMessage.DisplayAs(\"text/markdown\");"
   ]
  },
  {
   "cell_type": "markdown",
   "metadata": {},
   "source": [
    "## Annotations"
   ]
  },
  {
   "cell_type": "code",
   "execution_count": 5,
   "metadata": {
    "dotnet_interactive": {
     "language": "csharp"
    },
    "polyglot_notebook": {
     "kernelName": "csharp"
    },
    "vscode": {
     "languageId": "polyglot-notebook"
    }
   },
   "outputs": [
    {
     "name": "stdout",
     "output_type": "stream",
     "text": [
      "[\r\n",
      "  {\r\n",
      "    \"type\": \"file_citation\",\r\n",
      "    \"text\": \"\\u30104:0\\u2020source\\u3011\",\r\n",
      "    \"start_index\": 468,\r\n",
      "    \"end_index\": 480,\r\n",
      "    \"file_citation\": {\r\n",
      "      \"file_id\": \"assistant-v1vgOsajg7zOoaHPJaHKvA3i\",\r\n",
      "      \"file_name\": \"\",\r\n",
      "      \"quote\": null\r\n",
      "    }\r\n",
      "  },\r\n",
      "  {\r\n",
      "    \"type\": \"file_citation\",\r\n",
      "    \"text\": \"\\u30104:3\\u2020source\\u3011\",\r\n",
      "    \"start_index\": 480,\r\n",
      "    \"end_index\": 492,\r\n",
      "    \"file_citation\": {\r\n",
      "      \"file_id\": \"assistant-v1vgOsajg7zOoaHPJaHKvA3i\",\r\n",
      "      \"file_name\": \"\",\r\n",
      "      \"quote\": null\r\n",
      "    }\r\n",
      "  },\r\n",
      "  {\r\n",
      "    \"type\": \"file_citation\",\r\n",
      "    \"text\": \"\\u30104:13\\u2020source\\u3011\",\r\n",
      "    \"start_index\": 492,\r\n",
      "    \"end_index\": 505,\r\n",
      "    \"file_citation\": {\r\n",
      "      \"file_id\": \"assistant-v1vgOsajg7zOoaHPJaHKvA3i\",\r\n",
      "      \"file_name\": \"\",\r\n",
      "      \"quote\": null\r\n",
      "    }\r\n",
      "  },\r\n",
      "  {\r\n",
      "    \"type\": \"file_citation\",\r\n",
      "    \"text\": \"\\u30104:1\\u2020source\\u3011\",\r\n",
      "    \"start_index\": 861,\r\n",
      "    \"end_index\": 873,\r\n",
      "    \"file_citation\": {\r\n",
      "      \"file_id\": \"assistant-LtpQtNw0yqJbx07lbEJahob9\",\r\n",
      "      \"file_name\": \"\",\r\n",
      "      \"quote\": null\r\n",
      "    }\r\n",
      "  },\r\n",
      "  {\r\n",
      "    \"type\": \"file_citation\",\r\n",
      "    \"text\": \"\\u30104:4\\u2020source\\u3011\",\r\n",
      "    \"start_index\": 873,\r\n",
      "    \"end_index\": 885,\r\n",
      "    \"file_citation\": {\r\n",
      "      \"file_id\": \"assistant-mLYhwg7I9ywfWQPh1xEf1IXY\",\r\n",
      "      \"file_name\": \"\",\r\n",
      "      \"quote\": null\r\n",
      "    }\r\n",
      "  },\r\n",
      "  {\r\n",
      "    \"type\": \"file_citation\",\r\n",
      "    \"text\": \"\\u30104:9\\u2020source\\u3011\",\r\n",
      "    \"start_index\": 885,\r\n",
      "    \"end_index\": 897,\r\n",
      "    \"file_citation\": {\r\n",
      "      \"file_id\": \"assistant-QaQenndgqbFTt9oZunYGcfv3\",\r\n",
      "      \"file_name\": \"\",\r\n",
      "      \"quote\": null\r\n",
      "    }\r\n",
      "  },\r\n",
      "  {\r\n",
      "    \"type\": \"file_citation\",\r\n",
      "    \"text\": \"\\u30104:10\\u2020source\\u3011\",\r\n",
      "    \"start_index\": 897,\r\n",
      "    \"end_index\": 910,\r\n",
      "    \"file_citation\": {\r\n",
      "      \"file_id\": \"assistant-mLYhwg7I9ywfWQPh1xEf1IXY\",\r\n",
      "      \"file_name\": \"\",\r\n",
      "      \"quote\": null\r\n",
      "    }\r\n",
      "  },\r\n",
      "  {\r\n",
      "    \"type\": \"file_citation\",\r\n",
      "    \"text\": \"\\u30104:5\\u2020source\\u3011\",\r\n",
      "    \"start_index\": 1259,\r\n",
      "    \"end_index\": 1271,\r\n",
      "    \"file_citation\": {\r\n",
      "      \"file_id\": \"assistant-KVLQgIZo6R8UzDv01PXDkrR6\",\r\n",
      "      \"file_name\": \"\",\r\n",
      "      \"quote\": null\r\n",
      "    }\r\n",
      "  },\r\n",
      "  {\r\n",
      "    \"type\": \"file_citation\",\r\n",
      "    \"text\": \"\\u30104:6\\u2020source\\u3011\",\r\n",
      "    \"start_index\": 1271,\r\n",
      "    \"end_index\": 1283,\r\n",
      "    \"file_citation\": {\r\n",
      "      \"file_id\": \"assistant-KVLQgIZo6R8UzDv01PXDkrR6\",\r\n",
      "      \"file_name\": \"\",\r\n",
      "      \"quote\": null\r\n",
      "    }\r\n",
      "  },\r\n",
      "  {\r\n",
      "    \"type\": \"file_citation\",\r\n",
      "    \"text\": \"\\u30104:12\\u2020source\\u3011\",\r\n",
      "    \"start_index\": 1283,\r\n",
      "    \"end_index\": 1296,\r\n",
      "    \"file_citation\": {\r\n",
      "      \"file_id\": \"assistant-LtpQtNw0yqJbx07lbEJahob9\",\r\n",
      "      \"file_name\": \"\",\r\n",
      "      \"quote\": null\r\n",
      "    }\r\n",
      "  },\r\n",
      "  {\r\n",
      "    \"type\": \"file_citation\",\r\n",
      "    \"text\": \"\\u30104:2\\u2020source\\u3011\",\r\n",
      "    \"start_index\": 1711,\r\n",
      "    \"end_index\": 1723,\r\n",
      "    \"file_citation\": {\r\n",
      "      \"file_id\": \"assistant-fslYRzYxsqiFwPGd7Fns83se\",\r\n",
      "      \"file_name\": \"\",\r\n",
      "      \"quote\": null\r\n",
      "    }\r\n",
      "  },\r\n",
      "  {\r\n",
      "    \"type\": \"file_citation\",\r\n",
      "    \"text\": \"\\u30104:8\\u2020source\\u3011\",\r\n",
      "    \"start_index\": 1723,\r\n",
      "    \"end_index\": 1735,\r\n",
      "    \"file_citation\": {\r\n",
      "      \"file_id\": \"assistant-fslYRzYxsqiFwPGd7Fns83se\",\r\n",
      "      \"file_name\": \"\",\r\n",
      "      \"quote\": null\r\n",
      "    }\r\n",
      "  },\r\n",
      "  {\r\n",
      "    \"type\": \"file_citation\",\r\n",
      "    \"text\": \"\\u30104:14\\u2020source\\u3011\",\r\n",
      "    \"start_index\": 1735,\r\n",
      "    \"end_index\": 1748,\r\n",
      "    \"file_citation\": {\r\n",
      "      \"file_id\": \"assistant-93mnSr4UmBc6zfhnwJLoncV0\",\r\n",
      "      \"file_name\": \"\",\r\n",
      "      \"quote\": null\r\n",
      "    }\r\n",
      "  }\r\n",
      "]\r\n"
     ]
    }
   ],
   "source": [
    "Console.WriteLine(JsonSerializer.Serialize(output.Annotations, new JsonSerializerOptions() { WriteIndented = true }));"
   ]
  },
  {
   "cell_type": "markdown",
   "metadata": {},
   "source": [
    "### Formatting Output\n",
    "The current version of the API leaves some things to be desired. First, because of chunking it can cite the same source twice. Second, 'quote' is supposed to contain a snippet, but currently, it is always null"
   ]
  },
  {
   "cell_type": "code",
   "execution_count": 6,
   "metadata": {
    "dotnet_interactive": {
     "language": "csharp"
    },
    "polyglot_notebook": {
     "kernelName": "csharp"
    },
    "vscode": {
     "languageId": "polyglot-notebook"
    }
   },
   "outputs": [
    {
     "name": "stdout",
     "output_type": "stream",
     "text": [
      "assistant-v1vgOsajg7zOoaHPJaHKvA3i = McKessonMDTranscripts_Q4FY20-MCK-Corrected-Transcript.md\n",
      "assistant-LtpQtNw0yqJbx07lbEJahob9 = McKessonMDTranscripts_Q3FY21-MCK-Earnings-Call-Transcript_FINAL.md\n",
      "assistant-mLYhwg7I9ywfWQPh1xEf1IXY = McKessonMDTranscripts_MCK-Q4FY21-Transcript.md\n",
      "assistant-QaQenndgqbFTt9oZunYGcfv3 = McKessonMDTranscripts_MCK-Q1FY21-Transcript.md\n",
      "assistant-KVLQgIZo6R8UzDv01PXDkrR6 = McKessonMDTranscripts_220505-MCK-Q4FY22-Earnings-Call-Transcript.md\n",
      "assistant-fslYRzYxsqiFwPGd7Fns83se = McKessonMDTranscripts_230508-MCK-Q4FY23-Earnings-Call-Transcript.md\n",
      "assistant-93mnSr4UmBc6zfhnwJLoncV0 = McKessonMDTranscripts_220803-MCK-Q1FY23-Earnings-Call-Transcript.md\n",
      "-------------------\n"
     ]
    },
    {
     "data": {
      "text/markdown": [
       "The impact of COVID-19 on McKesson's results over time can be summarized as follows:\n",
       "\n",
       "1. **Initial Impact and Fiscal 2020**:\n",
       "   - In the fourth quarter of fiscal 2020, McKesson experienced increased demand for pharmaceuticals and personal protective equipment (PPE) due to the pandemic, resulting in approximately $2 billion of incremental revenue. This was partially offset by higher operating expenses related to frontline employee support and remote workforce needs [McKessonMDTranscripts_Q4FY20-MCK-Corrected-Transcript.md](McKessonMDTranscripts_Q4FY20-MCK-Corrected-Transcript.md) [McKessonMDTranscripts_Q4FY20-MCK-Corrected-Transcript.md](McKessonMDTranscripts_Q4FY20-MCK-Corrected-Transcript.md) [McKessonMDTranscripts_Q4FY20-MCK-Corrected-Transcript.md](McKessonMDTranscripts_Q4FY20-MCK-Corrected-Transcript.md).\n",
       "\n",
       "2. **Fiscal 2021**:\n",
       "   - Throughout fiscal 2021, McKesson navigated significant uncertainties due to COVID-19. The company saw volume declines in the early part of the fiscal year, but recovery began earlier than anticipated. The distribution of COVID-19 vaccines and ancillary supply kits contributed positively to results in the later part of the year [McKessonMDTranscripts_Q3FY21-MCK-Earnings-Call-Transcript_FINAL.md](McKessonMDTranscripts_Q3FY21-MCK-Earnings-Call-Transcript_FINAL.md) [McKessonMDTranscripts_MCK-Q4FY21-Transcript.md](McKessonMDTranscripts_MCK-Q4FY21-Transcript.md) [McKessonMDTranscripts_MCK-Q1FY21-Transcript.md](McKessonMDTranscripts_MCK-Q1FY21-Transcript.md) [McKessonMDTranscripts_MCK-Q4FY21-Transcript.md](McKessonMDTranscripts_MCK-Q4FY21-Transcript.md).\n",
       "\n",
       "3. **Fiscal 2022**:\n",
       "   - The results were influenced by the ongoing distribution of COVID-19 vaccines and tests. However, there were challenges such as a light cold and flu season and variability in COVID-19 demand, which impacted results. Despite these challenges, McKesson continued to support its customers with necessary supplies and services [McKessonMDTranscripts_220505-MCK-Q4FY22-Earnings-Call-Transcript.md](McKessonMDTranscripts_220505-MCK-Q4FY22-Earnings-Call-Transcript.md) [McKessonMDTranscripts_220505-MCK-Q4FY22-Earnings-Call-Transcript.md](McKessonMDTranscripts_220505-MCK-Q4FY22-Earnings-Call-Transcript.md) [McKessonMDTranscripts_Q3FY21-MCK-Earnings-Call-Transcript_FINAL.md](McKessonMDTranscripts_Q3FY21-MCK-Earnings-Call-Transcript_FINAL.md).\n",
       "\n",
       "4. **Fiscal 2023**:\n",
       "   - The benefit from COVID-19-related activities, including vaccine distribution and test kits, started to decline compared to the previous years. The company noted a reduction in sales of COVID-19 tests and lower contributions from government contracts for vaccine distribution. However, McKesson continued to see growth in its core businesses, including primary care and specialty products [McKessonMDTranscripts_230508-MCK-Q4FY23-Earnings-Call-Transcript.md](McKessonMDTranscripts_230508-MCK-Q4FY23-Earnings-Call-Transcript.md) [McKessonMDTranscripts_230508-MCK-Q4FY23-Earnings-Call-Transcript.md](McKessonMDTranscripts_230508-MCK-Q4FY23-Earnings-Call-Transcript.md) [McKessonMDTranscripts_220803-MCK-Q1FY23-Earnings-Call-Transcript.md](McKessonMDTranscripts_220803-MCK-Q1FY23-Earnings-Call-Transcript.md).\n",
       "\n",
       "Overall, McKesson's response to the pandemic involved adapting to fluctuating demand, supporting healthcare providers with essential supplies, and leveraging its distribution capabilities to aid in vaccine distribution. The impact of COVID-19 evolved from initial demand spikes and logistical challenges to more stable contributions from ongoing pandemic-related activities, with a gradual return to focusing on core business growth."
      ]
     },
     "metadata": {},
     "output_type": "display_data"
    }
   ],
   "source": [
    "var files = new Dictionary<string, string>();\n",
    "var annotatedMessage = output.LastMessage;\n",
    "foreach(var annotation in output.Annotations)\n",
    "{\n",
    "    // Only get the file name once per id\n",
    "    if(!files.ContainsKey(annotation.FileCitation.FileId))\n",
    "    {\n",
    "        files[annotation.FileCitation.FileId] = await annotation.GetFileName(config);\n",
    "    }\n",
    "    // But the annotation itself may be a duplicate citation to the same file, so one must process them all\n",
    "    // You can format the replacement however you like. In this case it just makes an md link\n",
    "    annotatedMessage = annotatedMessage.Replace(annotation.Text, $\" [{files[annotation.FileCitation.FileId]}]({files[annotation.FileCitation.FileId]})\");\n",
    "}\n",
    "\n",
    "foreach(var file in files)\n",
    "{\n",
    "    Console.WriteLine($\"{file.Key} = {file.Value}\");\n",
    "}\n",
    "Console.WriteLine(\"-------------------\");\n",
    "annotatedMessage.DisplayAs(\"text/markdown\");"
   ]
  },
  {
   "cell_type": "markdown",
   "metadata": {},
   "source": [
    "## Clean Up"
   ]
  },
  {
   "cell_type": "code",
   "execution_count": 7,
   "metadata": {
    "dotnet_interactive": {
     "language": "csharp"
    },
    "polyglot_notebook": {
     "kernelName": "csharp"
    },
    "vscode": {
     "languageId": "polyglot-notebook"
    }
   },
   "outputs": [
    {
     "name": "stdout",
     "output_type": "stream",
     "text": [
      "Deleted assistant\r\n"
     ]
    }
   ],
   "source": [
    "var assistant = (await client.AssistantList())?.Data?.FirstOrDefault(o => o.Name == \"McKessonMDTranscripts\");\n",
    "if(assistant != null) {\n",
    "    await client.AssistantDelete(assistant.Id);\n",
    "    Console.WriteLine(\"Deleted assistant\");\n",
    "}\n",
    "else\n",
    "{\n",
    "    Console.WriteLine(\"Didn't find MsGraphUserProfile\");\n",
    "}"
   ]
  }
 ],
 "metadata": {
  "kernelspec": {
   "display_name": ".NET (C#)",
   "language": "C#",
   "name": ".net-csharp"
  },
  "language_info": {
   "name": "python"
  },
  "polyglot_notebook": {
   "kernelInfo": {
    "defaultKernelName": "csharp",
    "items": [
     {
      "aliases": [],
      "name": "csharp"
     }
    ]
   }
  }
 },
 "nbformat": 4,
 "nbformat_minor": 2
}
