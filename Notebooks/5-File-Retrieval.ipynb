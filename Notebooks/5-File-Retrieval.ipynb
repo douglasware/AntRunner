{
 "cells": [
  {
   "cell_type": "markdown",
   "metadata": {},
   "source": [
    "## File search assistant\n",
    "The McKessonMDTranscripts demonstrates the creation and execution of an assistant using the file_search feature with a knowledge base based on earnings call transcripts downloaded from the internet.\n",
    "\n",
    "## First steps\n",
    "- First, download AntRunLib from Nuget\n",
    "- At least once, set up the environment using **[0-AI-settings](0-AI-settings.ipynb)**"
   ]
  },
  {
   "cell_type": "code",
   "execution_count": 1,
   "metadata": {
    "dotnet_interactive": {
     "language": "csharp"
    },
    "polyglot_notebook": {
     "kernelName": "csharp"
    },
    "vscode": {
     "languageId": "polyglot-notebook"
    }
   },
   "outputs": [
    {
     "data": {
      "text/html": [
       "<div><div></div><div></div><div><strong>Installed Packages</strong><ul><li><span>AntRunnerLib, 0.7.3</span></li></ul></div></div>"
      ]
     },
     "metadata": {},
     "output_type": "display_data"
    }
   ],
   "source": [
    "#r \"nuget: AntRunnerLib, 0.7.3\"\n",
    "\n",
    "using AntRunnerLib;\n",
    "using AntRunnerLib.Identity;\n",
    "using static AntRunnerLib.ClientUtility;\n",
    "using System.IO;\n",
    "\n",
    "#!import config/Settings.cs \n",
    "\n",
    "var envVariables = Settings.GetEnvironmentVariables();\n",
    "foreach (var kvp in envVariables)\n",
    "{\n",
    "    Environment.SetEnvironmentVariable(kvp.Key, kvp.Value);\n",
    "}\n",
    "\n",
    "var config = AzureOpenAiConfigFactory.Get();\n",
    "var client = GetOpenAiClient(config);\n"
   ]
  },
  {
   "cell_type": "markdown",
   "metadata": {},
   "source": [
    "## Ensure the McKessonMDTranscripts assistant exists\n",
    "The definition of this assistant is located in the \".\\AssistantDefinitions\\McKessonMDTranscripts\" folder\n",
    "\n",
    "\".\\AssistantDefinitions\\\" is a default path. You can override it by setting the **ASSISTANTS_BASE_FOLDER_PATH** environment variable.\n",
    "\n",
    "\"McKessonMDTranscripts\" contains the following files:\n",
    "```\n",
    "│   manifest.json\n",
    "│   prompt.md\n",
    "│\n",
    "└───VectorStores\n",
    "    └───McKessonMDTranscripts\n",
    "            211101-MCK-Q2FY22-Earnings-Call-Transcript.md\n",
    "            220202-MCK-Q3FY22-Earnings-Call-Transcript.md\n",
    "            220505-MCK-Q4FY22-Earnings-Call-Transcript.md\n",
    "            220803-MCK-Q1FY23-Earnings-Call-Transcript.md\n",
    "            230508-MCK-Q4FY23-Earnings-Call-Transcript.md\n",
    "            230802-MCK-Q1FY24-Earnings-Call-Transcript.md\n",
    "            231101-MCK-Q2FY24-Earnings-Call-Transcript.md\n",
    "            MCK-Q1FY21-Transcript.md\n",
    "            MCK-Q1FY22-Transcript.md\n",
    "            MCK-Q2-FY23-Earnings-Transcript.md\n",
    "            MCK-Q2FY21-Transcript.md\n",
    "            MCK-Q3-FY24-Earnings-Transcript.md\n",
    "            MCK-Q4-FY24-Earnings-Call-Transcript.md\n",
    "            MCK-Q4FY21-Transcript.md\n",
    "            MCK-US-20230201-2761065-C.md\n",
    "            Q1-FY19-Earnings-Call-Transcript.md\n",
    "            Q1-FY20-Earnings-Call-Transcript.md\n",
    "            Q2-FY19-Earnings-Call-Transcript.md\n",
    "            Q2-FY20-Earnings-Call-Transcript.md\n",
    "            Q3-FY19-Earnings-Call-Transcript.md\n",
    "            Q3FY20-MCK-Earnings-Call-Transcript.md\n",
    "            Q3FY21-MCK-Earnings-Call-Transcript_FINAL.md\n",
    "            Q4-FY19-Earnings-Call-Transcript.md\n",
    "            Q4FY20-MCK-Corrected-Transcript.md\n",
    "```\n",
    "\n",
    "### Explanation\n",
    "`AssistantUtility.Create` will create the vector store if necessary, upload the files, and then update the manifest with the vector store ID before creating the assistant."
   ]
  },
  {
   "cell_type": "code",
   "execution_count": 2,
   "metadata": {
    "dotnet_interactive": {
     "language": "csharp"
    },
    "polyglot_notebook": {
     "kernelName": "csharp"
    },
    "vscode": {
     "languageId": "polyglot-notebook"
    }
   },
   "outputs": [
    {
     "name": "stdout",
     "output_type": "stream",
     "text": [
      "asst_SqufMGVEUynBcBCb6vSlPJdB\r\n"
     ]
    }
   ],
   "source": [
    "var assistantId = await AssistantUtility.Create(\"McKessonMDTranscripts\", config);\n",
    "Console.WriteLine(assistantId)"
   ]
  },
  {
   "cell_type": "markdown",
   "metadata": {},
   "source": [
    "## Run the Assistant\n",
    "\n",
    "`output.Dialog` shows the conversation."
   ]
  },
  {
   "cell_type": "code",
   "execution_count": 3,
   "metadata": {
    "dotnet_interactive": {
     "language": "csharp"
    },
    "polyglot_notebook": {
     "kernelName": "csharp"
    },
    "vscode": {
     "languageId": "polyglot-notebook"
    }
   },
   "outputs": [
    {
     "data": {
      "text/markdown": [
       "\n",
       "User: How did covid impact results over time?\n",
       "\n",
       "Assistant: I searched my knowledge base for the answer.\n",
       "\n",
       "The impact of COVID-19 on McKesson's results over time can be summarized as follows:\n",
       "\n",
       "1. **Early Impact and Initial Response (Q4 FY20)**\n",
       "   - In the fourth quarter of fiscal 2020, McKesson experienced increased demand for pharmaceuticals as people stocked up on medications and personal protective equipment, leading to approximately $2 billion of incremental revenue【4:0†source】【4:3†source】.\n",
       "   - Adjusted gross profit was favorably impacted by approximately $65 million, offset by approximately $15 million in variable operating expenses【4:0†source】【4:3†source】.\n",
       "   - Despite the increased demand, COVID-19 had a nominal effect on fourth-quarter adjusted earnings results due to offsetting impacts【4:3†source】.\n",
       "\n",
       "2. **Challenges and Uncertainties (Q1 FY21)**\n",
       "   - The first quarter of fiscal 2021 was severely impacted by the global pandemic, with lockdowns and social distancing requirements affecting customers and patients【4:17†source】.\n",
       "   - Prescription transaction volumes and primary care patient visits were significantly lower, impacting consolidated revenues and adjusted operating profit【4:17†source】.\n",
       "   - Recovery began sooner than expected, with volumes improving in June 2020 as restrictions eased【4:17†source】.\n",
       "\n",
       "3. **Vaccine Distribution and Continued Variability (Q3 FY21)**\n",
       "   - McKesson recognized benefits from distributing COVID-19 vaccines and ancillary supply kits in the third quarter of fiscal 2021【4:12†source】【4:16†source】.\n",
       "   - The third quarter saw solid broad-based results despite the dynamic and challenging macroeconomic backdrop【4:12†source】【4:16†source】.\n",
       "   - COVID-19 cases and hospitalizations reached their highest levels, leading to some softening in recovery trends during the quarter【4:12†source】【4:16†source】.\n",
       "\n",
       "4. **Fluctuating Demand and Impact on Financial Results (Q4 FY21 and FY22)**\n",
       "   - In the fourth quarter of fiscal 2021, McKesson continued to benefit from COVID-19 vaccine distribution and kitting programs【4:4†source】【4:18†source】.\n",
       "   - The demand for COVID-19-related products and services fluctuated throughout the pandemic, with spikes in demand during periods of increased COVID-19 cases【4:6†source】.\n",
       "   - For fiscal 2022, the company experienced lower contributions from COVID-19 programs compared to the prior year, but continued to support primary care and other segments【4:6†source】【4:15†source】.\n",
       "\n",
       "5. **Declining COVID-19 Contributions and Adjustments (Q4 FY23)**\n",
       "   - In the fourth quarter of fiscal 2023, lower sales of COVID-19 tests and reduced contributions from kitting, storage, and distribution of ancillary supplies impacted results【4:2†source】【4:8†source】.\n",
       "   - Despite the reduced COVID-19-related contributions, the company saw growth in other segments, such as primary care and prescription technology solutions【4:8†source】.\n",
       "\n",
       "Overall, while COVID-19 initially led to increased demand for pharmaceuticals and personal protective equipment, the fluctuating nature of the pandemic resulted in varying impacts on McKesson's financial results over time. The company adapted to the changing environment by leveraging its distribution capabilities and supporting vaccine distribution efforts, while also navigating challenges related to lower patient visits and elective procedures【4:0†source】【4:1†source】【4:2†source】【4:4†source】【4:6†source】【4:12†source】【4:15†source】【4:17†source】【4:18†source】.\n"
      ]
     },
     "metadata": {},
     "output_type": "display_data"
    }
   ],
   "source": [
    "var assistantRunOptions = new AssistantRunOptions() {\n",
    "    AssistantName = \"McKessonMDTranscripts\",\n",
    "    Instructions = \"How did covid impact results over time?\",\n",
    "    UseConversationEvaluator = false\n",
    "};\n",
    "var output = await AntRunnerLib.AssistantRunner.RunThread(assistantRunOptions, config);\n",
    "output.Dialog.DisplayAs(\"text/markdown\");"
   ]
  },
  {
   "cell_type": "code",
   "execution_count": 4,
   "metadata": {
    "dotnet_interactive": {
     "language": "csharp"
    },
    "polyglot_notebook": {
     "kernelName": "csharp"
    },
    "vscode": {
     "languageId": "polyglot-notebook"
    }
   },
   "outputs": [
    {
     "data": {
      "text/markdown": [
       "The impact of COVID-19 on McKesson's results over time can be summarized as follows:\n",
       "\n",
       "1. **Early Impact and Initial Response (Q4 FY20)**\n",
       "   - In the fourth quarter of fiscal 2020, McKesson experienced increased demand for pharmaceuticals as people stocked up on medications and personal protective equipment, leading to approximately $2 billion of incremental revenue【4:0†source】【4:3†source】.\n",
       "   - Adjusted gross profit was favorably impacted by approximately $65 million, offset by approximately $15 million in variable operating expenses【4:0†source】【4:3†source】.\n",
       "   - Despite the increased demand, COVID-19 had a nominal effect on fourth-quarter adjusted earnings results due to offsetting impacts【4:3†source】.\n",
       "\n",
       "2. **Challenges and Uncertainties (Q1 FY21)**\n",
       "   - The first quarter of fiscal 2021 was severely impacted by the global pandemic, with lockdowns and social distancing requirements affecting customers and patients【4:17†source】.\n",
       "   - Prescription transaction volumes and primary care patient visits were significantly lower, impacting consolidated revenues and adjusted operating profit【4:17†source】.\n",
       "   - Recovery began sooner than expected, with volumes improving in June 2020 as restrictions eased【4:17†source】.\n",
       "\n",
       "3. **Vaccine Distribution and Continued Variability (Q3 FY21)**\n",
       "   - McKesson recognized benefits from distributing COVID-19 vaccines and ancillary supply kits in the third quarter of fiscal 2021【4:12†source】【4:16†source】.\n",
       "   - The third quarter saw solid broad-based results despite the dynamic and challenging macroeconomic backdrop【4:12†source】【4:16†source】.\n",
       "   - COVID-19 cases and hospitalizations reached their highest levels, leading to some softening in recovery trends during the quarter【4:12†source】【4:16†source】.\n",
       "\n",
       "4. **Fluctuating Demand and Impact on Financial Results (Q4 FY21 and FY22)**\n",
       "   - In the fourth quarter of fiscal 2021, McKesson continued to benefit from COVID-19 vaccine distribution and kitting programs【4:4†source】【4:18†source】.\n",
       "   - The demand for COVID-19-related products and services fluctuated throughout the pandemic, with spikes in demand during periods of increased COVID-19 cases【4:6†source】.\n",
       "   - For fiscal 2022, the company experienced lower contributions from COVID-19 programs compared to the prior year, but continued to support primary care and other segments【4:6†source】【4:15†source】.\n",
       "\n",
       "5. **Declining COVID-19 Contributions and Adjustments (Q4 FY23)**\n",
       "   - In the fourth quarter of fiscal 2023, lower sales of COVID-19 tests and reduced contributions from kitting, storage, and distribution of ancillary supplies impacted results【4:2†source】【4:8†source】.\n",
       "   - Despite the reduced COVID-19-related contributions, the company saw growth in other segments, such as primary care and prescription technology solutions【4:8†source】.\n",
       "\n",
       "Overall, while COVID-19 initially led to increased demand for pharmaceuticals and personal protective equipment, the fluctuating nature of the pandemic resulted in varying impacts on McKesson's financial results over time. The company adapted to the changing environment by leveraging its distribution capabilities and supporting vaccine distribution efforts, while also navigating challenges related to lower patient visits and elective procedures【4:0†source】【4:1†source】【4:2†source】【4:4†source】【4:6†source】【4:12†source】【4:15†source】【4:17†source】【4:18†source】."
      ]
     },
     "metadata": {},
     "output_type": "display_data"
    }
   ],
   "source": [
    "output.LastMessage.DisplayAs(\"text/markdown\");"
   ]
  },
  {
   "cell_type": "markdown",
   "metadata": {},
   "source": [
    "## Annotations"
   ]
  },
  {
   "cell_type": "code",
   "execution_count": 5,
   "metadata": {
    "dotnet_interactive": {
     "language": "csharp"
    },
    "polyglot_notebook": {
     "kernelName": "csharp"
    },
    "vscode": {
     "languageId": "polyglot-notebook"
    }
   },
   "outputs": [
    {
     "name": "stdout",
     "output_type": "stream",
     "text": [
      "[\r\n",
      "  {\r\n",
      "    \"type\": \"file_citation\",\r\n",
      "    \"text\": \"\\u30104:0\\u2020source\\u3011\",\r\n",
      "    \"start_index\": 367,\r\n",
      "    \"end_index\": 379,\r\n",
      "    \"file_citation\": {\r\n",
      "      \"file_id\": \"assistant-v1vgOsajg7zOoaHPJaHKvA3i\",\r\n",
      "      \"file_name\": \"\",\r\n",
      "      \"quote\": null\r\n",
      "    }\r\n",
      "  },\r\n",
      "  {\r\n",
      "    \"type\": \"file_citation\",\r\n",
      "    \"text\": \"\\u30104:3\\u2020source\\u3011\",\r\n",
      "    \"start_index\": 379,\r\n",
      "    \"end_index\": 391,\r\n",
      "    \"file_citation\": {\r\n",
      "      \"file_id\": \"assistant-v1vgOsajg7zOoaHPJaHKvA3i\",\r\n",
      "      \"file_name\": \"\",\r\n",
      "      \"quote\": null\r\n",
      "    }\r\n",
      "  },\r\n",
      "  {\r\n",
      "    \"type\": \"file_citation\",\r\n",
      "    \"text\": \"\\u30104:0\\u2020source\\u3011\",\r\n",
      "    \"start_index\": 539,\r\n",
      "    \"end_index\": 551,\r\n",
      "    \"file_citation\": {\r\n",
      "      \"file_id\": \"assistant-v1vgOsajg7zOoaHPJaHKvA3i\",\r\n",
      "      \"file_name\": \"\",\r\n",
      "      \"quote\": null\r\n",
      "    }\r\n",
      "  },\r\n",
      "  {\r\n",
      "    \"type\": \"file_citation\",\r\n",
      "    \"text\": \"\\u30104:3\\u2020source\\u3011\",\r\n",
      "    \"start_index\": 551,\r\n",
      "    \"end_index\": 563,\r\n",
      "    \"file_citation\": {\r\n",
      "      \"file_id\": \"assistant-v1vgOsajg7zOoaHPJaHKvA3i\",\r\n",
      "      \"file_name\": \"\",\r\n",
      "      \"quote\": null\r\n",
      "    }\r\n",
      "  },\r\n",
      "  {\r\n",
      "    \"type\": \"file_citation\",\r\n",
      "    \"text\": \"\\u30104:3\\u2020source\\u3011\",\r\n",
      "    \"start_index\": 699,\r\n",
      "    \"end_index\": 711,\r\n",
      "    \"file_citation\": {\r\n",
      "      \"file_id\": \"assistant-v1vgOsajg7zOoaHPJaHKvA3i\",\r\n",
      "      \"file_name\": \"\",\r\n",
      "      \"quote\": null\r\n",
      "    }\r\n",
      "  },\r\n",
      "  {\r\n",
      "    \"type\": \"file_citation\",\r\n",
      "    \"text\": \"\\u30104:17\\u2020source\\u3011\",\r\n",
      "    \"start_index\": 926,\r\n",
      "    \"end_index\": 939,\r\n",
      "    \"file_citation\": {\r\n",
      "      \"file_id\": \"assistant-QaQenndgqbFTt9oZunYGcfv3\",\r\n",
      "      \"file_name\": \"\",\r\n",
      "      \"quote\": null\r\n",
      "    }\r\n",
      "  },\r\n",
      "  {\r\n",
      "    \"type\": \"file_citation\",\r\n",
      "    \"text\": \"\\u30104:17\\u2020source\\u3011\",\r\n",
      "    \"start_index\": 1098,\r\n",
      "    \"end_index\": 1111,\r\n",
      "    \"file_citation\": {\r\n",
      "      \"file_id\": \"assistant-QaQenndgqbFTt9oZunYGcfv3\",\r\n",
      "      \"file_name\": \"\",\r\n",
      "      \"quote\": null\r\n",
      "    }\r\n",
      "  },\r\n",
      "  {\r\n",
      "    \"type\": \"file_citation\",\r\n",
      "    \"text\": \"\\u30104:17\\u2020source\\u3011\",\r\n",
      "    \"start_index\": 1212,\r\n",
      "    \"end_index\": 1225,\r\n",
      "    \"file_citation\": {\r\n",
      "      \"file_id\": \"assistant-QaQenndgqbFTt9oZunYGcfv3\",\r\n",
      "      \"file_name\": \"\",\r\n",
      "      \"quote\": null\r\n",
      "    }\r\n",
      "  },\r\n",
      "  {\r\n",
      "    \"type\": \"file_citation\",\r\n",
      "    \"text\": \"\\u30104:12\\u2020source\\u3011\",\r\n",
      "    \"start_index\": 1423,\r\n",
      "    \"end_index\": 1436,\r\n",
      "    \"file_citation\": {\r\n",
      "      \"file_id\": \"assistant-LtpQtNw0yqJbx07lbEJahob9\",\r\n",
      "      \"file_name\": \"\",\r\n",
      "      \"quote\": null\r\n",
      "    }\r\n",
      "  },\r\n",
      "  {\r\n",
      "    \"type\": \"file_citation\",\r\n",
      "    \"text\": \"\\u30104:16\\u2020source\\u3011\",\r\n",
      "    \"start_index\": 1436,\r\n",
      "    \"end_index\": 1449,\r\n",
      "    \"file_citation\": {\r\n",
      "      \"file_id\": \"assistant-LtpQtNw0yqJbx07lbEJahob9\",\r\n",
      "      \"file_name\": \"\",\r\n",
      "      \"quote\": null\r\n",
      "    }\r\n",
      "  },\r\n",
      "  {\r\n",
      "    \"type\": \"file_citation\",\r\n",
      "    \"text\": \"\\u30104:12\\u2020source\\u3011\",\r\n",
      "    \"start_index\": 1562,\r\n",
      "    \"end_index\": 1575,\r\n",
      "    \"file_citation\": {\r\n",
      "      \"file_id\": \"assistant-LtpQtNw0yqJbx07lbEJahob9\",\r\n",
      "      \"file_name\": \"\",\r\n",
      "      \"quote\": null\r\n",
      "    }\r\n",
      "  },\r\n",
      "  {\r\n",
      "    \"type\": \"file_citation\",\r\n",
      "    \"text\": \"\\u30104:16\\u2020source\\u3011\",\r\n",
      "    \"start_index\": 1575,\r\n",
      "    \"end_index\": 1588,\r\n",
      "    \"file_citation\": {\r\n",
      "      \"file_id\": \"assistant-LtpQtNw0yqJbx07lbEJahob9\",\r\n",
      "      \"file_name\": \"\",\r\n",
      "      \"quote\": null\r\n",
      "    }\r\n",
      "  },\r\n",
      "  {\r\n",
      "    \"type\": \"file_citation\",\r\n",
      "    \"text\": \"\\u30104:12\\u2020source\\u3011\",\r\n",
      "    \"start_index\": 1724,\r\n",
      "    \"end_index\": 1737,\r\n",
      "    \"file_citation\": {\r\n",
      "      \"file_id\": \"assistant-LtpQtNw0yqJbx07lbEJahob9\",\r\n",
      "      \"file_name\": \"\",\r\n",
      "      \"quote\": null\r\n",
      "    }\r\n",
      "  },\r\n",
      "  {\r\n",
      "    \"type\": \"file_citation\",\r\n",
      "    \"text\": \"\\u30104:16\\u2020source\\u3011\",\r\n",
      "    \"start_index\": 1737,\r\n",
      "    \"end_index\": 1750,\r\n",
      "    \"file_citation\": {\r\n",
      "      \"file_id\": \"assistant-LtpQtNw0yqJbx07lbEJahob9\",\r\n",
      "      \"file_name\": \"\",\r\n",
      "      \"quote\": null\r\n",
      "    }\r\n",
      "  },\r\n",
      "  {\r\n",
      "    \"type\": \"file_citation\",\r\n",
      "    \"text\": \"\\u30104:4\\u2020source\\u3011\",\r\n",
      "    \"start_index\": 1958,\r\n",
      "    \"end_index\": 1970,\r\n",
      "    \"file_citation\": {\r\n",
      "      \"file_id\": \"assistant-mLYhwg7I9ywfWQPh1xEf1IXY\",\r\n",
      "      \"file_name\": \"\",\r\n",
      "      \"quote\": null\r\n",
      "    }\r\n",
      "  },\r\n",
      "  {\r\n",
      "    \"type\": \"file_citation\",\r\n",
      "    \"text\": \"\\u30104:18\\u2020source\\u3011\",\r\n",
      "    \"start_index\": 1970,\r\n",
      "    \"end_index\": 1983,\r\n",
      "    \"file_citation\": {\r\n",
      "      \"file_id\": \"assistant-mLYhwg7I9ywfWQPh1xEf1IXY\",\r\n",
      "      \"file_name\": \"\",\r\n",
      "      \"quote\": null\r\n",
      "    }\r\n",
      "  },\r\n",
      "  {\r\n",
      "    \"type\": \"file_citation\",\r\n",
      "    \"text\": \"\\u30104:6\\u2020source\\u3011\",\r\n",
      "    \"start_index\": 2144,\r\n",
      "    \"end_index\": 2156,\r\n",
      "    \"file_citation\": {\r\n",
      "      \"file_id\": \"assistant-KVLQgIZo6R8UzDv01PXDkrR6\",\r\n",
      "      \"file_name\": \"\",\r\n",
      "      \"quote\": null\r\n",
      "    }\r\n",
      "  },\r\n",
      "  {\r\n",
      "    \"type\": \"file_citation\",\r\n",
      "    \"text\": \"\\u30104:6\\u2020source\\u3011\",\r\n",
      "    \"start_index\": 2331,\r\n",
      "    \"end_index\": 2343,\r\n",
      "    \"file_citation\": {\r\n",
      "      \"file_id\": \"assistant-KVLQgIZo6R8UzDv01PXDkrR6\",\r\n",
      "      \"file_name\": \"\",\r\n",
      "      \"quote\": null\r\n",
      "    }\r\n",
      "  },\r\n",
      "  {\r\n",
      "    \"type\": \"file_citation\",\r\n",
      "    \"text\": \"\\u30104:15\\u2020source\\u3011\",\r\n",
      "    \"start_index\": 2343,\r\n",
      "    \"end_index\": 2356,\r\n",
      "    \"file_citation\": {\r\n",
      "      \"file_id\": \"assistant-93mnSr4UmBc6zfhnwJLoncV0\",\r\n",
      "      \"file_name\": \"\",\r\n",
      "      \"quote\": null\r\n",
      "    }\r\n",
      "  },\r\n",
      "  {\r\n",
      "    \"type\": \"file_citation\",\r\n",
      "    \"text\": \"\\u30104:2\\u2020source\\u3011\",\r\n",
      "    \"start_index\": 2602,\r\n",
      "    \"end_index\": 2614,\r\n",
      "    \"file_citation\": {\r\n",
      "      \"file_id\": \"assistant-fslYRzYxsqiFwPGd7Fns83se\",\r\n",
      "      \"file_name\": \"\",\r\n",
      "      \"quote\": null\r\n",
      "    }\r\n",
      "  },\r\n",
      "  {\r\n",
      "    \"type\": \"file_citation\",\r\n",
      "    \"text\": \"\\u30104:8\\u2020source\\u3011\",\r\n",
      "    \"start_index\": 2614,\r\n",
      "    \"end_index\": 2626,\r\n",
      "    \"file_citation\": {\r\n",
      "      \"file_id\": \"assistant-fslYRzYxsqiFwPGd7Fns83se\",\r\n",
      "      \"file_name\": \"\",\r\n",
      "      \"quote\": null\r\n",
      "    }\r\n",
      "  },\r\n",
      "  {\r\n",
      "    \"type\": \"file_citation\",\r\n",
      "    \"text\": \"\\u30104:8\\u2020source\\u3011\",\r\n",
      "    \"start_index\": 2785,\r\n",
      "    \"end_index\": 2797,\r\n",
      "    \"file_citation\": {\r\n",
      "      \"file_id\": \"assistant-fslYRzYxsqiFwPGd7Fns83se\",\r\n",
      "      \"file_name\": \"\",\r\n",
      "      \"quote\": null\r\n",
      "    }\r\n",
      "  },\r\n",
      "  {\r\n",
      "    \"type\": \"file_citation\",\r\n",
      "    \"text\": \"\\u30104:0\\u2020source\\u3011\",\r\n",
      "    \"start_index\": 3248,\r\n",
      "    \"end_index\": 3260,\r\n",
      "    \"file_citation\": {\r\n",
      "      \"file_id\": \"assistant-v1vgOsajg7zOoaHPJaHKvA3i\",\r\n",
      "      \"file_name\": \"\",\r\n",
      "      \"quote\": null\r\n",
      "    }\r\n",
      "  },\r\n",
      "  {\r\n",
      "    \"type\": \"file_citation\",\r\n",
      "    \"text\": \"\\u30104:1\\u2020source\\u3011\",\r\n",
      "    \"start_index\": 3260,\r\n",
      "    \"end_index\": 3272,\r\n",
      "    \"file_citation\": {\r\n",
      "      \"file_id\": \"assistant-LtpQtNw0yqJbx07lbEJahob9\",\r\n",
      "      \"file_name\": \"\",\r\n",
      "      \"quote\": null\r\n",
      "    }\r\n",
      "  },\r\n",
      "  {\r\n",
      "    \"type\": \"file_citation\",\r\n",
      "    \"text\": \"\\u30104:2\\u2020source\\u3011\",\r\n",
      "    \"start_index\": 3272,\r\n",
      "    \"end_index\": 3284,\r\n",
      "    \"file_citation\": {\r\n",
      "      \"file_id\": \"assistant-fslYRzYxsqiFwPGd7Fns83se\",\r\n",
      "      \"file_name\": \"\",\r\n",
      "      \"quote\": null\r\n",
      "    }\r\n",
      "  },\r\n",
      "  {\r\n",
      "    \"type\": \"file_citation\",\r\n",
      "    \"text\": \"\\u30104:4\\u2020source\\u3011\",\r\n",
      "    \"start_index\": 3284,\r\n",
      "    \"end_index\": 3296,\r\n",
      "    \"file_citation\": {\r\n",
      "      \"file_id\": \"assistant-mLYhwg7I9ywfWQPh1xEf1IXY\",\r\n",
      "      \"file_name\": \"\",\r\n",
      "      \"quote\": null\r\n",
      "    }\r\n",
      "  },\r\n",
      "  {\r\n",
      "    \"type\": \"file_citation\",\r\n",
      "    \"text\": \"\\u30104:6\\u2020source\\u3011\",\r\n",
      "    \"start_index\": 3296,\r\n",
      "    \"end_index\": 3308,\r\n",
      "    \"file_citation\": {\r\n",
      "      \"file_id\": \"assistant-KVLQgIZo6R8UzDv01PXDkrR6\",\r\n",
      "      \"file_name\": \"\",\r\n",
      "      \"quote\": null\r\n",
      "    }\r\n",
      "  },\r\n",
      "  {\r\n",
      "    \"type\": \"file_citation\",\r\n",
      "    \"text\": \"\\u30104:12\\u2020source\\u3011\",\r\n",
      "    \"start_index\": 3308,\r\n",
      "    \"end_index\": 3321,\r\n",
      "    \"file_citation\": {\r\n",
      "      \"file_id\": \"assistant-LtpQtNw0yqJbx07lbEJahob9\",\r\n",
      "      \"file_name\": \"\",\r\n",
      "      \"quote\": null\r\n",
      "    }\r\n",
      "  },\r\n",
      "  {\r\n",
      "    \"type\": \"file_citation\",\r\n",
      "    \"text\": \"\\u30104:15\\u2020source\\u3011\",\r\n",
      "    \"start_index\": 3321,\r\n",
      "    \"end_index\": 3334,\r\n",
      "    \"file_citation\": {\r\n",
      "      \"file_id\": \"assistant-93mnSr4UmBc6zfhnwJLoncV0\",\r\n",
      "      \"file_name\": \"\",\r\n",
      "      \"quote\": null\r\n",
      "    }\r\n",
      "  },\r\n",
      "  {\r\n",
      "    \"type\": \"file_citation\",\r\n",
      "    \"text\": \"\\u30104:17\\u2020source\\u3011\",\r\n",
      "    \"start_index\": 3334,\r\n",
      "    \"end_index\": 3347,\r\n",
      "    \"file_citation\": {\r\n",
      "      \"file_id\": \"assistant-QaQenndgqbFTt9oZunYGcfv3\",\r\n",
      "      \"file_name\": \"\",\r\n",
      "      \"quote\": null\r\n",
      "    }\r\n",
      "  },\r\n",
      "  {\r\n",
      "    \"type\": \"file_citation\",\r\n",
      "    \"text\": \"\\u30104:18\\u2020source\\u3011\",\r\n",
      "    \"start_index\": 3347,\r\n",
      "    \"end_index\": 3360,\r\n",
      "    \"file_citation\": {\r\n",
      "      \"file_id\": \"assistant-mLYhwg7I9ywfWQPh1xEf1IXY\",\r\n",
      "      \"file_name\": \"\",\r\n",
      "      \"quote\": null\r\n",
      "    }\r\n",
      "  }\r\n",
      "]\r\n"
     ]
    }
   ],
   "source": [
    "Console.WriteLine(JsonSerializer.Serialize(output.Annotations, new JsonSerializerOptions() { WriteIndented = true }));"
   ]
  },
  {
   "cell_type": "markdown",
   "metadata": {},
   "source": [
    "### Formatting Output\n",
    "The current version of the API leaves some things to be desired. First, because of chunking it can cite the same source twice. Second, 'quote' is supposed to contain a snippet, but currently, it is always null"
   ]
  },
  {
   "cell_type": "code",
   "execution_count": 8,
   "metadata": {
    "dotnet_interactive": {
     "language": "csharp"
    },
    "polyglot_notebook": {
     "kernelName": "csharp"
    },
    "vscode": {
     "languageId": "polyglot-notebook"
    }
   },
   "outputs": [
    {
     "name": "stdout",
     "output_type": "stream",
     "text": [
      "assistant-v1vgOsajg7zOoaHPJaHKvA3i = McKessonMDTranscripts_Q4FY20-MCK-Corrected-Transcript.md\n",
      "assistant-QaQenndgqbFTt9oZunYGcfv3 = McKessonMDTranscripts_MCK-Q1FY21-Transcript.md\n",
      "assistant-LtpQtNw0yqJbx07lbEJahob9 = McKessonMDTranscripts_Q3FY21-MCK-Earnings-Call-Transcript_FINAL.md\n",
      "assistant-mLYhwg7I9ywfWQPh1xEf1IXY = McKessonMDTranscripts_MCK-Q4FY21-Transcript.md\n",
      "assistant-KVLQgIZo6R8UzDv01PXDkrR6 = McKessonMDTranscripts_220505-MCK-Q4FY22-Earnings-Call-Transcript.md\n",
      "assistant-93mnSr4UmBc6zfhnwJLoncV0 = McKessonMDTranscripts_220803-MCK-Q1FY23-Earnings-Call-Transcript.md\n",
      "assistant-fslYRzYxsqiFwPGd7Fns83se = McKessonMDTranscripts_230508-MCK-Q4FY23-Earnings-Call-Transcript.md\n",
      "-------------------\n"
     ]
    },
    {
     "data": {
      "text/markdown": [
       "The impact of COVID-19 on McKesson's results over time can be summarized as follows:\n",
       "\n",
       "1. **Early Impact and Initial Response (Q4 FY20)**\n",
       "   - In the fourth quarter of fiscal 2020, McKesson experienced increased demand for pharmaceuticals as people stocked up on medications and personal protective equipment, leading to approximately $2 billion of incremental revenue [McKessonMDTranscripts_Q4FY20-MCK-Corrected-Transcript.md](McKessonMDTranscripts_Q4FY20-MCK-Corrected-Transcript.md) [McKessonMDTranscripts_Q4FY20-MCK-Corrected-Transcript.md](McKessonMDTranscripts_Q4FY20-MCK-Corrected-Transcript.md).\n",
       "   - Adjusted gross profit was favorably impacted by approximately $65 million, offset by approximately $15 million in variable operating expenses [McKessonMDTranscripts_Q4FY20-MCK-Corrected-Transcript.md](McKessonMDTranscripts_Q4FY20-MCK-Corrected-Transcript.md) [McKessonMDTranscripts_Q4FY20-MCK-Corrected-Transcript.md](McKessonMDTranscripts_Q4FY20-MCK-Corrected-Transcript.md).\n",
       "   - Despite the increased demand, COVID-19 had a nominal effect on fourth-quarter adjusted earnings results due to offsetting impacts [McKessonMDTranscripts_Q4FY20-MCK-Corrected-Transcript.md](McKessonMDTranscripts_Q4FY20-MCK-Corrected-Transcript.md).\n",
       "\n",
       "2. **Challenges and Uncertainties (Q1 FY21)**\n",
       "   - The first quarter of fiscal 2021 was severely impacted by the global pandemic, with lockdowns and social distancing requirements affecting customers and patients [McKessonMDTranscripts_MCK-Q1FY21-Transcript.md](McKessonMDTranscripts_MCK-Q1FY21-Transcript.md).\n",
       "   - Prescription transaction volumes and primary care patient visits were significantly lower, impacting consolidated revenues and adjusted operating profit [McKessonMDTranscripts_MCK-Q1FY21-Transcript.md](McKessonMDTranscripts_MCK-Q1FY21-Transcript.md).\n",
       "   - Recovery began sooner than expected, with volumes improving in June 2020 as restrictions eased [McKessonMDTranscripts_MCK-Q1FY21-Transcript.md](McKessonMDTranscripts_MCK-Q1FY21-Transcript.md).\n",
       "\n",
       "3. **Vaccine Distribution and Continued Variability (Q3 FY21)**\n",
       "   - McKesson recognized benefits from distributing COVID-19 vaccines and ancillary supply kits in the third quarter of fiscal 2021 [McKessonMDTranscripts_Q3FY21-MCK-Earnings-Call-Transcript_FINAL.md](McKessonMDTranscripts_Q3FY21-MCK-Earnings-Call-Transcript_FINAL.md) [McKessonMDTranscripts_Q3FY21-MCK-Earnings-Call-Transcript_FINAL.md](McKessonMDTranscripts_Q3FY21-MCK-Earnings-Call-Transcript_FINAL.md).\n",
       "   - The third quarter saw solid broad-based results despite the dynamic and challenging macroeconomic backdrop [McKessonMDTranscripts_Q3FY21-MCK-Earnings-Call-Transcript_FINAL.md](McKessonMDTranscripts_Q3FY21-MCK-Earnings-Call-Transcript_FINAL.md) [McKessonMDTranscripts_Q3FY21-MCK-Earnings-Call-Transcript_FINAL.md](McKessonMDTranscripts_Q3FY21-MCK-Earnings-Call-Transcript_FINAL.md).\n",
       "   - COVID-19 cases and hospitalizations reached their highest levels, leading to some softening in recovery trends during the quarter [McKessonMDTranscripts_Q3FY21-MCK-Earnings-Call-Transcript_FINAL.md](McKessonMDTranscripts_Q3FY21-MCK-Earnings-Call-Transcript_FINAL.md) [McKessonMDTranscripts_Q3FY21-MCK-Earnings-Call-Transcript_FINAL.md](McKessonMDTranscripts_Q3FY21-MCK-Earnings-Call-Transcript_FINAL.md).\n",
       "\n",
       "4. **Fluctuating Demand and Impact on Financial Results (Q4 FY21 and FY22)**\n",
       "   - In the fourth quarter of fiscal 2021, McKesson continued to benefit from COVID-19 vaccine distribution and kitting programs [McKessonMDTranscripts_MCK-Q4FY21-Transcript.md](McKessonMDTranscripts_MCK-Q4FY21-Transcript.md) [McKessonMDTranscripts_MCK-Q4FY21-Transcript.md](McKessonMDTranscripts_MCK-Q4FY21-Transcript.md).\n",
       "   - The demand for COVID-19-related products and services fluctuated throughout the pandemic, with spikes in demand during periods of increased COVID-19 cases [McKessonMDTranscripts_220505-MCK-Q4FY22-Earnings-Call-Transcript.md](McKessonMDTranscripts_220505-MCK-Q4FY22-Earnings-Call-Transcript.md).\n",
       "   - For fiscal 2022, the company experienced lower contributions from COVID-19 programs compared to the prior year, but continued to support primary care and other segments [McKessonMDTranscripts_220505-MCK-Q4FY22-Earnings-Call-Transcript.md](McKessonMDTranscripts_220505-MCK-Q4FY22-Earnings-Call-Transcript.md) [McKessonMDTranscripts_220803-MCK-Q1FY23-Earnings-Call-Transcript.md](McKessonMDTranscripts_220803-MCK-Q1FY23-Earnings-Call-Transcript.md).\n",
       "\n",
       "5. **Declining COVID-19 Contributions and Adjustments (Q4 FY23)**\n",
       "   - In the fourth quarter of fiscal 2023, lower sales of COVID-19 tests and reduced contributions from kitting, storage, and distribution of ancillary supplies impacted results [McKessonMDTranscripts_230508-MCK-Q4FY23-Earnings-Call-Transcript.md](McKessonMDTranscripts_230508-MCK-Q4FY23-Earnings-Call-Transcript.md) [McKessonMDTranscripts_230508-MCK-Q4FY23-Earnings-Call-Transcript.md](McKessonMDTranscripts_230508-MCK-Q4FY23-Earnings-Call-Transcript.md).\n",
       "   - Despite the reduced COVID-19-related contributions, the company saw growth in other segments, such as primary care and prescription technology solutions [McKessonMDTranscripts_230508-MCK-Q4FY23-Earnings-Call-Transcript.md](McKessonMDTranscripts_230508-MCK-Q4FY23-Earnings-Call-Transcript.md).\n",
       "\n",
       "Overall, while COVID-19 initially led to increased demand for pharmaceuticals and personal protective equipment, the fluctuating nature of the pandemic resulted in varying impacts on McKesson's financial results over time. The company adapted to the changing environment by leveraging its distribution capabilities and supporting vaccine distribution efforts, while also navigating challenges related to lower patient visits and elective procedures [McKessonMDTranscripts_Q4FY20-MCK-Corrected-Transcript.md](McKessonMDTranscripts_Q4FY20-MCK-Corrected-Transcript.md) [McKessonMDTranscripts_Q3FY21-MCK-Earnings-Call-Transcript_FINAL.md](McKessonMDTranscripts_Q3FY21-MCK-Earnings-Call-Transcript_FINAL.md) [McKessonMDTranscripts_230508-MCK-Q4FY23-Earnings-Call-Transcript.md](McKessonMDTranscripts_230508-MCK-Q4FY23-Earnings-Call-Transcript.md) [McKessonMDTranscripts_MCK-Q4FY21-Transcript.md](McKessonMDTranscripts_MCK-Q4FY21-Transcript.md) [McKessonMDTranscripts_220505-MCK-Q4FY22-Earnings-Call-Transcript.md](McKessonMDTranscripts_220505-MCK-Q4FY22-Earnings-Call-Transcript.md) [McKessonMDTranscripts_Q3FY21-MCK-Earnings-Call-Transcript_FINAL.md](McKessonMDTranscripts_Q3FY21-MCK-Earnings-Call-Transcript_FINAL.md) [McKessonMDTranscripts_220803-MCK-Q1FY23-Earnings-Call-Transcript.md](McKessonMDTranscripts_220803-MCK-Q1FY23-Earnings-Call-Transcript.md) [McKessonMDTranscripts_MCK-Q1FY21-Transcript.md](McKessonMDTranscripts_MCK-Q1FY21-Transcript.md) [McKessonMDTranscripts_MCK-Q4FY21-Transcript.md](McKessonMDTranscripts_MCK-Q4FY21-Transcript.md)."
      ]
     },
     "metadata": {},
     "output_type": "display_data"
    }
   ],
   "source": [
    "var files = new Dictionary<string, string>();\n",
    "var annotatedMessage = output.LastMessage;\n",
    "foreach(var annotation in output.Annotations)\n",
    "{\n",
    "    // Only get the file name once per id\n",
    "    if(!files.ContainsKey(annotation.FileCitation.FileId))\n",
    "    {\n",
    "        files[annotation.FileCitation.FileId] = await annotation.GetFileName(config);\n",
    "    }\n",
    "    // But the annotation itself may be a duplicate citation to the same file, so one must process them all\n",
    "    // You can format the replacement however you like. In this case it just makes an md link\n",
    "    annotatedMessage = annotatedMessage.Replace(annotation.Text, $\" [{files[annotation.FileCitation.FileId]}]({files[annotation.FileCitation.FileId]})\");\n",
    "}\n",
    "\n",
    "foreach(var file in files)\n",
    "{\n",
    "    Console.WriteLine($\"{file.Key} = {file.Value}\");\n",
    "}\n",
    "Console.WriteLine(\"-------------------\");\n",
    "annotatedMessage.DisplayAs(\"text/markdown\");"
   ]
  },
  {
   "cell_type": "markdown",
   "metadata": {},
   "source": [
    "## Clean Up"
   ]
  },
  {
   "cell_type": "code",
   "execution_count": 16,
   "metadata": {
    "dotnet_interactive": {
     "language": "csharp"
    },
    "polyglot_notebook": {
     "kernelName": "csharp"
    },
    "vscode": {
     "languageId": "polyglot-notebook"
    }
   },
   "outputs": [
    {
     "name": "stdout",
     "output_type": "stream",
     "text": [
      "Deleted assistant\r\n"
     ]
    }
   ],
   "source": [
    "var assistant = (await client.AssistantList())?.Data?.FirstOrDefault(o => o.Name == \"McKessonMDTranscripts\");\n",
    "if(assistant != null) {\n",
    "    await client.AssistantDelete(assistant.Id);\n",
    "    Console.WriteLine(\"Deleted assistant\");\n",
    "}\n",
    "else\n",
    "{\n",
    "    Console.WriteLine(\"Didn't find MsGraphUserProfile\");\n",
    "}"
   ]
  }
 ],
 "metadata": {
  "kernelspec": {
   "display_name": ".NET (C#)",
   "language": "C#",
   "name": ".net-csharp"
  },
  "language_info": {
   "name": "python"
  },
  "polyglot_notebook": {
   "kernelInfo": {
    "defaultKernelName": "csharp",
    "items": [
     {
      "aliases": [],
      "name": "csharp"
     }
    ]
   }
  }
 },
 "nbformat": 4,
 "nbformat_minor": 2
}
