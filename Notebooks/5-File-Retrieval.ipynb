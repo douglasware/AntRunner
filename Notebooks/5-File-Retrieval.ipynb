{
 "cells": [
  {
   "cell_type": "markdown",
   "metadata": {},
   "source": [
    "## File search assistant\n",
    "The McKessonMDTranscripts demonstrates the creation and execution of an assistant using the file_search feature with a knowledge base based on earnings call transcripts downloaded from the internet.\n",
    "\n",
    "## First steps\n",
    "- First, download AntRunLib from Nuget\n",
    "- At least once, set up the environment using **[0-AI-settings](0-AI-settings.ipynb)**"
   ]
  },
  {
   "cell_type": "code",
   "execution_count": 6,
   "metadata": {
    "dotnet_interactive": {
     "language": "csharp"
    },
    "polyglot_notebook": {
     "kernelName": "csharp"
    },
    "vscode": {
     "languageId": "polyglot-notebook"
    }
   },
   "outputs": [
    {
     "data": {
      "text/html": [
       "<div><div></div><div></div><div><strong>Installed Packages</strong><ul><li><span>AntRunnerLib, 0.7.11</span></li></ul></div></div>"
      ]
     },
     "metadata": {},
     "output_type": "display_data"
    }
   ],
   "source": [
    "#r \"nuget: AntRunnerLib, 0.7.11\"\n",
    "\n",
    "using AntRunnerLib;\n",
    "using AntRunnerLib.Identity;\n",
    "using static AntRunnerLib.ClientUtility;\n",
    "using System.IO;\n",
    "\n",
    "#!import config/Settings.cs \n",
    "\n",
    "var envVariables = Settings.GetEnvironmentVariables();\n",
    "foreach (var kvp in envVariables)\n",
    "{\n",
    "    Environment.SetEnvironmentVariable(kvp.Key, kvp.Value);\n",
    "}\n",
    "\n",
    "var config = AzureOpenAiConfigFactory.Get();\n",
    "var client = GetOpenAiClient(config);\n"
   ]
  },
  {
   "cell_type": "markdown",
   "metadata": {},
   "source": [
    "## Ensure the McKessonMDTranscripts assistant exists\n",
    "The definition of this assistant is located in the \".\\AssistantDefinitions\\McKessonMDTranscripts\" folder\n",
    "\n",
    "\".\\AssistantDefinitions\\\" is a default path. You can override it by setting the **ASSISTANTS_BASE_FOLDER_PATH** environment variable.\n",
    "\n",
    "\"McKessonMDTranscripts\" contains the following files:\n",
    "```\n",
    "│   manifest.json\n",
    "│   prompt.md\n",
    "│\n",
    "└───VectorStores\n",
    "    └───McKessonMDTranscripts\n",
    "            211101-MCK-Q2FY22-Earnings-Call-Transcript.md\n",
    "            220202-MCK-Q3FY22-Earnings-Call-Transcript.md\n",
    "            220505-MCK-Q4FY22-Earnings-Call-Transcript.md\n",
    "            220803-MCK-Q1FY23-Earnings-Call-Transcript.md\n",
    "            230508-MCK-Q4FY23-Earnings-Call-Transcript.md\n",
    "            230802-MCK-Q1FY24-Earnings-Call-Transcript.md\n",
    "            231101-MCK-Q2FY24-Earnings-Call-Transcript.md\n",
    "            MCK-Q1FY21-Transcript.md\n",
    "            MCK-Q1FY22-Transcript.md\n",
    "            MCK-Q2-FY23-Earnings-Transcript.md\n",
    "            MCK-Q2FY21-Transcript.md\n",
    "            MCK-Q3-FY24-Earnings-Transcript.md\n",
    "            MCK-Q4-FY24-Earnings-Call-Transcript.md\n",
    "            MCK-Q4FY21-Transcript.md\n",
    "            MCK-US-20230201-2761065-C.md\n",
    "            Q1-FY19-Earnings-Call-Transcript.md\n",
    "            Q1-FY20-Earnings-Call-Transcript.md\n",
    "            Q2-FY19-Earnings-Call-Transcript.md\n",
    "            Q2-FY20-Earnings-Call-Transcript.md\n",
    "            Q3-FY19-Earnings-Call-Transcript.md\n",
    "            Q3FY20-MCK-Earnings-Call-Transcript.md\n",
    "            Q3FY21-MCK-Earnings-Call-Transcript_FINAL.md\n",
    "            Q4-FY19-Earnings-Call-Transcript.md\n",
    "            Q4FY20-MCK-Corrected-Transcript.md\n",
    "```\n",
    "\n",
    "### Explanation\n",
    "`AssistantUtility.Create` will create the vector store if necessary, upload the files, and then update the manifest with the vector store ID before creating the assistant."
   ]
  },
  {
   "cell_type": "code",
   "execution_count": 7,
   "metadata": {
    "dotnet_interactive": {
     "language": "csharp"
    },
    "polyglot_notebook": {
     "kernelName": "csharp"
    },
    "vscode": {
     "languageId": "polyglot-notebook"
    }
   },
   "outputs": [
    {
     "name": "stdout",
     "output_type": "stream",
     "text": [
      "asst_N88ilPklyMFpVEbG2cMnlWBU\r\n"
     ]
    }
   ],
   "source": [
    "var assistantId = await AssistantUtility.Create(\"McKessonMDTranscripts\", config);\n",
    "Console.WriteLine(assistantId)"
   ]
  },
  {
   "cell_type": "markdown",
   "metadata": {},
   "source": [
    "## Run the Assistant\n",
    "\n",
    "`output.Dialog` shows the conversation."
   ]
  },
  {
   "cell_type": "code",
   "execution_count": 8,
   "metadata": {
    "dotnet_interactive": {
     "language": "csharp"
    },
    "polyglot_notebook": {
     "kernelName": "csharp"
    },
    "vscode": {
     "languageId": "polyglot-notebook"
    }
   },
   "outputs": [
    {
     "data": {
      "text/markdown": [
       "\n",
       "User: How did covid impact results over time?\n",
       "\n",
       "Assistant: I searched my knowledge base for the answer.\n",
       "\n",
       "The COVID-19 pandemic significantly impacted McKesson's results over time. Here are the key points illustrating the impact:\n",
       "\n",
       "1. **Initial Impact and Revenue Increases**:\n",
       "   - At the onset of the pandemic, McKesson saw increased demand for pharmaceuticals and personal protective equipment (PPE) as people stocked up on medications and supplies. This led to an estimated $2 billion of incremental revenue in Q4 FY20【4:1†source】【4:13†source】.\n",
       "\n",
       "2. **Fluctuating Demand and Volume Declines**:\n",
       "   - In FY21, McKesson experienced volume declines initially due to the impact of COVID-19 but saw improvements as the year progressed. The company's fiscal fourth quarter saw continued volatility from COVID-19, a weak cold and flu season, and a winter storm that impacted parts of the U.S. Pharmaceutical business【4:4†source】.\n",
       "\n",
       "3. **Vaccine Distribution and Testing**:\n",
       "   - The distribution of COVID-19 vaccines and related supplies provided substantial benefits. For example, in Q4 FY21, McKesson recognized benefits from distributing COVID-19 vaccines and ancillary supply kits【4:4†source】【4:10†source】.\n",
       "   - However, as the pandemic evolved, the demand for COVID-19-related products and services fluctuated. In FY22, McKesson noted a 60% increase in COVID-19 test demand in January due to the Omicron variant, followed by a significant decline in February and March【4:5†source】.\n",
       "\n",
       "4. **Profit and Earnings Impact**:\n",
       "   - The impact of COVID-19 on earnings varied over time. In Q4 FY20, the pandemic had a nominal effect on adjusted earnings as increased revenue was offset by higher operating expenses, such as investments in frontline employees and remote workforce support【4:13†source】.\n",
       "   - In Q4 FY21, adjusted earnings per diluted share increased by 18% compared to the prior year, driven by contributions from COVID-19 vaccine distribution programs【4:4†source】【4:10†source】.\n",
       "\n",
       "5. **Reduced Contribution from COVID-19 Programs**:\n",
       "   - By FY23, the contribution from COVID-19 programs had decreased. For instance, the Medical-Surgical Solutions segment saw lower sales of COVID-19 tests and a reduced contribution from kitting, storage, and distribution of ancillary supplies compared to the prior year【4:7†source】.\n",
       "\n",
       "Overall, McKesson's financial performance during the pandemic was marked by initial revenue boosts from increased demand for pharmaceuticals and PPE, followed by fluctuating demand for COVID-19-related products and services, and eventually a reduction in contributions from these programs as the pandemic's impact evolved.\n"
      ]
     },
     "metadata": {},
     "output_type": "display_data"
    }
   ],
   "source": [
    "var assistantRunOptions = new AssistantRunOptions() {\n",
    "    AssistantName = \"McKessonMDTranscripts\",\n",
    "    Instructions = \"How did covid impact results over time?\",\n",
    "    UseConversationEvaluator = false\n",
    "};\n",
    "var output = await AntRunnerLib.AssistantRunner.RunThread(assistantRunOptions, config);\n",
    "output.Dialog.DisplayAs(\"text/markdown\");"
   ]
  },
  {
   "cell_type": "code",
   "execution_count": 9,
   "metadata": {
    "dotnet_interactive": {
     "language": "csharp"
    },
    "polyglot_notebook": {
     "kernelName": "csharp"
    },
    "vscode": {
     "languageId": "polyglot-notebook"
    }
   },
   "outputs": [
    {
     "data": {
      "text/markdown": [
       "The COVID-19 pandemic significantly impacted McKesson's results over time. Here are the key points illustrating the impact:\n",
       "\n",
       "1. **Initial Impact and Revenue Increases**:\n",
       "   - At the onset of the pandemic, McKesson saw increased demand for pharmaceuticals and personal protective equipment (PPE) as people stocked up on medications and supplies. This led to an estimated $2 billion of incremental revenue in Q4 FY20【4:1†source】【4:13†source】.\n",
       "\n",
       "2. **Fluctuating Demand and Volume Declines**:\n",
       "   - In FY21, McKesson experienced volume declines initially due to the impact of COVID-19 but saw improvements as the year progressed. The company's fiscal fourth quarter saw continued volatility from COVID-19, a weak cold and flu season, and a winter storm that impacted parts of the U.S. Pharmaceutical business【4:4†source】.\n",
       "\n",
       "3. **Vaccine Distribution and Testing**:\n",
       "   - The distribution of COVID-19 vaccines and related supplies provided substantial benefits. For example, in Q4 FY21, McKesson recognized benefits from distributing COVID-19 vaccines and ancillary supply kits【4:4†source】【4:10†source】.\n",
       "   - However, as the pandemic evolved, the demand for COVID-19-related products and services fluctuated. In FY22, McKesson noted a 60% increase in COVID-19 test demand in January due to the Omicron variant, followed by a significant decline in February and March【4:5†source】.\n",
       "\n",
       "4. **Profit and Earnings Impact**:\n",
       "   - The impact of COVID-19 on earnings varied over time. In Q4 FY20, the pandemic had a nominal effect on adjusted earnings as increased revenue was offset by higher operating expenses, such as investments in frontline employees and remote workforce support【4:13†source】.\n",
       "   - In Q4 FY21, adjusted earnings per diluted share increased by 18% compared to the prior year, driven by contributions from COVID-19 vaccine distribution programs【4:4†source】【4:10†source】.\n",
       "\n",
       "5. **Reduced Contribution from COVID-19 Programs**:\n",
       "   - By FY23, the contribution from COVID-19 programs had decreased. For instance, the Medical-Surgical Solutions segment saw lower sales of COVID-19 tests and a reduced contribution from kitting, storage, and distribution of ancillary supplies compared to the prior year【4:7†source】.\n",
       "\n",
       "Overall, McKesson's financial performance during the pandemic was marked by initial revenue boosts from increased demand for pharmaceuticals and PPE, followed by fluctuating demand for COVID-19-related products and services, and eventually a reduction in contributions from these programs as the pandemic's impact evolved."
      ]
     },
     "metadata": {},
     "output_type": "display_data"
    }
   ],
   "source": [
    "output.LastMessage.DisplayAs(\"text/markdown\");"
   ]
  },
  {
   "cell_type": "markdown",
   "metadata": {},
   "source": [
    "## Annotations"
   ]
  },
  {
   "cell_type": "code",
   "execution_count": 10,
   "metadata": {
    "dotnet_interactive": {
     "language": "csharp"
    },
    "polyglot_notebook": {
     "kernelName": "csharp"
    },
    "vscode": {
     "languageId": "polyglot-notebook"
    }
   },
   "outputs": [
    {
     "name": "stdout",
     "output_type": "stream",
     "text": [
      "[\r\n",
      "  {\r\n",
      "    \"type\": \"file_citation\",\r\n",
      "    \"text\": \"\\u30104:1\\u2020source\\u3011\",\r\n",
      "    \"start_index\": 414,\r\n",
      "    \"end_index\": 426,\r\n",
      "    \"file_citation\": {\r\n",
      "      \"file_id\": \"assistant-v1vgOsajg7zOoaHPJaHKvA3i\",\r\n",
      "      \"file_name\": \"\",\r\n",
      "      \"quote\": null\r\n",
      "    }\r\n",
      "  },\r\n",
      "  {\r\n",
      "    \"type\": \"file_citation\",\r\n",
      "    \"text\": \"\\u30104:13\\u2020source\\u3011\",\r\n",
      "    \"start_index\": 426,\r\n",
      "    \"end_index\": 439,\r\n",
      "    \"file_citation\": {\r\n",
      "      \"file_id\": \"assistant-v1vgOsajg7zOoaHPJaHKvA3i\",\r\n",
      "      \"file_name\": \"\",\r\n",
      "      \"quote\": null\r\n",
      "    }\r\n",
      "  },\r\n",
      "  {\r\n",
      "    \"type\": \"file_citation\",\r\n",
      "    \"text\": \"\\u30104:4\\u2020source\\u3011\",\r\n",
      "    \"start_index\": 803,\r\n",
      "    \"end_index\": 815,\r\n",
      "    \"file_citation\": {\r\n",
      "      \"file_id\": \"assistant-mLYhwg7I9ywfWQPh1xEf1IXY\",\r\n",
      "      \"file_name\": \"\",\r\n",
      "      \"quote\": null\r\n",
      "    }\r\n",
      "  },\r\n",
      "  {\r\n",
      "    \"type\": \"file_citation\",\r\n",
      "    \"text\": \"\\u30104:4\\u2020source\\u3011\",\r\n",
      "    \"start_index\": 1069,\r\n",
      "    \"end_index\": 1081,\r\n",
      "    \"file_citation\": {\r\n",
      "      \"file_id\": \"assistant-mLYhwg7I9ywfWQPh1xEf1IXY\",\r\n",
      "      \"file_name\": \"\",\r\n",
      "      \"quote\": null\r\n",
      "    }\r\n",
      "  },\r\n",
      "  {\r\n",
      "    \"type\": \"file_citation\",\r\n",
      "    \"text\": \"\\u30104:10\\u2020source\\u3011\",\r\n",
      "    \"start_index\": 1081,\r\n",
      "    \"end_index\": 1094,\r\n",
      "    \"file_citation\": {\r\n",
      "      \"file_id\": \"assistant-mLYhwg7I9ywfWQPh1xEf1IXY\",\r\n",
      "      \"file_name\": \"\",\r\n",
      "      \"quote\": null\r\n",
      "    }\r\n",
      "  },\r\n",
      "  {\r\n",
      "    \"type\": \"file_citation\",\r\n",
      "    \"text\": \"\\u30104:5\\u2020source\\u3011\",\r\n",
      "    \"start_index\": 1358,\r\n",
      "    \"end_index\": 1370,\r\n",
      "    \"file_citation\": {\r\n",
      "      \"file_id\": \"assistant-KVLQgIZo6R8UzDv01PXDkrR6\",\r\n",
      "      \"file_name\": \"\",\r\n",
      "      \"quote\": null\r\n",
      "    }\r\n",
      "  },\r\n",
      "  {\r\n",
      "    \"type\": \"file_citation\",\r\n",
      "    \"text\": \"\\u30104:13\\u2020source\\u3011\",\r\n",
      "    \"start_index\": 1666,\r\n",
      "    \"end_index\": 1679,\r\n",
      "    \"file_citation\": {\r\n",
      "      \"file_id\": \"assistant-v1vgOsajg7zOoaHPJaHKvA3i\",\r\n",
      "      \"file_name\": \"\",\r\n",
      "      \"quote\": null\r\n",
      "    }\r\n",
      "  },\r\n",
      "  {\r\n",
      "    \"type\": \"file_citation\",\r\n",
      "    \"text\": \"\\u30104:4\\u2020source\\u3011\",\r\n",
      "    \"start_index\": 1846,\r\n",
      "    \"end_index\": 1858,\r\n",
      "    \"file_citation\": {\r\n",
      "      \"file_id\": \"assistant-mLYhwg7I9ywfWQPh1xEf1IXY\",\r\n",
      "      \"file_name\": \"\",\r\n",
      "      \"quote\": null\r\n",
      "    }\r\n",
      "  },\r\n",
      "  {\r\n",
      "    \"type\": \"file_citation\",\r\n",
      "    \"text\": \"\\u30104:10\\u2020source\\u3011\",\r\n",
      "    \"start_index\": 1858,\r\n",
      "    \"end_index\": 1871,\r\n",
      "    \"file_citation\": {\r\n",
      "      \"file_id\": \"assistant-mLYhwg7I9ywfWQPh1xEf1IXY\",\r\n",
      "      \"file_name\": \"\",\r\n",
      "      \"quote\": null\r\n",
      "    }\r\n",
      "  },\r\n",
      "  {\r\n",
      "    \"type\": \"file_citation\",\r\n",
      "    \"text\": \"\\u30104:7\\u2020source\\u3011\",\r\n",
      "    \"start_index\": 2197,\r\n",
      "    \"end_index\": 2209,\r\n",
      "    \"file_citation\": {\r\n",
      "      \"file_id\": \"assistant-fslYRzYxsqiFwPGd7Fns83se\",\r\n",
      "      \"file_name\": \"\",\r\n",
      "      \"quote\": null\r\n",
      "    }\r\n",
      "  }\r\n",
      "]\r\n"
     ]
    }
   ],
   "source": [
    "Console.WriteLine(JsonSerializer.Serialize(output.Annotations, new JsonSerializerOptions() { WriteIndented = true }));"
   ]
  },
  {
   "cell_type": "markdown",
   "metadata": {},
   "source": [
    "### Formatting Output\n",
    "The current version of the API leaves some things to be desired. First, because of chunking it can cite the same source twice. Second, 'quote' is supposed to contain a snippet, but currently, it is always null"
   ]
  },
  {
   "cell_type": "code",
   "execution_count": 11,
   "metadata": {
    "dotnet_interactive": {
     "language": "csharp"
    },
    "polyglot_notebook": {
     "kernelName": "csharp"
    },
    "vscode": {
     "languageId": "polyglot-notebook"
    }
   },
   "outputs": [
    {
     "name": "stdout",
     "output_type": "stream",
     "text": [
      "assistant-v1vgOsajg7zOoaHPJaHKvA3i = McKessonMDTranscripts_Q4FY20-MCK-Corrected-Transcript.md\n",
      "assistant-mLYhwg7I9ywfWQPh1xEf1IXY = McKessonMDTranscripts_MCK-Q4FY21-Transcript.md\n",
      "assistant-KVLQgIZo6R8UzDv01PXDkrR6 = McKessonMDTranscripts_220505-MCK-Q4FY22-Earnings-Call-Transcript.md\n",
      "assistant-fslYRzYxsqiFwPGd7Fns83se = McKessonMDTranscripts_230508-MCK-Q4FY23-Earnings-Call-Transcript.md\n",
      "-------------------\n"
     ]
    },
    {
     "data": {
      "text/markdown": [
       "The COVID-19 pandemic significantly impacted McKesson's results over time. Here are the key points illustrating the impact:\n",
       "\n",
       "1. **Initial Impact and Revenue Increases**:\n",
       "   - At the onset of the pandemic, McKesson saw increased demand for pharmaceuticals and personal protective equipment (PPE) as people stocked up on medications and supplies. This led to an estimated $2 billion of incremental revenue in Q4 FY20 [McKessonMDTranscripts_Q4FY20-MCK-Corrected-Transcript.md](McKessonMDTranscripts_Q4FY20-MCK-Corrected-Transcript.md) [McKessonMDTranscripts_Q4FY20-MCK-Corrected-Transcript.md](McKessonMDTranscripts_Q4FY20-MCK-Corrected-Transcript.md).\n",
       "\n",
       "2. **Fluctuating Demand and Volume Declines**:\n",
       "   - In FY21, McKesson experienced volume declines initially due to the impact of COVID-19 but saw improvements as the year progressed. The company's fiscal fourth quarter saw continued volatility from COVID-19, a weak cold and flu season, and a winter storm that impacted parts of the U.S. Pharmaceutical business [McKessonMDTranscripts_MCK-Q4FY21-Transcript.md](McKessonMDTranscripts_MCK-Q4FY21-Transcript.md).\n",
       "\n",
       "3. **Vaccine Distribution and Testing**:\n",
       "   - The distribution of COVID-19 vaccines and related supplies provided substantial benefits. For example, in Q4 FY21, McKesson recognized benefits from distributing COVID-19 vaccines and ancillary supply kits [McKessonMDTranscripts_MCK-Q4FY21-Transcript.md](McKessonMDTranscripts_MCK-Q4FY21-Transcript.md) [McKessonMDTranscripts_MCK-Q4FY21-Transcript.md](McKessonMDTranscripts_MCK-Q4FY21-Transcript.md).\n",
       "   - However, as the pandemic evolved, the demand for COVID-19-related products and services fluctuated. In FY22, McKesson noted a 60% increase in COVID-19 test demand in January due to the Omicron variant, followed by a significant decline in February and March [McKessonMDTranscripts_220505-MCK-Q4FY22-Earnings-Call-Transcript.md](McKessonMDTranscripts_220505-MCK-Q4FY22-Earnings-Call-Transcript.md).\n",
       "\n",
       "4. **Profit and Earnings Impact**:\n",
       "   - The impact of COVID-19 on earnings varied over time. In Q4 FY20, the pandemic had a nominal effect on adjusted earnings as increased revenue was offset by higher operating expenses, such as investments in frontline employees and remote workforce support [McKessonMDTranscripts_Q4FY20-MCK-Corrected-Transcript.md](McKessonMDTranscripts_Q4FY20-MCK-Corrected-Transcript.md).\n",
       "   - In Q4 FY21, adjusted earnings per diluted share increased by 18% compared to the prior year, driven by contributions from COVID-19 vaccine distribution programs [McKessonMDTranscripts_MCK-Q4FY21-Transcript.md](McKessonMDTranscripts_MCK-Q4FY21-Transcript.md) [McKessonMDTranscripts_MCK-Q4FY21-Transcript.md](McKessonMDTranscripts_MCK-Q4FY21-Transcript.md).\n",
       "\n",
       "5. **Reduced Contribution from COVID-19 Programs**:\n",
       "   - By FY23, the contribution from COVID-19 programs had decreased. For instance, the Medical-Surgical Solutions segment saw lower sales of COVID-19 tests and a reduced contribution from kitting, storage, and distribution of ancillary supplies compared to the prior year [McKessonMDTranscripts_230508-MCK-Q4FY23-Earnings-Call-Transcript.md](McKessonMDTranscripts_230508-MCK-Q4FY23-Earnings-Call-Transcript.md).\n",
       "\n",
       "Overall, McKesson's financial performance during the pandemic was marked by initial revenue boosts from increased demand for pharmaceuticals and PPE, followed by fluctuating demand for COVID-19-related products and services, and eventually a reduction in contributions from these programs as the pandemic's impact evolved."
      ]
     },
     "metadata": {},
     "output_type": "display_data"
    }
   ],
   "source": [
    "var files = new Dictionary<string, string>();\n",
    "var annotatedMessage = output.LastMessage;\n",
    "foreach(var annotation in output.Annotations)\n",
    "{\n",
    "    // Only get the file name once per id\n",
    "    if(!files.ContainsKey(annotation.FileCitation.FileId))\n",
    "    {\n",
    "        files[annotation.FileCitation.FileId] = await annotation.GetFileName(config);\n",
    "    }\n",
    "    // But the annotation itself may be a duplicate citation to the same file, so one must process them all\n",
    "    // You can format the replacement however you like. In this case it just makes an md link\n",
    "    annotatedMessage = annotatedMessage.Replace(annotation.Text, $\" [{files[annotation.FileCitation.FileId]}]({files[annotation.FileCitation.FileId]})\");\n",
    "}\n",
    "\n",
    "foreach(var file in files)\n",
    "{\n",
    "    Console.WriteLine($\"{file.Key} = {file.Value}\");\n",
    "}\n",
    "Console.WriteLine(\"-------------------\");\n",
    "annotatedMessage.DisplayAs(\"text/markdown\");"
   ]
  },
  {
   "cell_type": "markdown",
   "metadata": {},
   "source": [
    "## Clean Up"
   ]
  },
  {
   "cell_type": "code",
   "execution_count": 12,
   "metadata": {
    "dotnet_interactive": {
     "language": "csharp"
    },
    "polyglot_notebook": {
     "kernelName": "csharp"
    },
    "vscode": {
     "languageId": "polyglot-notebook"
    }
   },
   "outputs": [
    {
     "name": "stdout",
     "output_type": "stream",
     "text": [
      "Deleted assistant\r\n"
     ]
    }
   ],
   "source": [
    "var assistant = (await client.AssistantList())?.Data?.FirstOrDefault(o => o.Name == \"McKessonMDTranscripts\");\n",
    "if(assistant != null) {\n",
    "    await client.AssistantDelete(assistant.Id);\n",
    "    Console.WriteLine(\"Deleted assistant\");\n",
    "}\n",
    "else\n",
    "{\n",
    "    Console.WriteLine(\"Didn't find MsGraphUserProfile\");\n",
    "}"
   ]
  }
 ],
 "metadata": {
  "kernelspec": {
   "display_name": ".NET (C#)",
   "language": "C#",
   "name": ".net-csharp"
  },
  "language_info": {
   "name": "python"
  },
  "polyglot_notebook": {
   "kernelInfo": {
    "defaultKernelName": "csharp",
    "items": [
     {
      "aliases": [],
      "name": "csharp"
     }
    ]
   }
  }
 },
 "nbformat": 4,
 "nbformat_minor": 2
}
