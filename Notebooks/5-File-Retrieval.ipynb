{
 "cells": [
  {
   "cell_type": "markdown",
   "metadata": {},
   "source": [
    "## File search assistant\n",
    "The McKessonMDTranscripts demonstrates the creation and execution of an assistant using the file_search feature with a knowledge base based on earnings call transcripts downloaded from the internet.\n",
    "\n",
    "## First steps\n",
    "- First, download AntRunLib from Nuget\n",
    "- At least once, set up the environment using **[0-AI-settings](0-AI-settings.ipynb)**"
   ]
  },
  {
   "cell_type": "code",
   "execution_count": 1,
   "metadata": {
    "dotnet_interactive": {
     "language": "csharp"
    },
    "polyglot_notebook": {
     "kernelName": "csharp"
    },
    "vscode": {
     "languageId": "polyglot-notebook"
    }
   },
   "outputs": [
    {
     "data": {
      "text/html": [
       "<div><div></div><div></div><div><strong>Installed Packages</strong><ul><li><span>AntRunnerLib, 0.8.7</span></li></ul></div></div>"
      ]
     },
     "metadata": {},
     "output_type": "display_data"
    }
   ],
   "source": [
    "#r \"nuget: AntRunnerLib, 0.8.7\"\n",
    "\n",
    "using AntRunnerLib;\n",
    "using AntRunnerLib.Identity;\n",
    "using static AntRunnerLib.ClientUtility;\n",
    "using System.IO;\n",
    "\n",
    "#!import config/Settings.cs \n",
    "\n",
    "var envVariables = Settings.GetEnvironmentVariables();\n",
    "foreach (var kvp in envVariables)\n",
    "{\n",
    "    Environment.SetEnvironmentVariable(kvp.Key, kvp.Value);\n",
    "}\n",
    "\n",
    "var config = AzureOpenAiConfigFactory.Get();\n",
    "var client = GetOpenAiClient(config);\n"
   ]
  },
  {
   "cell_type": "markdown",
   "metadata": {},
   "source": [
    "## Ensure the McKessonMDTranscripts assistant exists\n",
    "The definition of this assistant is located in the \".\\AssistantDefinitions\\McKessonMDTranscripts\" folder\n",
    "\n",
    "\".\\AssistantDefinitions\\\" is a default path. You can override it by setting the **ASSISTANTS_BASE_FOLDER_PATH** environment variable.\n",
    "\n",
    "\"McKessonMDTranscripts\" contains the following files:\n",
    "```\n",
    "│   manifest.json\n",
    "│   prompt.md\n",
    "│\n",
    "└───VectorStores\n",
    "    └───McKessonMDTranscripts\n",
    "            211101-MCK-Q2FY22-Earnings-Call-Transcript.md\n",
    "            220202-MCK-Q3FY22-Earnings-Call-Transcript.md\n",
    "            220505-MCK-Q4FY22-Earnings-Call-Transcript.md\n",
    "            220803-MCK-Q1FY23-Earnings-Call-Transcript.md\n",
    "            230508-MCK-Q4FY23-Earnings-Call-Transcript.md\n",
    "            230802-MCK-Q1FY24-Earnings-Call-Transcript.md\n",
    "            231101-MCK-Q2FY24-Earnings-Call-Transcript.md\n",
    "            MCK-Q1FY21-Transcript.md\n",
    "            MCK-Q1FY22-Transcript.md\n",
    "            MCK-Q2-FY23-Earnings-Transcript.md\n",
    "            MCK-Q2FY21-Transcript.md\n",
    "            MCK-Q3-FY24-Earnings-Transcript.md\n",
    "            MCK-Q4-FY24-Earnings-Call-Transcript.md\n",
    "            MCK-Q4FY21-Transcript.md\n",
    "            MCK-US-20230201-2761065-C.md\n",
    "            Q1-FY19-Earnings-Call-Transcript.md\n",
    "            Q1-FY20-Earnings-Call-Transcript.md\n",
    "            Q2-FY19-Earnings-Call-Transcript.md\n",
    "            Q2-FY20-Earnings-Call-Transcript.md\n",
    "            Q3-FY19-Earnings-Call-Transcript.md\n",
    "            Q3FY20-MCK-Earnings-Call-Transcript.md\n",
    "            Q3FY21-MCK-Earnings-Call-Transcript_FINAL.md\n",
    "            Q4-FY19-Earnings-Call-Transcript.md\n",
    "            Q4FY20-MCK-Corrected-Transcript.md\n",
    "```\n",
    "\n",
    "### Explanation\n",
    "`AssistantUtility.Create` will create the vector store if necessary, upload the files, and then update the manifest with the vector store ID before creating the assistant."
   ]
  },
  {
   "cell_type": "code",
   "execution_count": 2,
   "metadata": {
    "dotnet_interactive": {
     "language": "csharp"
    },
    "polyglot_notebook": {
     "kernelName": "csharp"
    },
    "vscode": {
     "languageId": "polyglot-notebook"
    }
   },
   "outputs": [
    {
     "name": "stdout",
     "output_type": "stream",
     "text": [
      "asst_HLHTODRvkT8QEoKOV5DDd2PK\r\n"
     ]
    }
   ],
   "source": [
    "var assistantId = await AssistantUtility.Create(\"McKessonMDTranscripts\", config);\n",
    "Console.WriteLine(assistantId)"
   ]
  },
  {
   "cell_type": "markdown",
   "metadata": {},
   "source": [
    "## Run the Assistant\n",
    "\n",
    "`output.Dialog` shows the conversation."
   ]
  },
  {
   "cell_type": "code",
   "execution_count": 3,
   "metadata": {
    "dotnet_interactive": {
     "language": "csharp"
    },
    "polyglot_notebook": {
     "kernelName": "csharp"
    },
    "vscode": {
     "languageId": "polyglot-notebook"
    }
   },
   "outputs": [
    {
     "data": {
      "text/markdown": [
       "\n",
       "User: How did covid impact results over time?\n",
       "\n",
       "Assistant: I searched my knowledge base for the answer.\n",
       "\n",
       "The impact of COVID-19 on McKesson's results has evolved over time, influencing various financial metrics in different ways across fiscal years. Here are the key points from different earnings call transcripts:\n",
       "\n",
       "1. **Fiscal 2020 (Q4) Results**:\n",
       "   - The onset of the COVID-19 pandemic led to increased demand for pharmaceuticals and personal protective equipment (PPE), resulting in approximately $2 billion of incremental revenue in the fourth quarter of fiscal 2020【4:0†source】【4:3†source】.\n",
       "   - This increased demand had a net positive impact on adjusted gross profit by approximately $65 million, offset by $15 million in variable operating expenses【4:0†source】【4:3†source】.\n",
       "   - However, it was anticipated that these effects would reverse in the first quarter of fiscal 2021【4:0†source】【4:3†source】.\n",
       "\n",
       "2. **Fiscal 2021 Results**:\n",
       "   - The fiscal year began with volume declines due to COVID-19, but improvements were noted earlier than expected, with a nonlinear recovery trajectory throughout the year【4:4†source】.\n",
       "   - McKesson recognized benefits from distributing COVID-19 vaccines and ancillary supply kits, contributing to adjusted earnings per diluted share growth of 18% in the fourth quarter compared to the prior year【4:4†source】【4:11†source】.\n",
       "   - Despite the pandemic's challenges, McKesson's core business remained fundamentally sound, and the company continued to invest strategically in oncology and biopharma services【4:16†source】.\n",
       "\n",
       "3. **Fiscal 2022 Results**:\n",
       "   - COVID-19-related items provided a significant benefit, but their impact decreased over the year. For instance, the benefit from COVID-19 tests and kitting, storage, and distribution of ancillary supplies to the US government was $31 million in the fourth quarter of fiscal 2023 compared to $85 million in fiscal 2022【4:1†source】【4:8†source】.\n",
       "   - Excluding the impact of COVID-19-related items, the Medical-Surgical Solutions segment delivered operating profit growth of 2% in the fourth quarter and 13% for the full year compared to fiscal 2022【4:1†source】【4:6†source】.\n",
       "\n",
       "4. **Fiscal 2023 Results**:\n",
       "   - The demand for COVID-19-related products and services fluctuated, with a notable spike in COVID-19 test demand due to the Omicron variant in January. However, this demand decreased significantly in subsequent months【4:6†source】【4:8†source】.\n",
       "   - The overall financial benefit from COVID-19-related items continued to decline, with expectations for materially lower contributions in fiscal 2023 compared to fiscal 2022【4:8†source】【4:14†source】.\n",
       "\n",
       "Overall, McKesson experienced significant initial benefits from the increased demand for pharmaceuticals and PPE due to COVID-19, followed by contributions from vaccine distribution and ancillary supply kits. However, the impact of these COVID-19-related items has gradually decreased over time, leading to a more normalized financial performance as the pandemic's effects waned.\n"
      ]
     },
     "metadata": {},
     "output_type": "display_data"
    }
   ],
   "source": [
    "var assistantRunOptions = new AssistantRunOptions() {\n",
    "    AssistantName = \"McKessonMDTranscripts\",\n",
    "    Instructions = \"How did covid impact results over time?\",\n",
    "    UseConversationEvaluator = false\n",
    "};\n",
    "var output = await AntRunnerLib.AssistantRunner.RunThread(assistantRunOptions, config);\n",
    "output.Dialog.DisplayAs(\"text/markdown\");"
   ]
  },
  {
   "cell_type": "code",
   "execution_count": 4,
   "metadata": {
    "dotnet_interactive": {
     "language": "csharp"
    },
    "polyglot_notebook": {
     "kernelName": "csharp"
    },
    "vscode": {
     "languageId": "polyglot-notebook"
    }
   },
   "outputs": [
    {
     "data": {
      "text/markdown": [
       "The impact of COVID-19 on McKesson's results has evolved over time, influencing various financial metrics in different ways across fiscal years. Here are the key points from different earnings call transcripts:\n",
       "\n",
       "1. **Fiscal 2020 (Q4) Results**:\n",
       "   - The onset of the COVID-19 pandemic led to increased demand for pharmaceuticals and personal protective equipment (PPE), resulting in approximately $2 billion of incremental revenue in the fourth quarter of fiscal 2020【4:0†source】【4:3†source】.\n",
       "   - This increased demand had a net positive impact on adjusted gross profit by approximately $65 million, offset by $15 million in variable operating expenses【4:0†source】【4:3†source】.\n",
       "   - However, it was anticipated that these effects would reverse in the first quarter of fiscal 2021【4:0†source】【4:3†source】.\n",
       "\n",
       "2. **Fiscal 2021 Results**:\n",
       "   - The fiscal year began with volume declines due to COVID-19, but improvements were noted earlier than expected, with a nonlinear recovery trajectory throughout the year【4:4†source】.\n",
       "   - McKesson recognized benefits from distributing COVID-19 vaccines and ancillary supply kits, contributing to adjusted earnings per diluted share growth of 18% in the fourth quarter compared to the prior year【4:4†source】【4:11†source】.\n",
       "   - Despite the pandemic's challenges, McKesson's core business remained fundamentally sound, and the company continued to invest strategically in oncology and biopharma services【4:16†source】.\n",
       "\n",
       "3. **Fiscal 2022 Results**:\n",
       "   - COVID-19-related items provided a significant benefit, but their impact decreased over the year. For instance, the benefit from COVID-19 tests and kitting, storage, and distribution of ancillary supplies to the US government was $31 million in the fourth quarter of fiscal 2023 compared to $85 million in fiscal 2022【4:1†source】【4:8†source】.\n",
       "   - Excluding the impact of COVID-19-related items, the Medical-Surgical Solutions segment delivered operating profit growth of 2% in the fourth quarter and 13% for the full year compared to fiscal 2022【4:1†source】【4:6†source】.\n",
       "\n",
       "4. **Fiscal 2023 Results**:\n",
       "   - The demand for COVID-19-related products and services fluctuated, with a notable spike in COVID-19 test demand due to the Omicron variant in January. However, this demand decreased significantly in subsequent months【4:6†source】【4:8†source】.\n",
       "   - The overall financial benefit from COVID-19-related items continued to decline, with expectations for materially lower contributions in fiscal 2023 compared to fiscal 2022【4:8†source】【4:14†source】.\n",
       "\n",
       "Overall, McKesson experienced significant initial benefits from the increased demand for pharmaceuticals and PPE due to COVID-19, followed by contributions from vaccine distribution and ancillary supply kits. However, the impact of these COVID-19-related items has gradually decreased over time, leading to a more normalized financial performance as the pandemic's effects waned."
      ]
     },
     "metadata": {},
     "output_type": "display_data"
    }
   ],
   "source": [
    "output.LastMessage.DisplayAs(\"text/markdown\");"
   ]
  },
  {
   "cell_type": "markdown",
   "metadata": {},
   "source": [
    "## Annotations"
   ]
  },
  {
   "cell_type": "code",
   "execution_count": 5,
   "metadata": {
    "dotnet_interactive": {
     "language": "csharp"
    },
    "polyglot_notebook": {
     "kernelName": "csharp"
    },
    "vscode": {
     "languageId": "polyglot-notebook"
    }
   },
   "outputs": [
    {
     "name": "stdout",
     "output_type": "stream",
     "text": [
      "[\r\n",
      "  {\r\n",
      "    \"type\": \"file_citation\",\r\n",
      "    \"text\": \"\\u30104:0\\u2020source\\u3011\",\r\n",
      "    \"start_index\": 467,\r\n",
      "    \"end_index\": 479,\r\n",
      "    \"file_citation\": {\r\n",
      "      \"file_id\": \"assistant-v1vgOsajg7zOoaHPJaHKvA3i\",\r\n",
      "      \"file_name\": \"\",\r\n",
      "      \"quote\": null\r\n",
      "    }\r\n",
      "  },\r\n",
      "  {\r\n",
      "    \"type\": \"file_citation\",\r\n",
      "    \"text\": \"\\u30104:3\\u2020source\\u3011\",\r\n",
      "    \"start_index\": 479,\r\n",
      "    \"end_index\": 491,\r\n",
      "    \"file_citation\": {\r\n",
      "      \"file_id\": \"assistant-v1vgOsajg7zOoaHPJaHKvA3i\",\r\n",
      "      \"file_name\": \"\",\r\n",
      "      \"quote\": null\r\n",
      "    }\r\n",
      "  },\r\n",
      "  {\r\n",
      "    \"type\": \"file_citation\",\r\n",
      "    \"text\": \"\\u30104:0\\u2020source\\u3011\",\r\n",
      "    \"start_index\": 653,\r\n",
      "    \"end_index\": 665,\r\n",
      "    \"file_citation\": {\r\n",
      "      \"file_id\": \"assistant-v1vgOsajg7zOoaHPJaHKvA3i\",\r\n",
      "      \"file_name\": \"\",\r\n",
      "      \"quote\": null\r\n",
      "    }\r\n",
      "  },\r\n",
      "  {\r\n",
      "    \"type\": \"file_citation\",\r\n",
      "    \"text\": \"\\u30104:3\\u2020source\\u3011\",\r\n",
      "    \"start_index\": 665,\r\n",
      "    \"end_index\": 677,\r\n",
      "    \"file_citation\": {\r\n",
      "      \"file_id\": \"assistant-v1vgOsajg7zOoaHPJaHKvA3i\",\r\n",
      "      \"file_name\": \"\",\r\n",
      "      \"quote\": null\r\n",
      "    }\r\n",
      "  },\r\n",
      "  {\r\n",
      "    \"type\": \"file_citation\",\r\n",
      "    \"text\": \"\\u30104:0\\u2020source\\u3011\",\r\n",
      "    \"start_index\": 780,\r\n",
      "    \"end_index\": 792,\r\n",
      "    \"file_citation\": {\r\n",
      "      \"file_id\": \"assistant-v1vgOsajg7zOoaHPJaHKvA3i\",\r\n",
      "      \"file_name\": \"\",\r\n",
      "      \"quote\": null\r\n",
      "    }\r\n",
      "  },\r\n",
      "  {\r\n",
      "    \"type\": \"file_citation\",\r\n",
      "    \"text\": \"\\u30104:3\\u2020source\\u3011\",\r\n",
      "    \"start_index\": 792,\r\n",
      "    \"end_index\": 804,\r\n",
      "    \"file_citation\": {\r\n",
      "      \"file_id\": \"assistant-v1vgOsajg7zOoaHPJaHKvA3i\",\r\n",
      "      \"file_name\": \"\",\r\n",
      "      \"quote\": null\r\n",
      "    }\r\n",
      "  },\r\n",
      "  {\r\n",
      "    \"type\": \"file_citation\",\r\n",
      "    \"text\": \"\\u30104:4\\u2020source\\u3011\",\r\n",
      "    \"start_index\": 1007,\r\n",
      "    \"end_index\": 1019,\r\n",
      "    \"file_citation\": {\r\n",
      "      \"file_id\": \"assistant-mLYhwg7I9ywfWQPh1xEf1IXY\",\r\n",
      "      \"file_name\": \"\",\r\n",
      "      \"quote\": null\r\n",
      "    }\r\n",
      "  },\r\n",
      "  {\r\n",
      "    \"type\": \"file_citation\",\r\n",
      "    \"text\": \"\\u30104:4\\u2020source\\u3011\",\r\n",
      "    \"start_index\": 1232,\r\n",
      "    \"end_index\": 1244,\r\n",
      "    \"file_citation\": {\r\n",
      "      \"file_id\": \"assistant-mLYhwg7I9ywfWQPh1xEf1IXY\",\r\n",
      "      \"file_name\": \"\",\r\n",
      "      \"quote\": null\r\n",
      "    }\r\n",
      "  },\r\n",
      "  {\r\n",
      "    \"type\": \"file_citation\",\r\n",
      "    \"text\": \"\\u30104:11\\u2020source\\u3011\",\r\n",
      "    \"start_index\": 1244,\r\n",
      "    \"end_index\": 1257,\r\n",
      "    \"file_citation\": {\r\n",
      "      \"file_id\": \"assistant-mLYhwg7I9ywfWQPh1xEf1IXY\",\r\n",
      "      \"file_name\": \"\",\r\n",
      "      \"quote\": null\r\n",
      "    }\r\n",
      "  },\r\n",
      "  {\r\n",
      "    \"type\": \"file_citation\",\r\n",
      "    \"text\": \"\\u30104:16\\u2020source\\u3011\",\r\n",
      "    \"start_index\": 1438,\r\n",
      "    \"end_index\": 1451,\r\n",
      "    \"file_citation\": {\r\n",
      "      \"file_id\": \"assistant-LtpQtNw0yqJbx07lbEJahob9\",\r\n",
      "      \"file_name\": \"\",\r\n",
      "      \"quote\": null\r\n",
      "    }\r\n",
      "  },\r\n",
      "  {\r\n",
      "    \"type\": \"file_citation\",\r\n",
      "    \"text\": \"\\u30104:1\\u2020source\\u3011\",\r\n",
      "    \"start_index\": 1803,\r\n",
      "    \"end_index\": 1815,\r\n",
      "    \"file_citation\": {\r\n",
      "      \"file_id\": \"assistant-fslYRzYxsqiFwPGd7Fns83se\",\r\n",
      "      \"file_name\": \"\",\r\n",
      "      \"quote\": null\r\n",
      "    }\r\n",
      "  },\r\n",
      "  {\r\n",
      "    \"type\": \"file_citation\",\r\n",
      "    \"text\": \"\\u30104:8\\u2020source\\u3011\",\r\n",
      "    \"start_index\": 1815,\r\n",
      "    \"end_index\": 1827,\r\n",
      "    \"file_citation\": {\r\n",
      "      \"file_id\": \"assistant-fslYRzYxsqiFwPGd7Fns83se\",\r\n",
      "      \"file_name\": \"\",\r\n",
      "      \"quote\": null\r\n",
      "    }\r\n",
      "  },\r\n",
      "  {\r\n",
      "    \"type\": \"file_citation\",\r\n",
      "    \"text\": \"\\u30104:1\\u2020source\\u3011\",\r\n",
      "    \"start_index\": 2032,\r\n",
      "    \"end_index\": 2044,\r\n",
      "    \"file_citation\": {\r\n",
      "      \"file_id\": \"assistant-fslYRzYxsqiFwPGd7Fns83se\",\r\n",
      "      \"file_name\": \"\",\r\n",
      "      \"quote\": null\r\n",
      "    }\r\n",
      "  },\r\n",
      "  {\r\n",
      "    \"type\": \"file_citation\",\r\n",
      "    \"text\": \"\\u30104:6\\u2020source\\u3011\",\r\n",
      "    \"start_index\": 2044,\r\n",
      "    \"end_index\": 2056,\r\n",
      "    \"file_citation\": {\r\n",
      "      \"file_id\": \"assistant-KVLQgIZo6R8UzDv01PXDkrR6\",\r\n",
      "      \"file_name\": \"\",\r\n",
      "      \"quote\": null\r\n",
      "    }\r\n",
      "  },\r\n",
      "  {\r\n",
      "    \"type\": \"file_citation\",\r\n",
      "    \"text\": \"\\u30104:6\\u2020source\\u3011\",\r\n",
      "    \"start_index\": 2307,\r\n",
      "    \"end_index\": 2319,\r\n",
      "    \"file_citation\": {\r\n",
      "      \"file_id\": \"assistant-KVLQgIZo6R8UzDv01PXDkrR6\",\r\n",
      "      \"file_name\": \"\",\r\n",
      "      \"quote\": null\r\n",
      "    }\r\n",
      "  },\r\n",
      "  {\r\n",
      "    \"type\": \"file_citation\",\r\n",
      "    \"text\": \"\\u30104:8\\u2020source\\u3011\",\r\n",
      "    \"start_index\": 2319,\r\n",
      "    \"end_index\": 2331,\r\n",
      "    \"file_citation\": {\r\n",
      "      \"file_id\": \"assistant-fslYRzYxsqiFwPGd7Fns83se\",\r\n",
      "      \"file_name\": \"\",\r\n",
      "      \"quote\": null\r\n",
      "    }\r\n",
      "  },\r\n",
      "  {\r\n",
      "    \"type\": \"file_citation\",\r\n",
      "    \"text\": \"\\u30104:8\\u2020source\\u3011\",\r\n",
      "    \"start_index\": 2509,\r\n",
      "    \"end_index\": 2521,\r\n",
      "    \"file_citation\": {\r\n",
      "      \"file_id\": \"assistant-fslYRzYxsqiFwPGd7Fns83se\",\r\n",
      "      \"file_name\": \"\",\r\n",
      "      \"quote\": null\r\n",
      "    }\r\n",
      "  },\r\n",
      "  {\r\n",
      "    \"type\": \"file_citation\",\r\n",
      "    \"text\": \"\\u30104:14\\u2020source\\u3011\",\r\n",
      "    \"start_index\": 2521,\r\n",
      "    \"end_index\": 2534,\r\n",
      "    \"file_citation\": {\r\n",
      "      \"file_id\": \"assistant-93mnSr4UmBc6zfhnwJLoncV0\",\r\n",
      "      \"file_name\": \"\",\r\n",
      "      \"quote\": null\r\n",
      "    }\r\n",
      "  }\r\n",
      "]\r\n"
     ]
    }
   ],
   "source": [
    "Console.WriteLine(JsonSerializer.Serialize(output.Annotations, new JsonSerializerOptions() { WriteIndented = true }));"
   ]
  },
  {
   "cell_type": "markdown",
   "metadata": {},
   "source": [
    "### Formatting Output\n",
    "The current version of the API leaves some things to be desired. First, because of chunking it can cite the same source twice. Second, 'quote' is supposed to contain a snippet, but currently, it is always null"
   ]
  },
  {
   "cell_type": "code",
   "execution_count": 6,
   "metadata": {
    "dotnet_interactive": {
     "language": "csharp"
    },
    "polyglot_notebook": {
     "kernelName": "csharp"
    },
    "vscode": {
     "languageId": "polyglot-notebook"
    }
   },
   "outputs": [
    {
     "name": "stdout",
     "output_type": "stream",
     "text": [
      "assistant-v1vgOsajg7zOoaHPJaHKvA3i = McKessonMDTranscripts_Q4FY20-MCK-Corrected-Transcript.md\n",
      "assistant-mLYhwg7I9ywfWQPh1xEf1IXY = McKessonMDTranscripts_MCK-Q4FY21-Transcript.md\n",
      "assistant-LtpQtNw0yqJbx07lbEJahob9 = McKessonMDTranscripts_Q3FY21-MCK-Earnings-Call-Transcript_FINAL.md\n",
      "assistant-fslYRzYxsqiFwPGd7Fns83se = McKessonMDTranscripts_230508-MCK-Q4FY23-Earnings-Call-Transcript.md\n",
      "assistant-KVLQgIZo6R8UzDv01PXDkrR6 = McKessonMDTranscripts_220505-MCK-Q4FY22-Earnings-Call-Transcript.md\n",
      "assistant-93mnSr4UmBc6zfhnwJLoncV0 = McKessonMDTranscripts_220803-MCK-Q1FY23-Earnings-Call-Transcript.md\n",
      "-------------------\n"
     ]
    },
    {
     "data": {
      "text/markdown": [
       "The impact of COVID-19 on McKesson's results has evolved over time, influencing various financial metrics in different ways across fiscal years. Here are the key points from different earnings call transcripts:\n",
       "\n",
       "1. **Fiscal 2020 (Q4) Results**:\n",
       "   - The onset of the COVID-19 pandemic led to increased demand for pharmaceuticals and personal protective equipment (PPE), resulting in approximately $2 billion of incremental revenue in the fourth quarter of fiscal 2020 [McKessonMDTranscripts_Q4FY20-MCK-Corrected-Transcript.md](McKessonMDTranscripts_Q4FY20-MCK-Corrected-Transcript.md) [McKessonMDTranscripts_Q4FY20-MCK-Corrected-Transcript.md](McKessonMDTranscripts_Q4FY20-MCK-Corrected-Transcript.md).\n",
       "   - This increased demand had a net positive impact on adjusted gross profit by approximately $65 million, offset by $15 million in variable operating expenses [McKessonMDTranscripts_Q4FY20-MCK-Corrected-Transcript.md](McKessonMDTranscripts_Q4FY20-MCK-Corrected-Transcript.md) [McKessonMDTranscripts_Q4FY20-MCK-Corrected-Transcript.md](McKessonMDTranscripts_Q4FY20-MCK-Corrected-Transcript.md).\n",
       "   - However, it was anticipated that these effects would reverse in the first quarter of fiscal 2021 [McKessonMDTranscripts_Q4FY20-MCK-Corrected-Transcript.md](McKessonMDTranscripts_Q4FY20-MCK-Corrected-Transcript.md) [McKessonMDTranscripts_Q4FY20-MCK-Corrected-Transcript.md](McKessonMDTranscripts_Q4FY20-MCK-Corrected-Transcript.md).\n",
       "\n",
       "2. **Fiscal 2021 Results**:\n",
       "   - The fiscal year began with volume declines due to COVID-19, but improvements were noted earlier than expected, with a nonlinear recovery trajectory throughout the year [McKessonMDTranscripts_MCK-Q4FY21-Transcript.md](McKessonMDTranscripts_MCK-Q4FY21-Transcript.md).\n",
       "   - McKesson recognized benefits from distributing COVID-19 vaccines and ancillary supply kits, contributing to adjusted earnings per diluted share growth of 18% in the fourth quarter compared to the prior year [McKessonMDTranscripts_MCK-Q4FY21-Transcript.md](McKessonMDTranscripts_MCK-Q4FY21-Transcript.md) [McKessonMDTranscripts_MCK-Q4FY21-Transcript.md](McKessonMDTranscripts_MCK-Q4FY21-Transcript.md).\n",
       "   - Despite the pandemic's challenges, McKesson's core business remained fundamentally sound, and the company continued to invest strategically in oncology and biopharma services [McKessonMDTranscripts_Q3FY21-MCK-Earnings-Call-Transcript_FINAL.md](McKessonMDTranscripts_Q3FY21-MCK-Earnings-Call-Transcript_FINAL.md).\n",
       "\n",
       "3. **Fiscal 2022 Results**:\n",
       "   - COVID-19-related items provided a significant benefit, but their impact decreased over the year. For instance, the benefit from COVID-19 tests and kitting, storage, and distribution of ancillary supplies to the US government was $31 million in the fourth quarter of fiscal 2023 compared to $85 million in fiscal 2022 [McKessonMDTranscripts_230508-MCK-Q4FY23-Earnings-Call-Transcript.md](McKessonMDTranscripts_230508-MCK-Q4FY23-Earnings-Call-Transcript.md) [McKessonMDTranscripts_230508-MCK-Q4FY23-Earnings-Call-Transcript.md](McKessonMDTranscripts_230508-MCK-Q4FY23-Earnings-Call-Transcript.md).\n",
       "   - Excluding the impact of COVID-19-related items, the Medical-Surgical Solutions segment delivered operating profit growth of 2% in the fourth quarter and 13% for the full year compared to fiscal 2022 [McKessonMDTranscripts_230508-MCK-Q4FY23-Earnings-Call-Transcript.md](McKessonMDTranscripts_230508-MCK-Q4FY23-Earnings-Call-Transcript.md) [McKessonMDTranscripts_220505-MCK-Q4FY22-Earnings-Call-Transcript.md](McKessonMDTranscripts_220505-MCK-Q4FY22-Earnings-Call-Transcript.md).\n",
       "\n",
       "4. **Fiscal 2023 Results**:\n",
       "   - The demand for COVID-19-related products and services fluctuated, with a notable spike in COVID-19 test demand due to the Omicron variant in January. However, this demand decreased significantly in subsequent months [McKessonMDTranscripts_220505-MCK-Q4FY22-Earnings-Call-Transcript.md](McKessonMDTranscripts_220505-MCK-Q4FY22-Earnings-Call-Transcript.md) [McKessonMDTranscripts_230508-MCK-Q4FY23-Earnings-Call-Transcript.md](McKessonMDTranscripts_230508-MCK-Q4FY23-Earnings-Call-Transcript.md).\n",
       "   - The overall financial benefit from COVID-19-related items continued to decline, with expectations for materially lower contributions in fiscal 2023 compared to fiscal 2022 [McKessonMDTranscripts_230508-MCK-Q4FY23-Earnings-Call-Transcript.md](McKessonMDTranscripts_230508-MCK-Q4FY23-Earnings-Call-Transcript.md) [McKessonMDTranscripts_220803-MCK-Q1FY23-Earnings-Call-Transcript.md](McKessonMDTranscripts_220803-MCK-Q1FY23-Earnings-Call-Transcript.md).\n",
       "\n",
       "Overall, McKesson experienced significant initial benefits from the increased demand for pharmaceuticals and PPE due to COVID-19, followed by contributions from vaccine distribution and ancillary supply kits. However, the impact of these COVID-19-related items has gradually decreased over time, leading to a more normalized financial performance as the pandemic's effects waned."
      ]
     },
     "metadata": {},
     "output_type": "display_data"
    }
   ],
   "source": [
    "var files = new Dictionary<string, string>();\n",
    "var annotatedMessage = output.LastMessage;\n",
    "foreach(var annotation in output.Annotations)\n",
    "{\n",
    "    // Only get the file name once per id\n",
    "    if(!files.ContainsKey(annotation.FileCitation.FileId))\n",
    "    {\n",
    "        files[annotation.FileCitation.FileId] = await annotation.GetFileName(config);\n",
    "    }\n",
    "    // But the annotation itself may be a duplicate citation to the same file, so one must process them all\n",
    "    // You can format the replacement however you like. In this case it just makes an md link\n",
    "    annotatedMessage = annotatedMessage.Replace(annotation.Text, $\" [{files[annotation.FileCitation.FileId]}]({files[annotation.FileCitation.FileId]})\");\n",
    "}\n",
    "\n",
    "foreach(var file in files)\n",
    "{\n",
    "    Console.WriteLine($\"{file.Key} = {file.Value}\");\n",
    "}\n",
    "Console.WriteLine(\"-------------------\");\n",
    "annotatedMessage.DisplayAs(\"text/markdown\");"
   ]
  },
  {
   "cell_type": "markdown",
   "metadata": {},
   "source": [
    "## Clean Up"
   ]
  },
  {
   "cell_type": "code",
   "execution_count": 7,
   "metadata": {
    "dotnet_interactive": {
     "language": "csharp"
    },
    "polyglot_notebook": {
     "kernelName": "csharp"
    },
    "vscode": {
     "languageId": "polyglot-notebook"
    }
   },
   "outputs": [
    {
     "name": "stdout",
     "output_type": "stream",
     "text": [
      "Deleted assistant\r\n"
     ]
    }
   ],
   "source": [
    "var assistant = (await client.AssistantList())?.Data?.FirstOrDefault(o => o.Name == \"McKessonMDTranscripts\");\n",
    "if(assistant != null) {\n",
    "    await client.AssistantDelete(assistant.Id);\n",
    "    Console.WriteLine(\"Deleted assistant\");\n",
    "}\n",
    "else\n",
    "{\n",
    "    Console.WriteLine(\"Didn't find MsGraphUserProfile\");\n",
    "}"
   ]
  }
 ],
 "metadata": {
  "kernelspec": {
   "display_name": ".NET (C#)",
   "language": "C#",
   "name": ".net-csharp"
  },
  "language_info": {
   "name": "python"
  },
  "polyglot_notebook": {
   "kernelInfo": {
    "defaultKernelName": "csharp",
    "items": [
     {
      "aliases": [],
      "name": "csharp"
     }
    ]
   }
  }
 },
 "nbformat": 4,
 "nbformat_minor": 2
}
