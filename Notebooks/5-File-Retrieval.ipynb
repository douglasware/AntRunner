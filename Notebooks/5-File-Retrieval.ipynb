{
 "cells": [
  {
   "cell_type": "markdown",
   "metadata": {},
   "source": [
    "# First steps\n",
    "- First, download AntRunLib from Nuget\n",
    "- Then setup the enviroment. **Note you must first setup resources in Azure and run [0-AI-settings](0-AI-settings.ipynb)**"
   ]
  },
  {
   "cell_type": "code",
   "execution_count": 7,
   "metadata": {
    "dotnet_interactive": {
     "language": "csharp"
    },
    "polyglot_notebook": {
     "kernelName": "csharp"
    },
    "vscode": {
     "languageId": "polyglot-notebook"
    }
   },
   "outputs": [
    {
     "data": {
      "text/html": [
       "<div><div></div><div></div><div><strong>Installed Packages</strong><ul><li><span>AntRunnerLib, 0.6.5</span></li></ul></div></div>"
      ]
     },
     "metadata": {},
     "output_type": "display_data"
    }
   ],
   "source": [
    "#r \"nuget: AntRunnerLib, 0.6.5\"\n",
    "\n",
    "using AntRunnerLib;\n",
    "using AntRunnerLib.Identity;\n",
    "using static AntRunnerLib.ClientUtility;\n",
    "using System.IO;\n",
    "\n",
    "#!import config/Settings.cs \n",
    "\n",
    "var envVariables = Settings.GetEnvironmentVariables();\n",
    "foreach (var kvp in envVariables)\n",
    "{\n",
    "    Environment.SetEnvironmentVariable(kvp.Key, kvp.Value);\n",
    "}\n",
    "\n",
    "var config = AzureOpenAIConfigFactory.Get();\n",
    "var client = GetOpenAIClient(config);\n"
   ]
  },
  {
   "cell_type": "markdown",
   "metadata": {},
   "source": [
    "## Ensure the McKessonMDTranscripts assistant exists\n",
    "The definition of this assistant is located in the \".\\AssistantDefinitions\\McKessonMDTranscripts\" folder\n",
    "\n",
    "\".\\AssistantDefinitions\\\" is a default path. You can override it by setting the **ASSISTANTS_BASE_FOLDER_PATH** enviroment variable.\n",
    "\n",
    "\"McKessonMDTranscripts\" contains the following files:\n",
    "```\n",
    "ª   manifest.json\n",
    "ª   prompt.md\n",
    "ª   \n",
    "+---VectorStores\n",
    "    +---McKessonMDTranscripts\n",
    "            211101-MCK-Q2FY22-Earnings-Call-Transcript.md\n",
    "            220202-MCK-Q3FY22-Earnings-Call-Transcript.md\n",
    "            220505-MCK-Q4FY22-Earnings-Call-Transcript.md\n",
    "            220803-MCK-Q1FY23-Earnings-Call-Transcript.md\n",
    "            230508-MCK-Q4FY23-Earnings-Call-Transcript.md\n",
    "            230802-MCK-Q1FY24-Earnings-Call-Transcript.md\n",
    "            231101-MCK-Q2FY24-Earnings-Call-Transcript.md\n",
    "            MCK-Q1FY21-Transcript.md\n",
    "            MCK-Q1FY22-Transcript.md\n",
    "            MCK-Q2-FY23-Earnings-Transcript.md\n",
    "            MCK-Q2FY21-Transcript.md\n",
    "            MCK-Q3-FY24-Earnings-Transcript.md\n",
    "            MCK-Q4-FY24-Earnings-Call-Transcript.md\n",
    "            MCK-Q4FY21-Transcript.md\n",
    "            MCK-US-20230201-2761065-C.md\n",
    "            Q1-FY19-Earnings-Call-Transcript.md\n",
    "            Q1-FY20-Earnings-Call-Transcript.md\n",
    "            Q2-FY19-Earnings-Call-Transcript.md\n",
    "            Q2-FY20-Earnings-Call-Transcript.md\n",
    "            Q3-FY19-Earnings-Call-Transcript.md\n",
    "            Q3FY20-MCK-Earnings-Call-Transcript.md\n",
    "            Q3FY21-MCK-Earnings-Call-Transcript_FINAL.md\n",
    "            Q4-FY19-Earnings-Call-Transcript.md\n",
    "            Q4FY20-MCK-Corrected-Transcript.md\n",
    "            \n",
    "\n",
    "```        \n",
    "\n",
    "### Explanation\n",
    "AssistantUtility.Create will create the vector store if necessary, upload the files, and then update the manifest with the vector store ID before creating the assistant."
   ]
  },
  {
   "cell_type": "code",
   "execution_count": 2,
   "metadata": {
    "dotnet_interactive": {
     "language": "csharp"
    },
    "polyglot_notebook": {
     "kernelName": "csharp"
    },
    "vscode": {
     "languageId": "polyglot-notebook"
    }
   },
   "outputs": [
    {
     "name": "stdout",
     "output_type": "stream",
     "text": [
      "asst_WZ1DNQ9npBTjzoSR2fA8GpUp\r\n"
     ]
    }
   ],
   "source": [
    "var assistantId = await AssistantUtility.Create(\"McKessonMDTranscripts\", config);\n",
    "Console.WriteLine(assistantId)"
   ]
  },
  {
   "cell_type": "markdown",
   "metadata": {},
   "source": [
    "## Run the Assistant\n",
    "\n",
    "output.Dialog shows the conversation. "
   ]
  },
  {
   "cell_type": "code",
   "execution_count": 3,
   "metadata": {
    "dotnet_interactive": {
     "language": "csharp"
    },
    "polyglot_notebook": {
     "kernelName": "csharp"
    },
    "vscode": {
     "languageId": "polyglot-notebook"
    }
   },
   "outputs": [
    {
     "name": "stdout",
     "output_type": "stream",
     "text": [
      "\n",
      "User: How did covid impact results in Q3 2022?\n",
      "\n",
      "Assistant: I searched my knowledge base for the answer.\n",
      "\n",
      "In Q3 2022, the COVID-19 pandemic had a significant impact on McKesson's results. The company's performance was influenced by various COVID-19-related items, including vaccine distribution and testing. \n",
      "\n",
      "1. **Adjusted Earnings Guidance**: Due to strong operational performance and contributions from COVID-19-related programs, McKesson raised its adjusted earnings per diluted share guidance to a range of $23.55 to $23.95, up from the previous range of $22.35 to $22.95【4:4†source】.\n",
      "   \n",
      "2. **US Pharmaceutical Segment**: The US Pharmaceutical segment saw a 12% increase in adjusted operating profit, driven by contributions from COVID-19 vaccine distribution and increased specialty volume【4:4†source】.\n",
      "\n",
      "3. **Medical-Surgical Segment**: Revenues in the Medical-Surgical segment were impacted by lower volumes of COVID-19 tests. However, the contribution from kitting, storage, and distribution of ancillary supplies for COVID-19 vaccines provided a benefit【4:10†source】.\n",
      "\n",
      "4. **Impact of Omicron Variant**: The emergence and spread of the Omicron variant in December led to a non-linear recovery trend, impacting volume and utilization trends【4:4†source】.\n",
      "\n",
      "These factors combined to contribute significantly to McKesson's financial performance in Q3 2022.\n",
      "\r\n"
     ]
    }
   ],
   "source": [
    "var assistantRunOptions = new AssistantRunOptions() {\n",
    "    AssistantName = \"McKessonMDTranscripts\",\n",
    "    Instructions = \"How did covid impact results in Q3 2022?\",\n",
    "    UseConversationEvaluator = false\n",
    "};\n",
    "var output = await AntRunnerLib.AssistantRunner.RunThread(assistantRunOptions, config);\n",
    "Console.WriteLine(output.Dialog)"
   ]
  },
  {
   "cell_type": "code",
   "execution_count": 4,
   "metadata": {
    "dotnet_interactive": {
     "language": "csharp"
    },
    "polyglot_notebook": {
     "kernelName": "csharp"
    },
    "vscode": {
     "languageId": "polyglot-notebook"
    }
   },
   "outputs": [
    {
     "name": "stdout",
     "output_type": "stream",
     "text": [
      "In Q3 2022, the COVID-19 pandemic had a significant impact on McKesson's results. The company's performance was influenced by various COVID-19-related items, including vaccine distribution and testing. \n",
      "\n",
      "1. **Adjusted Earnings Guidance**: Due to strong operational performance and contributions from COVID-19-related programs, McKesson raised its adjusted earnings per diluted share guidance to a range of $23.55 to $23.95, up from the previous range of $22.35 to $22.95【4:4†source】.\n",
      "   \n",
      "2. **US Pharmaceutical Segment**: The US Pharmaceutical segment saw a 12% increase in adjusted operating profit, driven by contributions from COVID-19 vaccine distribution and increased specialty volume【4:4†source】.\n",
      "\n",
      "3. **Medical-Surgical Segment**: Revenues in the Medical-Surgical segment were impacted by lower volumes of COVID-19 tests. However, the contribution from kitting, storage, and distribution of ancillary supplies for COVID-19 vaccines provided a benefit【4:10†source】.\n",
      "\n",
      "4. **Impact of Omicron Variant**: The emergence and spread of the Omicron variant in December led to a non-linear recovery trend, impacting volume and utilization trends【4:4†source】.\n",
      "\n",
      "These factors combined to contribute significantly to McKesson's financial performance in Q3 2022.\r\n"
     ]
    }
   ],
   "source": [
    "Console.WriteLine(output.LastMessage)"
   ]
  },
  {
   "cell_type": "code",
   "execution_count": 6,
   "metadata": {
    "dotnet_interactive": {
     "language": "csharp"
    },
    "polyglot_notebook": {
     "kernelName": "csharp"
    },
    "vscode": {
     "languageId": "polyglot-notebook"
    }
   },
   "outputs": [
    {
     "name": "stdout",
     "output_type": "stream",
     "text": [
      "assistant-fjWqtpdCyNecNYDdGK9vhrG4\n",
      "assistant-fjWqtpdCyNecNYDdGK9vhrG4\n",
      "assistant-fjWqtpdCyNecNYDdGK9vhrG4\n",
      "assistant-fjWqtpdCyNecNYDdGK9vhrG4\n"
     ]
    }
   ],
   "source": [
    "foreach(var annotation in output.Annotations)\n",
    "{\n",
    "    Console.WriteLine(annotation.FileCitation.FileId);\n",
    "}"
   ]
  }
 ],
 "metadata": {
  "kernelspec": {
   "display_name": ".NET (C#)",
   "language": "C#",
   "name": ".net-csharp"
  },
  "language_info": {
   "name": "python"
  },
  "polyglot_notebook": {
   "kernelInfo": {
    "defaultKernelName": "csharp",
    "items": [
     {
      "aliases": [],
      "name": "csharp"
     }
    ]
   }
  }
 },
 "nbformat": 4,
 "nbformat_minor": 2
}
