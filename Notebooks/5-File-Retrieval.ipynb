{
 "cells": [
  {
   "cell_type": "markdown",
   "metadata": {},
   "source": [
    "## File search assistant\n",
    "The McKessonMDTranscripts demonstrates the creation and execution of an assistant using the file_search feature with a knowledge base based on earnings call transcripts downloaded from the internet.\n",
    "\n",
    "## First steps\n",
    "- First, download AntRunLib from Nuget\n",
    "- At least once, setup the enviroment using **[0-AI-settings](0-AI-settings.ipynb)**"
   ]
  },
  {
   "cell_type": "code",
   "execution_count": 1,
   "metadata": {
    "dotnet_interactive": {
     "language": "csharp"
    },
    "polyglot_notebook": {
     "kernelName": "csharp"
    },
    "vscode": {
     "languageId": "polyglot-notebook"
    }
   },
   "outputs": [
    {
     "data": {
      "text/html": [
       "<div><div></div><div></div><div><strong>Installed Packages</strong><ul><li><span>AntRunnerLib, 0.6.7</span></li></ul></div></div>"
      ]
     },
     "metadata": {},
     "output_type": "display_data"
    }
   ],
   "source": [
    "#r \"nuget: AntRunnerLib, 0.6.7\"\n",
    "\n",
    "using AntRunnerLib;\n",
    "using AntRunnerLib.Identity;\n",
    "using static AntRunnerLib.ClientUtility;\n",
    "using System.IO;\n",
    "\n",
    "#!import config/Settings.cs \n",
    "\n",
    "var envVariables = Settings.GetEnvironmentVariables();\n",
    "foreach (var kvp in envVariables)\n",
    "{\n",
    "    Environment.SetEnvironmentVariable(kvp.Key, kvp.Value);\n",
    "}\n",
    "\n",
    "var config = AzureOpenAIConfigFactory.Get();\n",
    "var client = GetOpenAIClient(config);\n"
   ]
  },
  {
   "cell_type": "markdown",
   "metadata": {},
   "source": [
    "## Ensure the McKessonMDTranscripts assistant exists\n",
    "The definition of this assistant is located in the \".\\AssistantDefinitions\\McKessonMDTranscripts\" folder\n",
    "\n",
    "\".\\AssistantDefinitions\\\" is a default path. You can override it by setting the **ASSISTANTS_BASE_FOLDER_PATH** enviroment variable.\n",
    "\n",
    "\"McKessonMDTranscripts\" contains the following files:\n",
    "```\n",
    "│   manifest.json\n",
    "│   prompt.md\n",
    "│\n",
    "└───VectorStores\n",
    "    └───McKessonMDTranscripts\n",
    "            211101-MCK-Q2FY22-Earnings-Call-Transcript.md\n",
    "            220202-MCK-Q3FY22-Earnings-Call-Transcript.md\n",
    "            220505-MCK-Q4FY22-Earnings-Call-Transcript.md\n",
    "            220803-MCK-Q1FY23-Earnings-Call-Transcript.md\n",
    "            230508-MCK-Q4FY23-Earnings-Call-Transcript.md\n",
    "            230802-MCK-Q1FY24-Earnings-Call-Transcript.md\n",
    "            231101-MCK-Q2FY24-Earnings-Call-Transcript.md\n",
    "            MCK-Q1FY21-Transcript.md\n",
    "            MCK-Q1FY22-Transcript.md\n",
    "            MCK-Q2-FY23-Earnings-Transcript.md\n",
    "            MCK-Q2FY21-Transcript.md\n",
    "            MCK-Q3-FY24-Earnings-Transcript.md\n",
    "            MCK-Q4-FY24-Earnings-Call-Transcript.md\n",
    "            MCK-Q4FY21-Transcript.md\n",
    "            MCK-US-20230201-2761065-C.md\n",
    "            Q1-FY19-Earnings-Call-Transcript.md\n",
    "            Q1-FY20-Earnings-Call-Transcript.md\n",
    "            Q2-FY19-Earnings-Call-Transcript.md\n",
    "            Q2-FY20-Earnings-Call-Transcript.md\n",
    "            Q3-FY19-Earnings-Call-Transcript.md\n",
    "            Q3FY20-MCK-Earnings-Call-Transcript.md\n",
    "            Q3FY21-MCK-Earnings-Call-Transcript_FINAL.md\n",
    "            Q4-FY19-Earnings-Call-Transcript.md\n",
    "            Q4FY20-MCK-Corrected-Transcript.md            \n",
    "```        \n",
    "\n",
    "### Explanation\n",
    "AssistantUtility.Create will create the vector store if necessary, upload the files, and then update the manifest with the vector store ID before creating the assistant."
   ]
  },
  {
   "cell_type": "code",
   "execution_count": 2,
   "metadata": {
    "dotnet_interactive": {
     "language": "csharp"
    },
    "polyglot_notebook": {
     "kernelName": "csharp"
    },
    "vscode": {
     "languageId": "polyglot-notebook"
    }
   },
   "outputs": [
    {
     "name": "stdout",
     "output_type": "stream",
     "text": [
      "asst_WZ1DNQ9npBTjzoSR2fA8GpUp\r\n"
     ]
    }
   ],
   "source": [
    "var assistantId = await AssistantUtility.Create(\"McKessonMDTranscripts\", config);\n",
    "Console.WriteLine(assistantId)"
   ]
  },
  {
   "cell_type": "markdown",
   "metadata": {},
   "source": [
    "## Run the Assistant\n",
    "\n",
    "output.Dialog shows the conversation. "
   ]
  },
  {
   "cell_type": "code",
   "execution_count": 3,
   "metadata": {
    "dotnet_interactive": {
     "language": "csharp"
    },
    "polyglot_notebook": {
     "kernelName": "csharp"
    },
    "vscode": {
     "languageId": "polyglot-notebook"
    }
   },
   "outputs": [
    {
     "name": "stdout",
     "output_type": "stream",
     "text": [
      "\n",
      "User: How did covid impact results in Q3 2022?\n",
      "\n",
      "Assistant: I searched my knowledge base for the answer.\n",
      "\n",
      "COVID-19 had a significant impact on McKesson's results in Q3 2022. The company experienced a non-linear recovery from the pandemic, with volume and utilization trends initially recovering as COVID-19 cases declined. However, the emergence and spread of the Omicron variant in December caused unexpected disruptions, leading to a need to closely monitor the situation【4:0†source】【4:4†source】.\n",
      "\n",
      "The US Pharmaceutical segment saw a 12% adjusted operating profit growth, driven by contributions from COVID-19 vaccine distribution and increased specialty volume. The company successfully distributed over 370 million Moderna and Johnson & Johnson COVID-19 vaccines to administration sites across the United States and supported the US government's international donation mission【4:4†source】. Additionally, the contract with the US government for COVID-19 vaccine distribution provided a benefit of approximately $0.26 per share in the quarter【9:9†source】.\n",
      "\n",
      "In the Medical-Surgical Solutions segment, revenues were driven by growth in the primary care business and the contribution from kitting, storage, and distribution of ancillary supplies for COVID-19 vaccines【9:9†source】. Overall, COVID-19-related items and strong operational performance contributed to an 8% increase in adjusted gross profit and a 19% increase in adjusted operating profit compared to the prior year【9:9†source】.\n",
      "\r\n"
     ]
    }
   ],
   "source": [
    "var assistantRunOptions = new AssistantRunOptions() {\n",
    "    AssistantName = \"McKessonMDTranscripts\",\n",
    "    Instructions = \"How did covid impact results in Q3 2022?\",\n",
    "    UseConversationEvaluator = false\n",
    "};\n",
    "var output = await AntRunnerLib.AssistantRunner.RunThread(assistantRunOptions, config);\n",
    "Console.WriteLine(output.Dialog)"
   ]
  },
  {
   "cell_type": "code",
   "execution_count": 4,
   "metadata": {
    "dotnet_interactive": {
     "language": "csharp"
    },
    "polyglot_notebook": {
     "kernelName": "csharp"
    },
    "vscode": {
     "languageId": "polyglot-notebook"
    }
   },
   "outputs": [
    {
     "name": "stdout",
     "output_type": "stream",
     "text": [
      "COVID-19 had a significant impact on McKesson's results in Q3 2022. The company experienced a non-linear recovery from the pandemic, with volume and utilization trends initially recovering as COVID-19 cases declined. However, the emergence and spread of the Omicron variant in December caused unexpected disruptions, leading to a need to closely monitor the situation【4:0†source】【4:4†source】.\n",
      "\n",
      "The US Pharmaceutical segment saw a 12% adjusted operating profit growth, driven by contributions from COVID-19 vaccine distribution and increased specialty volume. The company successfully distributed over 370 million Moderna and Johnson & Johnson COVID-19 vaccines to administration sites across the United States and supported the US government's international donation mission【4:4†source】. Additionally, the contract with the US government for COVID-19 vaccine distribution provided a benefit of approximately $0.26 per share in the quarter【9:9†source】.\n",
      "\n",
      "In the Medical-Surgical Solutions segment, revenues were driven by growth in the primary care business and the contribution from kitting, storage, and distribution of ancillary supplies for COVID-19 vaccines【9:9†source】. Overall, COVID-19-related items and strong operational performance contributed to an 8% increase in adjusted gross profit and a 19% increase in adjusted operating profit compared to the prior year【9:9†source】.\r\n"
     ]
    }
   ],
   "source": [
    "Console.WriteLine(output.LastMessage)"
   ]
  },
  {
   "cell_type": "markdown",
   "metadata": {},
   "source": [
    "## Annotations"
   ]
  },
  {
   "cell_type": "code",
   "execution_count": 5,
   "metadata": {
    "dotnet_interactive": {
     "language": "csharp"
    },
    "polyglot_notebook": {
     "kernelName": "csharp"
    },
    "vscode": {
     "languageId": "polyglot-notebook"
    }
   },
   "outputs": [
    {
     "name": "stdout",
     "output_type": "stream",
     "text": [
      "assistant-fjWqtpdCyNecNYDdGK9vhrG4\n",
      "assistant-fjWqtpdCyNecNYDdGK9vhrG4\n",
      "assistant-fjWqtpdCyNecNYDdGK9vhrG4\n"
     ]
    }
   ],
   "source": [
    "foreach(var annotation in output.Annotations)\n",
    "{\n",
    "    Console.WriteLine(annotation.FileCitation.FileId);\n",
    "}"
   ]
  },
  {
   "cell_type": "markdown",
   "metadata": {},
   "source": [
    "## Clean Up"
   ]
  },
  {
   "cell_type": "code",
   "execution_count": null,
   "metadata": {
    "vscode": {
     "languageId": "polyglot-notebook"
    }
   },
   "outputs": [],
   "source": [
    "var assistant = (await client.AssistantList())?.Data?.FirstOrDefault(o => o.Name == \"McKessonMDTranscripts\");\n",
    "if(assistant != null) {\n",
    "    await client.AssistantDelete(assistant.Id);\n",
    "    Console.WriteLine(\"Deleted assistant\");\n",
    "}\n",
    "else\n",
    "{\n",
    "    Console.WriteLine(\"Didn't find MsGraphUserProfile\");\n",
    "}"
   ]
  }
 ],
 "metadata": {
  "kernelspec": {
   "display_name": ".NET (C#)",
   "language": "C#",
   "name": ".net-csharp"
  },
  "language_info": {
   "name": "python"
  },
  "polyglot_notebook": {
   "kernelInfo": {
    "defaultKernelName": "csharp",
    "items": [
     {
      "aliases": [],
      "name": "csharp"
     }
    ]
   }
  }
 },
 "nbformat": 4,
 "nbformat_minor": 2
}
