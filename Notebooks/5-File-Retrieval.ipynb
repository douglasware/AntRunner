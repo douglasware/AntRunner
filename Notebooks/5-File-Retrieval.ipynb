{
 "cells": [
  {
   "cell_type": "markdown",
   "metadata": {},
   "source": [
    "## File search assistant\n",
    "The McKessonMDTranscripts demonstrates the creation and execution of an assistant using the file_search feature with a knowledge base based on earnings call transcripts downloaded from the internet.\n",
    "\n",
    "## First steps\n",
    "- First, download AntRunLib from Nuget\n",
    "- At least once, set up the environment using **[0-AI-settings](0-AI-settings.ipynb)**"
   ]
  },
  {
   "cell_type": "code",
   "execution_count": 17,
   "metadata": {
    "dotnet_interactive": {
     "language": "csharp"
    },
    "polyglot_notebook": {
     "kernelName": "csharp"
    },
    "vscode": {
     "languageId": "polyglot-notebook"
    }
   },
   "outputs": [
    {
     "data": {
      "text/html": [
       "<div><div></div><div></div><div><strong>Installed Packages</strong><ul><li><span>AntRunnerLib, 0.6.14</span></li></ul></div></div>"
      ]
     },
     "metadata": {},
     "output_type": "display_data"
    }
   ],
   "source": [
    "#r \"nuget: AntRunnerLib, 0.6.15\"\n",
    "\n",
    "using AntRunnerLib;\n",
    "using AntRunnerLib.Identity;\n",
    "using static AntRunnerLib.ClientUtility;\n",
    "using System.IO;\n",
    "\n",
    "#!import config/Settings.cs \n",
    "\n",
    "var envVariables = Settings.GetEnvironmentVariables();\n",
    "foreach (var kvp in envVariables)\n",
    "{\n",
    "    Environment.SetEnvironmentVariable(kvp.Key, kvp.Value);\n",
    "}\n",
    "\n",
    "var config = AzureOpenAiConfigFactory.Get();\n",
    "var client = GetOpenAiClient(config);\n"
   ]
  },
  {
   "cell_type": "markdown",
   "metadata": {},
   "source": [
    "## Ensure the McKessonMDTranscripts assistant exists\n",
    "The definition of this assistant is located in the \".\\AssistantDefinitions\\McKessonMDTranscripts\" folder\n",
    "\n",
    "\".\\AssistantDefinitions\\\" is a default path. You can override it by setting the **ASSISTANTS_BASE_FOLDER_PATH** environment variable.\n",
    "\n",
    "\"McKessonMDTranscripts\" contains the following files:\n",
    "```\n",
    "│   manifest.json\n",
    "│   prompt.md\n",
    "│\n",
    "└───VectorStores\n",
    "    └───McKessonMDTranscripts\n",
    "            211101-MCK-Q2FY22-Earnings-Call-Transcript.md\n",
    "            220202-MCK-Q3FY22-Earnings-Call-Transcript.md\n",
    "            220505-MCK-Q4FY22-Earnings-Call-Transcript.md\n",
    "            220803-MCK-Q1FY23-Earnings-Call-Transcript.md\n",
    "            230508-MCK-Q4FY23-Earnings-Call-Transcript.md\n",
    "            230802-MCK-Q1FY24-Earnings-Call-Transcript.md\n",
    "            231101-MCK-Q2FY24-Earnings-Call-Transcript.md\n",
    "            MCK-Q1FY21-Transcript.md\n",
    "            MCK-Q1FY22-Transcript.md\n",
    "            MCK-Q2-FY23-Earnings-Transcript.md\n",
    "            MCK-Q2FY21-Transcript.md\n",
    "            MCK-Q3-FY24-Earnings-Transcript.md\n",
    "            MCK-Q4-FY24-Earnings-Call-Transcript.md\n",
    "            MCK-Q4FY21-Transcript.md\n",
    "            MCK-US-20230201-2761065-C.md\n",
    "            Q1-FY19-Earnings-Call-Transcript.md\n",
    "            Q1-FY20-Earnings-Call-Transcript.md\n",
    "            Q2-FY19-Earnings-Call-Transcript.md\n",
    "            Q2-FY20-Earnings-Call-Transcript.md\n",
    "            Q3-FY19-Earnings-Call-Transcript.md\n",
    "            Q3FY20-MCK-Earnings-Call-Transcript.md\n",
    "            Q3FY21-MCK-Earnings-Call-Transcript_FINAL.md\n",
    "            Q4-FY19-Earnings-Call-Transcript.md\n",
    "            Q4FY20-MCK-Corrected-Transcript.md\n",
    "```\n",
    "\n",
    "### Explanation\n",
    "`AssistantUtility.Create` will create the vector store if necessary, upload the files, and then update the manifest with the vector store ID before creating the assistant."
   ]
  },
  {
   "cell_type": "code",
   "execution_count": 2,
   "metadata": {
    "dotnet_interactive": {
     "language": "csharp"
    },
    "polyglot_notebook": {
     "kernelName": "csharp"
    },
    "vscode": {
     "languageId": "polyglot-notebook"
    }
   },
   "outputs": [
    {
     "name": "stdout",
     "output_type": "stream",
     "text": [
      "asst_q7WBKiltPJVsEJvCZdojd3C2\r\n"
     ]
    }
   ],
   "source": [
    "var assistantId = await AssistantUtility.Create(\"McKessonMDTranscripts\", config);\n",
    "Console.WriteLine(assistantId)"
   ]
  },
  {
   "cell_type": "markdown",
   "metadata": {},
   "source": [
    "## Run the Assistant\n",
    "\n",
    "`output.Dialog` shows the conversation."
   ]
  },
  {
   "cell_type": "code",
   "execution_count": 19,
   "metadata": {
    "dotnet_interactive": {
     "language": "csharp"
    },
    "polyglot_notebook": {
     "kernelName": "csharp"
    },
    "vscode": {
     "languageId": "polyglot-notebook"
    }
   },
   "outputs": [
    {
     "ename": "Error",
     "evalue": "System.Exception: Unable to create assistant. Model not found and default model is missing or not set in config.\r\n   at AntRunnerLib.AssistantUtility.Create(AssistantCreateRequest assistantCreateRequest, AzureOpenAiConfig azureOpenAiConfig)\r\n   at AntRunnerLib.AssistantUtility.GetAssistantId(String assistantResourceName, AzureOpenAiConfig azureOpenAiConfig, Boolean autoCreate)\r\n   at AntRunnerLib.AssistantRunner.RunThread(AssistantRunOptions assistantRunOptions, AzureOpenAiConfig config, Boolean autoCreate)\r\n   at Submission#24.<<Initialize>>d__0.MoveNext()\r\n--- End of stack trace from previous location ---\r\n   at Microsoft.CodeAnalysis.Scripting.ScriptExecutionState.RunSubmissionsAsync[TResult](ImmutableArray`1 precedingExecutors, Func`2 currentExecutor, StrongBox`1 exceptionHolderOpt, Func`2 catchExceptionOpt, CancellationToken cancellationToken)",
     "output_type": "error",
     "traceback": [
      "System.Exception: Unable to create assistant. Model not found and default model is missing or not set in config.\r\n",
      "   at AntRunnerLib.AssistantUtility.Create(AssistantCreateRequest assistantCreateRequest, AzureOpenAiConfig azureOpenAiConfig)\r\n",
      "   at AntRunnerLib.AssistantUtility.GetAssistantId(String assistantResourceName, AzureOpenAiConfig azureOpenAiConfig, Boolean autoCreate)\r\n",
      "   at AntRunnerLib.AssistantRunner.RunThread(AssistantRunOptions assistantRunOptions, AzureOpenAiConfig config, Boolean autoCreate)\r\n",
      "   at Submission#24.<<Initialize>>d__0.MoveNext()\r\n",
      "--- End of stack trace from previous location ---\r\n",
      "   at Microsoft.CodeAnalysis.Scripting.ScriptExecutionState.RunSubmissionsAsync[TResult](ImmutableArray`1 precedingExecutors, Func`2 currentExecutor, StrongBox`1 exceptionHolderOpt, Func`2 catchExceptionOpt, CancellationToken cancellationToken)"
     ]
    }
   ],
   "source": [
    "var assistantRunOptions = new AssistantRunOptions() {\n",
    "    AssistantName = \"McKessonMDTranscripts\",\n",
    "    Instructions = \"How did covid impact results over time?\",\n",
    "    UseConversationEvaluator = false\n",
    "};\n",
    "var output = await AntRunnerLib.AssistantRunner.RunThread(assistantRunOptions, config);\n",
    "Console.WriteLine(output.Dialog)"
   ]
  },
  {
   "cell_type": "code",
   "execution_count": 12,
   "metadata": {
    "dotnet_interactive": {
     "language": "csharp"
    },
    "polyglot_notebook": {
     "kernelName": "csharp"
    },
    "vscode": {
     "languageId": "polyglot-notebook"
    }
   },
   "outputs": [
    {
     "name": "stdout",
     "output_type": "stream",
     "text": [
      "COVID-19 had a significant impact on McKesson's results over time, affecting various segments and financial metrics. Here is a detailed overview of the impacts observed:\n",
      "\n",
      "1. **Initial Impact and Demand Surge (Q4 FY20)**:\n",
      "   - The onset of the pandemic led to increased demand for pharmaceuticals, personal protective equipment (PPE), and other medical supplies. This resulted in approximately $2 billion of incremental revenue in the fourth quarter of fiscal 2020, primarily driven by higher customer demand for pharmaceuticals【4:0†source】【4:13†source】.\n",
      "\n",
      "2. **Operational Adjustments and Early Pandemic Challenges (Q1 FY21)**:\n",
      "   - In the first quarter of fiscal 2021, prescription transaction volumes were uneven, and oncology visits were significantly impacted but later improved. Revenues from the Echo business in the UK grew over 300% from pre-pandemic levels due to increased demand for digital healthcare solutions【4:9†source】.\n",
      "\n",
      "3. **Vaccine Distribution and Testing Demand (Q3 FY21)**:\n",
      "   - McKesson played a crucial role in distributing COVID-19 vaccines and ancillary supply kits for the US government. The company recognized benefits from these activities, which contributed to adjusted earnings and operating profit growth【4:12†source】【4:17†source】.\n",
      "\n",
      "4. **Sustained Impact and Variability (Q4 FY21)**:\n",
      "   - The impact of COVID-19 continued to demonstrate variability, with demand for COVID-19-related products and services fluctuating. McKesson experienced increased demand for COVID-19 tests and PPE, contributing to revenue growth in the Medical-Surgical Solutions segment【4:16†source】.\n",
      "\n",
      "5. **Decline in COVID-19-Related Contributions (FY22)**:\n",
      "   - In fiscal 2022, the contributions from COVID-19 tests and vaccine distribution began to decline. The company experienced a 60% increase in COVID-19 test demand in January due to the Omicron variant, followed by a 90% decrease in test volumes by March【4:6†source】【4:7†source】.\n",
      "\n",
      "6. **Ongoing Impact and Future Outlook (Q4 FY23)**:\n",
      "   - For the full year of fiscal 2023, COVID-19-related items provided a benefit of $216 million, compared to $371 million in fiscal 2022. The company's results were impacted by lower sales of COVID-19 tests and lower contributions from the kitting, storage, and distribution of ancillary supplies【4:0†source】【4:8†source】.\n",
      "\n",
      "Overall, McKesson's financial performance was significantly influenced by the COVID-19 pandemic, with initial surges in demand for pharmaceuticals and medical supplies, followed by contributions from vaccine distribution and testing. As the pandemic progressed, the variability in demand for COVID-19-related products and services continued to impact the company's results.\r\n"
     ]
    }
   ],
   "source": [
    "Console.WriteLine(output.LastMessage)"
   ]
  },
  {
   "cell_type": "markdown",
   "metadata": {},
   "source": [
    "## Annotations"
   ]
  },
  {
   "cell_type": "code",
   "execution_count": null,
   "metadata": {
    "vscode": {
     "languageId": "polyglot-notebook"
    }
   },
   "outputs": [
    {
     "name": "stdout",
     "output_type": "stream",
     "text": [
      "[\r\n",
      "  {\r\n",
      "    \"type\": \"file_citation\",\r\n",
      "    \"text\": \"\\u30104:0\\u2020source\\u3011\",\r\n",
      "    \"start_index\": 527,\r\n",
      "    \"end_index\": 539,\r\n",
      "    \"file_citation\": {\r\n",
      "      \"file_id\": \"assistant-fslYRzYxsqiFwPGd7Fns83se\",\r\n",
      "      \"file_name\": \"\",\r\n",
      "      \"quote\": null\r\n",
      "    }\r\n",
      "  },\r\n",
      "  {\r\n",
      "    \"type\": \"file_citation\",\r\n",
      "    \"text\": \"\\u30104:13\\u2020source\\u3011\",\r\n",
      "    \"start_index\": 539,\r\n",
      "    \"end_index\": 552,\r\n",
      "    \"file_citation\": {\r\n",
      "      \"file_id\": \"assistant-v1vgOsajg7zOoaHPJaHKvA3i\",\r\n",
      "      \"file_name\": \"\",\r\n",
      "      \"quote\": null\r\n",
      "    }\r\n",
      "  },\r\n",
      "  {\r\n",
      "    \"type\": \"file_citation\",\r\n",
      "    \"text\": \"\\u30104:9\\u2020source\\u3011\",\r\n",
      "    \"start_index\": 921,\r\n",
      "    \"end_index\": 933,\r\n",
      "    \"file_citation\": {\r\n",
      "      \"file_id\": \"assistant-QaQenndgqbFTt9oZunYGcfv3\",\r\n",
      "      \"file_name\": \"\",\r\n",
      "      \"quote\": null\r\n",
      "    }\r\n",
      "  },\r\n",
      "  {\r\n",
      "    \"type\": \"file_citation\",\r\n",
      "    \"text\": \"\\u30104:12\\u2020source\\u3011\",\r\n",
      "    \"start_index\": 1234,\r\n",
      "    \"end_index\": 1247,\r\n",
      "    \"file_citation\": {\r\n",
      "      \"file_id\": \"assistant-LtpQtNw0yqJbx07lbEJahob9\",\r\n",
      "      \"file_name\": \"\",\r\n",
      "      \"quote\": null\r\n",
      "    }\r\n",
      "  },\r\n",
      "  {\r\n",
      "    \"type\": \"file_citation\",\r\n",
      "    \"text\": \"\\u30104:17\\u2020source\\u3011\",\r\n",
      "    \"start_index\": 1247,\r\n",
      "    \"end_index\": 1260,\r\n",
      "    \"file_citation\": {\r\n",
      "      \"file_id\": \"assistant-LtpQtNw0yqJbx07lbEJahob9\",\r\n",
      "      \"file_name\": \"\",\r\n",
      "      \"quote\": null\r\n",
      "    }\r\n",
      "  },\r\n",
      "  {\r\n",
      "    \"type\": \"file_citation\",\r\n",
      "    \"text\": \"\\u30104:16\\u2020source\\u3011\",\r\n",
      "    \"start_index\": 1586,\r\n",
      "    \"end_index\": 1599,\r\n",
      "    \"file_citation\": {\r\n",
      "      \"file_id\": \"assistant-mLYhwg7I9ywfWQPh1xEf1IXY\",\r\n",
      "      \"file_name\": \"\",\r\n",
      "      \"quote\": null\r\n",
      "    }\r\n",
      "  },\r\n",
      "  {\r\n",
      "    \"type\": \"file_citation\",\r\n",
      "    \"text\": \"\\u30104:6\\u2020source\\u3011\",\r\n",
      "    \"start_index\": 1914,\r\n",
      "    \"end_index\": 1926,\r\n",
      "    \"file_citation\": {\r\n",
      "      \"file_id\": \"assistant-KVLQgIZo6R8UzDv01PXDkrR6\",\r\n",
      "      \"file_name\": \"\",\r\n",
      "      \"quote\": null\r\n",
      "    }\r\n",
      "  },\r\n",
      "  {\r\n",
      "    \"type\": \"file_citation\",\r\n",
      "    \"text\": \"\\u30104:7\\u2020source\\u3011\",\r\n",
      "    \"start_index\": 1926,\r\n",
      "    \"end_index\": 1938,\r\n",
      "    \"file_citation\": {\r\n",
      "      \"file_id\": \"assistant-KVLQgIZo6R8UzDv01PXDkrR6\",\r\n",
      "      \"file_name\": \"\",\r\n",
      "      \"quote\": null\r\n",
      "    }\r\n",
      "  },\r\n",
      "  {\r\n",
      "    \"type\": \"file_citation\",\r\n",
      "    \"text\": \"\\u30104:0\\u2020source\\u3011\",\r\n",
      "    \"start_index\": 2290,\r\n",
      "    \"end_index\": 2302,\r\n",
      "    \"file_citation\": {\r\n",
      "      \"file_id\": \"assistant-fslYRzYxsqiFwPGd7Fns83se\",\r\n",
      "      \"file_name\": \"\",\r\n",
      "      \"quote\": null\r\n",
      "    }\r\n",
      "  },\r\n",
      "  {\r\n",
      "    \"type\": \"file_citation\",\r\n",
      "    \"text\": \"\\u30104:8\\u2020source\\u3011\",\r\n",
      "    \"start_index\": 2302,\r\n",
      "    \"end_index\": 2314,\r\n",
      "    \"file_citation\": {\r\n",
      "      \"file_id\": \"assistant-fslYRzYxsqiFwPGd7Fns83se\",\r\n",
      "      \"file_name\": \"\",\r\n",
      "      \"quote\": null\r\n",
      "    }\r\n",
      "  }\r\n",
      "]\r\n"
     ]
    }
   ],
   "source": [
    "Console.WriteLine(JsonSerializer.Serialize(output.Annotations, new JsonSerializerOptions() { WriteIndented = true }));"
   ]
  },
  {
   "cell_type": "markdown",
   "metadata": {},
   "source": [
    "### Formatting Output\n",
    "The current version of the API leaves some things to be desired. First, because of chunking it can cite the same source twice. Second, 'quote' is supposed to contain a snippet, but currently, it is always null"
   ]
  },
  {
   "cell_type": "code",
   "execution_count": 15,
   "metadata": {
    "dotnet_interactive": {
     "language": "csharp"
    },
    "polyglot_notebook": {
     "kernelName": "csharp"
    },
    "vscode": {
     "languageId": "polyglot-notebook"
    }
   },
   "outputs": [
    {
     "name": "stdout",
     "output_type": "stream",
     "text": [
      "assistant-fslYRzYxsqiFwPGd7Fns83se = McKessonMDTranscripts_230508-MCK-Q4FY23-Earnings-Call-Transcript.md\n",
      "assistant-v1vgOsajg7zOoaHPJaHKvA3i = McKessonMDTranscripts_Q4FY20-MCK-Corrected-Transcript.md\n",
      "assistant-QaQenndgqbFTt9oZunYGcfv3 = McKessonMDTranscripts_MCK-Q1FY21-Transcript.md\n",
      "assistant-LtpQtNw0yqJbx07lbEJahob9 = McKessonMDTranscripts_Q3FY21-MCK-Earnings-Call-Transcript_FINAL.md\n",
      "assistant-mLYhwg7I9ywfWQPh1xEf1IXY = McKessonMDTranscripts_MCK-Q4FY21-Transcript.md\n",
      "assistant-KVLQgIZo6R8UzDv01PXDkrR6 = McKessonMDTranscripts_220505-MCK-Q4FY22-Earnings-Call-Transcript.md\n",
      "-------------------\n",
      "COVID-19 had a significant impact on McKesson's results over time, affecting various segments and financial metrics. Here is a detailed overview of the impacts observed:\n",
      "\n",
      "1. **Initial Impact and Demand Surge (Q4 FY20)**:\n",
      "   - The onset of the pandemic led to increased demand for pharmaceuticals, personal protective equipment (PPE), and other medical supplies. This resulted in approximately $2 billion of incremental revenue in the fourth quarter of fiscal 2020, primarily driven by higher customer demand for pharmaceuticals(McKessonMDTranscripts_230508-MCK-Q4FY23-Earnings-Call-Transcript.md)(McKessonMDTranscripts_Q4FY20-MCK-Corrected-Transcript.md).\n",
      "\n",
      "2. **Operational Adjustments and Early Pandemic Challenges (Q1 FY21)**:\n",
      "   - In the first quarter of fiscal 2021, prescription transaction volumes were uneven, and oncology visits were significantly impacted but later improved. Revenues from the Echo business in the UK grew over 300% from pre-pandemic levels due to increased demand for digital healthcare solutions(McKessonMDTranscripts_MCK-Q1FY21-Transcript.md).\n",
      "\n",
      "3. **Vaccine Distribution and Testing Demand (Q3 FY21)**:\n",
      "   - McKesson played a crucial role in distributing COVID-19 vaccines and ancillary supply kits for the US government. The company recognized benefits from these activities, which contributed to adjusted earnings and operating profit growth(McKessonMDTranscripts_Q3FY21-MCK-Earnings-Call-Transcript_FINAL.md)(McKessonMDTranscripts_Q3FY21-MCK-Earnings-Call-Transcript_FINAL.md).\n",
      "\n",
      "4. **Sustained Impact and Variability (Q4 FY21)**:\n",
      "   - The impact of COVID-19 continued to demonstrate variability, with demand for COVID-19-related products and services fluctuating. McKesson experienced increased demand for COVID-19 tests and PPE, contributing to revenue growth in the Medical-Surgical Solutions segment(McKessonMDTranscripts_MCK-Q4FY21-Transcript.md).\n",
      "\n",
      "5. **Decline in COVID-19-Related Contributions (FY22)**:\n",
      "   - In fiscal 2022, the contributions from COVID-19 tests and vaccine distribution began to decline. The company experienced a 60% increase in COVID-19 test demand in January due to the Omicron variant, followed by a 90% decrease in test volumes by March(McKessonMDTranscripts_220505-MCK-Q4FY22-Earnings-Call-Transcript.md)(McKessonMDTranscripts_220505-MCK-Q4FY22-Earnings-Call-Transcript.md).\n",
      "\n",
      "6. **Ongoing Impact and Future Outlook (Q4 FY23)**:\n",
      "   - For the full year of fiscal 2023, COVID-19-related items provided a benefit of $216 million, compared to $371 million in fiscal 2022. The company's results were impacted by lower sales of COVID-19 tests and lower contributions from the kitting, storage, and distribution of ancillary supplies(McKessonMDTranscripts_230508-MCK-Q4FY23-Earnings-Call-Transcript.md)(McKessonMDTranscripts_230508-MCK-Q4FY23-Earnings-Call-Transcript.md).\n",
      "\n",
      "Overall, McKesson's financial performance was significantly influenced by the COVID-19 pandemic, with initial surges in demand for pharmaceuticals and medical supplies, followed by contributions from vaccine distribution and testing. As the pandemic progressed, the variability in demand for COVID-19-related products and services continued to impact the company's results.\n"
     ]
    }
   ],
   "source": [
    "var files = new Dictionary<string, string>();\n",
    "var annotatedMessage = output.LastMessage;\n",
    "foreach(var annotation in output.Annotations)\n",
    "{\n",
    "    // Only get the file name once per id\n",
    "    if(!files.ContainsKey(annotation.FileCitation.FileId))\n",
    "    {\n",
    "        files[annotation.FileCitation.FileId] = await annotation.GetFileName(config);\n",
    "    }\n",
    "    // But the annotation itself may be a duplicate citation to the same file, so one must process them all\n",
    "    // You can format the replacement however you like. In this case it just wraps the filename with parans ()\n",
    "    annotatedMessage = annotatedMessage.Replace(annotation.Text, $\"({files[annotation.FileCitation.FileId]})\");\n",
    "}\n",
    "\n",
    "foreach(var file in files)\n",
    "{\n",
    "    Console.WriteLine($\"{file.Key} = {file.Value}\");\n",
    "}\n",
    "Console.WriteLine(\"-------------------\");\n",
    "Console.WriteLine(annotatedMessage);"
   ]
  },
  {
   "cell_type": "markdown",
   "metadata": {},
   "source": [
    "## Clean Up"
   ]
  },
  {
   "cell_type": "code",
   "execution_count": 16,
   "metadata": {
    "dotnet_interactive": {
     "language": "csharp"
    },
    "polyglot_notebook": {
     "kernelName": "csharp"
    },
    "vscode": {
     "languageId": "polyglot-notebook"
    }
   },
   "outputs": [
    {
     "name": "stdout",
     "output_type": "stream",
     "text": [
      "Deleted assistant\r\n"
     ]
    }
   ],
   "source": [
    "var assistant = (await client.AssistantList())?.Data?.FirstOrDefault(o => o.Name == \"McKessonMDTranscripts\");\n",
    "if(assistant != null) {\n",
    "    await client.AssistantDelete(assistant.Id);\n",
    "    Console.WriteLine(\"Deleted assistant\");\n",
    "}\n",
    "else\n",
    "{\n",
    "    Console.WriteLine(\"Didn't find MsGraphUserProfile\");\n",
    "}"
   ]
  }
 ],
 "metadata": {
  "kernelspec": {
   "display_name": ".NET (C#)",
   "language": "C#",
   "name": ".net-csharp"
  },
  "language_info": {
   "name": "python"
  },
  "polyglot_notebook": {
   "kernelInfo": {
    "defaultKernelName": "csharp",
    "items": [
     {
      "aliases": [],
      "name": "csharp"
     }
    ]
   }
  }
 },
 "nbformat": 4,
 "nbformat_minor": 2
}
