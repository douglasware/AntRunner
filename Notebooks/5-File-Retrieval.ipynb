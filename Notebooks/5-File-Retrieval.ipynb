{
 "cells": [
  {
   "cell_type": "markdown",
   "metadata": {},
   "source": [
    "## File search assistant\n",
    "The McKessonMDTranscripts demonstrates the creation and execution of an assistant using the file_search feature with a knowledge base based on earnings call transcripts downloaded from the internet.\n",
    "\n",
    "## First steps\n",
    "- First, download AntRunLib from Nuget\n",
    "- At least once, set up the environment using **[0-AI-settings](0-AI-settings.ipynb)**"
   ]
  },
  {
   "cell_type": "code",
   "execution_count": 1,
   "metadata": {
    "dotnet_interactive": {
     "language": "csharp"
    },
    "polyglot_notebook": {
     "kernelName": "csharp"
    },
    "vscode": {
     "languageId": "polyglot-notebook"
    }
   },
   "outputs": [
    {
     "data": {
      "text/html": [
       "<div><div></div><div></div><div><strong>Installed Packages</strong><ul><li><span>AntRunnerLib, 0.7.7</span></li></ul></div></div>"
      ]
     },
     "metadata": {},
     "output_type": "display_data"
    }
   ],
   "source": [
    "#r \"nuget: AntRunnerLib, 0.7.7\"\n",
    "\n",
    "using AntRunnerLib;\n",
    "using AntRunnerLib.Identity;\n",
    "using static AntRunnerLib.ClientUtility;\n",
    "using System.IO;\n",
    "\n",
    "#!import config/Settings.cs \n",
    "\n",
    "var envVariables = Settings.GetEnvironmentVariables();\n",
    "foreach (var kvp in envVariables)\n",
    "{\n",
    "    Environment.SetEnvironmentVariable(kvp.Key, kvp.Value);\n",
    "}\n",
    "\n",
    "var config = AzureOpenAiConfigFactory.Get();\n",
    "var client = GetOpenAiClient(config);\n"
   ]
  },
  {
   "cell_type": "markdown",
   "metadata": {},
   "source": [
    "## Ensure the McKessonMDTranscripts assistant exists\n",
    "The definition of this assistant is located in the \".\\AssistantDefinitions\\McKessonMDTranscripts\" folder\n",
    "\n",
    "\".\\AssistantDefinitions\\\" is a default path. You can override it by setting the **ASSISTANTS_BASE_FOLDER_PATH** environment variable.\n",
    "\n",
    "\"McKessonMDTranscripts\" contains the following files:\n",
    "```\n",
    "│   manifest.json\n",
    "│   prompt.md\n",
    "│\n",
    "└───VectorStores\n",
    "    └───McKessonMDTranscripts\n",
    "            211101-MCK-Q2FY22-Earnings-Call-Transcript.md\n",
    "            220202-MCK-Q3FY22-Earnings-Call-Transcript.md\n",
    "            220505-MCK-Q4FY22-Earnings-Call-Transcript.md\n",
    "            220803-MCK-Q1FY23-Earnings-Call-Transcript.md\n",
    "            230508-MCK-Q4FY23-Earnings-Call-Transcript.md\n",
    "            230802-MCK-Q1FY24-Earnings-Call-Transcript.md\n",
    "            231101-MCK-Q2FY24-Earnings-Call-Transcript.md\n",
    "            MCK-Q1FY21-Transcript.md\n",
    "            MCK-Q1FY22-Transcript.md\n",
    "            MCK-Q2-FY23-Earnings-Transcript.md\n",
    "            MCK-Q2FY21-Transcript.md\n",
    "            MCK-Q3-FY24-Earnings-Transcript.md\n",
    "            MCK-Q4-FY24-Earnings-Call-Transcript.md\n",
    "            MCK-Q4FY21-Transcript.md\n",
    "            MCK-US-20230201-2761065-C.md\n",
    "            Q1-FY19-Earnings-Call-Transcript.md\n",
    "            Q1-FY20-Earnings-Call-Transcript.md\n",
    "            Q2-FY19-Earnings-Call-Transcript.md\n",
    "            Q2-FY20-Earnings-Call-Transcript.md\n",
    "            Q3-FY19-Earnings-Call-Transcript.md\n",
    "            Q3FY20-MCK-Earnings-Call-Transcript.md\n",
    "            Q3FY21-MCK-Earnings-Call-Transcript_FINAL.md\n",
    "            Q4-FY19-Earnings-Call-Transcript.md\n",
    "            Q4FY20-MCK-Corrected-Transcript.md\n",
    "```\n",
    "\n",
    "### Explanation\n",
    "`AssistantUtility.Create` will create the vector store if necessary, upload the files, and then update the manifest with the vector store ID before creating the assistant."
   ]
  },
  {
   "cell_type": "code",
   "execution_count": 2,
   "metadata": {
    "dotnet_interactive": {
     "language": "csharp"
    },
    "polyglot_notebook": {
     "kernelName": "csharp"
    },
    "vscode": {
     "languageId": "polyglot-notebook"
    }
   },
   "outputs": [
    {
     "name": "stdout",
     "output_type": "stream",
     "text": [
      "asst_SqufMGVEUynBcBCb6vSlPJdB\r\n"
     ]
    }
   ],
   "source": [
    "var assistantId = await AssistantUtility.Create(\"McKessonMDTranscripts\", config);\n",
    "Console.WriteLine(assistantId)"
   ]
  },
  {
   "cell_type": "markdown",
   "metadata": {},
   "source": [
    "## Run the Assistant\n",
    "\n",
    "`output.Dialog` shows the conversation."
   ]
  },
  {
   "cell_type": "code",
   "execution_count": 3,
   "metadata": {
    "dotnet_interactive": {
     "language": "csharp"
    },
    "polyglot_notebook": {
     "kernelName": "csharp"
    },
    "vscode": {
     "languageId": "polyglot-notebook"
    }
   },
   "outputs": [
    {
     "data": {
      "text/markdown": [
       "\n",
       "User: How did covid impact results over time?\n",
       "\n",
       "Assistant: I searched my knowledge base for the answer.\n",
       "\n",
       "COVID-19 had significant and varied impacts on McKesson's financial results over time. Here is a summary of the key impacts:\n",
       "\n",
       "1. **Fiscal 2020**:\n",
       "   - The onset of the COVID-19 pandemic led to increased demand for pharmaceuticals and personal protective equipment (PPE), resulting in approximately $2 billion of incremental revenue in the fourth quarter【4:0†source】【4:3†source】.\n",
       "   - Adjusted gross profit for the fourth quarter was positively impacted by $65 million due to these increased volumes, although there were also higher operating expenses related to supporting frontline employees and a remote workforce【4:3†source】.\n",
       "   - The increased demand and consumer behavior changes provided a net tailwind to the fourth quarter revenue results【4:3†source】.\n",
       "\n",
       "2. **Fiscal 2021**:\n",
       "   - The first half of fiscal 2021 was challenging due to the pandemic, with expectations of gradual improvement in the second half【4:0†source】【4:4†source】.\n",
       "   - McKesson experienced increased demand for COVID-19 tests and uneven levels of demand for PPE throughout the fiscal year【4:1†source】.\n",
       "   - The company played a significant role in distributing COVID-19 vaccines and ancillary supply kits, which contributed to the financial results in the U.S. Pharmaceutical and Medical-Surgical segments【4:4†source】【4:17†source】.\n",
       "   - There was also a benefit from unplanned gains on equity investments within the McKesson Ventures portfolio【4:11†source】.\n",
       "   - Despite the challenges, McKesson's core business remained fundamentally sound, and the company increased its fiscal year 2021 guidance due to the execution of vaccine and kitting programs【4:12†source】【4:15†source】.\n",
       "\n",
       "3. **Fiscal 2022**:\n",
       "   - The demand for COVID-19-related products fluctuated, with a spike in COVID-19 tests in January 2022 due to the Omicron variant, followed by a decline in February and March【4:6†source】.\n",
       "   - The company recognized lower contributions from the U.S. government's COVID-19 programs, but these were partially offset by commercial COVID-19 distribution【4:14†source】.\n",
       "   - For the full year, COVID-19-related items provided a benefit of $216 million, compared to $371 million in fiscal 2022【4:2†source】.\n",
       "\n",
       "4. **Fiscal 2023**:\n",
       "   - Lower sales of COVID-19 tests and lower contributions from kitting, storage, and distribution of ancillary supplies to the U.S. government's COVID-19 program impacted the financial results【4:8†source】.\n",
       "   - The company's International segment saw a decrease in revenues and operating profit due to the completed divestitures within European businesses【4:8†source】.\n",
       "   - The contract with the U.S. government for COVID-19 vaccine distribution provided a benefit of $149 million for the full year, down from $186 million in fiscal 2022【4:8†source】.\n",
       "\n",
       "Overall, the impact of COVID-19 on McKesson's results varied over time, with initial increases in demand for pharmaceuticals and PPE, followed by contributions from vaccine distribution, and later fluctuations in demand for COVID-19-related products and services.\n"
      ]
     },
     "metadata": {},
     "output_type": "display_data"
    }
   ],
   "source": [
    "var assistantRunOptions = new AssistantRunOptions() {\n",
    "    AssistantName = \"McKessonMDTranscripts\",\n",
    "    Instructions = \"How did covid impact results over time?\",\n",
    "    UseConversationEvaluator = false\n",
    "};\n",
    "var output = await AntRunnerLib.AssistantRunner.RunThread(assistantRunOptions, config);\n",
    "output.Dialog.DisplayAs(\"text/markdown\");"
   ]
  },
  {
   "cell_type": "code",
   "execution_count": 4,
   "metadata": {
    "dotnet_interactive": {
     "language": "csharp"
    },
    "polyglot_notebook": {
     "kernelName": "csharp"
    },
    "vscode": {
     "languageId": "polyglot-notebook"
    }
   },
   "outputs": [
    {
     "data": {
      "text/markdown": [
       "COVID-19 had significant and varied impacts on McKesson's financial results over time. Here is a summary of the key impacts:\n",
       "\n",
       "1. **Fiscal 2020**:\n",
       "   - The onset of the COVID-19 pandemic led to increased demand for pharmaceuticals and personal protective equipment (PPE), resulting in approximately $2 billion of incremental revenue in the fourth quarter【4:0†source】【4:3†source】.\n",
       "   - Adjusted gross profit for the fourth quarter was positively impacted by $65 million due to these increased volumes, although there were also higher operating expenses related to supporting frontline employees and a remote workforce【4:3†source】.\n",
       "   - The increased demand and consumer behavior changes provided a net tailwind to the fourth quarter revenue results【4:3†source】.\n",
       "\n",
       "2. **Fiscal 2021**:\n",
       "   - The first half of fiscal 2021 was challenging due to the pandemic, with expectations of gradual improvement in the second half【4:0†source】【4:4†source】.\n",
       "   - McKesson experienced increased demand for COVID-19 tests and uneven levels of demand for PPE throughout the fiscal year【4:1†source】.\n",
       "   - The company played a significant role in distributing COVID-19 vaccines and ancillary supply kits, which contributed to the financial results in the U.S. Pharmaceutical and Medical-Surgical segments【4:4†source】【4:17†source】.\n",
       "   - There was also a benefit from unplanned gains on equity investments within the McKesson Ventures portfolio【4:11†source】.\n",
       "   - Despite the challenges, McKesson's core business remained fundamentally sound, and the company increased its fiscal year 2021 guidance due to the execution of vaccine and kitting programs【4:12†source】【4:15†source】.\n",
       "\n",
       "3. **Fiscal 2022**:\n",
       "   - The demand for COVID-19-related products fluctuated, with a spike in COVID-19 tests in January 2022 due to the Omicron variant, followed by a decline in February and March【4:6†source】.\n",
       "   - The company recognized lower contributions from the U.S. government's COVID-19 programs, but these were partially offset by commercial COVID-19 distribution【4:14†source】.\n",
       "   - For the full year, COVID-19-related items provided a benefit of $216 million, compared to $371 million in fiscal 2022【4:2†source】.\n",
       "\n",
       "4. **Fiscal 2023**:\n",
       "   - Lower sales of COVID-19 tests and lower contributions from kitting, storage, and distribution of ancillary supplies to the U.S. government's COVID-19 program impacted the financial results【4:8†source】.\n",
       "   - The company's International segment saw a decrease in revenues and operating profit due to the completed divestitures within European businesses【4:8†source】.\n",
       "   - The contract with the U.S. government for COVID-19 vaccine distribution provided a benefit of $149 million for the full year, down from $186 million in fiscal 2022【4:8†source】.\n",
       "\n",
       "Overall, the impact of COVID-19 on McKesson's results varied over time, with initial increases in demand for pharmaceuticals and PPE, followed by contributions from vaccine distribution, and later fluctuations in demand for COVID-19-related products and services."
      ]
     },
     "metadata": {},
     "output_type": "display_data"
    }
   ],
   "source": [
    "output.LastMessage.DisplayAs(\"text/markdown\");"
   ]
  },
  {
   "cell_type": "markdown",
   "metadata": {},
   "source": [
    "## Annotations"
   ]
  },
  {
   "cell_type": "code",
   "execution_count": 5,
   "metadata": {
    "dotnet_interactive": {
     "language": "csharp"
    },
    "polyglot_notebook": {
     "kernelName": "csharp"
    },
    "vscode": {
     "languageId": "polyglot-notebook"
    }
   },
   "outputs": [
    {
     "name": "stdout",
     "output_type": "stream",
     "text": [
      "[\r\n",
      "  {\r\n",
      "    \"type\": \"file_citation\",\r\n",
      "    \"text\": \"\\u30104:0\\u2020source\\u3011\",\r\n",
      "    \"start_index\": 353,\r\n",
      "    \"end_index\": 365,\r\n",
      "    \"file_citation\": {\r\n",
      "      \"file_id\": \"assistant-v1vgOsajg7zOoaHPJaHKvA3i\",\r\n",
      "      \"file_name\": \"\",\r\n",
      "      \"quote\": null\r\n",
      "    }\r\n",
      "  },\r\n",
      "  {\r\n",
      "    \"type\": \"file_citation\",\r\n",
      "    \"text\": \"\\u30104:3\\u2020source\\u3011\",\r\n",
      "    \"start_index\": 365,\r\n",
      "    \"end_index\": 377,\r\n",
      "    \"file_citation\": {\r\n",
      "      \"file_id\": \"assistant-v1vgOsajg7zOoaHPJaHKvA3i\",\r\n",
      "      \"file_name\": \"\",\r\n",
      "      \"quote\": null\r\n",
      "    }\r\n",
      "  },\r\n",
      "  {\r\n",
      "    \"type\": \"file_citation\",\r\n",
      "    \"text\": \"\\u30104:3\\u2020source\\u3011\",\r\n",
      "    \"start_index\": 615,\r\n",
      "    \"end_index\": 627,\r\n",
      "    \"file_citation\": {\r\n",
      "      \"file_id\": \"assistant-v1vgOsajg7zOoaHPJaHKvA3i\",\r\n",
      "      \"file_name\": \"\",\r\n",
      "      \"quote\": null\r\n",
      "    }\r\n",
      "  },\r\n",
      "  {\r\n",
      "    \"type\": \"file_citation\",\r\n",
      "    \"text\": \"\\u30104:3\\u2020source\\u3011\",\r\n",
      "    \"start_index\": 746,\r\n",
      "    \"end_index\": 758,\r\n",
      "    \"file_citation\": {\r\n",
      "      \"file_id\": \"assistant-v1vgOsajg7zOoaHPJaHKvA3i\",\r\n",
      "      \"file_name\": \"\",\r\n",
      "      \"quote\": null\r\n",
      "    }\r\n",
      "  },\r\n",
      "  {\r\n",
      "    \"type\": \"file_citation\",\r\n",
      "    \"text\": \"\\u30104:0\\u2020source\\u3011\",\r\n",
      "    \"start_index\": 912,\r\n",
      "    \"end_index\": 924,\r\n",
      "    \"file_citation\": {\r\n",
      "      \"file_id\": \"assistant-v1vgOsajg7zOoaHPJaHKvA3i\",\r\n",
      "      \"file_name\": \"\",\r\n",
      "      \"quote\": null\r\n",
      "    }\r\n",
      "  },\r\n",
      "  {\r\n",
      "    \"type\": \"file_citation\",\r\n",
      "    \"text\": \"\\u30104:4\\u2020source\\u3011\",\r\n",
      "    \"start_index\": 924,\r\n",
      "    \"end_index\": 936,\r\n",
      "    \"file_citation\": {\r\n",
      "      \"file_id\": \"assistant-mLYhwg7I9ywfWQPh1xEf1IXY\",\r\n",
      "      \"file_name\": \"\",\r\n",
      "      \"quote\": null\r\n",
      "    }\r\n",
      "  },\r\n",
      "  {\r\n",
      "    \"type\": \"file_citation\",\r\n",
      "    \"text\": \"\\u30104:1\\u2020source\\u3011\",\r\n",
      "    \"start_index\": 1062,\r\n",
      "    \"end_index\": 1074,\r\n",
      "    \"file_citation\": {\r\n",
      "      \"file_id\": \"assistant-LtpQtNw0yqJbx07lbEJahob9\",\r\n",
      "      \"file_name\": \"\",\r\n",
      "      \"quote\": null\r\n",
      "    }\r\n",
      "  },\r\n",
      "  {\r\n",
      "    \"type\": \"file_citation\",\r\n",
      "    \"text\": \"\\u30104:4\\u2020source\\u3011\",\r\n",
      "    \"start_index\": 1279,\r\n",
      "    \"end_index\": 1291,\r\n",
      "    \"file_citation\": {\r\n",
      "      \"file_id\": \"assistant-mLYhwg7I9ywfWQPh1xEf1IXY\",\r\n",
      "      \"file_name\": \"\",\r\n",
      "      \"quote\": null\r\n",
      "    }\r\n",
      "  },\r\n",
      "  {\r\n",
      "    \"type\": \"file_citation\",\r\n",
      "    \"text\": \"\\u30104:17\\u2020source\\u3011\",\r\n",
      "    \"start_index\": 1291,\r\n",
      "    \"end_index\": 1304,\r\n",
      "    \"file_citation\": {\r\n",
      "      \"file_id\": \"assistant-mLYhwg7I9ywfWQPh1xEf1IXY\",\r\n",
      "      \"file_name\": \"\",\r\n",
      "      \"quote\": null\r\n",
      "    }\r\n",
      "  },\r\n",
      "  {\r\n",
      "    \"type\": \"file_citation\",\r\n",
      "    \"text\": \"\\u30104:11\\u2020source\\u3011\",\r\n",
      "    \"start_index\": 1417,\r\n",
      "    \"end_index\": 1430,\r\n",
      "    \"file_citation\": {\r\n",
      "      \"file_id\": \"assistant-mLYhwg7I9ywfWQPh1xEf1IXY\",\r\n",
      "      \"file_name\": \"\",\r\n",
      "      \"quote\": null\r\n",
      "    }\r\n",
      "  },\r\n",
      "  {\r\n",
      "    \"type\": \"file_citation\",\r\n",
      "    \"text\": \"\\u30104:12\\u2020source\\u3011\",\r\n",
      "    \"start_index\": 1624,\r\n",
      "    \"end_index\": 1637,\r\n",
      "    \"file_citation\": {\r\n",
      "      \"file_id\": \"assistant-LtpQtNw0yqJbx07lbEJahob9\",\r\n",
      "      \"file_name\": \"\",\r\n",
      "      \"quote\": null\r\n",
      "    }\r\n",
      "  },\r\n",
      "  {\r\n",
      "    \"type\": \"file_citation\",\r\n",
      "    \"text\": \"\\u30104:15\\u2020source\\u3011\",\r\n",
      "    \"start_index\": 1637,\r\n",
      "    \"end_index\": 1650,\r\n",
      "    \"file_citation\": {\r\n",
      "      \"file_id\": \"assistant-LtpQtNw0yqJbx07lbEJahob9\",\r\n",
      "      \"file_name\": \"\",\r\n",
      "      \"quote\": null\r\n",
      "    }\r\n",
      "  },\r\n",
      "  {\r\n",
      "    \"type\": \"file_citation\",\r\n",
      "    \"text\": \"\\u30104:6\\u2020source\\u3011\",\r\n",
      "    \"start_index\": 1849,\r\n",
      "    \"end_index\": 1861,\r\n",
      "    \"file_citation\": {\r\n",
      "      \"file_id\": \"assistant-KVLQgIZo6R8UzDv01PXDkrR6\",\r\n",
      "      \"file_name\": \"\",\r\n",
      "      \"quote\": null\r\n",
      "    }\r\n",
      "  },\r\n",
      "  {\r\n",
      "    \"type\": \"file_citation\",\r\n",
      "    \"text\": \"\\u30104:14\\u2020source\\u3011\",\r\n",
      "    \"start_index\": 2024,\r\n",
      "    \"end_index\": 2037,\r\n",
      "    \"file_citation\": {\r\n",
      "      \"file_id\": \"assistant-zRvCwWZqpjdqkhSsF9aC2hVN\",\r\n",
      "      \"file_name\": \"\",\r\n",
      "      \"quote\": null\r\n",
      "    }\r\n",
      "  },\r\n",
      "  {\r\n",
      "    \"type\": \"file_citation\",\r\n",
      "    \"text\": \"\\u30104:2\\u2020source\\u3011\",\r\n",
      "    \"start_index\": 2161,\r\n",
      "    \"end_index\": 2173,\r\n",
      "    \"file_citation\": {\r\n",
      "      \"file_id\": \"assistant-fslYRzYxsqiFwPGd7Fns83se\",\r\n",
      "      \"file_name\": \"\",\r\n",
      "      \"quote\": null\r\n",
      "    }\r\n",
      "  },\r\n",
      "  {\r\n",
      "    \"type\": \"file_citation\",\r\n",
      "    \"text\": \"\\u30104:8\\u2020source\\u3011\",\r\n",
      "    \"start_index\": 2389,\r\n",
      "    \"end_index\": 2401,\r\n",
      "    \"file_citation\": {\r\n",
      "      \"file_id\": \"assistant-fslYRzYxsqiFwPGd7Fns83se\",\r\n",
      "      \"file_name\": \"\",\r\n",
      "      \"quote\": null\r\n",
      "    }\r\n",
      "  },\r\n",
      "  {\r\n",
      "    \"type\": \"file_citation\",\r\n",
      "    \"text\": \"\\u30104:8\\u2020source\\u3011\",\r\n",
      "    \"start_index\": 2552,\r\n",
      "    \"end_index\": 2564,\r\n",
      "    \"file_citation\": {\r\n",
      "      \"file_id\": \"assistant-fslYRzYxsqiFwPGd7Fns83se\",\r\n",
      "      \"file_name\": \"\",\r\n",
      "      \"quote\": null\r\n",
      "    }\r\n",
      "  },\r\n",
      "  {\r\n",
      "    \"type\": \"file_citation\",\r\n",
      "    \"text\": \"\\u30104:8\\u2020source\\u3011\",\r\n",
      "    \"start_index\": 2734,\r\n",
      "    \"end_index\": 2746,\r\n",
      "    \"file_citation\": {\r\n",
      "      \"file_id\": \"assistant-fslYRzYxsqiFwPGd7Fns83se\",\r\n",
      "      \"file_name\": \"\",\r\n",
      "      \"quote\": null\r\n",
      "    }\r\n",
      "  }\r\n",
      "]\r\n"
     ]
    }
   ],
   "source": [
    "Console.WriteLine(JsonSerializer.Serialize(output.Annotations, new JsonSerializerOptions() { WriteIndented = true }));"
   ]
  },
  {
   "cell_type": "markdown",
   "metadata": {},
   "source": [
    "### Formatting Output\n",
    "The current version of the API leaves some things to be desired. First, because of chunking it can cite the same source twice. Second, 'quote' is supposed to contain a snippet, but currently, it is always null"
   ]
  },
  {
   "cell_type": "code",
   "execution_count": 6,
   "metadata": {
    "dotnet_interactive": {
     "language": "csharp"
    },
    "polyglot_notebook": {
     "kernelName": "csharp"
    },
    "vscode": {
     "languageId": "polyglot-notebook"
    }
   },
   "outputs": [
    {
     "name": "stdout",
     "output_type": "stream",
     "text": [
      "assistant-v1vgOsajg7zOoaHPJaHKvA3i = McKessonMDTranscripts_Q4FY20-MCK-Corrected-Transcript.md\n",
      "assistant-mLYhwg7I9ywfWQPh1xEf1IXY = McKessonMDTranscripts_MCK-Q4FY21-Transcript.md\n",
      "assistant-LtpQtNw0yqJbx07lbEJahob9 = McKessonMDTranscripts_Q3FY21-MCK-Earnings-Call-Transcript_FINAL.md\n",
      "assistant-KVLQgIZo6R8UzDv01PXDkrR6 = McKessonMDTranscripts_220505-MCK-Q4FY22-Earnings-Call-Transcript.md\n",
      "assistant-zRvCwWZqpjdqkhSsF9aC2hVN = McKessonMDTranscripts_MCK-Q3-FY24-Earnings-Transcript.md\n",
      "assistant-fslYRzYxsqiFwPGd7Fns83se = McKessonMDTranscripts_230508-MCK-Q4FY23-Earnings-Call-Transcript.md\n",
      "-------------------\n"
     ]
    },
    {
     "data": {
      "text/markdown": [
       "COVID-19 had significant and varied impacts on McKesson's financial results over time. Here is a summary of the key impacts:\n",
       "\n",
       "1. **Fiscal 2020**:\n",
       "   - The onset of the COVID-19 pandemic led to increased demand for pharmaceuticals and personal protective equipment (PPE), resulting in approximately $2 billion of incremental revenue in the fourth quarter [McKessonMDTranscripts_Q4FY20-MCK-Corrected-Transcript.md](McKessonMDTranscripts_Q4FY20-MCK-Corrected-Transcript.md) [McKessonMDTranscripts_Q4FY20-MCK-Corrected-Transcript.md](McKessonMDTranscripts_Q4FY20-MCK-Corrected-Transcript.md).\n",
       "   - Adjusted gross profit for the fourth quarter was positively impacted by $65 million due to these increased volumes, although there were also higher operating expenses related to supporting frontline employees and a remote workforce [McKessonMDTranscripts_Q4FY20-MCK-Corrected-Transcript.md](McKessonMDTranscripts_Q4FY20-MCK-Corrected-Transcript.md).\n",
       "   - The increased demand and consumer behavior changes provided a net tailwind to the fourth quarter revenue results [McKessonMDTranscripts_Q4FY20-MCK-Corrected-Transcript.md](McKessonMDTranscripts_Q4FY20-MCK-Corrected-Transcript.md).\n",
       "\n",
       "2. **Fiscal 2021**:\n",
       "   - The first half of fiscal 2021 was challenging due to the pandemic, with expectations of gradual improvement in the second half [McKessonMDTranscripts_Q4FY20-MCK-Corrected-Transcript.md](McKessonMDTranscripts_Q4FY20-MCK-Corrected-Transcript.md) [McKessonMDTranscripts_MCK-Q4FY21-Transcript.md](McKessonMDTranscripts_MCK-Q4FY21-Transcript.md).\n",
       "   - McKesson experienced increased demand for COVID-19 tests and uneven levels of demand for PPE throughout the fiscal year [McKessonMDTranscripts_Q3FY21-MCK-Earnings-Call-Transcript_FINAL.md](McKessonMDTranscripts_Q3FY21-MCK-Earnings-Call-Transcript_FINAL.md).\n",
       "   - The company played a significant role in distributing COVID-19 vaccines and ancillary supply kits, which contributed to the financial results in the U.S. Pharmaceutical and Medical-Surgical segments [McKessonMDTranscripts_MCK-Q4FY21-Transcript.md](McKessonMDTranscripts_MCK-Q4FY21-Transcript.md) [McKessonMDTranscripts_MCK-Q4FY21-Transcript.md](McKessonMDTranscripts_MCK-Q4FY21-Transcript.md).\n",
       "   - There was also a benefit from unplanned gains on equity investments within the McKesson Ventures portfolio [McKessonMDTranscripts_MCK-Q4FY21-Transcript.md](McKessonMDTranscripts_MCK-Q4FY21-Transcript.md).\n",
       "   - Despite the challenges, McKesson's core business remained fundamentally sound, and the company increased its fiscal year 2021 guidance due to the execution of vaccine and kitting programs [McKessonMDTranscripts_Q3FY21-MCK-Earnings-Call-Transcript_FINAL.md](McKessonMDTranscripts_Q3FY21-MCK-Earnings-Call-Transcript_FINAL.md) [McKessonMDTranscripts_Q3FY21-MCK-Earnings-Call-Transcript_FINAL.md](McKessonMDTranscripts_Q3FY21-MCK-Earnings-Call-Transcript_FINAL.md).\n",
       "\n",
       "3. **Fiscal 2022**:\n",
       "   - The demand for COVID-19-related products fluctuated, with a spike in COVID-19 tests in January 2022 due to the Omicron variant, followed by a decline in February and March [McKessonMDTranscripts_220505-MCK-Q4FY22-Earnings-Call-Transcript.md](McKessonMDTranscripts_220505-MCK-Q4FY22-Earnings-Call-Transcript.md).\n",
       "   - The company recognized lower contributions from the U.S. government's COVID-19 programs, but these were partially offset by commercial COVID-19 distribution [McKessonMDTranscripts_MCK-Q3-FY24-Earnings-Transcript.md](McKessonMDTranscripts_MCK-Q3-FY24-Earnings-Transcript.md).\n",
       "   - For the full year, COVID-19-related items provided a benefit of $216 million, compared to $371 million in fiscal 2022 [McKessonMDTranscripts_230508-MCK-Q4FY23-Earnings-Call-Transcript.md](McKessonMDTranscripts_230508-MCK-Q4FY23-Earnings-Call-Transcript.md).\n",
       "\n",
       "4. **Fiscal 2023**:\n",
       "   - Lower sales of COVID-19 tests and lower contributions from kitting, storage, and distribution of ancillary supplies to the U.S. government's COVID-19 program impacted the financial results [McKessonMDTranscripts_230508-MCK-Q4FY23-Earnings-Call-Transcript.md](McKessonMDTranscripts_230508-MCK-Q4FY23-Earnings-Call-Transcript.md).\n",
       "   - The company's International segment saw a decrease in revenues and operating profit due to the completed divestitures within European businesses [McKessonMDTranscripts_230508-MCK-Q4FY23-Earnings-Call-Transcript.md](McKessonMDTranscripts_230508-MCK-Q4FY23-Earnings-Call-Transcript.md).\n",
       "   - The contract with the U.S. government for COVID-19 vaccine distribution provided a benefit of $149 million for the full year, down from $186 million in fiscal 2022 [McKessonMDTranscripts_230508-MCK-Q4FY23-Earnings-Call-Transcript.md](McKessonMDTranscripts_230508-MCK-Q4FY23-Earnings-Call-Transcript.md).\n",
       "\n",
       "Overall, the impact of COVID-19 on McKesson's results varied over time, with initial increases in demand for pharmaceuticals and PPE, followed by contributions from vaccine distribution, and later fluctuations in demand for COVID-19-related products and services."
      ]
     },
     "metadata": {},
     "output_type": "display_data"
    }
   ],
   "source": [
    "var files = new Dictionary<string, string>();\n",
    "var annotatedMessage = output.LastMessage;\n",
    "foreach(var annotation in output.Annotations)\n",
    "{\n",
    "    // Only get the file name once per id\n",
    "    if(!files.ContainsKey(annotation.FileCitation.FileId))\n",
    "    {\n",
    "        files[annotation.FileCitation.FileId] = await annotation.GetFileName(config);\n",
    "    }\n",
    "    // But the annotation itself may be a duplicate citation to the same file, so one must process them all\n",
    "    // You can format the replacement however you like. In this case it just makes an md link\n",
    "    annotatedMessage = annotatedMessage.Replace(annotation.Text, $\" [{files[annotation.FileCitation.FileId]}]({files[annotation.FileCitation.FileId]})\");\n",
    "}\n",
    "\n",
    "foreach(var file in files)\n",
    "{\n",
    "    Console.WriteLine($\"{file.Key} = {file.Value}\");\n",
    "}\n",
    "Console.WriteLine(\"-------------------\");\n",
    "annotatedMessage.DisplayAs(\"text/markdown\");"
   ]
  },
  {
   "cell_type": "markdown",
   "metadata": {},
   "source": [
    "## Clean Up"
   ]
  },
  {
   "cell_type": "code",
   "execution_count": 7,
   "metadata": {
    "dotnet_interactive": {
     "language": "csharp"
    },
    "polyglot_notebook": {
     "kernelName": "csharp"
    },
    "vscode": {
     "languageId": "polyglot-notebook"
    }
   },
   "outputs": [
    {
     "name": "stdout",
     "output_type": "stream",
     "text": [
      "Deleted assistant\r\n"
     ]
    }
   ],
   "source": [
    "var assistant = (await client.AssistantList())?.Data?.FirstOrDefault(o => o.Name == \"McKessonMDTranscripts\");\n",
    "if(assistant != null) {\n",
    "    await client.AssistantDelete(assistant.Id);\n",
    "    Console.WriteLine(\"Deleted assistant\");\n",
    "}\n",
    "else\n",
    "{\n",
    "    Console.WriteLine(\"Didn't find MsGraphUserProfile\");\n",
    "}"
   ]
  }
 ],
 "metadata": {
  "kernelspec": {
   "display_name": ".NET (C#)",
   "language": "C#",
   "name": ".net-csharp"
  },
  "language_info": {
   "name": "python"
  },
  "polyglot_notebook": {
   "kernelInfo": {
    "defaultKernelName": "csharp",
    "items": [
     {
      "aliases": [],
      "name": "csharp"
     }
    ]
   }
  }
 },
 "nbformat": 4,
 "nbformat_minor": 2
}
