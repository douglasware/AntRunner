{
 "cells": [
  {
   "cell_type": "markdown",
   "metadata": {},
   "source": [
    "## File search assistant\n",
    "The McKessonMDTranscripts demonstrates the creation and execution of an assistant using the file_search feature with a knowledge base based on earnings call transcripts downloaded from the internet.\n",
    "\n",
    "## First steps\n",
    "- First, download AntRunLib from Nuget\n",
    "- At least once, set up the environment using **[0-AI-settings](0-AI-settings.ipynb)**"
   ]
  },
  {
   "cell_type": "code",
   "execution_count": 1,
   "metadata": {
    "dotnet_interactive": {
     "language": "csharp"
    },
    "polyglot_notebook": {
     "kernelName": "csharp"
    },
    "vscode": {
     "languageId": "polyglot-notebook"
    }
   },
   "outputs": [
    {
     "data": {
      "text/html": [
       "<div><div></div><div></div><div><strong>Installed Packages</strong><ul><li><span>AntRunnerLib, 0.8.6</span></li></ul></div></div>"
      ]
     },
     "metadata": {},
     "output_type": "display_data"
    }
   ],
   "source": [
    "#r \"nuget: AntRunnerLib, 0.8.6\"\n",
    "\n",
    "using AntRunnerLib;\n",
    "using AntRunnerLib.Identity;\n",
    "using static AntRunnerLib.ClientUtility;\n",
    "using System.IO;\n",
    "\n",
    "#!import config/Settings.cs \n",
    "\n",
    "var envVariables = Settings.GetEnvironmentVariables();\n",
    "foreach (var kvp in envVariables)\n",
    "{\n",
    "    Environment.SetEnvironmentVariable(kvp.Key, kvp.Value);\n",
    "}\n",
    "\n",
    "var config = AzureOpenAiConfigFactory.Get();\n",
    "var client = GetOpenAiClient(config);\n"
   ]
  },
  {
   "cell_type": "markdown",
   "metadata": {},
   "source": [
    "## Ensure the McKessonMDTranscripts assistant exists\n",
    "The definition of this assistant is located in the \".\\AssistantDefinitions\\McKessonMDTranscripts\" folder\n",
    "\n",
    "\".\\AssistantDefinitions\\\" is a default path. You can override it by setting the **ASSISTANTS_BASE_FOLDER_PATH** environment variable.\n",
    "\n",
    "\"McKessonMDTranscripts\" contains the following files:\n",
    "```\n",
    "│   manifest.json\n",
    "│   prompt.md\n",
    "│\n",
    "└───VectorStores\n",
    "    └───McKessonMDTranscripts\n",
    "            211101-MCK-Q2FY22-Earnings-Call-Transcript.md\n",
    "            220202-MCK-Q3FY22-Earnings-Call-Transcript.md\n",
    "            220505-MCK-Q4FY22-Earnings-Call-Transcript.md\n",
    "            220803-MCK-Q1FY23-Earnings-Call-Transcript.md\n",
    "            230508-MCK-Q4FY23-Earnings-Call-Transcript.md\n",
    "            230802-MCK-Q1FY24-Earnings-Call-Transcript.md\n",
    "            231101-MCK-Q2FY24-Earnings-Call-Transcript.md\n",
    "            MCK-Q1FY21-Transcript.md\n",
    "            MCK-Q1FY22-Transcript.md\n",
    "            MCK-Q2-FY23-Earnings-Transcript.md\n",
    "            MCK-Q2FY21-Transcript.md\n",
    "            MCK-Q3-FY24-Earnings-Transcript.md\n",
    "            MCK-Q4-FY24-Earnings-Call-Transcript.md\n",
    "            MCK-Q4FY21-Transcript.md\n",
    "            MCK-US-20230201-2761065-C.md\n",
    "            Q1-FY19-Earnings-Call-Transcript.md\n",
    "            Q1-FY20-Earnings-Call-Transcript.md\n",
    "            Q2-FY19-Earnings-Call-Transcript.md\n",
    "            Q2-FY20-Earnings-Call-Transcript.md\n",
    "            Q3-FY19-Earnings-Call-Transcript.md\n",
    "            Q3FY20-MCK-Earnings-Call-Transcript.md\n",
    "            Q3FY21-MCK-Earnings-Call-Transcript_FINAL.md\n",
    "            Q4-FY19-Earnings-Call-Transcript.md\n",
    "            Q4FY20-MCK-Corrected-Transcript.md\n",
    "```\n",
    "\n",
    "### Explanation\n",
    "`AssistantUtility.Create` will create the vector store if necessary, upload the files, and then update the manifest with the vector store ID before creating the assistant."
   ]
  },
  {
   "cell_type": "code",
   "execution_count": 2,
   "metadata": {
    "dotnet_interactive": {
     "language": "csharp"
    },
    "polyglot_notebook": {
     "kernelName": "csharp"
    },
    "vscode": {
     "languageId": "polyglot-notebook"
    }
   },
   "outputs": [
    {
     "name": "stdout",
     "output_type": "stream",
     "text": [
      "asst_ij83tuvPAkayC9oWtM73NDgj\r\n"
     ]
    }
   ],
   "source": [
    "var assistantId = await AssistantUtility.Create(\"McKessonMDTranscripts\", config);\n",
    "Console.WriteLine(assistantId)"
   ]
  },
  {
   "cell_type": "markdown",
   "metadata": {},
   "source": [
    "## Run the Assistant\n",
    "\n",
    "`output.Dialog` shows the conversation."
   ]
  },
  {
   "cell_type": "code",
   "execution_count": 3,
   "metadata": {
    "dotnet_interactive": {
     "language": "csharp"
    },
    "polyglot_notebook": {
     "kernelName": "csharp"
    },
    "vscode": {
     "languageId": "polyglot-notebook"
    }
   },
   "outputs": [
    {
     "data": {
      "text/markdown": [
       "\n",
       "User: How did covid impact results over time?\n",
       "\n",
       "Assistant: I searched my knowledge base for the answer.\n",
       "\n",
       "The impact of COVID-19 on McKesson's results varied over time and across different segments of the business. Here are some highlights of how the pandemic affected their financial performance and operations:\n",
       "\n",
       "1. **Initial Impact and Increased Demand (Fiscal Q4 2020)**\n",
       "   - The World Health Organization declared COVID-19 a pandemic on March 11, 2020, leading to increased demand for pharmaceuticals and personal protective equipment (PPE). This resulted in approximately $2 billion of incremental revenue in the fiscal fourth quarter of 2020【4:0†source】【4:4†source】【4:13†source】.\n",
       "   - Adjusted gross profit was favorably impacted by about $65 million, offset by $15 million in variable operating expenses【4:0†source】.\n",
       "   - However, the company also faced approximately $45 million of one-time adjusted operating expenses, including investments in frontline employees and higher expenses to support a remote workforce【4:4†source】.\n",
       "\n",
       "2. **Challenging Early Fiscal 2021**\n",
       "   - The first half of fiscal 2021 was expected to be challenging, with the most severe impacts from COVID-19 occurring during the first fiscal quarter ending June 30, 2020【4:0†source】.\n",
       "   - By the first quarter of fiscal 2021, McKesson saw volumes decline due to the pandemic, with prescription transaction volumes uneven in April and May but improving in June. Oncology visits and telemedicine visits also adapted to the pandemic environment【4:9†source】【4:17†source】.\n",
       "\n",
       "3. **Recovery and Vaccine Distribution (Fiscal Q4 2021)**\n",
       "   - McKesson played a significant role in distributing COVID-19 vaccines and ancillary supply kits, which contributed to improved financial performance in the fourth quarter of fiscal 2021【4:11†source】【4:3†source】.\n",
       "   - The company recognized benefits from these programs, which helped drive fourth quarter adjusted earnings per diluted share up by 18% compared to the prior year【4:11†source】.\n",
       "\n",
       "4. **Continued Fluctuations and Vaccine Contributions (Fiscal Q3 2021 and Fiscal Q4 2022)**\n",
       "   - In fiscal Q3 2021, McKesson continued to see fluctuating demand due to the pandemic, with prescription volumes and primary care visits remaining below pre-COVID levels. The company benefited from its role in assembling and distributing COVID-19 vaccine supply kits【4:12†source】【4:16†source】.\n",
       "   - Fiscal Q4 2022 saw a decrease in COVID-19 vaccine distribution contributions, yet the company experienced growth in other areas such as specialty products and primary care businesses【4:6†source】【4:7†source】.\n",
       "\n",
       "5. **Decline in COVID-19 Related Contributions (Fiscal Q4 2023)**\n",
       "   - By fiscal Q4 2023, McKesson saw a decline in sales of COVID-19 tests and lower contributions from kitting, storage, and distribution of ancillary supplies for the US government's COVID-19 program. This was partially offset by growth in the primary care business【4:2†source】【4:8†source】.\n",
       "\n",
       "Overall, the COVID-19 pandemic had a significant but varying impact on McKesson's financial results, with periods of increased demand and revenue followed by declines as the pandemic evolved and vaccination efforts progressed. The company's ability to adapt and its involvement in vaccine distribution played crucial roles in its financial performance during these times.\n"
      ]
     },
     "metadata": {},
     "output_type": "display_data"
    }
   ],
   "source": [
    "var assistantRunOptions = new AssistantRunOptions() {\n",
    "    AssistantName = \"McKessonMDTranscripts\",\n",
    "    Instructions = \"How did covid impact results over time?\",\n",
    "    UseConversationEvaluator = false\n",
    "};\n",
    "var output = await AntRunnerLib.AssistantRunner.RunThread(assistantRunOptions, config);\n",
    "output.Dialog.DisplayAs(\"text/markdown\");"
   ]
  },
  {
   "cell_type": "code",
   "execution_count": 4,
   "metadata": {
    "dotnet_interactive": {
     "language": "csharp"
    },
    "polyglot_notebook": {
     "kernelName": "csharp"
    },
    "vscode": {
     "languageId": "polyglot-notebook"
    }
   },
   "outputs": [
    {
     "data": {
      "text/markdown": [
       "The impact of COVID-19 on McKesson's results varied over time and across different segments of the business. Here are some highlights of how the pandemic affected their financial performance and operations:\n",
       "\n",
       "1. **Initial Impact and Increased Demand (Fiscal Q4 2020)**\n",
       "   - The World Health Organization declared COVID-19 a pandemic on March 11, 2020, leading to increased demand for pharmaceuticals and personal protective equipment (PPE). This resulted in approximately $2 billion of incremental revenue in the fiscal fourth quarter of 2020【4:0†source】【4:4†source】【4:13†source】.\n",
       "   - Adjusted gross profit was favorably impacted by about $65 million, offset by $15 million in variable operating expenses【4:0†source】.\n",
       "   - However, the company also faced approximately $45 million of one-time adjusted operating expenses, including investments in frontline employees and higher expenses to support a remote workforce【4:4†source】.\n",
       "\n",
       "2. **Challenging Early Fiscal 2021**\n",
       "   - The first half of fiscal 2021 was expected to be challenging, with the most severe impacts from COVID-19 occurring during the first fiscal quarter ending June 30, 2020【4:0†source】.\n",
       "   - By the first quarter of fiscal 2021, McKesson saw volumes decline due to the pandemic, with prescription transaction volumes uneven in April and May but improving in June. Oncology visits and telemedicine visits also adapted to the pandemic environment【4:9†source】【4:17†source】.\n",
       "\n",
       "3. **Recovery and Vaccine Distribution (Fiscal Q4 2021)**\n",
       "   - McKesson played a significant role in distributing COVID-19 vaccines and ancillary supply kits, which contributed to improved financial performance in the fourth quarter of fiscal 2021【4:11†source】【4:3†source】.\n",
       "   - The company recognized benefits from these programs, which helped drive fourth quarter adjusted earnings per diluted share up by 18% compared to the prior year【4:11†source】.\n",
       "\n",
       "4. **Continued Fluctuations and Vaccine Contributions (Fiscal Q3 2021 and Fiscal Q4 2022)**\n",
       "   - In fiscal Q3 2021, McKesson continued to see fluctuating demand due to the pandemic, with prescription volumes and primary care visits remaining below pre-COVID levels. The company benefited from its role in assembling and distributing COVID-19 vaccine supply kits【4:12†source】【4:16†source】.\n",
       "   - Fiscal Q4 2022 saw a decrease in COVID-19 vaccine distribution contributions, yet the company experienced growth in other areas such as specialty products and primary care businesses【4:6†source】【4:7†source】.\n",
       "\n",
       "5. **Decline in COVID-19 Related Contributions (Fiscal Q4 2023)**\n",
       "   - By fiscal Q4 2023, McKesson saw a decline in sales of COVID-19 tests and lower contributions from kitting, storage, and distribution of ancillary supplies for the US government's COVID-19 program. This was partially offset by growth in the primary care business【4:2†source】【4:8†source】.\n",
       "\n",
       "Overall, the COVID-19 pandemic had a significant but varying impact on McKesson's financial results, with periods of increased demand and revenue followed by declines as the pandemic evolved and vaccination efforts progressed. The company's ability to adapt and its involvement in vaccine distribution played crucial roles in its financial performance during these times."
      ]
     },
     "metadata": {},
     "output_type": "display_data"
    }
   ],
   "source": [
    "output.LastMessage.DisplayAs(\"text/markdown\");"
   ]
  },
  {
   "cell_type": "markdown",
   "metadata": {},
   "source": [
    "## Annotations"
   ]
  },
  {
   "cell_type": "code",
   "execution_count": 5,
   "metadata": {
    "dotnet_interactive": {
     "language": "csharp"
    },
    "polyglot_notebook": {
     "kernelName": "csharp"
    },
    "vscode": {
     "languageId": "polyglot-notebook"
    }
   },
   "outputs": [
    {
     "name": "stdout",
     "output_type": "stream",
     "text": [
      "[\r\n",
      "  {\r\n",
      "    \"type\": \"file_citation\",\r\n",
      "    \"text\": \"\\u30104:0\\u2020source\\u3011\",\r\n",
      "    \"start_index\": 541,\r\n",
      "    \"end_index\": 553,\r\n",
      "    \"file_citation\": {\r\n",
      "      \"file_id\": \"assistant-v1vgOsajg7zOoaHPJaHKvA3i\",\r\n",
      "      \"file_name\": \"\",\r\n",
      "      \"quote\": null\r\n",
      "    }\r\n",
      "  },\r\n",
      "  {\r\n",
      "    \"type\": \"file_citation\",\r\n",
      "    \"text\": \"\\u30104:4\\u2020source\\u3011\",\r\n",
      "    \"start_index\": 553,\r\n",
      "    \"end_index\": 565,\r\n",
      "    \"file_citation\": {\r\n",
      "      \"file_id\": \"assistant-v1vgOsajg7zOoaHPJaHKvA3i\",\r\n",
      "      \"file_name\": \"\",\r\n",
      "      \"quote\": null\r\n",
      "    }\r\n",
      "  },\r\n",
      "  {\r\n",
      "    \"type\": \"file_citation\",\r\n",
      "    \"text\": \"\\u30104:13\\u2020source\\u3011\",\r\n",
      "    \"start_index\": 565,\r\n",
      "    \"end_index\": 578,\r\n",
      "    \"file_citation\": {\r\n",
      "      \"file_id\": \"assistant-v1vgOsajg7zOoaHPJaHKvA3i\",\r\n",
      "      \"file_name\": \"\",\r\n",
      "      \"quote\": null\r\n",
      "    }\r\n",
      "  },\r\n",
      "  {\r\n",
      "    \"type\": \"file_citation\",\r\n",
      "    \"text\": \"\\u30104:0\\u2020source\\u3011\",\r\n",
      "    \"start_index\": 704,\r\n",
      "    \"end_index\": 716,\r\n",
      "    \"file_citation\": {\r\n",
      "      \"file_id\": \"assistant-v1vgOsajg7zOoaHPJaHKvA3i\",\r\n",
      "      \"file_name\": \"\",\r\n",
      "      \"quote\": null\r\n",
      "    }\r\n",
      "  },\r\n",
      "  {\r\n",
      "    \"type\": \"file_citation\",\r\n",
      "    \"text\": \"\\u30104:4\\u2020source\\u3011\",\r\n",
      "    \"start_index\": 916,\r\n",
      "    \"end_index\": 928,\r\n",
      "    \"file_citation\": {\r\n",
      "      \"file_id\": \"assistant-v1vgOsajg7zOoaHPJaHKvA3i\",\r\n",
      "      \"file_name\": \"\",\r\n",
      "      \"quote\": null\r\n",
      "    }\r\n",
      "  },\r\n",
      "  {\r\n",
      "    \"type\": \"file_citation\",\r\n",
      "    \"text\": \"\\u30104:0\\u2020source\\u3011\",\r\n",
      "    \"start_index\": 1140,\r\n",
      "    \"end_index\": 1152,\r\n",
      "    \"file_citation\": {\r\n",
      "      \"file_id\": \"assistant-v1vgOsajg7zOoaHPJaHKvA3i\",\r\n",
      "      \"file_name\": \"\",\r\n",
      "      \"quote\": null\r\n",
      "    }\r\n",
      "  },\r\n",
      "  {\r\n",
      "    \"type\": \"file_citation\",\r\n",
      "    \"text\": \"\\u30104:9\\u2020source\\u3011\",\r\n",
      "    \"start_index\": 1411,\r\n",
      "    \"end_index\": 1423,\r\n",
      "    \"file_citation\": {\r\n",
      "      \"file_id\": \"assistant-QaQenndgqbFTt9oZunYGcfv3\",\r\n",
      "      \"file_name\": \"\",\r\n",
      "      \"quote\": null\r\n",
      "    }\r\n",
      "  },\r\n",
      "  {\r\n",
      "    \"type\": \"file_citation\",\r\n",
      "    \"text\": \"\\u30104:17\\u2020source\\u3011\",\r\n",
      "    \"start_index\": 1423,\r\n",
      "    \"end_index\": 1436,\r\n",
      "    \"file_citation\": {\r\n",
      "      \"file_id\": \"assistant-QaQenndgqbFTt9oZunYGcfv3\",\r\n",
      "      \"file_name\": \"\",\r\n",
      "      \"quote\": null\r\n",
      "    }\r\n",
      "  },\r\n",
      "  {\r\n",
      "    \"type\": \"file_citation\",\r\n",
      "    \"text\": \"\\u30104:11\\u2020source\\u3011\",\r\n",
      "    \"start_index\": 1686,\r\n",
      "    \"end_index\": 1699,\r\n",
      "    \"file_citation\": {\r\n",
      "      \"file_id\": \"assistant-mLYhwg7I9ywfWQPh1xEf1IXY\",\r\n",
      "      \"file_name\": \"\",\r\n",
      "      \"quote\": null\r\n",
      "    }\r\n",
      "  },\r\n",
      "  {\r\n",
      "    \"type\": \"file_citation\",\r\n",
      "    \"text\": \"\\u30104:3\\u2020source\\u3011\",\r\n",
      "    \"start_index\": 1699,\r\n",
      "    \"end_index\": 1711,\r\n",
      "    \"file_citation\": {\r\n",
      "      \"file_id\": \"assistant-mLYhwg7I9ywfWQPh1xEf1IXY\",\r\n",
      "      \"file_name\": \"\",\r\n",
      "      \"quote\": null\r\n",
      "    }\r\n",
      "  },\r\n",
      "  {\r\n",
      "    \"type\": \"file_citation\",\r\n",
      "    \"text\": \"\\u30104:11\\u2020source\\u3011\",\r\n",
      "    \"start_index\": 1877,\r\n",
      "    \"end_index\": 1890,\r\n",
      "    \"file_citation\": {\r\n",
      "      \"file_id\": \"assistant-mLYhwg7I9ywfWQPh1xEf1IXY\",\r\n",
      "      \"file_name\": \"\",\r\n",
      "      \"quote\": null\r\n",
      "    }\r\n",
      "  },\r\n",
      "  {\r\n",
      "    \"type\": \"file_citation\",\r\n",
      "    \"text\": \"\\u30104:12\\u2020source\\u3011\",\r\n",
      "    \"start_index\": 2254,\r\n",
      "    \"end_index\": 2267,\r\n",
      "    \"file_citation\": {\r\n",
      "      \"file_id\": \"assistant-LtpQtNw0yqJbx07lbEJahob9\",\r\n",
      "      \"file_name\": \"\",\r\n",
      "      \"quote\": null\r\n",
      "    }\r\n",
      "  },\r\n",
      "  {\r\n",
      "    \"type\": \"file_citation\",\r\n",
      "    \"text\": \"\\u30104:16\\u2020source\\u3011\",\r\n",
      "    \"start_index\": 2267,\r\n",
      "    \"end_index\": 2280,\r\n",
      "    \"file_citation\": {\r\n",
      "      \"file_id\": \"assistant-LtpQtNw0yqJbx07lbEJahob9\",\r\n",
      "      \"file_name\": \"\",\r\n",
      "      \"quote\": null\r\n",
      "    }\r\n",
      "  },\r\n",
      "  {\r\n",
      "    \"type\": \"file_citation\",\r\n",
      "    \"text\": \"\\u30104:6\\u2020source\\u3011\",\r\n",
      "    \"start_index\": 2469,\r\n",
      "    \"end_index\": 2481,\r\n",
      "    \"file_citation\": {\r\n",
      "      \"file_id\": \"assistant-KVLQgIZo6R8UzDv01PXDkrR6\",\r\n",
      "      \"file_name\": \"\",\r\n",
      "      \"quote\": null\r\n",
      "    }\r\n",
      "  },\r\n",
      "  {\r\n",
      "    \"type\": \"file_citation\",\r\n",
      "    \"text\": \"\\u30104:7\\u2020source\\u3011\",\r\n",
      "    \"start_index\": 2481,\r\n",
      "    \"end_index\": 2493,\r\n",
      "    \"file_citation\": {\r\n",
      "      \"file_id\": \"assistant-KVLQgIZo6R8UzDv01PXDkrR6\",\r\n",
      "      \"file_name\": \"\",\r\n",
      "      \"quote\": null\r\n",
      "    }\r\n",
      "  },\r\n",
      "  {\r\n",
      "    \"type\": \"file_citation\",\r\n",
      "    \"text\": \"\\u30104:2\\u2020source\\u3011\",\r\n",
      "    \"start_index\": 2828,\r\n",
      "    \"end_index\": 2840,\r\n",
      "    \"file_citation\": {\r\n",
      "      \"file_id\": \"assistant-fslYRzYxsqiFwPGd7Fns83se\",\r\n",
      "      \"file_name\": \"\",\r\n",
      "      \"quote\": null\r\n",
      "    }\r\n",
      "  },\r\n",
      "  {\r\n",
      "    \"type\": \"file_citation\",\r\n",
      "    \"text\": \"\\u30104:8\\u2020source\\u3011\",\r\n",
      "    \"start_index\": 2840,\r\n",
      "    \"end_index\": 2852,\r\n",
      "    \"file_citation\": {\r\n",
      "      \"file_id\": \"assistant-fslYRzYxsqiFwPGd7Fns83se\",\r\n",
      "      \"file_name\": \"\",\r\n",
      "      \"quote\": null\r\n",
      "    }\r\n",
      "  }\r\n",
      "]\r\n"
     ]
    }
   ],
   "source": [
    "Console.WriteLine(JsonSerializer.Serialize(output.Annotations, new JsonSerializerOptions() { WriteIndented = true }));"
   ]
  },
  {
   "cell_type": "markdown",
   "metadata": {},
   "source": [
    "### Formatting Output\n",
    "The current version of the API leaves some things to be desired. First, because of chunking it can cite the same source twice. Second, 'quote' is supposed to contain a snippet, but currently, it is always null"
   ]
  },
  {
   "cell_type": "code",
   "execution_count": 6,
   "metadata": {
    "dotnet_interactive": {
     "language": "csharp"
    },
    "polyglot_notebook": {
     "kernelName": "csharp"
    },
    "vscode": {
     "languageId": "polyglot-notebook"
    }
   },
   "outputs": [
    {
     "name": "stdout",
     "output_type": "stream",
     "text": [
      "assistant-v1vgOsajg7zOoaHPJaHKvA3i = McKessonMDTranscripts_Q4FY20-MCK-Corrected-Transcript.md\n",
      "assistant-QaQenndgqbFTt9oZunYGcfv3 = McKessonMDTranscripts_MCK-Q1FY21-Transcript.md\n",
      "assistant-mLYhwg7I9ywfWQPh1xEf1IXY = McKessonMDTranscripts_MCK-Q4FY21-Transcript.md\n",
      "assistant-LtpQtNw0yqJbx07lbEJahob9 = McKessonMDTranscripts_Q3FY21-MCK-Earnings-Call-Transcript_FINAL.md\n",
      "assistant-KVLQgIZo6R8UzDv01PXDkrR6 = McKessonMDTranscripts_220505-MCK-Q4FY22-Earnings-Call-Transcript.md\n",
      "assistant-fslYRzYxsqiFwPGd7Fns83se = McKessonMDTranscripts_230508-MCK-Q4FY23-Earnings-Call-Transcript.md\n",
      "-------------------\n"
     ]
    },
    {
     "data": {
      "text/markdown": [
       "The impact of COVID-19 on McKesson's results varied over time and across different segments of the business. Here are some highlights of how the pandemic affected their financial performance and operations:\n",
       "\n",
       "1. **Initial Impact and Increased Demand (Fiscal Q4 2020)**\n",
       "   - The World Health Organization declared COVID-19 a pandemic on March 11, 2020, leading to increased demand for pharmaceuticals and personal protective equipment (PPE). This resulted in approximately $2 billion of incremental revenue in the fiscal fourth quarter of 2020 [McKessonMDTranscripts_Q4FY20-MCK-Corrected-Transcript.md](McKessonMDTranscripts_Q4FY20-MCK-Corrected-Transcript.md) [McKessonMDTranscripts_Q4FY20-MCK-Corrected-Transcript.md](McKessonMDTranscripts_Q4FY20-MCK-Corrected-Transcript.md) [McKessonMDTranscripts_Q4FY20-MCK-Corrected-Transcript.md](McKessonMDTranscripts_Q4FY20-MCK-Corrected-Transcript.md).\n",
       "   - Adjusted gross profit was favorably impacted by about $65 million, offset by $15 million in variable operating expenses [McKessonMDTranscripts_Q4FY20-MCK-Corrected-Transcript.md](McKessonMDTranscripts_Q4FY20-MCK-Corrected-Transcript.md).\n",
       "   - However, the company also faced approximately $45 million of one-time adjusted operating expenses, including investments in frontline employees and higher expenses to support a remote workforce [McKessonMDTranscripts_Q4FY20-MCK-Corrected-Transcript.md](McKessonMDTranscripts_Q4FY20-MCK-Corrected-Transcript.md).\n",
       "\n",
       "2. **Challenging Early Fiscal 2021**\n",
       "   - The first half of fiscal 2021 was expected to be challenging, with the most severe impacts from COVID-19 occurring during the first fiscal quarter ending June 30, 2020 [McKessonMDTranscripts_Q4FY20-MCK-Corrected-Transcript.md](McKessonMDTranscripts_Q4FY20-MCK-Corrected-Transcript.md).\n",
       "   - By the first quarter of fiscal 2021, McKesson saw volumes decline due to the pandemic, with prescription transaction volumes uneven in April and May but improving in June. Oncology visits and telemedicine visits also adapted to the pandemic environment [McKessonMDTranscripts_MCK-Q1FY21-Transcript.md](McKessonMDTranscripts_MCK-Q1FY21-Transcript.md) [McKessonMDTranscripts_MCK-Q1FY21-Transcript.md](McKessonMDTranscripts_MCK-Q1FY21-Transcript.md).\n",
       "\n",
       "3. **Recovery and Vaccine Distribution (Fiscal Q4 2021)**\n",
       "   - McKesson played a significant role in distributing COVID-19 vaccines and ancillary supply kits, which contributed to improved financial performance in the fourth quarter of fiscal 2021 [McKessonMDTranscripts_MCK-Q4FY21-Transcript.md](McKessonMDTranscripts_MCK-Q4FY21-Transcript.md) [McKessonMDTranscripts_MCK-Q4FY21-Transcript.md](McKessonMDTranscripts_MCK-Q4FY21-Transcript.md).\n",
       "   - The company recognized benefits from these programs, which helped drive fourth quarter adjusted earnings per diluted share up by 18% compared to the prior year [McKessonMDTranscripts_MCK-Q4FY21-Transcript.md](McKessonMDTranscripts_MCK-Q4FY21-Transcript.md).\n",
       "\n",
       "4. **Continued Fluctuations and Vaccine Contributions (Fiscal Q3 2021 and Fiscal Q4 2022)**\n",
       "   - In fiscal Q3 2021, McKesson continued to see fluctuating demand due to the pandemic, with prescription volumes and primary care visits remaining below pre-COVID levels. The company benefited from its role in assembling and distributing COVID-19 vaccine supply kits [McKessonMDTranscripts_Q3FY21-MCK-Earnings-Call-Transcript_FINAL.md](McKessonMDTranscripts_Q3FY21-MCK-Earnings-Call-Transcript_FINAL.md) [McKessonMDTranscripts_Q3FY21-MCK-Earnings-Call-Transcript_FINAL.md](McKessonMDTranscripts_Q3FY21-MCK-Earnings-Call-Transcript_FINAL.md).\n",
       "   - Fiscal Q4 2022 saw a decrease in COVID-19 vaccine distribution contributions, yet the company experienced growth in other areas such as specialty products and primary care businesses [McKessonMDTranscripts_220505-MCK-Q4FY22-Earnings-Call-Transcript.md](McKessonMDTranscripts_220505-MCK-Q4FY22-Earnings-Call-Transcript.md) [McKessonMDTranscripts_220505-MCK-Q4FY22-Earnings-Call-Transcript.md](McKessonMDTranscripts_220505-MCK-Q4FY22-Earnings-Call-Transcript.md).\n",
       "\n",
       "5. **Decline in COVID-19 Related Contributions (Fiscal Q4 2023)**\n",
       "   - By fiscal Q4 2023, McKesson saw a decline in sales of COVID-19 tests and lower contributions from kitting, storage, and distribution of ancillary supplies for the US government's COVID-19 program. This was partially offset by growth in the primary care business [McKessonMDTranscripts_230508-MCK-Q4FY23-Earnings-Call-Transcript.md](McKessonMDTranscripts_230508-MCK-Q4FY23-Earnings-Call-Transcript.md) [McKessonMDTranscripts_230508-MCK-Q4FY23-Earnings-Call-Transcript.md](McKessonMDTranscripts_230508-MCK-Q4FY23-Earnings-Call-Transcript.md).\n",
       "\n",
       "Overall, the COVID-19 pandemic had a significant but varying impact on McKesson's financial results, with periods of increased demand and revenue followed by declines as the pandemic evolved and vaccination efforts progressed. The company's ability to adapt and its involvement in vaccine distribution played crucial roles in its financial performance during these times."
      ]
     },
     "metadata": {},
     "output_type": "display_data"
    }
   ],
   "source": [
    "var files = new Dictionary<string, string>();\n",
    "var annotatedMessage = output.LastMessage;\n",
    "foreach(var annotation in output.Annotations)\n",
    "{\n",
    "    // Only get the file name once per id\n",
    "    if(!files.ContainsKey(annotation.FileCitation.FileId))\n",
    "    {\n",
    "        files[annotation.FileCitation.FileId] = await annotation.GetFileName(config);\n",
    "    }\n",
    "    // But the annotation itself may be a duplicate citation to the same file, so one must process them all\n",
    "    // You can format the replacement however you like. In this case it just makes an md link\n",
    "    annotatedMessage = annotatedMessage.Replace(annotation.Text, $\" [{files[annotation.FileCitation.FileId]}]({files[annotation.FileCitation.FileId]})\");\n",
    "}\n",
    "\n",
    "foreach(var file in files)\n",
    "{\n",
    "    Console.WriteLine($\"{file.Key} = {file.Value}\");\n",
    "}\n",
    "Console.WriteLine(\"-------------------\");\n",
    "annotatedMessage.DisplayAs(\"text/markdown\");"
   ]
  },
  {
   "cell_type": "markdown",
   "metadata": {},
   "source": [
    "## Clean Up"
   ]
  },
  {
   "cell_type": "code",
   "execution_count": 7,
   "metadata": {
    "dotnet_interactive": {
     "language": "csharp"
    },
    "polyglot_notebook": {
     "kernelName": "csharp"
    },
    "vscode": {
     "languageId": "polyglot-notebook"
    }
   },
   "outputs": [
    {
     "name": "stdout",
     "output_type": "stream",
     "text": [
      "Deleted assistant\r\n"
     ]
    }
   ],
   "source": [
    "var assistant = (await client.AssistantList())?.Data?.FirstOrDefault(o => o.Name == \"McKessonMDTranscripts\");\n",
    "if(assistant != null) {\n",
    "    await client.AssistantDelete(assistant.Id);\n",
    "    Console.WriteLine(\"Deleted assistant\");\n",
    "}\n",
    "else\n",
    "{\n",
    "    Console.WriteLine(\"Didn't find MsGraphUserProfile\");\n",
    "}"
   ]
  }
 ],
 "metadata": {
  "kernelspec": {
   "display_name": ".NET (C#)",
   "language": "C#",
   "name": ".net-csharp"
  },
  "language_info": {
   "name": "python"
  },
  "polyglot_notebook": {
   "kernelInfo": {
    "defaultKernelName": "csharp",
    "items": [
     {
      "aliases": [],
      "name": "csharp"
     }
    ]
   }
  }
 },
 "nbformat": 4,
 "nbformat_minor": 2
}
