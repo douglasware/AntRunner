{
 "cells": [
  {
   "cell_type": "markdown",
   "metadata": {},
   "source": [
    "## Use OAuth and MSGrapsh to read the user's profile"
   ]
  },
  {
   "cell_type": "markdown",
   "metadata": {},
   "source": [
    "To create an app registration in the Azure portal for interactive device authentication and set up the necessary scopes to read the user's profile from Microsoft Graph, follow these steps:\n",
    "\n",
    "### Using the Azure Portal\n",
    "\n",
    "### Step 1: Sign in to the Azure Portal\n",
    "1. Open a web browser and go to the [Azure Portal](https://portal.azure.com/).\n",
    "2. Sign in with your Azure account credentials.\n",
    "\n",
    "### Step 2: Navigate to Azure Active Directory\n",
    "1. In the Azure portal, select **Azure Active Directory** from the left-hand navigation pane.\n",
    "\n",
    "### Step 3: Register a New Application\n",
    "1. In the Azure Active Directory pane, select **App registrations**.\n",
    "2. Click on **New registration** at the top of the App registrations pane.\n",
    "3. Fill in the following details:\n",
    "   - **Name**: Enter a name for your application (e.g., \"AntRunner\").\n",
    "   - **Supported account types**: Choose the account types that your application will support. Typically, for organizational use, select \"Accounts in this organizational directory only\".\n",
    "   - **Redirect URI (optional)**: Leave this blank for now as it's not required for device code flow.\n",
    "4. Click **Register** to create the app registration.\n",
    "\n",
    "### Step 4: Configure API Permissions\n",
    "1. After registration, you will be redirected to the app's **Overview** page.\n",
    "2. In the left-hand menu, select **API permissions**.\n",
    "3. Click on **Add a permission**.\n",
    "4. Select **Microsoft Graph**.\n",
    "5. Choose **Delegated permissions**.\n",
    "6. In the search box, type `User.Read` and select the **User.Read** permission which allows the app to sign in and read the user's profile.\n",
    "7. Click **Add permissions**.\n",
    "\n",
    "### Step 5: Enable Public Client Flows\n",
    "1. In the left-hand menu, select **Authentication**.\n",
    "2. Scroll down to the **Advanced settings** section.\n",
    "3. Set the **Allow public client flows** toggle to **Yes**.\n",
    "4. Click **Save**.\n",
    "\n",
    "### Step 6: Configure Platform Settings\n",
    "1. In the **Authentication** section, click on **Add a platform**.\n",
    "2. Choose **Mobile and desktop applications**.\n",
    "3. Ensure that the **Redirect URI** is set to `http://localhost` \n",
    "4. Click **Configure**.\n",
    "5. Click **Save**.\n",
    "\n",
    "### Step 7: Note Down Application (Client) ID and Directory (Tenant) ID\n",
    "1. Go back to the **Overview** section of your app.\n",
    "2. Note down the **Application (client) ID** and **Directory (tenant) ID**. These values are required for authentication.\n",
    "\n",
    "### Using Azure CLI\n",
    "\n",
    "### Step 1: Install Azure CLI\n",
    "Ensure you have the Azure CLI installed on your local machine. If not, you can download and install it from the [official Azure CLI installation page](https://docs.microsoft.com/en-us/cli/azure/install-azure-cli).\n",
    "\n",
    "### Step 2: Sign in to Azure\n",
    "Open a terminal or command prompt and sign in to your Azure account using the following command:\n",
    "```sh\n",
    "az login\n",
    "```\n",
    "Follow the instructions in the terminal to complete the authentication process.\n",
    "\n",
    "### Step 3: Create a New App Registration\n",
    "Use the following command to create a new app registration:\n",
    "```sh\n",
    "az ad app create --display-name \"AntRunner\" --available-to-other-tenants false --sign-in-audience \"AzureADMyOrg\"\n",
    "```\n",
    "This command creates an app registration with the specified display name and sets the sign-in audience to your organization.\n",
    "\n",
    "### Step 4: Assign API Permissions\n",
    "Next, you'll need to assign the `User.Read` permission to your app registration. First, get the app ID of your newly created app:\n",
    "```sh\n",
    "az ad app list --display-name \"AntRunner\" --query \"[].appId\" -o tsv\n",
    "```\n",
    "Copy the app ID from the output.\n",
    "\n",
    "Now, use the following command to add the `User.Read` permission:\n",
    "```sh\n",
    "az ad app permission add --id <your-app-id> --api 00000003-0000-0000-c000-000000000000 --api-permissions 311a71cc-e848-46a1-bdf8-97ff7156d8e6=Scope\n",
    "```\n",
    "Replace `<your-app-id>` with the app ID you copied earlier. The GUID `00000003-0000-0000-c000-000000000000` represents the Microsoft Graph API, and `311a71cc-e848-46a1-bdf8-97ff7156d8e6` represents the `User.Read` permission.\n",
    "\n",
    "### Step 5: Enable Public Client Flows\n",
    "Use the following command to enable public client flows:\n",
    "```sh\n",
    "az ad app update --id <your-app-id> --set publicClient=true\n",
    "```\n",
    "Replace `<your-app-id>` with the app ID you copied earlier.\n",
    "\n",
    "### Step 6: Note Down Application (Client) ID and Directory (Tenant) ID\n",
    "Use the following command to get the details of your app registration, including the client ID and tenant ID:\n",
    "```sh\n",
    "az ad app show --id <your-app-id>\n",
    "```\n",
    "Note down the `appId` (Application (client) ID) and `publisherDomain` (Directory (tenant) ID).\n",
    "\n",
    "For more detailed guidance, refer to the official Microsoft documentation:\n",
    "- [Register an application with the Microsoft identity platform](https://learn.microsoft.com/en-us/graph/auth-register-app-v2)\n",
    "- [Sign in with Azure CLI at a command line](https://learn.microsoft.com/en-us/cli/azure/authenticate-azure-cli-interactively)\n",
    "\n",
    "These steps will help you set up an app registration for interactive device authentication using both the Azure Portal and Azure CLI, and configure the necessary permissions to read the user's profile from Microsoft Graph. "
   ]
  },
  {
   "cell_type": "markdown",
   "metadata": {},
   "source": [
    "## First steps\n",
    "- First, download AntRunLib from Nuget\n",
    "- At least once, setup the enviroment using **[0-AI-settings](0-AI-settings.ipynb)**"
   ]
  },
  {
   "cell_type": "code",
   "execution_count": 1,
   "metadata": {
    "dotnet_interactive": {
     "language": "csharp"
    },
    "polyglot_notebook": {
     "kernelName": "csharp"
    }
   },
   "outputs": [
    {
     "data": {
      "text/html": [
       "<div><div></div><div></div><div><strong>Installed Packages</strong><ul><li><span>AntRunnerLib, 0.9.1</span></li></ul></div></div>"
      ]
     },
     "metadata": {},
     "output_type": "display_data"
    }
   ],
   "source": [
    "#r \"nuget: AntRunnerLib, 0.9.1\"\n",
    "\n",
    "using AntRunnerLib;\n",
    "using AntRunnerLib.Identity;\n",
    "using static AntRunnerLib.ClientUtility;\n",
    "using System.IO;\n",
    "\n",
    "#!import config/Settings.cs \n",
    "\n",
    "var envVariables = Settings.GetEnvironmentVariables();\n",
    "foreach (var kvp in envVariables)\n",
    "{\n",
    "    Environment.SetEnvironmentVariable(kvp.Key, kvp.Value);\n",
    "}\n",
    "\n",
    "var config = AzureOpenAiConfigFactory.Get();\n",
    "var client = GetOpenAiClient(config);\n"
   ]
  },
  {
   "cell_type": "markdown",
   "metadata": {},
   "source": [
    "## Get an access token to read your profile with the Application (Client) ID and Directory (Tenant) ID you created above"
   ]
  },
  {
   "cell_type": "code",
   "execution_count": 14,
   "metadata": {
    "dotnet_interactive": {
     "language": "csharp"
    },
    "polyglot_notebook": {
     "kernelName": "csharp"
    }
   },
   "outputs": [],
   "source": [
    "string[] scopes = [\"User.Read\"];\n",
    "var oAuthToken = await OAuthHelper.GetToken(\"6ec70645-4a94-4d41-abfa-fdd579a6076d\", \"a5ef985b-4e9a-46cc-854d-4db49be6e9df\", scopes);"
   ]
  },
  {
   "cell_type": "markdown",
   "metadata": {},
   "source": [
    "## Ensure the assistant is created"
   ]
  },
  {
   "cell_type": "code",
   "execution_count": 15,
   "metadata": {
    "dotnet_interactive": {
     "language": "csharp"
    },
    "polyglot_notebook": {
     "kernelName": "csharp"
    }
   },
   "outputs": [
    {
     "name": "stdout",
     "output_type": "stream",
     "text": [
      "asst_Kc3PEljgaTXr6ouY64GihiK0\r\n"
     ]
    }
   ],
   "source": [
    "var assistantId = await AssistantUtility.Create(\"MsGraphUserProfile\", config);\n",
    "Console.WriteLine(assistantId)"
   ]
  },
  {
   "cell_type": "markdown",
   "metadata": {},
   "source": [
    "## Run it!"
   ]
  },
  {
   "cell_type": "code",
   "execution_count": 16,
   "metadata": {
    "dotnet_interactive": {
     "language": "csharp"
    },
    "polyglot_notebook": {
     "kernelName": "csharp"
    }
   },
   "outputs": [
    {
     "data": {
      "text/markdown": [
       "\n",
       "User: What is my name?\n",
       "\n",
       "Assistant: I called the tool named UserProfileAnt with these arguments:\n",
       "```\n",
       "{}\n",
       "```\n",
       "and got this result:\n",
       "```\n",
       "{\"@odata.context\":\"https://graph.microsoft.com/v1.0/$metadata#users/$entity\",\"businessPhones\":[],\"displayName\":\"Doug Ware\",\"givenName\":\"Doug\",\"jobTitle\":null,\"mail\":\"dougware@elumenotion.com\",\"mobilePhone\":null,\"officeLocation\":null,\"preferredLanguage\":\"en-US\",\"surname\":\"Ware\",\"userPrincipalName\":\"dougware@elumenotion.com\",\"id\":\"d30ce525-7d0a-4672-bc8a-cef86a550879\"}\n",
       "```\n",
       "\n",
       "Your name is Doug Ware.\n"
      ]
     },
     "metadata": {},
     "output_type": "display_data"
    }
   ],
   "source": [
    "var assistantRunOptions = new AssistantRunOptions() {\n",
    "    AssistantName = \"MsGraphUserProfile\",\n",
    "    Instructions = \"What is my name?\",\n",
    "    OauthUserAccessToken = oAuthToken,\n",
    "};\n",
    "var output = await AntRunnerLib.AssistantRunner.RunThread(assistantRunOptions, config);\n",
    "output.Dialog.DisplayAs(\"text/markdown\");"
   ]
  },
  {
   "cell_type": "code",
   "execution_count": 12,
   "metadata": {
    "dotnet_interactive": {
     "language": "csharp"
    },
    "polyglot_notebook": {
     "kernelName": "csharp"
    }
   },
   "outputs": [
    {
     "data": {
      "text/markdown": [
       "Your name is Doug Ware."
      ]
     },
     "metadata": {},
     "output_type": "display_data"
    }
   ],
   "source": [
    "output.LastMessage.DisplayAs(\"text/markdown\");"
   ]
  },
  {
   "cell_type": "markdown",
   "metadata": {},
   "source": [
    "## Clean up"
   ]
  },
  {
   "cell_type": "code",
   "execution_count": 17,
   "metadata": {
    "dotnet_interactive": {
     "language": "csharp"
    },
    "polyglot_notebook": {
     "kernelName": "csharp"
    }
   },
   "outputs": [
    {
     "name": "stdout",
     "output_type": "stream",
     "text": [
      "Deleted assistant\r\n"
     ]
    }
   ],
   "source": [
    "var assistant = (await client.AssistantList())?.Data?.FirstOrDefault(o => o.Name == \"MsGraphUserProfile\");\n",
    "if(assistant != null) {\n",
    "    await client.AssistantDelete(assistant.Id);\n",
    "    Console.WriteLine(\"Deleted assistant\");\n",
    "}\n",
    "else\n",
    "{\n",
    "    Console.WriteLine(\"Didn't find MsGraphUserProfile\");\n",
    "}"
   ]
  }
 ],
 "metadata": {
  "kernelspec": {
   "display_name": ".NET (C#)",
   "language": "C#",
   "name": ".net-csharp"
  },
  "polyglot_notebook": {
   "kernelInfo": {
    "defaultKernelName": "csharp",
    "items": [
     {
      "aliases": [],
      "languageName": "csharp",
      "name": "csharp"
     }
    ]
   }
  }
 },
 "nbformat": 4,
 "nbformat_minor": 2
}
