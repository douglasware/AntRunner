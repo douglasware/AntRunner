{
 "cells": [
  {
   "cell_type": "markdown",
   "metadata": {},
   "source": [
    "To create an app registration in the Azure portal for interactive device authentication and set up the necessary scopes to read the user's profile from Microsoft Graph, follow these detailed steps:\n",
    "\n",
    "### Step 1: Sign in to the Azure Portal\n",
    "1. Open a web browser and go to the [Azure Portal](https://portal.azure.com/).\n",
    "2. Sign in with your Azure account credentials.\n",
    "\n",
    "### Step 2: Navigate to Azure Active Directory\n",
    "1. In the Azure portal, select **Azure Active Directory** from the left-hand navigation pane.\n",
    "\n",
    "### Step 3: Register a New Application\n",
    "1. In the Azure Active Directory pane, select **App registrations**.\n",
    "2. Click on **New registration** at the top of the App registrations pane.\n",
    "3. Fill in the following details:\n",
    "   - **Name**: Enter a name for your application (e.g., \"Interactive Device Auth App\").\n",
    "   - **Supported account types**: Choose the account types that your application will support. Typically, for organizational use, select \"Accounts in this organizational directory only\".\n",
    "   - **Redirect URI (optional)**: Leave this blank for now as it's not required for device code flow.\n",
    "4. Click **Register** to create the app registration.\n",
    "\n",
    "### Step 4: Configure API Permissions\n",
    "1. After registration, you will be redirected to the app's **Overview** page.\n",
    "2. In the left-hand menu, select **API permissions**.\n",
    "3. Click on **Add a permission**.\n",
    "4. Select **Microsoft Graph**.\n",
    "5. Choose **Delegated permissions**.\n",
    "6. In the search box, type `User.Read` and select the **User.Read** permission which allows the app to sign in and read the user's profile.\n",
    "7. Click **Add permissions**.\n",
    "\n",
    "### Step 5: Generate a Client Secret\n",
    "1. In the left-hand menu, select **Certificates & secrets**.\n",
    "2. Under **Client secrets**, click on **New client secret**.\n",
    "3. Add a description for the client secret (e.g., \"ClientSecret1\") and set an expiration period.\n",
    "4. Click **Add**.\n",
    "5. Copy the client secret value and save it securely. You will need it when configuring your application to authenticate using the device code flow.\n",
    "\n",
    "### Step 6: Note Down Application (Client) ID and Directory (Tenant) ID\n",
    "1. Go back to the **Overview** section of your app.\n",
    "2. Note down the **Application (client) ID** and **Directory (tenant) ID**. These values are required for authentication.\n",
    "\n",
    "### Step 7: Implement Device Code Flow in Your Application\n",
    "1. Use the [Microsoft Authentication Library (MSAL)](https://learn.microsoft.com/en-us/azure/active-directory/develop/msal-overview) for your preferred programming language to implement the device code flow.\n",
    "2. In your application code, configure MSAL with your client ID, client secret, and tenant ID.\n",
    "3. Use the `DeviceCodeProvider` to request an access token with the `User.Read` scope.\n",
    "\n",
    "For more detailed guidance on implementing the device code flow and using the Microsoft Graph API, refer to the official Microsoft documentation:\n",
    "- [Register an application with the Microsoft identity platform](https://learn.microsoft.com/en-us/graph/auth-register-app-v2)\n",
    "- [Authentication and authorization basics](https://learn.microsoft.com/en-us/graph/auth/auth-concepts)\n",
    "\n",
    "These steps should help you set up an app registration for interactive device authentication with the necessary permissions to read the user's profile from Microsoft Graph. "
   ]
  },
  {
   "cell_type": "markdown",
   "metadata": {},
   "source": [
    "## First steps\n",
    "- First, download AntRunLib from Nuget\n",
    "- At least once, setup the enviroment using **[0-AI-settings](0-AI-settings.ipynb)**"
   ]
  },
  {
   "cell_type": "code",
   "execution_count": 1,
   "metadata": {
    "dotnet_interactive": {
     "language": "csharp"
    },
    "polyglot_notebook": {
     "kernelName": "csharp"
    }
   },
   "outputs": [
    {
     "data": {
      "text/html": [
       "<div><div></div><div></div><div><strong>Installed Packages</strong><ul><li><span>AntRunnerLib, 0.6.5</span></li></ul></div></div>"
      ]
     },
     "metadata": {},
     "output_type": "display_data"
    }
   ],
   "source": [
    "#r \"nuget: AntRunnerLib, 0.6.5\"\n",
    "\n",
    "using AntRunnerLib;\n",
    "using AntRunnerLib.Identity;\n",
    "using static AntRunnerLib.ClientUtility;\n",
    "using System.IO;\n",
    "\n",
    "#!import config/Settings.cs \n",
    "\n",
    "var envVariables = Settings.GetEnvironmentVariables();\n",
    "foreach (var kvp in envVariables)\n",
    "{\n",
    "    Environment.SetEnvironmentVariable(kvp.Key, kvp.Value);\n",
    "}\n",
    "\n",
    "var config = AzureOpenAIConfigFactory.Get();\n",
    "var client = GetOpenAIClient(config);\n"
   ]
  },
  {
   "cell_type": "markdown",
   "metadata": {},
   "source": []
  }
 ],
 "metadata": {
  "kernelspec": {
   "display_name": ".NET (C#)",
   "language": "C#",
   "name": ".net-csharp"
  },
  "polyglot_notebook": {
   "kernelInfo": {
    "defaultKernelName": "csharp",
    "items": [
     {
      "aliases": [],
      "languageName": "csharp",
      "name": "csharp"
     }
    ]
   }
  }
 },
 "nbformat": 4,
 "nbformat_minor": 2
}
