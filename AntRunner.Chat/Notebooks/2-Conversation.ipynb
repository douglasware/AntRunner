{
 "cells": [
  {
   "cell_type": "markdown",
   "metadata": {},
   "source": [
    "## Conversation with Web Ants\n",
    "\n",
    "**The assistant definition for this using the containers is not in the repo yet, so if you run this it will fail.**"
   ]
  },
  {
   "cell_type": "markdown",
   "metadata": {},
   "source": [
    "## First steps\n",
    "- First, download AntRunLib from Nuget\n",
    "- At least once, set up the environment using **[0-AI-settings](0-AI-settings.ipynb)**"
   ]
  },
  {
   "cell_type": "code",
   "execution_count": 1,
   "metadata": {
    "dotnet_interactive": {
     "language": "csharp"
    },
    "polyglot_notebook": {
     "kernelName": "csharp"
    },
    "vscode": {
     "languageId": "polyglot-notebook"
    }
   },
   "outputs": [
    {
     "data": {
      "text/html": [
       "<div><div></div><div></div><div><strong>Installed Packages</strong><ul><li><span>AntRunner.Chat, 0.6.4</span></li></ul></div></div>"
      ]
     },
     "metadata": {},
     "output_type": "display_data"
    }
   ],
   "source": [
    "#r \"nuget: AntRunner.Chat\"\n"
   ]
  },
  {
   "cell_type": "code",
   "execution_count": 3,
   "metadata": {
    "polyglot_notebook": {
     "kernelName": "csharp"
    },
    "vscode": {
     "languageId": "polyglot-notebook"
    }
   },
   "outputs": [],
   "source": [
    "using System.Threading.Tasks;\n",
    "using System.Collections.Generic;\n",
    "using AntRunner.Chat;\n",
    "\n",
    "\n",
    "#!import config/Settings.cs\n",
    "\n",
    "var envVariables = Settings.GetEnvironmentVariables();\n",
    "foreach (var kvp in envVariables)\n",
    "{\n",
    "    Environment.SetEnvironmentVariable(kvp.Key, kvp.Value);\n",
    "}\n",
    "\n",
    "var config = AzureOpenAiConfigFactory.Get();\n",
    "\n",
    "static ChatRunOptions chatConfiguration = new()\n",
    "{\n",
    "    AssistantName = \"Python Ants\",\n",
    "    DeploymentId = \"gpt-4o-mini\",\n",
    "};\n",
    "\n",
    "var conversation = await Conversation.Create(chatConfiguration, config, null);\n",
    "\n",
    "async Task<ChatRunOutput> Chat(string newInstructions)\n",
    "{\n",
    "    // Update the instructions before running the thread\n",
    "    chatConfiguration.Instructions = newInstructions;\n",
    "\n",
    "    var runnerOutput = await conversation.Chat(newInstructions);\n",
    "    // Display the result as Markdown\n",
    "    runnerOutput.LastMessage.DisplayAs(\"text/markdown\");\n",
    "    return runnerOutput;\n",
    "}\n"
   ]
  },
  {
   "cell_type": "markdown",
   "metadata": {},
   "source": [
    "## Run the Assistant\n",
    "\n",
    "`output.Dialog` shows the conversation."
   ]
  },
  {
   "cell_type": "code",
   "execution_count": 4,
   "metadata": {
    "dotnet_interactive": {
     "language": "csharp"
    },
    "polyglot_notebook": {
     "kernelName": "csharp"
    },
    "vscode": {
     "languageId": "polyglot-notebook"
    }
   },
   "outputs": [
    {
     "data": {
      "text/markdown": [
       "Today's date is **May 6, 2025**."
      ]
     },
     "metadata": {},
     "output_type": "display_data"
    }
   ],
   "source": [
    "var output = await Chat(\"What is today's date?\");"
   ]
  },
  {
   "cell_type": "code",
   "execution_count": 8,
   "metadata": {
    "polyglot_notebook": {
     "kernelName": "csharp"
    },
    "vscode": {
     "languageId": "polyglot-notebook"
    }
   },
   "outputs": [
    {
     "data": {
      "text/markdown": [
       "Next week in Johns Creek, GA, there are several exciting events planned. Here’s a summary of what you can look forward to:\n",
       "\n",
       "### 1. **Summer Concert Series: Ultimate Garth Tribute**\n",
       "   - **Date:** Friday, May 2, 2025\n",
       "   - **Location:** Mark Burkhalter Amphitheater, Newtown Park\n",
       "   - **Details:** Enjoy a tribute to Garth Brooks as part of the Summer Concert Series.\n",
       "   - [More Info](https://johnscreekga.gov/recreation-parks/special-events/summer-concerts/)\n",
       "\n",
       "   ![Summer Concert Series](https://johnscreekga.gov/app/uploads/2024/02/image-104.jpg)\n",
       "\n",
       "### 2. **Ultimate Candle Making Experience**\n",
       "   - **Date:** Starts May 1, 2025\n",
       "   - **Location:** ReWax and UnWine\n",
       "   - **Details:** Join a fun candle-making workshop.\n",
       "   - [More Info](https://allevents.in/johns%20creek/ultimate-candle-making-experience/2700026709023257)\n",
       "\n",
       "### 3. **Johns Creek International Festival**\n",
       "   - **Date:** Saturday, May 3, 2025\n",
       "   - **Location:** Atlanta Athletic Club fields\n",
       "   - **Details:** Celebrate the diverse cultures of Johns Creek with food, music, and activities.\n",
       "   - [More Info](https://allevents.in/johns%20creek/johns-creek-international-festival/200028028359513)\n",
       "\n",
       "   ![International Festival](https://johnscreekga.gov/app/uploads/2024/03/international-sponsor-1.jpg)\n",
       "\n",
       "### 4. **Indian Curry 101**\n",
       "   - **Date:** Saturday, May 3, 2025\n",
       "   - **Location:** Johns Creek\n",
       "   - **Details:** A cooking class focusing on Indian curry dishes.\n",
       "   - [More Info](https://allevents.in/johns%20creek/indian-curry-101/100001308524314449)\n",
       "\n",
       "### 5. **Quantum Creek Concert**\n",
       "   - **Date:** Friday, May 2, 2025\n",
       "   - **Location:** Newtown Park\n",
       "   - **Details:** Enjoy live music at this community concert.\n",
       "   - [More Info](https://allevents.in/johns%20creek/quantum-creek-concert/200028070411433)\n",
       "\n",
       "### 6. **Speed Puzzling at Six Bridges Brewing**\n",
       "   - **Date:** Thursday, May 8, 2025\n",
       "   - **Location:** Six Bridges Brewing\n",
       "   - **Details:** Join a fun puzzling event with friends.\n",
       "   - [More Info](https://allevents.in/johns%20creek/speed-puzzling-at-six-bridges-brewing-in-johns-creek-ga/100001317199472079)\n",
       "\n",
       "These events offer a great mix of music, culture, and hands-on activities for all ages. Be sure to check the links for more details and to confirm any changes. Enjoy your week in Johns Creek!"
      ]
     },
     "metadata": {},
     "output_type": "display_data"
    }
   ],
   "source": [
    "await conversation.ChangeAssistant(\"Web Ants\");\n",
    "output = await Chat(\"What is there to do next week in Johns Creek, GA?\");"
   ]
  },
  {
   "cell_type": "code",
   "execution_count": 10,
   "metadata": {
    "polyglot_notebook": {
     "kernelName": "csharp"
    },
    "vscode": {
     "languageId": "polyglot-notebook"
    }
   },
   "outputs": [
    {
     "data": {
      "text/markdown": [
       "The week of May 5, 2025, in Johns Creek, GA, features several exciting events. Here’s what you can look forward to:\n",
       "\n",
       "### 1. **Clay Sculpture with Kate**\n",
       "   - **Date:** Ongoing throughout the week\n",
       "   - **Location:** Johns Creek Art Center\n",
       "   - **Details:** Join this hands-on class to learn the art of clay sculpture.\n",
       "   - [More Info](https://visitjohnscreek.com/events/clay-sculpture-with-kate/)\n",
       "\n",
       "   ![Clay Sculpture](https://visitjohnscreek.com/wp-content/uploads/2025/01/the-art-center-300x300.jpg)\n",
       "\n",
       "### 2. **Beginner's Guide to Ceramic Glaze**\n",
       "   - **Date:** Ongoing throughout the week\n",
       "   - **Location:** Johns Creek Art Center\n",
       "   - **Details:** A workshop for beginners to learn about ceramic glazing techniques.\n",
       "   - [More Info](https://visitjohnscreek.com/events/beginners-guide-to-ceramic-glaze/)\n",
       "\n",
       "### 3. **Johns Creek Public Safety Foundation 5K for Heroes**\n",
       "   - **Date:** Saturday, May 10, 2025\n",
       "   - **Location:** TBD (Check local listings)\n",
       "   - **Details:** Participate in this community 5K run to support local heroes.\n",
       "   - [More Info](https://visitjohnscreek.com/events/johns-creek-public-safety-foundation-5k-for-heroes/)\n",
       "\n",
       "   ![5K for Heroes](https://visitjohnscreek.com/wp-content/uploads/2025/03/Screenshot-2025-03-11-at-5.26.41 PM-1-300x300.png)\n",
       "\n",
       "### 4. **Mother's Day Events**\n",
       "   - Various events are planned for Mother's Day on Sunday, May 11, 2025, including special brunches and activities. Check local listings for specific events.\n",
       "\n",
       "### 5. **Free Shakespeare in the Park: Twelfth Night**\n",
       "   - **Date:** Saturday, May 10, 2025\n",
       "   - **Location:** Autrey Mill Nature Preserve & Heritage Center\n",
       "   - **Details:** Enjoy a free outdoor performance of Shakespeare's classic play.\n",
       "   - [More Info](https://allevents.in/johns%20creek/free-shakespeare-in-the-park-twelfth-night/100001304381473099)\n",
       "\n",
       "These events provide a great mix of arts, culture, and community engagement. Be sure to check the links for more details and any updates! Enjoy your time in Johns Creek!"
      ]
     },
     "metadata": {},
     "output_type": "display_data"
    }
   ],
   "source": [
    "output = await Chat(\"What about the week after this?\");"
   ]
  },
  {
   "cell_type": "code",
   "execution_count": 12,
   "metadata": {
    "polyglot_notebook": {
     "kernelName": "csharp"
    },
    "vscode": {
     "languageId": "polyglot-notebook"
    }
   },
   "outputs": [
    {
     "data": {
      "text/html": [
       "<details open=\"open\" class=\"dni-treeview\"><summary><span class=\"dni-code-hint\"><code>UsageResponse { PromptTokens = 36842, CompletionTokens = 1195, TotalTokens = 38037, CachedPromptTokens = 0 }</code></span></summary><div><table><thead><tr></tr></thead><tbody><tr><td>PromptTokens</td><td><div class=\"dni-plaintext\"><pre>36842</pre></div></td></tr><tr><td>CompletionTokens</td><td><div class=\"dni-plaintext\"><pre>1195</pre></div></td></tr><tr><td>TotalTokens</td><td><div class=\"dni-plaintext\"><pre>38037</pre></div></td></tr><tr><td>CachedPromptTokens</td><td><div class=\"dni-plaintext\"><pre>0</pre></div></td></tr></tbody></table></div></details><style>\r\n",
       ".dni-code-hint {\r\n",
       "    font-style: italic;\r\n",
       "    overflow: hidden;\r\n",
       "    white-space: nowrap;\r\n",
       "}\r\n",
       ".dni-treeview {\r\n",
       "    white-space: nowrap;\r\n",
       "}\r\n",
       ".dni-treeview td {\r\n",
       "    vertical-align: top;\r\n",
       "    text-align: start;\r\n",
       "}\r\n",
       "details.dni-treeview {\r\n",
       "    padding-left: 1em;\r\n",
       "}\r\n",
       "table td {\r\n",
       "    text-align: start;\r\n",
       "}\r\n",
       "table tr { \r\n",
       "    vertical-align: top; \r\n",
       "    margin: 0em 0px;\r\n",
       "}\r\n",
       "table tr td pre \r\n",
       "{ \r\n",
       "    vertical-align: top !important; \r\n",
       "    margin: 0em 0px !important;\r\n",
       "} \r\n",
       "table th {\r\n",
       "    text-align: start;\r\n",
       "}\r\n",
       "</style>"
      ]
     },
     "metadata": {},
     "output_type": "display_data"
    }
   ],
   "source": [
    "conversation.Usage"
   ]
  }
 ],
 "metadata": {
  "kernelspec": {
   "display_name": ".NET (C#)",
   "language": "C#",
   "name": ".net-csharp"
  },
  "language_info": {
   "name": "python"
  },
  "polyglot_notebook": {
   "kernelInfo": {
    "defaultKernelName": "csharp",
    "items": [
     {
      "aliases": [],
      "name": "csharp"
     }
    ]
   }
  }
 },
 "nbformat": 4,
 "nbformat_minor": 2
}
