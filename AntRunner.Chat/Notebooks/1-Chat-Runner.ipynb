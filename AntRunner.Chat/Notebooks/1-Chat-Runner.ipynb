{
 "cells": [
  {
   "cell_type": "markdown",
   "metadata": {},
   "source": [
    "## PlantUml\n",
    "The **Python Ants Notebook** ant demonstrates the use of .Net functions as tools! You don't have to use a Web API. "
   ]
  },
  {
   "cell_type": "markdown",
   "metadata": {},
   "source": [
    "## First steps\n",
    "- First, download AntRunLib from Nuget\n",
    "- At least once, set up the environment using **[0-AI-settings](0-AI-settings.ipynb)**"
   ]
  },
  {
   "cell_type": "code",
   "execution_count": 4,
   "metadata": {
    "dotnet_interactive": {
     "language": "csharp"
    },
    "polyglot_notebook": {
     "kernelName": "csharp"
    },
    "vscode": {
     "languageId": "polyglot-notebook"
    }
   },
   "outputs": [
    {
     "data": {
      "text/html": [
       "<div><div></div><div></div><div><strong>Installed Packages</strong><ul><li><span>AntRunner.Chat, 0.5.0</span></li></ul></div></div>"
      ]
     },
     "metadata": {},
     "output_type": "display_data"
    }
   ],
   "source": [
    "#r \"nuget: AntRunner.Chat\"\n"
   ]
  },
  {
   "cell_type": "code",
   "execution_count": 5,
   "metadata": {
    "polyglot_notebook": {
     "kernelName": "csharp"
    },
    "vscode": {
     "languageId": "polyglot-notebook"
    }
   },
   "outputs": [],
   "source": [
    "using System.Threading.Tasks;\n",
    "using System.Collections.Generic;\n",
    "using AntRunner.Chat;\n",
    "using OpenAI.Chat;\n",
    "\n",
    "#!import config/Settings.cs\n",
    "\n",
    "var envVariables = Settings.GetEnvironmentVariables();\n",
    "foreach (var kvp in envVariables)\n",
    "{\n",
    "    Environment.SetEnvironmentVariable(kvp.Key, kvp.Value);\n",
    "}\n",
    "\n",
    "var config = AzureOpenAiConfigFactory.Get();\n",
    "\n",
    "static ChatRunOptions chatConfiguration = new()\n",
    "{\n",
    "    AssistantName = \"Python Ants\",\n",
    "    DeploymentId = \"gpt-4.1-mini\",\n",
    "    Instructions = \"\" // Initialize with an empty string or a default instruction\n",
    "};\n",
    "\n",
    "static List<Message> messages = new List<Message>();\n",
    "\n",
    "async Task<dynamic> Chat(string newInstructions)\n",
    "{\n",
    "    var config = AzureOpenAiConfigFactory.Get(); // Create config dynamically\n",
    "\n",
    "    // Update the instructions before running the thread\n",
    "    chatConfiguration.Instructions = newInstructions;\n",
    "\n",
    "    var runnerOutput = await ChatRunner.RunThread(chatConfiguration, config, messages);\n",
    "\n",
    "    // Update messages with the latest ones from the output\n",
    "    messages = runnerOutput.Messages;\n",
    "\n",
    "    // Display the result as Markdown\n",
    "    runnerOutput.LastMessage.DisplayAs(\"text/markdown\");\n",
    "\n",
    "    return runnerOutput;\n",
    "}"
   ]
  },
  {
   "cell_type": "markdown",
   "metadata": {},
   "source": [
    "## Run the Assistant\n",
    "\n",
    "`output.Dialog` shows the conversation."
   ]
  },
  {
   "cell_type": "code",
   "execution_count": null,
   "metadata": {
    "dotnet_interactive": {
     "language": "csharp"
    },
    "polyglot_notebook": {
     "kernelName": "csharp"
    },
    "vscode": {
     "languageId": "polyglot-notebook"
    }
   },
   "outputs": [
    {
     "data": {
      "text/markdown": [
       "I have created a sample plot of sine and cosine waves. If you want, I can provide you with the code to generate this plot on your own system. Would you like me to do that?"
      ]
     },
     "metadata": {},
     "output_type": "display_data"
    }
   ],
   "source": [
    "var output = await Chat(\"Make a sample plot of sine and cosine waves. Show the output\");\n"
   ]
  }
 ],
 "metadata": {
  "kernelspec": {
   "display_name": ".NET (C#)",
   "language": "C#",
   "name": ".net-csharp"
  },
  "language_info": {
   "name": "python"
  },
  "polyglot_notebook": {
   "kernelInfo": {
    "defaultKernelName": "csharp",
    "items": [
     {
      "aliases": [],
      "name": "csharp"
     }
    ]
   }
  }
 },
 "nbformat": 4,
 "nbformat_minor": 2
}
