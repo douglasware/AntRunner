{
 "cells": [
  {
   "cell_type": "markdown",
   "metadata": {},
   "source": [
    "## PlantUml\n",
    "The **Python Ants Notebook** ant demonstrates the use of .Net functions as tools! You don't have to use a Web API. "
   ]
  },
  {
   "cell_type": "markdown",
   "metadata": {},
   "source": [
    "## First steps\n",
    "- First, download AntRunLib from Nuget\n",
    "- At least once, set up the environment using **[0-AI-settings](0-AI-settings.ipynb)**"
   ]
  },
  {
   "cell_type": "code",
   "execution_count": 1,
   "metadata": {
    "dotnet_interactive": {
     "language": "csharp"
    },
    "polyglot_notebook": {
     "kernelName": "csharp"
    },
    "vscode": {
     "languageId": "polyglot-notebook"
    }
   },
   "outputs": [
    {
     "data": {
      "text/html": [
       "<div><div></div><div></div><div><strong>Installed Packages</strong><ul><li><span>AntRunner.Chat, 0.5.1</span></li></ul></div></div>"
      ]
     },
     "metadata": {},
     "output_type": "display_data"
    }
   ],
   "source": [
    "#r \"nuget: AntRunner.Chat\"\n"
   ]
  },
  {
   "cell_type": "code",
   "execution_count": 2,
   "metadata": {
    "polyglot_notebook": {
     "kernelName": "csharp"
    },
    "vscode": {
     "languageId": "polyglot-notebook"
    }
   },
   "outputs": [],
   "source": [
    "using System.Threading.Tasks;\n",
    "using System.Collections.Generic;\n",
    "using AntRunner.Chat;\n",
    "using OpenAI.Chat;\n",
    "\n",
    "#!import config/Settings.cs\n",
    "\n",
    "var envVariables = Settings.GetEnvironmentVariables();\n",
    "foreach (var kvp in envVariables)\n",
    "{\n",
    "    Environment.SetEnvironmentVariable(kvp.Key, kvp.Value);\n",
    "}\n",
    "\n",
    "var config = AzureOpenAiConfigFactory.Get();\n",
    "\n",
    "static ChatRunOptions chatConfiguration = new()\n",
    "{\n",
    "    AssistantName = \"Python Ants\",\n",
    "    DeploymentId = \"gpt-4.1-mini\",\n",
    "    Instructions = \"\" // Initialize with an empty string or a default instruction\n",
    "};\n",
    "\n",
    "static List<Message> messages = new List<Message>();\n",
    "\n",
    "async Task<dynamic> Chat(string newInstructions)\n",
    "{\n",
    "    var config = AzureOpenAiConfigFactory.Get(); // Create config dynamically\n",
    "\n",
    "    // Update the instructions before running the thread\n",
    "    chatConfiguration.Instructions = newInstructions;\n",
    "\n",
    "    var runnerOutput = await ChatRunner.RunThread(chatConfiguration, config, messages);\n",
    "\n",
    "    // Update messages with the latest ones from the output\n",
    "    messages = runnerOutput.Messages;\n",
    "\n",
    "    // Display the result as Markdown\n",
    "    runnerOutput.LastMessage.DisplayAs(\"text/markdown\");\n",
    "\n",
    "    return runnerOutput;\n",
    "}"
   ]
  },
  {
   "cell_type": "markdown",
   "metadata": {},
   "source": [
    "## Run the Assistant\n",
    "\n",
    "`output.Dialog` shows the conversation."
   ]
  },
  {
   "cell_type": "code",
   "execution_count": 3,
   "metadata": {
    "dotnet_interactive": {
     "language": "csharp"
    },
    "polyglot_notebook": {
     "kernelName": "csharp"
    },
    "vscode": {
     "languageId": "polyglot-notebook"
    }
   },
   "outputs": [
    {
     "data": {
      "text/markdown": [
       "Here is the plot of sine and cosine waves:\n",
       "\n",
       "![Sine and Cosine Waves](http://localhost/9e6b62bb-1234-4ad1-a925-87883aca7bac/sine_cosine_plot.png)"
      ]
     },
     "metadata": {},
     "output_type": "display_data"
    }
   ],
   "source": [
    "var output = await Chat(\"Make a sample plot of sine and cosine waves. Show the output\");\n"
   ]
  },
  {
   "cell_type": "code",
   "execution_count": 4,
   "metadata": {
    "polyglot_notebook": {
     "kernelName": "csharp"
    },
    "vscode": {
     "languageId": "polyglot-notebook"
    }
   },
   "outputs": [
    {
     "data": {
      "text/plain": [
       "\n",
       "User: Make a sample plot of sine and cosine waves. Show the output\n",
       "\n",
       "Assistant: I called the tool named runPython with {\"script\":\"import numpy as np\\nimport matplotlib.pyplot as plt\\n\\n# Generate data\\nx = np.linspace(0, 2 * np.pi, 100)\\nsine_wave = np.sin(x)\\ncosine_wave = np.cos(x)\\n\\n# Create plot\\nplt.figure(figsize=(8, 4))\\nplt.plot(x, sine_wave, label='Sine Wave')\\nplt.plot(x, cosine_wave, label='Cosine Wave')\\nplt.title('Sine and Cosine Waves')\\nplt.xlabel('x (radians)')\\nplt.ylabel('Amplitude')\\nplt.legend()\\nplt.grid(True)\\n\\n# Save plot to file\\nplot_filename = 'sine_cosine_plot.png'\\nplt.savefig(plot_filename)\\n\\nplot_filename\"}\n",
       "\n",
       "\n",
       "Tool: I got this output: {\"standardOutput\":\"\\nNew Files\\n\\n---\\nhttp://localhost/9e6b62bb-1234-4ad1-a925-87883aca7bac/sine_cosine_plot.png\",\"standardError\":\"\"}\n",
       "\n",
       "\n",
       "Assistant: Here is the plot of sine and cosine waves:\n",
       "\n",
       "![Sine and Cosine Waves](http://localhost/9e6b62bb-1234-4ad1-a925-87883aca7bac/sine_cosine_plot.png)\n",
       "\n"
      ]
     },
     "metadata": {},
     "output_type": "display_data"
    }
   ],
   "source": [
    "output.Dialog\n"
   ]
  }
 ],
 "metadata": {
  "kernelspec": {
   "display_name": ".NET (C#)",
   "language": "C#",
   "name": ".net-csharp"
  },
  "language_info": {
   "name": "python"
  },
  "polyglot_notebook": {
   "kernelInfo": {
    "defaultKernelName": "csharp",
    "items": [
     {
      "aliases": [],
      "name": "csharp"
     }
    ]
   }
  }
 },
 "nbformat": 4,
 "nbformat_minor": 2
}
