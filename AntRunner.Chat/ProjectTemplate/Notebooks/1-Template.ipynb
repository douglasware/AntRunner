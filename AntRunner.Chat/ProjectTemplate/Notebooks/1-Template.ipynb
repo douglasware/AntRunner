{
 "cells": [
  {
   "cell_type": "markdown",
   "metadata": {},
   "source": [
    "## Template\n",
    "The **Python Ants** demonstrates the use of .Net functions as tools! You don't have to use a Web API. "
   ]
  },
  {
   "cell_type": "markdown",
   "metadata": {},
   "source": [
    "## First steps\n",
    "- First, download AntRunLib from Nuget\n",
    "- At least once, set up the environment using **[0-AI-settings](0-AI-settings.ipynb)**"
   ]
  },
  {
   "cell_type": "code",
   "execution_count": null,
   "metadata": {
    "dotnet_interactive": {
     "language": "csharp"
    },
    "polyglot_notebook": {
     "kernelName": "csharp"
    },
    "vscode": {
     "languageId": "polyglot-notebook"
    }
   },
   "outputs": [],
   "source": [
    "#r \"nuget: AntRunner.Chat\"\n"
   ]
  },
  {
   "cell_type": "code",
   "execution_count": null,
   "metadata": {
    "polyglot_notebook": {
     "kernelName": "csharp"
    },
    "vscode": {
     "languageId": "polyglot-notebook"
    }
   },
   "outputs": [],
   "source": [
    "using System.Threading.Tasks;\n",
    "using System.Collections.Generic;\n",
    "using System.Net.Http;\n",
    "using AntRunner.Chat;\n",
    "\n",
    "#!import config/Settings.cs\n",
    "\n",
    "var envVariables = Settings.GetEnvironmentVariables();\n",
    "foreach (var kvp in envVariables)\n",
    "{\n",
    "    Environment.SetEnvironmentVariable(kvp.Key, kvp.Value);\n",
    "}\n",
    "\n",
    "var config = AzureOpenAiConfigFactory.Get();\n",
    "\n",
    "ChatRunOptions chatConfiguration = new()\n",
    "{\n",
    "    AssistantName = \"Python Ants\",\n",
    "    DeploymentId = \"gpt-4.1-mini\"\n",
    "};\n",
    "\n",
    "var conversation = await Conversation.Create(chatConfiguration, config, httpClient: new HttpClient() { Timeout = TimeSpan.FromMinutes(5) });\n",
    "\n",
    "// Stream messages as they are added\n",
    "// Comment this and uncomment runnerOutput.LastMessage.DisplayAs(\"text/markdown\"); to just see the final response\n",
    "conversation.MessageAdded += (s, m) => { m.Message.DisplayAs(\"text/markdown\"); };\n",
    "\n",
    "async Task<ChatRunOutput> Chat(string newInstructions)\n",
    "{\n",
    "    // Update the instructions before running the thread\n",
    "    chatConfiguration.Instructions = newInstructions;\n",
    "\n",
    "    var runnerOutput = await conversation.Chat(newInstructions);\n",
    "    // Display the result as Markdown\n",
    "    //runnerOutput.LastMessage.DisplayAs(\"text/markdown\");\n",
    "    \n",
    "    return runnerOutput;\n",
    "}"
   ]
  },
  {
   "cell_type": "markdown",
   "metadata": {},
   "source": [
    "## Run the Assistant\n",
    "\n",
    "`output.Dialog` shows the conversation."
   ]
  },
  {
   "cell_type": "code",
   "execution_count": null,
   "metadata": {
    "dotnet_interactive": {
     "language": "csharp"
    },
    "polyglot_notebook": {
     "kernelName": "csharp"
    },
    "vscode": {
     "languageId": "polyglot-notebook"
    }
   },
   "outputs": [],
   "source": [
    "var output = await Chat(\"What version of python are you using?\");"
   ]
  },
  {
   "cell_type": "code",
   "execution_count": null,
   "metadata": {
    "polyglot_notebook": {
     "kernelName": "csharp"
    },
    "vscode": {
     "languageId": "polyglot-notebook"
    }
   },
   "outputs": [],
   "source": [
    "var output = await Chat(\"What is in ../content?\");"
   ]
  }
 ],
 "metadata": {
  "kernelspec": {
   "display_name": ".NET (C#)",
   "language": "C#",
   "name": ".net-csharp"
  },
  "language_info": {
   "name": "python"
  },
  "polyglot_notebook": {
   "kernelInfo": {
    "defaultKernelName": "csharp",
    "items": [
     {
      "aliases": [],
      "name": "csharp"
     }
    ]
   }
  }
 },
 "nbformat": 4,
 "nbformat_minor": 2
}
