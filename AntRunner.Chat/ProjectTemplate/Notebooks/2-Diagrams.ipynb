{
 "cells": [
  {
   "cell_type": "markdown",
   "metadata": {},
   "source": [
    "## Template\n",
    "The **Python Ants** demonstrates the use of .Net functions as tools! You don't have to use a Web API. "
   ]
  },
  {
   "cell_type": "markdown",
   "metadata": {},
   "source": [
    "## First steps\n",
    "- First, download AntRunLib from Nuget\n",
    "- At least once, set up the environment using **[0-AI-settings](0-AI-settings.ipynb)**"
   ]
  },
  {
   "cell_type": "code",
   "execution_count": 1,
   "metadata": {
    "dotnet_interactive": {
     "language": "csharp"
    },
    "polyglot_notebook": {
     "kernelName": "csharp"
    },
    "vscode": {
     "languageId": "polyglot-notebook"
    }
   },
   "outputs": [
    {
     "data": {
      "text/html": [
       "<div><div></div><div></div><div><strong>Installed Packages</strong><ul><li><span>AntRunner.Chat, 0.7.1</span></li></ul></div></div>"
      ]
     },
     "metadata": {},
     "output_type": "display_data"
    }
   ],
   "source": [
    "#r \"nuget: AntRunner.Chat\"\n"
   ]
  },
  {
   "cell_type": "code",
   "execution_count": 2,
   "metadata": {
    "polyglot_notebook": {
     "kernelName": "csharp"
    },
    "vscode": {
     "languageId": "polyglot-notebook"
    }
   },
   "outputs": [],
   "source": [
    "using System.Threading.Tasks;\n",
    "using System.Collections.Generic;\n",
    "using System.Net.Http;\n",
    "using AntRunner.Chat;\n",
    "\n",
    "#!import config/Settings.cs\n",
    "\n",
    "var envVariables = Settings.GetEnvironmentVariables();\n",
    "foreach (var kvp in envVariables)\n",
    "{\n",
    "    Environment.SetEnvironmentVariable(kvp.Key, kvp.Value);\n",
    "}\n",
    "\n",
    "var config = AzureOpenAiConfigFactory.Get();\n",
    "\n",
    "ChatRunOptions chatConfiguration = new()\n",
    "{\n",
    "    AssistantName = \"Python Ants\",\n",
    "    DeploymentId = \"gpt-4.1-mini\"\n",
    "};\n",
    "\n",
    "var conversation = await Conversation.Create(chatConfiguration, config, httpClient: new HttpClient() { Timeout = TimeSpan.FromMinutes(5) });\n",
    "\n",
    "// Stream messages as they are added\n",
    "// Comment this and uncomment runnerOutput.LastMessage.DisplayAs(\"text/markdown\"); to just see the final response\n",
    "conversation.MessageAdded += (s, m) => { m.NewMessage.DisplayAs(\"text/markdown\"); };\n",
    "\n",
    "async Task<ChatRunOutput> Chat(string newInstructions)\n",
    "{\n",
    "    // Update the instructions before running the thread\n",
    "    chatConfiguration.Instructions = newInstructions;\n",
    "\n",
    "    var runnerOutput = await conversation.Chat(newInstructions);\n",
    "    // Display the result as Markdown\n",
    "    //runnerOutput.LastMessage.DisplayAs(\"text/markdown\");\n",
    "    \n",
    "    return runnerOutput;\n",
    "}"
   ]
  },
  {
   "cell_type": "markdown",
   "metadata": {},
   "source": [
    "## Run the Assistant\n",
    "\n",
    "`output.Dialog` shows the conversation."
   ]
  },
  {
   "cell_type": "code",
   "execution_count": 3,
   "metadata": {
    "dotnet_interactive": {
     "language": "csharp"
    },
    "polyglot_notebook": {
     "kernelName": "csharp"
    },
    "vscode": {
     "languageId": "polyglot-notebook"
    }
   },
   "outputs": [
    {
     "data": {
      "text/markdown": []
     },
     "metadata": {},
     "output_type": "display_data"
    },
    {
     "data": {
      "text/markdown": [
       "What version of python are you using?"
      ]
     },
     "metadata": {},
     "output_type": "display_data"
    },
    {
     "data": {
      "text/markdown": [
       "I called the tool named runPython with {\"script\":\"import sys\\nprint(sys.version)\"}"
      ]
     },
     "metadata": {},
     "output_type": "display_data"
    },
    {
     "data": {
      "text/markdown": [
       "I got this output: {\"standardOutput\":\"3.11.11 (main, Apr  8 2025, 04:26:24) [GCC 10.2.1 20210110]\\n\",\"standardError\":\"\"}"
      ]
     },
     "metadata": {},
     "output_type": "display_data"
    },
    {
     "data": {
      "text/markdown": [
       "I am using Python version 3.11.11."
      ]
     },
     "metadata": {},
     "output_type": "display_data"
    }
   ],
   "source": [
    "var output = await Chat(\"What version of python are you using?\");"
   ]
  },
  {
   "cell_type": "code",
   "execution_count": null,
   "metadata": {
    "polyglot_notebook": {
     "kernelName": "csharp"
    },
    "vscode": {
     "languageId": "polyglot-notebook"
    }
   },
   "outputs": [],
   "source": [
    "await conversation.ChangeAssistant(\"Diagram Ants\");"
   ]
  },
  {
   "cell_type": "code",
   "execution_count": 5,
   "metadata": {
    "polyglot_notebook": {
     "kernelName": "csharp"
    },
    "vscode": {
     "languageId": "polyglot-notebook"
    }
   },
   "outputs": [
    {
     "data": {
      "text/markdown": [
       "What kinds of plantuml diagrams can you draw?"
      ]
     },
     "metadata": {},
     "output_type": "display_data"
    },
    {
     "data": {
      "text/markdown": [
       "I called the tool named AskExpert with {\"index\":\"plantuml\",\"question\":\"What types of diagrams can be created using PlantUML?\"}"
      ]
     },
     "metadata": {},
     "output_type": "display_data"
    },
    {
     "data": {
      "text/markdown": [
       "I got this output: {\"text\":\"PlantUML supports the creation of various types of diagrams, including:\\n\\n1. **UML Diagrams**:\\n   - Sequence Diagram\\n   - Use Case Diagram\\n   - Class Diagram\\n   - Activity Diagram\\n   - Component Diagram\\n   - State Diagram\\n   - Object Diagram\\n   - Deployment Diagram\\n   - Timing Diagram\\n\\n2. **Non-UML Diagrams**:\\n   - JSON Data\\n   - Wireframe Graphical Interface\\n   - Archimate Diagram\\n   - Specification and Description Language (SDL)\\n   - Ditaa Diagram\\n   - Gantt Diagram\\n   - MindMap Diagram\\n   - Work Breakdown Structure (WBS) Diagram\\n   - Mathematical Diagrams with AsciiMath or JLaTeXMath notation\\n\\nThese diagrams can be defined using a simple and intuitive language provided by PlantUML.\"}"
      ]
     },
     "metadata": {},
     "output_type": "display_data"
    },
    {
     "data": {
      "text/markdown": [
       "PlantUML can create a wide variety of diagrams, including:\n",
       "\n",
       "1. UML Diagrams:\n",
       "   - Sequence Diagram\n",
       "   - Use Case Diagram\n",
       "   - Class Diagram\n",
       "   - Activity Diagram\n",
       "   - Component Diagram\n",
       "   - State Diagram\n",
       "   - Object Diagram\n",
       "   - Deployment Diagram\n",
       "   - Timing Diagram\n",
       "\n",
       "2. Non-UML Diagrams:\n",
       "   - JSON Data\n",
       "   - Wireframe Graphical Interface\n",
       "   - Archimate Diagram\n",
       "   - Specification and Description Language (SDL)\n",
       "   - Ditaa Diagram\n",
       "   - Gantt Diagram\n",
       "   - MindMap Diagram\n",
       "   - Work Breakdown Structure (WBS) Diagram\n",
       "   - Mathematical Diagrams with AsciiMath or JLaTeXMath notation\n",
       "\n",
       "If you want, I can help you create any of these diagrams. Just let me know which one you need!"
      ]
     },
     "metadata": {},
     "output_type": "display_data"
    }
   ],
   "source": [
    "var output = await Chat(\"What kinds of plantuml diagrams can you draw?\");"
   ]
  },
  {
   "cell_type": "code",
   "execution_count": 6,
   "metadata": {
    "polyglot_notebook": {
     "kernelName": "csharp"
    },
    "vscode": {
     "languageId": "polyglot-notebook"
    }
   },
   "outputs": [
    {
     "data": {
      "text/markdown": [
       "Show an example Gantt Diagram diagram and explain it"
      ]
     },
     "metadata": {},
     "output_type": "display_data"
    },
    {
     "data": {
      "text/markdown": [
       "I called the tool named AskExpert with {\"index\":\"plantuml\",\"question\":\"What is the syntax for creating a Gantt Diagram in PlantUML? Please provide an example and explanation.\"}"
      ]
     },
     "metadata": {},
     "output_type": "display_data"
    },
    {
     "data": {
      "text/markdown": [
       "I got this output: {\"text\":\"To create a Gantt Diagram in PlantUML, you use the \\u0060@startgantt\\u0060 and \\u0060@endgantt\\u0060 keywords to define the start and end of the Gantt diagram. Within this block, you can declare tasks, set their durations, specify start and end dates, and customize their appearance with colors and other attributes.\\n\\n### Basic Syntax:\\n1. **Declare the project start date** using the \\u0060Project starts\\u0060 keyword.\\n2. **Define tasks** using the format \\u0060[Task Name] lasts X days\\u0060 or \\u0060[Task Name] starts at [Another Task]\\u0027s end\\u0060.\\n3. **Customize tasks** with colors, completion status, and milestones.\\n4. **Use the \\u0060then\\u0060 keyword** to denote consecutive tasks or the \\u0060-\\u003E\\u0060 arrow to show dependencies between tasks.\\n\\n### Example:\\n\\u0060\\u0060\\u0060plantuml\\n@startgantt\\nProject starts the 20th of September 2020\\n[Prototype design] as [TASK1] lasts 13 days\\n[TASK1] is colored in Lavender/LightBlue\\n[Test prototype] lasts 10 days\\n[Test prototype] starts at [TASK1]\\u0027s end\\n@endgantt\\n\\u0060\\u0060\\u0060\\n\\n### Explanation:\\n- \\u0060Project starts the 20th of September 2020\\u0060: This line sets the starting date for the project.\\n- \\u0060[Prototype design] as [TASK1] lasts 13 days\\u0060: This line defines a task named \\u0022Prototype design\\u0022 that lasts for 13 days. The task is also given an alias \\u0060[TASK1]\\u0060 for reference.\\n- \\u0060[TASK1] is colored in Lavender/LightBlue\\u0060: This line customizes the appearance of the task by setting its color.\\n- \\u0060[Test prototype] lasts 10 days\\u0060: This line defines another task named \\u0022Test prototype\\u0022 that lasts for 10 days.\\n- \\u0060[Test prototype] starts at [TASK1]\\u0027s end\\u0060: This line specifies that the \\u0022Test prototype\\u0022 task starts immediately after the \\u0022Prototype design\\u0022 task ends.\\n\\nThis syntax allows you to create a clear and visually organized representation of project timelines and task dependencies in PlantUML.\"}"
      ]
     },
     "metadata": {},
     "output_type": "display_data"
    },
    {
     "data": {
      "text/markdown": [
       "I called the tool named runScript with {\"script\":\"cat << 'EOF' > gantt_example.puml\\n@startgantt\\nProject starts the 20th of September 2020\\n[Prototype design] as [TASK1] lasts 13 days\\n[TASK1] is colored in Lavender/LightBlue\\n[Test prototype] lasts 10 days\\n[Test prototype] starts at [TASK1]'s end\\n@endgantt\\nEOF\\n\\nplantuml gantt_example.puml\\n\"}"
      ]
     },
     "metadata": {},
     "output_type": "display_data"
    },
    {
     "data": {
      "text/markdown": [
       "I got this output: {\"standardOutput\":\"\\nNew Files\\n\\n---\\nhttp://localhost/b99599e1-7384-4f43-ae54-5777cad23134/gantt_example.png\\nhttp://localhost/b99599e1-7384-4f43-ae54-5777cad23134/gantt_example.puml\",\"standardError\":\"\"}"
      ]
     },
     "metadata": {},
     "output_type": "display_data"
    },
    {
     "data": {
      "text/markdown": [
       "Here is an example of a Gantt Diagram created with PlantUML:\n",
       "\n",
       "![Gantt Diagram](./images/gantt_example.png)\n",
       "\n",
       "Explanation:\n",
       "- The project starts on the 20th of September 2020.\n",
       "- The first task, \"Prototype design,\" lasts for 13 days and is colored in Lavender/LightBlue.\n",
       "- The second task, \"Test prototype,\" lasts for 10 days and starts immediately after the \"Prototype design\" task ends.\n",
       "\n",
       "This diagram visually represents the timeline and dependencies between tasks in a project. If you want, I can help you customize or create a Gantt diagram for your specific project."
      ]
     },
     "metadata": {},
     "output_type": "display_data"
    }
   ],
   "source": [
    "var output = await Chat(\"Show an example Gantt Diagram diagram and explain it\");"
   ]
  },
  {
   "cell_type": "code",
   "execution_count": 8,
   "metadata": {
    "polyglot_notebook": {
     "kernelName": "csharp"
    },
    "vscode": {
     "languageId": "polyglot-notebook"
    }
   },
   "outputs": [
    {
     "data": {
      "text/markdown": [
       "\n",
       "User: What version of python are you using?\n",
       "\n",
       "Assistant: I am using Python version 3.11.11.\n",
       "\n",
       "User: What kinds of plantuml diagrams can you draw?\n",
       "\n",
       "Assistant: I called the tool named AskExpert with {\"index\":\"plantuml\",\"question\":\"What types of diagrams can be created using PlantUML?\"}\n",
       "\n",
       "Tool: I got this output: {\"text\":\"PlantUML supports the creation of various types of diagrams, including:\\n\\n1. **UML Diagrams**:\\n   - Sequence Diagram\\n   - Use Case Diagram\\n   - Class Diagram\\n   - Activity Diagram\\n   - Component Diagram\\n   - State Diagram\\n   - Object Diagram\\n   - Deployment Diagram\\n   - Timing Diagram\\n\\n2. **Non-UML Diagrams**:\\n   - JSON Data\\n   - Wireframe Graphical Interface\\n   - Archimate Diagram\\n   - Specification and Description Language (SDL)\\n   - Ditaa Diagram\\n   - Gantt Diagram\\n   - MindMap Diagram\\n   - Work Breakdown Structure (WBS) Diagram\\n   - Mathematical Diagrams with AsciiMath or JLaTeXMath notation\\n\\nThese diagrams can be defined using a simple and intuitive language provided by PlantUML.\"}\n",
       "\n",
       "Assistant: PlantUML can create a wide variety of diagrams, including:\n",
       "\n",
       "1. UML Diagrams:\n",
       "   - Sequence Diagram\n",
       "   - Use Case Diagram\n",
       "   - Class Diagram\n",
       "   - Activity Diagram\n",
       "   - Component Diagram\n",
       "   - State Diagram\n",
       "   - Object Diagram\n",
       "   - Deployment Diagram\n",
       "   - Timing Diagram\n",
       "\n",
       "2. Non-UML Diagrams:\n",
       "   - JSON Data\n",
       "   - Wireframe Graphical Interface\n",
       "   - Archimate Diagram\n",
       "   - Specification and Description Language (SDL)\n",
       "   - Ditaa Diagram\n",
       "   - Gantt Diagram\n",
       "   - MindMap Diagram\n",
       "   - Work Breakdown Structure (WBS) Diagram\n",
       "   - Mathematical Diagrams with AsciiMath or JLaTeXMath notation\n",
       "\n",
       "If you want, I can help you create any of these diagrams. Just let me know which one you need!\n",
       "\n",
       "User: Show an example Gantt Diagram diagram and explain it\n",
       "\n",
       "Assistant: I called the tool named AskExpert with {\"index\":\"plantuml\",\"question\":\"What is the syntax for creating a Gantt Diagram in PlantUML? Please provide an example and explanation.\"}\n",
       "\n",
       "Tool: I got this output: {\"text\":\"To create a Gantt Diagram in PlantUML, you use the \\u0060@startgantt\\u0060 and \\u0060@endgantt\\u0060 keywords to define the start and end of the Gantt diagram. Within this block, you can declare tasks, set their durations, specify start and end dates, and customize their appearance with colors and other attributes.\\n\\n### Basic Syntax:\\n1. **Declare the project start date** using the \\u0060Project starts\\u0060 keyword.\\n2. **Define tasks** using the format \\u0060[Task Name] lasts X days\\u0060 or \\u0060[Task Name] starts at [Another Task]\\u0027s end\\u0060.\\n3. **Customize tasks** with colors, completion status, and milestones.\\n4. **Use the \\u0060then\\u0060 keyword** to denote consecutive tasks or the \\u0060-\\u003E\\u0060 arrow to show dependencies between tasks.\\n\\n### Example:\\n\\u0060\\u0060\\u0060plantuml\\n@startgantt\\nProject starts the 20th of September 2020\\n[Prototype design] as [TASK1] lasts 13 days\\n[TASK1] is colored in Lavender/LightBlue\\n[Test prototype] lasts 10 days\\n[Test prototype] starts at [TASK1]\\u0027s end\\n@endgantt\\n\\u0060\\u0060\\u0060\\n\\n### Explanation:\\n- \\u0060Project starts the 20th of September 2020\\u0060: This line sets the starting date for the project.\\n- \\u0060[Prototype design] as [TASK1] lasts 13 days\\u0060: This line defines a task named \\u0022Prototype design\\u0022 that lasts for 13 days. The task is also given an alias \\u0060[TASK1]\\u0060 for reference.\\n- \\u0060[TASK1] is colored in Lavender/LightBlue\\u0060: This line customizes the appearance of the task by setting its color.\\n- \\u0060[Test prototype] lasts 10 days\\u0060: This line defines another task named \\u0022Test prototype\\u0022 that lasts for 10 days.\\n- \\u0060[Test prototype] starts at [TASK1]\\u0027s end\\u0060: This line specifies that the \\u0022Test prototype\\u0022 task starts immediately after the \\u0022Prototype design\\u0022 task ends.\\n\\nThis syntax allows you to create a clear and visually organized representation of project timelines and task dependencies in PlantUML.\"}\n",
       "\n",
       "Assistant: I called the tool named runScript with {\"script\":\"cat << 'EOF' > gantt_example.puml\\n@startgantt\\nProject starts the 20th of September 2020\\n[Prototype design] as [TASK1] lasts 13 days\\n[TASK1] is colored in Lavender/LightBlue\\n[Test prototype] lasts 10 days\\n[Test prototype] starts at [TASK1]'s end\\n@endgantt\\nEOF\\n\\nplantuml gantt_example.puml\\n\"}\n",
       "\n",
       "Tool: I got this output: {\"standardOutput\":\"\\nNew Files\\n\\n---\\nhttp://localhost/b99599e1-7384-4f43-ae54-5777cad23134/gantt_example.png\\nhttp://localhost/b99599e1-7384-4f43-ae54-5777cad23134/gantt_example.puml\",\"standardError\":\"\"}\n",
       "\n",
       "Assistant: Here is an example of a Gantt Diagram created with PlantUML:\n",
       "\n",
       "![Gantt Diagram](./images/gantt_example.png)\n",
       "\n",
       "Explanation:\n",
       "- The project starts on the 20th of September 2020.\n",
       "- The first task, \"Prototype design,\" lasts for 13 days and is colored in Lavender/LightBlue.\n",
       "- The second task, \"Test prototype,\" lasts for 10 days and starts immediately after the \"Prototype design\" task ends.\n",
       "\n",
       "This diagram visually represents the timeline and dependencies between tasks in a project. If you want, I can help you customize or create a Gantt diagram for your specific project.\n"
      ]
     },
     "metadata": {},
     "output_type": "display_data"
    }
   ],
   "source": [
    "output.Dialog.DisplayAs(\"text/markdown\");"
   ]
  }
 ],
 "metadata": {
  "kernelspec": {
   "display_name": ".NET (C#)",
   "language": "C#",
   "name": ".net-csharp"
  },
  "language_info": {
   "name": "python"
  },
  "polyglot_notebook": {
   "kernelInfo": {
    "defaultKernelName": "csharp",
    "items": [
     {
      "aliases": [],
      "name": "csharp"
     }
    ]
   }
  }
 },
 "nbformat": 4,
 "nbformat_minor": 2
}
