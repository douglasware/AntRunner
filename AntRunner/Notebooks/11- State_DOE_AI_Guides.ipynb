{
 "cells": [
  {
   "cell_type": "markdown",
   "metadata": {},
   "source": [
    "## File search assistant\n",
    "The McKessonMDTranscripts demonstrates the creation and execution of an assistant using the file_search feature with a knowledge base based on earnings call transcripts downloaded from the internet.\n",
    "\n",
    "## First steps\n",
    "- First, download AntRunLib from Nuget\n",
    "- At least once, set up the environment using **[0-AI-settings](0-AI-settings.ipynb)**"
   ]
  },
  {
   "cell_type": "code",
   "execution_count": 1,
   "metadata": {
    "dotnet_interactive": {
     "language": "csharp"
    },
    "polyglot_notebook": {
     "kernelName": "csharp"
    },
    "vscode": {
     "languageId": "polyglot-notebook"
    }
   },
   "outputs": [
    {
     "data": {
      "text/html": [
       "<div><div></div><div></div><div><strong>Installed Packages</strong><ul><li><span>AntRunnerLib, 0.9.5</span></li></ul></div></div>"
      ]
     },
     "metadata": {},
     "output_type": "display_data"
    }
   ],
   "source": [
    "#r \"nuget: AntRunnerLib, 0.9.5\"\n",
    "\n",
    "using AntRunnerLib;\n",
    "using AntRunnerLib.Identity;\n",
    "using static AntRunnerLib.ClientUtility;\n",
    "using System.IO;\n",
    "\n",
    "#!import config/Settings.cs \n",
    "\n",
    "var envVariables = Settings.GetEnvironmentVariables();\n",
    "foreach (var kvp in envVariables)\n",
    "{\n",
    "    Environment.SetEnvironmentVariable(kvp.Key, kvp.Value);\n",
    "}\n",
    "\n",
    "var config = AzureOpenAiConfigFactory.Get();\n",
    "var client = GetOpenAiClient(config);\n"
   ]
  },
  {
   "cell_type": "markdown",
   "metadata": {},
   "source": [
    "## Ensure the State_DOE_AI_Guides assistant exists\n",
    "The definition of this assistant is located in the \".\\AssistantDefinitions\\McKessonMDTranscripts\" folder\n",
    "\n",
    "\".\\AssistantDefinitions\\\" is a default path. You can override it by setting the **ASSISTANTS_BASE_FOLDER_PATH** environment variable.\n",
    "\n",
    "### Explanation\n",
    "`AssistantUtility.Create` will create the vector store if necessary, upload the files, and then update the manifest with the vector store ID before creating the assistant."
   ]
  },
  {
   "cell_type": "code",
   "execution_count": 2,
   "metadata": {
    "dotnet_interactive": {
     "language": "csharp"
    },
    "polyglot_notebook": {
     "kernelName": "csharp"
    },
    "vscode": {
     "languageId": "polyglot-notebook"
    }
   },
   "outputs": [
    {
     "name": "stdout",
     "output_type": "stream",
     "text": [
      "asst_ZZEIKcs9t1C6CybVLwfmyE72\r\n"
     ]
    }
   ],
   "source": [
    "var assistantId = await AssistantUtility.Create(\"State_DOE_AI_Guides\", config);\n",
    "Console.WriteLine(assistantId)"
   ]
  },
  {
   "cell_type": "markdown",
   "metadata": {},
   "source": [
    "## Run the Assistant\n",
    "\n",
    "`output.Dialog` shows the conversation."
   ]
  },
  {
   "cell_type": "code",
   "execution_count": 23,
   "metadata": {
    "dotnet_interactive": {
     "language": "csharp"
    },
    "polyglot_notebook": {
     "kernelName": "csharp"
    },
    "vscode": {
     "languageId": "polyglot-notebook"
    }
   },
   "outputs": [
    {
     "data": {
      "text/markdown": [
       "\n",
       "User: What does the California policy say about plagiarism detectors with regards to detecting AI created content. Do not use any policy except for California's when answering\n",
       "\n",
       "Assistant: I searched my knowledge base for the answer.\n",
       "\n",
       "The California Department of Education (CDE) has specific guidelines regarding the use of plagiarism detection tools in relation to AI-created content. The CDE advises caution in using AI detectors due to their current limitations and potential for inaccuracy. Specifically, the guidance suggests that AI detectors, such as Turnitin's AI detection tool and GPT Zero, often incorrectly detect the use of AI, particularly when students use formal academic language. Therefore, while these tools can be used to inform feedback provided to students, the CDE discourages relying solely on these systems to determine instances of cheating or plagiarism【8:12†source】【8:13†source】【8:16†source】.\n"
      ]
     },
     "metadata": {},
     "output_type": "display_data"
    }
   ],
   "source": [
    "var assistantRunOptions = new AssistantRunOptions() {\n",
    "    AssistantName = \"State_DOE_AI_Guides\",\n",
    "    Instructions = \"What does the California policy say about plagiarism detectors with regards to detecting AI created content. Do not use any policy except for California's when answering\"\n",
    "};\n",
    "var output = await AntRunnerLib.AssistantRunner.RunThread(assistantRunOptions, config);\n",
    "output.Dialog.DisplayAs(\"text/markdown\");"
   ]
  },
  {
   "cell_type": "code",
   "execution_count": 25,
   "metadata": {
    "vscode": {
     "languageId": "polyglot-notebook"
    }
   },
   "outputs": [
    {
     "data": {
      "text/markdown": [
       "\n",
       "User: What specific AI detectors and vendors are mentioned in the policies and what do they say about each? A valid answer includes the names of specific **AI Detection** products, not general guidelines or chatbots like ChatGPT or Copilot\n",
       "\n",
       "Assistant: I searched my knowledge base for the answer.\n",
       "\n",
       "The state Department of Education guidelines mention several specific AI detection tools and vendors. Here are the products and what the guidelines say about each:\n",
       "\n",
       "1. **AI Content Detector**\n",
       "   - Described as an AI classifier that evaluates text to determine if it is AI-generated. It is noted that these tools do not accurately detect AI-generated material, especially material containing only a few hundred words. Additionally, they can falsely identify the writings of English Language students as generated material simply because their writing skills are still developing【4:0†source】.\n",
       "\n",
       "2. **GPTZero**\n",
       "   - Similar to AI Content Detector, GPTZero is mentioned as an AI classifier used to evaluate whether text is AI-generated. The guidelines caution that these tools are not very accurate in detecting AI-generated content and have similar issues with false positives【4:0†source】.\n",
       "\n",
       "3. **Turnitin**\n",
       "   - Known primarily as a plagiarism checker, Turnitin now features AI classifier detection. It scans for exact or close matches of keywords, phrases, and sentences to identify potential plagiarism, and it has been updated to include AI detection capabilities【4:0†source】【11:12†source】.\n",
       "\n",
       "4. **Google’s Originality Reports**\n",
       "   - Another plagiarism checker mentioned for its utility in reviewing text for plagiarism by scanning for exact or close matches of keywords, phrases, and sentences. It is useful for detecting unoriginal content, but there is no specific mention of its AI detection capabilities【4:0†source】.\n",
       "\n",
       "These tools are recommended with caution, as the guidelines emphasize that AI detectors are not completely reliable and should not be used as the sole factor in determining if a student has used AI-generated content【4:1†source】【9:9†source】【11:11†source】.\n"
      ]
     },
     "metadata": {},
     "output_type": "display_data"
    }
   ],
   "source": [
    "var assistantRunOptions = new AssistantRunOptions() {\n",
    "    AssistantName = \"State_DOE_AI_Guides\",\n",
    "    Instructions = \"What specific AI detectors and vendors are mentioned in the policies and what do they say about each? A valid answer includes the names of specific **AI Detection** products, not general guidelines or chatbots like ChatGPT or Copilot\"\n",
    "};\n",
    "var output = await AntRunnerLib.AssistantRunner.RunThread(assistantRunOptions, config);\n",
    "output.Dialog.DisplayAs(\"text/markdown\");"
   ]
  },
  {
   "cell_type": "code",
   "execution_count": 4,
   "metadata": {
    "dotnet_interactive": {
     "language": "csharp"
    },
    "polyglot_notebook": {
     "kernelName": "csharp"
    },
    "vscode": {
     "languageId": "polyglot-notebook"
    }
   },
   "outputs": [
    {
     "data": {
      "text/markdown": [
       "The policies on the use of AI detectors by teachers and staff generally emphasize caution and highlight their unreliability. Here are the key points from the documents:\n",
       "\n",
       "1. **Dependability Issues**: AI detectors are not considered dependable and should not be used as the sole factor in determining if a student has cheated. They have a high frequency of false positives, especially for non-native English speakers and creative writers, and false negatives for students skilled at using AI【4:0†source】【4:1†source】【4:2†source】.\n",
       "\n",
       "2. **Educational Approach**: Suspicion of AI overuse should be seen as a teachable moment rather than a punitive one. The focus should be on educating students about the appropriate use of AI tools, similar to working with a tutor or in a collaborative group【4:0†source】【4:1†source】.\n",
       "\n",
       "3. **Communication**: Educators should clearly communicate the appropriate uses of AI on each assignment. This may include referencing an AI Acceptable Use Scale to clarify the level of generative AI usage permitted【4:0†source】【4:1†source】.\n",
       "\n",
       "4. **Critical Thinking and Bias**: Both teachers and students should evaluate AI outputs for accuracy and potential bias, and develop the critical thinking skills needed to navigate AI-generated content successfully【4:2†source】.\n",
       "\n",
       "5. **Human Oversight**: AI technologies should not replace human decision-making in education. Instead, they should enhance learning experiences with proper human oversight and evaluation of AI-generated content【4:4†source】【4:14†source】.\n",
       "\n",
       "These guidelines stress the importance of human judgment and ethical considerations in the use of AI tools in educational settings."
      ]
     },
     "metadata": {},
     "output_type": "display_data"
    }
   ],
   "source": [
    "output.LastMessage.DisplayAs(\"text/markdown\");"
   ]
  },
  {
   "cell_type": "markdown",
   "metadata": {},
   "source": [
    "## Annotations"
   ]
  },
  {
   "cell_type": "code",
   "execution_count": 5,
   "metadata": {
    "dotnet_interactive": {
     "language": "csharp"
    },
    "polyglot_notebook": {
     "kernelName": "csharp"
    },
    "vscode": {
     "languageId": "polyglot-notebook"
    }
   },
   "outputs": [
    {
     "name": "stdout",
     "output_type": "stream",
     "text": [
      "[\r\n",
      "  {\r\n",
      "    \"type\": \"file_citation\",\r\n",
      "    \"text\": \"\\u30104:0\\u2020source\\u3011\",\r\n",
      "    \"start_index\": 489,\r\n",
      "    \"end_index\": 501,\r\n",
      "    \"file_citation\": {\r\n",
      "      \"file_id\": \"assistant-F4vYCqSsKEjIycGkV5R7ae3n\",\r\n",
      "      \"file_name\": \"\",\r\n",
      "      \"quote\": null\r\n",
      "    }\r\n",
      "  },\r\n",
      "  {\r\n",
      "    \"type\": \"file_citation\",\r\n",
      "    \"text\": \"\\u30104:0\\u2020source\\u3011\",\r\n",
      "    \"start_index\": 489,\r\n",
      "    \"end_index\": 501,\r\n",
      "    \"file_citation\": {\r\n",
      "      \"file_id\": \"assistant-ApyhbGNmrcnrD5IpIxyAMnOr\",\r\n",
      "      \"file_name\": \"\",\r\n",
      "      \"quote\": null\r\n",
      "    }\r\n",
      "  },\r\n",
      "  {\r\n",
      "    \"type\": \"file_citation\",\r\n",
      "    \"text\": \"\\u30104:1\\u2020source\\u3011\",\r\n",
      "    \"start_index\": 501,\r\n",
      "    \"end_index\": 513,\r\n",
      "    \"file_citation\": {\r\n",
      "      \"file_id\": \"assistant-F4vYCqSsKEjIycGkV5R7ae3n\",\r\n",
      "      \"file_name\": \"\",\r\n",
      "      \"quote\": null\r\n",
      "    }\r\n",
      "  },\r\n",
      "  {\r\n",
      "    \"type\": \"file_citation\",\r\n",
      "    \"text\": \"\\u30104:1\\u2020source\\u3011\",\r\n",
      "    \"start_index\": 501,\r\n",
      "    \"end_index\": 513,\r\n",
      "    \"file_citation\": {\r\n",
      "      \"file_id\": \"assistant-ApyhbGNmrcnrD5IpIxyAMnOr\",\r\n",
      "      \"file_name\": \"\",\r\n",
      "      \"quote\": null\r\n",
      "    }\r\n",
      "  },\r\n",
      "  {\r\n",
      "    \"type\": \"file_citation\",\r\n",
      "    \"text\": \"\\u30104:2\\u2020source\\u3011\",\r\n",
      "    \"start_index\": 513,\r\n",
      "    \"end_index\": 525,\r\n",
      "    \"file_citation\": {\r\n",
      "      \"file_id\": \"assistant-psRibNDvO3uqOTRYgqv9IW6v\",\r\n",
      "      \"file_name\": \"\",\r\n",
      "      \"quote\": null\r\n",
      "    }\r\n",
      "  },\r\n",
      "  {\r\n",
      "    \"type\": \"file_citation\",\r\n",
      "    \"text\": \"\\u30104:2\\u2020source\\u3011\",\r\n",
      "    \"start_index\": 513,\r\n",
      "    \"end_index\": 525,\r\n",
      "    \"file_citation\": {\r\n",
      "      \"file_id\": \"assistant-ApyhbGNmrcnrD5IpIxyAMnOr\",\r\n",
      "      \"file_name\": \"\",\r\n",
      "      \"quote\": null\r\n",
      "    }\r\n",
      "  },\r\n",
      "  {\r\n",
      "    \"type\": \"file_citation\",\r\n",
      "    \"text\": \"\\u30104:0\\u2020source\\u3011\",\r\n",
      "    \"start_index\": 786,\r\n",
      "    \"end_index\": 798,\r\n",
      "    \"file_citation\": {\r\n",
      "      \"file_id\": \"assistant-F4vYCqSsKEjIycGkV5R7ae3n\",\r\n",
      "      \"file_name\": \"\",\r\n",
      "      \"quote\": null\r\n",
      "    }\r\n",
      "  },\r\n",
      "  {\r\n",
      "    \"type\": \"file_citation\",\r\n",
      "    \"text\": \"\\u30104:0\\u2020source\\u3011\",\r\n",
      "    \"start_index\": 786,\r\n",
      "    \"end_index\": 798,\r\n",
      "    \"file_citation\": {\r\n",
      "      \"file_id\": \"assistant-ApyhbGNmrcnrD5IpIxyAMnOr\",\r\n",
      "      \"file_name\": \"\",\r\n",
      "      \"quote\": null\r\n",
      "    }\r\n",
      "  },\r\n",
      "  {\r\n",
      "    \"type\": \"file_citation\",\r\n",
      "    \"text\": \"\\u30104:1\\u2020source\\u3011\",\r\n",
      "    \"start_index\": 798,\r\n",
      "    \"end_index\": 810,\r\n",
      "    \"file_citation\": {\r\n",
      "      \"file_id\": \"assistant-F4vYCqSsKEjIycGkV5R7ae3n\",\r\n",
      "      \"file_name\": \"\",\r\n",
      "      \"quote\": null\r\n",
      "    }\r\n",
      "  },\r\n",
      "  {\r\n",
      "    \"type\": \"file_citation\",\r\n",
      "    \"text\": \"\\u30104:1\\u2020source\\u3011\",\r\n",
      "    \"start_index\": 798,\r\n",
      "    \"end_index\": 810,\r\n",
      "    \"file_citation\": {\r\n",
      "      \"file_id\": \"assistant-ApyhbGNmrcnrD5IpIxyAMnOr\",\r\n",
      "      \"file_name\": \"\",\r\n",
      "      \"quote\": null\r\n",
      "    }\r\n",
      "  },\r\n",
      "  {\r\n",
      "    \"type\": \"file_citation\",\r\n",
      "    \"text\": \"\\u30104:0\\u2020source\\u3011\",\r\n",
      "    \"start_index\": 1028,\r\n",
      "    \"end_index\": 1040,\r\n",
      "    \"file_citation\": {\r\n",
      "      \"file_id\": \"assistant-F4vYCqSsKEjIycGkV5R7ae3n\",\r\n",
      "      \"file_name\": \"\",\r\n",
      "      \"quote\": null\r\n",
      "    }\r\n",
      "  },\r\n",
      "  {\r\n",
      "    \"type\": \"file_citation\",\r\n",
      "    \"text\": \"\\u30104:0\\u2020source\\u3011\",\r\n",
      "    \"start_index\": 1028,\r\n",
      "    \"end_index\": 1040,\r\n",
      "    \"file_citation\": {\r\n",
      "      \"file_id\": \"assistant-ApyhbGNmrcnrD5IpIxyAMnOr\",\r\n",
      "      \"file_name\": \"\",\r\n",
      "      \"quote\": null\r\n",
      "    }\r\n",
      "  },\r\n",
      "  {\r\n",
      "    \"type\": \"file_citation\",\r\n",
      "    \"text\": \"\\u30104:1\\u2020source\\u3011\",\r\n",
      "    \"start_index\": 1040,\r\n",
      "    \"end_index\": 1052,\r\n",
      "    \"file_citation\": {\r\n",
      "      \"file_id\": \"assistant-F4vYCqSsKEjIycGkV5R7ae3n\",\r\n",
      "      \"file_name\": \"\",\r\n",
      "      \"quote\": null\r\n",
      "    }\r\n",
      "  },\r\n",
      "  {\r\n",
      "    \"type\": \"file_citation\",\r\n",
      "    \"text\": \"\\u30104:1\\u2020source\\u3011\",\r\n",
      "    \"start_index\": 1040,\r\n",
      "    \"end_index\": 1052,\r\n",
      "    \"file_citation\": {\r\n",
      "      \"file_id\": \"assistant-ApyhbGNmrcnrD5IpIxyAMnOr\",\r\n",
      "      \"file_name\": \"\",\r\n",
      "      \"quote\": null\r\n",
      "    }\r\n",
      "  },\r\n",
      "  {\r\n",
      "    \"type\": \"file_citation\",\r\n",
      "    \"text\": \"\\u30104:2\\u2020source\\u3011\",\r\n",
      "    \"start_index\": 1270,\r\n",
      "    \"end_index\": 1282,\r\n",
      "    \"file_citation\": {\r\n",
      "      \"file_id\": \"assistant-psRibNDvO3uqOTRYgqv9IW6v\",\r\n",
      "      \"file_name\": \"\",\r\n",
      "      \"quote\": null\r\n",
      "    }\r\n",
      "  },\r\n",
      "  {\r\n",
      "    \"type\": \"file_citation\",\r\n",
      "    \"text\": \"\\u30104:2\\u2020source\\u3011\",\r\n",
      "    \"start_index\": 1270,\r\n",
      "    \"end_index\": 1282,\r\n",
      "    \"file_citation\": {\r\n",
      "      \"file_id\": \"assistant-ApyhbGNmrcnrD5IpIxyAMnOr\",\r\n",
      "      \"file_name\": \"\",\r\n",
      "      \"quote\": null\r\n",
      "    }\r\n",
      "  },\r\n",
      "  {\r\n",
      "    \"type\": \"file_citation\",\r\n",
      "    \"text\": \"\\u30104:4\\u2020source\\u3011\",\r\n",
      "    \"start_index\": 1496,\r\n",
      "    \"end_index\": 1508,\r\n",
      "    \"file_citation\": {\r\n",
      "      \"file_id\": \"assistant-ApyhbGNmrcnrD5IpIxyAMnOr\",\r\n",
      "      \"file_name\": \"\",\r\n",
      "      \"quote\": null\r\n",
      "    }\r\n",
      "  },\r\n",
      "  {\r\n",
      "    \"type\": \"file_citation\",\r\n",
      "    \"text\": \"\\u30104:4\\u2020source\\u3011\",\r\n",
      "    \"start_index\": 1496,\r\n",
      "    \"end_index\": 1508,\r\n",
      "    \"file_citation\": {\r\n",
      "      \"file_id\": \"assistant-ApyhbGNmrcnrD5IpIxyAMnOr\",\r\n",
      "      \"file_name\": \"\",\r\n",
      "      \"quote\": null\r\n",
      "    }\r\n",
      "  },\r\n",
      "  {\r\n",
      "    \"type\": \"file_citation\",\r\n",
      "    \"text\": \"\\u30104:14\\u2020source\\u3011\",\r\n",
      "    \"start_index\": 1508,\r\n",
      "    \"end_index\": 1521,\r\n",
      "    \"file_citation\": {\r\n",
      "      \"file_id\": \"assistant-rMFVLDOfcoPyG4X3uKck4wFJ\",\r\n",
      "      \"file_name\": \"\",\r\n",
      "      \"quote\": null\r\n",
      "    }\r\n",
      "  },\r\n",
      "  {\r\n",
      "    \"type\": \"file_citation\",\r\n",
      "    \"text\": \"\\u30104:14\\u2020source\\u3011\",\r\n",
      "    \"start_index\": 1508,\r\n",
      "    \"end_index\": 1521,\r\n",
      "    \"file_citation\": {\r\n",
      "      \"file_id\": \"assistant-ApyhbGNmrcnrD5IpIxyAMnOr\",\r\n",
      "      \"file_name\": \"\",\r\n",
      "      \"quote\": null\r\n",
      "    }\r\n",
      "  }\r\n",
      "]\r\n"
     ]
    }
   ],
   "source": [
    "Console.WriteLine(JsonSerializer.Serialize(output.Annotations, new JsonSerializerOptions() { WriteIndented = true }));"
   ]
  },
  {
   "cell_type": "markdown",
   "metadata": {},
   "source": [
    "### Formatting Output\n",
    "The current version of the API leaves some things to be desired. First, because of chunking it can cite the same source twice. Second, 'quote' is supposed to contain a snippet, but currently, it is always null"
   ]
  },
  {
   "cell_type": "code",
   "execution_count": 26,
   "metadata": {
    "dotnet_interactive": {
     "language": "csharp"
    },
    "polyglot_notebook": {
     "kernelName": "csharp"
    },
    "vscode": {
     "languageId": "polyglot-notebook"
    }
   },
   "outputs": [
    {
     "name": "stdout",
     "output_type": "stream",
     "text": [
      "assistant-mXASPcBcveVF7Zx7CtP2qyEP = State_DOE_AI_Guides_Mississippi_AI_guidance.pdf\n",
      "assistant-ZY6Uf5tkIBXrf3ilRZ0Q5kHg = State_DOE_AI_Guides_Kentucky_AI_guidance.pdf\n",
      "assistant-rMFVLDOfcoPyG4X3uKck4wFJ = State_DOE_AI_Guides_Louisiana_AI_guidance.pdf\n",
      "assistant-F4vYCqSsKEjIycGkV5R7ae3n = State_DOE_AI_Guides_North_Carolina_AI_guidance.pdf\n",
      "assistant-psRibNDvO3uqOTRYgqv9IW6v = State_DOE_AI_Guides_Washington_AI_guidance.pdf\n",
      "-------------------\n"
     ]
    },
    {
     "data": {
      "text/markdown": [
       "The state Department of Education guidelines mention several specific AI detection tools and vendors. Here are the products and what the guidelines say about each:\n",
       "\n",
       "1. **AI Content Detector**\n",
       "   - Described as an AI classifier that evaluates text to determine if it is AI-generated. It is noted that these tools do not accurately detect AI-generated material, especially material containing only a few hundred words. Additionally, they can falsely identify the writings of English Language students as generated material simply because their writing skills are still developing [State_DOE_AI_Guides_Mississippi_AI_guidance.pdf](State_DOE_AI_Guides_Mississippi_AI_guidance.pdf).\n",
       "\n",
       "2. **GPTZero**\n",
       "   - Similar to AI Content Detector, GPTZero is mentioned as an AI classifier used to evaluate whether text is AI-generated. The guidelines caution that these tools are not very accurate in detecting AI-generated content and have similar issues with false positives [State_DOE_AI_Guides_Mississippi_AI_guidance.pdf](State_DOE_AI_Guides_Mississippi_AI_guidance.pdf).\n",
       "\n",
       "3. **Turnitin**\n",
       "   - Known primarily as a plagiarism checker, Turnitin now features AI classifier detection. It scans for exact or close matches of keywords, phrases, and sentences to identify potential plagiarism, and it has been updated to include AI detection capabilities [State_DOE_AI_Guides_Mississippi_AI_guidance.pdf](State_DOE_AI_Guides_Mississippi_AI_guidance.pdf) [State_DOE_AI_Guides_Louisiana_AI_guidance.pdf](State_DOE_AI_Guides_Louisiana_AI_guidance.pdf).\n",
       "\n",
       "4. **Google’s Originality Reports**\n",
       "   - Another plagiarism checker mentioned for its utility in reviewing text for plagiarism by scanning for exact or close matches of keywords, phrases, and sentences. It is useful for detecting unoriginal content, but there is no specific mention of its AI detection capabilities [State_DOE_AI_Guides_Mississippi_AI_guidance.pdf](State_DOE_AI_Guides_Mississippi_AI_guidance.pdf).\n",
       "\n",
       "These tools are recommended with caution, as the guidelines emphasize that AI detectors are not completely reliable and should not be used as the sole factor in determining if a student has used AI-generated content [State_DOE_AI_Guides_North_Carolina_AI_guidance.pdf](State_DOE_AI_Guides_North_Carolina_AI_guidance.pdf) [State_DOE_AI_Guides_Washington_AI_guidance.pdf](State_DOE_AI_Guides_Washington_AI_guidance.pdf) [State_DOE_AI_Guides_Louisiana_AI_guidance.pdf](State_DOE_AI_Guides_Louisiana_AI_guidance.pdf)."
      ]
     },
     "metadata": {},
     "output_type": "display_data"
    }
   ],
   "source": [
    "var files = new Dictionary<string, string>();\n",
    "var annotatedMessage = output.LastMessage;\n",
    "foreach(var annotation in output.Annotations)\n",
    "{\n",
    "    // Only get the file name once per id\n",
    "    if(!files.ContainsKey(annotation.FileCitation.FileId))\n",
    "    {\n",
    "        files[annotation.FileCitation.FileId] = await annotation.GetFileName(config);\n",
    "    }\n",
    "    // But the annotation itself may be a duplicate citation to the same file, so one must process them all\n",
    "    // You can format the replacement however you like. In this case it just makes an md link\n",
    "    annotatedMessage = annotatedMessage.Replace(annotation.Text, $\" [{files[annotation.FileCitation.FileId]}]({files[annotation.FileCitation.FileId]})\");\n",
    "}\n",
    "\n",
    "foreach(var file in files)\n",
    "{\n",
    "    Console.WriteLine($\"{file.Key} = {file.Value}\");\n",
    "}\n",
    "Console.WriteLine(\"-------------------\");\n",
    "annotatedMessage.DisplayAs(\"text/markdown\");"
   ]
  },
  {
   "cell_type": "markdown",
   "metadata": {},
   "source": [
    "## Clean Up"
   ]
  },
  {
   "cell_type": "code",
   "execution_count": 7,
   "metadata": {
    "dotnet_interactive": {
     "language": "csharp"
    },
    "polyglot_notebook": {
     "kernelName": "csharp"
    },
    "vscode": {
     "languageId": "polyglot-notebook"
    }
   },
   "outputs": [
    {
     "name": "stdout",
     "output_type": "stream",
     "text": [
      "Deleted assistant\r\n"
     ]
    }
   ],
   "source": [
    "var assistant = (await client.AssistantList())?.Data?.FirstOrDefault(o => o.Name == \"McKessonMDTranscripts\");\n",
    "if(assistant != null) {\n",
    "    await client.AssistantDelete(assistant.Id);\n",
    "    Console.WriteLine(\"Deleted assistant\");\n",
    "}\n",
    "else\n",
    "{\n",
    "    Console.WriteLine(\"Didn't find MsGraphUserProfile\");\n",
    "}"
   ]
  }
 ],
 "metadata": {
  "kernelspec": {
   "display_name": ".NET (C#)",
   "language": "C#",
   "name": ".net-csharp"
  },
  "language_info": {
   "name": "python"
  },
  "polyglot_notebook": {
   "kernelInfo": {
    "defaultKernelName": "csharp",
    "items": [
     {
      "aliases": [],
      "name": "csharp"
     }
    ]
   }
  }
 },
 "nbformat": 4,
 "nbformat_minor": 2
}
