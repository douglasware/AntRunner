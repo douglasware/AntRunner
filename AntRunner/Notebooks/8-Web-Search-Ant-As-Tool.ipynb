{
 "cells": [
  {
   "cell_type": "markdown",
   "metadata": {},
   "source": [
    "# This notebook requires a deployment named \"gpt-4o\", edit as needed\n",
    "\n",
    "## Web Search Ant As Tool\n",
    "\n",
    "This example demonstrates one ant using another ant as a tool so that the second ant's work is outside the main thread.\n",
    "\n",
    "The **WebSearchAgentAnt** demonstrates the use of a Web API secured using an API key with an auth header. \n",
    "This sample requires you to create a Web Search (bing) resource in Azure and enter its corresponding API key in [0-AI-settings](0-AI-settings.ipynb)\n",
    "\n",
    "WebSearchAgentAnt uses **WebPageAgentAnt** via a tool call to evaluate search results using the search results link.\n",
    "\n",
    "This demo uses a lot of tokens. \n",
    "\n",
    "**If your quota is low, you will get throttled**"
   ]
  },
  {
   "cell_type": "markdown",
   "metadata": {},
   "source": [
    "## First steps\n",
    "- First, download AntRunLib from Nuget\n",
    "- At least once, set up the environment using **[0-AI-settings](0-AI-settings.ipynb)**"
   ]
  },
  {
   "cell_type": "code",
   "execution_count": 8,
   "metadata": {
    "dotnet_interactive": {
     "language": "csharp"
    },
    "polyglot_notebook": {
     "kernelName": "csharp"
    },
    "vscode": {
     "languageId": "polyglot-notebook"
    }
   },
   "outputs": [
    {
     "data": {
      "text/html": [
       "<div><div></div><div></div><div><strong>Installed Packages</strong><ul><li><span>AntRunnerLib, 0.9.5</span></li></ul></div></div>"
      ]
     },
     "metadata": {},
     "output_type": "display_data"
    }
   ],
   "source": [
    "#r \"nuget: AntRunnerLib, 0.9.5\"\n",
    "\n",
    "using AntRunnerLib;\n",
    "using AntRunnerLib.Identity;\n",
    "using static AntRunnerLib.ClientUtility;\n",
    "using System.IO;\n",
    "\n",
    "#!import config/Settings.cs \n",
    "\n",
    "var envVariables = Settings.GetEnvironmentVariables();\n",
    "foreach (var kvp in envVariables)\n",
    "{\n",
    "    Environment.SetEnvironmentVariable(kvp.Key, kvp.Value);\n",
    "}\n",
    "\n",
    "Environment.SetEnvironmentVariable(\"AZURE_OPENAI_DEPLOYMENT\", \"gpt-4o\");\n",
    "\n",
    "var config = AzureOpenAiConfigFactory.Get();\n",
    "var client = GetOpenAiClient(config);\n"
   ]
  },
  {
   "cell_type": "code",
   "execution_count": 9,
   "metadata": {
    "dotnet_interactive": {
     "language": "csharp"
    },
    "polyglot_notebook": {
     "kernelName": "csharp"
    },
    "vscode": {
     "languageId": "polyglot-notebook"
    }
   },
   "outputs": [
    {
     "name": "stdout",
     "output_type": "stream",
     "text": [
      "asst_sSBoe59wKA6kvWoL0J3rMbhR\n",
      "asst_0Tg6FtE3GK3kgTTTYTYYwoYt\n"
     ]
    }
   ],
   "source": [
    "var assistantId = await AssistantUtility.Create(\"WebSearchAgentAnt\", config);\n",
    "Console.WriteLine(assistantId);\n",
    "assistantId = await AssistantUtility.Create(\"WebPageAgentAnt\", config);\n",
    "Console.WriteLine(assistantId);"
   ]
  },
  {
   "cell_type": "code",
   "execution_count": 10,
   "metadata": {
    "dotnet_interactive": {
     "language": "csharp"
    },
    "polyglot_notebook": {
     "kernelName": "csharp"
    },
    "vscode": {
     "languageId": "polyglot-notebook"
    }
   },
   "outputs": [],
   "source": [
    "AntLoader.LoadAssembly(@\".\\AssistantDefinitions\\WebPageAgentAnt\\HtmlAgilityPack.dll\");\n",
    "AntLoader.LoadAssembly(@\".\\AssistantDefinitions\\WebPageAgentAnt\\HtmlAgilityPackExtensions.dll\");"
   ]
  },
  {
   "cell_type": "markdown",
   "metadata": {},
   "source": [
    "## Run the Assistant\n",
    "\n",
    "`output.Dialog` shows the conversation."
   ]
  },
  {
   "cell_type": "code",
   "execution_count": 11,
   "metadata": {
    "dotnet_interactive": {
     "language": "csharp"
    },
    "polyglot_notebook": {
     "kernelName": "csharp"
    },
    "vscode": {
     "languageId": "polyglot-notebook"
    }
   },
   "outputs": [
    {
     "data": {
      "text/markdown": [
       "\n",
       "User: Use python to get todays date and then use it to find things to do in Atlanta today. Be careful to not include events in the past in your final answer.\n",
       "\n",
       "Assistant: I ran this code:\n",
       "```\n",
       "from datetime import datetime\n",
       "\n",
       "# Get today's date\n",
       "today_date = datetime.now().date()\n",
       "today_date\n",
       "```\n",
       "\n",
       "I called the tool named crawl with these arguments:\n",
       "```\n",
       "{\"q\":\"Things to do in Atlanta December 31 2024\",\"textFormat\":\"Raw\"}\n",
       "```\n",
       "and got this result:\n",
       "```\n",
       "{\"queryContext\":{\"originalQuery\":\"Things to do in Atlanta December 31 2024\"},\"webPages\":{\"value\":[{\"name\":\"Atlanta Events in December 2024 - Schedule \\u0026 Tickets\",\"url\":\"https://atlanta-ga.events/december/\",\"displayUrl\":\"https://atlanta-ga.events/december\",\"snippet\":\"Check Out The Atlanta Events Calendar for December 2024: Current \\u0026 Upcoming Events \\u002B Best \\u0026 Fun Thing To Do in the City. ... Dec 31, 2024 3:30 AM . Georgia Tech Yellow Jackets Basketball . Events: 3. McCamish Pavilion . Dec 31, 2024 2:30 PM ...\"},{\"name\":\"11 Atlanta holiday events happening this weekend | 11alive.com\",\"url\":\"https://www.11alive.com/article/entertainment/events/11-things-to-do-in-atlanta-dec-26-31/85-46d65687-9cd6-4513-9fcb-5e2012452a26\",\"displayUrl\":\"https://www.11alive.com/article/entertainment/events/11-things-to-do-in-atlanta-dec-26...\",\"snippet\":\"Updated: 7:20 AM EST December 26, 2024 ATLANTA \\u2014 The holiday season is in full swing, and Atlanta is buzzing with exciting events to enjoy this weekend! ... Date and Location: Dec. 25\\u201331; 10 a ...\",\"thumbnailUrl\":\"https://www.bing.com/th?id=OIF.DuWLyAoWt9tU6lqzr3sKvA\\u0026w=80\\u0026h=80\\u0026c=1\\u0026pid=5.1\"},{\"name\":\"Atlanta Events - December 2024 - Go South Atlanta\",\"url\":\"https://gosouthatlanta.com/things-to-do/events/atlanta-in-december.html\",\"displayUrl\":\"https://gosouthatlanta.com/things-to-do/events/atlanta-in-december.html\",\"snippet\":\"Things to do in Atlanta, GA in December, including upcoming festivals, Christmas events and other holiday celebrations, lights shows, holiday markets, comedy, musicals, ballet, tours of homes, and more. ... December 31 2024 New Year\\u2019s eve event at the Georgia Aquarium, with DJ and dancing, food, and after-hours access to the aquatic exhibits.\",\"thumbnailUrl\":\"https://www.bing.com/th?id=OIP.xm-3dn3hYJZHsVVU9WO5qwHaD4\\u0026w=80\\u0026h=80\\u0026c=1\\u0026pid=5.1\"},{\"name\":\"Events \\u0026 Things To Do in Atlanta in December 2024 - AllEvents.in\",\"url\":\"https://allevents.in/atlanta/december\",\"displayUrl\":\"https://allevents.in/atlanta/december\",\"snippet\":\"Find events and things to do in december 2024 in Atlanta. Discover parties, concerts, meets,shows, sports, club, reunion, Performance happening in 2024 in Atlanta. Open Menu. Atlanta Change City; ... Tue, 31 Dec Trending events in december in Atlanta. Atlanta Symphony Orchestra: New Year\\u0027s Eve\"},{\"name\":\"Events \\u0026 Things to Do for Christmas in Atlanta - Discover Atlanta\",\"url\":\"https://discoveratlanta.com/events/seasonal/christmas/\",\"displayUrl\":\"https://discoveratlanta.com/events/seasonal/christmas\",\"snippet\":\"The possibilities are endless with so many things to do in Atlanta at Christmas! ... Atlanta Ballet\\u2019s The Nutcracker returns this December at Cobb Energy Centre with a larger-than-life production of a winter wonderland and dream-like world of ... 12/31/24. Candlelight Concerts 2024. Pets. 12/30/24 \\u2013 1/1/25. Adopt Any Senior Pet for FREE in ...\",\"thumbnailUrl\":\"https://www.bing.com/th?id=OIP.t6GjYUDzSex1Myxpnsk1ngHaE6\\u0026w=80\\u0026h=80\\u0026c=1\\u0026pid=5.1\"},{\"name\":\"December 31 events in Atlanta, GA - Eventbrite\",\"url\":\"https://www.eventbrite.com/d/ga--atlanta/december-31/\",\"displayUrl\":\"https://www.eventbrite.com/d/ga--atlanta/december-31\",\"snippet\":\"HUGEL NEW YEARS EVE | Make The Girls Dance 2024 | District Atlanta. Tue, Dec 31, 10:00 PM. District Atlanta. Save this event: HUGEL NEW YEARS EVE ... TUESDAY DECEMBER 31 2024 Save this event: NYE at EMBR LOUNGE| 8PM-3AM| TUESDAY DECEMBER 31 2024. THE LEMON DROP - NEW YEARS EVE 2K24. Tue, Dec 31, 9:00 PM. Westside Cultural Arts Center.\"},{\"name\":\"Explore Atlanta Events for Today, This Week or Weekend\",\"url\":\"https://discoveratlanta.com/events/main/\",\"displayUrl\":\"https://discoveratlanta.com/events\",\"snippet\":\"Explore the Atlanta events calendar for things to do today, this week or this weekend. Find upcoming festivals, seasonal events and more! ... New Year\\u2019s Eve Celebration at Red Phone Booth 2024 12/31/24. New Year\\u2019s Eve Dinner at Signia by Hilton Atlanta 12/31/24 \\u2013 1/1/25 ... December 31. Tuesday. Atlanta\\u2019s New Year\\u2019s Eve Peach Drop ...\",\"thumbnailUrl\":\"https://www.bing.com/th?id=OIP.FkxSV6JbrWatsFMM3_8dIAHaEh\\u0026w=80\\u0026h=80\\u0026c=1\\u0026pid=5.1\"},{\"name\":\"Atlanta Events Calendar 2024/2025 | Atlanta, GA\",\"url\":\"https://atlanta-ga.events/\",\"displayUrl\":\"https://atlanta-ga.events\",\"snippet\":\"This calendar is your ultimate guide to the best things to do in Atlanta, GA: ... Dec 31, 2024 3:30 AM . Notre Dame Fighting Irish . Events: 3. McCamish Pavilion . Dec 31, 2024 2:30 PM . Georgia Tech Yellow Jackets Basketball ...\",\"thumbnailUrl\":\"https://www.bing.com/th?id=OIP.ytkv04WKv8RTyYo4_DsP4gHaHa\\u0026w=80\\u0026h=80\\u0026c=1\\u0026pid=5.1\"},{\"name\":\"20 free things to do in metro Atlanta in December\",\"url\":\"https://www.accessatlanta.com/atlanta-things-to-do/20-free-things-to-do-in-metro-atlanta-in-december/RUFTV7LQ2JEGZGUNGNR6FHEARM/\",\"displayUrl\":\"https://www.accessatlanta.com/atlanta-things-to-do/20-free-things-to-do-in-metro...\",\"snippet\":\"Here are 20 of the best things to do in Atlanta in December that are totally free. ... and nightly display until Tuesday, Dec. 31; Time: 4 - 8 ... 14, 21, 23, 27, 29 and 31) Holiday Spirit 2024 ...\"},{\"name\":\"Cool Things To Do in December in Atlanta\",\"url\":\"https://discoveratlanta.com/stories/things-to-do/cool-things-to-do-in-december-in-atlanta/\",\"displayUrl\":\"https://discoveratlanta.com/stories/things-to-do/cool-things-to-do-in-december-in-atlanta\",\"snippet\":\"Cool Things To Do in December in Atlanta. By Mary Welch. Published November 14, 2023 Last Updated December 2, 2024. December is a great time to be in Atlanta. The list of cool things to do seems endless. There\\u2019s unparalleled shopping, great themed entertainment, holiday light displays galore and wonderful restaurants where you can enjoy a ...\",\"thumbnailUrl\":\"https://www.bing.com/th?id=OIP.B7WMsn5icdXhjRnlj2WcZAHaHa\\u0026w=80\\u0026h=80\\u0026c=1\\u0026pid=5.1\"}]},\"images\":{\"value\":[{\"thumbnailUrl\":\"https://tse1.mm.bing.net/th?id=OIP.CojYu04QYSSGDO2B82B1tQHaEK\\u0026pid=Api\",\"contentUrl\":\"https://res.cloudinary.com/hello-tickets/image/upload/c_limit,f_auto,q_auto,w_1300/v1677975316/bpxlxi6wlpthpi0izg24.jpg\",\"hostPageUrl\":\"https://www.hellotickets.com/us/atlanta/atlanta-in-december/sc-24-3999\"},{\"thumbnailUrl\":\"https://tse1.mm.bing.net/th?id=OIP.F6U8q9KSeXCgcH-adY4MhgHaME\\u0026pid=Api\",\"contentUrl\":\"https://www.frostandsun.com/wp-content/uploads/2017/11/things-to-do-in-atlanta-pin-me-1.jpg\",\"hostPageUrl\":\"https://www.frostandsun.com/things-to-do-in-atlanta/\"},{\"thumbnailUrl\":\"https://tse1.mm.bing.net/th?id=OIP.HwzfdFE6-tSHfhoFlTxXKQHaHa\\u0026pid=Api\",\"contentUrl\":\"https://unexpectedatlanta.com/wp-content/uploads/2022/12/Best-Things-to-Do-in-Atlanta-in-2023.png\",\"hostPageUrl\":\"https://unexpectedatlanta.com/best-things-to-do-in-atlanta/\"},{\"thumbnailUrl\":\"https://tse1.mm.bing.net/th?id=OIP.W-gOzzcskaYfPXC3whhXOgHaLH\\u0026pid=Api\",\"contentUrl\":\"https://www.busytourist.com/wp-content/uploads/2020/07/best-things-to-do-in-Atlanta-GA-1.jpg\",\"hostPageUrl\":\"https://www.busytourist.com/things-to-do-in-atlanta-ga/\"},{\"thumbnailUrl\":\"https://tse1.mm.bing.net/th?id=OIP.72u4XATE38bb2buema6t1wAAAA\\u0026pid=Api\",\"contentUrl\":\"https://unexpectedatlanta.com/wp-content/uploads/2023/11/The-Best-Things-to-Do-in-Atlanta-in-December.png\",\"hostPageUrl\":\"https://unexpectedatlanta.com/the-best-things-to-do-in-atlanta-in-december/\"},{\"thumbnailUrl\":\"https://tse1.mm.bing.net/th?id=OIP.5jERbhhnl8LiECUQySoRYAHaG1\\u0026pid=Api\",\"contentUrl\":\"https://uphomes.com/storage/blogposts/February2023/medium/RKuDJcqErH176HD3LyWV.png\",\"hostPageUrl\":\"https://uphomes.com/blog/things-to-do-atlanta-ga/\"},{\"thumbnailUrl\":\"https://tse1.mm.bing.net/th?id=OIP.vjZ_V7Yjzfqyphfsj_SBjgHaEK\\u0026pid=Api\",\"contentUrl\":\"https://daytripqueen.com/wp-content/uploads/2021/07/Free-things-to-do-in-Atlanta.jpg\",\"hostPageUrl\":\"https://daytripqueen.com/free-things-to-do-in-atlanta/\"},{\"thumbnailUrl\":\"https://tse1.mm.bing.net/th?id=OIP.OD8mHt8EuAz_-Rm6pRiOFwHaEK\\u0026pid=Api\",\"contentUrl\":\"https://i.ytimg.com/vi/2ufhW2kEYro/maxresdefault.jpg\",\"hostPageUrl\":\"https://www.youtube.com/watch?v=2ufhW2kEYro\"},{\"thumbnailUrl\":\"https://tse1.mm.bing.net/th?id=OIP.B9dwp_jKTmtE_Fruodr10QHaE8\\u0026pid=Api\",\"contentUrl\":\"https://www.treksplorer.com/wp-content/uploads/things-to-do-in-atlanta.jpg\",\"hostPageUrl\":\"https://www.treksplorer.com/things-to-do-in-atlanta-ga-usa/\"},{\"thumbnailUrl\":\"https://tse1.mm.bing.net/th?id=OIP.SeKsuJEAl7i4y99RBVdFjAHaE7\\u0026pid=Api\",\"contentUrl\":\"https://tds.indianeagle.com/wp-content/uploads/2023/11/Things-To-Do-in-Atlanta-1.png\",\"hostPageUrl\":\"https://www.thecommongroundnetwork.com/blog/international-travel/discover-best-things-to-do-in-atlanta/\"},{\"thumbnailUrl\":\"https://tse1.mm.bing.net/th?id=OIP.Agse3pS4C61ss3RxvVgySwHaEK\\u0026pid=Api\",\"contentUrl\":\"https://wirksmoving.com/wp-content/uploads/2020/04/Things-to-do-in-Atlanta-with-Kids-1536x864.png\",\"hostPageUrl\":\"https://wirksmoving.com/blog/things-to-do-in-atlanta-ga-with-kids/\"},{\"thumbnailUrl\":\"https://tse1.mm.bing.net/th?id=OIP.BawFpewdQrecAtgiS9AiOAHaHa\\u0026pid=Api\",\"contentUrl\":\"https://unexpectedatlanta.com/wp-content/uploads/2023/04/The-Best-Things-to-Do-in-Midtown-Atlanta-500x500.png\",\"hostPageUrl\":\"https://unexpectedatlanta.com/best-things-to-do-midtown-atlanta/\"},{\"thumbnailUrl\":\"https://tse1.mm.bing.net/th?id=OIP.8B9LmuRXqgsRTEY6n_RNlAHaHa\\u0026pid=Api\",\"contentUrl\":\"https://unexpectedatlanta.com/wp-content/uploads/2023/06/The-Best-Things-to-Do-in-Atlanta.png\",\"hostPageUrl\":\"https://unexpectedatlanta.com/atlanta-event-calendar/\"},{\"thumbnailUrl\":\"https://tse1.mm.bing.net/th?id=OIP.SEMK2FArnC1F1qLMYZxj6QHaEK\\u0026pid=Api\",\"contentUrl\":\"https://foodtoursatlanta.com/wp-content/uploads/2021/09/Blue-Engagement-Essentials-Blog-Banner.png\",\"hostPageUrl\":\"https://foodtoursatlanta.com/33-things-to-do-in-atlanta/\"},{\"thumbnailUrl\":\"https://tse1.mm.bing.net/th?id=OIP.7vsud1UMneBH2BkyKwxgGAHaLH\\u0026pid=Api\",\"contentUrl\":\"https://i.pinimg.com/originals/bd/19/ac/bd19ac4f04fcf04072fb08ff4d51cf3b.jpg\",\"hostPageUrl\":\"https://www.pinterest.com/pin/187743878201539852/\"},{\"thumbnailUrl\":\"https://tse1.mm.bing.net/th?id=OIP.aF10fbUbdHja5bTsxch_1QHaN4\\u0026pid=Api\",\"contentUrl\":\"https://i.pinimg.com/736x/6c/e7/59/6ce759c43000bd8b05df3d8e75358575.jpg\",\"hostPageUrl\":\"https://www.pinterest.com/pin/discover-atlanta--74520568818229228/\"},{\"thumbnailUrl\":\"https://tse1.mm.bing.net/th?id=OIP.rZdeOHyG9r0o75WCJ7tkzAHaE8\\u0026pid=Api\",\"contentUrl\":\"https://zumpermedia.s3.amazonaws.com/blog/wp-content/uploads/2019/10/29105833/66002668_10157148172100795_8332487934380867584_o-1024x683.jpg\",\"hostPageUrl\":\"https://www.zumper.com/blog/fun-family-activities-atlanta-parents-in-town/\"},{\"thumbnailUrl\":\"https://tse1.mm.bing.net/th?id=OIP.zsUlule-ACLeXXDRofPdiAAAAA\\u0026pid=Api\",\"contentUrl\":\"https://www.busytourist.com/wp-content/uploads/2020/07/things-to-do-in-Atlanta-2.jpg\",\"hostPageUrl\":\"https://www.busytourist.com/things-to-do-in-atlanta-ga/\"},{\"thumbnailUrl\":\"https://tse1.mm.bing.net/th?id=OIP.4SmjXMfeQzC5ARWsf4T0hAHaLG\\u0026pid=Api\",\"contentUrl\":\"https://www.onedayinacity.com/wp-content/uploads/2020/03/Ultimate-Guide-Atlanta-One-Day-683x1024.png\",\"hostPageUrl\":\"https://www.onedayinacity.com/one-day-in-atlanta-georgia/\"},{\"thumbnailUrl\":\"https://tse1.mm.bing.net/th?id=OIP.H24avZSeUDqe-Oc4AbvN-gHaLH\\u0026pid=Api\",\"contentUrl\":\"https://familydestinationsguide.com/wp-content/uploads/2020/11/Best-Things-to-Do-in-Atlanta-pinterest.jpg\",\"hostPageUrl\":\"https://familydestinationsguide.com/best-things-to-do-in-atlanta/\"}]}}\n",
       "```\n",
       "\n",
       "I called the tool named ExtractContentFromUrl with these arguments:\n",
       "```\n",
       "{\"assistantName\": \"WebPageAgentAnt\", \"instructions\": \"What events are happening in Atlanta on December 31, 2024? https://atlanta-ga.events/december/\"}\n",
       "```\n",
       "and got this result:\n",
       "```\n",
       "\"Here are some events happening in Atlanta on December 31, 2024:\\n\\n1. **Georgia Tech Yellow Jackets vs. Notre Dame Fighting Irish**\\n   - **Time:** 2:30 PM\\n   - **Location:** McCamish Pavilion, 965 Fowler St., Atlanta, GA\\n   - **Prices:** From $18, Avg. price ~ $62\\n   - **[Get Tickets](https://atlanta-ga.events/event/georgia-tech-yellow-jackets-vs-notre-dame-fighting-irish-atlanta-tuesday-december-31-2024-230-pm/)**\\n\\n   ![Georgia Tech Yellow Jackets Basketball](https://atlanta-ga.events/wp-content/uploads/2023/08/Georgia-Tech-Yellow-Jackets-Basketball.jpg)\\n\\n2. **Provenance NYE: Seven Lions, Knife Party \\u0026 Grabbitz**\\n   - **Time:** 7:00 PM\\n   - **Location:** Atlanta Coliseum, 2075 Market St, Duluth, GA\\n   - **Prices:** From $114, Avg. price ~ $132\\n   - **[Get Tickets](https://atlanta-ga.events/event/provenance-nye-seven-lions-knife-party-and-grabbitz-duluth-tuesday-december-31-2024-700-pm/)**\\n\\n   ![Provenance NYE: Seven Lions, Knife Party \\u0026 Grabbitz](https://atlanta-ga.events/wp-content/uploads/2023/03/Seven-Lions.jpg)\\n\\n3. **Zac Brown Band**\\n   - **Time:** 8:00 PM\\n   - **Location:** State Farm Arena, One Philips Drive, Atlanta, GA\\n   - **Prices:** From $73, Avg. price ~ $237\\n   - **[Get Tickets](https://atlanta-ga.events/event/zac-brown-band-atlanta-tuesday-december-31-2024-800-pm/)**\\n\\n   ![Zac Brown Band](https://atlanta-ga.events/wp-content/uploads/2024/02/zac-brown-band.jpg)\\n\\n4. **Moon Taxi**\\n   - **Time:** 8:00 PM\\n   - **Location:** The Tabernacle, 152 Luckie St, Atlanta, GA\\n   - **Prices:** From $65, Avg. price ~ $127\\n   - **[Get Tickets](https://atlanta-ga.events/event/moon-taxi-atlanta-tuesday-december-31-2024-800-pm/)**\\n\\n   ![Moon Taxi](https://atlanta-ga.events/wp-content/uploads/2024/09/moon-taxi-concert-tickets.jpeg)\\n\\n5. **Juelz - Artist**\\n   - **Time:** 9:00 PM\\n   - **Location:** Believe Music Hall, 181 Ralph David Abernathy Blvd, Atlanta, GA\\n   - **Prices:** From $69, Avg. price ~ $79\\n   - **[Get Tickets](https://atlanta-ga.events/event/juelz-artist-atlanta-tuesday-december-31-2024-900-pm/)**\\n\\n6. **Gimme Gimme Disco**\\n   - **Time:** 9:00 PM\\n   - **Location:** Hell at The Masquerade, 75 MLK Jr Dr SW, Atlanta, GA\\n   - **Prices:** From $49, Avg. price ~ $63\\n   - **[Get Tickets](https://atlanta-ga.events/event/gimme-gimme-disco-atlanta-tuesday-december-31-2024-900-pm/)**\\n\\n   ![Gimme Gimme Disco](https://atlanta-ga.events/wp-content/uploads/2023/03/Gimme-Gimme-Disco.jpg)\\n\\n7. **The Players Ball NYE Experience: Thrice Groove**\\n   - **Time:** 9:00 PM\\n   - **Location:** Buckhead Theatre, 3110 Roswell Road, Atlanta, GA\\n   - **Prices:** From $44, Avg. price ~ $51\\n   - **[Get Tickets](https://atlanta-ga.events/event/the-players-ball-nye-experience-thrice-groove-atlanta-tuesday-december-31-2024-900-pm/)**\\n\\n8. **Big Freedia**\\n   - **Time:** 9:30 PM\\n   - **Location:** City Winery, 675 Ponce De Leon Ave, Atlanta, GA\\n   - **Prices:** From $224, Avg. price ~ $258\\n   - **[Get Tickets](https://atlanta-ga.events/event/big-freedia-atlanta-tuesday-december-31-2024-930-pm/)**\\n\\n   ![Big Freedia](https://atlanta-ga.events/wp-content/uploads/2023/03/Big-Freedia.jpg)\\n\\n9. **Daily Bread**\\n   - **Time:** 9:30 PM\\n   - **Location:** The Eastern, 800 Old Flat Shoals Road SE, Atlanta, GA\\n   - **Prices:** From $111, Avg. price ~ $158\\n   - **[Get Tickets](https://atlanta-ga.events/event/daily-bread-atlanta-tuesday-december-31-2024-930-pm/)**\\n\\n   ![Daily Bread](https://atlanta-ga.events/wp-content/uploads/2023/09/Daily-Bread.jpg)\\n\\n10. **Hugel - Artist**\\n    - **Time:** 10:00 PM\\n    - **Location:** District Atlanta, 269 Armour Dr NE, Atlanta, GA\\n    - **Prices:** From $122, Avg. price ~ $189\\n    - **[Get Tickets](https://atlanta-ga.events/event/hugel-artist-atlanta-tuesday-december-31-2024-1000-pm/)**\\n\\nThese are just a few of the events happening in Atlanta on New Year\\u0027s Eve. Make sure to check availability and book tickets in advance!\"\n",
       "```\n",
       "\n",
       "I called the tool named ExtractContentFromUrl with these arguments:\n",
       "```\n",
       "{\"assistantName\": \"WebPageAgentAnt\", \"instructions\": \"What events are happening in Atlanta on December 31, 2024? https://www.11alive.com/article/entertainment/events/11-things-to-do-in-atlanta-dec-26-31/85-46d65687-9cd6-4513-9fcb-5e2012452a26\"}\n",
       "```\n",
       "and got this result:\n",
       "```\n",
       "\"Here\\u0027s a list of events happening in Atlanta on December 31, 2024:\\n\\n1. **Stone Mountain Christmas**\\n   - Location: Stone Mountain Park, 1000 Robert E. Lee Drive, Stone Mountain, GA 30083\\n   - Description: Dive into the holiday spirit with festive music, dazzling lights, and memorable shows. Enjoy park attractions like Summit Skyride and the Scenic Railroad.\\n   - [Event Details](https://stonemountainpark.com/activity/events/stone-mountain-christmas/)\\n\\n2. **Garden Lights, Holiday Nights**\\n   - Location: Atlanta Botanical Garden, 1345 Piedmont Ave. NE, Atlanta, GA 30309\\n   - Description: Marvel at stunning light displays in the Atlanta Botanical Garden\\u0027s enchanting holiday event.\\n   - [Event Details](https://www.atlantabg.org)\\n\\n3. **Skate the Station**\\n   - Location: Atlantic Station\\n   - Description: Lace up your skates and glide under the stars at Atlanta\\u0027s favorite outdoor ice rink.\\n   - [Event Details](https://atlanticstation.com/event/skate-the-station/)\\n\\n4. **Create Your Own Scented Candle**\\n   - Location: Atlanta Beltline East Side Trail, 700 Lake Avenue NE, Atlanta, GA 30307\\n   - Description: Craft a custom soy candle while enjoying snacks, drinks, and a relaxing atmosphere.\\n   - [Event Details](https://www.atlantacandlemaking.com)\\n\\n5. **Holiday Bricktacular at LEGO Discovery Center**\\n   - Location: LEGO Discovery Center Atlanta, 3500 Peachtree Road NE, Atlanta, GA 30326\\n   - Description: Build, play, and celebrate at LEGO Discovery Center\\u0027s festive event featuring unique activities and attractions.\\n   - [Event Details](https://www.legolanddiscoverycenter.com)\\n\\nThese events offer a variety of activities for all ages, from enjoying light displays to creating your own holiday crafts.\"\n",
       "```\n",
       "\n",
       "I called the tool named ExtractContentFromUrl with these arguments:\n",
       "```\n",
       "{\"assistantName\": \"WebPageAgentAnt\", \"instructions\": \"What events are happening in Atlanta on December 31, 2024? https://gosouthatlanta.com/things-to-do/events/atlanta-in-december.html\"}\n",
       "```\n",
       "and got this result:\n",
       "```\n",
       "\"Here are the events happening in Atlanta on December 31, 2024:\\n\\n1. **Zoo Year\\u2019s Eve**  \\n   Daytime New Year\\u2019s Eve event at Zoo Atlanta.  \\n   [More details](https://zooatlanta.org/event/zoo-years-eve/)\\n\\n2. **New Year\\u2019s Eve Celebration**  \\n   New Year\\u2019s Eve event at the Georgia Aquarium, featuring a DJ and dancing, food, and after-hours access to the aquatic exhibits.  \\n   [More details](https://www.georgiaaquarium.org/events/event/new-years-eve-2024/)\\n\\nThese events offer a range of activities from family-friendly daytime celebrations at the zoo to a festive evening at the aquarium.\"\n",
       "```\n",
       "\n",
       "I called the tool named ExtractContentFromUrl with these arguments:\n",
       "```\n",
       "{\"assistantName\": \"WebPageAgentAnt\", \"instructions\": \"What events are happening in Atlanta on December 31, 2024? https://allevents.in/atlanta/december\"}\n",
       "```\n",
       "and got this result:\n",
       "```\n",
       "\"The page does not contain specific information about events happening in Atlanta on December 31, 2024. Therefore, I cannot provide the details you are seeking.\\n\\nFor more specific event details on that date, you might want to visit other event listing websites or local Atlanta event calendars closer to the date in question.\"\n",
       "```\n",
       "\n",
       "I called the tool named ExtractContentFromUrl with these arguments:\n",
       "```\n",
       "{\"assistantName\": \"WebPageAgentAnt\", \"instructions\": \"What events are happening in Atlanta on December 31, 2024? https://discoveratlanta.com/events/seasonal/christmas/\"}\n",
       "```\n",
       "and got this result:\n",
       "```\n",
       "\"Here are some events happening in Atlanta on December 31, 2024:\\n\\n1. **IllumiNights at the Zoo!**\\n   - Dates: December 30, 2024, to January 19, 2025\\n   - Description: Atlanta\\u0027s cherished holiday tradition showcasing vistas of brilliantly illuminated wildlife.\\n   - [Learn more about IllumiNights at the Zoo](https://discoveratlanta.com/event/detail/illuminights-at-the-zoo/)\\n\\n2. **Holiday in the Park**\\n   - Dates: December 30, 2024, to January 5, 2025\\n   - Location: Six Flags Over Georgia\\n   - Description: Enjoy thrill rides, holiday festivities, and more.\\n   - [Learn more about Holiday in the Park](https://discoveratlanta.com/event/detail/holiday-in-the-park/)\\n\\n3. **Deck the Hall at the College Football Hall of Fame**\\n   - Dates: December 30, 2024, to January 1, 2025\\n   - Description: Explore interactive exhibits and hands-on activities at the Hall.\\n   - [Learn more about Deck the Hall](https://discoveratlanta.com/event/detail/deck-the-hall-at-the-college-football-hall-of-fame/)\\n\\n4. **Skate the Station**\\n   - Dates: November 15, 2024, to January 20, 2025\\n   - Location: Atlantic Station\\n   - Description: Skate under the stars in Atlanta.\\n   - [Learn more about Skate the Station](https://discoveratlanta.com/event/detail/skate-the-station-2/)\\n\\n5. **Garden Lights, Holiday Nights**\\n   - Dates: November 16, 2024, to January 12, 2025\\n   - Location: Atlanta Botanical Garden, Inc.\\n   - Description: Enjoy the 14th annual Garden Lights, Holiday Nights presented by Invesco QQQ.\\n   - [Learn more about Garden Lights, Holiday Nights](https://discoveratlanta.com/event/detail/garden-lights-holiday-nights/)\\n\\n6. **Holiday Bricktacular at LEGO Discovery Center**\\n   - Dates: December 30, 2024, to December 31, 2024\\n   - Description: Celebrate the most wonderful time of the year at LEGO Discovery Center Atlanta.\\n   - [Learn more about Holiday Bricktacular](https://discoveratlanta.com/event/detail/holiday-bricktacular-at-lego-discovery-center/)\\n\\n7. **Westside Sleigh Ride at Westside Motor Lounge**\\n   - Dates: December 30, 2024, to December 31, 2024\\n   - Description: Enjoy a merrier holiday season with the Westside Sleigh Ride.\\n   - [Learn more about Westside Sleigh Ride](https://discoveratlanta.com/event/detail/westside-sleigh-ride-at-westside-motor-lounge/)\\n\\nThese events offer a variety of festive activities for all ages to enjoy on New Year\\u0027s Eve in Atlanta.\"\n",
       "```\n",
       "\n",
       "Here are some exciting events happening in Atlanta on December 31, 2024:\n",
       "\n",
       "1. **Georgia Tech Yellow Jackets vs. Notre Dame Fighting Irish**\n",
       "   - **Time:** 2:30 PM\n",
       "   - **Location:** McCamish Pavilion, 965 Fowler St., Atlanta, GA\n",
       "   - **Prices:** From $18, Avg. price ~ $62\n",
       "   - **[Get Tickets](https://atlanta-ga.events/event/georgia-tech-yellow-jackets-vs-notre-dame-fighting-irish-atlanta-tuesday-december-31-2024-230-pm/)**\n",
       "   ![Georgia Tech Yellow Jackets Basketball](https://atlanta-ga.events/wp-content/uploads/2023/08/Georgia-Tech-Yellow-Jackets-Basketball.jpg)\n",
       "\n",
       "2. **Zac Brown Band**\n",
       "   - **Time:** 8:00 PM\n",
       "   - **Location:** State Farm Arena, One Philips Drive, Atlanta, GA\n",
       "   - **Prices:** From $73, Avg. price ~ $237\n",
       "   - **[Get Tickets](https://atlanta-ga.events/event/zac-brown-band-atlanta-tuesday-december-31-2024-800-pm/)**\n",
       "   ![Zac Brown Band](https://atlanta-ga.events/wp-content/uploads/2024/02/zac-brown-band.jpg)\n",
       "\n",
       "3. **Moon Taxi**\n",
       "   - **Time:** 8:00 PM\n",
       "   - **Location:** The Tabernacle, 152 Luckie St, Atlanta, GA\n",
       "   - **Prices:** From $65, Avg. price ~ $127\n",
       "   - **[Get Tickets](https://atlanta-ga.events/event/moon-taxi-atlanta-tuesday-december-31-2024-800-pm/)**\n",
       "   ![Moon Taxi](https://atlanta-ga.events/wp-content/uploads/2024/09/moon-taxi-concert-tickets.jpeg)\n",
       "\n",
       "4. **Stone Mountain Christmas**\n",
       "   - **Location:** Stone Mountain Park, 1000 Robert E. Lee Drive, Stone Mountain, GA 30083\n",
       "   - **Description:** Dive into the holiday spirit with festive music, dazzling lights, and memorable shows.\n",
       "   - **[Event Details](https://stonemountainpark.com/activity/events/stone-mountain-christmas/)**\n",
       "\n",
       "5. **Garden Lights, Holiday Nights**\n",
       "   - **Location:** Atlanta Botanical Garden, 1345 Piedmont Ave. NE, Atlanta, GA 30309\n",
       "   - **Description:** Marvel at stunning light displays in the Atlanta Botanical Garden's enchanting holiday event.\n",
       "   - **[Event Details](https://www.atlantabg.org)**\n",
       "\n",
       "6. **Zoo Year’s Eve**\n",
       "   - **Location:** Zoo Atlanta\n",
       "   - **Description:** Daytime New Year’s Eve event at Zoo Atlanta.\n",
       "   - **[More details](https://zooatlanta.org/event/zoo-years-eve/)**\n",
       "\n",
       "7. **New Year’s Eve Celebration at the Georgia Aquarium**\n",
       "   - **Location:** Georgia Aquarium\n",
       "   - **Description:** Featuring a DJ and dancing, food, and after-hours access to the aquatic exhibits.\n",
       "   - **[More details](https://www.georgiaaquarium.org/events/event/new-years-eve-2024/)**\n",
       "\n",
       "8. **Holiday Bricktacular at LEGO Discovery Center**\n",
       "   - **Location:** LEGO Discovery Center Atlanta, 3500 Peachtree Road NE, Atlanta, GA 30326\n",
       "   - **Description:** Celebrate with unique activities and attractions.\n",
       "   - **[Event Details](https://www.legolanddiscoverycenter.com)**\n",
       "\n",
       "These events offer a variety of activities, from concerts and sports to holiday-themed celebrations, ensuring there's something for everyone to enjoy on New Year's Eve in Atlanta!\n"
      ]
     },
     "metadata": {},
     "output_type": "display_data"
    }
   ],
   "source": [
    "var assistantRunOptions = new AssistantRunOptions() {\n",
    "    AssistantName = \"WebSearchAgentAnt\",\n",
    "    Instructions = \"Use python to get todays date and then use it to find things to do in Atlanta today. Be careful to not include events in the past in your final answer.\",\n",
    "};\n",
    "var output = await AntRunnerLib.AssistantRunner.RunThread(assistantRunOptions, config);\n",
    "output.Dialog.DisplayAs(\"text/markdown\");"
   ]
  },
  {
   "cell_type": "code",
   "execution_count": 12,
   "metadata": {
    "dotnet_interactive": {
     "language": "csharp"
    },
    "polyglot_notebook": {
     "kernelName": "csharp"
    },
    "vscode": {
     "languageId": "polyglot-notebook"
    }
   },
   "outputs": [
    {
     "data": {
      "text/markdown": [
       "Here are some exciting events happening in Atlanta on December 31, 2024:\n",
       "\n",
       "1. **Georgia Tech Yellow Jackets vs. Notre Dame Fighting Irish**\n",
       "   - **Time:** 2:30 PM\n",
       "   - **Location:** McCamish Pavilion, 965 Fowler St., Atlanta, GA\n",
       "   - **Prices:** From $18, Avg. price ~ $62\n",
       "   - **[Get Tickets](https://atlanta-ga.events/event/georgia-tech-yellow-jackets-vs-notre-dame-fighting-irish-atlanta-tuesday-december-31-2024-230-pm/)**\n",
       "   ![Georgia Tech Yellow Jackets Basketball](https://atlanta-ga.events/wp-content/uploads/2023/08/Georgia-Tech-Yellow-Jackets-Basketball.jpg)\n",
       "\n",
       "2. **Zac Brown Band**\n",
       "   - **Time:** 8:00 PM\n",
       "   - **Location:** State Farm Arena, One Philips Drive, Atlanta, GA\n",
       "   - **Prices:** From $73, Avg. price ~ $237\n",
       "   - **[Get Tickets](https://atlanta-ga.events/event/zac-brown-band-atlanta-tuesday-december-31-2024-800-pm/)**\n",
       "   ![Zac Brown Band](https://atlanta-ga.events/wp-content/uploads/2024/02/zac-brown-band.jpg)\n",
       "\n",
       "3. **Moon Taxi**\n",
       "   - **Time:** 8:00 PM\n",
       "   - **Location:** The Tabernacle, 152 Luckie St, Atlanta, GA\n",
       "   - **Prices:** From $65, Avg. price ~ $127\n",
       "   - **[Get Tickets](https://atlanta-ga.events/event/moon-taxi-atlanta-tuesday-december-31-2024-800-pm/)**\n",
       "   ![Moon Taxi](https://atlanta-ga.events/wp-content/uploads/2024/09/moon-taxi-concert-tickets.jpeg)\n",
       "\n",
       "4. **Stone Mountain Christmas**\n",
       "   - **Location:** Stone Mountain Park, 1000 Robert E. Lee Drive, Stone Mountain, GA 30083\n",
       "   - **Description:** Dive into the holiday spirit with festive music, dazzling lights, and memorable shows.\n",
       "   - **[Event Details](https://stonemountainpark.com/activity/events/stone-mountain-christmas/)**\n",
       "\n",
       "5. **Garden Lights, Holiday Nights**\n",
       "   - **Location:** Atlanta Botanical Garden, 1345 Piedmont Ave. NE, Atlanta, GA 30309\n",
       "   - **Description:** Marvel at stunning light displays in the Atlanta Botanical Garden's enchanting holiday event.\n",
       "   - **[Event Details](https://www.atlantabg.org)**\n",
       "\n",
       "6. **Zoo Year’s Eve**\n",
       "   - **Location:** Zoo Atlanta\n",
       "   - **Description:** Daytime New Year’s Eve event at Zoo Atlanta.\n",
       "   - **[More details](https://zooatlanta.org/event/zoo-years-eve/)**\n",
       "\n",
       "7. **New Year’s Eve Celebration at the Georgia Aquarium**\n",
       "   - **Location:** Georgia Aquarium\n",
       "   - **Description:** Featuring a DJ and dancing, food, and after-hours access to the aquatic exhibits.\n",
       "   - **[More details](https://www.georgiaaquarium.org/events/event/new-years-eve-2024/)**\n",
       "\n",
       "8. **Holiday Bricktacular at LEGO Discovery Center**\n",
       "   - **Location:** LEGO Discovery Center Atlanta, 3500 Peachtree Road NE, Atlanta, GA 30326\n",
       "   - **Description:** Celebrate with unique activities and attractions.\n",
       "   - **[Event Details](https://www.legolanddiscoverycenter.com)**\n",
       "\n",
       "These events offer a variety of activities, from concerts and sports to holiday-themed celebrations, ensuring there's something for everyone to enjoy on New Year's Eve in Atlanta!"
      ]
     },
     "metadata": {},
     "output_type": "display_data"
    }
   ],
   "source": [
    "output.LastMessage.DisplayAs(\"text/markdown\");"
   ]
  },
  {
   "cell_type": "code",
   "execution_count": 13,
   "metadata": {
    "dotnet_interactive": {
     "language": "csharp"
    },
    "polyglot_notebook": {
     "kernelName": "csharp"
    },
    "vscode": {
     "languageId": "polyglot-notebook"
    }
   },
   "outputs": [
    {
     "data": {
      "text/markdown": [
       "\n",
       "User: Use python to get todays date and then use it to find things to do in Atlanta for each of the next four weekends with pictures and correct links from ExtractContentFromUrl.\n",
       "\n",
       "When choosing links for crawl to evaluate with ExtractContentFromUrl choose a variety of hosts for urls from which you extract content. Limit your use of ExtractContentFromUrl to five calls or less. Do not make the error of including the url as a parameter, it must be inside 'instructions' as indicated by the tool definition. Be careful to not include events in the past in your final answer. You should perform four searches at once.\n",
       "Don't forget to include valid links!\n",
       "\n",
       "Assistant: I ran this code:\n",
       "```\n",
       "from datetime import datetime, timedelta\r\n",
       "\r\n",
       "# Get today's date\r\n",
       "today = datetime.now()\r\n",
       "\r\n",
       "# Calculate the next four weekends (Saturday and Sunday)\r\n",
       "weekends = []\r\n",
       "for i in range(4):\r\n",
       "    saturday = today + timedelta(days=(5 - today.weekday()) + i * 7)\r\n",
       "    sunday = saturday + timedelta(days=1)\r\n",
       "    weekends.append((saturday, sunday))\r\n",
       "\r\n",
       "weekends\n",
       "```\n",
       "\n",
       "I called the tool named crawl with these arguments:\n",
       "```\n",
       "{\"q\": \"events in Atlanta January 4-5 2025\", \"count\": 5, \"textFormat\": \"Raw\"}\n",
       "```\n",
       "and got this result:\n",
       "```\n",
       "{\"queryContext\":{\"originalQuery\":\"events in Atlanta January 4-5 2025\"},\"webPages\":{\"value\":[{\"name\":\"Atlanta Events in January 2025 | Atlanta, GA\",\"url\":\"https://atlanta-ga.events/january/\",\"displayUrl\":\"https://atlanta-ga.events/january\",\"snippet\":\"Atlanta Events January 2025. Check out the complete schedule of this month\\u2019s events. ... Jan 4, 2025 5:00 PM . Jacksonville State Gamecocks . Events: 3. KSU Convocation Center . Jan 4, 2025 5:00 PM . Louisiana-Lafayette Ragin\\u0027 Cajuns Basketball ...\"},{\"name\":\"Atlanta Events \\u2013 January 2025 - Go South Atlanta\",\"url\":\"https://gosouthatlanta.com/things-to-do/events/atlanta-in-january.html\",\"displayUrl\":\"https://gosouthatlanta.com/things-to-do/events/atlanta-in-january.html\",\"snippet\":\"Events From January 1 To The Weekend Of January 4-5 2025. \\u2192 See December events. \\u2192 For concerts this week, see concerts in Atlanta in January \\u2013 IllumiNights, November 14 2024 - January 19 2025 Annual after-hours walk-through holiday lights show at Zoo Atlanta, with a mile of illuminated animal lanterns.\",\"thumbnailUrl\":\"https://www.bing.com/th?id=OIP.xm-3dn3hYJZHsVVU9WO5qwHaD4\\u0026w=80\\u0026h=80\\u0026c=1\\u0026pid=5.1\"},{\"name\":\"Discover 2025 Events \\u0026 Activities in Atlanta, GA | Eventbrite\",\"url\":\"https://www.eventbrite.com/d/ga--atlanta/2025/\",\"displayUrl\":\"https://www.eventbrite.com/d/ga--atlanta/2025\",\"snippet\":\"Share this event: 2025 Atlanta Travel \\u0026 Adventure Show Save this event: 2025 Atlanta Travel \\u0026 Adventure Show. ELEVATE : IGNITE CONNECTIONS FOR 2025. Sat, Jan 11, 5:00 PM ... NuNu\\u0027s Disco Birthday Brunch Jan 5th 2025 Save this event: NuNu\\u0027s Disco Birthday Brunch Jan 5th 2025. Almost full. NYEATL.COM: The VIBE NYE 2025 Celebration at THE TWELVE ...\"},{\"name\":\"Events \\u0026 Things To Do in Atlanta in 2025 - AllEvents.in\",\"url\":\"https://allevents.in/atlanta/january\",\"displayUrl\":\"https://allevents.in/atlanta/january\",\"snippet\":\"Find events and things to do in January 2025 in Atlanta. Discover parties, concerts, meets, shows, sports, club, reunion, Performance happening in January 2024 in Atlanta. ... Make this year an incredible one by starting it from exploring events in January 2025 in Atlanta. Find your interests, register or buy tickets for all the upcoming events ...\"},{\"name\":\"Atlanta Events Calendar 2024/2025 | Atlanta, GA\",\"url\":\"https://atlanta-ga.events/\",\"displayUrl\":\"https://atlanta-ga.events\",\"snippet\":\"Atlanta Events 2024/2025 Discover the calendar of all current and upcoming events in Atlanta, GA. This calendar is your ultimate guide to the best things to do in Atlanta , GA: concerts , live music events, theater shows , sports events , comedy shows , family shows , opera , and ballet performances.\",\"thumbnailUrl\":\"https://www.bing.com/th?id=OIP.ytkv04WKv8RTyYo4_DsP4gHaHa\\u0026w=80\\u0026h=80\\u0026c=1\\u0026pid=5.1\"}]},\"images\":{\"value\":[{\"thumbnailUrl\":\"https://tse1.mm.bing.net/th?id=OIP.8x_jPSRdmgimGRTNJq3pngHaE8\\u0026pid=Api\",\"contentUrl\":\"https://experism.com/explore/wp-content/uploads/2018/08/Atlanta.jpg\",\"hostPageUrl\":\"https://dahliabmargaretha.pages.dev/fgwdhqx-concerts-in-atlanta-january-2025-egshyyz/\"},{\"thumbnailUrl\":\"https://tse1.mm.bing.net/th?id=OIP.uzUnJx98-iG-vkDqym143AHaHa\\u0026pid=Api\",\"contentUrl\":\"https://www.metroatlantachamber.com/wp-content/uploads/2022/11/3d5d6de7-7d24-4c7d-bfc5-aed78f89c4e3_NZV7Bqn-1024x1024.png\",\"hostPageUrl\":\"https://lillyvjacenta.pages.dev/ssueqmr-events-in-atlanta-in-january-2025-photos-znjutlv/\"},{\"thumbnailUrl\":\"https://tse1.mm.bing.net/th?id=OIP.CBOPpCO8Y3waxP9CuDEALwHaE8\\u0026pid=Api\",\"contentUrl\":\"http://nique.net/wp-content/uploads/2015/07/ShakyKnees1-982x656.jpg\",\"hostPageUrl\":\"https://doriceyjeannine.pages.dev/yxlojlb-country-concerts-atlanta-2025-images-lkuduil/\"},{\"thumbnailUrl\":\"https://tse1.mm.bing.net/th?id=OIP.WoE56TfoQ63T7_SpwvmGKgHaE8\\u0026pid=Api\",\"contentUrl\":\"https://www.experism.com/explore/wp-content/uploads/2023/02/Atlanta-1550x1034.jpg\",\"hostPageUrl\":\"https://lillyvjacenta.pages.dev/ssueqmr-events-in-atlanta-in-january-2025-photos-znjutlv/\"},{\"thumbnailUrl\":\"https://tse1.mm.bing.net/th?id=OIP.cJU7LRMh_5kyXmWjo5GX9QAAAA\\u0026pid=Api\",\"contentUrl\":\"https://cdn2.allevents.in/thumbs/thumb65b41612911ac.jpg\",\"hostPageUrl\":\"https://allevents.in/atlanta/nye-in-the-atl-2025-new-years-eve-atlanta/80002059316179\"},{\"thumbnailUrl\":\"https://tse1.mm.bing.net/th?id=OIP.N6O5ZXMOBo8zF1Fu23L_TgAAAA\\u0026pid=Api\",\"contentUrl\":\"https://cdn.evbuc.com/images/704126479/163984925070/1/logo.20240223-215932\",\"hostPageUrl\":\"https://www.eventbrite.com/e/aiga-atl-meet-the-board-january-2025-tickets-849705821987\"},{\"thumbnailUrl\":\"https://tse1.mm.bing.net/th?id=OIP.n3ZbkibaMaJ31WGgzE4B1AHaDt\\u0026pid=Api\",\"contentUrl\":\"https://cdn2.allevents.in/thumbs/thumb6616c06ff21c3.jpg\",\"hostPageUrl\":\"https://allevents.in/atlanta/nye-in-the-atl-2025-new-years-eve-atlanta/80002059316179\"},{\"thumbnailUrl\":\"https://tse1.mm.bing.net/th?id=OIP.fqwDUYiMaHe0id6KtJYyfwAAAA\\u0026pid=Api\",\"contentUrl\":\"https://unexpectedatlanta.com/wp-content/uploads/2022/12/Visiting-Atlanta-in-January-Ultimate-Guide-1.png\",\"hostPageUrl\":\"https://unexpectedatlanta.com/atlanta-in-january/\"},{\"thumbnailUrl\":\"https://tse1.mm.bing.net/th?id=OIP.ZhPF1J7Tuazkx5WbE5qaUQHaDz\\u0026pid=Api\",\"contentUrl\":\"https://www.foxtheatre.org/assets/img/new-atl-comedy-jam-2220x1140-2-e6477d1197.jpg\",\"hostPageUrl\":\"https://daisibmargaret.pages.dev/icazegy-comedy-shows-in-atlanta-2025-images-ckzcuha/\"},{\"thumbnailUrl\":\"https://tse1.mm.bing.net/th?id=OIP.XdcOMzoZ__QbPwHgBUkL1wHaE7\\u0026pid=Api\",\"contentUrl\":\"http://whenwespeaktv.com/uploads/9/0/6/0/90606659/atlanta-events-march_orig.jpg\",\"hostPageUrl\":\"https://imagetou.com/my-img-event-atlanta-january-12-2024.html\"},{\"thumbnailUrl\":\"https://tse1.mm.bing.net/th?id=OIP.w0LeofmyAS7yCZw3qzI2_gAAAA\\u0026pid=Api\",\"contentUrl\":\"https://cdn2.allevents.in/thumbs/thumb6616c042ba957.jpg\",\"hostPageUrl\":\"https://allevents.in/atlanta/nye-in-the-atl-2025-new-years-eve-atlanta/80002059316179\"},{\"thumbnailUrl\":\"https://tse1.mm.bing.net/th?id=OIP.0mtqs6l1cR0ttmlr4cIO9gHaHF\\u0026pid=Api\",\"contentUrl\":\"https://www.680thefan.com/wp-content/uploads/sites/8/2023/11/7221__mlb_all-star_game-alternate-2021.png\",\"hostPageUrl\":\"https://www.680thefan.com/2023/11/16/mlb-awards-the-2025-all-star-game-to-the-atlanta-braves/\"},{\"thumbnailUrl\":\"https://tse1.mm.bing.net/th?id=OIP.ByFb5XMlmEY12jcr28l8awHaEK\\u0026pid=Api\",\"contentUrl\":\"https://i.ytimg.com/vi/Z2zur0_4GYA/maxresdefault.jpg\",\"hostPageUrl\":\"https://www.youtube.com/watch?v=Z2zur0_4GYA\"},{\"thumbnailUrl\":\"https://tse1.mm.bing.net/th?id=OIP.JgVuZ4fZPPfORKw5KKjAgwHaEK\\u0026pid=Api\",\"contentUrl\":\"https://www.foxtheatre.org/assets/img/ATL_2223_FoxTheatreSeason3840x2160-f9075c18dd.jpg\",\"hostPageUrl\":\"https://mandybviolette.pages.dev/nngnvor-atl-live-2025-lineup-images-cdlqnty/\"},{\"thumbnailUrl\":\"https://tse1.mm.bing.net/th?id=OIP.wsLrsO7mRA1lPtu-yRPZHQAAAA\\u0026pid=Api\",\"contentUrl\":\"https://secretatlanta.co/wp-content/uploads/2021/12/259158507_6597733293632503_4617562253295709670_n.jpg\",\"hostPageUrl\":\"https://secretatlanta.co/things-to-do-january/\"},{\"thumbnailUrl\":\"https://tse1.mm.bing.net/th?id=OIP.swv-nQLUvphEyYtUM1JHWgHaDt\\u0026pid=Api\",\"contentUrl\":\"https://cdn2.happeningnext.com/thumbs/thumb6360123a37d4d.jpg\",\"hostPageUrl\":\"https://happeningnext.com/event/nye-in-the-atl-new-years-eve-atlanta-2023-eid1ar57js1n8\"},{\"thumbnailUrl\":\"https://tse1.mm.bing.net/th?id=OIP.L2qnbSmJnlHQCX5asy9K6gHaEK\\u0026pid=Api\",\"contentUrl\":\"https://i.ytimg.com/vi/ShSiWUsqVyg/maxresdefault.jpg\",\"hostPageUrl\":\"https://marigoldwcharo.pages.dev/yplkqnp-atlanta-convention-calendar-2025-cffzpji/\"},{\"thumbnailUrl\":\"https://tse1.mm.bing.net/th?id=OIP.W1lnbVOIPkF7I-A_IitlqQHaE8\\u0026pid=Api\",\"contentUrl\":\"https://atlanticstation.com/wp-content/uploads/2020/11/IMG_1923-2-scaled.jpg\",\"hostPageUrl\":\"https://atlanticstation.com/event/atlanta-festival-of-lights/\"},{\"thumbnailUrl\":\"https://tse1.mm.bing.net/th?id=OIP.d2TbP7X9E--v2VPgxSjZYgHaFj\\u0026pid=Api\",\"contentUrl\":\"https://media.coliseum-online.com/2022/08/Coliseum-Summit-News-Atlanta-will-host-College-Football-Playoff-in-2025.jpg\",\"hostPageUrl\":\"https://www.coliseum-online.com/2025-cfp-to-bowl-over-atlantans/\"},{\"thumbnailUrl\":\"https://tse1.mm.bing.net/th?id=OIP.dXjkRca79LS1seb_xM9rLQHaEK\\u0026pid=Api\",\"contentUrl\":\"https://images.axios.com/B3OlNRM8ECeNM5YYgnaDRCqzcOw=/0x280:6720x4060/1024x576/2022/04/12/1649778821240.jpg?w=1024\",\"hostPageUrl\":\"https://www.axios.com/local/atlanta/2022/04/29/7-biggest-events-atlanta-2022\"}]}}\n",
       "```\n",
       "\n",
       "I called the tool named crawl with these arguments:\n",
       "```\n",
       "{\"q\": \"events in Atlanta January 11-12 2025\", \"count\": 5, \"textFormat\": \"Raw\"}\n",
       "```\n",
       "and got this result:\n",
       "```\n",
       "{\"queryContext\":{\"originalQuery\":\"events in Atlanta January 11-12 2025\"},\"webPages\":{\"value\":[{\"name\":\"Atlanta Events in January 2025 | Atlanta, GA\",\"url\":\"https://atlanta-ga.events/january/\",\"displayUrl\":\"https://atlanta-ga.events/january\",\"snippet\":\"Prices from $11 Avg. price ~ $50. Available Tickets: 587. Tickets; Jan. 04. 2025. ... Jan 4, 2025 12:00 PM . Kennesaw State Owls Basketball . Events: 12. KSU Convocation Center ... Either way, you\\u2019ll be the first to know about the best events in Atlanta, GA.\",\"thumbnailUrl\":\"https://www.bing.com/th?id=OIP.ytkv04WKv8RTyYo4_DsP4gHaHa\\u0026w=80\\u0026h=80\\u0026c=1\\u0026pid=5.1\"},{\"name\":\"Atlanta Events \\u2013 January 2025 - Go South Atlanta\",\"url\":\"https://gosouthatlanta.com/things-to-do/events/atlanta-in-january.html\",\"displayUrl\":\"https://gosouthatlanta.com/things-to-do/events/atlanta-in-january.html\",\"snippet\":\"Atlanta\\u2019s January event highlights include the various Martin Luther King Day celebrations and parade. Other things to do in January include wine and food festivals, and the Cathedral Antiques Show and Tour of Homes. ... January 11-12 2025 Annual travel and tourism trade show at the Georgia International Convention Center. More details ...\",\"thumbnailUrl\":\"https://www.bing.com/th?id=OIP.xm-3dn3hYJZHsVVU9WO5qwHaD4\\u0026w=80\\u0026h=80\\u0026c=1\\u0026pid=5.1\"},{\"name\":\"Discover 2025 Events \\u0026 Activities in Atlanta, GA | Eventbrite\",\"url\":\"https://www.eventbrite.com/d/ga--atlanta/2025/\",\"displayUrl\":\"https://www.eventbrite.com/d/ga--atlanta/2025\",\"snippet\":\"Vision Board 2025. Sun, Jan 12, 12:00 PM. 3107 Peachtree Rd NE a1. Share this event: ... Share this event: 2025 Atlanta Travel \\u0026 Adventure Show Save this event: ... ELEVATE : IGNITE CONNECTIONS FOR 2025. Sat, Jan 11, 5:00 PM. The Ritz-Carlton, Atlanta. Save this event: ELEVATE : IGNITE CONNECTIONS FOR 2025 Share this event: ELEVATE : IGNITE ...\"},{\"name\":\"Events \\u0026 Things To Do in Atlanta in 2025 - AllEvents.in\",\"url\":\"https://allevents.in/atlanta/january\",\"displayUrl\":\"https://allevents.in/atlanta/january\",\"snippet\":\"Find events and things to do in January 2025 in Atlanta. Discover parties, concerts, meets, shows, sports, club, reunion, Performance happening in January 2024 in Atlanta. ... Make this year an incredible one by starting it from exploring events in January 2025 in Atlanta. Find your interests, register or buy tickets for all the upcoming events ...\"},{\"name\":\"January 11 events in Atlanta, GA - Eventbrite\",\"url\":\"https://www.eventbrite.com/d/ga--atlanta/january-11/\",\"displayUrl\":\"https://www.eventbrite.com/d/ga--atlanta/january-11\",\"snippet\":\"Share this event: 2025 Atlanta Travel \\u0026 Adventure Show Save this event: 2025 Atlanta Travel \\u0026 Adventure Show. Iris Presents: Zubah @ Believe Music Hall | Sat, Jan 11th! ... Sat, Jan 11, 12:00 PM. The Golden Door Event Hall. Save this event: Powerful Dialogue: Islamic Leadership \\u0026 Professional Development Panel Share this event: ...\"}]}}\n",
       "```\n",
       "\n",
       "I called the tool named crawl with these arguments:\n",
       "```\n",
       "{\"q\": \"events in Atlanta January 18-19 2025\", \"count\": 5, \"textFormat\": \"Raw\"}\n",
       "```\n",
       "and got this result:\n",
       "```\n",
       "{\"queryContext\":{\"originalQuery\":\"events in Atlanta January 18-19 2025\"},\"webPages\":{\"value\":[{\"name\":\"Atlanta Events in January 2025 | Atlanta, GA\",\"url\":\"https://atlanta-ga.events/january/\",\"displayUrl\":\"https://atlanta-ga.events/january\",\"snippet\":\"Atlanta Events January 2025. Check out the complete schedule of this month\\u2019s events. ... 19 tickets remaining! Tickets; Jan. 04. 2025. 8:00 PM Sat. Sonic Symphony Live. Cobb Energy Performing Arts Centre | Capacity: 2750. ... Events: 18. Georgia State Convocation Center\",\"thumbnailUrl\":\"https://www.bing.com/th?id=OIP.ytkv04WKv8RTyYo4_DsP4gHaHa\\u0026w=80\\u0026h=80\\u0026c=1\\u0026pid=5.1\"},{\"name\":\"Events \\u0026 Things To Do in Atlanta in 2025 - AllEvents.in\",\"url\":\"https://allevents.in/atlanta/january\",\"displayUrl\":\"https://allevents.in/atlanta/january\",\"snippet\":\"Find events and things to do in January 2025 in Atlanta. Discover parties, concerts, meets, shows, sports, club, reunion, Performance happening in January 2024 in Atlanta. ... Variety Playhouse, Atlanta: 18 Jan 2025: Electric Avenue at Variety Playhouse: Variety Playhouse, Atlanta: 18 Jan 2025: Fulton Lee at The Loft at Center Stage:\"},{\"name\":\"Atlanta Events \\u2013 January 2025 - Go South Atlanta\",\"url\":\"https://gosouthatlanta.com/things-to-do/events/atlanta-in-january.html\",\"displayUrl\":\"https://gosouthatlanta.com/things-to-do/events/atlanta-in-january.html\",\"snippet\":\"Events From January 13 To Martin Luther King Day Weekend, January 18-20 2025. \\u2192 For concerts this week, see concerts in Atlanta in January \\u2013 IllumiNights, November 14 2024 - January 19 2025 Annual after-hours walk-through holiday lights show at Zoo Atlanta, with a mile of illuminated animal lanterns. More details\",\"thumbnailUrl\":\"https://www.bing.com/th?id=OIP.xm-3dn3hYJZHsVVU9WO5qwHaD4\\u0026w=80\\u0026h=80\\u0026c=1\\u0026pid=5.1\"},{\"name\":\"Cool Things To Do in January in Atlanta\",\"url\":\"https://discoveratlanta.com/stories/things-to-do/cool-things-to-do-in-january-in-atlanta/\",\"displayUrl\":\"https://discoveratlanta.com/stories/things-to-do/cool-things-to-do-in-january-in-atlanta\",\"snippet\":\"Atlanta Vibe vs. Grand Rapids Rise, Jan. 19 at 3 p.m. Atlanta Vibe vs. Vegas Thrill, Jan. 23 at 7 p.m. ... pep rallies, autograph signings and exhibits celebrating college football and its history. The events are happening Jan. 18-20 from 10 a.m. to 6 p.m. in the Georgia World Congress Center Building A. ... 2025 marks the 100th anniversary of ...\",\"thumbnailUrl\":\"https://www.bing.com/th?id=OIP.aU9EcatRnz4MDkIKyYbkQgHaD4\\u0026w=80\\u0026h=80\\u0026c=1\\u0026pid=5.1\"},{\"name\":\"Upcoming Events - Discover Atlanta\",\"url\":\"https://discoveratlanta.com/events/all/\",\"displayUrl\":\"https://discoveratlanta.com/events/all\",\"snippet\":\"1/18/25 \\u2013 1/19/25 AT\\u0026T Playoff Playlist Live with Lil Wayne \\u0026 More! Downtown Atlanta will be home to one of the country\\u2019s largest annual traveling music festivals,\\u2026\",\"thumbnailUrl\":\"https://www.bing.com/th?id=OIP._g2QeYjHqItPqLbrMNcnEQHaHe\\u0026w=80\\u0026h=80\\u0026c=1\\u0026pid=5.1\"}]},\"images\":{\"value\":[{\"thumbnailUrl\":\"https://tse1.mm.bing.net/th?id=OIP.8x_jPSRdmgimGRTNJq3pngHaE8\\u0026pid=Api\",\"contentUrl\":\"https://experism.com/explore/wp-content/uploads/2018/08/Atlanta.jpg\",\"hostPageUrl\":\"https://dahliabmargaretha.pages.dev/fgwdhqx-concerts-in-atlanta-january-2025-egshyyz/\"},{\"thumbnailUrl\":\"https://tse1.mm.bing.net/th?id=OIP.CBOPpCO8Y3waxP9CuDEALwHaE8\\u0026pid=Api\",\"contentUrl\":\"http://nique.net/wp-content/uploads/2015/07/ShakyKnees1-982x656.jpg\",\"hostPageUrl\":\"https://doriceyjeannine.pages.dev/yxlojlb-country-concerts-atlanta-2025-images-lkuduil/\"},{\"thumbnailUrl\":\"https://tse1.mm.bing.net/th?id=OIP.cJU7LRMh_5kyXmWjo5GX9QAAAA\\u0026pid=Api\",\"contentUrl\":\"https://cdn2.allevents.in/thumbs/thumb65b41612911ac.jpg\",\"hostPageUrl\":\"https://allevents.in/atlanta/nye-in-the-atl-new-years-eve-atlanta-2023/80001130832202\"},{\"thumbnailUrl\":\"https://tse1.mm.bing.net/th?id=OIP.w0LeofmyAS7yCZw3qzI2_gAAAA\\u0026pid=Api\",\"contentUrl\":\"https://cdn2.allevents.in/thumbs/thumb6616c042ba957.jpg\",\"hostPageUrl\":\"https://allevents.in/atlanta/nye-in-the-atl-2025-new-years-eve-atlanta/80002059316179\"},{\"thumbnailUrl\":\"https://tse1.mm.bing.net/th?id=OIP.wsLrsO7mRA1lPtu-yRPZHQAAAA\\u0026pid=Api\",\"contentUrl\":\"https://secretatlanta.co/wp-content/uploads/2021/12/259158507_6597733293632503_4617562253295709670_n.jpg\",\"hostPageUrl\":\"https://secretatlanta.co/things-to-do-january/\"},{\"thumbnailUrl\":\"https://tse1.mm.bing.net/th?id=OIP.0mtqs6l1cR0ttmlr4cIO9gHaHF\\u0026pid=Api\",\"contentUrl\":\"https://www.680thefan.com/wp-content/uploads/sites/8/2023/11/7221__mlb_all-star_game-alternate-2021.png\",\"hostPageUrl\":\"https://www.680thefan.com/2023/11/16/mlb-awards-the-2025-all-star-game-to-the-atlanta-braves/\"},{\"thumbnailUrl\":\"https://tse1.mm.bing.net/th?id=OIP.n3ZbkibaMaJ31WGgzE4B1AHaDt\\u0026pid=Api\",\"contentUrl\":\"https://cdn2.allevents.in/thumbs/thumb6616c06ff21c3.jpg\",\"hostPageUrl\":\"https://allevents.in/atlanta/nye-in-the-atl-2025-new-years-eve-atlanta/80002059316179\"},{\"thumbnailUrl\":\"https://tse1.mm.bing.net/th?id=OIP.fqwDUYiMaHe0id6KtJYyfwAAAA\\u0026pid=Api\",\"contentUrl\":\"https://unexpectedatlanta.com/wp-content/uploads/2022/12/Visiting-Atlanta-in-January-Ultimate-Guide-1.png\",\"hostPageUrl\":\"https://unexpectedatlanta.com/atlanta-in-january/\"},{\"thumbnailUrl\":\"https://tse1.mm.bing.net/th?id=OIP.ZhPF1J7Tuazkx5WbE5qaUQHaDz\\u0026pid=Api\",\"contentUrl\":\"https://www.foxtheatre.org/assets/img/new-atl-comedy-jam-2220x1140-2-e6477d1197.jpg\",\"hostPageUrl\":\"https://daisibmargaret.pages.dev/icazegy-comedy-shows-in-atlanta-2025-images-ckzcuha/\"},{\"thumbnailUrl\":\"https://tse1.mm.bing.net/th?id=OIP.-qd2CB015-Dv97WrxUV69AAAAA\\u0026pid=Api\",\"contentUrl\":\"https://www.parktavern.com/wp-content/uploads/2024/01/What-to-do-in-Atlanta-this-weekend-2024-spring-events-in-ATL-at-park-tavern.png\",\"hostPageUrl\":\"https://dardaqwendie.pages.dev/gnipyq-events-in-atlanta-this-weekend-2024-tyqhvlhrf-photos/\"},{\"thumbnailUrl\":\"https://tse1.mm.bing.net/th?id=OIP.WoE56TfoQ63T7_SpwvmGKgHaE8\\u0026pid=Api\",\"contentUrl\":\"https://www.experism.com/explore/wp-content/uploads/2023/02/Atlanta-1550x1034.jpg\",\"hostPageUrl\":\"https://www.experism.com/atlanta/january\"},{\"thumbnailUrl\":\"https://tse1.mm.bing.net/th?id=OIP.P9O4EdQGnxGK-r7SWM6o-wHaFD\\u0026pid=Api\",\"contentUrl\":\"https://i0.wp.com/atlantafi.com/wp-content/uploads/2020/09/festivals-Atlanta-best.jpg?resize=1024%2C699\\u0026ssl=1\",\"hostPageUrl\":\"https://atlantafi.com/best-atlanta-festivals/\"},{\"thumbnailUrl\":\"https://tse1.mm.bing.net/th?id=OIP.zco_XrsR7HWXyvmCHgOF7wAAAA\\u0026pid=Api\",\"contentUrl\":\"https://res.cloudinary.com/atlanta/images/f_auto,q_auto/v1602606068/newAtlanta.com/Atlanta_OneMusicFest_Crowd/Atlanta_OneMusicFest_Crowd.jpg\",\"hostPageUrl\":\"https://discoveratlanta.com/things-to-do/nightlife/best-festivals-in-the-atl/\"},{\"thumbnailUrl\":\"https://tse1.mm.bing.net/th?id=OIF.IntBVpQuIXMmQNKDtzJb8Q\\u0026pid=Api\",\"contentUrl\":\"https://fanatics.frgimages.com/atlanta-braves/atlanta-braves-2024-box-calendar_ss5_p-200059187\\u002Bpv-5\\u002Bu-anffj3jktozsgitmz5ak\\u002Bv-4wg0xw5n1outlqzlnbik.jpg?_hv=2\\u0026w=900\",\"hostPageUrl\":\"https://alishjkorelia.pages.dev/ysvmggf-atlanta-event-calendar-january-2025-events-schedule-jyfqrmi/\"},{\"thumbnailUrl\":\"https://tse1.mm.bing.net/th?id=OIP.W1lnbVOIPkF7I-A_IitlqQHaE8\\u0026pid=Api\",\"contentUrl\":\"https://atlanticstation.com/wp-content/uploads/2020/11/IMG_1923-2-scaled.jpg\",\"hostPageUrl\":\"https://atlanticstation.com/event/atlanta-festival-of-lights/\"},{\"thumbnailUrl\":\"https://tse1.mm.bing.net/th?id=OIP.dXjkRca79LS1seb_xM9rLQHaEK\\u0026pid=Api\",\"contentUrl\":\"https://images.axios.com/B3OlNRM8ECeNM5YYgnaDRCqzcOw=/0x280:6720x4060/1024x576/2022/04/12/1649778821240.jpg?w=1024\",\"hostPageUrl\":\"https://www.axios.com/local/atlanta/2022/04/29/7-biggest-events-atlanta-2022\"},{\"thumbnailUrl\":\"https://tse1.mm.bing.net/th?id=OIP.yHUhqMimgRNqSk1Ybbw66gHaDS\\u0026pid=Api\",\"contentUrl\":\"https://cdn.trendhunterstatic.com/ff/Best-Atlanta-Innovation-Conference.jpg\",\"hostPageUrl\":\"https://www.futurefestival.com/atlanta\"},{\"thumbnailUrl\":\"https://tse1.mm.bing.net/th?id=OIF.uKeH8P55XA%2b7IXZuob%2b7mQ\\u0026pid=Api\",\"contentUrl\":\"https://onplanners.com/sites/default/files/styles/template_fancy/public/template-images/printable-yearly-schedule-events-template-template.png\",\"hostPageUrl\":\"https://carylaseothella.pages.dev/aertmnw-atlanta-event-calendar-january-2025-schedule-of-events-photos-uwgfbnc/\"},{\"thumbnailUrl\":\"https://tse1.mm.bing.net/th?id=OIP.zTMz_VJkkJgrI0u30qub-wHaE8\\u0026pid=Api\",\"contentUrl\":\"https://365atlantatraveler.com/wp-content/uploads/2018/02/Street-Dance-featuring-the-Swingin-Medallions.jpg\",\"hostPageUrl\":\"https://365atlantatraveler.com/festivals-in-atlanta-spring-and-summer/\"},{\"thumbnailUrl\":\"https://tse1.mm.bing.net/th?id=OIP.JgVuZ4fZPPfORKw5KKjAgwHaEK\\u0026pid=Api\",\"contentUrl\":\"https://www.foxtheatre.org/assets/img/ATL_2223_FoxTheatreSeason3840x2160-f9075c18dd.jpg\",\"hostPageUrl\":\"https://mandybviolette.pages.dev/nngnvor-atl-live-2025-lineup-images-cdlqnty/\"}]}}\n",
       "```\n",
       "\n",
       "I called the tool named crawl with these arguments:\n",
       "```\n",
       "{\"q\": \"events in Atlanta January 25-26 2025\", \"count\": 5, \"textFormat\": \"Raw\"}\n",
       "```\n",
       "and got this result:\n",
       "```\n",
       "{\"queryContext\":{\"originalQuery\":\"events in Atlanta January 25-26 2025\"},\"webPages\":{\"value\":[{\"name\":\"Atlanta Events in January 2025 | Atlanta, GA\",\"url\":\"https://atlanta-ga.events/january/\",\"displayUrl\":\"https://atlanta-ga.events/january\",\"snippet\":\"Atlanta Events January 2025. Check out the complete schedule of this month\\u2019s events. ... Avg. price ~ $26. Available Tickets: 59. Tickets; Jan. 02. 2025. 7:00 PM Thu. ... Either way, you\\u2019ll be the first to know about the best events in Atlanta, GA.\",\"thumbnailUrl\":\"https://www.bing.com/th?id=OIP.ytkv04WKv8RTyYo4_DsP4gHaHa\\u0026w=80\\u0026h=80\\u0026c=1\\u0026pid=5.1\"},{\"name\":\"Atlanta Events \\u2013 January 2025 - Go South Atlanta\",\"url\":\"https://gosouthatlanta.com/things-to-do/events/atlanta-in-january.html\",\"displayUrl\":\"https://gosouthatlanta.com/things-to-do/events/atlanta-in-january.html\",\"snippet\":\"Events From January 21 To The Weekend Of January 25-26 2025. \\u2192 For concerts this week, see concerts in Atlanta in January \\u2013 Love\\u2019s Labour\\u2019s Lost, January 11-26 2025 ... January 25 2025 Special event at the Atlanta Botanical Garden, with speakers and plant sale. More details \\u2013 Gals on the Go, January 25 2025 Podcast live show at Center ...\",\"thumbnailUrl\":\"https://www.bing.com/th?id=OIP.xm-3dn3hYJZHsVVU9WO5qwHaD4\\u0026w=80\\u0026h=80\\u0026c=1\\u0026pid=5.1\"},{\"name\":\"Events \\u0026 Things To Do in Atlanta in 2025 - AllEvents.in\",\"url\":\"https://allevents.in/atlanta/january\",\"displayUrl\":\"https://allevents.in/atlanta/january\",\"snippet\":\"Find events and things to do in January 2025 in Atlanta. Discover parties, concerts, meets, shows, sports, club, reunion, Performance happening in January 2024 in Atlanta. ... Make this year an incredible one by starting it from exploring events in January 2025 in Atlanta. Find your interests, register or buy tickets for all the upcoming events ...\"},{\"name\":\"Discover 2025 Events \\u0026 Activities in Atlanta, GA | Eventbrite\",\"url\":\"https://www.eventbrite.com/d/ga--atlanta/2025/\",\"displayUrl\":\"https://www.eventbrite.com/d/ga--atlanta/2025\",\"snippet\":\"Share this event: 2025 Atlanta Travel \\u0026 Adventure Show Save this event: 2025 Atlanta Travel \\u0026 Adventure Show. ELEVATE : IGNITE CONNECTIONS FOR 2025. Sat, Jan 11, 5:00 PM ... NuNu\\u0027s Disco Birthday Brunch Jan 5th 2025 Save this event: NuNu\\u0027s Disco Birthday Brunch Jan 5th 2025. Almost full. NYEATL.COM: The VIBE NYE 2025 Celebration at THE TWELVE ...\"},{\"name\":\"Featured Events in Atlanta in January 2025(December Updated)\",\"url\":\"https://us.trip.com/events/2607417-2025-01-atlanta-collection/\",\"displayUrl\":\"https://us.trip.com/events/2607417-2025-01-atlanta-collection\",\"snippet\":\"Searching for events in Atlanta in January 2025? Trip.com has curated a list of all the events you might like in Atlanta, including live performances, concerts, festivals, and exhibitions. There\\u0027s something for everyone. Find and register for popular events in your area now!\"}]}}\n",
       "```\n",
       "\n",
       "I called the tool named ExtractContentFromUrl with these arguments:\n",
       "```\n",
       "{\"assistantName\": \"WebPageAgentAnt\", \"instructions\": \"What events are happening in Atlanta on January 4-5, 2025? https://atlanta-ga.events/january/\"}\n",
       "```\n",
       "and got this result:\n",
       "```\n",
       "\"Here are the events happening in Atlanta on January 4-5, 2025:\\n\\n### January 4, 2025\\n1. **Titanic: An Immersive Voyage**\\n   - **Venue:** Exhibition Hub Art Center Atlanta\\n   - **Address:** 5660 Buford Hwy NE, Atlanta, GA, US\\n   - **Price:** From $64, Avg. $77\\n   - **Tickets Remaining:** 32\\n\\n2. **Georgia Tech Yellow Jackets vs. Boston College Eagles**\\n   - **Venue:** McCamish Pavilion\\n   - **Address:** 965 Fowler St., Atlanta, GA, US\\n   - **Price:** From $8, Avg. $49\\n   - **Tickets Available:** 336\\n\\n3. **SalgirahArts Festival: Expressions of Shukran**\\n   - **Venue:** Gas South Theater\\n   - **Address:** 6400 Sugarloaf Parkway, Duluth, GA, US\\n   - **Price:** From $22, Avg. $43\\n   - **Tickets Available:** 211\\n\\n4. **Kennesaw State Owls vs. Jacksonville State Gamecocks**\\n   - **Venue:** KSU Convocation Center\\n   - **Address:** 590 Cobb Ave., Kennesaw, GA, US\\n   - **Price:** From $25, Avg. $33\\n   - **Tickets Remaining:** 35\\n\\n5. **Georgia State Panthers vs. Louisiana-Lafayette Ragin\\u0027 Cajuns**\\n   - **Venue:** Georgia State Convocation Center\\n   - **Address:** 455 Capitol Ave SE, Atlanta, GA, US\\n   - **Price:** From $10, Avg. $33\\n   - **Tickets Remaining:** 46\\n\\n6. **Canopy**\\n   - **Venue:** Altar at Masquerade - GA\\n   - **Address:** 75 MLK Jr Dr SW, Atlanta, GA, US\\n   - **Price:** From $23, Avg. $31\\n   - **Tickets Remaining:** 18\\n\\n7. **Kaya\\u0027s Embrace**\\n   - **Venue:** Purgatory Stage at Masquerade - GA\\n   - **Address:** 75 MLK Jr Dr SW, Atlanta, GA, US\\n   - **Price:** From $25, Avg. $34\\n   - **Tickets Remaining:** 42\\n\\n8. **Da\\u0027Vinchi**\\n   - **Venue:** ATL Comedy Theater\\n   - **Address:** 4650 Jimmy Carter Boulevard, Norcross, GA, US\\n   - **Price:** From $59, Avg. $101\\n   - **Tickets Available:** 60\\n\\n9. **Georgia Swarm vs. Rochester Knighthawks**\\n   - **Venue:** Gas South Arena\\n   - **Address:** 6400 Sugarloaf Parkway, Duluth, GA, US\\n   - **Price:** From $9, Avg. $48\\n   - **Tickets Available:** 507\\n\\n10. **SalgirahArts Festival: Expressions of Shukran**\\n    - **Venue:** Gas South Theater\\n    - **Address:** 6400 Sugarloaf Parkway, Duluth, GA, US\\n    - **Price:** From $28, Avg. $32\\n    - **Tickets Remaining:** 3\\n\\n11. **Sonic Symphony Live**\\n    - **Venue:** Cobb Energy Performing Arts Centre\\n    - **Address:** 2800 Cobb Galleria Pkwy, Atlanta, GA, US\\n    - **Price:** From $125, Avg. $338\\n    - **Tickets Available:** 59\\n\\n12. **Best of Atlanta Comedy Showcase**\\n    - **Venue:** Helium Comedy Club - Atlanta\\n    - **Address:** 3070 Windward Plaza, Alpharetta, GA, US\\n    - **Price:** From $24, Avg. $34\\n    - **Tickets Remaining:** 32\\n\\n13. **Club 90s: Justin Bieber Night**\\n    - **Venue:** Buckhead Theatre\\n    - **Address:** 3110 Roswell Road, Atlanta, GA, US\\n    - **Price:** From $34, Avg. $40\\n    - **Tickets Remaining:** 30\\n\\n### January 5, 2025\\nNo specific events listed for January 5, 2025, on the provided page.\\n\\n![Chick-fil-A Peach Bowl - College Football Playoff Quarterfinal: Arizona State Sun Devils vs. Texas Longhorns](https://atlanta-ga.events/wp-content/uploads/2023/05/Chick-fil-A-Peach-Bowl.jpg)\"\n",
       "```\n",
       "\n",
       "I called the tool named ExtractContentFromUrl with these arguments:\n",
       "```\n",
       "{\"assistantName\": \"WebPageAgentAnt\", \"instructions\": \"What events are happening in Atlanta on January 11-12, 2025? https://gosouthatlanta.com/things-to-do/events/atlanta-in-january.html\"}\n",
       "```\n",
       "and got this result:\n",
       "```\n",
       "\"Here are the events happening in Atlanta on January 11-12, 2025:\\n\\n1. **IllumiNights**  \\n   - **Date:** November 14, 2024 - January 19, 2025  \\n   - **Description:** Annual after-hours walk-through holiday lights show at Zoo Atlanta, featuring a mile of illuminated animal lanterns.  \\n   - [More details](https://zooatlanta.org/event/illuminights/)\\n\\n2. **Skate the Station**  \\n   - **Date:** November 15, 2024 - January 20, 2025  \\n   - **Description:** Annual outdoor holiday skating at Atlantic Station, with some themed nights.  \\n   - [More details](https://atlanticstation.com/event/skate-the-station-2/)\\n\\n3. **Garden Lights, Holiday Nights**  \\n   - **Date:** November 16, 2024 - January 12, 2025  \\n   - **Description:** Popular annual holiday lights display at the Atlanta Botanical Garden.  \\n   - [More details](https://atlantabg.org/calendar/garden-lights-holiday-nights-presented-by-invesco-qqq-2/)\\n\\n4. **\\u0026 Juliet**  \\n   - **Date:** January 7-12, 2025  \\n   - **Description:** Musical at the Fox Theatre.  \\n   - [More details](https://www.foxtheatre.org/events/detail/and_juliet)\\n\\n5. **Atlanta Boat Show**  \\n   - **Date:** January 9-12, 2025  \\n   - **Description:** Annual boating trade show at the Georgia World Congress Center.  \\n   - [More details](https://www.atlantaboatshow.com)\\n\\n6. **Scott Antique Market**  \\n   - **Date:** January 9-12, 2025  \\n   - **Description:** Monthly antiques market at the Atlanta Expo Center.  \\n   - [More details](https://www.scottantiquemarket.com/schedule/)\\n\\n7. **Joe Gatto: Let\\u2019s Get Into It**  \\n   - **Date:** January 11, 2025  \\n   - **Description:** Comedy show at Atlanta Symphony Hall.  \\n   - [More details](https://www.aso.org/events/detail/joe-gatto)\\n\\n8. **Last Podcast on the Left: JK Ultra Tour**  \\n   - **Date:** January 11, 2025  \\n   - **Description:** Comedy show at the Coca-Cola Roxy.  \\n   - [More details](https://concerts.livenation.com/last-podcast-on-the-left-jk-atlanta-georgia-01-11-2025/event/0E0061581C407C26)\\n\\n9. **Atlanta Travel \\u0026 Adventure Show**  \\n   - **Date:** January 11-12, 2025  \\n   - **Description:** Annual travel and tourism trade show at the Georgia International Convention Center.  \\n   - [More details](https://travelshows.com/shows/atlanta/)\\n\\n10. **Love\\u2019s Labour\\u2019s Lost**  \\n    - **Date:** January 11-26, 2025  \\n    - **Description:** Play at the Shakespeare Tavern Playhouse.  \\n    - [More details](https://www.shakespearetavern.com/on-stage/company/loves-labours-lost/)\\n\\n11. **Winter RunTheATL**  \\n    - **Date:** January 12, 2025  \\n    - **Description:** Annual ~15-mile race along the Atlanta BeltLine.  \\n    - [More details](https://www.runtheatl.com/winter-runtheatl/)\\n\\n12. **Sarah Silverman: Postmortem**  \\n    - **Date:** January 12, 2025  \\n    - **Description:** Comedy show at the Cobb Energy Performing Arts Centre.  \\n    - [More details](https://www.cobbenergycentre.com/events/detail/sarah-silverman)\"\n",
       "```\n",
       "\n",
       "I called the tool named ExtractContentFromUrl with these arguments:\n",
       "```\n",
       "{\"assistantName\": \"WebPageAgentAnt\", \"instructions\": \"What events are happening in Atlanta on January 18-19, 2025? https://discoveratlanta.com/stories/things-to-do/cool-things-to-do-in-january-in-atlanta/\"}\n",
       "```\n",
       "and got this result:\n",
       "```\n",
       "\"Here are some events happening in Atlanta on January 18-19, 2025:\\n\\n### Shows and Concerts\\n- **Music for the Very Young \\u2013 The Lion and the Mouse: A Musical Tale for Little Ears**: January 18-19\\n- **SWAG Gospel**: January 19\\n- **Lil Wayne with GloRilla \\u0026 Muni Long at State Farm Arena**: January 18\\n- **Camila Cabello with Myles Smith \\u0026 Knox at State Farm Arena**: January 19\\n\\n### Sporting Events\\n- **Atlanta Vibe vs. Grand Rapids Rise**: January 19 at 3 p.m.\\n\\n### Other Activities\\n- **IllumiNights at the Zoo**: Enjoy beautiful lantern displays at Zoo Atlanta until January 19.\\n- **Giants: Art from the Dean Collection of Swizz Beatz and Alicia Keys at the High Museum of Art**: Runs through January 19.\\n- **Playoff Fan Central**: Part of the College Football Playoff National Championship, occurring January 18-20 at the Georgia World Congress Center, free to the public.\\n- **Taste of the Championship**: A gourmet food event at the Georgia Aquarium on January 19.\\n\\nThese events offer a mix of music, sports, art, and unique experiences to enjoy during your stay in Atlanta.\"\n",
       "```\n",
       "\n",
       "I called the tool named ExtractContentFromUrl with these arguments:\n",
       "```\n",
       "{\"assistantName\": \"WebPageAgentAnt\", \"instructions\": \"What events are happening in Atlanta on January 25-26, 2025? https://gosouthatlanta.com/things-to-do/events/atlanta-in-january.html\"}\n",
       "```\n",
       "and got this result:\n",
       "```\n",
       "\"Here are the events happening in Atlanta on January 25-26, 2025:\\n\\n1. **Love\\u2019s Labour\\u2019s Lost** (January 11-26, 2025)  \\n   - Play at the Shakespeare Tavern Playhouse.  \\n   - [More details](https://www.shakespearetavern.com/on-stage/company/loves-labours-lost/)\\n\\n2. **Gimme Please!** (January 16 - February 16, 2025)  \\n   - Children\\u2019s play at Alliance Theatre.  \\n   - [More details](https://www.alliancetheatre.org/production/2024-25/gimme-please)\\n\\n3. **Doctor De Soto** (January 18 - March 2, 2025)  \\n   - Children\\u2019s performance at Alliance Theatre.  \\n   - [More details](https://www.alliancetheatre.org/production/2024-25/doctor-de-soto)\\n\\n4. **Atlanta Camping \\u0026 RV Show** (January 23-26, 2025)  \\n   - Outdoor lifestyle vehicle trade show at the Atlanta Exposition Center South.  \\n   - [More details](https://atlantarvshow.com)\\n\\n5. **Cathedral Giving by Design** (January 24-25, 2025)  \\n   - Annual charitable event of The Cathedral of St Philip, with tours of private Atlanta homes, live auction, speakers, and other events to benefit Wellspring Living.  \\n   - [More details](https://www.cathedralgivingbydesign.org)\\n\\n6. **Super Freak: The Rick James Story** (January 24-25, 2025)  \\n   - Musical at the Cobb Energy Performing Arts Centre.  \\n   - [More details](https://www.cobbenergycentre.com/events/detail/super-freak-the-rick-james-story-1)\\n\\n7. **North Atlanta Home Show** (January 24-26, 2025)  \\n   - Home improvements trade show at the Gas South Convention Center.  \\n   - [More details](https://www.northatlantahomeshow.com)\\n\\n8. **Jersey Boys** (January 24 - February 23, 2025)  \\n   - Musical at The Legacy Theater, Tyrone.  \\n   - [More details](https://legacytheater.com/show/doo-wop/)\\n\\n9. **Run With the Dogs** (January 25, 2025)  \\n   - Annual 5K and pet races in Decatur to benefit the Decatur Bulldogs Boosters.  \\n   - [More details](http://www.rwtd5k.com)\\n\\n10. **Spring Gardening Symposium \\u0026 Plant Sale** (January 25, 2025)  \\n    - Special event at the Atlanta Botanical Garden, with speakers and plant sale.  \\n    - [More details](https://atlantabg.org/calendar/spring-symposium-2025/)\\n\\n11. **Gals on the Go** (January 25, 2025)  \\n    - Podcast live show at Center Stage.  \\n    - [More details](https://www.centerstage-atlanta.com/events/gals-on-the-go/)\\n\\n12. **Maria Bamford** (January 25, 2025)  \\n    - Comedy show at the Buckhead Theatre.  \\n    - [More details](https://concerts.livenation.com/maria-bamford-atlanta-georgia-01-25-2025/event/0E00611B94352720)\\n\\n13. **Magician Rich Crawford** (January 25, 2025)  \\n    - Illusion show at Red Clay Music Foundry, Duluth.  \\n    - [More details](https://eddieowenpresents.freshtix.com/events/richcrawford)\\n\\n14. **Lunar New Year Festival** (January 25 - February 9, 2025)  \\n    - Asian-inspired festival at Stone Mountain Park, with drone and light show, lighted parade, cultural craft activities, live performances, and other cultural activities.  \\n    - [More details](https://stonemountainpark.com/activity/events/lunar-new-year/)\"\n",
       "```\n",
       "\n",
       "Here are some exciting events happening in Atlanta over the next four weekends:\n",
       "\n",
       "### January 4-5, 2025\n",
       "1. **Titanic: An Immersive Voyage**\n",
       "   - **Venue:** Exhibition Hub Art Center Atlanta\n",
       "   - **Tickets:** From $64, Avg. $77\n",
       "   - **[More Details](https://atlanta-ga.events/january/)**\n",
       "\n",
       "2. **Georgia Tech Yellow Jackets vs. Boston College Eagles**\n",
       "   - **Venue:** McCamish Pavilion\n",
       "   - **Tickets:** From $8, Avg. $49\n",
       "   - **[More Details](https://atlanta-ga.events/january/)**\n",
       "\n",
       "3. **SalgirahArts Festival: Expressions of Shukran**\n",
       "   - **Venue:** Gas South Theater\n",
       "   - **Tickets:** From $22, Avg. $43\n",
       "   - **[More Details](https://atlanta-ga.events/january/)**\n",
       "\n",
       "![Chick-fil-A Peach Bowl](https://atlanta-ga.events/wp-content/uploads/2023/05/Chick-fil-A-Peach-Bowl.jpg)\n",
       "\n",
       "### January 11-12, 2025\n",
       "1. **IllumiNights**\n",
       "   - **Location:** Zoo Atlanta\n",
       "   - **[More Details](https://zooatlanta.org/event/illuminights/)**\n",
       "\n",
       "2. **Skate the Station**\n",
       "   - **Location:** Atlantic Station\n",
       "   - **[More Details](https://atlanticstation.com/event/skate-the-station-2/)**\n",
       "\n",
       "3. **Garden Lights, Holiday Nights**\n",
       "   - **Location:** Atlanta Botanical Garden\n",
       "   - **[More Details](https://atlantabg.org/calendar/garden-lights-holiday-nights-presented-by-invesco-qqq-2/)**\n",
       "\n",
       "### January 18-19, 2025\n",
       "1. **Lil Wayne with GloRilla & Muni Long**\n",
       "   - **Venue:** State Farm Arena\n",
       "   - **Date:** January 18\n",
       "   - **[More Details](https://discoveratlanta.com/stories/things-to-do/cool-things-to-do-in-january-in-atlanta/)**\n",
       "\n",
       "2. **Camila Cabello with Myles Smith & Knox**\n",
       "   - **Venue:** State Farm Arena\n",
       "   - **Date:** January 19\n",
       "   - **[More Details](https://discoveratlanta.com/stories/things-to-do/cool-things-to-do-in-january-in-atlanta/)**\n",
       "\n",
       "3. **Playoff Fan Central**\n",
       "   - **Location:** Georgia World Congress Center\n",
       "   - **Dates:** January 18-20\n",
       "   - **[More Details](https://discoveratlanta.com/stories/things-to-do/cool-things-to-do-in-january-in-atlanta/)**\n",
       "\n",
       "### January 25-26, 2025\n",
       "1. **Love’s Labour’s Lost**\n",
       "   - **Venue:** Shakespeare Tavern Playhouse\n",
       "   - **[More Details](https://www.shakespearetavern.com/on-stage/company/loves-labours-lost/)**\n",
       "\n",
       "2. **Gimme Please!**\n",
       "   - **Venue:** Alliance Theatre\n",
       "   - **[More Details](https://www.alliancetheatre.org/production/2024-25/gimme-please)**\n",
       "\n",
       "3. **Atlanta Camping & RV Show**\n",
       "   - **Venue:** Atlanta Exposition Center South\n",
       "   - **[More Details](https://atlantarvshow.com)**\n",
       "\n",
       "Explore these events to experience the culture and excitement Atlanta has to offer!\n"
      ]
     },
     "metadata": {},
     "output_type": "display_data"
    }
   ],
   "source": [
    "assistantRunOptions = new AssistantRunOptions() {\n",
    "    AssistantName = \"WebSearchAgentAnt\",\n",
    "    Instructions = \"Use python to get todays date and then use it to find things to do in Atlanta for each of the next four weekends with pictures and correct links from ExtractContentFromUrl.\\n\\nWhen choosing links for crawl to evaluate with ExtractContentFromUrl choose a variety of hosts for urls from which you extract content. Limit your use of ExtractContentFromUrl to five calls or less. Do not make the error of including the url as a parameter, it must be inside 'instructions' as indicated by the tool definition. Be careful to not include events in the past in your final answer. You should perform four searches at once.\\nDon't forget to include valid links!\",\n",
    "};\n",
    "var output2 = await AntRunnerLib.AssistantRunner.RunThread(assistantRunOptions, config);\n",
    "output2.Dialog.DisplayAs(\"text/markdown\");"
   ]
  },
  {
   "cell_type": "markdown",
   "metadata": {},
   "source": [
    "## Clean Up"
   ]
  },
  {
   "cell_type": "code",
   "execution_count": 14,
   "metadata": {
    "dotnet_interactive": {
     "language": "csharp"
    },
    "polyglot_notebook": {
     "kernelName": "csharp"
    },
    "vscode": {
     "languageId": "polyglot-notebook"
    }
   },
   "outputs": [
    {
     "name": "stdout",
     "output_type": "stream",
     "text": [
      "Deleted assistant\n",
      "Deleted assistant\n"
     ]
    }
   ],
   "source": [
    "var assistant = (await client.AssistantList())?.Data?.FirstOrDefault(o => o.Name == \"WebSearchAgentAnt\");\n",
    "if(assistant != null) {\n",
    "    await client.AssistantDelete(assistant.Id);\n",
    "    Console.WriteLine(\"Deleted assistant\");\n",
    "}\n",
    "else\n",
    "{\n",
    "    Console.WriteLine(\"Didn't find WebSearchAgentAnt\");\n",
    "}\n",
    "\n",
    "assistant = (await client.AssistantList())?.Data?.FirstOrDefault(o => o.Name == \"WebPageAgentAnt\");\n",
    "if(assistant != null) {\n",
    "    await client.AssistantDelete(assistant.Id);\n",
    "    Console.WriteLine(\"Deleted assistant\");\n",
    "}\n",
    "else\n",
    "{\n",
    "    Console.WriteLine(\"Didn't find WebPageAgentAnt\");\n",
    "}"
   ]
  }
 ],
 "metadata": {
  "kernelspec": {
   "display_name": ".NET (C#)",
   "language": "C#",
   "name": ".net-csharp"
  },
  "language_info": {
   "name": "python"
  },
  "polyglot_notebook": {
   "kernelInfo": {
    "defaultKernelName": "csharp",
    "items": [
     {
      "aliases": [],
      "name": "csharp"
     }
    ]
   }
  }
 },
 "nbformat": 4,
 "nbformat_minor": 2
}
