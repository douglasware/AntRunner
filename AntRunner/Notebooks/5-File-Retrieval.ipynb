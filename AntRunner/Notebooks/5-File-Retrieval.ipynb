{
 "cells": [
  {
   "cell_type": "markdown",
   "metadata": {},
   "source": [
    "## File search assistant\n",
    "The McKessonMDTranscripts demonstrates the creation and execution of an assistant using the file_search feature with a knowledge base based on earnings call transcripts downloaded from the internet.\n",
    "\n",
    "## First steps\n",
    "- First, download AntRunLib from Nuget\n",
    "- At least once, set up the environment using **[0-AI-settings](0-AI-settings.ipynb)**"
   ]
  },
  {
   "cell_type": "code",
   "execution_count": 1,
   "metadata": {
    "dotnet_interactive": {
     "language": "csharp"
    },
    "polyglot_notebook": {
     "kernelName": "csharp"
    },
    "vscode": {
     "languageId": "polyglot-notebook"
    }
   },
   "outputs": [
    {
     "data": {
      "text/html": [
       "<div><div></div><div></div><div><strong>Installed Packages</strong><ul><li><span>AntRunnerLib, 0.9.3</span></li></ul></div></div>"
      ]
     },
     "metadata": {},
     "output_type": "display_data"
    }
   ],
   "source": [
    "#r \"nuget: AntRunnerLib, 0.9.3\"\n",
    "\n",
    "using AntRunnerLib;\n",
    "using AntRunnerLib.Identity;\n",
    "using static AntRunnerLib.ClientUtility;\n",
    "using System.IO;\n",
    "\n",
    "#!import config/Settings.cs \n",
    "\n",
    "var envVariables = Settings.GetEnvironmentVariables();\n",
    "foreach (var kvp in envVariables)\n",
    "{\n",
    "    Environment.SetEnvironmentVariable(kvp.Key, kvp.Value);\n",
    "}\n",
    "\n",
    "var config = AzureOpenAiConfigFactory.Get();\n",
    "var client = GetOpenAiClient(config);\n"
   ]
  },
  {
   "cell_type": "markdown",
   "metadata": {},
   "source": [
    "## Ensure the McKessonMDTranscripts assistant exists\n",
    "The definition of this assistant is located in the \".\\AssistantDefinitions\\McKessonMDTranscripts\" folder\n",
    "\n",
    "\".\\AssistantDefinitions\\\" is a default path. You can override it by setting the **ASSISTANTS_BASE_FOLDER_PATH** environment variable.\n",
    "\n",
    "\"McKessonMDTranscripts\" contains the following files:\n",
    "```\n",
    "│   manifest.json\n",
    "│   prompt.md\n",
    "│\n",
    "└───VectorStores\n",
    "    └───McKessonMDTranscripts\n",
    "            211101-MCK-Q2FY22-Earnings-Call-Transcript.md\n",
    "            220202-MCK-Q3FY22-Earnings-Call-Transcript.md\n",
    "            220505-MCK-Q4FY22-Earnings-Call-Transcript.md\n",
    "            220803-MCK-Q1FY23-Earnings-Call-Transcript.md\n",
    "            230508-MCK-Q4FY23-Earnings-Call-Transcript.md\n",
    "            230802-MCK-Q1FY24-Earnings-Call-Transcript.md\n",
    "            231101-MCK-Q2FY24-Earnings-Call-Transcript.md\n",
    "            MCK-Q1FY21-Transcript.md\n",
    "            MCK-Q1FY22-Transcript.md\n",
    "            MCK-Q2-FY23-Earnings-Transcript.md\n",
    "            MCK-Q2FY21-Transcript.md\n",
    "            MCK-Q3-FY24-Earnings-Transcript.md\n",
    "            MCK-Q4-FY24-Earnings-Call-Transcript.md\n",
    "            MCK-Q4FY21-Transcript.md\n",
    "            MCK-US-20230201-2761065-C.md\n",
    "            Q1-FY19-Earnings-Call-Transcript.md\n",
    "            Q1-FY20-Earnings-Call-Transcript.md\n",
    "            Q2-FY19-Earnings-Call-Transcript.md\n",
    "            Q2-FY20-Earnings-Call-Transcript.md\n",
    "            Q3-FY19-Earnings-Call-Transcript.md\n",
    "            Q3FY20-MCK-Earnings-Call-Transcript.md\n",
    "            Q3FY21-MCK-Earnings-Call-Transcript_FINAL.md\n",
    "            Q4-FY19-Earnings-Call-Transcript.md\n",
    "            Q4FY20-MCK-Corrected-Transcript.md\n",
    "```\n",
    "\n",
    "### Explanation\n",
    "`AssistantUtility.Create` will create the vector store if necessary, upload the files, and then update the manifest with the vector store ID before creating the assistant."
   ]
  },
  {
   "cell_type": "code",
   "execution_count": 2,
   "metadata": {
    "dotnet_interactive": {
     "language": "csharp"
    },
    "polyglot_notebook": {
     "kernelName": "csharp"
    },
    "vscode": {
     "languageId": "polyglot-notebook"
    }
   },
   "outputs": [
    {
     "name": "stdout",
     "output_type": "stream",
     "text": [
      "asst_30ONhIUpTMakrp5uIPovYqWX\r\n"
     ]
    }
   ],
   "source": [
    "var assistantId = await AssistantUtility.Create(\"McKessonMDTranscripts\", config);\n",
    "Console.WriteLine(assistantId)"
   ]
  },
  {
   "cell_type": "markdown",
   "metadata": {},
   "source": [
    "## Run the Assistant\n",
    "\n",
    "`output.Dialog` shows the conversation."
   ]
  },
  {
   "cell_type": "code",
   "execution_count": 3,
   "metadata": {
    "dotnet_interactive": {
     "language": "csharp"
    },
    "polyglot_notebook": {
     "kernelName": "csharp"
    },
    "vscode": {
     "languageId": "polyglot-notebook"
    }
   },
   "outputs": [
    {
     "data": {
      "text/markdown": [
       "\n",
       "User: How did covid impact results over time?\n",
       "\n",
       "Assistant: I searched my knowledge base for the answer.\n",
       "\n",
       "The impact of COVID-19 on McKesson's results over time has varied significantly. Here's an overview of the key impacts observed across different fiscal years and quarters:\n",
       "\n",
       "1. **Initial Impact and Incremental Revenue (FY2020)**\n",
       "   - In FY2020, McKesson experienced a surge in demand as customers stocked up on pharmaceuticals and personal protective equipment (PPE). This led to approximately $2 billion in incremental revenue in the fourth quarter of FY2020【4:0†source】【4:1†source】【4:3†source】.\n",
       "   - The pandemic caused increased expenses, including investments in frontline employees and remote work infrastructure, adding approximately $45 million in one-time adjusted operating expenses in Q4 FY2020【4:13†source】.\n",
       "\n",
       "2. **Adapting to Pandemic Challenges (FY2021)**\n",
       "   - The first quarter of FY2021 was severely impacted by global lockdowns, resulting in lower prescription volumes and primary care patient visits. However, as restrictions eased, demand began to recover sooner than expected, particularly in the Medical-Surgical and Specialty businesses【4:17†source】.\n",
       "   - The distribution of COVID-19 vaccines and ancillary supply kits provided significant benefits, contributing to increased adjusted earnings per diluted share by 18% in Q4 FY2021【4:10†source】【4:4†source】.\n",
       "\n",
       "3. **Continued Variability and Vaccine Distribution (FY2022)**\n",
       "   - FY2022 saw fluctuations in demand for COVID-19-related products and services, with peaks during spikes in cases such as the Omicron variant surge in January【4:5†source】.\n",
       "   - COVID-19 vaccine distribution and testing continued to contribute to earnings, though these contributions were expected to be materially lower in FY2023【4:5†source】【4:12†source】.\n",
       "\n",
       "4. **Declining COVID-19 Contributions (FY2023)**\n",
       "   - By FY2023, the impact of COVID-19 on McKesson's results had diminished compared to prior years. The contribution from COVID-19 vaccine distribution and related services decreased, leading to a decline in operating profit in segments like Medical-Surgical Solutions【4:6†source】.\n",
       "   - Despite lower COVID-19-related contributions, the U.S. Pharmaceutical segment still delivered operating profit growth when excluding the impact of vaccine distribution【4:6†source】.\n",
       "\n",
       "Overall, McKesson's financial performance has been significantly influenced by the varying demand for COVID-19-related products and services, with initial boosts in revenue and subsequent fluctuations as the pandemic evolved. The company's ability to adapt and leverage its distribution capabilities played a crucial role in navigating these challenges.\n"
      ]
     },
     "metadata": {},
     "output_type": "display_data"
    }
   ],
   "source": [
    "var assistantRunOptions = new AssistantRunOptions() {\n",
    "    AssistantName = \"McKessonMDTranscripts\",\n",
    "    Instructions = \"How did covid impact results over time?\"\n",
    "};\n",
    "var output = await AntRunnerLib.AssistantRunner.RunThread(assistantRunOptions, config);\n",
    "output.Dialog.DisplayAs(\"text/markdown\");"
   ]
  },
  {
   "cell_type": "code",
   "execution_count": 4,
   "metadata": {
    "dotnet_interactive": {
     "language": "csharp"
    },
    "polyglot_notebook": {
     "kernelName": "csharp"
    },
    "vscode": {
     "languageId": "polyglot-notebook"
    }
   },
   "outputs": [
    {
     "data": {
      "text/markdown": [
       "The impact of COVID-19 on McKesson's results over time has varied significantly. Here's an overview of the key impacts observed across different fiscal years and quarters:\n",
       "\n",
       "1. **Initial Impact and Incremental Revenue (FY2020)**\n",
       "   - In FY2020, McKesson experienced a surge in demand as customers stocked up on pharmaceuticals and personal protective equipment (PPE). This led to approximately $2 billion in incremental revenue in the fourth quarter of FY2020【4:0†source】【4:1†source】【4:3†source】.\n",
       "   - The pandemic caused increased expenses, including investments in frontline employees and remote work infrastructure, adding approximately $45 million in one-time adjusted operating expenses in Q4 FY2020【4:13†source】.\n",
       "\n",
       "2. **Adapting to Pandemic Challenges (FY2021)**\n",
       "   - The first quarter of FY2021 was severely impacted by global lockdowns, resulting in lower prescription volumes and primary care patient visits. However, as restrictions eased, demand began to recover sooner than expected, particularly in the Medical-Surgical and Specialty businesses【4:17†source】.\n",
       "   - The distribution of COVID-19 vaccines and ancillary supply kits provided significant benefits, contributing to increased adjusted earnings per diluted share by 18% in Q4 FY2021【4:10†source】【4:4†source】.\n",
       "\n",
       "3. **Continued Variability and Vaccine Distribution (FY2022)**\n",
       "   - FY2022 saw fluctuations in demand for COVID-19-related products and services, with peaks during spikes in cases such as the Omicron variant surge in January【4:5†source】.\n",
       "   - COVID-19 vaccine distribution and testing continued to contribute to earnings, though these contributions were expected to be materially lower in FY2023【4:5†source】【4:12†source】.\n",
       "\n",
       "4. **Declining COVID-19 Contributions (FY2023)**\n",
       "   - By FY2023, the impact of COVID-19 on McKesson's results had diminished compared to prior years. The contribution from COVID-19 vaccine distribution and related services decreased, leading to a decline in operating profit in segments like Medical-Surgical Solutions【4:6†source】.\n",
       "   - Despite lower COVID-19-related contributions, the U.S. Pharmaceutical segment still delivered operating profit growth when excluding the impact of vaccine distribution【4:6†source】.\n",
       "\n",
       "Overall, McKesson's financial performance has been significantly influenced by the varying demand for COVID-19-related products and services, with initial boosts in revenue and subsequent fluctuations as the pandemic evolved. The company's ability to adapt and leverage its distribution capabilities played a crucial role in navigating these challenges."
      ]
     },
     "metadata": {},
     "output_type": "display_data"
    }
   ],
   "source": [
    "output.LastMessage.DisplayAs(\"text/markdown\");"
   ]
  },
  {
   "cell_type": "markdown",
   "metadata": {},
   "source": [
    "## Annotations"
   ]
  },
  {
   "cell_type": "code",
   "execution_count": 5,
   "metadata": {
    "dotnet_interactive": {
     "language": "csharp"
    },
    "polyglot_notebook": {
     "kernelName": "csharp"
    },
    "vscode": {
     "languageId": "polyglot-notebook"
    }
   },
   "outputs": [
    {
     "name": "stdout",
     "output_type": "stream",
     "text": [
      "[\r\n",
      "  {\r\n",
      "    \"type\": \"file_citation\",\r\n",
      "    \"text\": \"\\u30104:0\\u2020source\\u3011\",\r\n",
      "    \"start_index\": 458,\r\n",
      "    \"end_index\": 470,\r\n",
      "    \"file_citation\": {\r\n",
      "      \"file_id\": \"assistant-fslYRzYxsqiFwPGd7Fns83se\",\r\n",
      "      \"file_name\": \"\",\r\n",
      "      \"quote\": null\r\n",
      "    }\r\n",
      "  },\r\n",
      "  {\r\n",
      "    \"type\": \"file_citation\",\r\n",
      "    \"text\": \"\\u30104:1\\u2020source\\u3011\",\r\n",
      "    \"start_index\": 470,\r\n",
      "    \"end_index\": 482,\r\n",
      "    \"file_citation\": {\r\n",
      "      \"file_id\": \"assistant-v1vgOsajg7zOoaHPJaHKvA3i\",\r\n",
      "      \"file_name\": \"\",\r\n",
      "      \"quote\": null\r\n",
      "    }\r\n",
      "  },\r\n",
      "  {\r\n",
      "    \"type\": \"file_citation\",\r\n",
      "    \"text\": \"\\u30104:3\\u2020source\\u3011\",\r\n",
      "    \"start_index\": 482,\r\n",
      "    \"end_index\": 494,\r\n",
      "    \"file_citation\": {\r\n",
      "      \"file_id\": \"assistant-v1vgOsajg7zOoaHPJaHKvA3i\",\r\n",
      "      \"file_name\": \"\",\r\n",
      "      \"quote\": null\r\n",
      "    }\r\n",
      "  },\r\n",
      "  {\r\n",
      "    \"type\": \"file_citation\",\r\n",
      "    \"text\": \"\\u30104:13\\u2020source\\u3011\",\r\n",
      "    \"start_index\": 703,\r\n",
      "    \"end_index\": 716,\r\n",
      "    \"file_citation\": {\r\n",
      "      \"file_id\": \"assistant-v1vgOsajg7zOoaHPJaHKvA3i\",\r\n",
      "      \"file_name\": \"\",\r\n",
      "      \"quote\": null\r\n",
      "    }\r\n",
      "  },\r\n",
      "  {\r\n",
      "    \"type\": \"file_citation\",\r\n",
      "    \"text\": \"\\u30104:17\\u2020source\\u3011\",\r\n",
      "    \"start_index\": 1055,\r\n",
      "    \"end_index\": 1068,\r\n",
      "    \"file_citation\": {\r\n",
      "      \"file_id\": \"assistant-QaQenndgqbFTt9oZunYGcfv3\",\r\n",
      "      \"file_name\": \"\",\r\n",
      "      \"quote\": null\r\n",
      "    }\r\n",
      "  },\r\n",
      "  {\r\n",
      "    \"type\": \"file_citation\",\r\n",
      "    \"text\": \"\\u30104:10\\u2020source\\u3011\",\r\n",
      "    \"start_index\": 1251,\r\n",
      "    \"end_index\": 1264,\r\n",
      "    \"file_citation\": {\r\n",
      "      \"file_id\": \"assistant-mLYhwg7I9ywfWQPh1xEf1IXY\",\r\n",
      "      \"file_name\": \"\",\r\n",
      "      \"quote\": null\r\n",
      "    }\r\n",
      "  },\r\n",
      "  {\r\n",
      "    \"type\": \"file_citation\",\r\n",
      "    \"text\": \"\\u30104:4\\u2020source\\u3011\",\r\n",
      "    \"start_index\": 1264,\r\n",
      "    \"end_index\": 1276,\r\n",
      "    \"file_citation\": {\r\n",
      "      \"file_id\": \"assistant-mLYhwg7I9ywfWQPh1xEf1IXY\",\r\n",
      "      \"file_name\": \"\",\r\n",
      "      \"quote\": null\r\n",
      "    }\r\n",
      "  },\r\n",
      "  {\r\n",
      "    \"type\": \"file_citation\",\r\n",
      "    \"text\": \"\\u30104:5\\u2020source\\u3011\",\r\n",
      "    \"start_index\": 1503,\r\n",
      "    \"end_index\": 1515,\r\n",
      "    \"file_citation\": {\r\n",
      "      \"file_id\": \"assistant-KVLQgIZo6R8UzDv01PXDkrR6\",\r\n",
      "      \"file_name\": \"\",\r\n",
      "      \"quote\": null\r\n",
      "    }\r\n",
      "  },\r\n",
      "  {\r\n",
      "    \"type\": \"file_citation\",\r\n",
      "    \"text\": \"\\u30104:5\\u2020source\\u3011\",\r\n",
      "    \"start_index\": 1674,\r\n",
      "    \"end_index\": 1686,\r\n",
      "    \"file_citation\": {\r\n",
      "      \"file_id\": \"assistant-KVLQgIZo6R8UzDv01PXDkrR6\",\r\n",
      "      \"file_name\": \"\",\r\n",
      "      \"quote\": null\r\n",
      "    }\r\n",
      "  },\r\n",
      "  {\r\n",
      "    \"type\": \"file_citation\",\r\n",
      "    \"text\": \"\\u30104:12\\u2020source\\u3011\",\r\n",
      "    \"start_index\": 1686,\r\n",
      "    \"end_index\": 1699,\r\n",
      "    \"file_citation\": {\r\n",
      "      \"file_id\": \"assistant-93mnSr4UmBc6zfhnwJLoncV0\",\r\n",
      "      \"file_name\": \"\",\r\n",
      "      \"quote\": null\r\n",
      "    }\r\n",
      "  },\r\n",
      "  {\r\n",
      "    \"type\": \"file_citation\",\r\n",
      "    \"text\": \"\\u30104:6\\u2020source\\u3011\",\r\n",
      "    \"start_index\": 2020,\r\n",
      "    \"end_index\": 2032,\r\n",
      "    \"file_citation\": {\r\n",
      "      \"file_id\": \"assistant-fslYRzYxsqiFwPGd7Fns83se\",\r\n",
      "      \"file_name\": \"\",\r\n",
      "      \"quote\": null\r\n",
      "    }\r\n",
      "  },\r\n",
      "  {\r\n",
      "    \"type\": \"file_citation\",\r\n",
      "    \"text\": \"\\u30104:6\\u2020source\\u3011\",\r\n",
      "    \"start_index\": 2206,\r\n",
      "    \"end_index\": 2218,\r\n",
      "    \"file_citation\": {\r\n",
      "      \"file_id\": \"assistant-fslYRzYxsqiFwPGd7Fns83se\",\r\n",
      "      \"file_name\": \"\",\r\n",
      "      \"quote\": null\r\n",
      "    }\r\n",
      "  }\r\n",
      "]\r\n"
     ]
    }
   ],
   "source": [
    "Console.WriteLine(JsonSerializer.Serialize(output.Annotations, new JsonSerializerOptions() { WriteIndented = true }));"
   ]
  },
  {
   "cell_type": "markdown",
   "metadata": {},
   "source": [
    "### Formatting Output\n",
    "The current version of the API leaves some things to be desired. First, because of chunking it can cite the same source twice. Second, 'quote' is supposed to contain a snippet, but currently, it is always null"
   ]
  },
  {
   "cell_type": "code",
   "execution_count": 6,
   "metadata": {
    "dotnet_interactive": {
     "language": "csharp"
    },
    "polyglot_notebook": {
     "kernelName": "csharp"
    },
    "vscode": {
     "languageId": "polyglot-notebook"
    }
   },
   "outputs": [
    {
     "name": "stdout",
     "output_type": "stream",
     "text": [
      "assistant-fslYRzYxsqiFwPGd7Fns83se = McKessonMDTranscripts_230508-MCK-Q4FY23-Earnings-Call-Transcript.md\n",
      "assistant-v1vgOsajg7zOoaHPJaHKvA3i = McKessonMDTranscripts_Q4FY20-MCK-Corrected-Transcript.md\n",
      "assistant-QaQenndgqbFTt9oZunYGcfv3 = McKessonMDTranscripts_MCK-Q1FY21-Transcript.md\n",
      "assistant-mLYhwg7I9ywfWQPh1xEf1IXY = McKessonMDTranscripts_MCK-Q4FY21-Transcript.md\n",
      "assistant-KVLQgIZo6R8UzDv01PXDkrR6 = McKessonMDTranscripts_220505-MCK-Q4FY22-Earnings-Call-Transcript.md\n",
      "assistant-93mnSr4UmBc6zfhnwJLoncV0 = McKessonMDTranscripts_220803-MCK-Q1FY23-Earnings-Call-Transcript.md\n",
      "-------------------\n"
     ]
    },
    {
     "data": {
      "text/markdown": [
       "The impact of COVID-19 on McKesson's results over time has varied significantly. Here's an overview of the key impacts observed across different fiscal years and quarters:\n",
       "\n",
       "1. **Initial Impact and Incremental Revenue (FY2020)**\n",
       "   - In FY2020, McKesson experienced a surge in demand as customers stocked up on pharmaceuticals and personal protective equipment (PPE). This led to approximately $2 billion in incremental revenue in the fourth quarter of FY2020 [McKessonMDTranscripts_230508-MCK-Q4FY23-Earnings-Call-Transcript.md](McKessonMDTranscripts_230508-MCK-Q4FY23-Earnings-Call-Transcript.md) [McKessonMDTranscripts_Q4FY20-MCK-Corrected-Transcript.md](McKessonMDTranscripts_Q4FY20-MCK-Corrected-Transcript.md) [McKessonMDTranscripts_Q4FY20-MCK-Corrected-Transcript.md](McKessonMDTranscripts_Q4FY20-MCK-Corrected-Transcript.md).\n",
       "   - The pandemic caused increased expenses, including investments in frontline employees and remote work infrastructure, adding approximately $45 million in one-time adjusted operating expenses in Q4 FY2020 [McKessonMDTranscripts_Q4FY20-MCK-Corrected-Transcript.md](McKessonMDTranscripts_Q4FY20-MCK-Corrected-Transcript.md).\n",
       "\n",
       "2. **Adapting to Pandemic Challenges (FY2021)**\n",
       "   - The first quarter of FY2021 was severely impacted by global lockdowns, resulting in lower prescription volumes and primary care patient visits. However, as restrictions eased, demand began to recover sooner than expected, particularly in the Medical-Surgical and Specialty businesses [McKessonMDTranscripts_MCK-Q1FY21-Transcript.md](McKessonMDTranscripts_MCK-Q1FY21-Transcript.md).\n",
       "   - The distribution of COVID-19 vaccines and ancillary supply kits provided significant benefits, contributing to increased adjusted earnings per diluted share by 18% in Q4 FY2021 [McKessonMDTranscripts_MCK-Q4FY21-Transcript.md](McKessonMDTranscripts_MCK-Q4FY21-Transcript.md) [McKessonMDTranscripts_MCK-Q4FY21-Transcript.md](McKessonMDTranscripts_MCK-Q4FY21-Transcript.md).\n",
       "\n",
       "3. **Continued Variability and Vaccine Distribution (FY2022)**\n",
       "   - FY2022 saw fluctuations in demand for COVID-19-related products and services, with peaks during spikes in cases such as the Omicron variant surge in January [McKessonMDTranscripts_220505-MCK-Q4FY22-Earnings-Call-Transcript.md](McKessonMDTranscripts_220505-MCK-Q4FY22-Earnings-Call-Transcript.md).\n",
       "   - COVID-19 vaccine distribution and testing continued to contribute to earnings, though these contributions were expected to be materially lower in FY2023 [McKessonMDTranscripts_220505-MCK-Q4FY22-Earnings-Call-Transcript.md](McKessonMDTranscripts_220505-MCK-Q4FY22-Earnings-Call-Transcript.md) [McKessonMDTranscripts_220803-MCK-Q1FY23-Earnings-Call-Transcript.md](McKessonMDTranscripts_220803-MCK-Q1FY23-Earnings-Call-Transcript.md).\n",
       "\n",
       "4. **Declining COVID-19 Contributions (FY2023)**\n",
       "   - By FY2023, the impact of COVID-19 on McKesson's results had diminished compared to prior years. The contribution from COVID-19 vaccine distribution and related services decreased, leading to a decline in operating profit in segments like Medical-Surgical Solutions [McKessonMDTranscripts_230508-MCK-Q4FY23-Earnings-Call-Transcript.md](McKessonMDTranscripts_230508-MCK-Q4FY23-Earnings-Call-Transcript.md).\n",
       "   - Despite lower COVID-19-related contributions, the U.S. Pharmaceutical segment still delivered operating profit growth when excluding the impact of vaccine distribution [McKessonMDTranscripts_230508-MCK-Q4FY23-Earnings-Call-Transcript.md](McKessonMDTranscripts_230508-MCK-Q4FY23-Earnings-Call-Transcript.md).\n",
       "\n",
       "Overall, McKesson's financial performance has been significantly influenced by the varying demand for COVID-19-related products and services, with initial boosts in revenue and subsequent fluctuations as the pandemic evolved. The company's ability to adapt and leverage its distribution capabilities played a crucial role in navigating these challenges."
      ]
     },
     "metadata": {},
     "output_type": "display_data"
    }
   ],
   "source": [
    "var files = new Dictionary<string, string>();\n",
    "var annotatedMessage = output.LastMessage;\n",
    "foreach(var annotation in output.Annotations)\n",
    "{\n",
    "    // Only get the file name once per id\n",
    "    if(!files.ContainsKey(annotation.FileCitation.FileId))\n",
    "    {\n",
    "        files[annotation.FileCitation.FileId] = await annotation.GetFileName(config);\n",
    "    }\n",
    "    // But the annotation itself may be a duplicate citation to the same file, so one must process them all\n",
    "    // You can format the replacement however you like. In this case it just makes an md link\n",
    "    annotatedMessage = annotatedMessage.Replace(annotation.Text, $\" [{files[annotation.FileCitation.FileId]}]({files[annotation.FileCitation.FileId]})\");\n",
    "}\n",
    "\n",
    "foreach(var file in files)\n",
    "{\n",
    "    Console.WriteLine($\"{file.Key} = {file.Value}\");\n",
    "}\n",
    "Console.WriteLine(\"-------------------\");\n",
    "annotatedMessage.DisplayAs(\"text/markdown\");"
   ]
  },
  {
   "cell_type": "markdown",
   "metadata": {},
   "source": [
    "## Clean Up"
   ]
  },
  {
   "cell_type": "code",
   "execution_count": 7,
   "metadata": {
    "dotnet_interactive": {
     "language": "csharp"
    },
    "polyglot_notebook": {
     "kernelName": "csharp"
    },
    "vscode": {
     "languageId": "polyglot-notebook"
    }
   },
   "outputs": [
    {
     "name": "stdout",
     "output_type": "stream",
     "text": [
      "Deleted assistant\r\n"
     ]
    }
   ],
   "source": [
    "var assistant = (await client.AssistantList())?.Data?.FirstOrDefault(o => o.Name == \"McKessonMDTranscripts\");\n",
    "if(assistant != null) {\n",
    "    await client.AssistantDelete(assistant.Id);\n",
    "    Console.WriteLine(\"Deleted assistant\");\n",
    "}\n",
    "else\n",
    "{\n",
    "    Console.WriteLine(\"Didn't find MsGraphUserProfile\");\n",
    "}"
   ]
  }
 ],
 "metadata": {
  "kernelspec": {
   "display_name": ".NET (C#)",
   "language": "C#",
   "name": ".net-csharp"
  },
  "language_info": {
   "name": "python"
  },
  "polyglot_notebook": {
   "kernelInfo": {
    "defaultKernelName": "csharp",
    "items": [
     {
      "aliases": [],
      "name": "csharp"
     }
    ]
   }
  }
 },
 "nbformat": 4,
 "nbformat_minor": 2
}
